{
  "cells": [
    {
      "cell_type": "markdown",
      "metadata": {},
      "source": [
        "# Finetune Wav2Vec2 XLS-R for Luganda ASR using Mozilla CommonVoice Dataset"
      ]
    },
    {
      "cell_type": "markdown",
      "metadata": {
        "id": "aJfLFAFF1C-P"
      },
      "source": [
        "Log into HuggingFace Hub in order to access the models and to upload checkpoints directly to HuggingFace.   "
      ]
    },
    {
      "cell_type": "code",
      "execution_count": null,
      "metadata": {
        "colab": {
          "base_uri": "https://localhost:8080/",
          "height": 145,
          "referenced_widgets": [
            "d25a3b52d6b54e35acf37f53277836f7",
            "6dd23d103a7a47d7aeef5b77e7f369b5",
            "694cba619bc84faea74b5f5b5bab503d",
            "fa459cdace064b98a30040096aba55f2",
            "5194f5d48ba64fb1afa74ec3f2347e47",
            "03fe1d50cdd249a8be33f7c06fe5232b",
            "ec9b7b00dded4033a01a61a2569b6ca7",
            "f5f62e485e0c451db7b5cf08ea6ded93",
            "3f2f37c77c83424c8d4caa1d308ab802",
            "98afe334b9b0406abb91c5ce4e800b21",
            "4605e20241cd48d9bd3049842932c41f",
            "6fbedfe34920466b90144c7bb6047ec3",
            "98c4f6341e2c4d25a50eaf9972ea8292",
            "3d08abd8b0204dc88970710f7de8c0f5",
            "15914989460147a2b3b3168456e89ef0",
            "8e65090d70f44c64a485155ba757d032",
            "a5d87875ba66476b81d9a0eef91f063b",
            "5a1c42bf9ee9495d92a2f2326689b372",
            "17e35153b77f457894e97a8b6c7bfc32",
            "0c9381003a264c39a39ba73210d1f138",
            "cf00bd77cb9c443ba7d04ffac3116c44",
            "fcd990c21ba842dca67af1c2b16dd45f",
            "358bb5ef8c4947fba7c384bc4da65b8f",
            "a8d2bfeedfbc4d0d9cd5e538f8b589f5",
            "76408e70e7cd4b42828c1c31048ab1e6",
            "74a33a72c12f4f06ac6fae44e0093839",
            "628d1299961345e7a9ba48b3b13d0792",
            "8f3ee68f216340b88500de004d7abd62",
            "6f4d3539807e465eabe26e2002a048e4",
            "ae33cf0f50f2494396e72ee82babaaff",
            "a4523f4a31bc47a3a8a1d8b0eb620748",
            "ea0d5b44872841c1886cc830689599e8"
          ]
        },
        "id": "RTyd9Jgc1C-P",
        "outputId": "37c5ff04-5821-4c02-a5c4-626812e83618"
      },
      "outputs": [
        {
          "data": {
            "application/vnd.jupyter.widget-view+json": {
              "model_id": "d25a3b52d6b54e35acf37f53277836f7",
              "version_major": 2,
              "version_minor": 0
            },
            "text/plain": [
              "VBox(children=(HTML(value='<center> <img\\nsrc=https://huggingface.co/front/assets/huggingface_logo-noborder.sv…"
            ]
          },
          "metadata": {},
          "output_type": "display_data"
        }
      ],
      "source": [
        "from huggingface_hub import notebook_login\n",
        "\n",
        "notebook_login()"
      ]
    },
    {
      "cell_type": "markdown",
      "metadata": {
        "id": "GAfJ5gVC1C-Q"
      },
      "source": [
        "Install the GIT LFS in order to upload the model checkpoints to HuggingFace"
      ]
    },
    {
      "cell_type": "code",
      "execution_count": null,
      "metadata": {
        "colab": {
          "base_uri": "https://localhost:8080/"
        },
        "id": "JjXEqk3R1C-Q",
        "outputId": "e0dd6cfd-4c48-4dee-ac2b-d80a3466c667"
      },
      "outputs": [
        {
          "name": "stdout",
          "output_type": "stream",
          "text": [
            "Reading package lists... Done\n",
            "Building dependency tree... Done\n",
            "Reading state information... Done\n",
            "git-lfs is already the newest version (3.0.2-1ubuntu0.2).\n",
            "0 upgraded, 0 newly installed, 0 to remove and 35 not upgraded.\n"
          ]
        }
      ],
      "source": [
        "!apt install git-lfs"
      ]
    },
    {
      "cell_type": "markdown",
      "metadata": {
        "id": "drstlm6B1C-R"
      },
      "source": [
        "# Prepare Data, Tokenizer, Feature Extractor"
      ]
    },
    {
      "cell_type": "markdown",
      "metadata": {
        "id": "5bqAaU1Q1C-R"
      },
      "source": [
        "### Create Wav2Vec2CTCTokenizer"
      ]
    },
    {
      "cell_type": "markdown",
      "metadata": {},
      "source": [
        "Before being able to download the dataset, you will have to access it on HuggingFace and accept the agree to the terms of the dataset."
      ]
    },
    {
      "cell_type": "code",
      "execution_count": null,
      "metadata": {
        "colab": {
          "base_uri": "https://localhost:8080/"
        },
        "id": "r4TSPNVv1C-R",
        "outputId": "311bb249-5f88-432b-f2df-c8b076dd835f"
      },
      "outputs": [
        {
          "name": "stderr",
          "output_type": "stream",
          "text": [
            "/usr/local/lib/python3.10/dist-packages/huggingface_hub/utils/_token.py:88: UserWarning: \n",
            "The secret `HF_TOKEN` does not exist in your Colab secrets.\n",
            "To authenticate with the Hugging Face Hub, create a token in your settings tab (https://huggingface.co/settings/tokens), set it as secret in your Google Colab and restart your session.\n",
            "You will be able to reuse this secret in all of your notebooks.\n",
            "Please note that authentication is recommended but still optional to access public models or datasets.\n",
            "  warnings.warn(\n",
            "/usr/local/lib/python3.10/dist-packages/datasets/load.py:1454: FutureWarning: The repository for mozilla-foundation/common_voice_7_0 contains custom code which must be executed to correctly load the dataset. You can inspect the repository content at https://hf.co/datasets/mozilla-foundation/common_voice_7_0\n",
            "You can avoid this message in future by passing the argument `trust_remote_code=True`.\n",
            "Passing `trust_remote_code=True` will be mandatory to load this dataset from the next major release of `datasets`.\n",
            "  warnings.warn(\n"
          ]
        },
        {
          "name": "stdout",
          "output_type": "stream",
          "text": [
            "DatasetDict({\n",
            "    train: Dataset({\n",
            "        features: ['client_id', 'path', 'audio', 'sentence', 'up_votes', 'down_votes', 'age', 'gender', 'accent', 'locale', 'segment'],\n",
            "        num_rows: 6626\n",
            "    })\n",
            "    test: Dataset({\n",
            "        features: ['client_id', 'path', 'audio', 'sentence', 'up_votes', 'down_votes', 'age', 'gender', 'accent', 'locale', 'segment'],\n",
            "        num_rows: 4276\n",
            "    })\n",
            "    validation: Dataset({\n",
            "        features: ['client_id', 'path', 'audio', 'sentence', 'up_votes', 'down_votes', 'age', 'gender', 'accent', 'locale', 'segment'],\n",
            "        num_rows: 3549\n",
            "    })\n",
            "    other: Dataset({\n",
            "        features: ['client_id', 'path', 'audio', 'sentence', 'up_votes', 'down_votes', 'age', 'gender', 'accent', 'locale', 'segment'],\n",
            "        num_rows: 29407\n",
            "    })\n",
            "    invalidated: Dataset({\n",
            "        features: ['client_id', 'path', 'audio', 'sentence', 'up_votes', 'down_votes', 'age', 'gender', 'accent', 'locale', 'segment'],\n",
            "        num_rows: 2195\n",
            "    })\n",
            "})\n"
          ]
        }
      ],
      "source": [
        "# Load the dataset\n",
        "from datasets import load_dataset, load_metric, Audio\n",
        "\n",
        "# Load the training, validation and test datasets separately\n",
        "# We can load a portion of the dataset instead of the whole dataset\n",
        "luganda_train_dataset = load_dataset(\"mozilla-foundation/common_voice_7_0\", \"lg\", split=\"train[:1%]\")   # 1% of the training dataset\n",
        "luganda_valid_dataset = load_dataset(\"mozilla-foundation/common_voice_7_0\", \"lg\", split=\"validation\")\n",
        "luganda_test_dataset = load_dataset(\"mozilla-foundation/common_voice_7_0\", \"lg\", split=\"test\")"
      ]
    },
    {
      "cell_type": "code",
      "execution_count": null,
      "metadata": {
        "id": "33onbhBh1C-R"
      },
      "outputs": [],
      "source": [
        "# Select relevant columns from the dataset\n",
        "luganda_train_dataset = luganda_train_dataset.select_columns([\"audio\", \"sentence\", ])\n",
        "luganda_valid_dataset = luganda_valid_dataset.select_columns([\"audio\", \"sentence\", ])\n",
        "luganda_test_dataset = luganda_test_dataset.select_columns([\"audio\", \"sentence\", ])"
      ]
    },
    {
      "cell_type": "markdown",
      "metadata": {},
      "source": [
        "Calculate the duration of the dataset "
      ]
    },
    {
      "cell_type": "code",
      "execution_count": null,
      "metadata": {},
      "outputs": [],
      "source": [
        "def calculate_duration(batch):\n",
        "    \"\"\"Calculate the duration of each data sample in the batch\"\"\"\n",
        "    audio = batch['audio']\n",
        "    batch['duration'] = len(audio['array'])/audio['sampling_rate']\n",
        "    return batch"
      ]
    },
    {
      "cell_type": "code",
      "execution_count": null,
      "metadata": {},
      "outputs": [],
      "source": [
        "luganda_train_dataset = luganda_train_dataset.map(calculate_duration, num_proc=4)\n",
        "luganda_valid_dataset = luganda_valid_dataset.map(calculate_duration, num_proc=4)\n",
        "luganda_test_dataset = luganda_test_dataset.map(calculate_duration, num_proc=4)"
      ]
    },
    {
      "cell_type": "markdown",
      "metadata": {},
      "source": [
        "Let's calculate the total duration of the each of the dat splits"
      ]
    },
    {
      "cell_type": "code",
      "execution_count": null,
      "metadata": {},
      "outputs": [],
      "source": [
        "train_duration = sum(luganda_train_dataset['duration'])/3600\n",
        "valid_duration = sum(luganda_valid_dataset['duration'])/3600\n",
        "test_duration = sum(luganda_test_dataset['duration'])/3600\n",
        "print(f\"{train_duration=}\")\n",
        "print(f\"{valid_duration=}\")\n",
        "print(f\"{test_duration=}\")"
      ]
    },
    {
      "cell_type": "markdown",
      "metadata": {},
      "source": [
        "We can plot a histogram of the durations in the train dataset"
      ]
    },
    {
      "cell_type": "code",
      "execution_count": null,
      "metadata": {},
      "outputs": [],
      "source": [
        "import pandas as pd\n",
        "import matplotlib.pyplot as plt\n",
        "\n",
        "pd.Series(luganda_train_dataset['duration']).hist()\n",
        "plt.show()"
      ]
    },
    {
      "cell_type": "markdown",
      "metadata": {},
      "source": [
        "If we have data samples that are longer than 30s and shorter than 2s, we need to filter the dataset to avoid issues during training"
      ]
    },
    {
      "cell_type": "code",
      "execution_count": null,
      "metadata": {},
      "outputs": [],
      "source": [
        "luganda_train_dataset = luganda_train_dataset.filter(lambda x: x['duration'] <= 30 and x['duration'] >= 2)\n",
        "luganda_valid_dataset = luganda_valid_dataset.filter(lambda x: x['duration'] <= 30 and x['duration'] >= 2)"
      ]
    },
    {
      "cell_type": "markdown",
      "metadata": {
        "id": "Gnrz8KWB1C-S"
      },
      "source": [
        "### Display some of the rows in the dataset\n",
        "Check out samples from the dataset to make sure that they are what we expect. We want to look out for numbers. These need to be converted to text. We also want to check whether there are any letters than are part of the alphabet of the language we are training for. We need to substitute these with the closest characters in the language we are interested in."
      ]
    },
    {
      "cell_type": "code",
      "execution_count": null,
      "metadata": {
        "colab": {
          "base_uri": "https://localhost:8080/",
          "height": 990
        },
        "id": "1H3A0tc71C-S",
        "outputId": "ab3505a6-6664-40f6-80b0-9a06134bff24"
      },
      "outputs": [
        {
          "data": {
            "text/html": [
              "<table border=\"1\" class=\"dataframe\">\n",
              "  <thead>\n",
              "    <tr style=\"text-align: right;\">\n",
              "      <th></th>\n",
              "      <th>sentence</th>\n",
              "    </tr>\n",
              "  </thead>\n",
              "  <tbody>\n",
              "    <tr>\n",
              "      <th>0</th>\n",
              "      <td>Amazzi kyetaago bu bulamu obwa bulijjo.</td>\n",
              "    </tr>\n",
              "    <tr>\n",
              "      <th>1</th>\n",
              "      <td>\"Abayizi ababiri baayitira mu ddaala erisooka mu bigezo bya pulayimale eby'akamalirizo.\"</td>\n",
              "    </tr>\n",
              "    <tr>\n",
              "      <th>2</th>\n",
              "      <td>Ebikolwa ebimu biggya omuntu mu kkubo lya Katonda.</td>\n",
              "    </tr>\n",
              "    <tr>\n",
              "      <th>3</th>\n",
              "      <td>\"Empuuta y'ennaku zino tekyawunnya nnyo nga ey'edda.\"</td>\n",
              "    </tr>\n",
              "    <tr>\n",
              "      <th>4</th>\n",
              "      <td>\"Gavumenti yeetaaga ssente endala okubeezaawo abanoonyi b'obubuddamu.\"</td>\n",
              "    </tr>\n",
              "    <tr>\n",
              "      <th>5</th>\n",
              "      <td>Nagenda okusoma obulimi mu lukumi lwenda kyenda.</td>\n",
              "    </tr>\n",
              "    <tr>\n",
              "      <th>6</th>\n",
              "      <td>Yakola ekikolwa kibi okwoleka ebyama bya mukyalawe.</td>\n",
              "    </tr>\n",
              "    <tr>\n",
              "      <th>7</th>\n",
              "      <td>\"Bwe yalaba anaatera okubatuukako n'atta ku bigere baleme mmulaba.\"</td>\n",
              "    </tr>\n",
              "    <tr>\n",
              "      <th>8</th>\n",
              "      <td>Kakuyege atongozeddwa leero.</td>\n",
              "    </tr>\n",
              "    <tr>\n",
              "      <th>9</th>\n",
              "      <td>Ebintu ebimu tusaanye tusooke kubiteesaako kuba bya nkizo nnyo.</td>\n",
              "    </tr>\n",
              "    <tr>\n",
              "      <th>10</th>\n",
              "      <td>Waliyo abakungu ba poliisi bangi mu Kampala.</td>\n",
              "    </tr>\n",
              "    <tr>\n",
              "      <th>11</th>\n",
              "      <td>Abaana bonna nnabagamba babeere beesimbu naye tebawulira.</td>\n",
              "    </tr>\n",
              "    <tr>\n",
              "      <th>12</th>\n",
              "      <td>\"Amalwaliro mu Adjumani gajja kuweebwa eddagala n'ebikozesebwa mu bujjanjabi.\"</td>\n",
              "    </tr>\n",
              "    <tr>\n",
              "      <th>13</th>\n",
              "      <td>Buli lwe nva wano ndeka buli muntu amatidde.</td>\n",
              "    </tr>\n",
              "    <tr>\n",
              "      <th>14</th>\n",
              "      <td>\"Abakugu mu byenfuna babalirira n'okukwata obulungi ensimbi.\"</td>\n",
              "    </tr>\n",
              "    <tr>\n",
              "      <th>15</th>\n",
              "      <td>\"Ababbi bakuba abasaabaze n'olumu ne babambula.\"</td>\n",
              "    </tr>\n",
              "    <tr>\n",
              "      <th>16</th>\n",
              "      <td>Oteekeddwa okukola obulungi omulimu ogukuweereddwa okusobola okusiimibwa.</td>\n",
              "    </tr>\n",
              "    <tr>\n",
              "      <th>17</th>\n",
              "      <td>Embeera ye bwe yeeyongedde okuba embi ne bamutwala mu ddwaliro eddene.</td>\n",
              "    </tr>\n",
              "    <tr>\n",
              "      <th>18</th>\n",
              "      <td>Amasannyalaze gajja kuba ga mugaso mu kitundu.</td>\n",
              "    </tr>\n",
              "    <tr>\n",
              "      <th>19</th>\n",
              "      <td>\"Abaana be abasatu bonna baalwadde omusujja gw'ensiri ate nga basula mu katimba.\"</td>\n",
              "    </tr>\n",
              "    <tr>\n",
              "      <th>20</th>\n",
              "      <td>Abateebi baamugaso mu kuwangula omupiira.</td>\n",
              "    </tr>\n",
              "    <tr>\n",
              "      <th>21</th>\n",
              "      <td>\"Maama w'omuwala eyasembyeyo okudda ku ssomero azze okumukyalira.\"</td>\n",
              "    </tr>\n",
              "    <tr>\n",
              "      <th>22</th>\n",
              "      <td>Abasiraamu bali mu kugunjaawo ebibiina okuyamba abatalina mwasirizi.</td>\n",
              "    </tr>\n",
              "    <tr>\n",
              "      <th>23</th>\n",
              "      <td>\"Enkola y'okubalirira yatandika.\"</td>\n",
              "    </tr>\n",
              "    <tr>\n",
              "      <th>24</th>\n",
              "      <td>Ebyaggyibwako tebyalimu Ebola.</td>\n",
              "    </tr>\n",
              "    <tr>\n",
              "      <th>25</th>\n",
              "      <td>Lwaki obadde ogaanye okuggulawo?</td>\n",
              "    </tr>\n",
              "    <tr>\n",
              "      <th>26</th>\n",
              "      <td>\"Emmotoka ziseerera nnyo buli nkuba lw'etonnya eno ewaffe.\"</td>\n",
              "    </tr>\n",
              "    <tr>\n",
              "      <th>27</th>\n",
              "      <td>Abalala abato bafuna ssente mu kukola doonanti, keeki ne chapati.</td>\n",
              "    </tr>\n",
              "    <tr>\n",
              "      <th>28</th>\n",
              "      <td>Mukwaya musajja mulungi nnyo naye mukyafu nnyo nnyo.</td>\n",
              "    </tr>\n",
              "    <tr>\n",
              "      <th>29</th>\n",
              "      <td>Ki ekikkoledde obulungi ennyo ensangi zino?</td>\n",
              "    </tr>\n",
              "  </tbody>\n",
              "</table>"
            ],
            "text/plain": [
              "<IPython.core.display.HTML object>"
            ]
          },
          "metadata": {},
          "output_type": "display_data"
        }
      ],
      "source": [
        "from datasets import ClassLabel\n",
        "import random\n",
        "import pandas as pd\n",
        "from IPython.display import display, HTML\n",
        "import re\n",
        "\n",
        "def show_random_elements(dataset, num_examples=10):\n",
        "    assert num_examples <= len(dataset), \"Can't pick more elements than there are in the dataset.\"\n",
        "    picks = []\n",
        "    for _ in range(num_examples):\n",
        "        pick = random.randint(0, len(dataset)-1)\n",
        "        while pick in picks:\n",
        "            pick = random.randint(0, len(dataset)-1)\n",
        "        picks.append(pick)\n",
        "\n",
        "    df = pd.DataFrame(dataset[picks])\n",
        "    display(HTML(df.to_html()))\n",
        "\n",
        "show_random_elements(luganda_valid_dataset.remove_columns([\"audio\"]))"
      ]
    },
    {
      "cell_type": "markdown",
      "metadata": {
        "id": "WquqkEd-1C-S"
      },
      "source": [
        "In CTC chunks of speech are classified into letters. We need to extract all distinct letters in the dataset and builf a vocabulary.   \n",
        "We need a mapping function that will concatenate all the transcriptions into a long transcription and transforms the strings into a set of characters."
      ]
    },
    {
      "cell_type": "code",
      "execution_count": null,
      "metadata": {
        "colab": {
          "base_uri": "https://localhost:8080/",
          "height": 177,
          "referenced_widgets": [
            "69ad0d51680541e686bf86c719d38cb7",
            "4b9fdec18e224ba18302eca3c0e8096b",
            "4f477adb8ed345c9b425ea67975287d7",
            "cfb6113f14e348eab7451ea5377c4d5d",
            "0911de414983468a8bc5a6a76611726e",
            "bf1e4ed90fbb45009906bf997e1c7b0c",
            "93eea2ff4fd34e4da823bb9795922ff3",
            "f77ee596a8dc4f0f82a49aa4eb010cba",
            "8b3607b8e4014adca52ff53dec67559b",
            "69c1ee2fc8c546da93b933b1ffa480f8",
            "b2b998822679414d99f5d47e5218e2a7",
            "1a28b0d1a3bc4a399b1feb099b854c3b",
            "bf97ad5cbdd0478c8c93fbbaf5b80d32",
            "7a1c55962cac4fb9b6eec71d6db439ac",
            "87a4480115dc4073a1a638fbd2040d7a",
            "08f5335cd25247cc862a9cba6d918438",
            "537f67bd99664d69835c7336b697b614",
            "110c6cc464d04f2596768a48e2598982",
            "fd2ab0500fb840e8b4c1291176b55c5a",
            "dc7da30db6c347a0bd5cd391c4cfdf15",
            "689ecb086ccc4a09826a8a63fb414024",
            "ac85f59a23a64ea18bfd667a227a9268",
            "a22f66dd76684b048c19016bc4e7c53c",
            "fbbd4710990644889f5313b7b56f8331",
            "b425c9e44ff54fdbbc55d2a3107ea44a",
            "193732c2b0784924b670ee328c50aa77",
            "c6d997b467af4309830a221552f77102",
            "96e568e880904b70816c4ea170c28ec9",
            "290e5e3286f14682bbcc47e3cbe5c205",
            "262839cbb796413388f721f08b53b333",
            "55f85d3155874e29ae8942fcbb687eae",
            "730f0f5c0e674d86b9c1447fc46f4d3f",
            "7b05f5bc41ef47d48918d12125a9ca65",
            "9436e57dac4f474982d6365ef3fcf7c3",
            "72e72243d6f74a2fbec4d6a48370f7e7",
            "5c142c876cc6493580aaec76a6b56765",
            "2d721ff984e44cc99c3f46980e4debb8",
            "ec7070ec04dc40c09a5a13bc350b73e9",
            "24e9756852684e98ba6ae15f178bc421",
            "412177c6404941e384007bf47c50312c",
            "83f32556e43c45c6a7d880f37aee2c3f",
            "862bc4310b1147e4a97c0ba7be881129",
            "ec794a8ade2f444994b74576d2ceca10",
            "3d9c11362fe24c929477a8ae78d7bd75",
            "4f632bf67ef745eeaa14d4bed9f6cf72",
            "0af95674cc7f42c5b06cdc31201d2101",
            "9d9f96e872654101a8880a2561b152d1",
            "7634d0ce92994b7eafb7601703604da4",
            "aceb9c9669c544b3a320b6a601144b6b",
            "4e54c4a96c8c4744a2005bf5c40ec131",
            "88b6f8f0c63c4cd4bf4a84975508e4ed",
            "67cdc3f413ae4f1e930af353a800973a",
            "86ccbe49d81f41979e3f4c97f7b4a716",
            "4f3f8a25e837493dbd752fe4e7d58a47",
            "7b55499f97f54bdf89331ae9ecfa8520"
          ]
        },
        "id": "T6qoggHg1C-S",
        "outputId": "b4bfdf64-733b-46f9-e742-b99e30d9f463"
      },
      "outputs": [
        {
          "data": {
            "application/vnd.jupyter.widget-view+json": {
              "model_id": "69ad0d51680541e686bf86c719d38cb7",
              "version_major": 2,
              "version_minor": 0
            },
            "text/plain": [
              "Map:   0%|          | 0/6626 [00:00<?, ? examples/s]"
            ]
          },
          "metadata": {},
          "output_type": "display_data"
        },
        {
          "data": {
            "application/vnd.jupyter.widget-view+json": {
              "model_id": "1a28b0d1a3bc4a399b1feb099b854c3b",
              "version_major": 2,
              "version_minor": 0
            },
            "text/plain": [
              "Map:   0%|          | 0/4276 [00:00<?, ? examples/s]"
            ]
          },
          "metadata": {},
          "output_type": "display_data"
        },
        {
          "data": {
            "application/vnd.jupyter.widget-view+json": {
              "model_id": "a22f66dd76684b048c19016bc4e7c53c",
              "version_major": 2,
              "version_minor": 0
            },
            "text/plain": [
              "Map:   0%|          | 0/3549 [00:00<?, ? examples/s]"
            ]
          },
          "metadata": {},
          "output_type": "display_data"
        },
        {
          "data": {
            "application/vnd.jupyter.widget-view+json": {
              "model_id": "9436e57dac4f474982d6365ef3fcf7c3",
              "version_major": 2,
              "version_minor": 0
            },
            "text/plain": [
              "Map:   0%|          | 0/29407 [00:00<?, ? examples/s]"
            ]
          },
          "metadata": {},
          "output_type": "display_data"
        },
        {
          "data": {
            "application/vnd.jupyter.widget-view+json": {
              "model_id": "4f632bf67ef745eeaa14d4bed9f6cf72",
              "version_major": 2,
              "version_minor": 0
            },
            "text/plain": [
              "Map:   0%|          | 0/2195 [00:00<?, ? examples/s]"
            ]
          },
          "metadata": {},
          "output_type": "display_data"
        }
      ],
      "source": [
        "# Let's use the batched = True so that the map function can access all the transcriptions at a go\n",
        "def extract_all_chars(batch):\n",
        "  all_text = \" \".join(batch[\"sentence\"])\n",
        "  vocab = list(set(all_text))\n",
        "  return {\"vocab\": [vocab], \"all_text\": [all_text]}\n",
        "\n",
        "\n",
        "luganda_train_vocab   = luganda_train_dataset.map(extract_all_chars, batched=True, batch_size=-1, keep_in_memory=True, remove_columns=luganda_train_dataset.column_names)\n",
        "luganda_valid_vocab   = luganda_valid_dataset.map(extract_all_chars, batched=True, batch_size=-1, keep_in_memory=True, remove_columns=luganda_valid_dataset.column_names)\n",
        "luganda_test_vocab    = luganda_test_dataset.map(extract_all_chars, batched=True, batch_size=-1, keep_in_memory=True, remove_columns=luganda_test_dataset.column_names)"
      ]
    },
    {
      "cell_type": "code",
      "execution_count": null,
      "metadata": {},
      "outputs": [],
      "source": [
        "vocab_list = list(set(luganda_train_vocab[\"vocab\"][0]) | set(luganda_valid_vocab[\"vocab\"][0]) | set(luganda_test_vocab[\"vocab\"][0]))"
      ]
    },
    {
      "cell_type": "code",
      "execution_count": null,
      "metadata": {
        "colab": {
          "base_uri": "https://localhost:8080/"
        },
        "id": "hiYWt6W61C-S",
        "outputId": "4ac778f6-ca7a-4e4f-dfc8-997dc86a45fc"
      },
      "outputs": [
        {
          "data": {
            "text/plain": [
              "{'(': 0,\n",
              " ' ': 1,\n",
              " 'w': 2,\n",
              " 'x': 3,\n",
              " 's': 4,\n",
              " 'm': 5,\n",
              " 'y': 6,\n",
              " 'k': 7,\n",
              " 'r': 8,\n",
              " 'o': 9,\n",
              " 'g': 10,\n",
              " 'p': 11,\n",
              " 'u': 12,\n",
              " 'e': 13,\n",
              " 'v': 14,\n",
              " 'i': 15,\n",
              " '’': 16,\n",
              " \"'\": 17,\n",
              " ')': 18,\n",
              " 'h': 19,\n",
              " 'b': 20,\n",
              " 'f': 21,\n",
              " '‘': 22,\n",
              " 'n': 23,\n",
              " 'a': 24,\n",
              " 'c': 25,\n",
              " 'l': 26,\n",
              " 'j': 27,\n",
              " 't': 28,\n",
              " 'd': 29,\n",
              " 'z': 30}"
            ]
          },
          "execution_count": 8,
          "metadata": {},
          "output_type": "execute_result"
        }
      ],
      "source": [
        "# Create a vocabulary of all letters in the train dataset\n",
        "vocab_dict = {v: k for k, v in enumerate(vocab_list)}\n",
        "vocab_dict"
      ]
    },
    {
      "cell_type": "code",
      "execution_count": null,
      "metadata": {},
      "outputs": [],
      "source": [
        "# Let's normalize the dataset to only lower case letters and ignore any special tokens because without a language model it is difficult to classify such tokens as they do not correspond to a characteristic sound.\n",
        "chars_to_ignore_regex = '[\\,\\?\\.\\!\\-\\;\\:\\\"]'\n",
        "\n",
        "def remove_special_characters(batch):\n",
        "    batch[\"transcription\"] = re.sub(chars_to_ignore_regex, '', batch[\"sentence\"]).lower()\n",
        "    return batch\n",
        "\n",
        "luganda_train_dataset = luganda_train_dataset.map(remove_special_characters)\n",
        "luganda_valid_dataset = luganda_valid_dataset.map(remove_special_characters)\n",
        "luganda_test_dataset = luganda_test_dataset.map(remove_special_characters)"
      ]
    },
    {
      "cell_type": "markdown",
      "metadata": {
        "id": "uMLDWtuA1C-T"
      },
      "source": [
        "We need to replace the \" \" in the dataset with a more visible character. We also need to add the UNKNOWN token so that to deal with characters not encountered in the training dataset."
      ]
    },
    {
      "cell_type": "code",
      "execution_count": null,
      "metadata": {
        "id": "H3WBwkM01C-T"
      },
      "outputs": [],
      "source": [
        "vocab_dict[\"|\"] = vocab_dict[\" \"]\n",
        "del vocab_dict[\" \"]"
      ]
    },
    {
      "cell_type": "markdown",
      "metadata": {
        "id": "9PIfxOaK1C-T"
      },
      "source": [
        "We need to add the pad token that corresponds to CTC's blank token. The blank token is a core component of the CTC algorithm."
      ]
    },
    {
      "cell_type": "code",
      "execution_count": null,
      "metadata": {
        "colab": {
          "base_uri": "https://localhost:8080/"
        },
        "id": "c7_CyHNd1C-T",
        "outputId": "39db8d5e-681b-44a4-bc64-0527b2093285"
      },
      "outputs": [
        {
          "name": "stdout",
          "output_type": "stream",
          "text": [
            "33\n"
          ]
        }
      ],
      "source": [
        "vocab_dict[\"[UNK]\"] = len(vocab_dict)\n",
        "vocab_dict[\"[PAD]\"] = len(vocab_dict)\n",
        "print(len(vocab_dict))"
      ]
    },
    {
      "cell_type": "code",
      "execution_count": null,
      "metadata": {
        "id": "3MKPiJFZ1C-T"
      },
      "outputs": [],
      "source": [
        "# Save the vocabulary to a json file\n",
        "import json\n",
        "with open('./vocab.json', 'w') as vocab_file:\n",
        "    json.dump(vocab_dict, vocab_file)"
      ]
    },
    {
      "cell_type": "code",
      "execution_count": null,
      "metadata": {
        "id": "WlGPgFVD1C-T"
      },
      "outputs": [],
      "source": [
        "# Use the json file to instantiate an object of the Wav2Vec2CTCTokenizer class\n",
        "from transformers import Wav2Vec2CTCTokenizer\n",
        "\n",
        "tokenizer = Wav2Vec2CTCTokenizer(\"./vocab.json\", unk_token=\"[UNK]\", pad_token=\"[PAD]\", word_delimiter_token=\"|\")"
      ]
    },
    {
      "cell_type": "code",
      "execution_count": null,
      "metadata": {
        "colab": {
          "base_uri": "https://localhost:8080/",
          "height": 90
        },
        "id": "oIBNdE9T1C-T",
        "outputId": "e6ded68f-cc24-4604-c018-f355a93733de"
      },
      "outputs": [
        {
          "data": {
            "application/vnd.google.colaboratory.intrinsic+json": {
              "type": "string"
            },
            "text/plain": [
              "CommitInfo(commit_url='https://huggingface.co/dmusingu/luganda_wav2vec2_ctc/commit/0e024f5993351c4bf9d5ed2ab34dba98bb001df1', commit_message='Upload tokenizer', commit_description='', oid='0e024f5993351c4bf9d5ed2ab34dba98bb001df1', pr_url=None, pr_revision=None, pr_num=None)"
            ]
          },
          "execution_count": 13,
          "metadata": {},
          "output_type": "execute_result"
        }
      ],
      "source": [
        "# Let's push the tokenizer to the hub\n",
        "repo_name = \"luganda-wav2vec2-xls-r-common-voice-7-0\"\n",
        "tokenizer.push_to_hub(repo_name)"
      ]
    },
    {
      "cell_type": "markdown",
      "metadata": {
        "id": "jf2IuJc81C-T"
      },
      "source": [
        "# Create Wav2Vec Feature Extractor"
      ]
    },
    {
      "cell_type": "code",
      "execution_count": null,
      "metadata": {
        "id": "e-jONbYg1C-U"
      },
      "outputs": [],
      "source": [
        "# Create a feature extractor using Wav2Vec2FeatureExtractor. We shall pass feature size as 1 because we are dealing with raw audio files.\n",
        "from transformers import Wav2Vec2FeatureExtractor\n",
        "\n",
        "feature_extractor = Wav2Vec2FeatureExtractor(feature_size=1, sampling_rate=16000, padding_value=0.0, do_normalize=True, return_attention_mask=False)"
      ]
    },
    {
      "cell_type": "code",
      "execution_count": null,
      "metadata": {
        "id": "04xziLj71C-U"
      },
      "outputs": [],
      "source": [
        "# Wrap the feature extractor and the tokenizer into a Wav2VecProcessor\n",
        "from transformers import Wav2Vec2Processor\n",
        "\n",
        "processor = Wav2Vec2Processor(feature_extractor=feature_extractor, tokenizer=tokenizer)"
      ]
    },
    {
      "cell_type": "markdown",
      "metadata": {
        "id": "Wpaad2no1C-U"
      },
      "source": [
        "# Preprocess the dataset"
      ]
    },
    {
      "cell_type": "code",
      "execution_count": null,
      "metadata": {
        "id": "5ntRs4sBDY0p"
      },
      "outputs": [],
      "source": [
        "from datasets import Audio"
      ]
    },
    {
      "cell_type": "code",
      "execution_count": null,
      "metadata": {
        "id": "HhLn_47jDNRk"
      },
      "outputs": [],
      "source": [
        "luganda_train_dataset = luganda_train_dataset.cast_column(\"audio\", Audio(sampling_rate=16000))\n",
        "luganda_valid_dataset = luganda_valid_dataset.cast_column(\"audio\", Audio(sampling_rate=16000))\n",
        "luganda_test_dataset = luganda_test_dataset.cast_column(\"audio\", Audio(sampling_rate=16000))"
      ]
    },
    {
      "cell_type": "code",
      "execution_count": null,
      "metadata": {
        "colab": {
          "base_uri": "https://localhost:8080/",
          "height": 80
        },
        "id": "5D0lRFpi1C-U",
        "outputId": "c3e40758-24db-4199-a602-d7b27efff862"
      },
      "outputs": [
        {
          "name": "stdout",
          "output_type": "stream",
          "text": [
            "ekibiina kyajaguzza emyaka amakumi asatu mu ena bukya nga kibeerawo\n"
          ]
        },
        {
          "data": {
            "text/html": [
              "\n",
              "                <audio  controls=\"controls\" autoplay=\"autoplay\">\n",
              "                    <source src=\"data:audio/wav;base64,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\" type=\"audio/wav\" />\n",
              "                    Your browser does not support the audio element.\n",
              "                </audio>\n",
              "              "
            ],
            "text/plain": [
              "<IPython.lib.display.Audio object>"
            ]
          },
          "execution_count": 19,
          "metadata": {},
          "output_type": "execute_result"
        }
      ],
      "source": [
        "# Listen to sample audio from the dataset\n",
        "import IPython.display as ipd\n",
        "import numpy as np\n",
        "import random\n",
        "\n",
        "rand_int = random.randint(0, len(luganda_train_dataset)-1)\n",
        "\n",
        "print(luganda_train_dataset[\"train\"][rand_int][\"sentence\"])\n",
        "ipd.Audio(data=np.asarray(luganda_train_dataset[\"train\"][rand_int][\"audio\"][\"array\"]), autoplay=True, rate=16000)"
      ]
    },
    {
      "cell_type": "code",
      "execution_count": null,
      "metadata": {
        "colab": {
          "base_uri": "https://localhost:8080/"
        },
        "id": "yJtB3nHm1C-U",
        "outputId": "04116c5b-013f-45c9-d2c7-85852dc93009"
      },
      "outputs": [
        {
          "name": "stdout",
          "output_type": "stream",
          "text": [
            "Target text: abaserikale batuuse kikeerezi okuzikiza ennyumba eyabadde ekutte omuliro\n",
            "Input array shape: (95713,)\n",
            "Sampling rate: 16000\n"
          ]
        }
      ],
      "source": [
        "rand_int = random.randint(0, len(luganda_train_dataset))\n",
        "\n",
        "print(\"Target text:\", luganda_train_dataset[rand_int][\"transcription\"])\n",
        "print(\"Input array shape:\", np.asarray(luganda_train_dataset[rand_int][\"audio\"][\"array\"]).shape)\n",
        "print(\"Sampling rate:\", luganda_train_dataset[rand_int][\"audio\"][\"sampling_rate\"])"
      ]
    },
    {
      "cell_type": "code",
      "execution_count": null,
      "metadata": {
        "id": "g1yRhouK1C-U"
      },
      "outputs": [],
      "source": [
        "# Convert the sampling frewquency to 16kHz since the model was pretrained on audio sampled at 16kHz\n",
        "def prepare_dataset(batch):\n",
        "    audio = batch[\"audio\"]\n",
        "\n",
        "    # batched output is \"un-batched\" to ensure mapping is correct\n",
        "    batch[\"input_values\"] = processor(audio[\"array\"], sampling_rate=16000).input_values[0]\n",
        "\n",
        "    with processor.as_target_processor():\n",
        "        batch[\"labels\"] = processor(batch[\"transcription\"]).input_ids\n",
        "    return batch"
      ]
    },
    {
      "cell_type": "code",
      "execution_count": null,
      "metadata": {
        "id": "neLi3TG71C-U"
      },
      "outputs": [],
      "source": [
        "# Apply the map function to the dataset\n",
        "luganda_train_dataset = luganda_train_dataset.map(prepare_dataset, remove_columns=['audio', 'transcription'], num_proc=4)\n",
        "luganda_valid_dataset = luganda_valid_dataset.map(prepare_dataset, remove_columns=['audio', 'transcription'], num_proc=4)"
      ]
    },
    {
      "cell_type": "markdown",
      "metadata": {
        "id": "KcPkPX6B1C-U"
      },
      "source": [
        "### Training and Evaluation"
      ]
    },
    {
      "cell_type": "code",
      "execution_count": null,
      "metadata": {
        "id": "jWffaYpE1C-V"
      },
      "outputs": [],
      "source": [
        "# Set up the trainer\n",
        "import torch\n",
        "\n",
        "from dataclasses import dataclass, field\n",
        "from typing import Any, Dict, List, Optional, Union\n",
        "\n",
        "@dataclass\n",
        "class DataCollatorCTCWithPadding:\n",
        "    \"\"\"\n",
        "    Data collator that will dynamically pad the inputs received.\n",
        "    Args:\n",
        "        processor (:class:`~transformers.Wav2Vec2Processor`)\n",
        "            The processor used for proccessing the data.\n",
        "        padding (:obj:`bool`, :obj:`str` or :class:`~transformers.tokenization_utils_base.PaddingStrategy`, `optional`, defaults to :obj:`True`):\n",
        "            Select a strategy to pad the returned sequences (according to the model's padding side and padding index)\n",
        "            among:\n",
        "            * :obj:`True` or :obj:`'longest'`: Pad to the longest sequence in the batch (or no padding if only a single\n",
        "              sequence if provided).\n",
        "            * :obj:`'max_length'`: Pad to a maximum length specified with the argument :obj:`max_length` or to the\n",
        "              maximum acceptable input length for the model if that argument is not provided.\n",
        "            * :obj:`False` or :obj:`'do_not_pad'` (default): No padding (i.e., can output a batch with sequences of\n",
        "              different lengths).\n",
        "        max_length (:obj:`int`, `optional`):\n",
        "            Maximum length of the ``input_values`` of the returned list and optionally padding length (see above).\n",
        "        max_length_labels (:obj:`int`, `optional`):\n",
        "            Maximum length of the ``labels`` returned list and optionally padding length (see above).\n",
        "        pad_to_multiple_of (:obj:`int`, `optional`):\n",
        "            If set will pad the sequence to a multiple of the provided value.\n",
        "            This is especially useful to enable the use of Tensor Cores on NVIDIA hardware with compute capability >=\n",
        "            7.5 (Volta).\n",
        "    \"\"\"\n",
        "\n",
        "    processor: Wav2Vec2Processor\n",
        "    padding: Union[bool, str] = True\n",
        "    max_length: Optional[int] = None\n",
        "    max_length_labels: Optional[int] = None\n",
        "    pad_to_multiple_of: Optional[int] = None\n",
        "    pad_to_multiple_of_labels: Optional[int] = None\n",
        "\n",
        "    def __call__(self, features: List[Dict[str, Union[List[int], torch.Tensor]]]) -> Dict[str, torch.Tensor]:\n",
        "        # split inputs and labels since they have to be of different lengths and need\n",
        "        # different padding methods\n",
        "        input_features = [{\"input_values\": feature[\"input_values\"]} for feature in features]\n",
        "        label_features = [{\"input_ids\": feature[\"labels\"]} for feature in features]\n",
        "\n",
        "        batch = self.processor.pad(\n",
        "            input_features,\n",
        "            padding=self.padding,\n",
        "            max_length=self.max_length,\n",
        "            pad_to_multiple_of=self.pad_to_multiple_of,\n",
        "            return_tensors=\"pt\",\n",
        "        )\n",
        "        with self.processor.as_target_processor():\n",
        "            labels_batch = self.processor.pad(\n",
        "                label_features,\n",
        "                padding=self.padding,\n",
        "                max_length=self.max_length_labels,\n",
        "                pad_to_multiple_of=self.pad_to_multiple_of_labels,\n",
        "                return_tensors=\"pt\",\n",
        "            )\n",
        "\n",
        "        # replace padding with -100 to ignore loss correctly\n",
        "        labels = labels_batch[\"input_ids\"].masked_fill(labels_batch.attention_mask.ne(1), -100)\n",
        "\n",
        "        batch[\"labels\"] = labels\n",
        "\n",
        "        return batch"
      ]
    },
    {
      "cell_type": "code",
      "execution_count": null,
      "metadata": {
        "id": "nK96-Cx91C-V"
      },
      "outputs": [],
      "source": [
        "# Initialize the data_collator\n",
        "data_collator = DataCollatorCTCWithPadding(processor=processor, padding=True)"
      ]
    },
    {
      "cell_type": "markdown",
      "metadata": {},
      "source": [
        "We shall evaluate the model using WER and CER"
      ]
    },
    {
      "cell_type": "code",
      "execution_count": null,
      "metadata": {
        "colab": {
          "base_uri": "https://localhost:8080/"
        },
        "id": "dZc8ZnaR1C-V",
        "outputId": "dd7cdb6c-4936-447b-8fa0-1f1cd80ef945"
      },
      "outputs": [
        {
          "name": "stderr",
          "output_type": "stream",
          "text": [
            "<ipython-input-25-5217f441bba2>:2: FutureWarning: load_metric is deprecated and will be removed in the next major version of datasets. Use 'evaluate.load' instead, from the new library 🤗 Evaluate: https://huggingface.co/docs/evaluate\n",
            "  wer_metric = load_metric(\"wer\")\n",
            "/usr/local/lib/python3.10/dist-packages/datasets/load.py:753: FutureWarning: The repository for wer contains custom code which must be executed to correctly load the metric. You can inspect the repository content at https://raw.githubusercontent.com/huggingface/datasets/2.17.1/metrics/wer/wer.py\n",
            "You can avoid this message in future by passing the argument `trust_remote_code=True`.\n",
            "Passing `trust_remote_code=True` will be mandatory to load this metric from the next major release of `datasets`.\n",
            "  warnings.warn(\n"
          ]
        }
      ],
      "source": [
        "# Load WER and CER from evaluate\n",
        "import evaluate \n",
        "\n",
        "wer_metric = evaluate.load(\"wer\")\n",
        "cer_metric = evaluate.load(\"cer\")"
      ]
    },
    {
      "cell_type": "code",
      "execution_count": null,
      "metadata": {
        "id": "nZtzHeo21C-V"
      },
      "outputs": [],
      "source": [
        "def compute_metrics(pred):\n",
        "    pred_logits = pred.predictions\n",
        "    pred_ids = np.argmax(pred_logits, axis=-1)\n",
        "\n",
        "    pred.label_ids[pred.label_ids == -100] = processor.tokenizer.pad_token_id\n",
        "\n",
        "    pred_str = processor.batch_decode(pred_ids)\n",
        "    # we do not want to group tokens when computing the metrics\n",
        "    label_str = processor.batch_decode(pred.label_ids, group_tokens=False)\n",
        "\n",
        "    wer = wer_metric.compute(predictions=pred_str, references=label_str)\n",
        "    cer = cer_metric.compute(predictions=pred_str, references=label_str)\n",
        "\n",
        "    return {\"wer\": wer, \"cer\": cer}"
      ]
    },
    {
      "cell_type": "code",
      "execution_count": null,
      "metadata": {
        "colab": {
          "base_uri": "https://localhost:8080/"
        },
        "id": "L6cd-VCh1C-V",
        "outputId": "4c11de69-64da-4676-9373-c0bbf39b8600"
      },
      "outputs": [
        {
          "name": "stderr",
          "output_type": "stream",
          "text": [
            "/usr/local/lib/python3.10/dist-packages/transformers/configuration_utils.py:365: UserWarning: Passing `gradient_checkpointing` to a config initialization is deprecated and will be removed in v5 Transformers. Using `model.gradient_checkpointing_enable()` instead, or if you are using the `Trainer` API, pass `gradient_checkpointing=True` in your `TrainingArguments`.\n",
            "  warnings.warn(\n",
            "/usr/local/lib/python3.10/dist-packages/torch/_utils.py:831: UserWarning: TypedStorage is deprecated. It will be removed in the future and UntypedStorage will be the only storage class. This should only matter to you if you are using storages directly.  To access UntypedStorage directly, use tensor.untyped_storage() instead of tensor.storage()\n",
            "  return self.fget.__get__(instance, owner)()\n",
            "Some weights of Wav2Vec2ForCTC were not initialized from the model checkpoint at facebook/wav2vec2-base and are newly initialized: ['lm_head.bias', 'lm_head.weight', 'wav2vec2.encoder.pos_conv_embed.conv.parametrizations.weight.original0', 'wav2vec2.encoder.pos_conv_embed.conv.parametrizations.weight.original1']\n",
            "You should probably TRAIN this model on a down-stream task to be able to use it for predictions and inference.\n"
          ]
        }
      ],
      "source": [
        "# Load the pretrained Wav2Vec2 checkpoint. We use the tokenizers pad token id to degine the model's pad token id\n",
        "from transformers import Wav2Vec2ForCTC\n",
        "\n",
        "model = Wav2Vec2ForCTC.from_pretrained(\n",
        "    \"facebook/wav2vec2-xls-r-300m\",\n",
        "    attention_dropout=0.1,\n",
        "    hidden_dropout=0.1,\n",
        "    feat_proj_dropout=0.1,\n",
        "    mask_time_prob=0.05,\n",
        "    layerdrop=0.1,\n",
        "    ctc_loss_reduction=\"mean\",\n",
        "    pad_token_id=processor.tokenizer.pad_token_id,\n",
        "    vocab_size=len(processor.tokenizer)\n",
        ")"
      ]
    },
    {
      "cell_type": "code",
      "execution_count": null,
      "metadata": {
        "colab": {
          "base_uri": "https://localhost:8080/"
        },
        "id": "dSvpqAyi1C-V",
        "outputId": "4aecdb0c-746d-4a86-f49e-532b04955cb7"
      },
      "outputs": [
        {
          "name": "stderr",
          "output_type": "stream",
          "text": [
            "/usr/local/lib/python3.10/dist-packages/transformers/models/wav2vec2/modeling_wav2vec2.py:1919: FutureWarning: The method `freeze_feature_extractor` is deprecated and will be removed in Transformers v5. Please use the equivalent `freeze_feature_encoder` method instead.\n",
            "  warnings.warn(\n"
          ]
        }
      ],
      "source": [
        "# Freeze the feature extractor\n",
        "model.freeze_feature_extractor()"
      ]
    },
    {
      "cell_type": "markdown",
      "metadata": {},
      "source": [
        "We log training progress to Weights and Biases"
      ]
    },
    {
      "cell_type": "code",
      "execution_count": null,
      "metadata": {
        "colab": {
          "base_uri": "https://localhost:8080/"
        },
        "id": "IkcVNF-QEuQn",
        "outputId": "f1b148f6-0fbf-4a32-86d7-4d44112469a9"
      },
      "outputs": [
        {
          "name": "stderr",
          "output_type": "stream",
          "text": [
            "\u001b[34m\u001b[1mwandb\u001b[0m: Currently logged in as: \u001b[33mdmusingu\u001b[0m. Use \u001b[1m`wandb login --relogin`\u001b[0m to force relogin\n"
          ]
        },
        {
          "data": {
            "text/plain": [
              "True"
            ]
          },
          "execution_count": 29,
          "metadata": {},
          "output_type": "execute_result"
        }
      ],
      "source": [
        "import wandb\n",
        "\n",
        "# Log in to Weights & Biases\n",
        "wandb.login()"
      ]
    },
    {
      "cell_type": "code",
      "execution_count": null,
      "metadata": {
        "colab": {
          "base_uri": "https://localhost:8080/"
        },
        "id": "GdL4WwvdEzk5",
        "outputId": "473bd42e-ddd2-4067-8577-30b132233e01"
      },
      "outputs": [
        {
          "name": "stdout",
          "output_type": "stream",
          "text": [
            "env: WANDB_PROJECT=LugandaASR-wav2vec\n",
            "env: WANDB_LOG_MODEL=\"checkpoint\"\n"
          ]
        }
      ],
      "source": [
        "%env WANDB_LOG_MODEL=end\n",
        "%env WANDB_PROJECT=ASR Africa\n",
        "%env WANDB_WATCH=all\n",
        "%env WANDB_SILENT=true"
      ]
    },
    {
      "cell_type": "markdown",
      "metadata": {},
      "source": [
        "Use callbacks to log training progress. This helps us to monitor whether transcriptions predicted by the model improves as the model is trained."
      ]
    },
    {
      "cell_type": "code",
      "execution_count": null,
      "metadata": {
        "id": "dqNpHQc7HmVN"
      },
      "outputs": [],
      "source": [
        "from transformers.integrations import WandbCallback\n",
        "import pandas as pd\n",
        "\n",
        "\n",
        "def map_to_result(batch):\n",
        "  with torch.no_grad():\n",
        "    input_values = torch.tensor(batch[\"input_values\"], device=\"cuda\").unsqueeze(0)\n",
        "    logits = model(input_values).logits\n",
        "\n",
        "  pred_ids = torch.argmax(logits, dim=-1)\n",
        "  batch[\"pred_str\"] = processor.batch_decode(pred_ids)[0]\n",
        "  batch[\"text\"] = processor.decode(batch[\"labels\"], group_tokens=False)\n",
        "\n",
        "  return batch\n",
        "\n",
        "def decode_predictions(tokenizer, predictions):\n",
        "    labels = tokenizer.batch_decode(predictions.label_ids)\n",
        "    logits = predictions.predictions.argmax(axis=-1)\n",
        "    prediction_text = tokenizer.batch_decode(logits)\n",
        "    return {\"labels\": labels, \"predictions\": prediction_text}\n",
        "\n",
        "\n",
        "class WandbPredictionProgressCallback(WandbCallback):\n",
        "    \"\"\"Custom WandbCallback to log model predictions during training.\n",
        "\n",
        "    This callback logs model predictions and labels to a wandb.Table at each\n",
        "    logging step during training. It allows to visualize the\n",
        "    model predictions as the training progresses.\n",
        "\n",
        "    Attributes:\n",
        "        trainer (Trainer): The Hugging Face Trainer instance.\n",
        "        tokenizer (AutoTokenizer): The tokenizer associated with the model.\n",
        "        sample_dataset (Dataset): A subset of the validation dataset\n",
        "          for generating predictions.\n",
        "        num_samples (int, optional): Number of samples to select from\n",
        "          the validation dataset for generating predictions. Defaults to 100.\n",
        "        freq (int, optional): Frequency of logging. Defaults to 2.\n",
        "    \"\"\"\n",
        "\n",
        "    def __init__(self, trainer, tokenizer, val_dataset,\n",
        "                 num_samples=10, freq=2):\n",
        "        \"\"\"Initializes the WandbPredictionProgressCallback instance.\n",
        "\n",
        "        Args:\n",
        "            trainer (Trainer): The Hugging Face Trainer instance.\n",
        "            tokenizer (AutoTokenizer): The tokenizer associated\n",
        "              with the model.\n",
        "            val_dataset (Dataset): The validation dataset.\n",
        "            num_samples (int, optional): Number of samples to select from\n",
        "              the validation dataset for generating predictions.\n",
        "              Defaults to 100.\n",
        "            freq (int, optional): Frequency of logging. Defaults to 2.\n",
        "        \"\"\"\n",
        "        super().__init__()\n",
        "        self.trainer = trainer\n",
        "        self.tokenizer = tokenizer\n",
        "        self.sample_dataset = val_dataset.select(range(num_samples))\n",
        "        self.freq = freq\n",
        "\n",
        "    def on_evaluate(self, args, state, control, **kwargs):\n",
        "        super().on_evaluate(args, state, control, **kwargs)\n",
        "        # control the frequency of logging by logging the predictions\n",
        "        # every `freq` epochs\n",
        "        if state.epoch % self.freq == 0:\n",
        "            # generate predictions\n",
        "            predictions = self.trainer.predict(self.sample_dataset)\n",
        "            # decode predictions and labels\n",
        "            predictions = decode_predictions(self.tokenizer, predictions)\n",
        "            # add predictions to a wandb.Table\n",
        "            predictions_df = pd.DataFrame(predictions)\n",
        "            predictions_df[\"epoch\"] = state.epoch\n",
        "            records_table = self._wandb.Table(dataframe=predictions_df)\n",
        "            # log the table to wandb\n",
        "            self._wandb.log({\"sample_predictions\": records_table})"
      ]
    },
    {
      "cell_type": "code",
      "execution_count": null,
      "metadata": {
        "id": "cubSG2e-1C-V"
      },
      "outputs": [],
      "source": [
        "# Define the training arguments\n",
        "from transformers import TrainingArguments\n",
        "\n",
        "training_args = TrainingArguments(\n",
        "    output_dir=repo_name,\n",
        "    group_by_length=True,\n",
        "    per_device_train_batch_size=32,\n",
        "    per_device_eval_batch_size=16,\n",
        "    evaluation_strategy=\"steps\",\n",
        "    save_strategy=\"steps\",\n",
        "    num_train_epochs=50,\n",
        "    torch_compile = True,\n",
        "    bf16=True,\n",
        "    gradient_checkpointing=True,\n",
        "    save_steps=500,\n",
        "    eval_steps=500,\n",
        "    logging_steps=500,\n",
        "    learning_rate=1e-4,\n",
        "    weight_decay=0.005,\n",
        "    warmup_steps=1000,\n",
        "    save_total_limit=2,\n",
        "    load_best_model_at_end=True,\n",
        "    metric_for_best_model=\"wer\",\n",
        "    greater_is_better=False,\n",
        "    report_to=\"wandb\",\n",
        "    run_name=\"luganda-wav2vec2-xls-r-common-voice-7-0\",\n",
        "    push_to_hub=True,\n",
        "    hub_model_id=repo_name,\n",
        "    hub_model_id = \"luganda-wav2vec2-xls-r-common-voice-7-0\",\n",
        "    dataloader_num_workers=8,\n",
        "    dataloader_pin_memory=True,\n",
        "    dataloader_prefetch_factor=2,\n",
        ")"
      ]
    },
    {
      "cell_type": "code",
      "execution_count": null,
      "metadata": {
        "id": "RvVZF5Up1C-V"
      },
      "outputs": [],
      "source": [
        "from transformers import Trainer\n",
        "\n",
        "trainer = Trainer(\n",
        "    model=model,\n",
        "    data_collator=data_collator,\n",
        "    args=training_args,\n",
        "    compute_metrics=compute_metrics,\n",
        "    train_dataset=luganda_train_dataset,\n",
        "    eval_dataset=luganda_valid_dataset,\n",
        "    tokenizer=processor.feature_extractor,\n",
        ")\n",
        "\n",
        "\n",
        "# Instantiate the WandbPredictionProgressCallback\n",
        "progress_callback = WandbPredictionProgressCallback(\n",
        "    trainer=trainer,\n",
        "    tokenizer=tokenizer,\n",
        "    val_dataset=luganda_valid_dataset,\n",
        "    num_samples=10,\n",
        "    freq=2,\n",
        ")\n",
        "\n",
        "# Add the callback to the trainer\n",
        "trainer.add_callback(progress_callback)"
      ]
    },
    {
      "cell_type": "code",
      "execution_count": null,
      "metadata": {
        "colab": {
          "base_uri": "https://localhost:8080/",
          "height": 1000,
          "referenced_widgets": [
            "c60db2ab6b9343ecacf820a8673fbac1",
            "8fc7b2b5f6be4b6895ddd68350f44226",
            "6d8d2ac366b34b169b7d9de4a3f29497",
            "2a55ff262e91438facf99279c25c194a",
            "e9eb522103894d339a99697375e43bd6",
            "982f8a68f8ba48af97bcd5430e0b654b",
            "4e99d885f2f8456abe5e504684bd6848",
            "5592bf58e8114119a80d364f4372dd38",
            "32ae65a1947645b9ab1755ee11bc65e5",
            "fa16c560cdbc4e33adbe558648193f5d",
            "97a3ba1f611a479c920d4e8f72ed1a85",
            "414db8ba85e74a2995d17ca10ff01d6f",
            "5b5b492528b941b38a4fe56cdbaf028f",
            "f9655974ad84484aa9435348ab67e935",
            "3218240a97504afd84622eacfdda41b5",
            "8b7d8f32179c4f5988ad927cecd01421"
          ]
        },
        "id": "tGcpyOgR1C-V",
        "outputId": "516b6798-a6d6-43fa-8c2c-565caeb6cede"
      },
      "outputs": [
        {
          "data": {
            "text/html": [
              "Changes to your `wandb` environment variables will be ignored because your `wandb` session has already started. For more information on how to modify your settings with `wandb.init()` arguments, please refer to <a href='https://wandb.me/wandb-init' target=\"_blank\">the W&B docs</a>."
            ],
            "text/plain": [
              "<IPython.core.display.HTML object>"
            ]
          },
          "metadata": {},
          "output_type": "display_data"
        },
        {
          "data": {
            "application/vnd.jupyter.widget-view+json": {
              "model_id": "c60db2ab6b9343ecacf820a8673fbac1",
              "version_major": 2,
              "version_minor": 0
            },
            "text/plain": [
              "VBox(children=(Label(value='Waiting for wandb.init()...\\r'), FloatProgress(value=0.011112768177781618, max=1.0…"
            ]
          },
          "metadata": {},
          "output_type": "display_data"
        },
        {
          "data": {
            "text/html": [
              "Tracking run with wandb version 0.16.3"
            ],
            "text/plain": [
              "<IPython.core.display.HTML object>"
            ]
          },
          "metadata": {},
          "output_type": "display_data"
        },
        {
          "data": {
            "text/html": [
              "Run data is saved locally in <code>/content/wandb/run-20240223_203610-t1a1adlc</code>"
            ],
            "text/plain": [
              "<IPython.core.display.HTML object>"
            ]
          },
          "metadata": {},
          "output_type": "display_data"
        },
        {
          "data": {
            "text/html": [
              "Syncing run <strong><a href='https://wandb.ai/dmusingu/LugandaASR-wav2vec/runs/t1a1adlc' target=\"_blank\">wav2vec-finetuning</a></strong> to <a href='https://wandb.ai/dmusingu/LugandaASR-wav2vec' target=\"_blank\">Weights & Biases</a> (<a href='https://wandb.me/run' target=\"_blank\">docs</a>)<br/>"
            ],
            "text/plain": [
              "<IPython.core.display.HTML object>"
            ]
          },
          "metadata": {},
          "output_type": "display_data"
        },
        {
          "data": {
            "text/html": [
              " View project at <a href='https://wandb.ai/dmusingu/LugandaASR-wav2vec' target=\"_blank\">https://wandb.ai/dmusingu/LugandaASR-wav2vec</a>"
            ],
            "text/plain": [
              "<IPython.core.display.HTML object>"
            ]
          },
          "metadata": {},
          "output_type": "display_data"
        },
        {
          "data": {
            "text/html": [
              " View run at <a href='https://wandb.ai/dmusingu/LugandaASR-wav2vec/runs/t1a1adlc' target=\"_blank\">https://wandb.ai/dmusingu/LugandaASR-wav2vec/runs/t1a1adlc</a>"
            ],
            "text/plain": [
              "<IPython.core.display.HTML object>"
            ]
          },
          "metadata": {},
          "output_type": "display_data"
        },
        {
          "name": "stderr",
          "output_type": "stream",
          "text": [
            "/usr/local/lib/python3.10/dist-packages/transformers/models/wav2vec2/processing_wav2vec2.py:156: UserWarning: `as_target_processor` is deprecated and will be removed in v5 of Transformers. You can process your labels by using the argument `text` of the regular `__call__` method (either in the same call as your audio inputs, or in a separate call.\n",
            "  warnings.warn(\n",
            "/usr/local/lib/python3.10/dist-packages/torch/utils/checkpoint.py:429: UserWarning: torch.utils.checkpoint: please pass in use_reentrant=True or use_reentrant=False explicitly. The default value of use_reentrant will be updated to be False in the future. To maintain current behavior, pass use_reentrant=True. It is recommended that you use use_reentrant=False. Refer to docs for more details on the differences between the two variants.\n",
            "  warnings.warn(\n"
          ]
        },
        {
          "data": {
            "text/html": [
              "\n",
              "    <div>\n",
              "      \n",
              "      <progress value='7946' max='8340' style='width:300px; height:20px; vertical-align: middle;'></progress>\n",
              "      [7946/8340 6:15:05 < 18:36, 0.35 it/s, Epoch 57.16/60]\n",
              "    </div>\n",
              "    <table border=\"1\" class=\"dataframe\">\n",
              "  <thead>\n",
              " <tr style=\"text-align: left;\">\n",
              "      <th>Step</th>\n",
              "      <th>Training Loss</th>\n",
              "      <th>Validation Loss</th>\n",
              "      <th>Wer</th>\n",
              "    </tr>\n",
              "  </thead>\n",
              "  <tbody>\n",
              "    <tr>\n",
              "      <td>500</td>\n",
              "      <td>4.267500</td>\n",
              "      <td>1.999853</td>\n",
              "      <td>0.999869</td>\n",
              "    </tr>\n",
              "    <tr>\n",
              "      <td>1000</td>\n",
              "      <td>0.575400</td>\n",
              "      <td>0.697634</td>\n",
              "      <td>0.705035</td>\n",
              "    </tr>\n",
              "    <tr>\n",
              "      <td>1500</td>\n",
              "      <td>0.231000</td>\n",
              "      <td>0.615251</td>\n",
              "      <td>0.644045</td>\n",
              "    </tr>\n",
              "    <tr>\n",
              "      <td>2000</td>\n",
              "      <td>0.155700</td>\n",
              "      <td>0.658143</td>\n",
              "      <td>0.613043</td>\n",
              "    </tr>\n",
              "    <tr>\n",
              "      <td>2500</td>\n",
              "      <td>0.122100</td>\n",
              "      <td>0.671751</td>\n",
              "      <td>0.606266</td>\n",
              "    </tr>\n",
              "    <tr>\n",
              "      <td>3000</td>\n",
              "      <td>0.101300</td>\n",
              "      <td>0.671060</td>\n",
              "      <td>0.593433</td>\n",
              "    </tr>\n",
              "    <tr>\n",
              "      <td>3500</td>\n",
              "      <td>0.087100</td>\n",
              "      <td>0.672803</td>\n",
              "      <td>0.573070</td>\n",
              "    </tr>\n",
              "    <tr>\n",
              "      <td>4000</td>\n",
              "      <td>0.075100</td>\n",
              "      <td>0.672918</td>\n",
              "      <td>0.572612</td>\n",
              "    </tr>\n",
              "    <tr>\n",
              "      <td>4500</td>\n",
              "      <td>0.066600</td>\n",
              "      <td>0.688354</td>\n",
              "      <td>0.568945</td>\n",
              "    </tr>\n",
              "    <tr>\n",
              "      <td>5000</td>\n",
              "      <td>0.060400</td>\n",
              "      <td>0.745167</td>\n",
              "      <td>0.560859</td>\n",
              "    </tr>\n",
              "    <tr>\n",
              "      <td>5500</td>\n",
              "      <td>0.054300</td>\n",
              "      <td>0.730207</td>\n",
              "      <td>0.561579</td>\n",
              "    </tr>\n",
              "    <tr>\n",
              "      <td>6000</td>\n",
              "      <td>0.048800</td>\n",
              "      <td>0.741364</td>\n",
              "      <td>0.547993</td>\n",
              "    </tr>\n",
              "    <tr>\n",
              "      <td>6500</td>\n",
              "      <td>0.044800</td>\n",
              "      <td>0.766151</td>\n",
              "      <td>0.556047</td>\n",
              "    </tr>\n",
              "    <tr>\n",
              "      <td>7000</td>\n",
              "      <td>0.042000</td>\n",
              "      <td>0.762893</td>\n",
              "      <td>0.543312</td>\n",
              "    </tr>\n",
              "    <tr>\n",
              "      <td>7500</td>\n",
              "      <td>0.038000</td>\n",
              "      <td>0.758244</td>\n",
              "      <td>0.547895</td>\n",
              "    </tr>\n",
              "  </tbody>\n",
              "</table><p>"
            ],
            "text/plain": [
              "<IPython.core.display.HTML object>"
            ]
          },
          "metadata": {},
          "output_type": "display_data"
        },
        {
          "name": "stderr",
          "output_type": "stream",
          "text": [
            "/usr/local/lib/python3.10/dist-packages/transformers/models/wav2vec2/processing_wav2vec2.py:156: UserWarning: `as_target_processor` is deprecated and will be removed in v5 of Transformers. You can process your labels by using the argument `text` of the regular `__call__` method (either in the same call as your audio inputs, or in a separate call.\n",
            "  warnings.warn(\n",
            "/usr/local/lib/python3.10/dist-packages/torch/utils/checkpoint.py:429: UserWarning: torch.utils.checkpoint: please pass in use_reentrant=True or use_reentrant=False explicitly. The default value of use_reentrant will be updated to be False in the future. To maintain current behavior, pass use_reentrant=True. It is recommended that you use use_reentrant=False. Refer to docs for more details on the differences between the two variants.\n",
            "  warnings.warn(\n",
            "/usr/local/lib/python3.10/dist-packages/transformers/models/wav2vec2/processing_wav2vec2.py:156: UserWarning: `as_target_processor` is deprecated and will be removed in v5 of Transformers. You can process your labels by using the argument `text` of the regular `__call__` method (either in the same call as your audio inputs, or in a separate call.\n",
            "  warnings.warn(\n",
            "/usr/local/lib/python3.10/dist-packages/torch/utils/checkpoint.py:429: UserWarning: torch.utils.checkpoint: please pass in use_reentrant=True or use_reentrant=False explicitly. The default value of use_reentrant will be updated to be False in the future. To maintain current behavior, pass use_reentrant=True. It is recommended that you use use_reentrant=False. Refer to docs for more details on the differences between the two variants.\n",
            "  warnings.warn(\n",
            "/usr/local/lib/python3.10/dist-packages/transformers/models/wav2vec2/processing_wav2vec2.py:156: UserWarning: `as_target_processor` is deprecated and will be removed in v5 of Transformers. You can process your labels by using the argument `text` of the regular `__call__` method (either in the same call as your audio inputs, or in a separate call.\n",
            "  warnings.warn(\n",
            "/usr/local/lib/python3.10/dist-packages/torch/utils/checkpoint.py:429: UserWarning: torch.utils.checkpoint: please pass in use_reentrant=True or use_reentrant=False explicitly. The default value of use_reentrant will be updated to be False in the future. To maintain current behavior, pass use_reentrant=True. It is recommended that you use use_reentrant=False. Refer to docs for more details on the differences between the two variants.\n",
            "  warnings.warn(\n",
            "/usr/local/lib/python3.10/dist-packages/transformers/models/wav2vec2/processing_wav2vec2.py:156: UserWarning: `as_target_processor` is deprecated and will be removed in v5 of Transformers. You can process your labels by using the argument `text` of the regular `__call__` method (either in the same call as your audio inputs, or in a separate call.\n",
            "  warnings.warn(\n",
            "/usr/local/lib/python3.10/dist-packages/torch/utils/checkpoint.py:429: UserWarning: torch.utils.checkpoint: please pass in use_reentrant=True or use_reentrant=False explicitly. The default value of use_reentrant will be updated to be False in the future. To maintain current behavior, pass use_reentrant=True. It is recommended that you use use_reentrant=False. Refer to docs for more details on the differences between the two variants.\n",
            "  warnings.warn(\n",
            "/usr/local/lib/python3.10/dist-packages/transformers/models/wav2vec2/processing_wav2vec2.py:156: UserWarning: `as_target_processor` is deprecated and will be removed in v5 of Transformers. You can process your labels by using the argument `text` of the regular `__call__` method (either in the same call as your audio inputs, or in a separate call.\n",
            "  warnings.warn(\n",
            "/usr/local/lib/python3.10/dist-packages/torch/utils/checkpoint.py:429: UserWarning: torch.utils.checkpoint: please pass in use_reentrant=True or use_reentrant=False explicitly. The default value of use_reentrant will be updated to be False in the future. To maintain current behavior, pass use_reentrant=True. It is recommended that you use use_reentrant=False. Refer to docs for more details on the differences between the two variants.\n",
            "  warnings.warn(\n",
            "/usr/local/lib/python3.10/dist-packages/transformers/models/wav2vec2/processing_wav2vec2.py:156: UserWarning: `as_target_processor` is deprecated and will be removed in v5 of Transformers. You can process your labels by using the argument `text` of the regular `__call__` method (either in the same call as your audio inputs, or in a separate call.\n",
            "  warnings.warn(\n",
            "/usr/local/lib/python3.10/dist-packages/torch/utils/checkpoint.py:429: UserWarning: torch.utils.checkpoint: please pass in use_reentrant=True or use_reentrant=False explicitly. The default value of use_reentrant will be updated to be False in the future. To maintain current behavior, pass use_reentrant=True. It is recommended that you use use_reentrant=False. Refer to docs for more details on the differences between the two variants.\n",
            "  warnings.warn(\n",
            "/usr/local/lib/python3.10/dist-packages/transformers/models/wav2vec2/processing_wav2vec2.py:156: UserWarning: `as_target_processor` is deprecated and will be removed in v5 of Transformers. You can process your labels by using the argument `text` of the regular `__call__` method (either in the same call as your audio inputs, or in a separate call.\n",
            "  warnings.warn(\n",
            "/usr/local/lib/python3.10/dist-packages/torch/utils/checkpoint.py:429: UserWarning: torch.utils.checkpoint: please pass in use_reentrant=True or use_reentrant=False explicitly. The default value of use_reentrant will be updated to be False in the future. To maintain current behavior, pass use_reentrant=True. It is recommended that you use use_reentrant=False. Refer to docs for more details on the differences between the two variants.\n",
            "  warnings.warn(\n",
            "/usr/local/lib/python3.10/dist-packages/transformers/models/wav2vec2/processing_wav2vec2.py:156: UserWarning: `as_target_processor` is deprecated and will be removed in v5 of Transformers. You can process your labels by using the argument `text` of the regular `__call__` method (either in the same call as your audio inputs, or in a separate call.\n",
            "  warnings.warn(\n",
            "/usr/local/lib/python3.10/dist-packages/torch/utils/checkpoint.py:429: UserWarning: torch.utils.checkpoint: please pass in use_reentrant=True or use_reentrant=False explicitly. The default value of use_reentrant will be updated to be False in the future. To maintain current behavior, pass use_reentrant=True. It is recommended that you use use_reentrant=False. Refer to docs for more details on the differences between the two variants.\n",
            "  warnings.warn(\n",
            "/usr/local/lib/python3.10/dist-packages/transformers/models/wav2vec2/processing_wav2vec2.py:156: UserWarning: `as_target_processor` is deprecated and will be removed in v5 of Transformers. You can process your labels by using the argument `text` of the regular `__call__` method (either in the same call as your audio inputs, or in a separate call.\n",
            "  warnings.warn(\n",
            "/usr/local/lib/python3.10/dist-packages/torch/utils/checkpoint.py:429: UserWarning: torch.utils.checkpoint: please pass in use_reentrant=True or use_reentrant=False explicitly. The default value of use_reentrant will be updated to be False in the future. To maintain current behavior, pass use_reentrant=True. It is recommended that you use use_reentrant=False. Refer to docs for more details on the differences between the two variants.\n",
            "  warnings.warn(\n",
            "/usr/local/lib/python3.10/dist-packages/transformers/models/wav2vec2/processing_wav2vec2.py:156: UserWarning: `as_target_processor` is deprecated and will be removed in v5 of Transformers. You can process your labels by using the argument `text` of the regular `__call__` method (either in the same call as your audio inputs, or in a separate call.\n",
            "  warnings.warn(\n",
            "/usr/local/lib/python3.10/dist-packages/torch/utils/checkpoint.py:429: UserWarning: torch.utils.checkpoint: please pass in use_reentrant=True or use_reentrant=False explicitly. The default value of use_reentrant will be updated to be False in the future. To maintain current behavior, pass use_reentrant=True. It is recommended that you use use_reentrant=False. Refer to docs for more details on the differences between the two variants.\n",
            "  warnings.warn(\n",
            "/usr/local/lib/python3.10/dist-packages/transformers/models/wav2vec2/processing_wav2vec2.py:156: UserWarning: `as_target_processor` is deprecated and will be removed in v5 of Transformers. You can process your labels by using the argument `text` of the regular `__call__` method (either in the same call as your audio inputs, or in a separate call.\n",
            "  warnings.warn(\n",
            "/usr/local/lib/python3.10/dist-packages/torch/utils/checkpoint.py:429: UserWarning: torch.utils.checkpoint: please pass in use_reentrant=True or use_reentrant=False explicitly. The default value of use_reentrant will be updated to be False in the future. To maintain current behavior, pass use_reentrant=True. It is recommended that you use use_reentrant=False. Refer to docs for more details on the differences between the two variants.\n",
            "  warnings.warn(\n",
            "/usr/local/lib/python3.10/dist-packages/transformers/models/wav2vec2/processing_wav2vec2.py:156: UserWarning: `as_target_processor` is deprecated and will be removed in v5 of Transformers. You can process your labels by using the argument `text` of the regular `__call__` method (either in the same call as your audio inputs, or in a separate call.\n",
            "  warnings.warn(\n",
            "/usr/local/lib/python3.10/dist-packages/torch/utils/checkpoint.py:429: UserWarning: torch.utils.checkpoint: please pass in use_reentrant=True or use_reentrant=False explicitly. The default value of use_reentrant will be updated to be False in the future. To maintain current behavior, pass use_reentrant=True. It is recommended that you use use_reentrant=False. Refer to docs for more details on the differences between the two variants.\n",
            "  warnings.warn(\n",
            "/usr/local/lib/python3.10/dist-packages/transformers/models/wav2vec2/processing_wav2vec2.py:156: UserWarning: `as_target_processor` is deprecated and will be removed in v5 of Transformers. You can process your labels by using the argument `text` of the regular `__call__` method (either in the same call as your audio inputs, or in a separate call.\n",
            "  warnings.warn(\n",
            "/usr/local/lib/python3.10/dist-packages/torch/utils/checkpoint.py:429: UserWarning: torch.utils.checkpoint: please pass in use_reentrant=True or use_reentrant=False explicitly. The default value of use_reentrant will be updated to be False in the future. To maintain current behavior, pass use_reentrant=True. It is recommended that you use use_reentrant=False. Refer to docs for more details on the differences between the two variants.\n",
            "  warnings.warn(\n",
            "/usr/local/lib/python3.10/dist-packages/transformers/models/wav2vec2/processing_wav2vec2.py:156: UserWarning: `as_target_processor` is deprecated and will be removed in v5 of Transformers. You can process your labels by using the argument `text` of the regular `__call__` method (either in the same call as your audio inputs, or in a separate call.\n",
            "  warnings.warn(\n",
            "/usr/local/lib/python3.10/dist-packages/torch/utils/checkpoint.py:429: UserWarning: torch.utils.checkpoint: please pass in use_reentrant=True or use_reentrant=False explicitly. The default value of use_reentrant will be updated to be False in the future. To maintain current behavior, pass use_reentrant=True. It is recommended that you use use_reentrant=False. Refer to docs for more details on the differences between the two variants.\n",
            "  warnings.warn(\n",
            "/usr/local/lib/python3.10/dist-packages/transformers/models/wav2vec2/processing_wav2vec2.py:156: UserWarning: `as_target_processor` is deprecated and will be removed in v5 of Transformers. You can process your labels by using the argument `text` of the regular `__call__` method (either in the same call as your audio inputs, or in a separate call.\n",
            "  warnings.warn(\n",
            "/usr/local/lib/python3.10/dist-packages/torch/utils/checkpoint.py:429: UserWarning: torch.utils.checkpoint: please pass in use_reentrant=True or use_reentrant=False explicitly. The default value of use_reentrant will be updated to be False in the future. To maintain current behavior, pass use_reentrant=True. It is recommended that you use use_reentrant=False. Refer to docs for more details on the differences between the two variants.\n",
            "  warnings.warn(\n"
          ]
        },
        {
          "data": {
            "text/html": [
              "\n",
              "    <div>\n",
              "      \n",
              "      <progress value='8340' max='8340' style='width:300px; height:20px; vertical-align: middle;'></progress>\n",
              "      [8340/8340 6:34:09, Epoch 60/60]\n",
              "    </div>\n",
              "    <table border=\"1\" class=\"dataframe\">\n",
              "  <thead>\n",
              " <tr style=\"text-align: left;\">\n",
              "      <th>Step</th>\n",
              "      <th>Training Loss</th>\n",
              "      <th>Validation Loss</th>\n",
              "      <th>Wer</th>\n",
              "    </tr>\n",
              "  </thead>\n",
              "  <tbody>\n",
              "    <tr>\n",
              "      <td>500</td>\n",
              "      <td>4.267500</td>\n",
              "      <td>1.999853</td>\n",
              "      <td>0.999869</td>\n",
              "    </tr>\n",
              "    <tr>\n",
              "      <td>1000</td>\n",
              "      <td>0.575400</td>\n",
              "      <td>0.697634</td>\n",
              "      <td>0.705035</td>\n",
              "    </tr>\n",
              "    <tr>\n",
              "      <td>1500</td>\n",
              "      <td>0.231000</td>\n",
              "      <td>0.615251</td>\n",
              "      <td>0.644045</td>\n",
              "    </tr>\n",
              "    <tr>\n",
              "      <td>2000</td>\n",
              "      <td>0.155700</td>\n",
              "      <td>0.658143</td>\n",
              "      <td>0.613043</td>\n",
              "    </tr>\n",
              "    <tr>\n",
              "      <td>2500</td>\n",
              "      <td>0.122100</td>\n",
              "      <td>0.671751</td>\n",
              "      <td>0.606266</td>\n",
              "    </tr>\n",
              "    <tr>\n",
              "      <td>3000</td>\n",
              "      <td>0.101300</td>\n",
              "      <td>0.671060</td>\n",
              "      <td>0.593433</td>\n",
              "    </tr>\n",
              "    <tr>\n",
              "      <td>3500</td>\n",
              "      <td>0.087100</td>\n",
              "      <td>0.672803</td>\n",
              "      <td>0.573070</td>\n",
              "    </tr>\n",
              "    <tr>\n",
              "      <td>4000</td>\n",
              "      <td>0.075100</td>\n",
              "      <td>0.672918</td>\n",
              "      <td>0.572612</td>\n",
              "    </tr>\n",
              "    <tr>\n",
              "      <td>4500</td>\n",
              "      <td>0.066600</td>\n",
              "      <td>0.688354</td>\n",
              "      <td>0.568945</td>\n",
              "    </tr>\n",
              "    <tr>\n",
              "      <td>5000</td>\n",
              "      <td>0.060400</td>\n",
              "      <td>0.745167</td>\n",
              "      <td>0.560859</td>\n",
              "    </tr>\n",
              "    <tr>\n",
              "      <td>5500</td>\n",
              "      <td>0.054300</td>\n",
              "      <td>0.730207</td>\n",
              "      <td>0.561579</td>\n",
              "    </tr>\n",
              "    <tr>\n",
              "      <td>6000</td>\n",
              "      <td>0.048800</td>\n",
              "      <td>0.741364</td>\n",
              "      <td>0.547993</td>\n",
              "    </tr>\n",
              "    <tr>\n",
              "      <td>6500</td>\n",
              "      <td>0.044800</td>\n",
              "      <td>0.766151</td>\n",
              "      <td>0.556047</td>\n",
              "    </tr>\n",
              "    <tr>\n",
              "      <td>7000</td>\n",
              "      <td>0.042000</td>\n",
              "      <td>0.762893</td>\n",
              "      <td>0.543312</td>\n",
              "    </tr>\n",
              "    <tr>\n",
              "      <td>7500</td>\n",
              "      <td>0.038000</td>\n",
              "      <td>0.758244</td>\n",
              "      <td>0.547895</td>\n",
              "    </tr>\n",
              "    <tr>\n",
              "      <td>8000</td>\n",
              "      <td>0.035300</td>\n",
              "      <td>0.762177</td>\n",
              "      <td>0.542199</td>\n",
              "    </tr>\n",
              "  </tbody>\n",
              "</table><p>"
            ],
            "text/plain": [
              "<IPython.core.display.HTML object>"
            ]
          },
          "metadata": {},
          "output_type": "display_data"
        },
        {
          "name": "stderr",
          "output_type": "stream",
          "text": [
            "/usr/local/lib/python3.10/dist-packages/transformers/models/wav2vec2/processing_wav2vec2.py:156: UserWarning: `as_target_processor` is deprecated and will be removed in v5 of Transformers. You can process your labels by using the argument `text` of the regular `__call__` method (either in the same call as your audio inputs, or in a separate call.\n",
            "  warnings.warn(\n",
            "/usr/local/lib/python3.10/dist-packages/torch/utils/checkpoint.py:429: UserWarning: torch.utils.checkpoint: please pass in use_reentrant=True or use_reentrant=False explicitly. The default value of use_reentrant will be updated to be False in the future. To maintain current behavior, pass use_reentrant=True. It is recommended that you use use_reentrant=False. Refer to docs for more details on the differences between the two variants.\n",
            "  warnings.warn(\n"
          ]
        },
        {
          "data": {
            "application/vnd.jupyter.widget-view+json": {
              "model_id": "32ae65a1947645b9ab1755ee11bc65e5",
              "version_major": 2,
              "version_minor": 0
            },
            "text/plain": [
              "VBox(children=(Label(value='0.002 MB of 0.036 MB uploaded\\r'), FloatProgress(value=0.06400189090527089, max=1.…"
            ]
          },
          "metadata": {},
          "output_type": "display_data"
        },
        {
          "data": {
            "text/html": [
              "<style>\n",
              "    table.wandb td:nth-child(1) { padding: 0 10px; text-align: left ; width: auto;} td:nth-child(2) {text-align: left ; width: 100%}\n",
              "    .wandb-row { display: flex; flex-direction: row; flex-wrap: wrap; justify-content: flex-start; width: 100% }\n",
              "    .wandb-col { display: flex; flex-direction: column; flex-basis: 100%; flex: 1; padding: 10px; }\n",
              "    </style>\n",
              "<div class=\"wandb-row\"><div class=\"wandb-col\"><h3>Run history:</h3><br/><table class=\"wandb\"><tr><td>eval/loss</td><td>██▁▁▁▁▁▁▁▁▁▁▁▁▁▁▁▁▂▂▂▂▂▂▂▂▂▂▂▂▂▂</td></tr><tr><td>eval/runtime</td><td>██▄▄▄▄▄▄▅▅▅▅▆▆▆▆▆▆██▅▅▂▂▂▂▃▃▃▃▁▁</td></tr><tr><td>eval/samples_per_second</td><td>▁▁▅▅▅▅▅▅▄▄▄▄▃▃▃▃▃▃▁▁▄▄▇▇▇▇▆▆▆▆██</td></tr><tr><td>eval/steps_per_second</td><td>▁▁▅▅▅▅▅▅▄▄▄▄▃▃▃▃▃▃▁▁▄▄▇▇▇▇▆▆▆▆██</td></tr><tr><td>eval/wer</td><td>██▃▃▃▃▂▂▂▂▂▂▁▁▁▁▁▁▁▁▁▁▁▁▁▁▁▁▁▁▁▁</td></tr><tr><td>train/epoch</td><td>▁▁▁▁▁▂▂▂▂▂▃▃▃▃▃▄▄▄▄▄▅▅▅▅▅▅▅▆▆▆▆▆▇▇▇▇████</td></tr><tr><td>train/global_step</td><td>▁▁▁▁▁▂▂▂▂▂▃▃▃▃▃▄▄▄▄▄▅▅▅▅▅▅▅▆▆▆▆▆▇▇▇▇████</td></tr><tr><td>train/learning_rate</td><td>▄▄████▇▇▇▇▆▆▆▆▅▅▅▅▄▄▄▄▃▃▃▃▂▂▂▂▁▁</td></tr><tr><td>train/loss</td><td>██▂▂▁▁▁▁▁▁▁▁▁▁▁▁▁▁▁▁▁▁▁▁▁▁▁▁▁▁▁▁</td></tr><tr><td>train/total_flos</td><td>▁▁</td></tr><tr><td>train/train_loss</td><td>▁▁</td></tr><tr><td>train/train_runtime</td><td>▁▁</td></tr><tr><td>train/train_samples_per_second</td><td>▁▁</td></tr><tr><td>train/train_steps_per_second</td><td>▁▁</td></tr></table><br/></div><div class=\"wandb-col\"><h3>Run summary:</h3><br/><table class=\"wandb\"><tr><td>eval/loss</td><td>0.76218</td></tr><tr><td>eval/runtime</td><td>214.2001</td></tr><tr><td>eval/samples_per_second</td><td>19.963</td></tr><tr><td>eval/steps_per_second</td><td>2.498</td></tr><tr><td>eval/wer</td><td>0.5422</td></tr><tr><td>train/epoch</td><td>60.0</td></tr><tr><td>train/global_step</td><td>8340</td></tr><tr><td>train/learning_rate</td><td>0.0</td></tr><tr><td>train/loss</td><td>0.0353</td></tr><tr><td>train/total_flos</td><td>1.991286461060895e+19</td></tr><tr><td>train/train_loss</td><td>0.36144</td></tr><tr><td>train/train_runtime</td><td>23666.6015</td></tr><tr><td>train/train_samples_per_second</td><td>16.798</td></tr><tr><td>train/train_steps_per_second</td><td>0.352</td></tr></table><br/></div></div>"
            ],
            "text/plain": [
              "<IPython.core.display.HTML object>"
            ]
          },
          "metadata": {},
          "output_type": "display_data"
        },
        {
          "data": {
            "text/html": [
              " View run <strong style=\"color:#cdcd00\">wav2vec-finetuning</strong> at: <a href='https://wandb.ai/dmusingu/LugandaASR-wav2vec/runs/t1a1adlc' target=\"_blank\">https://wandb.ai/dmusingu/LugandaASR-wav2vec/runs/t1a1adlc</a><br/>Synced 5 W&B file(s), 0 media file(s), 0 artifact file(s) and 0 other file(s)"
            ],
            "text/plain": [
              "<IPython.core.display.HTML object>"
            ]
          },
          "metadata": {},
          "output_type": "display_data"
        },
        {
          "data": {
            "text/html": [
              "Find logs at: <code>./wandb/run-20240223_203610-t1a1adlc/logs</code>"
            ],
            "text/plain": [
              "<IPython.core.display.HTML object>"
            ]
          },
          "metadata": {},
          "output_type": "display_data"
        }
      ],
      "source": [
        "# Train the model\n",
        "trainer.train()\n",
        "wandb.finish()"
      ]
    },
    {
      "cell_type": "code",
      "execution_count": null,
      "metadata": {
        "colab": {
          "base_uri": "https://localhost:8080/",
          "height": 109
        },
        "id": "3QxxJEEt1C-W",
        "outputId": "d771b3da-10db-45b7-efe0-c1abdd5d648b"
      },
      "outputs": [
        {
          "data": {
            "application/vnd.google.colaboratory.intrinsic+json": {
              "type": "string"
            },
            "text/plain": [
              "CommitInfo(commit_url='https://huggingface.co/dmusingu/luganda_wav2vec2_ctc/commit/2c8b124fafa8c6e46cea736e5169d7dbce996d9c', commit_message='luganda_wav2vec2_ctc', commit_description='', oid='2c8b124fafa8c6e46cea736e5169d7dbce996d9c', pr_url=None, pr_revision=None, pr_num=None)"
            ]
          },
          "execution_count": 37,
          "metadata": {},
          "output_type": "execute_result"
        }
      ],
      "source": [
        "# Push the model to hub\n",
        "trainer.push_to_hub(repo_name)"
      ]
    },
    {
      "cell_type": "markdown",
      "metadata": {
        "id": "6rw7_wdL1C-W"
      },
      "source": [
        "### Testing"
      ]
    },
    {
      "cell_type": "code",
      "execution_count": null,
      "metadata": {
        "colab": {
          "base_uri": "https://localhost:8080/"
        },
        "id": "HBkmC3MbO3VY",
        "outputId": "92cca6f4-ad1f-474a-c51f-4bd178b63c4c"
      },
      "outputs": [
        {
          "name": "stderr",
          "output_type": "stream",
          "text": [
            "Special tokens have been added in the vocabulary, make sure the associated word embeddings are fine-tuned or trained.\n"
          ]
        }
      ],
      "source": [
        "processor = Wav2Vec2Processor.from_pretrained(repo_name)\n",
        "model = Wav2Vec2ForCTC.from_pretrained(repo_name)"
      ]
    },
    {
      "cell_type": "code",
      "execution_count": null,
      "metadata": {
        "id": "957WfCzzQaXY"
      },
      "outputs": [],
      "source": [
        "device = torch.device(\"cuda\" if torch.cuda.is_available() else \"cpu\")\n",
        "model = model.to(device)"
      ]
    },
    {
      "cell_type": "code",
      "execution_count": null,
      "metadata": {
        "colab": {
          "base_uri": "https://localhost:8080/",
          "height": 106,
          "referenced_widgets": [
            "57534faa346941c28f433fd8b44306c5",
            "67c31f37198f42598aafaf0b3f8ca6c0",
            "a0c897bd3f164de8a6b7d58df995a785",
            "53e49450a5234def8c6d45b6138027c2",
            "cfb37b50f4da4af4b6a9dbff68e10edd",
            "4e5cf4f045e54b5a9d67384e9a133247",
            "60a38932e80346e89b5f08ae631f905e",
            "18fdcdb5dcb9422db715eb37e09ab706",
            "ceb144bcd4564f14a8f018f729d93f2d",
            "e79217934b5243299bc4f826f3ae1a33",
            "17fa740c0b5246129607d2d805278a70"
          ]
        },
        "id": "-nsYsPPg1C-W",
        "outputId": "9add514f-52d2-403e-8ee5-1ba40dcc10a5"
      },
      "outputs": [
        {
          "name": "stderr",
          "output_type": "stream",
          "text": [
            "Parameter 'function'=<function map_to_result at 0x78eb5b6f7d00> of the transform datasets.arrow_dataset.Dataset._map_single couldn't be hashed properly, a random hash was used instead. Make sure your transforms and parameters are serializable with pickle or dill for the dataset fingerprinting and caching to work. If you reuse this transform, the caching mechanism will consider it to be different from the previous calls and recompute everything. This warning is only showed once. Subsequent hashing failures won't be showed.\n",
            "WARNING:datasets.fingerprint:Parameter 'function'=<function map_to_result at 0x78eb5b6f7d00> of the transform datasets.arrow_dataset.Dataset._map_single couldn't be hashed properly, a random hash was used instead. Make sure your transforms and parameters are serializable with pickle or dill for the dataset fingerprinting and caching to work. If you reuse this transform, the caching mechanism will consider it to be different from the previous calls and recompute everything. This warning is only showed once. Subsequent hashing failures won't be showed.\n"
          ]
        },
        {
          "data": {
            "application/vnd.jupyter.widget-view+json": {
              "model_id": "57534faa346941c28f433fd8b44306c5",
              "version_major": 2,
              "version_minor": 0
            },
            "text/plain": [
              "Map:   0%|          | 0/4276 [00:00<?, ? examples/s]"
            ]
          },
          "metadata": {},
          "output_type": "display_data"
        }
      ],
      "source": [
        "# Evaluation is carried out with a batch size of 1\n",
        "def map_to_result(batch):\n",
        "    with torch.no_grad():\n",
        "        input_values = torch.tensor(batch[\"input_values\"], device=\"cuda\").unsqueeze(0)\n",
        "        logits = model(input_values).logits\n",
        "\n",
        "    pred_ids = torch.argmax(logits, dim=-1)\n",
        "    batch[\"pred_str\"] = processor.batch_decode(pred_ids)[0]\n",
        "    batch[\"text\"] = processor.decode(batch[\"labels\"], group_tokens=False)\n",
        "\n",
        "    return batch\n",
        "\n",
        "results = luganda_test_dataset.map(map_to_result, remove_columns=luganda_test_dataset.column_names)"
      ]
    },
    {
      "cell_type": "code",
      "execution_count": null,
      "metadata": {
        "colab": {
          "base_uri": "https://localhost:8080/"
        },
        "id": "uSFudsoK1C-W",
        "outputId": "5c9c5765-fc5e-4d01-df6c-3b93437bf15b"
      },
      "outputs": [
        {
          "name": "stdout",
          "output_type": "stream",
          "text": [
            "Test WER: 0.456\n"
          ]
        }
      ],
      "source": [
        "print(\"Test WER: {:.3f}\".format(wer_metric.compute(predictions=results[\"pred_str\"], references=results[\"text\"])))\n",
        "print(\"Test CER: {:.3f}\".format(cer_metric.compute(predictions=results[\"pred_str\"], references=results[\"text\"])))"
      ]
    },
    {
      "cell_type": "code",
      "execution_count": null,
      "metadata": {
        "colab": {
          "base_uri": "https://localhost:8080/",
          "height": 1000
        },
        "id": "UsyUXKes1C-W",
        "outputId": "a9c1fa19-03d6-4634-be19-524d17a99238"
      },
      "outputs": [
        {
          "data": {
            "text/html": [
              "<table border=\"1\" class=\"dataframe\">\n",
              "  <thead>\n",
              "    <tr style=\"text-align: right;\">\n",
              "      <th></th>\n",
              "      <th>pred_str</th>\n",
              "      <th>text</th>\n",
              "    </tr>\n",
              "  </thead>\n",
              "  <tbody>\n",
              "    <tr>\n",
              "      <th>0</th>\n",
              "      <td>abazadde b'abayizi be baagoba ku ssomero bakiriza okukozesa emeeza abaana ze baayonoona</td>\n",
              "      <td>abazadde b'abayizi be baagoba ku ssomero bakkirizza okukozesa emmeeza abaana ze bayonoona</td>\n",
              "    </tr>\n",
              "    <tr>\n",
              "      <th>1</th>\n",
              "      <td>akaakantu kennyumidde nnyo bampi</td>\n",
              "      <td>ako akantu kakunyumidde nnyo bambi</td>\n",
              "    </tr>\n",
              "    <tr>\n",
              "      <th>2</th>\n",
              "      <td>abakulembeze ab'enjawulo beetabi mu musomo</td>\n",
              "      <td>abakulembeze ab'enjawulo beetabye mu musomo</td>\n",
              "    </tr>\n",
              "    <tr>\n",
              "      <th>3</th>\n",
              "      <td>ti mmy'odlwalinga gya mu kutti mwu esinga mu ntaunta</td>\n",
              "      <td>ttiimu ya proline y'emu ku ttiimu ezisinga mu uganda</td>\n",
              "    </tr>\n",
              "    <tr>\n",
              "      <th>4</th>\n",
              "      <td>buzi bu ki obuvo mu kufumbo obw'ekito</td>\n",
              "      <td>buzibu ki obuva mu bufumbo bw'ekito</td>\n",
              "    </tr>\n",
              "    <tr>\n",
              "      <th>5</th>\n",
              "      <td>omukulembeze omulungi 'oyo ategeera ebizibu byabo baakulembera</td>\n",
              "      <td>omukulembeze omulungi y'oyo ategeera ebizibu by'abo b'akulembera</td>\n",
              "    </tr>\n",
              "    <tr>\n",
              "      <th>6</th>\n",
              "      <td>maama wange amayi okuboobeza emmere</td>\n",
              "      <td>maama wange amanyi okuboobeza emmere</td>\n",
              "    </tr>\n",
              "    <tr>\n",
              "      <th>7</th>\n",
              "      <td>ensi ezimu ze tugenda okukoleramu olwayo yannungi mu ndabikonaye ebikolebwayo gya ttabbu</td>\n",
              "      <td>ensi ezimu ze tugenda okukoleramu obwa yaaya nnungi mu ndabika naye ebikolebwayo bya ttabu</td>\n",
              "    </tr>\n",
              "    <tr>\n",
              "      <th>8</th>\n",
              "      <td>entampuzider etelababanti okuvuumi bifo biitabwe erebaagennda mu lokipe biriemw'edddembe</td>\n",
              "      <td>entalo zireetera abantu okuva mu bifo byabwe ne bagenda mu bifo ebirimu eddembe</td>\n",
              "    </tr>\n",
              "    <tr>\n",
              "      <th>9</th>\n",
              "      <td>omutamiivu abeera nga te yeebasse naye ngaategeera bulungi nnya</td>\n",
              "      <td>omutamiivu abeera nga eyeebase naye nga ategeera bulungi nnyo</td>\n",
              "    </tr>\n",
              "    <tr>\n",
              "      <th>10</th>\n",
              "      <td>abalenzi abo bambala bulungi nga bagenda mu ootelya ennungi</td>\n",
              "      <td>abalenzi abo bambala bulungi nga bagenda mu wooteeri ennungi</td>\n",
              "    </tr>\n",
              "    <tr>\n",
              "      <th>11</th>\n",
              "      <td>mma nga omoto wayagala nnyo okweraaku za ena ye nsonga lwaki maku nnyo</td>\n",
              "      <td>mmange omuto ayagala nnyo okweraguza era y'ensonga lwaki mwavu nnyo</td>\n",
              "    </tr>\n",
              "    <tr>\n",
              "      <th>12</th>\n",
              "      <td>ffine tuli kimu ne w'nkubadde tulina enjawulo</td>\n",
              "      <td>ffenna tuli kimu newankubadde tulina enjawulo</td>\n",
              "    </tr>\n",
              "    <tr>\n",
              "      <th>13</th>\n",
              "      <td>basabe gavumenti okuyamba okutegekawo amakolero mu kitundu</td>\n",
              "      <td>baasabye gavumenti okubayamba okutegekawo amakolero mu kitundu</td>\n",
              "    </tr>\n",
              "    <tr>\n",
              "      <th>14</th>\n",
              "      <td>abantu bangi mu byalo baavu</td>\n",
              "      <td>abantu bangi mu byalo baavu</td>\n",
              "    </tr>\n",
              "    <tr>\n",
              "      <th>15</th>\n",
              "      <td>abaaleeta omwana eyali ezaalibwa omugenzi ebbali baali bakambwe</td>\n",
              "      <td>abaaleeta omwana eyali yazaalibwa omugenzi ebbali baali bakambwe</td>\n",
              "    </tr>\n",
              "    <tr>\n",
              "      <th>16</th>\n",
              "      <td>ebyebo gwalinda bibbuuro mu kitundu</td>\n",
              "      <td>ebyokwerinda bibi mu kitundu</td>\n",
              "    </tr>\n",
              "    <tr>\n",
              "      <th>17</th>\n",
              "      <td>ng'omukozi ouyina kukolira etteeka lya kampuni</td>\n",
              "      <td>nga omukozi olina okugondera etteeka lya kkampuni</td>\n",
              "    </tr>\n",
              "    <tr>\n",
              "      <th>18</th>\n",
              "      <td>abantu bangi bayingira mu bugumu ly'ebiovuzzi mu ggwanga</td>\n",
              "      <td>abantu bangi bayingira mu bbugumu ly'ebyobufuzi mu ggwanga</td>\n",
              "    </tr>\n",
              "    <tr>\n",
              "      <th>19</th>\n",
              "      <td>abazadde balina okusasula ebisale by'essomero</td>\n",
              "      <td>abazadde balina okusasula ebisale by'essomero</td>\n",
              "    </tr>\n",
              "    <tr>\n",
              "      <th>20</th>\n",
              "      <td>abapoliisi abasinga babeera mu nukambi</td>\n",
              "      <td>abapoliisi abasinga babeera mu nkambi</td>\n",
              "    </tr>\n",
              "    <tr>\n",
              "      <th>21</th>\n",
              "      <td>okulunda enjuki kusobola okukolera ssente oba okufuuka bizininsi yo</td>\n",
              "      <td>okulunda enjuki kusobola okkukolera ssente oba okufuuka bizinesi yo</td>\n",
              "    </tr>\n",
              "    <tr>\n",
              "      <th>22</th>\n",
              "      <td>bwe yavemmangu yagenda okwekwatakwata ng'ebisomulu zo tabirabo</td>\n",
              "      <td>bwe yava emmanju yagenda okwekwatakwata nga ebisumuluzo tabiraba</td>\n",
              "    </tr>\n",
              "    <tr>\n",
              "      <th>23</th>\n",
              "      <td>ebabuganye abangi ye omyekka ya wankula</td>\n",
              "      <td>mu bavuganya abangi omu yekka y'awangula</td>\n",
              "    </tr>\n",
              "    <tr>\n",
              "      <th>24</th>\n",
              "      <td>ensasula ennungi esobola okuzzaamu abasawo amayi</td>\n",
              "      <td>ensasula ennungi esobola okuzzaamu abasawo amaanyi</td>\n",
              "    </tr>\n",
              "    <tr>\n",
              "      <th>25</th>\n",
              "      <td>abakulembeze b'ekitundu bateeseza olunakubaabulungi bwansi buli wiiki</td>\n",
              "      <td>abakulembeze b'ekitundu bateesezza olunaku lwa bulungibwansi buli wiiki</td>\n",
              "    </tr>\n",
              "    <tr>\n",
              "      <th>26</th>\n",
              "      <td>buutu y'emmotoka eyakazipwako eya kikere eri mu maasi ewabeera yingini</td>\n",
              "      <td>bbuutu y'emmotoka eyakazibwako eya kikere eri mu maaso ewabeera yingini</td>\n",
              "    </tr>\n",
              "    <tr>\n",
              "      <th>27</th>\n",
              "      <td>wakyalibo okweyongera mu bukene nu zzi mu gavumenti</td>\n",
              "      <td>wakyaliwo okweyongera mu bukenenuzi mu gavumenti</td>\n",
              "    </tr>\n",
              "    <tr>\n",
              "      <th>28</th>\n",
              "      <td>twagamba pulezidinti ku byobulamu ebibi mu kitundu kyaffe</td>\n",
              "      <td>twagamba pulezidenti ku byobulamu ebibi mu kitundu kyaffe</td>\n",
              "    </tr>\n",
              "    <tr>\n",
              "      <th>29</th>\n",
              "      <td>baanamaama wange ayagala nnyo abaana</td>\n",
              "      <td>maama wange ayagala nnyo abaana</td>\n",
              "    </tr>\n",
              "  </tbody>\n",
              "</table>"
            ],
            "text/plain": [
              "<IPython.core.display.HTML object>"
            ]
          },
          "metadata": {},
          "output_type": "display_data"
        }
      ],
      "source": [
        "# Chech the errors made by the model\n",
        "show_random_elements(results)"
      ]
    },
    {
      "cell_type": "markdown",
      "metadata": {
        "id": "d2-W2N3DRx0G"
      },
      "source": [
        "From the output above we can make the following observations\n",
        "1. The model finds it difficult to predict the position of the ' which plays a significant role in Luganda.\n",
        "2. The wav2vec model was pretrained on English which has a different morphology from Luganda and this could could be one of the possible causes of the high WER on the test set. More experiments need to be carried out to prove if this is the case.\n",
        "3. The predictions made by the model separates words that should be combined in Luganda.\n",
        "4. In some instances the model separates words that should be combined.\n",
        "5. Training for multiple epochs results in overfitting. There is no significant improvement in model performance after 4000 steps.\n",
        "6. The performance of the modek could be improved by adding a language model."
      ]
    },
    {
      "cell_type": "code",
      "execution_count": null,
      "metadata": {
        "id": "nxicyCVzR8wp"
      },
      "outputs": [],
      "source": []
    }
  ],
  "metadata": {
    "accelerator": "GPU",
    "colab": {
      "gpuType": "V100",
      "machine_shape": "hm",
      "provenance": []
    },
    "kernelspec": {
      "display_name": "Python 3",
      "name": "python3"
    },
    "language_info": {
      "codemirror_mode": {
        "name": "ipython",
        "version": 3
      },
      "file_extension": ".py",
      "mimetype": "text/x-python",
      "name": "python",
      "nbconvert_exporter": "python",
      "pygments_lexer": "ipython3",
      "version": "3.8.18"
    },
    "widgets": {
      "application/vnd.jupyter.widget-state+json": {
        "03fe1d50cdd249a8be33f7c06fe5232b": {
          "model_module": "@jupyter-widgets/controls",
          "model_module_version": "1.5.0",
          "model_name": "HTMLModel",
          "state": {
            "_dom_classes": [],
            "_model_module": "@jupyter-widgets/controls",
            "_model_module_version": "1.5.0",
            "_model_name": "HTMLModel",
            "_view_count": null,
            "_view_module": "@jupyter-widgets/controls",
            "_view_module_version": "1.5.0",
            "_view_name": "HTMLView",
            "description": "",
            "description_tooltip": null,
            "layout": "IPY_MODEL_8e65090d70f44c64a485155ba757d032",
            "placeholder": "​",
            "style": "IPY_MODEL_a5d87875ba66476b81d9a0eef91f063b",
            "value": "\n<b>Pro Tip:</b> If you don't already have one, you can create a dedicated\n'notebooks' token with 'write' access, that you can then easily reuse for all\nnotebooks. </center>"
          }
        },
        "08f5335cd25247cc862a9cba6d918438": {
          "model_module": "@jupyter-widgets/base",
          "model_module_version": "1.2.0",
          "model_name": "LayoutModel",
          "state": {
            "_model_module": "@jupyter-widgets/base",
            "_model_module_version": "1.2.0",
            "_model_name": "LayoutModel",
            "_view_count": null,
            "_view_module": "@jupyter-widgets/base",
            "_view_module_version": "1.2.0",
            "_view_name": "LayoutView",
            "align_content": null,
            "align_items": null,
            "align_self": null,
            "border": null,
            "bottom": null,
            "display": null,
            "flex": null,
            "flex_flow": null,
            "grid_area": null,
            "grid_auto_columns": null,
            "grid_auto_flow": null,
            "grid_auto_rows": null,
            "grid_column": null,
            "grid_gap": null,
            "grid_row": null,
            "grid_template_areas": null,
            "grid_template_columns": null,
            "grid_template_rows": null,
            "height": null,
            "justify_content": null,
            "justify_items": null,
            "left": null,
            "margin": null,
            "max_height": null,
            "max_width": null,
            "min_height": null,
            "min_width": null,
            "object_fit": null,
            "object_position": null,
            "order": null,
            "overflow": null,
            "overflow_x": null,
            "overflow_y": null,
            "padding": null,
            "right": null,
            "top": null,
            "visibility": null,
            "width": null
          }
        },
        "0911de414983468a8bc5a6a76611726e": {
          "model_module": "@jupyter-widgets/base",
          "model_module_version": "1.2.0",
          "model_name": "LayoutModel",
          "state": {
            "_model_module": "@jupyter-widgets/base",
            "_model_module_version": "1.2.0",
            "_model_name": "LayoutModel",
            "_view_count": null,
            "_view_module": "@jupyter-widgets/base",
            "_view_module_version": "1.2.0",
            "_view_name": "LayoutView",
            "align_content": null,
            "align_items": null,
            "align_self": null,
            "border": null,
            "bottom": null,
            "display": null,
            "flex": null,
            "flex_flow": null,
            "grid_area": null,
            "grid_auto_columns": null,
            "grid_auto_flow": null,
            "grid_auto_rows": null,
            "grid_column": null,
            "grid_gap": null,
            "grid_row": null,
            "grid_template_areas": null,
            "grid_template_columns": null,
            "grid_template_rows": null,
            "height": null,
            "justify_content": null,
            "justify_items": null,
            "left": null,
            "margin": null,
            "max_height": null,
            "max_width": null,
            "min_height": null,
            "min_width": null,
            "object_fit": null,
            "object_position": null,
            "order": null,
            "overflow": null,
            "overflow_x": null,
            "overflow_y": null,
            "padding": null,
            "right": null,
            "top": null,
            "visibility": null,
            "width": null
          }
        },
        "0af95674cc7f42c5b06cdc31201d2101": {
          "model_module": "@jupyter-widgets/controls",
          "model_module_version": "1.5.0",
          "model_name": "HTMLModel",
          "state": {
            "_dom_classes": [],
            "_model_module": "@jupyter-widgets/controls",
            "_model_module_version": "1.5.0",
            "_model_name": "HTMLModel",
            "_view_count": null,
            "_view_module": "@jupyter-widgets/controls",
            "_view_module_version": "1.5.0",
            "_view_name": "HTMLView",
            "description": "",
            "description_tooltip": null,
            "layout": "IPY_MODEL_4e54c4a96c8c4744a2005bf5c40ec131",
            "placeholder": "​",
            "style": "IPY_MODEL_88b6f8f0c63c4cd4bf4a84975508e4ed",
            "value": "Map: 100%"
          }
        },
        "0c9381003a264c39a39ba73210d1f138": {
          "model_module": "@jupyter-widgets/controls",
          "model_module_version": "1.5.0",
          "model_name": "DescriptionStyleModel",
          "state": {
            "_model_module": "@jupyter-widgets/controls",
            "_model_module_version": "1.5.0",
            "_model_name": "DescriptionStyleModel",
            "_view_count": null,
            "_view_module": "@jupyter-widgets/base",
            "_view_module_version": "1.2.0",
            "_view_name": "StyleView",
            "description_width": ""
          }
        },
        "110c6cc464d04f2596768a48e2598982": {
          "model_module": "@jupyter-widgets/controls",
          "model_module_version": "1.5.0",
          "model_name": "DescriptionStyleModel",
          "state": {
            "_model_module": "@jupyter-widgets/controls",
            "_model_module_version": "1.5.0",
            "_model_name": "DescriptionStyleModel",
            "_view_count": null,
            "_view_module": "@jupyter-widgets/base",
            "_view_module_version": "1.2.0",
            "_view_name": "StyleView",
            "description_width": ""
          }
        },
        "15914989460147a2b3b3168456e89ef0": {
          "model_module": "@jupyter-widgets/controls",
          "model_module_version": "1.5.0",
          "model_name": "ButtonStyleModel",
          "state": {
            "_model_module": "@jupyter-widgets/controls",
            "_model_module_version": "1.5.0",
            "_model_name": "ButtonStyleModel",
            "_view_count": null,
            "_view_module": "@jupyter-widgets/base",
            "_view_module_version": "1.2.0",
            "_view_name": "StyleView",
            "button_color": null,
            "font_weight": ""
          }
        },
        "17e35153b77f457894e97a8b6c7bfc32": {
          "model_module": "@jupyter-widgets/base",
          "model_module_version": "1.2.0",
          "model_name": "LayoutModel",
          "state": {
            "_model_module": "@jupyter-widgets/base",
            "_model_module_version": "1.2.0",
            "_model_name": "LayoutModel",
            "_view_count": null,
            "_view_module": "@jupyter-widgets/base",
            "_view_module_version": "1.2.0",
            "_view_name": "LayoutView",
            "align_content": null,
            "align_items": null,
            "align_self": null,
            "border": null,
            "bottom": null,
            "display": null,
            "flex": null,
            "flex_flow": null,
            "grid_area": null,
            "grid_auto_columns": null,
            "grid_auto_flow": null,
            "grid_auto_rows": null,
            "grid_column": null,
            "grid_gap": null,
            "grid_row": null,
            "grid_template_areas": null,
            "grid_template_columns": null,
            "grid_template_rows": null,
            "height": null,
            "justify_content": null,
            "justify_items": null,
            "left": null,
            "margin": null,
            "max_height": null,
            "max_width": null,
            "min_height": null,
            "min_width": null,
            "object_fit": null,
            "object_position": null,
            "order": null,
            "overflow": null,
            "overflow_x": null,
            "overflow_y": null,
            "padding": null,
            "right": null,
            "top": null,
            "visibility": null,
            "width": null
          }
        },
        "17fa740c0b5246129607d2d805278a70": {
          "model_module": "@jupyter-widgets/controls",
          "model_module_version": "1.5.0",
          "model_name": "DescriptionStyleModel",
          "state": {
            "_model_module": "@jupyter-widgets/controls",
            "_model_module_version": "1.5.0",
            "_model_name": "DescriptionStyleModel",
            "_view_count": null,
            "_view_module": "@jupyter-widgets/base",
            "_view_module_version": "1.2.0",
            "_view_name": "StyleView",
            "description_width": ""
          }
        },
        "18fdcdb5dcb9422db715eb37e09ab706": {
          "model_module": "@jupyter-widgets/base",
          "model_module_version": "1.2.0",
          "model_name": "LayoutModel",
          "state": {
            "_model_module": "@jupyter-widgets/base",
            "_model_module_version": "1.2.0",
            "_model_name": "LayoutModel",
            "_view_count": null,
            "_view_module": "@jupyter-widgets/base",
            "_view_module_version": "1.2.0",
            "_view_name": "LayoutView",
            "align_content": null,
            "align_items": null,
            "align_self": null,
            "border": null,
            "bottom": null,
            "display": null,
            "flex": null,
            "flex_flow": null,
            "grid_area": null,
            "grid_auto_columns": null,
            "grid_auto_flow": null,
            "grid_auto_rows": null,
            "grid_column": null,
            "grid_gap": null,
            "grid_row": null,
            "grid_template_areas": null,
            "grid_template_columns": null,
            "grid_template_rows": null,
            "height": null,
            "justify_content": null,
            "justify_items": null,
            "left": null,
            "margin": null,
            "max_height": null,
            "max_width": null,
            "min_height": null,
            "min_width": null,
            "object_fit": null,
            "object_position": null,
            "order": null,
            "overflow": null,
            "overflow_x": null,
            "overflow_y": null,
            "padding": null,
            "right": null,
            "top": null,
            "visibility": null,
            "width": null
          }
        },
        "193732c2b0784924b670ee328c50aa77": {
          "model_module": "@jupyter-widgets/controls",
          "model_module_version": "1.5.0",
          "model_name": "HTMLModel",
          "state": {
            "_dom_classes": [],
            "_model_module": "@jupyter-widgets/controls",
            "_model_module_version": "1.5.0",
            "_model_name": "HTMLModel",
            "_view_count": null,
            "_view_module": "@jupyter-widgets/controls",
            "_view_module_version": "1.5.0",
            "_view_name": "HTMLView",
            "description": "",
            "description_tooltip": null,
            "layout": "IPY_MODEL_730f0f5c0e674d86b9c1447fc46f4d3f",
            "placeholder": "​",
            "style": "IPY_MODEL_7b05f5bc41ef47d48918d12125a9ca65",
            "value": " 3549/3549 [00:00&lt;00:00, 150509.95 examples/s]"
          }
        },
        "1a28b0d1a3bc4a399b1feb099b854c3b": {
          "model_module": "@jupyter-widgets/controls",
          "model_module_version": "1.5.0",
          "model_name": "HBoxModel",
          "state": {
            "_dom_classes": [],
            "_model_module": "@jupyter-widgets/controls",
            "_model_module_version": "1.5.0",
            "_model_name": "HBoxModel",
            "_view_count": null,
            "_view_module": "@jupyter-widgets/controls",
            "_view_module_version": "1.5.0",
            "_view_name": "HBoxView",
            "box_style": "",
            "children": [
              "IPY_MODEL_bf97ad5cbdd0478c8c93fbbaf5b80d32",
              "IPY_MODEL_7a1c55962cac4fb9b6eec71d6db439ac",
              "IPY_MODEL_87a4480115dc4073a1a638fbd2040d7a"
            ],
            "layout": "IPY_MODEL_08f5335cd25247cc862a9cba6d918438"
          }
        },
        "24e9756852684e98ba6ae15f178bc421": {
          "model_module": "@jupyter-widgets/base",
          "model_module_version": "1.2.0",
          "model_name": "LayoutModel",
          "state": {
            "_model_module": "@jupyter-widgets/base",
            "_model_module_version": "1.2.0",
            "_model_name": "LayoutModel",
            "_view_count": null,
            "_view_module": "@jupyter-widgets/base",
            "_view_module_version": "1.2.0",
            "_view_name": "LayoutView",
            "align_content": null,
            "align_items": null,
            "align_self": null,
            "border": null,
            "bottom": null,
            "display": null,
            "flex": null,
            "flex_flow": null,
            "grid_area": null,
            "grid_auto_columns": null,
            "grid_auto_flow": null,
            "grid_auto_rows": null,
            "grid_column": null,
            "grid_gap": null,
            "grid_row": null,
            "grid_template_areas": null,
            "grid_template_columns": null,
            "grid_template_rows": null,
            "height": null,
            "justify_content": null,
            "justify_items": null,
            "left": null,
            "margin": null,
            "max_height": null,
            "max_width": null,
            "min_height": null,
            "min_width": null,
            "object_fit": null,
            "object_position": null,
            "order": null,
            "overflow": null,
            "overflow_x": null,
            "overflow_y": null,
            "padding": null,
            "right": null,
            "top": null,
            "visibility": null,
            "width": null
          }
        },
        "262839cbb796413388f721f08b53b333": {
          "model_module": "@jupyter-widgets/base",
          "model_module_version": "1.2.0",
          "model_name": "LayoutModel",
          "state": {
            "_model_module": "@jupyter-widgets/base",
            "_model_module_version": "1.2.0",
            "_model_name": "LayoutModel",
            "_view_count": null,
            "_view_module": "@jupyter-widgets/base",
            "_view_module_version": "1.2.0",
            "_view_name": "LayoutView",
            "align_content": null,
            "align_items": null,
            "align_self": null,
            "border": null,
            "bottom": null,
            "display": null,
            "flex": null,
            "flex_flow": null,
            "grid_area": null,
            "grid_auto_columns": null,
            "grid_auto_flow": null,
            "grid_auto_rows": null,
            "grid_column": null,
            "grid_gap": null,
            "grid_row": null,
            "grid_template_areas": null,
            "grid_template_columns": null,
            "grid_template_rows": null,
            "height": null,
            "justify_content": null,
            "justify_items": null,
            "left": null,
            "margin": null,
            "max_height": null,
            "max_width": null,
            "min_height": null,
            "min_width": null,
            "object_fit": null,
            "object_position": null,
            "order": null,
            "overflow": null,
            "overflow_x": null,
            "overflow_y": null,
            "padding": null,
            "right": null,
            "top": null,
            "visibility": null,
            "width": null
          }
        },
        "290e5e3286f14682bbcc47e3cbe5c205": {
          "model_module": "@jupyter-widgets/controls",
          "model_module_version": "1.5.0",
          "model_name": "DescriptionStyleModel",
          "state": {
            "_model_module": "@jupyter-widgets/controls",
            "_model_module_version": "1.5.0",
            "_model_name": "DescriptionStyleModel",
            "_view_count": null,
            "_view_module": "@jupyter-widgets/base",
            "_view_module_version": "1.2.0",
            "_view_name": "StyleView",
            "description_width": ""
          }
        },
        "2a55ff262e91438facf99279c25c194a": {
          "model_module": "@jupyter-widgets/base",
          "model_module_version": "1.2.0",
          "model_name": "LayoutModel",
          "state": {
            "_model_module": "@jupyter-widgets/base",
            "_model_module_version": "1.2.0",
            "_model_name": "LayoutModel",
            "_view_count": null,
            "_view_module": "@jupyter-widgets/base",
            "_view_module_version": "1.2.0",
            "_view_name": "LayoutView",
            "align_content": null,
            "align_items": null,
            "align_self": null,
            "border": null,
            "bottom": null,
            "display": null,
            "flex": null,
            "flex_flow": null,
            "grid_area": null,
            "grid_auto_columns": null,
            "grid_auto_flow": null,
            "grid_auto_rows": null,
            "grid_column": null,
            "grid_gap": null,
            "grid_row": null,
            "grid_template_areas": null,
            "grid_template_columns": null,
            "grid_template_rows": null,
            "height": null,
            "justify_content": null,
            "justify_items": null,
            "left": null,
            "margin": null,
            "max_height": null,
            "max_width": null,
            "min_height": null,
            "min_width": null,
            "object_fit": null,
            "object_position": null,
            "order": null,
            "overflow": null,
            "overflow_x": null,
            "overflow_y": null,
            "padding": null,
            "right": null,
            "top": null,
            "visibility": null,
            "width": null
          }
        },
        "2d721ff984e44cc99c3f46980e4debb8": {
          "model_module": "@jupyter-widgets/controls",
          "model_module_version": "1.5.0",
          "model_name": "HTMLModel",
          "state": {
            "_dom_classes": [],
            "_model_module": "@jupyter-widgets/controls",
            "_model_module_version": "1.5.0",
            "_model_name": "HTMLModel",
            "_view_count": null,
            "_view_module": "@jupyter-widgets/controls",
            "_view_module_version": "1.5.0",
            "_view_name": "HTMLView",
            "description": "",
            "description_tooltip": null,
            "layout": "IPY_MODEL_ec794a8ade2f444994b74576d2ceca10",
            "placeholder": "​",
            "style": "IPY_MODEL_3d9c11362fe24c929477a8ae78d7bd75",
            "value": " 29407/29407 [00:00&lt;00:00, 357521.04 examples/s]"
          }
        },
        "3218240a97504afd84622eacfdda41b5": {
          "model_module": "@jupyter-widgets/base",
          "model_module_version": "1.2.0",
          "model_name": "LayoutModel",
          "state": {
            "_model_module": "@jupyter-widgets/base",
            "_model_module_version": "1.2.0",
            "_model_name": "LayoutModel",
            "_view_count": null,
            "_view_module": "@jupyter-widgets/base",
            "_view_module_version": "1.2.0",
            "_view_name": "LayoutView",
            "align_content": null,
            "align_items": null,
            "align_self": null,
            "border": null,
            "bottom": null,
            "display": null,
            "flex": null,
            "flex_flow": null,
            "grid_area": null,
            "grid_auto_columns": null,
            "grid_auto_flow": null,
            "grid_auto_rows": null,
            "grid_column": null,
            "grid_gap": null,
            "grid_row": null,
            "grid_template_areas": null,
            "grid_template_columns": null,
            "grid_template_rows": null,
            "height": null,
            "justify_content": null,
            "justify_items": null,
            "left": null,
            "margin": null,
            "max_height": null,
            "max_width": null,
            "min_height": null,
            "min_width": null,
            "object_fit": null,
            "object_position": null,
            "order": null,
            "overflow": null,
            "overflow_x": null,
            "overflow_y": null,
            "padding": null,
            "right": null,
            "top": null,
            "visibility": null,
            "width": null
          }
        },
        "32ae65a1947645b9ab1755ee11bc65e5": {
          "model_module": "@jupyter-widgets/controls",
          "model_module_version": "1.5.0",
          "model_name": "VBoxModel",
          "state": {
            "_dom_classes": [],
            "_model_module": "@jupyter-widgets/controls",
            "_model_module_version": "1.5.0",
            "_model_name": "VBoxModel",
            "_view_count": null,
            "_view_module": "@jupyter-widgets/controls",
            "_view_module_version": "1.5.0",
            "_view_name": "VBoxView",
            "box_style": "",
            "children": [
              "IPY_MODEL_fa16c560cdbc4e33adbe558648193f5d",
              "IPY_MODEL_97a3ba1f611a479c920d4e8f72ed1a85"
            ],
            "layout": "IPY_MODEL_414db8ba85e74a2995d17ca10ff01d6f"
          }
        },
        "358bb5ef8c4947fba7c384bc4da65b8f": {
          "model_module": "@jupyter-widgets/controls",
          "model_module_version": "1.5.0",
          "model_name": "LabelModel",
          "state": {
            "_dom_classes": [],
            "_model_module": "@jupyter-widgets/controls",
            "_model_module_version": "1.5.0",
            "_model_name": "LabelModel",
            "_view_count": null,
            "_view_module": "@jupyter-widgets/controls",
            "_view_module_version": "1.5.0",
            "_view_name": "LabelView",
            "description": "",
            "description_tooltip": null,
            "layout": "IPY_MODEL_6f4d3539807e465eabe26e2002a048e4",
            "placeholder": "​",
            "style": "IPY_MODEL_ae33cf0f50f2494396e72ee82babaaff",
            "value": "Your token has been saved to /root/.cache/huggingface/token"
          }
        },
        "3d08abd8b0204dc88970710f7de8c0f5": {
          "model_module": "@jupyter-widgets/base",
          "model_module_version": "1.2.0",
          "model_name": "LayoutModel",
          "state": {
            "_model_module": "@jupyter-widgets/base",
            "_model_module_version": "1.2.0",
            "_model_name": "LayoutModel",
            "_view_count": null,
            "_view_module": "@jupyter-widgets/base",
            "_view_module_version": "1.2.0",
            "_view_name": "LayoutView",
            "align_content": null,
            "align_items": null,
            "align_self": null,
            "border": null,
            "bottom": null,
            "display": null,
            "flex": null,
            "flex_flow": null,
            "grid_area": null,
            "grid_auto_columns": null,
            "grid_auto_flow": null,
            "grid_auto_rows": null,
            "grid_column": null,
            "grid_gap": null,
            "grid_row": null,
            "grid_template_areas": null,
            "grid_template_columns": null,
            "grid_template_rows": null,
            "height": null,
            "justify_content": null,
            "justify_items": null,
            "left": null,
            "margin": null,
            "max_height": null,
            "max_width": null,
            "min_height": null,
            "min_width": null,
            "object_fit": null,
            "object_position": null,
            "order": null,
            "overflow": null,
            "overflow_x": null,
            "overflow_y": null,
            "padding": null,
            "right": null,
            "top": null,
            "visibility": null,
            "width": null
          }
        },
        "3d9c11362fe24c929477a8ae78d7bd75": {
          "model_module": "@jupyter-widgets/controls",
          "model_module_version": "1.5.0",
          "model_name": "DescriptionStyleModel",
          "state": {
            "_model_module": "@jupyter-widgets/controls",
            "_model_module_version": "1.5.0",
            "_model_name": "DescriptionStyleModel",
            "_view_count": null,
            "_view_module": "@jupyter-widgets/base",
            "_view_module_version": "1.2.0",
            "_view_name": "StyleView",
            "description_width": ""
          }
        },
        "3f2f37c77c83424c8d4caa1d308ab802": {
          "model_module": "@jupyter-widgets/controls",
          "model_module_version": "1.5.0",
          "model_name": "DescriptionStyleModel",
          "state": {
            "_model_module": "@jupyter-widgets/controls",
            "_model_module_version": "1.5.0",
            "_model_name": "DescriptionStyleModel",
            "_view_count": null,
            "_view_module": "@jupyter-widgets/base",
            "_view_module_version": "1.2.0",
            "_view_name": "StyleView",
            "description_width": ""
          }
        },
        "412177c6404941e384007bf47c50312c": {
          "model_module": "@jupyter-widgets/controls",
          "model_module_version": "1.5.0",
          "model_name": "DescriptionStyleModel",
          "state": {
            "_model_module": "@jupyter-widgets/controls",
            "_model_module_version": "1.5.0",
            "_model_name": "DescriptionStyleModel",
            "_view_count": null,
            "_view_module": "@jupyter-widgets/base",
            "_view_module_version": "1.2.0",
            "_view_name": "StyleView",
            "description_width": ""
          }
        },
        "414db8ba85e74a2995d17ca10ff01d6f": {
          "model_module": "@jupyter-widgets/base",
          "model_module_version": "1.2.0",
          "model_name": "LayoutModel",
          "state": {
            "_model_module": "@jupyter-widgets/base",
            "_model_module_version": "1.2.0",
            "_model_name": "LayoutModel",
            "_view_count": null,
            "_view_module": "@jupyter-widgets/base",
            "_view_module_version": "1.2.0",
            "_view_name": "LayoutView",
            "align_content": null,
            "align_items": null,
            "align_self": null,
            "border": null,
            "bottom": null,
            "display": null,
            "flex": null,
            "flex_flow": null,
            "grid_area": null,
            "grid_auto_columns": null,
            "grid_auto_flow": null,
            "grid_auto_rows": null,
            "grid_column": null,
            "grid_gap": null,
            "grid_row": null,
            "grid_template_areas": null,
            "grid_template_columns": null,
            "grid_template_rows": null,
            "height": null,
            "justify_content": null,
            "justify_items": null,
            "left": null,
            "margin": null,
            "max_height": null,
            "max_width": null,
            "min_height": null,
            "min_width": null,
            "object_fit": null,
            "object_position": null,
            "order": null,
            "overflow": null,
            "overflow_x": null,
            "overflow_y": null,
            "padding": null,
            "right": null,
            "top": null,
            "visibility": null,
            "width": null
          }
        },
        "4605e20241cd48d9bd3049842932c41f": {
          "model_module": "@jupyter-widgets/controls",
          "model_module_version": "1.5.0",
          "model_name": "DescriptionStyleModel",
          "state": {
            "_model_module": "@jupyter-widgets/controls",
            "_model_module_version": "1.5.0",
            "_model_name": "DescriptionStyleModel",
            "_view_count": null,
            "_view_module": "@jupyter-widgets/base",
            "_view_module_version": "1.2.0",
            "_view_name": "StyleView",
            "description_width": ""
          }
        },
        "4b9fdec18e224ba18302eca3c0e8096b": {
          "model_module": "@jupyter-widgets/controls",
          "model_module_version": "1.5.0",
          "model_name": "HTMLModel",
          "state": {
            "_dom_classes": [],
            "_model_module": "@jupyter-widgets/controls",
            "_model_module_version": "1.5.0",
            "_model_name": "HTMLModel",
            "_view_count": null,
            "_view_module": "@jupyter-widgets/controls",
            "_view_module_version": "1.5.0",
            "_view_name": "HTMLView",
            "description": "",
            "description_tooltip": null,
            "layout": "IPY_MODEL_bf1e4ed90fbb45009906bf997e1c7b0c",
            "placeholder": "​",
            "style": "IPY_MODEL_93eea2ff4fd34e4da823bb9795922ff3",
            "value": "Map: 100%"
          }
        },
        "4e54c4a96c8c4744a2005bf5c40ec131": {
          "model_module": "@jupyter-widgets/base",
          "model_module_version": "1.2.0",
          "model_name": "LayoutModel",
          "state": {
            "_model_module": "@jupyter-widgets/base",
            "_model_module_version": "1.2.0",
            "_model_name": "LayoutModel",
            "_view_count": null,
            "_view_module": "@jupyter-widgets/base",
            "_view_module_version": "1.2.0",
            "_view_name": "LayoutView",
            "align_content": null,
            "align_items": null,
            "align_self": null,
            "border": null,
            "bottom": null,
            "display": null,
            "flex": null,
            "flex_flow": null,
            "grid_area": null,
            "grid_auto_columns": null,
            "grid_auto_flow": null,
            "grid_auto_rows": null,
            "grid_column": null,
            "grid_gap": null,
            "grid_row": null,
            "grid_template_areas": null,
            "grid_template_columns": null,
            "grid_template_rows": null,
            "height": null,
            "justify_content": null,
            "justify_items": null,
            "left": null,
            "margin": null,
            "max_height": null,
            "max_width": null,
            "min_height": null,
            "min_width": null,
            "object_fit": null,
            "object_position": null,
            "order": null,
            "overflow": null,
            "overflow_x": null,
            "overflow_y": null,
            "padding": null,
            "right": null,
            "top": null,
            "visibility": null,
            "width": null
          }
        },
        "4e5cf4f045e54b5a9d67384e9a133247": {
          "model_module": "@jupyter-widgets/base",
          "model_module_version": "1.2.0",
          "model_name": "LayoutModel",
          "state": {
            "_model_module": "@jupyter-widgets/base",
            "_model_module_version": "1.2.0",
            "_model_name": "LayoutModel",
            "_view_count": null,
            "_view_module": "@jupyter-widgets/base",
            "_view_module_version": "1.2.0",
            "_view_name": "LayoutView",
            "align_content": null,
            "align_items": null,
            "align_self": null,
            "border": null,
            "bottom": null,
            "display": null,
            "flex": null,
            "flex_flow": null,
            "grid_area": null,
            "grid_auto_columns": null,
            "grid_auto_flow": null,
            "grid_auto_rows": null,
            "grid_column": null,
            "grid_gap": null,
            "grid_row": null,
            "grid_template_areas": null,
            "grid_template_columns": null,
            "grid_template_rows": null,
            "height": null,
            "justify_content": null,
            "justify_items": null,
            "left": null,
            "margin": null,
            "max_height": null,
            "max_width": null,
            "min_height": null,
            "min_width": null,
            "object_fit": null,
            "object_position": null,
            "order": null,
            "overflow": null,
            "overflow_x": null,
            "overflow_y": null,
            "padding": null,
            "right": null,
            "top": null,
            "visibility": null,
            "width": null
          }
        },
        "4e99d885f2f8456abe5e504684bd6848": {
          "model_module": "@jupyter-widgets/base",
          "model_module_version": "1.2.0",
          "model_name": "LayoutModel",
          "state": {
            "_model_module": "@jupyter-widgets/base",
            "_model_module_version": "1.2.0",
            "_model_name": "LayoutModel",
            "_view_count": null,
            "_view_module": "@jupyter-widgets/base",
            "_view_module_version": "1.2.0",
            "_view_name": "LayoutView",
            "align_content": null,
            "align_items": null,
            "align_self": null,
            "border": null,
            "bottom": null,
            "display": null,
            "flex": null,
            "flex_flow": null,
            "grid_area": null,
            "grid_auto_columns": null,
            "grid_auto_flow": null,
            "grid_auto_rows": null,
            "grid_column": null,
            "grid_gap": null,
            "grid_row": null,
            "grid_template_areas": null,
            "grid_template_columns": null,
            "grid_template_rows": null,
            "height": null,
            "justify_content": null,
            "justify_items": null,
            "left": null,
            "margin": null,
            "max_height": null,
            "max_width": null,
            "min_height": null,
            "min_width": null,
            "object_fit": null,
            "object_position": null,
            "order": null,
            "overflow": null,
            "overflow_x": null,
            "overflow_y": null,
            "padding": null,
            "right": null,
            "top": null,
            "visibility": null,
            "width": null
          }
        },
        "4f3f8a25e837493dbd752fe4e7d58a47": {
          "model_module": "@jupyter-widgets/base",
          "model_module_version": "1.2.0",
          "model_name": "LayoutModel",
          "state": {
            "_model_module": "@jupyter-widgets/base",
            "_model_module_version": "1.2.0",
            "_model_name": "LayoutModel",
            "_view_count": null,
            "_view_module": "@jupyter-widgets/base",
            "_view_module_version": "1.2.0",
            "_view_name": "LayoutView",
            "align_content": null,
            "align_items": null,
            "align_self": null,
            "border": null,
            "bottom": null,
            "display": null,
            "flex": null,
            "flex_flow": null,
            "grid_area": null,
            "grid_auto_columns": null,
            "grid_auto_flow": null,
            "grid_auto_rows": null,
            "grid_column": null,
            "grid_gap": null,
            "grid_row": null,
            "grid_template_areas": null,
            "grid_template_columns": null,
            "grid_template_rows": null,
            "height": null,
            "justify_content": null,
            "justify_items": null,
            "left": null,
            "margin": null,
            "max_height": null,
            "max_width": null,
            "min_height": null,
            "min_width": null,
            "object_fit": null,
            "object_position": null,
            "order": null,
            "overflow": null,
            "overflow_x": null,
            "overflow_y": null,
            "padding": null,
            "right": null,
            "top": null,
            "visibility": null,
            "width": null
          }
        },
        "4f477adb8ed345c9b425ea67975287d7": {
          "model_module": "@jupyter-widgets/controls",
          "model_module_version": "1.5.0",
          "model_name": "FloatProgressModel",
          "state": {
            "_dom_classes": [],
            "_model_module": "@jupyter-widgets/controls",
            "_model_module_version": "1.5.0",
            "_model_name": "FloatProgressModel",
            "_view_count": null,
            "_view_module": "@jupyter-widgets/controls",
            "_view_module_version": "1.5.0",
            "_view_name": "ProgressView",
            "bar_style": "success",
            "description": "",
            "description_tooltip": null,
            "layout": "IPY_MODEL_f77ee596a8dc4f0f82a49aa4eb010cba",
            "max": 6626,
            "min": 0,
            "orientation": "horizontal",
            "style": "IPY_MODEL_8b3607b8e4014adca52ff53dec67559b",
            "value": 6626
          }
        },
        "4f632bf67ef745eeaa14d4bed9f6cf72": {
          "model_module": "@jupyter-widgets/controls",
          "model_module_version": "1.5.0",
          "model_name": "HBoxModel",
          "state": {
            "_dom_classes": [],
            "_model_module": "@jupyter-widgets/controls",
            "_model_module_version": "1.5.0",
            "_model_name": "HBoxModel",
            "_view_count": null,
            "_view_module": "@jupyter-widgets/controls",
            "_view_module_version": "1.5.0",
            "_view_name": "HBoxView",
            "box_style": "",
            "children": [
              "IPY_MODEL_0af95674cc7f42c5b06cdc31201d2101",
              "IPY_MODEL_9d9f96e872654101a8880a2561b152d1",
              "IPY_MODEL_7634d0ce92994b7eafb7601703604da4"
            ],
            "layout": "IPY_MODEL_aceb9c9669c544b3a320b6a601144b6b"
          }
        },
        "5194f5d48ba64fb1afa74ec3f2347e47": {
          "model_module": "@jupyter-widgets/controls",
          "model_module_version": "1.5.0",
          "model_name": "ButtonModel",
          "state": {
            "_dom_classes": [],
            "_model_module": "@jupyter-widgets/controls",
            "_model_module_version": "1.5.0",
            "_model_name": "ButtonModel",
            "_view_count": null,
            "_view_module": "@jupyter-widgets/controls",
            "_view_module_version": "1.5.0",
            "_view_name": "ButtonView",
            "button_style": "",
            "description": "Login",
            "disabled": false,
            "icon": "",
            "layout": "IPY_MODEL_3d08abd8b0204dc88970710f7de8c0f5",
            "style": "IPY_MODEL_15914989460147a2b3b3168456e89ef0",
            "tooltip": ""
          }
        },
        "537f67bd99664d69835c7336b697b614": {
          "model_module": "@jupyter-widgets/base",
          "model_module_version": "1.2.0",
          "model_name": "LayoutModel",
          "state": {
            "_model_module": "@jupyter-widgets/base",
            "_model_module_version": "1.2.0",
            "_model_name": "LayoutModel",
            "_view_count": null,
            "_view_module": "@jupyter-widgets/base",
            "_view_module_version": "1.2.0",
            "_view_name": "LayoutView",
            "align_content": null,
            "align_items": null,
            "align_self": null,
            "border": null,
            "bottom": null,
            "display": null,
            "flex": null,
            "flex_flow": null,
            "grid_area": null,
            "grid_auto_columns": null,
            "grid_auto_flow": null,
            "grid_auto_rows": null,
            "grid_column": null,
            "grid_gap": null,
            "grid_row": null,
            "grid_template_areas": null,
            "grid_template_columns": null,
            "grid_template_rows": null,
            "height": null,
            "justify_content": null,
            "justify_items": null,
            "left": null,
            "margin": null,
            "max_height": null,
            "max_width": null,
            "min_height": null,
            "min_width": null,
            "object_fit": null,
            "object_position": null,
            "order": null,
            "overflow": null,
            "overflow_x": null,
            "overflow_y": null,
            "padding": null,
            "right": null,
            "top": null,
            "visibility": null,
            "width": null
          }
        },
        "53e49450a5234def8c6d45b6138027c2": {
          "model_module": "@jupyter-widgets/controls",
          "model_module_version": "1.5.0",
          "model_name": "HTMLModel",
          "state": {
            "_dom_classes": [],
            "_model_module": "@jupyter-widgets/controls",
            "_model_module_version": "1.5.0",
            "_model_name": "HTMLModel",
            "_view_count": null,
            "_view_module": "@jupyter-widgets/controls",
            "_view_module_version": "1.5.0",
            "_view_name": "HTMLView",
            "description": "",
            "description_tooltip": null,
            "layout": "IPY_MODEL_e79217934b5243299bc4f826f3ae1a33",
            "placeholder": "​",
            "style": "IPY_MODEL_17fa740c0b5246129607d2d805278a70",
            "value": " 4276/4276 [05:14&lt;00:00, 12.54 examples/s]"
          }
        },
        "5592bf58e8114119a80d364f4372dd38": {
          "model_module": "@jupyter-widgets/controls",
          "model_module_version": "1.5.0",
          "model_name": "ProgressStyleModel",
          "state": {
            "_model_module": "@jupyter-widgets/controls",
            "_model_module_version": "1.5.0",
            "_model_name": "ProgressStyleModel",
            "_view_count": null,
            "_view_module": "@jupyter-widgets/base",
            "_view_module_version": "1.2.0",
            "_view_name": "StyleView",
            "bar_color": null,
            "description_width": ""
          }
        },
        "55f85d3155874e29ae8942fcbb687eae": {
          "model_module": "@jupyter-widgets/controls",
          "model_module_version": "1.5.0",
          "model_name": "ProgressStyleModel",
          "state": {
            "_model_module": "@jupyter-widgets/controls",
            "_model_module_version": "1.5.0",
            "_model_name": "ProgressStyleModel",
            "_view_count": null,
            "_view_module": "@jupyter-widgets/base",
            "_view_module_version": "1.2.0",
            "_view_name": "StyleView",
            "bar_color": null,
            "description_width": ""
          }
        },
        "57534faa346941c28f433fd8b44306c5": {
          "model_module": "@jupyter-widgets/controls",
          "model_module_version": "1.5.0",
          "model_name": "HBoxModel",
          "state": {
            "_dom_classes": [],
            "_model_module": "@jupyter-widgets/controls",
            "_model_module_version": "1.5.0",
            "_model_name": "HBoxModel",
            "_view_count": null,
            "_view_module": "@jupyter-widgets/controls",
            "_view_module_version": "1.5.0",
            "_view_name": "HBoxView",
            "box_style": "",
            "children": [
              "IPY_MODEL_67c31f37198f42598aafaf0b3f8ca6c0",
              "IPY_MODEL_a0c897bd3f164de8a6b7d58df995a785",
              "IPY_MODEL_53e49450a5234def8c6d45b6138027c2"
            ],
            "layout": "IPY_MODEL_cfb37b50f4da4af4b6a9dbff68e10edd"
          }
        },
        "5a1c42bf9ee9495d92a2f2326689b372": {
          "model_module": "@jupyter-widgets/controls",
          "model_module_version": "1.5.0",
          "model_name": "LabelModel",
          "state": {
            "_dom_classes": [],
            "_model_module": "@jupyter-widgets/controls",
            "_model_module_version": "1.5.0",
            "_model_name": "LabelModel",
            "_view_count": null,
            "_view_module": "@jupyter-widgets/controls",
            "_view_module_version": "1.5.0",
            "_view_name": "LabelView",
            "description": "",
            "description_tooltip": null,
            "layout": "IPY_MODEL_17e35153b77f457894e97a8b6c7bfc32",
            "placeholder": "​",
            "style": "IPY_MODEL_0c9381003a264c39a39ba73210d1f138",
            "value": "Connecting..."
          }
        },
        "5b5b492528b941b38a4fe56cdbaf028f": {
          "model_module": "@jupyter-widgets/base",
          "model_module_version": "1.2.0",
          "model_name": "LayoutModel",
          "state": {
            "_model_module": "@jupyter-widgets/base",
            "_model_module_version": "1.2.0",
            "_model_name": "LayoutModel",
            "_view_count": null,
            "_view_module": "@jupyter-widgets/base",
            "_view_module_version": "1.2.0",
            "_view_name": "LayoutView",
            "align_content": null,
            "align_items": null,
            "align_self": null,
            "border": null,
            "bottom": null,
            "display": null,
            "flex": null,
            "flex_flow": null,
            "grid_area": null,
            "grid_auto_columns": null,
            "grid_auto_flow": null,
            "grid_auto_rows": null,
            "grid_column": null,
            "grid_gap": null,
            "grid_row": null,
            "grid_template_areas": null,
            "grid_template_columns": null,
            "grid_template_rows": null,
            "height": null,
            "justify_content": null,
            "justify_items": null,
            "left": null,
            "margin": null,
            "max_height": null,
            "max_width": null,
            "min_height": null,
            "min_width": null,
            "object_fit": null,
            "object_position": null,
            "order": null,
            "overflow": null,
            "overflow_x": null,
            "overflow_y": null,
            "padding": null,
            "right": null,
            "top": null,
            "visibility": null,
            "width": null
          }
        },
        "5c142c876cc6493580aaec76a6b56765": {
          "model_module": "@jupyter-widgets/controls",
          "model_module_version": "1.5.0",
          "model_name": "FloatProgressModel",
          "state": {
            "_dom_classes": [],
            "_model_module": "@jupyter-widgets/controls",
            "_model_module_version": "1.5.0",
            "_model_name": "FloatProgressModel",
            "_view_count": null,
            "_view_module": "@jupyter-widgets/controls",
            "_view_module_version": "1.5.0",
            "_view_name": "ProgressView",
            "bar_style": "success",
            "description": "",
            "description_tooltip": null,
            "layout": "IPY_MODEL_83f32556e43c45c6a7d880f37aee2c3f",
            "max": 29407,
            "min": 0,
            "orientation": "horizontal",
            "style": "IPY_MODEL_862bc4310b1147e4a97c0ba7be881129",
            "value": 29407
          }
        },
        "60a38932e80346e89b5f08ae631f905e": {
          "model_module": "@jupyter-widgets/controls",
          "model_module_version": "1.5.0",
          "model_name": "DescriptionStyleModel",
          "state": {
            "_model_module": "@jupyter-widgets/controls",
            "_model_module_version": "1.5.0",
            "_model_name": "DescriptionStyleModel",
            "_view_count": null,
            "_view_module": "@jupyter-widgets/base",
            "_view_module_version": "1.2.0",
            "_view_name": "StyleView",
            "description_width": ""
          }
        },
        "628d1299961345e7a9ba48b3b13d0792": {
          "model_module": "@jupyter-widgets/base",
          "model_module_version": "1.2.0",
          "model_name": "LayoutModel",
          "state": {
            "_model_module": "@jupyter-widgets/base",
            "_model_module_version": "1.2.0",
            "_model_name": "LayoutModel",
            "_view_count": null,
            "_view_module": "@jupyter-widgets/base",
            "_view_module_version": "1.2.0",
            "_view_name": "LayoutView",
            "align_content": null,
            "align_items": null,
            "align_self": null,
            "border": null,
            "bottom": null,
            "display": null,
            "flex": null,
            "flex_flow": null,
            "grid_area": null,
            "grid_auto_columns": null,
            "grid_auto_flow": null,
            "grid_auto_rows": null,
            "grid_column": null,
            "grid_gap": null,
            "grid_row": null,
            "grid_template_areas": null,
            "grid_template_columns": null,
            "grid_template_rows": null,
            "height": null,
            "justify_content": null,
            "justify_items": null,
            "left": null,
            "margin": null,
            "max_height": null,
            "max_width": null,
            "min_height": null,
            "min_width": null,
            "object_fit": null,
            "object_position": null,
            "order": null,
            "overflow": null,
            "overflow_x": null,
            "overflow_y": null,
            "padding": null,
            "right": null,
            "top": null,
            "visibility": null,
            "width": null
          }
        },
        "67c31f37198f42598aafaf0b3f8ca6c0": {
          "model_module": "@jupyter-widgets/controls",
          "model_module_version": "1.5.0",
          "model_name": "HTMLModel",
          "state": {
            "_dom_classes": [],
            "_model_module": "@jupyter-widgets/controls",
            "_model_module_version": "1.5.0",
            "_model_name": "HTMLModel",
            "_view_count": null,
            "_view_module": "@jupyter-widgets/controls",
            "_view_module_version": "1.5.0",
            "_view_name": "HTMLView",
            "description": "",
            "description_tooltip": null,
            "layout": "IPY_MODEL_4e5cf4f045e54b5a9d67384e9a133247",
            "placeholder": "​",
            "style": "IPY_MODEL_60a38932e80346e89b5f08ae631f905e",
            "value": "Map: 100%"
          }
        },
        "67cdc3f413ae4f1e930af353a800973a": {
          "model_module": "@jupyter-widgets/base",
          "model_module_version": "1.2.0",
          "model_name": "LayoutModel",
          "state": {
            "_model_module": "@jupyter-widgets/base",
            "_model_module_version": "1.2.0",
            "_model_name": "LayoutModel",
            "_view_count": null,
            "_view_module": "@jupyter-widgets/base",
            "_view_module_version": "1.2.0",
            "_view_name": "LayoutView",
            "align_content": null,
            "align_items": null,
            "align_self": null,
            "border": null,
            "bottom": null,
            "display": null,
            "flex": null,
            "flex_flow": null,
            "grid_area": null,
            "grid_auto_columns": null,
            "grid_auto_flow": null,
            "grid_auto_rows": null,
            "grid_column": null,
            "grid_gap": null,
            "grid_row": null,
            "grid_template_areas": null,
            "grid_template_columns": null,
            "grid_template_rows": null,
            "height": null,
            "justify_content": null,
            "justify_items": null,
            "left": null,
            "margin": null,
            "max_height": null,
            "max_width": null,
            "min_height": null,
            "min_width": null,
            "object_fit": null,
            "object_position": null,
            "order": null,
            "overflow": null,
            "overflow_x": null,
            "overflow_y": null,
            "padding": null,
            "right": null,
            "top": null,
            "visibility": null,
            "width": null
          }
        },
        "689ecb086ccc4a09826a8a63fb414024": {
          "model_module": "@jupyter-widgets/base",
          "model_module_version": "1.2.0",
          "model_name": "LayoutModel",
          "state": {
            "_model_module": "@jupyter-widgets/base",
            "_model_module_version": "1.2.0",
            "_model_name": "LayoutModel",
            "_view_count": null,
            "_view_module": "@jupyter-widgets/base",
            "_view_module_version": "1.2.0",
            "_view_name": "LayoutView",
            "align_content": null,
            "align_items": null,
            "align_self": null,
            "border": null,
            "bottom": null,
            "display": null,
            "flex": null,
            "flex_flow": null,
            "grid_area": null,
            "grid_auto_columns": null,
            "grid_auto_flow": null,
            "grid_auto_rows": null,
            "grid_column": null,
            "grid_gap": null,
            "grid_row": null,
            "grid_template_areas": null,
            "grid_template_columns": null,
            "grid_template_rows": null,
            "height": null,
            "justify_content": null,
            "justify_items": null,
            "left": null,
            "margin": null,
            "max_height": null,
            "max_width": null,
            "min_height": null,
            "min_width": null,
            "object_fit": null,
            "object_position": null,
            "order": null,
            "overflow": null,
            "overflow_x": null,
            "overflow_y": null,
            "padding": null,
            "right": null,
            "top": null,
            "visibility": null,
            "width": null
          }
        },
        "694cba619bc84faea74b5f5b5bab503d": {
          "model_module": "@jupyter-widgets/controls",
          "model_module_version": "1.5.0",
          "model_name": "PasswordModel",
          "state": {
            "_dom_classes": [],
            "_model_module": "@jupyter-widgets/controls",
            "_model_module_version": "1.5.0",
            "_model_name": "PasswordModel",
            "_view_count": null,
            "_view_module": "@jupyter-widgets/controls",
            "_view_module_version": "1.5.0",
            "_view_name": "PasswordView",
            "continuous_update": true,
            "description": "Token:",
            "description_tooltip": null,
            "disabled": false,
            "layout": "IPY_MODEL_98afe334b9b0406abb91c5ce4e800b21",
            "placeholder": "​",
            "style": "IPY_MODEL_4605e20241cd48d9bd3049842932c41f",
            "value": ""
          }
        },
        "69ad0d51680541e686bf86c719d38cb7": {
          "model_module": "@jupyter-widgets/controls",
          "model_module_version": "1.5.0",
          "model_name": "HBoxModel",
          "state": {
            "_dom_classes": [],
            "_model_module": "@jupyter-widgets/controls",
            "_model_module_version": "1.5.0",
            "_model_name": "HBoxModel",
            "_view_count": null,
            "_view_module": "@jupyter-widgets/controls",
            "_view_module_version": "1.5.0",
            "_view_name": "HBoxView",
            "box_style": "",
            "children": [
              "IPY_MODEL_4b9fdec18e224ba18302eca3c0e8096b",
              "IPY_MODEL_4f477adb8ed345c9b425ea67975287d7",
              "IPY_MODEL_cfb6113f14e348eab7451ea5377c4d5d"
            ],
            "layout": "IPY_MODEL_0911de414983468a8bc5a6a76611726e"
          }
        },
        "69c1ee2fc8c546da93b933b1ffa480f8": {
          "model_module": "@jupyter-widgets/base",
          "model_module_version": "1.2.0",
          "model_name": "LayoutModel",
          "state": {
            "_model_module": "@jupyter-widgets/base",
            "_model_module_version": "1.2.0",
            "_model_name": "LayoutModel",
            "_view_count": null,
            "_view_module": "@jupyter-widgets/base",
            "_view_module_version": "1.2.0",
            "_view_name": "LayoutView",
            "align_content": null,
            "align_items": null,
            "align_self": null,
            "border": null,
            "bottom": null,
            "display": null,
            "flex": null,
            "flex_flow": null,
            "grid_area": null,
            "grid_auto_columns": null,
            "grid_auto_flow": null,
            "grid_auto_rows": null,
            "grid_column": null,
            "grid_gap": null,
            "grid_row": null,
            "grid_template_areas": null,
            "grid_template_columns": null,
            "grid_template_rows": null,
            "height": null,
            "justify_content": null,
            "justify_items": null,
            "left": null,
            "margin": null,
            "max_height": null,
            "max_width": null,
            "min_height": null,
            "min_width": null,
            "object_fit": null,
            "object_position": null,
            "order": null,
            "overflow": null,
            "overflow_x": null,
            "overflow_y": null,
            "padding": null,
            "right": null,
            "top": null,
            "visibility": null,
            "width": null
          }
        },
        "6d8d2ac366b34b169b7d9de4a3f29497": {
          "model_module": "@jupyter-widgets/controls",
          "model_module_version": "1.5.0",
          "model_name": "FloatProgressModel",
          "state": {
            "_dom_classes": [],
            "_model_module": "@jupyter-widgets/controls",
            "_model_module_version": "1.5.0",
            "_model_name": "FloatProgressModel",
            "_view_count": null,
            "_view_module": "@jupyter-widgets/controls",
            "_view_module_version": "1.5.0",
            "_view_name": "ProgressView",
            "bar_style": "",
            "description": "",
            "description_tooltip": null,
            "layout": "IPY_MODEL_4e99d885f2f8456abe5e504684bd6848",
            "max": 1,
            "min": 0,
            "orientation": "horizontal",
            "style": "IPY_MODEL_5592bf58e8114119a80d364f4372dd38",
            "value": 1
          }
        },
        "6dd23d103a7a47d7aeef5b77e7f369b5": {
          "model_module": "@jupyter-widgets/controls",
          "model_module_version": "1.5.0",
          "model_name": "HTMLModel",
          "state": {
            "_dom_classes": [],
            "_model_module": "@jupyter-widgets/controls",
            "_model_module_version": "1.5.0",
            "_model_name": "HTMLModel",
            "_view_count": null,
            "_view_module": "@jupyter-widgets/controls",
            "_view_module_version": "1.5.0",
            "_view_name": "HTMLView",
            "description": "",
            "description_tooltip": null,
            "layout": "IPY_MODEL_f5f62e485e0c451db7b5cf08ea6ded93",
            "placeholder": "​",
            "style": "IPY_MODEL_3f2f37c77c83424c8d4caa1d308ab802",
            "value": "<center> <img\nsrc=https://huggingface.co/front/assets/huggingface_logo-noborder.svg\nalt='Hugging Face'> <br> Copy a token from <a\nhref=\"https://huggingface.co/settings/tokens\" target=\"_blank\">your Hugging Face\ntokens page</a> and paste it below. <br> Immediately click login after copying\nyour token or it might be stored in plain text in this notebook file. </center>"
          }
        },
        "6f4d3539807e465eabe26e2002a048e4": {
          "model_module": "@jupyter-widgets/base",
          "model_module_version": "1.2.0",
          "model_name": "LayoutModel",
          "state": {
            "_model_module": "@jupyter-widgets/base",
            "_model_module_version": "1.2.0",
            "_model_name": "LayoutModel",
            "_view_count": null,
            "_view_module": "@jupyter-widgets/base",
            "_view_module_version": "1.2.0",
            "_view_name": "LayoutView",
            "align_content": null,
            "align_items": null,
            "align_self": null,
            "border": null,
            "bottom": null,
            "display": null,
            "flex": null,
            "flex_flow": null,
            "grid_area": null,
            "grid_auto_columns": null,
            "grid_auto_flow": null,
            "grid_auto_rows": null,
            "grid_column": null,
            "grid_gap": null,
            "grid_row": null,
            "grid_template_areas": null,
            "grid_template_columns": null,
            "grid_template_rows": null,
            "height": null,
            "justify_content": null,
            "justify_items": null,
            "left": null,
            "margin": null,
            "max_height": null,
            "max_width": null,
            "min_height": null,
            "min_width": null,
            "object_fit": null,
            "object_position": null,
            "order": null,
            "overflow": null,
            "overflow_x": null,
            "overflow_y": null,
            "padding": null,
            "right": null,
            "top": null,
            "visibility": null,
            "width": null
          }
        },
        "6fbedfe34920466b90144c7bb6047ec3": {
          "model_module": "@jupyter-widgets/base",
          "model_module_version": "1.2.0",
          "model_name": "LayoutModel",
          "state": {
            "_model_module": "@jupyter-widgets/base",
            "_model_module_version": "1.2.0",
            "_model_name": "LayoutModel",
            "_view_count": null,
            "_view_module": "@jupyter-widgets/base",
            "_view_module_version": "1.2.0",
            "_view_name": "LayoutView",
            "align_content": null,
            "align_items": null,
            "align_self": null,
            "border": null,
            "bottom": null,
            "display": null,
            "flex": null,
            "flex_flow": null,
            "grid_area": null,
            "grid_auto_columns": null,
            "grid_auto_flow": null,
            "grid_auto_rows": null,
            "grid_column": null,
            "grid_gap": null,
            "grid_row": null,
            "grid_template_areas": null,
            "grid_template_columns": null,
            "grid_template_rows": null,
            "height": null,
            "justify_content": null,
            "justify_items": null,
            "left": null,
            "margin": null,
            "max_height": null,
            "max_width": null,
            "min_height": null,
            "min_width": null,
            "object_fit": null,
            "object_position": null,
            "order": null,
            "overflow": null,
            "overflow_x": null,
            "overflow_y": null,
            "padding": null,
            "right": null,
            "top": null,
            "visibility": null,
            "width": null
          }
        },
        "72e72243d6f74a2fbec4d6a48370f7e7": {
          "model_module": "@jupyter-widgets/controls",
          "model_module_version": "1.5.0",
          "model_name": "HTMLModel",
          "state": {
            "_dom_classes": [],
            "_model_module": "@jupyter-widgets/controls",
            "_model_module_version": "1.5.0",
            "_model_name": "HTMLModel",
            "_view_count": null,
            "_view_module": "@jupyter-widgets/controls",
            "_view_module_version": "1.5.0",
            "_view_name": "HTMLView",
            "description": "",
            "description_tooltip": null,
            "layout": "IPY_MODEL_24e9756852684e98ba6ae15f178bc421",
            "placeholder": "​",
            "style": "IPY_MODEL_412177c6404941e384007bf47c50312c",
            "value": "Map: 100%"
          }
        },
        "730f0f5c0e674d86b9c1447fc46f4d3f": {
          "model_module": "@jupyter-widgets/base",
          "model_module_version": "1.2.0",
          "model_name": "LayoutModel",
          "state": {
            "_model_module": "@jupyter-widgets/base",
            "_model_module_version": "1.2.0",
            "_model_name": "LayoutModel",
            "_view_count": null,
            "_view_module": "@jupyter-widgets/base",
            "_view_module_version": "1.2.0",
            "_view_name": "LayoutView",
            "align_content": null,
            "align_items": null,
            "align_self": null,
            "border": null,
            "bottom": null,
            "display": null,
            "flex": null,
            "flex_flow": null,
            "grid_area": null,
            "grid_auto_columns": null,
            "grid_auto_flow": null,
            "grid_auto_rows": null,
            "grid_column": null,
            "grid_gap": null,
            "grid_row": null,
            "grid_template_areas": null,
            "grid_template_columns": null,
            "grid_template_rows": null,
            "height": null,
            "justify_content": null,
            "justify_items": null,
            "left": null,
            "margin": null,
            "max_height": null,
            "max_width": null,
            "min_height": null,
            "min_width": null,
            "object_fit": null,
            "object_position": null,
            "order": null,
            "overflow": null,
            "overflow_x": null,
            "overflow_y": null,
            "padding": null,
            "right": null,
            "top": null,
            "visibility": null,
            "width": null
          }
        },
        "74a33a72c12f4f06ac6fae44e0093839": {
          "model_module": "@jupyter-widgets/controls",
          "model_module_version": "1.5.0",
          "model_name": "DescriptionStyleModel",
          "state": {
            "_model_module": "@jupyter-widgets/controls",
            "_model_module_version": "1.5.0",
            "_model_name": "DescriptionStyleModel",
            "_view_count": null,
            "_view_module": "@jupyter-widgets/base",
            "_view_module_version": "1.2.0",
            "_view_name": "StyleView",
            "description_width": ""
          }
        },
        "7634d0ce92994b7eafb7601703604da4": {
          "model_module": "@jupyter-widgets/controls",
          "model_module_version": "1.5.0",
          "model_name": "HTMLModel",
          "state": {
            "_dom_classes": [],
            "_model_module": "@jupyter-widgets/controls",
            "_model_module_version": "1.5.0",
            "_model_name": "HTMLModel",
            "_view_count": null,
            "_view_module": "@jupyter-widgets/controls",
            "_view_module_version": "1.5.0",
            "_view_name": "HTMLView",
            "description": "",
            "description_tooltip": null,
            "layout": "IPY_MODEL_4f3f8a25e837493dbd752fe4e7d58a47",
            "placeholder": "​",
            "style": "IPY_MODEL_7b55499f97f54bdf89331ae9ecfa8520",
            "value": " 2195/2195 [00:00&lt;00:00, 93362.71 examples/s]"
          }
        },
        "76408e70e7cd4b42828c1c31048ab1e6": {
          "model_module": "@jupyter-widgets/base",
          "model_module_version": "1.2.0",
          "model_name": "LayoutModel",
          "state": {
            "_model_module": "@jupyter-widgets/base",
            "_model_module_version": "1.2.0",
            "_model_name": "LayoutModel",
            "_view_count": null,
            "_view_module": "@jupyter-widgets/base",
            "_view_module_version": "1.2.0",
            "_view_name": "LayoutView",
            "align_content": null,
            "align_items": null,
            "align_self": null,
            "border": null,
            "bottom": null,
            "display": null,
            "flex": null,
            "flex_flow": null,
            "grid_area": null,
            "grid_auto_columns": null,
            "grid_auto_flow": null,
            "grid_auto_rows": null,
            "grid_column": null,
            "grid_gap": null,
            "grid_row": null,
            "grid_template_areas": null,
            "grid_template_columns": null,
            "grid_template_rows": null,
            "height": null,
            "justify_content": null,
            "justify_items": null,
            "left": null,
            "margin": null,
            "max_height": null,
            "max_width": null,
            "min_height": null,
            "min_width": null,
            "object_fit": null,
            "object_position": null,
            "order": null,
            "overflow": null,
            "overflow_x": null,
            "overflow_y": null,
            "padding": null,
            "right": null,
            "top": null,
            "visibility": null,
            "width": null
          }
        },
        "7a1c55962cac4fb9b6eec71d6db439ac": {
          "model_module": "@jupyter-widgets/controls",
          "model_module_version": "1.5.0",
          "model_name": "FloatProgressModel",
          "state": {
            "_dom_classes": [],
            "_model_module": "@jupyter-widgets/controls",
            "_model_module_version": "1.5.0",
            "_model_name": "FloatProgressModel",
            "_view_count": null,
            "_view_module": "@jupyter-widgets/controls",
            "_view_module_version": "1.5.0",
            "_view_name": "ProgressView",
            "bar_style": "success",
            "description": "",
            "description_tooltip": null,
            "layout": "IPY_MODEL_fd2ab0500fb840e8b4c1291176b55c5a",
            "max": 4276,
            "min": 0,
            "orientation": "horizontal",
            "style": "IPY_MODEL_dc7da30db6c347a0bd5cd391c4cfdf15",
            "value": 4276
          }
        },
        "7b05f5bc41ef47d48918d12125a9ca65": {
          "model_module": "@jupyter-widgets/controls",
          "model_module_version": "1.5.0",
          "model_name": "DescriptionStyleModel",
          "state": {
            "_model_module": "@jupyter-widgets/controls",
            "_model_module_version": "1.5.0",
            "_model_name": "DescriptionStyleModel",
            "_view_count": null,
            "_view_module": "@jupyter-widgets/base",
            "_view_module_version": "1.2.0",
            "_view_name": "StyleView",
            "description_width": ""
          }
        },
        "7b55499f97f54bdf89331ae9ecfa8520": {
          "model_module": "@jupyter-widgets/controls",
          "model_module_version": "1.5.0",
          "model_name": "DescriptionStyleModel",
          "state": {
            "_model_module": "@jupyter-widgets/controls",
            "_model_module_version": "1.5.0",
            "_model_name": "DescriptionStyleModel",
            "_view_count": null,
            "_view_module": "@jupyter-widgets/base",
            "_view_module_version": "1.2.0",
            "_view_name": "StyleView",
            "description_width": ""
          }
        },
        "83f32556e43c45c6a7d880f37aee2c3f": {
          "model_module": "@jupyter-widgets/base",
          "model_module_version": "1.2.0",
          "model_name": "LayoutModel",
          "state": {
            "_model_module": "@jupyter-widgets/base",
            "_model_module_version": "1.2.0",
            "_model_name": "LayoutModel",
            "_view_count": null,
            "_view_module": "@jupyter-widgets/base",
            "_view_module_version": "1.2.0",
            "_view_name": "LayoutView",
            "align_content": null,
            "align_items": null,
            "align_self": null,
            "border": null,
            "bottom": null,
            "display": null,
            "flex": null,
            "flex_flow": null,
            "grid_area": null,
            "grid_auto_columns": null,
            "grid_auto_flow": null,
            "grid_auto_rows": null,
            "grid_column": null,
            "grid_gap": null,
            "grid_row": null,
            "grid_template_areas": null,
            "grid_template_columns": null,
            "grid_template_rows": null,
            "height": null,
            "justify_content": null,
            "justify_items": null,
            "left": null,
            "margin": null,
            "max_height": null,
            "max_width": null,
            "min_height": null,
            "min_width": null,
            "object_fit": null,
            "object_position": null,
            "order": null,
            "overflow": null,
            "overflow_x": null,
            "overflow_y": null,
            "padding": null,
            "right": null,
            "top": null,
            "visibility": null,
            "width": null
          }
        },
        "862bc4310b1147e4a97c0ba7be881129": {
          "model_module": "@jupyter-widgets/controls",
          "model_module_version": "1.5.0",
          "model_name": "ProgressStyleModel",
          "state": {
            "_model_module": "@jupyter-widgets/controls",
            "_model_module_version": "1.5.0",
            "_model_name": "ProgressStyleModel",
            "_view_count": null,
            "_view_module": "@jupyter-widgets/base",
            "_view_module_version": "1.2.0",
            "_view_name": "StyleView",
            "bar_color": null,
            "description_width": ""
          }
        },
        "86ccbe49d81f41979e3f4c97f7b4a716": {
          "model_module": "@jupyter-widgets/controls",
          "model_module_version": "1.5.0",
          "model_name": "ProgressStyleModel",
          "state": {
            "_model_module": "@jupyter-widgets/controls",
            "_model_module_version": "1.5.0",
            "_model_name": "ProgressStyleModel",
            "_view_count": null,
            "_view_module": "@jupyter-widgets/base",
            "_view_module_version": "1.2.0",
            "_view_name": "StyleView",
            "bar_color": null,
            "description_width": ""
          }
        },
        "87a4480115dc4073a1a638fbd2040d7a": {
          "model_module": "@jupyter-widgets/controls",
          "model_module_version": "1.5.0",
          "model_name": "HTMLModel",
          "state": {
            "_dom_classes": [],
            "_model_module": "@jupyter-widgets/controls",
            "_model_module_version": "1.5.0",
            "_model_name": "HTMLModel",
            "_view_count": null,
            "_view_module": "@jupyter-widgets/controls",
            "_view_module_version": "1.5.0",
            "_view_name": "HTMLView",
            "description": "",
            "description_tooltip": null,
            "layout": "IPY_MODEL_689ecb086ccc4a09826a8a63fb414024",
            "placeholder": "​",
            "style": "IPY_MODEL_ac85f59a23a64ea18bfd667a227a9268",
            "value": " 4276/4276 [00:00&lt;00:00, 166796.97 examples/s]"
          }
        },
        "88b6f8f0c63c4cd4bf4a84975508e4ed": {
          "model_module": "@jupyter-widgets/controls",
          "model_module_version": "1.5.0",
          "model_name": "DescriptionStyleModel",
          "state": {
            "_model_module": "@jupyter-widgets/controls",
            "_model_module_version": "1.5.0",
            "_model_name": "DescriptionStyleModel",
            "_view_count": null,
            "_view_module": "@jupyter-widgets/base",
            "_view_module_version": "1.2.0",
            "_view_name": "StyleView",
            "description_width": ""
          }
        },
        "8b3607b8e4014adca52ff53dec67559b": {
          "model_module": "@jupyter-widgets/controls",
          "model_module_version": "1.5.0",
          "model_name": "ProgressStyleModel",
          "state": {
            "_model_module": "@jupyter-widgets/controls",
            "_model_module_version": "1.5.0",
            "_model_name": "ProgressStyleModel",
            "_view_count": null,
            "_view_module": "@jupyter-widgets/base",
            "_view_module_version": "1.2.0",
            "_view_name": "StyleView",
            "bar_color": null,
            "description_width": ""
          }
        },
        "8b7d8f32179c4f5988ad927cecd01421": {
          "model_module": "@jupyter-widgets/controls",
          "model_module_version": "1.5.0",
          "model_name": "ProgressStyleModel",
          "state": {
            "_model_module": "@jupyter-widgets/controls",
            "_model_module_version": "1.5.0",
            "_model_name": "ProgressStyleModel",
            "_view_count": null,
            "_view_module": "@jupyter-widgets/base",
            "_view_module_version": "1.2.0",
            "_view_name": "StyleView",
            "bar_color": null,
            "description_width": ""
          }
        },
        "8e65090d70f44c64a485155ba757d032": {
          "model_module": "@jupyter-widgets/base",
          "model_module_version": "1.2.0",
          "model_name": "LayoutModel",
          "state": {
            "_model_module": "@jupyter-widgets/base",
            "_model_module_version": "1.2.0",
            "_model_name": "LayoutModel",
            "_view_count": null,
            "_view_module": "@jupyter-widgets/base",
            "_view_module_version": "1.2.0",
            "_view_name": "LayoutView",
            "align_content": null,
            "align_items": null,
            "align_self": null,
            "border": null,
            "bottom": null,
            "display": null,
            "flex": null,
            "flex_flow": null,
            "grid_area": null,
            "grid_auto_columns": null,
            "grid_auto_flow": null,
            "grid_auto_rows": null,
            "grid_column": null,
            "grid_gap": null,
            "grid_row": null,
            "grid_template_areas": null,
            "grid_template_columns": null,
            "grid_template_rows": null,
            "height": null,
            "justify_content": null,
            "justify_items": null,
            "left": null,
            "margin": null,
            "max_height": null,
            "max_width": null,
            "min_height": null,
            "min_width": null,
            "object_fit": null,
            "object_position": null,
            "order": null,
            "overflow": null,
            "overflow_x": null,
            "overflow_y": null,
            "padding": null,
            "right": null,
            "top": null,
            "visibility": null,
            "width": null
          }
        },
        "8f3ee68f216340b88500de004d7abd62": {
          "model_module": "@jupyter-widgets/controls",
          "model_module_version": "1.5.0",
          "model_name": "DescriptionStyleModel",
          "state": {
            "_model_module": "@jupyter-widgets/controls",
            "_model_module_version": "1.5.0",
            "_model_name": "DescriptionStyleModel",
            "_view_count": null,
            "_view_module": "@jupyter-widgets/base",
            "_view_module_version": "1.2.0",
            "_view_name": "StyleView",
            "description_width": ""
          }
        },
        "8fc7b2b5f6be4b6895ddd68350f44226": {
          "model_module": "@jupyter-widgets/controls",
          "model_module_version": "1.5.0",
          "model_name": "LabelModel",
          "state": {
            "_dom_classes": [],
            "_model_module": "@jupyter-widgets/controls",
            "_model_module_version": "1.5.0",
            "_model_name": "LabelModel",
            "_view_count": null,
            "_view_module": "@jupyter-widgets/controls",
            "_view_module_version": "1.5.0",
            "_view_name": "LabelView",
            "description": "",
            "description_tooltip": null,
            "layout": "IPY_MODEL_e9eb522103894d339a99697375e43bd6",
            "placeholder": "​",
            "style": "IPY_MODEL_982f8a68f8ba48af97bcd5430e0b654b",
            "value": "Waiting for wandb.init()...\r"
          }
        },
        "93eea2ff4fd34e4da823bb9795922ff3": {
          "model_module": "@jupyter-widgets/controls",
          "model_module_version": "1.5.0",
          "model_name": "DescriptionStyleModel",
          "state": {
            "_model_module": "@jupyter-widgets/controls",
            "_model_module_version": "1.5.0",
            "_model_name": "DescriptionStyleModel",
            "_view_count": null,
            "_view_module": "@jupyter-widgets/base",
            "_view_module_version": "1.2.0",
            "_view_name": "StyleView",
            "description_width": ""
          }
        },
        "9436e57dac4f474982d6365ef3fcf7c3": {
          "model_module": "@jupyter-widgets/controls",
          "model_module_version": "1.5.0",
          "model_name": "HBoxModel",
          "state": {
            "_dom_classes": [],
            "_model_module": "@jupyter-widgets/controls",
            "_model_module_version": "1.5.0",
            "_model_name": "HBoxModel",
            "_view_count": null,
            "_view_module": "@jupyter-widgets/controls",
            "_view_module_version": "1.5.0",
            "_view_name": "HBoxView",
            "box_style": "",
            "children": [
              "IPY_MODEL_72e72243d6f74a2fbec4d6a48370f7e7",
              "IPY_MODEL_5c142c876cc6493580aaec76a6b56765",
              "IPY_MODEL_2d721ff984e44cc99c3f46980e4debb8"
            ],
            "layout": "IPY_MODEL_ec7070ec04dc40c09a5a13bc350b73e9"
          }
        },
        "96e568e880904b70816c4ea170c28ec9": {
          "model_module": "@jupyter-widgets/base",
          "model_module_version": "1.2.0",
          "model_name": "LayoutModel",
          "state": {
            "_model_module": "@jupyter-widgets/base",
            "_model_module_version": "1.2.0",
            "_model_name": "LayoutModel",
            "_view_count": null,
            "_view_module": "@jupyter-widgets/base",
            "_view_module_version": "1.2.0",
            "_view_name": "LayoutView",
            "align_content": null,
            "align_items": null,
            "align_self": null,
            "border": null,
            "bottom": null,
            "display": null,
            "flex": null,
            "flex_flow": null,
            "grid_area": null,
            "grid_auto_columns": null,
            "grid_auto_flow": null,
            "grid_auto_rows": null,
            "grid_column": null,
            "grid_gap": null,
            "grid_row": null,
            "grid_template_areas": null,
            "grid_template_columns": null,
            "grid_template_rows": null,
            "height": null,
            "justify_content": null,
            "justify_items": null,
            "left": null,
            "margin": null,
            "max_height": null,
            "max_width": null,
            "min_height": null,
            "min_width": null,
            "object_fit": null,
            "object_position": null,
            "order": null,
            "overflow": null,
            "overflow_x": null,
            "overflow_y": null,
            "padding": null,
            "right": null,
            "top": null,
            "visibility": null,
            "width": null
          }
        },
        "97a3ba1f611a479c920d4e8f72ed1a85": {
          "model_module": "@jupyter-widgets/controls",
          "model_module_version": "1.5.0",
          "model_name": "FloatProgressModel",
          "state": {
            "_dom_classes": [],
            "_model_module": "@jupyter-widgets/controls",
            "_model_module_version": "1.5.0",
            "_model_name": "FloatProgressModel",
            "_view_count": null,
            "_view_module": "@jupyter-widgets/controls",
            "_view_module_version": "1.5.0",
            "_view_name": "ProgressView",
            "bar_style": "",
            "description": "",
            "description_tooltip": null,
            "layout": "IPY_MODEL_3218240a97504afd84622eacfdda41b5",
            "max": 1,
            "min": 0,
            "orientation": "horizontal",
            "style": "IPY_MODEL_8b7d8f32179c4f5988ad927cecd01421",
            "value": 1
          }
        },
        "982f8a68f8ba48af97bcd5430e0b654b": {
          "model_module": "@jupyter-widgets/controls",
          "model_module_version": "1.5.0",
          "model_name": "DescriptionStyleModel",
          "state": {
            "_model_module": "@jupyter-widgets/controls",
            "_model_module_version": "1.5.0",
            "_model_name": "DescriptionStyleModel",
            "_view_count": null,
            "_view_module": "@jupyter-widgets/base",
            "_view_module_version": "1.2.0",
            "_view_name": "StyleView",
            "description_width": ""
          }
        },
        "98afe334b9b0406abb91c5ce4e800b21": {
          "model_module": "@jupyter-widgets/base",
          "model_module_version": "1.2.0",
          "model_name": "LayoutModel",
          "state": {
            "_model_module": "@jupyter-widgets/base",
            "_model_module_version": "1.2.0",
            "_model_name": "LayoutModel",
            "_view_count": null,
            "_view_module": "@jupyter-widgets/base",
            "_view_module_version": "1.2.0",
            "_view_name": "LayoutView",
            "align_content": null,
            "align_items": null,
            "align_self": null,
            "border": null,
            "bottom": null,
            "display": null,
            "flex": null,
            "flex_flow": null,
            "grid_area": null,
            "grid_auto_columns": null,
            "grid_auto_flow": null,
            "grid_auto_rows": null,
            "grid_column": null,
            "grid_gap": null,
            "grid_row": null,
            "grid_template_areas": null,
            "grid_template_columns": null,
            "grid_template_rows": null,
            "height": null,
            "justify_content": null,
            "justify_items": null,
            "left": null,
            "margin": null,
            "max_height": null,
            "max_width": null,
            "min_height": null,
            "min_width": null,
            "object_fit": null,
            "object_position": null,
            "order": null,
            "overflow": null,
            "overflow_x": null,
            "overflow_y": null,
            "padding": null,
            "right": null,
            "top": null,
            "visibility": null,
            "width": null
          }
        },
        "98c4f6341e2c4d25a50eaf9972ea8292": {
          "model_module": "@jupyter-widgets/controls",
          "model_module_version": "1.5.0",
          "model_name": "DescriptionStyleModel",
          "state": {
            "_model_module": "@jupyter-widgets/controls",
            "_model_module_version": "1.5.0",
            "_model_name": "DescriptionStyleModel",
            "_view_count": null,
            "_view_module": "@jupyter-widgets/base",
            "_view_module_version": "1.2.0",
            "_view_name": "StyleView",
            "description_width": ""
          }
        },
        "9d9f96e872654101a8880a2561b152d1": {
          "model_module": "@jupyter-widgets/controls",
          "model_module_version": "1.5.0",
          "model_name": "FloatProgressModel",
          "state": {
            "_dom_classes": [],
            "_model_module": "@jupyter-widgets/controls",
            "_model_module_version": "1.5.0",
            "_model_name": "FloatProgressModel",
            "_view_count": null,
            "_view_module": "@jupyter-widgets/controls",
            "_view_module_version": "1.5.0",
            "_view_name": "ProgressView",
            "bar_style": "success",
            "description": "",
            "description_tooltip": null,
            "layout": "IPY_MODEL_67cdc3f413ae4f1e930af353a800973a",
            "max": 2195,
            "min": 0,
            "orientation": "horizontal",
            "style": "IPY_MODEL_86ccbe49d81f41979e3f4c97f7b4a716",
            "value": 2195
          }
        },
        "a0c897bd3f164de8a6b7d58df995a785": {
          "model_module": "@jupyter-widgets/controls",
          "model_module_version": "1.5.0",
          "model_name": "FloatProgressModel",
          "state": {
            "_dom_classes": [],
            "_model_module": "@jupyter-widgets/controls",
            "_model_module_version": "1.5.0",
            "_model_name": "FloatProgressModel",
            "_view_count": null,
            "_view_module": "@jupyter-widgets/controls",
            "_view_module_version": "1.5.0",
            "_view_name": "ProgressView",
            "bar_style": "success",
            "description": "",
            "description_tooltip": null,
            "layout": "IPY_MODEL_18fdcdb5dcb9422db715eb37e09ab706",
            "max": 4276,
            "min": 0,
            "orientation": "horizontal",
            "style": "IPY_MODEL_ceb144bcd4564f14a8f018f729d93f2d",
            "value": 4276
          }
        },
        "a22f66dd76684b048c19016bc4e7c53c": {
          "model_module": "@jupyter-widgets/controls",
          "model_module_version": "1.5.0",
          "model_name": "HBoxModel",
          "state": {
            "_dom_classes": [],
            "_model_module": "@jupyter-widgets/controls",
            "_model_module_version": "1.5.0",
            "_model_name": "HBoxModel",
            "_view_count": null,
            "_view_module": "@jupyter-widgets/controls",
            "_view_module_version": "1.5.0",
            "_view_name": "HBoxView",
            "box_style": "",
            "children": [
              "IPY_MODEL_fbbd4710990644889f5313b7b56f8331",
              "IPY_MODEL_b425c9e44ff54fdbbc55d2a3107ea44a",
              "IPY_MODEL_193732c2b0784924b670ee328c50aa77"
            ],
            "layout": "IPY_MODEL_c6d997b467af4309830a221552f77102"
          }
        },
        "a4523f4a31bc47a3a8a1d8b0eb620748": {
          "model_module": "@jupyter-widgets/base",
          "model_module_version": "1.2.0",
          "model_name": "LayoutModel",
          "state": {
            "_model_module": "@jupyter-widgets/base",
            "_model_module_version": "1.2.0",
            "_model_name": "LayoutModel",
            "_view_count": null,
            "_view_module": "@jupyter-widgets/base",
            "_view_module_version": "1.2.0",
            "_view_name": "LayoutView",
            "align_content": null,
            "align_items": null,
            "align_self": null,
            "border": null,
            "bottom": null,
            "display": null,
            "flex": null,
            "flex_flow": null,
            "grid_area": null,
            "grid_auto_columns": null,
            "grid_auto_flow": null,
            "grid_auto_rows": null,
            "grid_column": null,
            "grid_gap": null,
            "grid_row": null,
            "grid_template_areas": null,
            "grid_template_columns": null,
            "grid_template_rows": null,
            "height": null,
            "justify_content": null,
            "justify_items": null,
            "left": null,
            "margin": null,
            "max_height": null,
            "max_width": null,
            "min_height": null,
            "min_width": null,
            "object_fit": null,
            "object_position": null,
            "order": null,
            "overflow": null,
            "overflow_x": null,
            "overflow_y": null,
            "padding": null,
            "right": null,
            "top": null,
            "visibility": null,
            "width": null
          }
        },
        "a5d87875ba66476b81d9a0eef91f063b": {
          "model_module": "@jupyter-widgets/controls",
          "model_module_version": "1.5.0",
          "model_name": "DescriptionStyleModel",
          "state": {
            "_model_module": "@jupyter-widgets/controls",
            "_model_module_version": "1.5.0",
            "_model_name": "DescriptionStyleModel",
            "_view_count": null,
            "_view_module": "@jupyter-widgets/base",
            "_view_module_version": "1.2.0",
            "_view_name": "StyleView",
            "description_width": ""
          }
        },
        "a8d2bfeedfbc4d0d9cd5e538f8b589f5": {
          "model_module": "@jupyter-widgets/controls",
          "model_module_version": "1.5.0",
          "model_name": "LabelModel",
          "state": {
            "_dom_classes": [],
            "_model_module": "@jupyter-widgets/controls",
            "_model_module_version": "1.5.0",
            "_model_name": "LabelModel",
            "_view_count": null,
            "_view_module": "@jupyter-widgets/controls",
            "_view_module_version": "1.5.0",
            "_view_name": "LabelView",
            "description": "",
            "description_tooltip": null,
            "layout": "IPY_MODEL_a4523f4a31bc47a3a8a1d8b0eb620748",
            "placeholder": "​",
            "style": "IPY_MODEL_ea0d5b44872841c1886cc830689599e8",
            "value": "Login successful"
          }
        },
        "ac85f59a23a64ea18bfd667a227a9268": {
          "model_module": "@jupyter-widgets/controls",
          "model_module_version": "1.5.0",
          "model_name": "DescriptionStyleModel",
          "state": {
            "_model_module": "@jupyter-widgets/controls",
            "_model_module_version": "1.5.0",
            "_model_name": "DescriptionStyleModel",
            "_view_count": null,
            "_view_module": "@jupyter-widgets/base",
            "_view_module_version": "1.2.0",
            "_view_name": "StyleView",
            "description_width": ""
          }
        },
        "aceb9c9669c544b3a320b6a601144b6b": {
          "model_module": "@jupyter-widgets/base",
          "model_module_version": "1.2.0",
          "model_name": "LayoutModel",
          "state": {
            "_model_module": "@jupyter-widgets/base",
            "_model_module_version": "1.2.0",
            "_model_name": "LayoutModel",
            "_view_count": null,
            "_view_module": "@jupyter-widgets/base",
            "_view_module_version": "1.2.0",
            "_view_name": "LayoutView",
            "align_content": null,
            "align_items": null,
            "align_self": null,
            "border": null,
            "bottom": null,
            "display": null,
            "flex": null,
            "flex_flow": null,
            "grid_area": null,
            "grid_auto_columns": null,
            "grid_auto_flow": null,
            "grid_auto_rows": null,
            "grid_column": null,
            "grid_gap": null,
            "grid_row": null,
            "grid_template_areas": null,
            "grid_template_columns": null,
            "grid_template_rows": null,
            "height": null,
            "justify_content": null,
            "justify_items": null,
            "left": null,
            "margin": null,
            "max_height": null,
            "max_width": null,
            "min_height": null,
            "min_width": null,
            "object_fit": null,
            "object_position": null,
            "order": null,
            "overflow": null,
            "overflow_x": null,
            "overflow_y": null,
            "padding": null,
            "right": null,
            "top": null,
            "visibility": null,
            "width": null
          }
        },
        "ae33cf0f50f2494396e72ee82babaaff": {
          "model_module": "@jupyter-widgets/controls",
          "model_module_version": "1.5.0",
          "model_name": "DescriptionStyleModel",
          "state": {
            "_model_module": "@jupyter-widgets/controls",
            "_model_module_version": "1.5.0",
            "_model_name": "DescriptionStyleModel",
            "_view_count": null,
            "_view_module": "@jupyter-widgets/base",
            "_view_module_version": "1.2.0",
            "_view_name": "StyleView",
            "description_width": ""
          }
        },
        "b2b998822679414d99f5d47e5218e2a7": {
          "model_module": "@jupyter-widgets/controls",
          "model_module_version": "1.5.0",
          "model_name": "DescriptionStyleModel",
          "state": {
            "_model_module": "@jupyter-widgets/controls",
            "_model_module_version": "1.5.0",
            "_model_name": "DescriptionStyleModel",
            "_view_count": null,
            "_view_module": "@jupyter-widgets/base",
            "_view_module_version": "1.2.0",
            "_view_name": "StyleView",
            "description_width": ""
          }
        },
        "b425c9e44ff54fdbbc55d2a3107ea44a": {
          "model_module": "@jupyter-widgets/controls",
          "model_module_version": "1.5.0",
          "model_name": "FloatProgressModel",
          "state": {
            "_dom_classes": [],
            "_model_module": "@jupyter-widgets/controls",
            "_model_module_version": "1.5.0",
            "_model_name": "FloatProgressModel",
            "_view_count": null,
            "_view_module": "@jupyter-widgets/controls",
            "_view_module_version": "1.5.0",
            "_view_name": "ProgressView",
            "bar_style": "success",
            "description": "",
            "description_tooltip": null,
            "layout": "IPY_MODEL_262839cbb796413388f721f08b53b333",
            "max": 3549,
            "min": 0,
            "orientation": "horizontal",
            "style": "IPY_MODEL_55f85d3155874e29ae8942fcbb687eae",
            "value": 3549
          }
        },
        "bf1e4ed90fbb45009906bf997e1c7b0c": {
          "model_module": "@jupyter-widgets/base",
          "model_module_version": "1.2.0",
          "model_name": "LayoutModel",
          "state": {
            "_model_module": "@jupyter-widgets/base",
            "_model_module_version": "1.2.0",
            "_model_name": "LayoutModel",
            "_view_count": null,
            "_view_module": "@jupyter-widgets/base",
            "_view_module_version": "1.2.0",
            "_view_name": "LayoutView",
            "align_content": null,
            "align_items": null,
            "align_self": null,
            "border": null,
            "bottom": null,
            "display": null,
            "flex": null,
            "flex_flow": null,
            "grid_area": null,
            "grid_auto_columns": null,
            "grid_auto_flow": null,
            "grid_auto_rows": null,
            "grid_column": null,
            "grid_gap": null,
            "grid_row": null,
            "grid_template_areas": null,
            "grid_template_columns": null,
            "grid_template_rows": null,
            "height": null,
            "justify_content": null,
            "justify_items": null,
            "left": null,
            "margin": null,
            "max_height": null,
            "max_width": null,
            "min_height": null,
            "min_width": null,
            "object_fit": null,
            "object_position": null,
            "order": null,
            "overflow": null,
            "overflow_x": null,
            "overflow_y": null,
            "padding": null,
            "right": null,
            "top": null,
            "visibility": null,
            "width": null
          }
        },
        "bf97ad5cbdd0478c8c93fbbaf5b80d32": {
          "model_module": "@jupyter-widgets/controls",
          "model_module_version": "1.5.0",
          "model_name": "HTMLModel",
          "state": {
            "_dom_classes": [],
            "_model_module": "@jupyter-widgets/controls",
            "_model_module_version": "1.5.0",
            "_model_name": "HTMLModel",
            "_view_count": null,
            "_view_module": "@jupyter-widgets/controls",
            "_view_module_version": "1.5.0",
            "_view_name": "HTMLView",
            "description": "",
            "description_tooltip": null,
            "layout": "IPY_MODEL_537f67bd99664d69835c7336b697b614",
            "placeholder": "​",
            "style": "IPY_MODEL_110c6cc464d04f2596768a48e2598982",
            "value": "Map: 100%"
          }
        },
        "c60db2ab6b9343ecacf820a8673fbac1": {
          "model_module": "@jupyter-widgets/controls",
          "model_module_version": "1.5.0",
          "model_name": "VBoxModel",
          "state": {
            "_dom_classes": [],
            "_model_module": "@jupyter-widgets/controls",
            "_model_module_version": "1.5.0",
            "_model_name": "VBoxModel",
            "_view_count": null,
            "_view_module": "@jupyter-widgets/controls",
            "_view_module_version": "1.5.0",
            "_view_name": "VBoxView",
            "box_style": "",
            "children": [
              "IPY_MODEL_8fc7b2b5f6be4b6895ddd68350f44226",
              "IPY_MODEL_6d8d2ac366b34b169b7d9de4a3f29497"
            ],
            "layout": "IPY_MODEL_2a55ff262e91438facf99279c25c194a"
          }
        },
        "c6d997b467af4309830a221552f77102": {
          "model_module": "@jupyter-widgets/base",
          "model_module_version": "1.2.0",
          "model_name": "LayoutModel",
          "state": {
            "_model_module": "@jupyter-widgets/base",
            "_model_module_version": "1.2.0",
            "_model_name": "LayoutModel",
            "_view_count": null,
            "_view_module": "@jupyter-widgets/base",
            "_view_module_version": "1.2.0",
            "_view_name": "LayoutView",
            "align_content": null,
            "align_items": null,
            "align_self": null,
            "border": null,
            "bottom": null,
            "display": null,
            "flex": null,
            "flex_flow": null,
            "grid_area": null,
            "grid_auto_columns": null,
            "grid_auto_flow": null,
            "grid_auto_rows": null,
            "grid_column": null,
            "grid_gap": null,
            "grid_row": null,
            "grid_template_areas": null,
            "grid_template_columns": null,
            "grid_template_rows": null,
            "height": null,
            "justify_content": null,
            "justify_items": null,
            "left": null,
            "margin": null,
            "max_height": null,
            "max_width": null,
            "min_height": null,
            "min_width": null,
            "object_fit": null,
            "object_position": null,
            "order": null,
            "overflow": null,
            "overflow_x": null,
            "overflow_y": null,
            "padding": null,
            "right": null,
            "top": null,
            "visibility": null,
            "width": null
          }
        },
        "ceb144bcd4564f14a8f018f729d93f2d": {
          "model_module": "@jupyter-widgets/controls",
          "model_module_version": "1.5.0",
          "model_name": "ProgressStyleModel",
          "state": {
            "_model_module": "@jupyter-widgets/controls",
            "_model_module_version": "1.5.0",
            "_model_name": "ProgressStyleModel",
            "_view_count": null,
            "_view_module": "@jupyter-widgets/base",
            "_view_module_version": "1.2.0",
            "_view_name": "StyleView",
            "bar_color": null,
            "description_width": ""
          }
        },
        "cf00bd77cb9c443ba7d04ffac3116c44": {
          "model_module": "@jupyter-widgets/controls",
          "model_module_version": "1.5.0",
          "model_name": "LabelModel",
          "state": {
            "_dom_classes": [],
            "_model_module": "@jupyter-widgets/controls",
            "_model_module_version": "1.5.0",
            "_model_name": "LabelModel",
            "_view_count": null,
            "_view_module": "@jupyter-widgets/controls",
            "_view_module_version": "1.5.0",
            "_view_name": "LabelView",
            "description": "",
            "description_tooltip": null,
            "layout": "IPY_MODEL_76408e70e7cd4b42828c1c31048ab1e6",
            "placeholder": "​",
            "style": "IPY_MODEL_74a33a72c12f4f06ac6fae44e0093839",
            "value": "Token is valid (permission: write)."
          }
        },
        "cfb37b50f4da4af4b6a9dbff68e10edd": {
          "model_module": "@jupyter-widgets/base",
          "model_module_version": "1.2.0",
          "model_name": "LayoutModel",
          "state": {
            "_model_module": "@jupyter-widgets/base",
            "_model_module_version": "1.2.0",
            "_model_name": "LayoutModel",
            "_view_count": null,
            "_view_module": "@jupyter-widgets/base",
            "_view_module_version": "1.2.0",
            "_view_name": "LayoutView",
            "align_content": null,
            "align_items": null,
            "align_self": null,
            "border": null,
            "bottom": null,
            "display": null,
            "flex": null,
            "flex_flow": null,
            "grid_area": null,
            "grid_auto_columns": null,
            "grid_auto_flow": null,
            "grid_auto_rows": null,
            "grid_column": null,
            "grid_gap": null,
            "grid_row": null,
            "grid_template_areas": null,
            "grid_template_columns": null,
            "grid_template_rows": null,
            "height": null,
            "justify_content": null,
            "justify_items": null,
            "left": null,
            "margin": null,
            "max_height": null,
            "max_width": null,
            "min_height": null,
            "min_width": null,
            "object_fit": null,
            "object_position": null,
            "order": null,
            "overflow": null,
            "overflow_x": null,
            "overflow_y": null,
            "padding": null,
            "right": null,
            "top": null,
            "visibility": null,
            "width": null
          }
        },
        "cfb6113f14e348eab7451ea5377c4d5d": {
          "model_module": "@jupyter-widgets/controls",
          "model_module_version": "1.5.0",
          "model_name": "HTMLModel",
          "state": {
            "_dom_classes": [],
            "_model_module": "@jupyter-widgets/controls",
            "_model_module_version": "1.5.0",
            "_model_name": "HTMLModel",
            "_view_count": null,
            "_view_module": "@jupyter-widgets/controls",
            "_view_module_version": "1.5.0",
            "_view_name": "HTMLView",
            "description": "",
            "description_tooltip": null,
            "layout": "IPY_MODEL_69c1ee2fc8c546da93b933b1ffa480f8",
            "placeholder": "​",
            "style": "IPY_MODEL_b2b998822679414d99f5d47e5218e2a7",
            "value": " 6626/6626 [00:00&lt;00:00, 186742.94 examples/s]"
          }
        },
        "d25a3b52d6b54e35acf37f53277836f7": {
          "model_module": "@jupyter-widgets/controls",
          "model_module_version": "1.5.0",
          "model_name": "VBoxModel",
          "state": {
            "_dom_classes": [],
            "_model_module": "@jupyter-widgets/controls",
            "_model_module_version": "1.5.0",
            "_model_name": "VBoxModel",
            "_view_count": null,
            "_view_module": "@jupyter-widgets/controls",
            "_view_module_version": "1.5.0",
            "_view_name": "VBoxView",
            "box_style": "",
            "children": [
              "IPY_MODEL_cf00bd77cb9c443ba7d04ffac3116c44",
              "IPY_MODEL_fcd990c21ba842dca67af1c2b16dd45f",
              "IPY_MODEL_358bb5ef8c4947fba7c384bc4da65b8f",
              "IPY_MODEL_a8d2bfeedfbc4d0d9cd5e538f8b589f5"
            ],
            "layout": "IPY_MODEL_ec9b7b00dded4033a01a61a2569b6ca7"
          }
        },
        "dc7da30db6c347a0bd5cd391c4cfdf15": {
          "model_module": "@jupyter-widgets/controls",
          "model_module_version": "1.5.0",
          "model_name": "ProgressStyleModel",
          "state": {
            "_model_module": "@jupyter-widgets/controls",
            "_model_module_version": "1.5.0",
            "_model_name": "ProgressStyleModel",
            "_view_count": null,
            "_view_module": "@jupyter-widgets/base",
            "_view_module_version": "1.2.0",
            "_view_name": "StyleView",
            "bar_color": null,
            "description_width": ""
          }
        },
        "e79217934b5243299bc4f826f3ae1a33": {
          "model_module": "@jupyter-widgets/base",
          "model_module_version": "1.2.0",
          "model_name": "LayoutModel",
          "state": {
            "_model_module": "@jupyter-widgets/base",
            "_model_module_version": "1.2.0",
            "_model_name": "LayoutModel",
            "_view_count": null,
            "_view_module": "@jupyter-widgets/base",
            "_view_module_version": "1.2.0",
            "_view_name": "LayoutView",
            "align_content": null,
            "align_items": null,
            "align_self": null,
            "border": null,
            "bottom": null,
            "display": null,
            "flex": null,
            "flex_flow": null,
            "grid_area": null,
            "grid_auto_columns": null,
            "grid_auto_flow": null,
            "grid_auto_rows": null,
            "grid_column": null,
            "grid_gap": null,
            "grid_row": null,
            "grid_template_areas": null,
            "grid_template_columns": null,
            "grid_template_rows": null,
            "height": null,
            "justify_content": null,
            "justify_items": null,
            "left": null,
            "margin": null,
            "max_height": null,
            "max_width": null,
            "min_height": null,
            "min_width": null,
            "object_fit": null,
            "object_position": null,
            "order": null,
            "overflow": null,
            "overflow_x": null,
            "overflow_y": null,
            "padding": null,
            "right": null,
            "top": null,
            "visibility": null,
            "width": null
          }
        },
        "e9eb522103894d339a99697375e43bd6": {
          "model_module": "@jupyter-widgets/base",
          "model_module_version": "1.2.0",
          "model_name": "LayoutModel",
          "state": {
            "_model_module": "@jupyter-widgets/base",
            "_model_module_version": "1.2.0",
            "_model_name": "LayoutModel",
            "_view_count": null,
            "_view_module": "@jupyter-widgets/base",
            "_view_module_version": "1.2.0",
            "_view_name": "LayoutView",
            "align_content": null,
            "align_items": null,
            "align_self": null,
            "border": null,
            "bottom": null,
            "display": null,
            "flex": null,
            "flex_flow": null,
            "grid_area": null,
            "grid_auto_columns": null,
            "grid_auto_flow": null,
            "grid_auto_rows": null,
            "grid_column": null,
            "grid_gap": null,
            "grid_row": null,
            "grid_template_areas": null,
            "grid_template_columns": null,
            "grid_template_rows": null,
            "height": null,
            "justify_content": null,
            "justify_items": null,
            "left": null,
            "margin": null,
            "max_height": null,
            "max_width": null,
            "min_height": null,
            "min_width": null,
            "object_fit": null,
            "object_position": null,
            "order": null,
            "overflow": null,
            "overflow_x": null,
            "overflow_y": null,
            "padding": null,
            "right": null,
            "top": null,
            "visibility": null,
            "width": null
          }
        },
        "ea0d5b44872841c1886cc830689599e8": {
          "model_module": "@jupyter-widgets/controls",
          "model_module_version": "1.5.0",
          "model_name": "DescriptionStyleModel",
          "state": {
            "_model_module": "@jupyter-widgets/controls",
            "_model_module_version": "1.5.0",
            "_model_name": "DescriptionStyleModel",
            "_view_count": null,
            "_view_module": "@jupyter-widgets/base",
            "_view_module_version": "1.2.0",
            "_view_name": "StyleView",
            "description_width": ""
          }
        },
        "ec7070ec04dc40c09a5a13bc350b73e9": {
          "model_module": "@jupyter-widgets/base",
          "model_module_version": "1.2.0",
          "model_name": "LayoutModel",
          "state": {
            "_model_module": "@jupyter-widgets/base",
            "_model_module_version": "1.2.0",
            "_model_name": "LayoutModel",
            "_view_count": null,
            "_view_module": "@jupyter-widgets/base",
            "_view_module_version": "1.2.0",
            "_view_name": "LayoutView",
            "align_content": null,
            "align_items": null,
            "align_self": null,
            "border": null,
            "bottom": null,
            "display": null,
            "flex": null,
            "flex_flow": null,
            "grid_area": null,
            "grid_auto_columns": null,
            "grid_auto_flow": null,
            "grid_auto_rows": null,
            "grid_column": null,
            "grid_gap": null,
            "grid_row": null,
            "grid_template_areas": null,
            "grid_template_columns": null,
            "grid_template_rows": null,
            "height": null,
            "justify_content": null,
            "justify_items": null,
            "left": null,
            "margin": null,
            "max_height": null,
            "max_width": null,
            "min_height": null,
            "min_width": null,
            "object_fit": null,
            "object_position": null,
            "order": null,
            "overflow": null,
            "overflow_x": null,
            "overflow_y": null,
            "padding": null,
            "right": null,
            "top": null,
            "visibility": null,
            "width": null
          }
        },
        "ec794a8ade2f444994b74576d2ceca10": {
          "model_module": "@jupyter-widgets/base",
          "model_module_version": "1.2.0",
          "model_name": "LayoutModel",
          "state": {
            "_model_module": "@jupyter-widgets/base",
            "_model_module_version": "1.2.0",
            "_model_name": "LayoutModel",
            "_view_count": null,
            "_view_module": "@jupyter-widgets/base",
            "_view_module_version": "1.2.0",
            "_view_name": "LayoutView",
            "align_content": null,
            "align_items": null,
            "align_self": null,
            "border": null,
            "bottom": null,
            "display": null,
            "flex": null,
            "flex_flow": null,
            "grid_area": null,
            "grid_auto_columns": null,
            "grid_auto_flow": null,
            "grid_auto_rows": null,
            "grid_column": null,
            "grid_gap": null,
            "grid_row": null,
            "grid_template_areas": null,
            "grid_template_columns": null,
            "grid_template_rows": null,
            "height": null,
            "justify_content": null,
            "justify_items": null,
            "left": null,
            "margin": null,
            "max_height": null,
            "max_width": null,
            "min_height": null,
            "min_width": null,
            "object_fit": null,
            "object_position": null,
            "order": null,
            "overflow": null,
            "overflow_x": null,
            "overflow_y": null,
            "padding": null,
            "right": null,
            "top": null,
            "visibility": null,
            "width": null
          }
        },
        "ec9b7b00dded4033a01a61a2569b6ca7": {
          "model_module": "@jupyter-widgets/base",
          "model_module_version": "1.2.0",
          "model_name": "LayoutModel",
          "state": {
            "_model_module": "@jupyter-widgets/base",
            "_model_module_version": "1.2.0",
            "_model_name": "LayoutModel",
            "_view_count": null,
            "_view_module": "@jupyter-widgets/base",
            "_view_module_version": "1.2.0",
            "_view_name": "LayoutView",
            "align_content": null,
            "align_items": "center",
            "align_self": null,
            "border": null,
            "bottom": null,
            "display": "flex",
            "flex": null,
            "flex_flow": "column",
            "grid_area": null,
            "grid_auto_columns": null,
            "grid_auto_flow": null,
            "grid_auto_rows": null,
            "grid_column": null,
            "grid_gap": null,
            "grid_row": null,
            "grid_template_areas": null,
            "grid_template_columns": null,
            "grid_template_rows": null,
            "height": null,
            "justify_content": null,
            "justify_items": null,
            "left": null,
            "margin": null,
            "max_height": null,
            "max_width": null,
            "min_height": null,
            "min_width": null,
            "object_fit": null,
            "object_position": null,
            "order": null,
            "overflow": null,
            "overflow_x": null,
            "overflow_y": null,
            "padding": null,
            "right": null,
            "top": null,
            "visibility": null,
            "width": "50%"
          }
        },
        "f5f62e485e0c451db7b5cf08ea6ded93": {
          "model_module": "@jupyter-widgets/base",
          "model_module_version": "1.2.0",
          "model_name": "LayoutModel",
          "state": {
            "_model_module": "@jupyter-widgets/base",
            "_model_module_version": "1.2.0",
            "_model_name": "LayoutModel",
            "_view_count": null,
            "_view_module": "@jupyter-widgets/base",
            "_view_module_version": "1.2.0",
            "_view_name": "LayoutView",
            "align_content": null,
            "align_items": null,
            "align_self": null,
            "border": null,
            "bottom": null,
            "display": null,
            "flex": null,
            "flex_flow": null,
            "grid_area": null,
            "grid_auto_columns": null,
            "grid_auto_flow": null,
            "grid_auto_rows": null,
            "grid_column": null,
            "grid_gap": null,
            "grid_row": null,
            "grid_template_areas": null,
            "grid_template_columns": null,
            "grid_template_rows": null,
            "height": null,
            "justify_content": null,
            "justify_items": null,
            "left": null,
            "margin": null,
            "max_height": null,
            "max_width": null,
            "min_height": null,
            "min_width": null,
            "object_fit": null,
            "object_position": null,
            "order": null,
            "overflow": null,
            "overflow_x": null,
            "overflow_y": null,
            "padding": null,
            "right": null,
            "top": null,
            "visibility": null,
            "width": null
          }
        },
        "f77ee596a8dc4f0f82a49aa4eb010cba": {
          "model_module": "@jupyter-widgets/base",
          "model_module_version": "1.2.0",
          "model_name": "LayoutModel",
          "state": {
            "_model_module": "@jupyter-widgets/base",
            "_model_module_version": "1.2.0",
            "_model_name": "LayoutModel",
            "_view_count": null,
            "_view_module": "@jupyter-widgets/base",
            "_view_module_version": "1.2.0",
            "_view_name": "LayoutView",
            "align_content": null,
            "align_items": null,
            "align_self": null,
            "border": null,
            "bottom": null,
            "display": null,
            "flex": null,
            "flex_flow": null,
            "grid_area": null,
            "grid_auto_columns": null,
            "grid_auto_flow": null,
            "grid_auto_rows": null,
            "grid_column": null,
            "grid_gap": null,
            "grid_row": null,
            "grid_template_areas": null,
            "grid_template_columns": null,
            "grid_template_rows": null,
            "height": null,
            "justify_content": null,
            "justify_items": null,
            "left": null,
            "margin": null,
            "max_height": null,
            "max_width": null,
            "min_height": null,
            "min_width": null,
            "object_fit": null,
            "object_position": null,
            "order": null,
            "overflow": null,
            "overflow_x": null,
            "overflow_y": null,
            "padding": null,
            "right": null,
            "top": null,
            "visibility": null,
            "width": null
          }
        },
        "f9655974ad84484aa9435348ab67e935": {
          "model_module": "@jupyter-widgets/controls",
          "model_module_version": "1.5.0",
          "model_name": "DescriptionStyleModel",
          "state": {
            "_model_module": "@jupyter-widgets/controls",
            "_model_module_version": "1.5.0",
            "_model_name": "DescriptionStyleModel",
            "_view_count": null,
            "_view_module": "@jupyter-widgets/base",
            "_view_module_version": "1.2.0",
            "_view_name": "StyleView",
            "description_width": ""
          }
        },
        "fa16c560cdbc4e33adbe558648193f5d": {
          "model_module": "@jupyter-widgets/controls",
          "model_module_version": "1.5.0",
          "model_name": "LabelModel",
          "state": {
            "_dom_classes": [],
            "_model_module": "@jupyter-widgets/controls",
            "_model_module_version": "1.5.0",
            "_model_name": "LabelModel",
            "_view_count": null,
            "_view_module": "@jupyter-widgets/controls",
            "_view_module_version": "1.5.0",
            "_view_name": "LabelView",
            "description": "",
            "description_tooltip": null,
            "layout": "IPY_MODEL_5b5b492528b941b38a4fe56cdbaf028f",
            "placeholder": "​",
            "style": "IPY_MODEL_f9655974ad84484aa9435348ab67e935",
            "value": "0.036 MB of 0.036 MB uploaded\r"
          }
        },
        "fa459cdace064b98a30040096aba55f2": {
          "model_module": "@jupyter-widgets/controls",
          "model_module_version": "1.5.0",
          "model_name": "CheckboxModel",
          "state": {
            "_dom_classes": [],
            "_model_module": "@jupyter-widgets/controls",
            "_model_module_version": "1.5.0",
            "_model_name": "CheckboxModel",
            "_view_count": null,
            "_view_module": "@jupyter-widgets/controls",
            "_view_module_version": "1.5.0",
            "_view_name": "CheckboxView",
            "description": "Add token as git credential?",
            "description_tooltip": null,
            "disabled": false,
            "indent": true,
            "layout": "IPY_MODEL_6fbedfe34920466b90144c7bb6047ec3",
            "style": "IPY_MODEL_98c4f6341e2c4d25a50eaf9972ea8292",
            "value": true
          }
        },
        "fbbd4710990644889f5313b7b56f8331": {
          "model_module": "@jupyter-widgets/controls",
          "model_module_version": "1.5.0",
          "model_name": "HTMLModel",
          "state": {
            "_dom_classes": [],
            "_model_module": "@jupyter-widgets/controls",
            "_model_module_version": "1.5.0",
            "_model_name": "HTMLModel",
            "_view_count": null,
            "_view_module": "@jupyter-widgets/controls",
            "_view_module_version": "1.5.0",
            "_view_name": "HTMLView",
            "description": "",
            "description_tooltip": null,
            "layout": "IPY_MODEL_96e568e880904b70816c4ea170c28ec9",
            "placeholder": "​",
            "style": "IPY_MODEL_290e5e3286f14682bbcc47e3cbe5c205",
            "value": "Map: 100%"
          }
        },
        "fcd990c21ba842dca67af1c2b16dd45f": {
          "model_module": "@jupyter-widgets/controls",
          "model_module_version": "1.5.0",
          "model_name": "LabelModel",
          "state": {
            "_dom_classes": [],
            "_model_module": "@jupyter-widgets/controls",
            "_model_module_version": "1.5.0",
            "_model_name": "LabelModel",
            "_view_count": null,
            "_view_module": "@jupyter-widgets/controls",
            "_view_module_version": "1.5.0",
            "_view_name": "LabelView",
            "description": "",
            "description_tooltip": null,
            "layout": "IPY_MODEL_628d1299961345e7a9ba48b3b13d0792",
            "placeholder": "​",
            "style": "IPY_MODEL_8f3ee68f216340b88500de004d7abd62",
            "value": "Your token has been saved in your configured git credential helpers (store)."
          }
        },
        "fd2ab0500fb840e8b4c1291176b55c5a": {
          "model_module": "@jupyter-widgets/base",
          "model_module_version": "1.2.0",
          "model_name": "LayoutModel",
          "state": {
            "_model_module": "@jupyter-widgets/base",
            "_model_module_version": "1.2.0",
            "_model_name": "LayoutModel",
            "_view_count": null,
            "_view_module": "@jupyter-widgets/base",
            "_view_module_version": "1.2.0",
            "_view_name": "LayoutView",
            "align_content": null,
            "align_items": null,
            "align_self": null,
            "border": null,
            "bottom": null,
            "display": null,
            "flex": null,
            "flex_flow": null,
            "grid_area": null,
            "grid_auto_columns": null,
            "grid_auto_flow": null,
            "grid_auto_rows": null,
            "grid_column": null,
            "grid_gap": null,
            "grid_row": null,
            "grid_template_areas": null,
            "grid_template_columns": null,
            "grid_template_rows": null,
            "height": null,
            "justify_content": null,
            "justify_items": null,
            "left": null,
            "margin": null,
            "max_height": null,
            "max_width": null,
            "min_height": null,
            "min_width": null,
            "object_fit": null,
            "object_position": null,
            "order": null,
            "overflow": null,
            "overflow_x": null,
            "overflow_y": null,
            "padding": null,
            "right": null,
            "top": null,
            "visibility": null,
            "width": null
          }
        }
      }
    }
  },
  "nbformat": 4,
  "nbformat_minor": 0
}
