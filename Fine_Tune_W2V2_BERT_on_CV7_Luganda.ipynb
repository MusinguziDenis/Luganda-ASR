{
 "cells": [
  {
   "cell_type": "markdown",
   "metadata": {
    "id": "LBSYoWbi-45k"
   },
   "source": [
    "# **Fine-Tune W2V2-Bert for low-resource ASR with 🤗 Transformers**\n",
    "\n",
    "***New (01/2024)***: *This blog post is strongly inspired by \"[Fine-tuning XLS-R on Multi-Lingual ASR](https://huggingface.co/blog/fine-tune-xlsr-wav2vec2)\"* and [\"Fine-tuning MMS Adapter Models for Multi-Lingual ASR\"](https://huggingface.co/blog/mms_adapters)."
   ]
  },
  {
   "cell_type": "markdown",
   "metadata": {
    "id": "JLIkmXfiCmFJ"
   },
   "source": [
    "## Motivation\n",
    "\n",
    "[Whisper](https://huggingface.co/blog/fine-tune-whisper#introduction) is a suite of ASR models, commonly accepted as the best performing models for the ASR task. It provides state-of-the-art performance for English ASR, while being well suited to multilingual fine-tuning from limited resources.\n",
    "\n",
    "However, when it comes to \"resource-poor\" languages such as Mongolian, Whisper performs poorly, as seen in section D.2.2 of the [Whisper paper](https://cdn.openai.com/papers/whisper.pdf) - Mongolian or Malayalam achieved over 100% WER at every Whisper checkpoint. The checkpoint available also have a limited vocabulary and therefore cannot be fine-tuned on a language whose alphabet does not overlap with this vocabulary.\n",
    "\n",
    "In addition, Whisper is a sequence-to-sequence model that performs ASR autoregressively, making it inherently \"slow\".\n",
    "\n",
    "Faced with limited resources - both in terms of training data availability and inference constraints - more \"frugal\" models are needed. In this case, Wav2Vec2-BERT is just the thing.\n",
    "\n",
    "**Wav2Vec2-BERT** predicts ASR in a single pass, making it much faster than Whisper. As this notebook will show, it requires **little data** to achieve **competitive performance**, is **easily adaptable** to any alphabet, and is **more resource-efficient**.\n",
    "\n",
    "In fact, it achieves **similar WER performance** on Mongolian ASR compared with [Whisper-large-v3](https://huggingface.co/openai/whisper-large-v3) after similar fine-tuning, while being over **8x faster** and **2.5x more resource-efficient**.\n"
   ]
  },
  {
   "cell_type": "markdown",
   "metadata": {
    "id": "nT_QrfWtsxIz"
   },
   "source": [
    "## Notebook Setup"
   ]
  },
  {
   "cell_type": "markdown",
   "metadata": {
    "id": "wcHuXIaWyHZU"
   },
   "source": [
    "First, let's try to get a good GPU in our colab! With Google Colab's free version it's sadly becoming much harder to get access to a good GPU. With Google Colab Pro, however, one should easily get either a V100 or P100 GPU."
   ]
  },
  {
   "cell_type": "code",
   "execution_count": 1,
   "metadata": {
    "colab": {
     "base_uri": "https://localhost:8080/"
    },
    "id": "YELVqGxMxnbG",
    "outputId": "59386f9b-36bf-4001-b664-4484186b08fe"
   },
   "outputs": [
    {
     "name": "stdout",
     "output_type": "stream",
     "text": [
      "Sun Mar  3 13:24:42 2024       \n",
      "+---------------------------------------------------------------------------------------+\n",
      "| NVIDIA-SMI 545.23.08              Driver Version: 545.23.08    CUDA Version: 12.3     |\n",
      "|-----------------------------------------+----------------------+----------------------+\n",
      "| GPU  Name                 Persistence-M | Bus-Id        Disp.A | Volatile Uncorr. ECC |\n",
      "| Fan  Temp   Perf          Pwr:Usage/Cap |         Memory-Usage | GPU-Util  Compute M. |\n",
      "|                                         |                      |               MIG M. |\n",
      "|=========================================+======================+======================|\n",
      "|   0  Tesla V100-SXM2-32GB           On  | 00000000:15:00.0 Off |                    0 |\n",
      "| N/A   29C    P0              41W / 300W |      0MiB / 32768MiB |      0%      Default |\n",
      "|                                         |                      |                  N/A |\n",
      "+-----------------------------------------+----------------------+----------------------+\n",
      "                                                                                         \n",
      "+---------------------------------------------------------------------------------------+\n",
      "| Processes:                                                                            |\n",
      "|  GPU   GI   CI        PID   Type   Process name                            GPU Memory |\n",
      "|        ID   ID                                                             Usage      |\n",
      "|=======================================================================================|\n",
      "|  No running processes found                                                           |\n",
      "+---------------------------------------------------------------------------------------+\n"
     ]
    }
   ],
   "source": [
    "gpu_info = !nvidia-smi\n",
    "gpu_info = '\\n'.join(gpu_info)\n",
    "if gpu_info.find('failed') >= 0:\n",
    "  print('Not connected to a GPU')\n",
    "else:\n",
    "  print(gpu_info)"
   ]
  },
  {
   "cell_type": "markdown",
   "metadata": {
    "id": "e335hPmdtASZ"
   },
   "source": [
    "Before we start, let's install `datasets` and `transformers`. Also, we need `accelerate` for training, `torchaudio` to load audio files and `jiwer` to evaluate our fine-tuned model using the [word error rate (WER)](https://huggingface.co/metrics/wer) metric ${}^1$."
   ]
  },
  {
   "cell_type": "code",
   "execution_count": null,
   "metadata": {
    "id": "c8eh87Hoee5d"
   },
   "outputs": [],
   "source": [
    "%%capture\n",
    "!pip install datasets\n",
    "!pip install transformers\n",
    "!pip install torchaudio\n",
    "!pip install jiwer\n",
    "!pip install accelerate -U"
   ]
  },
  {
   "cell_type": "markdown",
   "metadata": {
    "id": "0xxt_LwxDQlO"
   },
   "source": [
    "We strongly suggest to upload your training checkpoints directly to the [🤗 Hub](https://huggingface.co/) while training. The [🤗 Hub](https://huggingface.co/) provides:\n",
    "\n",
    "- Integrated version control: you can be sure that no model checkpoint is lost during training.\n",
    "- Tensorboard logs: track important metrics over the course of training.\n",
    "- Model cards: document what a model does and its intended use cases.\n",
    "- Community: an easy way to share and collaborate with the community!\n",
    "\n",
    "To do so, you have to store your authentication token from the Hugging Face website (sign up [here](https://huggingface.co/join) if you haven't already!). This is done by entering your Hub authentication token when prompted below. Find your Hub authentication token [here](https://huggingface.co/settings/tokens):"
   ]
  },
  {
   "cell_type": "code",
   "execution_count": 2,
   "metadata": {
    "colab": {
     "base_uri": "https://localhost:8080/",
     "height": 145,
     "referenced_widgets": [
      "94a356846e0449e99150ba0354ef84d6",
      "b3156845b0374af08f83b4d399b6fe3b",
      "bec94c58a96b4e159b0c89d3703fcf8b",
      "cf92d58a9dad4979abe697c51ac384b3",
      "90ccfb6f0d624f2da3f93ea025935366",
      "2efe770c63684242a61b9799bf56f727",
      "ee3fddc2c0e14d8aab5b941d45c40de2",
      "f6949cad62c04a0b8a7a14be2e0b15bc",
      "a096b6f6c8964d299b940792ea3efe88",
      "916d17092121477fb503f64483126516",
      "f248f032597d40219c42a18340e27752",
      "457c7b7119dc40b5b2d0ce16ab427396",
      "36c3ff2db17844be976a109026efb62f",
      "d76a0659510d4927931f86384cefa7df",
      "66cd214b7807441bbb17ddc142fdbddf",
      "88d100741c1f4e84aa39b83405e59b86",
      "93df25375d694127ac47dbc6a8d6fa0e",
      "5312df15bcc04efa89e0927882b36c72",
      "6a754d14922b4a7bb78adad83a6ff85b",
      "3e6b6dc87cc445caa6b50522a75e7b24",
      "4aedeb89aad646479e0937312f5c4d29",
      "99a91e2e8a204d6e8bede88eaab1999f",
      "8da957f86def4e22b63957e22329f789",
      "624ccb7ab79e41fba6c1fcc6d157fb1e",
      "aadcc49daa5f4724878bd8621d8b7bec",
      "e8c7eca4565b44d9ae12f070d7aeeff3",
      "fec45ef84e484724a4d21b95cb5777d7",
      "9e74b1ec8343401792a0bbf180914203",
      "8e0637f0c49a4f9eb0a301f8bbc0e621",
      "b5ef9a44b713452d9ce50c3ea29d8ff9",
      "f1c73f2b656e43db89c2b502811560f9",
      "b1569ffcd185420bbea946a7be9bb8ee"
     ]
    },
    "id": "mlMSH3T3EazV",
    "outputId": "83d15cdd-8e24-41d0-b3c6-bcb48b5882cc"
   },
   "outputs": [
    {
     "data": {
      "application/vnd.jupyter.widget-view+json": {
       "model_id": "98d9a341b7244731bc350e613da01200",
       "version_major": 2,
       "version_minor": 0
      },
      "text/plain": [
       "VBox(children=(HTML(value='<center> <img\\nsrc=https://huggingface.co/front/assets/huggingface_logo-noborder.sv…"
      ]
     },
     "metadata": {},
     "output_type": "display_data"
    }
   ],
   "source": [
    "from huggingface_hub import notebook_login\n",
    "\n",
    "notebook_login()"
   ]
  },
  {
   "cell_type": "markdown",
   "metadata": {
    "id": "ujdZ2TxhElk6"
   },
   "source": [
    "\n",
    "Then you need to install Git-LFS to upload your model checkpoints:"
   ]
  },
  {
   "cell_type": "code",
   "execution_count": 3,
   "metadata": {
    "id": "WcR-d83OEkqb"
   },
   "outputs": [],
   "source": [
    "%%capture\n",
    "!apt install git-lfs"
   ]
  },
  {
   "cell_type": "markdown",
   "metadata": {
    "id": "Mn9swf6EQ9Vd"
   },
   "source": [
    "\n",
    "\n",
    "\n",
    "---\n",
    "\n",
    "${}^1$ In the [paper](https://arxiv.org/pdf/2006.13979.pdf), the model was evaluated using the phoneme error rate (PER), but by far the most common metric in ASR is the word error rate (WER). To keep this notebook as general as possible we decided to evaluate the model using WER."
   ]
  },
  {
   "cell_type": "markdown",
   "metadata": {
    "id": "0mW-C1Nt-j7k"
   },
   "source": [
    "## Prepare Data, Tokenizer, Feature Extractor"
   ]
  },
  {
   "cell_type": "markdown",
   "metadata": {
    "id": "BeBosnY9BH3e"
   },
   "source": [
    "ASR models transcribe speech to text, which means that we both need a feature extractor that processes the speech signal to the model's input format, *e.g.* a feature vector, and a tokenizer that processes the model's output format to text.\n",
    "\n",
    "In 🤗 Transformers, the Wav2Vec2-BERT model is thus accompanied by both a tokenizer, called [Wav2Vec2CTCTokenizer](https://huggingface.co/transformers/master/model_doc/wav2vec2.html#wav2vec2ctctokenizer), and a feature extractor, called [SeamlessM4TFeatureExtractor](https://huggingface.co/docs/transformers/v4.36.1/en/model_doc/seamless_m4t#transformers.SeamlessM4TFeatureExtractor) that the model shares with the [first](https://huggingface.co/docs/transformers/main/en/model_doc/seamless_m4t) and [second](https://huggingface.co/docs/transformers/main/en/model_doc/seamless_m4_v2t) versions of Seamless-M4T, as they all process audio in the same way.\n",
    "\n",
    "Let's start by creating the tokenizer to decode the predicted output classes to the output transcription."
   ]
  },
  {
   "cell_type": "markdown",
   "metadata": {
    "id": "sEXEWEJGQPqD"
   },
   "source": [
    "### Create `Wav2Vec2CTCTokenizer`"
   ]
  },
  {
   "cell_type": "markdown",
   "metadata": {
    "id": "tWmMikuNEKl_"
   },
   "source": [
    "Remember that Wav2Vec2-like models fine-tuned on CTC transcribe an audio file with a single forward pass by first processing the audio input into a sequence of processed context representations and then using the final vocabulary output layer to classify each context representation to a character that represents the transcription."
   ]
  },
  {
   "cell_type": "markdown",
   "metadata": {
    "id": "v5oRE8XjIUH3"
   },
   "source": [
    "The output size of this layer corresponds to the number of tokens in the vocabulary, and therefore only on the labeled dataset used for fine-tuning. So in the first step, we will take a look at the chosen dataset of Common Voice and define a vocabulary based on the transcriptions."
   ]
  },
  {
   "cell_type": "markdown",
   "metadata": {
    "id": "idBczw8mWzgt"
   },
   "source": [
    "For this notebook, we will use [Common Voice's 16.0 dataset](https://huggingface.co/datasets/mozilla-foundation/common_voice_16_0) for Mongolian. Mongolian corresponds to the language code `\"mn\"`.\n",
    "\n",
    "Now we can use 🤗 Datasets' simple API to download the data. The dataset name is `\"mozilla-foundation/common_voice_16_0\"`, the configuration name corresponds to the language code, which is `\"mn\"` in our case.\n",
    "\n",
    "**Note**: Before being able to download the dataset, you have to access it by logging into your Hugging Face account, going on the [dataset repo page](https://huggingface.co/datasets/mozilla-foundation/common_voice_16_0) and clicking on:"
   ]
  },
  {
   "cell_type": "markdown",
   "metadata": {
    "id": "bS7ctVpHrQR_"
   },
   "source": [
    "![image.png](data:image/png;base64,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)"
   ]
  },
  {
   "cell_type": "markdown",
   "metadata": {
    "id": "bee4g9rpLxll"
   },
   "source": [
    "Common Voice has many different splits including `invalidated`, which refers to data that was not rated as \"clean enough\" to be considered useful. In this notebook, we will only make use of the splits `\"train\"`, `\"validation\"` and `\"test\"`.\n",
    "\n",
    "Because the Mongolian dataset is so small, we will merge both the validation and training data into a training dataset and only use the test data for validation."
   ]
  },
  {
   "cell_type": "code",
   "execution_count": null,
   "metadata": {
    "colab": {
     "base_uri": "https://localhost:8080/",
     "height": 724,
     "referenced_widgets": [
      "ae94acec66144ef9afdd78422d9ed1bf",
      "b9bc643bcf3b4f629e662bb933923cfc",
      "bf9e0160d75141c487bfaa12319858e4",
      "b2ac70e4752a4ca08f3dd3b4d7f1d472",
      "349b4f45076f4537a35c5ef3d18360f5",
      "197c65e6880b4f6f9cf134e030cf7378",
      "0f3a91482d3a427bae45d480ab581954",
      "5ceacb3901f94417baaf9cbc16639bfc",
      "711de682c83b4d8686c13cf2f738e475",
      "f745382805ed4370852db37cc9547c80",
      "a2b15e9f24e74657a734b258bd97659b",
      "d531bfa47b454b57b1ea84c6b9cb51f9",
      "34e0d0057a8949bb9e6d7e1333a56210",
      "64bdc9e80e034e93bc380fc2a364fbf6",
      "8cb374e440194c24b630c9c901b1246c",
      "fe4e5fd7c74c4e0ebab2b78fb25e931e",
      "f756ea163f5c46c3a8d0a436b591af4a",
      "0773e09201ef454bbc12ce31fc1bb52f",
      "e58cf6a132784de880dc566de6924a70",
      "5784a2ff5d954225995b7f005fad62a6",
      "8dfd144083fb4668901a3ebe8793f079",
      "a4f789b00e71460eb0f02a6d24199d2a",
      "f402724078e242bc97e770fa3d6bc7cc",
      "e7179ecf68944957b47ebd396b71f84c",
      "74688e61df6745c0a11abe5b4551ad85",
      "0a9db19757f1491da3a8e8af13041acb",
      "42db5ab47950400cb62fd40d0623dabe",
      "cc0f8804110c4e478e9026ddf658f231",
      "ef81b16d906c4706bfec9c52c1ba7a31",
      "3d6f6142f4da4d26b5bcfcf3d3459451",
      "952b4c18cfd341639203301e314c42a0",
      "09525173c22f475aac6a9a2f79f0ca92",
      "6734a45b0d3049369c2772fea4caca65",
      "0c4863a6e2d646a8a6a72be2b9f57abc",
      "41754990023244739981819e70d646aa",
      "98358ecf9250411b9ac62c0c293582fc",
      "f8f7e7f55e5946d3beec998bce946d60",
      "497bee8f2bb94477b342f889e5116117",
      "97bccc224098417bb44307c538b46de1",
      "22e6e65580a643b6b057b764e0ca87ab",
      "1946a60256fa45c0832ead631424059d",
      "38fab194963c42e296927e12c2fff376",
      "9bfefa71e79c4abf9e429fb259dadd59",
      "1ea441c9e8f94aa9967e6e6e946364b4",
      "1e08c21f31fe44e18730b546cc0ea120",
      "99d7d4b441504999bd5416c1cd3205ae",
      "32f96e8cbd394446b1b6febc9712f3f5",
      "699c51ed4646490db3adc0e502aec4d9",
      "6d3da0b643c44ba480ea5388571f996f",
      "60ec9400dba44d30ac3399bceb134cd4",
      "5154648875764c4f821480826119fc82",
      "6126ecc5488e4e47917287c3238128b6",
      "c2d958871b6c4b5297b8e3c5fd0524c7",
      "d6aaedf9f76747a391177409c34ebbcf",
      "8bcdb3b197c840269ffc0fcaa041ad88",
      "42176e56e87240f98b9ba43d874800be",
      "ceaef89450304e1393a087c3cba9d670",
      "ef77aa4bf4d9476bb17056ee44f7f33a",
      "1433d80787ab4463b6639eb175cc2d66",
      "f3e0b834d9624bfeb12abbe6ffeede51",
      "78f7a618d76b411ebabf085d809ae95a",
      "24f5c4ed53594222817dcbe7f3fd01e6",
      "54618323821443f09aef28c891e6fb79",
      "957445d05d7441349fe9c1c561ccafdd",
      "dcd21a5468674ea8af9cb955a4ac21db",
      "1453d855e401464891564c1b3f0e0296",
      "9ef41911f26c449c970728e2ca90769c",
      "3243b57838cc4362b10414dd7b68378e",
      "3f3527f318584431a70e4f6a31688ce1",
      "e512c9f3c5eb49849bd17c7c852e8843",
      "1a4f2353154547348ca902e612bb15bd",
      "86cc42e4e7d74733b63d3082eca0ef9c",
      "20228da0dc114136860b0ccdf2867d50",
      "aab5cbf0583c4a9c989f6ae259320a99",
      "970c612f2a93451494978a446efc56bf",
      "ceedfa91800a484eaef24818d5dfd856",
      "4538b7a279d0469bbd21abc7bac27312",
      "2ebb1d27f98c44f89f6912c52103fb53",
      "b5eea1bf76394153bf01d9a5613357e9",
      "31b4254bb02d4e3f81e6f925f567e4f7",
      "9c8d2b0c618e47ce9c7e42351b416da1",
      "cd5efd47e24f4d3d973e7fe175b8a0f0",
      "104b877f2bea4dffbee766478c3e6194",
      "a591e67d616a474f8b23064ff2ba9400",
      "5642f641854a413187fe6f88b852b936",
      "2f80e86cab034092a73ed9e628e455c2",
      "f1180cfe2644462bbf38ac4e5f81dee8",
      "6f2b780742144763a2b2b3af661e31d1",
      "e59e59ea63a34aa4a966260863621be2",
      "dbdf1449f4a54401b9227e0da83ba153",
      "ed7394d51b684974a9b4e28ceca73c72",
      "4f0a93c3bc6f4b4ea4356f02a406f3e4",
      "28cb7bdf0c10479496d34f14cd58f68d",
      "e0c1792b70f14f63b5aeb2b7c892d552",
      "91303af16b13431b871a8f402c01670f",
      "9249815c7e274ae19e4411b82cbe8622",
      "76dad6452fcf44f4abb4425d0c84ea84",
      "55cb8c9c9e01404bb702d0fa3bf9fb39",
      "6ffc6562d95d4a4d96139c052cb02c64",
      "e0f442d5f7734ca8b5446b7d79ab9c1d",
      "7fc9a659ffd641759ad915bcf9419896",
      "d16c6c50f0cb490a92f9a81bfd1354fa",
      "e678cefb4d4147578c84275f62cb6c0c",
      "c86c58c4f4fd48c29ab97ffa0fdbde69",
      "23f5dc7b80da450b870d6c0e55a2e036",
      "14020d02141d4348ac1212aacaa3db93",
      "88d61c2794be4a99bde23143b19f66c6",
      "af9886a02a7d4eeb8d4899c64e1c1379",
      "71b2a9bc97c64fef81f29941ff990c9e",
      "9bc12c5fdabe46caa672b4086f53efe9"
     ]
    },
    "id": "2MMXcWFFgCXU",
    "outputId": "1c303266-8a3e-4f93-8b49-73ab8572f5bb"
   },
   "outputs": [
    {
     "data": {
      "application/vnd.jupyter.widget-view+json": {
       "model_id": "941265a0f3ca49d8ad7800ab8e37c361",
       "version_major": 2,
       "version_minor": 0
      },
      "text/plain": [
       "Downloading data:   0%|          | 0.00/58.3G [00:00<?, ?B/s]"
      ]
     },
     "metadata": {},
     "output_type": "display_data"
    }
   ],
   "source": [
    "from datasets import load_dataset, load_metric, Audio\n",
    "\n",
    "common_voice_train = load_dataset(\"mozilla-foundation/common_voice_7_0\", \"rw\", split=\"train+validation\", trust_remote_code=True)\n",
    "common_voice_test = load_dataset(\"mozilla-foundation/common_voice_7_0\", \"rw\", split=\"test\", trust_remote_code=True)"
   ]
  },
  {
   "cell_type": "markdown",
   "metadata": {
    "id": "ri5y5N_HMANq"
   },
   "source": [
    "Many ASR datasets only provide the target text, `'sentence'` for each audio array `'audio'` and file `'path'`. Common Voice actually provides much more information about each audio file, such as the `'accent'`, etc. Keeping the notebook as general as possible, we only consider the transcribed text for fine-tuning."
   ]
  },
  {
   "cell_type": "code",
   "execution_count": null,
   "metadata": {
    "id": "kbyq6lDgQc2a"
   },
   "outputs": [],
   "source": [
    "common_voice_train = common_voice_train.remove_columns([\"accent\", \"age\", \"client_id\", \"down_votes\", \"gender\", \"locale\", \"segment\", \"up_votes\"])\n",
    "common_voice_test = common_voice_test.remove_columns([\"accent\", \"age\", \"client_id\", \"down_votes\", \"gender\", \"locale\", \"segment\", \"up_votes\"])"
   ]
  },
  {
   "cell_type": "markdown",
   "metadata": {
    "id": "Go9Hq4e4NDT9"
   },
   "source": [
    "Let's write a short function to display some random samples of the dataset and run it a couple of times to get a feeling for the transcriptions."
   ]
  },
  {
   "cell_type": "code",
   "execution_count": 6,
   "metadata": {
    "id": "72737oog2F6U"
   },
   "outputs": [],
   "source": [
    "from datasets import ClassLabel\n",
    "import random\n",
    "import pandas as pd\n",
    "from IPython.display import display, HTML\n",
    "\n",
    "def show_random_elements(dataset, num_examples=10):\n",
    "    assert num_examples <= len(dataset), \"Can't pick more elements than there are in the dataset.\"\n",
    "    picks = []\n",
    "    for _ in range(num_examples):\n",
    "        pick = random.randint(0, len(dataset)-1)\n",
    "        while pick in picks:\n",
    "            pick = random.randint(0, len(dataset)-1)\n",
    "        picks.append(pick)\n",
    "\n",
    "    df = pd.DataFrame(dataset[picks])\n",
    "    display(HTML(df.to_html()))"
   ]
  },
  {
   "cell_type": "code",
   "execution_count": 7,
   "metadata": {
    "colab": {
     "base_uri": "https://localhost:8080/",
     "height": 363
    },
    "id": "K_JUmf3G3b9S",
    "outputId": "0a959cfe-fe92-4a66-cd47-6c260f6f5778"
   },
   "outputs": [
    {
     "data": {
      "text/html": [
       "<table border=\"1\" class=\"dataframe\">\n",
       "  <thead>\n",
       "    <tr style=\"text-align: right;\">\n",
       "      <th></th>\n",
       "      <th>sentence</th>\n",
       "    </tr>\n",
       "  </thead>\n",
       "  <tbody>\n",
       "    <tr>\n",
       "      <th>0</th>\n",
       "      <td>Abantu beetaaga kaabuyonjo ennungi.</td>\n",
       "    </tr>\n",
       "    <tr>\n",
       "      <th>1</th>\n",
       "      <td>Abantu balina okwagalana.</td>\n",
       "    </tr>\n",
       "    <tr>\n",
       "      <th>2</th>\n",
       "      <td>Abafumbo ensangi zino baawukana nnyo oba lwaki?</td>\n",
       "    </tr>\n",
       "    <tr>\n",
       "      <th>3</th>\n",
       "      <td>\"Ensimbi z'ebyemizannyo zitera okukwatibwa obubi ekireeta okukosa eby'emizannyo\"</td>\n",
       "    </tr>\n",
       "    <tr>\n",
       "      <th>4</th>\n",
       "      <td>\"Poliisi erina okukwasaganya emisango gy'emmundu egigenda gyeyongera.\"</td>\n",
       "    </tr>\n",
       "    <tr>\n",
       "      <th>5</th>\n",
       "      <td>Batuuziza olukiiko mu kisenge kya town hall eggulo.</td>\n",
       "    </tr>\n",
       "    <tr>\n",
       "      <th>6</th>\n",
       "      <td>\"Obusanduuko obubeeramu ebikebera omusujja gw'ensiri buyamba abantu ababeera mu byalo ddaala awatali musawo.\"</td>\n",
       "    </tr>\n",
       "    <tr>\n",
       "      <th>7</th>\n",
       "      <td>Ennaku zino tweyunira nnyo omutimbagano.</td>\n",
       "    </tr>\n",
       "    <tr>\n",
       "      <th>8</th>\n",
       "      <td>Abantu abamu beewola kubanga obulamu bwabwe babutambuliza wagulu ku nnyingiza zaabwe.</td>\n",
       "    </tr>\n",
       "    <tr>\n",
       "      <th>9</th>\n",
       "      <td>\"Omumwa n'ennyindo bifo bya bulabe nnyo.\"</td>\n",
       "    </tr>\n",
       "  </tbody>\n",
       "</table>"
      ],
      "text/plain": [
       "<IPython.core.display.HTML object>"
      ]
     },
     "metadata": {},
     "output_type": "display_data"
    }
   ],
   "source": [
    "show_random_elements(common_voice_train.remove_columns([\"path\", \"audio\"]), num_examples=10)"
   ]
  },
  {
   "cell_type": "markdown",
   "metadata": {
    "id": "fowcOllGNNju"
   },
   "source": [
    "Alright! The transcriptions look fairly clean. Having translated the transcribed sentences, it seems that the language corresponds more to written-out text than noisy dialogue. This makes sense considering that [Common Voice](https://huggingface.co/datasets/mozilla-foundation/common_voice_16_0) is a crowd-sourced read speech corpus."
   ]
  },
  {
   "cell_type": "markdown",
   "metadata": {
    "id": "vq7OR50LN49m"
   },
   "source": [
    "We can see that the transcriptions contain some special characters, such as `,.?!;:`. Without a language model, it is much harder to classify speech chunks to such special characters because they don't really correspond to a characteristic sound unit. *E.g.*, the letter `\"s\"` has a more or less clear sound, whereas the special character `\".\"` does not.\n",
    "Also in order to understand the meaning of a speech signal, it is usually not necessary to include special characters in the transcription.\n",
    "\n",
    "Let's simply remove all characters that don't contribute to the meaning of a word and cannot really be represented by an acoustic sound and normalize the text."
   ]
  },
  {
   "cell_type": "code",
   "execution_count": 8,
   "metadata": {
    "id": "svKzVJ_hQGK6"
   },
   "outputs": [],
   "source": [
    "import re\n",
    "chars_to_remove_regex = '[\\,\\?\\.\\!\\-\\;\\:\\\"\\“\\%\\‘\\”\\�\\'\\»\\«]'\n",
    "\n",
    "def remove_special_characters(batch):\n",
    "    # remove special characters\n",
    "    batch[\"sentence\"] = re.sub(chars_to_remove_regex, '', batch[\"sentence\"]).lower()\n",
    "\n",
    "    return batch"
   ]
  },
  {
   "cell_type": "code",
   "execution_count": 9,
   "metadata": {
    "colab": {
     "base_uri": "https://localhost:8080/",
     "height": 81,
     "referenced_widgets": [
      "e701fc5aa6014b8cb43ebfe6368253b2",
      "e0ce7a9456274644ace65492f3c67ec6",
      "6f933e3dcb7a4627b9510321bbede244",
      "3ba8b99a23eb4c43ad761124ae0df35a",
      "7382c494368d48dc97aacc111ea9c596",
      "d0c481b7c0524e66bb5c2b258a14c7d6",
      "ae2a92cb398d4f7ab29918af5a22ca5d",
      "355f7727ba4642bba828da2fd844a107",
      "611ada68c9554bb0acdcee0b1b0c7ea1",
      "381a63ea6fad4108b9d00760c8c35b15",
      "240beb39fd71470b883d77a303cd2873",
      "93ea3fb6bc5147318472b84fabd89492",
      "ec5f83428b884a439587e08b9dd0f851",
      "d00e50968ec84b2e9a6d719dd17a26c9",
      "4c0042bba1cf46d4a634ad27374a8162",
      "5c39d83d77224cda9fccd8ac9643b259",
      "7aa34f76690e4798a83cb177ec65f520",
      "fb89fb69c688420097d40c6bbdb2ab72",
      "f5c0bec50fd14d7fa805e30ead013630",
      "74f722f559024dc8a347972e69c9d5f3",
      "b3f2a267ea0c4ccc981f4d60d05678b6",
      "a8a1dfe0ae0143479e44904436db0a74"
     ]
    },
    "id": "XIHocAuTQbBR",
    "outputId": "f80b5c70-3163-47a4-a266-9c8b148142ab"
   },
   "outputs": [],
   "source": [
    "common_voice_train = common_voice_train.map(remove_special_characters)\n",
    "common_voice_test = common_voice_test.map(remove_special_characters)"
   ]
  },
  {
   "cell_type": "markdown",
   "metadata": {
    "id": "TxnVS9gIhIma"
   },
   "source": [
    "Let's look at the processed text labels again."
   ]
  },
  {
   "cell_type": "code",
   "execution_count": 10,
   "metadata": {
    "colab": {
     "base_uri": "https://localhost:8080/",
     "height": 363
    },
    "id": "RBDRAAYxRE6n",
    "outputId": "16f79e30-919c-4a94-ca6d-eaa0c8dc6206"
   },
   "outputs": [
    {
     "data": {
      "text/html": [
       "<table border=\"1\" class=\"dataframe\">\n",
       "  <thead>\n",
       "    <tr style=\"text-align: right;\">\n",
       "      <th></th>\n",
       "      <th>sentence</th>\n",
       "    </tr>\n",
       "  </thead>\n",
       "  <tbody>\n",
       "    <tr>\n",
       "      <th>0</th>\n",
       "      <td>amayuuni galimibwa mu bitundu ebirimu amazzi</td>\n",
       "    </tr>\n",
       "    <tr>\n",
       "      <th>1</th>\n",
       "      <td>ekirombe kibaddemu abantu bangi nnyo</td>\n",
       "    </tr>\n",
       "    <tr>\n",
       "      <th>2</th>\n",
       "      <td>okusinziira ku bunene bweddwaliro agamu gayina ebifo ebigendamu ebitanda ebitono</td>\n",
       "    </tr>\n",
       "    <tr>\n",
       "      <th>3</th>\n",
       "      <td>tulina okusonda ku sande ejja</td>\n",
       "    </tr>\n",
       "    <tr>\n",
       "      <th>4</th>\n",
       "      <td>kirabisse okukosa ebyobufuzi bya disitulikiti</td>\n",
       "    </tr>\n",
       "    <tr>\n",
       "      <th>5</th>\n",
       "      <td>abantu basanyufu olweddwaliro eppya</td>\n",
       "    </tr>\n",
       "    <tr>\n",
       "      <th>6</th>\n",
       "      <td>abakyala abatendekeddwa oluvannyuma batendeka abalala abaganyulwa mu bukugu</td>\n",
       "    </tr>\n",
       "    <tr>\n",
       "      <th>7</th>\n",
       "      <td>emmumbwa emu okuba ngejjanjaba endwadde nga kkumi kye kyannemesa okukkiririza mu kinnansi</td>\n",
       "    </tr>\n",
       "    <tr>\n",
       "      <th>8</th>\n",
       "      <td>gye twagenda okwanjula mukyala wa mukwano gwange waaliyo ensiri ennene</td>\n",
       "    </tr>\n",
       "    <tr>\n",
       "      <th>9</th>\n",
       "      <td>bwe twongera okwekalakaasa abantu bangi bagenda kukwatibwa basibibwe</td>\n",
       "    </tr>\n",
       "  </tbody>\n",
       "</table>"
      ],
      "text/plain": [
       "<IPython.core.display.HTML object>"
      ]
     },
     "metadata": {},
     "output_type": "display_data"
    }
   ],
   "source": [
    "show_random_elements(common_voice_train.remove_columns([\"path\",\"audio\"]))"
   ]
  },
  {
   "cell_type": "markdown",
   "metadata": {
    "id": "3ORHDb2Th2TW"
   },
   "source": [
    "In CTC, it is common to classify speech chunks into letters, so we will do the same here.\n",
    "Let's extract all distinct letters of the training and test data and build our vocabulary from this set of letters.\n",
    "\n",
    "We write a mapping function that concatenates all transcriptions into one long transcription and then transforms the string into a set of chars.\n",
    "It is important to pass the argument `batched=True` to the `map(...)` function so that the mapping function has access to all transcriptions at once."
   ]
  },
  {
   "cell_type": "code",
   "execution_count": 11,
   "metadata": {
    "id": "LwCshNbbeRZR"
   },
   "outputs": [],
   "source": [
    "def extract_all_chars(batch):\n",
    "  all_text = \" \".join(batch[\"sentence\"])\n",
    "  vocab = list(set(all_text))\n",
    "  return {\"vocab\": [vocab], \"all_text\": [all_text]}"
   ]
  },
  {
   "cell_type": "code",
   "execution_count": 12,
   "metadata": {
    "colab": {
     "base_uri": "https://localhost:8080/",
     "height": 81,
     "referenced_widgets": [
      "9feba72d58c54b93874991d00cb86396",
      "30489d9bdf1d4609872b6ae2a0c41c75",
      "3a6a6a0f93564d6694acc3536160c4b4",
      "8a562721fd934599b2ae213d67e68705",
      "a569e791db34430b8d251b00fe9fa0c1",
      "2019bb61e3a34e9c98db3eb9bb66b0f4",
      "245aa2b16af74a499f8212a235930628",
      "71276080798e45ba9e9514ca5a25952c",
      "262f443dfcd945e89c9b3a4cb85dd703",
      "8160fd2f8e3949898db9c5cc040a6992",
      "ad44de7369004d039bc40717df32ff5c",
      "8c72323a2c01430e8d5d15d285e7ee19",
      "b6d681e76e91474d89db07ab69472900",
      "dff35a20b3f946b28990f38238e73068",
      "56dd83cc98784c8f9741aff7e3a02bc8",
      "2438197eed7042abb4b8e17001705b71",
      "0fa207f602d2468cb8eff5c771d02200",
      "37dafafefaec4fe5ba3bfea36a257d2e",
      "6531904117ec4ac48cf5392467179dfe",
      "76bb2483357d4ebeadd4db6a063fba54",
      "53b3eb4111f34ade866a11b96422476e",
      "e6166fe6d6ee4794a93f24242620c6c3"
     ]
    },
    "id": "_m6uUjjcfbjH",
    "outputId": "053de5c4-4d2e-46d9-f703-085088aff90b"
   },
   "outputs": [
    {
     "data": {
      "application/vnd.jupyter.widget-view+json": {
       "model_id": "e719001e2e844883a3cedfbff4c2be43",
       "version_major": 2,
       "version_minor": 0
      },
      "text/plain": [
       "Map:   0%|          | 0/10175 [00:00<?, ? examples/s]"
      ]
     },
     "metadata": {},
     "output_type": "display_data"
    },
    {
     "data": {
      "application/vnd.jupyter.widget-view+json": {
       "model_id": "47db1b633e244883906381694b225eca",
       "version_major": 2,
       "version_minor": 0
      },
      "text/plain": [
       "Map:   0%|          | 0/4276 [00:00<?, ? examples/s]"
      ]
     },
     "metadata": {},
     "output_type": "display_data"
    }
   ],
   "source": [
    "vocab_train = common_voice_train.map(extract_all_chars, batched=True, batch_size=-1, keep_in_memory=True, remove_columns=common_voice_train.column_names)\n",
    "vocab_test = common_voice_test.map(extract_all_chars, batched=True, batch_size=-1, keep_in_memory=True, remove_columns=common_voice_test.column_names)"
   ]
  },
  {
   "cell_type": "markdown",
   "metadata": {
    "id": "7oVgE8RZSJNP"
   },
   "source": [
    "Now, we create the union of all distinct letters in the training dataset and test dataset and convert the resulting list into an enumerated dictionary."
   ]
  },
  {
   "cell_type": "code",
   "execution_count": 13,
   "metadata": {
    "id": "aQfneNsmlJI0"
   },
   "outputs": [],
   "source": [
    "vocab_list = list(set(vocab_train[\"vocab\"][0]) | set(vocab_test[\"vocab\"][0]))"
   ]
  },
  {
   "cell_type": "code",
   "execution_count": 53,
   "metadata": {
    "colab": {
     "base_uri": "https://localhost:8080/"
    },
    "id": "_0kRndSvqaKk",
    "outputId": "b28355b4-0317-4841-b4ac-814bb870ecaf"
   },
   "outputs": [
    {
     "data": {
      "text/plain": [
       "{' ': 0,\n",
       " '(': 1,\n",
       " ')': 2,\n",
       " 'a': 3,\n",
       " 'b': 4,\n",
       " 'c': 5,\n",
       " 'd': 6,\n",
       " 'e': 7,\n",
       " 'f': 8,\n",
       " 'g': 9,\n",
       " 'h': 10,\n",
       " 'i': 11,\n",
       " 'j': 12,\n",
       " 'k': 13,\n",
       " 'l': 14,\n",
       " 'm': 15,\n",
       " 'n': 16,\n",
       " 'o': 17,\n",
       " 'p': 18,\n",
       " 'r': 19,\n",
       " 's': 20,\n",
       " 't': 21,\n",
       " 'u': 22,\n",
       " 'v': 23,\n",
       " 'w': 24,\n",
       " 'x': 25,\n",
       " 'y': 26,\n",
       " 'z': 27,\n",
       " '’': 28}"
      ]
     },
     "execution_count": 53,
     "metadata": {},
     "output_type": "execute_result"
    }
   ],
   "source": [
    "vocab_dict = {v: k for k, v in enumerate(sorted(vocab_list))}\n",
    "vocab_dict"
   ]
  },
  {
   "cell_type": "markdown",
   "metadata": {
    "id": "jwfaptH5RJwA"
   },
   "source": [
    "Cool, we see that all letters of the alphabet occur in the dataset (which is not really surprising) and we also extracted the special character `\" \"`. Note that we did not exclude this special character because:\n",
    "\n",
    "The model has to learn to predict when a word is finished or else the model prediction would always be a sequence of chars which would make it impossible to separate words from each other.\n",
    "\n",
    "One should always keep in mind that pre-processing is a very important step before training your model. E.g., we don't want our model to differentiate between `a` and `A` just because we forgot to normalize the data. The difference between `a` and `A` does not depend on the \"sound\" of the letter at all, but more on grammatical rules - *e.g.* use a capitalized letter at the beginning of the sentence. So it is sensible to remove the difference between capitalized and non-capitalized letters so that the model has an easier time learning to transcribe speech.\n",
    "\n",
    "\n"
   ]
  },
  {
   "cell_type": "markdown",
   "metadata": {
    "id": "b1fBRCn-TRaO"
   },
   "source": [
    "To make it clearer that `\" \"` has its own token class, we give it a more visible character `|`. In addition, we also add an \"unknown\" token so that the model can later deal with characters not encountered in Common Voice's training set."
   ]
  },
  {
   "cell_type": "code",
   "execution_count": 54,
   "metadata": {},
   "outputs": [
    {
     "data": {
      "text/plain": [
       "31"
      ]
     },
     "execution_count": 54,
     "metadata": {},
     "output_type": "execute_result"
    }
   ],
   "source": [
    "vocab_dict[\"[UNK]\"] = len(vocab_dict)\n",
    "vocab_dict[\"[PAD]\"] = len(vocab_dict)\n",
    "len(vocab_dict)"
   ]
  },
  {
   "cell_type": "code",
   "execution_count": 55,
   "metadata": {
    "id": "npbIbBoLgaFX"
   },
   "outputs": [],
   "source": [
    "vocab_dict[\"|\"] = vocab_dict[\" \"]\n",
    "del vocab_dict[\" \"]\n",
    "del vocab_dict[\"(\"]\n",
    "del vocab_dict[\")\"]"
   ]
  },
  {
   "cell_type": "markdown",
   "metadata": {
    "id": "_9yCWg4Sd0cb"
   },
   "source": [
    "Finally, we also add a padding token that corresponds to CTC's \"*blank token*\".\n",
    "\n",
    "\n",
    "The \"blank token\" is a core component of the CTC algorithm. For more information, please take a look at the \"Alignment\" section [here](https://distill.pub/2017/ctc/)."
   ]
  },
  {
   "cell_type": "code",
   "execution_count": 56,
   "metadata": {},
   "outputs": [
    {
     "data": {
      "text/plain": [
       "{'a': 3,\n",
       " 'b': 4,\n",
       " 'c': 5,\n",
       " 'd': 6,\n",
       " 'e': 7,\n",
       " 'f': 8,\n",
       " 'g': 9,\n",
       " 'h': 10,\n",
       " 'i': 11,\n",
       " 'j': 12,\n",
       " 'k': 13,\n",
       " 'l': 14,\n",
       " 'm': 15,\n",
       " 'n': 16,\n",
       " 'o': 17,\n",
       " 'p': 18,\n",
       " 'r': 19,\n",
       " 's': 20,\n",
       " 't': 21,\n",
       " 'u': 22,\n",
       " 'v': 23,\n",
       " 'w': 24,\n",
       " 'x': 25,\n",
       " 'y': 26,\n",
       " 'z': 27,\n",
       " '’': 28,\n",
       " '[UNK]': 29,\n",
       " '[PAD]': 30,\n",
       " '|': 0}"
      ]
     },
     "execution_count": 56,
     "metadata": {},
     "output_type": "execute_result"
    }
   ],
   "source": [
    "vocab_dict"
   ]
  },
  {
   "cell_type": "markdown",
   "metadata": {
    "id": "SFPGfet8U5sL"
   },
   "source": [
    "Cool, now our vocabulary is complete and consists of 37 tokens, which means that the linear layer that we will add on top of the pretrained W2V-BERT checkpoint will have an output dimension of 37."
   ]
  },
  {
   "cell_type": "markdown",
   "metadata": {
    "id": "1CujRgBNVRaD"
   },
   "source": [
    "Let's now save the vocabulary as a json file."
   ]
  },
  {
   "cell_type": "code",
   "execution_count": 57,
   "metadata": {
    "id": "ehyUoh9vk191"
   },
   "outputs": [],
   "source": [
    "import json\n",
    "with open('vocab.json', 'w') as vocab_file:\n",
    "    json.dump(vocab_dict, vocab_file)"
   ]
  },
  {
   "cell_type": "markdown",
   "metadata": {
    "id": "SHJDaKlIVVim"
   },
   "source": [
    "In a final step, we use the json file to load the vocabulary into an instance of the `Wav2Vec2CTCTokenizer` class."
   ]
  },
  {
   "cell_type": "code",
   "execution_count": 58,
   "metadata": {
    "id": "xriFGEWQkO4M"
   },
   "outputs": [],
   "source": [
    "from transformers import Wav2Vec2CTCTokenizer\n",
    "\n",
    "tokenizer = Wav2Vec2CTCTokenizer.from_pretrained(\"./\", unk_token=\"[UNK]\", pad_token=\"[PAD]\", word_delimiter_token=\"|\")"
   ]
  },
  {
   "cell_type": "markdown",
   "metadata": {
    "id": "KvL12DrNV4cx"
   },
   "source": [
    "If one wants to re-use the just created tokenizer with the fine-tuned model of this notebook, it is strongly advised to upload the `tokenizer` to the [🤗 Hub](https://huggingface.co/). Let's call the repo to which we will upload the files\n",
    "`\"w2v-bert-2.0-mongolian-colab-CV16.0\"`:"
   ]
  },
  {
   "cell_type": "code",
   "execution_count": 59,
   "metadata": {
    "id": "A1XApZBAF2zr"
   },
   "outputs": [],
   "source": [
    "repo_name = \"w2v-bert-2.0-Kinyarwanda-CV-train-validation-7.0\""
   ]
  },
  {
   "cell_type": "markdown",
   "metadata": {
    "id": "B1BiezWZF16d"
   },
   "source": [
    "and upload the tokenizer to the [🤗 Hub](https://huggingface.co/)."
   ]
  },
  {
   "cell_type": "code",
   "execution_count": 60,
   "metadata": {
    "colab": {
     "base_uri": "https://localhost:8080/",
     "height": 72
    },
    "id": "zytE1175GAKM",
    "outputId": "dd7ec12a-658f-4ec5-d499-1e85da1d6b03"
   },
   "outputs": [
    {
     "data": {
      "application/vnd.jupyter.widget-view+json": {
       "model_id": "162587e492384b2dbf6f39f9f04cf201",
       "version_major": 2,
       "version_minor": 0
      },
      "text/plain": [
       "README.md:   0%|          | 0.00/2.10k [00:00<?, ?B/s]"
      ]
     },
     "metadata": {},
     "output_type": "display_data"
    },
    {
     "data": {
      "text/plain": [
       "CommitInfo(commit_url='https://huggingface.co/dmusingu/w2v-bert-2.0-luganda-CV-train-validation-7.0/commit/7683a91c7c32c059e1979c5298ee2e4a6a57bebd', commit_message='Upload tokenizer', commit_description='', oid='7683a91c7c32c059e1979c5298ee2e4a6a57bebd', pr_url=None, pr_revision=None, pr_num=None)"
      ]
     },
     "execution_count": 60,
     "metadata": {},
     "output_type": "execute_result"
    }
   ],
   "source": [
    "tokenizer.push_to_hub(repo_name)"
   ]
  },
  {
   "cell_type": "markdown",
   "metadata": {
    "id": "SwQM8lH_GGuP"
   },
   "source": [
    "Great, you can see the just created repository under `https://huggingface.co/<your-username>/w2v-bert-2.0-mongolian-colab-CV16.0`"
   ]
  },
  {
   "cell_type": "markdown",
   "metadata": {
    "id": "mYcIiR2FQ96i"
   },
   "source": [
    "### Create `SeamlessM4TFeatureExtractor`"
   ]
  },
  {
   "cell_type": "markdown",
   "metadata": {
    "id": "KuUbPW7oV-B5"
   },
   "source": [
    "The role of the `SeamlessM4TFeatureExtractor` is to prepare the raw audio input in a format that the model can \"understand\". It therefore maps the sequence of one-dimensional amplitude values (aka the raw audio input) to a two-dimensional matrix of log-mel spectrogram values. The latter encodes the signal frequency information as a function of time. See [this section](https://huggingface.co/learn/audio-course/chapter1/audio_data#the-frequency-spectrum) from the Audio Transformers course to learn more about spectrograms and why they are important.\n",
    "\n",
    "Unlike the tokenizer, the feature extractor doesn't need to be \"learned\" from the data, so we can load it directly from the [initial model checkpoint](https://huggingface.co/facebook/w2v-bert-2.0).\n"
   ]
  },
  {
   "cell_type": "code",
   "execution_count": 61,
   "metadata": {
    "id": "kAR0-2KLkopp"
   },
   "outputs": [],
   "source": [
    "from transformers import SeamlessM4TFeatureExtractor\n",
    "\n",
    "feature_extractor = SeamlessM4TFeatureExtractor(feature_size=80, num_mel_bins=80, sampling_rate=16000, padding_value=0.0)"
   ]
  },
  {
   "cell_type": "markdown",
   "metadata": {
    "id": "qUETetgqYC3W"
   },
   "source": [
    "Great, W2V-BERT's feature extraction pipeline is thereby fully defined!\n",
    "\n",
    "For improved user-friendliness, the feature extractor and tokenizer are *wrapped* into a single `Wav2Vec2BertProcessor` class so that one only needs a `model` and `processor` object."
   ]
  },
  {
   "cell_type": "code",
   "execution_count": 62,
   "metadata": {
    "colab": {
     "base_uri": "https://localhost:8080/",
     "height": 104,
     "referenced_widgets": [
      "c078b56b5ab448ce9554858a0a7e6656",
      "8ccc4820b8ec4462baede7b62e60d479",
      "ed8b59216bdd495e95b99ed9074ca7c3",
      "9b157f61bef743a2af83d5f1ec373792",
      "cf16c9f701304c678c33dedae6e82309",
      "1550b196a4c44ea9b4fc510894670cc5",
      "6639e33f6dfa4405b64e009afbb3f54b",
      "62ae5e3dd2ab4ef5b395aaf52f432d2a",
      "c8964d8b475a4c5fae84326325ed520d",
      "1e155e93b0fb4335b02bdbc6940169b6",
      "269dfbc99a3a449a9fd20651f101aaa6"
     ]
    },
    "id": "KYZtoW-tlZgl",
    "outputId": "5acd797a-5db9-4e61-e8e9-511e6f724a7e"
   },
   "outputs": [
    {
     "data": {
      "application/vnd.jupyter.widget-view+json": {
       "model_id": "2390f65323a8467e9eceae602acf93da",
       "version_major": 2,
       "version_minor": 0
      },
      "text/plain": [
       "README.md:   0%|          | 0.00/2.10k [00:00<?, ?B/s]"
      ]
     },
     "metadata": {},
     "output_type": "display_data"
    },
    {
     "data": {
      "text/plain": [
       "CommitInfo(commit_url='https://huggingface.co/dmusingu/w2v-bert-2.0-luganda-CV-train-validation-7.0/commit/79e978cca2dbcce626cffc273973bd42bf0899eb', commit_message='Upload processor', commit_description='', oid='79e978cca2dbcce626cffc273973bd42bf0899eb', pr_url=None, pr_revision=None, pr_num=None)"
      ]
     },
     "execution_count": 62,
     "metadata": {},
     "output_type": "execute_result"
    }
   ],
   "source": [
    "from transformers import Wav2Vec2BertProcessor\n",
    "\n",
    "processor = Wav2Vec2BertProcessor(feature_extractor=feature_extractor, tokenizer=tokenizer)\n",
    "processor.push_to_hub(repo_name)"
   ]
  },
  {
   "cell_type": "markdown",
   "metadata": {
    "id": "DrKnYuvDIoOO"
   },
   "source": [
    "Next, we can prepare the dataset."
   ]
  },
  {
   "cell_type": "markdown",
   "metadata": {
    "id": "YFmShnl7RE35"
   },
   "source": [
    "### Preprocess Data\n",
    "\n",
    "So far, we have not looked at the actual values of the speech signal but just the transcription. In addition to `sentence`, our datasets include two more column names `path` and `audio`. `path` states the absolute path of the audio file. Let's take a look.\n"
   ]
  },
  {
   "cell_type": "code",
   "execution_count": 23,
   "metadata": {
    "colab": {
     "base_uri": "https://localhost:8080/",
     "height": 54
    },
    "id": "TTCS7W6XJ9BG",
    "outputId": "b43e22ba-2ee0-43a3-b1f3-6fb876e0ca37"
   },
   "outputs": [
    {
     "data": {
      "text/plain": [
       "'/ocean/projects/cis230036p/musinguz/datasets/downloads/extracted/11b22b6c2342f913cd6b27d3263eb9cdf01ca3c9f4638cc5e604e753632eb67b/cv-corpus-7.0-2021-07-21/lg/clips/common_voice_lg_23717967.mp3'"
      ]
     },
     "execution_count": 23,
     "metadata": {},
     "output_type": "execute_result"
    }
   ],
   "source": [
    "common_voice_train[0][\"path\"]"
   ]
  },
  {
   "cell_type": "markdown",
   "metadata": {
    "id": "T6ndIjHGFp0W"
   },
   "source": [
    "W2V-BERT expects the input in the format of a 1-dimensional array of 16 kHz. This means that the audio file has to be loaded and resampled.\n",
    "\n",
    " Thankfully, `datasets` does this automatically by calling the other column `audio`. Let try it out."
   ]
  },
  {
   "cell_type": "code",
   "execution_count": 24,
   "metadata": {
    "colab": {
     "base_uri": "https://localhost:8080/"
    },
    "id": "qj_z5Zc3GAs9",
    "outputId": "4230ef52-2fa6-41a5-e2b8-fc8997306a8e"
   },
   "outputs": [
    {
     "data": {
      "text/plain": [
       "{'path': '/ocean/projects/cis230036p/musinguz/datasets/downloads/extracted/11b22b6c2342f913cd6b27d3263eb9cdf01ca3c9f4638cc5e604e753632eb67b/cv-corpus-7.0-2021-07-21/lg/clips/common_voice_lg_23717967.mp3',\n",
       " 'array': array([0.00000000e+00, 0.00000000e+00, 0.00000000e+00, ...,\n",
       "        9.10868948e-06, 1.66715399e-04, 0.00000000e+00]),\n",
       " 'sampling_rate': 48000}"
      ]
     },
     "execution_count": 24,
     "metadata": {},
     "output_type": "execute_result"
    }
   ],
   "source": [
    "common_voice_train[0][\"audio\"]"
   ]
  },
  {
   "cell_type": "markdown",
   "metadata": {
    "id": "WUUTgI1bGHW-"
   },
   "source": [
    "\n",
    "Great, we can see that the audio file has automatically been loaded. This is thanks to the new [`\"Audio\"` feature](https://huggingface.co/docs/datasets/package_reference/main_classes.html?highlight=audio#datasets.Audio) introduced in `datasets == 4.13.3`, which loads and resamples audio files on-the-fly upon calling.\n",
    "\n",
    "In the example above we can see that the audio data is loaded with a sampling rate of 48kHz whereas Wav2Vec2-BERT was pre-trained at a sampling rate of 16kHz. The sampling rate plays an important role in that it defines how many data points of the speech signal are measured per second. Therefore, sampling with a higher sampling rate results in a better approximation of the *real* speech signal but also necessitates more values per second.\n",
    "\n",
    "A pre-trained checkpoint expects its input data to have been sampled more or less from the same distribution as the data it was trained on. The same speech signals sampled at two different rates have a very different distribution, *e.g.*, doubling the sampling rate results in data points being twice as long. Thus,\n",
    "before fine-tuning a pre-trained checkpoint of an ASR model, it is crucial to verify that the sampling rate of the data that was used to pre-train the model matches the sampling rate of the dataset used to fine-tune the model."
   ]
  },
  {
   "cell_type": "code",
   "execution_count": 25,
   "metadata": {
    "id": "rrv65aj7G95i"
   },
   "outputs": [],
   "source": [
    "common_voice_train = common_voice_train.cast_column(\"audio\", Audio(sampling_rate=16_000))\n",
    "common_voice_test = common_voice_test.cast_column(\"audio\", Audio(sampling_rate=16_000))"
   ]
  },
  {
   "cell_type": "markdown",
   "metadata": {
    "id": "PcnO4x-NGBEi"
   },
   "source": [
    "Let's take a look at `\"audio\"` again."
   ]
  },
  {
   "cell_type": "code",
   "execution_count": 26,
   "metadata": {
    "colab": {
     "base_uri": "https://localhost:8080/"
    },
    "id": "aKtkc1o_HWHC",
    "outputId": "23246a8d-3b41-431f-d4d2-637fccc804f8"
   },
   "outputs": [
    {
     "data": {
      "text/plain": [
       "{'path': '/ocean/projects/cis230036p/musinguz/datasets/downloads/extracted/11b22b6c2342f913cd6b27d3263eb9cdf01ca3c9f4638cc5e604e753632eb67b/cv-corpus-7.0-2021-07-21/lg/clips/common_voice_lg_23717967.mp3',\n",
       " 'array': array([ 0.00000000e+00,  0.00000000e+00,  0.00000000e+00, ...,\n",
       "         3.39800841e-04,  1.00304111e-04, -2.85751939e-05]),\n",
       " 'sampling_rate': 16000}"
      ]
     },
     "execution_count": 26,
     "metadata": {},
     "output_type": "execute_result"
    }
   ],
   "source": [
    "common_voice_train[0][\"audio\"]"
   ]
  },
  {
   "cell_type": "markdown",
   "metadata": {
    "id": "SOckzFd4Mbzq"
   },
   "source": [
    "This seemed to have worked! Let's listen to a couple of audio files to better understand the dataset and verify that the audio was correctly loaded.\n",
    "\n",
    "**Note**: *You can click the following cell a couple of times to listen to different speech samples.*"
   ]
  },
  {
   "cell_type": "code",
   "execution_count": 27,
   "metadata": {
    "colab": {
     "base_uri": "https://localhost:8080/",
     "height": 80
    },
    "id": "dueM6U7Ev0OA",
    "outputId": "add04d71-fea4-453e-db03-501dc00d1fd7"
   },
   "outputs": [
    {
     "name": "stdout",
     "output_type": "stream",
     "text": [
      "ebikuta bya lumonde embizzi zibirya nga obifumbye\n"
     ]
    },
    {
     "data": {
      "text/html": [
       "\n",
       "                <audio  controls=\"controls\" autoplay=\"autoplay\">\n",
       "                    <source src=\"data:audio/wav;base64,UklGRhpCAgBXQVZFZm10IBAAAAABAAEAgD4AAAB9AAACABAAZGF0YfZBAgAAAAAAAAAAAAAAAAAAAAAAAAAAAAAAAAAAAAAAAAAAAAAAAAAAAAAAAAAAAAAAAAAAAAAAAAAAAAAAAAAAAAAAAAAAAAAAAAAAAAAAAAAAAAAAAAAAAAAAAAAAAAAAAAAAAAAAAAAAAAAAAAAAAAAAAAAAAAAAAAAAAAAAAAAAAAAAAAAAAAAAAAAAAAAAAAAAAAAAAAAAAAAAAAAAAAAAAAAAAAAAAAAAAAAAAAAAAAAAAAAAAAAAAAAAAAAAAAAAAAAAAAAAAAAAAAAAAAAAAAAAAAAAAAAAAAAAAAAAAAAAAAAAAAAAAAAAAAAAAAAAAAAAAAAAAAAAAAAAAAAAAAAAAAAAAAAAAAAAAAAAAAAAAAAAAAAAAAAAAAAAAAAAAAAAAAAAAAAAAAAAAAAAAAAAAAAAAAAAAAAAAAAAAAAAAAAAAAAAAAAAAAAAAAAAAAAAAAAAAAAAAAAAAAAAAAAAAAAAAAAAAAAAAAAAAAAAAAAAAAAAAAAAAAAAAAAAAAAAAAAAAAAAAAAAAAAAAAAAAAAAAAAAAAAAAAAAAAAAAAAAAAAAAAAAAAAAAAAAAAAAAAAAAAAAAAAAAAAAAAAAAAAAAAAAAAAAAAAAAAAAAAAAAAAAAAAAAAAAAAAAAAAAAAAAAAAAAAAAAAAAAAAAAAAAAAAAAAAAAAAAAAAAAAAAAAAAAAAAAAAAAAAAAAAAAAAAAAAAAAAAAAAAAAAAAAAAAAAAAAAAAAAAAAAAAAAAAAAAAAAAAAAAAAAAAAAAAAAAAAAAAAAAAAAAAAAAAAAAAAAAAAAAAAAAAAAAAAAAAAAAAAAAAAAAAAAAAAAAAAAAAAAAAAAAAAAAAAAAAAAAAAAAAAAAAAAAAAAAAAAAAAAAAAAAAAAAAAAAAAAAAAAAAAAAAAAAAAAAAAAAAAAAAAAAAAAAAAAAAAAAAAAAAAAAAAAAAAAAAAAAAAAAAAAAAAAAAAAAAAAAAAAAAAAAAAAAAAAAAAAAAAAAAAAAAAAAAAAAAAAAAAAAAAAAAAAAAAAAAAAAAAAAAAAAAAAAAAAAAAAAAAAAAAAAAAAAAAAAAAAAAAAAAAAAAAAAAAAAAAAAAAAAAAAAAAAAAAAAAAAAAAAAAAAAAAAAAAAAAAAAAAAAAAAAAAAAAAAAAAAAAAAAAAAAAAAAAAAAAAAAAAAAAAAAAAAAAAAAAAAAAAAAAAAAAAAAAAAAAAAAAAAAAAAAAAAAAAAAAAAAAAAAAAAAAAAAAAAAAAAAAAAAAAAAAAAAAAAAAAAAAAAAAAAAAAAAAAAAAAAAAAAAAAAAAAAAAAAAAAAAAAAAAAAAAAAAAAAAAAAAAAAAAAAAAAAAAAAAAAAAAAAAAAAAAAAAAAAAAAAAAAAAAAAAAAAAAAAAAAAAAAAAAAAAAAAAAAAAAAAAAAAAAAAAAAAAAAAAAAAAAAAAAAAAAAAAAAAAAAAAAAAAAAAAAAAAAAAAAAAAAAAAAAAAAAAAAAAAAAAAAAAAAAAAAAAAAAAAAAAAAAAAAAAAAAAAAAAAAAAAAAAAAAAAAAAAAAAAAAAAAAAAAAAAAAAAAAAAAAAAAAAAAAAAAAAAAAAAAAAAAAAAAAAAAAAAAAAAAAAAAAAAAAAAAAAAAAAAAAAAAAAAAAAAAAAAAAAAAAAAAAAAAAAAAAAAAAAAAAAAAAAAAAAAAAAAAAAAAAAAAAAAAAAAAAAAAAAAAAAAAAAAAAAAAAAAAAAAAAAAAAAAAAAA//8AAAAAAAAAAAAAAAAAAP//AAAAAAAAAAD/////AAAAAP//AAABAAAAAAAAAAAAAAAAAAAAAQAEAAAAAAACAAEAAAD+/wAA//8BAAAA/v/9/wAAAAD9//7/AAAAAAAAAAD9/wAAAAAAAAAAAAAAAAAAAAACAAAAAAABAAAAAgD+/wUAAAACAAAABADy/+H/6v/m//f/5//z/+3/BAATAPn/CAAPACkAKQAaAAwA/P8SABYAGAAeAA0ADwAFABsAKAASAA4ACwADAA0ACwAEAAwABwDw/+3/BAAGAAEAAgD1//T/+v/+/+v/5P/t/+T/AAD8/+//6v/n/9//6/8JAAAAAAAUABwAIgAwAEQALgAcACEAHAAnABAADgAPAAsAAAD4/wgAEwAUABUADgAHAPj/8v/7/xEAEQD5/wQA+f8TAA0ACQACAP//BAD8/w4A9f/0//H/+v/j//L/+//1/w0A+//3/+3/4v/0/wgA/v/1/+z/6P/w/+//3P/j/9v/0P/L/9D/2//U/93/sf+5/9X/zP/a/9D/zf/T/83/wf/L/87/0f/r/+X/zf/N/+L/0f/q//X/3v/i/9n/4//j/93/z//T/9j/3//s/+j/1f/a//D/6f/z/wAA9//+/w4ADQAoACgAHAAiABIADAAHAP7/CAAGAAAABwAGAPj/8f/6/+z/9f8AAPf/7f/z//j/4P8AAPv/8/8DAAAAEQAIAA4A/v/4/wAA/P/6/+n/6P/6//7/7v8DAAsABwARACgANQA7AEUAQQBGAFUAQwAvADIARgBGAEQAQwA/AE0AbgCVAGMAPQBkAFsAKAAaACQAJwAOABUA6//W/+v/2f/l/+//CQAaACgAGAAZAC8ALAATABoA9v/2////9P81AOv/7f8oACMAMgAyAC0APAA0ABgAJAAlACAAEAAaABQADAARAAMA+/8FAPv/4v///wYA3//2//n/3v/e/8X/vv+s/47/kf/N/+H/y//L/8X/4v/G/8//z/+a/7j/5/8qADMABwAEACMAGQAUAC0AQgBCACwAFwBBAC0AMQArABsASABGAGEALgBGAEwAZwBNAEIAbABPAD0AIwBHABYA7f/f//b/2v/m/9L/2P/j/9f/4f++/9r/0P+5/+D/7P/a/+X/1/8BAMb/0f/G/9n/4f/X/wcA6P/Z//n/IQDv/+f/BADn/7//4v/c/+n/7v/p/8v/5f8LAAkAAADv/+v/JAA7AOv/yf+s/+3/wf+3/9D/sv+u/6b/sf/E/83/n//H/9P/3P+9/8L/u//o//3/5v/z/+r/BgASADAALABTADgAOQAcACsAEQDz/9z/2/8NAPL/EADs/+7/GwAVAPj/+/8AAPv/+P////r/CAD3/wcA8P8WAEAAGwAyAEsAYQBHAE8AMwAYACEAMgAyADYARAA7ACwASgApAPP/5f/w/wcA///d/93/8v/o//T/1v/a/77/xf/f/93/0f+n/6P/yv/n/+b/xv/C/9L/4//U/83/5//z/wsA7v8AABAAHAAPAB4AKQBFAGMAQwAbABwAJQAlAEYAHwAUAAYAEAAkAEcABADf/w4AGQAFAN7//f/3/8v/yv/w/+n/5v/n//7/DQD8/wwACwADAA4ACwAJAPf///8XAC0AHgDs/+7//v8JABEADgD+//D/7v/5//P/8f/8/wMACAD4//X/BwDt/9D/3v/2/wwAGQADAOL/BQAfAAQA1f/i/+z/2P/f/+f/7//K/8j/uv/I/9X/s/+3/97/9v/K/7P/2f8EAOX/xP+2/7T/2f/Q/8f/6/8BACQADgAvAD0ALQAmAB4AIQAPADcAKgBAAEQADwA+AHgAVgB6AFoASQBdAGgAWgBhAJkAQQBBAFsAXwBHAC4ANQBSAGIASgBvAFQAUABpAD8APAA6ADQAMgBGAE0ALgA5AFwANgA5ACIA/f8fABgAFwAGAAMAGgARABUAJgASAPH/7f/Q/7H/v/+1/7z/2P/1/+j/4f/U/8//uf+Z/9X/6P/s/xAA+/8DAPL/8v///+7/8//b/wAAAAAGAPD/+f/9/+n/8P/u/+L/sv+T/77//v/n/+v/4/8oACgALQAEAO//HgD//wAA//8QAA4AAADK/9n/wf/F/8P/yP/l/97/9//+/8L/o//h/9r/x//T/+7/xP+Z/5n/n/99/5f/n/+d/5T/n/+q/5L/t/+c/8P/tP+d/6P/qf+r/8X/kv+V/8z/rf/J/6D/x//O/9j//f8CAPb/CQA4ACcAIwAcAA8AKQANAPr/DwD5//j/+//l/+T/CwAZACcAIgArAAsABwALAP//DwAbAAoA7f8VAO7/1P/g/7v/ov+X/4r/k//H/5X/of+x/6r/3f/Q/7v/uv/k/83/tP+y//T//f/Z/xEA7f/u/xQADwD9////FgBFACcAJABfAFUAVQA4AFEAUgAyAB4AHQAsACAAAAAAABcAMQAsABkA9f/h/xQABwD3/8T/2/8QAJj/Vf+4//X/1f+U/5v/rP/h/wYAAADZ/8L/4//h/+3/7v8EACYANwArAGUAZwB2AHAAWgBBADcAdACUAM4AnACBAMUA7ADFAM8AoQCHAKkAbQBnAEIAOgBiABcA9P8vAFAANQDu/wQALAD8/+H/1P/s/7v/qf+//6n/rf+o/5j/j//O/8P/zf+L/3n/sv/e/6n/mP/v/wkACwD6/+//5P8+ACkAYwBPADoAbACTAI8AWACMAKwAlgBxAKUArQBsAJgAnAB8ANUAnABcAG8AbQBSAGMASwAuADUATQBgADwAMwD0/8D/tv++/7L/mv+S/4b/l/9Z/6P/9f/o//j/1P/Q/8v/4P/f/7r/mP+5/7f/y//U/+P/qf95/8b/2v+q/23/qv/4/9z/uP+9/67/0v8ZADQA5//2/yUALwAiACAANAAAAOj/EwBPAMH/o//3/+X/1v/4/y8Ayv/W/+n/3f/S/7P/tf9U/2L/q/+r/7v/uf+0/2j/g//n/9b/xv9i/6f/zf/y/wcA0v+y/9f/JAD//3EAbwAuAM3/qv8BAEUAWwAyAE4AYQCWAHMAegB9AGUAeQCIAMkAkQCFADkABQDf/+L/HQAPAAMA6f/1/+L/4v/+/xUA6f/S/9P/0f+h/5r/tP9z/17/o//8/63/U/+F/w8AKgD+/zMAEwDt/+b/DgB9/3r/DwFBAdr/yv7h/4IA2f/LADABBgBO/3EANAFlAOj/FwCm/2f/SACEABcAp/+Z/57/MACtAGUA1f/b/yYAMgA7AFEAxf+m/xAAzv/8/97/HgD5/57/JgCNAHAAHwAfAEEAQgBcAJAAeABaAG8AYgB+AG8ASQBZAEoAJwDz/y0ARgA+ACUA9f8GAAIA6v8iAAMAzP8rAHEAFQD8/24AXQAmAOT/AADx/7X/7v+Y/4D/gf9I/47/lP9l/4z/ef+J/6T/q/+u/8X/1f/F/+j/LAD0/8P//v+u/+X/LwAGABsABgDM/yEALAAhAAoAWgBjAAwAKgBcAHwABgAlAEUATQArAO3/9f8MAD8AHAAhAA8AnP/b//T/x/9A/3T/rf9h/8D/6P8tACUAmP+//y8A0P/y/5b/h/8iABkA/P8OAC0A//8ZAFgAZADn/wIAwQCaAAAACQCpAKQAUQBRAKIAlAC1AKAATgBSAIwAkQDq////GwAKAAcACwD4/yMA2/+Z/2r/fv/r/5X/mf89AFoAFgATALL/c/9m/6L/2////woAwv9W/xT/OP+c/0L/4v7x/mv/iAAaAAf/zP7v/gsAVQDm/3z/4P8+ADoAAAA4//j/tgBYAAYAegCq/5UAkwAd/7b/ugCDAUMBCwCl/24AawE7AG787f8cB2QGIvy7+EgC1wRn/vH5m/3TBKQEzv9F/Nv9/gHOAK78v/znAZgErwE//rv+1wCG/4T+/v5mAAgCwQCh/z3/sf6q/qr/9QCA/zP/zwA5AcoAtPcR+6ME6ATvBFP+tv/JAuwAVvwH/NIBAwN8A4f/Tv+lAqv/ufwr/REA+AKBAqf/zQDuAJX9c/11/fH/5gGZAJgB/gAh/qD8Ifxq/okAnv83ANAByAGE/w393f1F/+3/gQA/AYQCBwJnAMX+i/8QAc7/2gBiAs8AoABTABj/wf9lAF4AbgC2ACUBDwEeANb+2P+zAKX/oQDxABcBIgHu/Uf+ZP9Q/Qr/awH9/07+Wf8zAPb+tv6k/vf/3AGLAIT/DAAsARMB+/7K/jgAgAGdAaQAwQA8AYcAF/+c/n7/nwH4AkoBCQDA/8j/lgCa/wD/GQCRAT0DmAJI/8/9Zf+o/xr/I/9l/2IBnQG6/3j+vvwW/b3/zwD6/zEAuwE3AUz/DP/F/zv/s//vAfgB3ABVAEP/aP4A/gv/pAC1AU4ClABm/vX9Vv6w/k7/sQBFArcBHACo/zn/1v4g/9//EQC5AGMBBgCy/Zv9if9CAOf/xv+mAHQBs//D/Nn8Vv7T/zUB4AEWAlMAH/6T/Z3+yv36/TYBUQLYAeH/j/1Q/RH+zv5U/yAAxQFtA5gC1v7j/Mr9UP+hANoAigIqBFcC7P4A/of+Jv5Z/7ABTAPpAs0BBgEZ/+n8dP0CAF8ArwBMAyEE4QGh/cL6y/20AXMBEQA8/yMAywEmAUX/W/1X/n4BnAEq/uj8+gJeBigBEf0A/i0BcQJBAVUB1ADm/90AYQDh/vH+tADLAV8Apf+SAEIAiP9H/77+e/9LAN8AqACz/j3+5f/lAC4AHf6X/UEA4wE7AVv/zP4TAPX/cv8y/3H/jQDqAewBHAAt/08AMAFy//P+yABwARIAfP9nAP3/u/7Z/t//Mf+D/mQA+wCx/lH+MACZAJT9VfyF/zIDugJB/4b+lv8BAO3+w/48AFwBsADh/2UA6/9L/20AZwHyAEsAqAC7AOX/pP+GAFYAA/8iAPsB6QCx/Yr9mgBuAfn+vf6lAPsAdv8v/qH/IAAC/9f/hQGJATb/oP0v/+QAewBl/+gAawIVAeT+s/6c/33/IQBOAk4Czf+u/rf/hADr/yYADwAXAK8AAwFM/838av4RAhkCfv7b/c0ADgIH/178Cv8mA8gCjf+n/rj/bwCEALL/5f5H/2sAmgG9ADv/mv6M/kn/JwAnAC//VgCiAaD/0vwa/tIB9AI1AOr9Hf/+AOgAYf5I/owBxgKD/zr9JgDTATD/IP5/AHAB9f7i/oQB4ABX/qj//AEBARf/zv/4AEb/+/6QAGQA8f6H/+4BvQHP/8AAuQBF/sr8xP+pA3oCjv8i/w8BVwD2/eP+swERAl4AdP91AFsAT/5P/r4AuQDA/5L/yP87ANj+zv7i/wIAx/8XAKoAHwDq/mX/igDCABQAOQDWAJcACgCJ/yQAjgGNAqMA4/28/o8BcwFN/3T/7wC8AFAABwEGAWb/B/9yAZECsgDV/r7+1/9HAGgAPgHqAXcBuP+M/oH+iv9SAX0B8v8o/5X/PQBd//T+KwBdACwA0QD5AB3/Kv4G/wAAAADr/+gAVgFHAJv+Ev7V/hgBDQGL/pb+5AFuA/3/2/xf/XD/dQCVAYACYQHj/YX8Xv+8AY0Bi//m/kQAVQDO/s3+VgDQAIL/qf/YAIgA8v6l/nwAxQBo/7X+ZP8pALIArwCe/8T/RgA6AJX/tf6q/0cAPwAbAIz/Q//Y/sf9+v5rAWEBkP/5/a7/lADb/nz+1v+UACsAXgC9AK3/Pv5//s7/+QAlAeAA9wCqAGT/dv5N/zoBnwEyAYkBHgHh/9n+/P9MAYMA2gBMASYAIf9G/yoBjAEpALv/IADZ/7n+5f4wADUBEQGKAHH/qf6C/nH/KwFvAS8BhP+r/un+6/5w/0YAJwGFAHf/tv4//m/++f9hAdAA2/8iAGwAIP/q/ocAvgDd/44AEwIdARH/kv+EAPP/Kf/v/2EBLgEiAQIBiP+M/mr/ywASAdwAPwElAR7/mP22/r8AtwDE/97/ggATACD+uf1G/4sAg/8v/y0Amf8p/8/+K//g/v7+VQH+AQkA7/1w/nb/kv+vAOcBTQG3/1j/nv95/7//fgAvAZcBkgF6AP3+Xf8IAW0BjgBUAToCXAEZAFj/gf8WAFABzgLPAcX+I/6H/2MAFgCxAM0BdACp/nb/xQCv/8b9+v4OAvoBZf/g/bP+KP96//MArgFbAHX+df6a/2kACgCj/7T/PAB2AMj/k//I/+cAugEqABn/pv80AI0A0AB0AbUAZP8R/wIAtwC2/67/nQEJAgMAC/9b/3X/7f4kAPoBIQEE/1T+Yf9XANf/k/8jABUAQgCOANj/kf7+/iIAWQDp/5T/0/9UAAoAXP+C//H/GgDh/+j/VACAAAoA7/4j/84AJgFWAJ//JQDXAEcA0v9QALYAQQDS/xgASgCC/+X/6AA2ANH+1/43AOgATgCV/8P/fP/W/zQAJQCJ/0P/RwDZAKoAK/+V/j3/6P8oACkATwBqAGn/hP7w/lMAvQDY/6T/yf93/07/5f8jAFwA+P/P//n/oP8NAB4BbQCR/sr+fQARAUYACQDU/1v/bv9lALkAlP9v/5IANQHt/9j+NP/e/+X/2/+dANAA/f9z/xMAtQD3/yL/CACnABUAAAA7AHr/4f7c/8AAIAAZAJ4AKwBj/4v/gABGAMH/qAD8AI//9/5GAJIBpAAE/4T/6gBdAEL/YP+fAOwAYP8O/wkAnAD5/6T/bgDNAA8At/8PAEsAJgC+/xQAZwCYAAAAqf8pAGYAKACc/+P/jwBDAEv/lP9wACoAav9Z//P/SgDf/9r/BgCp/9f/EQCn/1D/rP9MADsA7f8JAOP/bP+3/2UAIQCR/77/DAAwACsA+P/v/1YAiQBpACUAMgDo/7r/LQBvAD4A5f8nABwAsv/A/4oAwABAALn/h/8SAF0AFwAbAD0AJgAZADIAMADv//r/HgCq/2n/6v8mAKL/vP9QAA8AEP88/yIA2P/J/8AAaAENALz+5v6s/wIAXwAeAdoA6/+k/77/3v8tABsAeACYAC4AEQC7/8P/AAD6/z8AkAA7AM//3P/e/6z/k//q/ykANwA5APz/JQDv/7z/cQC7AJQAVgBTAF8ASwAlACwAIwAIABQAEwD1/zIAiAArAPv/BgDo/wQAfwBIANv/h/9D/8P/TQCFAHcADwADAAYA0P8DAGYAawA7AEMAPQAFAOX/BQAmAKAAkgAcABYADQAHAMb/7f8jAEkAWwA6APv/uP+A/9r/MgDZ/9D/p//I/63/rf+l/3T/av+9/8b/g/9E/3P/uv9y/57/ev+d/57/yP+r/7//uP9q/23/dP+K/2L/if+0/1z/+P5o/7z/ZP9I/9//JgC5/5b/5v+0/3f/Wf+S/43/kf/I/6z/af9C//X/VwAlAOr/CQARAK3/w//7/yQAQAASAMj/nP+B/7f/aQA5AOz/+//i/9//vv/B/+X/KwBWAIEAaAABAOr/6P/r//r/LQALAL//yP8TAOT/g/+5/wkAXQB+AFgAOwAsAFcAbQAIAP7/TACDAKMAkgBiAFcASgBFAP3/9P9lAG0AGgAMAAEA8f8jACwAIAD9/xIAXABrAA4A3v/c/wQAIgArAEYAPgAnAAYAIQBQAEMAFgAAAAgADQAAAB4ACAAqACMAPgBLAGMAWgD0/y4AeACIAD4AQAAVAJ3/zP84AGgAQQATAB8A9P/7/zcAVwBKABoA9P/r/8L/CQAuADUAMgATAAMA0f/5/9r/4f+p/7n/yv+1/8L/vv+V/7z/BwDe/9v/3f/F/23/qv/d/8T/2//3//v/6v8CACAABAAkAHAAeABxAEMADAAYAD4AfgB8ADIAKwAXABAAMQBNACIAFwAPAAUA7//Q/9b/z//3/xIA7/+e/7r/5v/U/9D//P8RAN7/nP+H/4T/nf8SACgA6f/G/7b/tv+0//r/8v+Z/6r/FQBVAPf/wf/8/1kAWQAbAHgAkgAnAOP/DgAmABgAJgAfAFIARgA3ACAA3f8BABAADAAuACUANwAxAEoAJgD//xcA9/8QACEAIwAYANn/y/8hAPD/3//Z/6P/rP/W/+//zP+Z/7X/7f/e//H//P8TAC4ANgALAP7/yv+1/7n/5//k/9f/CwArABkAwv8QACUADAAQAEkAYAAiAP7/BgAdAAAA6v8NAAwA5v8LANH/6/8BABwAUgAmAAcAHAAeADkAbwA4ACIAEAAhABYADgAcAEgABADx/y0A9P8mAEoAYAB2AF8AQQAYAOr/7P8DAAgA6f/8/0oAIADd/+r/CQA1AEkAQgAaAO//w/+e/73/2v+D/2L/y//l/9H/m//g/9X/dP/B/8T/pP+k/7L/w//a/+f/1v/Y//L/+//n/+T/DAAHALL/sP/T/8P/u//c//r/1v/e/8P/2f8NAAAAw//P/xEAFAAYAPH//v/w//H/6/8PAOT/vP/H/9//CgAVAB0A7P/p/+n/3v8RAEYAIAAUAPn/7f/r//f/2f8AABoADwAFAAAAHgArAEkAMAAzAEQARwBRAFoARQBRAEAALQAzAC8AJwBKAHwAgwBKAAIACAAwAD8APwBOAF4ANQAvABUAAADz//D/JAD1/93/rf+f/83/x//O/x4ABQDT/+L/3P/N/87/2v8cAC8A4//2/wAA6//d/wsA1//7/xkA2//w/8D/6P8AAPD//f8NAAAA7f/r/wkAEAAKABUAGgBAAC4AFgAKAB8AHgAZAB0A5v/J//P/PwBGAAoAu//I/wkA+f8XAFUASQBFAF0A8P/k/w8AJAAlAAIADwD0//X/6f8WAEAATwBIAEAAPAAeAPz/3P/1/xQA2//R//H/+v8HAOH/FABbAEsADgD5/woA6P/J/7P/yv/W/37/Zv+s/+v/2//e/w0AEAAfAC4AOQAKAPP/QQAaABwAIAAjAA8AEABHABsADgA8AHMAQABCAEEAWQBbABsAAAAXAA8ABgA9ACIAIQAQAO7/7f/j/8//tP+7/8L/v/+5/8T/qf+c/7L/0v/+/9r/0v/+//P/3//a/6D/mP/N/8n/s/8HAAgAvv/C/9j/+//1/9z/5v8FAAEA/v/5//v/+v/4/wEA4f/8/xAADAAWANj/5v8CAAEA4v/e/9D/uP/K/9f/7//R/+f/0//y/wsA9//6//X//f/x//7/HQAaAB0AKAAAACcAOwAXAPj/6P/U/8n/tf+t/93/1/+6/+j/FADp//b/BgDu/+b//////8r/3//K/8v/7v/q/+r/IQAcAO3/DQDX//n/KAAuAFsATwAnAD8AcwBhAE4AbgB0AJAAZgAsACcAIgA0ADcANgAjAB0ACwAJAAgAVwBnACkAFQAaAA8A/P8OACYAQAAyABQAEwAsADYAFwAnAEwANQA0ADYAIwA1AE0ATQA5AA8AAQABAPv/BAAtAF0AWgAWAAcACgAwADIARgBMACIARgAlAA4AEQApAC0AIQA2ACoACwDn/9X/w//S//T/8v/r/77/1P/5/+H/yP/P/9H/9P/6/9b/4f/n/xEAFwAAAPr/8f8AABQA5v/h/wsA/v/6//3/AQAKAOT/tv+7/8D/6P8aAAAA5f/g/6n/kf+4/8f//P8QANL/s/+5/+X////5/+P/0//m//H/xP+4//j//P/w/9P/oP/R//n/8f8AAP7/5v/j/9H/zv/W//n/9f/N/83/vv/J/8j/2P/z/wsA0P/D/93/s//N/83/4//T/7f/wP+7/8j/7P/y//P/FwAAAOz/+v8QAPX/3f/9/wUADABBAD8A6P////b/1P/t/8r/vv/l//D/9f/0/8v/0f8IADQAJQA9ADcAJgAQACEAKQAxAG8AVgCHAIgAWQAqACAATgBDADoAIwBGAEMAPQBTAGkAfwBeAIMAZABKAGsAfgBEABcAAAATACEABAA6AD0ASQAXAAoAIwABAOb/wP+Y/47/nv+n/47/kf+8/7X/0P/Z//b/DQD6//j/4//i/8L/6v/t/9r/2P/k/xoABwD6/wYAAgDA//f/AAANAPj/0f+v/5D/vP+7/9T/yP/1/wIA/v8mAPn/BwAxAN//AgAYAPz/KQBEABIAAAD3/wQAFAAHAC0AJAAaACQA+//q/xEAFwAGAOD/6P8KAPT/AAABAOf/5f8aABcA6P8PAOX/7v8GABAA+P/e/97/0P/C/9L/3f/p//L///8TAN3/BQAAAB4ACwD7/w0A/f8EAO//+/8OAN3/9v8gANr/5//G/6z/7f8kACMA/v/o/9H/6v8aABkA5//w//r/6P8PAOL/6/8FAA8AEwD4/wEAFgAcACcAFgD0/7n/gf+B/3L/hf+V/5//jf+j/7f/3v/J/6v/tv/v/+r/w/+W/3r/pP/B//P/7v8pAD0AOwBGAFwAbwCLAGkASQBmAEQAUQCEAGcAcgClAH8AVQB9AMcArgCoAIkAYgBZAIYAogB8AHMAaAB2AF8AVAA7AE0AbQBbADkALQAeACEARgA7ADwAOQBYAD0ABgAQABkA6f/9//f/EAANAOz/4//S/wYA6P/+/97/m//D/9v/xf/R/5P/hv+h/7n/of/G/+X/5//d/8H/0f+q/8H/1P///63/x//R/6z/1P/z/+n/3//3/zsAXQA9AD0AJwAiAEcAbQAzAHgAWwBhAGYATwBOADwANgDk/wwAGAAYABMAAQDl//P/9v/j/x8AIgADAP//8v/9/8n/xf/+/9n/7f/r/+b/5f/V/xQAOgBCAEYAVgBQADwASgBPAFAAbgBSAEYATQA0ADIALgBCAEoAUwAwADIALgDx/+r/0P/V/+b/1/+0/7//1P/L/7H/lP/N/+//7f+a/4H/rP9l/1X/XP90/4//a/99/2P/eP+z/7n/o/+W/3T/X/+g/5L/mf+a/73/8//E/77/1f/c/+j/6f/v/+r/z/+9/+H/6//K//j/AgDf//P/DQD2/wQA8v/O/8P/tv+t/6f/l/+0/8L/lP/D/6P/sv/q/+n/1/+q/6z/qf+P/6b/wP/r/8n/oP/I/8D/0//d/+D/xv/7//3/6v8EAN3/5v/8/wQA/f/8/9r/3P8ZACAACgDk/woAMgAtADgARwBAAFcAUQAlAD0ASAAfABIAIgA/AFQANgAeABoAVACHAJoAlACoAIUAXgBuAFIAQwBIACoAGwAEAAEAJQAiACsAWwB9AHcAaQCAAJ8AiQBFAEQAUQBIAEkAQAA7APL/JAA8AC4AQgBXAEIAQwBOACoAFgARAB0ACAACAP3/FQDy//H/8v/q/+j/1f/b/77/6//e/9f/3P/Z/8P/1//+//L/FgD//xkA/f8gACMA6f/2/xYA4f/N/w8ADADw/+P/CwATABMAFQASAAAAQQAsAAAA9P/M/9n/CADr/+n//P/5/yQA+f/f/wcAFgATACEA/f/g/+n/0f+s/5L/kP/M/8r/zf/e/57/yP/r/wsAEQDK/+3/GwAVABUA9f/i/wIAEwAyAAsA+v8fAGcAbQBeAE4ANwBcAEsAgwBpACAATgAcAAkAGQAIAE8AMwA7AGQAbQBnAE0AOAA3ADQALQA+ABEAFgAPAPb/7//5//f/6//6//L/4v/e/+//7f/U/6n/Yf+A/53/fP+H/3r/m/+9/77/u/+u/+X/6f/X/8H/sf/K/7L/1//i/wAA8v/W//n/DAA+ABwA9f/k/wMAAAAPAAEACgBJABgA///w/wcAFAAGAAoAFgDd//X/DwDn/w0A5/+9/+L/7//Z/+v/0P/K/+T/AgAhABoAQwBpAEkAPAAxAA4AIwAuADYASgA+ADYARAAgACsALgAvAE8ASgBMADMAEAAEAAsALgADAOr/AAC+/wsAGwAFABQA6P/Y/8b/2f/c/6n/cf9y/1v/ff+y/37/fv/C/8P/vP+t/5r/nv+Z/6v/pv+V/6b/ov+V/7b/wf/j/9L/vv/b//r/9v+5/9r/CAD3//j////8/xkAPwAQAN//HAApAC4AKgAzABAA7P8SABwAKwAWAC0AAAAQABYAEgAnADQAGgAIAHMAPgBIADoABgAhABQA7P/+/zgAKQAaABUA+/8WAEgAXQBIAFYAMwAnAEwAGQA0ABkADQAOABIANwA8ABMAJQA2ADcAQQAiACUAIAAwACcAKwAYABcACAD9/ykAKwAUACkADADd/+b/GQA3AB8AHwAZAPL/0f8FAAEA+v8MACYAQQBDAFgAZQCDAHkAkACpAGgAOwA2AB8A8v/V/83/zf8BAOf/5//4/xEALAAbABcA6f/9//7/0v+n/8L/4v/e/9T/CAAfAA8AMgAoABcAHQAuAEwAHQAVAPz/uf/w/yUA7f/u/xwAPQBgAEEATwAwABkA9f8FAO//2f/p/9P/2f/Z/+X/9P8BAPX/0f+s/8v/n/+x/63/wf/I/8b/1f+p/97/pv9+/3//pP9l/0P/Uv+M/6T/nv/a/6X/wP/W/+X/0f/K/7T/y//Q/8L/AwAqACoAAgAPAO//BgBHADAAQgArAPH/HgAbABMAGgAGAB4AIwAqAAMAFgA+AEMAPQAvAAYAHQBSACwARgAmAB8A9P/g////FQAIAB8AAwAGAGYALAAeAP3/9v8VACMAGAA4ADQAKwBdAE4ATgBAADAAQgARAA8AMADg/8H/u/+l/53/kf+T/4//j/+//6b/kv+5/9X/1v+k/57/v//7/+L/BwAZANT/BgAvAOj/t//K/+7/AwD+/wIA/f8aANr/1P/b/87/AgAUACIAIwAWAAIALgAyABUALwARANX/vv+k/8b/yv+1/5v/l/+Y/4//pP/E/67/qf+3/+j/BAD//xwA9v/7/9H/8v/e//v/BAAGAA0A9P8WAOb/EQAdAB4ABgDm/+j//f////f///9KADUACgAqAAoABgAEAPH/4/+//6v/mf+j/5z/g//P/8b/2v/q/wEAAgAHABAA6v8NAOv/4P8jAGYAZABiAG8AZABdAF4AWwAfABwAHAD4////AAAaACUAOQBFADEAOgBlAFgASQAgAAMADwArABQA+f8BAOT/7v/3/zAAFgAsAFcAcACTAJYAqwC6AKAAgQCDAHQAjgCGAHAAZwB1AIkAOQAvAHEAXgBhAEMASQAzAEEAcgBPAB0A+P8xABQA6P8MAAYAAACz/5f/3P/P/8D/u/+w/7X/vv/F/87/r/+0/87/uP/N/wEA8f/u/wQAHgALAAEA2f+s/6//wf/R/57/zf/Z/8v/u//q/wMAHwALAPj/RgBAACcA9P/2/xgABwABACgA///1/wkABgD9//D/6v+0/5r/dv+q/9f/uP/k/8T/4//7//n/JADz/8T/w//j/8f/sf/E/+n/6v/G/73/4f/7//7/9v/V/97/3P/k/xEADgATABYAHAAgAAkAIQAjAO7//P8kAOf/AQDm/6f/6//4//X/LQAiAAcAHAA8AGkARwBgAFsA+f8tAFMAJAAEAOv/DAAWAPj/9v8ZAP3/3/+//7j/5f++/7D/4v/v/y4AUAA6AD4AFAAYABkAGAAcABEA3f/v/+n/u//r/8b/q//B/93/vv/c/+r/q/+6/77/8v8dACIAHgD8/wQAFADq/9z/6v/P/8P/m/+9/8f/t//q/67/1P8YAEEAPgBMAGgASwBZABMAGgAaAAYAAAAQAPH//f8DAKf/4P/E/93/8f/S/+L/6P/o//j//v8HADIAFQDf//X/IwAAACMA3//D/7v/mf/h/9z/u//Y//L/+/8EAOL/AQASABoAIQBTAEEAGwA7AEMAPQA+AH8AUQBYADUA5P8eABQA7v/c/6v/jv/J//f/9v/d//3/CwDu/xAAQgAsAPH/IQApAC8ANQAHAPL/3v/k/yMACQD2/w0A8f/j/9n/3//7/xQADgBRAF8AnQCQAFAAZgA2ACoAVwBNAEoAWQBrAF8AVwB8AFMAbgBFAF8AawBYAFoATABaAEYAMQAeAFsASABMAEwAHAAoADIA9v/4//D/xv/o/+v/+f/o/9b/0P+2/+D/AAAGAPP/EAD7/9b/7v/v/9z/l/+P/4j/kf+T/57/wP/Z/6//zv/Z/9j/9P8AAO3/wf/R/7z/qP+6/9X/nv/q/+j/wf+//9T/pP+N/7P/ov/V/9H/4v/2/w0AMAA2APr/HgAyAB0AHQAUAPv/HQA0ACYARQBEAGAARQBFABIA5v8oABkA4f+7/wAA/P/y/ygA/v8yACgALwB7AFgADwAfAPz//v8AAAUA/P/B/9j/r//a/+7/FADo/8v/8f/y/9j/5f8HAO3/9f8VABEA+f/l/8b/xf/y/9//sv/q/9j/6f/k/+f/+f8xACkA6f82AFQAJwA6ACIAKgBMADsAXAAwAEsAWgBXADAASwCOAI0AfgBwAC0A6v8PAAAA5f/H/87/yv+n/+T/HwACAAQAEgAIAAAAFADo/67/nf+V/6X/sv+h/57/eP+s/+L/vP/v//X/AADa/+z/JgD9/+X/+f/p/+f/4v/a/8T/wv/f/wUAJAAmAB4A6P8KAAIA4P/E/+X/CgD8//f/9f/2/9//wf+1/8L/x//P/9f/2//p/xAA7v/a/woAGAAUAAAA9/8BAPX/2f/B/+P/9f///+//FAAxAPn/EgApADEANgDw/9H/CAD9/wAA+//+/9//0//e/8f/6f8AAAwA9f/k/6j/pv+2/8X/3v/U/+v/4f/w/zAAMQAVAC0AFAAEAEgAbQBOAC8ACAAcACkADQBTAEAAMwBTAFYAegBmADsARwBWAC8ANAAzADMAHADq/+//CAAkADgAPwB6AIgAbwBuADkAUQBLAD0AQwARACoAQwAQAAcAEgAAAAwAGQAqACwAIQAiAAUABgAbAAYAEgAmAPf/5P/u/+v/9v8CAA0AJwACANn/LwAoADAAJQDp/wMA+//W/9//DgAQAPn/yv+5/8L/2f/b/9T/0v+7//7/FADs////9f8KAO3/q/+t/6P/wf+6/3j/SP9h/5n/rP/F/3v/gv+1/4n/tf+x/47/ff96/5H/q/+s/6P/p/+W/47/yv+8/5v/nv+V/67/sP/P/7H/0f/g/9L/+P8eAC0A8/8BACcAIQAPABkAOAA0AHkAhQBuAGoARwBYAEoAawB3AFgAbgCBAJMAlwB1AKUAxgCiAIwAqgChAIIAVABAADEA9f/3/w8AEwAAAC8ALgAiABYAGwD2/9j/1v/N/63/tv+6/7f/zv/G/wYA1f/H/9j/7v/n/8X/tv+f/6//of+h/9z/4v8DAPr/9v8oADwAWQAEABwARAAzAC8AKgBDAFgAPgA2AEEAOQBCABcADQDy/93/GQA/AB4AAAATACMAKwAgAAwA/P8CAPH/u//Y/xoACQAPABYA9f8bABgAAgATAAoAJQBYAEsAOAD5/xQAEQAEAAoA3//z/wYABQC9/8j/qv+9//D/HwAUAAYAz//N//D/1P8JAMj/u//J//L/BwD2/+T/7v/v/9r/5P8fAPz/6v/g/9H/7P/R//P/1P/A/8v/+P8fABAACAAWAO3/7//g//P/AADg/8H/iv+9/7P/eP+z/+j/0P/H/8b/AADo/wIA///P/+f/wv/G/9n/4f8PADEALgA6APr//P8JAOj/AQAFAAsAEQAxAAoAEgAlAP3/6P/m//r/7f8AAOT/GQAdABMAHAADAA8A/v/5/wIADAD7//T/vP/V/9j/xv/a/9r/6f/j/+P/3f/g/7//1P/5/9D/CwD3/xIAJgD8/xYABQAgAC0ARwBEAEAAFwAlABEA7v/a//L/CwDv/8r/7f8PAPn/MAAFAPL/8P8CAOv/BwD0/+X/8v/w/wYA+f8EAP//JAAXAC4A8//h/yUAKABEAFwASgA9AC8AOwBWAFMATgBHAHIAXABKAEkAKwAqABcAOwAmAAEABgAmACsA6v/Y/+z/JwAnAAAA6//g//H/EwALABEA9//T/+r/BADq/wAA+P/y//D/zv8PAOr/8f/o/+X/6f/8/wYA3//j//v/CwACACsAHAAiAC0AGAACAN//4v8FABQAFgAdAC4AJwAhAC4AQAAoACUAPQAXABYAFwD4/77/0v/0/8//wf+p/97/7v/Z/9P/4f/y/73/tP+2/6//mv+t/7z/sP+l/8L/7//N/8f/2P/X/9r/rv+t/6D/xv/r/9//8f/o/yQA9P8SACkAHwAmADQAXAAiACUALwBZAFkAFgAlADgAMQBXAEYAZQBpAFsAUAA4AE8AOAAnAE8ASwArADgAGADn/9j/7v/S/9j/6P/g/+b/sP+2/9//zP+5/5f/rf/T/77/yf/L/9z/r/+t/9j/vf+p/5z/j/91/57/cf+D/7z/oP+x//n/KwAfAA0A8/8XAC4ADgAJACMACwAHAPj/KQBFACcANQAxADkAMAAZACwAKQAhAD4ARQBMAFIAMgAAABYAHwArAB0ABwAXABoABQANACMABwD3/8r/wv/F/8D/0f+m/7j/2v/q/+X/FwA5ABYAMAAwADMAVwA7ABkALAAMAC4AGQDz/ykAFAARAD8AQABLADIAYABnADQASQBlAFgAWABbADcAPwAnACEAGAAYABQADgAHABoAAADh/9v/yf/X/+j/zP+//9//z//D/8b/6//x/+b/CgD9//j/7v/L/8f/2//z/8H/2//U/9///v+x/6z/vf/E/73/tP/0/xAA4//C/+z/3//C/7b/n//E/6z/sP/S/8z/vP+//8L/vP/L/87/xP/T/+L/FQAkABQAIwBDAFAAUwBNAC4AQQAzAD8AUAApADAANwAeACIAPwBJAFAAUQBKAE4AVwBVADIALwArABgANQBIAEAAKQAnAEQAQAAxACcAGADn/93/FwDu/wgARQAkACcATwBQAE0AWQBZAGIAOwA2AD0AJAAjADgAIQADACMAKgAKADQAOQAFAPv/3f/r/9P/x//i/+v/AAAOAPD/t//J/8//vf+g/5n/j/+K/6D/pf+2/6v/8v8QABAAFwAIABQABwAGACQALwAcADQAGQADABoAEwD3/ykALwD9/+//yP/V/8v/vf/I/9P/t/+t/+H/yP+q/8H/sf+z/8j/uP+n/4H/ef98/5D/ev+U/5H/gv/Q/7f/0f/D/9D/4v/s/+z/8/8fAPz/EAD+//L/CgDu//H/GwAPAA0AAgAkABwAAwAqAP3/FQAZAAkA2f/W//L/3v/q/8z/1P/f/87/1P/f/8v/yP+n/+D/yf+2/9D/m/+t/6z/2v/g/wQA4f/D//v/DgAYAB4APQAkAD0AKwAVAC8AMwA1AP7/6P/5/9X/5v////f/9v/6/yEALgAqAOj/8f/i//D/7//Q/9f/yv/4/8H/8P/v/+//DgASADAADgAAAPj/FgDv/xIAGgATAC0AKABHABgAEAArADkAUgCKAIgAVgBLAFkAbABjAGAAeQBlAFIAXABAAEkARgA9AEIANwA8AFMATABAAEQAQgAmACwAIAD2/yAA/f/z/xMAJgA5ACYASABoAGQAYABWAEcATgBBACIANQBYAD4ARwAzACgARgAuAFoARQAnAFIAVAA+ADcASgBCAF8AWgBJAGMASgBRADAAQgBXAEYANwAuABYABQAyAO3/8/+//6X/0/+J/4X/dv+H/6D/lP9+/4j/oP+V/6H/cv9f/4H/av9p/2r/d/+o/7D/vP+Z/9H/4v+6/9L/5P/b/+j/DwABAOz//P9OAFoAaABlAFwARgBSAFsASQA6AC8AXQBHAC0AEgAjAPr/+f+8/5b/qv9m/3z/If8j/zj/af9d/0f/N/8s/zD/B/9A///+Kf8F//D+E/8u/y//cf90/1b/hf9W/8//xP/U/woA+v8VAFcAYABzALQAuQDbALIA/AAUARkBGQEwAS0BMwE5AQYBGAHRAPAAzADcALoAvQCaAIQAewAUAOf/jv+p/47/WP/0/uf+tv6X/oz+Xf55/jP+Tf5m/lD+Rv5n/nX+t/6P/nv+5/77/nP/pP/K/8r/DABhAMkA/ABWAagBiwHrASwCfAK8AvcCCQMQA0oDmAN1Ax0DMQMlA8sCNALAAZUBMgF6AMT/Mf+t/jz+r/0M/Sr8ZPse+/z6j/rs+U35I/k1+TL5M/lK+XT5wvkv+t/6gPvW+0D84PwI/gT/dv+1/6wAwgElAgYCuwIrBDYFvwUQBuUG0wffCN8J6wrWC1QMZwyHDAkNYA1pDVQMFwsHCh0JkgdYBW8DsgGy/079Svsm+WL3nvVS9PTyoPHE8DTwK/BL8KbwzPBG8eDx+PLC85X0u/Xo9t/3MviD+SH7lvzq/KD9C//4AJ0C0gMuBZ4GfQkLDKcOARCVEYYTuRUUGVsdsB5KGbISiRP4GiccNxPtCFQFrARVAQD+Bvxr933vu+p77LTu+etk6MvpQe297kHufu8T83T32PsL/ov+f/6rAAEEjwZiB64G4wTMAtMCsAPhAgIAOP75/WX9Rfu2+Zz6HfyM/F78x/y9/Uf/VgHvA9kF6gaGB8EI0gkCC6wLfwvUCrMJUAiBBkwFUgQvA+T/vfyN+m353/f89V/1HfR98jrxgfGb8qby0PIo9JX0sPR09QL3rPjo+NP5wvpA+3D7fvsX/RD+P/7q/Rv+2f5y/0UA/ACXAQECSgImA18EGQVKBfsFMwfZCP4IKglSCo4LGQ2mDZIPsA+WDzEQFRIvFFAT1RG5EPkQVRAbD1YNDwsQCAcF6ALOAHH+NvuG+FD2oPSn8nfw6+7I7lvuMO3l657rWOzS62nsk+wO7dzsTe0z78jvuu/T8KjyvvQL9cD1FfdL+Vb8F/7h/iz/LgQbCUkMWAuaD/ISFRUDGOMjYy30HycSMRnGNwI7KiGwDGEV8yOvHAkS/gzQCYD79/Tt+xUA1PPS5UPnNO4V7sPmFuWG50jqQewg7eLsnepU7Zzy6PZr9+/0ZPPJ9MP6rP5K/H/2rvUf+SP8p/lK99H2kfZ29rn11Pal9e316vfJ+sr5P/ZV92D+VwXFBfYC7QEjBgkM8hCkEyMTNxKNE2sYVR4dIMIdmhpSHD4j7CjKJIMZnhH8E5MarxjEDi4C5PvF+Zr6Q/qW9HvtQOet6ATrn+ub6KTnGeom7XPuQuzP6xntW/Pp9Xz3p/MX8lvzC/aa+j75u/hW9fz1n/a09qf1jvQY9ef07vOY8gDx8+4k70/1Mv5y/v/3rvTp/HwIfg2UDYwNxg+vE+MYYSALJKsjIyKnJKwuWjdrNMAmdhybITsrCSj4GO4JeQP9/0D9iPrc9Efrj+KG4AHkW+Rg4dnfDuFf5OPk7eSz5qDquu8q8g/zUfIS9FP43vwY/j39D/yx/O/+FP/7/8X8Z/ve+OT4c/ge9rz0W/PK9Azy3u7A7c721P/l/yD6YfaH//8HsQ74D8UQFBRUE1IZWh7aJa4mAiUEKrAzDzdEK0khPCLLLbwrex+YEDkI5APW/TD+Evpk8s3l8t8L463k0uMw4ATimuIC4zfj8eWM6TzrR+/L8G3z6+8P8Ajzh/jQ/DL5bPbG8pD1Gfi5+BP4XvPk8PbuJe8J8DLugOpF5/LoFPKW+J/1f/Db8Hf+YAjjCwwLHguPEmwYkh/HI+snLimiKpYxQD/tRSg80i3OKvs1ozhMLxMg6ROZCuMBif+x/W71IOdD3fDdoeBr3ufZ3Ne12aXbCdwI3gbfY+Em5XDpoe3i65bqi+tz8hf5Svrc90H1Efa49pX5kPq++bT0h/Hl8VXyyPBw62/phOjn7Cf0ffd+9UvxofPD/RIIlQwUDJcLMhHHGEIg6SQcJ1gqsi1SOq5HUUnmPDwwfzQWP+tA8DMdJV0Y9g7DCJUHBAWU98foDuBM47rjyd4K2a7WEtih2DnaBdp72+jcKOJm5h7ofufo5Xnr/fA3+An5u/ZU9Qj2Yvmg+8r86fiD9jvyg/EA8WPvoOui5wfogezu8k7zqvG88GH2tf74BpYLmgxRD5EUMh3DJzQvLDAvLOYtzj7kT1NPkT3vLycyoDh1ONYv7SPEFM4FR/+y/8H9nfH94uDb+N3R3sDa9NTH0hzVhdhd3HTcrtxU3PDg0Ogn74TwG+zO7JbxdPhu/J77lPlB96D31PnK+6b7RPkP9J7w3/AM8UntlOfL59PtKfQ/9BLxwO9P89j5qAFJCIALtwz7DOISKR0XJYUp7ixaNodDtko5SM8+KTtOP6JEakPpOaUr9hzlEmwN4QpaBTv6Buyf4uPfWN9B27TUvNGq0Y7S3NIQ02nUmdWl2NvdwuLH5UflBeZI6hHwmfQW9qz23/YW95H3ePe398X2bfT28HHu5OyX6cfln+cT7kz0r/MZ7jbuJPS9/RcEZAq9DYcOoREAGAQhBShQL+U47ERsTC1LnUPFQJdEzUjNSPpCDjjTKHgaHBJXD6YMDAMY9AToC+Jq397aFtU+0XPP8876zurNKM4KzwjSmNan3TrjAeOW4t3lYe3084H5g/tq+4D7ifvw/Ej+T/7w+034A/Y49OPwCu2N6KXn2euJ8Y30v/Fn7tjuAPT7+58DhQjAC+ANbhDnF4shTSmML+06uUdOSzZEDj0CQLtFs0atQhw9xDQuJuMXoxAJEGQMCgHL8xfr9uW84O7ZrtRO02HRfs+Azs/PkNDez+LQvtbF3V7hx+Lk5EbqBu888vT1afos/RD9E/yY/Zz+qP10+uH4Gvhz9Tryme3T6nvrSO+p8h3zfPBf73rxafau/XgEOQl8CyQOABSTGlUhOynwNJVB6kakQ00/sEApRGBEQ0JVQLU62DDiI/8Z2BU+EGAHEv7q9vDwFukP4VLaVtVi0sHPNs/+z47PUs5JzJrOx9Np1z3b8d1G4hbnhOrS7cHxWvWh+Ln6y/te/Yr94/tU+Yz4NPi39kvzo+/Y7f7ucfLx9DH0g/GG8bz01Pmo/Pz/NgM4BvgKSw+dFUkaDB/7JSwwAzoiPVw6oDdsOJ466DslOqI3NDKLKiMiGBvaFiQRrwj9ABn7U/ca8mrp4OEv3GvZ0dcq2NrZXNoR15nTgtPF1pza5twt4c3lcel86wztHfAx86b0lPZF+qD9S/zt+EH2RfV79QL1rvT282HzjPNj9U73QvhZ9833WvtZ/rMBIQSYBTsIDAtODjsTdhdqGj4edyPBK9MxgDKRMCEviTBLMmwyujAALw8rWiX5HyUbDBcGEUgLHQd/A4v/1Pge8nftReka55XkheLz4dvfy91r25Taa9yY3Q3gbOJC5K3mpefP6BPrbO0F75fwP/Hz8nTyCvG/7//v+PEI8r7yjfE58eTxJvQA9+D5Bvtt+wj9gf4VAQcDvwUgB3wIAwvWDlcRkBFnE4oWIRrlHZ4ipya0J7glOiQPJngoMClOJ84koSJfICYebBn1FAsRoAwvCWsGkQT+ALX6nfSq72HtPesI6Gblv+Oh4zjiauAH377dUt5h4DviTuRR5ZnlGeb55bDnLeqn7GDuzu7s7xfwFPFw86D0FvZX9/73TPl7+tb8NwEoA5sDBwMIAw4FEAceCpUKjAp8C24LaQw+DgwQsxEbEkcThxXwGKAcAh9WH0Yefh7+HzciNiKdIaIflx61HAgaKRh7FNARow0XCjAH4AKh/pD60fYx81/vQuzT6HTmiOR64pfh0d9Y3src8twv3rbfS+GN4Q3jq+R15ebmq+nz7H/vkfBO8RDz3/Vs+RX7w/xF/pH+rv8XAQ8EpwaKBzoIoAgPCS4J+wf/CB8KHwrxCR4J8Qk1CvUJXApIC5AMRQ/fEOwSshbrGKMZ3BexF2cadhzXHd4ckRsjGzcY2RUaFVUThhBjDOII7gZpA/f+k/pg9tbyk+9B7I3opObo5dfjm+FB4PjfYeCR4Ariw+S25lXn/+i067Hu1PCm82/2B/dH+Yn73f2U/tr+hQBqAgMDLQRHBaoEXgQ7BFoGvwZ8BoQFHwXXBfgEhATpBMQEzATJBZ4GhQfhBgoGqgY1CZcKmgv+DSAQ6xEsFAMVzRNjE1gUGBXiFRUWvxMNEosPtAyCC1kJlgW5AsX/zv2U/Nz5BPUN8e7uhOwU7G3rZupu6dbnz+Y/6N7pqOoF6kbrKu4z8Qf0yvMU9IT2H/nY+pP8JP0e/1D/E/+R/+j/9wB5AEUAqADOAGQATwBhAQIDLwOPAwYD7wIaA8MDlAT0AwcEAgU0Bp8FrgXKBzYJ6ghJCSEKgwvdDOYMfA6dEPwPzw5pDnMOmQ7hDeINLQ5KDM8JjQd3BmwG0gMmAmn/N/3O/Ar8o/pa9/z1EfSq8/fyRfHl8Lrx0/ET8fPwt/BG8a/xXvLZ8oP0NPXN9cH2Dvhm+Qj5yvnD+ln8S/2h/Cn9wv5VAAQACv87/sj/VwHkAfsDsQTmBbIFCQWWBSgGvgbVBqEG/AZEBs0ENQUEBJsEhQTMA3IE5gL2AlYDewXXBskGPwa3BWwG+gbXBzUISwjEB2gHGQfPBxEG+gXVBVgEbwSXBBwFLANBAb//YP6c/Fv7cPog+hr5O/fb9anzS/MJ8xP0CPa69Zj1j/Xp9tL3Hfjd+Gn5Gfnr+VD7vPzn/OT7gv3d/kQAUwABAGH/7gBSAlkCrgIdAj8CmQGpAasCAwNMAZv+tv4kADwAYv/j/SD9//yy/Tn+Qv8UAKAABAFmAS4DfAbTCD0JPgliCZ4LOg4lD8QOmg5cD/MOSA5aDfoLSguECeUHswZlBVgDEAE1/en7Uvx0+r/34vWu9en00PRc893yJ/KW8ezxYfNi9mz22faC9sf26vd++dn6Sfu6/F39Tf6u/QX/fv8dAJ3/Kf5D/1D/kf67/dL9EP5q/mT8Jfyn+zP82Pu8+oT7Pfy6/Pn7BPyK/O39S/8pAT0DSQX1BS8H5Ql2DeMPiBCWEK0RVBPvFK8VYxVzFBATixKHEdAPoA0JDAYKAQg6BsMEzwGZ/wj9WftA+o73WvZ89Ur0n/OP88/xVfEP8UnxVfFH8SnzvPSx9dL10vWj9vj3XPi6+Tr68fnT+uX6MPtT+/z6sPkg+cr4Wvmg+2X8ZPwM+1/6oPrN+eH6M/x8/CH9av3P/kUAMgHdAMwAKAPeBeQI4ArODEcOGxBSElcSFBM1FUEWJRfoF6MWIhYjFJ0SlxErEG4PLw2KCioIOwf0BC0C5P6k+5f5vvfj9VX0RvOV8bDvYu9N76Xtx+xs7MvtUvDO8Try2fGC8gjzBPOT9Gf1ZvaO95H3EfiE+HH5xvjA96z4FPqX+rv6jvsg/Fb8gPwX+yj7s/2Z/b79m//CAPQBSgJWAlYD4gRlB7wJiAu8DCYNDw+fEQYUAxfYF/MW4xZ7F7QZIxsuGucYIheyFIQSTxDLDl4MvAkuCHgF6wMIAN36yveF9X7ziPI/8q7vOu176hPpKun16Lnp/uiV6ZzrFO0K7Rntre4q8GfybfT89eD2bfcx97L4wfv3/fL82fwf/dD7GP2v/qz+of83AUcARf/s/tEA9ACcAI0B9AGJA/oDugRoBuYGFghsCEQKrg4qEg8VuRfQF5kVSBeJGWwbXhzjG+QatBiVFcYTSRESD1UM7QhNB50DDQD9/Of5NfWz8ZvvUO4P6x/oOuej5snlmOQL5JHi1uPL5aLn9OnG667squ1/8BrzZPbk+aL5UfqK/Kz+tACZAWECtAL+ARMCoALJAncEBgVxBFcEUgMvAsoCRQI8AnYCWQMrBGUEzQWRBWgGLQiDCg0OMRKRFp4YCRnyGMAZBBwqHkQfrh6EHSYcuhrEF5AU+BEHDzYLLQghBVACSv619yfyJu9W7Q7qYefS5Ivil+Cz3zzfc94h3sreKOBW4zrmfOgc61Xs9+348KX08PeU+XL7Cv6i/3AByQF/AtABDgIUAp4BNALgAVUDDgSEAoAB+f81/nX/sAClAU4CmwPtBJUFBgYhCKwJGQydD4IUIRsNHsIdkhzoHM0e2CGnIk0isiFpIP8cQhk1FRYRJg00CUAGtAPZAEP6+vLK7L3o1+Zm5DTi8N+r3KLaQ9pb2tjZbNom3ADfueEp5WbpgOuu7N/vXfTx9376Pfwl/zUBVAKwAucDaARnBOsETAVTBd0DpwQKBTwFrATAAp8CEQLAAqcDOANKBIcFvwYnCIcJjQvrDQUQLxRVGvAeTiAoH58fNCKBJCskDyMYI8Yh2R6AG98XRhPeDZoI8wRiAon/MPqI8yDuZeo25yfj0d8a3pvd4txS3DXcF9tJ2pfbYN6P4ujkF+g567Tt/PDd8+T2MPiQ+ev7Yv8FAZYBPALmAtoBRQEmAKr/TwD+AAoDZAPTAskANACMAAMBAwH6AcwCVAUICZEKnwpdCl8MNxCgFDsZzh2dIHohqCFKIoIiCyKKIE0gmx8KH94bYxdzEtMMRQjiAzMBU/6v+gX2WvJL7mfr6+eX48ng198c4ErgTeCl4NrgOuCV4CDjzeZy6fDrc+/o80v2cPd/+FH5Hfv4/Df+iP+qAK0AhABLANH/vf6a/ev9pf7wAIwCpAL9ATMB5gBKAR8BugFaBL4G7wlLC00MOA2IDWgOlBFhFUQZlRtwG+cbNh2HHasbphrmGK8XKhcAF/0UrhDOCxUHWgSlAQz/Xfs097f0l/Kg8Ljtp+lo5uXjreJ046nk0eSu5GDlbufV6Pzp9eoG7SLwV/Ou9rb55/uz+6P76/zA/oj/3v9xAUQDGgSwBacGQAZeBq8GhQc/CXkKkguvCigJwAh2CHgFrACb/ej8c/7C/Xr8Uf71AHABSwErA1EHfQm0CuULoQ/XEsQSNhJsEqgToRMJElsQZhBaEPMOaww5CnQIhwbkAvH/CP6G+xr4O/VC84Pxve6q7F/sZux665Xqtevd7KTtme1A7w/yAfSW9ET1S/eD+JT4Kfk6+vP7Mf3c/av+rP7M/r3+RP5L/hD/lv/T//f/UQAyASsBswFLAqICjAN0AzsEQwXPBZ0GpQf2B7EHEQgACrYMPg2RDTAO7Q4kEN4PXQ80D98O0w2SDL0LWwrFCIkG6AMxAjwBRP8j/Rr8rfrk+BL3vPXh9F7z7fGP8d/xYfLt8cPxCfLf8ZzyuPOP9QP3Vvgn+vr6z/st/QH/qv+mALUBqgKBAxgDxQJEA4YD1wLqAdoBNANaA8ACXwGlAfIBWQInAvkBxAGbAoUD2wKpA8EEoATfA8cEggQhBcMEcgRwA0QDTgOUArUAKQDzAKMAIgCi/mr+mP7y/jX9HPxd/Fn9Pf10/Fv8ofz6/Gb8mvsW/GD8wvws/eD9iv5y/rr9Cf4H/7j+kP7Y/nL/mv85AOn/4/9bAJEB7gG4AnsCqQFJAswCwALoAfEBzAFmAlMC4QFfATABBQFWAa4BmwFsAUsBIwE/Ad0BkwKmAswB1AEWAvQB3gG4AY8BSwFcACYAVwAfAGD+oP02/TH+Of5F/Qz8jvt7/Gr81PsF+zj8yfyQ/bD9UP4S/vH96f3n/rb/KP/U/mX/PgCO/+v/SP9//wYA8AA0AfEAWAA3AAcBVwHsAZoBkQHGAdcB2wEjAioCSALAAm8DfgOBA/gDkAOgA+MD0wPEAy8EWQTpA90DpANaA6kCZgI4AjICWgKqAQABrQCMANz/Gf/t/jb+Dv2G/Hr84Pwv/Hj7yvu8+1P7HPv6+hP7Y/vL+2n8x/y3/BD9Gf11/ez9Qf6A/jz+x/6Y/8T/zv5P/ij+v/4d/1P/v/+k/7T//v8zAD4Axv+X/1kA7wBSATcBpAGfASYBhAE4AogCCgJsAkYDlAMEBD8EZQR/BKQEfwRRBBoE1APFAxYDaAJXAgICPwFtAKX/Pf8f/6L+aP7e/pr+7P0u/dz8z/ys/Or8R/2l/FH82fw7/VD9M/1b/c79If7H/en9HP48/sn94P0P/h/+4f2H/an9UP1V/TP9Nf1H/bL9ov2c/Wv+rf4o/5f/7P+WAPEALwFkAYABKQK2As4CfwOUA5cDggNaA4wDqgO3A0UEbwQrBCsEmQNZA8cCdQLzAXoBOAHAAMgAaADJ/wf/j/6I/k3+SP79/fz93f2o/SL+/f3K/WL+jf56/rL+aP/t/6z/ev9y/20AdgBLAMAA4wCwAE4ANwB/AMkAxwBrAA8ADwDh/4z/eP+z/6z/4/+o/+L/NABdAFUAKQACACAAhgAkARwBzABoASMBOAEWAcQAAQHQAGIAEgB8AKYAKgAzADoAHQDo/9z/v/+q/7L/vv/C/9b/cP9x/wD/qf41/0f/sf85/zn/Mf8J/yn/eP+T/1H/1P+2/87/GAAYAHwAbABuAI4ADQFTATAB9wDiABQB1QCLAGsAUQBmAAgAzP8cAND/uP9v/yH/LP/y/tn+yf75/j//8P7x/tP+aP4r/lf+QP5Z/kD+Ff7Q/gD/5v7V/gv/Vf/A//r/HABOAHUAPABrAAkB2QCwALkAowASAUYBMQFZAfsAqACnANAABQH8AKYAbABSAEQALAAkADAAPwBYAJAA1AARAQoB+QBFAa0BZwEEAVQBPwE5AfgA5gC/AIQAvACRAFAAXQB7AGUAhABiAJIApwC6AMoAZgBDACkAKwAtACoA4/+a/13/Of+A/0v/Cf/M/oD+eP5E/mn+Xv7p/dL91f3W/Sz+VP5h/nL+k/7J/pb+vv4P/0z/Jf8N/xb/TP9+/3b/wf9o/6z/1v/9/00AcwCtAHIAqADKAO4AXgFlAScBHgFUAYMBNwH7AOAA5gDMAJQAlQCcAGsAUABCACMAIgDZ/8j/+P/p//L/EAAcAEYAOABMAHYANwBIAKEAUQBBACAA/f8JANf/0P8n/8b+1/7h/sP+lv5W/jD+b/5e/jv+df6R/un+Wf9w/5v/s/+//+v/+f8TAGMAlQAyAS0BOQFrAUgBbgGKAdIB5gG7AagB6QHgAXoBKQHfALcAEAE4AR4BPAEcAeQAvQC0AKgAnQBNAAQA0v+J/5r/i/8w/zb/Xv8f/0n/k/+P/5H/1P/4/w0AUAAeALT/+f9fABIAAQC//4X/rv/M/3//JP9W/wj/Iv9D/zH/Sv8A/3z+Nv5G/jr+Vf5g/i7+Yf6n/sb+A/9G/87/DwAwAAsA2P9EAJQAoQCMAKEAugCyAM8AzAC+ALIAwwC7AHoAcwBoAC8APQBTAPL/0P+5/5b/y/+q/9P/jP9w/9n/wP8BANL/4P8AAM7/AAByANQAzwDxAKsAhACNAKQAwACBAHwAPgD9/wMAq/+k/4H/QP85/wz/Gf8N/wH/Ff8u/wz/1f7r/m3/lP+U/6z/0P/e//L/CwBtAN0A+QD4APMAvQDIABYB/QDjAKIAqgCvALAAmgBtAEAAFwD9/xAABwAgABAABACf/3L/p/+T/8X/Uv9w/yD/Of+H/6r/8v/Q/w4A1f/s/9j/BAA1AI0ASwA2AEMAGAAmAEQAnwAkACIAw/9KAGoAVAAWAHX/x//O//b/ov+X/6H/mf/V/9//3P/T/yQAHgARAAUA0f/H//X/CwCa/0z/dP+F/4j/4P+g/4j/kP9h/4T/nv+g/ywAQADsAGgB1wFkArgC2ALZArgCKwL7AfUA7wD0/37/Qf9I/4n/BgB3AKQA3AFFAkYC8AACAP/92/vK+WL3a/a/9e31G/fw+Lb76v4eAtkEVwfaCFkJ5Qi6B3AFPQM8Ab3++P1o/ZH9X/4fAFEBcgNeBFkF7AXdBFMEFQIyAAD+m/xT+/H6vfrd+vn7rf2N/zoBNAIeA5QDoAPhAqcBEgAp/0j+Mv0K/dL8dP2S/dr+Vv9+AIUAVwFIAWMBCgHc/17/P/6T/sH9Xv5N/iT/h/+fABsBkgEqApcB9AFxAa4B2gCSAOH/x//T/2//+P+0/wUArQBwAZQB4gF/ATABNwF4AMv/Sf/t/lv+Nv4M/kb+Yv6Q/vf+IP+w//H/WQAjAA8AIQA0//3+a/6n/rT+3P4//33/QACAAAkBSAHQAXkBIAGjACoAnv87/7P+2v2x/aj9Mv5w/rb+2v58//X/OABpACMAVQAoADUAWgALAE8AVgDbAOsA6QDzACIBCgEtATYBDAHwAEcAEQAx/z7/3/7O/t/+dP/e/1sADwHBAaECuAK0AoUCHALCAToBwwCaAC8ABQDJ/2QA9ACEAWYBsgGsAdIBPQEGAbn//f4H/tD8Z/xa+3b7//q/+5X7b/yE/Mj9Gv60/gX/ef9OAPIAbwE6AjoDzgITBDcE1wRQBAsE4wKmAlwB4//e/jj+Of24/Lr8zfx1/Wf9NP6i/tP/zf99AI4A/gA8AVQB8ACOALAAewDR/0b/Cf9Z/s/9E/3P/E38R/zg+7P7Bfxd/K78Mv2d/Vj+W/8vAJQAbgEYAo0CHQOVA+0DBQQPBEYEIAThA8EDzAPaA7wDyQMrA2QD5gIgApIBHgExAPb//f5Y/oH+If6Q/Wf9jP1h/Yn9GP1D/Qb9//wW/Vj9X/2q/ST+nf4v/8f/7P9MANQAGgGJAY0BwgGDARMB3wBOADUA+f/O/+j/NwCqALEArQH+AUgCDAJsAiUC6AH4Ae0BDgKoAfEB5wEtAvYBUQIeAjQCtwHYAHYA9/6U/Vr8+fqu+b/4k/dZ9gr2ivVs9dP1B/aT9lr3cfgd+RT6B/sW/LH9G/+2AJMCWwRlBiIInAqYDCAO+w9BERkSpBKdEhMS0xEeESMQBQ+pDvUNJQ0CDMQKWQnfBkwEcgGX/vL6VfhI9bDywfCc7hnuoOz267rqKurc6Drno+Wt4wjjr+Fb4k3jd+U455fqHe4b8ZX0SPcA+u/8sQDSA3EIrwyaE/sZriHiKNMucTV6OMo7wzpTOcI1XjBgKxskQB8zGJASDg5ICUcGrgHh/Xr4+fNS7y/pU+S63kTa1NaN1DPTaNJr0iPTONQO1RPW/Nac13jY3tgc2tbb6N2a4f/knOng7TPz1fiW/dUEtgrmEQMaiSEyK6Iy1Tu7QiFIeU3CTbtOJUsTR+I/pTfPL/gk1x3DFM4NpAbt/0D6qvOb7ePlT+As2m7Trc5+yq7H48XhxAnG88YDySvL1c1J0KTSO9Uu19bZRdxh3zziUuc/7IrxPPfP/B0E1wp5E2EdVidcMh88SUUdTntT2ldkWClWh1J9Sk9DFzmJL7gmBxyjFH8LZAWh/sP3nPLP6gblLd412HfT/s5vyxjJB8hUyG3I8Mm/ylTM+M29zkXRsdGF1K/VQdhO2jPdQOHe5IPqu+/E9if94wUOD0QbcibHMt89+EY/UUBXM13vXK1aJVb5TqVIqz9hN/cs6yKaGhASHQuWAv/5SfGn6dnir9yn1nHRHc3zyavIEMc4xwzGW8ZmxmDHd8gGyXvKicsXzkbQRNN61UTY5trj3x7m8+y89Dz+aAmjF7Ql2TTUQVlMY1dLXFlk4GIMYsFcRFW6T3hF7j+HM0orqiD7Fl4OfgQN++Xww+gE4Tjbd9R40G/M1Mmvx2zGrcSxw6fD1MIhxJLExcamyDLLMs5G0bDU7NYK2irdYeK36HTw1vfAAu4LGxtIKio3x0SqS+FWxlrTYChg21yLWfVP2kreQEU6hS8eJKcZmA63BTz7tvL06KTgPNrb1PHPF81syCjHD8VmxH7EcsTux4THbMsNzbnRVtSA1q7ahtuD3lLfOOGu5AHonu8A9V79lgXSDg8eLCkAOZhBoktzUphWolzGWtFZ8FPaTYtHOD8pOT4uPCJsF5UKngKB+JzvOeiP3jzaptOj0OHLAsarw1m+8r9nvse/icDhwXzE0sbhygnNptFN1hrZe9xx3zfisujG7Sj4tf4SCRcRwh8CLyI8NUoUTwhZTVuzYMdix2AcXEJTKU1mRaU9czSVKBgd2RGjBY/9UPPr643hlNf90jrM6srOw9/A6LyGu+67mLtIvam7s737vpzDgsVVyrrL29CR1EfZ8N6944Trj/MS/Q4FNhDDGZ4rcTkoSSlTyFg4YDdijmkZZwFltF1NVKRPmET6PV0wSCTIFvoJSwHq91Hw+uZR3oLWDdB7ybnFpb9uvfq6O7oGu6G7qLyVvNC9r76nwa/Eb8fAy6TOtNPf1wneoOSw7Qb6mADmDMgS3SAMMPE8n0trTqdX+lkbYX9nx2NgZOlZmlXSTVhEIj4pLwEkWxVJCS8B7vZP7xTma92y2d/RvM7GyPDDesG3vKa9wLsHvBK8erpwvSK9ccBzwrzDXslcy23SQtOi2YHgb+ui9UD7HwQ9C2UeyS51QddKZE/IVVhbRWUmaKVpF2OVXqdablT+TMBAszMyJpwbNxFJCpQADvid7Mzi49l20rTMKMV+wXm8drwfu8u5lrYns06z6bRguSS7d72CwMHCscmMzO3RMteD3wrt7fWLADoG+BA6HZMrqzkvQehHmku9UIVXxlr+W4pZJlQ6ULdJ30RJPBcw+SPTFy4RFguDA2v70u8F6BXh4dru1/DRxs7Ly0zLmczPywvKJ8yR0QTZr94t4BnnQOq28C3yovH49Sj3V/2B/csAYQPbAwgHPAXQCDwMiw50EeYQKBSdFFgUGxVjFLQWxBXtFe0U2RMmFKMQKxDoEO8OcQ5fC60KEgtOCKoFbwGTAV8A7P+h/bX7g/xF+rj6QfmW9q31OfMU8pTxgvAr74zr/usL7FHsRuwZ6prsdOxo7aPt6u2y8Avyp/Hw84r3Nvk//QH+TgG5A/MF7geRCMoJQAseDVUOARDXEC0RqBDzEm0S4xGrEMcPghBnDzYOoQwIDI0KAQq6B0QGAAVMAt0ALf6d/hP9gPsw+s34FfgJ96b2jfW+9Uz1qfUa9a/0ifPa9D31dvaI+Ib3Cfjc97X4lPmO+C75yPgA+p/7Ivvx/PX8IP6T/6z/+AGeAncD3wRLBLYFbQVgBu4I9Qg0CFkIrgcjCfII+QbhBX0FhwXuA0cDgQLTAUgBYAGHAZACLAFMARcBQADoAPUA2gBEAfcAagHHAjQC3wLaANv/f/8K/tL96vsn+6L6BfpJ+m35s/r/+hP7l/z0+/b8C/yd/WH/EABvAID/dv+B/xkBAAH//3f/0//U/a3+pv1q/e39dv7n/vP/0gDEAOYCmwOkBBsFxwZnBjUIqQjZCeMKagu9C88KIgqiCa8ILgc3BYwDjgN/AqkAYP/9/Qz8i/uc+tz6zvq7+kr5nPnD+J35L/nR+E75Y/hN+Lr3rvfU96H3tfV/9Un1avaR9kn4f/h++kb7XPtQ/qn/bQPXBaYHLAuVDUUQTRLdEyMU8RS8FPQSFhIbEAkOJg2MC/4IygdbBZ4D8QA4/h/8RvqD98v2Zvb59bbz0/Lm8kXxwPEi8WnxSfB37ufuk+2n7C7so+zH7djt+++I8f/zKPWP9+b5GP0oAF8C0wXTCUYNkA/1EQoUOBZ0F9cY3xdYGJoYAhenF04VwxPCEC0OBA0lC+0JbAZ3BI0B3v81/t/8Y/qb+Lv2B/Xi9G/05PJM8GzvWu0C7P/qJOpy60rrAOun6o7sZ+4y8HDxPvJk9a32mPo0/GD/HQIEBVgHAAmzDDEN2g7/EFMReRLeEvQS4RGMEtwR3RABEfIOBA5qDMcMYAtfCd8HygblBZoE8gEWAUj/8/3F/P/65/en9V70N/MG8ifwy/DF7nbuZ+5e7fjuvO+l7hTwxvA38mP03vS59jT5KvqK/BP9o/58AZoBNAKAA6AE+gQxBsoGZQbHB+YIdQh6CacJBQqWCvQL7AsnCx0Lrgv8DEcM+AorCW8J1giaBkgFaAMNAtL+0vwA/pr98vuV+Qf5yfkl+lH5NfgN9+v2TvcG+Kv5wPh5+P/49vkQ+4L7vvuJ/XT90f21/pP+sv4K/lv/BwD3AH8CxwMaBX8GvAdvCfUJ6gsdDX8NJw7+DQ4PIQ6LDDULXQp3CZAIhAb+BPcD9QGKARsAAv8g/of9Mv2B/Nb6F/pH+q35UPmv+NX4kPjD9yP30/di92v3aPeO9yX3Dfdr92n3Z/h/9+z4RvsR/fv92v2r/4kB0gMFBYoGEggHCb4JTQolCrAJtgkuCDYH8wWvBGUEkgPaAkQCoAEXAWn/cwCJ/yz+9f3P/Lf8bPwt++z7yvp6+pj6pPha+TH4mPi894T3jveI92/3sfZZ99n3H/pi+xT7Ev1P/QL+wgAkAXsDpgNzBJwGswaBB34HWQa6BkIGsQWbBQkETARfA5UCEwKQAeYBhQGEAOAAWAC+/9//J/+j/7b/ev7n/Vz+af5o/hb+Dv4W/b38yPw5/Qv9h/z7+/P8nf4X/9v/KQBDAA4B7wGZAgsD6wL2AzwEOgWKBYIEkwS6BF4FuQW5AzUDYAL+ATgCYwBHAGgAof/7//7/z//d/wz/wP+m/zgAdwBQAM8A6v8aABAAPgDF/1//gv8TAB8Alf9b/1T/lwBdALABVQFhAtkC6ALsA6kDDAX7BJgFogXVBU4FGwXEBHADxQL0AXAAPwB1/qL9Fv3g+jT7bPqd+WD5YvmC+TL5PPjP+TD69vk+++76nfsj/YH8Mv1f/ef8zv5j/rD+w/4p/4cA/gBjAa8B+gH8ApsD/gPfBKcE0QTCBWkFgwVuBRMFxwUsBcwE3ANjAmoBLwC3/zn+6/zB+yD6rPpK+pX5x/i39+n3+/bb9iP4z/dB+Fb4RvgD+Wz5r/mP+af5PPqY+yj8Uvxa/cr9QP6S/9z+RADbAWcBWwM1BGMEfwU+BYAF3QWCBtMG3QaoBlUGUAf1BigFMARUBD0DEwPxAeIADQCX/kj+6P0L/sn8kvy//Kr8nvyZ/Nb85PxJ/U39Ef48/t79Gf4I/+D+GABoAH3/qgBLAAgB3gFTARMBjgEvAvoBPwIYApcCywKMAroCxwNGA+8C9gOUA34EMATzA6cCQQIBAlEC5wErAWIBxQCrAIwAlgAyAPP/sv5X/3H/2//F/v39hv0v/nb+If5K/pH8Of3D/bn+P/7i/cv9Vf7v/rz+vP91AGoAnwBSAUoCMQK5AQcDIAJzAuwCbwLOA7wC5wLpAXIAgQDp/1UAUf+3/8/+zv0x/tD91P35/Nj8Av3k/Sr+8f2H/sj8TP3C/U39ff8x/y/99v2f/kMASAB2/6L/+v5SAQAA5v/zAPQBZwKAAugCOQL7AvkD2ANpAxkE1QRlBOYEVAT6A3EDUALoAsAAcwJxAecAyADz/+cAz/9//QX98/zj/vAAHP8S/qb9Nf/x/m7+C/6g/5UAdQDZ/w0CSgAoAFYA8wFNBNEDaARUA8QErgQhA6gE6wZSAz8HdQbFC9YHUgh6CJEH0AkFD4scd/3X3Lvf1Qo1E5oMLfoS2gXZR+7M/+Tt8PLQ7Jzu7+sN5D4Ljv9kCvb5ct8M+ln+5AHP9lf81u2kFIz5MRArCLD00w0U+1wTQP7yGaoa/vdc910cnwGcA08FYP04AO8Mj/KX/ifybfPkD1XjHv85+vP6cuKn7P8Ovu8I00sIhwJ/5h/m5wm9/LXvMQ18BrcLgPD0AZEdWgJ+8SwiUQbZ+xQD7RP2A8T1kQYRDBYTC/qp/a0RGRBd+wANoxD1EHzlPh2DFAT0LxKABkUOrv/3+dz0dBAY9Q39dgex6nzzqfmY/IwDyPjs/Ej31PtB+Mr2Wg95+bvykwgtBxv5OAqQ+LsBC/YIF3cPzuyMDb37cggW+BEN0hMQ9KwGsQvU/KsEov2vFOQJnvV2EYUGvPsXAk0XmwAY+lgKR/6I/i0EjgOw7SwAYADd9LkAYPGa+Bf2Dfu39Pn8ovsV8+L2FwU0+BjuRQio+KYDSPdY/CUFsPv/Agr4CBRhBVbsrwjCAU4Hsvzh/ksGBgNKBXzwbBTI/Sr5AAziAnoCcwRU96wDpA7s+MwQjez9BUAOl/UY+C4ECwWk/u/+7vEKDHHxb/uaAsoCivyq+HH/CvV0Auz7d+7B/fMCIfxEBbjq6v/0AoL/vAQZ848K0wGb8b0OSwDc/rgFuvzxBiUIlAO69bUHmQqF/cYFGAsC+5EHAf/x+2sPjv3b+q0JE/xE/QX80gWlA+D3/grDADkCQPrY+BUDNgR4+NwB5f0p+ov8K/52AzzzJ/kTBP0BVfBm9IkAj/Q19RcB0wSV+gD5QQnMBb4HqPjFBAwVt/wnAP0NTwJaAZQDHAXGCeH9PwL7CI8ANvw+EfQHd/knBbAKM/u59Vz/+QjE/5jxLfmDAI8Ane9C+s0EB/nH9lH/7AbS+BrzewKeAGcAZPxS/HADyfvT+k8A1gQd/rf7Qv9uAXEDIQQh+rz+fAwbBdsBCwVoA2kCawUoAff92QDHAsIBrf/nAAkCrQNGAUf/jQSCArf/SgCUC0kBafdBAHsA7AA2+6b6QvnNAUD7zP2OAWT4+/4t/kb+I/wK/KD5I/gK/Gj9+wDe+Cb9UwSY/ukC6QISBOsCZQGLCPsLTATMCFgEhwUuAoj+YwLk9yH9ev07/y//p/6f/WwACgESA2YBLwb/APr5FAQj/aP8nPvi/e8AcPs7/ir/ff3oASn9MQaABIL/7wH6/cwAy/QW+sD9TP5N/177wvtc/i4ClQG7/0MAnQhVAbMGzwbSAyQDeQDMBAECnAEmBE0BR/6BAKn/6AIe/fD8+Pn3/wP23PU3/av6vgCb+c4CSv5X/t7+Yv7m/2v9YAJdAb7/YQDf/68EfQKuBP0IQf6zASP+eQJ8CJ4DCgE6+tj/zP8Q+Tr+Av4tAQIF4gVqCR4Bc/+OA2QCVgOGBZcFfwGH/C4ALfq/+j/+dP7l+vv4tv03+Ab6v/iJ/2b/uP2T/Ov/fgHtAgAG5wPPBqkGBAi5BkYGnAUBBWsDNgV/Au0Bt/uNAVn7mfdj9kfzSPzc9Dj90fwS+68BLwE2AtcA3/2oCFn/SPzqANj6NQCX/iQGBgK9+Tn72QAvAaUAYPpv+OX4d/xEATn3E/y3+/8APgYEC6wPBA+sEZUTQw8cDoUIOQSKCtwCpQJ+/Ff8//wR+6cB7AS1ANQAsAGNAJD54vM7/jT3E/Tc8E/tROwK7BLwMPZL9yT5nfxE/Tr/Rv7hAzH/1PxF/ar/L/w2APIAa/+1/eX/1AzDCQ8N6w/EFcoUQRd0GE0XHRPVEkcWPg6iDuwBnwENAo/9aQIi/qb7Vvbf90P4M/ho+DL24PHH5z/lFuVi327WOdtT4dXjQ+RP5pfn0+jW8o3z5PWv+mEAwgR+AiUEKgBaBiUI5gq2FHoT4hTZFvwhIycYKXUn3CzsL8MsoyrEIHsYbwzzDGwHUQE//n748/R08h74avES8MPvI+1H7r/nR+AP2W3YfNN3zknQWtgD3DjWJNlL3XflNuu48+74qfL8+u0Augu7EWAasRzXHK8mkymJMpc2zzf/MnE9vT31OWYzoyyOJEkcuhtoEOIQJQYKBWMCVP9N+8jy1PH/6uzpd+R14AXbjddd1BjPJctty9PN5NEB2XPaNuC22PPd/+LD4frkuuVG86jy6fuKB6kUBxzKI9MwPD7SQkk/S0XfQn1CWT21Ojo9wjNpI6kdHxFwEbwPLQ/LDTsEBAUn/X/4k/JN8ALr3+UX5MTgRteIzpjEbcTdxLfAsMXsxSzOltMT1hva39cn37Tibees7cDsJ/Zh/JcJhRLxG8wqLTSDQDFK9keLR8tJgki/RZI3ujOoJbYakRrzDycR/Q27Bl0H0gCCArb6RvO29TzvTew34ZjdRtMayiPMwMlpyVvAW8Ldw0rAWciZzt/Yqdsy2pvj0uRD6uPsrvCC+K/6ogYAEigcNyhUNOw+d0h7SmRPNkbFRUc+xzfhNxwiuCJ9EQUPwQ1nAZkHsgApA80BBv6Q/JbyT/Fm6M/fbt1505/Qp8itxBvI6cBIw9DE78W2y3TLDtjF3eTf7+Ad5Bnt9u6E9kD9XgQuCLoXNCRRNyZKTFL4Vy5N91QjTeJHSD4vNyU4DSj/I+EUrQz3Ao0BUwMRBQwEdQH0Afj6TPv17lLq5+Sx4a3c/9NEz6zFB8VKwIHD3sJTwlrHYsnM0qna4OHr4UbkDe9+90j6OwE9Bv0Rgxx7K+dFB1PBWLNSVVyTXcZPvUfJO4M4aygGHbEXMgdWARr54Py5AJf+2QXHAywGJwTu/F/2nuwM5VfdaNZ8z6rFVr9Uu4a3dbmBvrjEf8V5yNrOgdnV3hHhu+jC6/bwyfMR/64I7RFpHnU0wEvzU/VVIFccWqFUtU99RI9B2jLIKYkhww9ZB872Bfai9HT3rfqT/Lj8Xfnf+VH3PvKL6D7lhd+a2ALQ5ManvZq0/LPgtja7Trm9uB+6RMJ7y5jS0tzz4XDo++t99N3/IAurGOMqOEdyVj1XVVkWWQ5W3U3PSw1H7TutL5EidRsgCMn7rPV08mP3KPll/5H/jP/l/v/6jPo38brrJOdM30rXjczFxcq8brfptyW5bbovvyLB0MSizGzUIODo53XtFfOz+MYCPA2JGSYy/ki6W81jRmWVaLtfPFoIURBM1EOGNpMvYSGhFNwF1fxM+pX7ugGDBb4EsgbfBeQEwAEI+yT4s+6c6NrfZtdL0N7CC77NuFi5h7vJvU/DV8R9ygTOKNae4Ezp0u9P9+r75QhhFL8mfER0UxBnFWNqbMZqZF4lXWhI8kllN9UuCySREMwIgvTT9Tf0lPke/eP5ZALWBDoF7QKQ/Lr4hvHb6rHjUNg80FLCXrpPtxuzTrXjsWK3fb31wKTLFdEZ2hbhseih8j731Ab3Er4nNkOAUB1mimC3ZvxkEFwLYZhHO0W8MUAqPiDRBlkC6uxi7avqj+1/9MvxxvW99Xf4Nfpo9ibx5esM40TdEdBhyei7b7N0sLiqeK9BrQGxmbAAtt7AYsig00DbnOI761zwO/uDCzYfQjuVTZ9bjV9JYKdgl1fLUwdFWz1JM2Mj0ReOBeP7MOwW5BrlCOkc70rw4POn85H0aPLt72zvE+y/58Thhtruz0zFWrxduFu2YLWft3e4c7pqvFzB1Mko0l/dYegl9D/7XARzE4spsEUuVxZiO2Yga8Rqz2SLXAFR2kWdOLYszh6xFQYG0/cg7p/rQPC/8mH33vc5+aL4hvkQ+Wz3o/Ti8BHrtuL723/Ss8ngwxTCjr55wCPCsMLaxV/JrdEA2DDi6etA9dT/VwhmFqsrd0ByUX1bmmEzaHhpJ2bUXvRW1EvVPjMyGSSqGHYMr/9898bx6vHj8evxOfPQ8XbzAPOB9IP0PvMD8Ozns+IL3NzVPs+JyIzGtcTnxELHZMkjyzDMxNCI2ELiCuwe9XD8hQRxEIsjFzlQTH5YV1pTYIFgFGJQYGhWgk4sQDs53yvpHy0WhAVl/Jz0wfPg837ygvFT7RHsmOyY7QnvV+xy6RHmHOD123bV7M+4ygnIecnUx5fKRMvUy0zOrtCy2IbdbOWj7Bb1Jf89B4gWPSZ9NuNDN0rMT9xR9FGjUR5M90YdPig2my1wIkYaMQ5SBEH99/hq9WbyfO/46ybo8uMN5Ebl/+QO48LgyN3K2BHUhNAvzoHNMs0tzbPOQtAB0U/SH9VG2E3b8OGM533vU/dm/kgGXg81HVIpBjOlOCU9+kCaQqRCfEEnPbU3NjC2KHoj1RzUFr4PnAdyAc/8uva28i7v9evG6g/pKui25JTh/d6W2pzY3NXS0+zSl9PB1MLUuddj2BrZodv13i3kp+ef6y3waPRE+rj+iAJ5B7EO8hd0H94lSCqqLugz6Db3NyQ3XjR8MPYrYCo6Kecnaia0IK0ZexHFCtMFzv7T/OH6tvjp9dDvzupf5DDgZtp41zTX2dhA2pvbQ9xH2yXbI9vI3cLgRuRc5wzr5ewP8MbxLfSk96v7Pv42/wACOwamDGER3xepG5sgaCP9I9UlsSX+J6cpDCxyLREsJCm5Im8cWxfBEdUNXgtXCGkDVf3U9Zvuy+dg4yLhguAo4dDgWuHo39Helt1l3Yjf4N/p4fTjmOXq5gXnxefg5+7obOko6n3rU+0T79jxp/Q/+UP+QwLbBuIKnhF0FTcbrCFfJT0o1yccJk4j1iChHz8fEB5NGzUZWxXeD0AK8gP3/pr6i/gD+Bf4W/cz9cryEPAu7jDu0u3r7Pbs4Oyk7KnrGOvH6cPnSOaW5VTlb+V05UHnQ+mI7BPv9fBp9Fv2KPuE/+MFCAzCEQ8XlRkjHG8drR5eH3cf/h95Ia4hTyABHvoahhcyFZ0TlBIxEwMULRR5E1kRBQ97DMMKJgkXCGwGMgT9AXn+Pvva9iz0i/Hv7lTspOkx6ODn4Oj96LTpTOpr6wju4PDV8xr3dPufAJkDxgbPCKMJ4QlWCdkK5gshDkYQFxGYEQMRmQ8qD4YPehC6Ei8VUxgZGgkboxuUGssa+BlhGcEYixe/FeESYg9wCrcGCgIM/uf5lvaL857w0e757Pzs5etP6zrrDOvA7P3tpvC786D1Bfi69/f2ofXY88jygfEa8qTyevOT8+TxzPCz74LwRPOy9kH7Lf+UA9wG/wjUC9kNZg8+EV4ShxNOFJ0UNxPGELEPLw2TCk4G2gKDALH9avwt+9P5y/it93D24PUW9hH2cPY495H4k/mL+K737fTZ8STv3OtC6r7ocuaj5BDiSuDt3vzdfN8V4cnjFuiQ7DLwdvNy99j6n/3kACIEsQdHClAM4w0vDtkN/gzQC9QKBwoWCbwIXAgFCEYI9gifCAYJ4QnjCdMKCQxWDUsO2A6RDh0NegpLB+sDeQAw/Rv6O/ek837vvesZ6Obl5OSD5DnmLOiL6rnsDO5a8KzyEPXP97z63/1JABoC9ALoA+0ECAZfBlMGMgYXBnsGuAZsCFwJIwoIC4IMgw4/EF8SrxM6FqYYgRqpHNkcKxvXGFkWpRMSEYwOmQxyCXoFvgFN/S362fe99rf2RPdC+Dv4Gfjn9173lvcJ+AP5o/pw+9X7Bvvo+in7IPrP+Yv45/fD91v3EPg1+A/58Pkf+0/9Uv/CAaEDPwZTCZYLaQ4kEdIS1RM6FNYTjBPeEjcSqRHkDzgOrQsZCQ8HDQUpBA4E+gRBBa4FrgUABV4E4QPJA/cCDwN4ArMBywBU/nP8Pfpe+EL2ifM28SjvO+2X64PqJuki6TzplupA7Hjtpu9n8Vn0zfZP+XT7t/yu/rD/jgCaAYkCNgOPA9YDRgMcA1EDPAMGBEAFpwYbCKIJFAtkC9cLXwwgDcwNYQ4eDzkOgQ3fC1gJcgf4BIwC5/9d/f/6OPhc9VnyoO/I7eXsy+yp7G7soeyr7ITt3+5E8H3x3/Er86r00PX99ub3mPhu+Sj6zvqp+1T8hv13/4oBTQQzB9kJJQwFDhsQOxIpFOUV9Bc4GQkayxplGhsZcRelFRwUAxLaD84M0An7Bn8DSwBW/RH7YflS+M/2vfV99HvzofIv8vnxZ/HS8DDwn/DE8Orw4PDA8DTxcfFm8tDyXfM19Ub3rfld/Lf+PgEGBEUGoghvC+wNRxDOEh0VIhd3GJ0YfBdcF88WZBbBFToUdxIzEPQNqwvRCHIG4AQoA+kBYwCM/xn+Ffwl+ln4Avch9lf1gvRY817yUfFv8J7vfe6y7ezsEO0h7dntE+9f8GryO/Qu9tj3jvmy+0b+CgGQAxkGLgguCpsLQAyXDL0MIQ1+DW4Nbg2XDNML/AkoCPMGyAUbBQoEQAMtAogBvwDY/7v+Uv0B/Aj7XPq0+UD4kfa79Kzyp/GP8Pzuhe3L7BDtc+0n7onu6e7577DwyvFf8xv1yPaK+Cn67/ug/b/+Q/8LANoAWQGJAmYDGATsA34DZAPcAu4C/wL2AiQDcAN7BBwFRQUABSQE3QPPA0QEmwSGBNMEKwQRAxACrgCD/43+qv0X/fv8p/xb/M77cfvI+7v78/uY/Ej9HP4G/7v/dwDEAKUA5ADPACABhwHDAdgBCQIOAl4BzQC3ALMAOABfAHMAWAGeAkUDCgRNBIsECQWYBZkGZgcKCKoI9wh7CeAJ0gnmCP8HvAdxB2EHlQdQB/gGSAZNBk0GFwZnBmIGfwaZBjEHbgdTB9wGVAa0BQkFTgTVA48DgAIqAgcBv//q/sX91fzL+zX7zvr8+v/6Hftb+zv7Tfuf+538dP1p/lD/RQAWAdcBvAIOA0IDNwPBA2wE4gRMBWcFnwXKBcMFSgbKBpsGhwa3BtAGxQb4Bm0GDwavBaoE9wNeA10C6wBM//r9HP2f++r55ffV9VL0KvMm8o7xA/Fs8JbvQu/F77bvh/AY8ebxg/OD9ID1ifZu90v4bfmt+gz8Rf1i/rf/hgEHA/0D3gTbBaMHcQlpCisLCwz7DLENEA48DtINWw2hDM0LdwtoCvoIKgckBYIDgQE7/zT9dPuc+Qn4c/a/9HPy7fD07/PukO637Z3tru3h7V/u+O4r7zXvq++y8Bvy/PPn9er2vvgQ+rr7uv2z/74BugMnBjMInAqFDOgN2g4BEG4RvRKhE/oTthNMEw4TfxLfETkQxA79DMwKagluB14FZQPaAAz+nvur+cb32PXd84fyLvEC8G/vXu4q7RLs6eqV6n3rVewx7c3t9+3c7nvwVvJV9Hr25fga+xb+pAGqBOQHLgqsDPsPNRMqFhEYfBmRGqcbYR2IHske+R1xHHIblxrhGdwX6RTDEdUOlAzyCdYG/gII/7v7LvlY9ozzEfBN7JHp0+fW5lLlO+Pr4OjfPOAZ4QziQeK44ubjC+a/6RHttu8E8tP0Yvls/jgDPAcKCtMM+xCXFboZxhwuHlcfcyHTI6ElJSZUJagjKyKeIYcgdB4ZG9MW9hIfEPoMGAliBI/+bPkh9bfxMe4e6mzlNeGe3q3c09qJ2B/WIdWZ1dbWldjC2aza8tuz3ibjmOdH69Du8vLm94z9xwJuB7sLCRBTFesaih/fImklbSfDKUssGS7lLo0toCutKrspIigQJbAgvxu5F/cTMA/1CbYDEv299yDz0+7B6d7jid4F2rDX69W204jRQc+szo3P6tAR0tDST9Qm1/LbW+HY5YXpIe118U/3zP3iA5QJZw6JE8sZzx+hJKUoRyt2LZcwwTMrNpQ2bjWVMx0y4TBBLlgqIyWeH/caIRZWEJYJAALv+uT0GvBZ65rl8t8v2uvVpNNk0a/Pgs2iy3jLz8yXzsvPqNAC0rHVMtuF4Pbk2+g27L3wHvdO/oUF2QulER4Ydx+oJTgqvy38MAg1+jn2PYs/HD/4PAs6FzizNq0z7S5GKFQhgRsqFqwPGQeR/fr0s+4m6ibl1N5218TQbMyxyffHeca1xOHCxMIOxALG+sdkyYbLAdAU1gzcx+FL5u/qj/C19w0AxAhxEZwZAyEwJ8gsDzJSNyQ8ZkBeRIFHz0iUR4hDYj8SPLo4ljR3LtYmDx85F5gOlAV4/JLzSOso5L7dRNhT0g7LbMTTv/+9BL7OvX28BLtLu9e9psEjxRbI98vo0OvX8N/85h/tdfJD+WkC7w3uGZ8j8ikQLmcz2Tp1Qp1HS0qRS3tMK00rTERI90IHPSo3izFEK8kjcBreD+4EcvvW8zLsduLN2IvQ7sp2xvLAELv+tri1crX9tFa0grUTuNy7/b83xGbJZM981SDdWubf78H3ov3hBJsQ1h81Lq82HjkHPGJCmUzrVfRaRlv/V45UilIsUddOCUkiPz40WCvJJdoeSBNtBZD4h+/w6JzgkdZnzHjE6L6puqy37LT/seWujq32r1600rdwuWW77L9ix+vPTNc73rvmevCk+QMCGgtMGB8oCjf1PnFBNkXiTORXHGGuZc1k2l8nWqZVk1OyUrFMwUDwMaQm5x/EF2wMHv538ELmut2a1UTMgMLuuWez76+IrkytvKkZpWSkK6nIryK1q7eHuUe+r8cJ0nfcfObK73z4+wCBCsAX3yjeOHVE7kdwSopQz1rtZO9pd2oWZuRfzlreVRtT6E5KRJ42IijOHb0UvglH/U7w+OTj2dXPjcbSvdS2u69AqoqowKfLpbGi5qGFpFKqZLGatei4n7znwnvNCdmD5ETv//d9/y4IihRXJu44s0VLSe5JNVA+W+Fl1Gq+ar9nOmFgWhZWPVNMTzpFdjY2KEweaxWPCCX7JPDj5lPdldEcx6m+IbeyseOt6axkqwSo3aSCpCWpWa4esum18bk4v1jEdsvL1ITeQOnE8kj74gIfDMUcGjFoQoFIJ0c3SxtW/2NvbDRt3GlHY3FdL1pTV0NUR0tkPeAtkCIcG8sPmALb9d/qzeD61aPLYsJpujC17LCjrmGs+ah9pWqjp6fJrCqwtrNpttu5YL6dxW3OKdcs4ZvrBPUN/lsGxRVmKnw99kYQR8ZKW1R0YdBqz27UbPlkzVyJWNZVZVRtSyQ8NSwFILMY8Q0FA0T3yuoN38PUSs1zxkW+qbdzsmGxsLElrqupUacAq/mvbbQGuJ+5yrsAv8zF487Z2Pbi2esc9Jb9fgaqFW0qPD09RZ1EWUpOVLpfamiya7doOWCBWIxWFlUjUphGJzXUJvAdqxd0Czv/t/QD6Tje09WQz8bIS7+nueO2m7fStp2w8K2KrWqyNrbBuEi9+71Lv37CF8oA1CLcaONW64/0vwC8B8ETzyi8PN1FnENQSk1VZ2AgZ9NoSGlvYspZvlN5T1tPT0WRM7IjqBrQFSMInvyJ9KXqEOFd16PRSszcwzq/6rwjvne9jbcZtRy14bqJvWC+ScKGwy3GKseQzB3ULdxS4wPqRfRW/xoElw+MJKk5N0PcQMNHuFLiX/JnrGnvZt1f1FnOVSJQAk6EQ8oxNyPXGu8VIwkl/nb1nuvN4QnZwdM5zebERMC/vIW8WLvFtr6zX7RIuea7mLztv77AJcSJxWTIhc4F1mzfcOjB8pn9dAJqDn4k2joXRRJCDUlXUgZdrWVEapBmPlzhU4BSz08LTTVBGS8bIVoZDBZmCab9HvXZ7ArkNN1C2L3RJcp3x63EqcRswta8tLn7uzDEW8cXwz/ANcBjxjHMlc4m0FTQytZU4CTtQ/zaAucI/BnfL4NAmUEqRjBNfVRKX2RlL2TTVxBNcEyiSu1Iyj94LkEeTRPOEaIJc//69Ofn2t4T2mrYU9SyyvPGtcNFw/bDr8CFv2m+xsFTw7vA6sTqxpTH4cc/yGrOEtO02TjecuRE8Yj8HgSkFFIoKzuGPJM+4EkGVa5hEmTqYGlWtExWS9dHM0OEOwEpXhoSDYwMBgeD+8nxsubU4BvbOdU40Y7K/Ml1x0zCbMMRvw/BkMAgxKDFesFBw5rEP8YXyW/HcsmJyc3Pmtmj34vpbvBH+R0J+x9UNhs8hzqbQZZOLGDEZjNlL1t/T6lLnEqcSNs/TC55HnMTHQ+mCrT+a/Xa6wLp3OV0367YDdJJ0GrQ+c/gz0/L0MY8x43JS82KycHIg8iwylXMA815zZfN4NBX13/gjekl8pb4lwMZFp0uHj9VRRBFFUxdV1Fk/2o+aAxeLVBHSp9JXka3O4IqDByrEjEOuguzAXb3VO706oroB+X/4LHbTNaF1vvVQNbp0pXQiNBL0JrQh85UzqzQS9H9zWTNOcz20cDUttzS4avorvQrAMUNzCDmNDtCskJ8R+FVsl+YaIxl1WM+V4BLgkVMQX47PS05G6wPNwitBYX9L/N07jXp0+jS4pzhrd7Y21TZiNfD1/HVj9Eoz0rOu891zC3JqckJy9bKAMe9x5TJis0A063Z3OGh6tj1oP89DSglQzt5RxZIKlD1WzZjFGeIZqpielYnSDRB7ThhMEggxA7hBNX8E/sU8pLqoOU24sThDN8x3rDdd9hS1xTVntdk1yrV1NRmz/POvctPzIjM2cvvy5zIIsg7y6nMDtTl1k3hTu2F+R0FWg1HKMRAtU2pT/hTCl/1YlhlC2paYKpSuD7lNXctFyESFWIA7fbx73/sweVg37jeO92g22DfNN1N37Xb9tyh3LPaot752c3ZtNRW08XPtc3vzpDQTM1ozN3HgcvCzkPWHdyQ4UXvNPn7BZ0R+yv9QT5PolFUWEFgW2hiasVqMF/yUfNAajRUK5seUBLw/OT0ke+b7fjl0OCu30PgPd+u4w3jQeYZ40niOOFq31vhTdtM2yvXsdPDzeTJ8crhymPI08i7wyTHF8mg0VzY4tz86xH3zQXrEFUme0KzUtZZeV4qZk9u/2mgaFtfBFIMQpowLicKFnkI8PgY8EHtRunQ5hfk9uT750ro8use7KTsDe3z6Z3ptuKN483dB9n00tfNjcxLx9zGmsThww7EM8X8x3LNG9Li2VbcrOym+3cMThTTJS9DCFg7ZMNk+m0ncaBwkWsoZKVVjUa4MWEnixNvCKr2Aew26O/jj+Vy4ZjkouRM58jqEu8W7qjwOeyN7dDjWOId297WwNGbydfEAr61vSa8kLykvuPAPsFzyKTMItjn2yfqcfhXB28WSSUoPzNXF2YRbPBv83UIdBhqcmRWWFhLEzSxIgQSJgLB9ijriuiv6MTpyupS6hDxz/N19o36+fmd+6j3pPZM74fkH+Ck2bnVjs7vxj3D87ywwHC/ecEWw9DEuMi7y9nTtty842jyz/+RDxIdbjCvTjth7Gw/auxuC3Eabr5lNlpiSCc0vBz0EFwCsvYv65rjRebI5GPrjO7S9839IgEhBAAH9wSKBWb9hvv27hPnlt6m1MHOM8Hgu6W1HLf7ucm62rqlvKS+3smwzMbXU9sB6Rr6BgnSGigmSULlWXVqCG8xcEh1u3GbZuVc2UsiPpIlcxOIA/L0mO274uDjeeQ56ZHwQ/cqAGADAgVmCJAG8QibAkP84fFX5njfl9I5zFXBDbqMtF6xSrS9s6G1HrfDuYu/NcbXzQDZneKx894CGhPcIegzIlASY35v/nB9dP1yoWrPXSxPjz1DK2gWYAXm9VzsueU24W/j3OUU7Ub1GP8kBkwHXAfrBwAFQAR6+YzwOePb2XvQ38Wev6a3/rHfrVOulrIMtgG6VbzAvnbE88r302Xdv+kX+NMIXxkaK1Q/Vltga/90xXLTdQRx4WW3V7lGwTSiHtwNwPwp8WTl0eJE31Tm5+tH92v/EAqjEekTcBP3D2YLDAXH+3DvieLr1MbL67zltOqqwqkhp2+rc7Bktry6mr5ZwR3Gis/E2THmMvB7Ay8RgCBJK71CAFv1adNwSHARclNqMF5DTmU7uifcFJ0F6/my7lroDOUU5nzsvfOH/6EJlhVQHIUdbht6FPMOVgUU+p7rUd2w0/rHl7vosKmo3amtqPqvqbOfuxrDeMjkzRrT991354vxDP2gD4IeMC3jN7BQg2ORcX9xQXI/cp5oaVy+StA79iZMFLEGJv3/9KbwHO6k8ln1u//GCbcUZxtpHQYdcRgVEREJVP0u7+bfk9KVyCK8F7WZq4GofqdGq56wsrVOv8LHWM2K0ZTZ6eRv7YPzaP5fDkogwi5lPrlW5Wund0N4jHdtdclqgl5cT7A+wikAFoYIYf2m9HTvJO6O8tj4ywHqDDwX2x7bHAsYXBEaB9/96u8e4y7Rp8BNtaCroqamn+2cU5+WpMKtkLWyvpTHG8pa0UPY4+OT6o/wMftgCdYaMSioNSlMWGFmb5VxUnHmcGhjElcuRYo2DSC7DT0B4PXW7JjpWusT8o32Mv4sCC8S0BsDGfwW1gw2BNH1HuiP2k3KcLo4r9OnTKSfnwmfkaJ2p0Kwm7ZAw1XKK9Bo1M/a7uKF6HPvpvn3B1sYfybuNq5NkmIobxlvlW8IbSNkeFb2RF8ywxzZDZADr/qj8/XwPfNC+D/+vQdZEeEbFCG4HrIX5Q2aBLj1T+cP1jjGnrYlrfimDqOnnxyfbqNmqrazN71kydDRXtjB2o3gCuUj61Py/v6lDlMeRS1xPpRSRmehcWlza3E+beNl+1XyRz4zWyHJDiUDDftT9Lr05PZN/E4C7glWFd8cWCFkHVkVjwzEAI70qOQl0zLDn7YHrw2pNqTMpCel46tsslq9asdc0Mraod/q4snkxefp7lb0zAClDWkdyS37PMdTN2Teb1xvy25ZbDlj81Q6RB8zvx45DY4AavmN8ubxcvPU9r78mQQFEfEWJBuoF/oRWQoSALv0GeQ30l/CIbXDrviol6a1p8Cpl7FRtj/C/coF10re1uTC5z7rFe3S8Qv3Gv6ZC6cY1iqKNBRLH11tbNhs5Ws8a0FgiFFZQtc0OSKaDW3/7vVe7XjtBu709Nz1p//jCCESohRvEt8N9gQd+2jteODXzpXBT7SGrsqnN6bwpq6qU7C8tmjCXs2t2JvfH+VO6MXqk+2J8Bn0kvkQB+8YlSnKNZJGHFxRauBuWG+nbrRmn1ZQSdc6kimVFnMFoPuz8TfyQvNA+db9EQQ7DP8RMhfaFF8OjATd+b7tX99Vz/jBELXpreGn3aeSqk+uiLRTvJjHgNGd2NPfruOO58zoJutQ7j3v2vIP+1MNZx/0Lag+RVUnadNwzHFEc7ptbWELUBBCLzELHwYOYP849q7wsPD48Y/3wP77BkYOLxUkF0US4Aic/9Pz8uVT1XvH+LuZssqsoag0qVir5rA7uMTAC8tK1g7f4uUQ6ILryuqh7LnuI/Qk/Y4K1Rx2KrY6kE8qZ1VzFna2dNdx/WP8VXNFpTUNHzELBf5s8t7stui661btAPXq/RwIqA4eEoAPywir/v/0wOZW1w7Ijbsks2qrdqpGqWOsR64YtTi+dch30lHb/OJl54rnReZD5sDoGe6C8pMAzxLFJ2Y2gEYtXwNx53qJeOR32XEzYzNT1D4sLfEWDgNS9LDp0+l46ADrgvBn+XoFAQtWE2IUcQ8IBgX68e8P35XPBsGwtDKsa6TNpaOnYK7UtD29BMhh0YPclOPf6C7qAulU5vLl+ecm7rv0eATsFOAnzThVUhJsgHr/f9J9b3xkbuRdm0o5Nr0fkwen9Uzp7OHV4eng9OZt7HH5CQbdEKkXLhV+EWsGyfvf6/nbksx5vQ+yDKpWp5KpX6tTscG2scFPzYTZ1OR16nHvk+687IXpGei064vte/guBmIYNSnPO/xXOmnKdjd2uHhscTZjc1NwPyktlRSoABHvvePV337gqOPA6XfzdgKgDT8XcxoRGiQTJAi9+wHta96Lz/bC37j4sTavqK9LsWy3Zb5yytfUYOG36vjwRfR/83/yQ+9+8bPz8/leAz8TxCQUNFZJ92BaczF4KHerdB5rplj9RJ8xlBw8BDfx1+V+3z7dIN6d4mLpYfQlAhcOJBSkFIQQbwpJ/+7zH+Qr1lzH+bw8t4Cyz7KTsle4Gb0ixnzQr9sg5cHsqvIT9mj1RfPJ8Vryc/ar+wAJBxfzKKc3y00oZadzIXhudL1ynWalVeNC6S9rGrMApe5M49bc+9lW2fzetubG80QBLQwLEpgR+Q2yBvz8qvEm4xvVSMfsvKy2LrGYsVexVrbguxLGnNII3F3l9uqd8SD0zPP18KLu3O9f8wz5/wRrFaomWTVqSa5ihnLEdv5y2HA8ZZNQ1juVJ0YSC/jA5Wvc6NZh1a/V29y35E7wk/3LB48Ofw4tDVMGgPxe8I3iPNWvx0q+F7mttni4h7psv3XFM85o2LDfQui47+T2Dvr2+Jz2XPJZ8hH03vmBBNUVaSk3OjJOomTTdTx4r3WmcBdo6lIXP0YrbRds/u/pCuGO2THXZNQu3MLjG+/c+lsGNg0/DkcMnwhLAIz1M+gZ3EPR4cZ/wVW9Yb/EviHBfcWvztHXVdw54jbp7/Bg82DyYfCq7v3ta++N84b+0A/wIZMyYERcXnZyHnvxd0ZzwGngVjVBWi1NGsICPe2/37bZntUc1SrX096e5hbzbv5GCBgNQwxjCTQCJPts8Bzku9gDz1bJgsQ6wyzEbMQ+x2PLGtTD2SPgn+b57aXy8/MV9PXwSe4k7Y7x8vjJBV0XQiqqO/1NJmQpdBN4/nECa31hUU+9OpAmURUw/yDrH97W1z/VPtMD1qbbi+Vz8WP83gIWBkUHVQbOABr6bfLd6brfl9d90zTQvsx3yQPJ38omzpbTK9lK39zjPuip7FDv4e5u62Tq/+z28k36mwe+FyIpUziaTJ9hjm77bopphGMxV3ZEuzApICMNVvhv5+DeyNiQ1NPQ5dI62Gji2ezO9aL+wQSaCCYGbAPk/635Z/Cq5z7j0d9I2zLWndO70grS3tE31J3YN9wI4O3j6OlM7ZXuQ+0F7sDx+PcCAe0L2xvjKw88+Es1Xj1sK2/RaFFgqlZQRx80qCJkE38Cp/M06gPkb9082CjX3Nj13SbmNO+V9VP6oP/kAZcAEP3l+UH1DPDx7ETrPej94/Xf4d1k2g7XO9WO1THWQtY52ITaAd4w4JXinePa5i3tfPfaAncQ0h8vL2s9JEtQWHdfjGCzW8RUQUuvQMc0ZSiAGqAN3AJW+iTzYOxT51XjkuJz5HLopux18E3zpfUV95n4KPn496z2W/XD9KTz5vKG8C3sHOjh5PvhIN6/2s3Y5Nd+2Bna5tt83dTeUuE/5NLpdfLJ+1AFRg7wGBslQjGePKlEQUkkSeNFe0J7PqU5ODJfKJIevBbGETYNeAZ8/qz2pvF57wPwN/Da7X7rYurz6gHr0+rl6S7ow+a65gvnnObA5Dni0d//3EHbHNnI10DX0Ncn2aLaP92V4JrjuOXC503rB/G69/r/IwicECYbTih0NnlBp0azRgJFOkUtRtZEEj+4NSUteyYfI5wepBZJCxsAF/oL+Hj3I/TS7nHqJ+hY5xPnIOU44jrfQt5X3zLf8t0k23TZ2djC2CTZm9iz2IbZ99ts3wXib+Ql58fqruz57SvxDvbw+7wBYwi0D5IZwCYuNdU/PkU/RlFF1USfRIVDzz2rNW4u/Sr/KM4koRzdEMsFX/6Q+0L50PT97gvr3ukk6VHn2uIS3fvXHdXh1KzUUtPX0bHRIdMl1cbWfNeV2PPatd5f46vnkOqK7E/u7u+L8KrwpvK39v78kARADfoXeiQKMvQ9tUX0RyVGlUMQQm5BCj8XOqQzvy2AKmEoliScHNIRhQjgAj0ATv5N++H24fF97S/qNOap4PHZm9Nnzx3Nk8yizM7Nss/v0dPUbddj2q/dS+Gt5DDonusr7tjvI/Dt70rvN+8X8cP1JP0JBiQQ9hu+KUc3AEJdR7lH3ERKQQk/Wz2dOj01eS8KK5koyCYlI/Ec2hQjDk0KdQjwBW4BffvW9MvuBOmv4rvbE9U40GDN+cvGy5PMG86T0ArUKdhW217dvN6O4OPi4eNa5D7kQeTN46vjieTp5QHpR+4+9vH/LAtyF0YkMjAqOoo/QUBuPQs5ljW9MiwxuC5gLJcqJSoEKhcoUCQuHqMXqBHuDPUIbwT3/lf5+vJH7FLle96P2NjTp9GU0JTQztHZ0yDX/dlZ3KndT93P3H7c9dzN3C/d/t2G3vvflOGx4xHm2umi70/3YgBNCqkTyRyHJeEsIDL5M14zOjDZLIgqqyqELCotBC3jK3Ar8yoTKSEmFCHmGr4Ueg8hC+4GSQJ+/A/2MvAp60vm3+FZ3rXcB9w23M3c3tyE3H3bSNsC21XaJdkV2J3XrNe62ebcWeBf5Lnomu1/8jj3mft4/6MCQAUECB8LvQ6REvsWVBtVH7EhJyNPI8oiJyMeJMklaidQKWAqeyqLKTsn/yN/H9oaVhYyEg8PaAz4CcsHYwWSAlr/ZvvF9+/zAPAG6zDm3eFT3nXb4tg/123WwNaC1+jYtto53Xzf8+Ep5bvozOse7Zzt8+0c7q/uX+8E8aHzfvdR/K4BVQeNDOUQqBTUGPsc5yCHJJcngSl3Ki0rlSuRKxAr9Cp4KhkqGyqDKb8ogybkI4Yg8hyVGI0TEA3VBQf+CPYJ7nnmk+Bu28jXrtRJ09TSxNIK04bT3tOF1OzUe9U41uTWhNdn2AnZXNox3PPeRuIX5vzqTvDm9YH7QwH6Bf0Khw/MFBcZrR1EIhYnGyznLxEzFTUUN0k4eTnXOX85jji9Nw03nTWtMoctlyfRHw4YFQ+XBh7+TfYH8CDrX+cy42Le5ti60/XOtMuwyJfH4caiyI7JyMpIyg3LKMtBzWnPQNaB3fHlhPJO/YkGygHE+kDzp/Sw+agB9QZYDK0TmRvvIh4kOyBSGpAaiCBdLWI3GDxSO5E4zzVdM5Mu3idfIEgc0hsQHzMgsx0/FrQMkQVI/zP6RPNV7e7nbeWd423i7d6A2TXUyM/7zU7Nfc1GzSDPZdGZ1QvadN6G4oPlT+iV6tbsqe568S71GfrK/4QEegifDKYPwRVFGesa/BqFGbYZKh1OIMYjfyRiJGgmbiYwJkwiMh6jGUcXbhUxFWcTAREpDlMMLwvBCZYH2APL/3T7QvhQ9Q/zYPDX7mrtdexJ64foSeWy4lzgAeD/30DhOuPx5ejoZuvH7Iftmu1X7gXwS/ID9ir5tfzF/58CowP7A7kDKAT0BC0GaAhQCtoLVg0TDsUN0gwsC28JiAemBpgGXgecCGQK3gvDDBMMNwvjCXYIRAfVBk0HpAcuCCoIuQh/CGIIjAZbBNcBIQCC/pb9u/y9+wj7IPrX+Rf5UvgM9yP2mfRq9Ej0dPWW9dL1X/Us9uD1t/WB9Db0t/R596L7b/s1+WLxqOzD6PXmOeUO5CTkW+d360ruBu9k7+fy/vdT/zcFjwrmD4IWUx6nJXAr1C/nM2c3wzjIN2w0sTBPLgIteyqfJhAhGxveFLYOqAaV/Tr1U+5o6QDkx95p2XnVr9Ml05LT9dMa1XTXO9tX3mPh6uL25AXnvugo65js0u6d8PTyqfMb9MLyZvL98Nbwl/AX8bfybvaA/H4DNgvvEacZfSECLgE7GEm8Uc9WP1i0WKJXCVQDTfBCwzmoMDIpjB7vE6gH1v1R9Kzqid+K1N/MXcjpxorEF8NJwuHER8mozs3Sb9Yi2q/el+NK5wHrz+7Y83j5HP5+AocF3QgACwAMqgrSBwUF9gK8AsABCQLR/7T/iP34/AP71Po2/JABmggqEDwY5B9mLKs2SULaRFNGMUPrQFI8JTUCK7AdJxIoCAgCL/ns8jDqQeW83qXZMdRQzxTNC8upy2jLr84C01zZlt9Y5NTnPuv57TnxRvOq9d/4cfydAOcDaQYNCOgHMAfbBFsCUgBM/qf9Z/s1+rr4mPiX9/L2nfRJ87LxgfNC9uL7NAHTB5kPgBjdJZMwUDzgP1NCnD8LPmg4hDHvJaca6hBBCTYEqPuY9g/u/+lH4oHdC9dB0/7QbtDQ0ajTqtdo22Tgf+Sr6e7s3vCf8tb11veK+nD8g/5mAOcC2QVaCKIJ2glTCZMHTQZlAikAifxO+4b6D/qn+vP4rvhm9gT1P/Ie8fPxAvWU+7cBkQlYEVsegCmxNXQ6ZT0FPtM9HD25NdgtoiEpGXMP0wilACP6gfSA77DqoObd4VLeIdsE2f3XFthU2ybfV+R753Ds0e/P9LL2Y/k2+qb8Gf2x/sv/QQFiA40DJAQTA/4DuQMBBMoB9QCA/mT+Xfs3+mn2q/Ra85nyOfLQ79ruNu6c8KLzlfjD+1kDhwvzGmMo/TVTPBdBMUQgRT9DnDqbMb0krRyrE0QOWQZPAF76w/Vk8lXtTukr4xffvtvG2QPZOdjx2TPc5OCI5ALpYOyV7xjzwfSj9yX4BPqt+rb8Rv0z/8b/hQIfA78EwgQlA+4BdP2F/MH47/fK9F/zo/Ha8Vby4/GF8NHtbu5G78Pyc/a++SAArAftFAoiki4yOFw9XETmRb1H8j93OJ0rmyGlF8cOJghF/0r8oPVh9bfvE+1c5p3hSd0t2pjY9tao2J/akOCv5Pfrw+/s9WX5Wv1X/7oAZAG6ASoCMALyAlUC+wMpA5wEUgMpAjT/y/tf+BL1qPGT7ivsLepe6izprOqf6fzpnem/6kftKPAC9XP5+wCaCIQVLCENLiE38z4kR9lKCU2lRoA/nTPiKRcfehVzCyQCu/xW9wT2L/FZ7ybqB+dX4xDgbt3m2drYFdjT2ineLeRI6YLvW/Q1+aD8sf6I/5H+BP79/PL8bfyg/Pf8Wv7x/wQBxAAc/1T9Hfo993fzQ/De7bzrmOx27PTuI+8D8TryBPV++Bz7pv8kAiYJcw6/GsUkIzGvOc5Bc0mZTEtO/kd/QYU04CpbHXcTVgc3/uD29PCj7wfsl+v45nDlTOKb4MHdsNp+2GbXYtnF3MThtOY57DnyKfdR/Bv/wQCmAKz/Ov8+/Y39y/zw/eP9UP/M/1kAyP/k/eb7L/i99Urxve7d6/7pcelH6Q/rKOzt7anvWfKk9Vj58/zxANIGKw3BFxkhoiz/NC09+UQ0SXBMjkg1Q5g5ry9tJE4YVAx1Ae34w/KA7hDrBuks54HmMuVZ43HgDN1q2tzYQ9ga2fHaC98n5D3qw/Au9kP7b/7pAKIBpQA7/7z8EPtD+U74EPhS+Fn5HvrQ+gH73PqO+c338PSf8pfvAe3I6/rqKeyu7BnvR/HC9Gn41fvw/3gDFAmDDrIXLiBOKs4yVDurQ8xHtkowR+hCgDrAMf0mRBtqEFcGCf+K+PP0JvHX77Tt9ezh6tHnpeRh4NTdPNrF2J3X5dh127rfr+S06TrvuPMM+Gn6Tf0c/jL/8/7N/rj+uf1f/cX7Afxj+1D7WPrJ+bv5K/nz+Nj3Ifep9RX1JvQz9PjzAPT59H72IPoI/dgBbwUHC20RGhloIgMqDDJ/Nx0+8EH6Q8VC8z6WOcExGCqmIHwX0A2oBXT+Rvhf8/LuhevE6C3nleWw45nhP9+V3YjbIdr02JfY8dlu3GHg6uTt6Vrv8fQs+uz+aQGPA7oD+wP+ApEBBACn/en89PuE/Pz7hvyp/Cv9Y/04/XX9j/yS+2n63vml+QL6gPpA+438av5jABsD3gXSCO8L7w/dFJcaRSA+Je8pkS5RMesy2zE9LwUrFyWRHgUWdA76Bdf/7PnO9QHyMe+e7f3rhOuK6QfoVeVQ4x/hRt913V3cb9z+3Z7g9+Tr6c/uwfOL+Nz8yf8HAhUC1wGnAKj/TP43/VH8rPuR+9j7q/yB/Zb+yf/aAGsBxgEPAtEBQAFkANT+nv39+/X6avn/+DD4n/in+Yf79v7eAkwJZA/eFuQcgyPsKJAslS7NLVUsyigbJSwgeBqeFOwO3QnmBKkAyvxm+Z32aPSr8qLwb+7s69TpOOez5DXiBOC83kDe2d604DzjIuZ66aTszPDL8/T2/vj8+pj8Av2x/Xn9sP1+/dP9H/7u/gsAtgGuA28F8Qa/B0QI/gcwB48FiQNjAVT/Vf2L+7n5lvgN+Oj3EPlz+sP8WP9IA6AIGw4BFNQYMB6gIgkmdSgtKQMpFCdbJAAhrBy8F7ESog0bCQAFWgGH/sT7nPmd95P1rPNe8VTvp+xA6nTn4OSf4mfgIN8m3ljeN9+V4SDkl+cJ62/u6fG/9Mf3w/mm+/X87f3l/tX/aQCDAbgC8QN/BcEGEAj1CLEJQQoSCqwJogg1BwIGSgTVAvsAKv/w/RT9QP3K/e/+SAG8A0oHEgtBDyATZRbyGekbmh39HeYdAB1AG0IZbRZLE0gQMw0KCm8HiwQOAor/Sf0b+6D4NPZr86Hwy+0L63zonuUS4zjh1N9536bfeuDE4pzlpOlp7XLxdPXq+Br8F/78/7AA0gFTAhwDvwN8BIsFhQYOCL0I9AmMCvUKEQu+ClkKWAk5CO8GYgU3BOEClgFiAHn/9v6s/pH+uv5J/ysA3AGtAwEGWAiXCn8MOg5LD/gP/g9nD+kOwg2jDBcLqglqCD4H0wWwBHsDZQJPAQAAEP+Z/Vr87/pS+RD41PaR9Zn0tPMS843yD/Iq8mTy5PJ38z70MfUJ9pD3pPiy+Z36avtc/B79uf37/Rb+Lv59/rX+6P4u/8L/KQBfAL4AHQEyAXgBxgEKAo4CEwN4A+cDWQR3BBoEngPeAiUCeQHdAIIAcAAcAeYB/AIaBKQF6QYNCAwJgAkACswJpAnmCCYIPgdRBr8FEgXTBKoEpASSBJgEVgQ6BIEDcQJzARwA5v5z/U78B/tF+Qb44fb19RT1afQm9Bj0gfTv9KX1UPYQ95b3CPhB+GX4nviD+Jj4t/gE+Wz5FfpM+6n8QP4pAO4B1AOVBSIHRwjZCBYJxwhRCI4G8QSqA/ABdABN/0r+M/25/Df8HvyN/Pb8pf3b/qb/XQD6AHQBDwKbAjkDbQPQA2gENAUQBucGzQfaCM4Jzwq/CysMagwLDFkLGQo0CFMGMgTzAfn/Bf5Q/On67vl7+RL5rPg4+M/3ePcT92P2q/UK9Vf0nvNX8yXzMvNe8wH0C/UY9ub3X/ko+6D8Dv6K/04AUgHnATUCWwI7AswBQAHQAP7/+v7r/cj8zfvo+h76mfnF+UL6M/uL/Dj+ZwDKAkYFuAYpCEEJbgrlC7IMyA1kDmsPphDSEQwT4xNpFAkVpxXNFY0VeRRYE5wRYw/uDMkJ0QbDA+kAPv5u+/b4hvYj9A/yT/DC7rrtu+zj62nrE+sE66LqteoI6yzrq+un7Pvtve/y8Xr08PZ2+ST8R/5/AAsCVQNpBMwEAgWfBH8ELASEAwkDbwLWAXMBIwExAeEArgAlAVUBcwKKA8wE3wa/CCQLcQwvDfYNMw4BD9wOkw4LDokNsw3JDSEOKw5wDqIOUw/jDwsQdw+bDrsNDwwCCiYHWgQ3AWb+XvsL+OL05/G87+XtfOx+6wTr4OpF6+Trt+wv7ajtBO717f3tKO6v7h7vM/Bc8dTypPTm9mL5kPvt/fP/jgEAAx8EtQRrBZQFAQYBBtoFuAVnBa0FWAUWBWcEywMDAywCCQLlAfcBVQLSAgkEeAVNB2oJ0wntCWQJDAkACRgIxwf0Br4GSwfUB/QINAqJCxgNdQ6AD+oPRg/0DrcNwwuvCXIGjAPfAKH+dPyz+Yr3nPUI9DTzW/KA8SrxJPGS8bfxevFE8b7wrfAg8Fvvle737fTtg+5g72zw2vFS82n1Xvdb+Qn7p/zm/cP+a/+x/zAAkgAXAUYBoAFMAu4CcgPlA2oEPQVbBmQHgAiZCWkL0A0lESsTyBJYEs4R0RLgEi0SWhGFD3YP4A80EM0QDRGrEewS8BOxFMgTkRLfEbIPgwyEB2ACY/5c+rb2sPKv7qjrUemn59jm0eXi5U7m3OZc5xrnpOf7533oauif5wzn3OcJ6W/qxuuH7f/vkfI49tr47vte/54C5QWxB8sIuglLCvoK3AqZCQQJLAj/B2UHqgZJBwEIqgkkCyQMoA03EPQTyRcdF1MVDRQzE24UexL5EKsOKA0yDo4N5Q3VDWcN7Q7SD+oPUw8cDZcMFwu1BxsDPv2J+R72afK87j/qOudt5anjAOMa4kfiAORZ5SPn3ueI6BPqOutP7BnspuvA7HTuFPES89f02/e9+q7+0wG1BJcHRgrDDOcNew6ODigOlw3NDBcL6QlRCFMHDwY9BKoDCgPSA4sEVwRMBQQHGwsHD4IOcA3aC5QLIA12C30KkwiYB30JVQmgCrkK2wrBDT0P1BCuED8PmhDeDzENjggYAsX+b/s2+Nr0pO+y7IXq4uhQ6GPmKubF5tjniOmt6Q/qKes37Eft7Ox07CLtpu4x8ZHyJ/Tc9VD4mPvs/Y4A4gK1BXAI7AnlCjsLMgsdCwQKjAjSB8wFyQR8A8oBqQLBAtQE7AbyBtsJOAywETQXPBX8FKYSKRNgFRcSGhJpDjgNVQ/0DcsP3g6/DUsQlxB9El0RPQ7FD44N7grOBer9wPrt9ZHyne636B7m/OJh4YThJuB04NngzuFk5JHkoeVW5kbnx+g26D3oSumi67Hup/DG8mD1NfhA/CT/DwLiBNAHJQteDF4N1A2jDccN9wzTC+oK1wjVB4QG3wTFBVQFsQYQCMsHLAqRDIsSHhhTFiYVkBJrEuIUZBEaEeoM5QrsDA0LAg4mDe4MXw89D7cRjBA0DnkPbg3oClgFnf3A+kL2t/NM8FDqKeie5HjjEeOQ4XXiJeI/40Dld+W55kfnJegM6lLpsumA6qPsD/BR8fbzbfYk+S/9lP+mAqkFEwn4DAoOfw6UDpsOGQ9vDskMfAvECeYIwgeoBWUFcQUtBpUHQAf6B6wKXQ8iFtsVIRMvEZ4P6RKKEQMQdg1zCZML1ApzCzQMlApwDX8O7A+dEEsNZA7jDb4KOwbS/eL5qvYZ827wZ+of5/PkbuIt4mjgXuCz4XriheUp5lDm4Oez6HDrOOta6pDrvOwd8MbxDvMN9gz4QfxJ/3oBUwUpCOMMIA/lDlAPRA5uDugNrwvSCkoIvQY9Bv4DDgQYBBUFKAjwB8UIAgt0D8YXiRgQFscT3hERFd4T/xHRD/oKaAwZDEQMXg0GC8INWw8PEQwS0A1FDmoONwwvCJr/+/p49+/zEvFD67HnKeW64j7io+F/4ZfiPuOD5XTmCubN55foYuo+6vPoAuo9607ubvBU8fDzOfbx+XH9sf+lAkYFKgn7CysMEAwfDHoMPwwEC4sJdwhyB0YHygYHBaYFgwbYCIUKaQkcC9UNEBRYGQkXThWjElsT9BWzEo4RgwzhCs0M2Qo7DBEKHAonDY4NwA9mDQsL+wxhC1MJJQP1+935ovXH87nvR+qi6GXl+ORc5DfjSeTY5HvmF+iM56voQ+pT68rsQOs96/LrVu158Cbxj/Jv9PD23fpS/RgA+QIOBuQJiwszDPYLtQwsDR4MJgv7CNwIGAhrB2AGqAMSBYsG2Qc6CWMHQAnCDCMSVhh4FGgSsxC/EJ8UDhDjDtAK9QijDPoJfwvVCrMKzg6DDpgQcw/2DFkQfA4KDEwGzP7F/Xz5Ofd38mrseuv554fmtuRr41zluuWY5tfmDeY76K7pw+pG60XpYekL6k3sxO6l7mPwPPM19iT6BfxV//cCBAYhCooKIQuCCxAMCg12CzEKFQm2CLsIOQhRBgwF4wWoB3gJbQkuCZUKGA7YFBAZxxU7E7AQhBLAE3MPnQ7qCF8JDgvLCKUK5QfSCWMM9At2Dh0LKApADQsLDQneAR38a/ul9vD0Yu9A6uPpauZq5ZrjreIC5WTl6+b/503nR+qy6/zsw+3H60LtF+7z8AnzEPKH9DD36fpE/j7/5AJ0BX0IvwtMC0oMTAtgCxsMTwrSCXMHIwdcB6cFwAMyAawCRgWYBqgHrQbrCMgMPxIoGAoVdRMaEXkROBS4DlcOBAqPCbQMzAjZCuwIQQo7DsoMvQ9aDZELnA7WC8MJRAP9/O78SvfV9B3wCevR64Pn3ubc5Gnj6uZf5m7oo+iP5/bquOte7UDtxeo97fvtW/AN8pPwcfPv9MD4Xvxo/e4AdwK1BXUIAglAClUJEgpaCnYJDgkOBzEHTAbHBLUDMgHnAakD6wSTBuMFiwaJCWgMphMZFTcSshFxDlUSaxBjDYANAwhPC8gJ5ghpC9IIrAyjDBgN+w8cDI8Nxw1BC94J9AG5/3X8Xffu9ZvvxO5C7Nbofuj45Xnoduku6YDquOlo64rt0O3R7v/s6eyc7sHuqvBD8Nzw1PNK9gz6cPu4/Nf/HgLqBXAHyAdkCNAH6wkwCXAIgge5BeEGkAT2AwIDfwGoBG4FkQaQB4oFxAheCw4RZhjHFFYUcBH3EO4T4A43EAENhQslDqYKLA1yDCUMZQ6JDPUOXQ1LC/QNUgwQC+0EnP6Y/Iz3/PXx8fzt8uz76JXnuuUd5XHnveaf5zfopuem6kvrYuwI7ZXrje2G7f3ua/F68bz0Nfdt+pL9hP3EAEgDfAaaCcEIPApxCfcKYAyTChQLUgijBzwHkgWrBRQD7wInBTEFbQb8BfcE+AedCoURoRXcEgoSxw4EEEERNA4VDnwKcgrwC6QJZQuDCoUKEQyUC0gOBAzrCvsMCgvYCFECbf14+yj4x/Y28uTuKu4O6/vpz+gB6YjqjenW6ljrmOvU7SbuN+//7gbude+57zbxVPJg8sv0xPbv+cn7hfyZ/38BRwTUBRYGZAcpByIIMQjyBvwGBwUBBCwEsAKbAmYBDgGbA+cC8AOJBKED0QcICq0QdBYlFHgUrxAsEVsTBA8XEMYMlAs2DZYJnAyGCy4KcQyfCh4OBg3KCg4NZgqOCHwCSPx0+3v3RvXR8V7tu+wY6VXnheZx5ULnOuYc5yvp+umk7N/sYu087pPtEe+v79vwtvLE8if1dvcq+kT8vvzJ/5ICzQS5BSUGKggLCb8JFQn6Bn0GPQV2BfwErwKpAkYB8gKuBOEDqgVqBZMHFwtKDZ0UohdEFkQVLxFwEvUPOg4HEs0PahJ3EnoTPheiFBgVURIyEc8Rngx9CtEIKwUu/zv20vHD7pjqGOit5L7isODL3VPd1t1r33jhh+LX5Srp3esD8LLyNPZ098D4e/zP/scBYQIUA1wFCQd8CIUHFQd7CIoIJAi5BskF2gVWBG8DmQHs/3X+Zvys/F78MPta+hD6Lfya/ej9gP+UAcAF3AgqDY0V4RxfIeYh5CJ5JKck8yOSIakdhhj/E4MPhAuNBlwAgPv1+FH4PPbB8wH0BvTD8gPwQe1b7A3rV+s96mPoEufr5CrlveWm5wfpnukK7H/uC/HQ83r2xvmD/Cb+hwAVAhYFNgjxCjIObw+KEJIQexGpE6kUfRPOEMwNIAukCNgEHAE7/Mj4L/Ym80PxUu6Y7O7qvOl56dXoCOqY7DDwIfS69/X7/AGnCSUTlRv1IFglYSjbKgQrSSn7Jk0iPh1JFykRVAyiB40Dd/9X/Jb6APhz9+P4yfkO+kv4q/dR91T2JvUd8rXvhO1q68fpF+kf6QfpIuiC52TosekU7fzvofKN9K71yPmM/fsB5gScBVUIvQqGDp4QTRDxEAEQyg/XDXcK2QcnBG8BBP4U+iD2TfLe74DuhOyh6jzq7Oo67jjxTvQo+OP7RAE2BzQPaxkIItEnHiuiLJ4tPCzNKSsmHSCtGYkSigzYBq0Ar/ou9TfyePFZ8aLy0PVt+ML5wPk0+jX7ePrC+BD22vLl7wvso+hP5ozkduNi4kfjt+V46bvtJ/If9y77uP8oBB0JmgwxDrgP5BAvEkgRbw8QDj4NUgziCcEG5QOOAVn/k/wb+ZT1AvNo8Tvvtu3P67fqA+uO64ntee6x8JH0F/nl/YsDBgz7FhIidSg+LDcu7C9qMCEtlCgGIeYYjRGgCkcEIv0a943znPK38xj1WPcJ/JoARQNJA2sCyQGW/5L88fdF8gntw+cT5OPg0t6y3gPfkuJ15vLqaPC39Yb8hAGNBecIlAs0DsUP2Q/zDtkNRQzECukIUgcQBm4E8QLlAIH+OvyW+uP4zvZU9DnysvAO7wLuFezs6nTqi+sP7kLwkPNi93n8dAOVDLIXMSLoKAotmS8iMeswOS1qJ2of4haDD1gI0QEo+z71svLS8kf1bfeR+Yj+9wKfBZ4FEwQcAx4AGfzE9njwlepx5FDfQNy/2jHbWd1n4eTmluut8YP4T/+4BD4IUgvyDWoPTA+TDWgLUAqoCDAHLwXpAxgD6wLWAuEBmADT/p/+3/0v/Wv7mPhj9rvztPG87tbrI+ts60HtK+8J8qv2xPvlArkLKhYnIfEomC1dMDMxBTFhLfAnuSAnF9MOFQfuAE37yfUh89/ygfVS+Zz8KAEzBl8JwQnhB4MFcgLm/LL2ZO/h5x/h+drZ1+HWp9d62hve++O86n7xSPmC/1wFigjKCgkNBQ6RDckKUAhRBisFuwPwAlkCvwJfAxsEzQTUBNMEFATPAzYCGgAo/Uf6ZffB84PwsuwI6rTo5ujR6sztLvIY94384gMaDe8X1yLiKZ0tlC5tLvQs9SeEIXAY9A6KBoz/bfoG9g/zZ/Ik9FL46PycAYcHmAyDDxwORgt9B2ACE/wp9EXszOQV3zTbbNl92bvbut955XHsMPNG+jcBJwcpC74MOQ2FDIUL6glCB2IEiAERAFn/b/8DAHAA2gFbAxcEgQTvA4gDCwKt/5X9LPrr9lDz4e9g7RXqe+iJ6O3pCe628en2MPySAcMJyRFBHM0lDSsyLtEtzSwUKhUkax5AFg4Ohwf6ABD9Hfm/9vX2Ovg//PP/jAMjCJULWg2ECy8HygKl/D/2U+8c6JLi6NwB2tTY09nE3T3iSuiK7vb0YPtYAUYGdAnwCU8JWAjwBkMFiQKBAFD/UP90/wYANQG0ArEE3AVrBjwGpQXSBPgCWgA2/Q75QvWo8VvuM+vq5xrn8+da6tftp/Fp92H99wP5C+0UCCBYKVguHzBTL7QtOiqPJF0eIhYzDUwGZgDl/KT5J/d992L51v2nAYIFNApkDcUNmgr3BTMBVvvi9P7tyOYM4RLcYNrH2svcK+F75Z/r4PHZ9wX+wQL6BvcILQgWBz4F3wNsAjcAtv6R/Q/+n/9mAeUDLQaUB3kIQgguCBIHDgVJAvH9jvmM9GbwXOyD6c3mI+Ue5cTm0up67nb0cvoaAc4HLg+SGHUh5Cg1LIEtTizPKfEkeh7VF/cPKQknA6X+//qF+O73jPnj/DIBnwWpCU4NsA5iDZ0JggTQ/hr4hvDs6Kjij96p26na3tv+3rLj2ehE78H14/tWAYUFLQiaCGQHVgWEA3kBkP/d/ST9b/5NALUC3AQoB4AJrAoTC00K9wh+BhkD7P5v+uj1AfE47UzqweiI50nnlej16pzu+/JE+GL9rALYB/cNLBWRHbElZSpdLMAr0ymeJvkh+Ry5FlwPAwlwA7f/9fyO+qv6Avzk/9oD/ga2CiIN0w0lCwUGVgDy+Ubz8Oys5ojhaN0C22zbq93C4WjmyetK8kf4Jf0DAeUDwgUxBfsCuQDk/g/+Fv2+/IT9Wv+TAdEDUgaACPQJLQrmCZQIKgbkAuz+yvpt9rXxb+1O6pjo3+c256fouOvv72T0FPn3/tAE0Qr+ELMYEyGpKGgs8CwBLP4o8SR0HnUYsREECugDMf8W/Uf7Avrg+u79fgK8BpMJugyUDmENmQmNA9X9CffN70zpSeMI3/LboNo73Njf1eRw6krwTPf6/HABxQSyBnAHmQUWA5YA8f70/SD9Pf2M/qsA/gKlBdoIpwuVDBoMOArmBzcE/f/A+/L2p/Ky7Tnq7+cF51LnmueB6Tzssu+d8933hfwAAQwFKgqOEHEYhSB1JTEofiiSJ8Mkwh80G0UV4Q67CHIDYQDC/ej8h/2T/y0ESwgEDC8PQRFoEXANHQj1AXf6/fKf68blAuFF3Qzcstwl4FnljuqL8GH26fvs/1gCWwRuBNsCeQAr/vL88/uO+wP8iv1IANcChwUhCGcKFQv8Ce0HBwX2AdX9ufkV9Qfxz+0D67HpyegZ6T/pg+op7bfwuvSg+FT9gAEaBu0KAxK5GhEj5yjEKmErACrsJnwhVRv/FJUNyQZXAVH+m/xe/ML95QCeBTkKxg2LEGYSkhGfDDAFav059UPt9uW14Ejdp9sx3LDewuPt6RzwjPWn+sH+CwG6AYYBnwBi/sj7mvkB+cH5rfuH/v8BwgUACXoLIQ0TDjQN4gpVBzADjv6b+Yz19fGT77LtD+xg63/reewF7d3t2+8Q8oD0pfaN+Yv9BALcBwsPoxizIkoqxC5mMEYwzCzoJfId6xXbDaMF1f4c+7L5JPoq/BcAXgajDGARMxR4FYgUHw90Bhn9MfQH7GLkFd+x3ETc6d384C3mP+yA8d71MPkA/Bb9lfym+2T6APmQ97r2nff5+T79rwAtBDcILQshDa4NFA1oC8sHmAO5/pz6A/fa86Pxy+/Z7qztqexk7PLsUO1p7V3uiPAP83f1/PgO/agCrQjhD0kZLyPGKywvADBxLuspHSOhGpoTgAzvBa8Asv3d/YH/EAL6BTMLsBAbFKEUOxREEUgLLgKe+BrxOeox5Y7hm+D/4ffjl+YX6nPuQvJv9O31hffA9833hPc1+A35W/nt+un8pwACBNoG9AiWCo8L/ApOCvYIQQf2A9gA3v0m+075BPfm9JDyhfBr7gPsTep16WTolOjb6frsC/GE9En6mf8PBpsLWhHlGUwisio5LfEsayuxJ4MhRhnYElwNEQgOA7UA4wBeA1MFRAc8C+wOiBEJEbMP2w1cCHEApfey8NfriOZE4zzi0uKP5Anlcue36qbtCfDI8KHzjfUT9/X4ePrJ/Dz9FP5w/84A8QKBA20EGwViBdUFZAWxBeEEQAP2ALj+ufy0+lr4qfXz8uHvVO3N6srpPelg6ZTqsu0C8hr2bPo2/x8FWAoZD8gU7hxTJvIs4S5gLl0s0Cf6H80W+hDlCy8H8QIBASoDEgXQB9kJxA1/ESUSkxC2DVwKdQPb+mHyCO2V6GHlLuNg4xPl6uWA57zo8Ovf7YDvYPHR8zD3H/mv+z3+XAAmAZkB9wGgAjQD7gJeAx8DVQS1BEEFNwZdBZEEDwKY/4r8PvlU9l3zIvDv7GDq5+hw6Nrn7OjL6wjwbPSK95z7fgDyBUQKrA5MFrUfYynJLRkvMC6oK1YmcxxJFKQN/Qi0BDIBqAE6BFkHnAlPC3MOZxAJD9wLFwiSBGz+V/Ye8P/r4+mE5yvmS+ah5unmQ+YE59LoJetO7VPwAvWo+cb8+f77AKQCvwImAf3/tv+4AFsBzgEAA8wEYQbABvcFuARzAmr/qvvW9yf1r/Jf8BfuuOxX7LXrC+uv6xfuSPLG9TD47PuCAGgGTwu9D4wXTSCBKgMwGDCLL4QrjienHlQUsw3LB0UG7AMWA6sFRwddCvgKIgvNDB8LrQjVBAABWf4j+Mnyiu4j6wzqZeZi5DHjwOLy4zTk4eaV6o7uqfPw91b8qv82AD8BJAHLAWsBFwA6AeEB7QNABKsE8AX4BewFDQSpAtoA5f2D+jv3F/Vm847wB+4G7GnqFunw5uvndeqh7z30d/dY/LkAjAbvCeENOxTxHEAnPy30LoAt1SraJn0f7hU2DmkJzgeeBjgGzgcSCVIK0wneCUQKOwnJBmgDrwECAAT8yPUD8ILsVOoB543jRuH64BrikOPg5pTq8O568uL16vkd/Wz/hv8WAGoB6AL4A2IEjAV/BroGNgaVBUwF4ATBA7ECBQJAAXv/XvxK+af2KfRX8eXtJ+t/6YLoKune67DwOvWQ+AX8cgAuBt0KIg71EjAdESoTM58z8C2XKBgkIR+QFqMNCAkwCKkJbQnXCOUI6gcQBgEE+gOLBUoFMAOYAKf+8/yW95nvg+j05KTkyeNO4nvhjeKi5ZvoXetB7u/wJPQ998X6vf4+AWECiAJ7Aw0F3AUYBncFxgTIBPIEiAS0A7AC6AHAACz/Q/1u+hT4NfVH8ufvLu2T6x7qQekB6r/sg/GN9Uf48/qn/gUENAnHDPIR6RpmJ44xRDPQLiwnBiJmHvkYiRP0DdsL1wuIC6AKowdCBXsDRwKJA58FtQeZB6gDsv9X+yv3D/IQ6wrnmuXs5sDnSOYs5dfkxeZM6VLsZ/CD9G74qftJ/qoAlwFPAWYBkQF/A9IFJQcrB3YFmQPXAE7/If/v/rz+b/2N/Pj7+vl29vfxV+0d6g7o9udA6nvtc/Ec9D/2f/jw+yYB3gUsC28R8RqkJ+Iy8Tb5MLUmPx+cHdsdwhtPF3YSoQ+EDesJpQTU/yL+kf//AiwHhwl/CJcCvPmR8njup+3E7I/qSuin5u3mnOU74knf5d5Q46Xpsu989EL3F/mN+fL5OPuv/a4BHAXmB6QJDgolCeQG1wQtA5YCFgO3BPkFOgUSA7f/bvwK+ej1bPO28RzxdfA78KnwXfIt9bX2WPek+Gv7fgDQBagKRA8wFFYbwiFTJckjRR4xGpwYVhoRHPoaXRcjEjYONAtXCH0GIAZ5B0oJRwlrB2ADiv5E+gP2mPO+8WfxEfLE8VzxH+8o7bTrJOv17FLvlvJC9d/2B/jk9w/4kPhG+Qz7vfyP/m//gf8KANL/AgD8/1sAbAELAmoDnAMQA8ABvf8d/mL7hfhn9YzymPC67pXtiOz861Lsg+zj7IXt/e778Vz1N/k7/c0BDgjIDY0SlBW6FzcbiB44Iw8nGSgbKM8mPSdGJ/UlIiV9Iwwj3SF4HyIcuRXMDlMIyAKf/t/6Efhz9SryHu9z6wbnE+Pz38beg95Y3o3eqt7e3sfec94J3tzdy96O4fbkVuj/67nu9fDu8kz19fft+ST8f/5qAYgE/gY+CKIH0wXpAxADtALYAuUDuwRsBEADWQI9AkYCzgIpBYII5Q3LEz8YexvIGzgdcR/7IWcmoihgKokp/SYaJYUfexqsFnkUShQaEnwQDw1eBtv/ivhk8jft4+j+55vmQ+Xt48vgBd562grZxdnm2uXdxOCX45fldubs59zoXuoe7S3wv/Pi9qL6Lf41AN0BswLbA3gFbQcGCtwK/woLCx4LOQugCUQImQabBCED6AFqAVoAB/8G/of8c/s8++X7UP1F/9QDdgkuDgwRkRLlFN0WExpKHjEidyTbI/4iWyExHmcacBbOE5YRmA+hDswLVQehAYb7X/YT8ebtOOxS6vzojuYF5GvgwNzn2xbczt223/nhbOS15XvnIum16pfsKe988oT1CPiQ+sX8rf59ADQCIQTwBaMHqQimCOoHMAdfBgwGCwZCBuwFGQQgAkYA8v7Z/cf8jvyo/L/8X/3W/fP+UACsAhgHjAv0DyAT9hUxGUkcrCDKJCgnuCdLJxkndyUsIhkfARwOGdsVARMlEHMLTgZHAen7ivbX8Ubvwuxs6Z/mpOOm4Obcudo92mTabduh3AHez95w4NHiLeUl56/p9ez877/yKfWh91L5KPuS/S4AdwKlBJcGYgdqB9YGkQZOBjoGoQZyBqoFRgSnAn0BEwB+/6P/x/+QAJcBAgNYBCgF4ge4C1APPxLvE0kXCRpXHXMhvSNRJd4kFCVAJTkjwyBzHRQa0Rb9ErIPqQpDBD3/l/p/9rrx8O1u6zLojeXq4qXfTdzi2QLa+tqf25ncnt3v3lDgsOKb5Wvo9etP8Jz04fc++nP87v1u/6kBXAQlB+kIuArcCxgM7AsBC3oK6wmFCfwIdweaBbQDEgJ2AJz+nP0i/fH8af0s/iv/FwCLAQcEawfZCpUNuA/iEVIUehd8G+IeqCA4IUQhyCBBH30dOxtrGLEVfxILDyQK+gMf/rj46fPA72/svekd5+fkuOIA4DjdLdvR2r/b6dzR3svgKeJS4xjlDOii6v3t2fGM9eb5AP1i//sABwKIA08FUAcnCcAK2gtNDBEMrQsbCxwKHQkaCKYGmARcAosAkf6j/Fn7cPq2+X/51vnm+lX8W/6wAcoF5gmsDFEP1xEgFIkXthvAHx0iXSNeJJ8kuiPBIeAfMR77G98Z0BZ3EqYMEAZTAAL6z/TE8O3sWep75wvlUuKE3iXcsNqU2jzbO9z23bLetN9J4VPjzeVp6PPrv++N86D3+/rD/dT/zwEjBA0GLgjyCUcLPgzlDGcNSQ3DDCAMFQuqCZ8HhAVcAwABQ/+J/UP8OvuG+iz6G/rk+vb7Pv7fAT0GFQpDDDwOihATE+cVhRkHHZAebR8dIEAgaB+uHT0cghqSGLUWMxQXEHcKcQT9/lD58/MB8OHsA+oB51DkQOHM3XPb39r12ozb7Nxa3jvfkuDV4uzkI+fS6QjtyvCa9N/4i/ww/8sBhQR9B5UJMwufDHcNQA6uDu0O0w5BDpkNQgxkCnwIegZoBIQC+QDA/0X+v/zu+zH70vqS+zz9QgCGA+wGgwlJC+4N7A92EqsVnRhIG1gcQB3AHcocoBtZGnYZ9xc7FqUUIRGmDIYHFgIE/YX3hfNL8OHs9+nP5prj7N8y3TrcC9xn3Ffdrd6z37DgYeKC5KXmY+nH7HDwBfRK99j62v3AAAYEIQexCUILkAyDDQAOOQ5FDt4NNw2vDN4LkApTCNYFogN+AToAIf+x/UT8uPp2+aD4Uvhe+Sz74v2IAXME9QbqCO4KcQ0cEJETzxb2GCoa5BoiG1sachneGGcYqBfDFpwVohJLDo4JwwQlAKD7mfjn9YXyaO8T7Ibof+So4ZLgrt8f4HvhZuIB42/jlOQU5tvntOoT7njxgPTE97j67Pxu/+gBqgQpB1AJGwvtC0AMRgwwDPoLdQsPC70K1AlKCFoG8wPrAZIAzf/B/oH9qvyN+/z6gPrd+vT7ff3e/wYCFATVBaUH+QlYDJEPhhJPFNUVxBZTF1MX9BYRFxwXvRY4FgoVrhLsDiALKgf6AmD/rPwN+tL2gPPW79XrFeiA5YDkwuOD4wvkO+QG5BjkO+V55iLo3uoW7tjwXfPF9dj3+flm/I3/gQL/BCoHvAilCQUKNQpNCloKsApqC0oLSAo5CYQHpQUIBNcCPQJYAUcATf87/gH98/uM+5r7GPyu/aL/7AA3AicE5wXfBz0KEA2ID9cQRhJ/ExgUQBS0FA8VwRQIFIIT7hFOD1gMJAnmBZcC//97/ZL6JPfS82Dwyuzr6dHn3uZT5vflPOY75ijmoubo51fpL+u07Wbw3vI/9Yv30Pne+x7+7gCJA8YFnAdECQgKjgrpCjALgwsFDDAM9QtrC/8JVAhZBscEOwPQAcoA2f+9/lf9+fuq+qT56vjw+HX58vrZ/Fr+wP/1AJwCagR3BtMIUQtxDW0PGxFeEh0TiRPdE/ITGRSQE70S/xD/DuYMQwqOB3oEnAGV/n/7vfgE9vnyDfDU7SLsverI6VDpMukm6bDpWerc6sPr++xP7t/vB/J89OL20Pj++i/97f5rABECSQOYBOYFEwf9B1IIsQjgCNsIpQh3CJUHjgZfBYsEtwNTAhMB6f+//mX9GPxd+9/6l/oD+zD8B/5i/5oA5AHuAlkEzQUMCIUKhAyBDlIQhhHGEQYS8xGdEW0RhBGNEZAQhA4/DKIJawaXA2IBOP/D/F763fcM9T3ykO+h7Vfs/uuA7KfsiezN7Fvthe1y7e/twO8b8lr0p/Z3+CL6v/sJ/V7+kv8kASIDqgTnBUYH3AfjB+AHEQg4CPEH0weXBxQH4AWdBHAD6AFLADH/Cv7M/Nb74Po7+hr6qfrZ+1r9ef5O/2QAwAGEA04FBgd5CQUMxQ3EDocPLRCnEPoQ/RB4EbMRlhEPEXQPkw1/C3sJZgdtBVQD8ADL/hX9jvo794T07/Ir8svxkvFC8Xfwqe+/75TvZO+r7/zwuPJQ9M/1AvaN9dj1OPcl+Wf6H/uD/CT+Rv9Z/wv/S/9v/zT/cv9hAsMENgAq90zycPa++9z4lfGo79zzMfbJ88jxQPfYARMIVQveEU8ZqRusGMIaNSahLuQt6yfKInEh9x+oHGYY8BOOD1IKfwN3/T/5UvQp8PDu0O3d6WnjK+AU4iDlb+e/57PmEOZO6IvtFPJi9cb3rfkz+y/8yv3n/gkBtQQ1B18GowNFAn4CbASqBtwHWAZxA6oCxwKSAwwETAOBAjQB+f6N/Ov63Pow+5j4C/UB8k7uHust6hzu2PI58nvuPu6t8l77twEmB9sS9xsUI2gggh1AJW4sPjYQMxYrKyT4GnkcLBo8F7wP9AOb/s34OfcO9J/wpe457A7qveXu48Xjl+j57N3tme3I6g/tzvHq9xr9UvyP+9/67vx2AUsDLgRLA4UC6QH3/4L+yP5aAWADqAN1AFP8wfvY/McAEAKA/4P9nfj097n4c/ns+jz2ofLt7RDsc+yr63TvTvDB8TPv+O2k9Xr88gazCG0QMx3FIrgnBSFmKHcxFTZKOEIrnybHHhQcAR6vFmsR7wOc+334EPYx9jny7e7g6nnonOW/5ULn+elV7Mrr3uyP68DtUfET9vn68vlv+Un4NftC/4MBcQKDAIf/wP2//T7+7f4+AEwAtP4l/Pb5h/sv/bH+Qf+q/Gv6i/eZ99X5BPqQ+QH2ovHO75ntDvBE8lX06PX+8hP1L/h0/tIGkAoCFNkc5SVbKnkkaSU1K0g1ZDrRMOslbByaGUMbQxUPDj4DQvqd9jDyQvFy7ZXpw+cT5R/lJ+Oc4lvld+nd7BzstupT62DwAfYb+8j7Hvua+678zQDnAvkFfwUeBfUDAwHxAS0BHQVGBZwC1gCs+4r9yf0CAMUAgfzq+UH38fjq+h36XPew9BfxPPEB8LDwpPFc8Rf0WvMd85n1f/pCAzUJ3gz0F80g5CjZJ/kj5imwL/82xTQJKTwh9xigGXIXvg45B7f6uffa8zHx3u4+6TPnHOX24tLiduGm4wTn+uf86T3pTusg7vvxuvZP+Rn63frG+3b/BwLNBLIFwgRHBC8D1wMJBD8FxwXzBXgDWgH9//z/NQGqAOD/yf5c+8b6cfnX+mj7LPfq9NHvFvBz8VryZ/Vo823x7vEi8ZD8w/6HBfUH+ws7H3Yi7Cq2IG0i4iyTMVM5+iogJNUbMhkZHYgTNA5fADj6i/hF9Sf1qu506+Hn1+b95IbkIeN858zpdesI6jbn4+pY7bb03PW89lz2Kva1+vP7GAD2/3oAdwCY/nMARP8QAucBwwK/ARj/uv04/a3/WgHXAVH+LPzI+gn8F/1U/Db7rffJ9Ef0pvQA9z/3/ff69yD4wPml/KECIgenC3AReRwVJ6cnqyRHI/MpgTFkMaguDiNaHKoXzxX/E9MJAwJF+Uz1h/L57Y3r3OiP55XlHePE4XvhmeR553Hqaekd6ZbpEO138h/1EPbT9f/2HPk//Fj+aAG8APoA7f+iAGsCpgJhA1ADHQM9Abr/k/8mAAYBXgAMAAv9k/t4+/X6cPz2+Yv4t/R+87XzIvXO9qL4Mfi49iP4qvvuAvUF7QkBEVIc0yYaKHUkIiNMKfkxdDULL30k/Bs1GOAYPRVVDiUDEPpa9tjzLvLd7fPpL+hE563lL+ME4oLlrOl27FDsU+rQ6rvsX/OG9wT6FPlM+NX6Y/yFALQB+QJAAxMCOwKpAagBrANcA5cDNAHG/eH+Rf5lARkAPfyF+933ZvrI+ID3J/id9Cr14PF78ZnzWfTl9mH31/b5+sH9NQMVCOoJXRSaHPgnyCofJUEmGSlZMwQ2Ly6aJTEb+Rn6GLgUAQ5hAv769vWJ83jxBO1T6cLnGeYd5aDhROHZ43rn0eox6V/ooudc6jXwtfND9pX0afS/9t34Cf0H/rf/E/+X/sD+6v6gAJEBiwNRAmkAmf0R/TcAxQHuAZj+Mvu0+nf6iPuH+3j5qPgj9crzrPMx9LX30Pdk+bz5Lfu5AHkDJAluDAQVqSE1KaksSCXIJYUsRzTON3ItCyR8G7wXpRnmEroMqgG2+Dn2cPDj70vrAug06PDkrOSF4QbgwuM95k7rP+rC6NTo9er18L30Qve29rb2xvgr+zT+y/+XAQcDtQGtASMAZQKRBNMFJwYmAiUAof+tAQsEcwJaAM385Prk+4P7aPuI96T1cfM68uzxGvIv9OD1gfaX9dn1Ofo3Ai8HUwoaDvsYpyURKnInYyS6KJwxoDMzMfgm9x7OGXoXRhfTD+cGcvxN9xT2D/Qj8CTrbedf5xHm8+Q643zjIuZY6NXpROoj6VLq3Oxy8V71tPXF9nn2J/li+xb+y/+iAD8AAAAWAAQBAgLiAsADwwP+AZYAmgBYAZMCwwDJ/8z9Ef0p/M76QPpO+nz4pPWM8/zzsPfU+OP4/vdh9qz7BwFVB1YJcwlOFuMhXyvSJpIghSSbKmQy8y9rKJYesRWUE0gT3BB2CET+S/dc9drzvPBO7dnpv+mI5/Tm5uSB5W/nqumH7DzsF+zx6Tjs+vBu9aX3ifYd98r3IPkp/MT+FwGEADj/Af/k/yEBbAPCAxoEHgIQAHsApgCTA58CkwC4/dj7d/zf+5P7lfpn96n0Z/Li8yz2nPbk9tj21fgU/PH/2gSUCDwN9hebI1IqkCWBHygkey0nNLsvcCW9HVQW6BSPE/0PCQnm/A73ZPT287Dx5usJ6dvnkeed5lTkTORM5ivoV+uP69HqXOnC6QHwsPTC9+b1avQs9jz4kvwX/7YAXAD//nkAWQGrAjcDgwSrBUkFrAPgAvUCigMcBPUCvwK6/yn+RvyE/B38dvkC9pXzo/P587j0PvXF90T5b/oG/fz/UAVeCjwVrCIIJQYfgRWiHsYtdTSWLo0fJhnSFE0VsxYlE/cLOP479n73gvjM9rDuG+zc7KHsaOql5nDm4eiZ7HDvuu8v7J/pI+t08sv3Zvh99dD06vUU+fH7nP5iAAL/Pv5K/noAswF1AU0CQQOoAuoBOgCbAYcBbAIYAZ3/+v3E+7j60Pm1+rT4rPWK8frv6vDy8n/13vba9pv2ivfk/eUEPQu6EHEZ7SJyJfUitiEqKFsvczHpLJolfx5WGOUUoxSHEk4MvgEG+jH4C/dw9e3w9+4K7mnrZOkG6BzpSOrf6Szsf+1U7YrrQ+sA8DL0qfat9sv1ffW69pP5CP7N/xr/JP11/DL+5v/dALcBYgFzAWoB2ABBAVMA6gBoABEAb/8u/Tv7OPqa+Rr4GvWo8yj0uPWH93/4WPlI+rv8cADMBQML/xKyHEAk4SSOIC8gHiVjK/stwyp1IzIaAhPFEFsQBQ91CHv/cfiy9Ebzs/Cm7UHrhekn6SnoYufi5lfmCei06kTuRe4s7A3s++6M84T2/vdS+Bb4wfj4+uj9bQAYAc4A5gCkAbkCggP8A30EzwPZA2oDIwOBApIBWAE5AC3/O/3b+vz44fam9Lfy3fFU8wr0nPQ49Tn2qfh7+yQAkgVkCk0SxxtmJH0mGiMdI8AmSizwLT0rLCZtHhAXoxKcEAYPzQmBAqv8ffjv9dzx+e0F7LTqz+kM6HTnseZF5ank5uZY6onrMurA6FjqrO2B8T30s/Xf9b31GPfh+hT+PP8E/wQAegLVBCMGLQaxBaAFxQa8BycILgeZBeoDoQJkAcT/+fx5+hr4K/a29CXzOPNc8230kPXJ9mn4nPpf/nMDjAnFESYblSEvI3oh/iGoJFEo6ymhKFsk9R1gF+AR7Q5IDMUINwMd/sT52PXf8YLu+uzN6/HqpukL6V7oDeeN5vTmaenK6qLrtuuF7N/twu8g8hL05vUH92P5JfuE/Vj+CP+y/8UBgwRyBq0GsAUNBf4EsgWGBY0FkwQ7BMcC8ADP/gX8kflh92f2B/Z89fP0CvVn9mX4/vlS+zr9cAA/BckLehTBHGUhoyEtIB4hwSIeJZoldiSCIdAbTBYjEe8NSwtxB0kDwP/r/K75tfUa8rLvi+1a7MTrHevc6lPpS+im573naegM6WrqHez47brvKvFK8uTy+/Nm9kj5Ufw9/n//WgBnAQsD1wQmBvoGXgfEB+8Hywc1B0IGbwWRBDcDWgFg/+v80fqR+G33Ffay9TP2p/ZA+B35mvrQ+979IwFzBSAMtxIbF8AY6BhzGWwa0BrVGg8aSRkUGLoVTxNfEIQN1wn3BZ8DAgJPAPD9vvpn9270EvIN8ITux+0U7Znsaez866fr9+te7HPtqO5f8DfybvMF9cf1KPcG+U37m/3L/oEAygFvA3YFgQYSBy4HsAd0CK4I0AglCCoHgQbdBfcEQQM7AQL/TP3Y+2H6sfiX9z/3XveI9233H/eq9hb3bPjN+k/+qQFNBE0Gpgd6CeEKRwyKDScPPBGxEsITRhSxFDMV4RSmE5YSAxJZEZwPQQ03C2YJBQfzA+QAyP6k/DL6a/cr9R3zCvFO7/Ttse0X7VDsi+tb69DrheyD7aTuxu+J8F3xwfJ49GP2jPfD+B764vu+/ZD+8v5j/3EAVAEYAi0CHQLTAUIB7gCUANH/N/8L/27/CwCRAA8ASf+L/uX+IgC9AdsD7gU/CPQIcAq2C6kNGQ89ENIRqhMfFvAWMBegFxUY5RfcFjkV4RMIEmkQOA7vC/oIFAU3AVz96Po6+Ez1HvL27nns8+kQ6ALnaOa55R/l+OTO5YTnJOmQ6hLswO2M7z7xf/NI9rT44fpu/Jb+HAHyArcDXwSNBWAGhQfgBxAISAjCBxQHbAZcBtMFzARLBAwEUQTtA9YCgwEdAXsBFQJZAyYFBAdxB2IIEQl7Cj8LwAs+DZYOvRB+EewRWxKGEnAS9xDHDyIPuw1zDHkKrAgzBuYCXP+E+yL5BveJ9AXyju8o7ZDqj+jh52Ln9+aP5tbmxOdG6fTqV+wG7vDv+vHc8+H1ZPjM+vL8QP8pATsD2wSGBRQG+QaYB9cHFwiCCG0I5gdIB1MGlQVaBGED5wK3AoIC7gHVANv/Jf/W/u/+Uf+UAGwCQQT1BM0FmwamB3AIkwmfC/oNYhAKEecRzhJQE7sSZBH8ELgQDhB8DiANmwvtCAcFfQHo/vr83/rp94D1/fJo8MTt3Osm61jqnOkm6RDpDerM6ufrCu3t7U3vFfDu8Qf0N/YW+Hz5Zfsj/bb+tf+MALIBuQJsAxsEyQQaBfsEsQSXBFwE4gNgA/8CJANAAwsDUAKpAZIBqAEnAuECuQPyBB4GuwbXB/YICwrjCtILdQ3HDlMQMRE1EvoSuhIWEsQQJBCED6AOgw3TC7QJAAfkAw4BoP5g/BP6cvct9fLypfCn7vnsg+uw6uPphOmy6TnqFOuw68fsAe6R79bwc/Kf9PX2vPg8+vj7dv0r/1MA5AHrAuUDgQTrBLMFLwa6BoIGRgb2BQcGvQVhBS0FGQUuBd0EewQfBDgEvASQBVEGiAdtCBgJuQmXCjELtAtDDAgNGQ5HDvMOLg9rD9EOow2hDF4LLQq4CJkHAQYFBHgBy/5h/Pz5APhF9k70bfJn8LTuiO3I7Hjs4+vc67DrAeym7MXtWe868GnxWfKt81319/a5+C36dfsC/WP+4f8NAR0CLAP2A60ECQWyBegFFwYhBrIFfQUzBbAEiQRhBDsEuwMTA+wC7wJhA7EDigSuBTEG0QaKB8oIFQrSCqILXAxyDRgOgg5VD4APpw/SDqwN1QxvC10KIwm8B8UFdwMHAYP+SPx2+nj4qfbT9MLy2fAV7+zt+uys7GTsSuxg7IjsJu3U7cfuzO+l8LbxP/NF9UD35fhA+sD7Pf23/k4AswHgAtoDwgSYBSAGbwbMBtsGvwZ2BggGqgV0BX4FCgWuBJwEFQQbBFUEzwS+BYUGgwd6CA4JBgrqCgYMCg3VDfgOTQ+PDwEQNBAPEGMPgg5XDQIMmQrYCHMHmQVuAxABi/4r/Mv5d/dB9WDzfvGd773tYOxI62vq2+mb6WvpYena6WjqXesz7ETtw+4R8K7xivNv9YT3Rvn8+hP9qP6VAGAC5ANpBXYGEQewB1QIqgjsCD8JbgkYCeAIuAjcCO8IuAirCP0IUQnGCUcKEAv5C8oMOg2BDTMOmw4HD0QPZA+sD6MPTA/XDjEOdA0QDH4KzggBB0UFPQNdAWr/Ov3b+kz4KvZU9GDytPAD78vtwOyu69vqBerU6abp3ek26vbq4+uz7K/tzu4O8HjxZ/P69Mb2uPib+h784/1z/zMB5wI8BLkF9AbpBzAIxgg7CbAJ7wn7CRUKFAoeCgIKMQpiCskKMgtVC6wL4wtUDM0MpA1kDp8O0g7pDvcO6Q7SDjYOvA0vDQoMygptCQwIcQaOBJMCYwBj/mj8Fvon+CT2T/Rr8obwFe+/7b7si+u96i7qnOlr6Zjp4+md6kDrKOwm7TPuu+858dbyVPRQ9k/4FfrN+7X9d/8iAYcC6AOJBd0GEggzCU8KKwu/Cy4MnAzuDFENjw37DREO7w1FDk8Ogg64DuIOCA/7DusO1w7bDsEOhw4iDrINPg19DJ4LjAp3CUEI0QZXBfwDnQKOALL+/fxF+1f5gvf49W70A/N78SLwOe9I7k/t5ux27EjsTuxf7KHs/OyU7T3uA+/s7+3wGPI/85/0C/ZO94f47/l3+9D8U/7R/zgBdQKpA+gEAgYABxUIMwkXCt8KigsaDHkMAA1SDd8Nig7fDisPiQ/fD7IPxA/JD7cPkQ9hD+EORQ6zDRwNTQwcCzwK0AhsB/8FRwSrAskAC/9I/WD7sfni9xn2hfT18qrxZ/Be74rute067ensrezE7O3sTe0E7pfuKe/+7xbxBfIz83P0rvUB9zD4dPmd+t/7/vwz/n7/sAD2ASQDOgRyBX8GiwemCHYJZQo/CykM9AxtDQ0OYQ7YDlYPkw8YEFEQWhBVEDsQIhCmDzQPxQ5BDtYNDQ0FDAAL9gnQCGoH/gV9BOMCSQGm/w3+Vvyq+u34MPfh9bT0MPPU8e3wDvAh72fuNe4G7gDuDu4F7nnu3e4x78jvp/CY8X/ydfN09KH1rvb99z/5VPpV+2n8qP2B/o7/iwC+AQYDCQQ2BUwGQwcOCA0JHArpCqcLgAxNDRIOpA4fD6UP2w/0Dx0QTRBAEOkPZg8FD4QOzg0mDSkM8wreCZ4IXgcPBoQE9AI+AYf/8v14/Af7h/kU+NT2Y/UV9PTyIvJ58dvwQfDo773vg++H76XvC/Bs8B3xw/Fr8j/zO/Qv9VL2e/d4+IX5cvqA+5X8tv2g/pv/qgDNAbICigM3BC4FFQYNB/0Hswi0CWUKRQvaC40MJw11DccNIQ6aDukO6Q7nDtMOoA4hDqANFw1oDJULfAqlCVAIEQfEBVsECAO3AT0Aqf5S/bb7S/rz+I73O/YK9fbz7PIU8kLxn/Dm74fvdO9E74Pvk+/W7y3wxfB28VbyYfNQ9HH1cPaJ96b40PnW+vP7Ff1L/lX/ZQBpAXsCZAMVBBQF4gXcBtcHxQh3CVYKKwutC2wMFg20DSEOlA7xDjEPUA8LD/gOpw5fDgUOJA00DE4LSgpRCT4IAQfQBWUEHwPbAW0AAv+r/UD89fqV+XH4Yfd89qb1pPTj8y3zovI88t3xpvHZ8dDx+vFr8s7yUPMK9Lf0hfUa9hX38Pfs+PX5G/t0/JT8if3H/TL+rf48/9T/HgDiACgBzAFFAg4DwANoBAcFwAWyBm4H/gf7CJ4JRwoAC5ALogwrDcANEA5kDpcOow6GDhMO7g2UDeQMLgxSC1oKGQnMB38G5ASXAxQCdgAk/1T9cfvr+Ub4ovYX9XnzJPL98PDv8e7x7Tztx+yR7FPsduzs7Dntpe2H7nLvk/Dk8QvzlfT+9bH3hPle+z/92v6pAHcCMwQjBr8HNgm+ChAMXA1MDlIPahA2EdkRdBLjEkwTPBM0EyUTqxI1ElwRpBCiD4gOPg3NC5IK9QhUB6wF9gMvAnIAwv7Z/Fv7z/k2+OP2avVK9A3z6PEQ8SXwcu/87p3uB+7g7QjuDO5Q7r3uR+/h77bwmfGG8pfz0PT39VP31/g9+qH78fxq/rv/NQGJAuEDdAWUBsIHCgkoCkgLLwzxDKANGQ5xDr0ODw8UDxgP/Q7ZDtMOUQ66DSwNUAyaC7kKsgm9CKUHnAZaBTAE+gLCAagAbf9P/kH9NfxB+136WPmN+MD3GPed9un1YfXu9Hr0MvQR9Az0//MF9DT0avTK9P/0efXg9Tz26vaL9y34DfkE+sD6u/t9/Gf9Vv5D/1sAIgErAioDBQQLBdkFmgZvB0IIAQmdCRwKiAoYC4EL8wsZDDEMSgwKDPELvAtZC8cKQwrDCS0JhwifB7sG2AX5BBQE6ALRAbIAtf+1/pX9u/y6+8T6+Pny+A/4XPeT9t71NvWj9D30//OP82HzVPNP82/zlPO38w/0SvSU9Ef10vWh9kb3KPgf+RX6G/s3/EL9Y/61/9UA8gEcA1QEgQW9Br0HywioCWsKJgvRC3IM+AxADYgN0A3vDfgN6w21DUEN9gxhDLQL2AoiCioJMQg4B/gF/QTBA5cCQgH2/9L+pP1P/Df7GvoP+Q74Cfcp9jb1bPTX81Hz0fJ08kPyM/Ih8mvyrfIW86XzVPQA9cT1ovaG9374kfm7+uj7Kv1c/pj/wQDaAfgCMARHBXQGfAdzCHoJVwoMC70LPQyNDNYMCw0cDRwNNA0NDdcMaAzoC24LrAr0CTgJWQhmB0QGTAVTBCID8AHAAJf/Sf4M/dT72PrW+ar4gfeG9qz17PQr9HPz6vJ+8l3yEPLR8djxCvJC8r3yU/MP9LD0jfWD9n73hPiJ+cf67fsh/XT+4v8aAVECnwPuBBQGOQcsCB0J9gnGCo4LRAygDPwMQA1TDX4NRg05DeYMogwtDJIL9wpHCpIJuQjXB8YGqgWABGADOgIXAeL/tf6A/Vn8JfsY+vz4/Pch90z2cvWw9Dn0s/OF8x/z5PLa8hLzSvN48/zznPQ/9R32+Pbo9/j42vkL+0b8pP2c/r//BwE4AoYDiwR9BWwGRQcmCP0IsQk7CqoK8gpRC4ULigtoCy0L2wpICugJOgltCMUHEwcIBlYFmATUA/wCCAIlAUkAof+O/pv91Pwu/IH7yPon+tP5Qvmv+En40/eF91f3Ofcu90b3SveO9+P3Fvho+Nf4WfkG+nv65Prf+6f8R/3Q/ab+Zf/9/5gAKwHyAVkCMwOyAzcEsAQeBZ8F8QVOBlEGlgbvBs0GnwZ/BqMGZAbzBeUFRAXTBIQECwRJA6wCPQLLASgBSwDF/43/+f5m/sz9d/0//Zr8TPws/BT84/vw+9z7EfzF+6n7MPzu+/P7P/x4/IX8vPww/VX9n/2+/VP+pv7P/if/T//B/x8ArADHACYBbQH/AQoCHgKKAq0CvgLVAu0C9gJMA/sCGwMzAxgD2ALcAq8ClQJPAjIC6wHNAbkBUwEUAdIA1wA8ACIAuv+O/33/S//g/pr+sf6u/lD+Lf44/s79FP7J/bv9zf0q/g7+Ef5x/j/+3P7N/ur+Qf8z/2n/ff/R/9//tP/2/0oAMgAOADoAuwAxADgAoAAbAKgAggDuAHMAVQC6ALIAfAD+/5EAdwDZ/0UAQABYAKD/5f8QAAoAWAACAA8AeQDaAKcAfwFOAeMBNwLEA5UCGwQZA5IF/gO+BOwCKAVWCuABc/7b/+cKof309+X7kvwe/NP2Qff19kn3M/Ob9XD3YvbA9QL4HvkQ+7n7M/tL/X3+OAFmACQA9gI/BBYEmQHWA9YG0QWVAj0DrQZpBXwE8gL6A24ErQN5AmACvQQNA0YB/ABYA/ECGQDU/9r/sACd/3P9tP1S/mX9c/sB+5f8RvzG+t35Gvuw+lL6XvpD+jX7cft9+Tb5ufzc+zX63/r8/Pj8eP13/j8AHwI/AkkDfAWgCHsKhgsUDEoOmxA9EpcT2RRDFQAVhxRVFYAV4BPXEaMPWw6eDKoJ4gWCAxYA9fuW+P30MvIZ7vnqkucO5Y/ind8U3sLchttJ2ifaodrd27Hd1OB44qXlLOq+7pf0Q/uDAJ8FgAuCFbQecSQzKNEp/y+4NZw7Kz7ePSo7hjeINX80UTSeLbgk+RtTFTMQWwjbACz4Yu/I5+jgMNuO1f3PO8zOyAzHn8Ubw6nCpcIzxurJWczszgPRFdUl2qvgiOb77B7zSfcQ/joGERBsFRMd2yn5L14wdi9fOahC7kToREpDgUBSOic5xjlVOFwwgCVaHJIVxRFdChYC7fkQ8ibqteF+3DHYFNPmznfMqcpdx4bDscOyx7TLSs20zWvPbtIO1k7bQOKt5vroZuwg8uf65ACTB6IPxBb1IvMojC0GL4syzj62Q0hJBEc0QrM+vjq+Pqk91jc0LWgiVxvqFqYQVwnp/+D0We1I5AXgX9iS0N/MhMgsx2PCv778vfO+ksR2ydnJa8kUyi/Ps9eb3QvjVeUe5wLuH/Sy/GQEGQiaDz4VGCTmMPIwvi8PL7M+skkYSzlJwUCwPXg6TD5xQGQ4dCuvIIIbGxnOEz8JLQBx9RzwSemm4tPbX9Ij0J/OfM0syHTB2MBrxILKZc2sy1vKqs1l03LaVuC647rmYOjZ77T1Cv0PAwgIxBAtGjMr2y0yKdcnQTPPRfFH0kYmQGU7kjizOqBBrTtxL7ghJB6BG7sW3Q0KAzv8IPOq7vzkLt4G17rRftEtzvjIFcG1vljB18Zqx4jI9cYYyBTNv9IO257cSN835Mjp4PED+Eb/AAnZEDMicSqtJ18nly1GQtxIgklXSlNDjkAKP6JGEUfwOgEwPykzJIceoxfSDmQGAfso9izscOFP2p7UddT/ztLI/8HLvJG82sHcww3Eg8EpwV/Hjssi06bWZtnE38HjHOyC8zf6EgakDzgjxStCJ7QnZi/fRHRMU07ST+xILkTQRLdMvUpsPmc03zDeKHwfIRm4Dx4Ifvx3+NPsbN3p1YrRpNK8yynFhb2Zt1u317w6wB6+QbytvTzE/ccSzZ/SSdeD3fvhHeme8MX3NgQ6D34hNiv0KGkq9jBpRbVOulFdUwBNL0oSSqZRpk/YROs7RTZoL/AlDh8DFXIMUwKc/GHwbeCK2JHTqdJiy4zEzrzLteezWbgsu164YLbPthG9qb8VxITKws6c1frZxuAU6L3t6fzlB18ZkiXRI+gnui13QkNOFVDOUxZQDk9/T59VplUMTGZE7kBpOSgv6ycPHqYV8guLBev4vuck3yjaxNY4zgPGdr2utR+yzbXet/mzE7NPs1W4lbvyv3nFusjuzqfWTdzY4u7nMPbgA2wQhSE2Ilsl7SlHO7tMv04qU1NQyk9vTyxVy1crUMhIaURNPy4z5ix4I4Ma/hDRCv0BRu5e5EPeidtF047KUsM9uNmzibR1uYW0grJZtJO2CbqsvArEzsZty9vTO9nj3mDk4e8c/1MI3Br+IIsiqii+MbhGrEpjUV5Ub0/0UPNRDFg0U2JMXknGQ6o53DDwKYEfIxdFD74Iqvd26TTjUN0X12fOishMvc610bM2t0e1y7EdtJSzlraMtx6/q8PlxWzOcNUZ2/Lg2+i/9i8AAg0/HrMeSCSjKCE3kkYPR0JRfk9LTbZOgFDwVFJO70nGRv49KTWeL38mMR4xFe4OnAXi9CHsH+Qa3ljXt9E4ytS/pLmuuQS7rrbit562q7dmuWi7jcNyxZ3KttLd1wHdJeMl65L4sv9eDewbkht0I44m+DSlQKxBO00fSIVH50gITDhQWUi8RtpBNzrEMoIuWSadHfIVpw7OBjn2bO/O5orfattD1KrOmMP+vrO+Y71bu9O7vblbuea7nr5cxpzG2svv0ljWTN0645Hq2/Tr/D0L/RemGFghhCQXMAA8pj3WSPFDeEPiRhBJeE2DRq1FV0EBOWk0si+NKLwgvBdDEoAJ4fov9XfqzeN+3pTXM9KGxiTDssGEvhO8wbykui+6Mr0+wJbFVsUgzGDRmNWY3NPi2+q78tn7tgXHEyoXLR50I+snZjXfNrdAPkLbP95EYESdSEZGL0PxQBU71DXPMhQsuCRxHZkV2RBnBBD9AfUI6pzkkd1n2OHPFMmExcnCqb93vvK9e7vEvkG+vcJPxkzHpc4h0VvZS+Aw5eLr3/NY/NgFNBJrFk0dex++JmEy9zSYPdE+xD9rQAFCTUY+Qfw/3j2/OBg14TA8K+0jXBvCFawPrQSE/WDzOuvQ5RDf4dqx0TrLw8dXw6DB3MHVv8e+RcA1wtPFzMcXzffR+NYX3l7inej47CL2rf4+Bl4SxxQOGRQd5yJ7LSQxXDcbOuo5GDygPMI+ij3xO3s6DjdyM6UvgCmHIhMc6xXgERwIOP/E+Nrv+OnF4/jdMNgq0KvMBcngxZ7FV8PtwhzEHsXVx+HKcc5u0oPVutnD4JblketE8Jb3LQG2ASUOVhTAEl4d5CKQJ1kuozKJNDQ3WzjoOOU77DkJOD46UzeJMCsvAilJIU4dlhegEjoKQwJm+rnyNuvu5X/g1Nlo1dvP+sylyOXGdcfexrPHa8l3ywbMyc400pDXmtyS4cjnBOsv76j21vvxAZULzBAhFlYa0B6SJeAo7i6tM6M0VjWjNo83YzeoNmg2zDT/LggshSgqIwYcFReOFKgKugPo/pD1Fe/Q6jXmkuBg2qbVEdPZzXDNVM7by/zLNMxnzbfN2M8Q1b/YZtsa3+fj5Ocv6rrzGPlJ+04G4gszDnEWFRhnHmwlSibOLZkxrjFeMj01hzMNNAo1yDLbMFgrCymyJD8epBnvFF0PFgi6A5X9//RW8A7rGOWw3+vbMNpn1JbQLdGqzanL/8zXzMrPX9Cv0kzVLdfZ26PfGuXq6BntcPOc+J/7rgWbC6wPWhg5Gacd7SVwJfgq6TDcLqgwJTQ+MjwxOjOQLuUszynaJoMiSh2JGO8TMBD5CVgFhv8H+d7yA+5V6SPjVuCm3EvXk9Sm0jzRr8/70EDPVNI+0ZPTLdUB2aDbe99v5S3mG/GN7wf22fzL/jUJ8wupDiYY2BfYG5Ii4yITKQ8qkSpALMMrZyz4KrwryCmPJ9gmTyEpH3Ya/hQwE9QOhQmQBeL+/Pc79OLux+rS5RbiYt5V2yXYtdZB1EvTvdRB1KTXatUS213YD9954bLl++jA6fP2Xu1V+3b+q/uuDAcK1Qx9F0EUmxm9INYhxCQBKT4nlyWAKvUn3SfdKpgn2iXnJkgj4iBBHIAZNxU0EbML1AaH/yf6QfVb7zPsj+a+4onf09qy2EfW2dOb1QPUgtmh1r3bgtrA22rkTOKu6K7rv+ur8YryyfiU/b37ngdEB+cMhhK+EUMUsxkkHEsdfyXKJfsiWSavJe8kRSmNJrIl6iQJIqQgFRsQFtAUDxD8COAE0QG4+UX1yO6y6+rmAuFt31zdodsH2RzYddQI2A7dM9w93FDhI95F3pzk/+vK6AXwNvWX6Rz+Mfmd+XoKtgFEDAoT1g1nE8kYKBj6G/wiTCKOJMwlYiJ2KcYovyTjKWInCB7JIN8eVxXEFK4TgQqkBwICQv4N+tTzG/RN7Gnms+Si4UXilN1g3HzeN9jC3g3g4OIt4L3jZeQH5Q3uhexQ6wTzDe518dr51/Sd/1L+Pf5ZCEgNwwxaEkcSrhJVGAcZYB0XIpccsh+DIoQfsyBUIgQehhxoHHEYshbvEX0Pqws4B7ADIwHB+pv2zPX974HuBOx65zfpYuW45KHnsuMl5mXqo+Xy6tbnxOiP6nXnhe2j8bPuW/R6+gT1FfyA/J8A7wD1AqUIogl+DHoMXxBnEVwS6xelGQoZMBpaGZgbnxoMFzEYYhasFGgUnhJOERwO8wy+CqMISQbgA9EASvoO+Xv2ufND8bfud+7r6wDr4Orm7HHsVusw7mvs6e0Q7tjsG/IN7IPvafJh8Er24PZH+JL6G/YR+YD/vvpeAgIHegEnBl4IMQazDcoMjA6AFH8PHxAUFvMReBPBFGARfhOJEnAQOxE/ENULuwz2CtgGIgc0BBAB7wDg+5f7vPpy9/L2N/jJ9ND13fTV82LzjvOg8XT0ifNY7rHzv/KN8Wzxm/Pt7vDyhPCD8KX0mvHA9fv2DfaQ+xP+A/3+ALsB6ALhBmQIuQq6DMILYg64D1ETmBVDFkoXWxlRGKMYehgAF0EX8xJsEoQQ3A6mDKwLlQnxBa4E7wBA/hr9kfu/9yv5i/YA8Sjyte9T6pjrMe0z5krmJ+bm5hToeeFO5yrpnOKA6LTqwugK7CvuDfLU9Xz48Po7AMcAkgHICVkLdgv4ETYSThVEGHgZ5B11HkAffCAyIqEgAyADHmgbGBkIGOYXLRVOE2ER7gyxCXoH1AM7//z5evd597bvqe5r8J/nbeeR6M/hreGZ4Grckd3I3MPacOGg3uzb1ebB47PifutN6qXsD/Tc8/D5o/6q/7EDtwtLCkoRmxioFJ8cvx6qHe8hfCK0IuUnhydXJ/8oyif4JIgjgSGmHbYagxjWEyMPgwrNBwcFwf7g/M/3jvMQ7mDtfOjd46nlE94s3+DbadxR2ibWqNr82GLZy9pm33jeydwm4/HmOeeD7TfwYfN89/P5bQKTBSgHgQsxEaUTAhcZHNMdbyENI7YimibWJ+glFCeCJ8EmASZVI6ciMiC/GSYXKBOEDAQIngRVAL79V/mS9aHx8uz/6vnlhuY54PzeIuCH27ffZ9rW2lHcT9la3I7eZOFS4Q7lPue16V/rkvAQ9YzyYv1V/u4BBQm4Cb8PQxD9E8kXIBj6GZsdwR4pIUIjISTgI8kkXiMsIkQiZR93HpgaIRmlFqQS2g5SDbEIDAWHAlr86frU9nbxS++W62noS+ly5X3ijuM636TevOAC3EffEOFf3s7f0+V05ofjWu2P6Ibs3PNB7qL3nfd++cEBuQBEBpwJewlxDFkP4xDkEy4WFhXNGnUa2RkXH90cUh0AH44cuxxZHKcYPRdJF9ESRRIWEtQLRQvuCX4FAAMgACX8KPrV9Znzu+8w7/jufOkB7gTpCedX64Tl1uWC6kXjFuen6SHjie3f6qvqhvNa8JzxwvWc9mT5HPr7/vf/Tv++BzQG+gf6DJgLYA4BENYRKxTxFD0W5BURGAYXtReUGLsVnxYEFP4SHRKjEIUPUQyvC7MJfgfmBMkCXAHF/Gr9MfoA9/L3mvKb8Dvy2e7i6prvX+rS6RvuhuUZ7f/qpubN7vDpbO4g7SjuiPPo7S701vYd+Jb3V/n8/lT9HwFTBccGrgjECEYLZg4TDHMPNhMkEOQStxZOFSIYhRg8F8QYLRW7FFcUcxI3EQwOrg7KDMwJ7QtmB0MFuwPj/aj9Qfqg9wH1s/Ji8Z/v9e5c7bnuv+m16Q7re+ZO6mLnHOl76+rmyexx7nzsrO9M84bypfRP9sf20/yi+WD8ZgT1AJsD8QglCvsLFQ7iEA8TVROyE6AWWRdrFHYXhhq4FcoYnxkmFdUWVxOZEu8Raw6bDA0LNgsXBboElAOE/W/+fvsv+Dn3ZvQV8sDxju+27Q3uwe3F6ofqeO5753Dq9+xQ53LugulT7RTy5+r+9B71x/G8+TD4Zff+/Rz+/P+7BHAD5wbgCQQJ/AsOD+0MJQ1SEqgPcQ9yFVASwxDzFJ8STRLXE3ARxRHpD9cM2gy0CngJnwigBMMF0wMP/7sBXf3T+TT7H/Z19JL0vPCP8NXxLu8B7oDxdfAq7BPyGPCw6+Tx7u+M8Ery3fJG9L/2dvlC90T92/vY+fIAGQCO/R0DQwU+AboIigjpCLcMBgk2DpIN+gwrDgIPvQ5fDA0Qmg4WDw4PyA2aDtgKnAsFDGYHegjWBqEDAwXJAQwCbQBw/wz93vqv/IH2kfo/92n2GPj58Fv5//KQ82/3re8o9WfwJ/KF9Z3wn/Sr89j15vXR9q38EvZg+zH9gPlVALX7kAA/AFv/cAW1AcAIKgQ4BYILvAOCCVQKkwafC1IKUQjyDNgKjglvDJ4JFQkrCnQI9QZPCNUGoQaABpoE5QXJArcCYwILAK7/A/90/Vr9/vt2+mD9xPeU+Sz6qvX596n0TPe79ejyk/hl9NT0xvhg9Z/29vdY9un3vPhE9v75Kvt9+Pb8Qv5++2sAcQGJ/94D1APIAo8F5AT/BcAJVgVvCtEKeAnfDAUK1g38CsALCQygCcAKSwqWCXsI4gjkB5YHZwUnBecEIAHKAeEAg/5j/mf9Nv7V+b76cPup97f4CvdZ9RP3RvP786f21PKy9e70z/dm9Iv1zvnt9GL3ufp3+IH4pf7U+D3/cQEL/J8DqQFiAfEEuAP6A3cF9gYUBnYH/ggTCJkKDwmaCWwKkAiKCFMLIgcHCEkKXAZwCAwGggREB2ADUQC9BsP9ewAWAcb9ZAAm+8cA2vly/H78M/gm/Sr4yPjc+9j33vjf++T34fmw+s74LvuK9jf+6Pgv9b4EbfRW/fYBz/Z6AgH+W/oqAt39afo4AyX9sf01AbgBAACNAhcFkP65BDEDW/8mBT0CEQBaBQECQAO/BZADIAUGBkoEzAYYBK4E4Ab+AjcGKwZTBK4F5QagA70HLwPmA2UFwAF9AwEBQQNf/+EATgA+AAj9if1U/834Qvul+w/3Nfde+iH1EPdu+c/zZvlD9Yz0k/rf8GX44/Wy8wz4nPbJ+dj4Vvlh+qL98vlzAB39HgD2Aq3/9gacBP8HXwcdC3kMbQqrD7QNyQ0MEMUOOA9YDk8Pag0HD/MMAw1FDV0KgAuiB10I4wQ4BscAvgLvAWD86P55+V77m/d09rv2FvN680jxY/Jz72fvMvAX7cbwJ+xL8aHvoe0h8gHyQfNQ8Zj5iPSg+C77rfmq/2D8yQD0AzUDeQTfCO8JRwiWDpsMqwytEoMMchG5EtUQthLPEuUR2RLvEewNSBLpCjwLVQ32BcIIewfaAq0EgABf/wcAevmZ+6r3LvY+9jXzN/Ng8ML1y+3F72T1keua8QjvDe+n8OvunPDT8oLxJPQ2+gXxKPz/+h/3yv8g+BYDxP1x/eoKM/6MCDgKQQQMDxsJEwpgDuII4w0jDLYM3Q6RCzEQ4AzRDtAMqwz9DDsJiwjPC6cGqQTaCa4BqAOGBSMAWf6BBJz5Yf5o/Qr3af7B9Uv4zfk39TP1rPmE80T0T/iZ8oX0qvb28Un2zPec81X3U/cG9275q/dw+zf67fo5/2P5igDL/v79oAMx+44FCQOd+6IKYwFSA4IJZgL9CTsGVwczC10FegufCWwIygmBCogJxQrKCT0K8AsVB2ENjAU6Ch0INQQhB4EDzgUqAuIABQWc/TsBz/5L+AkB9vft9vf4Uvgy8bP5U/MK8kn6nPBn8yX1WvTP7wP2WfJ+75H2RPHu9In32PGm+kL6n/J+AJT6lfiOApn7EQCcAn0BqQUBBtcGGAutCsAKJw8YDBwO8xDiDFQPcBOSDC4SUhLjDCgUKA1sD2kOlAyuCacKGgf8BdkFCgHxAuoADf/E/an6Aftm+XP0kPV59QPvNPLp9OjmD/h576bqKvSw8aPr/PSl7kXwmfaa7tD1c/Xl927x4gPV8on8+gSk91sD2wQp/QcL/AJsArQPsQR4CAkR9QlLCNQTNQrMC/EPpw6pCrARIgxbD+MMFQ0/DM0NGQdvDSEIUgcHBywG+AS/AcQC+/8G/8D+Cvmy+lz/F+y1AQ7w0vT59+/yQe9J/LnudPE9+TzxMO9d+lXwtO5P/0PrvPu98jL5wff397D32vty9+v9vPcE/fb/SPvyAGMDnf5sBJEJof7xCWoIUgeECB0MbAbxELYJHwyEELMPywyoEEoRaQ4JEE0Pfw1iEAEK6w1EC0UJ+QhLBoMIIwDdAwkBvPwW+mwCYO2NA0ftu/kZ9rbv2/Yd8FPyl+509F3syO9v7wHxiukA9IXsbvJs7Kz1wO7O9HnuHfuF8R71xfmA9sr+a/kb//YA1Qbo/hMK1whTDKEKsg9ZD+ETaBG5FaAWkRe1FToa8hjdGBcXtxsDF1gUeRbEFAQQoQxBD6MIjwk1AsgD8P8J/lv0xf9K7/j0C/GY7zfqW/B+6CjmS+xv6WPmHuRZ807fy/C15efwJegn81Xnmfbl72fvqfia81L68vIYBPP2hv5mAsoCpwGWCcUFTg6dCMERxA6YFtIOaBnSE3Qa/RaoFSAhnw8VHp0VdBjrFD4VYxTGENAPXA9PCKALJAL1BCf/+/1Y+RD6ffS681XxTPCK7L/tC+vK6RvqYOjD68/mouug6VXxPOaf9ebrd/RJ7ov+Dupo/Xb9MO5ABbX2bf4h+lAJD/ScB6sDuf+YA78HvwTpBSYLiQb2CqETHQWmEekViwh3F2YRghUHEJIWsxKLFEMPxhWFDpcQdA8kDKsPIQbZDEQEuwXNAV//K/1u+Zz4NfNA94Pwa+8z78vw7ukr7kLsC+sE7cXpuu8t6Tf3TeCp/J3wg+tC+sX1s/S+8msB4+zI/9H0H/nA/HL2uf4T+3D/gwAD+tENv/lzBhcLlAT/CkANSxBNCRMa+AqUHLMS7Bg+GM0a6xYMGOEdthCPG0UWwBL5EvgT5QrZDJQJ+AQCBHkAS/kH/R7zPfXq7+3vUOzx6Wrtx+SM63LlouzC4r/vMuNv8hHn1e5u9h7n/foZ7w/8vupdAzDx0PnF+ov3aQDr8zsIIfUbBjUBtf28C0kAVQmVByAOAAxAC88YbgtXGdcSzRsDFzIdEhsJF7IhzRKvIPMSdxsyEx4TlhVtDWwMWAgrCYT/5AEO+xH4ovNl8AHv6+iD7AnjlOha4orjN+bw4u3mK+Sr6vDmmO4u5bH5eeoD8Rj9GvDu+Iz62fxF9jUDM/biAID9TPoeAgP+jADP+scHgP5tAboHkgSbB/sIgRGDCZYTUwzpFV4VtROUGn0XihtuEo8h5xXuGLYYlRYpF0ER8BVzCvUPAAQ9BxsFu/z2/Gv19vaz7jXxbez16TTpiejz5r/n++aC6Nnp4uve6wHxVeuY8AH1s+7G+frzO/bI+Bn78PTHANn45fY3/2j5XPmC/Kj6b/nKACn6c/8LAEAB3QB2CS0J5wkpD0YLxBCqE3wUfBh5G9kXdRvPHiYcrx3bG/0cAhsbGt0YUhQODzAN6wtGBsgEvv1I/O/0FPLV8AztZeZv5hLmbeBq4tXfAeFf4dHioeUW6K3nDekJ7iPvwPG49K/yFvm299v3rvs7+ln7ovrn/Sf+kP5a+/7/HQKK/6cCTQTfBUYGWQ7JERAV+RH0EzkcDxo+IXkiqyR2IuYhAymVJL0iSiKAIVYgaxw3GewUbQ0CCjEIjgMp/F32MvGV6w/pLORI4CHcztgx14DX0NZ51J/Yvtml3Mff6eKF5Jfolu6k73D0CvSe9ij5tfxl/Bj+Hf+W/JT/+AGkAcwChgSOA14HuAVZBy8JmAtsEd8U5BhBGFwUfRtiHkAhICXZJBAjvSFTJdIj9yGyH2gesR0JGwYVrxLZCYUF+gSq/5f56PJY7dHnruUy4+vepdmy1qbW39RP1QrVHNdt2GndtuAz4fLlu+cu8H7x//Z19j/6qPsy/y4Dlf8YBoYAlwHqBCgCvAUoBfQD1wbcBsAEtgUNChMI6xNEFYcVFhLeEQIbghtiI7kgiiIfIbgf0CRgIzAfzx93HasdqxheFGQOCgiOBjMDTgAZ91TwQeo36n3kHeJY3obYXdhS1nLW+NiI1uDXlt3/3W3gx+QJ6IHrIPHj9Rf4Xfj4/Bb9jAHfA/ACgANlAdcAsgKfA/gBpQQPBWIFwwXCA1UG6gehDzEYNRR9FpoSmBg7IJIi5SiZI/gkkCFkJeEnYyEdIQsfKR5qGF0Wgw/oCEoGvAI9ABf3X/DW6Hjmh+WN4P7c7djs1KfTK9b91OvU49d82Kjcld7e4aTkbOnG7+Py7fg8+NH6zf8yA9kE3gbsBEAE0QfGBfYEewXCBqcHDwbeBksGQwS1COoLyxYsFjsTxxJFEtIdTR8rJaEjFSFTIDwhniUTIeAfYh3DHNwblxVlEfELUQTCBPwAg/rJ8i3ryOal5ALiYt2U2RjUctKB0n7VJtK/1aLYx9k934jem+Rj6Z3umvQH+fv4Z/sxAccEcQiVCWwKUQixB0YJ/gfmB8gGQQhYCMAF6QRDAXgGLgfLD+cWChOGDhsLTReeHPchPCLzHlQeEx3tIiEkfR/ZHd4cJhtLGXgSKw9ZB9oEbwSO/s/2nO2P6C7lUOXQ4cfcNtcZ1TfUR9VU1rzWyNjH2nreAuHu42PnBO5t8x73gPmc+jP+VwKYBc8I2Qh3Bq4FTwbiBYIFjgVdBOcFDQVDBA8BRAHsBHcMUBY7FhkRswyaFDgdYCQ8JzUkoCKPH8Al/ih3Jk8khSD0H48bNRgIE8YKvAgpBYcAp/hH7+/oUOSH4hrfrNo31VvQJNBL0fDQ/dJZ00PWKdtX3aXeR+GI6LHut/Rz9or22vml/isF9wd0CJAHMAaXBxAIngXGBvMGsgU7CCwGEQWIBYYFGww7FUQaixapD0kS3xwfJRkofSaOI/8hJiUXKTEozialIqQfIB78G44XbQ6KB3oFCgQ5/nP0lupf5lLjm+D63e/WONIzzxLQXNJx0XbRFdNk14Pa29wO4Ebk1+np74/1qfcJ+Zb8cgHQBvYJeggECDkIoghuCkUI8wZ+B8AIJwfWBSAGwwR/BqALjRKrFtgTMgyTD7MaEiKKJEEgVB5tHoQhuCQ9JFwkmh9NHNIbsxnyFh4POgiZBegDyf+I9aHrmefQ5I/iHt9x2WrUGNGW0UnSE9QY1bjV2tdx2rjegOLp5RHr6e9H8zX3Fvk5/CQBQAbVCOwI5QckBo0IEwkfBywGSwYsBxwHdwXgA/EDzQT0Bx0PLhdLFlIOQw1iFOof7iXUIqognh9oIhEmCiZRJsAkWiEZH9cbXBsfF7gNugg2Bd8Ebf4t857q7uVg5AvixN7H14nT+NAN0djTqtQD1RfV/db82ivg/+OV5lzq4+6B9Hf4/fpl/ZsASwRjBhoIfQfiBiUG7ATgBNcEPQSoBNIE1QJEA4QDdgMNBysNxBLnFNYPwg1SFIgd5CNxIogg1x7GIW4l9yT6JTAkqCDyHagbHBqEFVkO6AdiBBcDlf5V9U3s1uXs4k/ji+Dq2/bWndNm0nHUKtdt1+fXbdg/3LPg9ORI5zzq1e5G9E36qfwv/pz/4AJGBjYJywkXB5QFOQVABe4EdQQHBOwDpwPUAiQEIQMhAyAI7g7xE7ERGA+TD7UVph7CIvIhpCBIH2oghiPqI/IkUyJ6HlAbSBmCF7MS3gxYBegBYAA0+x71HO015nHjZeIG4QLeOtrO1SnVBNfl2Abbp9zE3aXfwePf5z/rMu/S8/n2Vvr7/Gz/egEuA7AEFwYoB3cGtgXKBI4DFAIQAroB0wEQA7MC6ADT/8D/JQOJCm0QfhFtDagM6BCOF6AeVyAdH8sdLR4sIRUiayLlIP0eBR3kGcIYqxWMEcAL2wXWATj/APxq9nju2uhn5xjmPeQQ4DrcMtr12sLcct1v3n/f/uC34sTlPerd7c7vJvFH9PD3IPuz/XL+tP/pACgCuwLvAvkCmQJrAf//NP+2/sH/CQAVAGH/EQAYAR8BoQOfCEAOChH2DqMNyhBPFtAcVh8pH2Aeqx7ZHxsgfCBiIFQfHBznF5kWZxW1EGMLrwVrAe3+h/xk+IXye+xK6LLmZuVA4yDhtd7i3Nvct93N3+jgl+LH4zPms+my7Lnvv/Fa9Jv2Gvqm/PT9y/56/0wAjwHRAlwC0AEsAdYA1wBuAAIA+/+w/7QAJQLxAkYDbwOSBckKIRBrEsgQeg8UEpEXVh2nHhUeVRxBHJAdAx7rHnIesRwvGf0VhBS8E9MQ/QutBUQAef7w/FP6afVL77bqneem5qHl7uNj4snf8d6w35PhbuPU407kCeYi6bTssu/d8PHxNvMC9jj5Gvte/OT8U/3e/aT/ogABAe8A6P+l/0H/xf9LAOoA1wHLAtMDTgMUBL4F8QgPDrcRQRJDEJkQthP+F8Ab+BzHHKgbZhvKG7sbARzSGxUa6xYCFH8SWhF2DtMJqAP0/+P+Jv39+Rj0W+/+667puujK50Dm6OM74oPh6OIP5erlYua+5qznu+ow7mbwo/F88iz0WPcX+sj7vfx2/YT+Qv8PAfcB8AEbAn0BUgEoAvICywI4AjYCcANkBDwFiAVtBfEFGAhaDJMPyQ9HDgkO0Q+eE9UW7Bd0F60WchZlFp8WAhdkFhoVcRPhEHUPbw0iC6wHcQO9AIr+ivyL+dr1HPLJ7szs3uv66pXpUOf15Url++W+58voDunP6Ljp1Ouh7nHwsPB98TvzKPVp92P4g/kA+677T/0+/rn+p/8BAKIAVQG0AbYBOAG8AOMAUQJdBLoFyAU4BU0FzQbqCWwNahBAET8Q2A+7EIsTrBYBGbkYEhdlFjMWOBZUFgIWuxR4E34RnQ9bDUkKoAZcAwsBOf+9/c/6DPYb8rHvTO6a7VLsrurW6PvntudQ6Ijoueg36WHpWupL7HjuDfC28YPymfMY9cH2HPkh+xH9+/1+/jX/7P+NAXACUgNdA8IDSwQGBHUEcQSEBDoFowZXB40HMgflBsgHlgouDpUQJxB1DtQNJA9yElsVVxZCFb0TGhM1E3cT1xOyEugQCw+0DXkM2QooCFYE0QCL/p/90Puo+Pz04vGR7yvue+zi6onppejx58Hnsecc6Ifouui76S3rTO157tTvKvF/8kn0kPaF+Fb64Pss/f396P5aANEBCQMdA00DGQNDA0YDhgPUAwwEugQ6BZYFtQWeBQIG0AfkCpsNsg4qDiQN8A2nEIYT+BR1FRQVxBSPFN8UqhXaFf0USBPVEfEQ1g/JDd8KDwcyBIwBmP+i/Tr6YPY68tjusezc6wTrYOku5ynlQeQG5XPmO+ed587nDukU61TtFu9l8NPxuPPO9pb5cPs5/Pz8fv7uAB0DTgSJBMYD/wPcBEoFxgU+BS8E0gMNBFUFCAYkBkkFDAUYBiEINQtxDfUNDQ2WDJENshDvE+wVeBUIFIoTuxP1FN4VqhUQFJYRLxA5D1YNCQt4B0YDhQCz/mz8nvlL9UrxYe5U7FjrH+qS6PPm8eW15VDmLufo5xnozugs6hHsY+5d8NrxZPOP9fb3m/pm/Gb9YP7b/3gBIwMSBEkE8gPeArcCBAOPA5ADWQNyA5IDngOrAwIEMQTNBBEHzwo0Dp4P0g4fDvAOPxKDFrQZqRqZGTQYlBd/GMIZIhqFGOsVUhOOEfEPMA38CFgEQwBF/VT7WPgF9KvuWOqh51TmqOXs49jh09+63vDeM+DC4dDiv+P85Ojm4enK7KfunvAG8wL2s/m3/Gr+Df8WANgBCQQWBjsHVwdqBq8FcwUDBmQGZgYRBs4FNQbDBh4H0gbXBmcI6QvYDxcS6xFIENoPSRJtFjYaihvfGjIZLxheGOYYNRk2GPsVBBOMEMUOsQz0CNADV/8o/G76m/jK9BnwPeu25y/ml+Wq5DPjHeGN36Tf0eAR42fk2eSE5V/nVeqm7VbwXvJ49Jj2y/lq/JP+MgA7AWsCyAM6BSsGPgaSBbEEhAT7BNIEyQQ0BJQEXQW+BcwFjAXeBcgHfgskDxsRbBBLD5MPhxLwFjcaQRv8GToY+xdiGAoZLhn2F3cV3BLHEGsOiwu8B5gDpv/s/Ff6Qfcc8zTufOrM5z7m9OR044vh7t9I38Tf9ODq4fPiJ+TY5Wnoiev97QvwK/Kz9Af4M/t8/TX/KwBsAVEDfwXyBi4HwQb9BdMF3QVbBdwEKAXsBesGCQd8Bu0FRAaSCL8MQRGgE6QS7RBREeQUEhrAHQYe5RvjGa8ZXRu3HKAcDhpVFv0SKRHID0UNuAjOAgH+A/tB+eT1zfDz6knmTeTo4xjjZOAo3Qvbd9u93QDg7uDu4EPhT+MT5+3qFu4v8KTx2vNR9yL7MP7i//IAqwLsBKoGZAfBBv4FHgbdBrcG6gVdBBcDWgMIBegGDgfmBaQEzQUOCvwP1RNWE8kQSxAOFGgaER+GHwgdNxpRGtMcfx6jHqcblRegFDYT5xGhDtkJ/wNR/4v8fvoo9uPvSukM5fDjqeME4n7er9qn2L/Z/dvz3fTeAt+w31XiIuZO6iLt/u438b70Jfmv/N3+uf8kAXwDHwbLBxkIBQcVBt8FAAYHBnUFHAXXBBsFqwXMBfIFYAYOCIIMNBFKFIoTZBF/ElwXXh5GImYhbB5FHCod8h/KIWAhBR7eGUUWeRQoEw8QjwoeBBf/Svy6+TX17O7M54Tj3OH44C/fxtsC2FDW4taL2FXa+9qJ2w7d99+y4xjnw+kd7Fvv8/Pq98D6ffya/fn/KQMGBnMHEQdDBn8F+QUeB2kHngbxBaMGPggLCQAIEQcECDcNnxOiF9sWEhNlEmYWRB5qJMAk4yA6HdwdeiE8JOkjWyDZG70Y2hfwFqwTKA1GBsQBrv+2/WH4RfDU6HflCuXl4zbg19q21ufVMNcY2WrZE9ln2ejaGN4K4oDlpeeS6fbsx/HZ9Vz4Uvn0+gf+qgGTAx8EDARZBM0E0gTZBHoEUAXOBdIGtwesB+0GewYeCTEPqxTsFUwTmBHIFOwazCAlIqYgfR+zH2Ih4SISI/Ihzx6zG+IZ7hcJFW8PngkYBkAEigEQ+9byouyg6dPou+bQ4jTeDtrx11vYL9pI20na+9gv2trdGuLA42zkqeb76ujvw/LO8zH1Dfis+3H+CADsANgBPwLyAQACzAL5A60EAQaWB7sITQd1BXcGCQ3QFYoZXxZKEGYRQxnQISAlJCI3H54eiSC7ImcjUiOoIOAcQRp+GiIaexT6Cx8HeQcZB1ACEfmB8crtgewY6zbnRePd3orbZdpF28nckdvO2UDaMN1P4A3i4eId5X3pJO428WXyc/RB9xn7av6vAA4CagK1A6sEIwT0AvACQQW7B2cIdwdIBVME+gQTCdUQ8hXYFKYOcQxxEwAdTyLDH5sbFxvjHBkg+iBGIawfGBvmF14XNRiQFBkNXQc9BiUGDwLc+SDyye1X7Jbr1Oh75Wzgrduj2UXbVN4g3pfcEdzf3ividOPI5fzowu0F8ZbyF/XE93L6Kfz//hcC6QIdAngBewIfA3oCagGKAm4E3QTmAyQCTwPeBEYJEA90EuIRyg00D4wVChz5HqAdphwAHWEepx/tH2Yg0x76G6MawhluGAoTqwy9Ci4KjAeiAKn4W/TM8Uvvc+tu5+rj1N7723TbWdyW2yHZgtnE3LjfmuAL4YzjqOfW6zTwe/OG9Y33E/nR+17/wwGdAngArAAKAzgEJAD2/BUBAAWkAgT/WgFvBbgCQgIVDcEV5xCxCEAPjhoKHTMbdR6DIw4hOh6bIz0oVyVDH8EejiEHIMgatBRbEeoNQwrXBnsDRv1J9hnwwu387OnoH+SI327dCdwV2wHbiNoW2/3cB98M4dTiouUL6crsJ/Be9Bb3A/kH+3f9dQBsAO//owAMA+IBqP1E/ur+I/24/E7/GwKw/Yn7aP69A94HXQotDrwLaAx9EZ8WkhozHAQf8R5zH/EhcSNZI2sgdSCIIcMfeBxaFxcTfA/MDJgJsQVOATf5avOu8CPuhOq/5tXjSOHs3Y3cf93C3Ejd/t5Z4mHjJOUp6Bzr2+4680T39vhz+xP9AP8aAHUBpwQmAwcAUQC3A+b+ePjb/Uj/afuQ+RX/FwAm+Z74ngSgC9IGlAm+DiYP8g0LFogfSh6jGiwdPSSYIiQfZiTeI2weiBzWIGYdiRIXD38P8AxiBTAE9wDp9knvP/DY8GPoIOTr5IDhet213THf4d2d2/DdReOV4knjxuZo6XHsqO9W9Ib1kfc2+fH79/wZ/k//fP9N/dr+NwHT+rT5Efsb/tz8YfxzAGn++fsz/qgE3QmXDFoMoAwrEYwT4ReqGj8d0R5tHpciLiLcIhwhRiF7Ic8fiyHVHAAXKxM4EfcNyApOCLYCGvtb9uD0cvGc67Hp7Oa94uThFOGq3qTdCN8g39jhuORx5hzna+gY7ffxCvNS9qX4TvvL+Vz8DwAj/sABTP2vASMBNP0F+838GgCw+cz+0/4z/X/8Pf7iAJwC+gjhBrQJEgsIDLcRxRIvFaMXDRquGR4c/BtdHHEdCxzQG8YcXBs0FSsUKRJTD38KzAffBUP/rPrM95X0Ie6Z62fpEuaE5HbiduHp3qTfTeDW4nnkE+a95wPr+e1H78zzz/b7+Ef7Fv2d/gv/4PymA1UBUPx4A84Bx/gS/qL9EvyW/jj7TvwUAKn9lPhoCAwGAwDzDTMLfgfQEZUUGxPPFz8b8BiLHVkeIRwDH1EfPh0THdseYhn7FkYVGxN1D0IMIwlXBcr/w/sb+nL1LO8C7jzrNucL5i7l4uIa4ZziV+Iq5GHkqOe16V7qeO088YHyevRY9dr6Evu3+bH8v/9x/ID8YwLK+8P9Uv0E/e76mP07/vT6tf7//bv/vACjAV8Eigd6C74JSgw0Ee0QRRNXGIsYdxeDGxEc0xslHC8d7ho1GvUYAxm9FmASeQ8nDqoJ6wX4Awr/Hfxi93z1JfGp7d/srumC5tzo6eds5GPmmuZx5uno2OrF7LPs4vEJ79ryk/YL9Mb3DfiB/hD0RvsOAjTzSvnBBCD0afj9A0PyAvp//+T4xfimAhP8s/vvBZr+yAUWDBYFgQt1EB4OexKOFbsWUhi8GVUbPxzEGuMcihsQGugZpRngFSkUchGVDZkMxgifBVACnP+R+bb46PZQ8dLvNe717KrpcOtA6bToZ+my6Zbq/ekx7XvvBOmH8Sf10Oh193D1Hu5Y9QX8he6f8+j/teoH+GYACuyS+BoDruoj+5wF2PKA+zEIS/5V+n8PJQYhBzoQTw6pD4cS7hXpFecZXhkoGiQchRwsHHMZAR8pGncWexzQFL8SaRKJDhMKEwuhA9wBPABh+8j20ved8p3t7/BD7Z3qz+oZ7KXoOumk6/vqxOkD7zns/e098pjuIfAa+MrwPfEB/Db1TfFU/G754PI/++/6I/hx+oD7cfsH/j/7RP+JATz/8QA1BqgFfwf2CswLHA1LDwURXhKRFssViBZ5GdoZOBY5G7MZbhZuGPAXpxJ9FesRiQy1DaEJ8ASMBfoBqv1e/fv2sfbB9Pfwc/C28FTrHu726/Xrc+0g6w3rsO+c6qDtZPNz61PvR/Zc7fbvOfpO7znxT/lH9s/xpvdR+Mb2sPIv+o78tvX397cCQfoG+t8EZAAgAZoFBgd6CQYOHguPEGQUTBG7EowbIBfjGEkb0xyMG9QZDBxPGrsYYRoWEwoZoBPtCcQTfwrIBO8H8QPE+1L/sfkz9n/3zvKs7qPyhO49653uPeyo6vnsOOrK6gjvtOri6oTwyexg7O7vQPCS7zTvL/Sr7yTzBvXm7zn36Pfb8H360frZ9V/9wP7d+J8AjwPg/UYHawi6AugMQw8fCUkScRGpEXoVehZ5F+4XTRpqF9EXYRx0FqAXdhmiFBEVChFXEx4NOgo8DFgI4AEPBfwAj/xe/K/4NvnZ9APzvPIW8yHviu9I73DxUOrW7irx/eet9CrrGOzl9hbnJvRD8RzrsPWf7kryS/SL8XP1l/Nq9OT3dvWi+PX4ofzC93z/3wHa+ZcGAAQlA9kIEwk0DPAOxg5DD4kW3BKNEXobxxVwFREbqxeIGBsXyBfKFiwTEBZsEEYQ+xFECBMMZApjAXYGsQGM/ZH92vps+DH3+/TR86nyBPCm8kPsAvD98kfmFfAT9LHjxPJJ8YvnvPIF7n7scvF98VruYPHN9iDu1vAz/ITsxPcK+0fzGPtb+mv8/vhBAhoBC/6zBXYHiwF9D6IJqQeYGP8I+BJpFkMQthZeGCYVchidGMYW2hesFq0WnRSLFbASWhJ/EOEOAwuqC8II+gTBBTICcf+v/gb7S/tj9xP1rvd38Trz7e+v9K/rAu5G84roo++g7L/sme7l6xzuBu7O6ynysurS8MLyxuwn8znzifPg8VD4y/Wo9xj6H/pA/uz9tf32Aw8C7AIDCU4HygptC+8Ndg7tExsPcBJSF3QSxxZKGNYVMhY+GWcUehiBFcISnRQSEnkPYA/4DoEJPgltCPAD8QFcAhL9v/y8+jn4ovas8oL2lu//7njzS+wc7lPtn+217XbrQuwM8Fvt2+el9bfs0+uh9JXw8++c87H10fCc+Ubz7vjG+WP32P5v+G4AJP08ADUBAAIjBogC7ghGB0oKnwuOCqsQNhFtDFgUbhUkD0MX9BUxFf0UDRaZFu8TZhSVE2cUFQ8xEngOZgxnDEUIRQh4BLADgADg/+z7pfmI+jz1VfT/9CPxs+0y8/LsmOrL8d7nwux+69vpIu8E58Xufe486A3xe+7R7ibwxPGm8v/wV/im8vv1G/yC9UD5UwLY95v/HAYF+1cH7gM1BfEK6AVhDX4MPg2LEEMPSRS2DzYUYRbqEtoVMRdiFMIV9xRgFVAUGxEHFkoOlRD1Dw0MeQqkC5kGlwQWBIYDb/09/DcAkPek9Qv4JvYa8OHwX/Q27pXr6/Lm6mbtD+027e/s0u2P7HbuQu/p7xnvdfH1827xLPNf+ML3hfHO/ub4XvZNAAr+jPm7Bd78LwLbBhUBWAeMB5IIwAlbCmsOxA2oC28U1A8JEBUUdxU1EFUWbxVeEycV6BOoEUMWnA/HD24TfQqhDRMLJQmqAxMJzf/i/+L/+/pZ+a/3jvWu9B3xh/B28TzrC+5I743my+xP79Lk4e7u6pzqv+6L66Hqq/Wz6cTwXfNv9Xfsd/o4+tXq6QNh9cv4h/+e+or/JwMy+jAIPwQRAd8I/wi9BpUMngwhDZoQOBDfD4wUChMdEw4YFRWBF6AUwRoiE7MWkBWEFQgRWBXOD/QOaQ/MCSQJPQcyBTYAVwMc+/n8+/jp9yXzK/Sk72bxfexa7hfsF+tw7Mvnk+z26Lzrx+p86vnvKOvY69D1G+oD88X1LvG89Mj6ofUA+Rf7nPwa/N3+O/7HAfsDPv0ICqADPAV/CtIJywU8Ev0KZwokFgMO3w4DFi4TpxHBF9ETHxXVFckT1RTzFZ4Q9BJUE/cNuA2QDlMKygYnCAUEwQDSAKL8RvsU9734JvJA8orx4u0o76rp/+2S6urpg+f/7cLld+545L/yoOh06/Tzeuhk+EPpXPi7867y3Pdc/onu9wGP++v3hgCX/xsDjPv8B8EC9wVcBJ8JdAmxCVgNYw3KEH4QtBEVFPoSWBYNFekW2RixFpwYtRmrFKIa4hKOFw4VcA8vFdgM6Q2kCYgIswPJBX/7SgHY+BH4MPY383rxlOsO9NDj9u9v59TpJOXl7BHkYOgA61fllu3u5lPw5ecx9SboDfVY8xXwvfdO9070svqt/Ef3RP0SAAQBePoNB1ACUgV1BK0DPQ8xCOEEFRSiDgYMoRLFFBATshLwF8AWTxgNF80XCRtAFX4WmhhmFiYSrRMZE44NtA12CWwJLQXaAPgBVPyG+iH4NfQY9ATvcu3p7vXpm+cj60Ppa+er5HHuoORD6eHsCeei8eDs4OnS+Yzwj+hjA4/wO/DMBZTxDP02ACD1TwQI/3P6ZgTCB5P4ogztBCYBTwtBCWMHUA0tED0KRBiqDoQVWhYWFYwXgBopF4sawxuSFgUcTRYlF3UWixHPE50O2AsODGkFmgRBApT6t/2+9vryxfTv7fPq5ey66dLjYexo4U/p4uTZ5FbpPeiO5zfqi/Bt5q/wk/Lu7SHwjPrv7iX6ZfbW9zL8NvhB+IkAGvzh9f0Hm/hEAbYCGAGr/2QLnv5IBxwRvP6rE8cRKQouFeMYfA8mGmkaBxknIIAYTR9kHtIYRxvyGoIY5xXqFSoUBRIuDfwLbAoxAxj/IQK79cL1+fPA7e3tdOpJ6b7oiOaj5IDpMOTz5ozqa+V/60Xpwum46wnrUu9W7oj10u/Z9sP1VfYH9ZH5i/ex8x3/9vNP+zH8iftM/sAAjP4AAwAGeAHVCRoK4gwQDnkRfRUYEzoa3RqrGz4ikSDGH4UhYCGVHpgcMB92G5AYBxnQFiIRAQ/uCLQGLQJ9+/38IPSJ8XbtCOxe6YXlDuVj5DHhJt9q4iPgQt8Z4b3jdOO/5lTs1eqL75ryPfKG9En16Pbv9Bv69fXa9y785/hi/NL7EP9g/NL9hQQ1AQb/HQQpBU4B3wvaD8ETOxX6FQkfqBsxIjUkkyf7JJMkMCcvJP8k5CHTI5gfNR4PG18ZThJODaML7gJaACz6EPVP7+vrLeUY5g7jb9yN38Pbydnn2T7bA9nx3SPfSuIt4yblAeqM6crwyPLe9BT39Pi5+hD7rfwP+1D8ufvH+1X/dfwm/Xb+QAAG/iwCLQLZAjYGPQq9EL8S+RMSFQgdSBoKIagmsCVPI8sniSi9Jb4miCMdJWYg0R49HpQYFhA+DP0H6QEl/Nj46fDB6pzoQuW14hvehd3C2MnYfNjp2G/Yr9k43RDdG+TA4gvot+tv7TbzIfdC+HT5mvxG/UD+4f5D/zX/Zf6t/QkAzv5v/TwAzwKR//4CtgElBcQHrA1DEnMUZxLsFWEdUh0yJZQlOSfZI3Qnyyn0JvklvCNaIc0eDBuWGB0RIwp/B34Edv3C+b/xn+nI5/riI+GU2sHYQNU21fLUmtYt1kjXA9uo3mvjPOMF5znrq++P9AL4j/qN/Hb+GgNgBR4FLARvBTADCwNsAWgA5f68/kkBbQGmAYYBFAMICXIPXxHFE7sRwBbIGpkhRSSXJIkkzSLuJh8o6yerJNwh/SLpHnwa/xdhDZsHfgZWAx78y/TL7PDnjeTx4BDfXdnx1ADVNtVM1dfUwdbA1uHbIuDU4+XlMufg7nTyBPfG+QH+Pf2eAU8FUQXNBnoEaAU1BbICgQKcAjoBWgGABB0ATgIWA7sIbxM4EwQW4RFbFyMbryELJ+EkdSRLIX8kJiiLJY4mHCOWIO4d/BnuFMILEwkKAwoC+/d78LbqYOM94qTeWNsj1QvTkNBm0pnTa9IJ1WjVbdsC33Pih+QI6BvuqPO9+bL65fxX/2IDnQhiCjUJ8gfXBoMFSgVIBUMFWARcBA8GmAF+A6UDFw1bFR8W/hTjEBwYwht9JJ8opSTeIlAiFycAKTAkryJJIAweMBwTGTQQ9wZ4A2wDJP/K89zrV+SX4K3fdN642E3TJNDY0KzTBNMi1bHWV9uV3mLi8uNx5pbs1fIn+cD5o/xL/sADfgivC2gL+wdsCGIJfgZOB6QDdgW3BqUEwQXu/gUDuQIiEGYXYBXZEagNDhlZHegkbSkDJJ0gXCKTKCwnmyF1IbMdMh12GRQVvg0KBZoEXQVy/TnwJuii4tDgbt5T3BvUw8x4zffPXNER0rDTbNfl21bfKeP75Dfov+9T9o/6q/p5/OYA0QYgDNQO/A3wCt8J8ArUCrcGbwW8BG8GaQSpAgwA+wHdA0gQdxjwE0IPYw0nGc4cQCVeJ/shkx8GIpYpSCefISkhih/dGxAYKxWIDGUFKQZlBXL89O7p6ULkk+GB4HbbjtVQzvvOB9EP0u3RJNSx2ZbaMd9X4yfkfumA8jr4yPrx+rD8lwEpCAMOHA/zDZMJ1AjtC8UIxAY5A2IF0APfAw0CXwAnAwIFxBZ1FY4Sag2rD28cTR/iJ+MkLR8wHxckGSxjJTUieyLrH0Ib2RV5E4gHrAWaBL8BNPMn6YXnfeHU4eTb3Na5zi3MSM8h0IrP5M6m063V6tjh3cXgkuTl7Pz1R/nD+4L7uQK9CPMLEhC8DicNdQuNDosPWwr7CX4IYgoCBywEYwJ3AZwGdwmFFwYUURDHDG8SPR6sHtomZCOnHXgetSLTJwsjwyBQJDUfbho1FRIRwQrIBm0Gb/6Y8irpx+cn5SDiN93s1oTQvs3K0GbQj9DM0MXUd9bv2DzdtuCN5RHuQvUt9yH43fpDAgcHIwvyDJoMyQoRCyQMTgraBrkGWwcoB00FJQMLANcCMARRC54U0hGgD6MK4xMPHZQgoiY1I7geNSAuJgMqNCOeIhojBCCqGxgYDBVVDcYKXQmQAqfz3esB65/ox+Ss3lXYgtHgzkjS+9LJ0OLQJdRC1T/XttzS4KDmfe6o8zT1CvZ/+tkBVgeHCiIMcwvvCusLIw2TC3II0wdKBswFdwRyAgICAwKgArUIsRKvEg8OrguVEj4d8x6tI/ggnBuZHtMlISmwIvIgYyK4H9MbLBnQFJkPGQtDCZ4BS/Rl7VHtgumK5bDey9fw02PRAdSF0UTP0s9y0/bT+9VT2YjcN+O56n/vRPD48fP2d/46A6IGEAjOB8wKfAt9C/8IWQahBk4GsggUBbMFKwPmBlsHggztFZkT7xFcDEoYWR4wIQomeCN6IsYi7ihGK08kICNeJZ4ftBtUGLAUww/qC28JAQFj9azv7e7e6PbjqN2r2FrSJdBJ0mTOZs5bz+LSwNK81FvYst1p4ZroO/FP73T0bPge/ksDvQV+CZYKagugDJoNiQsECswKiQnACA4IKwU/Bb0EaAeHB7wOXxK4DlEOCg1/GMsbbRzeIOYcyBtsH1Aj5yOdH1keYh/ZGxUYFRbrEl8OHQuYB///RPVX8unwFeyZ6L7gbNyI1+bVc9gu1THURNRy1ZDVuNld3mngPuOO6SHwB/FE9qj54P5ZAmgFJQobCjgKfgz8DBMLjgwdC5oJcwjMCHoI7wZjBS8IpQf3Cb0Ofwq4CbEIIA/DEhUQYxKKEUEQExLXFDkXOhQNE4sVsBQZEQYRMhC4DIEKmAfsBEf/oPwP/dP5Y/Z380DyR+9L6kXs4usi6vno5OmT63nsUe5+7o/wkPHi9HX20fQ99pv5Cfyy/R3/PAC2/4gAAQL6AQEBmgHWAokA4P++/tf+jP5k/5z/vPyE+uP5z/tI/M78VP7H/Cf74/1oAQoDFwMMBrQGzwcLCdELMA7xDvkQpBJGEv4QkBNNE6kT/xEGEBwOzwwADZkLCwlsB0QFJQLq/13/Lf8T/XT7gvjL96P2hPbI9kz1qPT09Ov0/fJu89jy0PHW8bvxnfFy8E/xaPH879LvFvCJ8Wfxa/Bv8Tnx2vHx82f0XvVq9oj3ovlj+n78L/+VALQCeQQ/BhwJJQquDDcQ3BFhE+AU/RXJF38ZWhrxG0YbhhtaG6YblxsEGZkXjxV5E7ERwA/vDXIKUAd0BXYBhP/L/RT6Kffq87XyS/F271XuVu3K63rqzurZ6Nvojulu6c/peOi06I3qceuW68brFO1B7q7vQfEH8l/z7PQC+Bf5Ivqm/Hr+VQAiAggE2gTHBXsHtwnXCgwN3A3qDuUQ+RH1EyEUIhXaFT8WKxeUF0kXvhYUFtEVnxUUFYMU/BJ2EUgPXw3HCwgKQgjqBHIC+v/z/T38wPlw+L319/PX8pDxVPB37+3uWu7g7Vzsbuyx64rs4ezQ6xntvuwj7s7ub++r8bXxZPPz84n1Lfgz+dD63vpn/QH+n/9hAekBpwP+ArMEygXjBmAHNAhcCAUJ0gqZC4kLSAsKC3IKywsJDCcN5wyYDIgMlQt2DDQM1wueCwgL9QkACc4IyQf6BsQFmwStA4ECFwHR/tf9u/xc/En7Dvqt+Bv3n/dH91L2mPUX9Uz13/T09PT1kPRb9PD0BvV49vn1L/e4+BD4GPmi+F35lvrF+8n8uvzE/cr+2/6f/ysBSACjAW0CAQJjAl8BVwIjAoECjwMEA6MDfgNGA9EDHAUmBeMF/AX0BSYHtAeoCCIJ4Ak2CiYKpQojC+UKfAtWC1ILngrbCSQJGgj3B3MHBAawBJYDPgJ4AXwATQCG/kH9qPvq+q/6yPkY+Zn4Wfif9gD3s/Z69t/2EvfB9ov2sveR9xD4e/cW+MT4VfuD+6b2lfbI84vzcvNn9eD1JPL/85jz3vSV9Bj2j/Zg9c73NPjq+bn7iP4bABoA2QLkBK4GUwmtDYwQXxISFCkVyBcRGWYbXB2QHWQdhhxtHRAdxxs4G+EY8BXGEvcQaQ2dCrEHXwVnAZr8efpJ9zb00vDI7rrri+nS5mfl8eLH4Rrhb9/c3/bfyuCJ4N/hp+NE5U/n0+dB6ljsyu4Z8gz0o/bj95v7+v15ANECWwUJB84JkwyPDY4PxA94EycVaBbmF+0YSRqAGvMbNB3ZHb4d0RxWHGkcLhw6GzIanBiFF6UVTBOqEaAP3gweCnAG+gL7/lP8Dvqc9iX0l/AM7uzqaOmQ52LllON44z3i0+Bm4Nbg4uE44t/iOeRk5X/m7Oja6pPtWe8M8qPzO/b29wz70vwu//EAUgObBD8EPAcnCPAJ3QlGDDMMrgv+C2oNQA/cDokOMQ7KDqcPrRAmEPEPvRBuEeMR3BE/EtQSMRLCEpESURLMENIPhQ+LDhENywruCLYG8AVeBIICGQDl/Qj85/k196n0ufIp8V7wg+5/7TLsNet461fr+erB6uzq3es/7NXs+e1q7lrvlvAo8lDz1vTt9TT3UvnO+df6Lvvh+zf9x/xP/4IA3gB8AecArgMDBTgFFwZ5BkoJKAqdCoMNtw/pEBsRxBNgFlcYHBmIGTwazhp4HAccoRohGh8aRxmRFk0UGhPnDxoNHwoLB1QDBf+2/Hz5nvUr8qbvuOwa6YXnEeY/5AbjzuEV4Z7ggOA54ZjhUeLY4+3k+OW057fpYOrL65TuLfCR8IDx//Ok9sX3mPit+vn75vta/sIBZwP+AwwFzwZuCbcMRA9JEEwSpBfIGmwayxpFH/4iWiStJGwmCieSJVAn6Sd7J+wkWSKKIGAdphqhFzQUwg+hC/MGZAFe/LH4vPX78KfskegQ5I3g49413t7bYNlr2BbYmNil2M3Zc9vB3ObezN9p4dfiAuZd6aLrzu1l7mPwRPM/9lX4Ufn3+kv8vf5UASADZQTYBRIKLAylDCwO5xE8FUYXwBvlHkgf6B4II1gobSkIKV0pmSlNKEAphSn+J7Ek/iF0IJoc2hg4FScRFQwkCO4CXvxB9q3yIvBT6lzlqeHb3fjaKdl42GDWTtRH1EnVEdYe1o3Y/dqH3PXec+E/49/lD+rZ7QnwcvDq8ub1Lvhi+or7U/0g/qIAQQNnBFQFJggoDMcOLRCcEF4TzBdfHjkjfiNuInEkCCqeLm4vHy/YLAIsPC22LO8qdicSJVYhQR11GDoTdg48ChcHsAHe+f/xOu7c62zoN+Tq3ozaN9eO1v7VEtX3013TqdM+1BrW9dfx2nTdM+Ab4ubjmuYM6xvv9vCx8unzZPYV+OL5Jvsk/eH91/xR/RD/1QJYA7gFaQcqCegKIQ3NEtgYrSEkIXgfQyEMKkMy2jGYMdkvcjAuLgcvVS69K1cnpiFvHoIWlRI2DRwKCgbM/kj3ru3k63rqxOmY48Hditok2FnZidfK2b3Y+tiB2BPZutwY3w/jeOQn53Lni+hC6sLuvPKf8Yvxf/F985v0rPa390j3B/ZB9fL24Pmj/kv9kP9sAoIH9AqXC3IT5htKJwcn5CT3JXIwXjuGPAQ6xjI/NA0zJTUUMigsUSbDHmIaHBJ3Dj4JDgcJARD5Tu8p6NHpWulB5zjfbtpV2AXZGNoL2tvaIdsY2+rZNtyV38zjAefG58Xn0uf66ITtaPGw81fx4u458Gvxx/Tz9cr1CfOE8WPySvXc+df7GP0X/g0E/AeVCvcPkRq0KGsrjiiyJeIwmj/1Q8E+yjWONzE4PzhrMzQvkSntIVocxhSED04JJAekAb36tfIL64zp6OlN6V/if9yW2hXcDd1Q293aNNvx3Rbdw9xI3v7gqORW5jvnv+Vf5nroT+3z71vvE+3d60jvEPGA8tnxHPHg8I/vq/DJ8kX4zPve/Jb9nf+DBkIN8BaOIHkmiyVcJIIsNTqFQak9/TcBNPQ1vDUEM5ku5SdBI4EbghSKDhELtwghBB/9KfWh7qLr7ex06wHnzeA63hDeM97N3tjdwd1E3WveQt5B3wDiuuQe58LnZul96TTry+6Y8uP0avJV8jbz5vZ9+Yr3cvc49iL33/b29kP42fnv/FMARwOHA4AHZgziF0Ek/SitKLMiRiq+Nvw+9DyDMgQuySwLLjErYiWwHh4aiROzCysFhgFSAYr+E/m68LrpUugD6ibr/uep4RDfXt5/4Ajgk99j4IThd+P04TLiEuRL6HvqwOwT7QPsVOzu7oH1j/br9ODyP/TQ92D4tPcy95b3wPXO9XvznfYi+Sb9RQFeANECOQNaDbQZXyfOKPsjgiFiLHU7RD5UOnYwpS8RLCArMicZI4we8xaREK0IHwW+AfwABP8l+zb0B+2F61fu7fCD6x7mbOO25NjkzuJM4tfibORq5HfjWeIJ5Xrneuvx7Mzs/Op36sLuQPZX9xL0UfCj8bD26vb+9rf0EvZj9WLzEPBw9Df7rwJFA2YALgGtBIcROCFKMNgvbiGmGPwmRUD2Suk5LSQ5HAglrCvJJmIcDBO4DloICQRXAAIChAHI/+n5WfI37bnsqPPH9uny8+aG4BbjOOnw6YblGOO/4qzi4eJD5Avns+k86rLsXuuJ7O/s5fD39pL4dvd68qjyHPa3+gH7Yvpz93T0WvTb9Hf7CPy2/q/+YwB8BDgHMxEvHeIpgikcJMwiRjDhOh88IDTmLLUpFCQ/IW0d4huqFWoOsQTyAK3+mf8n/pX9Z/xA9RXvJOyz8lP1yvLY6mHlA+Rv5Evl+eMk5KjjneIH4NrgzePo58vqPe3E7drqpes+8Pb3m/iD9qPy8vR09V33t/aG96v4+fPW8kbwGfjw+hL/av8TBEwHWgrGEXwhYjGkMmUqriXkMIQ8xz/vNWAtAiWWIYMc3BqQFr8QNQoPBIMBS/7X/cD9tP+l/of5PfIx8Qz0TPfz83Dugulq5uDkEOTs5DXlGeQC4RrgHeEF41flEujj7GvsZOvA6uHvl/Yt+Zn4SfRX9Gj10vh9+O73ivT38lzxGfMF94P6+f8rAmcF+wUZDNcbWi1+NV4ujybFK5c3uT9wOnUvzyXpHmgblRcwFCEPLwj9Alv/8/5I/eL8bvx+/RX8S/fq8jfx/fML86vwOeqR5R/i9+HD4y/jv+Aw4JreuuFw4FfkQeik7D7xWe3f7tPvH/ir+677jPg9+IH4nPo4+YH4z/X68+jyKvST93L6dv0T/+0Fbgq7EYEY8yhuNc837i+kLZQ1tT3fPSA0pSfFHsgZ+xYvE5ANrAhUAPT8r/we/9j/Yv0h/Z/84vod+M708PRH9fvyPu7D5y7jF+GP4BfjEeIR4Ujevt4Z4tTk2+hu663vL/L+8b3yifQx+Xj7Afq090n2E/ch9gj1ffIj8WrtvO3C8JD2N/oR+o/+xAT+C5MRGBzDLqM4/DWmLGAtSThQPGk59SyrI6Mb4hRiDzkKTAgwBiIAE/24/C3/nv9E/mUCNwMLAgb78PhU+Mf3kvJ+7hbrcuZl4archt8+4VzkReH54f/i4udj7JjwVPWG9Vr2gPUL+sT6Kvrr98/5AvvS92L0n/I/8lLwgeyN77z0uPkf+hX4lwAvBesNNBTlJpg5zzsSMiUoaDGtO449uTInJX4aeBGkDL4H+ASVAm3/cfzE+qP8Sf4y/34COQZzBeX+Q/cj9yb3WfUz7f/nq+QO4S/dS9pM3nLhyuSx43Plaugd7kTzHveV+Jj3+fZ3+A76wPlR97X30/em9iX03vDf8WPve/FU7SXy1vU2/Zn/9AIXCFUMBhV/I004cz0FOlgrBDBpMEU1CC/RJpsckgxGB98BeASWA8MCbP8EARADugd7BS0ItQlTCm4G9v0r+N7yre9q6gnmQOEM3+7ZHtqw2ljfgOLP4wDoe+r48Ifyivbh9x/4v/dQ9TD4GfVA9ljzRvUG9LfyafGC7tDvl+7a8A/vIfUy+Wf/gAHQB1ILxxJHG5kvYUD0QRc5cyhpMCQwpjawKk4dxRLQBUEGU/9m/34AXgDpA64COgXlB5gGmAuaCWMJZQEY+eL0Ou9W7BPlTeDb3GTas9oW2jXdU+Ad5BrphOub8CbyevYE+fT5/voi+H34PPeo90T4CPgb+n/4+/fY9DnzifPk8rrzOPLF9879oQFhBFUEMQvQEtohsTabPkI+ZTBkK7EsxSkaKxAg6ReqC2cAt/5E+Rr/vwBwAhYG2AWFCu8I2ArJDL0LTgeb/0v3YPF+6bXk7eAN3lzcd9gj2nPbL+DL49roD+008Fn0wfeY+WT65vlF+nz2zfXq9G/2pfck9k33dvN69azx+fPh8rHyYfNM8qf7if8nB2oJWglWEZsW0yvlO3BCmD8GLY0tXiepKLcjDxkTFxkJQQTo+yT6MgAjA/sJCg3cDfQO3Qp8DCkNIAmcA8j4OPUq7uPmr+Dz2mLc3dk12wTb4Nwf4r/lsutb7dHvwPPE9Xv6T/rw+EP0WPEi9Zb2ove085L1jvTR9eLxY/LO8uHxzfF674r0Hfkm/5oCzgguC9QUpRd5L/o9Jka1PZEq0y6II/knjxxcGXAV0ARLAbv4uv09AlMB1wrHC1kSsw/hCtcOwAlqCTj+ivjc8p/qPuVR3zLeN93x2Tbbad3Z4RLmyee17VPv7vLv9Ib28vk1+Nr2N/Te9JT4Ivj/9x72T/Z09f3zZvPl8+7y3vCd7SvutfEU+nT/sQQyB7EJNhOiG5E2/kAxSBg6cC3nKwEg/iK4FeoVsQwmAu/98/Si+2P9rQRiDOsPoRVuEpMScREqDGoIGf4Y+i7ykevQ5dTd5dyB2Cvastsy3wzmSug27bzulfJG9vv2LvpO+zX7oPda85L0v/Y3+AT4cPW59u31KPYy9Jzxw/Lk8DzxAPDf8eD3dvoMAaYEmwgDD84UtCsfPHVG8D46LkArzyFsIZMXFxHmDi0DcQCp9zn5Cf8PAnYM2g71FYUV4BFDEj0Ofgno/sD1uvFA7K3mr+HD26rd+NnZ3FjfmeVY7UPsDvJC8dn1ePUA90z8+fvC+yb1QfV49nP3B/f69fP41Pjp+Jv1jfPt8QHwDfAl8Hv05Pk5/scCdQbyCSUPBBXYKKA75EeAQq4w4Sj1HT8duxVAD9UJ7//n/1P77/wt/sYAXwkBEcsZyBvOFxEUIAw/BIv8yvSJ8U3p1+Qp3j/aU9lb1i3Zctu84znppuzs71Dxe/J08cPyKPdq+mX7Hviq9TrzDPLR8yD19flm+bH5AfcQ9GLzfu+P8UnxefZH+zb/RwOsBMkIZgzjE9AfyjT0QeZI6Dy5MDAnRxvwFzELdwykB0YEJgIR+wj/vP0KBZEOaBbRIOodARqIENIFAv8N9BDxCexO6A/kFd3S2tfX3Ney3JXilez48LjxKvMT8eHzXfJp9Yr4o/qP+vb1JfTl8iLzoPJ79Fv4MfsA+Fb0Y/Da8Kfv3O7U8IL0rvwFALcFzwfMC90QoRWdKIU5jUmYRE04PC6tIRIY9AlaCLUIkQhzAkL95fux/y4CWAjkEBsawx7CGmwWXw6eBXz5BvIc7Sfqw+Tr33Lc3drf2d3ZztxA43jq/e918VPzfPIW8obyAPRH+R35ofkG9qb0bfMT8Z3xafOQ9w/6W/bZ9Obw4/Fo8a7wJfXb9xf/xgDlBEUKeA5xE74ZZSoNP+ZH+EObM30q4h7IE2UJnQQBCRwFWATm/c8AMQMVByUP4RR5HbcczRnqEyANJQR+9nbs5OZD5cjjEd8/3arczN3J3+HgmuZh60TvhfAi8RHz8/NL9Bj2n/aM9zj1O/Mx8zn0NvYb9Rn2aPbT9qr1yPRY9HPzmvFr8y/1uPkf/NgA3gZUDE4R4BKLGYUrHD61SAJC3TM9Ko8b5hLVBFIDLwRoBO4FcgLKBdAI4gpLEtYVaR0UHmAZ8xdRDb4GsfTq6E3jjeDL4ZbeEuBC4iLh9uEU4cDlZ+oy7X3zKPTx91P10/UC9hj1RPQ08EHyXPM+9v/0aPNN83Py6/Fd8Zny5vTZ8gTyp/HP9Pf4e/vhAbAGfwzfDkETMB3bMSk/1EZlOXYv+SO8FfwNp/4lBkgDCgisBZQD5wr5CkIQZxLRFswdvBq8GacUJwzCAa/tIuaT3S/ei9183qfjxOPR45fgbuFq5lrqefBp9U74qvnh9qn3RPWd87vvZ+6K8TD0/PVz9JjyzPIT8T3wu/CD8pz13/Kc8x/ybvVd+ar9GgYEDOwRdxNbGcAmUTpCRX9FTzhiLicijxR1CbH+CAQXBAMKsAgsCiwOlg+IFFUVfBkVG0obfxhTE68H0fno6L3eodis10Daj92t4i7iXeKd4Pfg1uLa5RvtbPI89xX5YfiM+c30K/Jb7dPtrPFo8zn3BfUu9C/w++wt7STvyvOK98j3N/n495r5Ivwo/0wFgglRDkkSuhdwJF42F0CkQzs2MDDJIxQXGQ5RApIJPQYqDEQLtAsNEQwO+BEBErAWwBpBGQEZYRQyCpf95usY497dWtzP3jjfOeXV5FzjL+La4D3lLeee7Xjzsvf5+vj4Gfr49Xn0pe9B71vxSfLd9KrxsvNq70vuUOxW7nry+/O79MP1DPeb+3j+ogJACDwLexH9EV4ZbiSrNJc/Jj+cNScuTyBfFqsHDAKjBfUF5A7UCiMSthBhEWESfRGVFrUVnhaRFGIP9QUT99DoiODZ2zDbiNv23k7jAuaj5Rbk4uIq5Rno3ezy8F31oPcf+RP4E/WG8WXscuyN6x7vJ+/C8FrxgvBJ8FfvjPCu8kDzifQ69Tz4e/xU/oQE9QXADPMMNhP+GSIqHjzcQplCvDR1MMcgGRa7BxsDWQnzCOsPfgxcE5UV8xRLF68T8RiZFZwVfBMPDeAE3fQc6bDfDNvA2qXaM99P44Lliub94wvmquWQ6dDrp+/V86T1CvgI91D28PEE7rrrPOzo7XvvpO++8K7xLPNy87Ly+fNU89X0g/Tb9qL6vv5BBTAIeg2PDqwTHBnDKD83kEAbPSQzLy5cIPAXAQZYBXkFewnXDCALkBO/FKkYpRXnFA8WbhQIEzkQhQxdBQD5YO0F5ejgIt8i3tTfy+Ly5AnlKuQH5V/nYepf7cXvGfN69cv3EvjR9gb0KPBK7pPtqu327gbvpPFt8dnyIvMs8or05vDt86nx2fZp+Xj8IwRXBqIO5gxSE+wZJSr8OG89QTvZMmsvsiLSFqQJnQdOCkkLaA6RDQkU0xUMF3kWwRT+FnEUgxTQEQkOaAV8+Y3ukObY4dbdJN533rvigOLA4kTjAuNz5zTnjeyY7Y7x5PNh82f1l/HZ8T/sFuzb6kPsMu7a7b7wou/m8qbxovLz8n3yMvRF8k/2mfcF/tABDQfqC0IP6RYlHYwuzTe4QBk5WjNMLK0g7hcqCY0LOwonDwkPSQ5fFI4V4Rj4FaoUGhaOE4UTVw8yC+MDRPfo7VPkSeGi3tndaN/+4HviXeL14hDkqeZ56Absee6x8g31wvXw9hz0VPJf7Unsz+xJ7drvgPBi8wXzjPOz8lnz4/QF9eD1tvVQ+Yf7agDPAl0IKAzeEDcW7h5WLiM4pz5TN+EymCm8H/YUegrqC3cLZg7ODOkN1hKXFJkVShPAEr8T+xHbEJANVAgOANLzEeuQ42bg09123drfueEG4kDhxeLy5Dzn6ee56mHtg/FY89r0qvTa8mbweex47JfsVu5n78vxZvQ49OX0LPOR9Z71pfUF9Wz01fnu+3ADTQQ9CxwNAhJDGKEg3TACNxk+7TWHNOUooB7LE5MLiQ7BCo4Q4Q4rFd8WEBclGKAUghZvEjsSWRC1DZEI4/1k9cPrAuav3+TcD9003tTght8o4t7hROWg5WXnberE61XwG/Eg9X/zy/Fw7XHr0usn7Ortde7y8f7xNfQM84jzFPS38kL0rvET9mL3Vv38AQcF8woRC64TyBgXJ3kyjjodPNs2gTNFJv4c9RCwDoINSA3CD6YP9BWHFaQXDBZ6FeEVIBJTEiAP2AylBbf8SPTj67PlYeDF3d7dy91p3fzdnt8i46DkCuem6OHqwuy57kjxvfLB8k3wsu4b7QHuq+1L7x3xrfLO81Dz2vRH9bL2GfZD9tD1nPhP+uX+3wCfBGgJBQt3EzoXdiZHLmk35DeCNBUz+yWFIG4TvhMNEF8P5w8dDxgW/BS/GMMVzRYMFVAS0BDhDRAMfQSl/YH01u645+Diyd9p3v7eu9wb3i7fTOPN5Z7n+uk46r/s0u3F77Hwwu/N7tPsgOx67OvsB+6d7qvw3/Br8oXzAfXt9fH0x/Tk8zX38Pg4/ikBfAanCb4MzxLrGB0nni7kNsk1KjW+MI8mqh8lFgYWmhHDEC0RIRLYF1IXMxkYGHkX5RUvEeMQuw1uCjsDmfpW9Hbt++f+4n/gmt/43Vbcttz53lnifuTM5mbpHuuz7Jntae7t7j3uLe3D7DDseO297dDuqO/g74nxivKS9B/2Bvb39V30DfXM9jD55f41AgYJwAoTD7ESCxpDJXYtATWvMyU1Si6DKKwf7hlGFzQS9xKGEOQTYBWoF1oZ5xeBFz8UIxL8D48MPwhiAe355/Pg7WHpWOVa4iXhHd6w3MLbBd2I3/7hbOXK51LqRuzm7W/uC+7t7L7rK+sW7Ofsc+4H7wzwj/Ao8R/zufMG9gb1MPWK8yf08vXo+P/9DgFjB0UJHg/4EqkbiyUPLSczaDIjNAQu1ikLI6YeBByeFqAWLBTYFqAXphg6GrcYKhntFVIUhxHNDCQHFP/C9zDxLuzp6OflsuPX4Znextwf24jcEd6h4Arkj+Zt6QfrM+2l7bztiuzO69PrsuyL7ZTuVe+d70TwRfHS85L1qfcL+H335vVi9h73lvrm/RkDAgj7CfoPbRLdHOYixyt5L1wvfzHMKlgqEyK6ITEdDhmMF58Uixf2FfcYdBiuGZQXahZEFKcR7Q3hBggBfveO8o7spukV52bkhePg32/e0txz3Zze3N/44r7kKOfh6L/q3ets6/HqRerf6pPrf+ys7D7sdey47Lfu0fCN83j16PXA9X70LvXf9Yf5rPyWAdMEqwjbDbgSyRtvIsYq+izdLtItbyshKWAlOiQ1IMcdixpjGtkZBhpqGdgYIBgfFm8VfxMIEjgN1wcMAbH5EvSQ7njr2+d55TXjud/+3S/cH91a3bneeuD94Yrkk+a66MXp9el56ZTqOOsl7Wrtz+2K7f/swu3k7ujxE/Rp9lD3Tfcn96b3UPlY/Kr+BgNPBc4J8g2bE30cLCKFKlgriS7VLPwrIiuqJ+YnoiKAIdYd1x6lHhQenh3uG+0aBRi/FisU5hE5DPcGmv9H+arzgu6i69bnkuWL4hjfzdw221Xbi9uy3A3fm+A348rkAect6F7oUukq6rLr+Ozi7d3tR+1x7H7sbe3/76jyiPVR9+v3F/hv+KT51/r+/M3/3gIvBvoKoBCUGMIfZiaSKTYrbyt5K90qryn0KGAlmCNrIAkhDCAaH/0dZxxQG2QY1RZnFJwRKQyqBlEAt/q59ELwKu1P6czmyOLN3x/dhNsu2+naItzQ3LbeGOCQ4S/jMuRO5YvmD+hG6hvs7uz17QjtBO2K7MDtgO/G8Qf1vvZM+JD4pPnl+qf8vP5ZAawDIweHC48R/hikILkmQyoALY0t+y7HLkMvMC1iKkIn9iTIJMwiLSLeH78e5xsJGoEX6RTlEIULGwbN/h35W/Jq7jvqbudu5OPgJd6i263a/dms2ararNsh3RjfMeDB4YXh7eLV4xLmnejc6mztfO6I7l/uUu7V7vvvT/Fx9FL1Yffr+Af7UP1C/rQAFAJQBH0HvQpAEeQWNh8VJa0oxSxxLL8wDTA9MuMvbixfKuYljibZIicigR5uHBMa/xdDFvYT3A/BCgEFbv3+99LwLe5V6e/me+NK36jc6Nm72RfZy9ly2rrb2tz03oPf+uCs4LnhIuOZ5DnoJOrc7S7vmvBB8SPx8PGY8kr0FPYV96z4wfk/+4f9v/6bASwDdQVsCCoL3BDRFV0doSIWJhgqmyq8LTouCDAzMDctdStXKGInLSX2IZwfoRvRGG8WEhRrEqEN2AmZBGr+yPjX8njv6esD6EPl/+CE3bDaXtkX2rfZX9tN3KndsN+t4Hviw+JW4/jkQuac6VLryO3a75LwSvIl8n7zPvQA9kv4Ovlq+h37vPtD/Wv+egCBAr0D4gZDCc4O2BOEGp0gOSSoKNkpTi2GLjEwsTBaLqssKCrtKOQmtSP4IOEckRnxFmQTIBEgDMUHKQIm/B73WPGD7ZvpI+Yk4w7fzdta2bnXC9js1zrZwNkD213d0t6V4EzhxuKx5Hvmh+ng60XuXvAe8f3yT/OL9N313vb3+Hf5ovqT+nL7BP36/UkAowGrAwEGvQgzDQYSHhiDHQciLCZFKBUrIi0lL8MvgS7xLCUrCyqTKJUmPyOhH7cb0hi+Fb0SZA5kCbQD6f3U+NzzJPAF7KXoJuXZ4b3eVNwh21nacdr42nXb+Nyd3qfgv+HP4lvkCeac6KrqDu0Y79DwRfKE84b0hfVt9jD4e/mJ+nb7mPtl/ID8KP5a/0gBJAO0BJwH5QkNDgISmBcSHPMf/SI0JScoCSolLA4sPivjKaooficiJtIjjiAXHTYaQhfxE0AQHgsTBsAAqfsC94zys+6j6vzmreNK4N7dw9v+2qLartok2+jb99xl3rHfw+A24gnkyOb+6GjrH+2b7hvwhfFU8zn01PVg94L4KPof+zz81vw1/fP96P5nADEC2gNSBpgISwsPD7oSKRgOHFMgKyOjJY8ofSrNLKUsrSyGK3cqUCljJzUlbSJrH+kcXxmOFfwQyQskB3wByPwX943y7+2w6RrmKeIB3wTcVdoR2ZPY8dhm2e7Z6toc3I/dNt9t4fDjbuZi6UrrNu3V7lrwSvK+86j1Wfde+WT7HP38/vn/rgAgAawBlgJdA1YEUgWZBu0HiQmyC4gObhE6Ff0XUxvEHQcgcCKWI/YkrySgJKojDiMOIt4gTB+AHR8bbBgkFcwRYw52Cs4GhwKj/gz6GfYr8nfuAutl583kc+Kn4JnfGN8x3ynfXt+33/vgteLZ5P/mwuhN6qnrYO2K7hjwa/HW8qT0M/b097P5wPtn/QH/lwAdAk8DKwRbBVAGPgfEBzoItwiTCW4KbgvhDKAOrhAkE0MVFxftGIMaMhwfHfgdHR7lHY0d7hzEG/8ZJBjbFaETlBFWD/UMxArvBzAFKgIt/9P7nPjN9c/yXPBg7S3rGOnr5jjlFOSx45/jA+Tn5HvlQOYW5+Pn2OiS6VnqIOs87FDtru7H7zPx8/LP9PT2Efkl+xb9Dv8WAfkCaAR6BY8GeQdICOYIVwnjCdgK7gulDMsN5w5+EDAS+RO4FRMXGhgKGQQaHxr6GTcZ7BePFtAUPxOXEYoPFg6CDPgKMAkmB1gFUAN6ARj/qfwa+lX31/RJ8g7wI+6C7FLrt+pt6h/q9en16WfqyerY6hnrKut969rrC+xx7ODs2e3t7n7w8/G187f11vd4+rH8/f7CAKkCQQS4BdIGwQeWCAQJgAmzCS0K8ArgCw4NZQ59D9MQdhLlEx0VGRaUFtwWmBZkFroV8RTxE6ISTxHaD34O5AxfC7gJOghsBoYEcgJXAOz9XfuV+N/1ePPv8MLu4OxQ60Hqgukx6UrpWenx6cHqmutu7CDtpe3p7W3u8+5z7/3vavAv8Ury3vN+9Vj3SvlR+7v9DgCSAsAEfQYJCMsIhgkQCkwKkQrGCvEK5ApSC5ELLgy9DG8NPw4pD/oPkhBMEcERaRJmEnsS6RFLEbEQug8FDxwOMA0TDL8KVwn/B1YGBAVSA2QBo/+a/YL7Gfmq9jf0DPII8AbujexN69/q6ery6m/ryuvQ7B3uXu978HPxVPIS8+Hzi/Qh9bj1afYT9yH4evkM+838pf42AM8BbgMLBasG2we3CE0JdAmCCV4JwAgdCH0HDweQBmYGaQaHBvsGeAccCIUIIwnRCZIKbQvrCw0M0AuiC1wLtgpPCugJfQnmCAMIXwduBlIFAQTpArMBPAC0/sj8Hfto+XD3rPWj853xIPDs7mbuJ+4H7iHuqO6Z77nwHPKk8x71bfbR9zn5evqg+6r8iv1Z/jL/9f/uAO8B3gILBA0F7AWaBikHwwfxBwkI6weoB1IHyQY4BsUFSgWoBDwErwOlA6UDpgPTA7gDCARtBMwEOwXoBa0GDQekBywIWwhrCGUIhwg+CMsHKwdPBpoFlwR2AxcCuQA0/8T9cfwg+8X5jPi293n2hPWT9NbzZ/P88uXyBPM5867zV/Qh9R/2avdn+KP5Q/uL/Bb+J/94AJkBdAI1A7sDZgRcBLgEugStBLUEpwTXBLsEuQR6BGoEXQRQBAIEkAMgA4ICvwH/AIMA5v9e/+/+zP7T/ur+Qv9p/9D/SQDaANABnwJOAwoEiwTtBCgFIQUbBbAECgR+A9ECAgJYAW8Amv/M/iz+kv3P/Er80/tb+7P6TvrU+S75vPh++Gj4Vvhs+M74a/lX+jL7UvyU/a/+/v8AAfgB1AKDAykEewR1BC4E6QOyA2kDFQPLAoECLgLWAYEBUwEZAYwAiQBdAAAAnf8Y/57+1f1W/bX8Lfzq+5n7jvuZ+5r79vsu/Lj8W/3j/af+of+NAHoBbAJYA2EEMQUlBuYGrAcjCGwIngiDCCYIxwdaB74GEgZIBXEEfQPOAugB5gAcADr/gP6r/Qv9cPzZ+3z7GPvm+r36xPq++vP6O/ub++v7YfzZ/Dj9fP2+/dX96f0c/un9+f3h/eD9hP1P/ST9uvxn/Er8Jvy7+3f7Cfun+j36y/lq+Tf5yPiP+JT4rPjo+GP5O/pA+5b89/2v/5YBhwPlBWoI5AoiDYYPpxFsEzUVeBYsF20X9hZiFkgVjBPUEZwPOA23CmsI3gWAA2ABU/89/Vn7gvmZ9xX2uvSI82HydfGO8CrwAPBR8M3wx/EB80H0Avbi9/H5l/tD/bX+pP9tAMsA7QDXAFgA1//b/hD+Kv0j/Ez7UfqV+bj4Ffh+9xj3ePb99UH1ofRn9Ef0lPQw9S323vf4+WX8f/8dA1cHzAvCEDYVvhnOHXAhbyREJjsnAyfPJZ8j6CA4HfYYXhRKD3AKywVGAUX9eflC9jzzgPDl7Z3rp+mA5wHmteTA4yTjG+P74xPl8+ZT6U7stu9R8zX36vpQ/nsBFwQSBm8H4QfmByoHUQa0BD8DtQEAAG/+2fyt+5z62/nW+Pn3Rvef9rz18PRN9MPzgvMa9Nn0Y/bK+MH7TP+aA1YIfQ0/E8UYQh5BI5gnISu+LbcurC78LFkqUCZ3IRAc8BXYD0oJOQNZ/UL4ivOI70/sSunj5u/kUuP04b7gEuCy37DfXeBt4R7jVuVK6Mnrae/H8xz4XPxhAOADDwdsCUILGAwWDGQLOgqMCG8GbAQ5Ag8A8f1F/K36V/lx+En3oPYH9nT1tvQO9MbzhfPA81b0dvUh97b5Cf1EAcUF8gqrELQWtRxFIoYncysbLwQxxTH2MAYueirtJAIfLhigEEwJ3gGC+0H1I/Cn6/XnceUM48Lh0eAP4HTf4t7Z3rjeJ98e4HbhhOMV5r3py+2E8mP3UPwuAXsFYwk9DCUOOg9MD1YO1AyZChIIRQWZAhQABP4o/G76RfkY+HH3hvb+9Yj12vRn9KrzhPO981b0nfVb9yL6p/0AAg8Hxwy7E8oaBiLJKK8u5TO0N905PDpkOKU0EC8tKB0gIBcODmwE4/vw8zDtm+fk4tffIt2a26PaAdp62eHY+9jx2DPZ+tlp25jdkeCH5CPpsu6I9L362QCLBpQLqQ9/EhUUsRTfE0wSsg+3DEoJFgYIA0UA+/3A+xr6m/jQ99v2KvY39XH00vPa8kLyuvGt8SvyZfNT9Vf4Bfy5AFkGvwyEE/wavCK7KSIwbzWkOZM7oDuuOWw1Xi+tJyQfvRW7C+QBqPhi8BPpTOPm3ofbjtlP2P3XBdgR2GHY5Nil2XTa2dvX3XPgEuRp6MHtifOb+SIAUgYxDNQQjxQ0F0MYGRiMFikU3BDjDAQJDwVjATH+ePsy+Ub3K/YB9Wb0wfMN85PywfFs8d/wsfDk8Inx6/K79Mj3i/sWAKYFpAt7ErYZfSH4KNUv6zWnOrA9lT6CPcU5RzSULMQjiBnZDm8E/vkL8c3ooOKW3VnaSdgh11PXkddP2ODY0Nlx2nbbsNwv3tLg3eP05+HshPJ3+NP+/AS1CvwPvxN3Fl8XLBepFQYT/A/TC+UH7QN1ALH9O/uQ+V74jvcR98f2u/ZX9uH1WPWm9CT0VvPH8g7y1/FC8gzzkvTM9rr5lv0pAlQHZg3IEwYb/SGQKFAuHTOoNs83RTd5NLAv3ygJIWAYzA5lBX/8rfT77QbpBuVj4kXhoeDl4DXhpOG34aHhc+FJ4bXhMOKX4/vlRelt7a3ykfim/mgEvAlPDsgR4BMvFGwTNBFyDuYKBAc6A53/2vxB+rr4l/fK9uv27/Y290z3Ivfk9iP2h/W49Br0BvNH8iDyN/IZ8y70TvYP+cz8MgGyBtYMxBO1GwEjRSqCMOQ1zDl+OxY7UjiDM0gs5SN3GmQQRQZu/Cj0++xQ5xLjZODU3iHeH9793VreKN773fTdK9563kzfGOG848rnpuy58iz56f9pBooMhxE+Fb8XHBhMF/QU2REbDt0JoAW3AYj+9/ti+k35r/ic+ML4Fvka+db4cfiv96T2bPVc9CrzGvI88dTw8fBy8V7y3fNR9lT5af0cAsMHOw6SFXYdsCS7K8sxxDbAOVQ60TjsNPYu/SYQHlsUNgqrAAX45vBK60DnpuQy48Di4OJf45rjh+Ov4vbhZOHK4ODgTuFv40vmh+pi8In2Nv23A94JCA9HE70VZBaiFWsTNBA3DMAHmAOo/0z8Nvqc+DH47/eL+Cb5o/ko+mz5FvmD9w/2N/T+8bDwxu7m7UjtXO1e7tHvq/KJ9Wz5AP5IA4UJrw+AFw8fcSZdLSgzezg9O0Y8zTrhNu4wtyi8H38Vsgp9ABr3N++q6OHj8uAN35jetN5J3xvgceCs4ErgN+Ak4Hvgs+GD4ynnlutW8fL3vP7yBU4MARI2FusY4BkCGcgWNBNOD9gKtAYFA4r/sf0b/KD79vv6+6X8VPxB/Eb72PkT+HX1oPMD8Vnv3e0I7QDtK+177vLvC/KH9Dn3l/oj/iACIAchDOQSihkzIPMmsCyFMns1PzdTNj0zLy4eJsod0xPGCRwA+PbI79fp1eVz4zrih+Le4gTk1uQF5RzlV+T640/jYOO5413lhuiH7EfykPh+/yIGTQy/EboVLBjrGLYXbhXNEXkNBQmHBDgBtP3K+5n60fnq+a/57fly+dX4VPed9ZXzLfFp747tnOzq6/vr4OwP7tLv6/ER9HT2uvgV+07+nQH/BeYKPRHCGC4g+ycAL7k1XTq1PKA8ZjnnM7Qr3yEGF8wL3gDw9qrujuiN5FviyuFW4pHjjeTU5UTmvuWp5ALjKeIo4ZThFOP85RvrB/Hd+IUAgwgYEB4WLxuXHTsepBxIGcEUQQ+9CWME2f8Y/IT5EfiG93T3nvew92X3rPY49YHzKfHP7ubse+vV6qTqcevi7C/vl/FW9PL2KPnj+3D9p//DAZ0ESAh8DBoTihl0IZ0oki/zNZg50zsXOkU2Iy+1JXQbtg94BL75qvDW6W3lTeP24uXj/+Xn55Lpk+pO6nXpWeed5crj0+K945/l2+me7xH3aP+jB+8PdBawG6AeIh+SHZAZaRTTDUcHzwCV+2D3TPRD87zy6PPf9CP2HvdK9yD3mPVC9P7x5e9J7t/so+wG7QPuxO+/8QH0L/b398j5i/oJ/LH9lP/fAq8GzAwSFHEc5iSoLHs0+jlbPaY9vTouNUcsECKLFtgK+//k9Tbu7ujh5cbk5eQS5nbnh+gv6VnoDefK5D/i2ODE363g1OJU55bt4vTI/XAGBA/IFfgaAR5aHsQc4BigE4INJAc/ARf8dPhi9hv1bfUU9l/3Wviz+DP5zfep9nr06/EC8Nrt+exe7AztY+7g7yHy4fOZ9Tb3rfdM+I34M/mg+oD8sgBvBfgMzhUHHxspfDEMOhI/nUEPQS08YjW0KnIfRBMHB5j87vJq7Bno6+XK5d/lMOcE6BPo2Ofb5crjyuBS3vbcitz53n/if+gT8NP4ewLyClsThxlnHV8f8x0zG3MWcxBiCq0DB/+V+sX3nfaw9S73y/dC+SL6JvpD+nX4Bfdk9CjyMPBe7tLtju2k7jzwG/Ip9Pv1PPce+BP44veM9073Bvgt+dL8mAFtCJARNRu7JRYvvjdQPpJB50EvPrE3rC43I4kX5QsIAe/3oPAV7HTphuik6OTodukR6eHn5OXa4rvfw9z72rPaKtwz4Oflyu3L9iQAtwmYETAYUxwUHrUdyRp5FqcQyApBBUAAj/zk+eL4tvgr+YD6Lfvj+9z70Ppu+dH2gvS38WTv++0X7ZrtTe5P8G3ylvTC9rf3W/hC+Jv3avYs9av0C/UD9w/7sQDsCOcSdB0YKFYx2TksPypByD+5Olkz6SjuHZESjwcw/kT2FvED7qPsgeyS7LbsP+yq6pHoMOWa4Vvezts82zXcp9/c5Bzs+fQv/ogHkA8xFp8avRylHFQaVBYxEYsLIgaCAZT9CPtf+fz4U/nG+an6pfqc+rn5MPiu9kL0mfLa8Lfvne+n7yDxfvI+9Bn2TfeI+F/40/d79rv0OPN28RvxkfGx88j3cv1TBbgOExk9I2sscTR0Okc9CD18OWIzMythIaIXtw0SBcn9H/ij9FjyU/FP8GzvI+4i7JXpF+ZU4uHefdyg28vc79/u5G7rgPMI/KwEhwx6EtYWhhirGPUWfBMWD1MK3gXvAen+p/yl+0j7l/sO/Gz8f/z3+/P6KPlW9zv19/Jg8Sfw2+8U8PHwZvKk8zD1CvZ79lT2S/XM85TxYO+Q7VTsWuz37S/xQfY7/RIGiBBeG8Ql5i6ANjw8kD41PoE6uTQDLbwj/BruEUQKVgP6/YX62fcN9hf0DfJw7/TrLujj42rfx9tE2enYUdq93S/jHupc8sn67QIbCnYPChOSFEYUnBJuD+oLEAi5BCoCjQDw/8H/fgAbAfMBUALuAfUAHv8o/Zb6Hfjk9T709PJB8lryiPI/85rz5fOx8wnzw/EI8D/uAOxs6gTprOhV6UTrye4386L54ACmCXwTxxzIJQUtdzPoN9s5gjlxNtgxQCtCJAcdAxZMDzEJUwShAFP9+/kD94Dz+O/l69Lnx+Mn4Hvd3ttC3GTeF+IH597saPP9+R4AQgXxCDkLAQzkC7AKGAlpB78FqQQ+BEcEvAR9BRkGfAZQBt0FVQSmAmYAyf2j+x/5b/fd9bX0K/SN86vzOPPc8mrySfGx8Gfvce5s7YDsA+yF6wDsxOwk7lnwMfNF93T8jAI5CiMSvRqUIp0pTzBuNPk2rTZ3NGcwSireI6ocphXtDqYIwQPb/9P8//n49ln0QPHL7UHqwOaQ44Dg2t6Q3pbfG+K05Vnqpe899az6g/82AwsG1QftCF0JMgnhCHQIkgjbCGUJAgpxCpgKTAqECVQIhQY3BLQBBv+E/Pz58ffx9U30MPP08UHxNfA/78Tuye0X7Wbs9+vK643rueu3607sYu1l7iPwr/LH9Rz6MP+IBRsNpxRIHB0jcSlsLj8xNjL7MDwu/CmhJDUfrRleFIoPhAt/CAYG/wOIAeT+D/x9+L30ivBh7LToh+WS49viaOMo5dznduuP79nzvfcL+/X93P8wAUkCzQJGA4gDBATFBLAFrQYyB7oH+gfXBy0H0AVQBFoCQgA9/jf8sfrl+F33JfYC9T70HfOL8rnx3/Bd8Krvku9m72PvYO99767vUvAC8ZXx9fJa9JL2GPmi/BABGwYMDKsRABhyHSwiCyZFKIUp+ShJJ1MknCDcHBoZcBUQEiwP7gwZC3EJrgdgBf4Cxf80/Gn4TPSt8C3tq+ob6XnoDuk/6m3sFu/B8Yn0Gfcf+aH63fvL/Fz9pf0J/or+Hf+h/6YAPgGrATUCEgIrAqgB0AC//4X+Xf0x/DH7FvpL+cD4LPjK91P3lfb89TH1b/Sy80Lz2/Kv8hzzrvOl9LH17PZe+JH5e/rW+wH9Nf6u/z0BcAPdBcwIHQx0D9US0RVdGHYachtnG7MamhnuFxUWahTSEqwR0hAjEI4PAQ9UDk0NqwuCCQIHRwRJAWD+rftL+Zf3bPbS9bL1CvZw9sv2EPcd9xr3v/Yy9nf1DfXZ9Nb0UvXF9Xz2VPcy+Mj4Ivkr+Q75C/mC+CD4APjh9+n3IfhR+M34KPlR+Vr5APnL+Gf4KPjF94b30/dS+BL5HPpV+3H8wP0P/wkAIAE7AkYDlgQeBiwIZQqEDHAOZxA2EhgTrROME9wS4xGNECQPrQ2RDIALkwoPCrUJRgnWCPUH4wbSBV0E0AIWAZz/Kv4O/Wv8AfzR+7/74/vl+8/7svub+yz7sPok+tT5jPlk+Uv59fjB+HP4Mvix9y/3ePYv9t31jPW59e71gvZm94X4f/mL+pT7XPzD/B39Wf1n/Xj9n/3g/VX+I/8LAAYB6gHoAr4DMwRnBCMEXAObAq4BigBK/zj+pv0K/a/8iPy8/P78gv0w/qf+hf9/AG0BdwKOA8kEBwZdB9gIOwqsCxwNiA7CD98QlxEYEm0SQRK9EeQQvg9pDv4MTQvUCUAIfwb6BE0DugHv/yP+JPzh+cn3jfWH82Xxwe947nbtFu3k7Bntbe3F7STuku7x7jLvlO8d8NfwsvGn8ufzjPVV9/z4s/qw/E7+0v8OAfYBxQIzA5IDvgP8Ay4EQwQ4BD0ETgQ1BPEDiQMpA4sC8wG8AU4BIAFnAQECJwM+BJEF4QZkCMcJ4woODLsMag3YDQkOMg5jDqUOrw6fDqkOiQ4jDtEN/Qz8C7wKZQk0CKIGwgTXAg4BS/+H/br7G/pc+Pf2v/Ww9OjzPPPF8lTyV/JG8l/yYPJD8kLyQvKE8qbyCPOk83/0qfUr97X4YPoY/Kn9IP97ALoBegIDA4QD/wNZBN8EYQW6BQ8GoAb9BikHLAehBioGDgXKA3UC1wCE//v93/wV/Gv7GPvv+v76NPtx+6P74ftF/IT8jfzU/D391/2E/mj/tgDsAXYDDwWhBj0IjQnMCq4LagzEDOAMsQxvDAkMfwsWC4gKCwqPCQsJfgjIB8YGtgVrBMcCAwFZ/4X9s/sb+rT4gfeH9pT18fRp9MbzZfMB88LyY/L88Zbxb/GT8bvxQPKy8jXzLvRA9VP2ZPeR+MT5wfqx+4r8Uv0N/nj+/f6+/1MA+QDYAY8CdwN9BIAFnAadB5MIowmmCqILoQySDV8OFA+LD/MPjRDGEPUQ5hDWEIwQGxB3D54OhA0iDLcKEQl+B4UFtgPrASsApf4b/eX7x/p/+WT4f/df9kL1WPRh82DyovEb8dvw1PDl8FTxyvFh8jrzHvTZ9HX1Cfaf9mb3H/ji+KH5h/qi+7385f0N/xUAGwEsAiYDygNIBJIEqQSxBJ8EmAQ/BNsDkwMrA50CHgKRAcMABwA9/1n+cv2P/Mn7Nfu0+jv6SPqT+uf6gvtZ/Dr9b/7k/1UBsgLyAzsFeQbOByAJVgpxC44Mjw2aDnsPHhBtEKAQiBAMEHYPqg7ADXsMNgvQCT8I4AZxBeMDeQK3AEr/uP0p/OL6XPkS+Or29vXy9C70WvPl8oPyJfIO8hzyV/Kb8v3yVfMt9Mj0ZvU29uv2vfdX+Br59/m6+mj76/t5/A39af2q/d39+P30/fn9+P0X/hH+BP5G/mj+1/4F/1f/1v9VAPgAwQGBAkUDawR4BbYGDwizCScLoAz+DV8PlBCMEWgS7hJxE44TUhP9El8SaBEwEKEOvQznCgcJAQcSBfcCLAFV/3T9mPu++eD3E/ZR9LrygfF68K3vUO9475HvG/DB8GTxRPJI81P0U/VX9kz3a/h9+XL6ePtk/G79hf6F/3AAQQErAswCagPSAxQECgTTA6wDMwPFAlUCxAEiAbQABwB7/9/+D/5q/b78Afws+1b6vvko+Zb4jPiV+PD4a/lc+pb7Qv04/3UBGgSBBtQIqwpyDBcO1Q8OERMSChPKE3IUsBSyFCQUWBMiEuYQhQ8ZDnYMTAp3CFsG/AOkATX/4vzG+vP4Zfcf9sb0sfOx8r3xFvG88IbwbfCA8LfwV/G78f7xrvJI897zpPQq9e/1vvZj9+n3kPhS+dr5afrM+hz7Z/ud+7X76fvp+8T7qPuJ+1z78/qL+vX5dflB+Xb5wfkN+sD6gvuw/AP+iP94Aa0DcAbOCdsNjBGhFNAWfhiQGq0cXR6dH58gKyFZIewgvB/RHRsbshdtFFIRSA5UC7gHngN1/0X7dPfi85vw0u2O67zpQOhh52/mjeUN5RLlB+YQ6CfqEOz/7eTv3PHw8wX27vcW+vv7Df4/AB8CeANRBMsEQAUvBhAHnAecByYHogbtBQoF+gN4AukAh/9V/iL9hfvc+ez36/VN9DDzrfIN8t3x3/EL8rXyjPO/9Fn2nvjF++z/2QRNCWUMhQ6+EH0T5BZGGhkd7x4EIIYgOCCsH1YekhxXGkQYihamFKwRlg0FCXUEiwA6/S/6Cvcl9D/xfu4/7CPqYuhD57jm+ua258ros+mR6qrrH+0p7z3xSvNp9Vj3Mfn3+rf8Tf6H/38AowHKAqUDCQS9A+cCFQJ6AcMAnf8l/oD82PqH+bj3zfUf9Knym/Er8XPxCfKx8kfzK/T89Ur4T/vN/iQDoQjLDjsUkhdeGSkb9B7CIzAo5irTKzcrxyloKAcndCUdI50fkRudF60TDA/VCDQCGvzR9630CfHV7BboCOQk4XXf595v3rTdSd2c3R3flOHJ47zlsecx6rLtqPEH9X33nPkP/E7/7QKpBQoHqQcaCIUJVgtnDC0MoArUCMQHMgdxBvgELgIr/yD9IPzi+pb4k/Xc8tjx0PGX8XHwiu+27wvxIPMF9Zb2Ifi5+rT/ige7DhAS0hB+D+gS5Br5Io0moSXCItggCiHeIkAkiCOFH5sZIxU/E6IRrQ3fBl8Advw1+jr3C/KS7D7oE+ZU5Q3lF+SB4dreeN7U4H7kLOdl5wfneOhK7O3wmPS89jX49/nN/CEA+gLLBPMFrgZmB08IQwgWCDUHIAb/BFADlwGM/2X9XPtM+WT3bPUr84/x/PAw8pfz0vMZ8yDzIvV8+EL9DAMrClQQEhLPEOgR6RhxIxErJCwJKWwm8SayKU4s0izfKTojvRtSFx8W1xSPD24G//1f+Iv0R/DP6g/m4eLy3/Xc7Nld13vW6dZW2bTc+d7J3yHgb+Lb59HuJvTG9kf4+/oE/68DAwi7Cl8MRg0iDv8OQw/QDugNUw2YDJIK4wbeAgAAX/63/Jb5TfUU8TPuKu1k7V7umO4y7cPrZ+wN8N/0/vhy/Q8EVwv3DuIN1Q2KFXYiFizmLPUntyTUJYQqVy8nMQouiiULHH0XARlZGqwUyQgn/rz4DfYV8lzs2+Yy4i3eL9pN1znWGdY41pbX99l326nbU9zb4HjoxO9j89PzWvXz+VIAFQaBCsIMrQ0BDssOuhDvEUES3xBeDtkL1AgyBpwEpgO7Adr8Vvab8YLvCPDV8EHwHO7S6mLp2uoI773zpfaB+aX/aweHC4EKqgrAEggfuic+KDwkxSJjJQcr+y9jMXUtZiScHHwbYx/sH5sXBQtRAQ799vpZ9/Xx5+vl5fjf09tC2qTZTtg+103Y7NmM2obasNxz4mDpGu6M76LwJ/TQ+ef/YAUZCYwK8gkqCsAMMBCiEpMRog7GC20J5wc0BucE5QJk/hH5v/Rb8xX0dvSH86vwGO6f7brvgvMK9+P4+vpzAPsHyg0lDkENjBG2GoAknii6J0cliyLwIp4mTyxALtslAhkCEjsU6BjkFU0Ksf3J9QvzpvFy78nr9uTg3KfX6tcM25fbMdma1wjZg9yt3nrgEOWI6+zwrfM29Vz3ePs3AYwHYAxPDkENAwxmDYIQihMQE7wPMQxvCR0IfQcVBjkD5P7z+ef1q/Nn8zT0M/RT8q3vRe047rTx0PXP+Ln4Yfrp/t4FQwyYDXYNlg+0FZMdWiE/IRsfDR4ZILQiUyScIeAaCxVqE/IUnhRYDvUEp/34+a/4Mfb38Sftxeiz5S7keeNG4nDgwd+O4Xrkaebv5vfngevP8P/0UveI+MP6DP7fASoG7wh9CV0ICwh+CVwLmQu0Cf8G3wSqAwcCaQCS/ub7evgz9J7xi/FW8sny5vDY7grutO4b8kH1sfjk+on7wP5yBIoLQhHdEowTQBbrGiQh/SQjJhslLCNjI6Ik2yTrIvMdhBnuFrgUjRGJC8cFpABq/Mz4APXC8HPs1ejS5vflTORN4kTg2uBi45rlJufd58Hpy+2j8R71wvdQ+Qn8Mf+XAiAGVQj6CD8IDwhnCW4KIAoJCDMFQwPbASYAl/5U/BL6LPcr9K7ySfHM8KrwdPD374DvYu/s8FvzZPVT+EP6B/1KAAUEPwlHDcAQRRJ5E8oXWxxYIPwhcR90HgEd/h1DIAEeRBvyFOEQlw8iDcwKbgXW/wz8Yvie9pjz6++F7VDqJOpm6dnnW+eF5tnog+t67JLtDu6J8Jb0W/hO+0P8y/wC/zwCzwVaB9cGhQXyBIYGzQbMBrsEgQKcAHj+h/1F/N363vgm9xT29PN58i/yaPKU847yFfIK8nzzH/Zp9/n4C/uq/dsABgLvA4sGMQlRDp4QyBKyEoQShBZFGbgaoRrVFy0XnhbzFmIX1hTNEnsOBAwmChUIugYGBH4CLwCO++n4ofYX9074xfXP9ITy0/Et8s3ycPWg9nn2/fVD9lb4Yvo5+2r8ef3m/kD/Nv73/Qf/AwA5AC//c/0//Oz6SPsv/Kn7BvoZ9zL16vXd90r44PZ09HDzGfV291b4CvcQ9pz2gPkk/Db8Xvw6/EP9PQD4ARsE7APQAocEvQY6C/sL1glWCTIK+g2OD2sO5Q3DDVoOyg6xDf4MyQzHCxQM6Qt6CloInwXNBpgHiAbOA4cAgQCqAccBNAAu/sn9Df2+++z7T/xt/S78TPsm+9b6VfsK+zv6r/qT+uH54flz+Xr5OfmW+K/42/gq+IT3R/Ya9zb4Nvha9+32v/Y/9zj3Lfik+IH4w/lK+AX55PrV+4D71fo0+x/97/3y/VH+Lf8nAOf/kQB9AJIBKQKRAVsDxwOjA2cD7gKRBO8EngWGBqAGOweVBroFEglLDCsM4QpKCZMKUgyjDbAPFRCNDvQM8AzED7MQ/w5qDMQM5w/xDTgKtgbSB/EJAwekBKACuwBC/S/70fuG/U77V/Uq8/f09/Y/9DDxiPGH80L0/vFm8dzyqPQa9WD2uPgq97v0CvaX+8T+8P8s+gr4LvpX/LYA/v57/dn78fsW+977cvwP+//5avo9/DD8tPhw+Nz7Pvv3/FX8ZPyQ/nH8K/1GAAkCtwIXAmsBHAMXBo4FWwbVBzAJcAhjB+0I9QpUC5EJ6AooDcYNyQgBCYUKnQpXC70Kmgn9Bz0IPAZ9Bk4HAgcNBGgC/gEeBE0Ddf+JADf+xvwf/qD9HP2N+kf4u/nV+Lb6+/if9mL2afaD+on3u/Ye98z2S/jn9gL30Phq9yL3u/q6+UD3S/jg90P6mvsk/Dn8cfqR+o36N/3r/mn/yv6s/mr9mv4s/UQBVgPmAAMD6/57AmwBfAErBgcH5QYMA8kCawVKBzoI9QcQCcwJ2QWKBhEI8AcmCcwGCwjzCbcGowSiAWwG0QmACG8G2AIQA6kA3QRNC5cGFgNgAwAA7QNKBYQFrwGM/zoDhgIGAnL9/Ps8AAgBnv1t/1f7i/mv+0v8APyl+qL4/fUT98/2OPlC+JD16/Z1+RX5nvQ09cT3Cvo0+r/4DP6z+GH6B/6/+Xb/qwHqABb9xQGbBQ0B9//SABEINAhIAW4ADQVrBkIGZQBOBGwFav7VBT0A9gVkBHT7b/4dANUD0/65AXgBA/xG/0/7m/ztA+n+zAE0BMIBQgFd+b7+mQNzARIHXAYOA2P6G/6mAtf/ogKc/wMAhQJV/tH73/ui+Tj9QvzO/S38nvij9YT4ZwA8/KH5Fvi++Jj47Pq3+fkBbwHm9xH30/8AB6D53PvZAGQCSgUMA478dQP+AiACngQpBAYGR/2H/2AKuQ5dAF8AIAM2AxoHHgC+Br4KkgND/+0EQQZQ/YcDJP6lBSsN7gDC/9gBNAAMBI0GNACLCGQG0AKgALYELQeXAgYFAAfVB3H/RQKdBA8BjgFZBU8A9fy0BGr97frE/k77oPfe/X36Rv1M/n/4RvmR8hH5TfvM/qP5evt2/rr52/sg85j5TAD3/skAUANX/xL2Mfk7AY4DXf+eAY8BQQL6AyAAB/+9/KIBXwPRA28EhAUzAZ78jAMsAT8Di//xAssFU/7MB6b9DfyVAZYEcgMo/GAAJwFD/+gAuP+bBAABcPf5/+wDiAXz/E38agLA+74AhQIi/GgAw/9mABr1E/se+akBFANC+k8BDPV0+HPzEv5F/nv/0Psj+L37VPcP9/z9bAM9+c0AZv0Q/8343vlAA0kC1wEX9RsFiQSq/vf9vwRxBmj/t/+sAc0KKPw5ARoIfAibAIsCSwWMAMoCTwY7BgsDdQjaAOIAH/+5Cm4CZP4rBkf7MQdGAsQA4gbGBO0Brv+QAysBAAjZBMoEEAntAnL/9//EAt8BrQlpABYFfgTu+dYA7gVY/xr7WgYu+CsAGv1J/7gDrPbH/VT5KQA99eP6jQOK+IX5ewAW+eUAd/u99jcFXPZ9/db+o/+v+R8AfQDm+vH8WQDW/Eb8RwAC+S4Cqf68/hIBO/7j+4X/Ufz3/5j7PADy/8n7oQKn/nQB8P3c/YT/zv7Z/8YBef4RBOsAo/8x/nEBzQCXAJgAEwDIA9b+KwNlAqb/NvzvBGsAXP9EAkD6fwExBDj+HgBs/Zb+Tf92/pr9X/3e/4X/P/zbANb9EvxfAHL7h/0c/PYCkwAY/uv9YQHb/ZkBpAA3AP8AI/w+ACADfAeIABYBwQNsAtH9ewVcAyIFWQIxA1kIBwH4AwIDDAVQAGIDqQE7BK8JCP4eBtAEyAAVBBoA4gbi/9sDlwYBATgDewMxBvn/zvwTBYkEJAE9BcEArgXzAy3/nv6P/8kGMv59BDIDj//3BPz9tQPnAB4AgvsSArz/yf5+AWn++gJR/b/5aPtXBc/77/mE/pAAiv0O/PL6yP1M/+L7Mfsp/pj+kvq6+Zz6sP2d/Xr6gv0IAbX2MPpz/Un7O/nL/LX7v/8j/OD4vPvM/U/7pvppAFj7ov9C/Kr9b/62/hv9WP9L/JAA6gCg/nz+yf05A2n7lAAYAGv/aQBfAKb/dAHf/hQBVQFMAOsAGAELAXn/7wAzAPEC2gCPAlX/lgIeAYABZQAj/u0D0AHRANQBeQFlACMDev8yAewCjQDTAfUAlQEXAmAD+AFWACMB8AKLADUC+gHZARsDGwGKA6AA/wCAArICgAGAAUv/FAQcAiUAYgKIAIYE1P+9A6UAtv+sAkEB2QPpASUCOgOdA/z/dAA6AjcCOQN4AW8CCAQ7Ajz/bAH9AywB1gCwAJ4BpQIyAWr/MgDNANn/hf5QAJAAhv0C//D+A//++5T+df16/uv/a/qx/m77r/yQ/Ib7tv5a/if/MfyA+03+AP5n/K/9Of3xAEAA4f0l/0v+2P0l/In96/9q/3n/mv7i/aP+IvyI/ZT+t/3A/Wv9tv16/tH9OPzL/YX9jP92/Jj8i/3k/GH//P1vAOr9JgCu/oz8qP47/sAAhv+t/84Ajv+W/lD/7v+yAoX+F/9R/xMBLgAY/b8DdP6zAab/bP9wAeH9EwJh/hn/QP+4ANMAU/8sAVMApQDx/tb+hQDYAIcB5QFAAtUCTP9GAcUBvADSAvgARgNTA6kDigGjAmUD2QFIBGMC1QF9AnAB4gH/A0YBWQRUAYwBiwJpAMYCLACjA3ACFwO5AdgBDwQ2AngCzgI7AiADlgEPBAgFggPWBJwBJAYwAqIC+wO2BPsDcAGqARAC4gTx/7UFVQQTALn/H//Y/vT+1/8OALsAcABp/pj9k/+5+wb+G/+R/Qn/1P8m/sP+3v0O/jf/Qv7+/HX9DgBr/Tr+SP0W/hMAH/6N/PP9ofyL+0b7tf3d/Hr70f0+/F7+6vu4+y37CvyY/BT7NP2G/hX9W//A/Hb70fwf+8/+4/yDAAMAXAB//U7+k/9t/AAAkP5hAVgAjv5o/ln/tP59/hQA4/8e/sr/7v25/un/aP0oAWn+yP9o/zEAWf93/70Aov72AbgAggAsAR4Bo/9pADYCXgGlAVgCgwHcARkD1gCvAM4CRAFFARkDywJeAqsCcAE7AbIC5QCCAusC6QEfBEwCcwHhAQ4BfwGeAVYCzgE8ArIBrwGkARgBpQFqAHUCBABhAOABpgFWA1oBmACjASEBpf8IAkQBlwHZAU0BUAF8/+oBrv8nACcBef46AZ/+JwB6AeT9g/+//gEAjf5W/sT/7f53/+X+O/+6/zD+d/5p/7L+IgEX/7z/Mv/O/pwA0P2B/6UADP99/oP/IP7J/YD/Kf1G/bP/oPx3/e/9af5o/d39uf23+1D+V/t+/pL9Ff3o/VT9xvzd/Qz9p/zUAPD6bADv/u790wBw/Lv/VP/v/j0Ab/8JAKf+4v+vAFYAnAEN/vEB7P/MADwAsQBQAv//aAEPALUCWADIAgIBJgJFAhj/CQGOAvEAsAGoAicAigLIAO4AcgHkAlcB7AFkAaUBbQEvAmUCQgG4A6YBKwH6AawCAwG4ARMB1gICAjcEyP8IBH4CJ/1tAxL+kgVbAJr/BQJxAeIBcP+DAk4AmABsALMArwCcAXMBEgEMAdcA5P+2AFv/vQEoAQ4Bpf/x/2UBvP64Abj+CwH9/gkBwf+G/i8BpP9+/5n+uf/p/8H+B/7JAK39HgG2/Tv/O/+i/foAB/wsAFf9NP10/0P9iv/k/Yr9Xv7p/Hv/o/xA/kP+uv1u/rf8Ff4+/ln+pfzA///7fv/U/Cn8CQCb/JT+o/tv/1f+Bv0N/pH8ov0m/tT8fP6a/WT+m/+F/Fv/nv4Y/x7/6/7C/s7+VwAw/9ABaP80/wEBxv2tARv/9ABHAYv/VgHz/esBi/9XAZAApwBhAV//AAIZAOcCJAFxAegA+wGVAx4B+ALZAoYBPgKTApIBFAQqAbADCAOZAMsEYwDVAvYBgQH1ArgAHQOAAVUBkwFeAIcByQM6AIABJgIP/4gC8v7KApUCQAAbAz7/NwLSAUMAsQHPAE0A5wGB/44BbgGh/w0Cy/7RAL3+Ef83ADP+SwDm/xL/Lf8v/tf/K/8m/Cz/Fv/N/rP+c/4O/zD/O/5L/r//mv46/vL9uP9z/2b/M/+A/VAA2v7BABD/pP0CAej8PgDK/LT+Uv95/mABVv1M/xX8wv0x/mP9Ov9//jv+dP76+xz/df1T/TP+Vvzo/yX9QAAp/Un/J//q/MYA7f1J/uL+7vxZAFYAWABW/yH+2v8a/tT/jf3/AIT+tv+h/mn/bQD1/x4BWP7+AQj/qQF4/m4A9ACAAd7/hAB+A8P/cgBTADcDbAL9ABAACAPF/kICOQDFAB4FNP8RAysBzAEkAkP/dALTAA0BCAOeAMgDhgFxAcgD3wCPAnACbf5TA0j/ewEKA8j+9AO8ABADTQIlA9f/xQC7AB4CuAAOAN8DZgAjA0sAgAJzAWkAsQHBAWABGQRMABIBYQD//ZgDLwB4AdgDiAIsAZIAXf8XAZX8rv8U/y0AHgBDAOYBOf+YAo39rgCh/cT/PP7e/T3/Tv08AVT+pQCKASL++/0JAIL9kv4J/Yb+2/+g/pL/9f7n/bb/U/92/J0A4/zE/gz96/xKAG37jABy+87/HABL/JwBZPtpAFX9pPsM/aL96P74/AD/nABjAZn9dv5G/tD9NPwLADr+e/vu/+z//P5c/0kA4wFJ/5H7n/69/h7+aP4JA0EDiv+c/ywCMf/j/gz/cv8wATT+2AKBAFP/7P+TAXAEaf3bAVMCqP7O/34AAQFc/9wC3fxmAgMCQQKXAqH+0AEs/7cClf3OAtoCtP6AAMkCBQKrACgArgK6Ag8Ahf9R/9wDtP21AmEBHgOAAksCKAMG/u4Ct/90/Vb+TP9xANMCYf9oAswDsP/nANQABwDp/6b+OAA1/rUDUQAj/5UEb/4XA+IATP6F/mQBuP1DAN798P+TAJ0BWAON/J4CbfxH/h78l/6v/43/BQEgAo4A9P9AAHb+pwDy/MgAq/3M/qz+HQDP/s/+mADk/wwAev+M/539wf11/sAAqv4aAIUCh//r/g4ASv85ALX8KQBC/6QBRwDoACYCc/2YAOT/1f4s/+8BRv5pAOb7YwBi/UX+cwEo/8oCRv0nAOL+Jf7q/jgC6P10ACcA1wDn/+b+0AHR+zsA5f4mAN8BX/5hAyIDXP9zA2z/Wf3d/rr+gfxnAFQCfv5XAU8Dsf0FAM0AgfygA2P9i/5fAd0BFP0X/8UFLAOh/6b9JQSG/jv8XAKtAPL+ggQW/4wDNQSr/WEBPQHM/Mn/+wAA/vIARf8JABP+UgCz/e8AjwK4/usCywFN/sQBLP9m/iYBpvzTAUoBRf7mAmoDcQKdAjb+6QB/ADIBTP8bAdgAdP5CAKz9IQDXAJ7+If1RA/38ugAQ/y/+yv87ABUAmP9JAxX+HwMi/WQADf+D/sP9/P8W/+X+Y//j/qAFE/2pB/7/ZAKvAmj69ABQ+u/+/PyI/8IBAACX/1r8BgL7/Tj+mP5R/pkBYwHT/BoBPwKK+aED9/td/sv7BwHXBAoAxwUw/T4DXgDxAFP9BgKCAAsBfwJRAr4A9/1kA5X43/3E/Wf/EvusAgIGz/8fA3EBmv7BAWsEZfwBA2D7qwB+/aD7mwK9+5EF1/9LA+ADcwHgBD0AKQSs/kf85fh8/hgAGv31AMoBWgTW/nMDsgJxBJ/8T/1+/6YBswDu+ecC3fucCq/9bP+TAkn8SAoO/KsAkPzj9Xn5vvxNAbIBDf7iA+sIMwX9AcYAtPuk9Yf80PcR9eUAHgFbB9gEPAZvCP79/gDI+g0C5P6c+yb7L/xVAL8CyAOD/58AXQLkCIX7+P02A7//Kvyl+6D79v3xAF7+IgsuAH8ENAOh/ikFHPn6BaH4T/hsAhf+rAYBAGwC1gJwA1YDFvoJ+qwCWP4S+s0Bzfmj/kz/agKrBpT+IAWm/oQC+gEU/oj8eQJG/O0ANgWU+rMCugLbBVb86gQm/0oB4/xZ+9IDwf7vAQn+T/xS/XIAsf8M/iL/E/8NAEgBNfmkBvz8zgAdANv8DQLA/Nn/mwBiAm39wgHH/QX/T/+ZAkAAbv+OBX385/mJAef9EAMhASP9iwTC/mQAtv+l/pT9KQUa/in6twIMBY4CsAHDA9351f+EATUA2frZAQoEcf/BA7P9Lv0DA8cB7QJUASj9QwG1AiP8OP4YASL7UwJ/A8j/Sf8rA0EBV/4g/dsCDP1+/u3+QwOGAyEAKgIP/TgEy/pv/6wBTf3I/wACn/7FBVn/LAA4A537iwAf/ZH8Z//V+6MB2ALT/rkCGAPPAUn5CwMu+0IBDvsqANcBuv2IAq39nAS1/7ADJwB7AWv5nwIE/kf7IwBa/5UANAFRBqH+MAPGAX0A2QHM+xD88v7UAGkABQJ7AAz9ZgR4/2ICU/59/wwFafyrAM35XQBa/V4DSAKM/cIDufy2Bz8AUAEB/wz9Rf8b/nMA5v03ALQCywByAHYADwAzAKH8IgJ3/ej/g/9O/sUDDP5QALkAO/xwAAYAeP/F/zn/AgF9AS0AdgCUAdj+z/8i/X8AMf79/xsAhf7KANP+CABiAdwAG/+jAbj+sgE0/pH+8f64/rcAZf93ALMBtgCVAp4C7f2CAlD8Yf/EAUf+BgDE/zgDQP9T/4sANP8ZACb/Lv/U/7L+H/+YAJMByf+a/zgAk/58AUMAyf6M//n/CwCFAJ3/hwEtAIMCyAC1AeEAQP+NATr+CAGW/uX+cf4X/1D/gABOAIQAUAHNAuf/qQKZAbP+5v9t/rL/Pf48/6EAxgCR/0sB3AA/AWL/jwB1/zr+uv9K/8L+8wAnACv/HQFx/xL/+f+t/x0AuP7j/rX/O/4jAL7+KgCLAA0ARQHn/7j/SwDa/8UAi/9A/9L+If4XAFT+Gf/o/rP/ywAgAdEB+v//AZ4ArP+i/6EAQ/42/0j/w/7u/3f9HAEa/m4BIQHEAL3/pgBHAXb/CQKp/Z/+8P+MAIf+HADq/5QBxAFDACkCi//C/8H+LgDd/4v+1gCzAKUBawHzAO4B4wGh/wP/YP6t/oT+Lv8r/1v+RwBwAGoCWACGAS4C6QBvAC4Ae/+M/h//Kf/0/tD/VgByAG0BtwAmAg4BpwDl/x//2f8AANv+tP+C/x4AsgCF/+8Amv+vAH//2v4M/1P+O/8l/9j/Zv/2AFsBwgCoAHcA3gAv/lX+yv5J/r7+X/8KAeT/mf/fAIwA3/8eADcArP8+/9P+tf4p/ib/iP8hABYAqv9QAZAAoQAXAF4ASwHm/40AeQHxAKwBzAGOATAB7wCFAYIBUQHxAFgB2QCaACsATQADAVEA2gCtAL8A7QCeAJAA5f8EAH//BwBCAN//LwCeAN7/Uf+5/3n+H//n/rv+j/+e/hn/MAAd/9P9Qf0P/cf8VPxs/DT8L/1P/bb9Wf5b/jn+6fxL/c/90v1E/ob+Pf47/7X/EwA1AN7/zAAEAKAAoAAUAW4BbAGyAgsDxwNGBE0G/gWoBj4HggbLB8UGjAYlBz4HLAeyByMI0gdeB30HbgZQBQIFPQPtAo0BHgBp/2j+ePz0+qH6AvmO+Mn3ePfP9hP2evVe9EX0M/Nt8lTybPLg8VvxtPG58Wbxn/G38S3ysPIT86L0LPUs9pD3svgo+vP7Kf44AHkCpQQcB2EJ4AtkDhwRYBMVFrEZRB2iIHwjoiZbKAoqACprKRgo9CMlIPwakRXSDrgIWQNB/Uj4q/Oe8HTthuu76SXojOcY5kXl9OMK44viM+KH4lXjQ+R95dTn+ukq7KLuNfER9Fn2A/gU+hr7K/ts+/r6Uvr9+an5sfgq+D74t/g++f75k/tV/Q4AEQPJBaoI6AtpDqcRNRUgGOAb4B95I58l5ygNKxQs1ixCKzEpRSXTIJcbahV8DvUGMAAc+fny++3Z6SXm7OPl4pHhquHA4TXhPOG/4DjhruF54UjjN+Vg5+zqhe5o8jL3w/vd/9gDbQZuCJUJoAn/CG4HxgXoA7UBIgCz/rb8tPuf+oL50/hc+HT4j/i4+ZL6w/vp/QgAoQJgBY4IOQzFECIVMxogIHckFylULZ0vaDD2LrksmSiCIhgclxSWDKEEZP009rDwbuxx6PvlE+SB46jiN+JC4tPhq+Fm4bHhFOLZ4o7jR+Uf6HzrQu+m84P40fyPAT8FPwh3CksLBQsWCpQIPAbcA3oAxf2s+2f5ufeO9s71KfWj9Nn0B/Ua9Tz2//Yv+KX5Avza/jwCZwbaCqMQdxZ5HeYiMCgoLcEwhDNwM7UyYi+sKoEksh3WFboNlwaS/k/4K/OA777rzum76KznpecS5yLnb+bZ5QLl7eRz5FHk3+Tt5WzoHuso7+DyaPer+1X/+QLlBeMGsgcACCwGugTlAXP/evzu+Y73D/ar9Czzh/Px8oPzGfOO9D/1N/bB95b44Pol/H7/lwEfBucJGg+oFZ0b8iL+J4Uu1jFiNVs1QzRDMYArQCaQHfMWzw3ZBu/+HPmz9InvS+0t6rnpZecT6A/nv+bR5nLlWObJ5BTlZuQk5eDkhuYm6WzrdO+U8u73Hvsg/1kCbQRDBU4FDQXAAvMA0v3n+0n5Uvcq9g31CPXl9Lr1PPaN97n4yPlK+2T8tP2A/zoBZQMDBssIogxxEREXJR0TI90oWi/JM8I2QDiKNyc1zC8XKb0gLRj8DnwFxvx19VXvuuqt6PLmFOez51bp2+oV7ITtP+0c7TTsPese6YXnUeYi5TPlbeUZ57PoK+vf7avwx/Ot9YD3dvjC+N74RPhZ93b24PU29RX1JfWC9bH2tfdN+a36uPyX/roACgO0BC0H2wg+C6oNfBEjFdUZvx+/JSksxS9+NG82NjfHNXcytC5OJ6QgVhitEC0J1gL3/Mf3T/Vi8yjzzPLs84r0tvTu9Aj0rPI78P3snOmp5ajhlN6x22jaAdpO22vd1ODi5O3oaO0V8R/1vveV+dP6Kfsn+5v78vrj+nb7R/tb/Ov8xv2I/if/6/9uAAgAQgAyAE8AuQDQADgCyAKlBZQIgwznEeEXEh/qJpotpzHkNXk2rzZAM6MuGilZIMkYwQ9iCRkCJ/yq9170QfPl8ln0fPWj99v47/ld+SL4z/UM8nLuD+rG5UPiwt7+2zjbotpk3ADesOBg5NLnYezy73bz5PWE90f4yviC+YP50Pls+iH7xPu9/Pz9z/7y/7UAcgHwARoCQQJHAkgCOgKvAiwD9ARRBzYLNRArFnQdCCUPLGUwJjRbNQA1zjJlLlEpxSE5GmoSlAsvBVb/jfqK9372vPa99z74y/qc+9P7E/sg+Uz26vEZ7njpJeVs4IzcpNlR2PHXC9nt2rbdvuGl5RXq1+2Z8SH07vUL9+X3Svgt+Vv5B/rL+jL7Dv2E/RD/zf/OAFYBSQH5AagBPAI8AoICFgNrBJoGjgntDaQSshm4ILooyS5hMjA2AzYSNgYzYS4YKXEhahrkEjkMXQbTACj8zvlp+Dz5mPmb+mD8R/xr/H768veI9J3vZOvL5uHheN0n2aTWQNUx1afWoNiZ2/PfR+Sl6LvsqPAY9JT15fdv+bv69/vh/An+g/5W/2EADwErApMCmQLdAvEBwgFIAYoBwwFFAncD/ATGB8EKeg/SFPgbtyP/K1UxlzRLN002KTYCMoUtIyd5HvgX4A9VCh0Etf7R+jf4m/dN+P742Pl2+xj70Ppl+Ob1KfKv7cPpW+VY4G7boNe+1KHTINNZ1HDVvNh53OfguuXI6SruHfEQ9GL28PiU+h78Zv1k/gD/Gf8TAJYA/wCnAFQAdf+V/l3+Gf4C/wT/qgCPAooEMQilCwYR8hZcHgYmay6RM6I2lzixN0c36TIJL7UomSADGtcScg2wB1QCz/5Q/MX7P/wC/Bf9Qf0G/dX7i/jJ9bXxKO0y6c7kn9/M2pDWaNRR0/bSatSS1XnYAtxU4EflfOlI7rXxSvSE9yf6rvzt/h8AzgFqAgMDGwQ0BEkEpQN7A7kCRQFwADH/ef8gAI4ArwJ9A70GWQq+DiUVARsjI2IqOzLANb43uzcPNmo02i5KKpUibRvNFEQOGwkOAzf+9vpC+R/5aPkx+XL66vnI+a33hPRV8m/uEusN55Pi091p2Z/VONRp0rjS0dNe1ZjZhtx/4bblMuo773ny6vVn+fj72v6yAG0BzAKbAjUDEwOTAhQC8wBRAPr+w/3e/EL8nP2//gEBiQNnBd0JcA0OE7UYByBrKIAwgDb8Nws6TzjrN4408i8KK+4iSx0gFqkQZApUBM3/Cv3b+5j7w/qY+mX77vkI+b30CPLL7rPqxudo4vDdbthL1ADSI9BKz+zPR9Hh1DrZQ91/4hXnkOy18Orzf/eP+jD9Of9CANAA1wAVAbYBcAEgAWwALABP/w7+zvyB+8H7JP3O/sMAdQIDBXAJxQ1iEzoZXCCPKP8wFTaeN+I4aDcGN0wz1i4kKfkgaxviFJoPFgnxAi7/1/zF+zT7efrN+oj7RPq0+Gn01vEt72nrZ+h44yjfftrr1h/VFNPl0TTT99Rf2PnbQd+75IzpDO9F8xD24vlA/doA2gJUA+ADhAPaA6MDrQLOAZkA6f/Z/tH8Evs1+qD6IP1T/toAewOoBrUMiRDiFZcbbSKpKwczXjYcN+o1mDRVM44ueyolI3YcrxdqEfQM1wWnAM/9cftX+2/66/nl+qb6fPkj9kfxhO756vLnS+Q033Pb6dZN1P3SxtCD0STT9dVI2q/dv+Kp52Dt6fLO9cH4vfuH/xgDHwS8BMEEMAT6BDoERgMhAksByQHnAED/BP3Z+7H87P7a/2IB1wJVBqkL2g6lE4YXWB7GJjMvaDR5NLc0WTOQM5AwqSuCJfMdPxmDE8wN1AZxAI78ZfpC+b34A/j291b5kPhn9kbyBe8M7cDpmeYR4pvdWNnE1RfU5NFQ0ZbSf9Rs2I/cguFc5wLtN/N594L6cv65AXgFIAcuB5UH7gW8BfEEvQNEA/QB2gHoAGn//v27/DX9Jv9NADMCoQMkBqMK7gx7EfEUtBoQI7cqnzLiMxo18DRhM9YxJCwHJ0kgXBpKFUMO3QdFASr8zfmQ9/H25PZu9ij45PeO9lLzee/x7Z/qMuea4sfdx9mk1YLS78+4zqTPutHW1I7Z9N0V5DDqafC99SP4ePy6/84DiQbdBfUFgQRvBLEEFAMbAjYB8AAiAcf/vP63/Vv95P9yAbkD+AWhBwYM3A6IEiwWAhr2IQAp5jG7NvE2bThANuk02zDMKg4m0x55GWwTAwyyBR7/Pvt++cD32fd899z3ZfkX+PH1E/Lp7qvsMugT5E3f0toe1zHTX9CPzq3ONdFj1K7Y0N2C4yrqdvAd9qn5Ef3iACoE8gblBmQGxAWzBMgEzAObAvUBagFTAowBs/+L/rP8q/0X/8H/PgKNAi0F3ghvCtQOLRFfFzAfYiaoMBIzPzVkNYIy8jG6Kw4nqiE5GtkVRw6YB80B7/rC+ED2dfWD98L25/is+Vr4nvfN8lrwfu1k6Hzl5t8m2wnXFtJ60NjOe89Q0oDU+9kx30vld+zb8OT2n/qw/RUC+ANyBmcGlgXyBfUDggNEA+oBaAKeAXsBugAh/mH9Cvxl/DD+G//yAGwCaQQ1CGkKSw4nE4gXxh9iJyoxyzYwNi42HjKJMD8tWScWIykbXRVEDzwI/QK3/PT4cPfH9wL6o/pB+9T8LfyR+sD2oPLP71zqTeaA4eTbndfq0l7QFc+Zz0XSTdVt2szgveYy7ZHyx/gD/ZL/4QJRBF4GkAZ/BtUFFgTXA68DkAM1A7MCsAH6AFz//f2Z/Lj7yv1g/5oAsAJ5A4EGeQmwDIESXxUeHR8lBy5aNvo06TRiMe0uJC6iJ04j/BtvFEYQhAguA4394fdD+Ff3kfmL+sH51PyS+zD6yvYi8Snvl+qR5lfjn9w92X/UhdBp0CLP6tIg1iDaYuF/5VrsAPJ09vP7e/3dAHADfgS4Bn4FwQQhBMICCQPaAfEAEgGH/xP/8/2p+wT7Wfn0+cz7Zvwa/90AywLqBpEJEw4AE0cXqR/VJukurDPzMZsx1i0cLJApGSM8H7wXZhK8DWwGIQIQ/fT67fsC+xL8T/wQ/AT+CPxs+Rb1OPBe7ifpG+XW4BPb3dd90wjRrNDR0DLV+NgJ3czi6ubx7fTz9/hv/Z/+vgFbBB8GZwdKBswFKAU9BNEDfAKqAXkB9QAEAOf+av1m/Cj8sfyG/iX/cAEoBLcGwgouDYARaBZyGwMi1Sf8Lio0JTS6MoIv3SwXKpQkCCAVGTkTKA7uB0AEn/9n/bH8i/yp/Rj92/xU/YP86fnQ9TrxUO7P6UTl+OCg2wLYn9Os0crR3NJN1nnZpt0E4yzog+5Y9Jr4WvxK/nwB6QOeBAkFvAOhAw0DvwGBAP7+0P6+/un9yvz1+uz5sfl5+c758vlu+2f9TwBMA2gFnAjwC2UQ2RTfGAoe7SOBKvouEC74K2opWidmJe8fPhsKFY4Qjw2mCIkFeAG7/53/Fv8V//b9OP3W/Qf91fk19TDwYO2v6XTlAuFE3JHZYdfq1THVxtWy2MncN+FC5sXqL/Dp9aL6MP4a/1MA5AHxAzwFigQoA8MBbgGzAK//g/7s/Sj+1v1S/bD8mft1+/n7o/3w/6wBwQQRB08J1Qs3Do0RjxSnF20bkCAxJ6IsYCyvKiYoWiXWIzMfpRuRFq4RSw+dCgcHGQPH/y//Mf7T/Xb9tfy9/f78iPnj9OjvruzV6LDkVuGo3ZLaFNhy1YrUZ9X81zXcCeC75Ljp/e7J9BP5pfuK/a3/+wH6AxIE0APuAnEB6wBr/63+g/6n/qP/Hf/f/p/+yv3v/sz/XAHmA1UFMQi/CbMKaA31DrcR0RNMFe4ZAx/JJfsqdirhKAsm8iPmIq0f7RxkGIkTMRD7Cs4GZgJn/rf9lPw2/Nb7y/ou/Dr7Q/hR9Pjuyux86Rvmo+OM3+3cj9kl16nW2Nbw2XHdYuG15qrqN+9H9Lv4Jv3x/vwAFQPTA8QEDQQ7Ay4C1gBNAIL/mf9PAMcA9AAtAPX/qf9h/0gAlgDZAQoDZAOeBA0EXwSVBdEGEQocDPMOnRJXF1se1iNYJtQl6yRvJBUkNiIoH38b2BYLEwAOSQn9BHUB4v/D/jz+VP2e/Lb8jPyF+rz2GfKw7nfslunS5XfhSN6c26bZXthX2OHaXN6p4hHn+eoz73HzJvhr/Hb+hP97AMEBMQMQA6oBtgBGADUA/f+1/+j/rQDrAW0CSgK0AbIAXAD8/5z/u/8V/7H/2/8OAJMB+gHsBL4HTAuMDzgUsBtwIhsoESmPKMYnJSd2Jigj7B/FGtoV8BCpC0UHpgJo/1j+2/0D/nD9MvzO/Kr7oflV9ePwp+466z/oguQh4WfepdsD2lTZXNpx3ePgYuWs6ejsXfHa9FP5hvxF/eL+fP8XAdMBEgGKAesABwFkAfIAxAEpAocDLwSCA/MC3QBy/2P+0v3k/Qb9CvzO+7L7RvyA/er/sgPWBjULpg+lFQMdYiMfKWQqVio6KXUnyyY0I0Qf2Rl7E5EOmAjlBDEC8v9h/5v9ov1w/Wr8K/3V+7X58PU78e7uX+tg6C7l+uBK3gDbS9mP2VzbMN/54qLmvup17tjyQve2+i/+LP8ZAQUDKATyBScF2QX5BbUFOQYzBY4FMgbHBuIGLgUpA6kA2/1h/E360/jm98T2Xfcj96v43Prh/O4ABwS4CPYM8hGoGSMgwialKA4otCdCJQUkXSAiHPgXMxILDlwJxgWZA/EALgB5/17/8v/v/q//I//c/In5Q/Rg8fHtSerY5m7i+t+k3Zbbn9tM3FzfRePT5dbp/uz78IL1bPlP/h0AVgG3Ak0EoAaEBhwGggXCBFEF3QRbBFsEXAPWAk8Bff/I/VX6EPiY9S/0a/Sw8970dvWG9sX4ovrO/q8ChwYtC84PhBXuGw8iwiatJ7gmdCUcI9chrh5tG8oXUxKvDnwKAAjbBgcF1wSiBMwETwVLA2cCUwFR/i37QfWQ8TfuFerC55njreBY3nTc+9we3mvhReWZ6DftWPHe9fX5Qf0SAZIDVQVwBsIGcQfqBzEHigapBVkFUgVQBK0DOwLuAHL/v/xL+sj3NvX289Ly/vIO9O7zm/XN9jD54fvp/QkC4QTkCFQMkQ8SFXIacyAxI1AifiHdHy0ejBx7GekW4xJzDgIM7wj3ByAG6APCA5sC9QJnAe7+C/5n+473kvJp7TnqRed95PHi0N+K3mrdmt3s4CPj1uel6ifuefPL9lf7XP7FATgF9gXOBlEHQwcyCLsHngdqBzoGiAbjBNMD3gKvAIb/ff3o+0T68fee9rD1PPVz9Wz1Svag9wr5Jft2/G/+2gHpBJsIDAwUEAMW6Rq+H0sh4R9BH70drB1mHOkZvRdZEwAQVw1EC30K7wf5Be8EtANbAyYB2P6V/Lv4zPSk7z3sH+qC593lgeMQ4lbhB+Gl4vHkYOjs6+vuT/Kv9S75IPyv/v8AYgJ9A2EEAwaSB2sIlQghB0cGbAXfBKUEXAOkAiUBxf8W/0T9/fsy+vX3qPaF9DT0RPT48zL1IvW49u33Pvnh/GP/TgNVBlgJWA4eE/EYYxwSHZQdMh1sHfgcIRvrGQEX0BPUENgNtQx3Cm4IkgasBOQDxAFv/0b9wfrU973zR/A47l7sver36IjnDecB563nR+mO61LudvBJ8rr0G/es+Yf7W/2X/w4BNAIRA40EtQXWBakFpQUZBlUGEgb8BOYD3QKNARQAVv6R/KL6k/jV9mH1QfTQ817ztfNi9KD0zfUH96X5xvwm/zwCbgSGCA0OkBNNGecbKB3KHZEd3B2iHBIbzxlBFgIT4A8DDvUNeQtiCcsGtwQdBI4Bh/9x/cj6K/hj9IzxNPD47b3sSOtX6vTqM+q/6uzr3O128Bvx6vGy84P10fcH+fz5MvxT/dH+GgARAWEDIgTDBI0FtgXaBlQGaQVSBRIE9QLLAKf+y/17+9b4VPbh83Lz4/Ip8jPyzvH+8s7zwvSn9w/6rPyw/38COQfFDGoSLRj8GWgbAByGG3Mc6BqEGq8ZqxY5FfYSRxIPEuYO5gztCVYIHghTBGUCzv/h/Ff6pPWg83/xlu8w75vtb+1x7YzsKu2i7Qvve/Cj8I3xO/JP89L03fV19yX5yvns+kv8x/3w/zcBVwIkA8cDfgW7BWIFAgV7Az8CPABt/qz8wvlW9+T0BfMD8nDxgvHe8TDyvvKH85P0nvYv+X77Xf6wAUAFEAqXDp8TshXsFV4X7Be1GQAaURrQG04bIhs0GmQZORq5GMAWWhSuERQRxg2VCmgH7QK5/2P6N/eQ9SjzqfFA78jtNe3A64LrBuvZ6tzr+erf6nnraexC7q3uve9W8S/y4/OF9Z33LfqF++f8KP6j//ABngK5AqIC6gGbAZgASv9p/uD8zvuG+jf5Gfkf+X75O/mV+C756fm2+kj8xP0JAMQBNgNbBk0KeA+PE0QUIxVLFh0YYBkGGfIa3hufGzEbahk8Gr8a1xjaFVQRGw8cDaMI5ARoAMX8xfgv8y/xS+/K7Wfsyemz6bPpYekz6TroUel66oLqgutW7HDuI/DA8PrysPTG9sj41vlU/Fn+CwBoAQ8CKQSYBagFXgWkBOoETwQ1A7QCpQGyAA//+vyT+9f6fvrb+R75pviN+A35CflA+Qr6/PrM/FP+VQGhBdAKvQ+UEHgRKBP8FCcXkhegGQYcixyCHEAbcxtQHEAaSBdZE8sQkQ90C8IH0QO2/yT87vZs9DTzivFv8A3uTe1F7RHskesv6nPqvuu+6hrrbuv07Abv2+7G8IbyLvSq9mD33Pn0+039kf+P/0gB2ALYAisEyAMtBC8E1AIbAw4CRQEwAJb9ofwe+0D6W/p6+Ov3Bfdp9vb2PvZz94j4y/lH/P79eQG3BUEKzQ4JECwRYhMeFd0XWhnEGoscSBxSHPUagxpbG1sZthZXE7kQaw/YCxoI1QT9AJj9T/mn9sL1E/TZ8ojwGu4l7dDrIetB6q7pDupm6azpH+uX7HPulO8c8fDyiPSl9jr4+Pn3+z39af4z/1wAdwJpA/oDMQQpBGAEywNgA6QCcAETALz91ftY+mz5a/m/+MT3I/eI9ir2TPY196f43/mA+1H9DACjBKMJ9A3zD1URHBMEFXgXERkXG0wcaxz0G7sa+xqgG6waPxi7FCsSMBDYDL4J5AXsAS3+APqe97v1SvTG8gbwtu0x7BnrK+ob6cToCen+6Kvpu+p/7GrukO++8OLxrvM19vn39vnu+0j90P6i/0gB7gK9A88EOAW9BbsF4AR5BHEDNwKeAHD+5vxN+z/6sPmB+Mr3vfaY9U71/vTD9ZL2rfdj+Xj63vxJAHcEaAlADN0Nyw/SETkVjBccGTkb7BtyHBccyxviHOYcdxvcF20UeBLMD4kMhgjUBNIB0v1I+j/4pfbD9SbzHfBC7intxuw96znqT+ou6g3qQ+pb64vt+e4N8D3xy/KI9a33Mvnj+mX80v0C/24AQgJ3A24EhwS7BH8FJwXcBL0DbgJ6AcL/Qv64/Hf7kfqA+VL4R/eC9lf2kPUs9cL1Rfbw90X5Hfst/qsBsQYhC40NZhD/EuUVYhi/GTgceR1GHk4eRh2NHfUdixzdGRUWWBOqENQMogm9BZsC4/64+i/4Tvbo9EvzfvBq7hDtz+vG6mjpNek96fzohOkZ6tHrqO2I7g7wlfGe87z1S/e4+DH6yPuD/ZP+6P9FAUcCpANhBP4ENwWxBPoDlwIQARwAuP4Q/Qn7TPlF+B335/XM9KfzLPPP8oLyGvPZ88L1ofeK+e78EQFTBkgKCg0sEPESFxakGKIaWB1HH9wfrR9HH6kffB8EHmMb1heJFZISqw56CwUIqATCAOr8M/pz+Nn2xPTg8a/v6e1M7CjrDupM6qzqy+oy69XrGe1+7sHvWvHn8tP0uvYj+On57vuW/Sv/DwAmAeYC8QMbBY4F6gUtBksFHgS4AocBWABo/vr7Pvqd+Or2ZfUS9CPzg/IU8ovxvvFt8pjzTPX29h75QPw9AO8EjQigC/wO+hHNFCsXvRlGHD0eGB9OH0gfkx+ZHw4eThskGIEVrhJvD1EMCQlUBYgBj/1h+jH4UPYo9GTxHO9s7S7sKOuX6nzqHerX6fzp/eqh7Gvu4O/o8JHylvSx9sL4tfr//ND+yv/WAP8BXAO6BLMFAQbiBa8FCQUZBA0D8wFiAGL+EPwi+lf4lvZg9fnzvfKe8YDwze+771PwNfE48uPzE/YE+bP8KAHdBT4JaAxvD4sSkRVmGCgbWB0zHxggXiBvIKYg7x8EHmEb3Bh0FnsTYRA9De4JIAZiAt3++Pu0+ZD37/QS8q/vFO6k7Cvrf+rW6WvpWum16djqaOzU7RXvrfCL8pn0ePax+Pz6afyt/fj+eQAiAoEDqARkBasFiQVRBbwEHgRQA/oBNQBL/tv8MPuB+dn3WPbr9HXzIvJa8RjxC/GQ8XDy5vON9SL4lftM/2wDxwY2CmYNoxDlE5gWlhn1Gx8elx9fILcg9yCgIFIfcx0vG/kY7hUFE9wPRgywCPYETQHd/Xv6aveg9IvxC++Z7L7qaely6MTnJ+dl5/Xntei76VTr4ux57vLvA/Jr9I/21fin+n78Tv4xAB0CqgMABRcGogYJB/8GwQYZBgkFuQPcATAAn/71/BL70/jO9gb1IPO68ZDwuO9p7yPvgu9/8PfxDvRs9lr5sfxrANkDRgfNCj4O2RHgFM0XXRqkHMIeByDDIOAgiiDhH4keuhy0Gj4YmBXVEqMPcQw+CSEGpAJF/0T8Kvk39mjz7fDc7ibt+OsB6yfq2OnP6SDqq+pn65rs8u2N727xEvP/9Af3MflA+xL96P6oAIQCsQN9BE4FsQWlBUMFuATCA98C0gFQANj+MP19+5D54vdx9vH0d/N98rvxOPEI8QTxxvGW8tfz0vXB9xP67PwXAEQDWwa7CQ0NGRDjEqMVNBh6GjccfR1MHq8eDR/BHq8dbxzIGqYYHhaHE+0Q3Q2MCl0HDASlAJz9oPq29x31g/IH8AXugOxx6+/p7Oh46DjodegH6fTp1+o/7J/tDe8N8UPzWPVS9yj5FPv//HH+6P8FAf0BpwLQAi0DRwMPA6ECFQIvAS8AJf/P/ab8UPsm+h759vc/91/29fUD9hn2WPby9s738/iA+kn8Qf6YAFcDqAV1CN8KuA1bEDUSPhTWFWwXwxjsGZca7hrzGskaEhokGQUYqhY5FXsThREID6QMSAqwB/oEXgKn/x79r/oe+M31p/MD8jXwiO5l7Zbs1utb62Prtusl7LLsru2I7h3wfPHx8rr0Hvaf9+H4Lvp0+6T8s/2X/mD/EwCQAOcA/gAJAcgAPACt//L+bP61/eD8IfxK+6z6Bvq/+YL5V/kp+Qn5h/kT+vj66/vt/Bz+j/+DAUkD7gSjBhUIAQqyC0IN5A4eEF8RihKZE2cUDxVgFXQVTRXzFFsUyxPLEjERuQ9kDuEMCws5CU8HTAUlAxUBv/6U/MH6s/jw9k/1C/TW8qrx5PAr8Frv3e6Z7oDuzO7z7n/vPvDV8OPxnfJ784b0aPVp9kv3KPjp+J75Svri+lL78ftj/LT89/xC/V79hP22/aH9q/2T/Xb9k/16/WP9vP0h/lr+w/5h/+r/kwB6AVkCIQMcBDEFgAa1B9cI5AkPCywMPQ0uDhwP/Q/HEGMRxhEMEicSRBICEr8RNBG8EOcP2g6zDUsM+wqCCc0HKQaOBOYCSgGf/+79Zvzm+jX5xveT9ln1IPQ48yXyYvG08CXwse9R73Pva++K76vvFvDE8GXx1vGF8lnzTfRH9R72N/cb+Aj52vnE+q/7lPxX/cf9PP7k/kv/n/87AIkA6wAxAW4BrwHkAR4CEwIxAnsCvALTAjIDgwO7AzYEnwQmBdUFkQYGB50HTQghCeMJfgoWC3ML6gtxDMoMWA2xDbENoA2JDYANTA3wDHYMBgx4C9kK+wkDCQ0IBgedBW4EDQOQAVcA6/57/QX8rvpe+TD42/Z39Ur0SfM48jzxXPCk7/7uju5L7kDuTO6k7iPvmu9O8CvxHPJE80r0VfXH9gT4e/nF+jH8a/2x/iEANgFDAjIDzANdBOYEJwWWBfQFAwbOBaoFggV0BUcFHQXqBKYEewQ+BFYEZARjBJQE3gQNBW0F+AV/BgIHNQfFB1YIowggCbIJNwpmCqIK5wr+CkILNQsAC84KagowCtYJ/whBCHEHZQZvBVsELgO0AYQAJv+V/Uj8q/oV+Y/3K/bf9LnzvPLG8SLxbfAC8L3vau9074vvzO9E8NbwnvGS8o7z8vQU9jz3ovjv+Xb71vzl/fn+LgAjAUoCOgMJBMEEHwWkBQMGJAYiBvoF3AWPBS8F1QSDBCMEqQM+A9ACfgItAvsBtQGnAacBqAHhAQ8ClwLwAmEDLQS5BHEFFgauBlQHtwcMCJMI9wgxCZ4J0gkBCgMK2Al+CQcJjAi0BzIHXgaJBbsEhQNCAgIBuP9j/kv95fup+lv58vfz9vj19PQX9I7z9/KK8lzyAfIN8hjyZfLN8mDzGfS79J/1k/aG96D4yfnT+gX8N/1X/lL/VwApAQwCggI7A9ADGASjBP8E+wQhBT0FIgX9BK0EiwQUBN0DbwMvA6kCRgLrAXABUAEpASUBJQEfATcBZAGUAcsBKQLdAmgD0gNBBJkEQAXWBZoGcQfCB0EIPgiaCIcItgioCJEItAjGCDUIkweyBtoF4wQTBJID3wHhAu7/jPwZ+1H5hPgi9172fPVw9PrygvFw8NTvfO8y8GvwMPFC8oHyDfPS8+/0q/ZC+Kv5JPui/Jf9gP6S/78A4gGWApIDCQSUBOcE1wTwBOcExgSpBCsExwM6A7MCWALlAVkB+wCqAAcA6f/K/8z/9f9OAGAAjQAtAdUBpgJVAy8EEQXaBecGqwdkCDUJ4gmlChMLiwt/C4YLqAtLC+IKYgrvCRMJGwgIB7QFXgQDA60BTQCj/kf9+/ub+lD5Bvj79sb17fQ+9MbzXfMg8xzzMfOS88HzDvSh9EP11PW39n33QfhD+T76ZPs+/Nz8l/1r/kT/tf8aAIYApgDJAPUABAHfALcAkACmAHUAKQDt/4D/Wv9v/5j/zv8bADAAeAAyAQcC4gIkBEQFOQZAB5MIRgoNDK4NhA5kD4cQ0hH9Eu8T1RNwE1gTuBKyEj4SBhFPD1ENwwsmChUItQUmA1gAvP2G+3z5PPed9Cby+u9g7lztLuwG603qKepk6krqUuow61bsn+2q7kfwK/K685T1ZfdQ+Qb70Pxw/h0AdQFdAmIDVgQCBRQFFQXYBMAEUgS6A+cCxAHcAMn/uf6o/XX8Jvs6+or58/hU+Of38/cu+Iz4JfnX+cz6Rfz//bz/mwH+AwUGAginCsIMUw7RD5AR9ROVFSMWURaTFiEXMBerFp0VShTSEv4QAQ/7DKYKDQhiBbICTACp/cb6bfiB9pn0bPJF8OjuL+6J7TDt0ex+7OPsbe0+7jHvK/BI8aTyPPTk9aj3J/nr+nH85v1Y/20ARwFKAgQDLQOvA3sDZgMdA5kCIAIOASYARP+U/nj9oPy7+5X6N/rO+bX5nPmB+RH62vrl+xj9eP4iAL0B7wNLBosIcAuFDfMOgBCpEr0VaRcMGFcYlhiLGdIZjxm4GDoXaxVuE4IReA8YDc4J2QbrA5oAWP0l+qT3BPVv8qvvEe136/zp/uiI6JDnReeU59nnQelN6pnrVu0G717xU/OE9fP3S/qW/In+FQC6AUYDmgS7BS8GcgZtBrgGWgYpBWsEIQPhAdoANv+//Rj8WfpH+eb30vYH9kr1CvXy9D317PXL9pn3Hvn6+uv8TP+KAU0E0AfNCs8Mkw5QEU0V9xcMGdoZ9BpYHPMc5RwOHB8b9hkjGBMWphMKEW8OWguwBzcEawA0/bL6wvef9Fnxo+6e7DrrPOoj6Ufo6uf154nolenM6hfsqe1y7xXx+fL19EL30vmA+7j87v1l/zABiAL5AukCMgODA10DwgKjAaoA3P+7/m/9A/ye+mj5SPhC92b2v/V59W/1ZPXT9dz2Bfh1+WH7bv2E/+ABvQReCC8MWQ9iEQETRhZWGtEcgh3kHQYfEiAxILwf3x4fHQ4b5RhdFj4T0Q+vDEsJhgUXAeT8lfnM9u3zYfAw7Z3q5+jL5wjnfebf5crlO+Zw5wzppOpb7F/ur/D+8hf1Q/fJ+UD8Zf7H//4AfgIbBEkFcQU0BewE0gR/BKQDQwLGAHD/7P09/GL6+PiH9w/2o/RC893yqPK58qry3vJH9Iv1XPc1+R370P1eALIDPAfRCn4OkhBKElcVRxmnHIUd2h3dHlUfzB9BH30eKB2pGosYwBXVEskPaQwkCXEFNAHi/MD5J/eV9DHx0O2B68TpMumV6CroBejc57bo9umi68jtgO+T8bvz8fVo+DT61Pxn/xEBJgK0AigE0AW7BocGqQXTBDYExQOgAv0A0P4q/ZD7mvnp97L1XfQl89PxivCG79jvT/Bz8InwUfEe80X1sfdF+rD8jP/KAusGTgt3DyoSixOvFgUbQR/YIJ8gFSH6IfEifyJMIXcf+RyNGpUXExRRENcMSgl1BZwAhfvY9xH14/Jz7wfsr+me5wLnuuas5u3mp+Z150jpRutZ7Tvvs/H28x/2gfiW+if9r/+7AR4DawNTBPsFBgcmB/YFqQQvBM4DqAKwAGX+k/wx+135J/cM9U3zH/IB8brvje5H7sXuLO/K70zw7vFS9OH2qvka/Pv+kQKoBhILFxBwExsVfhcZG1wgaiPIIu0iuyM9JCQkxiI8IYkeLBuYGOAU9xBNDW4JPAYZAR38NPgn9UPz/O8X7b7qkOjV5+LnQujD6JLoW+k26yzt1e/58Sf0n/b0+GD7z/1NAHQCIQS/BYMGvAapBw4IGQhHB3AFZARyA04CYABk/UT7O/kB9yr1iPKx8NjuM+1W7BDrwOqG6lHrtetw7GruY/Da8432kvlf/TMAYwQdCX0O2RMxFQQX1BqMH/YjPyTYIzIkTyTKJK8juiEVHz8bmhgYFQwR7Ay6CFUF4gDb+0T3tPNy8ZDvbewa6i7oGOeq5xHo3ugI6eTp/usH7qXw6/IS9dj39flA/Kj+kwCgAlMErgVvBikGuQaFB7IHCge0BN8CzgHnAFP/YPyH+Sr3d/X+80nxIu8r7djrYOsv6hDqxOl46tvrlexi7mvwVfMI93T6F/4RAXsEiAlED7gUeRfFGJwbbyAsJdAmHSYFJuolhSbqJccjTCFrHcEaIRf6ErAOWQoBB94C8v3I+Nz0QvIy8O7tIeue6CDnKucD6LLoYOkU6oDrmO028M3yPfXY9zj6t/zH/rYAyAL+BHUGIAe8BjYGngb+Bs8GuQQgAmcAEP/U/aX7ZPgL9vnzLPJ18Hzu/+y/6//qW+rT6SnqNusx7ETtue7P8GzzOfeH+vn9TAEUBNkI0A3KE3UXmxixGrsdRCN8JjYmFSUmJOUkWiTmIiIgbhxFGaMVEhJsDV8JYAXRAcn9mviu9ILxVPCJ7g/sI+ov6GnoWulz6njroOso7Z7vNfKr9Lv2Ivny+3H+QAC4AfMCHwXMBigHcgZVBTQFnwX6BAIDMACw/aH8afuY+X/2nvME8gDx3O+97QPs5+rJ6qvqJOpA6uDq4exm7lXv/PC889j3O/tx/mcBcATGCPQN9RM/GOoZIBs4Hl8jNiefJ4wmLyUTJR0l3CN1Ic0dTRpNFnwSYQ4YCkIGiQKH/qf5XfVk8snwSe9V7UTr8+nl6STqm+sC7TnudO+l8BvzxvW3+Cn74Pzd/q8ATALbAy8F/QWgBkgGfQVpBM4DAQTEAp8Atv14+6v6Wfl694T0rfFP8FDvh+5u7Ejqn+nr6ZHqNuo+6mnrLe0+7+fw8PIB9u75dP7mASYETwfpC5cTbhkBGlcYhxi0H0AmAycSI24dnh3rH9Egyh1HFpoRmw9eDn4LWwXKAJP+4vzA+sH11PFZ8XjyvfOo8XDu7u1P8HX0h/bU9Zf1tvYD+gD+VP/2/08AyQEfBJsEywRSBLwEjgWABHYCHAA7/0T/rf5n/Oz4uPaM9WL1a/RU8hjw6e217Q7ule0b7Qvsv+vG6yLsD+5F73HvtO+t8FzzlPbE+DP7j/zx/iQDkwblCk0NAxAIFN4WFRqCG2wdfiDXIUsiaiFGIGEgrx91Hj8cJRj2FEASKBDoDXcJowU/AtT/v/2e+sD3s/Vo9Krz6/KN8dHwdfCr8QLzHfNG84/zQfV89xr5Gvqe+pH75vw5/hz/Xf8b/5/+lf4s/rX9z/w0+w36Ovj19tb1O/QR8yfxGvBC7x3uxO3q7LfsjOxq7PfsqO3K7rnvv/B08r30DPd3+ev7Ev+tAkkGbQl6DF4QNRWEGYgbVRzzHT0hBSStJGIjpSGZIOgfqh7/G3IY0hR5EZYO/wo1B+oD8wBW/ub6wvd19QD0y/P/8rPxovAa8Fnx2PLw87P0BfV39mL4Ivrf++38Bv5f/9z/xAC8ANwAegEgAacApf4j/X/8pfuY+r/4kvbh9G/ziPKU8W3wRe8d7n7tCe2m7GvseuwO7aDtju4n77rvsfGp8932/viu+gD9CQC9BKoICgxWDusQzxVuGhgdtB0eHgMhliM8JKAiUCDoHmgeMB1RGrIWhxKsD00Nlgo3B9cC9f8h/vj7zfnF9nf1A/Ux9Nvz9PL28l/zDfSS9TL2m/a499n4hPoE+4f71/yu/Vr+Lf7z/ff9Rv7//Sz9lftl+tf5lPhY97n1LPR982fyTPHm78Tu3+4b7s7tO+3+7Drtyu2M7ljvFvAy8aXyOPQt9sH3b/oA/e7/qgLbBE0HVQsfD6QSOxXRFgYZvRvsHYgfpx/qHj0fxh7QHYUbdxkMF+QUtBLyD+8LaQhTBjUFRgMAAPj8qvpN+vb5bvkb+JD2jvXt9a32IPjb9833e/g4+UL6rPpp+zD8cP2v/Ur9jfyx/IT9i/4U/lz8zvmV+HD42fje94f1e/Pe8XPxQfEy8YLws++87pLuBe6J7gnv4+8s8SDx6vB28fHy3PUx+Iv59/kc+rP8fQBoBPcGIAidCTcM9A8ZFBgWAxd3FzwYzRrFGygbRRrcGBAZQxhMFgkTDxAvD7wOwQxICRAGWASBA14D6AJdANv9evxG/fb9nv3o+9z6n/q6+2n8sfwH/LT7G/x0/L/9bP0E/aL8BP0b/ZP8mfsQ+3L6KfrY+P72PfWS9K30xvMo8i7wVe8W77XvE/CT7wfuJ+347VzvVfB88EvwqPCd8THzL/U39qL3IPl1+oT8k/1xADADRgbjCJ4JAgsPDYoQQxQIFfEUXxSTFcwXiRd6GM4WwhWBFDATsRI+EYUPZg5hDAEKcwe9Bh8HCQWUA6IBRQF7AKP/9/7j/qz+DP4r/W39w/0A/mz+Ff45/mL9wP2X/aT9K/1m/Pv7k/uu+tj52vjI9033E/YJ9XTz0vLP8Sbx5/BT8L3vYe8y7yLvtO8D8HXw0fCb8efx7/LL81/1wfbU96/4PvkL+8v8Uv9MADQBpwIkBU0HrgjbCckLRg3dDmoP6Q80EWkSFRQiE8gSAxJtEoQTABNwEQUQ7w4VD/MNFg1yDHQLxAomCYUILQgWCIoHhgbzBL0EcgSABBIEIQONAsIBmwC5/7b+E/56/SX8dfqC+N73vfcT90T1RfPn8fTxj/HL8BnvHO5D7oPuJe5H7RPtOu2j7mDvTu/y7lDvL/Eg8/DzO/Rr84j0F/eZ+Qr62vis+FD6dv0//7z/Jf+BAM0C4QW7BzsI3ghXClwM9A21DgIP3A//EMoRaREtEdkQYRHvEZQRxBDlD2oOQg5FDjwPdw4mDM8KIwrxCooKywkLCKIGygWvBZMEDgMgAnsBCwG6/i78ovqr+nn7Tvpr95f04/O29HP16fQs8ofwIvDO8A3xzu/97urua+/P733vIO8I8O/x6/PZ8wzzDvOT9Jr3LPmZ+Zj4gPhj+nz8hf6X/nr+K/+RAH0CagPUBKoF/AbSBx0I/AilCVcLqwsADNYLiAv9C18M5ww6DfwMGwx5C0cLkAtfDEoMNgvZCZQJVwpaCv8JywjCCAEIewdgB5AHYQc9BpIFRwTCA0MDWwMnApQAxv61/a39Df34+4P59fd590r3cPZ29BrzkPLA8ozyh/Gg8JHwPfFh8V7xHPH18KvxDfPe883zS/NC80X0QfaN9/X3r/cl+JD56PuM/cD+P/+F/5AA4wEJBAYFIQbQBdAFLgaqB7kIywgOCDYIXgjSCM4I3wdGCJgIlQlyCJwHvQa7B6YI9whdCA8HiQadBkYIyAj6COQHhQcnCKkISAnXCNYIKAg7B4AGMwZXBnIFrwQkAzcCyQEjAToAPf+6/mb9Ivzp+ir6k/ld+LL31vaA9en0MPRA9Ev0J/Tp88TywPKK89r0/PRS9GvzjvN49Pn1LPc294X31fcM+Yb6f/za/Xj+//65/6UAlQGfAoYDCwTpA64DrQM/BDoF/QW4BqkFEAW3BGUF2gaLBtMGxgXhBYIFwwWbBgkHZgftBt0FUAWNBl4HjAj7B7gHhQY1BhYH2gfOCCsIgweTBgkGsgYzB7gGiQXvAwQD0QESASYAm//m/qb9V/wW+6L6Cvpa+cr45/fi9jv2n/Vv9bD0b/SY9In0UvTW8zH0cPXz9ob3qvay9hr4b/lh+rP6YfuW+1f81Pzt/cf+v/6g/34AKAGgAf4BRQIVAzEDhAPzAlIDXQOwAyIEAARMBC4EeASxBNkEDwRmBKkE0wVxBRcFjQTCBPMFgAagB70GKgauBfkGzQcNCBkH7QY0B40GjAawBa4FvwTHBFIESAMVAigARADzAFEBKv+z/Or7lPwT/Sn8VfvV+Y/57/hv+YL5DPmu+OD3afgT+Nb3bfd9+Dr5ZPku+Rb5ofl8+sX77/v4+7v7Ify+/FX9tP3Y/cj9Tv7j/hP/L/+V/woAlwBfASsBjQANANcA6wEjAtcB2wDoAFoBCAJCApgC8wJ3AksDLgMoBBwEmAT0BEcFWAWrBIIEawS0BS0GOQaxBMkEuQTOBfQF7wWgBfQExQQSBOUDKgTQA7cCFwL6AIIAzv5f/3T/Tf/x/YH8Hfw8+5z7FPxN/MH7iPr3+QX61vp0+xr79fr/+h/7U/r2+sn7zPzq/KH8y/t9+xz8Mv2T/jn+nP3l/Oj9Iv9f/y7/kP+qAEIAvf9v/6H/cwDuAEQBEwDP/1L/vf8MATYCkwJrAb4BJAJKA5wDEgQWBKMDsAMbA0ADNgPwA7sEZwQrBGgDkQM/BLQEUAWxBLQDegI5AmoCKgIrArQBFgFyAMT/cP9x/1QAhQBa/9D9XP21/Z/+w/4k/mr9xfwH/Vf89vxy/ST9YPz++0L8APzx+578T/2N/TX9cvyJ/Gr9rP60/nb+Df63/eH9LP6x/t3+sf7C/mT+j/6W/gT/3P+QACcBQwC9/9j/kQA7AfMB4AEWAYUAuAD0AckCbgNAAwID4wLZAk4DSgMkBGwENATcAmUBnQF/AqoDggMLAwwCYQFcATgC0QKSAgECNwHKABwAyv+i/0wA0wAbAEv+sPzy/Nn9zP5X/47+xfyU+wL8Tf1A/jb+ff19/FH8Rfy2/Kz9qP4//2/+y/0//WT9U/7Y/3gAmv8l/gr9lv3P/jsAOgBG/yD+Vv4m/6D/GABwAGYBxQD//xr/w/8fAUoBeQE5AfgAFQCC/10AVALbAv0B1QDvAOUBcALUAqYCcwP2AvkBhQHfAbYCRgLoAXYBhgEOAcwAqwDYAFABawEsAWgATAAeAJMAsACEAEoA6P92/0T/Iv9E/7f/IwDp/8z+yv70/rb/XQAeAJr/tP6c/gv/Yv9n/3P+a/6l/hn/xf7z/TP+EP+5/zH/m/6a/tv+Lf/B/5v/jv/8/tH+3f42/4D/dv89/0X/p//H/7n/nf95AAwBOQGMANL/CwDPAHIB6AAiAAAAYQCUAEcAAAAhAPgAlwBmAM7/JQCgAMQAzQAKAGIABgAnACEAPgBNAAkAxf/r/5MA6AB0AEgAzgDyAMwAvADuAJMApgDCAKIAVwAVAFIA8/8aAPf/zf+K/0f/4P/Z/1cA4v+A/7r//f9FAG7/Ef8E/+3+p/5M/rf+Ef8x//P+Cf/c/yAAFwDl/zQAZgC//5P/AwBiAML/tP7C/oH/QQAYAPz/DgBpAHYAMwC3AJcAmgDY/5b/xP9z/1b/7v6x/7v/lv8A/wT/VQDWALkAAQD//wEAjQBxABgACwAbAEIA7f8+AEUAjwCmANYAXwFjARsB1wBKAWUBbAH/AKwAEwGsAHcALgCdAA4B4wBqAE0A/QD1ADkABAAFACYAtv8t/5P/ff+F/7T+4f4y/23/QP/I/tT+7/5W//H+N/9T/1f/Tv9l/8r/7v/i/wAA9f8AACkAdgCRAE8AJgAVAHIAdgBIAGsAcACqAI8AiACAADAAXwCWANYAVAA2AB0AIQBEAB0A7f94/4v/yf+c/9r+1/4X/4b/pf9h/1z/Sv+d/63/vP90/1T/df+0/+3/s/9n/4H/UQDYAIQA3P8GAIEATQAtAPn/IwAsAOH/aQB+AI8AwP/h/20AkQB3ALb/HwBrAKUAKwDE/woAYAA/AAEAQwArAAEAEQA1AIQATwAiAP3/PQBEACkAaAAxAAsArv/x/woABwCr/3T/sP/Z/97/Xf9U/63/sP+w/5T/7f/7/93/CgDJ/x0Auv+K/5H/sv/u/8X/o//J/y0AIgALAAQAWwCCAEAAaAB5AI4AUABDAHAAnwCEAOT/RAB4AIYAFgDk/zoAgABGAMD/DQAgABwAsv+V/57/Z/+p/+X/EwCW/5n/BgATAN//0f8pAGsANgDN/9b/EABwAOv/1f/6//T/CADT//n/HAA+AFIAlABuABIAwf/M/2cAUQDh/4P/e//H//T/0P+P/5b/q/+//7L/bf95/33/mP/G/5j/gv+H/7r/kP+Q/57/k/+5/9T/HQAsAM7/xf/Z//L///+t//7///91ACIA3v9sAHAAhAAMAC4AMQApAG4AWAAwAPb//P9EAEEAcQBpAF4AIQAKAEoAHAAvAHoAYwDS/3r/iv/K/+r/of9i/5n/pP8FAEEAegAZAO3/FgASACYA4/84AB4ARgAzAFkAiQB2AJwAkwC1AJoAhQCAAKkAsQCAAGUAVwBLAEoADQA4AEMAFAAxAPz/5f8PAAEABAC+/9P/7/+y/9T/7f8EALv/hv9///T/2v+5/23/fP+2/6L/4f/X/w0Aqv/I/+v/DQBQAFsAIgASAFUAVAAUAPr/CAA5AC0ACgAFAPr/CAAVAI8AYQAnAAgAJgBeAB0A5P/2/8X/7v+x/7r/2f97/8z/nP/M/8T/1v/X/7j/1P+q/7P/e/+j/wIAAADF/3P/uv/G/yUAEQALAFQAAgAUABYAWgARAA8APgAhABkA5//h/1gARgBEAA8AIACzAHMAVQAeAE4AIwDo/6X/u//L/7r/iP9+/8//1f/a/67/9//o/9r/v/9s/4P/d/9i/4v/Lf9X/1L/ef+S/6b/wP+8/yYA/f8FAOr/PgAuABIA7/8IABIAx//U/6r/p//A/7D/u//l/7b/wP/G/+T/6/8HABsAQgBBAPH/BQAsAD0AFQDR/8r/FwD+/+D/5/8OABsAKAAxAAwASABmAF8AWQCNAH8AMAAUACQAQQAwAAUAHgA0ADkAYgBAAD4AcABXAC8AUAAxAE8ADAATAGkAOABAACgAUQCTAOAAwwB1AHIAjQCWAJIAhgBSAEAAKAAwACYAJQA0ACIAWgBDAFAAEQAIABoAxf/t/6r/t/+X/8r/CwC7/6L/xP/0//D/8f/n/+X/AwALAN7/0f/A/wgAIQDU/8r/v//Q//v/EgAJACoAHgDr/+n/5v+y/33/j/+T/13/U/+a/77/7//W/wIAq/+h/6L/v/8WANL/3f+h/+r/0v+O/5L/g/+5/7j/av+m/+b/JABCAB4ARQCHADsA2//Z//b/+v+i/67/of/O/+H/wv/R/+n/CwAkACIA7//K/8v/IAA5AAsAyP+n/9r////r/7z/0f8gABcADgBBAFIAXgAnABIAJQAmANT/5/8RACQAEwD0/zQAVACDAGAAbABLADAAJwADACYAVAA7ADUAMgBRACkAEQBfAG0AWAAsAB4AMABaAAsA1v/p/xkACgDm/9//CgAVAA0A8/8RADsANgBuAEwAGQDf/w0A8f/N/+v/8P/y/+D/tP/I//H/9/8vABgAFAAnADkAMQBPAHAAYQAeAAkAOgB5AJcAdwBzAFcAHgACACsARwBIAB8AGwAKAAAA8v/t//7/NQAdANj/o//Q/xEAzf/U/73/zv9+/47/kv9t/4b/qf+i/3X/e/9x/9H/5f/6/9P/dP9u/6X/vP+n/1f/aP9L/6P/7/+v/7T/0/8JALv/t/+0/wgATABNAAsARgBkABIAEQD8/yMALAAoAOf/AAADACcABAD8/04ARABIABoALgAhAP7/mP+I/7r/2P+1/4v/vP/0/93/n//F//n/GQD//w8A6f/1/ysAOwA4ACYAMwBEACsAEwAFABYANwAbADEAHwAXAHMAhACnAKgAiAB0AD0AWgApACkAOAA5AEIADAABAOH/5/8PAP3/AwAUACMAIgD9/xUAUwBbADMADAAqAPf/u/+y/5P/kf92/4P/ff+Z/+n/CAAWAEQASQBpAGYANwAtACsALQBfAB4A8/8VABkAYABHACIANwBhAEUAFwDM/73/AwAgAOn/qf/F/8//0//v/+z/CADx/9X/FAAMAN7/9P/5/+b/8v/u//v/v//J/9L/0f/E/73/DQAQABEA5P/h/xQAGAD+/w0A8v/9/wcA1P/h//L/HQADAP//DgATACEAFAAhAPz/5P/m/wAA///c/9v/1//6/xYACAAPABMADgAqACkAHgA7AEYAMQAsAC0ASgBCACoAOwAGANn/FQACAOT/3f+7/8//4/8KAAUA4P/O/+n/6////+3/1P/g/7X/zf/X/6D/gf8//3r/of+L/9T/xf/b/+3/LAAQAA4AFADh/8v/rf+n/83/3P/A/wEA8/8hAAwABAAXACUACwDm/+X/+v/u/7z/6v/g/+7/zf+2/5f/w/8TABAA3P/U/+//AQDz/9X/8P/q/7D/jf/J/+D/2f8EABIAFgBOAEsAFQDx/ykALQAmABMACgBdAG8AZQBMADgARABxAD8AGwAtAC8AJQAqADYAKABZACEAMAApABoAIwD7/xgAAgD7/+z/BwAcAAwAGQAcAPb/HwASAPb/2/+u/9r//P/x/77/8/8PAPj/EwA8ADMAEQAOAAQADgATAPT/3P81AEYAHAARAP//SwA6ABYACgAzADIAFQATABIAEAD8/w8A9v8JABcAwf/X//n/5f/U/7X/xP/p/wAAvf+4/83/3//i/5j/mf/J/7T/t/+T/6r/1f++/+X/BAD+/9X/+P8vAAEABwAfABQALAAbABAA9P8PAAUA9v8FAPT/DgAwACkA/v/o/97/u/+c/43/hP9n/0v/ZP+G/5f/gv+d/57/qP/E/8z/2f/p/wkABAD3//7/GQAPACwAKAAhAAkAOQBsAFEAkwB9AJUAlACpAGwASABfAFUAZgBZAGQAIgAUACEAWQAnABsANAA4AEIASgB1AHoAfQBeADIAOgBSACgACwALAFYAcAB4AEYAVwB0AHQAbwBRAEkAagCTAD8AKwAyAGYAbQB4AIcARwAnABcAIQALAOP/xf/E/w0AIQD+/8X/AAAoAAoA2v+8/8n/5/8CAPP/7f/T//j/3f/w/wYAAADz/wgA/v/7//D/7P/3/7f/v/+3/7P/wf+R/3//pf9p/0r/if+S/6P/tv+o/9r/3//H/7H/1f/U/+H/d/9j/7P/0//D/3r/1f/x/w8ACADG/87/EAA0AD8ARwBcAGYAfgBpAHsAeABlAGIAKAA2ADAADwDw/+T/GAAUAAEAJQAKAAkACQAfACYAEADc/+n/AgDN/9f/m/+V/+L/rv+U/5b/rP/a//X/GAADAB0ARAAxABoABQACAAkAAQDl/wAA7/+t//7/BgAIAPz/0f/I/9v/zv/D/7j/lv+4/5z/iP+S/6H/gf+H/7D/yf+h/67/rP+///D/2P/b/xYARwAkAP//FQAzADEABADJ/9L/5v8nAAwAEQAcAAAA+P/5/8L/rf/8/wAA+f/W/7T/5f/i/83/0P+O/9P/+v/V/+r/8//s/xQAKAACADcAHAALAP//5P/9//L/BgD9/0oAOgAsADgAYwCUAI8AjAAqAFoAYQBEAFoASwBgAE4AOABGADQAPgBHAE0ANQAQABQAHAAHAEMAQwAqAEEAQgBeAB0AKAAWABMAEgD3/ygADQAPAAoAAAAmAPz/HQAoACQADADC/7v/5v8RAOb/w/+y/8b/1P/U/8P/yP/4/9X/1v/4/xIAHwAEAPD/6f8DAPL////0/wUA9//N/+r/+f8bAPP/0v/Y/wsA///+/+r/3/8vACIA/P/2/xgAMgA2ACoACwAFAA8AAAApAPz/6/8fAPD/BQAYAO7/GQA2AF4AVwBWAGkALgBgAF8AVgBXAGUAEwADAAkA9/+7/8b/KAAbAIEAUQAfAEYAFwAcAPL/xv8FAAIAIwAWAAcAIQD9//D/+//v//H/AADM/+//6P/P//P/3f/f/zEAEQDZ/97/jP+2/5f/Zf90/1//V/+c/6v/kf/I/6z/zP8NAAsA8v/p/8r/9v/N/5T/sP90/4f/qf+Z/7//m/+Y/6L/0/8EABIA5//7/yoA7/8BAMD/lv+t/63/uv/F/9f/CwC7/9r/4v/n/+r/CwAnAPr/ZQA5AFoAQwAZABIAWQAnAPL/QwAkAD0AbwBjACoARQCPAFsAZACNAFIAbwA7ABwAUQAXAO7/x//C/wIAAwAZAOX/GwAnAAMA+P8JAC8A+v8LAOb/AAAWANX/AAAQAOf/5P8lABIA4//3/+r/IwDP/7n/uv/K/w8Ax/+9/9j/lP+N/7j/qf/g/97/y/9SAA4ABQAUAO//QAAVAOL/+v8NABcAPAAcAHoAeQBGADoATwB8AFoANwA5AFoAPwAUACoAAwAgAE8AKAA/AAgA+/85AAwA9f/w/9b/+P8QAA8AGAA2AO3/FQAJAPj/8f+3/+z/8P/j/+b/0P8AAFAALwBcAGMAKwCGAIIAbABOABcAgwAfAAQADgAKAPj/tv/i/+D/BwDB//f/TADn//z/AADi/9z/4/8gAKb/7f///8X/5f+4/8L/0v/C/5j/0f/s/8D/zv/8/7j/wf90/+L/HwDH/+z/CgApAAcAMwA7AEQAIAAaAA0AFABdAC4ACwAAABgANQADAA8A7v8AAND/1//p/57/9//c/9r/EwDr/9T/5f/l/+T/uf/A/5n/pP/B/7z///+U/5j/mf/D/yAA5f/2/+//FQArABkANADj//f/QAAuAHoAPQAGACkATAAtAC4AOwAFAFkAMgAVAAEA+v/z/wYA3P+q/+r/5v8AAAoACQDk/8X/6f/h/+D/AgAHAA4AMgAEANf/3//a//3/xf/e/+b/BwDu/xIAPADa////BgAoABAAzf/i//X/AADt/6b/GAAjADYARQDw//7/5P/n/2AALwDR/wAAxv8cAFUAEQAyAAUAJgBjADkAPwAwADUALQAuABkANQDc/9X/JgD///v/2//b/xcABwDW/wIAz//L/xkAsv+d//b/2f/m/xMA0v/4/04A/P9iABAADgAFAMP/GAAXAEgAMQA0AP//EAAVAMj/2P8fAP//EgAJAPP/JAANAEQAJADi/woA2/8BAAQAjf/l/+X/y//s/6//AgAPANP/EgAbAP3/EgApACgA1f/Z/2IAPAAKAAUAt/+4/+H/2//e/xsABgD5/xwA/f9JACQAz/8KAAEAzf/d//L/z//i/+L/w//E/6//HwAVAPb/EAADADcALQASABwADgAAABwACQDr//P/LAAhADkANwAYAAwA+P/w/zAALQDo/+n//f8VAKv/3//6/8v/tf+z/5T/hv/2/7n/y/+1/5P/kf/v//r/pP/q/8j/wv/M/4z/2v/+/6n/3//9/+n/8v85AFIAQwBfAEUADwA6ADQAQgAvAEMACAAKADcAHwA0ACgARAAUAAsAJgBWABIAAwAqABQACQAhACAALAAdADEAIgAjAAkAMgApAP7/XwAqAGYAeQA3ABsAhACMAF8AUgBfAI4AggB0AFQAjABXAFUATQABACEAKQD7/x4AYAA1ABUAKQDw//f/7f+T//b/z//h/77/n/8YAO3/s/8IAAkAAAAOAPj/EgDU//7/8f/c//z/IwDg/9n/2//k/9f/+//v/8v/s/+b/6//q/+z/8H/wP90//H/zP/E/5v/cf+//9v/yf/j/6X/7//M/+f/GADe/wcAt//Q/9P/DgDl/8b/4v8aAOj/6P/2/8n/4P/E/6v/1v/l//j/8P/x/+n/yP/G//v/7//W/yMAIADk//n/LgDk/zoANgD//w8AJQD4/83/yf/k/+r/wP/g/wwAIwD5/zEAIwD3/x0A8v8eADEA/P/n/9v/6v/f/wAA0f/A//T/7v+8/9b/5P/w/ywA4v8FAD4A7f/o/9j/ov/v//v/tv8MAM7/0P/6/+3/FQDw/ysADwD5/zYAHQD5/wAA8v8wADYA+f9NAHcAWQBxAHgAYgBfAGAAaQBzAE8AiABWAG4AjwBaALIAnAB6AHYATQBPAJoAZABDAGcAjgBtAC8AKABUAPn/GAAuABkAagArABoABwA6AMv/2/8eAP//CgCw/7X/wP+1/9f/3f/Q//L/GQDH/8H/7P/A/9T/qP++/+7/vv/I/+X/yv/f/8r/2f8rAOb/wP/y/xQA3v/n////8f/s/xkA5f/H/+X/6P8YAOT/9v8RAOX/CAARANH/7v/T/9D/1P/W/9n/7//U/7X/7//7/8v/4v/0/83/EAD6//P//f8eACUA4v/d/+n/uf+y//L/5v+0/5H/ov/g/8f/rf+0/87/mv/A/63/kf+n/4P/x/+R/8j/yv/Q/8z/2P8lAAwALwBUACwAPgAsADYAVQBYAHYATABBABcAHAApACUASABmABMAYwCXAEMAVwBaAEgAewAzAA8AKwAkACQACgAwACQAKwAvAFQAEgA8AEEADgATAA4ARQANAOz////s/6H/tP/i/6z/0f/O/6b/zP/W/+L/0//X/6v/zv+//6L/rP/O/8z/q//S/67/pP+p/6n/0P+5/7v/AQC4//n/BQDs//v/+v8GABEAKAAUABMAAADq/w4A9f/2/yIABwDv/+P/8//r/yEAyP/x//D/xP8SAP//3//p/wUACQD9/+z/DwDq/woAGAAdACYAHQAkABYAGwBBABgAKAANAE8AZAAUAGkATAB3AFwAYgAkACEAOQAaABkAKwAPAAsAUgAoAGEASwCIAEwAEwA9AFcALwAFADIAGQApAAIADQASAPz/CwD0/+H/IgA7ABUABwAYABMAFAAGAP7/EQAJAAcACADk/xAAEQAAAC8Ay/8KAP7//P8LAMn/4f/p/wAA//8AAPX/JwDn/6L/yP/0/83/gP/I/9v/tf/n/8//8P/O/67/1v+0/+f/9v/y/9L/2f/u/9//EAAfACQA9v8QACwA5P8oACwABgADALz/8P8bAPD/FwAFACcALwAcAFsAMgAlAB4A+v8GAOv/1v/k/xAA1f8bABAA1v8cAA0AKgD4/w4ACAAUAAkA8P/o/+7/AAAsAOb/6f8TAP//JgAcABEAz//r//3/0P+4/yUA1v/I/9b/4v/y/9r/9v/v/wIAAAD4/wwAWQA5ADwAKwAhAEMAWgAgADMAIwAzAF0AMQBEADQANwAzAD4AQgBOAP7/FQBCAAQAFgD7/+X//f/s/8n/AwD9/wEA9P/q/+n/0P/v/wAAov/G/9L/iv/C/7H/vf+r/83/zP+v/8v/9//K/9X/0//I/9f/3P/U/9D/nP/K//r/3P8RABIADQAdABkAAAA3AB4AGQDy/xgABAD2//L/+/8oAP///P/m/+H/+v/z/8r/vv/Q/7//yv/l/8L/0P/b/9b/1P/7/xQABADj/wUAKQA2AP3/IQAUAN3///8KACQADAAuABoAIgAcACkAIAAIACMA6f/e/xgAFwANACUAKwAWADIAIwAtAAAA7/8TAM7/AQD4/xIAHQAFABsALgALAAgAHgDl//z/GQATACQAKgAjAA0AIwAxAPn/8v8HADEAEAArAAAAAADt/77/xP++/+X/pP/Z/9P/5f/t/8D/wv+u//P/3P+Y/73/8P/o/+v/7f/V/wgALAAUACAA6/8HACoA5//E/xkAAgC+/xAA9f8SAA4AEwD2/+3/JgAgAB4AAgD0/+//+/8SABUABwD9/83/5f/6/wAA3f/2/+7/0v+4//v/yv+l/xMA2P/q/+X/CgDd//P/CQD8//3/AAATACUAKQAxADQAEwBNACgAQgBCAB4ABgAxAE4AOgBDADYAIQAvABUABAAIACIADwD7/xQA7P8hABAARgBwAD4AKgA0AGMAOQA+AEMAJQAlABkAPAAiAAQAGQAcAAoAIgBIADYAPgACAPf/SABHAAgA7f/x/+7/+v/y//z/+//a/wcA/v/t/+P/3P+8/8H/tP+u/6j/mP/M/6f/lP+d/6//qP+//4P/nf/F/8//xv+//wAA5f/4/xwA/P/3/9j/xP/8/+//BgDj/w8ABQAIADEABgAHABsAFgAIAB8AGABGADEAKgALAAUALwAqAP//DAAKABkAGQD3/xEA5f/2//D/u//F/8z/0f+//9f/0v/F/8//qf+//8H/tP+p/9H/wP+4/7X/1P/z/8v/wP/b/+3/BQAPABgAEQD2/xwABQA2ACoAEwAhAAoABwD1/wcA9P/U/woA+//v/xkAFQAKAC0AIgAMABAA/v/z//z/GADo/wAADAD9/woA4v/U/+//IwAnACoANwATAAMAKgA3AC8AWQBaAD0AKgBHAFkAVAA4ADgAQwB1AHUATQBfAIYAZQA4ABwAKwAxAN3/BgAWAAYA3/8CAAIAHwANANX/4P+z/7r/4//Z/8H/4f/N/8L/pf++//j//v8XACcAAgAWABoA2f8dAB0AAAAhAC4AAQAQAE0ADAAfAC0ARgA6AEEAXQBJAE0AVQBdADsAMQA/AFMAYwBnAEIATwBCABoAQABWAEoAMABEACYABAAKAOX/8v/e/+T/y//1/wkA0//0//z/1f+0/+T////j/8X/0//s/+n/9/8GAOz/x/+8/93/5P/m//v/zf/+/z0AIQAYABIAQwBHACcAGQANABUACQAUAAsA/f8dAPD/2f/2/+r//v/n/7j/2//o/9H/tP+f/8D/s/+n/63/0P+1/9v/+v/q/+f/9f/u/7L/5P+1/73/1P/V//b/yf/V/xkADgAWABcA9P8YAPD//P/t/93/6v/v/9v/9/8bAOD/DQDT/+D/1//Y//n/8f/9/9X/5v/R/+b/+v8GAN3/6P/m/8v/7P/y//P/yP/X/+//4v/l/+r/2/8FAPP/5v/c/8X/wP+o/9P/s/+x/9z/2/+5/7D/yP/t/+j/wv/O/9r/yv+x/7P/pP+o/9T/pP+2/73/0P/k/53/u/+l/8z/6//Z/wEA//8PACMANAAfACwAIwAXACUAHQAjABYAKQAUAEIAMgBBADoAVABpADAARQARAE4AUgBMAEAAUQBPACIANQAoACYAOQA/ADUAPwBLAEgACwAGAAkA+//+/wEA9/8OABYAAAAoAAcAGQA5AAoABQDp//z///8HAAQA8v8IAAAAFgAyADwAMAAuAAcAJwApAEkAUwAnADkAHgDx//r/8v/q////3v/p/7//zv/a/+X/zP/C/83/sP+2/7L/iv+K/67/sP+1/7X/5P/M/+b/CQABAOr/5v/8//n/zv+3/+P/8f/w//n/JgAvACEAKAA9ACIAMgAeAD0AOwAuAC0A+v8LAAoAHwAHAAQAAAArAAAA3v8MABgADgD2/wAAKwAUAOr/CgD7//T/4//Q/+D//f8SAE8AUQBLAFMAWgBpAEkAHwAKACgAJwANABcADwAeAEIASABIADQALQBAAHEAVwA7ADwAQQA4AAAA/P/x/8r/3P/x//f/AwD+/wcADQAYAB0AKAABAPH/4v/x/9b/v//o/8r/1//G//n/5P/P/+L/5v/G/73/x/+j/6n/uf/N/9L/0P/I/8n/1v/i/8f/4f/Y/9L/zf/q/wEA9/8ZACQA6v/n//P////a/+H/6P/N/+v/7v/0/wgAPQAqAD4AHwA3ABoAQgAfAAoANQAMABwAAQAnAA8AGAAOAD0AEQDs/y4AHwD+/+X/y//m/9z/u//n/+j/7v/4/+3/DQAZAPf/8P/W/xYAJAANABAALAAyAEEAOABRAFsALQBrAGQATAAlAFQAVgBSAD8AEwAsACYAEQAMAAYAJgADAOT/9f/W/8j/v//C/7//3v/u/wcA4//v//3/9P/i/8//3P/L/9D/5v/d/77/8//u/9z/+f/9//H/3/8AABQAAwAFAAAAJAAnACUAHQAGABMANQBEACMALwBDADMASwBTAFkATQAEACwANgAIAPT/6v/p/93/9/8DABAA5//h/wQA9f/1/8n/rP/B/8T/mP+r/7b/qP+w/73/1//B/9j/6P/d/9H/0f/O/wsAFADM/8D/1v/n//r/7f/F/wwAFADz/xYADwAnADQABwAqAOL/sv8CAAwAAADL/7j/xf/U/+r/6//I/9j/3v/j//7/6//D/8n/+f/c/9L/wf/D/8n/4//K/9H/9f/1/xgA/v/3/y4AGAAGABsACQApAAkAEAASABYAGgBXADwANABMAAAAJAA2AD8APwBFAEQANwAUABQACwAGAAgA9v/Z/9r/CQAMAPj/IQARAPH/AwD1//v/7//q/+f/3//p/w0ACQAGABoADwAgAB8ADgAWABQACQD8//v/DQA1AAwAGwBVACIAHwArABEAKQAcAPj/+P8RACIAFAAdAAAAEgAaAAAA6//y/+P/3v+//5v/v/+r/8L/6P/3//b/9f8GABcA8P/x/9b/2P/y/+n/uv/A//b/4v/l/9//9f/c//v/2v8AAAUA1//l/+j/AwDv/wYAFQAOAAoAHQAaABgA+f8PADAAHwASACIADAAQABYA9//5/wEA+//Z//r/+v/1/xMAFAAJACYAAgDt/xQAMABbAD0AIwAvAF0AOQA9ACYAGAA3ADoAPgAsAGcAZAB+AE0ATQB0AG8ASwAtAC0AFgAjADYAOgA7ADoAPwA/ADsAPwAnAEkAIwBcAC0A3/8dAAAAGgAuAAAABAAgACUAFgAsAEoAJAAdAPT/CwAiAB0AAgAJAAsA8f/8/77/y//G/5f/pP+M/5P/pP+X/6T/kP+O/5H/gv9W/2X/b/+C/3f/a/+L/6D/nP+H/5n/ef94/4P/av84/0//Vf+H/2b/af+o/5n/tf+H/4X/lP+K/3//of+z/6D/pP+z/6//1//n//f/HQAUACUAPQBCADgARAA9AEsASABQAE4AWQBaAEMAcwBzAEMAOABAAB8AOwAsAB4APAAbABsAHwAEAAoAHAAAAOX/4v8TAPL/6f/z//b/DAAAAAoADQAHABYAJgAlAEMALwAsAE4AMwAtACwAKABEAB8AOABeAFwAcwBxAGIAegBmAGsAYQBRAFkAPgBdAFYANgA3AFMAMQAvAD0ASwBXAFEAUwBTACkAJQAQABMAQgAZAAgAEgAWAPf/9/8IABAADAD2/wAAGwD9//X//v/k//3/8P+///L/4f/G/+L/y//u/+3/6v8PAAAA8v8EAP///v8JAAEAFwADABMAQABMADsABAAGAP7/IwAWAAEACAD//x0ACwAPAA4A+//e/97/5v8HAOH/vv/K/6T/vP+m/7T/r/+//7f/bP+e/5X/tf+s/6H/0P/A/6j/q/+2/6X/tf+H/63/wf/H//r/9v8SADEAJABCACcABQA7AAAA7v8TAB0AEQDy/wIAGwAhACAAHQAOAAIAJgALAAkAJQAiAAcA8P/0/+n/3v/g/+v/AAADAA4ABQAAABgAGQAQAND/1//o/8j/wP/2//H/1f/i/+//9f/r/8L/4v/6/9f/zf/T/+7/8P8BABUADQDo/yEAIQAWACsAPAASAO7/AAAgADYAOQA1ACsAMwAfAEoATQBdAFUAbwBHAFMARQAbACUAGwAdAPX////s//r/yv8IABMACQASAPb//f8CAP7/1//0/8j/yv/1/wIAAgDn/+f/8//c/77/3v/z/+D/8f/r/93/6v/o/9//6P8DAPn/HQAuAO//CwD4/woARgAmABgACgAHAB4AMwAqADgALAAuAC8AGAAfABIAEwAHAA0ACQAHAAoA+f8RAPT/AQD9/+D/CQDe/9D/1f/D/8L/r/+8/8r/uP+v/8f/0P/J/77/vv/j/+H/+v/s/+b/9P/H/wkAGADh//L/BQASAB8AHQAeADwAFwANACIACgAWAAUALAAlACQAJQAXACUABgD2/xMAEgD7/wgAAAA2AAMA5P/8/xgA8f/3/xkA8f8RAPj/AQD2//X/FQAMAAoA///S/8f/4//j/9f/2//e//D/3//q//T/+v/Q/9T/AQDr/+r/1v/N/9P/HAAAAP3/KAAUADYAWgA7AD0AKwAoAEcALQAYACEANQA4ACoASwBsAFUAVgBOAGgAYwBMAEkAdwBsAEIATQA7AAkAIwA2AAUAEAD///3/FgAKAPf/KQApAOf/7/8DAOX/BQALAPv/BwDX/93///8MAPj/FwAhABUAUAAzABgAKAAXABYACgD//+n/3f/t/7D/s/+8/8r/0f/3//3/zP/b/+j/6f/o/9L/nP/b/9P/4//m/87/z//m/wUAFAAWAAoAJQAzACkA/v8AAP3/DgDa/9n/8f/3//L/7v8HABcAMgAsAEkARQBBABYA9f8FAAwACQDj/wIADQAHABQA+//5//3/+v/6/+7/+f/k/8H/4f/v/8L/0//1/+7/7v/y/wAA1f/V/8v/6P/Z/9H/6f/4/xIA+v/p/+H/zf+7/7H/vP/Q/8P/zP/H//H/6/8LAOj/7P8BAOj/6//s/+z/+P8XAAAAEQAIAO7/8//+/9r/DgAXABoABwD2/wgA8v8YAAAAyf+4/63/zP/h/+f/2f+p/9D/AgAfAB4A8//3//7/6v8PAAsA8v/0/w0ABADx/xgADwDu/xEAGAARACkACAAEAAgABgAeAAUA6////9T/BgACAO7/DwAKACIABgDn/8T/BADd/8n/1/+y/87/sf+9/9T/qv+u/9X/x//M/+3/8v/7/wYAFwAsADUAIwARAC4APgAjADkATQBUAHgAWwA9AEkAXgBIAC4AMQAiAPz/AwADAAMA2P/U//r/5f8OACUAGwAFABEAIAACAN7/5f/R/9T/3P+h/8X/4//L/+z/5v/x/9f/3f8gAD4AKADy/xsAKgAeAC0APgDw//n/CQD2/xUAFAAVAA4AHwA1ADwAAQD8////CgD4/87/2f/z//z/6////xsADADp/w4AJAAjADIALAADABAAIgASABgAJAAaADgATgAYADUAMQAUACkANQAlABYAGwAWACwADADz//7/BADz/wgACgAnADsA/P8iABwAFAAtABEABgAVAAgAKwAmAPn/zP/Y/wwA0//O//T////4//b/HQAKAAQAAADK/7f/wP/K/7n/uf+o/9L/5P/Y/wMA9v/w/w0ADgAMABcADQAAABYAIADx/xUAIwAEABYAIwA3ACIAJwAlAB4AAQAYADgA+f/m//7/+f8BAPP//f8eAAcALgAmADcAQwAwAE4AOQAYABwAAgACAAYA9v/5/+z/9v8EABgAFgAAACMAJAAYADEABwAVABQA//8IAPH/9/8gABEACQAwACkAIgAXACQANwAyADoABgAAAAYA8//j//D/AwD9/zAABQANABcA+v8EAP7/BAD3//T/7v/S/9r/3P/J/8X/7//0/+f/6//3/wMAyv/a/9r/sv+4/9X/wP+t/8z/1P/A/6v/qv/B/+D/5P/w/+X/1f/c/wYAFAD0/83/2v/y/+f/9f/4/+v/y//D//j/+P/Z/8r/xP/F/57/tP+7/5//of+4/7n/jf97/5P/qf+V/6D/wv/E/8j/xf/B/9f/xP/t/+P/yv8NAB8AJAAYABIAGgAXABYACAAJABQAKAAhACEALwAzACkAIAAyACwAOAAWAAkALQAlAD0ASQBCACUA8v8AADMANQAfAFUARgAzAHgAewBqAFoAVQBMAD4APwBAAEEAQgAEABIAJQAXAE0ARAAiACEAJwD//wsADAAVAAcACwAFAPz/CgDa//f/CwATAPz/6v8PAP//+/8cAPT/AAAIAOr/1f/y/+D/1P/Q/8P/w//c/wUA3P8cABMAGQAgABMAGAASACEAKAD+/+b/DwAhAAQA/f8NACQAIwAmACwAGwAtACQAPQAXAB0ABgAAAA0AIQAaABEAJwApABQADAArAAEA8f/n//r/+/8BAO//3//Y/+D/5P/5/9T/4v8DAPH/CQAAAAQA9P/2/+3/3//U//P/+v/4//n///8LAC8AFQDy/w0AxP/y/wIA5v/s/wQA/P/f/+L/1v/Y/8L/v//C/9j/7P/3/9j/4v/Q/9H//P8GAAUA3f/Q/8r/xf/J//b/9v/f/8v/9//2//T/FwAQACcAJwA9AD8ATgBHAB0ANABUADcAMAAIAAQA+//Y/wgA7f/n/9z/5P/z/+P/3//5/+7/uv+9/9n/4v/f////3f/D/8P/s/+e/7X/6f/M/9T/8f/P////AgD3//T/qf/H/8P/rv+1/7v/3v/+/xEABgAlAC8AFQAxACwABQAGAB0AFgAPABgAJAAPAAEAKAAjAEoAKQAmADQABwArABQAKQA8AC8A/P/3/yUADgAtACsAKgAlAC4APQARACwALwAaABEAAwD5/wIABADu/7b/of/Q/6v/tf/H/8r/0f/C/87/7P/7/+f/7f8EAOL/wv/Y/8P/zv/e/9b/1f/z/wEA+P8vACcA9f8AANH/2P/w/+H/7//h//7/3P/j/wcA5f8AAPv/1//q/+j/2v/D/9L/4//J/6//hf+H/5b/qP+z/5//tf/N/8f/5P/C/8r/2f/W/8v/p//a/+X/DAAZAAoABgAMADwAIwAwADYAIABBAD8APQAxACoAQwAcABwANwA2ADsATAB6AGAAZQCRAIAAkwChAJgAggBWAEQAVwA8ADUALAAnAA0A+/8NAP7/QABJADYANAAzAD0ANQAeABwA8v/1/+b/3//z/+f/GADn/9//5f/E/8r/BAD2/+3/EgAsAEEAMwAgAAgAJgAaAP7/4v/W/w0AMQAPACkAIgAJAB4ABQD9//b/9f/q//X/+/8QABQAFQBLADsAPQAqACEAOgA6ADcAEwADAPL//P/6/xQAFQAHAAMACgAVACkAKwDs/+7/y//G/9X/zf/D//P/4P/4//r/BgAjAAsA/P/X/wUA8P/q/9b/9v/b/9b/xv++/+7/1v/n/wEA+f/9//r/AgD8/9j/3//2/+z/uP/n/8X/1P/3/+n/0P+m/7X/z//O/9H/wv+g/+b/1v+//9D/wP/H/7L/rv/M/8r/2P/g/wkAFwDx//v//f/l/9T/1f/h/wAA/f8uAAkACwAbABYAQgAVACEA7v/T/97/3v/o/+v/8f8DAB8AHAAuACoAJQBKADgAPQBRAFwAXgBHACUAGQAwACsAIQAeAFUAVABgAEgAWgBnAEQATABGAF8ASABxAG0AWgCFAFAALwA/ADEAQQA+ACUAFgA4ADkAJgAwACgABQAjACcA9/8rACMATgBKAEgAYwBiAE8ALwAnAAMA/v/u/xAA+P/f/97/AgD1//L/5P/G/7r/uP+w/4f/sP+d/4H/iv++/7L/nv+7/9L/of+8/8b/tP+//6L/oP+J/6T/rP+M/67/3P/c/9r/vv/O/9T/zP///xkAGwAAAA0AOAAMAB0AJwD///v/HQD9//X////5/wQA/P8AAOj/4f8HACIA5P/p/83/w//Z/83/yv/I/97/uP/N//z/wf/T/xQABwApAAwA//8RAAYAFwAHAP7/CgD+/wUAEQAjACUAJAA1ABAAJAAkAB0AKAAVAAAAAQDs//7/DAAbABcA9//0/x4ALgD//yMACgD+//P/FQD5/9j/+f8EABQAFwAXAPr/CAACAAQACAARAA8A8//l/8j/wf+7/9b/v/+S/67/f/96/4r/eP9h/3X/cP+Z/7//o//a/8j/uP+Y/47/p//Z/yAAHQA/AEAAQwBRAEQAOAAzADwALwA+AFsAXwBGAEsAVQCEAGkAaQB7AEQAUgBQADUAOAAmABAAKQAnABsADwAfAB4A+/8EABIABwAiAEEARgAdADUAQwAFAAAAGAAnAP3/DAASAPn/CQD6/9n/AAAfAAMAMABQACkAIAA4ABYA8v8EAO3/tv/e/+T/3f8KAP//CQAMAAkACgAAAPT/KABBABsACQAqACkAAAAhAPb/7f8TACoA+P8EAB0A9v8dAP//w//n/+b/pP/L/9r/yf/Q/9n/2v/5//T/AAD3/9z/AADp/9v/2f/l/9r/4//D/7j/w/+s/6v/x//s/+b/5//0//r/xP/O/+z/sv+x/+P/4v/o/wgADQAKAPr/8P/j/9X/vf/7//3/3P/4/wYAHgD6/+7/8P8eAA0AJQAyACMAQgAkADEAVABDADAADAAmADEAEAACAOr///8GABwABwALAA0AFwBRAG8AUgCGAG0AXABPAPf/GAAZAAUAFwA7AC0AIQAlAEUAVQA+AEAAKgA8AFMA/f/z//b/6//u//v/BQDc/+n/EwAoAAMADwArAAgA7//B/8r/4v+7/67/zv/l/+P/CwAQAAAAFQDl/8P/tf+c/7v/vv+d/5D/l/+p/7j/vP/E/9z/r/+y/7D/o//c/9H/s/+V/6L/rv+T/5P/pP+p/7X/of+l/7b/1P/K/6H/uP/n/8z/s//n//T/AgABAAAA2P8WACEA/v8EAPz/6//j/wkAEgAQABgARAAlAA0ABwAbAAUAAQAPAA0AIgAYAA8ACgA6ADYALAAWACMAKQA2AE4AMQBCAEkALgA7AFQAUABaAFUASABYAGsAnwB0ACsATQB0AGkARQBkAGQAOQAZACEALQAOANb/zf/o/9P/xv+6/5//xv/M/6b/wv+l/6j/wf+U/6v/yP/K/73/lv/B/+r/6P/X//b/6//Q/8r/zf/p/wcALQATAAwA8f8KAPP/KQBKAAAAEwAaADwAQwAaAA8AJAAUACgAOwAoACgAAwAYAC0AHgArAB0AIwApAEcANgBMADUAIwAwAAcA/f8cAAUA8v8ZAAMAGQApACIALgAXAPT/5v/L/+X/1//f/+//5//c/+z/+//y//P/y//U/+r/7//d/+v/AwAFAM//z//9/+n/CQASAO///v8gACcAIgAyAEkAIAAfAD8AJABDAEgAIQAdACMAGwAkADEASwA1ACEAKgBAAGAAQgBEADUANwAiADMAZgBfAEAAGwAyABgAFwAXAAYAJQASAB4AHgAJACsAAAD4/wcA7v/q/8z/yP+y/+P/7P/N////u/+Y/6v/5//n/8H/3f/r/+b/2P/l/53/aP+H/6X/k/+t/8X/hv+l/9D/u//E/+n/9v+v/8D/6/+//8H/0P/E/8j/uP+1/8P/vf/C/5b/ov+x/8r/rf+o/9P/zv/3/+v/7/8GAAIA8f/s/+H/EwD6/8L/5P/u/9j/BwA0ABEAEwAnAGcAJgBZAFgABgA4ACUAMAARADQAKgABAAEADAAOAAEAJgAEAAMA/v/8/xEAKgAyAAYACwABANb/0v8ZAPz/7v/t/+7//P/9/zIACwAsAA4AAAAdABkAFgDl//H/0//X/wQA/P8lACIAIgApAA8AFwAiAG8AjwBWAAEAGwBRACMAIAAxACsAFwApABgADwAPACMASgAgAC0AFAD///H/CQATAOD/1//T/9f/wv/4//z/y//I/8f/5f+0/5f/zv/J/8T/0f/W/7z/0//j/8v/zv/6/0wACgAXAE8ASAA3AB0ALgAZABUABgA5ACsAAAAKACkADwD5/wwAHwD8/wwAIADy/wAAEQAeAPv/QAAyAAUACQDw//3//f/v/wAAJgAfAAQABADp/+z/DQALAO3/AAArACEA7f/i/wIACwAXAD0AAAAGAEcALgASAAgAGgDo/w8A+/8DACQAIwDf//3/FgDy/wkAFQAkAPr/LwBIABEAEABLADgAOABQADUAKwA7AEAAdQA3ABoAQQAiAB8ARgDx/+3/IAD2/w0AFwAbANP/3P8fACEA8//y/8T/6f8PAPX/BACt/7T/6P/o/+T/vP/b/+f/4v8DAPX//f/z/xsA8P/T/xoAFwDx/+L/EwATACQADgDD/8//9//N/+X/2//D//D/3v/O/6n/zf/q/8T/tv+7/9T/y//K/93/0P8DAOz/qP/W/+v/6//2/5//sf/n/xUA+P/d/wEA8P/9//z/CQDW/+X/+P/W/7X/x/+p/9P/ov+L/8v/sv+3/7//3P/X/9r/2//x/9n/0v/d/6L/jf+8/4P/rf+U/6L/tf+2/+X/3//D/87/IwD4/x4APABOAD4ARwBwAEQAJwB6AIEAXwBaAFYAZABJAD8ASwCKAGsAXAB8AFIAHQBHAFsAHgD//xMAFwD0/wwAIQAhAC0AKwAbADwASwAcAAIADQAIAA8A/f/Y/9D/zf/+/9T/y//j/8//8//K/8X/7P/Y/93/1f/Q/8//6f/v/w4A8v/z/wQAzf8MAGAATgAAABcA+v8RABIA+/8NABEAMAAgAP3/5P8HADQAOwAtAB0AGABGACQA/P8BAO3/5/8OAAsA6v/2//b/DQDl//f/KQAWAAcA6P8lADkA+v/3//P/7v8IAP//8//1/+//CgAEAPL/NABGAC0AAwDs/wwA//8TAC4A7//7/wMA8v/6/+H//P85ADAADgAQAAcAEwAxAAwA5P8xAE0AOAAiABIAFAARAC0AGAACAB4A+//1//z/DgDy/83/BQDw/8D/AAAhAA0ADgAIADMADQALAPP/AQACAAoADAD5/wcA9P8uABQABAAJAD4AUwBjAGEAGQAaAB4AFgAhABcAJQAtAAYACgAlAAsA8//r/wAA+P/Y/9n/vf8TACwAAADR/8T/tf/Q/wAA2f/p/+D/nP+e/+//5v/R/9H/8f/b/77/r/+o/7z/s//I/8b/xv++/8f/6//p/9T/0v/e/9j/zP/W/+v/3//a/83/uP/L/xkALgD+/xYA///t//D/9v/i/+f/AAAJAPf/sP/G//f/+P/Y/9z/AQARAAQA+/8QADMALgAoAEAAKgAcADsALAADACUAJQDu/wsAAwAMABcA8f8pAPz/4v8WAAkAEAD3/xQA9P8cACkAGgArAPr/CQAEAAoA6/8CAC4ADgDz/zAAYQBKACsAPAAbABgA8f/d//T/AgAPANz/6////xAA9P/u//r/+f/q//L/3v/Z/9v/uP/H/+P/CADj/+T/7v///woAAAAUABcAGgADABwADQAbAEMASgAhACMAXwA3ACUAUwBLADEAQwAoAP7/FAA1ABoADwABAPb/DQAgACAAIQAaACMAGwA8AFoALwA9ACMAKwAlACYAJQAHAAUAAQAMAOH/9v8UABoAIgASAOL/9f8AAAAADQDy/9H/xf/T/6z/sf/S/8P/uf/c/9j/tv/T//b/8f/G/7//2/+y/8r/rf+q/93/rP+v/9L/7f8QABcACAAdABsA8/8IACEADgDz//z/9f/n/wEACAASAOH/BQAdAPn/IQABAPH/CADo//z//P/G/+b/+/8GAA0A5v8MADIADAAfACYA3//u/+D/CgAeAPv/DQDs//j/FQAcABsAIAACAAoAEAAiAAYAEwAhABMACQDx//n/AAANAPr/zf/7//T/s//I/8v/3f/D/+T/9////+X//f8YAAQABQAIAPr/CAAcABUAFwAEAAkACwAVADkALAAnACUAEQAyACAATgAbAPb/6f/U/+//1P/l/wcA9//b//D/7//x/wkA6f/m/wsA6P/+/wwAAADe/wIADQDg/xYAGgAcAM7/9/8YAM7/8P+//9T/3f/j/8j/p//J/7r/qP+y/7f/cv+V/3H/Zv+u/6L/jP+o/63/tf/u/9P/3v+3/9//DgAHAAAABAAWAEMAFQALAGsASAA9ACEAVwBhAFIAPgBFAFMATQBrAFkAZQCFAFoAKgBEAEYARABPAEoAEAAaAD8AOQBvAJQAOQArADIATwBFABUAFQA+ADwADABIADgASwA4ACUAKwA6ACYADAAEACAAAwDr//3/9f8NANj/CQAdAC4AKAAmAFAA+f8CAPL/tf8AAPL/wf/L/9X/z//F/8v/wP+9/8v/pP+q/73/5v/6/+7/DwAKAOD/yf/u/9//zP/I/93/3P/P/+b/1P/V/wgA9v/Q/w0A///3/wAA9/8HAO7/8f8KAD4AEACT/7v/FAALAND/BgBqAE8AAADT//3/u//p/9n/pP+2/5z/8/8aAAIA4v/l/yUAOwA/AHkAdABSAOz/AwD7/+b/3//e//P/8f8TAOH/4f/P/+P/+P/1/xAAEAANACAAGQD9/xgALABKAD8ARABsAHMAfwB9AIIAlACpAIQAeABRAC0APADm/8f/7v+z/77/z//Q/9L/vP/S/8f/sv+x/8H/rv/b/9H/tv/w/xEAEgAiAAkA7f8QAPj/6f8PABYAJAAnACIANgDy/+H/1v/f/7//sf+5/7T/2v/h/woA1f/i/wQA6v/X/9b/7f/g/+H/8//c/+r/9P/R/wEAJQD6/xMA/v8DABgA9f8AABkAEQACABQA9f/+/zAAGQD1/xQA/P/9//n/9f8OACIAHwAcAO///f/x/6v/4P/D/9//6v/q/+T/1v8BAAUA9f/x//P/9P/1/wUA7v/n/9z/AAAgAAMAAAD4//T/+v8UAOH/+//9////DQAKADQAIADp//P/CwAOABIAFQAMAPT/8v/+/xIAHAARAPn/FAAsABUACADo/+j/GQAKACQATQD3/9j/CgDs//D/8v/q/+j//f/m/wAAAgANAAgA0f/9/9n/8v8iAA8A+P8PACAAJwArADcAIgD2/wQAMAARAFAARAASACoAIQAmADkAVgAzAD8APQBTAEgAKwBYAFAAEQAgACEAGQAXAFAAOwAjADQAGgAeAD4AOQAOAAgA7P/U/+H/CwDs//T/0f+r/4z/lP+l/6T/q/+u/7j/q//U/6T/o//N/7v/uv/a/+H/AgAXAB4A+//V//b/wP/U//L//f8FAB8ABQAHAAsAAQAtAPb/6v/C/9X/8f/w/+H/7v/c/8z/2P/t//z/+v8EAPv/DQAHAA0AHAAHAP//GQDz//z//P8dABoAKQAgAAoAFgABAB8AKAArABkAEwARAAoAEAAxACUALAA6ACkAIABVABgA//8aAC0AJQAGAAwAIQAvAP7/IQAAAAsAEQBBADIACgAeABQALADs/7T/uv/J/7L/0f+9/67/yf/a/+b/5f/T/+X////5/+P/CgAtACIACAD8/wgA7v8GAAUACwADAA0ACAASABwAKQAbABcAAgARACkAFQAbABMAEQDU//j/BgABAPT//f/w//v//P/w//H/+f/9/8T/v//F/+r/9/8VAP//AAAZAAUAMgBMADsACQA2ADoADwAiACIAFgD0/wcA5f/J/9b/yP/F/8X/sf+l/7D/4P+5/97/AwAPAP//u/+4/5b/1//g/+7/7v/4/+r/7v8EAOv/3P/i/9X/0f/v/9//9P/o/+3/CQAQACYACQD+/ycAHgAWAN3/4f8DAA8ADwAUABgAFwAJAAUAGwAJABEACgDj/+f/9P/n/xAA4P/Y/9r/4P/1/+X/3f/6//b/7f/V//D/QgAlAD4AHQAkAAoADwAcAPT/CwAPABAAMAA7ADsASAA3AD4AQgA1AEsAXwBTAE8AHAAmAEYALwA5AFAATwBTAFgAVgBDABMACQD5/+//CQAUAA4A9v8cAB4ACAAZADoAGAD3/wMAFAAlAP7/HQARAAkAEAARAA8AIgAjAAsAOQAoAAsAHgAcAAYA9v/d/+L/9v/z/+D/CgAIAAcAMgAQAEAASAAfABEABAAKAAYACwABAPf/z//U/93/0//Q/+L/2v/X/8j/v//F/8P/zP/K/7X/fP+Y/6z/fP9w/3v/U/9y/3f/lv+s/5L/f/+H/5v/iv+L/1X/bf+T/7v/sP+o/9P/2f+2/6T/yf/p/+L/+P/2/8b/2f/1/+j/wP/Q//j/4//x/yMAGwATAB0AAQADACQAHQAyABIAHAAgABAACgAOACQAFQD0/wMA+f/0/wgA5f/5/9v/6f/m//P/CwAGAPH/9v/7/wkALAApABgA8v8OAD0ANwAvACkAKwBMAEUAMgBFABQACwAxABEAVQBWAEgAOwBJAH0ATQBIAEAANwBYAFQATABIADUAOgAoADMARgBEAGUAagB9AIAAZwBWAE0ALQAjACwA8//8/wMABQAPAOz/+v8NAAIAAgDc/xQAJQD8/wMA+////+7/5//O//P/EgAFAOH/1f/T/9b/CgASANb/4/8aACoAEgDp/wAA3v/s/xgAHgAOABMABgDe/97/7v/e/8n/5v/3/+v/2f/T/7P/zv+Y/8L/6P+4/7f/l//C/7b/x//f/9r/v//P/8f/z//t/7j/mv/T/+v/xv/q/+7//f/7//b/AAD9/wEAKQAoACIAGAANAPv/3v/x/+j/2//v/xMA7v8LABAAAwDr/7P/qv/A/9T/2f/e/6X/y//K/7T/s/+e/43/oP+7/7D/uP/U/63/o//S/5n/sP+2/6//xP+9/7//1P/O/8v/3P/j/+H/ov+//9z/1//e/+r////d/77/wP/f/+P/2v/e/97/5f/C//P/GgAAAN//CAAXAA0AKgArADkAMQAzACcAbwBnAE0APQBGAFAAeABPABwAPAASAEEAWQBnAEsASgAwAE8AdQCeAKAAigCOAH4AfwByAGcAZABhAE0AcQBuAJIAhAClAJsAkgCFAKMAqwB8AH0AaQCBAF0AVgAgACMACQD9/xUADAAgABYACgAUAOf/4P/p/9r/0v+a/8v/2v/K/6P/kP+6/9D/xf/r/yIACgDs/xAAAgD3/zIA+P8IADsAEwANACUADgAMABgAEwAEAPz/CQDs/+3/9v8AAO3/5//s//3/+//z//H//v8eACYAPwAYACIANgBLAEMAKQAuAB8AGQA0ACAAEwBBACMANgBNADAAMwARAPH/3v+8/+L/+v/m/+L/7P/1/wAACwAUAPn/0//q/wQAFgAbACkAOwAmAPP/AAAHAAAABADv/+n/AADn/+z/BgAFADAAMwAmAOH/4//8/wsA4P/Q/9b/y//0/wUAAwDI/+L/AgDc/+//2f/M/+3/6P/+/9X/1P+4/7j/x//c/93/yv+4/87/4P+3/9z/5f/+//j/+P/I/77/8P/7//j/6f/p/+3/AADr/87/7f/h/9H/3//1//7/4v/Y/77/yv/w//v/8v/s/+f/+//+/77/2//3/xMARwAIAOb/CwAMAPr/AQDp/wQAEADj/+z/AwD//yYAAwDo/xUAIQAqAOf/AAAHAOX/7f/3/9L/0//k/9P/6P/W/+7/DADv/9X/5P/t//H/2v+v/6//1P/E/7v/3v/S/8X/AAAiAB0AGwAEACUAEwAZAEUAIwD3/wQABgAKAAQA6//7//H/8v/t//3/JgArACAANgBBACMACwATAAYAFAADAPT/CQANACgAJABCAEkAKwAlABQAHQAFAAAABQAEAAsAAAAWAPz/4f/N/+f/9/8IACEAAQDX/+3/GQAUAPn/DQANAPv/NAARAPP/7//o/+P/4v/k/woA9//0/wEA1//E/9j/4v/a/93/2//I/6T/zf+v/+D/BAAHAPb/9v8AAOH/5f/U/9L/5f/x/9j/AQD2/wAAFQAQAD4AOQAxAEAARQBLAFEASgAjADkAJgAnAEcASQBXACwAJwABABEAKwDq/+3/4P/b/9b/y//h/7//rf+9/7r/lv+7/83/wP+3/8T/2P/E/9n/8P/q//j///8bAAEAGQA3AP7/DgASABgA9v8LAP3/EQABAAMANQAOAAUA7v8MAA8AEgACABAAKAAwAEEAKgAgAGAAdQBQADcATQB4AGYAYQCCAGUAQABfAGQAggB5AGIAZgBdAFYARABLAGQAUgBAAEIASABHAC4AIAACAPz//f/J/7T/5//E/9f/HQABAPv/8v/H/6v/xP+7/5r/nf+9/7b/qf+j/6P/uP+b/9b/+P+Z/5z/yv+3/5H/nP+g/6H/t/+5/8r/yv/l/+z/8v8AAAIAHgDe/9H/6/+//8b/u//A/7f/2v/3/+D/CgAsAPv/CAAlAOD/6P/B/9T/3v/K/+b/0v/F/8L/yP/r/+3/uP+M/8X/7f+s/7j/zP/p/93/6P/f/9v/9f/z/wUA+f/u/zgAGwADABgACgAwAAUATQBFAA0ADAA6ADgAOgBGACAAQABPAEEAJwAsAA4ACQDy/woA5//d/9f/vf/H/+b/+f/1/wAA2f/i/wAABQDi//j/DwAQAPr/IAA1ADAAHQAwACgAEAAXAA8AMQAYAB4AQgBOAC4AIAAwACMAFQATAOr/7P/a/9z//P/y/wAAAAD//wMABwAnACIALAAsAPf/IwAXAA4AEwARAB0AMwBpADsAJQAgACgAPgAoAA0ALQAxACQAHQA7AFcAIAAsAP7/AAAaAAkABgAAAOb/4f8BAAwA8/8AABYAIwArADUAQQBRAGEASQB0AHIARAAfAEMAKwAOAC0AGgDx/z0AZgAwADQAOABYAFAAWAAyADAATgAjAAcACwAPAPL/9P8AAO//CwAoAAMA5f8OAAAA7//7/8f/2f/i/9n/6f+8/87/9f/d/9D/zP/R/73/5P/R/+7/9f/f/xQA9//m/9T/8v/Y/+P/7v/F/8f/3//G/8X/u/+p/8T/vP/O/7v/zP/J/7n/uv/B/8f/r/+1/8j/7v/2/+7/BgAIAAsADAATAAsADQAAANX/8P/5//3/4v/9//v/vP/Q/9v/5//M/+D/6v+7/8b/3v/F/+n/vv+q/8j/mP+k/5r/rf+0/73/tP+4/7b/tf/H/7f/r//L/8v/t/+6/6//v/+2/8P/5f/7/8n/zP/9/wsA8f/4/xUA9P/t/+r//P/3/+z/zv/n/+3/8P8ZAP7/AQAlADYAQABCADgAQABIAE0ARwBMACQABAASAAUAHABWAFMATgBDAEEAMQAvAGYAIwAfACAAFAAwACgAHwAPACsAEAAbACMADAANABMAKAAZADoAUAAsADgANgA2AGkAdACKAGwAaACUAGwAbQBdAFcAVABUAGkAcQB0AFkAZgA6ACwALAAcAA4ADgAJAAgAFAAAACcA9v8UAC8A/P8XACAAFQABAOr/6P8AAB8ABADm//b/AAAfAAMAHAAbAP7/BgAAABIA9/8RAAAA5f8IAAQA+f8UACcAAQAfABMACgANAO//1P/H/9P/0//h/9f/2f/U/+H/0f/Q/9r/5v/Z/+//4v+w/8//zv/V/9j/3/+h/9T/4//H/wEA8f/H/8v/5v/F/9D/2v+9/9X/9v/l//r/5//x/+H/6v/S/8z/5f/j/wgA6f8GAPH/FAAAAPb/EgDt/9v/6v/v/w8AFQDk/xAA+P8bABgA5P/m//D////y/9v/2//j/wcAAwAGACQADAD5//n/8P/N//f//f/1/wMAFwACAO3/EgD9/+X/9f8AAAQA9P8AAO3/3P/o/+L/GgDx/+z/FADg//H/BgDo/9z/z//Q/9X/4v/6/9v/5f8DAOb/7/8oABMA5f/u/9r/5//6/9f/8P8CABsAHgAOAAoACgAXABMAHwANADUAJwAVABQA6//v//r/6//4/wQA1P/S/9//wv/R/83/yf/w/9X/3f/H/77/zv+v/67/x//e/+b/7f/t/9b/6f/1/9v/6//D/9X/vf+///H/6f/j/+D/5v/b//X/5/8DABEAAQAIABQAFAAZACAAIQAwADEALgALAB0AIQAfABgADQAKAPj//f/v//j/+v/g/9//w//F/9T/zf+o/7v/vv+o/7//zv/k/8T/3//u/9b/yv/3//j/FwAOAPz/EAD7//r/BQATANr/5f8BAA8A7f/4//3/AgAyABUA8//l//n/HQAGAOr/8v8EABkACgAFAPL/EQAVAPr/9//5//H/CAAHAN//+//d/9f/y//S/9T/6//s/9n/8f8AAPT/1P/8/+v/5v/m/wcA4f/1/x8ANQAnAAMAHAAKABEAIABBADUAOgAmACwAKgAxADUAOgA/ADQAKwA8ADAAJgAtAAsAEgBBAD8ASQBeAEcAVgBUAF8APgBNAIcAkwCJAJIAYgBfAGIARgBfAEUANgBKADoAOgAzADwAJwAxAEMAPQBNADAASAA8AFQATwBIADQAIgAmAEsAWwBRAFQAQABJAFcAWgA5ACQABgAiABMAEwAKAA8ADgDy/wAAAQATAA0AFAD5//L/7f8AAPX/u//O/8D/z//K/67/w/+5/7f/tf/c/+n/7v/h/9L/7P/O/9X/3f+w/+H/+//P/+z/yf++/8P//P/u/+H/0f+w/+z/1//Q/8H/vf/D/9H/xP/g/+D/9P8LAA4AAAATABEABwAEAAQAAQDj/wwA/f/k/8v/+v8HABMA+//+/xAAGAAIAMP/4v/F/9H/2P/W/+//zv/N/7z/tv+L/7r/vP+a/6v/vP///9//0v/T/wcABAAFABkANQAqADAASQAcABkAHAA6ACgALQArABkAJgAbABMAIQAFAPb/DgAAAPb/4f/Q/+j/+//n/87/3f/0/wAA6P/z/9j/+/8NAA0ALAAFAC0AJwBOACoAKwA3AEsAVABDAFsARABWADcAQQBIAEcARQBGACsAIwD1/+j/+P/k/9//xf/X/9//z//T//r/9P/a/9L/xP/j/wAA9f/v//D/EgAJAAwACwARAAUACQAPAOb/AAANAAsACAD1/9n/+f8GAAUAGgAIAPn/9f/z/wkA/P/h/8f/1f/F/5z/wf/V/+b/sv+7/97/1//W/8v/xv+z/9H/0P/D/8T/pf+7/8b/rv+z/7r/x//B/9L/v//f/9L/3v/8/+n/FQD//+7/5f8OAP7//v8EAAYA+v/u/zMAHwAOAAsADwAUAAUABwAvABgA8//z/wAAAAD1//H/9f8PAAUAAgD6/xgAKgA5AEkANABCAE8AYwBOADYAHwAXAA0AIAAuACUAFQD7/zcANQBfAE4ALwBhAGUAYgBxAGIASQBQAEoATwAwACoAEQAYAPz/BwDx/+L/AADr/xYA/P/e/93/CQAKANr/v//B/73/vP/j/9b/5//F/7b/zP/d/+T/0//o/+z/DQAJAAQA2P/C/97/9v/4//n/7P/+/wcA9v8NAPz/HgAjAB4AMABFAC0ARwBUADgAKwAqADgAOABZAE0AKQAYAEMAOwAmABYADAAcABgAFgAQAPT/8f/4/woAGwDx/+f/AgD7/+X/DAD//x4AFADl//T/IAAiAOz/2P/a/wsAEAAGAP3/BAALAEIANgAYACgAPAA5AD8APgAQAA8AAgDz/+H/9f8CAAgA/v8KAPz/9v8LAAAA/v/q//f/9v/y/w0A8v/Z/8n/z//I/8b/x//C/9b/0P/c/8f/0f/f/97/u//K/8L/rf+4/6r/x//C/8v/zv/Y/9n/yv+p/8v/7v/m/8j/1P/g//H/EAAOABEA2P/k//b/EgAcAO//3P///xsAIwAmADoAHwAnAEAAVgBXACkAJAAXACkAOwA5ACMAQQAuACoAIwAeAB8AFAApADQAOgAUACMAGAADAAwABAAAABYAHgArAB0AAwAQAO7/2v/e//H/5v/H/+T/8v/P//r/EAATACoAIQADAAAACQDr//D/5f/u/9z/4P/3/+v/9P/q/9z/5//W/8L/0v/f/8L/lP+y/7f/of+c/6L/tP/G/9H/0//l/9n/4v/S/8L/6P/Z/+b/4v/u//v/1P/q//3/FgAcADUAQAA4ACkAHgBUAFwALgAlACwARwBCAB0AJAA/AD4AMwBDADgAQwBCAEoAGQAsADEANAAwABcAIAAOABwAAQDu/8z/8v/i//z//P/C/9P/2P/D/8L/wP+t/8b/ov+j/8//2v/h/+n//v8WADMACAAAABgAEQAMAPn/GQASAAEA7v///xsAGQARABkAFwAiAEUAKgAEAO7/5f8BAD0ADQDs/wAA/P/1/+L/5f/3/wQAAADl/+H/2//V/8v/qf+w/7D/tP/G/7X/s//J/+H/y//V//v/DAAkAAYAAgAXAC8AVwA+AB8AOQBJADcAMAAXAEQAbwBXAHAANQA3AHUAagAyAFMARwAkADoAJgAdAAAABgD0/w0A7f/f//T/+P8UAO7/rP+1/63/t//D/7D/m/+Z/7H/lP/M/8j/wP/R/9b/3P/r//v/6P/a//H/5f/I/7f/3f/w/+//+f/V//D/4P/x/93/2v/z//7/AQD5/xAADgA1AAkA4f/v/9b/6v/q/9n/8v/R/7v/1f+v/9z/+P/U/wgAFAAJACMA/P8aADkAFwAMAO//EwAqACIAFgAtADAAKQAtACMANAAVAAkAAQD+/xcACQASAA8ABAAOAAwAEQABABgAEQAfABQABAAsACoAMAAUABsAFAD0/+v/GgAbACQAIQAXAAEAAAA1AA4AMwA6ADkALQBIAEYAJgAuAC8ALQAfAAUAFgAeAAsAIgAJABAAGwAYAA4AGAAHAAUAFwD9//7/4v/P/+L/4P/k//T/AwDl//z/CADx//7//f8PABwAHwAEAP7/BAA2ADAAGQA1AB8ASABCACIAMAAhACUALQAmACMAPQApAAAABgA3ACkAEwAUAA0A+v8PAPz//f8XAPz/GgDL/+b/AADm/7b/2v/w//X/EADj/xoAQAAzABUAAgAPABkA/v8MAPj/BwADAO7/+v/+/+v/8P8FAAIA6P/b/+X/4f/r//L/9P/g/+D/9f+7/6j/8f/f/+X/8v/z//v/AgD7/+D/3//d/9f/9P/J/8//2/+u/8L/y/++/7P/4f/P/7r/yP/C/7r/z//w/+v/xP+6/+H/7P/U/6H/nv/J/7j/z//w/83/w//h/8D/q//j/9n/1/+9/7n/0v/x/+n/zv/V/9X/2//2/wEA+v/8//P/DwAKAAAA7f/u/+r/9v8OABsAFgAsAEUAFgAPAAcAAwASABEAMgBKACUAQwA0AC4AUgBaAGYAYgBqAG8AeQBYAD4AaQB2AGkAgwBiAEoATQBIAGIAWgBVAFgAQABCAEsARgAkAA0AEAD+/wUA8f/2//P/4P/v/7z/vP/R/7b/vf/J/6H/sv/M/6H/rv/N/9P/2v/d/+b////l/+L/5f/w/+3/3P/5/+X/4v/n////DwDj//r/AwD6/wEA6f8BAPb/9v8BAOj/BQD0/9v/3v/V/+X/z//R/7v/1v/q/9P/AADt/+7/8P/1/wcA+f8OAAYA5v/q/+3/AAD2//b//v8FAAwAGgAhACcAAADU/wAADgAQAP3/9//o/9b/+/8AAAAA/P/x/xAAHwAyABIAHQA/AGgATwA/AG0AbQBvADYALgAjACQAHwAMAAUANQApADAAOAAoAEcAHAAfACUADgDy/9T/3P/r/+3/5v/l/8z/xP/4/wQAJQAYAAcAAADi/9r/5v/C/8//z/+3/+r/2v/Z/+7/BwDW/w4AFAD0/wEA+f8IAPT/AQDt//r//P/j/9z/4//3/wwABwD4/9H/8v/+//z/BgD9//z/+v8PAAUA/f/a/+v/0f/m/9L/z//a/67/4P/i/9//4//5/+b/8v8AAOj/9v8OACMACgD8/wUADwANADAAHQDs/+//DgAEAPf/5P/P/+H/yv/n//T/8f/W/9n/2//m/+X/z//N/97/yP+y/8D/o//S/8f/1/+3/7v/8P/p//r/4P/q//T/7P/G/97/9v/7/xEA/v8NACMANQA8AFgAVgBVAEgARQBlAF4AUgBrAHgAdACZAGIAYwBpAGgAZwBFAGUAXwBLADMASABqAF8AUwBWAFAAWwBQAEkAWQBHADYAFQARAAsACwAKACAANgAnADEAHgAkADUATABHACAAJwAfADQAFAAlADYAHwBPAFwAXwA2AFoAbQA7ABsAFAAlADAA+f////L//f8vABIABAAVAFkAOQA0AD8ARwAvAO7/3P8IABEA/P8bAAAA6v/8/+X/0//x//f/1//v/+f/0P/K/9L/xf+t/9r/3f/M/9X/3f/q//P/7P/o/87/5f/S/+j/xP+6/9//+f/w//T/JgAiAAoA9f8UAPX/AADP/8v/v/+u/6n/w/+5/8L/u/+5/+n/zP/W/8//3P+n/6P/xf+z/5L/nP+K/5b/mP+t/7L/s/+8/87/1/+2/8v/s/+m/6//p/+b/5//kv+M/4j/kv+q/7f/t//U/9D/3//F/8z/qv+i/7//tP/j/9P/3v/2//3/+v8JAAIAEAAMAAMAHQAuACEAJgAPACQAKQAIABoACwAiACAAJQA9ADIANQBFAGgAdABTAGMAewBTAF8AXQBFACgAEQAiAP3/8f8AACkALQBMAFkAWABfAEoAQAA1AB0AEwAWABQAIgDw/9v/xP/d/wsALgA6ABwAHQA7AC0AGgA5ADsAIgA0ACQAKgBrAGMASABLAEoAOQBWAE4AZwBPAEAATwA8AEIAHQAuABwAJwA+AA8AIABKAFIAOQA0AC0ALgA9AOf/+//l/+n/8f+v/8P/wP+o/5H/wv/D/7//wf/V/9P/zf/e/8f/0v/F/4v/kv+I/6j/iv9u/5D/gv+G/5b/qf+T/7P/qP9+/33/kP9h/2L/c/9n/3H/ff9n/3f/j/9s/3r/lv+b/5H/of+O/67/sv++/8H/pv/V/+H/8v/a/8j/9//4/+3/5P/u/+z/5P/1/9X/+f/9/wQADwANAPv/1v8HAPH/9P/n/+//BgDv/x4ATgA+ACoAIAArAEwAPABJAFYAVgBOAFYAMQBLAFcAOwBtAHAAawCHAJsAXQBmAEsARwBFAC8AJgBBADEAAAAPAPH/DAAbAD4AKABBAEMAHQBEABwA8P/4/wUAAwAIACEADQACAO//DAAmACcADwDk/wYAKAAhABIALAAwADcAJAAPAAAA7v8AAP//6v///8r/zv/9/93/z//S/63/0v/B/7//+/+4/6v/zv/Y/7v/4v/e/9H/1P/W/9L/x//R/+3//v/+/wQABwAGABIAKwA5ADoAIwBHAGcAagBeAFQAQQBTAGwAXABAADYAXAB3AGcAbwCYAGsANwA3ABMAFAA6AAUA/v/n/9P/2f/h/+3/6v8MAOz/BwAAAOf/9//v//7/BQD8/+X/1//v/wkA7v/j/wcAJgArAC8APgAsAAgAMAAvACYALAAtAAYABQAsACsATwA2AEMARgAxAE4AKwAmAFUAOgAfABcAFgAdAAsA9v/3/93/qv/c/xUAFgATAB0AHwABAPP/9//z//3/CgD5//T/EAAFABgAOQAUABUAGgAKAPv/HQAlABEAEAAZAAIAAgAfABYACQACAAsADwAeAO///P8fAPz/xv/2/+j/5P/z/8v/7P/u/93/jv+Z/8H/p/+y/73/qf+7/93/zP/T/73/qv/N/7n/qv+r/6L/lv+8/7D/o//E/7f/uf+t/6j/q/+j/8X/j/9w/5X/h/+S/2v/XP9X/3v/a/9R/4b/of+7/8v/v//h//D/AADq/8f/4//E//b/3f/O/8X/qv/L/9X/yP/e/+P/7/8AAPH/1P+8/wIA3f/F/+r//f8FAPj/AgAPACUAHwADAPv/9/8VAEEATwAmAAIACgAoAC0ALwAoAAAAMAAUAAAABwDy/xUA/f8AAAUABQANACoATQAfACoATgAkABkAQQBPAFoAJAAxAEIAUQBvAEIAOQAsAD0ARwBSACwAPgAvACwAUgAvADwARABaAEUATQBiAHsAdABVAGoAgwBxAGQAeQBeAGQAQgAwAFkAZwBLADEATABLAHIAXAAiAEAAJwAmABMAGQAmAOX/BgArACoADQAVACoADQACABIAGQD///T/9P8HAPf/BADw//z/9////yMA5//+/+z/9f/c/87/7P/k/+7/7v8FAAQAAAD0//L/BQAYAAwACAAhABIA4//P/9H/vv+7/63/pf/I/7v/qP+k/5j/mf+k/4v/gP+X/5H/gf+J/3r/W/9w/3j/W/9z/33/dv+b/3P/c/+M/4D/hv+P/67/uP+t/7r/n/+n/7n/s//Z/+3/6P/s/w4AEQAYABQAHwApAEIARABOAE4AYQBqADsANAA+AFIAUQBSAFAAWgBUAIQAcQBOAE0AQABQAHMAbABfAC4ARQBeADsAWQBMAEYAQQBhAFAANgAmAEcAMQAfACwARQA+ABkANQAnAB8AKwBRAFgAXgBkAF4AWQBEADoAQgAzADcAMwA2AFYAXQBSADYAGQAwAEoAMgAaACAAHQAbAA4A8v/r/+7/8//5//j/8f/9/xoAGwAGABcACADz/97/+v8NAOn/5P8KAAAA7f/D/7r/0v/U/6v/uf+1/5n/5P/K/8r/vf+x/7H/v//K/+X/zP+6/9T/y//Z/97/0P/L/9D/tf/Q/+H/0f/k/wEAAQABAPH/BAAUAP//+f8MAO3/1//l/+P/DADv/+3/EQAfAPn/5P/x/97//v/s/+P/EAAqADQAGwADADQALwAfADIALAAnAP7/7f8aABoA9P8MACQAEQAIAAMA6v/9/wcAAwD9/////v/e/7P/xf/f/8//5P/M/57/zv/x/97/0P/m/wIA5P8NACQAEgASABEAJAAIAAYADAAAAOb/3v8LAAQA8P/l/97/3//2/+3/9//v/+X/9f/0/xcABAALABQAFAAGACAADQALABIA4P8aABMADgAtACcAKQAgABgAAwACACAAGwAAAAwAGQAkAC8AOwA9ABwAIAA6ADkAFAAMABgABQDh/wMABAD8/xQA+P8KAEIAQQA4ABkA+v/v//H/8//m//7/DQAcABEADAAAAAsABgAgACQAAQAgACoAKgArACEAHQAQAPj/+P/4/xoACgDi/+X/8/8ZABUAFwAPAPP/3v/Y/8//2//h/8z/vf++/8b/xP/i/8n/8f8MAAEA/f8LAPj/0v/q/9T/5/8LAP7/7f/c/97/5v/Y/+X/8/8iAAQAEAAhABYAIAATAN3/0f/k/7z/uP/G/+n/0P/C/8L/9P/n/7z/tv/N/+T/wv+4/7r/uP+r/5v/qv+6/8X/0P/X/w0AAwDg/9//5f/t//P/8f/d//3/GQABAB8ALAAqABsAPABXADoAFwD7/xMAHQAAABkADADx/wsACgAsABgAIQARAC8ARABIAFQAUgBcAFgASwBBAGsAQwBDACYAPAAqADEATQAQAB8AMwBGAEwATQA7AEYAGQATAA4AFQD6/+P/AAAGAAgA+v/9/+D/BgAAAOn/1/+8/6L/tP+P/5r/l/+J/6r/m/+1/63/sP+p/9P/u/+3/9P/3f/h//L/5P/P//P/2v/u////5P/e//P/8//z/wkAGgAJAAkA/f/U//v/9//4//7/+f8LAOX//v8XAAIA9f8CACAAIgAsABwA6f/s/+v/9v/k/+X/3f/j/wAAAAAkADYAQwAcAB8APgBPACgACwAEAA8AHAANABQAJgAWACMAIwARADwAPgA2AEcAMgAUACkACwD5/xcAEQDc/+P/0//9//H/7f8aABcADADr/xsACADk//j/AADd/wUADQATAP//5f/+/+L/xf/J/9n/4P/c/9n/7P/8/xwAFgAcAB4ACQADABoALQA6AEIAMgAjAC8ALQAjAA4A9//0//n/DADl//b/IQAOABkA/v8gADIA+P8jAPb/4v/u/87/w//P/+H/5P/u/9H/9v/4//L/EgAAAOX/8P8AAAQABQAxAD4AMgBMAEkAUQAmADgAOgAxADYA/f8aABkACAAzACwABgAhABwA4//5/w8A4P/W//f/CgAHAAUAGAAzABoALAA3AAsABQD+/xkAEgD8//L/2P/x/wUAFAAEANf//P/p/9j/4//Y//H/3v/G/9P/0v/E/9j/wf+7/6P/q//G/5r/yf/U/9//2f/s/xMABQD+//3////2/xQA8f/2/w0AMABBABIANQAtACsAKwAWABoAAAAEABsAAAAKABcABgDv/+j/+/8IAAEA5P/s/9b/5//f/9n/yf/H/97/x//U/9X/7f/q//n/5v/m//b/6/8PAAQA5v/+//r/6/8IAAsAHgAYABIAFAAhACwADQAPABIADgD+/xkA9P8UAAgAAwBFAB8AJgASACEADgAgABYA//8HACsAPwATAB0ALwAjAB4AJAD2/9v/8P/f/+3/8v/S//z/CQAIABMADwANAAwABQAFABwAKAAHAOr/7P8JACoAJAD+/xAAFwATADUAOAALAOn/9P/X/9n/4P/p/93/4f/k/+L/+P/A/7z/5P/W/7v/zv/E/7n/u//B/7f/qv/V/8n/vv/H/9//4v/n//D/BgAcABQADQAVAAMAAgA/ACsAMABFAFQAYgAxAEAARABJAD0AJgArABAARABRADAAMAA7AC8ALABEAFIAGQD1/+3/BAAZACEAFgDS//H/5v/8//L/zf/K/7n/2v/4/+D/4f/o/6z/vf+g/6D/1P+6/7H/wP/e/+P/5f/z/9//8//p/9L/wf+1/8n/t//O/+H/6//1//7/FAAiACgAGwAdAB4ALwBTADAALwAjAAMAGAA6AD0AOQBhAE4AXQBhAG4AZABNAFYAQQBOACsALQBUADQADAAHAO7/3//Y/9T/s/+8/8j/0f/u/8v/1//X/8H/y/+w/7X/0v/f/8j/w//V/7j/5f/7/wAADQAQAAwACAATAPX/7v/y/+b/8v8GABEADwAbACQADwAcADIAKwArACwAKgAvADQAUwBkAEsALABKAFgANAA7ACEAEQAwABEAIQA7AB4AJwBDAD0AGQAWAP3/GQABANL/AQAVAAUA5v/W/8P/zv+w/57/qv+8/7r/z//n/97/3//S/97/q//I/9T/zv/Z/9f/7/8NAAoABAAlACsARAAzACIARQBRAEIAXQBUAEkARwBNAE8AMQA7AE0ASwBIAEoALwBBAE4AIwAnABMA7/8FAAMA5v/q//3/8v8QABcA6P8FAPj/4v/5/9v/0v/i/+z/6f/c/wIA4f/K////7v/y/+z/5P/r//f/5v/o//H/z/+r/6//wP+9/77/vP/F/9D/2P/d/83/8v8AAOP/8//S/8T/vP/S/+j/1P/B/9z/2v/z/+f/6//X/6z/8f/u/+X/1v/c/+H/vf/K/wYA7f/o//n/BAD2/+3/CwAEAPH/CwAKAOD/6v/0/w4AFQAIAN//4v/X/+P/AAAHACUAAADf/+D/8//1/+P/8P8AAOH/+v8SAPL/6//7/yUABAD4/wIA9P/e/9j/4P+5/+v/6//D/+H/6P/K/+//AADg/+//BgAMAA8ACADp//H/6f/v//b//f/k/+X/IQA3AC0ADwAcAPf/+f8FAO7/IwAMAAcAFQAfAFcANQAqADIAIAAcACwAPABDACEAEgA2ABsAIwAuAAgABAARABwAFwAJACEAEwAlAC4A7f/R/47/rv/N/6H/kf+a/9z/3v/l/+H/2P/h/8r/4v/w/wIA/f/w/9H/zv/r/9z/AgDy/9//DAAGABkANAA5AEgAHABNAFsAZQBPADQAMQAsAEAAHABVAGwAWwBLAGAAXQBVAEwAZQBFADYANwAnAB0A+/8gABwAAQD//x8A/v/v//T/3//K/+j/0v/F/+f/3v/m/9X/7P8CAOn/2v/y/8r/9f/7/wcAIgAbACsA+P8BABUAYgA1ACAARgBMAFwAVABnAFwAcgBlAGIAiAByAGAAWABOAHwAgwBeAF4ARAA6AEwAPwAxACgALQASABAAHAAUAPf//v8cAAQA+f8AAPD/AgDt/8n/z//F/+n/3f/f/+X/9P/t/+//CwDy//T/5f/U/8T/1//p//n/1f/P//D/xf+2/7r/r/+r/8f/v/+n/6r/rv+Z/5b/pP+a/6T/mv+c/4v/iP+Z/4L/lP+j/5r/dv9t/5L/nP+3/6n/tP/Y//D/CgDx////9P/a/+n/9v/r/+r/7//Z/+P/6//0/9v/1//h/8r/2P/R/9H/w/+1/7//2//k/+L/0P+z/+T/3v/V/wQA8f/8/wUA6v8PAAMA5v/6/////f8wACIAOABUADMAUAA+ACsALgAcADUAOQBLAFoASABUAHMAYwA/AEIACQD7//T/HAAfADYAMwAmACkALwAwACkAGwAGABwAAwAeAPn/EAAPABcAFwApACkAHgArADMAMQArAEEARwA9ABIAPgBZAF0ATABhAGsAfgCEAH0AbABWAEYAJgAkADEARQAyAAEAHwAXAA4ANwAIAAEABADv//z/6f/W/9r/3v/o/+n/2P/6/9f/zP/n/7v/wP+k/5z/qv/D/8D/yP/J/7P/t//P/83/9v/S/+r/+P/5//f/4v8IAOf/5P/N/+//1v/Q/8z/x//Z/8f/xP/U/8f/8v/z/xUABwD5/wwA//8IAOf/AwDo////BwD5/wIABADa/wIA/v8OAD0AJwAzACQASgBKAEsAJwAmAC0AEgARAAcADAAPACsAHQAEAAAADgASAAkA/f///xkAGAASABkAFAAeACEACwASAA0ADAANACMAAwAAAB0ACQASABQAAAATADEADQAAAAIAIAA2AA0AAwAFAP//5P/E//j/BgD8/+X/3P/q/wcA9v/u//z/z/8IAP7/BgD3/+//GQD6//L/CAAfABsADwDu/+L/6v/n/+r//P/l/+b/2//I/9v/1f/H/9f/4//I/9z/w/+q/+7/+P/5/+3/+////9f/3P/V/+X/2v/V/9r/2P/V/9L/7f///8//1v/4/wgA/P/6/xkAHAArADMASgAaAAIAIgAxABcAEwAXAAcAKAAhAP//GAD5/+T/6v/Y/+z/+//w//z/CAARAPv/+P8AAAUAIgAnAAAA8f8bAPf/BQALABMACQAVAB4AGwAsACoAMQA2ADsAAgD6//7/5f/u/9n/5v/7/+b/4//f/+D/2v/z/+b/4P+//7r/sv+v/6r/jv+c/83/w/+p/6D/zf/c/8f//P/h//H/7v/z//X/EAD+//j/FQAUAAgA5//l//P/8v/Z/+P/1f/D//b//P8EAOP/u/8DAAYA4f/9/xcA4v/k/9P/DQAPAN3////7/w0AIgAgAP7/BQDv/+n/8v/N/9D/7//N/8H/2//s//P/wv/F/+P/3f8AANj/vf/x//r/FAAVAP7/GAA6AB0AJQAMAAQAOwApACgASgBmAGQAZwBlAGgAiQB6AGYAYgBuAJgAegBdAFkAYwB6AHIAdwCMAHYAYABZADwAVABVAEoAQQBEADsAQwA7ABQAIgBFADMABwAwADwAFwAyADgAIgAxACgAMwAgACEA+v/k/+//x//S/+n/z//b/+//6v/q/+P/9P/i//v/4//d//X/7v/z/+v/AwDg/9f/6v/n/+r////o/+H/AwDk/9j/0f/o/8T/2f/4/7//zf/q/8P/yP/g/77/tP/E/+L/2v/X/+D/yf/N/+T/6//9/9b/2//6/wAAMAAeAAEAIQAiABsACwAPAC0ACQApADEABAAPAAUA+P8WAAwA3P/P/8z/0v8HABYA6v/6/wcA/f/5/97/5P/4//T/8P/T/+r/BQD6/+r/7f8SAPn/v//9/ykA+f/Q//P/CQDz//T/6f8QABsAJgAFABMACQD0/wsAAQD2/+v/8P/u/wEA3/+//7H/6P8HAAYA9f/v//H/9v/x/+D/4//l//3/7f/6//3/EQALACcAJQAjACwAGgAuADIANgArAB0ADwApAA8A7v/n/xQALwAiACIABwAiABcAAAAAANn/4f/m/9f/6P/k//7/FADz//7/FQDp/9r/6//v//P/4f/W/97/5P/s//H/7//m//v/zf/B//X/wv+i/8r/0P+w/7f/p/+n/9T/vP+s/8P/2//Z/9n/5P/d/9v/v//L/+L//P8AAOb//f/h/8P/+//h/7z/5P/f/8r/2f8EAAAA4//e/8b/wv/T/77/z//U/7f/3P/M/6b/zP/1/wAAxP+2/9X/3P/+/wQACgAPAB4AIgAwAC8ANwA9ACoAOwBmAHcAXwBVAFgAPgAyAF4ASgA6ACUATgA9ACQAOgA2ACQAGgA7ADwAbAAwAC4APgAnACIAIgAiACIAOwA0ADUAJgAwADUAPAAiABYANgANABAAIwAVAAoARQBJACUARQAbAEUAQwBiAGwARABRAFEAUQBBAGEATQBlAGYATABjAG4ATwBeADYARQBAAAUAEQD6/wgAAgAbAP7/CAAWAAIA9P/l//P/8f/U/8T/yP/G/7T/sv+2/73/tP+1/8D/sf/l/9n/6//Z/9v/0//a/+3/uP/B/87/0P/H/8z/s/+r/8j/r/+v/9v/xv/K/+D/5P/i/+r/4f/a/8v/yf/7//H/BQABAPH////j/9P/4P/j/9n/8v/l/wgAGAAAAAYA6f/r//f/+v8fACAADwD9/93/EQAEAA8ANgA1ADAAHwAmACsASgBFABgAEgAPAPn/NAAzAA8ABAD4/x0ABQACABcAJgAxADwASQBCAEoASgA1ADIADQAVABAA/P8dAAwALgAVACIAMgA8AGcAOgAnACUAGAAoAAwA4/8AAOb/0f/+/xIA4v/p//v/EAAEANX/0P/Z/9b/qf+n/5D/ef92/3v/hv+b/7D/j/+f/8D/0v/Z/7//6v/s//L/+//Y/97/1f/s//z/5f/Y/9T/AgAFAAkAJQA2AEMAJgAAABkAKADS/+f/3P/s/xEA8P8FAAAA/v8mABMA7/8QAAoAGgAfAAsABADm//b/8P+8/+T/9P/e/9L/3P8VAAEAAwAZAB4AMAA5ACAACQAmAAsA6//p/83/4P////b/5//E/9v/EAANABYACQAOAAQA+v8NAAAAAADz/9P/8/8GAPL/6f/Q/+//5P/f//L/+f/U/8X/5//A/7f/y//N/6j/rv+m/6f/s/+1/7z/uP/V/+H/3P/b/xMADQAZAEUAMgAwACIAIAAnACoAEgArAGgASgAsAFQAdAB3AF0AVABaAFIAbgBeAFEAMQArADoAIQA3AE0AbgBEAC8AOwAlACUAIgASACEANwAPAPn/4P8FADEAAwAUADwAMwAqACoAHAAaAC0AJgA3ACAACgAtADwAMQAuADoANAA4ADAAQABSAD0ACQAXADUA2P/U//L/yf/G/8H/sP/I/8//0P/W/5f/k/+4/8P/sf+W/7P/nP92/7L/xf+w/8f/xf++/6z/zf/+/9z/y/8AAAAA+v8QAO//AQA0ADQADAATAA4ADgAuAC8AKABBACUAFAAwAA4AIQAeABUAHwAHAAcADgD+/wwACAD//xcAJgAhACMALAAcAB8AGAANAAYAGwAAAPP/EgAOABAA6P/s//v/5f/7/+//yP/U/+f/+//v/+b/FwAqAC8ALgBAADgAQQBPADUATwA5AEAAUgBHACQAMQA+ADMAPgAYAAoAOQBLADEAPgBOAFIAPgA5ABMAOwAPAPf/8f/g/+v/xf+9/7H/xv/S/9//uP+z/8n/0/+x/7n/sf+4/6v/lv+y/6//rf+6/83/1v/f/8P/y//K/93/4P/d/+b/AADp/7z/2//m//L/CAD0//b/6//p//7/yv/C//L/+P/I/87/1//d/wIA3f+e/8//5//U/9D/xP/y/wIABQD3/9r/0//Q//b/AQDz//X/GAAfAAEADQAAAAQAEAAcAPD/EgAuADQAPgA2AEEANQBMAEIAMAA5AFAALQBoAE8AWwBDABYAIwAkABQA8P/8/9f/1//F/77/lf+m/7f/nP+s/8//xf+3/73/sv+Q/4v/ff9e/3b/gf9+/5z/r/+R/73/zv/a/9f/7f/2/8v/5//c/9///v///xUAJwARADEAFQACAAwA9v8dADoAFwAjAE8ASQBSAFMAbQBKAB8APAA2AEgAYgBFAEIAOQA5ADYAPABAAEwAXwBcADUAOwA2ADgAVwAwAE8ANwAyAEMAOQANAA8AEQABAAgAFQAYABoANwAyAAwABwBMADQAEwAyACwADQAJAPb/DgAIABcACwDf/xAADAATADQAHwAUACsAAwACAAIA6//c/+H/w/+8/9f/2f/p/73/7f8CAPH/5//u/+//DQAPANH/4P/x/+7/3f/f/9X/3v/v/yAAIgD2/+j/BQDX/9T/EgDN/93/+v/3/wIA+////+X/+v8FAPj/AADo//P/AADk/wQA8P/l/woACgApADIAOwBAAE0AKQAlAA4AJwBSABYAHgBAADAAOgBUAEsAYAAsAD8ASgA9ACsADwAcADsAPQAZADAAIQAsADsARgBKAFAARQA+ADYAKgBNAFAAHQAGAAcAEAATACEAJQD7//H/AgD5//T/CgANABAAv//Y/wAA5P/D/83/rf+r/8j/pP+a/4//0v+5/7P/wP+z/6T/mP94/3H/ev+Q/5r/fP9t/3b/h/+f/5T/Wv+E/53/pv+0/8L/0v+8/7z/wP+5/87/wP+6/7f/t//Y/7L/n/+w/8H/zv/R/+f/CQAIAOD/8P8OABkAHwAcADoAVAATABEADwD7/wUA9P/Z/8//4//s//b/6v/g/9P/6//Y/+T/5v/D/9n////y/9r/9v/v/wsANwArABUAIAAoACYAPgAqACIAJwAKAEsAPQAiAEoAIAAfAC0AMQA4ACoARgBWAC8AOAAvABoAMQApABEACgAEAOX//v8DAAYAHwAdAP7/9//r/9H/+/8fAOb/r//h/+n/4//N/8f/2P8GAAUA7P/a/+P/6v/t//P/3v/5/+3/+v/g//P/6f8CAPn/7v8HAOr/AAD2/wAADQAZAA4A/f/3/wgA8P8dABMADgAwACcAHgAuAD4AJwBCADYAXgBHAEEAWQBcAEsASgBVAFIAMgBMAGoALABXAEEARABMADUASwBOAFoAZABdAHYAiQCPAIAAVgBfAHIAZABWAE4APQBiAGQAUgBPAGYAYgA8ACQAEAA4AEMALQAFAAAABQAFABYAFQAaABcAOgA1ADsASQAYAAcA/P/z/9//7f/N/7f/z/+1/7T/h/+i/8X/s//H/9D/yf/U/8z/0v/p/+H/1P/V//f/8f/S/9r/BgAHAAUAAwABAAMABgDv/+//+P8AAAcA9P/2/+b/9v8LAAMA6P/y//v/CQAaACYAOAAiABkAFQAnAC0AHAABAPr/EAD3/+f/AQAFAPv/9f/i/+T/6f/m//r/8v/a//D/5f/f/8L/wf/V/9b/x/+m/8f/tv+4/8f/1f+o/6r/sf+n/8//1P/F/7T/uv+u/7//6P/R/8f/yP/C/9b/wP+w/7j/x//Q/+7/wP+5/9b/4v/Z//r/LAAfACwAGwAcAC8AJQD1//j/AAD0/9n/w//O/8z/4P/p/77/q//U/+D/5v/h/9D/5f/y//7/6f/r/9X/4//z/97/4//f/wsA/P8NAP//8v8BAOX/GwAaAOj/zf/Q/wIACQAKAOn/3P/u/wIABgAWACcAFgBAAF4APAA2AE0AHQAzACUAGQBTAEgAQgA4ADAAOABDAGkAZQCFAJUAcABqAHwAdgBRAFIATABKAF4AZgAdAD4ALAAKAFEAVwAbABYAAwDz/wQA//8oAAsADQAXABIAGgAqAAsAFQD+//b/BwDt/wEABgAWAA8AAADv/w0AGwD7/wgA+/8DABoA///W/77//v/u/8b/1//G//P/EgD4//r/BwAPAPD/+v/f/9v/+//u/wsA5//e//L/6f8JACYAHAAhACoAMgAkAB8AIwAZABwASwAzAAEABAALAAIA7v8dACIAEwAuAEsAawBXADwAVAA5ACwARQBOADwANQArABoALgApAD4AIQAKADIAOwAzAAsAKwAgAPX/EQAIAP3/CgDv/9r/4v/V/8T/tv+//7v/sP+l/63/hP+1/7D/gP+c/6X/tP+h/6L/oP+k/5//s/+w/8L/qf+h/9L/yP+8/83/zv+z/6X/wv/Y/+P/7f/P/+j/4//Q/8T/vP/X/+H/wP/q/9f/rv/e/+X/zv/o/+H/5f8cAOX/8P/q/8v/2v/x/97/2v/I/8//6P/Q/9f/w//k//b/9v/I/8T/xP/U//b/zf+k/7//8P/S/8f/w//6/+X/+f8lAAcA+f/3/wYA9v/m////KwD0//H/+v///x4A///x/woAAQAJACEAMAAkAC4AMQAgACwARgAtAAUAIQAVABsAOAA3ACAAHwAIACwANgADAB8ABgD8/wgA+v8BAOP/6P8HAA8AGgAeAAcA+/8aACkAHgD7/wQA+f8FAAMA9P8AAP3/GAAEAAIAEgAaAAIAFwAxACEANgAsAAYAHQAeAAgAAwDt//7/6v8KAA8A4///////7v8AANn/z/8EAAIA9f/a//3/EQAFAP7/7/8CABIAEwA2ADYADQAWAEAAUAA+AE4AQgAgADkAGgD7//7/CAAIAP3/HgA5AD0AGAApABUAKABQAEUAKwAEAC0AGgAAABAAIAD+//v//P8FADEAFgBbAFcAIQBBADsAWgBbAEgARAA9AFoARgBWAHAASABFACgAGwAcABcAEQAYAAkAGQAbAAkAJAANAPr/9P/8/xwA9v/M/9j/x//O/8j/vv+p/73/sv+3/8n/xP/w/9X/0//H/8D/4/+9/6j/3//m/93/7//f//n/EwAGAAgAFAAQACgANAAWAP//CAAAABgAKADc/+3/CgAPABoABwADABEA5P/u/93/yf/k//v/6//3/xwADgA/ACgAGAAUAPz//P8uABAADgAaAPH/9P////L/6v/n/9P/9v/a//z//P/7/+j/wv/k/9r/8//s/8n/uP/V/9f/xP/V/9v/z//s/+r/5f/f/+D/4P/L/+T/3f/l/7r/zv8IAA0A5/8CAPj/CwAmAPT/EADr/wEA3v/f/97/2f/5/+T/1v/d/9D/3/8RAPz/7//w/+7/8f/7/9r/HgABAAMAFwAAAB4ABAAwAEwARAAQABIAKAAOAP7/FgD5/wAA/f8CABgABwASACIAKAAzACcA//8lABsAHQAIAAEA+v8DAP7/DQABAPj/AADn//L/zv/Y//X/0//L//7/7v/z/+j/4f/v/+v/3/8HAP3/4v/g//T//f/s/woA9P8CAAMAAAD+/+T/3//u/9H/3P/Y/+j////g/+z////p/9L/9v/R//f/EwD1/wcACQAZADIAMQAjABMAHwAzABsACQAVACEAAwAXADAAJgAlABEARwBMACEAGAAOAAwA4P/Z/wIAFwAaAP3/CQANABcAKgAbACEADQAiAB4AHwAdAD8ANQARAB0ALABOAD4AQwAvAEwATQA8AFQAPgA3ACQADgAaAAsABQAUAA8A+f8WAAoA+f8UAAcAFgARABsAEwD7//D/BwD4//L/+P/5/xUA7P/Y/+n/9/8CAAcA+v/t//P/+v/n/+j/8P/0/wIA9P/4/wQAAgAgAAMA8v/2//b/+//1/wYA5/8LAAgA6P/i/+z/DgDO/9v/3v/B/7v/nf+9/7r/y//T/77/4f/l/9r/3v/X/8P/vf+Z/5X/zv+t/53/8f/e/7//6P/S/9z//v/n/8D/v/+t/4T/tf/P/77/u//D/9T/7////+n/+v/t/wAAAAD6/wwA8v8NACUAFwDs/wUAHQAbABMA5//R/8b/2v/q/+n/2f/m//P/7v8MAA4ABwARACMAEAAXAD0ADgALAEIAOgAmAEgAVwBBAFsAVQA9AD8ALQAoABQAKgAOAAgAKQAlAEUABwDr/+X/6P/4//D/EgAXAA8A/v/8/wMAGgAlACwADwDa/+H/CQAJAPP/9//O/9//6v8EAAkA4//s/9j/4//r/wgABADZ/9//6//j/9z/3f/i/wkAAQAMAPv/8P/9/93/AgD5/8r/4v8JAAQA9//h//H/4f/g/+v/7f/1/+r/FAD5//D/8v/w//f/+f8NAOr/8P/v/8n/2//u/xEADQD6/+7/6f/v//P/BQAHAAgAEgAtADoAOQBGAEwAXQBFACsASQA2ADoAMQAwACEARwA5ADEATgApAEIAEQAqADEAEAA2ACIAFAAhACAADwAAAAsA7//T/+7/FQAGAOL/xP/F/73/tf+2/7//p/+i/9j/tf+s/87/yf+p/9n/7//t//r/AAATABsADQAJAAIAGQAVAAUAHwAVAD4APAAkABMAHABPAA8A9f8LAPj/9f/j//H/+P8JABMAIAAMAPv/DAAQAPH/z//i/+L/5//U/9L/0//L/8z/yP/S//L/AQD///z/FAALABkABwDh//j/DgAdACcASABmAFgAWwBRAC8AVAAtAB8AFgAwAD0AEQADAAAABQD8//7/AAAFAP3/AwD9/wQAAAD9/wQAAQD//wAA\" type=\"audio/wav\" />\n",
       "                    Your browser does not support the audio element.\n",
       "                </audio>\n",
       "              "
      ],
      "text/plain": [
       "<IPython.lib.display.Audio object>"
      ]
     },
     "execution_count": 27,
     "metadata": {},
     "output_type": "execute_result"
    }
   ],
   "source": [
    "import IPython.display as ipd\n",
    "import numpy as np\n",
    "import random\n",
    "\n",
    "rand_int = random.randint(0, len(common_voice_train)-1)\n",
    "\n",
    "print(common_voice_train[rand_int][\"sentence\"])\n",
    "ipd.Audio(data=common_voice_train[rand_int][\"audio\"][\"array\"], autoplay=True, rate=16000)"
   ]
  },
  {
   "cell_type": "markdown",
   "metadata": {
    "id": "gY8m3vARHYTa"
   },
   "source": [
    "It seems like the data is now correctly loaded and resampled."
   ]
  },
  {
   "cell_type": "markdown",
   "metadata": {
    "id": "1MaL9J2dNVtG"
   },
   "source": [
    "It can be heard, that the speakers change along with their speaking rate, accent, and background environment, etc. Overall, the recordings sound acceptably clear though, which is to be expected from a crowd-sourced read speech corpus.\n",
    "\n",
    "Let's do a final check that the data is correctly prepared, by printing the shape of the speech input, its transcription, and the corresponding sampling rate.\n",
    "\n",
    "**Note**: *You can click the following cell a couple of times to verify multiple samples.*"
   ]
  },
  {
   "cell_type": "code",
   "execution_count": 28,
   "metadata": {
    "colab": {
     "base_uri": "https://localhost:8080/"
    },
    "id": "1Po2g7YPuRTx",
    "outputId": "c1aaadf0-f68a-4d53-9b19-a51aa5d982aa"
   },
   "outputs": [
    {
     "name": "stdout",
     "output_type": "stream",
     "text": [
      "Target text: ate era ne mu nsi mwe nnyini omuli akawuka ka corona ebitundu ebimu baabiggalawo obutabigendamu\n",
      "Input array shape: (121536,)\n",
      "Sampling rate: 16000\n"
     ]
    }
   ],
   "source": [
    "rand_int = random.randint(0, len(common_voice_train)-1)\n",
    "\n",
    "print(\"Target text:\", common_voice_train[rand_int][\"sentence\"])\n",
    "print(\"Input array shape:\", common_voice_train[rand_int][\"audio\"][\"array\"].shape)\n",
    "print(\"Sampling rate:\", common_voice_train[rand_int][\"audio\"][\"sampling_rate\"])"
   ]
  },
  {
   "cell_type": "markdown",
   "metadata": {
    "id": "M9teZcSwOBJ4"
   },
   "source": [
    "Good! Everything looks fine - the data is a 1-dimensional array, the sampling rate always corresponds to 16kHz, and the target text is normalized."
   ]
  },
  {
   "cell_type": "markdown",
   "metadata": {
    "id": "k3Pbn5WvOYZF"
   },
   "source": [
    "Finally, we can leverage `Wav2Vec2BertProcessor` to process the data to the format expected by `Wav2Vec2BertForCTC` for training. To do so let's make use of Dataset's [`map(...)`](https://huggingface.co/docs/datasets/package_reference/main_classes.html?highlight=map#datasets.DatasetDict.map) function.\n",
    "\n",
    "First, we load and resample the audio data, simply by calling `batch[\"audio\"]`.\n",
    "Second, we extract the `input_features` from the loaded audio file. In our case, the `Wav2Vec2BertProcessor` creates a more complex representation as the raw waveform, known as [Log-Mel feature extraction](https://en.wikipedia.org/wiki/Mel-frequency_cepstrum).\n",
    "Third, we encode the transcriptions to label ids.\n"
   ]
  },
  {
   "cell_type": "code",
   "execution_count": 29,
   "metadata": {
    "id": "eJY7I0XAwe9p"
   },
   "outputs": [],
   "source": [
    "def prepare_dataset(batch):\n",
    "    audio = batch[\"audio\"]\n",
    "    batch[\"input_features\"] = processor(audio[\"array\"], sampling_rate=audio[\"sampling_rate\"]).input_features[0]\n",
    "    batch[\"input_length\"] = len(batch[\"input_features\"])\n",
    "\n",
    "    batch[\"labels\"] = processor(text=batch[\"sentence\"]).input_ids\n",
    "    return batch"
   ]
  },
  {
   "cell_type": "markdown",
   "metadata": {
    "id": "q6Pg_WR3OGAP"
   },
   "source": [
    "Let's apply the data preparation function to all examples."
   ]
  },
  {
   "cell_type": "code",
   "execution_count": 30,
   "metadata": {
    "colab": {
     "base_uri": "https://localhost:8080/",
     "height": 81,
     "referenced_widgets": [
      "24a2c97798cf4d2191d9c6777a23946c",
      "985ae81202ce425ea2b57ca04a0920cc",
      "7662e0eb9a91463e9a69541c82ab9178",
      "c221ac96e8eb4c5e95c267e445994893",
      "c4212ea9e71d472d825c343499da17cf",
      "3202ba8381a4413fa8dfd8104ce05e84",
      "3f4f871a84bb4e26aa4f832e123defaf",
      "b28888859e6b4783a4ce1285989ec723",
      "02b17bfa039c44f0bfd1fe6d5fc85670",
      "d4377ad094fd4a60b86ea24ed77cd540",
      "9171a74c035349f48c5ba0d69342296e",
      "4dc1d2fefbb44f7d8c381c9629e29cb1",
      "bba854dd202747cfba1b55287f4263d9",
      "c932efe0b3d844de97789d18f835ac1c",
      "d81d0a54ee584530bc16b57717812a3e",
      "aefff613fb5045f082ff504816442b55",
      "904c1c93cb5f41059bc1ef9a0f45b088",
      "5696324df4dd4595b470c210de4f5523",
      "b1e21d94ca1d495486262bb811b7b45d",
      "d4e9aac53b5542b899419f26e590d596",
      "fd6e8d248e14464987762c4b8a04833f",
      "6c62192e0e9f4c188d7cf4c086b79a4f"
     ]
    },
    "id": "-np9xYK-wl8q",
    "outputId": "146014db-1471-4370-fe40-6bd229348a72"
   },
   "outputs": [],
   "source": [
    "common_voice_train = common_voice_train.map(prepare_dataset, remove_columns=common_voice_train.column_names)\n",
    "common_voice_test = common_voice_test.map(prepare_dataset, remove_columns=common_voice_test.column_names)"
   ]
  },
  {
   "cell_type": "markdown",
   "metadata": {
    "id": "nKcEWHvKI1by"
   },
   "source": [
    "**Note**: `datasets` automatically takes care of audio loading and resampling. If you wish to implement your own costumized data loading/sampling, feel free to just make use of the `\"path\"` column instead and disregard the `\"audio\"` column."
   ]
  },
  {
   "cell_type": "markdown",
   "metadata": {
    "id": "1ZWDCCKqwcfS"
   },
   "source": [
    "Awesome, now we are ready to start training!"
   ]
  },
  {
   "cell_type": "markdown",
   "metadata": {
    "id": "gYlQkKVoRUos"
   },
   "source": [
    "## Training\n",
    "\n",
    "The data is processed so that we are ready to start setting up the training pipeline. We will make use of 🤗's [Trainer](https://huggingface.co/transformers/master/main_classes/trainer.html?highlight=trainer) for which we essentially need to do the following:\n",
    "\n",
    "- Define a data collator. In contrast to most NLP models, W2V-BERT has a much larger input length than output length. Given the large input sizes, it is much more efficient to pad the training batches dynamically meaning that all training samples should only be padded to the longest sample in their batch and not the overall longest sample. Therefore, fine-tuning W2V-BERT requires a special padding data collator, which we will define below.\n",
    "\n",
    "- Evaluation metric. During training, the model should be evaluated on the word error rate. We should define a `compute_metrics` function accordingly\n",
    "\n",
    "- Load a pretrained checkpoint. We need to load a pretrained checkpoint and configure it correctly for training.\n",
    "\n",
    "- Define the training configuration.\n",
    "\n",
    "After having fine-tuned the model, we will correctly evaluate it on the test data and verify that it has indeed learned to correctly transcribe speech."
   ]
  },
  {
   "cell_type": "markdown",
   "metadata": {
    "id": "Slk403unUS91"
   },
   "source": [
    "### Set-up Trainer\n",
    "\n",
    "Let's start by defining the data collator. The code for the data collator was copied from [this example](https://github.com/huggingface/transformers/blob/7e61d56a45c19284cfda0cee8995fb552f6b1f4e/examples/pytorch/speech-recognition/run_speech_recognition_ctc.py#L219).\n",
    "\n",
    "Without going into too many details, in contrast to the common data collators, this data collator treats the `input_features` and `labels` differently and thus applies to separate padding functions on them. This is necessary because in speech input and output are of different modalities meaning that they should not be treated by the same padding function.\n",
    "Analogous to the common data collators, the padding tokens in the labels with `-100` so that those tokens are **not** taken into account when computing the loss."
   ]
  },
  {
   "cell_type": "code",
   "execution_count": 31,
   "metadata": {
    "id": "tborvC9hx88e"
   },
   "outputs": [],
   "source": [
    "import torch\n",
    "\n",
    "from dataclasses import dataclass, field\n",
    "from typing import Any, Dict, List, Optional, Union\n",
    "\n",
    "@dataclass\n",
    "class DataCollatorCTCWithPadding:\n",
    "    processor: Wav2Vec2BertProcessor\n",
    "    padding: Union[bool, str] = True\n",
    "\n",
    "    def __call__(self, features: List[Dict[str, Union[List[int], torch.Tensor]]]) -> Dict[str, torch.Tensor]:\n",
    "        # split inputs and labels since they have to be of different lenghts and need\n",
    "        # different padding methods\n",
    "        input_features = [{\"input_features\": feature[\"input_features\"]} for feature in features]\n",
    "        label_features = [{\"input_ids\": feature[\"labels\"]} for feature in features]\n",
    "\n",
    "        batch = self.processor.pad(\n",
    "            input_features,\n",
    "            padding=self.padding,\n",
    "            return_tensors=\"pt\",\n",
    "        )\n",
    "\n",
    "        labels_batch = self.processor.pad(\n",
    "            labels=label_features,\n",
    "            padding=self.padding,\n",
    "            return_tensors=\"pt\",\n",
    "        )\n",
    "        # replace padding with -100 to ignore loss correctly\n",
    "        labels = labels_batch[\"input_ids\"].masked_fill(labels_batch.attention_mask.ne(1), -100)\n",
    "\n",
    "        batch[\"labels\"] = labels\n",
    "\n",
    "        return batch"
   ]
  },
  {
   "cell_type": "code",
   "execution_count": 32,
   "metadata": {
    "id": "lbQf5GuZyQ4_"
   },
   "outputs": [],
   "source": [
    "data_collator = DataCollatorCTCWithPadding(processor=processor, padding=True)"
   ]
  },
  {
   "cell_type": "markdown",
   "metadata": {
    "id": "xO-Zdj-5cxXp"
   },
   "source": [
    "Next, the evaluation metric is defined. As mentioned earlier, the\n",
    "predominant metric in ASR is the word error rate (WER), hence we will use it in this notebook as well."
   ]
  },
  {
   "cell_type": "code",
   "execution_count": 33,
   "metadata": {
    "colab": {
     "base_uri": "https://localhost:8080/",
     "height": 179,
     "referenced_widgets": [
      "2efb377eef144a4b94925976040dd12a",
      "5c98b5ccbbe84979ac45d517f075915d",
      "f08133197275429b9a3deda3c90831f2",
      "872e96697ba643faa39f390356dbbb24",
      "b57b6d8ba41441d0993c7b6ff2447354",
      "37ba60075caf4879864c3b843713cd4f",
      "0f7832be4353489d8d71a83920230e95",
      "e4ab7a8b593e4a3c82309fa86db0915e",
      "70e63ec41143478e9584f344e51b03e7",
      "148a4068bbda4dfdba028c9b4e152cad",
      "ece083f606204785bf3806000a0f26ae"
     ]
    },
    "id": "9Xsux2gmyXso",
    "outputId": "3121978c-e48e-44ae-9774-d3d2a6b5ef6c"
   },
   "outputs": [
    {
     "name": "stderr",
     "output_type": "stream",
     "text": [
      "/tmp/ipykernel_55777/24688115.py:1: FutureWarning: load_metric is deprecated and will be removed in the next major version of datasets. Use 'evaluate.load' instead, from the new library 🤗 Evaluate: https://huggingface.co/docs/evaluate\n",
      "  wer_metric = load_metric(\"wer\")\n",
      "/ocean/projects/cis230036p/musinguz/miniconda3/envs/glam/lib/python3.8/site-packages/datasets/load.py:753: FutureWarning: The repository for wer contains custom code which must be executed to correctly load the metric. You can inspect the repository content at https://raw.githubusercontent.com/huggingface/datasets/2.17.0/metrics/wer/wer.py\n",
      "You can avoid this message in future by passing the argument `trust_remote_code=True`.\n",
      "Passing `trust_remote_code=True` will be mandatory to load this metric from the next major release of `datasets`.\n",
      "  warnings.warn(\n"
     ]
    }
   ],
   "source": [
    "wer_metric = load_metric(\"wer\")"
   ]
  },
  {
   "cell_type": "markdown",
   "metadata": {
    "id": "E1qZU5p-deqB"
   },
   "source": [
    "The model will return a sequence of logit vectors:\n",
    "$\\mathbf{y}_1, \\ldots, \\mathbf{y}_m$ with $\\mathbf{y}_1 = f_{\\theta}(x_1, \\ldots, x_n)[0]$ and $n >> m$.\n",
    "\n",
    "A logit vector $\\mathbf{y}_1$ contains the log-odds for each word in the vocabulary we defined earlier, thus $\\text{len}(\\mathbf{y}_i) =$ `config.vocab_size`. We are interested in the most likely prediction of the model and thus take the `argmax(...)` of the logits. Also, we transform the encoded labels back to the original string by replacing `-100` with the `pad_token_id` and decoding the ids while making sure that consecutive tokens are **not** grouped to the same token in CTC style ${}^1$."
   ]
  },
  {
   "cell_type": "code",
   "execution_count": 34,
   "metadata": {
    "id": "1XZ-kjweyTy_"
   },
   "outputs": [],
   "source": [
    "def compute_metrics(pred):\n",
    "    pred_logits = pred.predictions\n",
    "    pred_ids = np.argmax(pred_logits, axis=-1)\n",
    "\n",
    "    pred.label_ids[pred.label_ids == -100] = processor.tokenizer.pad_token_id\n",
    "\n",
    "    pred_str = processor.batch_decode(pred_ids)\n",
    "    # we do not want to group tokens when computing the metrics\n",
    "    label_str = processor.batch_decode(pred.label_ids, group_tokens=False)\n",
    "\n",
    "    wer = wer_metric.compute(predictions=pred_str, references=label_str)\n",
    "\n",
    "    return {\"wer\": wer}"
   ]
  },
  {
   "cell_type": "markdown",
   "metadata": {
    "id": "Xmgrx4bRwLIH"
   },
   "source": [
    "Now, we can load the pretrained checkpoint of [Wav2Vec2-XLS-R-300M](https://huggingface.co/facebook/wav2vec2-xls-r-300m). The tokenizer's `pad_token_id` must be to define the model's `pad_token_id` or in the case of `Wav2Vec2BertForCTC` also CTC's *blank token* ${}^2$. To save GPU memory, we enable PyTorch's [gradient checkpointing](https://pytorch.org/docs/stable/checkpoint.html) and also set the loss reduction to \"*mean*\".\n",
    "\n",
    "Since, we're only training a small subset of weights, the model is not prone to overfitting. Therefore, we make sure to disable all dropout layers.\n",
    "\n",
    "**Note**: When using this notebook to train W2V-BERT on another language of Common Voice those hyper-parameter settings might not work very well. Feel free to adapt those depending on your use case."
   ]
  },
  {
   "cell_type": "code",
   "execution_count": 80,
   "metadata": {
    "colab": {
     "base_uri": "https://localhost:8080/",
     "height": 138,
     "referenced_widgets": [
      "35a6d6ab1bb741fc827ddfbc5d1769a3",
      "502635a25b004bd5a6db0b37f3b5e336",
      "27ce6f18b311411aa06ad3fbe572723f",
      "b913f0cc028642ff9928fffe7a5e297c",
      "814dec784ae64ae6ad6f359cc1fb6647",
      "1e8e4e598e4c47fa8e2e9910e95dac75",
      "5968634ecd8d4c2ba2f2d3457e9e04a6",
      "819c4fa5dd13477ab2618fb85857fd26",
      "73b0e62ccd3543e48d2608de1df3d95b",
      "fe5c45d6d8604abe88700111fc504b8c",
      "65ee7fc205a140748b0e96e2ee185615",
      "98d9a2e070c14d7e8a43f320169abdec",
      "f3551d5b647f4feeaf7a3691ac9bd349",
      "46613a7e2a754267898e4ec2e43ceb2b",
      "c7e705cf3ce1470bb63c89813252f077",
      "695ef3fa108e4e09aee52fa6adfe1a9c",
      "fe679e6d33b644a59eb67347bec182b6",
      "daaf83aa097e4b888ffee112d26a2fb8",
      "8f38983385354f44b99c167b2090351d",
      "8ee68ad071ee452993af29ecacd2d66c",
      "e0be1be3d05947999ca59fe8a30f90ca",
      "78bac143add94da9a4864ed41edc2146"
     ]
    },
    "id": "e7cqAWIayn6w",
    "outputId": "4ed6e261-aa33-4f45-972d-f593cda6a7d8"
   },
   "outputs": [
    {
     "name": "stderr",
     "output_type": "stream",
     "text": [
      "Some weights of Wav2Vec2BertForCTC were not initialized from the model checkpoint at facebook/w2v-bert-2.0 and are newly initialized: ['adapter.layers.0.ffn.intermediate_dense.bias', 'adapter.layers.0.ffn.intermediate_dense.weight', 'adapter.layers.0.ffn.output_dense.bias', 'adapter.layers.0.ffn.output_dense.weight', 'adapter.layers.0.ffn_layer_norm.bias', 'adapter.layers.0.ffn_layer_norm.weight', 'adapter.layers.0.residual_conv.bias', 'adapter.layers.0.residual_conv.weight', 'adapter.layers.0.residual_layer_norm.bias', 'adapter.layers.0.residual_layer_norm.weight', 'adapter.layers.0.self_attn.linear_k.bias', 'adapter.layers.0.self_attn.linear_k.weight', 'adapter.layers.0.self_attn.linear_out.bias', 'adapter.layers.0.self_attn.linear_out.weight', 'adapter.layers.0.self_attn.linear_q.bias', 'adapter.layers.0.self_attn.linear_q.weight', 'adapter.layers.0.self_attn.linear_v.bias', 'adapter.layers.0.self_attn.linear_v.weight', 'adapter.layers.0.self_attn_conv.bias', 'adapter.layers.0.self_attn_conv.weight', 'adapter.layers.0.self_attn_layer_norm.bias', 'adapter.layers.0.self_attn_layer_norm.weight', 'lm_head.bias', 'lm_head.weight']\n",
      "You should probably TRAIN this model on a down-stream task to be able to use it for predictions and inference.\n"
     ]
    }
   ],
   "source": [
    "from transformers import Wav2Vec2BertForCTC\n",
    "\n",
    "model = Wav2Vec2BertForCTC.from_pretrained(\n",
    "    \"facebook/w2v-bert-2.0\",\n",
    "    attention_dropout=0.0,\n",
    "    hidden_dropout=0.0,\n",
    "    feat_proj_dropout=0.0,\n",
    "    mask_time_prob=0.0,\n",
    "    layerdrop=0.0,\n",
    "    ctc_loss_reduction=\"mean\",\n",
    "    add_adapter=True,\n",
    "    pad_token_id=processor.tokenizer.pad_token_id,\n",
    "    vocab_size=len(processor.tokenizer)+2,\n",
    ")"
   ]
  },
  {
   "cell_type": "markdown",
   "metadata": {
    "id": "lD4aGhQM0K-D"
   },
   "source": [
    "In a final step, we define all parameters related to training.\n",
    "To give more explanation on some of the parameters:\n",
    "- `group_by_length` makes training more efficient by grouping training samples of similar input length into one batch. This can significantly speed up training time by heavily reducing the overall number of useless padding tokens that are passed through the model\n",
    "- `learning_rate` was heuristically tuned until fine-tuning has become stable. Note that those parameters strongly depend on the Common Voice dataset and might be suboptimal for other speech datasets.\n",
    "\n",
    "For more explanations on other parameters, one can take a look at the [docs](https://huggingface.co/transformers/master/main_classes/trainer.html?highlight=trainer#trainingarguments).\n",
    "\n",
    "During training, a checkpoint will be uploaded asynchronously to the hub every 600 training steps. It allows you to also play around with the demo widget even while your model is still training.\n",
    "\n",
    "**Note**: If one does not want to upload the model checkpoints to the hub, simply set `push_to_hub=False`."
   ]
  },
  {
   "cell_type": "markdown",
   "metadata": {
    "id": "geir46Ptc7Mj"
   },
   "source": [
    "### Wandb"
   ]
  },
  {
   "cell_type": "code",
   "execution_count": 36,
   "metadata": {
    "id": "oEW_V3Owc6hq"
   },
   "outputs": [
    {
     "name": "stderr",
     "output_type": "stream",
     "text": [
      "Failed to detect the name of this notebook, you can set it manually with the WANDB_NOTEBOOK_NAME environment variable to enable code saving.\n",
      "\u001b[34m\u001b[1mwandb\u001b[0m: Currently logged in as: \u001b[33mdmusingu\u001b[0m. Use \u001b[1m`wandb login --relogin`\u001b[0m to force relogin\n",
      "\u001b[34m\u001b[1mwandb\u001b[0m: \u001b[33mWARNING\u001b[0m If you're specifying your api key in code, ensure this code is not shared publicly.\n",
      "\u001b[34m\u001b[1mwandb\u001b[0m: \u001b[33mWARNING\u001b[0m Consider setting the WANDB_API_KEY environment variable, or running `wandb login` from the command line.\n",
      "\u001b[34m\u001b[1mwandb\u001b[0m: Appending key for api.wandb.ai to your netrc file: /jet/home/musinguz/.netrc\n"
     ]
    },
    {
     "data": {
      "text/plain": [
       "True"
      ]
     },
     "execution_count": 36,
     "metadata": {},
     "output_type": "execute_result"
    }
   ],
   "source": [
    "import wandb\n",
    "wandb.login(key = \"5a941fa1f4ffe0bb9b37300fd0f27eed93e2e848\")"
   ]
  },
  {
   "cell_type": "code",
   "execution_count": 37,
   "metadata": {
    "id": "3ErHRvxNeL5g"
   },
   "outputs": [
    {
     "name": "stdout",
     "output_type": "stream",
     "text": [
      "env: WANDB_PROJECT=W2V-BERT-LugandaASR\n",
      "env: WANDB_LOG_MODEL=\"checkpoint\"\n"
     ]
    }
   ],
   "source": [
    "%env WANDB_PROJECT=W2V-BERT-LugandaASR\n",
    "%env WANDB_LOG_MODEL=\"checkpoint\""
   ]
  },
  {
   "cell_type": "code",
   "execution_count": 92,
   "metadata": {},
   "outputs": [
    {
     "name": "stdout",
     "output_type": "stream",
     "text": [
      "Sun Mar  3 11:53:04 2024       \n",
      "+---------------------------------------------------------------------------------------+\n",
      "| NVIDIA-SMI 545.23.08              Driver Version: 545.23.08    CUDA Version: 12.3     |\n",
      "|-----------------------------------------+----------------------+----------------------+\n",
      "| GPU  Name                 Persistence-M | Bus-Id        Disp.A | Volatile Uncorr. ECC |\n",
      "| Fan  Temp   Perf          Pwr:Usage/Cap |         Memory-Usage | GPU-Util  Compute M. |\n",
      "|                                         |                      |               MIG M. |\n",
      "|=========================================+======================+======================|\n",
      "|   0  Tesla V100-SXM2-32GB           On  | 00000000:15:00.0 Off |                    0 |\n",
      "| N/A   31C    P0              55W / 300W |  27717MiB / 32768MiB |      0%      Default |\n",
      "|                                         |                      |                  N/A |\n",
      "+-----------------------------------------+----------------------+----------------------+\n",
      "                                                                                         \n",
      "+---------------------------------------------------------------------------------------+\n",
      "| Processes:                                                                            |\n",
      "|  GPU   GI   CI        PID   Type   Process name                            GPU Memory |\n",
      "|        ID   ID                                                             Usage      |\n",
      "|=======================================================================================|\n",
      "|    0   N/A  N/A     55777      C   ...guz/miniconda3/envs/glam/bin/python    27714MiB |\n",
      "+---------------------------------------------------------------------------------------+\n"
     ]
    }
   ],
   "source": [
    "!nvidia-smi"
   ]
  },
  {
   "cell_type": "code",
   "execution_count": 93,
   "metadata": {
    "id": "KbeKSV7uzGPP"
   },
   "outputs": [],
   "source": [
    "from transformers import TrainingArguments\n",
    "\n",
    "training_args = TrainingArguments(\n",
    "  output_dir=\"/ocean/projects/cis220031p/musinguz/\"+repo_name+\"extended\",\n",
    "  group_by_length=True,\n",
    "  per_device_train_batch_size=32,\n",
    "  gradient_accumulation_steps=2,\n",
    "  evaluation_strategy=\"steps\",\n",
    "  num_train_epochs=10,\n",
    "  gradient_checkpointing=True,\n",
    "  fp16=True,\n",
    "  report_to=\"wandb\",\n",
    "  save_steps=600,\n",
    "  eval_steps=300,\n",
    "  logging_steps=300,\n",
    "  learning_rate=5e-5,\n",
    "  warmup_steps=500,\n",
    "  save_total_limit=2,\n",
    "  # push_to_hub=True,\n",
    "  dataloader_pin_memory = True,\n",
    "  dataloader_num_workers=4,\n",
    ")"
   ]
  },
  {
   "cell_type": "markdown",
   "metadata": {
    "id": "OsW-WZcL1ZtN"
   },
   "source": [
    "Now, all instances can be passed to Trainer and we are ready to start training!"
   ]
  },
  {
   "cell_type": "code",
   "execution_count": 94,
   "metadata": {
    "id": "rY7vBmFCPFgC"
   },
   "outputs": [
    {
     "name": "stderr",
     "output_type": "stream",
     "text": [
      "Detected kernel version 4.18.0, which is below the recommended minimum of 5.5.0; this can cause the process to hang. It is recommended to upgrade the kernel to the minimum version or higher.\n"
     ]
    }
   ],
   "source": [
    "from transformers import Trainer\n",
    "\n",
    "trainer = Trainer(\n",
    "    model=model,\n",
    "    data_collator=data_collator,\n",
    "    args=training_args,\n",
    "    compute_metrics=compute_metrics,\n",
    "    train_dataset=common_voice_train,\n",
    "    eval_dataset=common_voice_test,\n",
    "    tokenizer=processor.feature_extractor,\n",
    ")"
   ]
  },
  {
   "cell_type": "markdown",
   "metadata": {
    "id": "UoXBx1JAA0DX"
   },
   "source": [
    "\n",
    "\n",
    "---\n",
    "\n",
    "${}^1$ To allow models to become independent of the speaker rate, in CTC, consecutive tokens that are identical are simply grouped as a single token. However, the encoded labels should not be grouped when decoding since they don't correspond to the predicted tokens of the model, which is why the `group_tokens=False` parameter has to be passed. If we wouldn't pass this parameter a word like `\"hello\"` would incorrectly be encoded, and decoded as `\"helo\"`.\n",
    "\n",
    "${}^2$ The blank token allows the model to predict a word, such as `\"hello\"` by forcing it to insert the blank token between the two l's. A CTC-conform prediction of `\"hello\"` of our model would be `[PAD] [PAD] \"h\" \"e\" \"e\" \"l\" \"l\" [PAD] \"l\" \"o\" \"o\" [PAD]`."
   ]
  },
  {
   "cell_type": "markdown",
   "metadata": {
    "id": "rpvZHM1xReIW"
   },
   "source": [
    "### Training"
   ]
  },
  {
   "cell_type": "markdown",
   "metadata": {
    "id": "j-3oKSzZ1hGq"
   },
   "source": [
    "Training will take multiple hours depending on the GPU allocated to this notebook. While the trained model yields somewhat satisfying results on *Common Voice*'s test data of Mongolian, it is by no means an optimally fine-tuned model. The purpose of this notebook is just to demonstrate how to fine-tune W2V-BERT on an ASR dataset.\n",
    "\n",
    "In case you want to use this google colab to fine-tune your model, you should make sure that your training doesn't stop due to inactivity. A simple hack to prevent this is to paste the following code into the console of this tab (*right mouse click -> inspect -> Console tab and insert code*)."
   ]
  },
  {
   "cell_type": "markdown",
   "metadata": {
    "id": "VYYAvgkW4P0m"
   },
   "source": [
    "```javascript\n",
    "function ConnectButton(){\n",
    "    console.log(\"Connect pushed\");\n",
    "    document.querySelector(\"#top-toolbar > colab-connect-button\").shadowRoot.querySelector(\"#connect\").click()\n",
    "}\n",
    "setInterval(ConnectButton,60000);\n",
    "```"
   ]
  },
  {
   "cell_type": "markdown",
   "metadata": {
    "id": "7bGgLV2r0yvZ"
   },
   "source": [
    "Depending on what GPU was allocated to your google colab it might be possible that you are seeing an `\"out-of-memory\"` error here. In this case, it's probably best to reduce `per_device_train_batch_size` to 8 or even less and increase [`gradient_accumulation`](https://huggingface.co/transformers/master/main_classes/trainer.html#trainingarguments)."
   ]
  },
  {
   "cell_type": "code",
   "execution_count": null,
   "metadata": {
    "colab": {
     "base_uri": "https://localhost:8080/",
     "height": 489
    },
    "id": "9fRr9TG5pGBl",
    "outputId": "44b9abee-f2ff-4cff-cf78-6358813c374c"
   },
   "outputs": [
    {
     "data": {
      "text/html": [
       "\n",
       "    <div>\n",
       "      \n",
       "      <progress value='909' max='1590' style='width:300px; height:20px; vertical-align: middle;'></progress>\n",
       "      [ 909/1590 47:08 < 35:23, 0.32 it/s, Epoch 5.71/10]\n",
       "    </div>\n",
       "    <table border=\"1\" class=\"dataframe\">\n",
       "  <thead>\n",
       " <tr style=\"text-align: left;\">\n",
       "      <th>Step</th>\n",
       "      <th>Training Loss</th>\n",
       "      <th>Validation Loss</th>\n",
       "      <th>Wer</th>\n",
       "    </tr>\n",
       "  </thead>\n",
       "  <tbody>\n",
       "    <tr>\n",
       "      <td>300</td>\n",
       "      <td>0.024700</td>\n",
       "      <td>0.279014</td>\n",
       "      <td>0.226773</td>\n",
       "    </tr>\n",
       "    <tr>\n",
       "      <td>600</td>\n",
       "      <td>0.048600</td>\n",
       "      <td>0.239152</td>\n",
       "      <td>0.231061</td>\n",
       "    </tr>\n",
       "    <tr>\n",
       "      <td>900</td>\n",
       "      <td>0.032300</td>\n",
       "      <td>0.274396</td>\n",
       "      <td>0.219374</td>\n",
       "    </tr>\n",
       "  </tbody>\n",
       "</table><p>"
      ],
      "text/plain": [
       "<IPython.core.display.HTML object>"
      ]
     },
     "metadata": {},
     "output_type": "display_data"
    },
    {
     "name": "stderr",
     "output_type": "stream",
     "text": [
      "/ocean/projects/cis230036p/musinguz/miniconda3/envs/glam/lib/python3.8/site-packages/torch/utils/checkpoint.py:460: UserWarning: torch.utils.checkpoint: please pass in use_reentrant=True or use_reentrant=False explicitly. The default value of use_reentrant will be updated to be False in the future. To maintain current behavior, pass use_reentrant=True. It is recommended that you use use_reentrant=False. Refer to docs for more details on the differences between the two variants.\n",
      "  warnings.warn(\n",
      "/ocean/projects/cis230036p/musinguz/miniconda3/envs/glam/lib/python3.8/site-packages/torch/utils/data/dataloader.py:558: UserWarning: This DataLoader will create 4 worker processes in total. Our suggested max number of worker in current system is 1, which is smaller than what this DataLoader is going to create. Please be aware that excessive worker creation might get DataLoader running slow or even freeze, lower the worker number to avoid potential slowness/freeze if necessary.\n",
      "  warnings.warn(_create_warning_msg(\n"
     ]
    }
   ],
   "source": [
    "trainer.train()"
   ]
  },
  {
   "cell_type": "markdown",
   "metadata": {},
   "source": [
    "### Note\n",
    "Including the other split in training the model results in a high WER.    \n",
    "The performance of the model was not as good as when only the train split is used.   "
   ]
  },
  {
   "cell_type": "markdown",
   "metadata": {
    "id": "a9q4mgMZplr_"
   },
   "source": [
    "The training loss and validation WER go down nicely. In comparison, the same training with XLR-S, has a final WER of 41.97%."
   ]
  },
  {
   "cell_type": "markdown",
   "metadata": {
    "id": "4Ya7WEy0pd13"
   },
   "source": [
    "You can now upload the result of the training to the 🤗 Hub, just execute this instruction:"
   ]
  },
  {
   "cell_type": "code",
   "execution_count": 84,
   "metadata": {
    "id": "ArG1Thf6NBWm"
   },
   "outputs": [
    {
     "data": {
      "application/vnd.jupyter.widget-view+json": {
       "model_id": "769d49e34e564fd0a7a232bb74d08e85",
       "version_major": 2,
       "version_minor": 0
      },
      "text/plain": [
       "model.safetensors:   0%|          | 0.00/2.42G [00:00<?, ?B/s]"
      ]
     },
     "metadata": {},
     "output_type": "display_data"
    },
    {
     "data": {
      "text/plain": [
       "CommitInfo(commit_url='https://huggingface.co/dmusingu/w2v-bert-2.0-luganda-CV-train-validation-7.0/commit/6901507f0a57f5d705573dfffc412df12bb58329', commit_message='End of training', commit_description='', oid='6901507f0a57f5d705573dfffc412df12bb58329', pr_url=None, pr_revision=None, pr_num=None)"
      ]
     },
     "execution_count": 84,
     "metadata": {},
     "output_type": "execute_result"
    }
   ],
   "source": [
    "trainer.push_to_hub()"
   ]
  },
  {
   "cell_type": "markdown",
   "metadata": {
    "id": "RHIVc44_fY2N"
   },
   "source": [
    "You can now share this model with all your friends, family, favorite pets: they can all load it with the identifier \"your-username/the-name-you-picked\" so for instance:"
   ]
  },
  {
   "cell_type": "markdown",
   "metadata": {
    "id": "5lWWIKyBpx1h"
   },
   "source": [
    "```python\n",
    "from transformers import AutoModelForCTC, Wav2Vec2BertProcessor\n",
    "\n",
    "model = AutoModelForCTC.from_pretrained(\"dmusingu/w2v-bert-2.0-luganda-CV7.0\")\n",
    "processor = Wav2Vec2BertProcessor.from_pretrained(\"dmusingu/w2v-bert-2.0-luganda-CV7.0\")\n",
    "```"
   ]
  },
  {
   "cell_type": "markdown",
   "metadata": {
    "id": "pmi1cX0fRBit"
   },
   "source": [
    "For more examples of how W2V-BERT can be fine-tuned, please take a look at the [official speech recognition examples](https://github.com/huggingface/transformers/tree/master/examples/pytorch/speech-recognition#examples)."
   ]
  },
  {
   "cell_type": "markdown",
   "metadata": {
    "id": "L8b8Qkoy3KyS"
   },
   "source": [
    "### Evaluation\n",
    "\n",
    "As a final check, let's load the model and verify that it indeed has learned to transcribe Mongolian speech.\n",
    "\n",
    "Let's first load the pretrained checkpoint."
   ]
  },
  {
   "cell_type": "code",
   "execution_count": 85,
   "metadata": {
    "colab": {
     "base_uri": "https://localhost:8080/",
     "height": 99,
     "referenced_widgets": [
      "790b0e1370274011b264548a4caca463",
      "73c44d108b0d4290ad50857cbfc4c610",
      "609b50dcab62490da8d0bf53ee4acde7",
      "b9edbc1a5c834bce95a3fea94c50457e",
      "827493cf7f174d16aa54d8a7c8d9e6dd",
      "ee15fa01f96f407f823e3a6992834f62",
      "0578f0445fa648118b9f8c221889bb7c",
      "d7574e77e51645688c0bfd6313d5df63",
      "c835cab9e9c442a795f6ae42463a7624",
      "dc96412083fe4c198d161d404d5f01a1",
      "cf129b88e7754ae0b3d432b09d56afc2",
      "055cdc64d25941b095b2522a2171be6b",
      "d72bb5c8b91542d89cdc554359e20e01",
      "a0c88747e34047bda02cb4590724ab9b",
      "683cc100810f403b92e713543954b393",
      "a3d4246e17ee4500b3aa0dc043aca624",
      "fb90d172157f489e960d8adb0040a2e9",
      "a3aed732d0b647c1a8b898272bd70483",
      "f1494c1d1a3b41efb8f6243fc6fba0c7",
      "57a7bcaa7c264a75823a2d900c18a03a",
      "2037afd2bdd146d09c7b3dda937a8e08",
      "c730c64392ea4c9fa46bfafd81d684cf"
     ]
    },
    "id": "R351I9IQp_9D",
    "outputId": "78aeffe4-87b0-436c-e5ca-013cc0a8e3a1"
   },
   "outputs": [
    {
     "data": {
      "application/vnd.jupyter.widget-view+json": {
       "model_id": "7a82d38969ae4dfc9669352757085432",
       "version_major": 2,
       "version_minor": 0
      },
      "text/plain": [
       "config.json:   0%|          | 0.00/1.91k [00:00<?, ?B/s]"
      ]
     },
     "metadata": {},
     "output_type": "display_data"
    },
    {
     "data": {
      "application/vnd.jupyter.widget-view+json": {
       "model_id": "4422305b5e394a4b8cdfd3558bfb92e0",
       "version_major": 2,
       "version_minor": 0
      },
      "text/plain": [
       "model.safetensors:   0%|          | 0.00/2.42G [00:00<?, ?B/s]"
      ]
     },
     "metadata": {},
     "output_type": "display_data"
    },
    {
     "name": "stderr",
     "output_type": "stream",
     "text": [
      "Special tokens have been added in the vocabulary, make sure the associated word embeddings are fine-tuned or trained.\n"
     ]
    }
   ],
   "source": [
    "from transformers import AutoModelForCTC, Wav2Vec2BertProcessor\n",
    "\n",
    "model = AutoModelForCTC.from_pretrained(\"dmusingu/\" + repo_name).to(\"cuda\")\n",
    "processor = Wav2Vec2BertProcessor.from_pretrained(\"dmusingu/\" + repo_name)"
   ]
  },
  {
   "cell_type": "markdown",
   "metadata": {
    "id": "qD2v7KT6kurE"
   },
   "source": [
    "Let's process the audio, run a forward pass and predict the ids"
   ]
  },
  {
   "cell_type": "code",
   "execution_count": 86,
   "metadata": {
    "id": "X2Jf2cO7gKrp"
   },
   "outputs": [],
   "source": [
    "input_dict = common_voice_test[0]\n",
    "\n",
    "logits = model(torch.tensor(input_dict[\"input_features\"]).to(\"cuda\").unsqueeze(0)).logits\n",
    "\n",
    "pred_ids = torch.argmax(logits, dim=-1)[0]"
   ]
  },
  {
   "cell_type": "markdown",
   "metadata": {
    "id": "YiyKkRlpzAHO"
   },
   "source": [
    "\n",
    "Finally, we can decode the example from the predicted tokens:"
   ]
  },
  {
   "cell_type": "code",
   "execution_count": 87,
   "metadata": {
    "colab": {
     "base_uri": "https://localhost:8080/",
     "height": 36
    },
    "id": "1L6lJFi2zAHO",
    "outputId": "dbebb016-3f9b-4227-f5c7-926565530545"
   },
   "outputs": [
    {
     "data": {
      "text/plain": [
       "'ebintu bizibu okimanyi maama womwana oyo yeetuze lwa bbaawe kuwasa mukyala mulala'"
      ]
     },
     "execution_count": 87,
     "metadata": {},
     "output_type": "execute_result"
    }
   ],
   "source": [
    "processor.decode(pred_ids)"
   ]
  },
  {
   "cell_type": "markdown",
   "metadata": {
    "id": "fCjw3-e_vFO8"
   },
   "source": [
    "And compare it to the reference transcription:"
   ]
  },
  {
   "cell_type": "code",
   "execution_count": 88,
   "metadata": {
    "colab": {
     "base_uri": "https://localhost:8080/",
     "height": 36
    },
    "id": "5yz8BmIAu8do",
    "outputId": "ba084e54-44bf-4e5a-9445-97e0257d8597"
   },
   "outputs": [
    {
     "data": {
      "text/plain": [
       "'ebintu bizibu okimanyi mama womwana oyo yetuze lwa bawe kuwasa mukyala mulala'"
      ]
     },
     "execution_count": 88,
     "metadata": {},
     "output_type": "execute_result"
    }
   ],
   "source": [
    "processor.decode(input_dict[\"labels\"]).lower()"
   ]
  },
  {
   "cell_type": "code",
   "execution_count": 89,
   "metadata": {},
   "outputs": [
    {
     "data": {
      "application/vnd.jupyter.widget-view+json": {
       "model_id": "9647ea1f00b1499ab72bcb87a140fbbe",
       "version_major": 2,
       "version_minor": 0
      },
      "text/plain": [
       "Map:   0%|          | 0/4276 [00:00<?, ? examples/s]"
      ]
     },
     "metadata": {},
     "output_type": "display_data"
    }
   ],
   "source": [
    "# Evaluation is carried out with a batch size of 1\n",
    "def map_to_result(batch):\n",
    "  with torch.no_grad():\n",
    "    input_values = torch.tensor(batch[\"input_features\"], device=\"cuda\").unsqueeze(0)\n",
    "    logits = model(input_values).logits\n",
    "\n",
    "  pred_ids = torch.argmax(logits, dim=-1)\n",
    "  batch[\"pred_str\"] = processor.batch_decode(pred_ids)[0]\n",
    "  batch[\"text\"] = processor.decode(batch[\"labels\"], group_tokens=False)\n",
    "\n",
    "  return batch\n",
    "\n",
    "results = common_voice_test.map(map_to_result, remove_columns=common_voice_test.column_names)"
   ]
  },
  {
   "cell_type": "code",
   "execution_count": 90,
   "metadata": {},
   "outputs": [
    {
     "name": "stdout",
     "output_type": "stream",
     "text": [
      "Test WER: 0.194\n"
     ]
    }
   ],
   "source": [
    "print(\"Test WER: {:.3f}\".format(wer_metric.compute(predictions=results[\"pred_str\"], references=results[\"text\"])))"
   ]
  },
  {
   "cell_type": "code",
   "execution_count": 91,
   "metadata": {},
   "outputs": [
    {
     "data": {
      "text/html": [
       "<table border=\"1\" class=\"dataframe\">\n",
       "  <thead>\n",
       "    <tr style=\"text-align: right;\">\n",
       "      <th></th>\n",
       "      <th>pred_str</th>\n",
       "      <th>text</th>\n",
       "    </tr>\n",
       "  </thead>\n",
       "  <tbody>\n",
       "    <tr>\n",
       "      <th>0</th>\n",
       "      <td>abazadde babayizi be baagoba ku ssomero bakkirizza okukozesa emmeeza abaana ze baayonoona</td>\n",
       "      <td>abazadde babayizi be baagoba ku ssomero bakkirizza okukozesa emmeeza abaana ze bayonoona</td>\n",
       "    </tr>\n",
       "    <tr>\n",
       "      <th>1</th>\n",
       "      <td>aka akantu kannyumidde nnyo bambi</td>\n",
       "      <td>ako akantu kakunyumidde nnyo bambi</td>\n",
       "    </tr>\n",
       "    <tr>\n",
       "      <th>2</th>\n",
       "      <td>abakulembeze abenjawulo beetabye mu musomo</td>\n",
       "      <td>abakulembeze abenjawulo beetabye mu musomo</td>\n",
       "    </tr>\n",
       "    <tr>\n",
       "      <th>3</th>\n",
       "      <td>ttiimu ablaine yemu ku ttiimu esisinga mu uganda</td>\n",
       "      <td>ttiimu ya proline yemu ku ttiimu ezisinga mu uganda</td>\n",
       "    </tr>\n",
       "    <tr>\n",
       "      <th>4</th>\n",
       "      <td>buzibu ki obuva mu bufumbo bwekito</td>\n",
       "      <td>buzibu ki obuva mu bufumbo bwekito</td>\n",
       "    </tr>\n",
       "    <tr>\n",
       "      <th>5</th>\n",
       "      <td>omukulembeze omulungi yoyo ategeera ebizibu byabo baakulembera</td>\n",
       "      <td>omukulembeze omulungi yoyo ategeera ebizibu byabo bakulembera</td>\n",
       "    </tr>\n",
       "    <tr>\n",
       "      <th>6</th>\n",
       "      <td>maama wange amanyi okuboobeza emmere</td>\n",
       "      <td>maama wange amanyi okuboobeza emmere</td>\n",
       "    </tr>\n",
       "    <tr>\n",
       "      <th>7</th>\n",
       "      <td>ensi ezimu ze tugenda okukoleramu obwayaaya nnungi mu ndabika naye ebikolebwayo bya ttabbu</td>\n",
       "      <td>ensi ezimu ze tugenda okukoleramu obwa yaaya nnungi mu ndabika naye ebikolebwayo bya ttabu</td>\n",
       "    </tr>\n",
       "    <tr>\n",
       "      <th>8</th>\n",
       "      <td>entalo zireetera abantu okuvuma ebifo byabwe ne bagenda mu bifo ebirimu eddembe</td>\n",
       "      <td>entalo zireetera abantu okuva mu bifo byabwe ne bagenda mu bifo ebirimu eddembe</td>\n",
       "    </tr>\n",
       "    <tr>\n",
       "      <th>9</th>\n",
       "      <td>omutamiivu abeera nga eyeebase naye nga ategeera bulungi nnyo</td>\n",
       "      <td>omutamiivu abeera nga eyeebase naye nga ategeera bulungi nnyo</td>\n",
       "    </tr>\n",
       "  </tbody>\n",
       "</table>"
      ],
      "text/plain": [
       "<IPython.core.display.HTML object>"
      ]
     },
     "metadata": {},
     "output_type": "display_data"
    }
   ],
   "source": [
    "# Chech the errors made by the model\n",
    "show_random_elements(results)"
   ]
  },
  {
   "cell_type": "markdown",
   "metadata": {},
   "source": [
    "### Build Language model"
   ]
  },
  {
   "cell_type": "markdown",
   "metadata": {
    "id": "HwhyoMml3oOT"
   },
   "source": [
    "Alright! The transcription can definitely be recognized from our prediction, but it is not perfect yet. Training the model a bit longer, spending more time on the data preprocessing, and especially using a language model for decoding would certainly improve the model's overall performance.\n",
    "\n",
    "For a demonstration model on a low-resource language, the results are quite acceptable however 🤗."
   ]
  },
  {
   "cell_type": "markdown",
   "metadata": {
    "id": "i-Ed8w1bLKMk"
   },
   "source": [
    "\n",
    "## Scaling-up the training\n",
    "\n",
    "We've shown in this blogpost how Meta's `w2v-bert-2.0` fine-tuning can give near state-of-the-art performance on low-resource languages.\n",
    "\n",
    "To take things a step further, I've put together a set of tips and pointers given by my colleagues at Hugging Face on how to scale up training for this model. Many thanks to [Patrick](https://huggingface.co/patrickvonplaten), [Sanchit](https://huggingface.co/sanchit-gandhi) and [Pablo](https://huggingface.co/Molbap) for their valuable expertise and help 🤗\n",
    "\n",
    "Note that Common Voice newest version ([CV16](https://huggingface.co/datasets/mozilla-foundation/common_voice_16_0)) provides many more hours of data and for may languages and thus provides fertile ground for much more efficient models in many low-resource languages.\n",
    "\n",
    "\n",
    "### Datasets-related tips\n",
    "\n",
    "CTC ASR is typically done with lower-case, un-punctuated transcriptions. This simplifies the CTC task since the model is considered as \"acoustic only\", meaning that it makes prediction largely based on the phonetics sounds of the audio, rather than any language modelling context of the spoken sentence.\n",
    "\n",
    "Very low-frequency characters can significantly affect loss during learning by causing loss spikes via erroneous targets. By default, the CTC tokenizer created in this blog post would add them to the vocabulary even if their frequency is negligible compared to more frequent characters. We can treat these characters as \"errors\" in the dataset annotation, so that they can be removed from the vocabulary, and simply classified as `\"[UNK]\"` during training.\n",
    "\n",
    "It is therefore absolutely necessary to recheck the tokenizer vocabulary and remove all low-frequency characters, in much the same way as we removed Latin characters when creating the tokenizer.\n",
    "\n",
    "Note that the Common Voice dataset is particularly prone to such \"wrong\" characters, for example characters from other languages (阪).\n",
    "\n",
    "### Training-related tips\n",
    "\n",
    "**Average duration seen by each CTC token:** According to the advice of my colleagues, the ideal ratio of duration seen per CTC token is 10 to 35 ms. In other words, to be able to learn and predict correctly, the duration of the acoustic information a CTC token needs to see should be neither too low nor too high. In fact, it should more or less correspond to a fraction of the time it takes us humans to pronounce a phoneme.\n",
    "\n",
    "This is something that came to light when I started refining this new W2V2-Bert model (you can find the logs of one of my experiments [here](https://wandb.ai/ylacombe/huggingface/runs/4y8pd2gq)). I quickly noticed that the loss curve of my model was initially going nicely downwards, as expected, but at some point it started to explode.\n",
    "\n",
    "After discussing this with my colleagues, I realized that I had been using a [basic checkpoint with no architecture changes](https://huggingface.co/facebook/w2v-bert-2.0), and that each CTC token was seeing a piece of the signal for 30 to 60 ms. Adding an adapter layer was enough to reduce the signal chunk sampling to the desired duration.\n",
    "\n",
    "\n",
    "**Under-training:** After showing this blog post [training run](https://huggingface.co/hf-audio/w2v-bert-2.0-mongolian-colab-CV16.0#training-results) and another [training attempt](https://wandb.ai/ylacombe/huggingface/runs/nasaux7f?workspace=user-ylacombe) on English Common Voice (about 2.5k validated hours) to my colleagues, they pointed out that the model was severely under-trained, something that could have been spotted by looking at the loss curve, which looks like it was stopped in the middle of a steep descent. This pointed out other issues as well, notably the loss curve not being smooth enough, a sign of wrong hyper-parameters settings.\n",
    "\n",
    "Here are a few ways to solve under-training in our case:\n",
    "- the warm-up rate might be too high, causing the learning rate to drop too quickly. A way to solve this would be keep the warmup ratio to 5 to 15% and scale up the number of epochs. The warm-up steps are essential to gradually bring the new language-model head weights into alignment with the pre-trained model.\n",
    "- Loss curve lack of smoothness can be played around thanks to [AdamW](https://pytorch.org/docs/stable/generated/torch.optim.AdamW.html)'s [\\\\( \\beta_2 \\\\)](https://huggingface.co/docs/transformers/main_classes/trainer#transformers.TrainingArguments.adam_beta2) which can typically set from 0.95 to 0.98 by default.\n",
    "\n",
    "\n",
    "\n",
    "\n",
    "*Related posts and additional links are listed here:*\n",
    "- [**Official paper**](https://huggingface.co/papers/2305.13516)\n",
    "- [**Original cobebase**](https://ai.meta.com/research/publications/seamless-multilingual-expressive-and-streaming-speech-translation/)\n",
    "- [**Transformers Docs**](https://huggingface.co/docs/transformers/main/en/model_doc/wav2vec2-bert)\n",
    "- [**Related XLS-R blog post**](https://huggingface.co/blog/fine-tune-xlsr-wav2vec2)\n",
    "- [**Related MMS blog post**](https://huggingface.co/blog/mms_adapters)\n"
   ]
  },
  {
   "cell_type": "markdown",
   "metadata": {
    "id": "F898Mcw4CmFm"
   },
   "source": []
  }
 ],
 "metadata": {
  "accelerator": "GPU",
  "colab": {
   "gpuType": "T4",
   "provenance": []
  },
  "kernelspec": {
   "display_name": "Python 3 (ipykernel)",
   "language": "python",
   "name": "python3"
  },
  "language_info": {
   "codemirror_mode": {
    "name": "ipython",
    "version": 3
   },
   "file_extension": ".py",
   "mimetype": "text/x-python",
   "name": "python",
   "nbconvert_exporter": "python",
   "pygments_lexer": "ipython3",
   "version": "3.10.12"
  },
  "widgets": {
   "application/vnd.jupyter.widget-state+json": {
    "02b17bfa039c44f0bfd1fe6d5fc85670": {
     "model_module": "@jupyter-widgets/controls",
     "model_module_version": "1.5.0",
     "model_name": "ProgressStyleModel",
     "state": {
      "_model_module": "@jupyter-widgets/controls",
      "_model_module_version": "1.5.0",
      "_model_name": "ProgressStyleModel",
      "_view_count": null,
      "_view_module": "@jupyter-widgets/base",
      "_view_module_version": "1.2.0",
      "_view_name": "StyleView",
      "bar_color": null,
      "description_width": ""
     }
    },
    "055cdc64d25941b095b2522a2171be6b": {
     "model_module": "@jupyter-widgets/controls",
     "model_module_version": "1.5.0",
     "model_name": "HBoxModel",
     "state": {
      "_dom_classes": [],
      "_model_module": "@jupyter-widgets/controls",
      "_model_module_version": "1.5.0",
      "_model_name": "HBoxModel",
      "_view_count": null,
      "_view_module": "@jupyter-widgets/controls",
      "_view_module_version": "1.5.0",
      "_view_name": "HBoxView",
      "box_style": "",
      "children": [
       "IPY_MODEL_d72bb5c8b91542d89cdc554359e20e01",
       "IPY_MODEL_a0c88747e34047bda02cb4590724ab9b",
       "IPY_MODEL_683cc100810f403b92e713543954b393"
      ],
      "layout": "IPY_MODEL_a3d4246e17ee4500b3aa0dc043aca624"
     }
    },
    "0578f0445fa648118b9f8c221889bb7c": {
     "model_module": "@jupyter-widgets/controls",
     "model_module_version": "1.5.0",
     "model_name": "DescriptionStyleModel",
     "state": {
      "_model_module": "@jupyter-widgets/controls",
      "_model_module_version": "1.5.0",
      "_model_name": "DescriptionStyleModel",
      "_view_count": null,
      "_view_module": "@jupyter-widgets/base",
      "_view_module_version": "1.2.0",
      "_view_name": "StyleView",
      "description_width": ""
     }
    },
    "0773e09201ef454bbc12ce31fc1bb52f": {
     "model_module": "@jupyter-widgets/controls",
     "model_module_version": "1.5.0",
     "model_name": "DescriptionStyleModel",
     "state": {
      "_model_module": "@jupyter-widgets/controls",
      "_model_module_version": "1.5.0",
      "_model_name": "DescriptionStyleModel",
      "_view_count": null,
      "_view_module": "@jupyter-widgets/base",
      "_view_module_version": "1.2.0",
      "_view_name": "StyleView",
      "description_width": ""
     }
    },
    "09525173c22f475aac6a9a2f79f0ca92": {
     "model_module": "@jupyter-widgets/base",
     "model_module_version": "1.2.0",
     "model_name": "LayoutModel",
     "state": {
      "_model_module": "@jupyter-widgets/base",
      "_model_module_version": "1.2.0",
      "_model_name": "LayoutModel",
      "_view_count": null,
      "_view_module": "@jupyter-widgets/base",
      "_view_module_version": "1.2.0",
      "_view_name": "LayoutView",
      "align_content": null,
      "align_items": null,
      "align_self": null,
      "border": null,
      "bottom": null,
      "display": null,
      "flex": null,
      "flex_flow": null,
      "grid_area": null,
      "grid_auto_columns": null,
      "grid_auto_flow": null,
      "grid_auto_rows": null,
      "grid_column": null,
      "grid_gap": null,
      "grid_row": null,
      "grid_template_areas": null,
      "grid_template_columns": null,
      "grid_template_rows": null,
      "height": null,
      "justify_content": null,
      "justify_items": null,
      "left": null,
      "margin": null,
      "max_height": null,
      "max_width": null,
      "min_height": null,
      "min_width": null,
      "object_fit": null,
      "object_position": null,
      "order": null,
      "overflow": null,
      "overflow_x": null,
      "overflow_y": null,
      "padding": null,
      "right": null,
      "top": null,
      "visibility": null,
      "width": null
     }
    },
    "0a9db19757f1491da3a8e8af13041acb": {
     "model_module": "@jupyter-widgets/controls",
     "model_module_version": "1.5.0",
     "model_name": "HTMLModel",
     "state": {
      "_dom_classes": [],
      "_model_module": "@jupyter-widgets/controls",
      "_model_module_version": "1.5.0",
      "_model_name": "HTMLModel",
      "_view_count": null,
      "_view_module": "@jupyter-widgets/controls",
      "_view_module_version": "1.5.0",
      "_view_name": "HTMLView",
      "description": "",
      "description_tooltip": null,
      "layout": "IPY_MODEL_09525173c22f475aac6a9a2f79f0ca92",
      "placeholder": "​",
      "style": "IPY_MODEL_6734a45b0d3049369c2772fea4caca65",
      "value": " 3.29k/3.29k [00:00&lt;00:00, 193kB/s]"
     }
    },
    "0c4863a6e2d646a8a6a72be2b9f57abc": {
     "model_module": "@jupyter-widgets/controls",
     "model_module_version": "1.5.0",
     "model_name": "HBoxModel",
     "state": {
      "_dom_classes": [],
      "_model_module": "@jupyter-widgets/controls",
      "_model_module_version": "1.5.0",
      "_model_name": "HBoxModel",
      "_view_count": null,
      "_view_module": "@jupyter-widgets/controls",
      "_view_module_version": "1.5.0",
      "_view_name": "HBoxView",
      "box_style": "",
      "children": [
       "IPY_MODEL_41754990023244739981819e70d646aa",
       "IPY_MODEL_98358ecf9250411b9ac62c0c293582fc",
       "IPY_MODEL_f8f7e7f55e5946d3beec998bce946d60"
      ],
      "layout": "IPY_MODEL_497bee8f2bb94477b342f889e5116117"
     }
    },
    "0f3a91482d3a427bae45d480ab581954": {
     "model_module": "@jupyter-widgets/controls",
     "model_module_version": "1.5.0",
     "model_name": "DescriptionStyleModel",
     "state": {
      "_model_module": "@jupyter-widgets/controls",
      "_model_module_version": "1.5.0",
      "_model_name": "DescriptionStyleModel",
      "_view_count": null,
      "_view_module": "@jupyter-widgets/base",
      "_view_module_version": "1.2.0",
      "_view_name": "StyleView",
      "description_width": ""
     }
    },
    "0f7832be4353489d8d71a83920230e95": {
     "model_module": "@jupyter-widgets/controls",
     "model_module_version": "1.5.0",
     "model_name": "DescriptionStyleModel",
     "state": {
      "_model_module": "@jupyter-widgets/controls",
      "_model_module_version": "1.5.0",
      "_model_name": "DescriptionStyleModel",
      "_view_count": null,
      "_view_module": "@jupyter-widgets/base",
      "_view_module_version": "1.2.0",
      "_view_name": "StyleView",
      "description_width": ""
     }
    },
    "0fa207f602d2468cb8eff5c771d02200": {
     "model_module": "@jupyter-widgets/base",
     "model_module_version": "1.2.0",
     "model_name": "LayoutModel",
     "state": {
      "_model_module": "@jupyter-widgets/base",
      "_model_module_version": "1.2.0",
      "_model_name": "LayoutModel",
      "_view_count": null,
      "_view_module": "@jupyter-widgets/base",
      "_view_module_version": "1.2.0",
      "_view_name": "LayoutView",
      "align_content": null,
      "align_items": null,
      "align_self": null,
      "border": null,
      "bottom": null,
      "display": null,
      "flex": null,
      "flex_flow": null,
      "grid_area": null,
      "grid_auto_columns": null,
      "grid_auto_flow": null,
      "grid_auto_rows": null,
      "grid_column": null,
      "grid_gap": null,
      "grid_row": null,
      "grid_template_areas": null,
      "grid_template_columns": null,
      "grid_template_rows": null,
      "height": null,
      "justify_content": null,
      "justify_items": null,
      "left": null,
      "margin": null,
      "max_height": null,
      "max_width": null,
      "min_height": null,
      "min_width": null,
      "object_fit": null,
      "object_position": null,
      "order": null,
      "overflow": null,
      "overflow_x": null,
      "overflow_y": null,
      "padding": null,
      "right": null,
      "top": null,
      "visibility": null,
      "width": null
     }
    },
    "104b877f2bea4dffbee766478c3e6194": {
     "model_module": "@jupyter-widgets/base",
     "model_module_version": "1.2.0",
     "model_name": "LayoutModel",
     "state": {
      "_model_module": "@jupyter-widgets/base",
      "_model_module_version": "1.2.0",
      "_model_name": "LayoutModel",
      "_view_count": null,
      "_view_module": "@jupyter-widgets/base",
      "_view_module_version": "1.2.0",
      "_view_name": "LayoutView",
      "align_content": null,
      "align_items": null,
      "align_self": null,
      "border": null,
      "bottom": null,
      "display": null,
      "flex": null,
      "flex_flow": null,
      "grid_area": null,
      "grid_auto_columns": null,
      "grid_auto_flow": null,
      "grid_auto_rows": null,
      "grid_column": null,
      "grid_gap": null,
      "grid_row": null,
      "grid_template_areas": null,
      "grid_template_columns": null,
      "grid_template_rows": null,
      "height": null,
      "justify_content": null,
      "justify_items": null,
      "left": null,
      "margin": null,
      "max_height": null,
      "max_width": null,
      "min_height": null,
      "min_width": null,
      "object_fit": null,
      "object_position": null,
      "order": null,
      "overflow": null,
      "overflow_x": null,
      "overflow_y": null,
      "padding": null,
      "right": null,
      "top": null,
      "visibility": null,
      "width": null
     }
    },
    "14020d02141d4348ac1212aacaa3db93": {
     "model_module": "@jupyter-widgets/controls",
     "model_module_version": "1.5.0",
     "model_name": "DescriptionStyleModel",
     "state": {
      "_model_module": "@jupyter-widgets/controls",
      "_model_module_version": "1.5.0",
      "_model_name": "DescriptionStyleModel",
      "_view_count": null,
      "_view_module": "@jupyter-widgets/base",
      "_view_module_version": "1.2.0",
      "_view_name": "StyleView",
      "description_width": ""
     }
    },
    "1433d80787ab4463b6639eb175cc2d66": {
     "model_module": "@jupyter-widgets/controls",
     "model_module_version": "1.5.0",
     "model_name": "HTMLModel",
     "state": {
      "_dom_classes": [],
      "_model_module": "@jupyter-widgets/controls",
      "_model_module_version": "1.5.0",
      "_model_name": "HTMLModel",
      "_view_count": null,
      "_view_module": "@jupyter-widgets/controls",
      "_view_module_version": "1.5.0",
      "_view_name": "HTMLView",
      "description": "",
      "description_tooltip": null,
      "layout": "IPY_MODEL_dcd21a5468674ea8af9cb955a4ac21db",
      "placeholder": "​",
      "style": "IPY_MODEL_1453d855e401464891564c1b3f0e0296",
      "value": " 6626/0 [00:21&lt;00:00, 95.77 examples/s]"
     }
    },
    "1453d855e401464891564c1b3f0e0296": {
     "model_module": "@jupyter-widgets/controls",
     "model_module_version": "1.5.0",
     "model_name": "DescriptionStyleModel",
     "state": {
      "_model_module": "@jupyter-widgets/controls",
      "_model_module_version": "1.5.0",
      "_model_name": "DescriptionStyleModel",
      "_view_count": null,
      "_view_module": "@jupyter-widgets/base",
      "_view_module_version": "1.2.0",
      "_view_name": "StyleView",
      "description_width": ""
     }
    },
    "148a4068bbda4dfdba028c9b4e152cad": {
     "model_module": "@jupyter-widgets/base",
     "model_module_version": "1.2.0",
     "model_name": "LayoutModel",
     "state": {
      "_model_module": "@jupyter-widgets/base",
      "_model_module_version": "1.2.0",
      "_model_name": "LayoutModel",
      "_view_count": null,
      "_view_module": "@jupyter-widgets/base",
      "_view_module_version": "1.2.0",
      "_view_name": "LayoutView",
      "align_content": null,
      "align_items": null,
      "align_self": null,
      "border": null,
      "bottom": null,
      "display": null,
      "flex": null,
      "flex_flow": null,
      "grid_area": null,
      "grid_auto_columns": null,
      "grid_auto_flow": null,
      "grid_auto_rows": null,
      "grid_column": null,
      "grid_gap": null,
      "grid_row": null,
      "grid_template_areas": null,
      "grid_template_columns": null,
      "grid_template_rows": null,
      "height": null,
      "justify_content": null,
      "justify_items": null,
      "left": null,
      "margin": null,
      "max_height": null,
      "max_width": null,
      "min_height": null,
      "min_width": null,
      "object_fit": null,
      "object_position": null,
      "order": null,
      "overflow": null,
      "overflow_x": null,
      "overflow_y": null,
      "padding": null,
      "right": null,
      "top": null,
      "visibility": null,
      "width": null
     }
    },
    "1550b196a4c44ea9b4fc510894670cc5": {
     "model_module": "@jupyter-widgets/base",
     "model_module_version": "1.2.0",
     "model_name": "LayoutModel",
     "state": {
      "_model_module": "@jupyter-widgets/base",
      "_model_module_version": "1.2.0",
      "_model_name": "LayoutModel",
      "_view_count": null,
      "_view_module": "@jupyter-widgets/base",
      "_view_module_version": "1.2.0",
      "_view_name": "LayoutView",
      "align_content": null,
      "align_items": null,
      "align_self": null,
      "border": null,
      "bottom": null,
      "display": null,
      "flex": null,
      "flex_flow": null,
      "grid_area": null,
      "grid_auto_columns": null,
      "grid_auto_flow": null,
      "grid_auto_rows": null,
      "grid_column": null,
      "grid_gap": null,
      "grid_row": null,
      "grid_template_areas": null,
      "grid_template_columns": null,
      "grid_template_rows": null,
      "height": null,
      "justify_content": null,
      "justify_items": null,
      "left": null,
      "margin": null,
      "max_height": null,
      "max_width": null,
      "min_height": null,
      "min_width": null,
      "object_fit": null,
      "object_position": null,
      "order": null,
      "overflow": null,
      "overflow_x": null,
      "overflow_y": null,
      "padding": null,
      "right": null,
      "top": null,
      "visibility": null,
      "width": null
     }
    },
    "1946a60256fa45c0832ead631424059d": {
     "model_module": "@jupyter-widgets/base",
     "model_module_version": "1.2.0",
     "model_name": "LayoutModel",
     "state": {
      "_model_module": "@jupyter-widgets/base",
      "_model_module_version": "1.2.0",
      "_model_name": "LayoutModel",
      "_view_count": null,
      "_view_module": "@jupyter-widgets/base",
      "_view_module_version": "1.2.0",
      "_view_name": "LayoutView",
      "align_content": null,
      "align_items": null,
      "align_self": null,
      "border": null,
      "bottom": null,
      "display": null,
      "flex": null,
      "flex_flow": null,
      "grid_area": null,
      "grid_auto_columns": null,
      "grid_auto_flow": null,
      "grid_auto_rows": null,
      "grid_column": null,
      "grid_gap": null,
      "grid_row": null,
      "grid_template_areas": null,
      "grid_template_columns": null,
      "grid_template_rows": null,
      "height": null,
      "justify_content": null,
      "justify_items": null,
      "left": null,
      "margin": null,
      "max_height": null,
      "max_width": null,
      "min_height": null,
      "min_width": null,
      "object_fit": null,
      "object_position": null,
      "order": null,
      "overflow": null,
      "overflow_x": null,
      "overflow_y": null,
      "padding": null,
      "right": null,
      "top": null,
      "visibility": null,
      "width": null
     }
    },
    "197c65e6880b4f6f9cf134e030cf7378": {
     "model_module": "@jupyter-widgets/base",
     "model_module_version": "1.2.0",
     "model_name": "LayoutModel",
     "state": {
      "_model_module": "@jupyter-widgets/base",
      "_model_module_version": "1.2.0",
      "_model_name": "LayoutModel",
      "_view_count": null,
      "_view_module": "@jupyter-widgets/base",
      "_view_module_version": "1.2.0",
      "_view_name": "LayoutView",
      "align_content": null,
      "align_items": null,
      "align_self": null,
      "border": null,
      "bottom": null,
      "display": null,
      "flex": null,
      "flex_flow": null,
      "grid_area": null,
      "grid_auto_columns": null,
      "grid_auto_flow": null,
      "grid_auto_rows": null,
      "grid_column": null,
      "grid_gap": null,
      "grid_row": null,
      "grid_template_areas": null,
      "grid_template_columns": null,
      "grid_template_rows": null,
      "height": null,
      "justify_content": null,
      "justify_items": null,
      "left": null,
      "margin": null,
      "max_height": null,
      "max_width": null,
      "min_height": null,
      "min_width": null,
      "object_fit": null,
      "object_position": null,
      "order": null,
      "overflow": null,
      "overflow_x": null,
      "overflow_y": null,
      "padding": null,
      "right": null,
      "top": null,
      "visibility": null,
      "width": null
     }
    },
    "1a4f2353154547348ca902e612bb15bd": {
     "model_module": "@jupyter-widgets/base",
     "model_module_version": "1.2.0",
     "model_name": "LayoutModel",
     "state": {
      "_model_module": "@jupyter-widgets/base",
      "_model_module_version": "1.2.0",
      "_model_name": "LayoutModel",
      "_view_count": null,
      "_view_module": "@jupyter-widgets/base",
      "_view_module_version": "1.2.0",
      "_view_name": "LayoutView",
      "align_content": null,
      "align_items": null,
      "align_self": null,
      "border": null,
      "bottom": null,
      "display": null,
      "flex": null,
      "flex_flow": null,
      "grid_area": null,
      "grid_auto_columns": null,
      "grid_auto_flow": null,
      "grid_auto_rows": null,
      "grid_column": null,
      "grid_gap": null,
      "grid_row": null,
      "grid_template_areas": null,
      "grid_template_columns": null,
      "grid_template_rows": null,
      "height": null,
      "justify_content": null,
      "justify_items": null,
      "left": null,
      "margin": null,
      "max_height": null,
      "max_width": null,
      "min_height": null,
      "min_width": null,
      "object_fit": null,
      "object_position": null,
      "order": null,
      "overflow": null,
      "overflow_x": null,
      "overflow_y": null,
      "padding": null,
      "right": null,
      "top": null,
      "visibility": null,
      "width": null
     }
    },
    "1e08c21f31fe44e18730b546cc0ea120": {
     "model_module": "@jupyter-widgets/controls",
     "model_module_version": "1.5.0",
     "model_name": "HBoxModel",
     "state": {
      "_dom_classes": [],
      "_model_module": "@jupyter-widgets/controls",
      "_model_module_version": "1.5.0",
      "_model_name": "HBoxModel",
      "_view_count": null,
      "_view_module": "@jupyter-widgets/controls",
      "_view_module_version": "1.5.0",
      "_view_name": "HBoxView",
      "box_style": "",
      "children": [
       "IPY_MODEL_99d7d4b441504999bd5416c1cd3205ae",
       "IPY_MODEL_32f96e8cbd394446b1b6febc9712f3f5",
       "IPY_MODEL_699c51ed4646490db3adc0e502aec4d9"
      ],
      "layout": "IPY_MODEL_6d3da0b643c44ba480ea5388571f996f"
     }
    },
    "1e155e93b0fb4335b02bdbc6940169b6": {
     "model_module": "@jupyter-widgets/base",
     "model_module_version": "1.2.0",
     "model_name": "LayoutModel",
     "state": {
      "_model_module": "@jupyter-widgets/base",
      "_model_module_version": "1.2.0",
      "_model_name": "LayoutModel",
      "_view_count": null,
      "_view_module": "@jupyter-widgets/base",
      "_view_module_version": "1.2.0",
      "_view_name": "LayoutView",
      "align_content": null,
      "align_items": null,
      "align_self": null,
      "border": null,
      "bottom": null,
      "display": null,
      "flex": null,
      "flex_flow": null,
      "grid_area": null,
      "grid_auto_columns": null,
      "grid_auto_flow": null,
      "grid_auto_rows": null,
      "grid_column": null,
      "grid_gap": null,
      "grid_row": null,
      "grid_template_areas": null,
      "grid_template_columns": null,
      "grid_template_rows": null,
      "height": null,
      "justify_content": null,
      "justify_items": null,
      "left": null,
      "margin": null,
      "max_height": null,
      "max_width": null,
      "min_height": null,
      "min_width": null,
      "object_fit": null,
      "object_position": null,
      "order": null,
      "overflow": null,
      "overflow_x": null,
      "overflow_y": null,
      "padding": null,
      "right": null,
      "top": null,
      "visibility": null,
      "width": null
     }
    },
    "1e8e4e598e4c47fa8e2e9910e95dac75": {
     "model_module": "@jupyter-widgets/base",
     "model_module_version": "1.2.0",
     "model_name": "LayoutModel",
     "state": {
      "_model_module": "@jupyter-widgets/base",
      "_model_module_version": "1.2.0",
      "_model_name": "LayoutModel",
      "_view_count": null,
      "_view_module": "@jupyter-widgets/base",
      "_view_module_version": "1.2.0",
      "_view_name": "LayoutView",
      "align_content": null,
      "align_items": null,
      "align_self": null,
      "border": null,
      "bottom": null,
      "display": null,
      "flex": null,
      "flex_flow": null,
      "grid_area": null,
      "grid_auto_columns": null,
      "grid_auto_flow": null,
      "grid_auto_rows": null,
      "grid_column": null,
      "grid_gap": null,
      "grid_row": null,
      "grid_template_areas": null,
      "grid_template_columns": null,
      "grid_template_rows": null,
      "height": null,
      "justify_content": null,
      "justify_items": null,
      "left": null,
      "margin": null,
      "max_height": null,
      "max_width": null,
      "min_height": null,
      "min_width": null,
      "object_fit": null,
      "object_position": null,
      "order": null,
      "overflow": null,
      "overflow_x": null,
      "overflow_y": null,
      "padding": null,
      "right": null,
      "top": null,
      "visibility": null,
      "width": null
     }
    },
    "1ea441c9e8f94aa9967e6e6e946364b4": {
     "model_module": "@jupyter-widgets/controls",
     "model_module_version": "1.5.0",
     "model_name": "DescriptionStyleModel",
     "state": {
      "_model_module": "@jupyter-widgets/controls",
      "_model_module_version": "1.5.0",
      "_model_name": "DescriptionStyleModel",
      "_view_count": null,
      "_view_module": "@jupyter-widgets/base",
      "_view_module_version": "1.2.0",
      "_view_name": "StyleView",
      "description_width": ""
     }
    },
    "2019bb61e3a34e9c98db3eb9bb66b0f4": {
     "model_module": "@jupyter-widgets/base",
     "model_module_version": "1.2.0",
     "model_name": "LayoutModel",
     "state": {
      "_model_module": "@jupyter-widgets/base",
      "_model_module_version": "1.2.0",
      "_model_name": "LayoutModel",
      "_view_count": null,
      "_view_module": "@jupyter-widgets/base",
      "_view_module_version": "1.2.0",
      "_view_name": "LayoutView",
      "align_content": null,
      "align_items": null,
      "align_self": null,
      "border": null,
      "bottom": null,
      "display": null,
      "flex": null,
      "flex_flow": null,
      "grid_area": null,
      "grid_auto_columns": null,
      "grid_auto_flow": null,
      "grid_auto_rows": null,
      "grid_column": null,
      "grid_gap": null,
      "grid_row": null,
      "grid_template_areas": null,
      "grid_template_columns": null,
      "grid_template_rows": null,
      "height": null,
      "justify_content": null,
      "justify_items": null,
      "left": null,
      "margin": null,
      "max_height": null,
      "max_width": null,
      "min_height": null,
      "min_width": null,
      "object_fit": null,
      "object_position": null,
      "order": null,
      "overflow": null,
      "overflow_x": null,
      "overflow_y": null,
      "padding": null,
      "right": null,
      "top": null,
      "visibility": null,
      "width": null
     }
    },
    "20228da0dc114136860b0ccdf2867d50": {
     "model_module": "@jupyter-widgets/controls",
     "model_module_version": "1.5.0",
     "model_name": "DescriptionStyleModel",
     "state": {
      "_model_module": "@jupyter-widgets/controls",
      "_model_module_version": "1.5.0",
      "_model_name": "DescriptionStyleModel",
      "_view_count": null,
      "_view_module": "@jupyter-widgets/base",
      "_view_module_version": "1.2.0",
      "_view_name": "StyleView",
      "description_width": ""
     }
    },
    "2037afd2bdd146d09c7b3dda937a8e08": {
     "model_module": "@jupyter-widgets/base",
     "model_module_version": "1.2.0",
     "model_name": "LayoutModel",
     "state": {
      "_model_module": "@jupyter-widgets/base",
      "_model_module_version": "1.2.0",
      "_model_name": "LayoutModel",
      "_view_count": null,
      "_view_module": "@jupyter-widgets/base",
      "_view_module_version": "1.2.0",
      "_view_name": "LayoutView",
      "align_content": null,
      "align_items": null,
      "align_self": null,
      "border": null,
      "bottom": null,
      "display": null,
      "flex": null,
      "flex_flow": null,
      "grid_area": null,
      "grid_auto_columns": null,
      "grid_auto_flow": null,
      "grid_auto_rows": null,
      "grid_column": null,
      "grid_gap": null,
      "grid_row": null,
      "grid_template_areas": null,
      "grid_template_columns": null,
      "grid_template_rows": null,
      "height": null,
      "justify_content": null,
      "justify_items": null,
      "left": null,
      "margin": null,
      "max_height": null,
      "max_width": null,
      "min_height": null,
      "min_width": null,
      "object_fit": null,
      "object_position": null,
      "order": null,
      "overflow": null,
      "overflow_x": null,
      "overflow_y": null,
      "padding": null,
      "right": null,
      "top": null,
      "visibility": null,
      "width": null
     }
    },
    "22e6e65580a643b6b057b764e0ca87ab": {
     "model_module": "@jupyter-widgets/controls",
     "model_module_version": "1.5.0",
     "model_name": "DescriptionStyleModel",
     "state": {
      "_model_module": "@jupyter-widgets/controls",
      "_model_module_version": "1.5.0",
      "_model_name": "DescriptionStyleModel",
      "_view_count": null,
      "_view_module": "@jupyter-widgets/base",
      "_view_module_version": "1.2.0",
      "_view_name": "StyleView",
      "description_width": ""
     }
    },
    "23f5dc7b80da450b870d6c0e55a2e036": {
     "model_module": "@jupyter-widgets/base",
     "model_module_version": "1.2.0",
     "model_name": "LayoutModel",
     "state": {
      "_model_module": "@jupyter-widgets/base",
      "_model_module_version": "1.2.0",
      "_model_name": "LayoutModel",
      "_view_count": null,
      "_view_module": "@jupyter-widgets/base",
      "_view_module_version": "1.2.0",
      "_view_name": "LayoutView",
      "align_content": null,
      "align_items": null,
      "align_self": null,
      "border": null,
      "bottom": null,
      "display": null,
      "flex": null,
      "flex_flow": null,
      "grid_area": null,
      "grid_auto_columns": null,
      "grid_auto_flow": null,
      "grid_auto_rows": null,
      "grid_column": null,
      "grid_gap": null,
      "grid_row": null,
      "grid_template_areas": null,
      "grid_template_columns": null,
      "grid_template_rows": null,
      "height": null,
      "justify_content": null,
      "justify_items": null,
      "left": null,
      "margin": null,
      "max_height": null,
      "max_width": null,
      "min_height": null,
      "min_width": null,
      "object_fit": null,
      "object_position": null,
      "order": null,
      "overflow": null,
      "overflow_x": null,
      "overflow_y": null,
      "padding": null,
      "right": null,
      "top": null,
      "visibility": null,
      "width": null
     }
    },
    "240beb39fd71470b883d77a303cd2873": {
     "model_module": "@jupyter-widgets/controls",
     "model_module_version": "1.5.0",
     "model_name": "DescriptionStyleModel",
     "state": {
      "_model_module": "@jupyter-widgets/controls",
      "_model_module_version": "1.5.0",
      "_model_name": "DescriptionStyleModel",
      "_view_count": null,
      "_view_module": "@jupyter-widgets/base",
      "_view_module_version": "1.2.0",
      "_view_name": "StyleView",
      "description_width": ""
     }
    },
    "2438197eed7042abb4b8e17001705b71": {
     "model_module": "@jupyter-widgets/base",
     "model_module_version": "1.2.0",
     "model_name": "LayoutModel",
     "state": {
      "_model_module": "@jupyter-widgets/base",
      "_model_module_version": "1.2.0",
      "_model_name": "LayoutModel",
      "_view_count": null,
      "_view_module": "@jupyter-widgets/base",
      "_view_module_version": "1.2.0",
      "_view_name": "LayoutView",
      "align_content": null,
      "align_items": null,
      "align_self": null,
      "border": null,
      "bottom": null,
      "display": null,
      "flex": null,
      "flex_flow": null,
      "grid_area": null,
      "grid_auto_columns": null,
      "grid_auto_flow": null,
      "grid_auto_rows": null,
      "grid_column": null,
      "grid_gap": null,
      "grid_row": null,
      "grid_template_areas": null,
      "grid_template_columns": null,
      "grid_template_rows": null,
      "height": null,
      "justify_content": null,
      "justify_items": null,
      "left": null,
      "margin": null,
      "max_height": null,
      "max_width": null,
      "min_height": null,
      "min_width": null,
      "object_fit": null,
      "object_position": null,
      "order": null,
      "overflow": null,
      "overflow_x": null,
      "overflow_y": null,
      "padding": null,
      "right": null,
      "top": null,
      "visibility": null,
      "width": null
     }
    },
    "245aa2b16af74a499f8212a235930628": {
     "model_module": "@jupyter-widgets/controls",
     "model_module_version": "1.5.0",
     "model_name": "DescriptionStyleModel",
     "state": {
      "_model_module": "@jupyter-widgets/controls",
      "_model_module_version": "1.5.0",
      "_model_name": "DescriptionStyleModel",
      "_view_count": null,
      "_view_module": "@jupyter-widgets/base",
      "_view_module_version": "1.2.0",
      "_view_name": "StyleView",
      "description_width": ""
     }
    },
    "24a2c97798cf4d2191d9c6777a23946c": {
     "model_module": "@jupyter-widgets/controls",
     "model_module_version": "1.5.0",
     "model_name": "HBoxModel",
     "state": {
      "_dom_classes": [],
      "_model_module": "@jupyter-widgets/controls",
      "_model_module_version": "1.5.0",
      "_model_name": "HBoxModel",
      "_view_count": null,
      "_view_module": "@jupyter-widgets/controls",
      "_view_module_version": "1.5.0",
      "_view_name": "HBoxView",
      "box_style": "",
      "children": [
       "IPY_MODEL_985ae81202ce425ea2b57ca04a0920cc",
       "IPY_MODEL_7662e0eb9a91463e9a69541c82ab9178",
       "IPY_MODEL_c221ac96e8eb4c5e95c267e445994893"
      ],
      "layout": "IPY_MODEL_c4212ea9e71d472d825c343499da17cf"
     }
    },
    "24f5c4ed53594222817dcbe7f3fd01e6": {
     "model_module": "@jupyter-widgets/controls",
     "model_module_version": "1.5.0",
     "model_name": "DescriptionStyleModel",
     "state": {
      "_model_module": "@jupyter-widgets/controls",
      "_model_module_version": "1.5.0",
      "_model_name": "DescriptionStyleModel",
      "_view_count": null,
      "_view_module": "@jupyter-widgets/base",
      "_view_module_version": "1.2.0",
      "_view_name": "StyleView",
      "description_width": ""
     }
    },
    "262f443dfcd945e89c9b3a4cb85dd703": {
     "model_module": "@jupyter-widgets/controls",
     "model_module_version": "1.5.0",
     "model_name": "ProgressStyleModel",
     "state": {
      "_model_module": "@jupyter-widgets/controls",
      "_model_module_version": "1.5.0",
      "_model_name": "ProgressStyleModel",
      "_view_count": null,
      "_view_module": "@jupyter-widgets/base",
      "_view_module_version": "1.2.0",
      "_view_name": "StyleView",
      "bar_color": null,
      "description_width": ""
     }
    },
    "269dfbc99a3a449a9fd20651f101aaa6": {
     "model_module": "@jupyter-widgets/controls",
     "model_module_version": "1.5.0",
     "model_name": "DescriptionStyleModel",
     "state": {
      "_model_module": "@jupyter-widgets/controls",
      "_model_module_version": "1.5.0",
      "_model_name": "DescriptionStyleModel",
      "_view_count": null,
      "_view_module": "@jupyter-widgets/base",
      "_view_module_version": "1.2.0",
      "_view_name": "StyleView",
      "description_width": ""
     }
    },
    "27ce6f18b311411aa06ad3fbe572723f": {
     "model_module": "@jupyter-widgets/controls",
     "model_module_version": "1.5.0",
     "model_name": "FloatProgressModel",
     "state": {
      "_dom_classes": [],
      "_model_module": "@jupyter-widgets/controls",
      "_model_module_version": "1.5.0",
      "_model_name": "FloatProgressModel",
      "_view_count": null,
      "_view_module": "@jupyter-widgets/controls",
      "_view_module_version": "1.5.0",
      "_view_name": "ProgressView",
      "bar_style": "success",
      "description": "",
      "description_tooltip": null,
      "layout": "IPY_MODEL_819c4fa5dd13477ab2618fb85857fd26",
      "max": 1874,
      "min": 0,
      "orientation": "horizontal",
      "style": "IPY_MODEL_73b0e62ccd3543e48d2608de1df3d95b",
      "value": 1874
     }
    },
    "28cb7bdf0c10479496d34f14cd58f68d": {
     "model_module": "@jupyter-widgets/base",
     "model_module_version": "1.2.0",
     "model_name": "LayoutModel",
     "state": {
      "_model_module": "@jupyter-widgets/base",
      "_model_module_version": "1.2.0",
      "_model_name": "LayoutModel",
      "_view_count": null,
      "_view_module": "@jupyter-widgets/base",
      "_view_module_version": "1.2.0",
      "_view_name": "LayoutView",
      "align_content": null,
      "align_items": null,
      "align_self": null,
      "border": null,
      "bottom": null,
      "display": null,
      "flex": null,
      "flex_flow": null,
      "grid_area": null,
      "grid_auto_columns": null,
      "grid_auto_flow": null,
      "grid_auto_rows": null,
      "grid_column": null,
      "grid_gap": null,
      "grid_row": null,
      "grid_template_areas": null,
      "grid_template_columns": null,
      "grid_template_rows": null,
      "height": null,
      "justify_content": null,
      "justify_items": null,
      "left": null,
      "margin": null,
      "max_height": null,
      "max_width": null,
      "min_height": null,
      "min_width": null,
      "object_fit": null,
      "object_position": null,
      "order": null,
      "overflow": null,
      "overflow_x": null,
      "overflow_y": null,
      "padding": null,
      "right": null,
      "top": null,
      "visibility": null,
      "width": null
     }
    },
    "2ebb1d27f98c44f89f6912c52103fb53": {
     "model_module": "@jupyter-widgets/controls",
     "model_module_version": "1.5.0",
     "model_name": "HBoxModel",
     "state": {
      "_dom_classes": [],
      "_model_module": "@jupyter-widgets/controls",
      "_model_module_version": "1.5.0",
      "_model_name": "HBoxModel",
      "_view_count": null,
      "_view_module": "@jupyter-widgets/controls",
      "_view_module_version": "1.5.0",
      "_view_name": "HBoxView",
      "box_style": "",
      "children": [
       "IPY_MODEL_b5eea1bf76394153bf01d9a5613357e9",
       "IPY_MODEL_31b4254bb02d4e3f81e6f925f567e4f7",
       "IPY_MODEL_9c8d2b0c618e47ce9c7e42351b416da1"
      ],
      "layout": "IPY_MODEL_cd5efd47e24f4d3d973e7fe175b8a0f0"
     }
    },
    "2efb377eef144a4b94925976040dd12a": {
     "model_module": "@jupyter-widgets/controls",
     "model_module_version": "1.5.0",
     "model_name": "HBoxModel",
     "state": {
      "_dom_classes": [],
      "_model_module": "@jupyter-widgets/controls",
      "_model_module_version": "1.5.0",
      "_model_name": "HBoxModel",
      "_view_count": null,
      "_view_module": "@jupyter-widgets/controls",
      "_view_module_version": "1.5.0",
      "_view_name": "HBoxView",
      "box_style": "",
      "children": [
       "IPY_MODEL_5c98b5ccbbe84979ac45d517f075915d",
       "IPY_MODEL_f08133197275429b9a3deda3c90831f2",
       "IPY_MODEL_872e96697ba643faa39f390356dbbb24"
      ],
      "layout": "IPY_MODEL_b57b6d8ba41441d0993c7b6ff2447354"
     }
    },
    "2efe770c63684242a61b9799bf56f727": {
     "model_module": "@jupyter-widgets/controls",
     "model_module_version": "1.5.0",
     "model_name": "HTMLModel",
     "state": {
      "_dom_classes": [],
      "_model_module": "@jupyter-widgets/controls",
      "_model_module_version": "1.5.0",
      "_model_name": "HTMLModel",
      "_view_count": null,
      "_view_module": "@jupyter-widgets/controls",
      "_view_module_version": "1.5.0",
      "_view_name": "HTMLView",
      "description": "",
      "description_tooltip": null,
      "layout": "IPY_MODEL_88d100741c1f4e84aa39b83405e59b86",
      "placeholder": "​",
      "style": "IPY_MODEL_93df25375d694127ac47dbc6a8d6fa0e",
      "value": "\n<b>Pro Tip:</b> If you don't already have one, you can create a dedicated\n'notebooks' token with 'write' access, that you can then easily reuse for all\nnotebooks. </center>"
     }
    },
    "2f80e86cab034092a73ed9e628e455c2": {
     "model_module": "@jupyter-widgets/controls",
     "model_module_version": "1.5.0",
     "model_name": "ProgressStyleModel",
     "state": {
      "_model_module": "@jupyter-widgets/controls",
      "_model_module_version": "1.5.0",
      "_model_name": "ProgressStyleModel",
      "_view_count": null,
      "_view_module": "@jupyter-widgets/base",
      "_view_module_version": "1.2.0",
      "_view_name": "StyleView",
      "bar_color": null,
      "description_width": ""
     }
    },
    "30489d9bdf1d4609872b6ae2a0c41c75": {
     "model_module": "@jupyter-widgets/controls",
     "model_module_version": "1.5.0",
     "model_name": "HTMLModel",
     "state": {
      "_dom_classes": [],
      "_model_module": "@jupyter-widgets/controls",
      "_model_module_version": "1.5.0",
      "_model_name": "HTMLModel",
      "_view_count": null,
      "_view_module": "@jupyter-widgets/controls",
      "_view_module_version": "1.5.0",
      "_view_name": "HTMLView",
      "description": "",
      "description_tooltip": null,
      "layout": "IPY_MODEL_2019bb61e3a34e9c98db3eb9bb66b0f4",
      "placeholder": "​",
      "style": "IPY_MODEL_245aa2b16af74a499f8212a235930628",
      "value": "Map: 100%"
     }
    },
    "31b4254bb02d4e3f81e6f925f567e4f7": {
     "model_module": "@jupyter-widgets/controls",
     "model_module_version": "1.5.0",
     "model_name": "FloatProgressModel",
     "state": {
      "_dom_classes": [],
      "_model_module": "@jupyter-widgets/controls",
      "_model_module_version": "1.5.0",
      "_model_name": "FloatProgressModel",
      "_view_count": null,
      "_view_module": "@jupyter-widgets/controls",
      "_view_module_version": "1.5.0",
      "_view_name": "ProgressView",
      "bar_style": "success",
      "description": "",
      "description_tooltip": null,
      "layout": "IPY_MODEL_5642f641854a413187fe6f88b852b936",
      "max": 1,
      "min": 0,
      "orientation": "horizontal",
      "style": "IPY_MODEL_2f80e86cab034092a73ed9e628e455c2",
      "value": 1
     }
    },
    "3202ba8381a4413fa8dfd8104ce05e84": {
     "model_module": "@jupyter-widgets/base",
     "model_module_version": "1.2.0",
     "model_name": "LayoutModel",
     "state": {
      "_model_module": "@jupyter-widgets/base",
      "_model_module_version": "1.2.0",
      "_model_name": "LayoutModel",
      "_view_count": null,
      "_view_module": "@jupyter-widgets/base",
      "_view_module_version": "1.2.0",
      "_view_name": "LayoutView",
      "align_content": null,
      "align_items": null,
      "align_self": null,
      "border": null,
      "bottom": null,
      "display": null,
      "flex": null,
      "flex_flow": null,
      "grid_area": null,
      "grid_auto_columns": null,
      "grid_auto_flow": null,
      "grid_auto_rows": null,
      "grid_column": null,
      "grid_gap": null,
      "grid_row": null,
      "grid_template_areas": null,
      "grid_template_columns": null,
      "grid_template_rows": null,
      "height": null,
      "justify_content": null,
      "justify_items": null,
      "left": null,
      "margin": null,
      "max_height": null,
      "max_width": null,
      "min_height": null,
      "min_width": null,
      "object_fit": null,
      "object_position": null,
      "order": null,
      "overflow": null,
      "overflow_x": null,
      "overflow_y": null,
      "padding": null,
      "right": null,
      "top": null,
      "visibility": null,
      "width": null
     }
    },
    "3243b57838cc4362b10414dd7b68378e": {
     "model_module": "@jupyter-widgets/controls",
     "model_module_version": "1.5.0",
     "model_name": "HTMLModel",
     "state": {
      "_dom_classes": [],
      "_model_module": "@jupyter-widgets/controls",
      "_model_module_version": "1.5.0",
      "_model_name": "HTMLModel",
      "_view_count": null,
      "_view_module": "@jupyter-widgets/controls",
      "_view_module_version": "1.5.0",
      "_view_name": "HTMLView",
      "description": "",
      "description_tooltip": null,
      "layout": "IPY_MODEL_86cc42e4e7d74733b63d3082eca0ef9c",
      "placeholder": "​",
      "style": "IPY_MODEL_20228da0dc114136860b0ccdf2867d50",
      "value": "Generating test split: "
     }
    },
    "32f96e8cbd394446b1b6febc9712f3f5": {
     "model_module": "@jupyter-widgets/controls",
     "model_module_version": "1.5.0",
     "model_name": "FloatProgressModel",
     "state": {
      "_dom_classes": [],
      "_model_module": "@jupyter-widgets/controls",
      "_model_module_version": "1.5.0",
      "_model_name": "FloatProgressModel",
      "_view_count": null,
      "_view_module": "@jupyter-widgets/controls",
      "_view_module_version": "1.5.0",
      "_view_name": "ProgressView",
      "bar_style": "success",
      "description": "",
      "description_tooltip": null,
      "layout": "IPY_MODEL_6126ecc5488e4e47917287c3238128b6",
      "max": 1722860000,
      "min": 0,
      "orientation": "horizontal",
      "style": "IPY_MODEL_c2d958871b6c4b5297b8e3c5fd0524c7",
      "value": 1722860000
     }
    },
    "349b4f45076f4537a35c5ef3d18360f5": {
     "model_module": "@jupyter-widgets/base",
     "model_module_version": "1.2.0",
     "model_name": "LayoutModel",
     "state": {
      "_model_module": "@jupyter-widgets/base",
      "_model_module_version": "1.2.0",
      "_model_name": "LayoutModel",
      "_view_count": null,
      "_view_module": "@jupyter-widgets/base",
      "_view_module_version": "1.2.0",
      "_view_name": "LayoutView",
      "align_content": null,
      "align_items": null,
      "align_self": null,
      "border": null,
      "bottom": null,
      "display": null,
      "flex": null,
      "flex_flow": null,
      "grid_area": null,
      "grid_auto_columns": null,
      "grid_auto_flow": null,
      "grid_auto_rows": null,
      "grid_column": null,
      "grid_gap": null,
      "grid_row": null,
      "grid_template_areas": null,
      "grid_template_columns": null,
      "grid_template_rows": null,
      "height": null,
      "justify_content": null,
      "justify_items": null,
      "left": null,
      "margin": null,
      "max_height": null,
      "max_width": null,
      "min_height": null,
      "min_width": null,
      "object_fit": null,
      "object_position": null,
      "order": null,
      "overflow": null,
      "overflow_x": null,
      "overflow_y": null,
      "padding": null,
      "right": null,
      "top": null,
      "visibility": null,
      "width": null
     }
    },
    "34e0d0057a8949bb9e6d7e1333a56210": {
     "model_module": "@jupyter-widgets/controls",
     "model_module_version": "1.5.0",
     "model_name": "HTMLModel",
     "state": {
      "_dom_classes": [],
      "_model_module": "@jupyter-widgets/controls",
      "_model_module_version": "1.5.0",
      "_model_name": "HTMLModel",
      "_view_count": null,
      "_view_module": "@jupyter-widgets/controls",
      "_view_module_version": "1.5.0",
      "_view_name": "HTMLView",
      "description": "",
      "description_tooltip": null,
      "layout": "IPY_MODEL_f756ea163f5c46c3a8d0a436b591af4a",
      "placeholder": "​",
      "style": "IPY_MODEL_0773e09201ef454bbc12ce31fc1bb52f",
      "value": "Downloading readme: 100%"
     }
    },
    "355f7727ba4642bba828da2fd844a107": {
     "model_module": "@jupyter-widgets/base",
     "model_module_version": "1.2.0",
     "model_name": "LayoutModel",
     "state": {
      "_model_module": "@jupyter-widgets/base",
      "_model_module_version": "1.2.0",
      "_model_name": "LayoutModel",
      "_view_count": null,
      "_view_module": "@jupyter-widgets/base",
      "_view_module_version": "1.2.0",
      "_view_name": "LayoutView",
      "align_content": null,
      "align_items": null,
      "align_self": null,
      "border": null,
      "bottom": null,
      "display": null,
      "flex": null,
      "flex_flow": null,
      "grid_area": null,
      "grid_auto_columns": null,
      "grid_auto_flow": null,
      "grid_auto_rows": null,
      "grid_column": null,
      "grid_gap": null,
      "grid_row": null,
      "grid_template_areas": null,
      "grid_template_columns": null,
      "grid_template_rows": null,
      "height": null,
      "justify_content": null,
      "justify_items": null,
      "left": null,
      "margin": null,
      "max_height": null,
      "max_width": null,
      "min_height": null,
      "min_width": null,
      "object_fit": null,
      "object_position": null,
      "order": null,
      "overflow": null,
      "overflow_x": null,
      "overflow_y": null,
      "padding": null,
      "right": null,
      "top": null,
      "visibility": null,
      "width": null
     }
    },
    "35a6d6ab1bb741fc827ddfbc5d1769a3": {
     "model_module": "@jupyter-widgets/controls",
     "model_module_version": "1.5.0",
     "model_name": "HBoxModel",
     "state": {
      "_dom_classes": [],
      "_model_module": "@jupyter-widgets/controls",
      "_model_module_version": "1.5.0",
      "_model_name": "HBoxModel",
      "_view_count": null,
      "_view_module": "@jupyter-widgets/controls",
      "_view_module_version": "1.5.0",
      "_view_name": "HBoxView",
      "box_style": "",
      "children": [
       "IPY_MODEL_502635a25b004bd5a6db0b37f3b5e336",
       "IPY_MODEL_27ce6f18b311411aa06ad3fbe572723f",
       "IPY_MODEL_b913f0cc028642ff9928fffe7a5e297c"
      ],
      "layout": "IPY_MODEL_814dec784ae64ae6ad6f359cc1fb6647"
     }
    },
    "36c3ff2db17844be976a109026efb62f": {
     "model_module": "@jupyter-widgets/controls",
     "model_module_version": "1.5.0",
     "model_name": "DescriptionStyleModel",
     "state": {
      "_model_module": "@jupyter-widgets/controls",
      "_model_module_version": "1.5.0",
      "_model_name": "DescriptionStyleModel",
      "_view_count": null,
      "_view_module": "@jupyter-widgets/base",
      "_view_module_version": "1.2.0",
      "_view_name": "StyleView",
      "description_width": ""
     }
    },
    "37ba60075caf4879864c3b843713cd4f": {
     "model_module": "@jupyter-widgets/base",
     "model_module_version": "1.2.0",
     "model_name": "LayoutModel",
     "state": {
      "_model_module": "@jupyter-widgets/base",
      "_model_module_version": "1.2.0",
      "_model_name": "LayoutModel",
      "_view_count": null,
      "_view_module": "@jupyter-widgets/base",
      "_view_module_version": "1.2.0",
      "_view_name": "LayoutView",
      "align_content": null,
      "align_items": null,
      "align_self": null,
      "border": null,
      "bottom": null,
      "display": null,
      "flex": null,
      "flex_flow": null,
      "grid_area": null,
      "grid_auto_columns": null,
      "grid_auto_flow": null,
      "grid_auto_rows": null,
      "grid_column": null,
      "grid_gap": null,
      "grid_row": null,
      "grid_template_areas": null,
      "grid_template_columns": null,
      "grid_template_rows": null,
      "height": null,
      "justify_content": null,
      "justify_items": null,
      "left": null,
      "margin": null,
      "max_height": null,
      "max_width": null,
      "min_height": null,
      "min_width": null,
      "object_fit": null,
      "object_position": null,
      "order": null,
      "overflow": null,
      "overflow_x": null,
      "overflow_y": null,
      "padding": null,
      "right": null,
      "top": null,
      "visibility": null,
      "width": null
     }
    },
    "37dafafefaec4fe5ba3bfea36a257d2e": {
     "model_module": "@jupyter-widgets/controls",
     "model_module_version": "1.5.0",
     "model_name": "DescriptionStyleModel",
     "state": {
      "_model_module": "@jupyter-widgets/controls",
      "_model_module_version": "1.5.0",
      "_model_name": "DescriptionStyleModel",
      "_view_count": null,
      "_view_module": "@jupyter-widgets/base",
      "_view_module_version": "1.2.0",
      "_view_name": "StyleView",
      "description_width": ""
     }
    },
    "381a63ea6fad4108b9d00760c8c35b15": {
     "model_module": "@jupyter-widgets/base",
     "model_module_version": "1.2.0",
     "model_name": "LayoutModel",
     "state": {
      "_model_module": "@jupyter-widgets/base",
      "_model_module_version": "1.2.0",
      "_model_name": "LayoutModel",
      "_view_count": null,
      "_view_module": "@jupyter-widgets/base",
      "_view_module_version": "1.2.0",
      "_view_name": "LayoutView",
      "align_content": null,
      "align_items": null,
      "align_self": null,
      "border": null,
      "bottom": null,
      "display": null,
      "flex": null,
      "flex_flow": null,
      "grid_area": null,
      "grid_auto_columns": null,
      "grid_auto_flow": null,
      "grid_auto_rows": null,
      "grid_column": null,
      "grid_gap": null,
      "grid_row": null,
      "grid_template_areas": null,
      "grid_template_columns": null,
      "grid_template_rows": null,
      "height": null,
      "justify_content": null,
      "justify_items": null,
      "left": null,
      "margin": null,
      "max_height": null,
      "max_width": null,
      "min_height": null,
      "min_width": null,
      "object_fit": null,
      "object_position": null,
      "order": null,
      "overflow": null,
      "overflow_x": null,
      "overflow_y": null,
      "padding": null,
      "right": null,
      "top": null,
      "visibility": null,
      "width": null
     }
    },
    "38fab194963c42e296927e12c2fff376": {
     "model_module": "@jupyter-widgets/controls",
     "model_module_version": "1.5.0",
     "model_name": "ProgressStyleModel",
     "state": {
      "_model_module": "@jupyter-widgets/controls",
      "_model_module_version": "1.5.0",
      "_model_name": "ProgressStyleModel",
      "_view_count": null,
      "_view_module": "@jupyter-widgets/base",
      "_view_module_version": "1.2.0",
      "_view_name": "StyleView",
      "bar_color": null,
      "description_width": ""
     }
    },
    "3a6a6a0f93564d6694acc3536160c4b4": {
     "model_module": "@jupyter-widgets/controls",
     "model_module_version": "1.5.0",
     "model_name": "FloatProgressModel",
     "state": {
      "_dom_classes": [],
      "_model_module": "@jupyter-widgets/controls",
      "_model_module_version": "1.5.0",
      "_model_name": "FloatProgressModel",
      "_view_count": null,
      "_view_module": "@jupyter-widgets/controls",
      "_view_module_version": "1.5.0",
      "_view_name": "ProgressView",
      "bar_style": "success",
      "description": "",
      "description_tooltip": null,
      "layout": "IPY_MODEL_71276080798e45ba9e9514ca5a25952c",
      "max": 6626,
      "min": 0,
      "orientation": "horizontal",
      "style": "IPY_MODEL_262f443dfcd945e89c9b3a4cb85dd703",
      "value": 6626
     }
    },
    "3ba8b99a23eb4c43ad761124ae0df35a": {
     "model_module": "@jupyter-widgets/controls",
     "model_module_version": "1.5.0",
     "model_name": "HTMLModel",
     "state": {
      "_dom_classes": [],
      "_model_module": "@jupyter-widgets/controls",
      "_model_module_version": "1.5.0",
      "_model_name": "HTMLModel",
      "_view_count": null,
      "_view_module": "@jupyter-widgets/controls",
      "_view_module_version": "1.5.0",
      "_view_name": "HTMLView",
      "description": "",
      "description_tooltip": null,
      "layout": "IPY_MODEL_381a63ea6fad4108b9d00760c8c35b15",
      "placeholder": "​",
      "style": "IPY_MODEL_240beb39fd71470b883d77a303cd2873",
      "value": " 6626/6626 [00:00&lt;00:00, 18047.79 examples/s]"
     }
    },
    "3d6f6142f4da4d26b5bcfcf3d3459451": {
     "model_module": "@jupyter-widgets/base",
     "model_module_version": "1.2.0",
     "model_name": "LayoutModel",
     "state": {
      "_model_module": "@jupyter-widgets/base",
      "_model_module_version": "1.2.0",
      "_model_name": "LayoutModel",
      "_view_count": null,
      "_view_module": "@jupyter-widgets/base",
      "_view_module_version": "1.2.0",
      "_view_name": "LayoutView",
      "align_content": null,
      "align_items": null,
      "align_self": null,
      "border": null,
      "bottom": null,
      "display": null,
      "flex": null,
      "flex_flow": null,
      "grid_area": null,
      "grid_auto_columns": null,
      "grid_auto_flow": null,
      "grid_auto_rows": null,
      "grid_column": null,
      "grid_gap": null,
      "grid_row": null,
      "grid_template_areas": null,
      "grid_template_columns": null,
      "grid_template_rows": null,
      "height": null,
      "justify_content": null,
      "justify_items": null,
      "left": null,
      "margin": null,
      "max_height": null,
      "max_width": null,
      "min_height": null,
      "min_width": null,
      "object_fit": null,
      "object_position": null,
      "order": null,
      "overflow": null,
      "overflow_x": null,
      "overflow_y": null,
      "padding": null,
      "right": null,
      "top": null,
      "visibility": null,
      "width": null
     }
    },
    "3e6b6dc87cc445caa6b50522a75e7b24": {
     "model_module": "@jupyter-widgets/controls",
     "model_module_version": "1.5.0",
     "model_name": "DescriptionStyleModel",
     "state": {
      "_model_module": "@jupyter-widgets/controls",
      "_model_module_version": "1.5.0",
      "_model_name": "DescriptionStyleModel",
      "_view_count": null,
      "_view_module": "@jupyter-widgets/base",
      "_view_module_version": "1.2.0",
      "_view_name": "StyleView",
      "description_width": ""
     }
    },
    "3f3527f318584431a70e4f6a31688ce1": {
     "model_module": "@jupyter-widgets/controls",
     "model_module_version": "1.5.0",
     "model_name": "FloatProgressModel",
     "state": {
      "_dom_classes": [],
      "_model_module": "@jupyter-widgets/controls",
      "_model_module_version": "1.5.0",
      "_model_name": "FloatProgressModel",
      "_view_count": null,
      "_view_module": "@jupyter-widgets/controls",
      "_view_module_version": "1.5.0",
      "_view_name": "ProgressView",
      "bar_style": "success",
      "description": "",
      "description_tooltip": null,
      "layout": "IPY_MODEL_aab5cbf0583c4a9c989f6ae259320a99",
      "max": 1,
      "min": 0,
      "orientation": "horizontal",
      "style": "IPY_MODEL_970c612f2a93451494978a446efc56bf",
      "value": 1
     }
    },
    "3f4f871a84bb4e26aa4f832e123defaf": {
     "model_module": "@jupyter-widgets/controls",
     "model_module_version": "1.5.0",
     "model_name": "DescriptionStyleModel",
     "state": {
      "_model_module": "@jupyter-widgets/controls",
      "_model_module_version": "1.5.0",
      "_model_name": "DescriptionStyleModel",
      "_view_count": null,
      "_view_module": "@jupyter-widgets/base",
      "_view_module_version": "1.2.0",
      "_view_name": "StyleView",
      "description_width": ""
     }
    },
    "41754990023244739981819e70d646aa": {
     "model_module": "@jupyter-widgets/controls",
     "model_module_version": "1.5.0",
     "model_name": "HTMLModel",
     "state": {
      "_dom_classes": [],
      "_model_module": "@jupyter-widgets/controls",
      "_model_module_version": "1.5.0",
      "_model_name": "HTMLModel",
      "_view_count": null,
      "_view_module": "@jupyter-widgets/controls",
      "_view_module_version": "1.5.0",
      "_view_name": "HTMLView",
      "description": "",
      "description_tooltip": null,
      "layout": "IPY_MODEL_97bccc224098417bb44307c538b46de1",
      "placeholder": "​",
      "style": "IPY_MODEL_22e6e65580a643b6b057b764e0ca87ab",
      "value": "Downloading extra modules: 100%"
     }
    },
    "42176e56e87240f98b9ba43d874800be": {
     "model_module": "@jupyter-widgets/controls",
     "model_module_version": "1.5.0",
     "model_name": "HBoxModel",
     "state": {
      "_dom_classes": [],
      "_model_module": "@jupyter-widgets/controls",
      "_model_module_version": "1.5.0",
      "_model_name": "HBoxModel",
      "_view_count": null,
      "_view_module": "@jupyter-widgets/controls",
      "_view_module_version": "1.5.0",
      "_view_name": "HBoxView",
      "box_style": "",
      "children": [
       "IPY_MODEL_ceaef89450304e1393a087c3cba9d670",
       "IPY_MODEL_ef77aa4bf4d9476bb17056ee44f7f33a",
       "IPY_MODEL_1433d80787ab4463b6639eb175cc2d66"
      ],
      "layout": "IPY_MODEL_f3e0b834d9624bfeb12abbe6ffeede51"
     }
    },
    "42db5ab47950400cb62fd40d0623dabe": {
     "model_module": "@jupyter-widgets/base",
     "model_module_version": "1.2.0",
     "model_name": "LayoutModel",
     "state": {
      "_model_module": "@jupyter-widgets/base",
      "_model_module_version": "1.2.0",
      "_model_name": "LayoutModel",
      "_view_count": null,
      "_view_module": "@jupyter-widgets/base",
      "_view_module_version": "1.2.0",
      "_view_name": "LayoutView",
      "align_content": null,
      "align_items": null,
      "align_self": null,
      "border": null,
      "bottom": null,
      "display": null,
      "flex": null,
      "flex_flow": null,
      "grid_area": null,
      "grid_auto_columns": null,
      "grid_auto_flow": null,
      "grid_auto_rows": null,
      "grid_column": null,
      "grid_gap": null,
      "grid_row": null,
      "grid_template_areas": null,
      "grid_template_columns": null,
      "grid_template_rows": null,
      "height": null,
      "justify_content": null,
      "justify_items": null,
      "left": null,
      "margin": null,
      "max_height": null,
      "max_width": null,
      "min_height": null,
      "min_width": null,
      "object_fit": null,
      "object_position": null,
      "order": null,
      "overflow": null,
      "overflow_x": null,
      "overflow_y": null,
      "padding": null,
      "right": null,
      "top": null,
      "visibility": null,
      "width": null
     }
    },
    "4538b7a279d0469bbd21abc7bac27312": {
     "model_module": "@jupyter-widgets/controls",
     "model_module_version": "1.5.0",
     "model_name": "DescriptionStyleModel",
     "state": {
      "_model_module": "@jupyter-widgets/controls",
      "_model_module_version": "1.5.0",
      "_model_name": "DescriptionStyleModel",
      "_view_count": null,
      "_view_module": "@jupyter-widgets/base",
      "_view_module_version": "1.2.0",
      "_view_name": "StyleView",
      "description_width": ""
     }
    },
    "457c7b7119dc40b5b2d0ce16ab427396": {
     "model_module": "@jupyter-widgets/base",
     "model_module_version": "1.2.0",
     "model_name": "LayoutModel",
     "state": {
      "_model_module": "@jupyter-widgets/base",
      "_model_module_version": "1.2.0",
      "_model_name": "LayoutModel",
      "_view_count": null,
      "_view_module": "@jupyter-widgets/base",
      "_view_module_version": "1.2.0",
      "_view_name": "LayoutView",
      "align_content": null,
      "align_items": null,
      "align_self": null,
      "border": null,
      "bottom": null,
      "display": null,
      "flex": null,
      "flex_flow": null,
      "grid_area": null,
      "grid_auto_columns": null,
      "grid_auto_flow": null,
      "grid_auto_rows": null,
      "grid_column": null,
      "grid_gap": null,
      "grid_row": null,
      "grid_template_areas": null,
      "grid_template_columns": null,
      "grid_template_rows": null,
      "height": null,
      "justify_content": null,
      "justify_items": null,
      "left": null,
      "margin": null,
      "max_height": null,
      "max_width": null,
      "min_height": null,
      "min_width": null,
      "object_fit": null,
      "object_position": null,
      "order": null,
      "overflow": null,
      "overflow_x": null,
      "overflow_y": null,
      "padding": null,
      "right": null,
      "top": null,
      "visibility": null,
      "width": null
     }
    },
    "46613a7e2a754267898e4ec2e43ceb2b": {
     "model_module": "@jupyter-widgets/controls",
     "model_module_version": "1.5.0",
     "model_name": "FloatProgressModel",
     "state": {
      "_dom_classes": [],
      "_model_module": "@jupyter-widgets/controls",
      "_model_module_version": "1.5.0",
      "_model_name": "FloatProgressModel",
      "_view_count": null,
      "_view_module": "@jupyter-widgets/controls",
      "_view_module_version": "1.5.0",
      "_view_name": "ProgressView",
      "bar_style": "success",
      "description": "",
      "description_tooltip": null,
      "layout": "IPY_MODEL_8f38983385354f44b99c167b2090351d",
      "max": 2322063736,
      "min": 0,
      "orientation": "horizontal",
      "style": "IPY_MODEL_8ee68ad071ee452993af29ecacd2d66c",
      "value": 2322063736
     }
    },
    "497bee8f2bb94477b342f889e5116117": {
     "model_module": "@jupyter-widgets/base",
     "model_module_version": "1.2.0",
     "model_name": "LayoutModel",
     "state": {
      "_model_module": "@jupyter-widgets/base",
      "_model_module_version": "1.2.0",
      "_model_name": "LayoutModel",
      "_view_count": null,
      "_view_module": "@jupyter-widgets/base",
      "_view_module_version": "1.2.0",
      "_view_name": "LayoutView",
      "align_content": null,
      "align_items": null,
      "align_self": null,
      "border": null,
      "bottom": null,
      "display": null,
      "flex": null,
      "flex_flow": null,
      "grid_area": null,
      "grid_auto_columns": null,
      "grid_auto_flow": null,
      "grid_auto_rows": null,
      "grid_column": null,
      "grid_gap": null,
      "grid_row": null,
      "grid_template_areas": null,
      "grid_template_columns": null,
      "grid_template_rows": null,
      "height": null,
      "justify_content": null,
      "justify_items": null,
      "left": null,
      "margin": null,
      "max_height": null,
      "max_width": null,
      "min_height": null,
      "min_width": null,
      "object_fit": null,
      "object_position": null,
      "order": null,
      "overflow": null,
      "overflow_x": null,
      "overflow_y": null,
      "padding": null,
      "right": null,
      "top": null,
      "visibility": null,
      "width": null
     }
    },
    "4aedeb89aad646479e0937312f5c4d29": {
     "model_module": "@jupyter-widgets/controls",
     "model_module_version": "1.5.0",
     "model_name": "LabelModel",
     "state": {
      "_dom_classes": [],
      "_model_module": "@jupyter-widgets/controls",
      "_model_module_version": "1.5.0",
      "_model_name": "LabelModel",
      "_view_count": null,
      "_view_module": "@jupyter-widgets/controls",
      "_view_module_version": "1.5.0",
      "_view_name": "LabelView",
      "description": "",
      "description_tooltip": null,
      "layout": "IPY_MODEL_aadcc49daa5f4724878bd8621d8b7bec",
      "placeholder": "​",
      "style": "IPY_MODEL_e8c7eca4565b44d9ae12f070d7aeeff3",
      "value": "Token is valid (permission: write)."
     }
    },
    "4c0042bba1cf46d4a634ad27374a8162": {
     "model_module": "@jupyter-widgets/controls",
     "model_module_version": "1.5.0",
     "model_name": "HTMLModel",
     "state": {
      "_dom_classes": [],
      "_model_module": "@jupyter-widgets/controls",
      "_model_module_version": "1.5.0",
      "_model_name": "HTMLModel",
      "_view_count": null,
      "_view_module": "@jupyter-widgets/controls",
      "_view_module_version": "1.5.0",
      "_view_name": "HTMLView",
      "description": "",
      "description_tooltip": null,
      "layout": "IPY_MODEL_b3f2a267ea0c4ccc981f4d60d05678b6",
      "placeholder": "​",
      "style": "IPY_MODEL_a8a1dfe0ae0143479e44904436db0a74",
      "value": " 4276/4276 [00:00&lt;00:00, 15937.84 examples/s]"
     }
    },
    "4dc1d2fefbb44f7d8c381c9629e29cb1": {
     "model_module": "@jupyter-widgets/controls",
     "model_module_version": "1.5.0",
     "model_name": "HBoxModel",
     "state": {
      "_dom_classes": [],
      "_model_module": "@jupyter-widgets/controls",
      "_model_module_version": "1.5.0",
      "_model_name": "HBoxModel",
      "_view_count": null,
      "_view_module": "@jupyter-widgets/controls",
      "_view_module_version": "1.5.0",
      "_view_name": "HBoxView",
      "box_style": "",
      "children": [
       "IPY_MODEL_bba854dd202747cfba1b55287f4263d9",
       "IPY_MODEL_c932efe0b3d844de97789d18f835ac1c",
       "IPY_MODEL_d81d0a54ee584530bc16b57717812a3e"
      ],
      "layout": "IPY_MODEL_aefff613fb5045f082ff504816442b55"
     }
    },
    "4f0a93c3bc6f4b4ea4356f02a406f3e4": {
     "model_module": "@jupyter-widgets/controls",
     "model_module_version": "1.5.0",
     "model_name": "HTMLModel",
     "state": {
      "_dom_classes": [],
      "_model_module": "@jupyter-widgets/controls",
      "_model_module_version": "1.5.0",
      "_model_name": "HTMLModel",
      "_view_count": null,
      "_view_module": "@jupyter-widgets/controls",
      "_view_module_version": "1.5.0",
      "_view_name": "HTMLView",
      "description": "",
      "description_tooltip": null,
      "layout": "IPY_MODEL_55cb8c9c9e01404bb702d0fa3bf9fb39",
      "placeholder": "​",
      "style": "IPY_MODEL_6ffc6562d95d4a4d96139c052cb02c64",
      "value": " 29407/0 [00:17&lt;00:00, 2631.32 examples/s]"
     }
    },
    "502635a25b004bd5a6db0b37f3b5e336": {
     "model_module": "@jupyter-widgets/controls",
     "model_module_version": "1.5.0",
     "model_name": "HTMLModel",
     "state": {
      "_dom_classes": [],
      "_model_module": "@jupyter-widgets/controls",
      "_model_module_version": "1.5.0",
      "_model_name": "HTMLModel",
      "_view_count": null,
      "_view_module": "@jupyter-widgets/controls",
      "_view_module_version": "1.5.0",
      "_view_name": "HTMLView",
      "description": "",
      "description_tooltip": null,
      "layout": "IPY_MODEL_1e8e4e598e4c47fa8e2e9910e95dac75",
      "placeholder": "​",
      "style": "IPY_MODEL_5968634ecd8d4c2ba2f2d3457e9e04a6",
      "value": "config.json: 100%"
     }
    },
    "5154648875764c4f821480826119fc82": {
     "model_module": "@jupyter-widgets/controls",
     "model_module_version": "1.5.0",
     "model_name": "DescriptionStyleModel",
     "state": {
      "_model_module": "@jupyter-widgets/controls",
      "_model_module_version": "1.5.0",
      "_model_name": "DescriptionStyleModel",
      "_view_count": null,
      "_view_module": "@jupyter-widgets/base",
      "_view_module_version": "1.2.0",
      "_view_name": "StyleView",
      "description_width": ""
     }
    },
    "5312df15bcc04efa89e0927882b36c72": {
     "model_module": "@jupyter-widgets/controls",
     "model_module_version": "1.5.0",
     "model_name": "LabelModel",
     "state": {
      "_dom_classes": [],
      "_model_module": "@jupyter-widgets/controls",
      "_model_module_version": "1.5.0",
      "_model_name": "LabelModel",
      "_view_count": null,
      "_view_module": "@jupyter-widgets/controls",
      "_view_module_version": "1.5.0",
      "_view_name": "LabelView",
      "description": "",
      "description_tooltip": null,
      "layout": "IPY_MODEL_6a754d14922b4a7bb78adad83a6ff85b",
      "placeholder": "​",
      "style": "IPY_MODEL_3e6b6dc87cc445caa6b50522a75e7b24",
      "value": "Connecting..."
     }
    },
    "53b3eb4111f34ade866a11b96422476e": {
     "model_module": "@jupyter-widgets/base",
     "model_module_version": "1.2.0",
     "model_name": "LayoutModel",
     "state": {
      "_model_module": "@jupyter-widgets/base",
      "_model_module_version": "1.2.0",
      "_model_name": "LayoutModel",
      "_view_count": null,
      "_view_module": "@jupyter-widgets/base",
      "_view_module_version": "1.2.0",
      "_view_name": "LayoutView",
      "align_content": null,
      "align_items": null,
      "align_self": null,
      "border": null,
      "bottom": null,
      "display": null,
      "flex": null,
      "flex_flow": null,
      "grid_area": null,
      "grid_auto_columns": null,
      "grid_auto_flow": null,
      "grid_auto_rows": null,
      "grid_column": null,
      "grid_gap": null,
      "grid_row": null,
      "grid_template_areas": null,
      "grid_template_columns": null,
      "grid_template_rows": null,
      "height": null,
      "justify_content": null,
      "justify_items": null,
      "left": null,
      "margin": null,
      "max_height": null,
      "max_width": null,
      "min_height": null,
      "min_width": null,
      "object_fit": null,
      "object_position": null,
      "order": null,
      "overflow": null,
      "overflow_x": null,
      "overflow_y": null,
      "padding": null,
      "right": null,
      "top": null,
      "visibility": null,
      "width": null
     }
    },
    "54618323821443f09aef28c891e6fb79": {
     "model_module": "@jupyter-widgets/base",
     "model_module_version": "1.2.0",
     "model_name": "LayoutModel",
     "state": {
      "_model_module": "@jupyter-widgets/base",
      "_model_module_version": "1.2.0",
      "_model_name": "LayoutModel",
      "_view_count": null,
      "_view_module": "@jupyter-widgets/base",
      "_view_module_version": "1.2.0",
      "_view_name": "LayoutView",
      "align_content": null,
      "align_items": null,
      "align_self": null,
      "border": null,
      "bottom": null,
      "display": null,
      "flex": null,
      "flex_flow": null,
      "grid_area": null,
      "grid_auto_columns": null,
      "grid_auto_flow": null,
      "grid_auto_rows": null,
      "grid_column": null,
      "grid_gap": null,
      "grid_row": null,
      "grid_template_areas": null,
      "grid_template_columns": null,
      "grid_template_rows": null,
      "height": null,
      "justify_content": null,
      "justify_items": null,
      "left": null,
      "margin": null,
      "max_height": null,
      "max_width": null,
      "min_height": null,
      "min_width": null,
      "object_fit": null,
      "object_position": null,
      "order": null,
      "overflow": null,
      "overflow_x": null,
      "overflow_y": null,
      "padding": null,
      "right": null,
      "top": null,
      "visibility": null,
      "width": "20px"
     }
    },
    "55cb8c9c9e01404bb702d0fa3bf9fb39": {
     "model_module": "@jupyter-widgets/base",
     "model_module_version": "1.2.0",
     "model_name": "LayoutModel",
     "state": {
      "_model_module": "@jupyter-widgets/base",
      "_model_module_version": "1.2.0",
      "_model_name": "LayoutModel",
      "_view_count": null,
      "_view_module": "@jupyter-widgets/base",
      "_view_module_version": "1.2.0",
      "_view_name": "LayoutView",
      "align_content": null,
      "align_items": null,
      "align_self": null,
      "border": null,
      "bottom": null,
      "display": null,
      "flex": null,
      "flex_flow": null,
      "grid_area": null,
      "grid_auto_columns": null,
      "grid_auto_flow": null,
      "grid_auto_rows": null,
      "grid_column": null,
      "grid_gap": null,
      "grid_row": null,
      "grid_template_areas": null,
      "grid_template_columns": null,
      "grid_template_rows": null,
      "height": null,
      "justify_content": null,
      "justify_items": null,
      "left": null,
      "margin": null,
      "max_height": null,
      "max_width": null,
      "min_height": null,
      "min_width": null,
      "object_fit": null,
      "object_position": null,
      "order": null,
      "overflow": null,
      "overflow_x": null,
      "overflow_y": null,
      "padding": null,
      "right": null,
      "top": null,
      "visibility": null,
      "width": null
     }
    },
    "5642f641854a413187fe6f88b852b936": {
     "model_module": "@jupyter-widgets/base",
     "model_module_version": "1.2.0",
     "model_name": "LayoutModel",
     "state": {
      "_model_module": "@jupyter-widgets/base",
      "_model_module_version": "1.2.0",
      "_model_name": "LayoutModel",
      "_view_count": null,
      "_view_module": "@jupyter-widgets/base",
      "_view_module_version": "1.2.0",
      "_view_name": "LayoutView",
      "align_content": null,
      "align_items": null,
      "align_self": null,
      "border": null,
      "bottom": null,
      "display": null,
      "flex": null,
      "flex_flow": null,
      "grid_area": null,
      "grid_auto_columns": null,
      "grid_auto_flow": null,
      "grid_auto_rows": null,
      "grid_column": null,
      "grid_gap": null,
      "grid_row": null,
      "grid_template_areas": null,
      "grid_template_columns": null,
      "grid_template_rows": null,
      "height": null,
      "justify_content": null,
      "justify_items": null,
      "left": null,
      "margin": null,
      "max_height": null,
      "max_width": null,
      "min_height": null,
      "min_width": null,
      "object_fit": null,
      "object_position": null,
      "order": null,
      "overflow": null,
      "overflow_x": null,
      "overflow_y": null,
      "padding": null,
      "right": null,
      "top": null,
      "visibility": null,
      "width": "20px"
     }
    },
    "5696324df4dd4595b470c210de4f5523": {
     "model_module": "@jupyter-widgets/controls",
     "model_module_version": "1.5.0",
     "model_name": "DescriptionStyleModel",
     "state": {
      "_model_module": "@jupyter-widgets/controls",
      "_model_module_version": "1.5.0",
      "_model_name": "DescriptionStyleModel",
      "_view_count": null,
      "_view_module": "@jupyter-widgets/base",
      "_view_module_version": "1.2.0",
      "_view_name": "StyleView",
      "description_width": ""
     }
    },
    "56dd83cc98784c8f9741aff7e3a02bc8": {
     "model_module": "@jupyter-widgets/controls",
     "model_module_version": "1.5.0",
     "model_name": "HTMLModel",
     "state": {
      "_dom_classes": [],
      "_model_module": "@jupyter-widgets/controls",
      "_model_module_version": "1.5.0",
      "_model_name": "HTMLModel",
      "_view_count": null,
      "_view_module": "@jupyter-widgets/controls",
      "_view_module_version": "1.5.0",
      "_view_name": "HTMLView",
      "description": "",
      "description_tooltip": null,
      "layout": "IPY_MODEL_53b3eb4111f34ade866a11b96422476e",
      "placeholder": "​",
      "style": "IPY_MODEL_e6166fe6d6ee4794a93f24242620c6c3",
      "value": " 4276/4276 [00:00&lt;00:00, 119518.62 examples/s]"
     }
    },
    "5784a2ff5d954225995b7f005fad62a6": {
     "model_module": "@jupyter-widgets/controls",
     "model_module_version": "1.5.0",
     "model_name": "ProgressStyleModel",
     "state": {
      "_model_module": "@jupyter-widgets/controls",
      "_model_module_version": "1.5.0",
      "_model_name": "ProgressStyleModel",
      "_view_count": null,
      "_view_module": "@jupyter-widgets/base",
      "_view_module_version": "1.2.0",
      "_view_name": "StyleView",
      "bar_color": null,
      "description_width": ""
     }
    },
    "57a7bcaa7c264a75823a2d900c18a03a": {
     "model_module": "@jupyter-widgets/controls",
     "model_module_version": "1.5.0",
     "model_name": "ProgressStyleModel",
     "state": {
      "_model_module": "@jupyter-widgets/controls",
      "_model_module_version": "1.5.0",
      "_model_name": "ProgressStyleModel",
      "_view_count": null,
      "_view_module": "@jupyter-widgets/base",
      "_view_module_version": "1.2.0",
      "_view_name": "StyleView",
      "bar_color": null,
      "description_width": ""
     }
    },
    "5968634ecd8d4c2ba2f2d3457e9e04a6": {
     "model_module": "@jupyter-widgets/controls",
     "model_module_version": "1.5.0",
     "model_name": "DescriptionStyleModel",
     "state": {
      "_model_module": "@jupyter-widgets/controls",
      "_model_module_version": "1.5.0",
      "_model_name": "DescriptionStyleModel",
      "_view_count": null,
      "_view_module": "@jupyter-widgets/base",
      "_view_module_version": "1.2.0",
      "_view_name": "StyleView",
      "description_width": ""
     }
    },
    "5c39d83d77224cda9fccd8ac9643b259": {
     "model_module": "@jupyter-widgets/base",
     "model_module_version": "1.2.0",
     "model_name": "LayoutModel",
     "state": {
      "_model_module": "@jupyter-widgets/base",
      "_model_module_version": "1.2.0",
      "_model_name": "LayoutModel",
      "_view_count": null,
      "_view_module": "@jupyter-widgets/base",
      "_view_module_version": "1.2.0",
      "_view_name": "LayoutView",
      "align_content": null,
      "align_items": null,
      "align_self": null,
      "border": null,
      "bottom": null,
      "display": null,
      "flex": null,
      "flex_flow": null,
      "grid_area": null,
      "grid_auto_columns": null,
      "grid_auto_flow": null,
      "grid_auto_rows": null,
      "grid_column": null,
      "grid_gap": null,
      "grid_row": null,
      "grid_template_areas": null,
      "grid_template_columns": null,
      "grid_template_rows": null,
      "height": null,
      "justify_content": null,
      "justify_items": null,
      "left": null,
      "margin": null,
      "max_height": null,
      "max_width": null,
      "min_height": null,
      "min_width": null,
      "object_fit": null,
      "object_position": null,
      "order": null,
      "overflow": null,
      "overflow_x": null,
      "overflow_y": null,
      "padding": null,
      "right": null,
      "top": null,
      "visibility": null,
      "width": null
     }
    },
    "5c98b5ccbbe84979ac45d517f075915d": {
     "model_module": "@jupyter-widgets/controls",
     "model_module_version": "1.5.0",
     "model_name": "HTMLModel",
     "state": {
      "_dom_classes": [],
      "_model_module": "@jupyter-widgets/controls",
      "_model_module_version": "1.5.0",
      "_model_name": "HTMLModel",
      "_view_count": null,
      "_view_module": "@jupyter-widgets/controls",
      "_view_module_version": "1.5.0",
      "_view_name": "HTMLView",
      "description": "",
      "description_tooltip": null,
      "layout": "IPY_MODEL_37ba60075caf4879864c3b843713cd4f",
      "placeholder": "​",
      "style": "IPY_MODEL_0f7832be4353489d8d71a83920230e95",
      "value": "Downloading builder script: "
     }
    },
    "5ceacb3901f94417baaf9cbc16639bfc": {
     "model_module": "@jupyter-widgets/base",
     "model_module_version": "1.2.0",
     "model_name": "LayoutModel",
     "state": {
      "_model_module": "@jupyter-widgets/base",
      "_model_module_version": "1.2.0",
      "_model_name": "LayoutModel",
      "_view_count": null,
      "_view_module": "@jupyter-widgets/base",
      "_view_module_version": "1.2.0",
      "_view_name": "LayoutView",
      "align_content": null,
      "align_items": null,
      "align_self": null,
      "border": null,
      "bottom": null,
      "display": null,
      "flex": null,
      "flex_flow": null,
      "grid_area": null,
      "grid_auto_columns": null,
      "grid_auto_flow": null,
      "grid_auto_rows": null,
      "grid_column": null,
      "grid_gap": null,
      "grid_row": null,
      "grid_template_areas": null,
      "grid_template_columns": null,
      "grid_template_rows": null,
      "height": null,
      "justify_content": null,
      "justify_items": null,
      "left": null,
      "margin": null,
      "max_height": null,
      "max_width": null,
      "min_height": null,
      "min_width": null,
      "object_fit": null,
      "object_position": null,
      "order": null,
      "overflow": null,
      "overflow_x": null,
      "overflow_y": null,
      "padding": null,
      "right": null,
      "top": null,
      "visibility": null,
      "width": null
     }
    },
    "609b50dcab62490da8d0bf53ee4acde7": {
     "model_module": "@jupyter-widgets/controls",
     "model_module_version": "1.5.0",
     "model_name": "FloatProgressModel",
     "state": {
      "_dom_classes": [],
      "_model_module": "@jupyter-widgets/controls",
      "_model_module_version": "1.5.0",
      "_model_name": "FloatProgressModel",
      "_view_count": null,
      "_view_module": "@jupyter-widgets/controls",
      "_view_module_version": "1.5.0",
      "_view_name": "ProgressView",
      "bar_style": "success",
      "description": "",
      "description_tooltip": null,
      "layout": "IPY_MODEL_d7574e77e51645688c0bfd6313d5df63",
      "max": 1917,
      "min": 0,
      "orientation": "horizontal",
      "style": "IPY_MODEL_c835cab9e9c442a795f6ae42463a7624",
      "value": 1917
     }
    },
    "60ec9400dba44d30ac3399bceb134cd4": {
     "model_module": "@jupyter-widgets/base",
     "model_module_version": "1.2.0",
     "model_name": "LayoutModel",
     "state": {
      "_model_module": "@jupyter-widgets/base",
      "_model_module_version": "1.2.0",
      "_model_name": "LayoutModel",
      "_view_count": null,
      "_view_module": "@jupyter-widgets/base",
      "_view_module_version": "1.2.0",
      "_view_name": "LayoutView",
      "align_content": null,
      "align_items": null,
      "align_self": null,
      "border": null,
      "bottom": null,
      "display": null,
      "flex": null,
      "flex_flow": null,
      "grid_area": null,
      "grid_auto_columns": null,
      "grid_auto_flow": null,
      "grid_auto_rows": null,
      "grid_column": null,
      "grid_gap": null,
      "grid_row": null,
      "grid_template_areas": null,
      "grid_template_columns": null,
      "grid_template_rows": null,
      "height": null,
      "justify_content": null,
      "justify_items": null,
      "left": null,
      "margin": null,
      "max_height": null,
      "max_width": null,
      "min_height": null,
      "min_width": null,
      "object_fit": null,
      "object_position": null,
      "order": null,
      "overflow": null,
      "overflow_x": null,
      "overflow_y": null,
      "padding": null,
      "right": null,
      "top": null,
      "visibility": null,
      "width": null
     }
    },
    "611ada68c9554bb0acdcee0b1b0c7ea1": {
     "model_module": "@jupyter-widgets/controls",
     "model_module_version": "1.5.0",
     "model_name": "ProgressStyleModel",
     "state": {
      "_model_module": "@jupyter-widgets/controls",
      "_model_module_version": "1.5.0",
      "_model_name": "ProgressStyleModel",
      "_view_count": null,
      "_view_module": "@jupyter-widgets/base",
      "_view_module_version": "1.2.0",
      "_view_name": "StyleView",
      "bar_color": null,
      "description_width": ""
     }
    },
    "6126ecc5488e4e47917287c3238128b6": {
     "model_module": "@jupyter-widgets/base",
     "model_module_version": "1.2.0",
     "model_name": "LayoutModel",
     "state": {
      "_model_module": "@jupyter-widgets/base",
      "_model_module_version": "1.2.0",
      "_model_name": "LayoutModel",
      "_view_count": null,
      "_view_module": "@jupyter-widgets/base",
      "_view_module_version": "1.2.0",
      "_view_name": "LayoutView",
      "align_content": null,
      "align_items": null,
      "align_self": null,
      "border": null,
      "bottom": null,
      "display": null,
      "flex": null,
      "flex_flow": null,
      "grid_area": null,
      "grid_auto_columns": null,
      "grid_auto_flow": null,
      "grid_auto_rows": null,
      "grid_column": null,
      "grid_gap": null,
      "grid_row": null,
      "grid_template_areas": null,
      "grid_template_columns": null,
      "grid_template_rows": null,
      "height": null,
      "justify_content": null,
      "justify_items": null,
      "left": null,
      "margin": null,
      "max_height": null,
      "max_width": null,
      "min_height": null,
      "min_width": null,
      "object_fit": null,
      "object_position": null,
      "order": null,
      "overflow": null,
      "overflow_x": null,
      "overflow_y": null,
      "padding": null,
      "right": null,
      "top": null,
      "visibility": null,
      "width": null
     }
    },
    "624ccb7ab79e41fba6c1fcc6d157fb1e": {
     "model_module": "@jupyter-widgets/controls",
     "model_module_version": "1.5.0",
     "model_name": "LabelModel",
     "state": {
      "_dom_classes": [],
      "_model_module": "@jupyter-widgets/controls",
      "_model_module_version": "1.5.0",
      "_model_name": "LabelModel",
      "_view_count": null,
      "_view_module": "@jupyter-widgets/controls",
      "_view_module_version": "1.5.0",
      "_view_name": "LabelView",
      "description": "",
      "description_tooltip": null,
      "layout": "IPY_MODEL_f1c73f2b656e43db89c2b502811560f9",
      "placeholder": "​",
      "style": "IPY_MODEL_b1569ffcd185420bbea946a7be9bb8ee",
      "value": "Login successful"
     }
    },
    "62ae5e3dd2ab4ef5b395aaf52f432d2a": {
     "model_module": "@jupyter-widgets/base",
     "model_module_version": "1.2.0",
     "model_name": "LayoutModel",
     "state": {
      "_model_module": "@jupyter-widgets/base",
      "_model_module_version": "1.2.0",
      "_model_name": "LayoutModel",
      "_view_count": null,
      "_view_module": "@jupyter-widgets/base",
      "_view_module_version": "1.2.0",
      "_view_name": "LayoutView",
      "align_content": null,
      "align_items": null,
      "align_self": null,
      "border": null,
      "bottom": null,
      "display": null,
      "flex": null,
      "flex_flow": null,
      "grid_area": null,
      "grid_auto_columns": null,
      "grid_auto_flow": null,
      "grid_auto_rows": null,
      "grid_column": null,
      "grid_gap": null,
      "grid_row": null,
      "grid_template_areas": null,
      "grid_template_columns": null,
      "grid_template_rows": null,
      "height": null,
      "justify_content": null,
      "justify_items": null,
      "left": null,
      "margin": null,
      "max_height": null,
      "max_width": null,
      "min_height": null,
      "min_width": null,
      "object_fit": null,
      "object_position": null,
      "order": null,
      "overflow": null,
      "overflow_x": null,
      "overflow_y": null,
      "padding": null,
      "right": null,
      "top": null,
      "visibility": null,
      "width": null
     }
    },
    "64bdc9e80e034e93bc380fc2a364fbf6": {
     "model_module": "@jupyter-widgets/controls",
     "model_module_version": "1.5.0",
     "model_name": "FloatProgressModel",
     "state": {
      "_dom_classes": [],
      "_model_module": "@jupyter-widgets/controls",
      "_model_module_version": "1.5.0",
      "_model_name": "FloatProgressModel",
      "_view_count": null,
      "_view_module": "@jupyter-widgets/controls",
      "_view_module_version": "1.5.0",
      "_view_name": "ProgressView",
      "bar_style": "success",
      "description": "",
      "description_tooltip": null,
      "layout": "IPY_MODEL_e58cf6a132784de880dc566de6924a70",
      "max": 11322,
      "min": 0,
      "orientation": "horizontal",
      "style": "IPY_MODEL_5784a2ff5d954225995b7f005fad62a6",
      "value": 11322
     }
    },
    "6531904117ec4ac48cf5392467179dfe": {
     "model_module": "@jupyter-widgets/base",
     "model_module_version": "1.2.0",
     "model_name": "LayoutModel",
     "state": {
      "_model_module": "@jupyter-widgets/base",
      "_model_module_version": "1.2.0",
      "_model_name": "LayoutModel",
      "_view_count": null,
      "_view_module": "@jupyter-widgets/base",
      "_view_module_version": "1.2.0",
      "_view_name": "LayoutView",
      "align_content": null,
      "align_items": null,
      "align_self": null,
      "border": null,
      "bottom": null,
      "display": null,
      "flex": null,
      "flex_flow": null,
      "grid_area": null,
      "grid_auto_columns": null,
      "grid_auto_flow": null,
      "grid_auto_rows": null,
      "grid_column": null,
      "grid_gap": null,
      "grid_row": null,
      "grid_template_areas": null,
      "grid_template_columns": null,
      "grid_template_rows": null,
      "height": null,
      "justify_content": null,
      "justify_items": null,
      "left": null,
      "margin": null,
      "max_height": null,
      "max_width": null,
      "min_height": null,
      "min_width": null,
      "object_fit": null,
      "object_position": null,
      "order": null,
      "overflow": null,
      "overflow_x": null,
      "overflow_y": null,
      "padding": null,
      "right": null,
      "top": null,
      "visibility": null,
      "width": null
     }
    },
    "65ee7fc205a140748b0e96e2ee185615": {
     "model_module": "@jupyter-widgets/controls",
     "model_module_version": "1.5.0",
     "model_name": "DescriptionStyleModel",
     "state": {
      "_model_module": "@jupyter-widgets/controls",
      "_model_module_version": "1.5.0",
      "_model_name": "DescriptionStyleModel",
      "_view_count": null,
      "_view_module": "@jupyter-widgets/base",
      "_view_module_version": "1.2.0",
      "_view_name": "StyleView",
      "description_width": ""
     }
    },
    "6639e33f6dfa4405b64e009afbb3f54b": {
     "model_module": "@jupyter-widgets/controls",
     "model_module_version": "1.5.0",
     "model_name": "DescriptionStyleModel",
     "state": {
      "_model_module": "@jupyter-widgets/controls",
      "_model_module_version": "1.5.0",
      "_model_name": "DescriptionStyleModel",
      "_view_count": null,
      "_view_module": "@jupyter-widgets/base",
      "_view_module_version": "1.2.0",
      "_view_name": "StyleView",
      "description_width": ""
     }
    },
    "66cd214b7807441bbb17ddc142fdbddf": {
     "model_module": "@jupyter-widgets/controls",
     "model_module_version": "1.5.0",
     "model_name": "ButtonStyleModel",
     "state": {
      "_model_module": "@jupyter-widgets/controls",
      "_model_module_version": "1.5.0",
      "_model_name": "ButtonStyleModel",
      "_view_count": null,
      "_view_module": "@jupyter-widgets/base",
      "_view_module_version": "1.2.0",
      "_view_name": "StyleView",
      "button_color": null,
      "font_weight": ""
     }
    },
    "6734a45b0d3049369c2772fea4caca65": {
     "model_module": "@jupyter-widgets/controls",
     "model_module_version": "1.5.0",
     "model_name": "DescriptionStyleModel",
     "state": {
      "_model_module": "@jupyter-widgets/controls",
      "_model_module_version": "1.5.0",
      "_model_name": "DescriptionStyleModel",
      "_view_count": null,
      "_view_module": "@jupyter-widgets/base",
      "_view_module_version": "1.2.0",
      "_view_name": "StyleView",
      "description_width": ""
     }
    },
    "683cc100810f403b92e713543954b393": {
     "model_module": "@jupyter-widgets/controls",
     "model_module_version": "1.5.0",
     "model_name": "HTMLModel",
     "state": {
      "_dom_classes": [],
      "_model_module": "@jupyter-widgets/controls",
      "_model_module_version": "1.5.0",
      "_model_name": "HTMLModel",
      "_view_count": null,
      "_view_module": "@jupyter-widgets/controls",
      "_view_module_version": "1.5.0",
      "_view_name": "HTMLView",
      "description": "",
      "description_tooltip": null,
      "layout": "IPY_MODEL_2037afd2bdd146d09c7b3dda937a8e08",
      "placeholder": "​",
      "style": "IPY_MODEL_c730c64392ea4c9fa46bfafd81d684cf",
      "value": " 2.42G/2.42G [03:40&lt;00:00, 8.79MB/s]"
     }
    },
    "695ef3fa108e4e09aee52fa6adfe1a9c": {
     "model_module": "@jupyter-widgets/base",
     "model_module_version": "1.2.0",
     "model_name": "LayoutModel",
     "state": {
      "_model_module": "@jupyter-widgets/base",
      "_model_module_version": "1.2.0",
      "_model_name": "LayoutModel",
      "_view_count": null,
      "_view_module": "@jupyter-widgets/base",
      "_view_module_version": "1.2.0",
      "_view_name": "LayoutView",
      "align_content": null,
      "align_items": null,
      "align_self": null,
      "border": null,
      "bottom": null,
      "display": null,
      "flex": null,
      "flex_flow": null,
      "grid_area": null,
      "grid_auto_columns": null,
      "grid_auto_flow": null,
      "grid_auto_rows": null,
      "grid_column": null,
      "grid_gap": null,
      "grid_row": null,
      "grid_template_areas": null,
      "grid_template_columns": null,
      "grid_template_rows": null,
      "height": null,
      "justify_content": null,
      "justify_items": null,
      "left": null,
      "margin": null,
      "max_height": null,
      "max_width": null,
      "min_height": null,
      "min_width": null,
      "object_fit": null,
      "object_position": null,
      "order": null,
      "overflow": null,
      "overflow_x": null,
      "overflow_y": null,
      "padding": null,
      "right": null,
      "top": null,
      "visibility": null,
      "width": null
     }
    },
    "699c51ed4646490db3adc0e502aec4d9": {
     "model_module": "@jupyter-widgets/controls",
     "model_module_version": "1.5.0",
     "model_name": "HTMLModel",
     "state": {
      "_dom_classes": [],
      "_model_module": "@jupyter-widgets/controls",
      "_model_module_version": "1.5.0",
      "_model_name": "HTMLModel",
      "_view_count": null,
      "_view_module": "@jupyter-widgets/controls",
      "_view_module_version": "1.5.0",
      "_view_name": "HTMLView",
      "description": "",
      "description_tooltip": null,
      "layout": "IPY_MODEL_d6aaedf9f76747a391177409c34ebbcf",
      "placeholder": "​",
      "style": "IPY_MODEL_8bcdb3b197c840269ffc0fcaa041ad88",
      "value": " 1.72G/1.72G [00:31&lt;00:00, 57.0MB/s]"
     }
    },
    "6a754d14922b4a7bb78adad83a6ff85b": {
     "model_module": "@jupyter-widgets/base",
     "model_module_version": "1.2.0",
     "model_name": "LayoutModel",
     "state": {
      "_model_module": "@jupyter-widgets/base",
      "_model_module_version": "1.2.0",
      "_model_name": "LayoutModel",
      "_view_count": null,
      "_view_module": "@jupyter-widgets/base",
      "_view_module_version": "1.2.0",
      "_view_name": "LayoutView",
      "align_content": null,
      "align_items": null,
      "align_self": null,
      "border": null,
      "bottom": null,
      "display": null,
      "flex": null,
      "flex_flow": null,
      "grid_area": null,
      "grid_auto_columns": null,
      "grid_auto_flow": null,
      "grid_auto_rows": null,
      "grid_column": null,
      "grid_gap": null,
      "grid_row": null,
      "grid_template_areas": null,
      "grid_template_columns": null,
      "grid_template_rows": null,
      "height": null,
      "justify_content": null,
      "justify_items": null,
      "left": null,
      "margin": null,
      "max_height": null,
      "max_width": null,
      "min_height": null,
      "min_width": null,
      "object_fit": null,
      "object_position": null,
      "order": null,
      "overflow": null,
      "overflow_x": null,
      "overflow_y": null,
      "padding": null,
      "right": null,
      "top": null,
      "visibility": null,
      "width": null
     }
    },
    "6c62192e0e9f4c188d7cf4c086b79a4f": {
     "model_module": "@jupyter-widgets/controls",
     "model_module_version": "1.5.0",
     "model_name": "DescriptionStyleModel",
     "state": {
      "_model_module": "@jupyter-widgets/controls",
      "_model_module_version": "1.5.0",
      "_model_name": "DescriptionStyleModel",
      "_view_count": null,
      "_view_module": "@jupyter-widgets/base",
      "_view_module_version": "1.2.0",
      "_view_name": "StyleView",
      "description_width": ""
     }
    },
    "6d3da0b643c44ba480ea5388571f996f": {
     "model_module": "@jupyter-widgets/base",
     "model_module_version": "1.2.0",
     "model_name": "LayoutModel",
     "state": {
      "_model_module": "@jupyter-widgets/base",
      "_model_module_version": "1.2.0",
      "_model_name": "LayoutModel",
      "_view_count": null,
      "_view_module": "@jupyter-widgets/base",
      "_view_module_version": "1.2.0",
      "_view_name": "LayoutView",
      "align_content": null,
      "align_items": null,
      "align_self": null,
      "border": null,
      "bottom": null,
      "display": null,
      "flex": null,
      "flex_flow": null,
      "grid_area": null,
      "grid_auto_columns": null,
      "grid_auto_flow": null,
      "grid_auto_rows": null,
      "grid_column": null,
      "grid_gap": null,
      "grid_row": null,
      "grid_template_areas": null,
      "grid_template_columns": null,
      "grid_template_rows": null,
      "height": null,
      "justify_content": null,
      "justify_items": null,
      "left": null,
      "margin": null,
      "max_height": null,
      "max_width": null,
      "min_height": null,
      "min_width": null,
      "object_fit": null,
      "object_position": null,
      "order": null,
      "overflow": null,
      "overflow_x": null,
      "overflow_y": null,
      "padding": null,
      "right": null,
      "top": null,
      "visibility": null,
      "width": null
     }
    },
    "6f2b780742144763a2b2b3af661e31d1": {
     "model_module": "@jupyter-widgets/controls",
     "model_module_version": "1.5.0",
     "model_name": "DescriptionStyleModel",
     "state": {
      "_model_module": "@jupyter-widgets/controls",
      "_model_module_version": "1.5.0",
      "_model_name": "DescriptionStyleModel",
      "_view_count": null,
      "_view_module": "@jupyter-widgets/base",
      "_view_module_version": "1.2.0",
      "_view_name": "StyleView",
      "description_width": ""
     }
    },
    "6f933e3dcb7a4627b9510321bbede244": {
     "model_module": "@jupyter-widgets/controls",
     "model_module_version": "1.5.0",
     "model_name": "FloatProgressModel",
     "state": {
      "_dom_classes": [],
      "_model_module": "@jupyter-widgets/controls",
      "_model_module_version": "1.5.0",
      "_model_name": "FloatProgressModel",
      "_view_count": null,
      "_view_module": "@jupyter-widgets/controls",
      "_view_module_version": "1.5.0",
      "_view_name": "ProgressView",
      "bar_style": "success",
      "description": "",
      "description_tooltip": null,
      "layout": "IPY_MODEL_355f7727ba4642bba828da2fd844a107",
      "max": 6626,
      "min": 0,
      "orientation": "horizontal",
      "style": "IPY_MODEL_611ada68c9554bb0acdcee0b1b0c7ea1",
      "value": 6626
     }
    },
    "6ffc6562d95d4a4d96139c052cb02c64": {
     "model_module": "@jupyter-widgets/controls",
     "model_module_version": "1.5.0",
     "model_name": "DescriptionStyleModel",
     "state": {
      "_model_module": "@jupyter-widgets/controls",
      "_model_module_version": "1.5.0",
      "_model_name": "DescriptionStyleModel",
      "_view_count": null,
      "_view_module": "@jupyter-widgets/base",
      "_view_module_version": "1.2.0",
      "_view_name": "StyleView",
      "description_width": ""
     }
    },
    "70e63ec41143478e9584f344e51b03e7": {
     "model_module": "@jupyter-widgets/controls",
     "model_module_version": "1.5.0",
     "model_name": "ProgressStyleModel",
     "state": {
      "_model_module": "@jupyter-widgets/controls",
      "_model_module_version": "1.5.0",
      "_model_name": "ProgressStyleModel",
      "_view_count": null,
      "_view_module": "@jupyter-widgets/base",
      "_view_module_version": "1.2.0",
      "_view_name": "StyleView",
      "bar_color": null,
      "description_width": ""
     }
    },
    "711de682c83b4d8686c13cf2f738e475": {
     "model_module": "@jupyter-widgets/controls",
     "model_module_version": "1.5.0",
     "model_name": "ProgressStyleModel",
     "state": {
      "_model_module": "@jupyter-widgets/controls",
      "_model_module_version": "1.5.0",
      "_model_name": "ProgressStyleModel",
      "_view_count": null,
      "_view_module": "@jupyter-widgets/base",
      "_view_module_version": "1.2.0",
      "_view_name": "StyleView",
      "bar_color": null,
      "description_width": ""
     }
    },
    "71276080798e45ba9e9514ca5a25952c": {
     "model_module": "@jupyter-widgets/base",
     "model_module_version": "1.2.0",
     "model_name": "LayoutModel",
     "state": {
      "_model_module": "@jupyter-widgets/base",
      "_model_module_version": "1.2.0",
      "_model_name": "LayoutModel",
      "_view_count": null,
      "_view_module": "@jupyter-widgets/base",
      "_view_module_version": "1.2.0",
      "_view_name": "LayoutView",
      "align_content": null,
      "align_items": null,
      "align_self": null,
      "border": null,
      "bottom": null,
      "display": null,
      "flex": null,
      "flex_flow": null,
      "grid_area": null,
      "grid_auto_columns": null,
      "grid_auto_flow": null,
      "grid_auto_rows": null,
      "grid_column": null,
      "grid_gap": null,
      "grid_row": null,
      "grid_template_areas": null,
      "grid_template_columns": null,
      "grid_template_rows": null,
      "height": null,
      "justify_content": null,
      "justify_items": null,
      "left": null,
      "margin": null,
      "max_height": null,
      "max_width": null,
      "min_height": null,
      "min_width": null,
      "object_fit": null,
      "object_position": null,
      "order": null,
      "overflow": null,
      "overflow_x": null,
      "overflow_y": null,
      "padding": null,
      "right": null,
      "top": null,
      "visibility": null,
      "width": null
     }
    },
    "71b2a9bc97c64fef81f29941ff990c9e": {
     "model_module": "@jupyter-widgets/base",
     "model_module_version": "1.2.0",
     "model_name": "LayoutModel",
     "state": {
      "_model_module": "@jupyter-widgets/base",
      "_model_module_version": "1.2.0",
      "_model_name": "LayoutModel",
      "_view_count": null,
      "_view_module": "@jupyter-widgets/base",
      "_view_module_version": "1.2.0",
      "_view_name": "LayoutView",
      "align_content": null,
      "align_items": null,
      "align_self": null,
      "border": null,
      "bottom": null,
      "display": null,
      "flex": null,
      "flex_flow": null,
      "grid_area": null,
      "grid_auto_columns": null,
      "grid_auto_flow": null,
      "grid_auto_rows": null,
      "grid_column": null,
      "grid_gap": null,
      "grid_row": null,
      "grid_template_areas": null,
      "grid_template_columns": null,
      "grid_template_rows": null,
      "height": null,
      "justify_content": null,
      "justify_items": null,
      "left": null,
      "margin": null,
      "max_height": null,
      "max_width": null,
      "min_height": null,
      "min_width": null,
      "object_fit": null,
      "object_position": null,
      "order": null,
      "overflow": null,
      "overflow_x": null,
      "overflow_y": null,
      "padding": null,
      "right": null,
      "top": null,
      "visibility": null,
      "width": null
     }
    },
    "7382c494368d48dc97aacc111ea9c596": {
     "model_module": "@jupyter-widgets/base",
     "model_module_version": "1.2.0",
     "model_name": "LayoutModel",
     "state": {
      "_model_module": "@jupyter-widgets/base",
      "_model_module_version": "1.2.0",
      "_model_name": "LayoutModel",
      "_view_count": null,
      "_view_module": "@jupyter-widgets/base",
      "_view_module_version": "1.2.0",
      "_view_name": "LayoutView",
      "align_content": null,
      "align_items": null,
      "align_self": null,
      "border": null,
      "bottom": null,
      "display": null,
      "flex": null,
      "flex_flow": null,
      "grid_area": null,
      "grid_auto_columns": null,
      "grid_auto_flow": null,
      "grid_auto_rows": null,
      "grid_column": null,
      "grid_gap": null,
      "grid_row": null,
      "grid_template_areas": null,
      "grid_template_columns": null,
      "grid_template_rows": null,
      "height": null,
      "justify_content": null,
      "justify_items": null,
      "left": null,
      "margin": null,
      "max_height": null,
      "max_width": null,
      "min_height": null,
      "min_width": null,
      "object_fit": null,
      "object_position": null,
      "order": null,
      "overflow": null,
      "overflow_x": null,
      "overflow_y": null,
      "padding": null,
      "right": null,
      "top": null,
      "visibility": null,
      "width": null
     }
    },
    "73b0e62ccd3543e48d2608de1df3d95b": {
     "model_module": "@jupyter-widgets/controls",
     "model_module_version": "1.5.0",
     "model_name": "ProgressStyleModel",
     "state": {
      "_model_module": "@jupyter-widgets/controls",
      "_model_module_version": "1.5.0",
      "_model_name": "ProgressStyleModel",
      "_view_count": null,
      "_view_module": "@jupyter-widgets/base",
      "_view_module_version": "1.2.0",
      "_view_name": "StyleView",
      "bar_color": null,
      "description_width": ""
     }
    },
    "73c44d108b0d4290ad50857cbfc4c610": {
     "model_module": "@jupyter-widgets/controls",
     "model_module_version": "1.5.0",
     "model_name": "HTMLModel",
     "state": {
      "_dom_classes": [],
      "_model_module": "@jupyter-widgets/controls",
      "_model_module_version": "1.5.0",
      "_model_name": "HTMLModel",
      "_view_count": null,
      "_view_module": "@jupyter-widgets/controls",
      "_view_module_version": "1.5.0",
      "_view_name": "HTMLView",
      "description": "",
      "description_tooltip": null,
      "layout": "IPY_MODEL_ee15fa01f96f407f823e3a6992834f62",
      "placeholder": "​",
      "style": "IPY_MODEL_0578f0445fa648118b9f8c221889bb7c",
      "value": "config.json: 100%"
     }
    },
    "74688e61df6745c0a11abe5b4551ad85": {
     "model_module": "@jupyter-widgets/controls",
     "model_module_version": "1.5.0",
     "model_name": "FloatProgressModel",
     "state": {
      "_dom_classes": [],
      "_model_module": "@jupyter-widgets/controls",
      "_model_module_version": "1.5.0",
      "_model_name": "FloatProgressModel",
      "_view_count": null,
      "_view_module": "@jupyter-widgets/controls",
      "_view_module_version": "1.5.0",
      "_view_name": "ProgressView",
      "bar_style": "success",
      "description": "",
      "description_tooltip": null,
      "layout": "IPY_MODEL_3d6f6142f4da4d26b5bcfcf3d3459451",
      "max": 3289,
      "min": 0,
      "orientation": "horizontal",
      "style": "IPY_MODEL_952b4c18cfd341639203301e314c42a0",
      "value": 3289
     }
    },
    "74f722f559024dc8a347972e69c9d5f3": {
     "model_module": "@jupyter-widgets/controls",
     "model_module_version": "1.5.0",
     "model_name": "ProgressStyleModel",
     "state": {
      "_model_module": "@jupyter-widgets/controls",
      "_model_module_version": "1.5.0",
      "_model_name": "ProgressStyleModel",
      "_view_count": null,
      "_view_module": "@jupyter-widgets/base",
      "_view_module_version": "1.2.0",
      "_view_name": "StyleView",
      "bar_color": null,
      "description_width": ""
     }
    },
    "7662e0eb9a91463e9a69541c82ab9178": {
     "model_module": "@jupyter-widgets/controls",
     "model_module_version": "1.5.0",
     "model_name": "FloatProgressModel",
     "state": {
      "_dom_classes": [],
      "_model_module": "@jupyter-widgets/controls",
      "_model_module_version": "1.5.0",
      "_model_name": "FloatProgressModel",
      "_view_count": null,
      "_view_module": "@jupyter-widgets/controls",
      "_view_module_version": "1.5.0",
      "_view_name": "ProgressView",
      "bar_style": "success",
      "description": "",
      "description_tooltip": null,
      "layout": "IPY_MODEL_b28888859e6b4783a4ce1285989ec723",
      "max": 6626,
      "min": 0,
      "orientation": "horizontal",
      "style": "IPY_MODEL_02b17bfa039c44f0bfd1fe6d5fc85670",
      "value": 6626
     }
    },
    "76bb2483357d4ebeadd4db6a063fba54": {
     "model_module": "@jupyter-widgets/controls",
     "model_module_version": "1.5.0",
     "model_name": "ProgressStyleModel",
     "state": {
      "_model_module": "@jupyter-widgets/controls",
      "_model_module_version": "1.5.0",
      "_model_name": "ProgressStyleModel",
      "_view_count": null,
      "_view_module": "@jupyter-widgets/base",
      "_view_module_version": "1.2.0",
      "_view_name": "StyleView",
      "bar_color": null,
      "description_width": ""
     }
    },
    "76dad6452fcf44f4abb4425d0c84ea84": {
     "model_module": "@jupyter-widgets/controls",
     "model_module_version": "1.5.0",
     "model_name": "ProgressStyleModel",
     "state": {
      "_model_module": "@jupyter-widgets/controls",
      "_model_module_version": "1.5.0",
      "_model_name": "ProgressStyleModel",
      "_view_count": null,
      "_view_module": "@jupyter-widgets/base",
      "_view_module_version": "1.2.0",
      "_view_name": "StyleView",
      "bar_color": null,
      "description_width": ""
     }
    },
    "78bac143add94da9a4864ed41edc2146": {
     "model_module": "@jupyter-widgets/controls",
     "model_module_version": "1.5.0",
     "model_name": "DescriptionStyleModel",
     "state": {
      "_model_module": "@jupyter-widgets/controls",
      "_model_module_version": "1.5.0",
      "_model_name": "DescriptionStyleModel",
      "_view_count": null,
      "_view_module": "@jupyter-widgets/base",
      "_view_module_version": "1.2.0",
      "_view_name": "StyleView",
      "description_width": ""
     }
    },
    "78f7a618d76b411ebabf085d809ae95a": {
     "model_module": "@jupyter-widgets/base",
     "model_module_version": "1.2.0",
     "model_name": "LayoutModel",
     "state": {
      "_model_module": "@jupyter-widgets/base",
      "_model_module_version": "1.2.0",
      "_model_name": "LayoutModel",
      "_view_count": null,
      "_view_module": "@jupyter-widgets/base",
      "_view_module_version": "1.2.0",
      "_view_name": "LayoutView",
      "align_content": null,
      "align_items": null,
      "align_self": null,
      "border": null,
      "bottom": null,
      "display": null,
      "flex": null,
      "flex_flow": null,
      "grid_area": null,
      "grid_auto_columns": null,
      "grid_auto_flow": null,
      "grid_auto_rows": null,
      "grid_column": null,
      "grid_gap": null,
      "grid_row": null,
      "grid_template_areas": null,
      "grid_template_columns": null,
      "grid_template_rows": null,
      "height": null,
      "justify_content": null,
      "justify_items": null,
      "left": null,
      "margin": null,
      "max_height": null,
      "max_width": null,
      "min_height": null,
      "min_width": null,
      "object_fit": null,
      "object_position": null,
      "order": null,
      "overflow": null,
      "overflow_x": null,
      "overflow_y": null,
      "padding": null,
      "right": null,
      "top": null,
      "visibility": null,
      "width": null
     }
    },
    "790b0e1370274011b264548a4caca463": {
     "model_module": "@jupyter-widgets/controls",
     "model_module_version": "1.5.0",
     "model_name": "HBoxModel",
     "state": {
      "_dom_classes": [],
      "_model_module": "@jupyter-widgets/controls",
      "_model_module_version": "1.5.0",
      "_model_name": "HBoxModel",
      "_view_count": null,
      "_view_module": "@jupyter-widgets/controls",
      "_view_module_version": "1.5.0",
      "_view_name": "HBoxView",
      "box_style": "",
      "children": [
       "IPY_MODEL_73c44d108b0d4290ad50857cbfc4c610",
       "IPY_MODEL_609b50dcab62490da8d0bf53ee4acde7",
       "IPY_MODEL_b9edbc1a5c834bce95a3fea94c50457e"
      ],
      "layout": "IPY_MODEL_827493cf7f174d16aa54d8a7c8d9e6dd"
     }
    },
    "7aa34f76690e4798a83cb177ec65f520": {
     "model_module": "@jupyter-widgets/base",
     "model_module_version": "1.2.0",
     "model_name": "LayoutModel",
     "state": {
      "_model_module": "@jupyter-widgets/base",
      "_model_module_version": "1.2.0",
      "_model_name": "LayoutModel",
      "_view_count": null,
      "_view_module": "@jupyter-widgets/base",
      "_view_module_version": "1.2.0",
      "_view_name": "LayoutView",
      "align_content": null,
      "align_items": null,
      "align_self": null,
      "border": null,
      "bottom": null,
      "display": null,
      "flex": null,
      "flex_flow": null,
      "grid_area": null,
      "grid_auto_columns": null,
      "grid_auto_flow": null,
      "grid_auto_rows": null,
      "grid_column": null,
      "grid_gap": null,
      "grid_row": null,
      "grid_template_areas": null,
      "grid_template_columns": null,
      "grid_template_rows": null,
      "height": null,
      "justify_content": null,
      "justify_items": null,
      "left": null,
      "margin": null,
      "max_height": null,
      "max_width": null,
      "min_height": null,
      "min_width": null,
      "object_fit": null,
      "object_position": null,
      "order": null,
      "overflow": null,
      "overflow_x": null,
      "overflow_y": null,
      "padding": null,
      "right": null,
      "top": null,
      "visibility": null,
      "width": null
     }
    },
    "7fc9a659ffd641759ad915bcf9419896": {
     "model_module": "@jupyter-widgets/controls",
     "model_module_version": "1.5.0",
     "model_name": "HTMLModel",
     "state": {
      "_dom_classes": [],
      "_model_module": "@jupyter-widgets/controls",
      "_model_module_version": "1.5.0",
      "_model_name": "HTMLModel",
      "_view_count": null,
      "_view_module": "@jupyter-widgets/controls",
      "_view_module_version": "1.5.0",
      "_view_name": "HTMLView",
      "description": "",
      "description_tooltip": null,
      "layout": "IPY_MODEL_23f5dc7b80da450b870d6c0e55a2e036",
      "placeholder": "​",
      "style": "IPY_MODEL_14020d02141d4348ac1212aacaa3db93",
      "value": "Generating invalidated split: "
     }
    },
    "814dec784ae64ae6ad6f359cc1fb6647": {
     "model_module": "@jupyter-widgets/base",
     "model_module_version": "1.2.0",
     "model_name": "LayoutModel",
     "state": {
      "_model_module": "@jupyter-widgets/base",
      "_model_module_version": "1.2.0",
      "_model_name": "LayoutModel",
      "_view_count": null,
      "_view_module": "@jupyter-widgets/base",
      "_view_module_version": "1.2.0",
      "_view_name": "LayoutView",
      "align_content": null,
      "align_items": null,
      "align_self": null,
      "border": null,
      "bottom": null,
      "display": null,
      "flex": null,
      "flex_flow": null,
      "grid_area": null,
      "grid_auto_columns": null,
      "grid_auto_flow": null,
      "grid_auto_rows": null,
      "grid_column": null,
      "grid_gap": null,
      "grid_row": null,
      "grid_template_areas": null,
      "grid_template_columns": null,
      "grid_template_rows": null,
      "height": null,
      "justify_content": null,
      "justify_items": null,
      "left": null,
      "margin": null,
      "max_height": null,
      "max_width": null,
      "min_height": null,
      "min_width": null,
      "object_fit": null,
      "object_position": null,
      "order": null,
      "overflow": null,
      "overflow_x": null,
      "overflow_y": null,
      "padding": null,
      "right": null,
      "top": null,
      "visibility": null,
      "width": null
     }
    },
    "8160fd2f8e3949898db9c5cc040a6992": {
     "model_module": "@jupyter-widgets/base",
     "model_module_version": "1.2.0",
     "model_name": "LayoutModel",
     "state": {
      "_model_module": "@jupyter-widgets/base",
      "_model_module_version": "1.2.0",
      "_model_name": "LayoutModel",
      "_view_count": null,
      "_view_module": "@jupyter-widgets/base",
      "_view_module_version": "1.2.0",
      "_view_name": "LayoutView",
      "align_content": null,
      "align_items": null,
      "align_self": null,
      "border": null,
      "bottom": null,
      "display": null,
      "flex": null,
      "flex_flow": null,
      "grid_area": null,
      "grid_auto_columns": null,
      "grid_auto_flow": null,
      "grid_auto_rows": null,
      "grid_column": null,
      "grid_gap": null,
      "grid_row": null,
      "grid_template_areas": null,
      "grid_template_columns": null,
      "grid_template_rows": null,
      "height": null,
      "justify_content": null,
      "justify_items": null,
      "left": null,
      "margin": null,
      "max_height": null,
      "max_width": null,
      "min_height": null,
      "min_width": null,
      "object_fit": null,
      "object_position": null,
      "order": null,
      "overflow": null,
      "overflow_x": null,
      "overflow_y": null,
      "padding": null,
      "right": null,
      "top": null,
      "visibility": null,
      "width": null
     }
    },
    "819c4fa5dd13477ab2618fb85857fd26": {
     "model_module": "@jupyter-widgets/base",
     "model_module_version": "1.2.0",
     "model_name": "LayoutModel",
     "state": {
      "_model_module": "@jupyter-widgets/base",
      "_model_module_version": "1.2.0",
      "_model_name": "LayoutModel",
      "_view_count": null,
      "_view_module": "@jupyter-widgets/base",
      "_view_module_version": "1.2.0",
      "_view_name": "LayoutView",
      "align_content": null,
      "align_items": null,
      "align_self": null,
      "border": null,
      "bottom": null,
      "display": null,
      "flex": null,
      "flex_flow": null,
      "grid_area": null,
      "grid_auto_columns": null,
      "grid_auto_flow": null,
      "grid_auto_rows": null,
      "grid_column": null,
      "grid_gap": null,
      "grid_row": null,
      "grid_template_areas": null,
      "grid_template_columns": null,
      "grid_template_rows": null,
      "height": null,
      "justify_content": null,
      "justify_items": null,
      "left": null,
      "margin": null,
      "max_height": null,
      "max_width": null,
      "min_height": null,
      "min_width": null,
      "object_fit": null,
      "object_position": null,
      "order": null,
      "overflow": null,
      "overflow_x": null,
      "overflow_y": null,
      "padding": null,
      "right": null,
      "top": null,
      "visibility": null,
      "width": null
     }
    },
    "827493cf7f174d16aa54d8a7c8d9e6dd": {
     "model_module": "@jupyter-widgets/base",
     "model_module_version": "1.2.0",
     "model_name": "LayoutModel",
     "state": {
      "_model_module": "@jupyter-widgets/base",
      "_model_module_version": "1.2.0",
      "_model_name": "LayoutModel",
      "_view_count": null,
      "_view_module": "@jupyter-widgets/base",
      "_view_module_version": "1.2.0",
      "_view_name": "LayoutView",
      "align_content": null,
      "align_items": null,
      "align_self": null,
      "border": null,
      "bottom": null,
      "display": null,
      "flex": null,
      "flex_flow": null,
      "grid_area": null,
      "grid_auto_columns": null,
      "grid_auto_flow": null,
      "grid_auto_rows": null,
      "grid_column": null,
      "grid_gap": null,
      "grid_row": null,
      "grid_template_areas": null,
      "grid_template_columns": null,
      "grid_template_rows": null,
      "height": null,
      "justify_content": null,
      "justify_items": null,
      "left": null,
      "margin": null,
      "max_height": null,
      "max_width": null,
      "min_height": null,
      "min_width": null,
      "object_fit": null,
      "object_position": null,
      "order": null,
      "overflow": null,
      "overflow_x": null,
      "overflow_y": null,
      "padding": null,
      "right": null,
      "top": null,
      "visibility": null,
      "width": null
     }
    },
    "86cc42e4e7d74733b63d3082eca0ef9c": {
     "model_module": "@jupyter-widgets/base",
     "model_module_version": "1.2.0",
     "model_name": "LayoutModel",
     "state": {
      "_model_module": "@jupyter-widgets/base",
      "_model_module_version": "1.2.0",
      "_model_name": "LayoutModel",
      "_view_count": null,
      "_view_module": "@jupyter-widgets/base",
      "_view_module_version": "1.2.0",
      "_view_name": "LayoutView",
      "align_content": null,
      "align_items": null,
      "align_self": null,
      "border": null,
      "bottom": null,
      "display": null,
      "flex": null,
      "flex_flow": null,
      "grid_area": null,
      "grid_auto_columns": null,
      "grid_auto_flow": null,
      "grid_auto_rows": null,
      "grid_column": null,
      "grid_gap": null,
      "grid_row": null,
      "grid_template_areas": null,
      "grid_template_columns": null,
      "grid_template_rows": null,
      "height": null,
      "justify_content": null,
      "justify_items": null,
      "left": null,
      "margin": null,
      "max_height": null,
      "max_width": null,
      "min_height": null,
      "min_width": null,
      "object_fit": null,
      "object_position": null,
      "order": null,
      "overflow": null,
      "overflow_x": null,
      "overflow_y": null,
      "padding": null,
      "right": null,
      "top": null,
      "visibility": null,
      "width": null
     }
    },
    "872e96697ba643faa39f390356dbbb24": {
     "model_module": "@jupyter-widgets/controls",
     "model_module_version": "1.5.0",
     "model_name": "HTMLModel",
     "state": {
      "_dom_classes": [],
      "_model_module": "@jupyter-widgets/controls",
      "_model_module_version": "1.5.0",
      "_model_name": "HTMLModel",
      "_view_count": null,
      "_view_module": "@jupyter-widgets/controls",
      "_view_module_version": "1.5.0",
      "_view_name": "HTMLView",
      "description": "",
      "description_tooltip": null,
      "layout": "IPY_MODEL_148a4068bbda4dfdba028c9b4e152cad",
      "placeholder": "​",
      "style": "IPY_MODEL_ece083f606204785bf3806000a0f26ae",
      "value": " 4.47k/? [00:00&lt;00:00, 134kB/s]"
     }
    },
    "88d100741c1f4e84aa39b83405e59b86": {
     "model_module": "@jupyter-widgets/base",
     "model_module_version": "1.2.0",
     "model_name": "LayoutModel",
     "state": {
      "_model_module": "@jupyter-widgets/base",
      "_model_module_version": "1.2.0",
      "_model_name": "LayoutModel",
      "_view_count": null,
      "_view_module": "@jupyter-widgets/base",
      "_view_module_version": "1.2.0",
      "_view_name": "LayoutView",
      "align_content": null,
      "align_items": null,
      "align_self": null,
      "border": null,
      "bottom": null,
      "display": null,
      "flex": null,
      "flex_flow": null,
      "grid_area": null,
      "grid_auto_columns": null,
      "grid_auto_flow": null,
      "grid_auto_rows": null,
      "grid_column": null,
      "grid_gap": null,
      "grid_row": null,
      "grid_template_areas": null,
      "grid_template_columns": null,
      "grid_template_rows": null,
      "height": null,
      "justify_content": null,
      "justify_items": null,
      "left": null,
      "margin": null,
      "max_height": null,
      "max_width": null,
      "min_height": null,
      "min_width": null,
      "object_fit": null,
      "object_position": null,
      "order": null,
      "overflow": null,
      "overflow_x": null,
      "overflow_y": null,
      "padding": null,
      "right": null,
      "top": null,
      "visibility": null,
      "width": null
     }
    },
    "88d61c2794be4a99bde23143b19f66c6": {
     "model_module": "@jupyter-widgets/base",
     "model_module_version": "1.2.0",
     "model_name": "LayoutModel",
     "state": {
      "_model_module": "@jupyter-widgets/base",
      "_model_module_version": "1.2.0",
      "_model_name": "LayoutModel",
      "_view_count": null,
      "_view_module": "@jupyter-widgets/base",
      "_view_module_version": "1.2.0",
      "_view_name": "LayoutView",
      "align_content": null,
      "align_items": null,
      "align_self": null,
      "border": null,
      "bottom": null,
      "display": null,
      "flex": null,
      "flex_flow": null,
      "grid_area": null,
      "grid_auto_columns": null,
      "grid_auto_flow": null,
      "grid_auto_rows": null,
      "grid_column": null,
      "grid_gap": null,
      "grid_row": null,
      "grid_template_areas": null,
      "grid_template_columns": null,
      "grid_template_rows": null,
      "height": null,
      "justify_content": null,
      "justify_items": null,
      "left": null,
      "margin": null,
      "max_height": null,
      "max_width": null,
      "min_height": null,
      "min_width": null,
      "object_fit": null,
      "object_position": null,
      "order": null,
      "overflow": null,
      "overflow_x": null,
      "overflow_y": null,
      "padding": null,
      "right": null,
      "top": null,
      "visibility": null,
      "width": "20px"
     }
    },
    "8a562721fd934599b2ae213d67e68705": {
     "model_module": "@jupyter-widgets/controls",
     "model_module_version": "1.5.0",
     "model_name": "HTMLModel",
     "state": {
      "_dom_classes": [],
      "_model_module": "@jupyter-widgets/controls",
      "_model_module_version": "1.5.0",
      "_model_name": "HTMLModel",
      "_view_count": null,
      "_view_module": "@jupyter-widgets/controls",
      "_view_module_version": "1.5.0",
      "_view_name": "HTMLView",
      "description": "",
      "description_tooltip": null,
      "layout": "IPY_MODEL_8160fd2f8e3949898db9c5cc040a6992",
      "placeholder": "​",
      "style": "IPY_MODEL_ad44de7369004d039bc40717df32ff5c",
      "value": " 6626/6626 [00:00&lt;00:00, 95870.96 examples/s]"
     }
    },
    "8bcdb3b197c840269ffc0fcaa041ad88": {
     "model_module": "@jupyter-widgets/controls",
     "model_module_version": "1.5.0",
     "model_name": "DescriptionStyleModel",
     "state": {
      "_model_module": "@jupyter-widgets/controls",
      "_model_module_version": "1.5.0",
      "_model_name": "DescriptionStyleModel",
      "_view_count": null,
      "_view_module": "@jupyter-widgets/base",
      "_view_module_version": "1.2.0",
      "_view_name": "StyleView",
      "description_width": ""
     }
    },
    "8c72323a2c01430e8d5d15d285e7ee19": {
     "model_module": "@jupyter-widgets/controls",
     "model_module_version": "1.5.0",
     "model_name": "HBoxModel",
     "state": {
      "_dom_classes": [],
      "_model_module": "@jupyter-widgets/controls",
      "_model_module_version": "1.5.0",
      "_model_name": "HBoxModel",
      "_view_count": null,
      "_view_module": "@jupyter-widgets/controls",
      "_view_module_version": "1.5.0",
      "_view_name": "HBoxView",
      "box_style": "",
      "children": [
       "IPY_MODEL_b6d681e76e91474d89db07ab69472900",
       "IPY_MODEL_dff35a20b3f946b28990f38238e73068",
       "IPY_MODEL_56dd83cc98784c8f9741aff7e3a02bc8"
      ],
      "layout": "IPY_MODEL_2438197eed7042abb4b8e17001705b71"
     }
    },
    "8cb374e440194c24b630c9c901b1246c": {
     "model_module": "@jupyter-widgets/controls",
     "model_module_version": "1.5.0",
     "model_name": "HTMLModel",
     "state": {
      "_dom_classes": [],
      "_model_module": "@jupyter-widgets/controls",
      "_model_module_version": "1.5.0",
      "_model_name": "HTMLModel",
      "_view_count": null,
      "_view_module": "@jupyter-widgets/controls",
      "_view_module_version": "1.5.0",
      "_view_name": "HTMLView",
      "description": "",
      "description_tooltip": null,
      "layout": "IPY_MODEL_8dfd144083fb4668901a3ebe8793f079",
      "placeholder": "​",
      "style": "IPY_MODEL_a4f789b00e71460eb0f02a6d24199d2a",
      "value": " 11.3k/11.3k [00:00&lt;00:00, 586kB/s]"
     }
    },
    "8ccc4820b8ec4462baede7b62e60d479": {
     "model_module": "@jupyter-widgets/controls",
     "model_module_version": "1.5.0",
     "model_name": "HTMLModel",
     "state": {
      "_dom_classes": [],
      "_model_module": "@jupyter-widgets/controls",
      "_model_module_version": "1.5.0",
      "_model_name": "HTMLModel",
      "_view_count": null,
      "_view_module": "@jupyter-widgets/controls",
      "_view_module_version": "1.5.0",
      "_view_name": "HTMLView",
      "description": "",
      "description_tooltip": null,
      "layout": "IPY_MODEL_1550b196a4c44ea9b4fc510894670cc5",
      "placeholder": "​",
      "style": "IPY_MODEL_6639e33f6dfa4405b64e009afbb3f54b",
      "value": "README.md: 100%"
     }
    },
    "8da957f86def4e22b63957e22329f789": {
     "model_module": "@jupyter-widgets/controls",
     "model_module_version": "1.5.0",
     "model_name": "LabelModel",
     "state": {
      "_dom_classes": [],
      "_model_module": "@jupyter-widgets/controls",
      "_model_module_version": "1.5.0",
      "_model_name": "LabelModel",
      "_view_count": null,
      "_view_module": "@jupyter-widgets/controls",
      "_view_module_version": "1.5.0",
      "_view_name": "LabelView",
      "description": "",
      "description_tooltip": null,
      "layout": "IPY_MODEL_8e0637f0c49a4f9eb0a301f8bbc0e621",
      "placeholder": "​",
      "style": "IPY_MODEL_b5ef9a44b713452d9ce50c3ea29d8ff9",
      "value": "Your token has been saved to /root/.cache/huggingface/token"
     }
    },
    "8dfd144083fb4668901a3ebe8793f079": {
     "model_module": "@jupyter-widgets/base",
     "model_module_version": "1.2.0",
     "model_name": "LayoutModel",
     "state": {
      "_model_module": "@jupyter-widgets/base",
      "_model_module_version": "1.2.0",
      "_model_name": "LayoutModel",
      "_view_count": null,
      "_view_module": "@jupyter-widgets/base",
      "_view_module_version": "1.2.0",
      "_view_name": "LayoutView",
      "align_content": null,
      "align_items": null,
      "align_self": null,
      "border": null,
      "bottom": null,
      "display": null,
      "flex": null,
      "flex_flow": null,
      "grid_area": null,
      "grid_auto_columns": null,
      "grid_auto_flow": null,
      "grid_auto_rows": null,
      "grid_column": null,
      "grid_gap": null,
      "grid_row": null,
      "grid_template_areas": null,
      "grid_template_columns": null,
      "grid_template_rows": null,
      "height": null,
      "justify_content": null,
      "justify_items": null,
      "left": null,
      "margin": null,
      "max_height": null,
      "max_width": null,
      "min_height": null,
      "min_width": null,
      "object_fit": null,
      "object_position": null,
      "order": null,
      "overflow": null,
      "overflow_x": null,
      "overflow_y": null,
      "padding": null,
      "right": null,
      "top": null,
      "visibility": null,
      "width": null
     }
    },
    "8e0637f0c49a4f9eb0a301f8bbc0e621": {
     "model_module": "@jupyter-widgets/base",
     "model_module_version": "1.2.0",
     "model_name": "LayoutModel",
     "state": {
      "_model_module": "@jupyter-widgets/base",
      "_model_module_version": "1.2.0",
      "_model_name": "LayoutModel",
      "_view_count": null,
      "_view_module": "@jupyter-widgets/base",
      "_view_module_version": "1.2.0",
      "_view_name": "LayoutView",
      "align_content": null,
      "align_items": null,
      "align_self": null,
      "border": null,
      "bottom": null,
      "display": null,
      "flex": null,
      "flex_flow": null,
      "grid_area": null,
      "grid_auto_columns": null,
      "grid_auto_flow": null,
      "grid_auto_rows": null,
      "grid_column": null,
      "grid_gap": null,
      "grid_row": null,
      "grid_template_areas": null,
      "grid_template_columns": null,
      "grid_template_rows": null,
      "height": null,
      "justify_content": null,
      "justify_items": null,
      "left": null,
      "margin": null,
      "max_height": null,
      "max_width": null,
      "min_height": null,
      "min_width": null,
      "object_fit": null,
      "object_position": null,
      "order": null,
      "overflow": null,
      "overflow_x": null,
      "overflow_y": null,
      "padding": null,
      "right": null,
      "top": null,
      "visibility": null,
      "width": null
     }
    },
    "8ee68ad071ee452993af29ecacd2d66c": {
     "model_module": "@jupyter-widgets/controls",
     "model_module_version": "1.5.0",
     "model_name": "ProgressStyleModel",
     "state": {
      "_model_module": "@jupyter-widgets/controls",
      "_model_module_version": "1.5.0",
      "_model_name": "ProgressStyleModel",
      "_view_count": null,
      "_view_module": "@jupyter-widgets/base",
      "_view_module_version": "1.2.0",
      "_view_name": "StyleView",
      "bar_color": null,
      "description_width": ""
     }
    },
    "8f38983385354f44b99c167b2090351d": {
     "model_module": "@jupyter-widgets/base",
     "model_module_version": "1.2.0",
     "model_name": "LayoutModel",
     "state": {
      "_model_module": "@jupyter-widgets/base",
      "_model_module_version": "1.2.0",
      "_model_name": "LayoutModel",
      "_view_count": null,
      "_view_module": "@jupyter-widgets/base",
      "_view_module_version": "1.2.0",
      "_view_name": "LayoutView",
      "align_content": null,
      "align_items": null,
      "align_self": null,
      "border": null,
      "bottom": null,
      "display": null,
      "flex": null,
      "flex_flow": null,
      "grid_area": null,
      "grid_auto_columns": null,
      "grid_auto_flow": null,
      "grid_auto_rows": null,
      "grid_column": null,
      "grid_gap": null,
      "grid_row": null,
      "grid_template_areas": null,
      "grid_template_columns": null,
      "grid_template_rows": null,
      "height": null,
      "justify_content": null,
      "justify_items": null,
      "left": null,
      "margin": null,
      "max_height": null,
      "max_width": null,
      "min_height": null,
      "min_width": null,
      "object_fit": null,
      "object_position": null,
      "order": null,
      "overflow": null,
      "overflow_x": null,
      "overflow_y": null,
      "padding": null,
      "right": null,
      "top": null,
      "visibility": null,
      "width": null
     }
    },
    "904c1c93cb5f41059bc1ef9a0f45b088": {
     "model_module": "@jupyter-widgets/base",
     "model_module_version": "1.2.0",
     "model_name": "LayoutModel",
     "state": {
      "_model_module": "@jupyter-widgets/base",
      "_model_module_version": "1.2.0",
      "_model_name": "LayoutModel",
      "_view_count": null,
      "_view_module": "@jupyter-widgets/base",
      "_view_module_version": "1.2.0",
      "_view_name": "LayoutView",
      "align_content": null,
      "align_items": null,
      "align_self": null,
      "border": null,
      "bottom": null,
      "display": null,
      "flex": null,
      "flex_flow": null,
      "grid_area": null,
      "grid_auto_columns": null,
      "grid_auto_flow": null,
      "grid_auto_rows": null,
      "grid_column": null,
      "grid_gap": null,
      "grid_row": null,
      "grid_template_areas": null,
      "grid_template_columns": null,
      "grid_template_rows": null,
      "height": null,
      "justify_content": null,
      "justify_items": null,
      "left": null,
      "margin": null,
      "max_height": null,
      "max_width": null,
      "min_height": null,
      "min_width": null,
      "object_fit": null,
      "object_position": null,
      "order": null,
      "overflow": null,
      "overflow_x": null,
      "overflow_y": null,
      "padding": null,
      "right": null,
      "top": null,
      "visibility": null,
      "width": null
     }
    },
    "90ccfb6f0d624f2da3f93ea025935366": {
     "model_module": "@jupyter-widgets/controls",
     "model_module_version": "1.5.0",
     "model_name": "ButtonModel",
     "state": {
      "_dom_classes": [],
      "_model_module": "@jupyter-widgets/controls",
      "_model_module_version": "1.5.0",
      "_model_name": "ButtonModel",
      "_view_count": null,
      "_view_module": "@jupyter-widgets/controls",
      "_view_module_version": "1.5.0",
      "_view_name": "ButtonView",
      "button_style": "",
      "description": "Login",
      "disabled": false,
      "icon": "",
      "layout": "IPY_MODEL_d76a0659510d4927931f86384cefa7df",
      "style": "IPY_MODEL_66cd214b7807441bbb17ddc142fdbddf",
      "tooltip": ""
     }
    },
    "91303af16b13431b871a8f402c01670f": {
     "model_module": "@jupyter-widgets/controls",
     "model_module_version": "1.5.0",
     "model_name": "DescriptionStyleModel",
     "state": {
      "_model_module": "@jupyter-widgets/controls",
      "_model_module_version": "1.5.0",
      "_model_name": "DescriptionStyleModel",
      "_view_count": null,
      "_view_module": "@jupyter-widgets/base",
      "_view_module_version": "1.2.0",
      "_view_name": "StyleView",
      "description_width": ""
     }
    },
    "916d17092121477fb503f64483126516": {
     "model_module": "@jupyter-widgets/base",
     "model_module_version": "1.2.0",
     "model_name": "LayoutModel",
     "state": {
      "_model_module": "@jupyter-widgets/base",
      "_model_module_version": "1.2.0",
      "_model_name": "LayoutModel",
      "_view_count": null,
      "_view_module": "@jupyter-widgets/base",
      "_view_module_version": "1.2.0",
      "_view_name": "LayoutView",
      "align_content": null,
      "align_items": null,
      "align_self": null,
      "border": null,
      "bottom": null,
      "display": null,
      "flex": null,
      "flex_flow": null,
      "grid_area": null,
      "grid_auto_columns": null,
      "grid_auto_flow": null,
      "grid_auto_rows": null,
      "grid_column": null,
      "grid_gap": null,
      "grid_row": null,
      "grid_template_areas": null,
      "grid_template_columns": null,
      "grid_template_rows": null,
      "height": null,
      "justify_content": null,
      "justify_items": null,
      "left": null,
      "margin": null,
      "max_height": null,
      "max_width": null,
      "min_height": null,
      "min_width": null,
      "object_fit": null,
      "object_position": null,
      "order": null,
      "overflow": null,
      "overflow_x": null,
      "overflow_y": null,
      "padding": null,
      "right": null,
      "top": null,
      "visibility": null,
      "width": null
     }
    },
    "9171a74c035349f48c5ba0d69342296e": {
     "model_module": "@jupyter-widgets/controls",
     "model_module_version": "1.5.0",
     "model_name": "DescriptionStyleModel",
     "state": {
      "_model_module": "@jupyter-widgets/controls",
      "_model_module_version": "1.5.0",
      "_model_name": "DescriptionStyleModel",
      "_view_count": null,
      "_view_module": "@jupyter-widgets/base",
      "_view_module_version": "1.2.0",
      "_view_name": "StyleView",
      "description_width": ""
     }
    },
    "9249815c7e274ae19e4411b82cbe8622": {
     "model_module": "@jupyter-widgets/base",
     "model_module_version": "1.2.0",
     "model_name": "LayoutModel",
     "state": {
      "_model_module": "@jupyter-widgets/base",
      "_model_module_version": "1.2.0",
      "_model_name": "LayoutModel",
      "_view_count": null,
      "_view_module": "@jupyter-widgets/base",
      "_view_module_version": "1.2.0",
      "_view_name": "LayoutView",
      "align_content": null,
      "align_items": null,
      "align_self": null,
      "border": null,
      "bottom": null,
      "display": null,
      "flex": null,
      "flex_flow": null,
      "grid_area": null,
      "grid_auto_columns": null,
      "grid_auto_flow": null,
      "grid_auto_rows": null,
      "grid_column": null,
      "grid_gap": null,
      "grid_row": null,
      "grid_template_areas": null,
      "grid_template_columns": null,
      "grid_template_rows": null,
      "height": null,
      "justify_content": null,
      "justify_items": null,
      "left": null,
      "margin": null,
      "max_height": null,
      "max_width": null,
      "min_height": null,
      "min_width": null,
      "object_fit": null,
      "object_position": null,
      "order": null,
      "overflow": null,
      "overflow_x": null,
      "overflow_y": null,
      "padding": null,
      "right": null,
      "top": null,
      "visibility": null,
      "width": "20px"
     }
    },
    "93df25375d694127ac47dbc6a8d6fa0e": {
     "model_module": "@jupyter-widgets/controls",
     "model_module_version": "1.5.0",
     "model_name": "DescriptionStyleModel",
     "state": {
      "_model_module": "@jupyter-widgets/controls",
      "_model_module_version": "1.5.0",
      "_model_name": "DescriptionStyleModel",
      "_view_count": null,
      "_view_module": "@jupyter-widgets/base",
      "_view_module_version": "1.2.0",
      "_view_name": "StyleView",
      "description_width": ""
     }
    },
    "93ea3fb6bc5147318472b84fabd89492": {
     "model_module": "@jupyter-widgets/controls",
     "model_module_version": "1.5.0",
     "model_name": "HBoxModel",
     "state": {
      "_dom_classes": [],
      "_model_module": "@jupyter-widgets/controls",
      "_model_module_version": "1.5.0",
      "_model_name": "HBoxModel",
      "_view_count": null,
      "_view_module": "@jupyter-widgets/controls",
      "_view_module_version": "1.5.0",
      "_view_name": "HBoxView",
      "box_style": "",
      "children": [
       "IPY_MODEL_ec5f83428b884a439587e08b9dd0f851",
       "IPY_MODEL_d00e50968ec84b2e9a6d719dd17a26c9",
       "IPY_MODEL_4c0042bba1cf46d4a634ad27374a8162"
      ],
      "layout": "IPY_MODEL_5c39d83d77224cda9fccd8ac9643b259"
     }
    },
    "94a356846e0449e99150ba0354ef84d6": {
     "model_module": "@jupyter-widgets/controls",
     "model_module_version": "1.5.0",
     "model_name": "VBoxModel",
     "state": {
      "_dom_classes": [],
      "_model_module": "@jupyter-widgets/controls",
      "_model_module_version": "1.5.0",
      "_model_name": "VBoxModel",
      "_view_count": null,
      "_view_module": "@jupyter-widgets/controls",
      "_view_module_version": "1.5.0",
      "_view_name": "VBoxView",
      "box_style": "",
      "children": [
       "IPY_MODEL_4aedeb89aad646479e0937312f5c4d29",
       "IPY_MODEL_99a91e2e8a204d6e8bede88eaab1999f",
       "IPY_MODEL_8da957f86def4e22b63957e22329f789",
       "IPY_MODEL_624ccb7ab79e41fba6c1fcc6d157fb1e"
      ],
      "layout": "IPY_MODEL_ee3fddc2c0e14d8aab5b941d45c40de2"
     }
    },
    "952b4c18cfd341639203301e314c42a0": {
     "model_module": "@jupyter-widgets/controls",
     "model_module_version": "1.5.0",
     "model_name": "ProgressStyleModel",
     "state": {
      "_model_module": "@jupyter-widgets/controls",
      "_model_module_version": "1.5.0",
      "_model_name": "ProgressStyleModel",
      "_view_count": null,
      "_view_module": "@jupyter-widgets/base",
      "_view_module_version": "1.2.0",
      "_view_name": "StyleView",
      "bar_color": null,
      "description_width": ""
     }
    },
    "957445d05d7441349fe9c1c561ccafdd": {
     "model_module": "@jupyter-widgets/controls",
     "model_module_version": "1.5.0",
     "model_name": "ProgressStyleModel",
     "state": {
      "_model_module": "@jupyter-widgets/controls",
      "_model_module_version": "1.5.0",
      "_model_name": "ProgressStyleModel",
      "_view_count": null,
      "_view_module": "@jupyter-widgets/base",
      "_view_module_version": "1.2.0",
      "_view_name": "StyleView",
      "bar_color": null,
      "description_width": ""
     }
    },
    "970c612f2a93451494978a446efc56bf": {
     "model_module": "@jupyter-widgets/controls",
     "model_module_version": "1.5.0",
     "model_name": "ProgressStyleModel",
     "state": {
      "_model_module": "@jupyter-widgets/controls",
      "_model_module_version": "1.5.0",
      "_model_name": "ProgressStyleModel",
      "_view_count": null,
      "_view_module": "@jupyter-widgets/base",
      "_view_module_version": "1.2.0",
      "_view_name": "StyleView",
      "bar_color": null,
      "description_width": ""
     }
    },
    "97bccc224098417bb44307c538b46de1": {
     "model_module": "@jupyter-widgets/base",
     "model_module_version": "1.2.0",
     "model_name": "LayoutModel",
     "state": {
      "_model_module": "@jupyter-widgets/base",
      "_model_module_version": "1.2.0",
      "_model_name": "LayoutModel",
      "_view_count": null,
      "_view_module": "@jupyter-widgets/base",
      "_view_module_version": "1.2.0",
      "_view_name": "LayoutView",
      "align_content": null,
      "align_items": null,
      "align_self": null,
      "border": null,
      "bottom": null,
      "display": null,
      "flex": null,
      "flex_flow": null,
      "grid_area": null,
      "grid_auto_columns": null,
      "grid_auto_flow": null,
      "grid_auto_rows": null,
      "grid_column": null,
      "grid_gap": null,
      "grid_row": null,
      "grid_template_areas": null,
      "grid_template_columns": null,
      "grid_template_rows": null,
      "height": null,
      "justify_content": null,
      "justify_items": null,
      "left": null,
      "margin": null,
      "max_height": null,
      "max_width": null,
      "min_height": null,
      "min_width": null,
      "object_fit": null,
      "object_position": null,
      "order": null,
      "overflow": null,
      "overflow_x": null,
      "overflow_y": null,
      "padding": null,
      "right": null,
      "top": null,
      "visibility": null,
      "width": null
     }
    },
    "98358ecf9250411b9ac62c0c293582fc": {
     "model_module": "@jupyter-widgets/controls",
     "model_module_version": "1.5.0",
     "model_name": "FloatProgressModel",
     "state": {
      "_dom_classes": [],
      "_model_module": "@jupyter-widgets/controls",
      "_model_module_version": "1.5.0",
      "_model_name": "FloatProgressModel",
      "_view_count": null,
      "_view_module": "@jupyter-widgets/controls",
      "_view_module_version": "1.5.0",
      "_view_name": "ProgressView",
      "bar_style": "success",
      "description": "",
      "description_tooltip": null,
      "layout": "IPY_MODEL_1946a60256fa45c0832ead631424059d",
      "max": 49716,
      "min": 0,
      "orientation": "horizontal",
      "style": "IPY_MODEL_38fab194963c42e296927e12c2fff376",
      "value": 49716
     }
    },
    "985ae81202ce425ea2b57ca04a0920cc": {
     "model_module": "@jupyter-widgets/controls",
     "model_module_version": "1.5.0",
     "model_name": "HTMLModel",
     "state": {
      "_dom_classes": [],
      "_model_module": "@jupyter-widgets/controls",
      "_model_module_version": "1.5.0",
      "_model_name": "HTMLModel",
      "_view_count": null,
      "_view_module": "@jupyter-widgets/controls",
      "_view_module_version": "1.5.0",
      "_view_name": "HTMLView",
      "description": "",
      "description_tooltip": null,
      "layout": "IPY_MODEL_3202ba8381a4413fa8dfd8104ce05e84",
      "placeholder": "​",
      "style": "IPY_MODEL_3f4f871a84bb4e26aa4f832e123defaf",
      "value": "Map: 100%"
     }
    },
    "98d9a2e070c14d7e8a43f320169abdec": {
     "model_module": "@jupyter-widgets/controls",
     "model_module_version": "1.5.0",
     "model_name": "HBoxModel",
     "state": {
      "_dom_classes": [],
      "_model_module": "@jupyter-widgets/controls",
      "_model_module_version": "1.5.0",
      "_model_name": "HBoxModel",
      "_view_count": null,
      "_view_module": "@jupyter-widgets/controls",
      "_view_module_version": "1.5.0",
      "_view_name": "HBoxView",
      "box_style": "",
      "children": [
       "IPY_MODEL_f3551d5b647f4feeaf7a3691ac9bd349",
       "IPY_MODEL_46613a7e2a754267898e4ec2e43ceb2b",
       "IPY_MODEL_c7e705cf3ce1470bb63c89813252f077"
      ],
      "layout": "IPY_MODEL_695ef3fa108e4e09aee52fa6adfe1a9c"
     }
    },
    "99a91e2e8a204d6e8bede88eaab1999f": {
     "model_module": "@jupyter-widgets/controls",
     "model_module_version": "1.5.0",
     "model_name": "LabelModel",
     "state": {
      "_dom_classes": [],
      "_model_module": "@jupyter-widgets/controls",
      "_model_module_version": "1.5.0",
      "_model_name": "LabelModel",
      "_view_count": null,
      "_view_module": "@jupyter-widgets/controls",
      "_view_module_version": "1.5.0",
      "_view_name": "LabelView",
      "description": "",
      "description_tooltip": null,
      "layout": "IPY_MODEL_fec45ef84e484724a4d21b95cb5777d7",
      "placeholder": "​",
      "style": "IPY_MODEL_9e74b1ec8343401792a0bbf180914203",
      "value": "Your token has been saved in your configured git credential helpers (store)."
     }
    },
    "99d7d4b441504999bd5416c1cd3205ae": {
     "model_module": "@jupyter-widgets/controls",
     "model_module_version": "1.5.0",
     "model_name": "HTMLModel",
     "state": {
      "_dom_classes": [],
      "_model_module": "@jupyter-widgets/controls",
      "_model_module_version": "1.5.0",
      "_model_name": "HTMLModel",
      "_view_count": null,
      "_view_module": "@jupyter-widgets/controls",
      "_view_module_version": "1.5.0",
      "_view_name": "HTMLView",
      "description": "",
      "description_tooltip": null,
      "layout": "IPY_MODEL_60ec9400dba44d30ac3399bceb134cd4",
      "placeholder": "​",
      "style": "IPY_MODEL_5154648875764c4f821480826119fc82",
      "value": "Downloading data: 100%"
     }
    },
    "9b157f61bef743a2af83d5f1ec373792": {
     "model_module": "@jupyter-widgets/controls",
     "model_module_version": "1.5.0",
     "model_name": "HTMLModel",
     "state": {
      "_dom_classes": [],
      "_model_module": "@jupyter-widgets/controls",
      "_model_module_version": "1.5.0",
      "_model_name": "HTMLModel",
      "_view_count": null,
      "_view_module": "@jupyter-widgets/controls",
      "_view_module_version": "1.5.0",
      "_view_name": "HTMLView",
      "description": "",
      "description_tooltip": null,
      "layout": "IPY_MODEL_1e155e93b0fb4335b02bdbc6940169b6",
      "placeholder": "​",
      "style": "IPY_MODEL_269dfbc99a3a449a9fd20651f101aaa6",
      "value": " 5.18k/5.18k [00:00&lt;00:00, 343kB/s]"
     }
    },
    "9bc12c5fdabe46caa672b4086f53efe9": {
     "model_module": "@jupyter-widgets/controls",
     "model_module_version": "1.5.0",
     "model_name": "DescriptionStyleModel",
     "state": {
      "_model_module": "@jupyter-widgets/controls",
      "_model_module_version": "1.5.0",
      "_model_name": "DescriptionStyleModel",
      "_view_count": null,
      "_view_module": "@jupyter-widgets/base",
      "_view_module_version": "1.2.0",
      "_view_name": "StyleView",
      "description_width": ""
     }
    },
    "9bfefa71e79c4abf9e429fb259dadd59": {
     "model_module": "@jupyter-widgets/base",
     "model_module_version": "1.2.0",
     "model_name": "LayoutModel",
     "state": {
      "_model_module": "@jupyter-widgets/base",
      "_model_module_version": "1.2.0",
      "_model_name": "LayoutModel",
      "_view_count": null,
      "_view_module": "@jupyter-widgets/base",
      "_view_module_version": "1.2.0",
      "_view_name": "LayoutView",
      "align_content": null,
      "align_items": null,
      "align_self": null,
      "border": null,
      "bottom": null,
      "display": null,
      "flex": null,
      "flex_flow": null,
      "grid_area": null,
      "grid_auto_columns": null,
      "grid_auto_flow": null,
      "grid_auto_rows": null,
      "grid_column": null,
      "grid_gap": null,
      "grid_row": null,
      "grid_template_areas": null,
      "grid_template_columns": null,
      "grid_template_rows": null,
      "height": null,
      "justify_content": null,
      "justify_items": null,
      "left": null,
      "margin": null,
      "max_height": null,
      "max_width": null,
      "min_height": null,
      "min_width": null,
      "object_fit": null,
      "object_position": null,
      "order": null,
      "overflow": null,
      "overflow_x": null,
      "overflow_y": null,
      "padding": null,
      "right": null,
      "top": null,
      "visibility": null,
      "width": null
     }
    },
    "9c8d2b0c618e47ce9c7e42351b416da1": {
     "model_module": "@jupyter-widgets/controls",
     "model_module_version": "1.5.0",
     "model_name": "HTMLModel",
     "state": {
      "_dom_classes": [],
      "_model_module": "@jupyter-widgets/controls",
      "_model_module_version": "1.5.0",
      "_model_name": "HTMLModel",
      "_view_count": null,
      "_view_module": "@jupyter-widgets/controls",
      "_view_module_version": "1.5.0",
      "_view_name": "HTMLView",
      "description": "",
      "description_tooltip": null,
      "layout": "IPY_MODEL_f1180cfe2644462bbf38ac4e5f81dee8",
      "placeholder": "​",
      "style": "IPY_MODEL_6f2b780742144763a2b2b3af661e31d1",
      "value": " 3549/0 [00:12&lt;00:00, 92.22 examples/s]"
     }
    },
    "9e74b1ec8343401792a0bbf180914203": {
     "model_module": "@jupyter-widgets/controls",
     "model_module_version": "1.5.0",
     "model_name": "DescriptionStyleModel",
     "state": {
      "_model_module": "@jupyter-widgets/controls",
      "_model_module_version": "1.5.0",
      "_model_name": "DescriptionStyleModel",
      "_view_count": null,
      "_view_module": "@jupyter-widgets/base",
      "_view_module_version": "1.2.0",
      "_view_name": "StyleView",
      "description_width": ""
     }
    },
    "9ef41911f26c449c970728e2ca90769c": {
     "model_module": "@jupyter-widgets/controls",
     "model_module_version": "1.5.0",
     "model_name": "HBoxModel",
     "state": {
      "_dom_classes": [],
      "_model_module": "@jupyter-widgets/controls",
      "_model_module_version": "1.5.0",
      "_model_name": "HBoxModel",
      "_view_count": null,
      "_view_module": "@jupyter-widgets/controls",
      "_view_module_version": "1.5.0",
      "_view_name": "HBoxView",
      "box_style": "",
      "children": [
       "IPY_MODEL_3243b57838cc4362b10414dd7b68378e",
       "IPY_MODEL_3f3527f318584431a70e4f6a31688ce1",
       "IPY_MODEL_e512c9f3c5eb49849bd17c7c852e8843"
      ],
      "layout": "IPY_MODEL_1a4f2353154547348ca902e612bb15bd"
     }
    },
    "9feba72d58c54b93874991d00cb86396": {
     "model_module": "@jupyter-widgets/controls",
     "model_module_version": "1.5.0",
     "model_name": "HBoxModel",
     "state": {
      "_dom_classes": [],
      "_model_module": "@jupyter-widgets/controls",
      "_model_module_version": "1.5.0",
      "_model_name": "HBoxModel",
      "_view_count": null,
      "_view_module": "@jupyter-widgets/controls",
      "_view_module_version": "1.5.0",
      "_view_name": "HBoxView",
      "box_style": "",
      "children": [
       "IPY_MODEL_30489d9bdf1d4609872b6ae2a0c41c75",
       "IPY_MODEL_3a6a6a0f93564d6694acc3536160c4b4",
       "IPY_MODEL_8a562721fd934599b2ae213d67e68705"
      ],
      "layout": "IPY_MODEL_a569e791db34430b8d251b00fe9fa0c1"
     }
    },
    "a096b6f6c8964d299b940792ea3efe88": {
     "model_module": "@jupyter-widgets/controls",
     "model_module_version": "1.5.0",
     "model_name": "DescriptionStyleModel",
     "state": {
      "_model_module": "@jupyter-widgets/controls",
      "_model_module_version": "1.5.0",
      "_model_name": "DescriptionStyleModel",
      "_view_count": null,
      "_view_module": "@jupyter-widgets/base",
      "_view_module_version": "1.2.0",
      "_view_name": "StyleView",
      "description_width": ""
     }
    },
    "a0c88747e34047bda02cb4590724ab9b": {
     "model_module": "@jupyter-widgets/controls",
     "model_module_version": "1.5.0",
     "model_name": "FloatProgressModel",
     "state": {
      "_dom_classes": [],
      "_model_module": "@jupyter-widgets/controls",
      "_model_module_version": "1.5.0",
      "_model_name": "FloatProgressModel",
      "_view_count": null,
      "_view_module": "@jupyter-widgets/controls",
      "_view_module_version": "1.5.0",
      "_view_name": "ProgressView",
      "bar_style": "success",
      "description": "",
      "description_tooltip": null,
      "layout": "IPY_MODEL_f1494c1d1a3b41efb8f6243fc6fba0c7",
      "max": 2422974460,
      "min": 0,
      "orientation": "horizontal",
      "style": "IPY_MODEL_57a7bcaa7c264a75823a2d900c18a03a",
      "value": 2422974460
     }
    },
    "a2b15e9f24e74657a734b258bd97659b": {
     "model_module": "@jupyter-widgets/controls",
     "model_module_version": "1.5.0",
     "model_name": "DescriptionStyleModel",
     "state": {
      "_model_module": "@jupyter-widgets/controls",
      "_model_module_version": "1.5.0",
      "_model_name": "DescriptionStyleModel",
      "_view_count": null,
      "_view_module": "@jupyter-widgets/base",
      "_view_module_version": "1.2.0",
      "_view_name": "StyleView",
      "description_width": ""
     }
    },
    "a3aed732d0b647c1a8b898272bd70483": {
     "model_module": "@jupyter-widgets/controls",
     "model_module_version": "1.5.0",
     "model_name": "DescriptionStyleModel",
     "state": {
      "_model_module": "@jupyter-widgets/controls",
      "_model_module_version": "1.5.0",
      "_model_name": "DescriptionStyleModel",
      "_view_count": null,
      "_view_module": "@jupyter-widgets/base",
      "_view_module_version": "1.2.0",
      "_view_name": "StyleView",
      "description_width": ""
     }
    },
    "a3d4246e17ee4500b3aa0dc043aca624": {
     "model_module": "@jupyter-widgets/base",
     "model_module_version": "1.2.0",
     "model_name": "LayoutModel",
     "state": {
      "_model_module": "@jupyter-widgets/base",
      "_model_module_version": "1.2.0",
      "_model_name": "LayoutModel",
      "_view_count": null,
      "_view_module": "@jupyter-widgets/base",
      "_view_module_version": "1.2.0",
      "_view_name": "LayoutView",
      "align_content": null,
      "align_items": null,
      "align_self": null,
      "border": null,
      "bottom": null,
      "display": null,
      "flex": null,
      "flex_flow": null,
      "grid_area": null,
      "grid_auto_columns": null,
      "grid_auto_flow": null,
      "grid_auto_rows": null,
      "grid_column": null,
      "grid_gap": null,
      "grid_row": null,
      "grid_template_areas": null,
      "grid_template_columns": null,
      "grid_template_rows": null,
      "height": null,
      "justify_content": null,
      "justify_items": null,
      "left": null,
      "margin": null,
      "max_height": null,
      "max_width": null,
      "min_height": null,
      "min_width": null,
      "object_fit": null,
      "object_position": null,
      "order": null,
      "overflow": null,
      "overflow_x": null,
      "overflow_y": null,
      "padding": null,
      "right": null,
      "top": null,
      "visibility": null,
      "width": null
     }
    },
    "a4f789b00e71460eb0f02a6d24199d2a": {
     "model_module": "@jupyter-widgets/controls",
     "model_module_version": "1.5.0",
     "model_name": "DescriptionStyleModel",
     "state": {
      "_model_module": "@jupyter-widgets/controls",
      "_model_module_version": "1.5.0",
      "_model_name": "DescriptionStyleModel",
      "_view_count": null,
      "_view_module": "@jupyter-widgets/base",
      "_view_module_version": "1.2.0",
      "_view_name": "StyleView",
      "description_width": ""
     }
    },
    "a569e791db34430b8d251b00fe9fa0c1": {
     "model_module": "@jupyter-widgets/base",
     "model_module_version": "1.2.0",
     "model_name": "LayoutModel",
     "state": {
      "_model_module": "@jupyter-widgets/base",
      "_model_module_version": "1.2.0",
      "_model_name": "LayoutModel",
      "_view_count": null,
      "_view_module": "@jupyter-widgets/base",
      "_view_module_version": "1.2.0",
      "_view_name": "LayoutView",
      "align_content": null,
      "align_items": null,
      "align_self": null,
      "border": null,
      "bottom": null,
      "display": null,
      "flex": null,
      "flex_flow": null,
      "grid_area": null,
      "grid_auto_columns": null,
      "grid_auto_flow": null,
      "grid_auto_rows": null,
      "grid_column": null,
      "grid_gap": null,
      "grid_row": null,
      "grid_template_areas": null,
      "grid_template_columns": null,
      "grid_template_rows": null,
      "height": null,
      "justify_content": null,
      "justify_items": null,
      "left": null,
      "margin": null,
      "max_height": null,
      "max_width": null,
      "min_height": null,
      "min_width": null,
      "object_fit": null,
      "object_position": null,
      "order": null,
      "overflow": null,
      "overflow_x": null,
      "overflow_y": null,
      "padding": null,
      "right": null,
      "top": null,
      "visibility": null,
      "width": null
     }
    },
    "a591e67d616a474f8b23064ff2ba9400": {
     "model_module": "@jupyter-widgets/controls",
     "model_module_version": "1.5.0",
     "model_name": "DescriptionStyleModel",
     "state": {
      "_model_module": "@jupyter-widgets/controls",
      "_model_module_version": "1.5.0",
      "_model_name": "DescriptionStyleModel",
      "_view_count": null,
      "_view_module": "@jupyter-widgets/base",
      "_view_module_version": "1.2.0",
      "_view_name": "StyleView",
      "description_width": ""
     }
    },
    "a8a1dfe0ae0143479e44904436db0a74": {
     "model_module": "@jupyter-widgets/controls",
     "model_module_version": "1.5.0",
     "model_name": "DescriptionStyleModel",
     "state": {
      "_model_module": "@jupyter-widgets/controls",
      "_model_module_version": "1.5.0",
      "_model_name": "DescriptionStyleModel",
      "_view_count": null,
      "_view_module": "@jupyter-widgets/base",
      "_view_module_version": "1.2.0",
      "_view_name": "StyleView",
      "description_width": ""
     }
    },
    "aab5cbf0583c4a9c989f6ae259320a99": {
     "model_module": "@jupyter-widgets/base",
     "model_module_version": "1.2.0",
     "model_name": "LayoutModel",
     "state": {
      "_model_module": "@jupyter-widgets/base",
      "_model_module_version": "1.2.0",
      "_model_name": "LayoutModel",
      "_view_count": null,
      "_view_module": "@jupyter-widgets/base",
      "_view_module_version": "1.2.0",
      "_view_name": "LayoutView",
      "align_content": null,
      "align_items": null,
      "align_self": null,
      "border": null,
      "bottom": null,
      "display": null,
      "flex": null,
      "flex_flow": null,
      "grid_area": null,
      "grid_auto_columns": null,
      "grid_auto_flow": null,
      "grid_auto_rows": null,
      "grid_column": null,
      "grid_gap": null,
      "grid_row": null,
      "grid_template_areas": null,
      "grid_template_columns": null,
      "grid_template_rows": null,
      "height": null,
      "justify_content": null,
      "justify_items": null,
      "left": null,
      "margin": null,
      "max_height": null,
      "max_width": null,
      "min_height": null,
      "min_width": null,
      "object_fit": null,
      "object_position": null,
      "order": null,
      "overflow": null,
      "overflow_x": null,
      "overflow_y": null,
      "padding": null,
      "right": null,
      "top": null,
      "visibility": null,
      "width": "20px"
     }
    },
    "aadcc49daa5f4724878bd8621d8b7bec": {
     "model_module": "@jupyter-widgets/base",
     "model_module_version": "1.2.0",
     "model_name": "LayoutModel",
     "state": {
      "_model_module": "@jupyter-widgets/base",
      "_model_module_version": "1.2.0",
      "_model_name": "LayoutModel",
      "_view_count": null,
      "_view_module": "@jupyter-widgets/base",
      "_view_module_version": "1.2.0",
      "_view_name": "LayoutView",
      "align_content": null,
      "align_items": null,
      "align_self": null,
      "border": null,
      "bottom": null,
      "display": null,
      "flex": null,
      "flex_flow": null,
      "grid_area": null,
      "grid_auto_columns": null,
      "grid_auto_flow": null,
      "grid_auto_rows": null,
      "grid_column": null,
      "grid_gap": null,
      "grid_row": null,
      "grid_template_areas": null,
      "grid_template_columns": null,
      "grid_template_rows": null,
      "height": null,
      "justify_content": null,
      "justify_items": null,
      "left": null,
      "margin": null,
      "max_height": null,
      "max_width": null,
      "min_height": null,
      "min_width": null,
      "object_fit": null,
      "object_position": null,
      "order": null,
      "overflow": null,
      "overflow_x": null,
      "overflow_y": null,
      "padding": null,
      "right": null,
      "top": null,
      "visibility": null,
      "width": null
     }
    },
    "ad44de7369004d039bc40717df32ff5c": {
     "model_module": "@jupyter-widgets/controls",
     "model_module_version": "1.5.0",
     "model_name": "DescriptionStyleModel",
     "state": {
      "_model_module": "@jupyter-widgets/controls",
      "_model_module_version": "1.5.0",
      "_model_name": "DescriptionStyleModel",
      "_view_count": null,
      "_view_module": "@jupyter-widgets/base",
      "_view_module_version": "1.2.0",
      "_view_name": "StyleView",
      "description_width": ""
     }
    },
    "ae2a92cb398d4f7ab29918af5a22ca5d": {
     "model_module": "@jupyter-widgets/controls",
     "model_module_version": "1.5.0",
     "model_name": "DescriptionStyleModel",
     "state": {
      "_model_module": "@jupyter-widgets/controls",
      "_model_module_version": "1.5.0",
      "_model_name": "DescriptionStyleModel",
      "_view_count": null,
      "_view_module": "@jupyter-widgets/base",
      "_view_module_version": "1.2.0",
      "_view_name": "StyleView",
      "description_width": ""
     }
    },
    "ae94acec66144ef9afdd78422d9ed1bf": {
     "model_module": "@jupyter-widgets/controls",
     "model_module_version": "1.5.0",
     "model_name": "HBoxModel",
     "state": {
      "_dom_classes": [],
      "_model_module": "@jupyter-widgets/controls",
      "_model_module_version": "1.5.0",
      "_model_name": "HBoxModel",
      "_view_count": null,
      "_view_module": "@jupyter-widgets/controls",
      "_view_module_version": "1.5.0",
      "_view_name": "HBoxView",
      "box_style": "",
      "children": [
       "IPY_MODEL_b9bc643bcf3b4f629e662bb933923cfc",
       "IPY_MODEL_bf9e0160d75141c487bfaa12319858e4",
       "IPY_MODEL_b2ac70e4752a4ca08f3dd3b4d7f1d472"
      ],
      "layout": "IPY_MODEL_349b4f45076f4537a35c5ef3d18360f5"
     }
    },
    "aefff613fb5045f082ff504816442b55": {
     "model_module": "@jupyter-widgets/base",
     "model_module_version": "1.2.0",
     "model_name": "LayoutModel",
     "state": {
      "_model_module": "@jupyter-widgets/base",
      "_model_module_version": "1.2.0",
      "_model_name": "LayoutModel",
      "_view_count": null,
      "_view_module": "@jupyter-widgets/base",
      "_view_module_version": "1.2.0",
      "_view_name": "LayoutView",
      "align_content": null,
      "align_items": null,
      "align_self": null,
      "border": null,
      "bottom": null,
      "display": null,
      "flex": null,
      "flex_flow": null,
      "grid_area": null,
      "grid_auto_columns": null,
      "grid_auto_flow": null,
      "grid_auto_rows": null,
      "grid_column": null,
      "grid_gap": null,
      "grid_row": null,
      "grid_template_areas": null,
      "grid_template_columns": null,
      "grid_template_rows": null,
      "height": null,
      "justify_content": null,
      "justify_items": null,
      "left": null,
      "margin": null,
      "max_height": null,
      "max_width": null,
      "min_height": null,
      "min_width": null,
      "object_fit": null,
      "object_position": null,
      "order": null,
      "overflow": null,
      "overflow_x": null,
      "overflow_y": null,
      "padding": null,
      "right": null,
      "top": null,
      "visibility": null,
      "width": null
     }
    },
    "af9886a02a7d4eeb8d4899c64e1c1379": {
     "model_module": "@jupyter-widgets/controls",
     "model_module_version": "1.5.0",
     "model_name": "ProgressStyleModel",
     "state": {
      "_model_module": "@jupyter-widgets/controls",
      "_model_module_version": "1.5.0",
      "_model_name": "ProgressStyleModel",
      "_view_count": null,
      "_view_module": "@jupyter-widgets/base",
      "_view_module_version": "1.2.0",
      "_view_name": "StyleView",
      "bar_color": null,
      "description_width": ""
     }
    },
    "b1569ffcd185420bbea946a7be9bb8ee": {
     "model_module": "@jupyter-widgets/controls",
     "model_module_version": "1.5.0",
     "model_name": "DescriptionStyleModel",
     "state": {
      "_model_module": "@jupyter-widgets/controls",
      "_model_module_version": "1.5.0",
      "_model_name": "DescriptionStyleModel",
      "_view_count": null,
      "_view_module": "@jupyter-widgets/base",
      "_view_module_version": "1.2.0",
      "_view_name": "StyleView",
      "description_width": ""
     }
    },
    "b1e21d94ca1d495486262bb811b7b45d": {
     "model_module": "@jupyter-widgets/base",
     "model_module_version": "1.2.0",
     "model_name": "LayoutModel",
     "state": {
      "_model_module": "@jupyter-widgets/base",
      "_model_module_version": "1.2.0",
      "_model_name": "LayoutModel",
      "_view_count": null,
      "_view_module": "@jupyter-widgets/base",
      "_view_module_version": "1.2.0",
      "_view_name": "LayoutView",
      "align_content": null,
      "align_items": null,
      "align_self": null,
      "border": null,
      "bottom": null,
      "display": null,
      "flex": null,
      "flex_flow": null,
      "grid_area": null,
      "grid_auto_columns": null,
      "grid_auto_flow": null,
      "grid_auto_rows": null,
      "grid_column": null,
      "grid_gap": null,
      "grid_row": null,
      "grid_template_areas": null,
      "grid_template_columns": null,
      "grid_template_rows": null,
      "height": null,
      "justify_content": null,
      "justify_items": null,
      "left": null,
      "margin": null,
      "max_height": null,
      "max_width": null,
      "min_height": null,
      "min_width": null,
      "object_fit": null,
      "object_position": null,
      "order": null,
      "overflow": null,
      "overflow_x": null,
      "overflow_y": null,
      "padding": null,
      "right": null,
      "top": null,
      "visibility": null,
      "width": null
     }
    },
    "b28888859e6b4783a4ce1285989ec723": {
     "model_module": "@jupyter-widgets/base",
     "model_module_version": "1.2.0",
     "model_name": "LayoutModel",
     "state": {
      "_model_module": "@jupyter-widgets/base",
      "_model_module_version": "1.2.0",
      "_model_name": "LayoutModel",
      "_view_count": null,
      "_view_module": "@jupyter-widgets/base",
      "_view_module_version": "1.2.0",
      "_view_name": "LayoutView",
      "align_content": null,
      "align_items": null,
      "align_self": null,
      "border": null,
      "bottom": null,
      "display": null,
      "flex": null,
      "flex_flow": null,
      "grid_area": null,
      "grid_auto_columns": null,
      "grid_auto_flow": null,
      "grid_auto_rows": null,
      "grid_column": null,
      "grid_gap": null,
      "grid_row": null,
      "grid_template_areas": null,
      "grid_template_columns": null,
      "grid_template_rows": null,
      "height": null,
      "justify_content": null,
      "justify_items": null,
      "left": null,
      "margin": null,
      "max_height": null,
      "max_width": null,
      "min_height": null,
      "min_width": null,
      "object_fit": null,
      "object_position": null,
      "order": null,
      "overflow": null,
      "overflow_x": null,
      "overflow_y": null,
      "padding": null,
      "right": null,
      "top": null,
      "visibility": null,
      "width": null
     }
    },
    "b2ac70e4752a4ca08f3dd3b4d7f1d472": {
     "model_module": "@jupyter-widgets/controls",
     "model_module_version": "1.5.0",
     "model_name": "HTMLModel",
     "state": {
      "_dom_classes": [],
      "_model_module": "@jupyter-widgets/controls",
      "_model_module_version": "1.5.0",
      "_model_name": "HTMLModel",
      "_view_count": null,
      "_view_module": "@jupyter-widgets/controls",
      "_view_module_version": "1.5.0",
      "_view_name": "HTMLView",
      "description": "",
      "description_tooltip": null,
      "layout": "IPY_MODEL_f745382805ed4370852db37cc9547c80",
      "placeholder": "​",
      "style": "IPY_MODEL_a2b15e9f24e74657a734b258bd97659b",
      "value": " 11.5k/11.5k [00:00&lt;00:00, 673kB/s]"
     }
    },
    "b3156845b0374af08f83b4d399b6fe3b": {
     "model_module": "@jupyter-widgets/controls",
     "model_module_version": "1.5.0",
     "model_name": "HTMLModel",
     "state": {
      "_dom_classes": [],
      "_model_module": "@jupyter-widgets/controls",
      "_model_module_version": "1.5.0",
      "_model_name": "HTMLModel",
      "_view_count": null,
      "_view_module": "@jupyter-widgets/controls",
      "_view_module_version": "1.5.0",
      "_view_name": "HTMLView",
      "description": "",
      "description_tooltip": null,
      "layout": "IPY_MODEL_f6949cad62c04a0b8a7a14be2e0b15bc",
      "placeholder": "​",
      "style": "IPY_MODEL_a096b6f6c8964d299b940792ea3efe88",
      "value": "<center> <img\nsrc=https://huggingface.co/front/assets/huggingface_logo-noborder.svg\nalt='Hugging Face'> <br> Copy a token from <a\nhref=\"https://huggingface.co/settings/tokens\" target=\"_blank\">your Hugging Face\ntokens page</a> and paste it below. <br> Immediately click login after copying\nyour token or it might be stored in plain text in this notebook file. </center>"
     }
    },
    "b3f2a267ea0c4ccc981f4d60d05678b6": {
     "model_module": "@jupyter-widgets/base",
     "model_module_version": "1.2.0",
     "model_name": "LayoutModel",
     "state": {
      "_model_module": "@jupyter-widgets/base",
      "_model_module_version": "1.2.0",
      "_model_name": "LayoutModel",
      "_view_count": null,
      "_view_module": "@jupyter-widgets/base",
      "_view_module_version": "1.2.0",
      "_view_name": "LayoutView",
      "align_content": null,
      "align_items": null,
      "align_self": null,
      "border": null,
      "bottom": null,
      "display": null,
      "flex": null,
      "flex_flow": null,
      "grid_area": null,
      "grid_auto_columns": null,
      "grid_auto_flow": null,
      "grid_auto_rows": null,
      "grid_column": null,
      "grid_gap": null,
      "grid_row": null,
      "grid_template_areas": null,
      "grid_template_columns": null,
      "grid_template_rows": null,
      "height": null,
      "justify_content": null,
      "justify_items": null,
      "left": null,
      "margin": null,
      "max_height": null,
      "max_width": null,
      "min_height": null,
      "min_width": null,
      "object_fit": null,
      "object_position": null,
      "order": null,
      "overflow": null,
      "overflow_x": null,
      "overflow_y": null,
      "padding": null,
      "right": null,
      "top": null,
      "visibility": null,
      "width": null
     }
    },
    "b57b6d8ba41441d0993c7b6ff2447354": {
     "model_module": "@jupyter-widgets/base",
     "model_module_version": "1.2.0",
     "model_name": "LayoutModel",
     "state": {
      "_model_module": "@jupyter-widgets/base",
      "_model_module_version": "1.2.0",
      "_model_name": "LayoutModel",
      "_view_count": null,
      "_view_module": "@jupyter-widgets/base",
      "_view_module_version": "1.2.0",
      "_view_name": "LayoutView",
      "align_content": null,
      "align_items": null,
      "align_self": null,
      "border": null,
      "bottom": null,
      "display": null,
      "flex": null,
      "flex_flow": null,
      "grid_area": null,
      "grid_auto_columns": null,
      "grid_auto_flow": null,
      "grid_auto_rows": null,
      "grid_column": null,
      "grid_gap": null,
      "grid_row": null,
      "grid_template_areas": null,
      "grid_template_columns": null,
      "grid_template_rows": null,
      "height": null,
      "justify_content": null,
      "justify_items": null,
      "left": null,
      "margin": null,
      "max_height": null,
      "max_width": null,
      "min_height": null,
      "min_width": null,
      "object_fit": null,
      "object_position": null,
      "order": null,
      "overflow": null,
      "overflow_x": null,
      "overflow_y": null,
      "padding": null,
      "right": null,
      "top": null,
      "visibility": null,
      "width": null
     }
    },
    "b5eea1bf76394153bf01d9a5613357e9": {
     "model_module": "@jupyter-widgets/controls",
     "model_module_version": "1.5.0",
     "model_name": "HTMLModel",
     "state": {
      "_dom_classes": [],
      "_model_module": "@jupyter-widgets/controls",
      "_model_module_version": "1.5.0",
      "_model_name": "HTMLModel",
      "_view_count": null,
      "_view_module": "@jupyter-widgets/controls",
      "_view_module_version": "1.5.0",
      "_view_name": "HTMLView",
      "description": "",
      "description_tooltip": null,
      "layout": "IPY_MODEL_104b877f2bea4dffbee766478c3e6194",
      "placeholder": "​",
      "style": "IPY_MODEL_a591e67d616a474f8b23064ff2ba9400",
      "value": "Generating validation split: "
     }
    },
    "b5ef9a44b713452d9ce50c3ea29d8ff9": {
     "model_module": "@jupyter-widgets/controls",
     "model_module_version": "1.5.0",
     "model_name": "DescriptionStyleModel",
     "state": {
      "_model_module": "@jupyter-widgets/controls",
      "_model_module_version": "1.5.0",
      "_model_name": "DescriptionStyleModel",
      "_view_count": null,
      "_view_module": "@jupyter-widgets/base",
      "_view_module_version": "1.2.0",
      "_view_name": "StyleView",
      "description_width": ""
     }
    },
    "b6d681e76e91474d89db07ab69472900": {
     "model_module": "@jupyter-widgets/controls",
     "model_module_version": "1.5.0",
     "model_name": "HTMLModel",
     "state": {
      "_dom_classes": [],
      "_model_module": "@jupyter-widgets/controls",
      "_model_module_version": "1.5.0",
      "_model_name": "HTMLModel",
      "_view_count": null,
      "_view_module": "@jupyter-widgets/controls",
      "_view_module_version": "1.5.0",
      "_view_name": "HTMLView",
      "description": "",
      "description_tooltip": null,
      "layout": "IPY_MODEL_0fa207f602d2468cb8eff5c771d02200",
      "placeholder": "​",
      "style": "IPY_MODEL_37dafafefaec4fe5ba3bfea36a257d2e",
      "value": "Map: 100%"
     }
    },
    "b913f0cc028642ff9928fffe7a5e297c": {
     "model_module": "@jupyter-widgets/controls",
     "model_module_version": "1.5.0",
     "model_name": "HTMLModel",
     "state": {
      "_dom_classes": [],
      "_model_module": "@jupyter-widgets/controls",
      "_model_module_version": "1.5.0",
      "_model_name": "HTMLModel",
      "_view_count": null,
      "_view_module": "@jupyter-widgets/controls",
      "_view_module_version": "1.5.0",
      "_view_name": "HTMLView",
      "description": "",
      "description_tooltip": null,
      "layout": "IPY_MODEL_fe5c45d6d8604abe88700111fc504b8c",
      "placeholder": "​",
      "style": "IPY_MODEL_65ee7fc205a140748b0e96e2ee185615",
      "value": " 1.87k/1.87k [00:00&lt;00:00, 28.2kB/s]"
     }
    },
    "b9bc643bcf3b4f629e662bb933923cfc": {
     "model_module": "@jupyter-widgets/controls",
     "model_module_version": "1.5.0",
     "model_name": "HTMLModel",
     "state": {
      "_dom_classes": [],
      "_model_module": "@jupyter-widgets/controls",
      "_model_module_version": "1.5.0",
      "_model_name": "HTMLModel",
      "_view_count": null,
      "_view_module": "@jupyter-widgets/controls",
      "_view_module_version": "1.5.0",
      "_view_name": "HTMLView",
      "description": "",
      "description_tooltip": null,
      "layout": "IPY_MODEL_197c65e6880b4f6f9cf134e030cf7378",
      "placeholder": "​",
      "style": "IPY_MODEL_0f3a91482d3a427bae45d480ab581954",
      "value": "Downloading builder script: 100%"
     }
    },
    "b9edbc1a5c834bce95a3fea94c50457e": {
     "model_module": "@jupyter-widgets/controls",
     "model_module_version": "1.5.0",
     "model_name": "HTMLModel",
     "state": {
      "_dom_classes": [],
      "_model_module": "@jupyter-widgets/controls",
      "_model_module_version": "1.5.0",
      "_model_name": "HTMLModel",
      "_view_count": null,
      "_view_module": "@jupyter-widgets/controls",
      "_view_module_version": "1.5.0",
      "_view_name": "HTMLView",
      "description": "",
      "description_tooltip": null,
      "layout": "IPY_MODEL_dc96412083fe4c198d161d404d5f01a1",
      "placeholder": "​",
      "style": "IPY_MODEL_cf129b88e7754ae0b3d432b09d56afc2",
      "value": " 1.92k/1.92k [00:00&lt;00:00, 34.5kB/s]"
     }
    },
    "bba854dd202747cfba1b55287f4263d9": {
     "model_module": "@jupyter-widgets/controls",
     "model_module_version": "1.5.0",
     "model_name": "HTMLModel",
     "state": {
      "_dom_classes": [],
      "_model_module": "@jupyter-widgets/controls",
      "_model_module_version": "1.5.0",
      "_model_name": "HTMLModel",
      "_view_count": null,
      "_view_module": "@jupyter-widgets/controls",
      "_view_module_version": "1.5.0",
      "_view_name": "HTMLView",
      "description": "",
      "description_tooltip": null,
      "layout": "IPY_MODEL_904c1c93cb5f41059bc1ef9a0f45b088",
      "placeholder": "​",
      "style": "IPY_MODEL_5696324df4dd4595b470c210de4f5523",
      "value": "Map: 100%"
     }
    },
    "bec94c58a96b4e159b0c89d3703fcf8b": {
     "model_module": "@jupyter-widgets/controls",
     "model_module_version": "1.5.0",
     "model_name": "PasswordModel",
     "state": {
      "_dom_classes": [],
      "_model_module": "@jupyter-widgets/controls",
      "_model_module_version": "1.5.0",
      "_model_name": "PasswordModel",
      "_view_count": null,
      "_view_module": "@jupyter-widgets/controls",
      "_view_module_version": "1.5.0",
      "_view_name": "PasswordView",
      "continuous_update": true,
      "description": "Token:",
      "description_tooltip": null,
      "disabled": false,
      "layout": "IPY_MODEL_916d17092121477fb503f64483126516",
      "placeholder": "​",
      "style": "IPY_MODEL_f248f032597d40219c42a18340e27752",
      "value": ""
     }
    },
    "bf9e0160d75141c487bfaa12319858e4": {
     "model_module": "@jupyter-widgets/controls",
     "model_module_version": "1.5.0",
     "model_name": "FloatProgressModel",
     "state": {
      "_dom_classes": [],
      "_model_module": "@jupyter-widgets/controls",
      "_model_module_version": "1.5.0",
      "_model_name": "FloatProgressModel",
      "_view_count": null,
      "_view_module": "@jupyter-widgets/controls",
      "_view_module_version": "1.5.0",
      "_view_name": "ProgressView",
      "bar_style": "success",
      "description": "",
      "description_tooltip": null,
      "layout": "IPY_MODEL_5ceacb3901f94417baaf9cbc16639bfc",
      "max": 11549,
      "min": 0,
      "orientation": "horizontal",
      "style": "IPY_MODEL_711de682c83b4d8686c13cf2f738e475",
      "value": 11549
     }
    },
    "c078b56b5ab448ce9554858a0a7e6656": {
     "model_module": "@jupyter-widgets/controls",
     "model_module_version": "1.5.0",
     "model_name": "HBoxModel",
     "state": {
      "_dom_classes": [],
      "_model_module": "@jupyter-widgets/controls",
      "_model_module_version": "1.5.0",
      "_model_name": "HBoxModel",
      "_view_count": null,
      "_view_module": "@jupyter-widgets/controls",
      "_view_module_version": "1.5.0",
      "_view_name": "HBoxView",
      "box_style": "",
      "children": [
       "IPY_MODEL_8ccc4820b8ec4462baede7b62e60d479",
       "IPY_MODEL_ed8b59216bdd495e95b99ed9074ca7c3",
       "IPY_MODEL_9b157f61bef743a2af83d5f1ec373792"
      ],
      "layout": "IPY_MODEL_cf16c9f701304c678c33dedae6e82309"
     }
    },
    "c221ac96e8eb4c5e95c267e445994893": {
     "model_module": "@jupyter-widgets/controls",
     "model_module_version": "1.5.0",
     "model_name": "HTMLModel",
     "state": {
      "_dom_classes": [],
      "_model_module": "@jupyter-widgets/controls",
      "_model_module_version": "1.5.0",
      "_model_name": "HTMLModel",
      "_view_count": null,
      "_view_module": "@jupyter-widgets/controls",
      "_view_module_version": "1.5.0",
      "_view_name": "HTMLView",
      "description": "",
      "description_tooltip": null,
      "layout": "IPY_MODEL_d4377ad094fd4a60b86ea24ed77cd540",
      "placeholder": "​",
      "style": "IPY_MODEL_9171a74c035349f48c5ba0d69342296e",
      "value": " 6626/6626 [04:09&lt;00:00, 30.58 examples/s]"
     }
    },
    "c2d958871b6c4b5297b8e3c5fd0524c7": {
     "model_module": "@jupyter-widgets/controls",
     "model_module_version": "1.5.0",
     "model_name": "ProgressStyleModel",
     "state": {
      "_model_module": "@jupyter-widgets/controls",
      "_model_module_version": "1.5.0",
      "_model_name": "ProgressStyleModel",
      "_view_count": null,
      "_view_module": "@jupyter-widgets/base",
      "_view_module_version": "1.2.0",
      "_view_name": "StyleView",
      "bar_color": null,
      "description_width": ""
     }
    },
    "c4212ea9e71d472d825c343499da17cf": {
     "model_module": "@jupyter-widgets/base",
     "model_module_version": "1.2.0",
     "model_name": "LayoutModel",
     "state": {
      "_model_module": "@jupyter-widgets/base",
      "_model_module_version": "1.2.0",
      "_model_name": "LayoutModel",
      "_view_count": null,
      "_view_module": "@jupyter-widgets/base",
      "_view_module_version": "1.2.0",
      "_view_name": "LayoutView",
      "align_content": null,
      "align_items": null,
      "align_self": null,
      "border": null,
      "bottom": null,
      "display": null,
      "flex": null,
      "flex_flow": null,
      "grid_area": null,
      "grid_auto_columns": null,
      "grid_auto_flow": null,
      "grid_auto_rows": null,
      "grid_column": null,
      "grid_gap": null,
      "grid_row": null,
      "grid_template_areas": null,
      "grid_template_columns": null,
      "grid_template_rows": null,
      "height": null,
      "justify_content": null,
      "justify_items": null,
      "left": null,
      "margin": null,
      "max_height": null,
      "max_width": null,
      "min_height": null,
      "min_width": null,
      "object_fit": null,
      "object_position": null,
      "order": null,
      "overflow": null,
      "overflow_x": null,
      "overflow_y": null,
      "padding": null,
      "right": null,
      "top": null,
      "visibility": null,
      "width": null
     }
    },
    "c730c64392ea4c9fa46bfafd81d684cf": {
     "model_module": "@jupyter-widgets/controls",
     "model_module_version": "1.5.0",
     "model_name": "DescriptionStyleModel",
     "state": {
      "_model_module": "@jupyter-widgets/controls",
      "_model_module_version": "1.5.0",
      "_model_name": "DescriptionStyleModel",
      "_view_count": null,
      "_view_module": "@jupyter-widgets/base",
      "_view_module_version": "1.2.0",
      "_view_name": "StyleView",
      "description_width": ""
     }
    },
    "c7e705cf3ce1470bb63c89813252f077": {
     "model_module": "@jupyter-widgets/controls",
     "model_module_version": "1.5.0",
     "model_name": "HTMLModel",
     "state": {
      "_dom_classes": [],
      "_model_module": "@jupyter-widgets/controls",
      "_model_module_version": "1.5.0",
      "_model_name": "HTMLModel",
      "_view_count": null,
      "_view_module": "@jupyter-widgets/controls",
      "_view_module_version": "1.5.0",
      "_view_name": "HTMLView",
      "description": "",
      "description_tooltip": null,
      "layout": "IPY_MODEL_e0be1be3d05947999ca59fe8a30f90ca",
      "placeholder": "​",
      "style": "IPY_MODEL_78bac143add94da9a4864ed41edc2146",
      "value": " 2.32G/2.32G [00:21&lt;00:00, 186MB/s]"
     }
    },
    "c835cab9e9c442a795f6ae42463a7624": {
     "model_module": "@jupyter-widgets/controls",
     "model_module_version": "1.5.0",
     "model_name": "ProgressStyleModel",
     "state": {
      "_model_module": "@jupyter-widgets/controls",
      "_model_module_version": "1.5.0",
      "_model_name": "ProgressStyleModel",
      "_view_count": null,
      "_view_module": "@jupyter-widgets/base",
      "_view_module_version": "1.2.0",
      "_view_name": "StyleView",
      "bar_color": null,
      "description_width": ""
     }
    },
    "c86c58c4f4fd48c29ab97ffa0fdbde69": {
     "model_module": "@jupyter-widgets/base",
     "model_module_version": "1.2.0",
     "model_name": "LayoutModel",
     "state": {
      "_model_module": "@jupyter-widgets/base",
      "_model_module_version": "1.2.0",
      "_model_name": "LayoutModel",
      "_view_count": null,
      "_view_module": "@jupyter-widgets/base",
      "_view_module_version": "1.2.0",
      "_view_name": "LayoutView",
      "align_content": null,
      "align_items": null,
      "align_self": null,
      "border": null,
      "bottom": null,
      "display": null,
      "flex": null,
      "flex_flow": null,
      "grid_area": null,
      "grid_auto_columns": null,
      "grid_auto_flow": null,
      "grid_auto_rows": null,
      "grid_column": null,
      "grid_gap": null,
      "grid_row": null,
      "grid_template_areas": null,
      "grid_template_columns": null,
      "grid_template_rows": null,
      "height": null,
      "justify_content": null,
      "justify_items": null,
      "left": null,
      "margin": null,
      "max_height": null,
      "max_width": null,
      "min_height": null,
      "min_width": null,
      "object_fit": null,
      "object_position": null,
      "order": null,
      "overflow": null,
      "overflow_x": null,
      "overflow_y": null,
      "padding": null,
      "right": null,
      "top": null,
      "visibility": null,
      "width": null
     }
    },
    "c8964d8b475a4c5fae84326325ed520d": {
     "model_module": "@jupyter-widgets/controls",
     "model_module_version": "1.5.0",
     "model_name": "ProgressStyleModel",
     "state": {
      "_model_module": "@jupyter-widgets/controls",
      "_model_module_version": "1.5.0",
      "_model_name": "ProgressStyleModel",
      "_view_count": null,
      "_view_module": "@jupyter-widgets/base",
      "_view_module_version": "1.2.0",
      "_view_name": "StyleView",
      "bar_color": null,
      "description_width": ""
     }
    },
    "c932efe0b3d844de97789d18f835ac1c": {
     "model_module": "@jupyter-widgets/controls",
     "model_module_version": "1.5.0",
     "model_name": "FloatProgressModel",
     "state": {
      "_dom_classes": [],
      "_model_module": "@jupyter-widgets/controls",
      "_model_module_version": "1.5.0",
      "_model_name": "FloatProgressModel",
      "_view_count": null,
      "_view_module": "@jupyter-widgets/controls",
      "_view_module_version": "1.5.0",
      "_view_name": "ProgressView",
      "bar_style": "success",
      "description": "",
      "description_tooltip": null,
      "layout": "IPY_MODEL_b1e21d94ca1d495486262bb811b7b45d",
      "max": 4276,
      "min": 0,
      "orientation": "horizontal",
      "style": "IPY_MODEL_d4e9aac53b5542b899419f26e590d596",
      "value": 4276
     }
    },
    "cc0f8804110c4e478e9026ddf658f231": {
     "model_module": "@jupyter-widgets/base",
     "model_module_version": "1.2.0",
     "model_name": "LayoutModel",
     "state": {
      "_model_module": "@jupyter-widgets/base",
      "_model_module_version": "1.2.0",
      "_model_name": "LayoutModel",
      "_view_count": null,
      "_view_module": "@jupyter-widgets/base",
      "_view_module_version": "1.2.0",
      "_view_name": "LayoutView",
      "align_content": null,
      "align_items": null,
      "align_self": null,
      "border": null,
      "bottom": null,
      "display": null,
      "flex": null,
      "flex_flow": null,
      "grid_area": null,
      "grid_auto_columns": null,
      "grid_auto_flow": null,
      "grid_auto_rows": null,
      "grid_column": null,
      "grid_gap": null,
      "grid_row": null,
      "grid_template_areas": null,
      "grid_template_columns": null,
      "grid_template_rows": null,
      "height": null,
      "justify_content": null,
      "justify_items": null,
      "left": null,
      "margin": null,
      "max_height": null,
      "max_width": null,
      "min_height": null,
      "min_width": null,
      "object_fit": null,
      "object_position": null,
      "order": null,
      "overflow": null,
      "overflow_x": null,
      "overflow_y": null,
      "padding": null,
      "right": null,
      "top": null,
      "visibility": null,
      "width": null
     }
    },
    "cd5efd47e24f4d3d973e7fe175b8a0f0": {
     "model_module": "@jupyter-widgets/base",
     "model_module_version": "1.2.0",
     "model_name": "LayoutModel",
     "state": {
      "_model_module": "@jupyter-widgets/base",
      "_model_module_version": "1.2.0",
      "_model_name": "LayoutModel",
      "_view_count": null,
      "_view_module": "@jupyter-widgets/base",
      "_view_module_version": "1.2.0",
      "_view_name": "LayoutView",
      "align_content": null,
      "align_items": null,
      "align_self": null,
      "border": null,
      "bottom": null,
      "display": null,
      "flex": null,
      "flex_flow": null,
      "grid_area": null,
      "grid_auto_columns": null,
      "grid_auto_flow": null,
      "grid_auto_rows": null,
      "grid_column": null,
      "grid_gap": null,
      "grid_row": null,
      "grid_template_areas": null,
      "grid_template_columns": null,
      "grid_template_rows": null,
      "height": null,
      "justify_content": null,
      "justify_items": null,
      "left": null,
      "margin": null,
      "max_height": null,
      "max_width": null,
      "min_height": null,
      "min_width": null,
      "object_fit": null,
      "object_position": null,
      "order": null,
      "overflow": null,
      "overflow_x": null,
      "overflow_y": null,
      "padding": null,
      "right": null,
      "top": null,
      "visibility": null,
      "width": null
     }
    },
    "ceaef89450304e1393a087c3cba9d670": {
     "model_module": "@jupyter-widgets/controls",
     "model_module_version": "1.5.0",
     "model_name": "HTMLModel",
     "state": {
      "_dom_classes": [],
      "_model_module": "@jupyter-widgets/controls",
      "_model_module_version": "1.5.0",
      "_model_name": "HTMLModel",
      "_view_count": null,
      "_view_module": "@jupyter-widgets/controls",
      "_view_module_version": "1.5.0",
      "_view_name": "HTMLView",
      "description": "",
      "description_tooltip": null,
      "layout": "IPY_MODEL_78f7a618d76b411ebabf085d809ae95a",
      "placeholder": "​",
      "style": "IPY_MODEL_24f5c4ed53594222817dcbe7f3fd01e6",
      "value": "Generating train split: "
     }
    },
    "ceedfa91800a484eaef24818d5dfd856": {
     "model_module": "@jupyter-widgets/base",
     "model_module_version": "1.2.0",
     "model_name": "LayoutModel",
     "state": {
      "_model_module": "@jupyter-widgets/base",
      "_model_module_version": "1.2.0",
      "_model_name": "LayoutModel",
      "_view_count": null,
      "_view_module": "@jupyter-widgets/base",
      "_view_module_version": "1.2.0",
      "_view_name": "LayoutView",
      "align_content": null,
      "align_items": null,
      "align_self": null,
      "border": null,
      "bottom": null,
      "display": null,
      "flex": null,
      "flex_flow": null,
      "grid_area": null,
      "grid_auto_columns": null,
      "grid_auto_flow": null,
      "grid_auto_rows": null,
      "grid_column": null,
      "grid_gap": null,
      "grid_row": null,
      "grid_template_areas": null,
      "grid_template_columns": null,
      "grid_template_rows": null,
      "height": null,
      "justify_content": null,
      "justify_items": null,
      "left": null,
      "margin": null,
      "max_height": null,
      "max_width": null,
      "min_height": null,
      "min_width": null,
      "object_fit": null,
      "object_position": null,
      "order": null,
      "overflow": null,
      "overflow_x": null,
      "overflow_y": null,
      "padding": null,
      "right": null,
      "top": null,
      "visibility": null,
      "width": null
     }
    },
    "cf129b88e7754ae0b3d432b09d56afc2": {
     "model_module": "@jupyter-widgets/controls",
     "model_module_version": "1.5.0",
     "model_name": "DescriptionStyleModel",
     "state": {
      "_model_module": "@jupyter-widgets/controls",
      "_model_module_version": "1.5.0",
      "_model_name": "DescriptionStyleModel",
      "_view_count": null,
      "_view_module": "@jupyter-widgets/base",
      "_view_module_version": "1.2.0",
      "_view_name": "StyleView",
      "description_width": ""
     }
    },
    "cf16c9f701304c678c33dedae6e82309": {
     "model_module": "@jupyter-widgets/base",
     "model_module_version": "1.2.0",
     "model_name": "LayoutModel",
     "state": {
      "_model_module": "@jupyter-widgets/base",
      "_model_module_version": "1.2.0",
      "_model_name": "LayoutModel",
      "_view_count": null,
      "_view_module": "@jupyter-widgets/base",
      "_view_module_version": "1.2.0",
      "_view_name": "LayoutView",
      "align_content": null,
      "align_items": null,
      "align_self": null,
      "border": null,
      "bottom": null,
      "display": null,
      "flex": null,
      "flex_flow": null,
      "grid_area": null,
      "grid_auto_columns": null,
      "grid_auto_flow": null,
      "grid_auto_rows": null,
      "grid_column": null,
      "grid_gap": null,
      "grid_row": null,
      "grid_template_areas": null,
      "grid_template_columns": null,
      "grid_template_rows": null,
      "height": null,
      "justify_content": null,
      "justify_items": null,
      "left": null,
      "margin": null,
      "max_height": null,
      "max_width": null,
      "min_height": null,
      "min_width": null,
      "object_fit": null,
      "object_position": null,
      "order": null,
      "overflow": null,
      "overflow_x": null,
      "overflow_y": null,
      "padding": null,
      "right": null,
      "top": null,
      "visibility": null,
      "width": null
     }
    },
    "cf92d58a9dad4979abe697c51ac384b3": {
     "model_module": "@jupyter-widgets/controls",
     "model_module_version": "1.5.0",
     "model_name": "CheckboxModel",
     "state": {
      "_dom_classes": [],
      "_model_module": "@jupyter-widgets/controls",
      "_model_module_version": "1.5.0",
      "_model_name": "CheckboxModel",
      "_view_count": null,
      "_view_module": "@jupyter-widgets/controls",
      "_view_module_version": "1.5.0",
      "_view_name": "CheckboxView",
      "description": "Add token as git credential?",
      "description_tooltip": null,
      "disabled": false,
      "indent": true,
      "layout": "IPY_MODEL_457c7b7119dc40b5b2d0ce16ab427396",
      "style": "IPY_MODEL_36c3ff2db17844be976a109026efb62f",
      "value": true
     }
    },
    "d00e50968ec84b2e9a6d719dd17a26c9": {
     "model_module": "@jupyter-widgets/controls",
     "model_module_version": "1.5.0",
     "model_name": "FloatProgressModel",
     "state": {
      "_dom_classes": [],
      "_model_module": "@jupyter-widgets/controls",
      "_model_module_version": "1.5.0",
      "_model_name": "FloatProgressModel",
      "_view_count": null,
      "_view_module": "@jupyter-widgets/controls",
      "_view_module_version": "1.5.0",
      "_view_name": "ProgressView",
      "bar_style": "success",
      "description": "",
      "description_tooltip": null,
      "layout": "IPY_MODEL_f5c0bec50fd14d7fa805e30ead013630",
      "max": 4276,
      "min": 0,
      "orientation": "horizontal",
      "style": "IPY_MODEL_74f722f559024dc8a347972e69c9d5f3",
      "value": 4276
     }
    },
    "d0c481b7c0524e66bb5c2b258a14c7d6": {
     "model_module": "@jupyter-widgets/base",
     "model_module_version": "1.2.0",
     "model_name": "LayoutModel",
     "state": {
      "_model_module": "@jupyter-widgets/base",
      "_model_module_version": "1.2.0",
      "_model_name": "LayoutModel",
      "_view_count": null,
      "_view_module": "@jupyter-widgets/base",
      "_view_module_version": "1.2.0",
      "_view_name": "LayoutView",
      "align_content": null,
      "align_items": null,
      "align_self": null,
      "border": null,
      "bottom": null,
      "display": null,
      "flex": null,
      "flex_flow": null,
      "grid_area": null,
      "grid_auto_columns": null,
      "grid_auto_flow": null,
      "grid_auto_rows": null,
      "grid_column": null,
      "grid_gap": null,
      "grid_row": null,
      "grid_template_areas": null,
      "grid_template_columns": null,
      "grid_template_rows": null,
      "height": null,
      "justify_content": null,
      "justify_items": null,
      "left": null,
      "margin": null,
      "max_height": null,
      "max_width": null,
      "min_height": null,
      "min_width": null,
      "object_fit": null,
      "object_position": null,
      "order": null,
      "overflow": null,
      "overflow_x": null,
      "overflow_y": null,
      "padding": null,
      "right": null,
      "top": null,
      "visibility": null,
      "width": null
     }
    },
    "d16c6c50f0cb490a92f9a81bfd1354fa": {
     "model_module": "@jupyter-widgets/controls",
     "model_module_version": "1.5.0",
     "model_name": "FloatProgressModel",
     "state": {
      "_dom_classes": [],
      "_model_module": "@jupyter-widgets/controls",
      "_model_module_version": "1.5.0",
      "_model_name": "FloatProgressModel",
      "_view_count": null,
      "_view_module": "@jupyter-widgets/controls",
      "_view_module_version": "1.5.0",
      "_view_name": "ProgressView",
      "bar_style": "success",
      "description": "",
      "description_tooltip": null,
      "layout": "IPY_MODEL_88d61c2794be4a99bde23143b19f66c6",
      "max": 1,
      "min": 0,
      "orientation": "horizontal",
      "style": "IPY_MODEL_af9886a02a7d4eeb8d4899c64e1c1379",
      "value": 1
     }
    },
    "d4377ad094fd4a60b86ea24ed77cd540": {
     "model_module": "@jupyter-widgets/base",
     "model_module_version": "1.2.0",
     "model_name": "LayoutModel",
     "state": {
      "_model_module": "@jupyter-widgets/base",
      "_model_module_version": "1.2.0",
      "_model_name": "LayoutModel",
      "_view_count": null,
      "_view_module": "@jupyter-widgets/base",
      "_view_module_version": "1.2.0",
      "_view_name": "LayoutView",
      "align_content": null,
      "align_items": null,
      "align_self": null,
      "border": null,
      "bottom": null,
      "display": null,
      "flex": null,
      "flex_flow": null,
      "grid_area": null,
      "grid_auto_columns": null,
      "grid_auto_flow": null,
      "grid_auto_rows": null,
      "grid_column": null,
      "grid_gap": null,
      "grid_row": null,
      "grid_template_areas": null,
      "grid_template_columns": null,
      "grid_template_rows": null,
      "height": null,
      "justify_content": null,
      "justify_items": null,
      "left": null,
      "margin": null,
      "max_height": null,
      "max_width": null,
      "min_height": null,
      "min_width": null,
      "object_fit": null,
      "object_position": null,
      "order": null,
      "overflow": null,
      "overflow_x": null,
      "overflow_y": null,
      "padding": null,
      "right": null,
      "top": null,
      "visibility": null,
      "width": null
     }
    },
    "d4e9aac53b5542b899419f26e590d596": {
     "model_module": "@jupyter-widgets/controls",
     "model_module_version": "1.5.0",
     "model_name": "ProgressStyleModel",
     "state": {
      "_model_module": "@jupyter-widgets/controls",
      "_model_module_version": "1.5.0",
      "_model_name": "ProgressStyleModel",
      "_view_count": null,
      "_view_module": "@jupyter-widgets/base",
      "_view_module_version": "1.2.0",
      "_view_name": "StyleView",
      "bar_color": null,
      "description_width": ""
     }
    },
    "d531bfa47b454b57b1ea84c6b9cb51f9": {
     "model_module": "@jupyter-widgets/controls",
     "model_module_version": "1.5.0",
     "model_name": "HBoxModel",
     "state": {
      "_dom_classes": [],
      "_model_module": "@jupyter-widgets/controls",
      "_model_module_version": "1.5.0",
      "_model_name": "HBoxModel",
      "_view_count": null,
      "_view_module": "@jupyter-widgets/controls",
      "_view_module_version": "1.5.0",
      "_view_name": "HBoxView",
      "box_style": "",
      "children": [
       "IPY_MODEL_34e0d0057a8949bb9e6d7e1333a56210",
       "IPY_MODEL_64bdc9e80e034e93bc380fc2a364fbf6",
       "IPY_MODEL_8cb374e440194c24b630c9c901b1246c"
      ],
      "layout": "IPY_MODEL_fe4e5fd7c74c4e0ebab2b78fb25e931e"
     }
    },
    "d6aaedf9f76747a391177409c34ebbcf": {
     "model_module": "@jupyter-widgets/base",
     "model_module_version": "1.2.0",
     "model_name": "LayoutModel",
     "state": {
      "_model_module": "@jupyter-widgets/base",
      "_model_module_version": "1.2.0",
      "_model_name": "LayoutModel",
      "_view_count": null,
      "_view_module": "@jupyter-widgets/base",
      "_view_module_version": "1.2.0",
      "_view_name": "LayoutView",
      "align_content": null,
      "align_items": null,
      "align_self": null,
      "border": null,
      "bottom": null,
      "display": null,
      "flex": null,
      "flex_flow": null,
      "grid_area": null,
      "grid_auto_columns": null,
      "grid_auto_flow": null,
      "grid_auto_rows": null,
      "grid_column": null,
      "grid_gap": null,
      "grid_row": null,
      "grid_template_areas": null,
      "grid_template_columns": null,
      "grid_template_rows": null,
      "height": null,
      "justify_content": null,
      "justify_items": null,
      "left": null,
      "margin": null,
      "max_height": null,
      "max_width": null,
      "min_height": null,
      "min_width": null,
      "object_fit": null,
      "object_position": null,
      "order": null,
      "overflow": null,
      "overflow_x": null,
      "overflow_y": null,
      "padding": null,
      "right": null,
      "top": null,
      "visibility": null,
      "width": null
     }
    },
    "d72bb5c8b91542d89cdc554359e20e01": {
     "model_module": "@jupyter-widgets/controls",
     "model_module_version": "1.5.0",
     "model_name": "HTMLModel",
     "state": {
      "_dom_classes": [],
      "_model_module": "@jupyter-widgets/controls",
      "_model_module_version": "1.5.0",
      "_model_name": "HTMLModel",
      "_view_count": null,
      "_view_module": "@jupyter-widgets/controls",
      "_view_module_version": "1.5.0",
      "_view_name": "HTMLView",
      "description": "",
      "description_tooltip": null,
      "layout": "IPY_MODEL_fb90d172157f489e960d8adb0040a2e9",
      "placeholder": "​",
      "style": "IPY_MODEL_a3aed732d0b647c1a8b898272bd70483",
      "value": "model.safetensors: 100%"
     }
    },
    "d7574e77e51645688c0bfd6313d5df63": {
     "model_module": "@jupyter-widgets/base",
     "model_module_version": "1.2.0",
     "model_name": "LayoutModel",
     "state": {
      "_model_module": "@jupyter-widgets/base",
      "_model_module_version": "1.2.0",
      "_model_name": "LayoutModel",
      "_view_count": null,
      "_view_module": "@jupyter-widgets/base",
      "_view_module_version": "1.2.0",
      "_view_name": "LayoutView",
      "align_content": null,
      "align_items": null,
      "align_self": null,
      "border": null,
      "bottom": null,
      "display": null,
      "flex": null,
      "flex_flow": null,
      "grid_area": null,
      "grid_auto_columns": null,
      "grid_auto_flow": null,
      "grid_auto_rows": null,
      "grid_column": null,
      "grid_gap": null,
      "grid_row": null,
      "grid_template_areas": null,
      "grid_template_columns": null,
      "grid_template_rows": null,
      "height": null,
      "justify_content": null,
      "justify_items": null,
      "left": null,
      "margin": null,
      "max_height": null,
      "max_width": null,
      "min_height": null,
      "min_width": null,
      "object_fit": null,
      "object_position": null,
      "order": null,
      "overflow": null,
      "overflow_x": null,
      "overflow_y": null,
      "padding": null,
      "right": null,
      "top": null,
      "visibility": null,
      "width": null
     }
    },
    "d76a0659510d4927931f86384cefa7df": {
     "model_module": "@jupyter-widgets/base",
     "model_module_version": "1.2.0",
     "model_name": "LayoutModel",
     "state": {
      "_model_module": "@jupyter-widgets/base",
      "_model_module_version": "1.2.0",
      "_model_name": "LayoutModel",
      "_view_count": null,
      "_view_module": "@jupyter-widgets/base",
      "_view_module_version": "1.2.0",
      "_view_name": "LayoutView",
      "align_content": null,
      "align_items": null,
      "align_self": null,
      "border": null,
      "bottom": null,
      "display": null,
      "flex": null,
      "flex_flow": null,
      "grid_area": null,
      "grid_auto_columns": null,
      "grid_auto_flow": null,
      "grid_auto_rows": null,
      "grid_column": null,
      "grid_gap": null,
      "grid_row": null,
      "grid_template_areas": null,
      "grid_template_columns": null,
      "grid_template_rows": null,
      "height": null,
      "justify_content": null,
      "justify_items": null,
      "left": null,
      "margin": null,
      "max_height": null,
      "max_width": null,
      "min_height": null,
      "min_width": null,
      "object_fit": null,
      "object_position": null,
      "order": null,
      "overflow": null,
      "overflow_x": null,
      "overflow_y": null,
      "padding": null,
      "right": null,
      "top": null,
      "visibility": null,
      "width": null
     }
    },
    "d81d0a54ee584530bc16b57717812a3e": {
     "model_module": "@jupyter-widgets/controls",
     "model_module_version": "1.5.0",
     "model_name": "HTMLModel",
     "state": {
      "_dom_classes": [],
      "_model_module": "@jupyter-widgets/controls",
      "_model_module_version": "1.5.0",
      "_model_name": "HTMLModel",
      "_view_count": null,
      "_view_module": "@jupyter-widgets/controls",
      "_view_module_version": "1.5.0",
      "_view_name": "HTMLView",
      "description": "",
      "description_tooltip": null,
      "layout": "IPY_MODEL_fd6e8d248e14464987762c4b8a04833f",
      "placeholder": "​",
      "style": "IPY_MODEL_6c62192e0e9f4c188d7cf4c086b79a4f",
      "value": " 4276/4276 [02:50&lt;00:00, 26.49 examples/s]"
     }
    },
    "daaf83aa097e4b888ffee112d26a2fb8": {
     "model_module": "@jupyter-widgets/controls",
     "model_module_version": "1.5.0",
     "model_name": "DescriptionStyleModel",
     "state": {
      "_model_module": "@jupyter-widgets/controls",
      "_model_module_version": "1.5.0",
      "_model_name": "DescriptionStyleModel",
      "_view_count": null,
      "_view_module": "@jupyter-widgets/base",
      "_view_module_version": "1.2.0",
      "_view_name": "StyleView",
      "description_width": ""
     }
    },
    "dbdf1449f4a54401b9227e0da83ba153": {
     "model_module": "@jupyter-widgets/controls",
     "model_module_version": "1.5.0",
     "model_name": "HTMLModel",
     "state": {
      "_dom_classes": [],
      "_model_module": "@jupyter-widgets/controls",
      "_model_module_version": "1.5.0",
      "_model_name": "HTMLModel",
      "_view_count": null,
      "_view_module": "@jupyter-widgets/controls",
      "_view_module_version": "1.5.0",
      "_view_name": "HTMLView",
      "description": "",
      "description_tooltip": null,
      "layout": "IPY_MODEL_e0c1792b70f14f63b5aeb2b7c892d552",
      "placeholder": "​",
      "style": "IPY_MODEL_91303af16b13431b871a8f402c01670f",
      "value": "Generating other split: "
     }
    },
    "dc96412083fe4c198d161d404d5f01a1": {
     "model_module": "@jupyter-widgets/base",
     "model_module_version": "1.2.0",
     "model_name": "LayoutModel",
     "state": {
      "_model_module": "@jupyter-widgets/base",
      "_model_module_version": "1.2.0",
      "_model_name": "LayoutModel",
      "_view_count": null,
      "_view_module": "@jupyter-widgets/base",
      "_view_module_version": "1.2.0",
      "_view_name": "LayoutView",
      "align_content": null,
      "align_items": null,
      "align_self": null,
      "border": null,
      "bottom": null,
      "display": null,
      "flex": null,
      "flex_flow": null,
      "grid_area": null,
      "grid_auto_columns": null,
      "grid_auto_flow": null,
      "grid_auto_rows": null,
      "grid_column": null,
      "grid_gap": null,
      "grid_row": null,
      "grid_template_areas": null,
      "grid_template_columns": null,
      "grid_template_rows": null,
      "height": null,
      "justify_content": null,
      "justify_items": null,
      "left": null,
      "margin": null,
      "max_height": null,
      "max_width": null,
      "min_height": null,
      "min_width": null,
      "object_fit": null,
      "object_position": null,
      "order": null,
      "overflow": null,
      "overflow_x": null,
      "overflow_y": null,
      "padding": null,
      "right": null,
      "top": null,
      "visibility": null,
      "width": null
     }
    },
    "dcd21a5468674ea8af9cb955a4ac21db": {
     "model_module": "@jupyter-widgets/base",
     "model_module_version": "1.2.0",
     "model_name": "LayoutModel",
     "state": {
      "_model_module": "@jupyter-widgets/base",
      "_model_module_version": "1.2.0",
      "_model_name": "LayoutModel",
      "_view_count": null,
      "_view_module": "@jupyter-widgets/base",
      "_view_module_version": "1.2.0",
      "_view_name": "LayoutView",
      "align_content": null,
      "align_items": null,
      "align_self": null,
      "border": null,
      "bottom": null,
      "display": null,
      "flex": null,
      "flex_flow": null,
      "grid_area": null,
      "grid_auto_columns": null,
      "grid_auto_flow": null,
      "grid_auto_rows": null,
      "grid_column": null,
      "grid_gap": null,
      "grid_row": null,
      "grid_template_areas": null,
      "grid_template_columns": null,
      "grid_template_rows": null,
      "height": null,
      "justify_content": null,
      "justify_items": null,
      "left": null,
      "margin": null,
      "max_height": null,
      "max_width": null,
      "min_height": null,
      "min_width": null,
      "object_fit": null,
      "object_position": null,
      "order": null,
      "overflow": null,
      "overflow_x": null,
      "overflow_y": null,
      "padding": null,
      "right": null,
      "top": null,
      "visibility": null,
      "width": null
     }
    },
    "dff35a20b3f946b28990f38238e73068": {
     "model_module": "@jupyter-widgets/controls",
     "model_module_version": "1.5.0",
     "model_name": "FloatProgressModel",
     "state": {
      "_dom_classes": [],
      "_model_module": "@jupyter-widgets/controls",
      "_model_module_version": "1.5.0",
      "_model_name": "FloatProgressModel",
      "_view_count": null,
      "_view_module": "@jupyter-widgets/controls",
      "_view_module_version": "1.5.0",
      "_view_name": "ProgressView",
      "bar_style": "success",
      "description": "",
      "description_tooltip": null,
      "layout": "IPY_MODEL_6531904117ec4ac48cf5392467179dfe",
      "max": 4276,
      "min": 0,
      "orientation": "horizontal",
      "style": "IPY_MODEL_76bb2483357d4ebeadd4db6a063fba54",
      "value": 4276
     }
    },
    "e0be1be3d05947999ca59fe8a30f90ca": {
     "model_module": "@jupyter-widgets/base",
     "model_module_version": "1.2.0",
     "model_name": "LayoutModel",
     "state": {
      "_model_module": "@jupyter-widgets/base",
      "_model_module_version": "1.2.0",
      "_model_name": "LayoutModel",
      "_view_count": null,
      "_view_module": "@jupyter-widgets/base",
      "_view_module_version": "1.2.0",
      "_view_name": "LayoutView",
      "align_content": null,
      "align_items": null,
      "align_self": null,
      "border": null,
      "bottom": null,
      "display": null,
      "flex": null,
      "flex_flow": null,
      "grid_area": null,
      "grid_auto_columns": null,
      "grid_auto_flow": null,
      "grid_auto_rows": null,
      "grid_column": null,
      "grid_gap": null,
      "grid_row": null,
      "grid_template_areas": null,
      "grid_template_columns": null,
      "grid_template_rows": null,
      "height": null,
      "justify_content": null,
      "justify_items": null,
      "left": null,
      "margin": null,
      "max_height": null,
      "max_width": null,
      "min_height": null,
      "min_width": null,
      "object_fit": null,
      "object_position": null,
      "order": null,
      "overflow": null,
      "overflow_x": null,
      "overflow_y": null,
      "padding": null,
      "right": null,
      "top": null,
      "visibility": null,
      "width": null
     }
    },
    "e0c1792b70f14f63b5aeb2b7c892d552": {
     "model_module": "@jupyter-widgets/base",
     "model_module_version": "1.2.0",
     "model_name": "LayoutModel",
     "state": {
      "_model_module": "@jupyter-widgets/base",
      "_model_module_version": "1.2.0",
      "_model_name": "LayoutModel",
      "_view_count": null,
      "_view_module": "@jupyter-widgets/base",
      "_view_module_version": "1.2.0",
      "_view_name": "LayoutView",
      "align_content": null,
      "align_items": null,
      "align_self": null,
      "border": null,
      "bottom": null,
      "display": null,
      "flex": null,
      "flex_flow": null,
      "grid_area": null,
      "grid_auto_columns": null,
      "grid_auto_flow": null,
      "grid_auto_rows": null,
      "grid_column": null,
      "grid_gap": null,
      "grid_row": null,
      "grid_template_areas": null,
      "grid_template_columns": null,
      "grid_template_rows": null,
      "height": null,
      "justify_content": null,
      "justify_items": null,
      "left": null,
      "margin": null,
      "max_height": null,
      "max_width": null,
      "min_height": null,
      "min_width": null,
      "object_fit": null,
      "object_position": null,
      "order": null,
      "overflow": null,
      "overflow_x": null,
      "overflow_y": null,
      "padding": null,
      "right": null,
      "top": null,
      "visibility": null,
      "width": null
     }
    },
    "e0ce7a9456274644ace65492f3c67ec6": {
     "model_module": "@jupyter-widgets/controls",
     "model_module_version": "1.5.0",
     "model_name": "HTMLModel",
     "state": {
      "_dom_classes": [],
      "_model_module": "@jupyter-widgets/controls",
      "_model_module_version": "1.5.0",
      "_model_name": "HTMLModel",
      "_view_count": null,
      "_view_module": "@jupyter-widgets/controls",
      "_view_module_version": "1.5.0",
      "_view_name": "HTMLView",
      "description": "",
      "description_tooltip": null,
      "layout": "IPY_MODEL_d0c481b7c0524e66bb5c2b258a14c7d6",
      "placeholder": "​",
      "style": "IPY_MODEL_ae2a92cb398d4f7ab29918af5a22ca5d",
      "value": "Map: 100%"
     }
    },
    "e0f442d5f7734ca8b5446b7d79ab9c1d": {
     "model_module": "@jupyter-widgets/controls",
     "model_module_version": "1.5.0",
     "model_name": "HBoxModel",
     "state": {
      "_dom_classes": [],
      "_model_module": "@jupyter-widgets/controls",
      "_model_module_version": "1.5.0",
      "_model_name": "HBoxModel",
      "_view_count": null,
      "_view_module": "@jupyter-widgets/controls",
      "_view_module_version": "1.5.0",
      "_view_name": "HBoxView",
      "box_style": "",
      "children": [
       "IPY_MODEL_7fc9a659ffd641759ad915bcf9419896",
       "IPY_MODEL_d16c6c50f0cb490a92f9a81bfd1354fa",
       "IPY_MODEL_e678cefb4d4147578c84275f62cb6c0c"
      ],
      "layout": "IPY_MODEL_c86c58c4f4fd48c29ab97ffa0fdbde69"
     }
    },
    "e4ab7a8b593e4a3c82309fa86db0915e": {
     "model_module": "@jupyter-widgets/base",
     "model_module_version": "1.2.0",
     "model_name": "LayoutModel",
     "state": {
      "_model_module": "@jupyter-widgets/base",
      "_model_module_version": "1.2.0",
      "_model_name": "LayoutModel",
      "_view_count": null,
      "_view_module": "@jupyter-widgets/base",
      "_view_module_version": "1.2.0",
      "_view_name": "LayoutView",
      "align_content": null,
      "align_items": null,
      "align_self": null,
      "border": null,
      "bottom": null,
      "display": null,
      "flex": null,
      "flex_flow": null,
      "grid_area": null,
      "grid_auto_columns": null,
      "grid_auto_flow": null,
      "grid_auto_rows": null,
      "grid_column": null,
      "grid_gap": null,
      "grid_row": null,
      "grid_template_areas": null,
      "grid_template_columns": null,
      "grid_template_rows": null,
      "height": null,
      "justify_content": null,
      "justify_items": null,
      "left": null,
      "margin": null,
      "max_height": null,
      "max_width": null,
      "min_height": null,
      "min_width": null,
      "object_fit": null,
      "object_position": null,
      "order": null,
      "overflow": null,
      "overflow_x": null,
      "overflow_y": null,
      "padding": null,
      "right": null,
      "top": null,
      "visibility": null,
      "width": null
     }
    },
    "e512c9f3c5eb49849bd17c7c852e8843": {
     "model_module": "@jupyter-widgets/controls",
     "model_module_version": "1.5.0",
     "model_name": "HTMLModel",
     "state": {
      "_dom_classes": [],
      "_model_module": "@jupyter-widgets/controls",
      "_model_module_version": "1.5.0",
      "_model_name": "HTMLModel",
      "_view_count": null,
      "_view_module": "@jupyter-widgets/controls",
      "_view_module_version": "1.5.0",
      "_view_name": "HTMLView",
      "description": "",
      "description_tooltip": null,
      "layout": "IPY_MODEL_ceedfa91800a484eaef24818d5dfd856",
      "placeholder": "​",
      "style": "IPY_MODEL_4538b7a279d0469bbd21abc7bac27312",
      "value": " 4276/0 [00:13&lt;00:00, 624.35 examples/s]"
     }
    },
    "e58cf6a132784de880dc566de6924a70": {
     "model_module": "@jupyter-widgets/base",
     "model_module_version": "1.2.0",
     "model_name": "LayoutModel",
     "state": {
      "_model_module": "@jupyter-widgets/base",
      "_model_module_version": "1.2.0",
      "_model_name": "LayoutModel",
      "_view_count": null,
      "_view_module": "@jupyter-widgets/base",
      "_view_module_version": "1.2.0",
      "_view_name": "LayoutView",
      "align_content": null,
      "align_items": null,
      "align_self": null,
      "border": null,
      "bottom": null,
      "display": null,
      "flex": null,
      "flex_flow": null,
      "grid_area": null,
      "grid_auto_columns": null,
      "grid_auto_flow": null,
      "grid_auto_rows": null,
      "grid_column": null,
      "grid_gap": null,
      "grid_row": null,
      "grid_template_areas": null,
      "grid_template_columns": null,
      "grid_template_rows": null,
      "height": null,
      "justify_content": null,
      "justify_items": null,
      "left": null,
      "margin": null,
      "max_height": null,
      "max_width": null,
      "min_height": null,
      "min_width": null,
      "object_fit": null,
      "object_position": null,
      "order": null,
      "overflow": null,
      "overflow_x": null,
      "overflow_y": null,
      "padding": null,
      "right": null,
      "top": null,
      "visibility": null,
      "width": null
     }
    },
    "e59e59ea63a34aa4a966260863621be2": {
     "model_module": "@jupyter-widgets/controls",
     "model_module_version": "1.5.0",
     "model_name": "HBoxModel",
     "state": {
      "_dom_classes": [],
      "_model_module": "@jupyter-widgets/controls",
      "_model_module_version": "1.5.0",
      "_model_name": "HBoxModel",
      "_view_count": null,
      "_view_module": "@jupyter-widgets/controls",
      "_view_module_version": "1.5.0",
      "_view_name": "HBoxView",
      "box_style": "",
      "children": [
       "IPY_MODEL_dbdf1449f4a54401b9227e0da83ba153",
       "IPY_MODEL_ed7394d51b684974a9b4e28ceca73c72",
       "IPY_MODEL_4f0a93c3bc6f4b4ea4356f02a406f3e4"
      ],
      "layout": "IPY_MODEL_28cb7bdf0c10479496d34f14cd58f68d"
     }
    },
    "e6166fe6d6ee4794a93f24242620c6c3": {
     "model_module": "@jupyter-widgets/controls",
     "model_module_version": "1.5.0",
     "model_name": "DescriptionStyleModel",
     "state": {
      "_model_module": "@jupyter-widgets/controls",
      "_model_module_version": "1.5.0",
      "_model_name": "DescriptionStyleModel",
      "_view_count": null,
      "_view_module": "@jupyter-widgets/base",
      "_view_module_version": "1.2.0",
      "_view_name": "StyleView",
      "description_width": ""
     }
    },
    "e678cefb4d4147578c84275f62cb6c0c": {
     "model_module": "@jupyter-widgets/controls",
     "model_module_version": "1.5.0",
     "model_name": "HTMLModel",
     "state": {
      "_dom_classes": [],
      "_model_module": "@jupyter-widgets/controls",
      "_model_module_version": "1.5.0",
      "_model_name": "HTMLModel",
      "_view_count": null,
      "_view_module": "@jupyter-widgets/controls",
      "_view_module_version": "1.5.0",
      "_view_name": "HTMLView",
      "description": "",
      "description_tooltip": null,
      "layout": "IPY_MODEL_71b2a9bc97c64fef81f29941ff990c9e",
      "placeholder": "​",
      "style": "IPY_MODEL_9bc12c5fdabe46caa672b4086f53efe9",
      "value": " 2195/0 [00:12&lt;00:00, 120.74 examples/s]"
     }
    },
    "e701fc5aa6014b8cb43ebfe6368253b2": {
     "model_module": "@jupyter-widgets/controls",
     "model_module_version": "1.5.0",
     "model_name": "HBoxModel",
     "state": {
      "_dom_classes": [],
      "_model_module": "@jupyter-widgets/controls",
      "_model_module_version": "1.5.0",
      "_model_name": "HBoxModel",
      "_view_count": null,
      "_view_module": "@jupyter-widgets/controls",
      "_view_module_version": "1.5.0",
      "_view_name": "HBoxView",
      "box_style": "",
      "children": [
       "IPY_MODEL_e0ce7a9456274644ace65492f3c67ec6",
       "IPY_MODEL_6f933e3dcb7a4627b9510321bbede244",
       "IPY_MODEL_3ba8b99a23eb4c43ad761124ae0df35a"
      ],
      "layout": "IPY_MODEL_7382c494368d48dc97aacc111ea9c596"
     }
    },
    "e7179ecf68944957b47ebd396b71f84c": {
     "model_module": "@jupyter-widgets/controls",
     "model_module_version": "1.5.0",
     "model_name": "HTMLModel",
     "state": {
      "_dom_classes": [],
      "_model_module": "@jupyter-widgets/controls",
      "_model_module_version": "1.5.0",
      "_model_name": "HTMLModel",
      "_view_count": null,
      "_view_module": "@jupyter-widgets/controls",
      "_view_module_version": "1.5.0",
      "_view_name": "HTMLView",
      "description": "",
      "description_tooltip": null,
      "layout": "IPY_MODEL_cc0f8804110c4e478e9026ddf658f231",
      "placeholder": "​",
      "style": "IPY_MODEL_ef81b16d906c4706bfec9c52c1ba7a31",
      "value": "Downloading extra modules: 100%"
     }
    },
    "e8c7eca4565b44d9ae12f070d7aeeff3": {
     "model_module": "@jupyter-widgets/controls",
     "model_module_version": "1.5.0",
     "model_name": "DescriptionStyleModel",
     "state": {
      "_model_module": "@jupyter-widgets/controls",
      "_model_module_version": "1.5.0",
      "_model_name": "DescriptionStyleModel",
      "_view_count": null,
      "_view_module": "@jupyter-widgets/base",
      "_view_module_version": "1.2.0",
      "_view_name": "StyleView",
      "description_width": ""
     }
    },
    "ec5f83428b884a439587e08b9dd0f851": {
     "model_module": "@jupyter-widgets/controls",
     "model_module_version": "1.5.0",
     "model_name": "HTMLModel",
     "state": {
      "_dom_classes": [],
      "_model_module": "@jupyter-widgets/controls",
      "_model_module_version": "1.5.0",
      "_model_name": "HTMLModel",
      "_view_count": null,
      "_view_module": "@jupyter-widgets/controls",
      "_view_module_version": "1.5.0",
      "_view_name": "HTMLView",
      "description": "",
      "description_tooltip": null,
      "layout": "IPY_MODEL_7aa34f76690e4798a83cb177ec65f520",
      "placeholder": "​",
      "style": "IPY_MODEL_fb89fb69c688420097d40c6bbdb2ab72",
      "value": "Map: 100%"
     }
    },
    "ece083f606204785bf3806000a0f26ae": {
     "model_module": "@jupyter-widgets/controls",
     "model_module_version": "1.5.0",
     "model_name": "DescriptionStyleModel",
     "state": {
      "_model_module": "@jupyter-widgets/controls",
      "_model_module_version": "1.5.0",
      "_model_name": "DescriptionStyleModel",
      "_view_count": null,
      "_view_module": "@jupyter-widgets/base",
      "_view_module_version": "1.2.0",
      "_view_name": "StyleView",
      "description_width": ""
     }
    },
    "ed7394d51b684974a9b4e28ceca73c72": {
     "model_module": "@jupyter-widgets/controls",
     "model_module_version": "1.5.0",
     "model_name": "FloatProgressModel",
     "state": {
      "_dom_classes": [],
      "_model_module": "@jupyter-widgets/controls",
      "_model_module_version": "1.5.0",
      "_model_name": "FloatProgressModel",
      "_view_count": null,
      "_view_module": "@jupyter-widgets/controls",
      "_view_module_version": "1.5.0",
      "_view_name": "ProgressView",
      "bar_style": "success",
      "description": "",
      "description_tooltip": null,
      "layout": "IPY_MODEL_9249815c7e274ae19e4411b82cbe8622",
      "max": 1,
      "min": 0,
      "orientation": "horizontal",
      "style": "IPY_MODEL_76dad6452fcf44f4abb4425d0c84ea84",
      "value": 1
     }
    },
    "ed8b59216bdd495e95b99ed9074ca7c3": {
     "model_module": "@jupyter-widgets/controls",
     "model_module_version": "1.5.0",
     "model_name": "FloatProgressModel",
     "state": {
      "_dom_classes": [],
      "_model_module": "@jupyter-widgets/controls",
      "_model_module_version": "1.5.0",
      "_model_name": "FloatProgressModel",
      "_view_count": null,
      "_view_module": "@jupyter-widgets/controls",
      "_view_module_version": "1.5.0",
      "_view_name": "ProgressView",
      "bar_style": "success",
      "description": "",
      "description_tooltip": null,
      "layout": "IPY_MODEL_62ae5e3dd2ab4ef5b395aaf52f432d2a",
      "max": 5178,
      "min": 0,
      "orientation": "horizontal",
      "style": "IPY_MODEL_c8964d8b475a4c5fae84326325ed520d",
      "value": 5178
     }
    },
    "ee15fa01f96f407f823e3a6992834f62": {
     "model_module": "@jupyter-widgets/base",
     "model_module_version": "1.2.0",
     "model_name": "LayoutModel",
     "state": {
      "_model_module": "@jupyter-widgets/base",
      "_model_module_version": "1.2.0",
      "_model_name": "LayoutModel",
      "_view_count": null,
      "_view_module": "@jupyter-widgets/base",
      "_view_module_version": "1.2.0",
      "_view_name": "LayoutView",
      "align_content": null,
      "align_items": null,
      "align_self": null,
      "border": null,
      "bottom": null,
      "display": null,
      "flex": null,
      "flex_flow": null,
      "grid_area": null,
      "grid_auto_columns": null,
      "grid_auto_flow": null,
      "grid_auto_rows": null,
      "grid_column": null,
      "grid_gap": null,
      "grid_row": null,
      "grid_template_areas": null,
      "grid_template_columns": null,
      "grid_template_rows": null,
      "height": null,
      "justify_content": null,
      "justify_items": null,
      "left": null,
      "margin": null,
      "max_height": null,
      "max_width": null,
      "min_height": null,
      "min_width": null,
      "object_fit": null,
      "object_position": null,
      "order": null,
      "overflow": null,
      "overflow_x": null,
      "overflow_y": null,
      "padding": null,
      "right": null,
      "top": null,
      "visibility": null,
      "width": null
     }
    },
    "ee3fddc2c0e14d8aab5b941d45c40de2": {
     "model_module": "@jupyter-widgets/base",
     "model_module_version": "1.2.0",
     "model_name": "LayoutModel",
     "state": {
      "_model_module": "@jupyter-widgets/base",
      "_model_module_version": "1.2.0",
      "_model_name": "LayoutModel",
      "_view_count": null,
      "_view_module": "@jupyter-widgets/base",
      "_view_module_version": "1.2.0",
      "_view_name": "LayoutView",
      "align_content": null,
      "align_items": "center",
      "align_self": null,
      "border": null,
      "bottom": null,
      "display": "flex",
      "flex": null,
      "flex_flow": "column",
      "grid_area": null,
      "grid_auto_columns": null,
      "grid_auto_flow": null,
      "grid_auto_rows": null,
      "grid_column": null,
      "grid_gap": null,
      "grid_row": null,
      "grid_template_areas": null,
      "grid_template_columns": null,
      "grid_template_rows": null,
      "height": null,
      "justify_content": null,
      "justify_items": null,
      "left": null,
      "margin": null,
      "max_height": null,
      "max_width": null,
      "min_height": null,
      "min_width": null,
      "object_fit": null,
      "object_position": null,
      "order": null,
      "overflow": null,
      "overflow_x": null,
      "overflow_y": null,
      "padding": null,
      "right": null,
      "top": null,
      "visibility": null,
      "width": "50%"
     }
    },
    "ef77aa4bf4d9476bb17056ee44f7f33a": {
     "model_module": "@jupyter-widgets/controls",
     "model_module_version": "1.5.0",
     "model_name": "FloatProgressModel",
     "state": {
      "_dom_classes": [],
      "_model_module": "@jupyter-widgets/controls",
      "_model_module_version": "1.5.0",
      "_model_name": "FloatProgressModel",
      "_view_count": null,
      "_view_module": "@jupyter-widgets/controls",
      "_view_module_version": "1.5.0",
      "_view_name": "ProgressView",
      "bar_style": "success",
      "description": "",
      "description_tooltip": null,
      "layout": "IPY_MODEL_54618323821443f09aef28c891e6fb79",
      "max": 1,
      "min": 0,
      "orientation": "horizontal",
      "style": "IPY_MODEL_957445d05d7441349fe9c1c561ccafdd",
      "value": 1
     }
    },
    "ef81b16d906c4706bfec9c52c1ba7a31": {
     "model_module": "@jupyter-widgets/controls",
     "model_module_version": "1.5.0",
     "model_name": "DescriptionStyleModel",
     "state": {
      "_model_module": "@jupyter-widgets/controls",
      "_model_module_version": "1.5.0",
      "_model_name": "DescriptionStyleModel",
      "_view_count": null,
      "_view_module": "@jupyter-widgets/base",
      "_view_module_version": "1.2.0",
      "_view_name": "StyleView",
      "description_width": ""
     }
    },
    "f08133197275429b9a3deda3c90831f2": {
     "model_module": "@jupyter-widgets/controls",
     "model_module_version": "1.5.0",
     "model_name": "FloatProgressModel",
     "state": {
      "_dom_classes": [],
      "_model_module": "@jupyter-widgets/controls",
      "_model_module_version": "1.5.0",
      "_model_name": "FloatProgressModel",
      "_view_count": null,
      "_view_module": "@jupyter-widgets/controls",
      "_view_module_version": "1.5.0",
      "_view_name": "ProgressView",
      "bar_style": "success",
      "description": "",
      "description_tooltip": null,
      "layout": "IPY_MODEL_e4ab7a8b593e4a3c82309fa86db0915e",
      "max": 1900,
      "min": 0,
      "orientation": "horizontal",
      "style": "IPY_MODEL_70e63ec41143478e9584f344e51b03e7",
      "value": 1900
     }
    },
    "f1180cfe2644462bbf38ac4e5f81dee8": {
     "model_module": "@jupyter-widgets/base",
     "model_module_version": "1.2.0",
     "model_name": "LayoutModel",
     "state": {
      "_model_module": "@jupyter-widgets/base",
      "_model_module_version": "1.2.0",
      "_model_name": "LayoutModel",
      "_view_count": null,
      "_view_module": "@jupyter-widgets/base",
      "_view_module_version": "1.2.0",
      "_view_name": "LayoutView",
      "align_content": null,
      "align_items": null,
      "align_self": null,
      "border": null,
      "bottom": null,
      "display": null,
      "flex": null,
      "flex_flow": null,
      "grid_area": null,
      "grid_auto_columns": null,
      "grid_auto_flow": null,
      "grid_auto_rows": null,
      "grid_column": null,
      "grid_gap": null,
      "grid_row": null,
      "grid_template_areas": null,
      "grid_template_columns": null,
      "grid_template_rows": null,
      "height": null,
      "justify_content": null,
      "justify_items": null,
      "left": null,
      "margin": null,
      "max_height": null,
      "max_width": null,
      "min_height": null,
      "min_width": null,
      "object_fit": null,
      "object_position": null,
      "order": null,
      "overflow": null,
      "overflow_x": null,
      "overflow_y": null,
      "padding": null,
      "right": null,
      "top": null,
      "visibility": null,
      "width": null
     }
    },
    "f1494c1d1a3b41efb8f6243fc6fba0c7": {
     "model_module": "@jupyter-widgets/base",
     "model_module_version": "1.2.0",
     "model_name": "LayoutModel",
     "state": {
      "_model_module": "@jupyter-widgets/base",
      "_model_module_version": "1.2.0",
      "_model_name": "LayoutModel",
      "_view_count": null,
      "_view_module": "@jupyter-widgets/base",
      "_view_module_version": "1.2.0",
      "_view_name": "LayoutView",
      "align_content": null,
      "align_items": null,
      "align_self": null,
      "border": null,
      "bottom": null,
      "display": null,
      "flex": null,
      "flex_flow": null,
      "grid_area": null,
      "grid_auto_columns": null,
      "grid_auto_flow": null,
      "grid_auto_rows": null,
      "grid_column": null,
      "grid_gap": null,
      "grid_row": null,
      "grid_template_areas": null,
      "grid_template_columns": null,
      "grid_template_rows": null,
      "height": null,
      "justify_content": null,
      "justify_items": null,
      "left": null,
      "margin": null,
      "max_height": null,
      "max_width": null,
      "min_height": null,
      "min_width": null,
      "object_fit": null,
      "object_position": null,
      "order": null,
      "overflow": null,
      "overflow_x": null,
      "overflow_y": null,
      "padding": null,
      "right": null,
      "top": null,
      "visibility": null,
      "width": null
     }
    },
    "f1c73f2b656e43db89c2b502811560f9": {
     "model_module": "@jupyter-widgets/base",
     "model_module_version": "1.2.0",
     "model_name": "LayoutModel",
     "state": {
      "_model_module": "@jupyter-widgets/base",
      "_model_module_version": "1.2.0",
      "_model_name": "LayoutModel",
      "_view_count": null,
      "_view_module": "@jupyter-widgets/base",
      "_view_module_version": "1.2.0",
      "_view_name": "LayoutView",
      "align_content": null,
      "align_items": null,
      "align_self": null,
      "border": null,
      "bottom": null,
      "display": null,
      "flex": null,
      "flex_flow": null,
      "grid_area": null,
      "grid_auto_columns": null,
      "grid_auto_flow": null,
      "grid_auto_rows": null,
      "grid_column": null,
      "grid_gap": null,
      "grid_row": null,
      "grid_template_areas": null,
      "grid_template_columns": null,
      "grid_template_rows": null,
      "height": null,
      "justify_content": null,
      "justify_items": null,
      "left": null,
      "margin": null,
      "max_height": null,
      "max_width": null,
      "min_height": null,
      "min_width": null,
      "object_fit": null,
      "object_position": null,
      "order": null,
      "overflow": null,
      "overflow_x": null,
      "overflow_y": null,
      "padding": null,
      "right": null,
      "top": null,
      "visibility": null,
      "width": null
     }
    },
    "f248f032597d40219c42a18340e27752": {
     "model_module": "@jupyter-widgets/controls",
     "model_module_version": "1.5.0",
     "model_name": "DescriptionStyleModel",
     "state": {
      "_model_module": "@jupyter-widgets/controls",
      "_model_module_version": "1.5.0",
      "_model_name": "DescriptionStyleModel",
      "_view_count": null,
      "_view_module": "@jupyter-widgets/base",
      "_view_module_version": "1.2.0",
      "_view_name": "StyleView",
      "description_width": ""
     }
    },
    "f3551d5b647f4feeaf7a3691ac9bd349": {
     "model_module": "@jupyter-widgets/controls",
     "model_module_version": "1.5.0",
     "model_name": "HTMLModel",
     "state": {
      "_dom_classes": [],
      "_model_module": "@jupyter-widgets/controls",
      "_model_module_version": "1.5.0",
      "_model_name": "HTMLModel",
      "_view_count": null,
      "_view_module": "@jupyter-widgets/controls",
      "_view_module_version": "1.5.0",
      "_view_name": "HTMLView",
      "description": "",
      "description_tooltip": null,
      "layout": "IPY_MODEL_fe679e6d33b644a59eb67347bec182b6",
      "placeholder": "​",
      "style": "IPY_MODEL_daaf83aa097e4b888ffee112d26a2fb8",
      "value": "model.safetensors: 100%"
     }
    },
    "f3e0b834d9624bfeb12abbe6ffeede51": {
     "model_module": "@jupyter-widgets/base",
     "model_module_version": "1.2.0",
     "model_name": "LayoutModel",
     "state": {
      "_model_module": "@jupyter-widgets/base",
      "_model_module_version": "1.2.0",
      "_model_name": "LayoutModel",
      "_view_count": null,
      "_view_module": "@jupyter-widgets/base",
      "_view_module_version": "1.2.0",
      "_view_name": "LayoutView",
      "align_content": null,
      "align_items": null,
      "align_self": null,
      "border": null,
      "bottom": null,
      "display": null,
      "flex": null,
      "flex_flow": null,
      "grid_area": null,
      "grid_auto_columns": null,
      "grid_auto_flow": null,
      "grid_auto_rows": null,
      "grid_column": null,
      "grid_gap": null,
      "grid_row": null,
      "grid_template_areas": null,
      "grid_template_columns": null,
      "grid_template_rows": null,
      "height": null,
      "justify_content": null,
      "justify_items": null,
      "left": null,
      "margin": null,
      "max_height": null,
      "max_width": null,
      "min_height": null,
      "min_width": null,
      "object_fit": null,
      "object_position": null,
      "order": null,
      "overflow": null,
      "overflow_x": null,
      "overflow_y": null,
      "padding": null,
      "right": null,
      "top": null,
      "visibility": null,
      "width": null
     }
    },
    "f402724078e242bc97e770fa3d6bc7cc": {
     "model_module": "@jupyter-widgets/controls",
     "model_module_version": "1.5.0",
     "model_name": "HBoxModel",
     "state": {
      "_dom_classes": [],
      "_model_module": "@jupyter-widgets/controls",
      "_model_module_version": "1.5.0",
      "_model_name": "HBoxModel",
      "_view_count": null,
      "_view_module": "@jupyter-widgets/controls",
      "_view_module_version": "1.5.0",
      "_view_name": "HBoxView",
      "box_style": "",
      "children": [
       "IPY_MODEL_e7179ecf68944957b47ebd396b71f84c",
       "IPY_MODEL_74688e61df6745c0a11abe5b4551ad85",
       "IPY_MODEL_0a9db19757f1491da3a8e8af13041acb"
      ],
      "layout": "IPY_MODEL_42db5ab47950400cb62fd40d0623dabe"
     }
    },
    "f5c0bec50fd14d7fa805e30ead013630": {
     "model_module": "@jupyter-widgets/base",
     "model_module_version": "1.2.0",
     "model_name": "LayoutModel",
     "state": {
      "_model_module": "@jupyter-widgets/base",
      "_model_module_version": "1.2.0",
      "_model_name": "LayoutModel",
      "_view_count": null,
      "_view_module": "@jupyter-widgets/base",
      "_view_module_version": "1.2.0",
      "_view_name": "LayoutView",
      "align_content": null,
      "align_items": null,
      "align_self": null,
      "border": null,
      "bottom": null,
      "display": null,
      "flex": null,
      "flex_flow": null,
      "grid_area": null,
      "grid_auto_columns": null,
      "grid_auto_flow": null,
      "grid_auto_rows": null,
      "grid_column": null,
      "grid_gap": null,
      "grid_row": null,
      "grid_template_areas": null,
      "grid_template_columns": null,
      "grid_template_rows": null,
      "height": null,
      "justify_content": null,
      "justify_items": null,
      "left": null,
      "margin": null,
      "max_height": null,
      "max_width": null,
      "min_height": null,
      "min_width": null,
      "object_fit": null,
      "object_position": null,
      "order": null,
      "overflow": null,
      "overflow_x": null,
      "overflow_y": null,
      "padding": null,
      "right": null,
      "top": null,
      "visibility": null,
      "width": null
     }
    },
    "f6949cad62c04a0b8a7a14be2e0b15bc": {
     "model_module": "@jupyter-widgets/base",
     "model_module_version": "1.2.0",
     "model_name": "LayoutModel",
     "state": {
      "_model_module": "@jupyter-widgets/base",
      "_model_module_version": "1.2.0",
      "_model_name": "LayoutModel",
      "_view_count": null,
      "_view_module": "@jupyter-widgets/base",
      "_view_module_version": "1.2.0",
      "_view_name": "LayoutView",
      "align_content": null,
      "align_items": null,
      "align_self": null,
      "border": null,
      "bottom": null,
      "display": null,
      "flex": null,
      "flex_flow": null,
      "grid_area": null,
      "grid_auto_columns": null,
      "grid_auto_flow": null,
      "grid_auto_rows": null,
      "grid_column": null,
      "grid_gap": null,
      "grid_row": null,
      "grid_template_areas": null,
      "grid_template_columns": null,
      "grid_template_rows": null,
      "height": null,
      "justify_content": null,
      "justify_items": null,
      "left": null,
      "margin": null,
      "max_height": null,
      "max_width": null,
      "min_height": null,
      "min_width": null,
      "object_fit": null,
      "object_position": null,
      "order": null,
      "overflow": null,
      "overflow_x": null,
      "overflow_y": null,
      "padding": null,
      "right": null,
      "top": null,
      "visibility": null,
      "width": null
     }
    },
    "f745382805ed4370852db37cc9547c80": {
     "model_module": "@jupyter-widgets/base",
     "model_module_version": "1.2.0",
     "model_name": "LayoutModel",
     "state": {
      "_model_module": "@jupyter-widgets/base",
      "_model_module_version": "1.2.0",
      "_model_name": "LayoutModel",
      "_view_count": null,
      "_view_module": "@jupyter-widgets/base",
      "_view_module_version": "1.2.0",
      "_view_name": "LayoutView",
      "align_content": null,
      "align_items": null,
      "align_self": null,
      "border": null,
      "bottom": null,
      "display": null,
      "flex": null,
      "flex_flow": null,
      "grid_area": null,
      "grid_auto_columns": null,
      "grid_auto_flow": null,
      "grid_auto_rows": null,
      "grid_column": null,
      "grid_gap": null,
      "grid_row": null,
      "grid_template_areas": null,
      "grid_template_columns": null,
      "grid_template_rows": null,
      "height": null,
      "justify_content": null,
      "justify_items": null,
      "left": null,
      "margin": null,
      "max_height": null,
      "max_width": null,
      "min_height": null,
      "min_width": null,
      "object_fit": null,
      "object_position": null,
      "order": null,
      "overflow": null,
      "overflow_x": null,
      "overflow_y": null,
      "padding": null,
      "right": null,
      "top": null,
      "visibility": null,
      "width": null
     }
    },
    "f756ea163f5c46c3a8d0a436b591af4a": {
     "model_module": "@jupyter-widgets/base",
     "model_module_version": "1.2.0",
     "model_name": "LayoutModel",
     "state": {
      "_model_module": "@jupyter-widgets/base",
      "_model_module_version": "1.2.0",
      "_model_name": "LayoutModel",
      "_view_count": null,
      "_view_module": "@jupyter-widgets/base",
      "_view_module_version": "1.2.0",
      "_view_name": "LayoutView",
      "align_content": null,
      "align_items": null,
      "align_self": null,
      "border": null,
      "bottom": null,
      "display": null,
      "flex": null,
      "flex_flow": null,
      "grid_area": null,
      "grid_auto_columns": null,
      "grid_auto_flow": null,
      "grid_auto_rows": null,
      "grid_column": null,
      "grid_gap": null,
      "grid_row": null,
      "grid_template_areas": null,
      "grid_template_columns": null,
      "grid_template_rows": null,
      "height": null,
      "justify_content": null,
      "justify_items": null,
      "left": null,
      "margin": null,
      "max_height": null,
      "max_width": null,
      "min_height": null,
      "min_width": null,
      "object_fit": null,
      "object_position": null,
      "order": null,
      "overflow": null,
      "overflow_x": null,
      "overflow_y": null,
      "padding": null,
      "right": null,
      "top": null,
      "visibility": null,
      "width": null
     }
    },
    "f8f7e7f55e5946d3beec998bce946d60": {
     "model_module": "@jupyter-widgets/controls",
     "model_module_version": "1.5.0",
     "model_name": "HTMLModel",
     "state": {
      "_dom_classes": [],
      "_model_module": "@jupyter-widgets/controls",
      "_model_module_version": "1.5.0",
      "_model_name": "HTMLModel",
      "_view_count": null,
      "_view_module": "@jupyter-widgets/controls",
      "_view_module_version": "1.5.0",
      "_view_name": "HTMLView",
      "description": "",
      "description_tooltip": null,
      "layout": "IPY_MODEL_9bfefa71e79c4abf9e429fb259dadd59",
      "placeholder": "​",
      "style": "IPY_MODEL_1ea441c9e8f94aa9967e6e6e946364b4",
      "value": " 49.7k/49.7k [00:00&lt;00:00, 2.59MB/s]"
     }
    },
    "fb89fb69c688420097d40c6bbdb2ab72": {
     "model_module": "@jupyter-widgets/controls",
     "model_module_version": "1.5.0",
     "model_name": "DescriptionStyleModel",
     "state": {
      "_model_module": "@jupyter-widgets/controls",
      "_model_module_version": "1.5.0",
      "_model_name": "DescriptionStyleModel",
      "_view_count": null,
      "_view_module": "@jupyter-widgets/base",
      "_view_module_version": "1.2.0",
      "_view_name": "StyleView",
      "description_width": ""
     }
    },
    "fb90d172157f489e960d8adb0040a2e9": {
     "model_module": "@jupyter-widgets/base",
     "model_module_version": "1.2.0",
     "model_name": "LayoutModel",
     "state": {
      "_model_module": "@jupyter-widgets/base",
      "_model_module_version": "1.2.0",
      "_model_name": "LayoutModel",
      "_view_count": null,
      "_view_module": "@jupyter-widgets/base",
      "_view_module_version": "1.2.0",
      "_view_name": "LayoutView",
      "align_content": null,
      "align_items": null,
      "align_self": null,
      "border": null,
      "bottom": null,
      "display": null,
      "flex": null,
      "flex_flow": null,
      "grid_area": null,
      "grid_auto_columns": null,
      "grid_auto_flow": null,
      "grid_auto_rows": null,
      "grid_column": null,
      "grid_gap": null,
      "grid_row": null,
      "grid_template_areas": null,
      "grid_template_columns": null,
      "grid_template_rows": null,
      "height": null,
      "justify_content": null,
      "justify_items": null,
      "left": null,
      "margin": null,
      "max_height": null,
      "max_width": null,
      "min_height": null,
      "min_width": null,
      "object_fit": null,
      "object_position": null,
      "order": null,
      "overflow": null,
      "overflow_x": null,
      "overflow_y": null,
      "padding": null,
      "right": null,
      "top": null,
      "visibility": null,
      "width": null
     }
    },
    "fd6e8d248e14464987762c4b8a04833f": {
     "model_module": "@jupyter-widgets/base",
     "model_module_version": "1.2.0",
     "model_name": "LayoutModel",
     "state": {
      "_model_module": "@jupyter-widgets/base",
      "_model_module_version": "1.2.0",
      "_model_name": "LayoutModel",
      "_view_count": null,
      "_view_module": "@jupyter-widgets/base",
      "_view_module_version": "1.2.0",
      "_view_name": "LayoutView",
      "align_content": null,
      "align_items": null,
      "align_self": null,
      "border": null,
      "bottom": null,
      "display": null,
      "flex": null,
      "flex_flow": null,
      "grid_area": null,
      "grid_auto_columns": null,
      "grid_auto_flow": null,
      "grid_auto_rows": null,
      "grid_column": null,
      "grid_gap": null,
      "grid_row": null,
      "grid_template_areas": null,
      "grid_template_columns": null,
      "grid_template_rows": null,
      "height": null,
      "justify_content": null,
      "justify_items": null,
      "left": null,
      "margin": null,
      "max_height": null,
      "max_width": null,
      "min_height": null,
      "min_width": null,
      "object_fit": null,
      "object_position": null,
      "order": null,
      "overflow": null,
      "overflow_x": null,
      "overflow_y": null,
      "padding": null,
      "right": null,
      "top": null,
      "visibility": null,
      "width": null
     }
    },
    "fe4e5fd7c74c4e0ebab2b78fb25e931e": {
     "model_module": "@jupyter-widgets/base",
     "model_module_version": "1.2.0",
     "model_name": "LayoutModel",
     "state": {
      "_model_module": "@jupyter-widgets/base",
      "_model_module_version": "1.2.0",
      "_model_name": "LayoutModel",
      "_view_count": null,
      "_view_module": "@jupyter-widgets/base",
      "_view_module_version": "1.2.0",
      "_view_name": "LayoutView",
      "align_content": null,
      "align_items": null,
      "align_self": null,
      "border": null,
      "bottom": null,
      "display": null,
      "flex": null,
      "flex_flow": null,
      "grid_area": null,
      "grid_auto_columns": null,
      "grid_auto_flow": null,
      "grid_auto_rows": null,
      "grid_column": null,
      "grid_gap": null,
      "grid_row": null,
      "grid_template_areas": null,
      "grid_template_columns": null,
      "grid_template_rows": null,
      "height": null,
      "justify_content": null,
      "justify_items": null,
      "left": null,
      "margin": null,
      "max_height": null,
      "max_width": null,
      "min_height": null,
      "min_width": null,
      "object_fit": null,
      "object_position": null,
      "order": null,
      "overflow": null,
      "overflow_x": null,
      "overflow_y": null,
      "padding": null,
      "right": null,
      "top": null,
      "visibility": null,
      "width": null
     }
    },
    "fe5c45d6d8604abe88700111fc504b8c": {
     "model_module": "@jupyter-widgets/base",
     "model_module_version": "1.2.0",
     "model_name": "LayoutModel",
     "state": {
      "_model_module": "@jupyter-widgets/base",
      "_model_module_version": "1.2.0",
      "_model_name": "LayoutModel",
      "_view_count": null,
      "_view_module": "@jupyter-widgets/base",
      "_view_module_version": "1.2.0",
      "_view_name": "LayoutView",
      "align_content": null,
      "align_items": null,
      "align_self": null,
      "border": null,
      "bottom": null,
      "display": null,
      "flex": null,
      "flex_flow": null,
      "grid_area": null,
      "grid_auto_columns": null,
      "grid_auto_flow": null,
      "grid_auto_rows": null,
      "grid_column": null,
      "grid_gap": null,
      "grid_row": null,
      "grid_template_areas": null,
      "grid_template_columns": null,
      "grid_template_rows": null,
      "height": null,
      "justify_content": null,
      "justify_items": null,
      "left": null,
      "margin": null,
      "max_height": null,
      "max_width": null,
      "min_height": null,
      "min_width": null,
      "object_fit": null,
      "object_position": null,
      "order": null,
      "overflow": null,
      "overflow_x": null,
      "overflow_y": null,
      "padding": null,
      "right": null,
      "top": null,
      "visibility": null,
      "width": null
     }
    },
    "fe679e6d33b644a59eb67347bec182b6": {
     "model_module": "@jupyter-widgets/base",
     "model_module_version": "1.2.0",
     "model_name": "LayoutModel",
     "state": {
      "_model_module": "@jupyter-widgets/base",
      "_model_module_version": "1.2.0",
      "_model_name": "LayoutModel",
      "_view_count": null,
      "_view_module": "@jupyter-widgets/base",
      "_view_module_version": "1.2.0",
      "_view_name": "LayoutView",
      "align_content": null,
      "align_items": null,
      "align_self": null,
      "border": null,
      "bottom": null,
      "display": null,
      "flex": null,
      "flex_flow": null,
      "grid_area": null,
      "grid_auto_columns": null,
      "grid_auto_flow": null,
      "grid_auto_rows": null,
      "grid_column": null,
      "grid_gap": null,
      "grid_row": null,
      "grid_template_areas": null,
      "grid_template_columns": null,
      "grid_template_rows": null,
      "height": null,
      "justify_content": null,
      "justify_items": null,
      "left": null,
      "margin": null,
      "max_height": null,
      "max_width": null,
      "min_height": null,
      "min_width": null,
      "object_fit": null,
      "object_position": null,
      "order": null,
      "overflow": null,
      "overflow_x": null,
      "overflow_y": null,
      "padding": null,
      "right": null,
      "top": null,
      "visibility": null,
      "width": null
     }
    },
    "fec45ef84e484724a4d21b95cb5777d7": {
     "model_module": "@jupyter-widgets/base",
     "model_module_version": "1.2.0",
     "model_name": "LayoutModel",
     "state": {
      "_model_module": "@jupyter-widgets/base",
      "_model_module_version": "1.2.0",
      "_model_name": "LayoutModel",
      "_view_count": null,
      "_view_module": "@jupyter-widgets/base",
      "_view_module_version": "1.2.0",
      "_view_name": "LayoutView",
      "align_content": null,
      "align_items": null,
      "align_self": null,
      "border": null,
      "bottom": null,
      "display": null,
      "flex": null,
      "flex_flow": null,
      "grid_area": null,
      "grid_auto_columns": null,
      "grid_auto_flow": null,
      "grid_auto_rows": null,
      "grid_column": null,
      "grid_gap": null,
      "grid_row": null,
      "grid_template_areas": null,
      "grid_template_columns": null,
      "grid_template_rows": null,
      "height": null,
      "justify_content": null,
      "justify_items": null,
      "left": null,
      "margin": null,
      "max_height": null,
      "max_width": null,
      "min_height": null,
      "min_width": null,
      "object_fit": null,
      "object_position": null,
      "order": null,
      "overflow": null,
      "overflow_x": null,
      "overflow_y": null,
      "padding": null,
      "right": null,
      "top": null,
      "visibility": null,
      "width": null
     }
    }
   }
  }
 },
 "nbformat": 4,
 "nbformat_minor": 4
}
