{
  "cells": [
    {
      "cell_type": "markdown",
      "metadata": {
        "id": "LBSYoWbi-45k"
      },
      "source": [
        "# **Fine-Tune W2V2-Bert for low-resource ASR with 🤗 Transformers**\n",
        "\n",
        "***New (01/2024)***: *This blog post is strongly inspired by \"[Fine-tuning XLS-R on Multi-Lingual ASR](https://huggingface.co/blog/fine-tune-xlsr-wav2vec2)\"* and [\"Fine-tuning MMS Adapter Models for Multi-Lingual ASR\"](https://huggingface.co/blog/mms_adapters)."
      ]
    },
    {
      "cell_type": "markdown",
      "metadata": {
        "id": "JLIkmXfiCmFJ"
      },
      "source": [
        "## Motivation\n",
        "\n",
        "[Whisper](https://huggingface.co/blog/fine-tune-whisper#introduction) is a suite of ASR models, commonly accepted as the best performing models for the ASR task. It provides state-of-the-art performance for English ASR, while being well suited to multilingual fine-tuning from limited resources.\n",
        "\n",
        "However, when it comes to \"resource-poor\" languages such as Mongolian, Whisper performs poorly, as seen in section D.2.2 of the [Whisper paper](https://cdn.openai.com/papers/whisper.pdf) - Mongolian or Malayalam achieved over 100% WER at every Whisper checkpoint. The checkpoint available also have a limited vocabulary and therefore cannot be fine-tuned on a language whose alphabet does not overlap with this vocabulary.\n",
        "\n",
        "In addition, Whisper is a sequence-to-sequence model that performs ASR autoregressively, making it inherently \"slow\".\n",
        "\n",
        "Faced with limited resources - both in terms of training data availability and inference constraints - more \"frugal\" models are needed. In this case, Wav2Vec2-BERT is just the thing.\n",
        "\n",
        "**Wav2Vec2-BERT** predicts ASR in a single pass, making it much faster than Whisper. As this notebook will show, it requires **little data** to achieve **competitive performance**, is **easily adaptable** to any alphabet, and is **more resource-efficient**.\n",
        "\n",
        "In fact, it achieves **similar WER performance** on Mongolian ASR compared with [Whisper-large-v3](https://huggingface.co/openai/whisper-large-v3) after similar fine-tuning, while being over **8x faster** and **2.5x more resource-efficient**.\n"
      ]
    },
    {
      "cell_type": "markdown",
      "metadata": {
        "id": "nT_QrfWtsxIz"
      },
      "source": [
        "## Notebook Setup"
      ]
    },
    {
      "cell_type": "markdown",
      "metadata": {
        "id": "wcHuXIaWyHZU"
      },
      "source": [
        "First, let's try to get a good GPU in our colab! With Google Colab's free version it's sadly becoming much harder to get access to a good GPU. With Google Colab Pro, however, one should easily get either a V100 or P100 GPU."
      ]
    },
    {
      "cell_type": "code",
      "execution_count": null,
      "metadata": {
        "colab": {
          "base_uri": "https://localhost:8080/"
        },
        "id": "YELVqGxMxnbG",
        "outputId": "59386f9b-36bf-4001-b664-4484186b08fe"
      },
      "outputs": [
        {
          "name": "stdout",
          "output_type": "stream",
          "text": [
            "Fri Mar  1 23:22:06 2024       \n",
            "+---------------------------------------------------------------------------------------+\n",
            "| NVIDIA-SMI 535.104.05             Driver Version: 535.104.05   CUDA Version: 12.2     |\n",
            "|-----------------------------------------+----------------------+----------------------+\n",
            "| GPU  Name                 Persistence-M | Bus-Id        Disp.A | Volatile Uncorr. ECC |\n",
            "| Fan  Temp   Perf          Pwr:Usage/Cap |         Memory-Usage | GPU-Util  Compute M. |\n",
            "|                                         |                      |               MIG M. |\n",
            "|=========================================+======================+======================|\n",
            "|   0  Tesla T4                       Off | 00000000:00:04.0 Off |                    0 |\n",
            "| N/A   37C    P8               9W /  70W |      0MiB / 15360MiB |      0%      Default |\n",
            "|                                         |                      |                  N/A |\n",
            "+-----------------------------------------+----------------------+----------------------+\n",
            "                                                                                         \n",
            "+---------------------------------------------------------------------------------------+\n",
            "| Processes:                                                                            |\n",
            "|  GPU   GI   CI        PID   Type   Process name                            GPU Memory |\n",
            "|        ID   ID                                                             Usage      |\n",
            "|=======================================================================================|\n",
            "|  No running processes found                                                           |\n",
            "+---------------------------------------------------------------------------------------+\n"
          ]
        }
      ],
      "source": [
        "gpu_info = !nvidia-smi\n",
        "gpu_info = '\\n'.join(gpu_info)\n",
        "if gpu_info.find('failed') >= 0:\n",
        "  print('Not connected to a GPU')\n",
        "else:\n",
        "  print(gpu_info)"
      ]
    },
    {
      "cell_type": "markdown",
      "metadata": {
        "id": "e335hPmdtASZ"
      },
      "source": [
        "Before we start, let's install `datasets` and `transformers`. Also, we need `accelerate` for training, `torchaudio` to load audio files and `jiwer` to evaluate our fine-tuned model using the [word error rate (WER)](https://huggingface.co/metrics/wer) metric ${}^1$."
      ]
    },
    {
      "cell_type": "code",
      "execution_count": null,
      "metadata": {
        "id": "c8eh87Hoee5d"
      },
      "outputs": [],
      "source": [
        "%%capture\n",
        "!pip install datasets\n",
        "!pip install transformers\n",
        "!pip install torchaudio\n",
        "!pip install jiwer\n",
        "!pip install accelerate -U"
      ]
    },
    {
      "cell_type": "markdown",
      "metadata": {
        "id": "0xxt_LwxDQlO"
      },
      "source": [
        "We strongly suggest to upload your training checkpoints directly to the [🤗 Hub](https://huggingface.co/) while training. The [🤗 Hub](https://huggingface.co/) provides:\n",
        "\n",
        "- Integrated version control: you can be sure that no model checkpoint is lost during training.\n",
        "- Tensorboard logs: track important metrics over the course of training.\n",
        "- Model cards: document what a model does and its intended use cases.\n",
        "- Community: an easy way to share and collaborate with the community!\n",
        "\n",
        "To do so, you have to store your authentication token from the Hugging Face website (sign up [here](https://huggingface.co/join) if you haven't already!). This is done by entering your Hub authentication token when prompted below. Find your Hub authentication token [here](https://huggingface.co/settings/tokens):"
      ]
    },
    {
      "cell_type": "code",
      "execution_count": null,
      "metadata": {
        "colab": {
          "base_uri": "https://localhost:8080/",
          "height": 145,
          "referenced_widgets": [
            "94a356846e0449e99150ba0354ef84d6",
            "b3156845b0374af08f83b4d399b6fe3b",
            "bec94c58a96b4e159b0c89d3703fcf8b",
            "cf92d58a9dad4979abe697c51ac384b3",
            "90ccfb6f0d624f2da3f93ea025935366",
            "2efe770c63684242a61b9799bf56f727",
            "ee3fddc2c0e14d8aab5b941d45c40de2",
            "f6949cad62c04a0b8a7a14be2e0b15bc",
            "a096b6f6c8964d299b940792ea3efe88",
            "916d17092121477fb503f64483126516",
            "f248f032597d40219c42a18340e27752",
            "457c7b7119dc40b5b2d0ce16ab427396",
            "36c3ff2db17844be976a109026efb62f",
            "d76a0659510d4927931f86384cefa7df",
            "66cd214b7807441bbb17ddc142fdbddf",
            "88d100741c1f4e84aa39b83405e59b86",
            "93df25375d694127ac47dbc6a8d6fa0e",
            "5312df15bcc04efa89e0927882b36c72",
            "6a754d14922b4a7bb78adad83a6ff85b",
            "3e6b6dc87cc445caa6b50522a75e7b24",
            "4aedeb89aad646479e0937312f5c4d29",
            "99a91e2e8a204d6e8bede88eaab1999f",
            "8da957f86def4e22b63957e22329f789",
            "624ccb7ab79e41fba6c1fcc6d157fb1e",
            "aadcc49daa5f4724878bd8621d8b7bec",
            "e8c7eca4565b44d9ae12f070d7aeeff3",
            "fec45ef84e484724a4d21b95cb5777d7",
            "9e74b1ec8343401792a0bbf180914203",
            "8e0637f0c49a4f9eb0a301f8bbc0e621",
            "b5ef9a44b713452d9ce50c3ea29d8ff9",
            "f1c73f2b656e43db89c2b502811560f9",
            "b1569ffcd185420bbea946a7be9bb8ee"
          ]
        },
        "id": "mlMSH3T3EazV",
        "outputId": "83d15cdd-8e24-41d0-b3c6-bcb48b5882cc"
      },
      "outputs": [
        {
          "data": {
            "application/vnd.jupyter.widget-view+json": {
              "model_id": "94a356846e0449e99150ba0354ef84d6",
              "version_major": 2,
              "version_minor": 0
            },
            "text/plain": [
              "VBox(children=(HTML(value='<center> <img\\nsrc=https://huggingface.co/front/assets/huggingface_logo-noborder.sv…"
            ]
          },
          "metadata": {},
          "output_type": "display_data"
        }
      ],
      "source": [
        "from huggingface_hub import notebook_login\n",
        "\n",
        "notebook_login()"
      ]
    },
    {
      "cell_type": "markdown",
      "metadata": {
        "id": "ujdZ2TxhElk6"
      },
      "source": [
        "\n",
        "Then you need to install Git-LFS to upload your model checkpoints:"
      ]
    },
    {
      "cell_type": "code",
      "execution_count": null,
      "metadata": {
        "id": "WcR-d83OEkqb"
      },
      "outputs": [],
      "source": [
        "%%capture\n",
        "!apt install git-lfs"
      ]
    },
    {
      "cell_type": "markdown",
      "metadata": {
        "id": "Mn9swf6EQ9Vd"
      },
      "source": [
        "\n",
        "\n",
        "\n",
        "---\n",
        "\n",
        "${}^1$ In the [paper](https://arxiv.org/pdf/2006.13979.pdf), the model was evaluated using the phoneme error rate (PER), but by far the most common metric in ASR is the word error rate (WER). To keep this notebook as general as possible we decided to evaluate the model using WER."
      ]
    },
    {
      "cell_type": "markdown",
      "metadata": {
        "id": "0mW-C1Nt-j7k"
      },
      "source": [
        "## Prepare Data, Tokenizer, Feature Extractor"
      ]
    },
    {
      "cell_type": "markdown",
      "metadata": {
        "id": "BeBosnY9BH3e"
      },
      "source": [
        "ASR models transcribe speech to text, which means that we both need a feature extractor that processes the speech signal to the model's input format, *e.g.* a feature vector, and a tokenizer that processes the model's output format to text.\n",
        "\n",
        "In 🤗 Transformers, the Wav2Vec2-BERT model is thus accompanied by both a tokenizer, called [Wav2Vec2CTCTokenizer](https://huggingface.co/transformers/master/model_doc/wav2vec2.html#wav2vec2ctctokenizer), and a feature extractor, called [SeamlessM4TFeatureExtractor](https://huggingface.co/docs/transformers/v4.36.1/en/model_doc/seamless_m4t#transformers.SeamlessM4TFeatureExtractor) that the model shares with the [first](https://huggingface.co/docs/transformers/main/en/model_doc/seamless_m4t) and [second](https://huggingface.co/docs/transformers/main/en/model_doc/seamless_m4_v2t) versions of Seamless-M4T, as they all process audio in the same way.\n",
        "\n",
        "Let's start by creating the tokenizer to decode the predicted output classes to the output transcription."
      ]
    },
    {
      "cell_type": "markdown",
      "metadata": {
        "id": "sEXEWEJGQPqD"
      },
      "source": [
        "### Create `Wav2Vec2CTCTokenizer`"
      ]
    },
    {
      "cell_type": "markdown",
      "metadata": {
        "id": "tWmMikuNEKl_"
      },
      "source": [
        "Remember that Wav2Vec2-like models fine-tuned on CTC transcribe an audio file with a single forward pass by first processing the audio input into a sequence of processed context representations and then using the final vocabulary output layer to classify each context representation to a character that represents the transcription."
      ]
    },
    {
      "cell_type": "markdown",
      "metadata": {
        "id": "v5oRE8XjIUH3"
      },
      "source": [
        "The output size of this layer corresponds to the number of tokens in the vocabulary, and therefore only on the labeled dataset used for fine-tuning. So in the first step, we will take a look at the chosen dataset of Common Voice and define a vocabulary based on the transcriptions."
      ]
    },
    {
      "cell_type": "markdown",
      "metadata": {
        "id": "idBczw8mWzgt"
      },
      "source": [
        "For this notebook, we will use [Common Voice's 16.0 dataset](https://huggingface.co/datasets/mozilla-foundation/common_voice_16_0) for Mongolian. Mongolian corresponds to the language code `\"mn\"`.\n",
        "\n",
        "Now we can use 🤗 Datasets' simple API to download the data. The dataset name is `\"mozilla-foundation/common_voice_16_0\"`, the configuration name corresponds to the language code, which is `\"mn\"` in our case.\n",
        "\n",
        "**Note**: Before being able to download the dataset, you have to access it by logging into your Hugging Face account, going on the [dataset repo page](https://huggingface.co/datasets/mozilla-foundation/common_voice_16_0) and clicking on:"
      ]
    },
    {
      "cell_type": "markdown",
      "metadata": {
        "id": "bS7ctVpHrQR_"
      },
      "source": [
        "![image.png](data:image/png;base64,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)"
      ]
    },
    {
      "cell_type": "markdown",
      "metadata": {
        "id": "bee4g9rpLxll"
      },
      "source": [
        "Common Voice has many different splits including `invalidated`, which refers to data that was not rated as \"clean enough\" to be considered useful. In this notebook, we will only make use of the splits `\"train\"`, `\"validation\"` and `\"test\"`.\n",
        "\n",
        "Because the Mongolian dataset is so small, we will merge both the validation and training data into a training dataset and only use the test data for validation."
      ]
    },
    {
      "cell_type": "code",
      "execution_count": null,
      "metadata": {
        "colab": {
          "base_uri": "https://localhost:8080/",
          "height": 724,
          "referenced_widgets": [
            "ae94acec66144ef9afdd78422d9ed1bf",
            "b9bc643bcf3b4f629e662bb933923cfc",
            "bf9e0160d75141c487bfaa12319858e4",
            "b2ac70e4752a4ca08f3dd3b4d7f1d472",
            "349b4f45076f4537a35c5ef3d18360f5",
            "197c65e6880b4f6f9cf134e030cf7378",
            "0f3a91482d3a427bae45d480ab581954",
            "5ceacb3901f94417baaf9cbc16639bfc",
            "711de682c83b4d8686c13cf2f738e475",
            "f745382805ed4370852db37cc9547c80",
            "a2b15e9f24e74657a734b258bd97659b",
            "d531bfa47b454b57b1ea84c6b9cb51f9",
            "34e0d0057a8949bb9e6d7e1333a56210",
            "64bdc9e80e034e93bc380fc2a364fbf6",
            "8cb374e440194c24b630c9c901b1246c",
            "fe4e5fd7c74c4e0ebab2b78fb25e931e",
            "f756ea163f5c46c3a8d0a436b591af4a",
            "0773e09201ef454bbc12ce31fc1bb52f",
            "e58cf6a132784de880dc566de6924a70",
            "5784a2ff5d954225995b7f005fad62a6",
            "8dfd144083fb4668901a3ebe8793f079",
            "a4f789b00e71460eb0f02a6d24199d2a",
            "f402724078e242bc97e770fa3d6bc7cc",
            "e7179ecf68944957b47ebd396b71f84c",
            "74688e61df6745c0a11abe5b4551ad85",
            "0a9db19757f1491da3a8e8af13041acb",
            "42db5ab47950400cb62fd40d0623dabe",
            "cc0f8804110c4e478e9026ddf658f231",
            "ef81b16d906c4706bfec9c52c1ba7a31",
            "3d6f6142f4da4d26b5bcfcf3d3459451",
            "952b4c18cfd341639203301e314c42a0",
            "09525173c22f475aac6a9a2f79f0ca92",
            "6734a45b0d3049369c2772fea4caca65",
            "0c4863a6e2d646a8a6a72be2b9f57abc",
            "41754990023244739981819e70d646aa",
            "98358ecf9250411b9ac62c0c293582fc",
            "f8f7e7f55e5946d3beec998bce946d60",
            "497bee8f2bb94477b342f889e5116117",
            "97bccc224098417bb44307c538b46de1",
            "22e6e65580a643b6b057b764e0ca87ab",
            "1946a60256fa45c0832ead631424059d",
            "38fab194963c42e296927e12c2fff376",
            "9bfefa71e79c4abf9e429fb259dadd59",
            "1ea441c9e8f94aa9967e6e6e946364b4",
            "1e08c21f31fe44e18730b546cc0ea120",
            "99d7d4b441504999bd5416c1cd3205ae",
            "32f96e8cbd394446b1b6febc9712f3f5",
            "699c51ed4646490db3adc0e502aec4d9",
            "6d3da0b643c44ba480ea5388571f996f",
            "60ec9400dba44d30ac3399bceb134cd4",
            "5154648875764c4f821480826119fc82",
            "6126ecc5488e4e47917287c3238128b6",
            "c2d958871b6c4b5297b8e3c5fd0524c7",
            "d6aaedf9f76747a391177409c34ebbcf",
            "8bcdb3b197c840269ffc0fcaa041ad88",
            "42176e56e87240f98b9ba43d874800be",
            "ceaef89450304e1393a087c3cba9d670",
            "ef77aa4bf4d9476bb17056ee44f7f33a",
            "1433d80787ab4463b6639eb175cc2d66",
            "f3e0b834d9624bfeb12abbe6ffeede51",
            "78f7a618d76b411ebabf085d809ae95a",
            "24f5c4ed53594222817dcbe7f3fd01e6",
            "54618323821443f09aef28c891e6fb79",
            "957445d05d7441349fe9c1c561ccafdd",
            "dcd21a5468674ea8af9cb955a4ac21db",
            "1453d855e401464891564c1b3f0e0296",
            "9ef41911f26c449c970728e2ca90769c",
            "3243b57838cc4362b10414dd7b68378e",
            "3f3527f318584431a70e4f6a31688ce1",
            "e512c9f3c5eb49849bd17c7c852e8843",
            "1a4f2353154547348ca902e612bb15bd",
            "86cc42e4e7d74733b63d3082eca0ef9c",
            "20228da0dc114136860b0ccdf2867d50",
            "aab5cbf0583c4a9c989f6ae259320a99",
            "970c612f2a93451494978a446efc56bf",
            "ceedfa91800a484eaef24818d5dfd856",
            "4538b7a279d0469bbd21abc7bac27312",
            "2ebb1d27f98c44f89f6912c52103fb53",
            "b5eea1bf76394153bf01d9a5613357e9",
            "31b4254bb02d4e3f81e6f925f567e4f7",
            "9c8d2b0c618e47ce9c7e42351b416da1",
            "cd5efd47e24f4d3d973e7fe175b8a0f0",
            "104b877f2bea4dffbee766478c3e6194",
            "a591e67d616a474f8b23064ff2ba9400",
            "5642f641854a413187fe6f88b852b936",
            "2f80e86cab034092a73ed9e628e455c2",
            "f1180cfe2644462bbf38ac4e5f81dee8",
            "6f2b780742144763a2b2b3af661e31d1",
            "e59e59ea63a34aa4a966260863621be2",
            "dbdf1449f4a54401b9227e0da83ba153",
            "ed7394d51b684974a9b4e28ceca73c72",
            "4f0a93c3bc6f4b4ea4356f02a406f3e4",
            "28cb7bdf0c10479496d34f14cd58f68d",
            "e0c1792b70f14f63b5aeb2b7c892d552",
            "91303af16b13431b871a8f402c01670f",
            "9249815c7e274ae19e4411b82cbe8622",
            "76dad6452fcf44f4abb4425d0c84ea84",
            "55cb8c9c9e01404bb702d0fa3bf9fb39",
            "6ffc6562d95d4a4d96139c052cb02c64",
            "e0f442d5f7734ca8b5446b7d79ab9c1d",
            "7fc9a659ffd641759ad915bcf9419896",
            "d16c6c50f0cb490a92f9a81bfd1354fa",
            "e678cefb4d4147578c84275f62cb6c0c",
            "c86c58c4f4fd48c29ab97ffa0fdbde69",
            "23f5dc7b80da450b870d6c0e55a2e036",
            "14020d02141d4348ac1212aacaa3db93",
            "88d61c2794be4a99bde23143b19f66c6",
            "af9886a02a7d4eeb8d4899c64e1c1379",
            "71b2a9bc97c64fef81f29941ff990c9e",
            "9bc12c5fdabe46caa672b4086f53efe9"
          ]
        },
        "id": "2MMXcWFFgCXU",
        "outputId": "1c303266-8a3e-4f93-8b49-73ab8572f5bb"
      },
      "outputs": [
        {
          "name": "stderr",
          "output_type": "stream",
          "text": [
            "/usr/local/lib/python3.10/dist-packages/datasets/load.py:2516: FutureWarning: 'use_auth_token' was deprecated in favor of 'token' in version 2.14.0 and will be removed in 3.0.0.\n",
            "You can remove this warning by passing 'token=<use_auth_token>' instead.\n",
            "  warnings.warn(\n",
            "/usr/local/lib/python3.10/dist-packages/huggingface_hub/utils/_token.py:88: UserWarning: \n",
            "The secret `HF_TOKEN` does not exist in your Colab secrets.\n",
            "To authenticate with the Hugging Face Hub, create a token in your settings tab (https://huggingface.co/settings/tokens), set it as secret in your Google Colab and restart your session.\n",
            "You will be able to reuse this secret in all of your notebooks.\n",
            "Please note that authentication is recommended but still optional to access public models or datasets.\n",
            "  warnings.warn(\n",
            "/usr/local/lib/python3.10/dist-packages/datasets/load.py:1461: FutureWarning: The repository for mozilla-foundation/common_voice_7_0 contains custom code which must be executed to correctly load the dataset. You can inspect the repository content at https://hf.co/datasets/mozilla-foundation/common_voice_7_0\n",
            "You can avoid this message in future by passing the argument `trust_remote_code=True`.\n",
            "Passing `trust_remote_code=True` will be mandatory to load this dataset from the next major release of `datasets`.\n",
            "  warnings.warn(\n"
          ]
        },
        {
          "data": {
            "application/vnd.jupyter.widget-view+json": {
              "model_id": "ae94acec66144ef9afdd78422d9ed1bf",
              "version_major": 2,
              "version_minor": 0
            },
            "text/plain": [
              "Downloading builder script:   0%|          | 0.00/11.5k [00:00<?, ?B/s]"
            ]
          },
          "metadata": {},
          "output_type": "display_data"
        },
        {
          "data": {
            "application/vnd.jupyter.widget-view+json": {
              "model_id": "d531bfa47b454b57b1ea84c6b9cb51f9",
              "version_major": 2,
              "version_minor": 0
            },
            "text/plain": [
              "Downloading readme:   0%|          | 0.00/11.3k [00:00<?, ?B/s]"
            ]
          },
          "metadata": {},
          "output_type": "display_data"
        },
        {
          "data": {
            "application/vnd.jupyter.widget-view+json": {
              "model_id": "f402724078e242bc97e770fa3d6bc7cc",
              "version_major": 2,
              "version_minor": 0
            },
            "text/plain": [
              "Downloading extra modules:   0%|          | 0.00/3.29k [00:00<?, ?B/s]"
            ]
          },
          "metadata": {},
          "output_type": "display_data"
        },
        {
          "data": {
            "application/vnd.jupyter.widget-view+json": {
              "model_id": "0c4863a6e2d646a8a6a72be2b9f57abc",
              "version_major": 2,
              "version_minor": 0
            },
            "text/plain": [
              "Downloading extra modules:   0%|          | 0.00/49.7k [00:00<?, ?B/s]"
            ]
          },
          "metadata": {},
          "output_type": "display_data"
        },
        {
          "data": {
            "application/vnd.jupyter.widget-view+json": {
              "model_id": "1e08c21f31fe44e18730b546cc0ea120",
              "version_major": 2,
              "version_minor": 0
            },
            "text/plain": [
              "Downloading data:   0%|          | 0.00/1.72G [00:00<?, ?B/s]"
            ]
          },
          "metadata": {},
          "output_type": "display_data"
        },
        {
          "data": {
            "application/vnd.jupyter.widget-view+json": {
              "model_id": "42176e56e87240f98b9ba43d874800be",
              "version_major": 2,
              "version_minor": 0
            },
            "text/plain": [
              "Generating train split: 0 examples [00:00, ? examples/s]"
            ]
          },
          "metadata": {},
          "output_type": "display_data"
        },
        {
          "data": {
            "application/vnd.jupyter.widget-view+json": {
              "model_id": "9ef41911f26c449c970728e2ca90769c",
              "version_major": 2,
              "version_minor": 0
            },
            "text/plain": [
              "Generating test split: 0 examples [00:00, ? examples/s]"
            ]
          },
          "metadata": {},
          "output_type": "display_data"
        },
        {
          "data": {
            "application/vnd.jupyter.widget-view+json": {
              "model_id": "2ebb1d27f98c44f89f6912c52103fb53",
              "version_major": 2,
              "version_minor": 0
            },
            "text/plain": [
              "Generating validation split: 0 examples [00:00, ? examples/s]"
            ]
          },
          "metadata": {},
          "output_type": "display_data"
        },
        {
          "data": {
            "application/vnd.jupyter.widget-view+json": {
              "model_id": "e59e59ea63a34aa4a966260863621be2",
              "version_major": 2,
              "version_minor": 0
            },
            "text/plain": [
              "Generating other split: 0 examples [00:00, ? examples/s]"
            ]
          },
          "metadata": {},
          "output_type": "display_data"
        },
        {
          "data": {
            "application/vnd.jupyter.widget-view+json": {
              "model_id": "e0f442d5f7734ca8b5446b7d79ab9c1d",
              "version_major": 2,
              "version_minor": 0
            },
            "text/plain": [
              "Generating invalidated split: 0 examples [00:00, ? examples/s]"
            ]
          },
          "metadata": {},
          "output_type": "display_data"
        },
        {
          "name": "stderr",
          "output_type": "stream",
          "text": [
            "/usr/local/lib/python3.10/dist-packages/datasets/load.py:2516: FutureWarning: 'use_auth_token' was deprecated in favor of 'token' in version 2.14.0 and will be removed in 3.0.0.\n",
            "You can remove this warning by passing 'token=<use_auth_token>' instead.\n",
            "  warnings.warn(\n",
            "/usr/local/lib/python3.10/dist-packages/datasets/load.py:1461: FutureWarning: The repository for mozilla-foundation/common_voice_7_0 contains custom code which must be executed to correctly load the dataset. You can inspect the repository content at https://hf.co/datasets/mozilla-foundation/common_voice_7_0\n",
            "You can avoid this message in future by passing the argument `trust_remote_code=True`.\n",
            "Passing `trust_remote_code=True` will be mandatory to load this dataset from the next major release of `datasets`.\n",
            "  warnings.warn(\n"
          ]
        }
      ],
      "source": [
        "from datasets import load_dataset, load_metric, Audio\n",
        "\n",
        "common_voice_train = load_dataset(\"mozilla-foundation/common_voice_7_0\", \"lg\", split=\"train\", use_auth_token=True, trust_remote_code=True)\n",
        "common_voice_test = load_dataset(\"mozilla-foundation/common_voice_7_0\", \"lg\", split=\"test\", use_auth_token=True, trust_remote_code=True)"
      ]
    },
    {
      "cell_type": "markdown",
      "metadata": {
        "id": "ri5y5N_HMANq"
      },
      "source": [
        "Many ASR datasets only provide the target text, `'sentence'` for each audio array `'audio'` and file `'path'`. Common Voice actually provides much more information about each audio file, such as the `'accent'`, etc. Keeping the notebook as general as possible, we only consider the transcribed text for fine-tuning."
      ]
    },
    {
      "cell_type": "code",
      "execution_count": null,
      "metadata": {
        "id": "kbyq6lDgQc2a"
      },
      "outputs": [],
      "source": [
        "common_voice_train = common_voice_train.remove_columns([\"accent\", \"age\", \"client_id\", \"down_votes\", \"gender\", \"locale\", \"segment\", \"up_votes\"])\n",
        "common_voice_test = common_voice_test.remove_columns([\"accent\", \"age\", \"client_id\", \"down_votes\", \"gender\", \"locale\", \"segment\", \"up_votes\"])"
      ]
    },
    {
      "cell_type": "markdown",
      "metadata": {
        "id": "Go9Hq4e4NDT9"
      },
      "source": [
        "Let's write a short function to display some random samples of the dataset and run it a couple of times to get a feeling for the transcriptions."
      ]
    },
    {
      "cell_type": "code",
      "execution_count": null,
      "metadata": {
        "id": "72737oog2F6U"
      },
      "outputs": [],
      "source": [
        "from datasets import ClassLabel\n",
        "import random\n",
        "import pandas as pd\n",
        "from IPython.display import display, HTML\n",
        "\n",
        "def show_random_elements(dataset, num_examples=10):\n",
        "    assert num_examples <= len(dataset), \"Can't pick more elements than there are in the dataset.\"\n",
        "    picks = []\n",
        "    for _ in range(num_examples):\n",
        "        pick = random.randint(0, len(dataset)-1)\n",
        "        while pick in picks:\n",
        "            pick = random.randint(0, len(dataset)-1)\n",
        "        picks.append(pick)\n",
        "\n",
        "    df = pd.DataFrame(dataset[picks])\n",
        "    display(HTML(df.to_html()))"
      ]
    },
    {
      "cell_type": "code",
      "execution_count": null,
      "metadata": {
        "colab": {
          "base_uri": "https://localhost:8080/",
          "height": 363
        },
        "id": "K_JUmf3G3b9S",
        "outputId": "0a959cfe-fe92-4a66-cd47-6c260f6f5778"
      },
      "outputs": [
        {
          "data": {
            "text/html": [
              "<table border=\"1\" class=\"dataframe\">\n",
              "  <thead>\n",
              "    <tr style=\"text-align: right;\">\n",
              "      <th></th>\n",
              "      <th>sentence</th>\n",
              "    </tr>\n",
              "  </thead>\n",
              "  <tbody>\n",
              "    <tr>\n",
              "      <th>0</th>\n",
              "      <td>Abattikirwa bangi tebalina mirimu mu Uganda.</td>\n",
              "    </tr>\n",
              "    <tr>\n",
              "      <th>1</th>\n",
              "      <td>Olina okutandika okulunda embuzi nga omanyi wa akatale kaazo we kali.</td>\n",
              "    </tr>\n",
              "    <tr>\n",
              "      <th>2</th>\n",
              "      <td>Emyaka gye namala ebweru gyayonoona obudde bwange.</td>\n",
              "    </tr>\n",
              "    <tr>\n",
              "      <th>3</th>\n",
              "      <td>\"Abakkiririza mu by'edda batulabudde ku kabi akaali mu kujja kw'enzige.\"</td>\n",
              "    </tr>\n",
              "    <tr>\n",
              "      <th>4</th>\n",
              "      <td>\"Tewali nsonga lwaki bakitunzi b'enjuki tebannaba kufuna nsimbi.\"</td>\n",
              "    </tr>\n",
              "    <tr>\n",
              "      <th>5</th>\n",
              "      <td>\"Mirimu ki egyalangibwa mu mpapula z'amawulire?\"</td>\n",
              "    </tr>\n",
              "    <tr>\n",
              "      <th>6</th>\n",
              "      <td>\"Omulwadde eyafa obulwadde bwa kolona ajja kuziikibwa omwezi guno ogw'omwenda\"</td>\n",
              "    </tr>\n",
              "    <tr>\n",
              "      <th>7</th>\n",
              "      <td>\"Mu makanisa gonna agali mu Uganda, ab'ekereziya be basinga ettaka ddene.\"</td>\n",
              "    </tr>\n",
              "    <tr>\n",
              "      <th>8</th>\n",
              "      <td>\"Obupiira buyamba okutangira okusaasaanya kw'endwadde z'ekikaba.\"</td>\n",
              "    </tr>\n",
              "    <tr>\n",
              "      <th>9</th>\n",
              "      <td>Bannamateeka abakugu bataputira abantu amateeka.</td>\n",
              "    </tr>\n",
              "  </tbody>\n",
              "</table>"
            ],
            "text/plain": [
              "<IPython.core.display.HTML object>"
            ]
          },
          "metadata": {},
          "output_type": "display_data"
        }
      ],
      "source": [
        "show_random_elements(common_voice_train.remove_columns([\"path\", \"audio\"]), num_examples=10)"
      ]
    },
    {
      "cell_type": "markdown",
      "metadata": {
        "id": "fowcOllGNNju"
      },
      "source": [
        "Alright! The transcriptions look fairly clean. Having translated the transcribed sentences, it seems that the language corresponds more to written-out text than noisy dialogue. This makes sense considering that [Common Voice](https://huggingface.co/datasets/mozilla-foundation/common_voice_16_0) is a crowd-sourced read speech corpus."
      ]
    },
    {
      "cell_type": "markdown",
      "metadata": {
        "id": "vq7OR50LN49m"
      },
      "source": [
        "We can see that the transcriptions contain some special characters, such as `,.?!;:`. Without a language model, it is much harder to classify speech chunks to such special characters because they don't really correspond to a characteristic sound unit. *E.g.*, the letter `\"s\"` has a more or less clear sound, whereas the special character `\".\"` does not.\n",
        "Also in order to understand the meaning of a speech signal, it is usually not necessary to include special characters in the transcription.\n",
        "\n",
        "Let's simply remove all characters that don't contribute to the meaning of a word and cannot really be represented by an acoustic sound and normalize the text."
      ]
    },
    {
      "cell_type": "code",
      "execution_count": null,
      "metadata": {
        "id": "svKzVJ_hQGK6"
      },
      "outputs": [],
      "source": [
        "import re\n",
        "chars_to_remove_regex = '[\\,\\?\\.\\!\\-\\;\\:\\\"\\“\\%\\‘\\”\\�\\'\\»\\«]'\n",
        "\n",
        "def remove_special_characters(batch):\n",
        "    # remove special characters\n",
        "    batch[\"sentence\"] = re.sub(chars_to_remove_regex, '', batch[\"sentence\"]).lower()\n",
        "\n",
        "    return batch"
      ]
    },
    {
      "cell_type": "code",
      "execution_count": null,
      "metadata": {
        "colab": {
          "base_uri": "https://localhost:8080/",
          "height": 81,
          "referenced_widgets": [
            "e701fc5aa6014b8cb43ebfe6368253b2",
            "e0ce7a9456274644ace65492f3c67ec6",
            "6f933e3dcb7a4627b9510321bbede244",
            "3ba8b99a23eb4c43ad761124ae0df35a",
            "7382c494368d48dc97aacc111ea9c596",
            "d0c481b7c0524e66bb5c2b258a14c7d6",
            "ae2a92cb398d4f7ab29918af5a22ca5d",
            "355f7727ba4642bba828da2fd844a107",
            "611ada68c9554bb0acdcee0b1b0c7ea1",
            "381a63ea6fad4108b9d00760c8c35b15",
            "240beb39fd71470b883d77a303cd2873",
            "93ea3fb6bc5147318472b84fabd89492",
            "ec5f83428b884a439587e08b9dd0f851",
            "d00e50968ec84b2e9a6d719dd17a26c9",
            "4c0042bba1cf46d4a634ad27374a8162",
            "5c39d83d77224cda9fccd8ac9643b259",
            "7aa34f76690e4798a83cb177ec65f520",
            "fb89fb69c688420097d40c6bbdb2ab72",
            "f5c0bec50fd14d7fa805e30ead013630",
            "74f722f559024dc8a347972e69c9d5f3",
            "b3f2a267ea0c4ccc981f4d60d05678b6",
            "a8a1dfe0ae0143479e44904436db0a74"
          ]
        },
        "id": "XIHocAuTQbBR",
        "outputId": "f80b5c70-3163-47a4-a266-9c8b148142ab"
      },
      "outputs": [
        {
          "data": {
            "application/vnd.jupyter.widget-view+json": {
              "model_id": "e701fc5aa6014b8cb43ebfe6368253b2",
              "version_major": 2,
              "version_minor": 0
            },
            "text/plain": [
              "Map:   0%|          | 0/6626 [00:00<?, ? examples/s]"
            ]
          },
          "metadata": {},
          "output_type": "display_data"
        },
        {
          "data": {
            "application/vnd.jupyter.widget-view+json": {
              "model_id": "93ea3fb6bc5147318472b84fabd89492",
              "version_major": 2,
              "version_minor": 0
            },
            "text/plain": [
              "Map:   0%|          | 0/4276 [00:00<?, ? examples/s]"
            ]
          },
          "metadata": {},
          "output_type": "display_data"
        }
      ],
      "source": [
        "common_voice_train = common_voice_train.map(remove_special_characters)\n",
        "common_voice_test = common_voice_test.map(remove_special_characters)"
      ]
    },
    {
      "cell_type": "markdown",
      "metadata": {
        "id": "TxnVS9gIhIma"
      },
      "source": [
        "Let's look at the processed text labels again."
      ]
    },
    {
      "cell_type": "code",
      "execution_count": null,
      "metadata": {
        "colab": {
          "base_uri": "https://localhost:8080/",
          "height": 363
        },
        "id": "RBDRAAYxRE6n",
        "outputId": "16f79e30-919c-4a94-ca6d-eaa0c8dc6206"
      },
      "outputs": [
        {
          "data": {
            "text/html": [
              "<table border=\"1\" class=\"dataframe\">\n",
              "  <thead>\n",
              "    <tr style=\"text-align: right;\">\n",
              "      <th></th>\n",
              "      <th>sentence</th>\n",
              "    </tr>\n",
              "  </thead>\n",
              "  <tbody>\n",
              "    <tr>\n",
              "      <th>0</th>\n",
              "      <td>muwala we yalwanye nange</td>\n",
              "    </tr>\n",
              "    <tr>\n",
              "      <th>1</th>\n",
              "      <td>abasiraamu bajjaguza yidi</td>\n",
              "    </tr>\n",
              "    <tr>\n",
              "      <th>2</th>\n",
              "      <td>kaweefube wenkozesa yenguudo ennungi agendereddwamu kukendeeza ku bubenje ku makubo</td>\n",
              "    </tr>\n",
              "    <tr>\n",
              "      <th>3</th>\n",
              "      <td>okutereka mu kabokisi yengeri ennungi eyokutendekamu abaana obulungi obwokuteleka ensimbi</td>\n",
              "    </tr>\n",
              "    <tr>\n",
              "      <th>4</th>\n",
              "      <td>abakebera omutindo gwamasomero bakozesa ppikippiki okugalondoola</td>\n",
              "    </tr>\n",
              "    <tr>\n",
              "      <th>5</th>\n",
              "      <td>abantu baawaddeyo obuyambi okuzimba olutindo</td>\n",
              "    </tr>\n",
              "    <tr>\n",
              "      <th>6</th>\n",
              "      <td>essomero lyabwe baalizimba ku lusozi</td>\n",
              "    </tr>\n",
              "    <tr>\n",
              "      <th>7</th>\n",
              "      <td>okuboola omuntu olweggwanga lye si kirungi</td>\n",
              "    </tr>\n",
              "    <tr>\n",
              "      <th>8</th>\n",
              "      <td>ekigwo kye baamukuba kye kyamuviirako okufa</td>\n",
              "    </tr>\n",
              "    <tr>\n",
              "      <th>9</th>\n",
              "      <td>ebyokwerinda ku mukolo byabadde bya waggulu</td>\n",
              "    </tr>\n",
              "  </tbody>\n",
              "</table>"
            ],
            "text/plain": [
              "<IPython.core.display.HTML object>"
            ]
          },
          "metadata": {},
          "output_type": "display_data"
        }
      ],
      "source": [
        "show_random_elements(common_voice_train.remove_columns([\"path\",\"audio\"]))"
      ]
    },
    {
      "cell_type": "markdown",
      "metadata": {
        "id": "3ORHDb2Th2TW"
      },
      "source": [
        "In CTC, it is common to classify speech chunks into letters, so we will do the same here.\n",
        "Let's extract all distinct letters of the training and test data and build our vocabulary from this set of letters.\n",
        "\n",
        "We write a mapping function that concatenates all transcriptions into one long transcription and then transforms the string into a set of chars.\n",
        "It is important to pass the argument `batched=True` to the `map(...)` function so that the mapping function has access to all transcriptions at once."
      ]
    },
    {
      "cell_type": "code",
      "execution_count": null,
      "metadata": {
        "id": "LwCshNbbeRZR"
      },
      "outputs": [],
      "source": [
        "def extract_all_chars(batch):\n",
        "  all_text = \" \".join(batch[\"sentence\"])\n",
        "  vocab = list(set(all_text))\n",
        "  return {\"vocab\": [vocab], \"all_text\": [all_text]}"
      ]
    },
    {
      "cell_type": "code",
      "execution_count": null,
      "metadata": {
        "colab": {
          "base_uri": "https://localhost:8080/",
          "height": 81,
          "referenced_widgets": [
            "9feba72d58c54b93874991d00cb86396",
            "30489d9bdf1d4609872b6ae2a0c41c75",
            "3a6a6a0f93564d6694acc3536160c4b4",
            "8a562721fd934599b2ae213d67e68705",
            "a569e791db34430b8d251b00fe9fa0c1",
            "2019bb61e3a34e9c98db3eb9bb66b0f4",
            "245aa2b16af74a499f8212a235930628",
            "71276080798e45ba9e9514ca5a25952c",
            "262f443dfcd945e89c9b3a4cb85dd703",
            "8160fd2f8e3949898db9c5cc040a6992",
            "ad44de7369004d039bc40717df32ff5c",
            "8c72323a2c01430e8d5d15d285e7ee19",
            "b6d681e76e91474d89db07ab69472900",
            "dff35a20b3f946b28990f38238e73068",
            "56dd83cc98784c8f9741aff7e3a02bc8",
            "2438197eed7042abb4b8e17001705b71",
            "0fa207f602d2468cb8eff5c771d02200",
            "37dafafefaec4fe5ba3bfea36a257d2e",
            "6531904117ec4ac48cf5392467179dfe",
            "76bb2483357d4ebeadd4db6a063fba54",
            "53b3eb4111f34ade866a11b96422476e",
            "e6166fe6d6ee4794a93f24242620c6c3"
          ]
        },
        "id": "_m6uUjjcfbjH",
        "outputId": "053de5c4-4d2e-46d9-f703-085088aff90b"
      },
      "outputs": [
        {
          "data": {
            "application/vnd.jupyter.widget-view+json": {
              "model_id": "9feba72d58c54b93874991d00cb86396",
              "version_major": 2,
              "version_minor": 0
            },
            "text/plain": [
              "Map:   0%|          | 0/6626 [00:00<?, ? examples/s]"
            ]
          },
          "metadata": {},
          "output_type": "display_data"
        },
        {
          "data": {
            "application/vnd.jupyter.widget-view+json": {
              "model_id": "8c72323a2c01430e8d5d15d285e7ee19",
              "version_major": 2,
              "version_minor": 0
            },
            "text/plain": [
              "Map:   0%|          | 0/4276 [00:00<?, ? examples/s]"
            ]
          },
          "metadata": {},
          "output_type": "display_data"
        }
      ],
      "source": [
        "vocab_train = common_voice_train.map(extract_all_chars, batched=True, batch_size=-1, keep_in_memory=True, remove_columns=common_voice_train.column_names)\n",
        "vocab_test = common_voice_test.map(extract_all_chars, batched=True, batch_size=-1, keep_in_memory=True, remove_columns=common_voice_test.column_names)"
      ]
    },
    {
      "cell_type": "markdown",
      "metadata": {
        "id": "7oVgE8RZSJNP"
      },
      "source": [
        "Now, we create the union of all distinct letters in the training dataset and test dataset and convert the resulting list into an enumerated dictionary."
      ]
    },
    {
      "cell_type": "code",
      "execution_count": null,
      "metadata": {
        "id": "aQfneNsmlJI0"
      },
      "outputs": [],
      "source": [
        "vocab_list = list(set(vocab_train[\"vocab\"][0]) | set(vocab_test[\"vocab\"][0]))"
      ]
    },
    {
      "cell_type": "code",
      "execution_count": null,
      "metadata": {
        "colab": {
          "base_uri": "https://localhost:8080/"
        },
        "id": "_0kRndSvqaKk",
        "outputId": "b28355b4-0317-4841-b4ac-814bb870ecaf"
      },
      "outputs": [
        {
          "data": {
            "text/plain": [
              "{' ': 0,\n",
              " '(': 1,\n",
              " ')': 2,\n",
              " 'a': 3,\n",
              " 'b': 4,\n",
              " 'c': 5,\n",
              " 'd': 6,\n",
              " 'e': 7,\n",
              " 'f': 8,\n",
              " 'g': 9,\n",
              " 'h': 10,\n",
              " 'i': 11,\n",
              " 'j': 12,\n",
              " 'k': 13,\n",
              " 'l': 14,\n",
              " 'm': 15,\n",
              " 'n': 16,\n",
              " 'o': 17,\n",
              " 'p': 18,\n",
              " 'r': 19,\n",
              " 's': 20,\n",
              " 't': 21,\n",
              " 'u': 22,\n",
              " 'v': 23,\n",
              " 'w': 24,\n",
              " 'x': 25,\n",
              " 'y': 26,\n",
              " 'z': 27,\n",
              " '’': 28}"
            ]
          },
          "execution_count": 13,
          "metadata": {},
          "output_type": "execute_result"
        }
      ],
      "source": [
        "vocab_dict = {v: k for k, v in enumerate(sorted(vocab_list))}\n",
        "vocab_dict"
      ]
    },
    {
      "cell_type": "markdown",
      "metadata": {
        "id": "jwfaptH5RJwA"
      },
      "source": [
        "Cool, we see that all letters of the alphabet occur in the dataset (which is not really surprising) and we also extracted the special character `\" \"`. Note that we did not exclude this special character because:\n",
        "\n",
        "The model has to learn to predict when a word is finished or else the model prediction would always be a sequence of chars which would make it impossible to separate words from each other.\n",
        "\n",
        "One should always keep in mind that pre-processing is a very important step before training your model. E.g., we don't want our model to differentiate between `a` and `A` just because we forgot to normalize the data. The difference between `a` and `A` does not depend on the \"sound\" of the letter at all, but more on grammatical rules - *e.g.* use a capitalized letter at the beginning of the sentence. So it is sensible to remove the difference between capitalized and non-capitalized letters so that the model has an easier time learning to transcribe speech.\n",
        "\n",
        "\n"
      ]
    },
    {
      "cell_type": "markdown",
      "metadata": {
        "id": "b1fBRCn-TRaO"
      },
      "source": [
        "To make it clearer that `\" \"` has its own token class, we give it a more visible character `|`. In addition, we also add an \"unknown\" token so that the model can later deal with characters not encountered in Common Voice's training set."
      ]
    },
    {
      "cell_type": "code",
      "execution_count": null,
      "metadata": {
        "id": "npbIbBoLgaFX"
      },
      "outputs": [],
      "source": [
        "vocab_dict[\"|\"] = vocab_dict[\" \"]\n",
        "del vocab_dict[\" \"]\n",
        "del vocab_dict[\"(\"]\n",
        "del vocab_dict[\")\"]"
      ]
    },
    {
      "cell_type": "markdown",
      "metadata": {
        "id": "_9yCWg4Sd0cb"
      },
      "source": [
        "Finally, we also add a padding token that corresponds to CTC's \"*blank token*\".\n",
        "\n",
        "\n",
        "The \"blank token\" is a core component of the CTC algorithm. For more information, please take a look at the \"Alignment\" section [here](https://distill.pub/2017/ctc/)."
      ]
    },
    {
      "cell_type": "code",
      "execution_count": null,
      "metadata": {
        "colab": {
          "base_uri": "https://localhost:8080/"
        },
        "id": "znF0bNunsjbl",
        "outputId": "c8f262b7-a457-44bf-8e56-37d839ff7a5a"
      },
      "outputs": [
        {
          "data": {
            "text/plain": [
              "29"
            ]
          },
          "execution_count": 15,
          "metadata": {},
          "output_type": "execute_result"
        }
      ],
      "source": [
        "vocab_dict[\"[UNK]\"] = len(vocab_dict)\n",
        "vocab_dict[\"[PAD]\"] = len(vocab_dict)\n",
        "len(vocab_dict)"
      ]
    },
    {
      "cell_type": "markdown",
      "metadata": {
        "id": "SFPGfet8U5sL"
      },
      "source": [
        "Cool, now our vocabulary is complete and consists of 37 tokens, which means that the linear layer that we will add on top of the pretrained W2V-BERT checkpoint will have an output dimension of 37."
      ]
    },
    {
      "cell_type": "markdown",
      "metadata": {
        "id": "1CujRgBNVRaD"
      },
      "source": [
        "Let's now save the vocabulary as a json file."
      ]
    },
    {
      "cell_type": "code",
      "execution_count": null,
      "metadata": {
        "id": "ehyUoh9vk191"
      },
      "outputs": [],
      "source": [
        "import json\n",
        "with open('vocab.json', 'w') as vocab_file:\n",
        "    json.dump(vocab_dict, vocab_file)"
      ]
    },
    {
      "cell_type": "markdown",
      "metadata": {
        "id": "SHJDaKlIVVim"
      },
      "source": [
        "In a final step, we use the json file to load the vocabulary into an instance of the `Wav2Vec2CTCTokenizer` class."
      ]
    },
    {
      "cell_type": "code",
      "execution_count": null,
      "metadata": {
        "id": "xriFGEWQkO4M"
      },
      "outputs": [],
      "source": [
        "from transformers import Wav2Vec2CTCTokenizer\n",
        "\n",
        "tokenizer = Wav2Vec2CTCTokenizer.from_pretrained(\"./\", unk_token=\"[UNK]\", pad_token=\"[PAD]\", word_delimiter_token=\"|\")"
      ]
    },
    {
      "cell_type": "markdown",
      "metadata": {
        "id": "KvL12DrNV4cx"
      },
      "source": [
        "If one wants to re-use the just created tokenizer with the fine-tuned model of this notebook, it is strongly advised to upload the `tokenizer` to the [🤗 Hub](https://huggingface.co/). Let's call the repo to which we will upload the files\n",
        "`\"w2v-bert-2.0-mongolian-colab-CV16.0\"`:"
      ]
    },
    {
      "cell_type": "code",
      "execution_count": null,
      "metadata": {
        "id": "A1XApZBAF2zr"
      },
      "outputs": [],
      "source": [
        "repo_name = \"w2v-bert-2.0-luganda-colab-7.0\""
      ]
    },
    {
      "cell_type": "markdown",
      "metadata": {
        "id": "B1BiezWZF16d"
      },
      "source": [
        "and upload the tokenizer to the [🤗 Hub](https://huggingface.co/)."
      ]
    },
    {
      "cell_type": "code",
      "execution_count": null,
      "metadata": {
        "colab": {
          "base_uri": "https://localhost:8080/",
          "height": 72
        },
        "id": "zytE1175GAKM",
        "outputId": "dd7ec12a-658f-4ec5-d499-1e85da1d6b03"
      },
      "outputs": [
        {
          "data": {
            "application/vnd.google.colaboratory.intrinsic+json": {
              "type": "string"
            },
            "text/plain": [
              "CommitInfo(commit_url='https://huggingface.co/dmusingu/w2v-bert-2.0-luganda-colab-7.0/commit/4fa8b5b33f273395547607b426500f0436250457', commit_message='Upload tokenizer', commit_description='', oid='4fa8b5b33f273395547607b426500f0436250457', pr_url=None, pr_revision=None, pr_num=None)"
            ]
          },
          "execution_count": 19,
          "metadata": {},
          "output_type": "execute_result"
        }
      ],
      "source": [
        "tokenizer.push_to_hub(repo_name)"
      ]
    },
    {
      "cell_type": "markdown",
      "metadata": {
        "id": "SwQM8lH_GGuP"
      },
      "source": [
        "Great, you can see the just created repository under `https://huggingface.co/<your-username>/w2v-bert-2.0-mongolian-colab-CV16.0`"
      ]
    },
    {
      "cell_type": "markdown",
      "metadata": {
        "id": "mYcIiR2FQ96i"
      },
      "source": [
        "### Create `SeamlessM4TFeatureExtractor`"
      ]
    },
    {
      "cell_type": "markdown",
      "metadata": {
        "id": "KuUbPW7oV-B5"
      },
      "source": [
        "The role of the `SeamlessM4TFeatureExtractor` is to prepare the raw audio input in a format that the model can \"understand\". It therefore maps the sequence of one-dimensional amplitude values (aka the raw audio input) to a two-dimensional matrix of log-mel spectrogram values. The latter encodes the signal frequency information as a function of time. See [this section](https://huggingface.co/learn/audio-course/chapter1/audio_data#the-frequency-spectrum) from the Audio Transformers course to learn more about spectrograms and why they are important.\n",
        "\n",
        "Unlike the tokenizer, the feature extractor doesn't need to be \"learned\" from the data, so we can load it directly from the [initial model checkpoint](https://huggingface.co/facebook/w2v-bert-2.0).\n"
      ]
    },
    {
      "cell_type": "code",
      "execution_count": null,
      "metadata": {
        "id": "kAR0-2KLkopp"
      },
      "outputs": [],
      "source": [
        "from transformers import SeamlessM4TFeatureExtractor\n",
        "\n",
        "feature_extractor = SeamlessM4TFeatureExtractor(feature_size=80, num_mel_bins=80, sampling_rate=16000, padding_value=0.0)"
      ]
    },
    {
      "cell_type": "markdown",
      "metadata": {
        "id": "qUETetgqYC3W"
      },
      "source": [
        "Great, W2V-BERT's feature extraction pipeline is thereby fully defined!\n",
        "\n",
        "For improved user-friendliness, the feature extractor and tokenizer are *wrapped* into a single `Wav2Vec2BertProcessor` class so that one only needs a `model` and `processor` object."
      ]
    },
    {
      "cell_type": "code",
      "execution_count": null,
      "metadata": {
        "colab": {
          "base_uri": "https://localhost:8080/",
          "height": 104,
          "referenced_widgets": [
            "c078b56b5ab448ce9554858a0a7e6656",
            "8ccc4820b8ec4462baede7b62e60d479",
            "ed8b59216bdd495e95b99ed9074ca7c3",
            "9b157f61bef743a2af83d5f1ec373792",
            "cf16c9f701304c678c33dedae6e82309",
            "1550b196a4c44ea9b4fc510894670cc5",
            "6639e33f6dfa4405b64e009afbb3f54b",
            "62ae5e3dd2ab4ef5b395aaf52f432d2a",
            "c8964d8b475a4c5fae84326325ed520d",
            "1e155e93b0fb4335b02bdbc6940169b6",
            "269dfbc99a3a449a9fd20651f101aaa6"
          ]
        },
        "id": "KYZtoW-tlZgl",
        "outputId": "5acd797a-5db9-4e61-e8e9-511e6f724a7e"
      },
      "outputs": [
        {
          "data": {
            "application/vnd.jupyter.widget-view+json": {
              "model_id": "c078b56b5ab448ce9554858a0a7e6656",
              "version_major": 2,
              "version_minor": 0
            },
            "text/plain": [
              "README.md:   0%|          | 0.00/5.18k [00:00<?, ?B/s]"
            ]
          },
          "metadata": {},
          "output_type": "display_data"
        },
        {
          "data": {
            "application/vnd.google.colaboratory.intrinsic+json": {
              "type": "string"
            },
            "text/plain": [
              "CommitInfo(commit_url='https://huggingface.co/dmusingu/w2v-bert-2.0-luganda-colab-7.0/commit/ad9e1d12ffa59f61ae0b23ec5eb26f4f1c19ae02', commit_message='Upload processor', commit_description='', oid='ad9e1d12ffa59f61ae0b23ec5eb26f4f1c19ae02', pr_url=None, pr_revision=None, pr_num=None)"
            ]
          },
          "execution_count": 21,
          "metadata": {},
          "output_type": "execute_result"
        }
      ],
      "source": [
        "from transformers import Wav2Vec2BertProcessor\n",
        "\n",
        "processor = Wav2Vec2BertProcessor(feature_extractor=feature_extractor, tokenizer=tokenizer)\n",
        "processor.push_to_hub(repo_name)"
      ]
    },
    {
      "cell_type": "markdown",
      "metadata": {
        "id": "DrKnYuvDIoOO"
      },
      "source": [
        "Next, we can prepare the dataset."
      ]
    },
    {
      "cell_type": "markdown",
      "metadata": {
        "id": "YFmShnl7RE35"
      },
      "source": [
        "### Preprocess Data\n",
        "\n",
        "So far, we have not looked at the actual values of the speech signal but just the transcription. In addition to `sentence`, our datasets include two more column names `path` and `audio`. `path` states the absolute path of the audio file. Let's take a look.\n"
      ]
    },
    {
      "cell_type": "code",
      "execution_count": null,
      "metadata": {
        "colab": {
          "base_uri": "https://localhost:8080/",
          "height": 54
        },
        "id": "TTCS7W6XJ9BG",
        "outputId": "b43e22ba-2ee0-43a3-b1f3-6fb876e0ca37"
      },
      "outputs": [
        {
          "data": {
            "application/vnd.google.colaboratory.intrinsic+json": {
              "type": "string"
            },
            "text/plain": [
              "'/root/.cache/huggingface/datasets/downloads/extracted/f41fa3f1dcaf43ac5071b5022181b4a0d77f872115acbc3c8386d9568963751d/cv-corpus-7.0-2021-07-21/lg/clips/common_voice_lg_23717967.mp3'"
            ]
          },
          "execution_count": 22,
          "metadata": {},
          "output_type": "execute_result"
        }
      ],
      "source": [
        "common_voice_train[0][\"path\"]"
      ]
    },
    {
      "cell_type": "markdown",
      "metadata": {
        "id": "T6ndIjHGFp0W"
      },
      "source": [
        "W2V-BERT expects the input in the format of a 1-dimensional array of 16 kHz. This means that the audio file has to be loaded and resampled.\n",
        "\n",
        " Thankfully, `datasets` does this automatically by calling the other column `audio`. Let try it out."
      ]
    },
    {
      "cell_type": "code",
      "execution_count": null,
      "metadata": {
        "colab": {
          "base_uri": "https://localhost:8080/"
        },
        "id": "qj_z5Zc3GAs9",
        "outputId": "4230ef52-2fa6-41a5-e2b8-fc8997306a8e"
      },
      "outputs": [
        {
          "data": {
            "text/plain": [
              "{'path': '/root/.cache/huggingface/datasets/downloads/extracted/f41fa3f1dcaf43ac5071b5022181b4a0d77f872115acbc3c8386d9568963751d/cv-corpus-7.0-2021-07-21/lg/clips/common_voice_lg_23717967.mp3',\n",
              " 'array': array([0.00000000e+00, 0.00000000e+00, 0.00000000e+00, ...,\n",
              "        9.10827475e-06, 1.66715530e-04, 0.00000000e+00]),\n",
              " 'sampling_rate': 48000}"
            ]
          },
          "execution_count": 23,
          "metadata": {},
          "output_type": "execute_result"
        }
      ],
      "source": [
        "common_voice_train[0][\"audio\"]"
      ]
    },
    {
      "cell_type": "markdown",
      "metadata": {
        "id": "WUUTgI1bGHW-"
      },
      "source": [
        "\n",
        "Great, we can see that the audio file has automatically been loaded. This is thanks to the new [`\"Audio\"` feature](https://huggingface.co/docs/datasets/package_reference/main_classes.html?highlight=audio#datasets.Audio) introduced in `datasets == 4.13.3`, which loads and resamples audio files on-the-fly upon calling.\n",
        "\n",
        "In the example above we can see that the audio data is loaded with a sampling rate of 48kHz whereas Wav2Vec2-BERT was pre-trained at a sampling rate of 16kHz. The sampling rate plays an important role in that it defines how many data points of the speech signal are measured per second. Therefore, sampling with a higher sampling rate results in a better approximation of the *real* speech signal but also necessitates more values per second.\n",
        "\n",
        "A pre-trained checkpoint expects its input data to have been sampled more or less from the same distribution as the data it was trained on. The same speech signals sampled at two different rates have a very different distribution, *e.g.*, doubling the sampling rate results in data points being twice as long. Thus,\n",
        "before fine-tuning a pre-trained checkpoint of an ASR model, it is crucial to verify that the sampling rate of the data that was used to pre-train the model matches the sampling rate of the dataset used to fine-tune the model."
      ]
    },
    {
      "cell_type": "code",
      "execution_count": null,
      "metadata": {
        "id": "rrv65aj7G95i"
      },
      "outputs": [],
      "source": [
        "common_voice_train = common_voice_train.cast_column(\"audio\", Audio(sampling_rate=16_000))\n",
        "common_voice_test = common_voice_test.cast_column(\"audio\", Audio(sampling_rate=16_000))"
      ]
    },
    {
      "cell_type": "markdown",
      "metadata": {
        "id": "PcnO4x-NGBEi"
      },
      "source": [
        "Let's take a look at `\"audio\"` again."
      ]
    },
    {
      "cell_type": "code",
      "execution_count": null,
      "metadata": {
        "colab": {
          "base_uri": "https://localhost:8080/"
        },
        "id": "aKtkc1o_HWHC",
        "outputId": "23246a8d-3b41-431f-d4d2-637fccc804f8"
      },
      "outputs": [
        {
          "data": {
            "text/plain": [
              "{'path': '/root/.cache/huggingface/datasets/downloads/extracted/f41fa3f1dcaf43ac5071b5022181b4a0d77f872115acbc3c8386d9568963751d/cv-corpus-7.0-2021-07-21/lg/clips/common_voice_lg_23717967.mp3',\n",
              " 'array': array([ 0.00000000e+00,  0.00000000e+00,  0.00000000e+00, ...,\n",
              "         3.39801103e-04,  1.00303529e-04, -2.85733804e-05]),\n",
              " 'sampling_rate': 16000}"
            ]
          },
          "execution_count": 25,
          "metadata": {},
          "output_type": "execute_result"
        }
      ],
      "source": [
        "common_voice_train[0][\"audio\"]"
      ]
    },
    {
      "cell_type": "markdown",
      "metadata": {
        "id": "SOckzFd4Mbzq"
      },
      "source": [
        "This seemed to have worked! Let's listen to a couple of audio files to better understand the dataset and verify that the audio was correctly loaded.\n",
        "\n",
        "**Note**: *You can click the following cell a couple of times to listen to different speech samples.*"
      ]
    },
    {
      "cell_type": "code",
      "execution_count": null,
      "metadata": {
        "colab": {
          "base_uri": "https://localhost:8080/",
          "height": 80
        },
        "id": "dueM6U7Ev0OA",
        "outputId": "add04d71-fea4-453e-db03-501dc00d1fd7"
      },
      "outputs": [
        {
          "name": "stdout",
          "output_type": "stream",
          "text": [
            "omwana oyo alina amagezi mangi nga kitaawe\n"
          ]
        },
        {
          "data": {
            "text/html": [
              "\n",
              "                <audio  controls=\"controls\" autoplay=\"autoplay\">\n",
              "                    <source src=\"data:audio/wav;base64,UklGRqJIAgBXQVZFZm10IBAAAAABAAEAgD4AAAB9AAACABAAZGF0YX5IAgAAAAAAAAAAAAAAAAAAAAAAAAAAAAAAAAAAAAAAAAAAAAAAAAAAAAAAAAAAAAAAAAAAAAAAAAAAAAAAAAAAAAAAAAAAAAAAAAAAAAAAAAAAAAAAAAAAAAAAAAAAAAAAAAAAAAAAAAAAAAAAAAAAAAAAAAAAAAAAAAAAAAAAAAAAAAAAAAAAAAAAAAAAAAAAAAAAAAAAAAAAAAAAAAAAAAAAAAAAAAAAAAAAAAAAAAAAAAAAAAAAAAAAAAAAAAAAAAAAAAAAAAAAAAAAAAAAAAAAAAAAAAAAAAAAAAAAAAAAAAAAAAAAAAAAAAAAAAAAAAAAAAAAAAAAAAAAAAAAAAAAAAAAAAAAAAAAAAAAAAAAAAAAAAAAAAAAAAAAAAAAAAAAAAAAAAAAAAAAAAAAAAAAAAAAAAAAAAAAAAAAAAAAAAAAAAAAAAAAAAAAAAAAAAAAAAAAAAAAAAAAAAAAAAAAAAAAAAAAAAAAAAAAAAAAAAAAAAAAAAAAAAAAAAAAAAAAAAAAAAAAAAAAAAAAAAAAAAAAAAAAAAAAAAAAAAAAAAAAAAAAAAAAAAAAAAAAAAAAAAAAAAAAAAAAAAAAAAAAAAAAAAAAAAAAAAAAAAAAAAAAAAAAAAAAAAAAAAAAAAAAAAAAAAAAAAAAAAAAAAAAAAAAAAAAAAAAAAAAAAAAAAAAAAAAAAAAAAAAAAAAAAAAAAAAAAAAAAAAAAAAAAAAAAAAAAAAAAAAAAAAAAAAAAAAAAAAAAAAAAAAAAAAAAAAAAAAAAAAAAAAAAAAAAAAAAAAAAAAAAAAAAAAAAAAAAAAAAAAAAAAAAAAAAAAAAAAAAAAAAAAAAAAAAAAAAAAAAAAAAAAAAAAAAAAAAAAAAAAAAAAAAAAAAAAAAAAAAAAAAAAAAAAAAAAAAAAAAAAAAAAAAAAAAAAAAAAAAAAAAAAAAAAAAAAAAAAAAAAAAAAAAAAAAAAAAAAAAAAAAAAAAAAAAAAAAAAAAAAAAAAAAAAAAAAAAAAAAAAAAAAAAAAAAAAAAAAAAAAAAAAAAAAAAAAAAAAAAAAAAAAAAAAAAAAAAAAAAAAAAAAAAAAAAAAAAAAAAAAAAAAAAAAAAAAAAAAAAAAAAAAAAAAAAAAAAAAAAAAAAAAAAAAAAAAAAAAAAAAAAAAAAAAAAAAAAAAAAAAAAAAAAAAAAAAAAAAAAAAAAAAAAAAAAAAAAAAAAAAAAAAAAAAAAAAAAAAAAAAAAAAAAAAAAAAAAAAAAAAAAAAAAAAAAAAAAAAAAAAAAAAAAAAAAAAAAAAAAAAAAAAAAAAAAAAAAAAAAAAAAAAAAAAAAAAAAAAAAAAAAAAAAAAAAAAAAAAAAAAAAAAAAAAAAAAAAAAAAAAAAAAAAAAAAAAAAAAAAAAAAAAAAAAAAAAAAAAAAAAAAAAAAAAAAAAAAAAAAAAAAAAAAAAAAAAAAAAAAAAAAAAAAAAAAAAAAAAAAAAAAAAAAAAAAAAAAAAAAAAAAAAAAAAAAAAAAAAAAAAAAAAAAAAAAAAAAAAAAAAAAAAAAAAAAAAAAAAAAAAAAAAAAAAAAAAAAAAAAAAAAAAAAAAAAAAAAAAAAAAAAAAAAAAAAAAAAAAAAAAAAAAAAAAAAAAAAAAAAAAAAAAAAAAAAD//wAAAAAAAAAA//8AAAAAAAAAAAAAAAAAAAAAAAABAAAAAAAAAP//AAAAAAAAAAAAAAAAAAAAAAAAAAAAAAAAAAAAAAEAAAD//wAAAAAAAAAAAAAAAAAAAAD//wAA//8AAAAA//8AAAAAAAAAAAAAAAABAP7/AQD8/wcACgAKAAkAAAAPAAkABQALAAsABQAQAA0ACQATABAADgAFAAMABAD+//v/+/8AAAgABAD+/wMADwASAAoAGgAZABoAGgAaACYAJwAmABwAEQASABIAEAAZAA4AFQAWAAgACgAJAAcACAAAAAAA8f/x//X/8f/5/+v/9P/6/+//7//r//D/6v/o//T/9//9//7//P8BABUADwAaAAoABgD8//b////1//b/8v8AAAAAAgAAAAUAAQAEAAgADAAPAAQAAwAGAPz/BAD5//j/BwD0//j/6v/j/+n/5P/m/+P/3v/c/9r/1v/b/+H/3//m/+z/6//p/+3/7f/v//b/AAD1//j/+//1//T/AAD///7/AwACAAYAAAAHAAQAAgADAAUA+v8BAPX/9/8CAPr/+v/z//T/9P/8//H/7P/l/9z/3v/d/9//5P/a/+L/7f/g/+b/5//s/+v/6P/z/+v/8P/q/+3/9f/w/+r/+f/2/+7//f/5//z//f/3//f/CwADAAAABAAMAPj//f8CAP///P/1//7/8f/4//z/CAD0//j//v8IAAwADwAPAAAACgASABYABwAOAAMA+f/4//3/9P/w/wEA///9/wwABQD9/wgAFQAOAAoADwAHABIAEgAhACcAIQAhACAAHwAsADUAKgAmACYAIwAXABgAHQAgABoAEgAZABEACgATAAwAFAALAAgAFwAfACAAHgAsACcAIQAWABYAFgAgACsAKQAaABYAFAATABIAGQAhAA0ADQAfABoADQAMAAsACgAJABAAEQAPABEADgAFAAkAAAD9/wUAAwAEAP3/+////wIABAD7/+n/7//0/+3/8v/t//T/9v/u/+f/4P/n/+//6//v//b/5v/b/+T/8P/2//3//P/3//3/CwANAAgACQAJABAAFAAYABUACwAPAA4ACwAQACAAGwAZAAsAEgAgABAACgALABkAHAAjABUAFQAJAA0ADAABAAYA+f/z//j/9f/s//z/7v/z/+3/7//y/+f/5v/v/+f/4//1/+z//P8AAPr/9/8BAPr//f/8/+7/7f/0//D/5P/2//f/6f/w//H/9v/1//v/8v/0/wEA8v/w/+X/5P/q/+T/5v/o/9v/4P/b/93/5f/r/+P/5f/p/+f/5//h/+r/4v/u//X/9//t//X//P/9//b/6v/6//P/5f/n//n/6P/e/+D/6P/m/+D/6//9//z/+/8EAPn//P8DAAMA/P/9/+n/7v/1//X/8//1//v/DQABAAUAFgAIAA8AAAAQAP//+v/8//r/AQATAB4ACwD8/w4ADgATABIAAAACAPf/7v/u/wsA7f8CAAQAGAAnABgACQAPAB4A/v///+7/9//x/+7/yf/R/8b/4P/s/+n/BwDu//X/AQD9/+T/AgADAPD//f8JAA0ACgD+/xsAEQAYAB8AEQAaAB4AKgAdAB8ABwANAAEA//8tACsAGAAcABUAKAAiABUAIwAqACsAIQAeAA0AGgAkACYAFwAlAEcAMQAxAEEAQABXAEMASQBPAEwAUQA9AFAAUABRAFIASgA6AEYAOQAzABYA8/8EAPj/7f/s/9v/5//6/wMAGQAbAA0AFAAAAPj/FgALAP7/DQD1//L/DgD6/xkABgASACMADgAEAAQA6//r//z/+f/p/+X/DgAYAAsABQAvANf/NABSAEYAiwDX/8L/HAD5/9L/BADr/6P/x//l/8j/yf/z//r/2P/Z/9L/4//a/7j/qf+W/6P/hP9u/4//kP9x/4r/ef+K/4P/af+R/4z/ov+h/6v/sP+j/8v/0//a/+//5f/8/woAIwAiAAwAJABHADUAHgAxADgAQABCAGAAYwCCAIIAlQCrAHkAYwBnAGoAPQBKAFgAXQBgAEgAYABLADsAPwA9AFEARwAqABAAEgAZAA4AHQAaAA4AJgAyAEcASAA0AFQAXAA/AF4AWABKAEYASwBdAG8AhgB8AIUAigCaAKcAwgCoAJcAqQCmALUAtwCrAJ4AqgCuALIAvwDKAMgA3gDcALwAswCzALAAwwDMALAAyADSALgAvADAAL8AyAC8AMoAngCEAJwAhgB8AFEAUQBMAHQAjABuAF4ASABJADsAPQA3AC8AAgD8/+X/0//L/53/q/++/7//u/+Y/3f/ev9L/0v/J/8Q/wf/6v4B/+D+zv68/sX+tP60/qn+of6m/pn+lv6S/oz+dP5q/kn+VP5J/lL+ZP5T/kv+R/5b/nP+av5n/nT+e/6M/of+hP6d/oL+dP6V/pz+k/6S/qP+l/6Q/qf+rv6h/sr+1f7T/t/+1/7n/gX/Af8Q/yL/GP8j/xv/KP8q/xb/Jf8v/z7/S/9d/3T/ef+B/6f/xP/H/8v/zP/V/+7/JAAZAC0AKQA6AEQAPQBOAFQAgwCIAH0AcQCBAIAAiABsAJUArwCsALUAtgC+AM8A3AC7AMcAzwDUAOUA4ADaAO4A6ADmALYA0wD7AAYBBwEAAQoB7wAEAQgB/QAEARYBDQEOARABFAEQAQoBHQEeAToBOwEbASUBEgEVARIBAQH3AN8A5gD7AOsAywDeAMwAzADWAOwAwwC2ALYAjwB8AIIAmgBbAGQAUgA6AEQAPgA6ACsAJQA3AFEAUAA2ACUALQAZABIAEAAMABMACgAGABgADAAUABQADwAfABYAJAATAAQA+f/0//r/6//k/93/4P/m//7/4//Y/93/x//Y/8//0//J/8r/sP+N/4T/fP+K/3r/bf99/4X/fv+X/4P/of+o/4j/mf+V/5v/rP+w/4//i/+d/5P/lv+U/6f/q/+n/7//v//I/8f/4f/N/9j/3//H/97/8//f/7r/zP/K/8X/0//O/77/zv/j/+n/1P/t/+P/0v/9//T/9f/s/8b/3f8BAAcAFwAQAAoAJAAdABYADAAQADAASQBIADUAKwA7AFYAOgA9ADgAMwBFADgAOgBNACUAKAAqACcALAAXACwAJwA4ACAAEAAfACwANwAjABEAHwAyACcAKQArADIAOgBCADcADAANABIA6/8CAAAA5//v/9T/4v/0/wQA8f/a/wIAEQANABoAEAACAPH/CAADANv/5f///xAACwAlAB8ALAAWACIAPQA2AEMAMQAoAC4APwAdABgAMQAgAPn/DwA9AB0AHAAJABYALwAZADAAIQAgACsAEwD6/+//8P///+3/9v8MABkAFwAsACkAAwAbAB8AFQAFAPf/9f8GAAIADwD4/+r/5v/3/+7/9f8CAPH/BgDy//b/9v/t/+H/AwD0//D/EQAEAPb/6f/8/+v/2f/p/+P/4f/6/wQAEAAZABkAJwBGADQAOAA8ADMANwAUABAABQAXAPH/9P8RABYAGgAHAA0ABwAaAPz/9f/5/+z/4//8/wAA9//o/9v/6//f/9n/3f/k//D/5f/l/93/q/+0/6v/uP+v/8T/3f/K/8H/x/++/8f/yf/F/97/yP/a/8T/w/+5/7f/w//b/9X/zv/m//H/7//P//H/3P/K/9b/z//N/8j/1P/p/+r/1P/4/+f/3//5//X/BAACAAIA8f/p/+H/7f/l/8b/1//m/+D/BQD8/+r/0v/I/+j/3f8WABcAFAD8//b/9P/w/wAA6f8AAAMA+f/+//7///8dABcAEQAJABEAEQAoACgAAAD+/wYAAAD1/+3/3f/p/+//4v/Y/+T/1P/n//P/8f/4/wQAAwD9/xYAGAANABAABgABACcAGAABACAACgAWAAoAAAAZAB8AOgAuACwAFgATAA4AGwAzAC8AEAAjAC0ANQBMAEoAXQBVADAAJwAcAPr/CwAKAAsA+//v//H//f/4//b/9P/t/xEAHAAZABkADgAHAOr/6/8HAAIA8P/4//7/8//2/+3/FAAVAP7/BAD+//j/DwD+/wgADwAVACMABAAOAAkA+//3/wQA///u/+H/2//f/9L/zP/Y/9j/8v/k/73/vv+7/8v/zf/N/8r/1f/a/8z/0//f//j//P8PAPf/6v/8////EwAgACkAMgA7ACsALwApADYAMAAcADAAJAApAB0ADAAXAA8ADAAZACYANgAvAAgA8P/5/xsADgAMAB8AHAAMABQAPQAoAAkAHQAWABYABwAOADAALQAfACIAKQAiADEANwA2AAsANgBNAFEAZABJAE8ASgBAACUAHgBFAEoAQABWAFUANgA/ADMABwAtACwABwADAPv/8v/8//L/AAAQABwAAwAIAB0ACQAYABYADwD9/+z/6v/1/wAAEgAIAO7/6v/p/9X/5v///+T/0v/c/+b/7f/g/+H/4v/s//f/CAD+/+/////n/+n/0//g/9v/0//d/9D/3v8NAP7/0f/U/8f/2//M/9L/z//X/+D/v/+//5//n/+n/4z/gP+W/5z/l/+6/87/x//B/9j/wP+h/8z/0/+2/97/AADh/9H/xP/G/9z/8//4/+f/3//s/wMA3//v/wEA/f8DAPb/+f/8//v/4//x/wAADQAAAP7//f8AAA8AAgAWAAAA9/8TAAMA9P/j/9v//v8OAAcA7v8GAP7/8P8FAAYADgAaAP7//f8vAA4A8//l/+v/4//i/+v//P8OABgAHgAVACEALgAUAAsAOgAmABcAGgAWAB4APgAyABwAGwATABoALwAwABQADwATABMAGgAfAB8AFQD5/yUAFwABAAIA+f/2/wAA8//V/93/1P/Y/9P/6f/h/9H/vv++/8H/4P+2/6T/pP+M/7f/rP+9/97//P/c/+f/AgD4//D/CQAUABQACwD///P/4f/y/8//1v/q/+f/5v/t//v/BAAjAB8AHgAkADEASgAxADUAUABEAB8AMQAvACwALQAzAC8ACAAWACIALAAuACoAJQAXACUARgA8ADUAFwANABMAPgBGADoANgA8ADYAQQA9AC0ALQAOAC4ACAAZACgAGQAXABgAEwALAO7/CAANAPX/+v8AAAIA3//y/+T/8P/g/97/+P/V/8T/0v/n/9X/vP/x//f/AAD+/+D/9P/6/9v/6f/o/+X/CgD+//3/2v/h/+v/8P8GAOz///8HAAoABADR/9f/2f8EAPv/7f/m/+f/3f/S/+T/+f8TAPj/IgD//+3/CgAIAPj/GQAZAP3/BwAAAPv/4f/w/+L/9P8NAAEAKQBCAEMAJQAWAA0AGwAQAAgAIwAVACYAKQAcAAwAEAAoADwAFwAnADMAMAA3AAsAGgAaACcAIQAsADsAQwBSADQANwAEABsARAAtACoALgAvABMAEwAVABIADAAVAB8AJAAgACwAFwD4//T//v8PABMAAgD///f/6f/9////HwAQAAMAAQD2//r/BQAjABQAHQAgAAUACQAMAPz/5v/m/+7/AwAGAN3/3//t//D/9P/R/+3/9P/R/+n/2P/n//X/yv+4/7H/tv/d/9L/7P/x/9j/2//M/+H/1v/X/8n/w//R/9r/6P8HAPn/7v8FAAQADgAZACEABgAKABAA+P8CAAkA//8DAP3/2P/+/w0A7v///xQAIgD3//n/7//s/9D/s/+//8n/0/+9/6v/uP/m/8//0P/R/9v/2P/Y/+z/0//O/9f/2f/i/+3/4f/s/wEA+/8UAB8AIgA3ACIALQBGADMAFwAPAOv/BQD7/9X/6f/w/wYA/f/T/9r/7v/i/9r/xP/A/8//qP+w/8z/pP+2/8X/9//4/+v/8v/Y/9D/xv+3/8L/8f/5/+b/8//o/+L/AADX/9b/4v/i////FQDy/w4ACwDv/xYAJQAmACMAJQAkACoADQAUACYAIgAJABoAJQArACIAIwArACEAFwAUACEAGgA3ADwAOAAgAOT/+P/5/+f/6/8AABYA6P8FAPb/+v/z/+T//f8sADQAHgAjAPv/8f/q//v/7v/b/9b/7//7/xMALAAXACAAPwArACYARgBBADwALwAtADcAIAAZAB8AIAAiADwAOwBFAFUANQAzACEATAA6ADIAMQAxACQAHQA0AAQA//8OAAMABAAkAAgA/f8EAB8A/P/k//L/DgAOABkAEgD//y0AGgAfAA8AKgA5ACUAIQAqAD4AIwA4AEQAJAAUABEAHwAYABcAAgAVACsACwDn/8//7v8DAB4AHgABAPL/+f/h/9v//P8cAAwA4v/h/+D/5f/r/+z/3P/K/83/7v/3/9//5P/Q/8//yf/H/+7/8//z/93/7f/h/8T/4//I/8//4v/m/wcAAQALAAcAGQAfABsAEwAEAB8AFwD///z/FQADAAkACQAjACAAFwAuABkADwAAAPX/2//+//7/8f8OABcACgAMAPj/6f/t/+r/7v/3/xMAAwD4/xEAKAAOAOj/8P/9/+z/HAAsAAoAAADn/xYAIAAcACAAHwArAA0AKAAvAB4AAAALABgA5f/V//X/+P/6//j/3P/n//T/+v8CAP7/8f8CAN7/3//t/9v/zv+x/4r/i/+j/7n/u/+n/63/yP/A/9D/6f/S/9X/uP+u/7b/yf+i/7j/yv/W//P/2v/T/+X/3f/V/+n/4//l/+H/2v/A/63/pP+2/7P/yv/3/wEA+P/3/+3/9/8AAAUA9v/l/9j/DAAWAAIAJQAnADMABgAZACMAGQAaAB4ADQAFAPj/CAAFAN//4v/i/+z/+/8EAAgAEAAqACkAFAD9//X/DQAAAPn/AwAIAAcAFgAcAA4A6f8AAPf/7/8DABsAGAAWAAoAEAARAAgAEwD+/w8AGAAiAO//8v8GAEYAVgAoAD8ASgBLAFsARQBbAGAAUgBFACYAKAA3AD4ACwAXADEARwAnACMAFwAiADwAHAAPABAALgA7ABUA9P/w/wUADQAMABwAGQAgAP7/6P/i/+v/3f+6/8j/5P/i/9D/3//0/9n/2f/x/+//AAAMABcAGgAGAPz/CQD5/+n/9f/+//3//P8YABsAJgAoACkANgAfABQA/f8EABsABQD1/wYAFwAIAAgAFwAKABAAGQAnACoARQBLABUAMwA9ADIAMwAlAD4ALwARACAAHAAgAEUARwA1ACMALABKAEMANgBCADkAFwAgABkA7//h//X/8/8QACYALQBDAC4AEwAJAP3/DAAGAAYAEQAjAA0AAAD5/wEAFAAEACgADwA2AAwAIgAQAPD//v/f//H/4f8XABMABwD3////9//T/wAAFQATAPT/5P8CAAAA9P/R/8X/1P/t/+j/8v/7//v/z//G/9D/1v+4/7//+v/A/7b/p//O/9T/zf/d/93/1//I/6j/p/+X/53/m/+F/6n/mv+4/87/zP+q/6//wv+8/8P/4v/V/6D/qP/H/8f/oP+P/6f/vv+0/73/zP/H/+D/2//Q/+j/0P/N/+T/6v8BAP//9P/s/97/1P/v/////P8GAP7/HQAfADgATwA7AFEAIAD4/yAAIgAeABoAHwAHAOb/6P8FAPv/1//8/xIANAA5ACUA5/8IAPv/+v8FAOT/IQD2/wAABQD9/+H/1f8EAC8AHAAGAB0ALQAaAAsAJgASAAUA2//8/xUAHgAlAFMAigByAIYAgABfABwA/v8XAAIA/P/5//7/BAADADcAOABFAA8A3f8HAAYAAAD//wUAGwD8/+H/sf+J/9H/9v8kABcAHwAdAPr/9/8LADAANQA7ACgAKQAgADoAFwDk/wcAJwAsAB0AHwAsACMA9f/c/+j//f8PABUACAArADgANQAzACcABADh/8//pP/h/wAAEAAdABwAKgBXADwABAAZABsAGgALAB8AIQBCAEIAOwA9ABgAFAAMAPv/8P8FAP//9v8RACkANAAoAB0AKgAfAAUAAADf/8D/oP+0/77/t//4/y8AMQD4/97/2//d/9v/3P/v//3/+v/o/+f/2P/V/93/uv/C////9//6//n/3f/R/+j/3P8KADoAEwAeABAAHgD//9P/2P/m/+X/BgAgADEAJAASABoABwAOAAQAFwARABAA+//V/8H/xf+5/7r/yf/V/8j/q//T/9b/2P/S/+D/3v/R/7//oP+R/7L/wP+3/8D/6P/9/8b/3/8FAD4AKABVAF8ARgBQABsAGAAaADcATwBqAFAAYQBiAHUAcwBrAEAABwAwACYAMwAqAPv/3//8/wAA9//3/xQACgAEABMAAgAeAPX/9/8UAP//6//4/woA9P/i/+X/+/8fACIAGQAdADMAMQAkABoAAwAIAOT/5v/8/+P/3//4//v/8P8SADsAIQDy//H/AQDl/+H/6/+9/6v/kv+2/9X/r//W/wAA7v/t/+b/7P8BAPH/zv/d//j/wv/O/93/0f/o/+X/9v8ZAAYAxf/D/8j/uf+3/9D/0//R/8L/yf/T/73/zf+8/87/uv+o/8D/nv+q/9n/9P8CAO3/3v/2/+z/2f++/83/8P/R/9D/8//4/9r/6/8BAB4AHgAiAB4AIQAxAP7/BAARACAAKQAkACUAOQAwAA4AEgANAPv//f8kAEcAPgAdADkAIwAiABEA5//7/////v8JADkARQBDACUADQD5/wAAIQAoABUADgAsAB8AHAAOAA8ANQAyAAwAJwAnACYAMAAjAD8AJAAcABsAKwArADgAJwD2/xoAOQBXAEMATQBuAEYALABPACgAAgD8/+b/5v8AACgACAACABQAIwAtACcADQAEACQAMAAYAAwACgD9/+3/9P8qADgAPgA2ACkAVQBHACwALwAsADcATwBNADQALAAUAPf/BADv//L/AADk/+v/9P/9//P/BADk/6z/uP/k/wAA5v/j/wAA+v/r//L/CAD1/9f/AgAaAB0AJAA+ADsAHgASAAEA//8SABkALgA5AEIAWgBDABwADQADAPT/9P/u/wgAAQAAAAgAAQARAPL/8P/+/wYA7f/i/9//0f/Y/8H/q/+c/7z/2v/k/6D/pf+//8T/u/+r/7v/s//Y/9r/zf+y/7P/qf+U/5r/m/+V/6z/wv+3/8H/0//N/7L/rv/I/9r/8//a/7L/uf/D//X/2P+//+b/9f8CANb/s/+j/77/2f/0/xYAHQAdAAUA/f/8/xoADgD5//b//f/0/+D/yP/D/9L/9P/x/+z/CQANAAgA8v/2//j/HwALAPb/4f/n//H/1v/J/8f/+f/1/wkABQAMABYA8P/t//L/6f/0/woACQArACEAFQALABEACwAJACsAHwAZACgASQAhADsAUQA7AC0AJAApADwARgBHAFcALQAhAC8AIAAuAEYALwAiADIANwAMABoAJwAhACcAPQBTAEsAWABcAGAAMwAdACAAHAATACYAWABQACoADgAjACMAHgAQABEAMQAmABMAHwAdAA4A7f/t/xMA+/8GABYAHQAJAP7//P8GAAQA9f/+/wQAHgAAAP3/AgDp//D/AAD4/+v/9f8UAAoAHAAxAC0ADwDr/+L/7v8MAAAAIQAoABYAEAAAAOD/zf/a/+D/9P8DADgALQDx/8z/vP+5/8H/0//Y/wEA6P8BACcA4P/D/83/4v/7/wUAHgA5ACEA/v/m/+v/7//7/+H/3v8yAC8AFAD4/+n/5//O/6L/j//N/9v/5f/t//j/+f/l/9f/1v/J/9L/5P/d//f/4v/Y/8j/t/+0/6v/q//M/+P/1P/r//3/IAD//9f/4//N/9H/1f8CADkAKAAnACUARQBJAAYA1f/J/wAA+P/z/xcAFwA0AC4AGgD7/9P/7f8NAEAATABEAE4AQgAjAAkABAAHAAIABQAWABcAIgAwAC4AEADv/9//6v8KACcAGQAtADoARwA8AN//1P/V//X/GAAZAB0AMQA+ACEAFgAHAAkA9f8HADsAXQBeAFgAQQANAAwACAACAOX/7v/6/wsAMQBPAC8AAwDy/8v/2P/n/woABAAQABYAJwAbAP//EwDs/7n/wv/Q//b/EAD0/w4AGAAYAPf/6/8MABwAIAAyADwAOQArABYA7f/U/9P/3v/x/9H/2P/N/+n/+P/p/8z/xv/w//X/4v/a/+D/1v+3/6r/sv+d/8L/1P/F/9j/0v/X/9X/u/+6/7j/y//W/8//zv/Y/+D/zP/M//j/8//t//H/9v8BAAQAJAD4/+T/3P/l/+n/3f/v/wgAJgAqABsAJAAsABsAJQAUAAAA/P/3/xgAOQAnABoAHwALAPH/+//r/xwAPQBBACUADgARAOT/yP/j//b/+P8eABUAMgAdACIA///e//f////r/+z/DAAKAP7/9f8SAAcADwD2/wMAHgAwACEAGwAvAEQAMAADAO7//f8aABoALQAiADEANAAvAA4AHwAPAPr/BwAXACEABwAAAPL/3v/C/93/2v/W//X/DwATABYACADM/8L/m/+c/8//0v/p//r/AwAdAA4A3//x//j/DQAfADIALgAiAAsAEQARAMT/3v/Z/wAAEwAkADYAEwAPACYABQDi//f/+f/r/+L////6/xEADgAAAPX/CwDk/9r/3v/t////4//0/+3/BwDz/+b/7v/q/+n/AQD+/w4ACAD//9n/5/8iABIALwAQAAgAAwARAB8ADwAFABAAAwAKACAABgAOAAUABAADAPf/BwAKAPv/GgAaAAUA/v/3/+7/6P/3//L/+f8fADAAPgA2AAsA///6/woACwAQADcAPABPAGoAUABIADYAIQAUABwAJwARAA8AAAACAAoACAAOAAoA9v/s/wAADQD8/wMA9v/z/wEA7v/y/+n/4P/f/9//9/8ZACEAIwAOABkAFQAMAB8AJQAVAPr/CgATAAkAJAA9AD0AQwAkACEAPABJACIAEQAQAA8AGQAFAA8ADAD0/+7/5f/O/+3/6v/Q/9n/0P/S/8X/jP+P/5v/qP+z/5b/pP++/73/0P/c/7v/1P/f/9v/wP/E/8//tP/E/+T//P8CABAAEAARAB0AEQD7//7/6////xAABQDg/9r/2v/n//D/3P/6//H/CAAaAAMACgDy/6//vf/R/9P/pf/P//n/wP/V/93/1f+8/8H/2P/Z/9//5//Y/9v/4f+//4n/mP+s/63/uf/P//f//P8KAPn/BQD4/+H/1//l//D/7f8YABIAKgA0AAcAIAAzACwAMwAhACQANwA8AD4ARAAfADYALwAOAC4AJgAYAB8AOgBPAFMASwArAAEAEwAhAB8AJAAaADgALgApAEgAJwAMAPz/HwATAAwAOQAaADoATwA2ADsANgAbABQAGAA3AE0AbgCHAHIAaABKAEgANgA6ADkAMQBIADEAPAA4ACoAMgAeAAgA+f8kADoAQQAvAPf/8v8NAOL/z//e/8H/+/8HAAQA/f////3/GQAWABQAJQAVACEA9//6//r/8P/r//X/+v/8/wMADAACAA8ADgAlABkA6v/v/9D/yf+7/8f/3f/w//L/AgDh/83/3f/a/+L/2//y/+T/1P/v/+v/6P/7//b/8//r/+7/6//m//L/AAD3/yQAKQAHAPf/6f/z//v/AADx/xUAFQADAPr/7P/c/8//wv/O/+7/BADz/wgACADj/+//7P///+r/6P/p/+j/2P+9/73/xP/u/9T/2f/7/wEA+f/j//z/3v/P/+P/7f/0//b//v8SAPX/7//4/+//DADu/wgAJgAlACYAMgAuAC4ADgAQAEYAFQAJAAcAAAASABQAHwAjACYANAANABsAGAAKABkA/v8IABwAEwAqAB0ADQAbAC0AMAAjADcAHgAYABUAKAAuABgABwDu/+L/7v/o//L/+f8UAP3/6P8JAOL/4v+7/7j/r/+x/7v/w//H/9H/4//a/8b/n/+c/7v/0//H/9j/uv/C/9T/2P/H/6n/pP+6/+//8//0/xcABwAAABIABAD+/+n/1//s//7/7P8MAPf//f8OAAoAAgD7/////P/7/9T/7//4/9r/3//d/9//7//S/9L/2P/g//f/9//w/+T/2f/k/+T/0//x//j/+f/w/+3/5/8AADAAEgADAAsA+v/6/wEA8v/w/+3/4P/x/wUADgATAAcAFAANAB4ALAAqADkAKAAkAB8AFwAOABIAHwA1AAsAEQAiABsANgBEAFgAWAA2ADQANwAgABYAAAAmACcAEAATAAYAIAAxAB8ADAAVAOj/+P8OAPT/DwAKACkAKwAnAEUAUQBIAEUAUwBOADIANAA0AEsAOAApADIALQBDAFMAUAA9ACcAEgAvABIAIgA6ABsALwBIACUANgBQAEkAMAAyACEALAA0AB4ALgAvADkAHABAADEAMwAyAEIAKAALABMAAgAUAPn//v/l/+X/9P8FAOf/4P/w/+P/5f/m//7/3//l/+v/1v/O/9D/0//f/9X/0//r/9j/2f/E/8X/0f/b/+j/+P8PAAYADwANABMA9//y//3/7v///+H/3f/0//H//f8VAA0ACwAbAAgA7//s/+j/6f/h/8//3//L/87/zP+0/8v/7v8KAPX/AwD2/+X/5v+7/8b/1P/v/wMA9//n/+n/7f/3/+n/3v/y/+z/wv/H/9b/w//L/+3/8P/e/wAADgD+/+z/+v/+/w0ABgAfAAoABQAOAAQAGQDt/+b//v8HAAkAFQD///H/5P/9//n/AwD/////HADt//H/8v/l/8r/2//U/7z/y//e/+r/xf/m/9//yv/g/+T/x//V/+L/r//H/8H/zP/S/+D/4f/t//b/1//n/93/3v/g/+b/1//H/+L/9f/i//n/6f/Q/+H/1v/3/woACgAEAPz/FgAFAOz//P8IAAYAIQAmAAMA+P/6//z/+f8YABIAAwAFAAgA8//3/+v/5v///9j/BAAlABQAGgAhABoAAQAYAAEAAAALAAEAEAAaACcAFwAfACAAKwARAA8AKwAZABIAHwAnACkAHQABABsAIwAOACAAMwAjACQAJgAqACIADgAhACcAKAAuAB4AGgBGAEcAIgD3/wMACgDm//f/7f/u/wAAFwAYABMAKAAgAB8ALgBDACkAJwA7ADIAJgAOACEAMwAeACcALwAWAB0AGAAiACUALQA7AEAAWgBLAEMATwBRAEQAKQAgACIAEQAeAAwAAQAMAAAAGwAaABUAAQD7//7/2//Z/8r/zf/A/7f/p/+k/6P/lP+6/6z/v//b/7z/zf/g/8n/0v/O/8P/6v/g/93/zP/r/wAA8v8lAA4AFwAXAA0AEwAIABkAEwAJABkAEgAVAA8A+/8TAAMA8f8QAAgABwANABIAIQABAAkAAwD0/+X/8P8NAPr/6//h//j/AAD1/wAABgD4/woADgANAAoA7f8hACoAHQDv/+P/FwAjAAkA5v/8/xQAEgAkABoAEQA+ADEALwAFAPL/FgAHAPf/4v/k//X/7v/y//T/9f/3/+r//v8BAN//0v/K/9n/yf+4/8f/rv+6/8v/x//E/8D/0v/c/9b/3//p/+L/+f/z/+3/0P/D/9f/yf/T/9H/6f/V/9r/7////+7/5//1//r////h//n/5f/U/+P/7v/Z/+H/6f/o//7/+//z/+3/DQAEAPL//P/7////CgD0//P/BAACAAUAIwAoAA4AKQAcAAYABQD//+3/7v/p/+//5f/E/+P/8v/m/+z/8//s//T/6//0////5v/n//b/9P8KAP//AQD8/wgABgD8//3/5f/8/wAABQDv//3/BgAUAAwACwAGAP3/AQD9/xwACAATABoA/f/7/xsADgAZACoAEwAoAB0AFgAgACAAJQA2ABgADwANAB0AOgA5ACkAMwBAAEsAawA1ACEAKgA2AD0ALwAiADAAQwBDAEgALAA5AEIANABSADUAAwALABIAFwAUAAkAKgAqABcAKQAaABsAMAAyADMAHQAQABMAGAD//xgAIwANACEAEAAQABgABQAHABgABgAdAA8AFQAYAAQA+f8CAPv//P8RAP//BQD1/+b/6v/3/+b/8////w0A+/8JAPn/6v/8/+D/4P/e/+v/w//a/+T/1v/g/+v/4v/x/9z/0P8BAAMA1//O/9v/wf/Z/7//zv/g/+f/6v/5/wkAHwAhACcAEgADABIA8P8EAPr/5//w/wgA+P/5////JAAPAAYAFAAPAAcA/P/3/+D/3//r/woA/v8LAAkAEgAXABYABQAWAAgABwAMAO//+//9/wIA7/8AAAwAEAD1/xMAJAAkABYA//8MAB0AJgAfAC8AFQD7//j/CQAAABQAAAD6//r/9v8KAPj/AQDz/+H/8f/x/+3/3//a/93/yP/Y/9j/yP/O/+7/9P/U/9L/7f/c/9b/3P/a/8b/wv/C/6v/vf+8/8L/z//U/9H/5P/v//f/7v/j/+f/4P/d/8//3P/R/8P/wv/R/8P/s/+6/77/vv/J/93/6P/W/8L/2f/Z/+r/3f/L/8n/1v/c/97/6P/d/9P/4P/q/9P/zf/T/9H/1P/1/wUA+v/w/wcACQAHABwABwD6/w4AFQAgACIAFQAeABQADAAMAA0AGwAtADcAIwAhAEsASwAlADUAIAAoACoAJABFAEEANwAzADwAOwBJADsANwAoADEANQA2ADMAHQAvAEUAQwBKAFYAMwA6ADoANwA7AD0ATQA8ADEARABOAE4ALwA0AD8ANAAdAAAADQATAPX/3v/s//P/8/8CABIAAQAdABEA7P/2//b/AQDh/+T/6v/Y/9j/0f/h/+D/3P/d/+v//P/9/+3//P8AAPj/9P/w////AwD+/+v/GAAkABUALQAnADIAGwATAAoAAAAaABQADgAZABcA/P///w0AFAAKACAAHAANABQABgADAAAA9//p//T/8f/s/wQA+P8EAAkA7v/0/9j/yv/A/7n/z//b/8z/yP+z/9H/AgD2/+v/7P/x/9//8f/6//L/+f/r/+j/+//1/+v/CQADABkANAA7ACoADQAhACYAOQAuADgAMgApACcAKgAdABMAGQAZAA8A8P/r/+b/9//3//P/2//w/wMA8v/r/+j/5P/k//H/7f/9//7/AgAfACkAGwAZAAwAGwAhAPn/8f/0/+3/CQALAAgAEgANABcAEAAVABAADAAJAAUA8f8CAAEA8v/S/8X/3//m/9H/xv/2/+L/AQD3/93/4//i/9X/x/+6/63/yf/F/+P/0v/i/+D/0//b/9j/6//t//7/9f+6/8r//v/y//z/3f/t//7/+//u/+f/8P/z/9z/6P/s/8b/2P/G/8D/wf/E/7H/w//V/9z/tf/H/9//z/+6/6P/uv/F/9P/yP/n/+z/+v/i/wcAJwAIAAkAFQALAAEAAgDp/+v/6//0/+v/9v8DAAYAGQAnACMAGgAVABEAHAA/ADYAEgASADoAKAAiACgAGQAhACMAKwATACEAJwAlAD0ATAA+AB8AUgBdADUAPwA5ACYAFwALAAEALwBHAD4ATgBGADsARwBFACkALAAXAP7/CQDo//j/BAD7/////v8EAPn/GgATAPb/7P/2/+3/2f/h/83/vf/L/9b/zf/f/9j/2v/2//3/8//b//T/3P/q//z/AQD5/+X/6f/s//H/0v/f/+b/2//M/+v/3f/m/+j/3f/k/+v/8v/j/+L/2v/k/+H/7v/y//z/EAAJAPf/EwAuACUAHAAkADIANgA8ADwAKAAsAEAAZABcAEoASQBTAHYAYQBYAFsAXQBrAGkARABlAGsAUgBJAFQAWwBKAFAAQwBAADMANQA/ACYAKgAxAAEABwD+/xQAEwAHAA8AJAARAAUAJwAUACUAFAAKAPT/AQAIAPX/+f/2//L/BQADAP3/DAAEAP//BQDi/+7/9//k/9X/yv/j/+H/y//F/+L/uf/A/7j/q/+6/8n/2/+0/5z/pP/J//D/wP+5/8P/rv/O/7r/1P/U/8j/yv/R/9r/0P/o/+P/zf/z//7/5P/e/9v/wf/X/+z/7v/9/+r/AQDo/+z/+v/x/+//+//7//v/9v/Z/9b/zf/b/8b/7v/s/9v/0f/X//T/6v////7/DAD3//P/8v/S/9//5f/K/+z/5//K/+7/4f/3//L/DwATAAUAFwAGAP//+f8PAPX/7//6/wwAAAD7/wkAGgAQAAEAKgAeABUAIQAoADIADAANACcAFgAdAB0AFwAOAA0A+P/x//f/AgD+/xQADwAVAAUA+P8DAOf/CQD7/+3/4f/i//r/9v/q//D/5f/r/wAA///2//r/AAAQAAIAEAAeAAwAAgD6/woACAANAA8A+//x/xEA7/8AABYA9P8RAAcADQAaAA8AFAD+/93/8P/5/+L/4//G/9n/4//T/8T/6P/n/9T/1f/W/+r/5//j/9T/6//s/9r/w//t/77/1f/v/9T/7f/7/wsAEAADAPb/BAD6/wUA+P8ZABsAIAAzAC4AKQAwADsANABXAHMAZgBXAE0AUQBeAEAATABZAEUATgBBADUAQgA5AD4ANgAYADEAPQAuACEAJgAtACMAFwA0ACoAEgA0AB8AIAAUABkAGAANAPf//f8AABAALwARABoAIgBBADIAPQA5ADcAKQARABkAEgAWAA8AFQANAAgABwAKABAACQAAAPr/6f/l/+X/3P/R/73/qP+z/63/vv+8/7r/yv++/8v/vv/O/8D/vv/Q/73/vf/F/8T/zP/b/8T/0v/b/+3/AgD5/+f/4P/2/+L/1f/H/+b/9P/7/wIAAwARABkAHQAUACQAGgAeAAEA/f8DAAQADwADAAYACwAVACEAFQAAABEAFgAPABQAHQAXABIADwAAABMALwAZAAQABQAAABIAHQAOAAgABwAKABgA/v///wgA+/8BAPz/BADy//3/CgD7/+7/6f/z//7/AwD9/wAA/P8IAPv/AAAIAOr/9v/Z/+7/7v/c/+X/yv/k/+D/AQAEAPH/AgABAAgABQD+/wIA8v/q/wUABgAnADAAGgAUAP3/HwAhAAAA/v/r/wQA+v8EAP3/8f/9/+f/CAD0//D//v/3//L/6//5/wsADAAFAAkA///////////5/xIADgAYABcAGAAdABUAHgANABUA9//6/wUACAAKABoACAABAAIAAAADAAAAEwD6//z/7//7//z/5//q/8//yP/s/+L/4P/c/9v/2P/U/+D/5f/o/+T/7f/k/+z/3v/L/8P/yP/X/9T/2//f/+r/7P/N/9L/0v/U/+L/3f/L/9//2//g/+//3P/n//P/8v/u//P/AAAeABIA8//0//P/FQAfAAAA///u/wYACQALAAgACAAeABcAEwAAAPn/BAD7/wIAEAD///X/8f/o/xEAJgApAC4AIAA0ACEAHAA3AEQANAAsACUALQA3ADwANgA4AEQAPQBCADUAHwA1AE4APQAzADcAOgAiACgASQBFAEEAOQAZADcANQA0AEsAKgAxAEAALwAZAC8ABAAHABsADgAzAAYA4v8DABIAAAAJABMAKQAqACUAFgAYABIAFQAgAAMAEgAHAAAAEQAPAAEAFgAiABYACwASAB4ACwADAAYA+f/3/+3/3v/1//P/4f/M/8f/5v/g/9n/yP+7/9T/1f/f/9P/0P++/7P/z//e/+f/2f/P//H/8f/u//H/7v/o/9r/7P/a//H/5f8AAPb/3v8AAAwAFQARAAkACAATAPH/AwD3//r/6//X/+z/6P/u//P/AAD+/+L/zP/W/7//y//W/87/0v+//8n/1P/g/8z/wv/a//T/9v/0//z/7//s/+v////3//j/BgASAAsAEAAVAAUAMgAkACAAOwA6ADkAKQAsADQAIwA0AD8AMAAmABQABAAIABsACAD7/xMAFQD//yYAFAAcACwAFgD///X/DADv/+H/9f/q/9v/+f/8/xMADgAUABMABAAMAAAA8v/x/+3/zf/Q/9z/4v/d/+X/5f/k/9f/9P8UAPD/BgACAAYACwD1//T/9v/q/+D/6v/i/+3/9P/w//n/AgAEAP3/6f/f/+X/+//i/+H/7//r/93/5f/j/83/7//n/93/1//L/+b/AQDm/+X/9f/x/+X/2P/L/9r/1/+5/9X/yf/U/8n/vP/j/9j/y//n//D/5f/4/+3/+f8CAPf/6v///wsABwADAAEAIgAgACUAGwAnAD8AJwBAAGEALwAqAC4ALQAzADAAEwATACYAGgAdAA0A+////wcACgAbAAAACwDv/+L/5//n/9L/zP/h/9j/DQD+//H//f8CAP7//f8CAA4ADwAWAAcAEgAfAAMAFQAmAC8AIgApACcANQAwADUAMgAoAEkAOwBWAFUAUABWAE8AZABnAFsAYgBUAFwAYQBHAEsAQwBJAEcAMgAvAD8AKwAqAAwAIAAjABsAFwDy/w0A/f/8//3////x//H/4P/n/+n/3//X/93/3f/T/+L/2//w/93/2v/i//P/9/8KAPr/4f/m/9L/1f/4/+7/2v/4//f/DgATAAsADQAWABYADAADAAgAFAAKAPf/+v8GAPT/8v/k//D/+P/h/9f/zP/L/+L/5f/f/93/8//p/+z/CQD4/wgAAAACABAACwAMAA4A+P8AAAoADQAGAPr/EQACAA0ABAAHAAwA+f8UAAAA8f8YAC8AJAAQAAUA9f8KABgA7f/w//b///8JAPn/AAAAAPv/8f/n/+z/7v/5//P/3P/W/9v/7v/n/8f/wv/P/9X/yf/D/8T/vf/P/7z/w//E/8L/9P/m/+P/4f/Z/9P/1f/j/+L/zP/R/+H/8//o/93/6f/X/9n/7//4/9P/xv/R/+D/1P/S/+P/4v/q//L//f8LABYA9P8AABQADgAYABkAAAACABYAHAARAAIAFQAMAAcA+P8UABQA/f/9/wsAFwAKAAgAHgAGAOr/BwACABUACgDt/wAACwAMACIAIAAJAAQACgABAP//EAAQAAwAEAD4/w8AHgAaACsAGQAtACgAIQAsAAcAFwAfABAADQD4/wYA/v8hABYA5/8HAA0AEQAvABYAIQA9ACkAMAA3ACcAEgAjABgACQD//wgABgDr/+//BQD9//3/AAAEACMADAAhACMAFgAfADAALwAbABMAEQADAAUAHQACAP//AAAHABUAFwAFAPf/AQAOAA4A7f/r//X/DAD+/+n/4P/H/9v/5v/u/7X/wf/d/+j/4//Z/97/zv/o//f/9//s/9v/3P8YAAEAAAAJAAwACgATACMAOgBHADEAPAAuAEAAOAAuABwAOAAiAA8AJgATAB0ABQD8/xEAAwDs/wQAEwAeAAUAAAAaAA8A///p/9v/7v/o/9v/+P/a/9P/4v/V//D/8P/R/9T/1//P/8f/yP/a/+P/4P/h//r/8v/g/+n/8P/7//7/8v/s/wcA/f8CAAwA9//8/wEAAAD0/w0A/f/k//7/EAD9/wIAEQAIAAsADQD8////FwAQAAoAAgDl/9L/9//v//n/+//m//L/AAAOAAwA/v/6//7/6v/x/wQA+P/u//7//v/7/93/5//6//b/AAAPAPv/8/8FAAEA/P8FABEACgAOABUAJAAeADEAGAAiACkAFQAfABwAGwAJACAAGAAEABsACQDr/w0ADQD8//z/AADy/+P/+P8AAAQAAgAHAP7/+P/1//n/AAD3//n/9v/5/xkAAwAXAAkABgA5AAYABQAbABQAEAAdABwACQD8/xkAEgANAPv/EAAgAAkABgAWABoADwAYAP3/AAAAAAoAAgDz//D/DQD7/wcAAAD4/+f/4f/x/+//7//z//b/3f/j/9n////f//D/AQDy//j/BQDz//b/9v/l/+v/3f/1//f/CwD9////JgAkAPz/AQDz/+n/+f/8/wUACAAIAOX/7////xIAAADy//r//f/7/+z/9P/q//j/9f/w/+v/8P8IAOz/5f/b/9H/1P/J/87/sf+u/7X/2f/T/8X/1//U/+j/1//Z//D////6//H//f8aABcADAAAAP3/BQD//wEADAARABMAEAAOACMAGAAPABMAHAAMABwAKQAhABAAAwA5ACgAEAAaABgAHQAbACgANwAlACoAQQBTAFMAPAAvAE8ATwBgAFoAUABbAFMAcgBfAFkATABNAEUAUABNADgAOAA1ADYANQA2ACoADQAbADIADAAQABsAJAAoABgAFQAVAAkAAADv/+T/2//Q/9H/7//8//7/7v/U/+D/6//y/9T/4//y/+H/8P/h/83/2f/q//H/1P/W/wIA9v/9/w8AJAAMAPP/CQAKAPz/+P8bAA4ABwDv/+7/4v/h//n//f/2//X/BQDs/xIACQABAAoA+P8GAP3/7v/h/+D/+v/v/+D/2//x/+r/3//b//P/+P/x/wcABQAKAOr/+f/i/9//9//h/+f/8P/4/wcA7f/x//j/7P/6/+//+v/k/9X/3v/3/+T/8P/e/97/6//w/+//y//h/+b/3v/e//j/5//8/+3/+v///93/0P/V/+f//f8SAP7/DAD2/wcAEgAWAAYA+f/o/+v/9P/k/wEA/P8TABoAFgASAO3/4v/q/+7/3/++/8z/3P/t//b/5v/j//7/BwAAAAwA+v/k/9P/1P/S/9L/3f/Z/+P/y/+7/9n/2P/N/7j/w//Q/9z/6f/s/+n/2v/T/8//zv/E/8T/1//v/9v/v//F/8r/4//x//D/+//p/+//8f/x//L/+f8LAA8ABAAgABcA6v/5//7/EAAiAC8AOAAoAB0ANQA4AE0AUQBHAEUAOQBEADUAMgAfABAAHQAaAPH//P8WAP3////9//v/8P/4//H/BwAIAPf/DwAGAPb/4P8GAP7/HQAWAAcACgAYABoAAwAIAOH/8//p/+j/3P8AAAAAEgD5//b/CgD9/xgAJgAqABwAMQAdACEADwATACMALAAkADIAKAAxADoAQgA9AD8ARAAfAD0APAA+ABsAIgArABQAMAAxACAAFwAqABAADgAuAAUAAAAOAPv/+f8oADYAIwARACkAKAAwAEMASgBUAFEAUQBTAFcAJwAwACgAEwAcACoAGgAWADUAMQALABYACgAUAAsA7f/v//X/AgDq//f/7//+//b/BQAXAAUACgAWABsAEwAqACMAFgD+//T/DAANABMACgAPAAAAGQAIAPf//v/i//3/+v/t/9f/9P/0/+f/zv/l/9v/1f/l//j/+//n/+L/5v/y/9T/+P/Y/9j/3v/c/9f/3v/R/93/3//Z/+D/x//k/83/0P+z/8b/0P+4/6b/sP+i/57/p/+Z/9T/sv+3/6b/s//L/8L/w/+y/9P/4f/n/9v/2v/Q/93/0P/g/8T/q//J/7T/s/+7/7//zP/J/93/6//P/9n/4v8AAPn/+f8AAPT/5v/a//H/5//i/+D/AAD7//H/CgAaABAABwAOAAEAEgALAAcAGwAbACkAJAASACYALQAuAEcAOAAaACoAJgApAC0AIAAaACsAIwAnACUABgAjACQADgD//wUAAQAJAOb/5P/2/+f/8f/o//X/9/8EAAsA6//t/+3/3P/L/8r/5v/w/9z/0v/m/9r/1f/b/+T/zv/c/+n/yf/Q/87/2P/U/8n/2v/a//H//P/l//b/7//l/+//AADv/+T/9f/7/+//5//s/8//2f/d/9D/xf/P/9v/6v/n/9v/AwAHAP//CAAhACoAPQBGAEgAWQBaAEsAXgBQADoAQwA6ADsALABHAFcAPwBPAGMAZgBkAF4AbgBpAFIAPgBKAFAAOgA7AFIARgA6AD4AQwBRAEoASABHAFQAUQA8AEkALAArAEEAOAA6AD4ASwAwAEMAVwBUAE0APwAxADcAOgA3ADsAJQA0ADwAOgBAAB0A8f/9/wgAFAALAPD/FAAaAB4AFAAHAB4ACAD6/wIAHgAkAAIAAgAQABIA+f/7/wEA7f/W/8j/1f/j/+3/xf+a/3r/l//H/+r/3v/c//b/8P/r/7z/ov+P/37/j/+5/7r/s/+m/73/9f/1/xEACQDa/wMAIwDy/8D/lP+q/7H/uv8AABwAMQAbAC8ARwBvAFgAHQA4AEMANAAAACEAPAAiAPj/BgAoAA0AGQA9AFYAPAAAABYANAAsAAkA3////wEA/v/z/+3/BAD7//f/BADw/9//5v/8/w4A2P+3/7r/qP+y/9T/6P/q/8P/zP8DAAEA8//f/+7/wv+o/7L/zf/4/9D/w//h/wAAu/+a/6r/5v/U/6P/r//z/wIAw//k/wsADQC7/+D/9f+5/5P/nv/B/4v/Vv9+/33/X/9S/6f/DAAAANz/3f86AHsAkABLAN//w//d/y8AUwA6AEQATwBtAA8A7v8XAOH/Wv8j/xz//f45/w0AowC0ADEBUwLEAhQDkQZUClIHC/4H+QH7zPva9+H2rvpD+7/2zPcwAngJ6QbjA/kIKQ3bCJUC+AFRAZ36zfP38z72fPSY81z5nQCFATUA+wOvCjwMEwnFB2EHMwOY/V38CP4V/En3rPbb+qL96P0HADAE6gVvBA4EswU7BY0Baf8yAIn/e/ze+uD89/6p/lH+PADTATEBxQBjAocD0QGZ/wn/e/+5/nL9nP2y/ob+Pf55/5MBAwIrAWsBhAJ3AlIB6wDiAO3/mv4s/jn+O/4H/qj+o/8PABsAyQBxAaMBjwGJAScBlABMAF0AzgDfANgAhgASACgAZQBPAFAAJgD0/7b/nf/p/3EA0gDTAJMAmQD2AB4BDAH9ACgBUgFyAbIBuQGZAakBgwFpAagB9AH6AfwBQgJvAkICwQFhAQMBqwDBAAABAAEVAaQBTAKiAs8CwQOhBPMF6QlxDhINQgX2/X/6gPcz9UD30vnb9y70o/XX+gH+GP81At8GoQivB3gHbAfXA7f9w/jw9IvvUutu7CrxXvR89Dn1lfiP/Iv/YgImBaIF0wJMAGYA7v+x/Bv5mvd39oL0JfTH9jz6mvxP/mgAjALyA7gEbQV+BsAG7QUFBdgEbgQrA6YBVQHSAcgBtwGYA9QGWAiHCPoI6wmmCUIJ4AlpCjIJageEBhgGBAUZAwgCZgHJAIf/N//7/6IAAgAK/7j+g/7R/SH9nv3P/fz8cfsA+7L6VPlU92b2KfaF9U31HPY49+L3U/ii+DP5kPnU+S36sfrs+pL6PPqh+hn7IPvU+kT7Hvys/An9A/5K/8b/tv8DAOcAegEOAggDsgSqBXwGkAecCIEJKwoSC6kL2wulC9kL1AsLDFUMmQyTDNkMeg21De0N5w0DDkMNVAxYC7cKhwklCI4GXQVUBOACRgElAIL/Kv7P/JD79vo0+n/5kPjG92T2J/UP9DLzO/Ig8Xzw7u/D7iztf+w07OXrous37Krs9+xb7crutvBz8iT02PUb98D3s/jG+bb6bfq5+cH5iPr5+oj7PP1r/74B2gNzB/MLaxCGE3YWrhgnGrMaTxtKHN0bwxqNGQMaoRkDGcUYNxolGl0Z4hgqGZwXhRQ+EnkQ1Q1zCYMGdAQLAzIAEv5h/Gr7PPmL9wz2wvRi8r3vg+2a68zp1+cE557mYOZv5dTlr+a+52Tnw+dW6F/o6+eN6F/pD+qq6oXsA+/08bz0Ufd2+RX75vsy/LP8evyh++X5LfnR+MD5oPr6/b0BmAWxB9oKOQ4JEZcSlRQkFoYVbhTXFJwWahZRFj4W0hfrFzMZSxruHOMcMBufGLoX2BXvEvoQlQ8BDnwK3gjiB+QH3wXeBEADhgKXAEP/HP7R/GX5ovWi84Lx3O6L7Hzs7uu/6mHp9+lz6trqZ+qE6qbquOpT6hjqLeo06cXnWOem6AzqS+x+7/bxCPPP82H1nvZR97332/eA9w/3gfbu9oT41PkN+4H91AHKBbEIuAvtDmoQwRA7EfESehSXFREWPBdBGN0Yixk5HEYfFCD1H8YgrSEPII0dJhsRGY4VNxKlD4EOkwwaCi0IqQdeBmUEPwMBA8wBC//1/Jj6Zfcc8y/w5+0z6wfoNObh5ZnlruR55PPlTOds59rnsOkF68bqqOoy61/rseqG6jnrBux/7PPta/Ag88v0svYY+VH7TPwK/ff9Yf6e/fz8XP5j/+b/iQDQArIEHweFCc0MjQ9dEh0U4hWdFtoWpxYwF9gYHxqXGwQdLx76HGodsR5VIK0f4R9QH8odhxp8FxQU8BCCDUAKowc5BYYDewHPALn/OP6V+8D6pflt+Bn2BvSD8M3su+jr5Uvkv+Lg4D3gEeGW4SjiaOMK5hrnk+fc50DpyulF6irqtuqE6qfqdOvg7nLyXvQc9aX2e/jN+M35gPuL/Q/9SvxN/L7+KACZAVwDcQaqB+UH4QhOC8MMBw1oDaYNJw5XDg4RWxXQGpAd3R9eIrElGiaoJiwoXihsJK4fkhzEGREWkBGBDikMxQr8CEsJXgoYCy4JxweeBv0EpwEp/9387viT8y/uDOqU5tHjb+FK4M/fhd9q34DhI+QJ5iPnKOna6lHrgutJ7Jbssusg6ljp+Oku64Xs1+698SX0jvWo96T62f3U/zEBDALYAawA+v7y/ef8Gv1q/QP/VgCsAaACYQTCBRkH8wg5Cz4Nyg6uEGASyhNZFFkWrRgsGysdjCApI3wlJCfoJ8UmUiTCIQkfNBzRGC8WxRJ8D9sLJgkFB/sFogTsA/IDUgPwAVYArv5S+7H29vH17YbppOVp4n3fz9wJ2zzaj9oc3NbdeuAD5Bbn5eiY6krsI+0t7czsrexu7NLsxu1C7zLwM/GY8qb0GPdu+Sj8Ff+QASgCNwJkAW0AHf8C/9r/UAHkAcUBigFpAawBSAKBBNgGLgnJCl8NExB8E2YWahn7G3IeBCCPIYMkfyYWJpokviNaId8eyRz8G64aChm2FrEUrhL2EA4PFQ3oCwkKIQfMBNUD/QA7/aj50fX68OvspekF54Tk7uGn3/HdH92y3NncW97H4AniLOM45dbmducQ6KXoJekW6pDrme2+7x7xtPFv8vPzYvXu9of5kfzK/Wf+9/9eASQBQwCQ/yv/vv/oAG8CuANmBJMDBAOEA/gE8AUlB6oIPwocDMoOVRFnE88V7RdfGo0dSSG9I4UlzCa0JnIkKiO2It4gRB7cGzIY8RMWEVEPzg0iDOEKZAmSB2wGOgY6BXgDqwAK/Av3L/Mm78fq2OYA42rf9tyw26nbgdyv3dLeHuDa4dbjzuUr6Mvpn+ln6QXqeur/6nzs/u1F74Pw4vFx85P1ufeL+R37vvwC/oL+if8DATgBLAHRAk8EngQXBJ8CEAE7AIj/Kf83AEcCxQMQBEUFTgfeCHALoxASFqMZGhwJH60hCyJ1IRgi8CIQInkh7iIKJJMh9x0qHLEa2ReeFUEVXxX4E+8Qng7aDYYL+AYABPsCBwAN+3X3efWA8Tvrkeb+48XgEt2U22jcZ91m3Grczd6f4D7gDuGM4+PlV+ZA5ufnJ+oW677riO5c8aXyl/LE9Lz3VPkH+sv8Yv+9/2D/cwD4AXIBcgAVAb0DFwSEA5ADaATAAnn/tf0+/3oA/wDEAioEwAQ1BOUFIQmEDP8NDxHbFPcXgxmLHJAf0R8THzQfLyEPIzMlQiWVJJghGB5iGu8YbhcHFVgSwhCUDq0K5gfiBfADIgAx/eL6dvnr9tH06PFm7uXppOXx4unhzeAm33betd3p3IPcvt1P35/gtuGP45Xl/uc96oLsUO9N8h/0vvV499L44vmN+xj9Jv4s/vH9ov0O/cv8e/38/ioA8QBNAeYBEAJLAjQCzwKvAv0BjwE7AssBYAHnAcMC+wJBA48FVAkBDAgOLhBBEewTxhXOFw8cjiAsIuIjXyV2Jq4lXiUjJsIlIyPRH7kdgRscGNgSKA+JDAQJfARAAycCMADP/Ev5nfbu82Tw3u267LbqcedG5Dzj8uEJ4ILek95J3t/di91J3lngN+L94pHkS+c/6unsfPAy9VD4UfmL+pT8f/6P/2gAhgE0Ak4C7AEgAbMAAwEcAL//5QBpAQoB0wEKAnEBQgCa/7n/egC7AOr/XP8TAGEAGgDxALECPAQmBV4HBgl0CmcMZA4yELsTghZvGPMZLxynHdweASFcIjoixCH7IF8fdh6hG0AYGRX1EkUP6wr3BigEMgCe/KD5sPaL9D3ys++c7XXsrumi55XmQ+Yr5QfkduNT4+HhQeHd4bXifuOv4/DkXud56UTrOu448Tnz8vRC9575Tvt5/Bv+qP+cACkBDAK0AkYD9ALZAmUDogNPAoEBpwFOAT8AHv/G/TH8hvsC+077Xft0+537sP3c/ycBbgIiBIQFqgahB78JdwyPDfUOQxHJEgETrRMQFfsYHBwqHQsfpCAMIXAhZiAQILsehBu+GcQYNxcTFcoRkA54C88GagOJAskBLv8d/Az50/Y78zDvLe0A7OXpE+jm5uHmMeeX5mjnxef+5kLnvuhF62Duau+37wXxmPKS8/b0Zfd6+UX6V/ri+9z9Uf5v/vr+OP/t/rD+wf6o/mD+P/7k/Un9xvye+9L6e/ur+sr4BPiK96P3BfjL9yr3ffYX93X4SPmY+kv8uv2y/84B2gIeBB8GqwjkCnYN3BAqEtMThBc1GZsa6h24HzIg/SBcIZkgcx+0HucdDB3JG+AZIxczFT8SIA1fCRQHvQPKAMX+9/tE+df1lfLj7yvt3+u/6y3rqeq36a3o9Of+5nfmvuan5wrpLesk7fzu9fA18qnzevWH9n/3hfh1+Vf6Tvuc/Fv94vzR/EL9X/3T/Tj+wfyf+2n8Mv19/dr7ufh49lP1LfQI9Gb1BPcY96T2rPZ89Sb0JfXv9gn3MPhB+rP77fyC/1MBFwJuA+gEJQdtCqwOSxJIFfYWmxh5Gdcavh2fILEiTSOQItgiTCNoIiEhXh6+G14ZWRfFFS8U2hFwDqMLUQj9AwMBNv+M/R771PeA9BfyevA0747tluyC6xvq5+kL67frkusm7B7seuuL7LzuQPCl8ZTy0/OY9KH05PTv9rH5Hvue+t75KPra+hD7cPtz+6P6evop+rL5xPkW+kL5OPgH9oz04PTr9en2jPZ29Xf1dvZ79w/4Qvmr+/v8Nf6c/8r/7AGoBpAINAc9B54K1A7DEoIU2hTeFrgYnBg6Gu4dvh9NH4cfSiBtHz4fzB85HiAb6RnlF+wUGBM+EF8NpAsVCFYDJQGyAOP+0vso+qT4vfWa81DyTfAh76LtvOrz6Iro2Occ6PTo4ui26ALqYuxC7ert0O+U8bHyI/M78nTx6fLv9Bn1jPU49jz2Vfdt+G/4/PgA+rj6gPoi+jX6tfpe+gL5nvdZ9yX4lvgd+cX5tPrP+sX6kfn8+W38PP/oASEDKwMjBBMFOQbHB5EHLgnuDJUQXBMxFToWexgaGA4YLRvUHf4flCH0H+oe8h6lGwEZURhHGIUX1hTWEaMQ0g5wDkMMUgjEBisFtgL0AOj9UPqV+HX1PfJN8PPuxO1w7Lzq6elY6YnpD+ql6a3p+OlG6afpCOss6xHspe0A7uTsheyk7lXxyvJ78mjyzvRc9173l/Zl+KL6I/pI+ar5Svoz+3v7rPrS+fv50foZ/BX9v/2L/0MD1ARSA9QDFwb3BgkGuwTLBCwIdAt7C7kLjw2uD+ERbhKTE3oWfRqLHacbghnxGWsZPhjtFUATWxSaFWwUthNME2MSPxEjDx8NFAw7C8YJJgfxA2cB2f7e+xL6F/iQ9qj1lfMA8tnwie957mzsEess6yLrlurb6d3pSeo96hzqQusY7QXuZO077JTrq+ys7onvX+9673LwSfJr85XzSPSW9fD2DPeJ91z48fh3+ST68/mX+nv7BvwZ/iAA7gBCAhgECAWoBvoIawtdC+MKgAu2DoESbBQgFCcVIhdpFssWRhloGggafRoHG0ccPBvwGZYZAxpZGkQZexZTFE0TrhJOED8LDQhuBkcF9QLz/7H9sPzI+rn3HvWT9IL06/Is8B3ujO2S7FXqJeig5yXnmOZN5jTmvudN6obrJuxU7YnuIe8079rvSPH08szzUfPc8hn0TfXK9Rj2mPbZ9//53/u8/Y//5QDrAU4BdgAKAB8ANgFgAg0DsQTXBIYFCwh/CkML+grsC3cP8hNnFYMU7RQqF6wXqRVZFG0XLhlfGM0X2xcuGgkbQxfyFToXoxdIF6gUXxJzEeAP3wyICDEFeASAA8wAKv0F+mr4PPeR81PwP/Di7nfr0ui352XoJ+e+4wHi8OFr4iTi7uH54j/jLeRt5kzoqOk96oXqc+t47D3uafAG8vfyc/Pk9GT2Tvc1+DD6ePyU/vv/ZAGiAuoDcgSOBPMFdQfXCH8KKAxVDc4NIg1tDcYOgRHoE7MTYhPMFDgXkBh2GCkY8xg3GGwWERehGI8Y2xdeFiUVEhXxE3QTTxMqE1USSRAaDlgMdgnTB00FjQBr/cf6xPiA92D15PKv8WPvguyl6t/qbeqB6GvmIuXF4+Li0eHO3/ffQOEU4q3jxOYM6UvqBeqQ6aTq1ex47o3vtPH18/H0X/XG9Tr3XvkB++78V/90AqoF9Af3CDMJowkJChgKnAv2DrkRsxILE3gTphPhExUVJxikG4ccQBt9HLYdsxvVGbkZphl2GFwX5xYtGLYX7BTZExoUEBO8EEEPhxCgEGgNzwlTBRUCl/8q/F/5d/er9KDx1u/67djs6Owi68fnq+VP5EDkqeMA4nfgSN/L3mXdjtyx3pLhJ+Ob5CblSOWd5oroIerx6x/tjO3f7hHxQfOQ9Jz07/VT+FP72P6lAWQFegftBzQKnQw8DqkPAhHfEmEUXRXbFjEa7huIGqYa/BxVHkYeKR/rIOAf2R0/Howfyx5CG+wY2BjwF9MV0RQtFW0VThNDER0Pog0MDI4IsQYBBasBP/71+3H5R/bV8r3vp+si6dPpzeqV6crmqeT0487in99h3lffP9/23V/dt96u4ZTj9OLP4eTgnuH540bnJuty7J7sHu7W79bwC/JG8/L1S/ly+zD++QK4B/MJaAp5C1oOgxAkEzIXxBsXH4QflR9mIt8lMyZfJE8j6SX9KCUoTyYqJnAlvyMwIE4ccxwEHjQefBvGF+sVVxRnELYL1QiMBqYCrv1C+lb5SvdA8ovtoOmB5/PlFOP64R/iPuB63evaJNkg2PnW3tWO1WfWe9dc2afcsd+O4Xjg5d2h3rDiseYq6ErpZ+yv7pHvKvFD8/31Rfkd/AX/2ALdBkkKQA1HD1sQyBGNE64XLx0nIX8jlCXfJ1wqVSriKPQp8yvTKwwqIilJKV4pNicgJfUh5x6dHhUf6R3OG6oYrBUSEi4NDwobB9MC8v1I+tb3yfXQ8QTuQeuB6BHlcuE+34resd1/3ILaE9g01pPULtTR0xnUk9Z82mDde94Z31TgPeH74ebinuR157bqke3N7szv1PHg8z/28Pj7+73/xQMJCB4MPg9+EbYSThTaFw8c8x+SIlUloicDKCUnUCe3Kf4rqCkjJ+AoKCrAJ9Aj2iI3JBAjsR0FG58bmhsGGYkUnBAqDqYKXAbcAZL9sfuh+Ivzq+4W7MTqJ+ji4hPfJN5+3HrZMNeF1pfWEtRe0FnQN9Oa1g3Z4tno2SXacdq33NXe8d9S4r/lyedm6cjreu8h8z71C/d/+uP+XwO1BxILXg89EzsWDBlnHY8iXyjeKsQqVypHK/ksRy4/MEwxIjBwLhYt6CpJK8Aq5ijYJsUkeyIIIdMeeBy0GLwTjw9RC0IHMASfAYz9Tvgf8mfuresb6LDkYOLv3mnbi9hu1jbVQ9Mq0YHPI84hzivQeNPw1a7V09QU1h/Y6NnF27nd+uAB5NjlIui467vuYPGv8xn2NPobAE8GxAtID8sSzRgpHukgaSMcJ18r0ix2KxItDzD9MNYvIC9rL4IuWy1aLt8uKyyUKZIo/iZ0IxgfHBxJGToUtA6rCkEHswOB/436l/WE8Prsh+sh6V/l3+Fo3uLa6tYo03zRgtBCzi7MVMxozm7REdOi047UVNXx1mXZD9y43uDh1uRo57vpSOxF8Kbzr/Xj+DP95ALtCKsNdRO7GOYbGh9mI5snFSvaK3orYC1BLkEuLy7jLfYtci29K4cqXyoKKuopbidgJKsiFCBsHKAYuhRsEWQN7gcVBMIBjv4a+ur0mfB17rvr9ejs5pvjReCJ3GjYltXh0kzQ184VzuXNONCR0kLT2NIY0xPV8dZ912jZ4t3e4Cji3+Lm5Broneqe7NDwHPZv/eEFGA3UEyUaPyFAJ20qnC2uMig1tjTiNKc23DeyNmA1mjVhNd8zHDJzMLkuuy2nKn8luiCjG2wWNxEmC9AE/P64+CXzye066Qzlx+Bc3B/ZQdc/1aXS5c8lzkTMg8qIydjJK8vizZrRZ9VW2FfaLt0p4YHlGekK7ILvevMx+D/8VP79/1QDBgfECWEMfw+wFF4ZWhzUHzMl8yc2Kecp/im/Kukp9yevJk4ncCfXJqMj/iG3IAEfzBw1GtEXohWzE5MQEw4/CocGZQJi/mH5X/Xg8S/vUu3x6i/pAudL5avjn+I+4YDfkd1r3F3b99kc2kLcSuD84h/jCeOO5BfnAemu6nDsvu4+8Qn0Vfah+Bj7Pf1L/1wBOASKCGINyhAMFXkZHRzRHCgdQR+yIechwh9oH5EgeyFuIJAe7B0vHU4bBxlzGFwXUhbUE8sQtw0pCvMGAgQhACn8TfkE9oHzpPDU7p3tkuvM6DvnGeaX5DTjteG14NPfTd4c3vngtuTR5innL+cS6ffrHe4R8OjxSvS89vb45PoK/U//PQK1BHQGggg+DBMRCxbiGMwZDBwSHhEehhz5G+ccxR2yHM4aixnzF2gX5RXWEhQQsg6RDlANNAo5B20GYANB/3z7AvmS9y31kPFj7/XtyOtA6onom+cw5+Pm6eVV5fzjAuOn4m/jIObX6VXsGu2X7dvuWvEl8yL0OPaP+b/8y/4BAH8CqQX4BpIHrAloDRMSKRZtGYocAR9qH8EfEiD7IEMhdyDKHgEdYxvDGXQXSxREEjsRqA9zDEUJ5AcmBwoE8P/e+wT5yvVM8iDu3+pW6BDmCuTq4fHfN96o3f/cFtwY2/TaZtuU3J/eleI45o3ot+nY67XuQvKv9VH5Hv2wAPoDEwcgCmsM2A6hEfIUqhcGG28eUSKoJM0mgyjcKTEqEypNKVAoTifNJE8iIB9mG8cWsRMbEXMO5gnNBX0CWv+P/HT52PVo8cDtIups5wLk4+A/3tnbpNnS16PWpNUA1U3UZtT61NLV9db22dve8OPo5h7pfOz78Hz1Q/m5/DIACgQ+BwAKNAwLDtcQKBRUF4AaMh5zIqkmUCroLNkv+DDYMJovES/3LmsuuCuDJ0sjgh5bGssVqRGeDTkLlQhzBpADfwAT/YL51PQC8O7rIOh25Evg9Nzu2WDWctEYztbLXsuzykzKDsq6y5LO29P92R3f9eK/5cjofOz/8BH1rfkL/ZgAagMMBhwHoAkwDMQQVxUQG4kgsyaALJQxvjVTN204RTe0N602sDbFMjouqSd4I+kegRqaFW0ReQ9DDXcLnAh2BxkE9QCS+8z3y/NU8B7rMuav4Ffbd9Ukz1LKQsfWxXrEucM5wxDG5srw0WzYNt4d4p/lj+gO7djxH/X59n/4UvqY+2X8gf0TAdkFrAstEt0ZDSIwKoIx7jdZPKY9pD1/Pe08yDlVNFsuYSiKId8a0hUFEhwQcA6ADToNLA5QD1QPRwzoB9sDnP4/+A3wp+ex34bYytD4yavEtMHUwOHApMIBxt/Kr9FW2gTiTOdQ6jLsj+3D7Z/t9O0z7qvuOO/l8MLzgfcn/FkDSgyEFnIhECtcNCo8vkFgQ7RCWT9lOwY2LDDuKfsikxwUF2sT9RAoEbMRUhSjFkwZ9hpwG8cYWRSRDVQE+vkX7hnjhNhxz8zGJsHfvM67pbxfwBTGNcwS0mnYiODS5mLqTOlJ5yfkDuGE3ZfbENsr3ADgROUw7ar1ggCoC4AXryFZLF41lzy+QARCWUEePXE2Ey+oKssmUyTOIcohLyJ8IzIlsSikK7Qsyis6KhUoSiMFG04Q/AS4+OvstuFA2I7QNszWyTzJr8hiyg3NK9DP0fLSZNMR1ILU09Qi1XfTMdBKzBbLVcyW0ELWF97d5hDwLfkDAsgKtRK0GrAhpSeyK9wuRzHrMp4zhDLVMXIwuDAzMWszQjQGNdIzHjMbMhQwiS3+KdQm+CGLHX8WVxACCL8Bl/qp9MDtSujl4l/eXNpD1tnSV84uy9nHnsZrxFTEp8T2x9HLy9DJ01HWlNfq2PHagN0z4Inj1Ocz7NDwF/Vl+64Cfgs+FNMdSyb+LnU1xjrdPAI9dzorN1QzRjDYLborAyr2JzsnDydEKDEoSCiHJxMnGyQEH3cXcQ8NB+r9k/Nf6R3hh9rI1ULSRtAmz7rOrs7XzuTO284gzx3Q2tGF033Uu9Ts0xbTo9Ip1FrWkNp24HnoDPA691H9QQQYC9ARcxknIe8nyCwjMXszujTTMiAxsS9VMJUvrS/dL0ow4C4ELZ8rPCowKMMluSQJIfgbkBRuDvQGxf+k9wHyZOs45Sbfqtoz11jT489GzTfMy8kHyfLIrMvrzXXRANSV1g7XLde7107ZCduf3PvfSuWF7CjzIPoJAVMJOBG7GGUgVSjbLpwz3DXWNWA0tzFCL4guCS5cLaMs9iwxLQ0tuSu9KuEonCUrIv4e/hnaEkIMJwUG/rP12O4x6cvk7t602k/XMdSA0NDNJ8xkygDJKcm1zDnR5NWD2ODaVtvP2r3ZetrE2/DdkOH15tLshfJl+YMBIgqrEawZgiJ4KqgvdDPnNYk1kjHnLBArUyrwJ5omOSjlKk0slCy0LN0sKCoqJh4jjh9KGWwSLwyCBYj9BPVZ7tHoRuO/3eja/9ho1gjTtNAbzp7K7cc6yTzO69Iq1hHZb9ts2uDXI9cJ2V7az9v839nmi+2x85P79wRxDZAUSR2qJhUujjKKNWk2izN9Lv4rCCwTK3wqKyyBLokvOzD4MHExTS9ZKjIl0yDKGq4ToQ3QB+kAnflY81nue+k/5CXgUtxO1+bRZ81nyZjFfcLhwk/HQ81Q067ZVt4G4Nzel9wC20za9tlX2+3e9eNz6sTyRf2ECFsTBB6xKN8wtzYrOjs6RTabMAIrSCcPJUokOSbzKVMtsS+AMfIxoTEULygqcyPMHEcVogwVBMj9JPiH8RrseugZ5Z/gqdwL2ZDVkNCoy97HS8VYxGfHHM6D1LzYvNuF3q/dXtoi2OzY3Nkb21neoeX27tr3zQF3DXoYeCDqJ44vKjaMN5U1nTJjLrUoryVEJokoPyvWLXsx/zN6M28xzy8VK3QjehusFIYOCwjUAvL/9PvV9FHvWetr5pLgy9qp1cTQiMp1xOnCNMM5xZLKTNPc2h7gu+GI4ZHfydo41ujUb9Zm2LbeYujr81T9Ewg4E6IdMiQ/Kqcv2DEJMEYtFyxdKVkn2CfOLIcv7jBGMY8z9DJnL68peSUAIacZVBLqDt0OvwuDCDMFlwHG+RbyxOk/4uLZkNIfzCfHGcTXwj7ENcchzbHT3Nsv4cPjw+LB3wHZqNPa0cPS5tZr3rTnVfHO/FcGLg8FF4kfMyY1K9IsbS6LMB0xnS5ZLKcu4TChL1AuTzLnMoQu1im+KBImvSGPHDAZOhdGFFcQUQyiCGUC+voK8szpc+A52enT2c/Uyi/Ir8dcx1/H4spt0/La791h3pTgJd+C2arTP9M61Q3YhtwB5XLvR/k6Ag8LVBRLG9ogmSYaLFkuvy8iMLcu3iwSLB4sPC3hLdMsHC3vLQosNijnJe8jKB62FkIT3xKtDusJ5wcGBQf92fN369Lkk9561oPPcszdyhTHpca+yXLPutTb24/gvONO5ETiy9wX2F7VANR31kHcyuVc75X77wXVDwoXkSAjJy4rtyvpLEIumi7PK98oOCwALc8pwyipL/wt8CdrJoYqtyWDHyodUhtUFjIRZw29CNsEtv1V90Xv9efv3VbX6NF/zkjK4cnTy8DLn8vX0S7b5d143RfdAN/b3GjWV9HB1VraRtvl34XsgPiPAOAIwhPZHNkgrySeKjItvyuKLHcuGi0aKjssjzCEMBAt5yxYLNwooiTxI7YjjCFCHEIXzhS6EV8KKgNYAAP7qfCd5pHh1Nu81NXOpswwywfKQMlly8PQrtfO3BXfot973h/b/NXO0eHQ89O22TziPOwk+GcDHAwxEiIYsBzDIU4mNioELRsvoC5VLUQtWi2ALeMuyjF7MSsuvCktKGgkVR9SHVsdKhilFFcWzxJEBz3/o/vQ8ZTkWNxD2uzXrtNxzmjMRs1xzJrH4ccz0YzafNx23Pbed+BA26vULNOW1gna696z6Df1x/7UBUEQfxlNHpshSiooMBYy0TJ+NHsysDDVLhAtXS3tLWgtbCyFK5smciU3JWkjIx6DGrsVMhOVDfYDa/tj9gDwRebf3aXXj9W30UHNRsgKyDfHD8Zxw57HjdLO2p7bwNwX4DfdANgY1ATU49ZY3kbl3e3c+dcFGA71Ftcgxin9Lo0y4DbkOuk4KDNMMegwby7TK1kvLDOLMhguXiwyKTsitR05Hukb9RUkEtEQggyHAmn4w/A/6THdStK1zEPMEsk4w7/ArcIzxBDDEscx0qbd49/x3NXc8dv01L3N+M861y7cIOJT7/3+hQhvD3kaAyYmKz0tETT9OoU7STmbORU6ojZyNBI1AzcPNDIvaS3DLcMpBSRtJCclSCAsFz8UdxOpDFP/FPgy9PDoldgIz8bNSsokw1y+1cG5w6TBkcD4xX/NgtRk2OjZituR2h3Vec/3zt3R8tfZ4aDvE/3PCLgR7xlzIUQnNypBMJw6Oz8kPGQ7Vj6ZO200ujGRMggyki+VLlAshSjTJh4mNiT1HsMYSxJIEL4J0P0t9H7wYuhU3BLUu9Alz5PLU8iuxDjCyb0lvDW8A8PayxDU4dhn3XngW94S2iHWitmn23HfVue99bsBIA0eGM0ekCWyLdk2lTr5PppCOkJ/PAY6LTkUNa4znjTwMBcswyxUK9EmSSWLJiEjgRs9E+kNZQdB/wr3x+5w5WbdRteP0RHNHcghxU7DD8Dquou5xrp7v0/JDdPf1v/YTt4N4Jvao9Mv1LDZON9F5Sfvu/zlCfQV0x47J4UvnjhHPrVATEKoQ/dA2zlYN3A3SzV9MM4x3zEiMfwuAisdJE4koieYH2QSkw2KELYGO/ic8BzvQOVL2k/TqM5iytvGmcNcwKe9zrpvu4y/M8h80i3bm9zO3bPcW9hD0QvRhdUu2tvhzO37+tkCGw2QGFoiEiYpKswyDDwsPw88TzxMPi87ijN4MZczgzFSLP0qvCsnKJwhNyAsJownpx3uEhkT/xDrAnryaOzH6efgEdb2z5/Quc8Wyx/EEcISwre/wL35xALUxd0Z3qbcDOCA32zW+M2O0a7av+HA6Gr0HQIUDnkW6BzNJKcrBDH7NTc6hzkLOcY4hjUVMesyYzcXNJ4tCyyxLZkn3yDhHsYi3SeYJhEbCRAQDiEG2/Wv6Rvo4+S13TDYKNV+0ZXNq8oKxuvBtcDGwNLBt8lF16Dg0t+o3G3dgtzx1KrN5s+k2EXjM+4U+h4FeA+2GukhXiRBJg8t0zR8OUw68TixN+w0QDK3MHEvfis8J0EoyirZJgYgtSIFK8QqzSFEGL4QXwloAKH1mOtf5rXjeN5g2KPVR9Wy0OzMS8vpx9LCacELxTTM/NkO487g0Nza4lblqthJzo/U7OEw6Pbsg/axA/QO5BWkGmAihyuNMYw1kDw3Qa47JTWGNAg2uS+HKRkmrybPJc8gexw6HtgkLSVBJJIjcB+dEhwIXQEd9uTnquGS3wPbHdca1TPRg85azxDLEsV0w3jFscJUxjLWKuS047bfYuRO5jre9tND0y3cZ+aR7mH3mgS6EBoaziEXJ5kq+C6xNks+bUBiO1w36ziRNyku0CcSKdIo+yDkHqkj4CRBIOcgsyU/I2QaLRD/B6r/1fZJ7Bfjnd7V27DXfNT40S3O7smByxDLg8Xlv1nC/8cu0C3dyuUr5BDgguNu4vHXlM9E12/k+u7i9/QD/gyIFbsdpyOrJ58sOjNrN5Y+LEA1PAA18DTrMhcuoSxfK1Ij4xwBI9QlxR5XG4wkGiueJUAXGAq8AM37x/Ga5ObeguHY3rDXrtcJ1ZfKV8MixfHDeb/avxHE6csK3B7pWOZy3ErfBuRq3IzPIc4D2r/oNvUK/UYGrBHKG3QgniM5KWAwhTcAP8FBJUC+O5o2uDAuLdssoilZIxQdgyDnJw8oniDtHuYmbil9HtUMhQEj/Gr2bO2X5Ing1t/P3fbXKNE3yo/FfMOxwwzD+cLGxAPIuM+B3dHpJufd3TDdweFm3DDSpNNS4Y/vUvqkBJ4O2hW0GzojxyozMH4yNTeuPrlEvkEsOdYzHjGwK4AmTScgJ7IhCB/bJQorPiWLHPYeSCT+HpsNCPtj8env5eyG4krcDN6x30Db8tSBz6jH2cG1wvHFeMU7w8zEVsu82+7rfexC4K3dPubM5W/a1NXk3sbrQ/gKA88KURJiHWIkbibQKgszpTUjOc1DwEelOm4sVCr3KaMmNSRVIi8drh4OKZMtBSQ1HMceByAXGeYNdgAP9BTvu+2l55rf6d6t4WHeYtZh0tTNNsaYwgLGXMqOyoTIcce90RPlJPGT6TXetuFQ6lTm7dpY27zoMvlLBLMKqg6QE5IZKyHgJ4crnS25MuA9k0UnQSI0Qi4fL/wq0yLuHpcf3R2zHvchFyM4H9IYyxRdFPoUeAyn/N/wZPD58JnqPeMx4B3em9sm2BbSpcvvyfLKqsvPyzfLy8nQyb3SaOWm9L7w0OTF44Tso+pL4P3dMeqj+NAC1wpNEicZUhwWHmIjLi6XMyYykDZEReJHODWxIl4lBSv9JGYdxSAeI9gdURreGqwaZRdcFa4QrA6VD5EJWvXI6PrqjerG3nXZktuJ2vjY8NjD0yzIwMWCygDO0Mz8zLHLBM2a25vvhPOr55Dig+p277XoiuHe5Gvwe/wyBxYPrxV0HHMhYCYkLqI1vzSXNMc9ekRDOwctcyrjKrsjwRs4HocjeSDbGH4ZHyC+HyAUgwsADrsScAsV+ivtieok7HPnut7g2vnc1drb01PQyNB9zrLLJ8zL0M7Tu9LvzTzPQN7b8Jr0bulg5fTs0O925hHhvuf28+D+gAsSF1kd0xz3G4Ig3SpkM6wxQTC4ObNCYDclJ3gn+S3PJUoa1Bu4IFUa2hEdE7MYNhv6F5URlgsGDv0NGQDC7DjmNOiZ5Q3hLN7L3Lfcjd3m2NjQR84r0WrQ2c5G0mjVWtFo0avdC/DX+w34dO2V6/TwaOyT4hXkdfD6+/4EnQ7ZFHsXhBq0HUwiXypnMk02zzuSQEM88zAlKukk2hmaEOsUTCAiIcMWQg9hFUceKB5nFB8L+QicDhwQCgL968Dio+b45qzfwNru2orbKdyD2CHUJdOD1RXVk9Vh2dbaI9aJ0VzY3upl+lH49OrN56btbet04/rk/+2g9I3+oQuWFSQZ2xt0Hd0izy65N/s2ojbGNxYw0CWOIpAeERQeE18cHSOXIvYiwB20FbwXgSD4HtMT8Q0dDJMI5v8H9OLknt6U42ToXOR04l3kSeJL3JrXH9e311HaYtqZ2nXaE9t+1pnRvdlt7mX7k/Q263jrEO2X5iDiUee/8gz9XgVtC5cSHRoVHm0a8RjxJG401Dk7NGEuWSdGIQUd+xtkGpYXYxs7JAImyxvMExcVXhjuGNMY4BTRCiAEWAaXAoXzmeWq5NboX+rG6ZTnheXu4UPdUteu11XcrN162xvbQ9z72AbTR9J+3ZrwXP3y99rqGeof8pDuceQC5ifzE/44BNIKng+wEocVBBtsIKEoIzB0MGUsgyulKzwm0yECIVEfBRr2GDscch92HCUVxRCPFacc+RrmEUAKHwkaB84C4vu38vfoDeei6Svpb+a9497fnNwY3sHfrdzl13bY7tpK2t7WDdUX0xfUMd9q8sv95vdf7WPrXO2B6Ljjoejr8uX6IwKxCqQQnxMnFHsUBxu1KEM1FzmwOH81lyz/IRAgGiI5HucYDRxkIyMmMiMqHYAZNhsQHhYZjBG9D40SZQ3kAvD5jPLe6Xbl9OcO6rrnh+Ic3xfeq91q2HrSdNBl1UHaOtnO0ojPh9CD0hHYS+dp92f10+X34D3rB+yz4SfiVvJF/xgEKwerC/kOsRI7FhIaVCQANKI7LTg7NU8zcSljHVoeCyavKYInQyiEKH4kyRwfF8kWtRrNHpobMhWZEM8PEAshAsr5cfPB6rni7+Lt5wLmqd382Srd3t4e2mbWBde72Vfawdc90xDSF9Mo0QfRtt3b8xD/r/b36q7pReqA5EritOpE9vf/zQkIEq4TLxKlE+8YGCCALCQ4YzrxNhs43TWZKA4eXx+LIzokiCpzMMAq6B4CGx0Y3hC4DyoXVxlbFG0RAwwhAGj4XfgX8MThpN4j5tnlot062AbW5tJF0ojVENgp2YPbT9wF2DjTD9Jb0UXPYtKj32TycPz195LvYuz76g7pCOv88bj5ZgHHCRURDRTxFOMVTRqHIjosCjMxOUA9KDlEMKwrWymkIjEiwSmgK2MgaxrnHugfsBVUD2ETZBd4FpAUNxIRDCgEkPtr9dvv0+ki4pfdW9yC3ZDcMNkv1knXkdp729zYatZn2eDdlt4T2lHWl9W51kfW9NyE754BIgIA9iTvjPBm8c3vy/MB/EoGkA/BFEgSxw4iEaMWlhraH40r6zP4NQE4xzxgNQ8luCCYKmMpWBkTFbEeWh8iEJgHQwl3DmsTqxcwERkJ1gp1Cvn7Ze+E8nny9ec24D7jguGs2tbVStVm1RfazN8M3/zcLeF+5nTjIt3H22zgd+Kb38LcTeS29dsDPwCw87Dv5vQf9a3wBPbJA9EKIgpmDk4U5REGDHQOkxZvIMQqSTGdL/4uiTH0KmsbqxcSJOIo8yGiH/og9BcfDGMJdgq4CygSZxijEn0I6whkCcr9n/Kt9AL5UPRV62zmJuYD5ATfc9xo3qXi7+Z66UDp3+Z+5YjkH+OD4YnjgeXV4wDhwt/G5N/z4QSOBg78w/WG9T3x2+yy8nv9lgL8BDsILQk8BwcHYAnpDWYXYyN4KsAqcCoYK3ooFyJuGmgSoQ4DFlsiIiJBFgMNGAuzCsIM0xGfE2sRyhBEEZILrAOi/vv5rfb49+32qO6g5hTktOQc5gbnluc46ODqQ+4m74bs6eii5e/jE+bA58zmtuMh4czgV+hN9kUALf6x9Q3zKfXz8+TvovLW+Qr+KQCVA+QBzvrB+WcCTQxvEasXviFKKDAmhiOEIzceaxZ2F9YhWyUHHSYWARdIFWgOiAw7DXEPURf0H6EbRg7TBjsIugl5B3QFiAHY+Xnyf+7s6I7iQ9/t4TnpRPIV9nrxr+qY6O/qS+uo6V/p6unZ53DkoeB22prVQdsP7RYBPwY7+rvs1urP7Z7tAO7R8mr5cf8ZBhMGUvyB9V78sQaXDeAUxhyDHRAc4CHqKAslkRutHN0jNCVFH/kd1CCmH/wZOxSLDoIKXRDAGRobkhTlEdoTNxA5B3MC0AT7BR4Dk/sg8/DtlOwx61vnHuQf5WXr2u6T7IbnkOYi6HroD+ei5pzmKuV9437gtt1T4K/sKPml+iPyZ+wg7JzqOuaD5jvuhPZX+m/6Nfkq93f30/zmA7cHxQxAGIohdh3rFkodzSlEKSIfoBxnIbYhpR3/HIYbWRc4FtMZmxtHGSUYYhlKGkIXVxMLEkwRqwymBVkDhwIW+1ju3OgI7AHvzO326w3sk+xi7UzuCO1N5/njCOgo7afq8OSF44DkCeLo3Y3dX+HF6if3sPxk9eDr1umo66Tr9ut08Yb4zPtT+sz3x/Xz9Ez3iPsBAGEHQBNcGmoVlw6VExAitCoNKJsgAB0YIVMnRCbrG0UVcRkhIs0hJxlaE90VmhubHmsdnxazEFQRVRW8D2cES/+I/536RfVN9brzUu756hXsg+vf6tbr6OyW6dvm2ufJ6Rro8uK030/gUOF032ne5N494h7qJ/OR80Xs4Oeb6r3uEfDW76vvDfE18z/0n/Ev73fxx/hsAJsELgYUCS8OXBCmEBgTpRnWH2cjNySjJKYjRx+MGxccuR/cIBEhOCESIVIdLxqqGjwc/Rn8FicaHB4zGrcPNAoyCbcGxv9T+0r6o/iM9dnzUvKD7tvrVu1R8MTtEerf6qXtXOum50rmsuXo4kjhtuIh41PhyuKy6qTv/us65ovn7Or76nzqwuza7BXsre9R86rwjOwt73T1gvkG++b9agCGAn4F/wnKDO8NkBJDHAciDh+FHbEivST1HuseCCg2Ky4kZSMcKuwoCCHmIW4ngyN/G0QcBCE2HaQUzxCGEPQL2ASZATsCYv/2+P/1R/Uy8I3pxekl7LnoNOPL4hTj2N9K3CTcHd0C28fXwtc02tHaINyP4HfjFuD93KTemuC34M/i1OYC6erpJ+zq7iTwa/Gk8+L25/lQ/CcAcgYZCx4Ncg4pEG0S6RbcHRUlWCglJ2AmECliKxMq4SpdLxww7CzqL3UzqS1MJ+YqKC2XJpQh0CPiI/8drhnvFkIQ7AfRBKcESQL6+4r27vNT8YXsF+im5PjgBd6j3FHbAdii1CDTsdJn0DrORs7QzjnP19HU1TfYptgX2OjYU9vf3Xfg4uSt6d7rkO1U8fP0I/X/9aD62gCYBKgH9AtcD5oQmhH6FE4YvhqoHbYkECv9K4ooCSiIKpEqSikfLCIx6y9+LKgspC79KcwjwiJSJe4jtx/5HcMdHRpGEhkONAznBo/+P/xp/DT41fCj7AXqFOUH4Ejd79ub2PLVAdaO1zzVGdFO0PXRjdDrzbrPU9Ov1DjWMdvB3pbegt7r4ablvucL66fwxvVB+Jj5nftv/nz/nwBqBPcIJwvEDT4SCBVdFOcUQhjiGbUaxh4JJSooMCjmJh8nqya4JR8nDytWLNwq1ipBK7MonCMwIjYjBCOgHykdsRuEGYgU2A8MDHAFl/7n/Pn96vkb9D3wQO066BjkdOFQ35ncXdpI2Y7Xz9Qx0obRLdG30CrQsdGp1CnXhdhw2nrdrN/n4fnlwelx6jrstfDf8+P0cPcG+9j8b/2o/08DfAWjBqEIGQzVDtgPnxEgFoYYpReIGB0bJxziHlAkcycbJn0jkCKLI2UmvyiUKZsp+ikiKDImCCbIJHogDR4RHv0bvxdNFZAU5xCkCtcDif9Y/Dj6VvhY9hnx6+nV5D/i99/I3J7aXdnx1y/VUtNF0t7RWdHT0U3T0tQi1rrYBN0c4DjhBeFl4l3lZujv6pHucPKP9Az23vis+xH9qP5VAVcEMQZNCAEL7Q1gD5YQ2BGKE9kUhhUIGHscGiDYIDQhDCKCI20j2CQ6KJYqvynhKeEq0Sg5JYgjQiSvIjEhViANH+QbdxkhFgkR/wtRB2ED5QAO/wz6dvTR70XrOeWv4Srggd222YHXRNZ404PRuNCD0D/QitC70H7RUNIs00LVU9iB2m/c6t9r4yHlkuaS6truFfI79db4Qfub/ND+8QH2BLYGVgiwCnINxQ83EgcUdhQKFcUXhRvZHXIf6yG/JF0lXibgJ6UniiafKGcs2SwNK14qmSrcJ/wk0iOpIsIffR0ZHAcaVBXjD7oNEgyABtj+fPus+fX1/vC17aPpheOb3pjcSdr91UTTLtPt0oXQNc5tzp3Q69B70O7RqNRj1cHWu9vv4CvizuIL5xfraOw/7hLz9PdF+5f97v8iAm8EyAZcCd8LUw14DuwQAxS4Fc8VwxZjGJMZSRqTHDYfDiEcI50kFSXII/QivCO1J90pXygRJy0oYib3IU8h4iFsHpsZHhrlGjEXIRHfDgQNnQevABb9sfuM93Dy+O9B7ojnU+Bu3dHcJNmz1CrT39NR08fR99Hw0bfQ+M/60eHT/NRo1rrZpd1V4Nzi/+WQ6dTrAu4d8WX1zvhl/PoAHwQsBaQG4AjLCQsLXA37D0ARuhJCFK4V5BZXGOcYcRmoGo8csiAPJEIjLyGFI08l1CSaJIomICYfJGwkOiYOJM8eMR6dHwseMRljF48WzRNGD/kM0gl/Ayz+0Pt1+UL0de6f6q7pCOZc4PHcnNur11vUI9Si1CLTK9LV0y3VItR80srTFdb/1wLZK9zF4Arl5OfO6int9O0m78PyVvhz/Dn/DgLpBHAFJgVXBqAIKwpKDEoPGhHVEUET4RR4FXYVOBXAFkQa6h1sIEIimyKWITghgSE7IrMjGCbmJpcmdyZYJFAg+B4NIK8d0hpqGkoZ+xSjERsPugqTBW8BGf4s+rj2ePKG7rvqkOaF4Y7erNxc2UTW4NQh1IfSW9Ix07jT9dJf06nUqNVF1vzX+tpg3rfhfeWe6cHrguzm7SzxwvQP+ZD9lQE+A94DawUYB+AH1ghYC0QNdg6tD9cRABMJE9UTIhb0F+sYcxueH8Uh9SBDIbEjXSTsIlwk+Se8KG4l7yQBJ1MlXiAdIIIiAx/HGVkZqxrHFZ4PxwzQClQFB/+C+wL5pvQQ7qLqXumA5fHec9w+3IPYFtNI0jLUZ9O30XLSqdN10vTRGtS316/Y8tgQ3BvhnOOh5drqnO/L8PPwevRw+AH7OP40A48FtwSoBT8JPgvtCq4LeA0pDr4O4BBEE00VLhbzFjMXnheoGPsc9SFmI/ohAyBgICYhbSNFJSAnUybGJMMj0CJdIWMezh3EHXQciBelFTAViBJEDWMI9QOA/v/5j/b59MzwQOvZ5j/lx+He3JfZ19jH1hfTKdJs0xXUh9O61DzV89Tm1FDX49nE23vdIODN4+fnb+yh70/yH/ST9bf2sPl5/XABdQRUBlAHMgi+CDgJVQs9DfcNeQ4tEUsTUBSLFNUVahZwFrEXkRusH4kgDiCYIG0hqh+YH08iMCWbJREmoSUkI70fxB3cHCscNhuKGPMVxxR/E4MO2QjWBBQC1v29+Sv3f/Sm7/Xq/ehg5vXhB94Z3Vjc4dl+1mPVU9bE1oDWOdc42ZPZZdlJ2/bdHN6U3mni/uZk6qjt7fDT8gr0FvWn9kX5l/w1ABEDKAU4BjEG8gYfCeUJjAn9Ck0N8g7WEFsTTxSSEkgS9hTEFjAYCRw8IHIgNh9VHgYe+B0yIEojciTWI5AhDCCtH3ofxBvpGH0Ynxf+FCAUHxPgDbUH4QOeAf38vfi89jz1svD067Ho4eVh4mffft523cbaStjx2LrZLdlq2A7Z5dm32g/cLd6A4K3h8uJD5evofuxd8C303fYU96n2ifj++zT/tgF4BE0G1gbJBtsHZgjZBwoIBApoC0YM6Q3pD/cQnBDTDzIP2RC/FOkZwxzjHHsaNRliGtwcdR5XH5cgDSFXIDof5B4PHLEYMhjiGesXKhRCE4sTEw+fCFAFcwLE/Vb6xfk09zHy1+z+6aznkOS44IffGuCB3gfb3NmS2+3aU9kL2jHcTtwC3czfb+LY4uHiWeUo6a7smu9M88/2z/fm9sv3xfqD/SQANQPGBAIE0AOcBcwGVQaIBvkHMQl2CS4LBg4dDycOAQ5WDw8QbRBvE2YZYhsvGk8bYx1xGkwX+xp3IBwgwB1fIB0hMx2RGkAcwxpaFj4UNxUfFaERcw2yCloJHQQl/fv4ePmr9/DyTPBx7+Hq8eRh5BflGeNk303fZ+D03+jd3t3Y3qzef96s3yLivuKM45TmJOvA7GjtBfB98/T0jfUt9z/4FPlE+4z/EAJhAT4AoAFSA8EDbARMBjIHSAZ5Bo8HFQX7AC8ERhBGG1Ed8huxH3co+i56L3YrWijUJwsocSZxI3IgaR2aGmMY0xbkE4YQGg5yDYIMkgqTB0ED5v2J+YL3H/Si7KTkleGL4fTfE9wV2TPZaNs63p/g7uBR4FziaOe26nzpJeeJ6Brrqeom6Xjp8er867ftzvA09iT9CQNmBBsBE/xa+SH7/P2t/hT++/7vAJMCSgOFAlwBvwJfB44KuQuJDVgPBRBhEh0WzBUcFZ4bFygIMOQvJynBHyIZHRkXHLYZMBSrEywa9BwSF94M6gdSCvcPARPfD2sJdAXZBZYCrvlz8Tzwe/CB7TzpKuf75YPkYOSV5YHnvOn17IbuRu3j6hXqfum+5xrmnuYS6czp8+bd423kqeay6eLvyPhM/xsAav2q+NfykO5d8Ob1s/qU+576y/p2/D/+u/4AAOwCDgkRDj4QXg7qDVsQFRXUGWUc0xwKISEuUzi9Njcq8B3aFowY1xohFREMBRAVHoAfqhJcCgAPfhMnEwsQcQ30CSwHgANE+4LwjuoF6w/qW+Vn4pzlwudF5D3hU+T66BXq9+hf6CzpYukP6JTlmuPu4u3juuVI5qHlb+aJ6Wzreu5y95ICdwUPAcb8Zfp+9qbyyPJl9lf6hvzP/Rn9VvxM/zUHUwt6CVMKFRKrFtkTGxJJFFEVzBWOHI8nWjHWNP8uIyL4F4IUWRT6FLoVRRZGGPMbzBogE90OIRLjE7YQVg+7D+oMuQddArD6wfEG7UvrMej55droOOwH6y7oPOl07Abtdure58vmIeeX563mEOSy4t/kR+j46AbnfuaR6GXrDO1m8T75xwCSAX/9BflB9cXwPu6H8AX03fb1+Dz9aQBCAcX/XgELBZ0HJAmUDdITbBXTE3oSvRNWFPQZ8CQSL3owYi0iKHEgPxh2EogQlRDbFM4Z0BqvFQUUsxVCFYEPvAsrDTIPDwybBBL+avjk86XvUe4z7DXpYed66v3r6ein5hDqM+1g61fqoOsF67Lmr+Ur57/nOucz6irube9V7RnroerQ6vzshvO1/SIE7gNfAF/8qPTc7KDsG/KJ9Vj2FfkJ/Yn/pwCZAv8DQwX3B9EMDhJjFIcTMBMYFRcWBBhCH9Yp8SxGKEEllSRZHi4XSRgSGxIWsBAWFeYYmRPaD2EVEBemEKgN4Q/tCwUDJf5b+2D0e+6o7z7ycvE17wLt+ulU6cPpQeqz62fuou427aXrAuod6MbnA+kb6ezofOr07CPsnemE56HniugK61DxmvuFAlEAa/lW9CfxqO0x7AHuf/EW9K32qPnu/Cv/XQGmBD4JZw0fDygQDRGLESYRbRGYFCgdXSexLIMrYifFJLUhtRpBEVMNABGHFvUXSRhhGAMWlxNREz0RIAucCQsOcA46Bbv8z/in9BHwJ/E99Yj1dPOp8sTxe++u7qztzOs46pHsO+6B7Ibp0OhQ6RTqMut56wLs5+ws7lfse+mj51vnLul18IL6hgGfAaH8ivdL89ruteos62fvbPM39r769/4LAQ0D9gVkCOYKBA2hDbAOVhPPGEEbih4pJUcqoihMJEQgWR3TGjwWxhHXFCgdax1kFkMT2RRcEysR4BBEDvQKXgxBDRgGs/1M+v73GvPU8Tzz/vKA8i/y0e/w7azutezt6T/sDvGn79jq0ekj60DrjutP6xjqBevl7Z3ul+y76gfq4erk66rs3u8t+Z0CKgPi/Cz3lvHR60fq8uwa79bxy/gfAO0CAgIAAvIDhgc6CQUK/Ax9Ew8bTSFUIz8hACEiJAUjjRsPGusd1hw5FtwVKhkeGYsWdxYgFjgUQhTfEhwRQhH5EV4NPAiqBGIB2PsT98by/+4D79nxU/TF9a/38PbD9Wzziu/c6jDrnO2P7X7sXO3g7V3tb+1v7BTrvOo17F/s9+y27T7upuxm6/LruvGk+1wAVfsL9EzxMO1o5/TlA+sV8eL2ZvzUALECzAIbAnICcwUtCgIRQRouIkwlbSVhI1sesxiyF1Qb6Rx9Gg8ZhhnJGUEY9RVvFeUXLBm9FmoT4xHAD4ILVAh/BqcC4/3u/IL9yflG84bw3fDK8IjwuvKE9Yz1evPZ8bPwfO6d65rqkeyJ7WLsRuzS7c/t5uv66nzrTuun6jLsCO/g8Krvau0w7/j22/7O/rv3qvE28QnxeO0A6bTqh/Lq+mr/OwKeBm4MOxBhDtoKsQyeFu0f7iQWKHcq3yRoGkwVdBa4FXYSsRI4Fl4a2xutGwAZQBebFsMVYxJJD94MggrNBjQAYPlD9k34U/kL+K/2Dfde9ZDzKfOx8/PzO/Vs94P3A/Ul8lXxRPCi7v3sfe007yvxOfKw8mzyCfFG7zDubO7P7hnvHO/w7pzt8u1q9Lr+VwK4+nDxqe4+7fjnmuQN6C3wsvndAqIJaw1zELYSQROIFAAZsR/TJxEuIisbH0QUxxBUD2sNsg6xE2AYrhu/HqkgEB/NGWIUCBGFDr4JmgW/BA4Dcv0U+TD4+fYl9cT15vcy9o3x2O4C8MjxDPJx8CLww/Iz9I3xlO6O7rLuL+5O7l3wL/KR8urylPS99MLySvEv8fbxCfPH9L30g/H97dnuL/LT9En2l/eo97f0su/e68bs5PDf9Xv8lQUtDYcSIxd4GxIgEiZLKlgoYyNaIBIcfRJNCiMJigyCEJ8U2BdoGrQcrB3DHOAatReOE8UQXQ7sCBYBofsi+Ir0aPKF8lLy9/Lr9KX1bvQC84zx8u+f7/rv8O7x7WfwgfPx8wryXfD+77XwevBC76nuKO9R8DryPfSQ9CX15/ae9372YfWW8tjtwetZ7xn04/Wy9W/1dPZP+Lf3FPTd9G7+TwwzFzAeZCUIMF82by5nHwoYqBXsDVoGfwcSDBcOXRPSGhMdUxxlHr8efBr/FVISzgxfB0EF2wKa/pr6NPdW88Xxd/Ef70zs4e3m8cnyufGR8mj0g/P18F3uiez267LtDPCw8VXzWvWh9un1FvQP8rnwgfHX84z1cPdQ+wj/H/+R/H/6mvjD86rtSOpq6yTvfPNj9rD35Pqq/3IB6QCRBYgOvxb4INsw+jlzMDghBRuiFU8HaPun+zsDEwwoFOIXAhjGGzchcx84GAAVyRN5DnYHHQGN+Znzi/JM8m3wUPDV8kLzOfEJ8HvvoO067fbvP/K38fvvNe847z3v1e1E657qo+3g8UX0FvUj9qv3lfgx+Nf37vlo/gcCRgMyA18CWwGOADP+0flQ98f47/kj+fj6Nv/JAXADhAYZB50FgQf6Co4LSQz5EFQUlxbuHH8jRCDOF54UtBLFCwkF6gOFBGkGcAu0D54PLhDlEvoRBgwoCJwGRQJX/J75ifhS9Z7yi/HP8IrvKvAB8RHwv+7a7vjukO687x7xFPB77Z7sP+yn6pDpxuq77K/umPG49Or2OPce9QXxcO4Q75zwivFN83L3xPtpANwF2gryDekQ/xRsGAcdhyXXL44zSS5HJSkdSxURDEQEtQAAA7AJghC1FI0Y6x06Ia4fWBstFroPBQhbAW38sPeQ8jXuK+wq7Ajtc+247G7rf+ox6uDpkeq57GvuqO0W7HzsdOw76mfop+hG6WvqM+1g8Cbzqve2/Pv/hAJSBVsGHgfyCvoOqA/aD0MTYxXwEyYSAxI9EdEPQQ5eDLgLuQ2pDrwMBQyMDWoNmAopCEYG8wTYA1gCX//K/Gb7b/kB9i7z4/Fq8HbvsO9q8OLw8fDJ8Z/zY/XQ9Yf11/W19gn3JvZQ9Qr15PUP+OH6y/wA/tP/kQLoBEkG4AZMB00HmggCC0ULpgmECYgLegs+CfwHYwgrCAMH5AUtBWgEAwRqA94CYwKsATEAM/9h/xf/aP48/ZX8pvsW+9X6qvl89xH2CvZQ9j32iPbF92z5V/rr+pv7c/s4+xL7avvX+0T83fxY/mMAFgLcAxEGZwi/CakKewwDDnMOoQ5xDyIQ+Q/7D3MP7Q21DMULNQowCAEHTQaqBHsCKwF+AOT+Kv2K++L5xPdI9ejy7vBC76HtV+yM64TrWuvJ6uLqLew67R7uWu8l8fbyd/QQ9mH3H/ha+Xv7lv3U/5oCCgYxCYYL4AwSDn0P9hBeErYTdRVxF1QYHBioF8UWfxWfE/ARqBCrDkIMeApDCSsIzQY3BZkDYgJ0Ad7/mP1u+9z5I/g59qH06fIs8d3v5O7O7dLsW+w87AXtZO5y73jwwfHx8pnzafTV9Rj39fcR+fn5g/rE+wr+3f88AWYDyAWNB7IIkgmFCrULxgxZDZMNvw2sDV8N0wwaDDILSgqjCRQJWQiNB8IGIQY7BfQDBAMqAhgBlf9u/lP98/uM+j/5OPhN9x/3MfdL98/3mvhB+eD5gvrB+iT7ovua+6v7ifxK/Zz9Lv58/+oArwEmAj0CYQJ8Ak8CVQIbAxUEQASUBO8EtAS0A+QCagJaAWEAx/8x/7r+nf5R/vP9Df5L/iP+wP19/RL9rfyq/Ib8UvyD/KX8qPzR/Bj9O/1f/bn9MP7b/tr/rgA3Ac0BTgJ+An0CngKHAtMCaQOhA2kDVwOyAwcEAgToA5oDfQM1BIkESgS/A1AD2wKdAjoCoAEKAaIACAAn/+P+5P6e/gr++/0X/uz9K/2n/F38O/z/+1L7BvuB++/7PPyZ/JL8g/w+/Fr8mvwP/YD95f1G/p3+1/48/8T/BAAYAJoAaAGTAaABCAKcAsoC5gImA4YD4wMhBBUERwRPBEMEXgRYBCoEDwTYA2gD3QJuAi0CuAGaAZEB1QFtAREB8AByAMT/9P5o/hP+x/29/RL+9v2d/Uf9B/25/Dv81Ps3/JX8rPzf/En9if2q/QH+ff64/qP+wf7A/vr+f//M//j/awDFAOwAHAE/ATQBOgEwAQMB0gB/AGMAZwArADMAGAD7/73/q//D/7j/f//X/qX+qP7G/rr+A/9B/5r/+f9HAEcAFwBAAFkAhgC/ANgA1ADzAOUADQHzAAoBKwFCAUgBeQGZAY4BjAGHAYsBcwGrAcIBogFlATMBowBfACUAAAD5/+n/l/9l/2f/Gv/l/nv+T/5I/kj+Mf7c/Y39XP1w/cn9xf3d/Tn+V/5X/nD+Rv4H/s/9//05/lz+JP95/1v/qv9ZAGsAkwAeAY0BogHUAQoCIAJPAnACsQLbAiYDMwMaAxkDYQOaA0QD4wKqAmICHQLTAb4BswFUAecAwAC2AJcAbAA6AAYA/P/r/4//Y/9r/07/KP8G/xv//f7q/hT/6v77/uf+Av8h/zr/ZP92/6P/u//I/7v/hf85/0z/M/8O//r+Lv9p/4H/gv95/5//3/8AAND/of9p/3X/Vv9c/2n/N/8Q/xP/X/+G/4//6v/7/wAANQBbAI0AiAChAMsAxwCCAE4AGADw/7D/h//I/x0A9v/7/20AnACYAHcARAABAPn/xf+u/8P/s/+2/67/uf+n/7n/zv/Q//j/4v/M/6b/s/+h/3T/T/8t/zj/IP83/0X/Pf82/0z/Xf9X/zD/Hv9U/0z/S/+H/+3/CQAXAFEAXwBjAGYAcQBYADoAKQD3/9n/IwBtAH0AaQCAALEAnwCmANAAvwDDAMAAtwCNAEUAPgArABQACgASADAASwBtALEAkQCbALIAjQBhABwA0/+y/4D/f/9y/0//e/9o/5H/xf/k/+L/7v/b/8v/tv+Z/4b/av8y/xH/Ef8U/zL/U/+G/57/4f8dAEQAHAD7/wIA5v+o/57/wv/O/87/3/+9/6D/zv8bADcAMQApACYALAAHANP/vv/k/9T/7P8hAEkAVQBpAJgAqACQAI4AuwDNANMA2AAPATsBLAEuASIBPAE4ASEB/AALATEB6wDrACYBWwEcAc8A4QC7AJEAaABmAHIAOAAfAB8AAQADAB0AAADp/93/3v/D/8b/n/9w/0D/O/8y//j+Bf/t/uL+1/7R/uz+IP8p/zz/Yf+v/8b/vf+q/6b/qf+5/+3/6v8IAAoAOQBmAEEAOgBWAFoAZgCGAIkAeAB1AH8AawBpAGoALwAFADgAMwAVABAA7f/l/wQA5f+//8z/uv/d/7r/mP92/2n/U/89/zH/Of9F/xT/Iv83/zv/Ff8u/1D/aP9s/7L/mf9//2v/if+W/5D/yf/H/wEAJABaAGIAawCNAKAAlQCvALsApABxAK0ApwCfANkA9QDYAK4AvgC0ALMAgQBpADUAFAD+/+L/zP/F/4P/dv+A/17/Rv9a/2X/Zv9f/yv/Qv9F/07/Xf9X/3D/mP+T/5b/rv/H/8T/AQA+AFkASgBGAFsAiADGAJYAbgCDAJ8AbABwAFgAMQAiAEQARgBNADAAIwBKABYAHwAQAAgA/f8HABwAGgAKANv/y//c/8r/yv/B/7//7f8cAAMA///4//T/AwAAAAUA7P/o/+3/2f/e/+b/6f/7/+f/0f/Z/w0A8f/+/xQAMAA4ACcAJQAXACQA/f/t//3/AgAYACAAAwATACMAIAAuAEEANwAPABQAKQAbAAAA/v8bAA4A+P/6//j/2f/N/8f/xf/a/8f/p/+3/9j/v/+3/9D/1//G/7z/sf++/9f/xf+3/7T/tP+1/7X/y//H/7b/3f/j/+7/BgD4/wkADAAgAC0ABQAUADcABQDy//j/5P/b/+H/7v/0//T/9v8WAAkAEwApACoANwA+AC8AKwAtABQAEgAYABYADAD1//v/JgAmAAYACAAQAAgAAQAJABsA+f/U/8H/yP/l/9b/zv++/9D/0//P/8v/v//J/+j/FgAEAPn/BgAuACoAGAAfAAUAHQAhAC4AOAAXACMAHQA9AEUAVQBXAFgAWABiAJYAcABiAFgASgBfAFcAQgBQAE8AZABbAFoAQgBEAC4AEwAZAB4ANwATACYAEQANACQAOAAtACwAIAAXACUAJQA9AEEAPQBGAFsAVABdAGgAbwBdAFUAYwBOAEsAPgBCACkAFgAdAAoABQABAPv/5v/+/wEA3v/m/woAGQAOAPb/6//a/8r/2f/m/+v/6f/5/wUA+f8AAPj/6P/0//T/BADu//f/7//u//L/6v/l/87/0v/b/9z/6P/0//b/7v/v/wIA7f/a/8//1v++/7X/pf+9/63/iv+n/4P/nP+T/6D/1P/B/6//vP/C/7H/0//N/7//nP+O/67/tP+t/8j/5v/h/97/8P8OAOj/5v/M/9//5P+6/6n/wf+o/6n/yf/H/97/wP/S/97/4//q//P/3f/e/+n/8P/Y/9r/7v/+/w4A9P/5//v/BwAZADYAIgDy//D/8f/N/7L/1v+4/73/yP+y/8//1P+5/5b/r/+o/6b/r/+l/5//if+K/7f/vv+1/8T/7f/5/wwAEAAFAD8AKQAbACkABgD9/wcA/P8PAAcA9P8MABUAKwArACIAKgAfACAAKQAYAPD/+/8FABoADAAPAAoA5//y//b/IwAhACQAEwATAD0AMgAfACAAMwA5ADQAOAA7AEsALAAmAFYAQQBbAFMATwBZAFYAVgBLAEsARgBLADgAWgBEADUAOQA0AD4AVABIADkAUgA0AEkASwBOAEoAQQBRAEgAOQBNAD4AGgBHAFEAQQA5AB8AKwA4ACIAPQApACUAOAAlABkACQABAOr/7//i/+3/5v/f//z/+f/s/+3//f/8//X/AgASAAQACgANACMA///l/wsAAgD5//v/CQApADIAFwALABYAHwAYAA0ACwALAP//7v/5//b/BQD+/8v/8P8OAAUAAQAGAPj/4v/l////DgDn/+7/AwDN/7z/3f/b/+3/7P/r//v/AgAAAOT//f8KAO3/7P/g/9//5v/P/+r/6//v//H/8v/6//3/BgDu/wYAAgDh//b/5P/Z/wMAAAD1/wAACQAXACQAEgAPACYADgAoAD8AJgAYACAANQAKABwANAAUAAIA3f/g/+D/1//s/+z/7//b/9n/+//1/8j/3f/c/7z/0P/K/+b/5/+8/+b/3P/D/8//x//S/87/4P/p//P/8v8LAP7/7P8IAOn/3//X//H/6v/P//7/4v/W/+f/DwAeAA4AHQASACwAIQAPAB0AEgDu/+z/8v/Y/+D/0v/T/9X/9//+/xcAKwAnADQAFgAfAAEA9f/s//n/yf+0/7r/s/+0/73/w/+8/9r/uv/h/+X/3v/I/9f/6f/P/9//wf/H/5r/iP+E/5b/n/+X/53/mP+l/5//qv+r/8D/v//K/9f/2P/Q/+L//P8QAPP/5v/v/9T/CwAZAB0AHAAZAB4AHAAxAC8AWABWADoAVQBSAEAAVwBCAEMAYQBiAIQAiwCRAKwArQCcAKgArQCzAKoAfQCFAH8AZACJAGQARABHACAANAA0ADgAMAAQABcAAQDl/9L/zv+q/2T/XP9P/zH/Df8M/xH///4T/xL/+f7t/gn/7/7Y/tr+uP67/p7+g/6E/pL+m/7N/hL/OP91/8f/GABpAKIA5AAZATIBSwFMAYEBhgG1AeAB4AEEAhACOAJxAqECrAIEAxwDCgMLAwkD4wKvAo8CMwILAoYBVAEPAcgAlQAuABQAxP+A/zz/+P6l/l3+Cf7C/Yr9TP3u/K/8g/x2/GX8NvxO/EL8PPw+/Dz8KPxB/Cv8MfxW/ED8T/xg/G/8mfwO/V79rf34/Uv+vP5K/8r/VAC4ACQBnwHZAXYCxgIxA5kD0wM1BHAE0wQqBXIF1AVCBokG5AZAB2kHvQfVB+kH5QfAB68HVwfxBmsG3gXyBDEEWgNVAnkBbwCs/8f+Jv5//dX8W/z3+5v7BPvQ+nP6BvrQ+Xb5C/mp+ET46Pen9zv3+PbW9qT2e/Zi9oL2p/bf9kL3qPco+M34ifmG+nv7UvxF/Vf+O/8AAOwAjgEHAksCuQI5A2YDrgNNBBoF/AXvBnsIgQo9DDkO3xB1E+wUrxWEFicXYhYIFcUTyRHKDnALwAjKBa8C7//2/WT82Pqs+Uv5ZPkb+dr40/jY+Dn4bvcd97j2lPU/9Hzz5PIG8m/xYfGC8Xnxa/EU8ubyO/Nq81D0P/Vg9W71C/ac9q32sPZF9wX4XfjM+Kb5pPpQ++v7m/xR/bX9z/3s/R/+vf0e/fj8I/2N/U3+DABLAh8Flwj4DPkROhenHKUh5iUbKZQrqiywK0Ap/CUXIdUaGxSfDUUHtAAc+/728vOq8brwU/Gb8uXzpfWt90b5FPqS+hP7pPow+an3evYM9YXzm/J/8sHyGPPc8571gfe9+BL6f/ug/On8zfzj/KT80fvG+j36kPld+JH3VvcI9yn2Y/VE9R71Q/SC8+PzjPRh9Ir0E/bA93n4jPnb+wz+Sv9hAK8C5wTNBZAGqAibC2kNzg5xElcXLRm4GJEaLR46HjIb7BrvG3gY4RKAEDMPygq8BRQElgMNAS/+dP7R/6b+z/yQ/Rn/ov1E+4/7W/wY+vb2Uvan9vj0CPNT8yP0jvO68t3z1/Vg9ir2n/fW+f75SPl0+tz78vpf+Yr51/ky+FX24fWm9RT0fvKF8kLzM/Ma88b01fav9874D/sy/Tr+Ef/IABsCdwL3ArUDWwTlBLYFnwa+B7MJcAtDDOoMZw4GEGAQtxAdEjITIRNhE1IUxxSmFE4UIhTKE5ES1BBoD2cNDAq9BkUEbwH6/Tb7ovnm9zv2rvWv9QL2UvYK9+33w/j6+A75Ofn1+Cn4F/eX9pH1lvQO9MHzivN188vzaPQa9QX2zPaR9zb4QviW+J/4QviM9wX3zfZT9un1BPad9iT3s/ft+IX61fvh/Ar+Uv8kAHoA1AAqAR8ByACAAKkAegBLAMoAxQGtAtMDkQWKB7wJ+QucDiwRjBOFFb8XYxleGiobghsVG4oZ9RcVFokTPxA6DTIKLQcaBFoBYv+b/en70fqA+kf6E/ou+pL6sfqm+m36GPpG+Z/4rveM9oj1ZPR+873yb/I48i3ypPIk88Xz0/S49X72Rfcs+LT4wPi8+Pr43fgb+J/3cvdZ9x/3FfeK91H4MPkV+jr7jPy0/dr+8v+zADQBjAGYAQ8BZQAFAIf/4v50/oD+sv5B/4QALQLeA+oFbggSC68NRBC8Eu0UuxYeGAUZQxnvGAQYyhb9FMkSfBAhDokL+AiwBosErAIkASQAPv9j/sn9bP07/eL8jfwR/HX7xfqf+Yz4g/dm9hL18PMI83Ly9/Gk8e7xVfLn8qjzi/Q99fX15faW98734Pfu99T3Wff69rv2UPYc9g/2fPYD9333aPhR+Yv6ePtL/Df9sv3I/f79Gf6e/RH9k/x1/OX7cftn+8b7Nvz9/Eb+0/96AYoD+AVZCN0KVA3eD2ASsxSrFnYYoBmOGiYbPxuUGsEZjxjkFpsUJhIAEFkNzgp3CDMGDARNAqgAN//8/Sj9c/yt+x375fpM+rP5B/lf+KT3m/b49WL1xfQe9NTzn/OT89TzXPSt9Gr1O/bn9rf3YfjZ+D35a/lh+TP5wviL+Pv3fPf/9tP2uvbm9j33n/da+Cr59vmp+l370vtQ/Ir8qPx1/Fv8MfzV+537ivva+zn82fzj/TT/tgB9Ap8ExwbaCDELYA0+D00RBxOLFPgVIRcHGHoYnhiTGDAYhReNFhgVhhNzESoP3wx0CusHggX+AsQA2/4p/bv7k/rX+T/57Pia+Kj4ZPhN+CP4s/cK93v2LvZj9cP0i/Rj9BD0wPP+86n0JPW99W72Vvfn93H49fg++T35CPnJ+GT45Pci96D2Mfbp9ar16PVh9ur2wfeH+G35iPp++zb8rPwq/Wf9QP0x/fv8tvxt/G38dPzj/Ib9a/6O/woByAKlBLYGswj3CvYM3g6IEAISgBONFFYVRRbXFhoXDxftFosWixV6FE4TzBHND8ENqAtbCfcGvQSuAqgAzf5h/SP8Iftk+t35oPmQ+Vz57fjQ+Ij4VPjN9z/3mPby9WX14PSk9FX0YvSV9PT0cfUZ9vD2y/d2+Cn5f/mm+Y/5Qfni+Fj48Pcj98j2lPZU9pn2HvfP94j4YPku+kH7EfyL/N78MP0T/br8X/wX/L/7R/s9+1L7gPvt++X89P1D/4IADwLWA5QFOQfxCKoKXQwCDrUPYBEKE6AU9hVxF2YYCxlgGXEZ4xjRF1cWfhT7ES4Pbwx6CZAGvwMrAef+JP2G+1T67vmR+QH5Evk6+Qv54PjS+JX42PdI96323vVD9bX0c/Rs9IH02PR49W/2WvdB+En5OfoF+5v7A/wm/B380vtP+8b6Avpg+dL4NfjH96b3w/f094H4Cvm6+Wr67vp7+9f75vvv+8z7XPvW+kH64Plt+Tz5Oflp+cD5g/pu+3v8sP1T//8AaAI2BB0GOgj/CQoMAA7qD94RsBNaFeoWQhhCGeUZ9BnQGSMZzBcPFkoU9REhD00MwQnBBvcDpAFg/4z9BvwE+1L63Pmo+X75lfmn+Xb5ifl7+TL53viS+Cn4rvdA9/v27fYC9yH3hvdA+NX4dvkm+gf7sfv5+1b8bvwu/Kf7FftJ+pL5pfi59wX3YPYE9sv16fUZ9l32uPY994j34vcp+Ej4Wfg5+AX46vfR95n3l/e49/73c/hS+Ub6S/ux/Db+7P+OAWQDiQV4B2EJcAvPDfUPMBJvFJEWqhiYGhwcaB06HlUe/R0AHaEbdRnlFhYU7xCgDTcK5AblAyYBuv7E/Dn7DvpO+fT41/jZ+OX4B/k6+Vz5QflT+T755/iU+GD4O/gE+Bn4Ufh5+MD4PfnE+Tz6tfr7+jf7Rfv3+pz6F/o5+T34Q/cw9gP16/MN81jyzfF08brxAfJu8hrz+/Pm9H/1U/b09ob3wffK98n3m/c59wL3EPcj94P3D/j2+CP6f/sD/fr+7QDBAvkEGQcmCSwLNQ0zDywRDxPSFMAWbxjVGUUbGRyoHMYcPxxHG7QZBxifFbES2w/ADIQJcQadA0kBEv9K/QT8PPua+mf6lvrJ+hH7YfvH+/H7E/zv+9L7b/v5+nb6G/rd+Yj5YPl8+bL54vlE+sf6//o2+3H7bPtl+wb7W/qQ+cT4qvet9pr1mPS78/byd/JO8kfya/Lg8mTzPvTW9Hj1Fvaw9hf3aPeE93/3h/d292/3bPfp9z/43vi3+bn68/t//RT/ngBkAkAETQY5CEoKRwxcDowQnhKTFIMWUhgVGn0bjBxGHWMdGR1UHAwbPRnWFhcUKxENDsAKiQfCBGgCEwAV/vb8/vuP+2T7efuT+777Kvxv/Jb8cPwp/NP7dvvg+mX6/PmZ+UD5OPlo+Y/5vvk1+pn6Bftt+677t/uD+yT7gfri+dX4qvdp9lz1KfT68izyd/Hz8J/w3/B58Sjy1vLR87L0ifVS9gH3hvfF9wD4+vf+99/3uffO9wT4OvjM+Jf5jPqt+xP9lv4+AO4BgwNUBU4HLQniCgMN8w7tEN8S8BS+FpgYMxotGxQcbRx4HKEbaBrTGLsWJRRSEVEOIQs5CFoFtgJEAEf+vvyc+9X6Svoh+i36afqV+uX6K/tS+6P7t/uM+3n7Nvvw+rf6VvoC+r/5qvmQ+bb52fnz+S76Tfpg+lv6JfrS+Uz5nvjZ9+n2zfXf9PLz3vJT8vbxm/HE8TryvPJh8z/0SfUs9vr2oPcx+Kr49vgQ+S/5Tvk8+XT5pPnq+WL6BPvr++P8/f0e/40A9QF8A/QEvwavCJoKwQzPDg0RQxOGFa4X2hloG3ccVB2NHTIdRhzbGvcYVhaKE4UQgg1HCh0HSwSnAX7/j/1d/IX7+/pm+oX6ufq6+gr7OftE+zv7LfsQ+9/6h/ov+tD5s/mQ+XT5evmj+ej5Tvqr+g77L/sR+0v7DfuN+hH6X/mE+GP3avZl9W30dfPW8nDyH/Ia8mLy9PKg84f0UvU79sz2l/dP+KP4+PgG+ez4zfit+H/4XviS+NX4Jvn3+dD6qfu4/Cv+hv8PAZoCgwRJBv8HMApcDKYOzhD/ElAVlxeYGWcb0BzcHTgeFh5jHQscNRqyF+0U6RFqDv8KqweUBMcBTP84/Z37efrK+Yj5efmc+cX5R/qu+t76IPto+1j7L/v/+tr6jvpF+jv6PfpJ+l36q/rp+kD7i/u1+/X73PuJ+0D7nPq1+Z/4Z/cw9un0lfOM8qLx5fB+8F3wlPAB8avxp/Ky8770yPXa9tr3fvju+DT5Vvks+Rv5E/nk+NX45fhC+cv5Vfo3+4L88v1j/ygB/gLZBO0G+wg/C0wNVw+ZEckTxBW4F78ZZRucHGId7h33HVsdNxyjGpcYFRY1EzUQJQ3yCf0GNQSzAX//s/2F/KD7Fvvt+ub6BPsb+1j7hPuc+6/7mPuA+1X7HPvh+p76oPqv+p36vPrm+kH7cvuE+5D7cvs9++b6Xvp2+af4ovdb9ir13vO/8q/x2vBA8NHvnu/c707w4fDI8bvy1PPo9OH10faZ9yX4hPic+JD4fPhv+Cz4Hvgj+E34z/hR+Sf6Q/uI/Bj+xf+AAY8DwAUFCCMKgQzwDmMR4xNXFrUY2Rq3HBAePB+3H5Uf4R6iHesbdRmBFlITARBSDPsI4wXgAisA3f0t/NT64vlv+SH5HPlC+WL5tvnS+eH54/nv+fr5BfoG+jX6f/qx+gn7evsS/LP8Of3N/RL+N/5c/gX+uf3c/Pf75/qF+R74p/ZE9arzWfI08Urwve9W70zvr+8K8MTwXfEq8g/z6vO+9C31ffW/9eX11fXU9aD1pvXD9SX2ifZN90v4hvnb+mr8YP5UAIUC0wRKB7oJcgwSD9wRoxRdF/gZfhy9HlAgWSEbIisiLSHUHwEebhsiGLgUQhGDDeEJiAaeA+EAi/4V/cb7x/pB+vn51vnj+cv54/n5+cb5pvmn+cL5xPn++Tz6t/o1+9z7vvy3/XT+L//A/yEAbABIAPP/M/9V/iH90ftn+sH4/vZf9enzivJS8Ubwk+807x7vfe8E8IXwLPEu8gTzqvNy9Ar1kfWv9cv15vUD9t715/UT9lH2wfZt92j4evnP+kn8HP71/yICQASLBscIMQuyDTgQyxJCFegXRRqbHG4e8x8GIXghIyEhIJYecxytGUEWlBLHDuoKDgd7AzoAcP03+3T5FvhT9+P24vYh92j3zPcz+Kz49/hn+d35DPp3+ir74fuu/IL9fP5y/2UASAH2AYQCywLFAl0CzQHjAIP///1N/HL6kvjE9un0MPO08WPwZu+A7tftme2j7ePtKe6m7l3vFfDh8LTxm/Ji89jzWPTh9Cz1cPWm9QP2jvYf9/b30fjc+R77qfyB/lEAgALYBEUH5wmRDDwP8RHzFJQXJhrQHPUeziD4IbIiySIgIqEgrh6QHFAZmxXrETIOTwp5BiUDKQCW/YD79PnE+Nb3R/cd9w/3B/cZ91X3fveW9/L3WPjN+G/5bPp8+6D8//1U/5sAvAGXAjYDrQPKA24DqwKrAXcA4P4o/aL7wPne90D2oPQs88bxqPCs7/LuYO7k7cvt0+0f7ozuDu+773LwI/HM8Wby6vJO86TzDfQb9FD0qPT59Kn1d/aQ98L4R/oI/Pv9CABJAtMEZwcrCskMjg93El0VLBjaGoYdJSAIIiojCCQ2JL0jVCJRIModYBqcFtsS2Q6fCu8GlwN9AP399Pua+of5bvj99+r3vfe+97n3uvfG98j3/fc5+NX4lflo+oT7xPw8/qf/GAE+AhkDAgRMBCIEqgPvAuIBWAC3/vf8P/sv+T33ivXp83ry7/DC7+3uCu5g7RvtFe0V7U3tAO7B7mrvHPAL8d7xu/Ja887zTvS09BL1OfWi9TD2rfaE96X41flk+yX9FP8QATEDggXwB0IK5QyFD/gRgxQGF7UZJhxiHlgg9yHXIlQj/SLqIQMgjh2QGrYW8hLmDtIKuwYnA/T/B/3S+kP5PPiA9zX3D/cH9zv3V/eC96f3yvfu9yX4mPgg+fL58vo6/LX9N//DAFICmANgBNIEEQWIBJUDYwK1AND+oPxm+kT4UvZX9LfyZ/E+8Gzvve4z7r7tlu2F7Wjtl+3g7UPuuO5s7/LvmvB08UHyM/Pr86z0MvXM9Uj28PaZ91j4HPnq+Sr7aPzo/bz/5AEUBK8GcglhDIgPrhLnFfUY6xv0HqshiiPaJKYlzSUhJUkjGiF5HvkaEhcREygPJQt2Bx4EWwHz/v/8p/u2+uj5Sfni+Hz4JPjI95/3Yfci9x73ifcZ+Ov4Bvqf+zn95/7OAIAC9wP3BLEF8gWYBcgEmgPqAeX/3P2p+2r5dPdB9Y3zBvKe8Jfvqe4N7kftw+xu7Bvs1eve6/nrRuyb7OvsfO0K7rXucu868AbxzvGG8lHzIPT99On16fbs9yH5k/oF/LP9pf+wAf8DgQZjCYgMlg/gElgW+RlFHYIglCPNJUUnHigEKLMmkySpIQcexhk5FX4Qzwt2B6MDjgDe/QL8vvrr+Wb59Pjl+I34TPje9z33pPYJ9nr1QPWY9Ur2d/cy+WT73P2FAB0DeAV4BwoJ3An5CUcJ7QceBssDIgF//sP7VflM91P1KPQZ8x3ymvH48JHwBPBJ77Hu3O0g7W/s2utx60zrguvn65Xseu2R7rrv7vAo8jPzBfSx9H71O/bf9qf3evh++ej6oPyO/gMBzwP2BrEKYQ5LEokWwRrCHnki9CWmKDAq6ipQKzEqxCfPJFghIh0BGEwT5A5DCvMFuAI1ANP9C/zW+gz6HPkn+Hb3mPZu9Tf0UPNu8rPxdPH68fHyZvR89jD5TvxX/1MCNwWXBwQJwgn3CUkJzQflBdsDlAH9/rD80voS+a73z/YF9nr1xPTu8zDzPfLU8Fjvxu0N7MXqwekJ6cHo5eiF6bPqLOy57VXvDvF/8qPzjvRE9cz1APYI9lj29Pab96X4V/qs/F7/ZAJEBpQK6g5VEwYYsxzSIF4kzSeKKq8rBSyrK08qkCcHJEYgIRwIF/0RsA2ZCXoFAAKz/5v9b/vX+Rb5CviE9iz1LPTQ8i7x+O907zjvAO/47wXyF/S99hb62/2DAaAEpwd0ChIMkgxnDNELXQrzB64FXwPWAHf+j/wo+935ufgl+Kf3x/aM9W30F/MI8anul+xh6k/ofeZT5Q/lD+W55d/mr+iS6lXsIO7c7wjxhPEC8m/yYPIx8n/yH/MF9GH1hPdq+oL97gARBccJZA7vEtgXuxwTIdUk2ChxLGQu+C48Lw8vCy2QKdUlqiGXHMMWrxEZDR4IwQO5AIv+JPwd+g75SvjU9kz1PfTA8u7wge+37lru6+157lvw1fJr9bj48/zgAAwEDQfTCYAL8guvCxcLawkDB8kEygKMAJD+H/1M/Jn79fqc+kj6jPlJ+Mr26fSG8rzvCe2t6mfoqubj5eblcuZZ5yTpIusG7a7u/e8g8WTxKfHy8IPwAvC97wfw+/Br8lL0Sved+jv+8QEtBtwK+Q5GE7MXRxxmICokFijVK3kudy/lL/0vEi5mKkEmwSE5HP8VhxDNC/wGzgI9AGD+e/zZ+v75Kvnh9wD2PfSA8hvwCO7l7Irscuxy7b3v/vK49ob6Cv9TA60GRglVC0cM0QuaCi0JOAemBFsCtgB1/0D+j/1f/V/9Hv28/Ar8tfqP+AT2RPMT8NjssulS58HlAOUE5Qnmw+e96Q/sRO4K8BDxa/Fs8YfwOO8W7jrt8uwz7WfuoPCK86H2PfpU/hsCmAXeCB4MTw8sEkkV5RjRHOsgTiUJKhYurjAPMqAypDEoLhopeSPzHLsV/w5HCUMEAgBd/TT8jPvx+oH6Qvpf+Yf3N/W/8vvvM+1L66rqCeuD7HfvovNb+FX9JgKUBgAKHQwyDQgNlwtjCSsH3QToAjIB///F////XwCUAI0A6/+J/oH8pfkR9lXydO7k6uvnv+Vd5ALk5uRI5kHoIOrs62PtNO6e7jruH+2m63Pqi+kl6YTp6Ood7ezvUfMP95z6r/22ABEDBAX1BgcJsQvKDscSxheDHcYj8Sn3Lwc1vjc2OAM3+jOLLoAnJyCpGDwRIAu8BoYDYQFdAF4AYgCr//z9pPuE+IH0GvDe65XoUOat5T7nZ+pg7jbzA/mh/u8CPAaeCGoJ3gj9B9sGXQUTBIQD9gO8BHoFQwbdBuAGKgZ2BLwBNv5Z+tn2cPMe8Hft0+vg6nDqM+ry6bDpkelX6aLoJeid5/Pm7+ap573ot+n+6r7shu7u7/Tw8vFj8r7yjPNV9EX1pvbD+Nz7fP9tA+UHmwyiEX8WCRtXH1IjuCaaKWIsZi70LkAuNi2QK40oXyQdIL4b1xYZEiQOUQolBtICpACG/rv7H/kL9+j0z/Ln8HXvoe4z7qLuW/CY8sj0b/fG+iL+6AAYA7kEHgY4B6sHygezB6EHLQcOB0IHtQawBa4E4wNuAj0A8f2v+yb5iPYg9A/y5O/H7TvsHus/6inpc+hM6IPop+j96MDpSerE6svrwuwN7RLtZu0A7i/uj+5t76/wP/Ij9Hj29Pgo+2z9FgCpAjEF0QfSCqIO5RIXF60bnCA/JSYphCw4L+IvMi4ZLMQpjiU4IK0b2heVE88PVQ0ECxcIhQVdA6AAJ/1P+bf1w/I58O/twuwe7R7uZu+28aD0Mvfx+PX6O/1u/vD+8f9CASACGgNrBLoFfwboBt0GrQaYBacDqQGJ/3z9GfsO+Wr37fVd9Dvz+/Eq8GTuwuws65rpZOiD52Pno+dq6ILpuerh693sUe2E7bbtWu0w7VztJ+4a76TwAfNN9X33M/rP/LD+XQBKAoIEbgbhCAcMDhB8FNIYjR1aInompCkaLLMt5i0hLMcpyCfBJMwgbB15GiQXkRP1EJUOAwv+BoADZgDF/Ov4uvVx87TxgfDH7+Dvo/CA8aTyU/RA9nr3z/jV+tb85f3Z/pYALAJOAysENQWyBX0FcAVKBYIEBAOGASwAnv6a/Ev6C/gP9hP0tvGZ78Dt9OtT6qvphekU6fvov+kW69TrNuxq7LXs6+zD7Lnst+wU7f7tUe8F8Zfy2POH9Yz3CPkw+nn7Af3V/iABDwTnBvsJvA3lEbsVeBkVHU0gOSOMJegnnilhKoopAyjuJkglHSIrHhUb9RdQFJIQbA36CfYFYAJu/2H87vjw9Zzz6vHp8IbwMPBp8F/xbvKJ8830AvYG98z3HfnZ+mT8rP0h//kAXwK/A3oEjwRbBDYEvQOsAkMBn/85/pz85fqy+E/2wfNy8Zfv1O1D7P/qVuqJ6qvrkez37M7s5+y/7RLuxe1g7W3tN+49723wmfGA8pjzCPVp9nb3ZPhZ+aH6a/yj/tAAGAOGBT8IbQtqDlkRgRSYF6wa1h2FIB8jRiXMJkknbCZrJWEkxSJSILwdbhsFGVAWWhPDD8kLvQcMBM4AT/0p+nX3TPXm8+fy7PEE8Y/wk/BN8enx5vEW8lDzQvXj9gf4k/nC+379y/5FAHMB4AEOAlACiwI0AggBjP8f/tD89fpU+OP14fMY8izwoO657Z7s5evV68rrmOtI6xrrO+up60jsjuzU7KbtM+9I8Onw/fEo82703fVK96L4FPrZ++794v/xASAEgQbhCD8LmQ38DwUTxhUHGJYadh1lIO8iTyUKJ6wnOCd7JqwldCSjImogIx7aG3YZ3RXCEbgNAwpTBv8CMQBP/bX6Vvgy9kn0KfJm8Gzv7u6t7mHuZe4q7/zvufDs8ZXzJvWn9pL40/qo/NL9K/9DAM0AGwEeAXUAzf+4/mj9wfvH+en3qPWs8xbywfBT75Xugu4b7sPsb+v/6r/qdeoS6nfqH+sV7OTsx+0n70TwS/FL8gP0cPZZ+Hf59foO/Q//XwDfATUE7wY8CVgLBA7wEFATLBVEF2QamB2WH9MgjCJjJPAkoiNmIhoiNCIgIUcfeR1fG7gYOBVJElsPRwyRCN4F6gOPAf39AfoH9zv1GPRy8ljw2u557sLuju4U7h3uw+5j8H/y4vSA9qL3GPkV+yv9wP4o/yT/uf/rADIBTACB/jP9JPxK+2H6uviq9hb1h/TW86PyxvDz7p7tZ+1v7Q3tleuM6o/qG+uV68XrnOwG7l3vd/BU8a7yffRO9lH41fp1/TX/TgCHAR8EDwdmCWALLg5BEXgTBhXMFlQZFhxRHlMgUCISJP8jHyLpIKgh5iJ0IZoethyaG94YsRR5ET8PzgznCdQGfwTvARP+3Pk893/2IPXd8b7u+u067kPtu+u468/sG+4Q72HwE/Kn86v0wvUH+AH72/wg/bL9Wv8OAd0Asf9r/4f/D/+L/ez7D/s7+qb40va19aD0DPP38JTv9e5Q7r/sUesf6y/r8+qR6izrn+xD7vzuI+/V74Tx8fMI9tf3j/lN+0n9cf/ZAfsD0wXCB6QKYA4IEeIRkBLwFJgYORwPHoEeUx8BIS8ipSF8IFcg5yBhIPcemB31GwEZxRVeFKYTphH8DfIJIQcBBXwCvv5u+4/51fel9OzwLe/z7v3tW+yy6yvs1Oyc7IXstu3a7+zxIPMt9Gv2cfgQ+Yn5Tfuc/Yb+E/7v/Z3+8v4+/kz9Tv2L/bf8MPsC+lr5/vfB9Qj0WfNP81HyFPD97TDtYO2H7XvtaO2o7e3tV+5U7+7wP/L68iz0YPYT+Ur6efrb+9/+MQIrBFoFJgewCQgM9Q0qEO8SoBXRF5oZ/RqHHFYeFSCrIKUgbSE7Ik0iXiFEIDMf5h1pHIQajRh0FtsTdhBQDRoL8Ai8BeMBuf5q/Aj63vYa9IzyivEd8O3tSuz+64bsqeyd7CLtNO5T7w/wOvEL8+X09/XZ9jb4ovlA+lX6v/rM+3n8EPxc++765/on+676gvkl+Of2Dvas9Yz1u/TA8lnwZe8J8NLwM/AE78ruwe+u8KzwiPD/8HTyOvQK9hz3+vbE9vb3Svuh/tj/Vf+A/+4BrAX1B60IbwmIC28OlBB4Eh4U1xWjF+QZ5Rt5HAUcMRznHRMgjCDeHrIcrBumG34bVBotGLYVGhOLEF8OzgzOCuwHzgQkAqv/z/y++Yr3RPYT9fTyV/DN7rPuL+8U753ui+487xnw1PBD8q/zjvTY9Cv1avbO99D4NPlb+dv5QPoq+g76RvoT+1j70vrl+X/5dPnm+H/4//dm97z2DPaV9Sn1yPR59CD01fME9P/zl/OL8zH0K/XH9ZL1SvUU9pn3JPmF+Zb5Ovrf+1f9hf7e/5EB/QKhA/MEbAe5CskMeA1nDsIQthPsFSYX2xjeGuEb6hs9HCse1B9tH3EdSRzMHP0c2RukGdcXgxZsFIcRGw9/DX0LMwjRBIICYgCH/WX6V/hX9zD2n/OJ8PHu5+757lTuT+3o7PfsKO2p7bnun+/b74vv4u868cfyjvOP8/Xz7vQd9tP2Ovee91/4JPmg+e/5R/ob+pv5u/mO+tj63vk8+Db3dvdh+Ir4efc29ob1c/WT9Sn20va49qz13PQ79Vj2Y/fs9wL44fcn+On4g/rP/Ij+BP8i/+AABATsBkIICQmsCk4NGBD8EWsTxxSTFqsYtxooHIQcnBzCHRUgvCEVIZseHh3eHVIfBx+vHLoZ9BYjFd8T9BJZEV8OUAqdBpUEGgO7AIn94Prv+LD2d/OA8CvvDu9y7pXsd+pc6fHo5eg06djpdeoR6kbpdelG63/tre7U7jXvSvDt8UfzWvRx9Wj2KveD9wP4g/gw+W/5T/lH+Rb56vjF+Ij4MfiC94j2jfX19CD1qfWR9X70VfPp8jPzp/NM9AL1zfVC9hL24vW79s/4+vqW/ND9/f61/6kA6AJxBssJZQujC0oM4g4RErAUaRa8FxEZMBpTGycdmB+1IHAgISAPIY0ipiJPIRkgxR9SH/Ad1htvGncZtBf0FEMSgBB4Dq8Ltwh7BjgEFAFE/Zv6oflK+GL19vHu7xrvTu5s7O3qZ+oa6lLppeg36VDqyOoi6iLqAexM7i7vFO+d71fx9vLY8070BfV69pL35fcU+I74/PgF+dr4OfmD+cD4qvco9yz3Gfde9h/1iPT/9Fn1e/Q4897yrfOp9CL1GvXT9BH1Q/a39+z4Zfnv+Wz7uv3S/7gAQQE9AoEEEAdDCVYLvQxNDb8N4g9+E1kWPhfkFp8X8BneG2Yc4BxRHpkfWh88Hn8eKSD7IJIfTh15HKoctRuMGZIXRRa/FKgRPg4kDCALQgmdBbQB4/7w/Mj6KPij9Wzz5vAj7vzrJ+uI6gvpG+fa5f7lmOaj5mrmmeZs5z/o2OjH6TzrCu0Q7szu7O8D8SbyVPOU9Ob12vYS9+X2KfcK+N/4WPln+ez4FfhA9wL3oPf194n3h/aj9ZX1evUd9ZT0bPQ79d31zPVI9dn0bPXt9rr43fkA+vD51/oH/XX/MQFBAlcDPQWDBz8JxgptDBkO3g/5EeITbxWMFqAXchmaGwYdgB3sHf0enSAMITwgeR95H8If3B89H8Md0Rt1GSUYhxesFnEU4BB3DVcLKgowCDgF4QHU/hz89vnq95710fLp7wru1OyN6/7pPuhW56/nyudY58LmreaO56jorOmU6irrveug7CjuMfDc8WPyhfKG81X1M/ci+GL40viw+VX6fPq/+kH7cfsF+3z62PlG+az4Dvh7+BL5gvjb9kn1nfX19r33avfw9hD3bPe69wL4G/mG+t37tPxK/Tr+ZP8cAVwDgQXYBpgH4whNC+sNxg/TEAYSshNeFfsW6xjvGiscSRxZHLsdwx/9INYgQiBdIOcgpSBZHzUepR0PHa4btxmLF+0UVRJDEN4ORA1/Cn0GeQL4/zD+3/vE+Nj1pfOQ8fPuVuxt6kTpNugV51Tmq+VH5aDkFeTi5Cfm7OZG51/niugo6pXry+zV7VnvlPC78bjy2vPb9LH1hfaR95n45Pih+Gb4K/np+Sb66PlD+eb4pfhv+Dv4EPjp90b3v/b89kT3P/fp9pz2CPcx+DT5qvkw+pH6bPuu/C3+vf/jANMBFwPOBHYG4gcACZwKsQy9DkgQehGrEisUxxUaF5UYmxpAHOUc+xzSHGAddB4hH4ofbh+THvIcPhuQGtMavRrwGMQVbxIQEGIOvQznCrYIAwZeAk3+L/tl+U34bPav8+7wcu517NLq9+l26RPpT+hR58PmzeZI59Hns+iu6aDqPevG67Ts+O0y71vw5/Ea8wL0yvQd9RD2U/dp+OX4n/hh+O33Efh0+IH4T/il9+T2QvYQ9ib2IfZZ9dT0nvQM9aX1KfWF9Gv0c/Wr9pT3OPjZ+If5Vvq/+5v9mv9/Af4C8ATGBh4IDgmnCuUNoxGoE+sTshS9FnQZSxtIHPQdAiGnIqYiSiL2Iu0jCiQ/JHwkbyQ4I0IgjR3wG24bfBoIGEEVehJADzULKwjcBfoDTAFI/tr6D/d984nwBO8X7vPs/Opp6KPm3uVm5RXlYOWa5onnE+gw6FDooejt6Sjsr+538BLxG/F88bvyVfSb9Y72pfdx+Jr4OPgm+A347Pfo92342vg/+Oz2cPWk9IL0lPSX9E/0T/RG9IXz//JL81D0JfXT9Yn2lPeG+Cv5+/k1++P8+f7YAD0ClAPoBK8GYQg8CqoMDA/8EMMSfBTtFa4XBxpIHEEe9h/MIQEjMSMbI4cjmCQtJaoktSPsImEhyh43HOwa+hnFF1wU5BDzDeoKgAf/A0wBDP8C/Pf3bPT58afvHe3T6pLpy+ip5w3mOeXE5X7mZeZi5mznMel86kTrPexu7Zvuju/N8Hny1fNU9FD0qfSV9Vj2ivZt9nH2tPbW9mP2v/Uf9az0WvQr9K7zEfNT8ozxPPEJ8QjxGfEr8bDxC/I48qzyZvO59MH1s/bj9/j4d/oJ/Ev9ov4jACoCnwQXB2MJPQvaDOAOXRFCFCwXnxkxG6wcxR6PIQ4kDSUmJRQlxCXTJj4n2SYGJg0lnSPzIQog6h1VG7sYahbpE9QQCg1sCQQGIwNwAK79c/pm9+X0zfIL8WHvie3567nrDOws7LnrN+tK6zXsa+2Z7nvvJvCz8DvxJ/IP843z3PMc9Oj00PXt9XT1lPQh9Fv0HvWJ9Qj1FPTS8gbyqPGL8RjxjfAT8Mjvr+9p7wbvku697o/vmPBn8fzxU/IC81f0VvbL95z4lPns+sP8vf4oABQBfQLSBIEHAAp8DJUOZBCmEpsV6hhuGwQdxR4hIdgj2iVEJsIl5iVZJjwm7iVdJdAjPiHRHg0dsBqMF1wUoBEaD2EMVwnhBZcC0f83/Z36Lfj09cTz7fHU8Prveu7c7BfsLuzw7MPt9O3X7UjuLe898DbxCvJ88tHyIfOc8wD0F/Q39EX0DPSv83PzS/Mc88Py0PIe89fyMfK28UzxTPFo8VHxI/Hr8LnwffCs8DPxf/Gf8bXxBfKd8kjzbvSV9Yr2j/cn+AH5DfpV++j8cf4+AEYClQSiBrYI/grqDN4OVxEjFNoWcxmzG5gdBSDYIngkLyTrI+8kJCZAJh0lqiOCIiQhyR52GxMYQBVtElwPvAwUChYHjAMQAIH9Vvta+TL3efUX9BbzR/IU8QLwlu9677nvRvCW8P/wOvGi8Ury5/JP84rzrfP180n0YfTu81Lz9PLP8u7ydPKd8dLwh/Bx8LHwBfH+8G3wu++q77Xv8e9I8Inwz/CN8UHytPLL8knzG/T+9A725/a79zj44fgF+o77kPzx/EP9Yf4gANwBGgM/BDAGlwg9C6EN4g8oEs4UzReUGhMd5B/pIkUldybdJrcmhCZ4Jq4lUyT9Is4h1R9IHeMaRBgBFbURug6rC9AIGQZdA/wAy/5m/MP5nveN9pX1XPRb8yzzIvPD8tjye/MS9E/0hvT99Kz1MvZ99lX2FPbz9YH11PQm9EDzKPI68Xbwpe+27rLtD+2b7FfsY+xc7GXsOewk7CzsWexq7Frsouw07RHuE+868DfxCvLQ8vLzT/XN9kT4JPn++ez62vul/FT99P1r/mj/BQH7AvUEMQe4CT4MHg9BEhQV0Bd6G04foyIZJXgmtiZeJiYmSyXaIysiBCC3HbcbkBmhFtcSrA+HDE8JvwY0BKABJP+Q/Xn85/oT+UL3r/Vj9Y31TPWN9If0WvU39qD3Avnk+Uv6TvuN/IH95v2m/UH9jvwh/GH70fkB+Nf18PNg8vfwcO+C7SHsUeup6hvq5unD6f3pgeoH62frWete63zruOtx7Gzt5e2t7qLv3/Ba8pfz2vTY9RT3x/jF+qP89P05//AA9gI3BUQH+wjUCiENmA84Ei4VhRivG0QeLiGVJMwmoSaMJSMlJyUcJPkhtR/xHSQc6xlGFx4UqBDhDAgJdwV+AiH/vvsv+dX3o/Yg9Sb0SfPv8gbzhvOF9M71fvfN+VH81f7RAPIBhAIxA0EEmARqBOMDOgPiAuECTQLRAMr+S/wL+qn3TfXe8oPwve6A7XvsCeuB6UboRufE5uvm7ubW5hDn5+fy6Afq7epy6+Lrcuyh7YXuKe+479TwmvKq9OL2kvgU+uD7Nv46AB4CkQSoBzYLvQ5fEiEW+RlhHZEgdyTTJyApqigJKKIngSZZJE8hex45HPQZbxfxFPgRLg57Cn0HlQRZAeT9iPoz+Ij23/RW8y/yZPEy8Y7xX/Ib8xL0uPVd+KL7if4uAYYDXgYsCVoLggzbDHwMfwtQCtQISQfVBF4CqgDz/v/80fo5+Nz1vvPE8dbvae076zfpfudi5kvlVuSm42DjvuNb5CvlE+YD5xjoV+me6knrfOva61LsZ+3o7qvw5/JZ9Sv4KPtm/qEBnQSfBxwL8w5RE5QX9hvSIPElqirfLJ0sSisLKoUnjyM5HzwbxxfqFIMSDRCDDUQKpgb3AnD/jPtB917z5fCN7+vu+u5S71nwi/Hv8mn0cvVq9rf31/m8/KL/ewIEBRsImQulDqIQTBE3Ea8QSRByD04OZgx0CioJ+QeWBiMEAQFH/rv7Fvll9oLzufB87hftDez/6kPphudT5n3lx+Tj40/jUeMt5KrlVueQ6Kvpnuqo6/bswO3l7VfuRe+l8ALztvUT+Q79kwHJBrMMgRK/F6sc4yGrJ4ssei+lL3Aucy30K4soxiM9H9Ua6xbAE/IQZA1HCfQFCwPP/1j8gfg89L/wWe6n7DnrSuoP6s/q0uw57xjxq/Lk9M33Avsd/iEBgQPABYMI+gr+DDAOmA6KDrEOxw5EDlANJAwhC3QK0gm7CFoH0wV/BEUD4gEVAJ/9EfuZ+Dj2+/Pg8cTvsO1V7FTrtOpP6l7pXeiO5/3mV+Zh5c3kxuR65b/mUugS6s/r0e2/75XxSfPo9L32H/lm/FQAEAV0Ct4QuRdQHugkeSroLXkuHS0ZK+AnkSJUHKEW5hEXDgkLswiYBoYEaAIrANz95/oG9yvzRPBb7gDtSeye7PPtFvAk80f27fgt+0b9ev9MAcgCzQMOBY0GGgi2CdcKsQsBDPQLkwvgCqEJ5gcsBv0EKwR+AzQDGQM3A44D9QMVBJ0DtALGAc4Azf9m/rD8Jfsi+in54vfa9gn2VfUu9MvyqPFt8DLvB+7h7GLsU+xv7Aftq+3a7j3wZfHD8lv06vWb93P57vq5/AH/aQECBLwGhwlrDPQOYRG+E6UVsxaCFuwV1xQEE6IQ6g0BC3AI8AWoAzsC1wDs/xP/mv44/tr9pP08/Rj99/zy/B/9/P0Y/1AAwAFeAxQFpAaeBwMICwjxB48HfgZ4BZAE6AMlA2kCxwEgASAAgP7Y/Dv7Z/lK93L1GvTk8qrxDPF68Abw0u9V7yjvXu+e7yDwAPFN8qnzH/VG9zj58vry/Pn+uAC3AioF5wfmCk0OjRJxFy0cPx/CILshISI6IMIbfRYRES0LCAV5/zP70ffe9C/zkfIo8kbxJ/AJ767t7+v86Wboieeb57Lov+rw7aHxdPVr+VP9ogCIAggE4wQpBfQEsATdBMwEHQVPBhUIdAl0CoALPAxrDAgMHwsoCjUJUAjDB98HXgjrCKMJcAoUCxYLeAprCeEH7AWpA2cBeP+//X38sPtz+6D7u/u/++b7pPsc+276fPmX+Mb3fvdb97b3mfj6+bz7g/1H/+IAUAI5A9oDHgQEBMIDYgMPA8IChAJjAj0CGAIDAngB0AD+/5H+/PwZ+2X5/ffh9h/23fU49gv3JPhb+aj61vvr/JT9Ef5x/rr+ov6j/vj+Rf/g/40AOgEjAs0CYwPnAyEEXQQ3BPMDiwNdA2gDawNbA0wDbQPCAxcEQgQ4BE8EWQT4A7MDIwOMAiACvwFEAdYAqAA3AMj/aP/i/mv+Av6c/W79Lf3+/C79Q/2F/S7+sP4s/8T/IQCsABABWgGOAZ8BwAHrAeIB7gERAjoCVAJYAk8CJgIIAmEBugAHAEP/UP6L/XT8WPvE+kD6lvk5+SP5Gvlj+Yz59/mW+jH78/uE/P389v2//l7/DgD7AJ4BMgLGAhoDNQNYA3IDTQNMA1QDdANYA5YD7APzAxYEXgRFBDQEOgTVA5cDZQMPA8ACTQLxAa4BLwGzAHEASgD+/8D/g/9y/4H/jP+g/37/Lf8Y/xH/9/7t/rb+sf7U/vj++P75/gT/S/+M/6v/rf/I/8r/qf/j//j/LgBZAHkAnQDjAOAAzgDTAHQAVAD6/5b/Tf/g/m/+Df7b/Xr96Px0/Cn85fu++3b7W/tf+4j7z/su/Jz8If32/dP+wf9gAAUBrgEtAm4CqwL8Ag8DJANHA1MDOAMKA88CmwJxAgoCoAEMAWEAAACk/y7/1v6O/g3+/f0Z/gr+Af4w/ob+wP44/7j/5v8tAMMANQGgAfMBVwKbApgC4wIjAzYDRgNuA5MDpgOqA9kDyQOZA28DXgNYA/kCwgJmAisC5AFuAR4B0QBxACUA0v9w//z+mv4g/rD9Sv32/Mn8p/zQ/LL85/wl/Ub9iP2x/ez9VP6F/nz+hf6u/rz+mf6W/nL+Wf4p/iX+Kf5f/oD+a/55/rD+K/9K/1//g/+7/8L/7v/0/9L/2//I/+D/1/+8/8D/xv/K/8r/hP9X/1v/cf9N/0//aP9W/3P/kv+h/83/CQBYAGkAUgCMALQAvwDaAPwAAAEEAQ0BJgEiAR8BKQFSAVIBVQGtAcUB2QHoAeoBCwImAvYB7wHzAbABowFaATQB/ABnAEMA8/96/yr/tP5d/iT++/3z/fH93v32/SL+R/55/pX+0f4P/yP/Of9t/6P/pf+r/63/5/8/AFcAhwCEAMQA7QAMAT4BSAFyAXgBOwEWAQsBqwBNACUAFwDL/8v/if9S/0P/OP8n//n+4/6U/rf+0f7w/g7/FP8j/0L/Z/+t/7z/x//g/+z/EQDM/9j/0//K/8n/9v8eADEAdQDLACIBZAGsAewBJwIZAi0C9wELAvEBtQGUATIBFwHJAMMAxgCUADsA8f/p/5j/c/9T/yn/K/8s/yv/AP8i/2H/R/9C/2H/Xv91/2P/Pv9E/4X/pP+t/93/6/8vAFUAeACbALoArwC1AMsAtACgAGsAgwByAFwANAAGAOL/xv+J/yf/Ev/J/rH+gv6E/qz+lf6A/nn+t/7F/sf+2f4R/y3/Qf98/5//yv8AAAwAWwDCAP8AJAE4AXkBXgFBAUsBWQE7ARABGwEhARABBQECAQIBIQEbAeQA5QC2AF8ANwAhAPX/wv+i/4X/Zv9l/5D/cf+D/6D/tP/J/+T/7v/9//P/8f8yAEgAQABhAJUAigDIANUAzgDVAOMA7QDZAKgAoACEAGQAQgD+//b/yP+w/4j/hP9p/0T/IP8P/yH/1f6x/p3+i/6a/pX+gP5f/on+m/6a/qf+y/7p/vL+9/4J/yL/Qv+N/5b/pv+R/9D/7f/v/w4A//8TACkAPgAZACQANgAqAC4AOgBmAGUAgAB9AGgAXABkAHEAPgAzADgAQwA1AB8A+v/3/+D/5v/L/7P/0//D/9H/oP+9/9P/6v8yABwAQgBZAIMAgQB2AJUApACmAGsAgwBvAGcAeQB0AGgAcwCCAJYAlwCKAJsAfgB7AGAATgBVAEoAWABOACgAMwAWAAEA6v+0/7j/xv+o/4f/pP+q/4T/qv/Z/8f/uP/L//j/5//u/+3/7v/5//b/GwDs/wQALgAnADsAMgAwAC4AOwAtADQALwBDADQA9P8VABsAAAD0/9z/2f/K/6//1v+7/7P/zv+j/6z/zv/a/+H/8P/1//T/+v/i/+v/3f/A/9r/2//a/+L/8P/R/9X/+v8TACAAAwAJAPj/AgAJAO//DwD+//3/+P8GABMADQApAFEAUQAuADYAGgAnAC4ADwANACkAIQAeAB4AMgA0ADAACQD5/yYABwAEAAYABQDo/83/4P/2/+//AwALAP//GAAcACQAOABPAGYAZwCCAGgAcwBpAEwAMwD6//n/1P+2/7L/8f/U/8j/4f/E/+r/3f/j/+D/4P/n/9r/7//Z/+v/1//J//r/AgAFAOn/7f8JAPr/IwBAADsAMQAhACsAIgAkACgAFgDv/x4AHwAmABMAHgBNACgAOAArAAcABwABAAYA///a/8n/4//Y/7T/w/+t/87/wf+3/8D/1v+o/6P/vf+0/7r/pP++/8//9f/3/+7//f8XAAYAFAAXAB8AHwAqAEQANAAgABIANAAqABgALwA4AC4AIwAHABUAHQABAPn/8f/s/9n/8P/l/9//9P/a//b/5v/3/wwA/f/+/wQABwAEAPX/BQAOABQALQAyADgANABfAFUAZgBfAGsAWABfAF8ALgA4APT/9P/k/+j/6f/u/8//x/+7/8T/1/+b/7X/oP93/2n/df9s/5b/lf+C/53/oP+P/4T/kv+p/6T/nP/U/+3/6v/Z//n/AwDt/9H/4P8JAOH/2/8IAAsAFAD0//3/IgANAB0AGAAZAAgA+f/n//j/3v+y/9T/nv+9/8//p//B/6//sP+p/6z/r/+X/3b/gf+O/4v/ZP9//6b/gv+k/6//2f/d/+z/BwAgADMAOQBFAE0ATgBVAFQAYgBtAGUAfACOAJUAkACNAIIApwCgAIgAaQBvAGoAawBSAEkAQgAgADAAMAAdAAcA/P/5/yAAHQA3ACQAPwBBADEAVgBLAEQAHgAYACEAJQAqADgAOwBIAEYAUABZAEoAbQBPAE0AUABIAFgAWwBSAE4ATAAjADYAKgAtAEgALgA3ADUAGgAqABQA8v/7//z/7//y//f/7f8IABcACwDl/+b/+f/s//L/BQDs//b/AADO/8f/xf/s/8z/w//q/+r/7f8PAAYAIQAkAPr/BgABABgADwAVAAYACQD8/9f/x//e/7n/n/+e/57/uP+b/8P/6P/2/93/0f/k//H/6f/6/+//4P8GAPT/FgAkAAUAEAANABMAEgAoADgAJQAfAAMABQAUAP//9f/l/wEA5P/n/wAA4//t/63/u//h/9r/n/+i/7f/uP+1/5T/ov+O/5//hP98/13/ZP+M/4D/gP+F/5T/qP/T/7n/qf+n/8r/zf/u/9//zf/r/8r/4f/t/+X/yP/Z/8H/2P/H/7//4P+8/7z/zv/m/+3/+f/l//j/7v/C/+D/9f/q/+//8//k/7T/xv/W/9D/uP+z/9D/wf/P/7r/vv/O/8//4P/m//v/CAAUACQAEAAFABsAOgA7AEAAUQBNAF4ARwBXAF8AYABuAE8AYQBgAGsAdQB1AHUAgABmAHQAiABUAGUAUwBUAHEAXgBYAIcAkABsAHcAfQByAF8AVABNAE8AYACAAGQAUACBAJoAfgCHAIkAWwBkAEcAVABOAFIATgAuAEoAVwA9AEEATAA5ABUA7/8CAOD/1v/Z/9X/3f/b/87/xP/a//D/6P/s/9j/sP/E/93/4//i/9H/3//8/xYA3//m/wwAAgD4/+v/GQAUACYAFgAmAEMALwABAPf/IgA1ADgAPAD7/xwAKQAOABYAAQAXABcAKgAVACAA7f/l/+n/4P+0/47/n/+j/6//qf/D/87/zf/e/+7/4//k/8b/wv/J/8v/xf/U//L/6//M/9//5v/F//f/AwAPAA4A9/8PABIAIQAVAP7/7//v//j/8/8SABIA6v/O/8n/4f+7/67/r//E//X/8P/x/wsABADU//7/8f/x/87/3v/V/7D/wv+Y/57/of+Y/4X/kv+Q/6f/lP+O/5P/u//0/8r/2P8DAPT///8OAAMAIwAQAOD////p/9T/xv/B/8b/s/++/7z/tv+t/8D/yv/U/9P/1P/K/+H/9f/4/w4A8P/y/+//5/8IAAYA+v8QAAQA9v8JABQALAA4ADAADQAjAC0AIQAlABYACAD//xsAFgAYABMANAAyACQANwAhACcAFQAWAC8ALAAuAC4ARgBTAEIAQgAyAGEAUQBOAF8AQwBOAFEALAAsAEoAFgAVADAAJAASAFEASQBAAFwAQQBIAGQARwA3AFYAVABgAEgAMwA5AEMARwBHAEUARQAVAEQAUQA1ACoAKAA3ACwALQAfABoADAAUABEADwAJAA8ABwArACYAIQAcAEYARQApACMACAAeABEAKgAlABwAGQA0AD8AOwA7AEUAJQAtADsABQAbABAAAAAPAPv/3f/y/+7/6f/n/+v//P/l/97/zP++/9H/6f/B/9D/1f/O/8r/tP+o/5P/nv+o/7//nf+I/13/Yv9r/3z/Y/9G/07/TP9j/3X/nv+Q/4v/ev+B/7H/p/+H/3L/c/+S/5T/pP+g/7z/uv+t/6r/1v8HANP/2v/Y/9b/9v/Y/8b/9P/t//n/BADx//7/9//4/+X/y//1/+7/2//n/wAAEADW/9n/DAAUAAIAHgAfABYAKAAIACEAOQAjAAAACwA1AEsALgA2AD0AHQBlAE0AMAAzAC8ALwA/AEkARABYADAANABRAEAAOgBFAFAAVgBBAFgAWgBVAEIARABAACIALQA2ADAAEQALABUAOQAsAD0AUgBLAEsAUABfAEIAOwBdAHAANAAcAEEASQBGADgAPQAtABIALQApADIANgAMAAsAGAAJAPL/5f/H/8r/1f/I/9P/4f/m/woA///6/x0ABAACAAAAAgDv/+f/7v/W//D/+v/t/wsAKwAzADYAMgBEADYAMgAuACwAKgAmAPD/EgAwAP//+v/k/97/x//Z/8T/2v/S/9X/uv+v/63/qf+s/6D/kf+d/6v/iP+7/6j/ov+d/7v/sv/G/7n/uP/L/8r/z//I/8j/t//Z/+//CAD+//z/BAAcAA8ACAD2//H/+f/z/wQAKgAmAPb/9/8AAAsABAAIABAAEwACAAIAHwA4ABQABADw/+L/FgAAAOH/2f/i/9X/1P/A/7//7/8OAAoAAAAAABUA5/+b/5D/vf/y/wAACwDw/xgAQABgAGAATwBzALAAkgBJADcAIQAVADMABwDr//n/BAAIAOn/7//R/5n/lv/T/9n/7v+1/1f/Lf+H/wcAAgDO/5n/e/+V/9r/1v+r/3X/rf8TAPr/4f/f/8D/4P9IAHcAawCCAIoAUQBYAIYAbgCFAJYAcADr/+v/MwAOAOT/EACVAHYAWAChANsA0gCPAFcAFgASAEEAYgBlAC0ASQAmAOb/AQD0/9n/uP/p/xUAIQAmADIABgDQ/xsAAACs/8H/LQBYAIgA3gAxAZcBHgFDAGAALAFiAZoAWwDuAIQAkf+J/6P/Df+J/0AAsP+P/70A7gCVALUBnQJbA4kFWwfkDJgepyRK/ZbLEtb/B/sIq9uV1QsB+hi9CpYBJwmYCDf9T/iPAXkMugac82LvCwEvCJ71OeUJ6w74zv17AEACEgF+AUgHZA56DhcFOPr5+QkD/gZdAZD7hPqC+9H9MgCg/uv6J/sYALAFcQkCCo8GWwOxA6wF3QSv/yj65fkX/rP/Vv1z/Ef9nf2q/3cD/wOsARwCBAPAAbwBywI8ACD9fP8CAmL/6PxB/mD/AP/H/2oAuP+cAMkCqQOxAngBiAB4/1j/zP/e/8j+HP4+//v/i/6I/fX91f10/XL+QQAOAUsBCwIxA1IDuQK8AwUFSwPSB0gZmBp19dPTg+Cf+pzzIeOd7dED9Q/NFOYU5g6VCP8CCP5KAusIsP9k8p74YgWWAKf1qvVk+kr/SAhWD6kNswjKB0sLTg9pC+v+vfjd/6EFFwFT/Rz+BP29++b+RwE/AFz/uP/+AakGVQdYAa/9uv98//v6lfma+Vf2K/Uc+WD8lfvt+VD5DvpK/Vz/jv0l/ED+KP/A/d38Jvtl+ML3y/gy+In4+fvq/Sr9mv6lAJf/sv6q/zf/h/5vAAkBoP8cAjgGYgXlApMDMQWcB5EKngulE2Mokimt/JzMMc4o6iXvSunj+A0V+CeAL4AsLh85D2wBp/k0/7sIfQL/9LT38QKF/8zyMe608u374gnUFZwX2RGUDIcLpwtpBED0H+l87Ob0A/jY+ML5PvgA9k73CvlO+Ej3OfjB+3QA5wC3+Xbxuu0e6ybn8eXg59bqqO9j9hb6q/no+P/4Mvrt+2L8hvss/K39yvoz9dDyXPNu9KT1r/h6/QQEugtfEtEWHhjlFpsY/B7TIgYgHR7dIbclzCZ9JsAgOxRfCkkHWQVZAtcCDQY5CoEQORVxFBMR5Q63C80HiQYgBT8Ac/vQ+J70sO2Y6ULqhO0q8pr1ifX59Af4Vfqx9xf0e/IV8fXvAfCy7snrb+rB6vbro+6b8Pzv2/Du9Nj3ZPcN9hn0l/Cg7s3uV+7g7Qvxevde/Eb80vmu+BX4FfT67SXsOO9U87f2N/x4A5sH2AZXBUAGDwncDKgRfBhtH2oj6CJWIJsfPCG/ISwg5x06GiMUNw6sC84JcwUfAoMDMQhbDjwTyhRVE+gRkRC3DAcHVQL2/jL7XPd99HXykfCd7+nwZfR/9iv1ffWD+rn+fv4L/MH6U/rZ+KD1NvIR8SXxEPEl8UbyxPIe8kbz6/W59rL1BPUE9cj0AfSj8YzuTO4l8WH1Nfi393z17vUz+ET2xe816jDpIuvX7mT0hfrf/8wD6AZ+DNUSkhPbD1YQ6BcqHq8dFBstHMEgNSSMJEkl2CYsIisW0gzMCk4IBQLF/z0GuQ78EWIRURHdEeAP8gtHCbkHfgMW/an5Xvgf9Gvt2+nB60bvJfAW8Zf1jfoy+wj5qfgm+HH03vBz8YPzbPPO8ZPxmfNA9Sv06fIs9av4vfnA+dD69/l89gLzQfGP8Dfws/Kw+ckCNwY0AFz3tfGA7Xzph+g96jTsSvH/+oYD6QVGA9j/fv66/tL+BgCiBAIM4hMaHLkjeya2IjUdnxwrIlInOidHJnImwyCRE/4IAQYYAhf82/23B6gRRxchGXUWAhECDZEJXgVJAZ3+wPzi+sX33/Ld7GTnJuSI5FLp2e658QX01ff3+rP6B/Yi8fPvvPDh7w7vYfEs8yny0fF98r3w5e6s8Nz0sPcp+W/6ZfuT/Lj8bPob+Gn51PtW/KX6hveo84TwE+596l3m1eMF5jPuEfkIATAGXAvQDuYMmgX2/Tb7PP0yAQgHIBD/GLYdtCG5J7YqmyaYIjEmUi0DLmkkYhXGCE8DJgJHAqMEWwntDqQUzRqtHQYYWQ2cB6UI7Qf3Aor+g/vT9zb0UPD86a7kteQP6VLuiPPX9iH32/Yl9kHz8O927tDtaO7q8bn1BPao9Mnzm/Lh8GvvmO7971H0pvdy97v2uPYX9c30rvim/UkAdABJ/l/5afIX62vlLuId4eXhuuYS8Sf94wTZBh0GigSOAh4BCwDS/bT7X/5hBxcQQBMdFjgd9iMIJvwm8SvqMZwyVC58KHofFxFaAz3//QMsCYYLjw4oE90WjhghF3oSxwy9CTEKRQxYC3oD+Pma9BvxAOrf4e/gp+Yp7Sjzbvjg+hb6o/gM+O32nPMM7/TtPfIq9jv0vu8l7bHsKu6W8Vj1aPev+TT9FP+I/Ar2AO+R7KXw0fbo+0n/ZP7b+Nn0IvWy8tTqZuUP6H7uQvFm8Knxd/c7/y4GUwo7CU4Dhv3U/JX/ZQDY/iYAQQenENkY5SAZKM4qFivGLV0yUDUoMzEpfBlLC68DAgEqAf0DgwgfD/AWwBsiG0oXqBKcDYYLWg1EDOMF/f7F+Q/1+e7w5Qzeld5h5ontmfH+9FD3svgq+qL50fVz8SzvP++c8M7w4e276erniOgp64TvxPOe9hz5gfvU+0X6k/cn9AryqPNN+K780fy59//x++7T7EDpmOYR5/Lp+O+t95z7fvm/9lX5jf+oA/AAP/oR+AL8gAGSBfYG9QXMBx8QkhkcHu4f7CNuKW4sMS6WM1c4ZjFRHl0NnQcdBjUDAQRjCj8QVBNDFnoYjBYTEm8QxxKcFKoQ9AisAnD9D/eR73/ncuEl4v/pnfIn9633efUB9O30ZfWv86zxFvGR8jn2//gx9wXy1u1o7Azt0O4R8YHzUfau+BT6JvpO95Hz8/OT+fL/hgOnA00Akfk48kHsxeYr4gLgTORs7jf3oPmt+FP5Lfvv/XoBRQO4AT//Nv6J/Uv7M/it+SQCUApsDtIU8h7mJEYnwCz3MckzSDU5Mm8kXBW6DvQL9AaqAjQCgAPwBgQNQBP+FUUVlhSjF4gbCxlNELMGo/1d9A3u9umY5NbfWOAm5uvsuvDG8VP04fi7+tv44PfE+F34kPb/9c70b++C6FPl/OYw6jztaPKP+Qb+nf30+9f7lPqN92H3kP2ZBbAG2P4p9ArsDedc5I3jfOSe5ynuO/Yf+z77b/mW+An53fly+8P9af8a/17+Bf4o+0n5//21B/MQRxkIIY8lpCkKMa42RDTWL98tFCbNFlUN0gxDC78IDgomCysLEBCKFt4XQxftFxAXHBZ5FmISKAjt/lX4L/GZ7E/rdehY5PnkDOn560/uOPGk9En4rvoe+Qb1/fK98nfyT/Mk83Pwxe6J70PvDu7+7k3xY/SW+JH7uvtQ+n/4Jvjt+8IBzAM9ANL5QvNe7j3rr+c55O7kkupN8PHyJfOY8rH0hPpG/jP8Evn995v2KPYe+cX5d/Rp82f/9g8mGeocnSG+J5Mroiz6LRgvQC1/J3cgWRgaD9YH8QV6CR8OLhFOE8QWsxt7HlYdtxmhFXISYxDvDXkI2f+B9lHuyek56cLoteeb6fzuY/RU+OX5/fhJ98n27PaC9o719vNU8srwBPAk76LtFu0B7qTw+/MQ9o/2cfbm9if4Svi397/5UP4LAnUBAvz58v/p6uU3593p4Or462HvDfO08iruN+yn8Oj3O/w4/M/7Nvx9+8H5N/qG+zv7/vw5BJ0OXRerHSEidCIKID0i/iu6N8Y8YzXZJGEUwAxpDWgNoQn9CPEPdBfHGDAWdBOEENUOlxBIFIgVIBHYCNUBXv3n9intoeUk5GTox+8M9Uvzeu2L7JPxM/aQ98r2w/X/9eX4Fvrr9d3vCuy765/sgPDK80PyQPL09fz2qvMJ8zH1kPdO/scGiAgBAwr7+PFF6h3o3ugg6L7o/ex98Cbxsu/Q69Tonuus8gn7qAOhCP0Ecvxb+Hr5H/og+8EBogvWEfsT9hVMGhUhKydjKqwwjD4iRFYxcRibE98YdxLnCKUK2Q4nDlkPZxJbD7sIjAYjC6kUHBz5Fz4MwAXkAor8Ufae81LvF+nQ6GLsmeoA5CLhYOal7vnzfPVQ9rj3pfeE9iX3Ovht9SbxefH49KD0ie7X6fTqpe7z8dr0c/ay9vr4mf5aBJ4F2wCj9xHwae5b74zuHew667/rOOvW50PkPeYq7bzzyvge/5oFKwbP/5L4SPaE+7MFzg0yEBQRARMBFpwbriAXHzYd1ykOQW9ITTUkHvIVWhW1ECMMmQ2tEacUeBVFESUISwBH/5wE1w0dF8YYShCBBh4Ci/5590bxOPGo8kXx6O4I7MfnnuMO4xvn3u729if7wfmW9hP2Afck9pL01/Vq+ar6Hfjy81zvIOux6KfqP/DM9VT4nvmz/BUCtQS1/qXzK+/49Gz7XPp2843tseqv6qHrwOjS4krjAO1i9p75dvy/Au0EsACpAMIIzg7GDtMRBhs2IO4dgh41JpgtMjHkMlovgiT9G+IdMx/EFjUOBQ76DjkMrQxqECUOqQdLBwsMaA1tC3QK/gYRARX+av2t+U31UPZo+Gv0LO1Y6CDnxOiZ6wLt8uxR78zy9vF+7svvKvUM+CP3L/Y599X3B/YW8urute9/8rXyY/Hr8ZfzM/OW8sL1K/ok+wb3PvEj77Py9PcK+O/xmexx7K/u1uxR56rl9ut49pj9fP42/Eb6tfmM/BYE0xBlHcIhcB1NGUweMikOMug0UjFaKi4o/iySK1EajgiNCkgYQB2aFscOrAkRBpAHGQzBCt0F9AZcCyQKbgO7/Dn2IvE49G/8Gv4L+MXxWe2e6LDmD+q67B/sJu0b8OvvEe1b62Tqlepp75r37fo692fzlfKf8q3yEvPq89b1CfnX+sf4i/ay+KD8avx+9gDw0e+l9vH89vm+78/o7elg7j7w1e7s7TDxgfdB/If9Lf5Y/87/8gI1DFoWThojG7MeqyIMJS8sfDdwODArdSHpJoIuJCryHYEUIRE0E28XuxR7CCQATwbDD6EOiQbAAe8BVANRA0sAW/vO+KP5Bfjx8tvvpvAt8MPsu+l35zTnMOpp7Krp2+ac6T3ur+757Nvs+O0f793w7PFc8AfvlPD58jLzXPLt8cryyvTZ91z7D//kASwAvvf47jvw8fiS/d74rfC57DzvG/NQ8Xvraesf9eb/2gE9/n3+BQWtDAAP2g2PEGgbrybuKRooRymmLVMtzSbZIp8nIiwNKO8fkRvHGZMX0RUbEhIMNgj0CdkLLwj4Avv/mf2f+tL6xPzQ+hf3afbP9uvzE/CC7vftVe1H7V3s8Ol46SzrIOti6LfnBeva7q/x2vLn8fXvS++t8G7xvPEj80v0PfSC8x30i/OU8qH17/xPA9oDSP+C+Bv16vh7ACwDdP6i9wb0i/Rc9134j/Vw8q304/ttA70G3wWUBDgFSAgkDacTtRkcHi4iriaYJhcf4xYUGBYifSoCK2UkkhsJFdkT6RdUGagVohG1EekR+A20Bqn9cflH/NH/Wf0K+Tr2b/RA8ZftOesO7EHv8PE79Pfxxuqi5Fzl/umy7nXxD/Fz7lrsB+04717xdPIw8zf19/db947zUvHc8n/1TfcX+MX3WvnE/AX/i/x194H0UfY9+wABtAN4/zD55vQ99Yn4a/tN/Jr7aPqS+ir9vf+e/13+4wBYBroJpwpEC9gLoAx8D2MT0BZeFxoV2BMlFS8XFRlJGkEZxhe1F9IXgBe6FrwUBxTnE/8SzA4gC3oIegb8A4ECMwEJAM38Hft4+NX0QfQe83/ywvDt8yrqzugn9Lzzt+ch5aPx0vOG8aTzpPRE8/Xy4fZl+yX6qft7/sf+5fvp/Af/Tf1M/okAswCv/z3/HP4R/tj+lv08/LX8bP2g/TT8lvl7+OP3Hvdy+Kv6+/m9+FT58PiK+IX47/oB/Jz81Pwv/d79sv04/7IA1AE5AkUD3AQVCDUJEgkBCkYLRgx/DikRRhG4ELkQyxBXEUUUZBTuEPwNNg9QESQQDQ1XC10MJgzVCccHLQZ1AwsCAgE3//f8s/tT+QL3kvaD9cnzEfM28zvyuvKB89nzl/JT8nby1/M+9Z/1T/ZQ9qv2avZQ9of2lfjt+Uz7uvtO/NP8wf03/j39Nv5v/3oAewAFAfkBNgGM/7X++P4LAIkAPwAEAGz/AP8o/sX+Kf8+/sv+zf+OAK//R//6/Q7+4/+fAf0BSQHfAXYCMASOBQsGJwbJBj4I0wkFCg8K+gqFDLwMtQzzDBcNYg2YDbANVQ0oDLEKPgqqCVgJRgidBqEEvwOYAh0AAv9G/v/8YftP+nD5VfgH+ID3HPfF9kj2ofVz9V31kPUm9c3zJ/O78xz0avPx83j0nfTu9B/2ivb29vX30/gx+cr5mfpC+yv8C/2q/dj92v2V/QP+o/4sAPwAQgG2ALEADQIiA9kDGgRGCywTHwyW+8H3aAGqBRMHygnPAlb2jvjNBNYLiQzNCxoIRQXDCOwL4gziDUoS7RMLEncNQQvoC6UPGhZCFsoQuQkdB1wGiAhLC7sJdQQDAMP90fsC+8L55Pa38zTzUfGQ7lbsr+tI6y3sg+7b7Cvp8ef26vDsvu4f73vsJukP6U/rgOtp7OvtRO+w75vxPfKj7zruYfNj+Yb6zvg29+P1v/Wo+tb+uP4M/BL8rfx+/8kDRQjPCUEKHQ0dETMWwRgQHYIjRCidJk0loyczKm0q8CtvLKcoxCR2IwEjHSHDHuca0xeHFBIRCQ3ICswHtAIC/w38Mvj69IT07PLY7S3qVupt6rTpwOmt57rj+eNQ6X/rF+rA6ejpaelW62vvN/Bk7+7vn/FC8b7wzfAS8QbxJvGM79DsmuxI8Sr3fvg79FbtG+xw8sj7bf5u+SLyC/Bf9eD8JAFC/uj4Lvn7AUsLyw5YEcAVDRw1I30phCipJHcqZTfxOk4ynCpXJ4kn2CxmMbgnjxnAFq4ahBimFBQSOwr+AZEB4gIa/Z33t/aX8/Xt/utZ63roLudj6DHmneNh5FzmfOaJ5p3mfOZy6Irq8Op860ft2e3m7Pvsze3U7uTvhu4Z6yrqhuwd7HvphujN6GTqJfCO8gnsCead6TDv7PJV9771Hewj6Yb0WP3c+yL6JPz9/YUEPREkGCEZhSG7LT0wxyqLLH81zD48Qt09FTNxKkEtsDVZNxIt4iHFG5EZQBgRGR0WUAsAAIf9Cf6P+Rf2HvV976TmyORY5bDiVeP05tnjTN1f3tvjquYX6snscupY52bql+8989P2I/ba74Dt/vIk+HX4tvcx9Azv2+6c8urzEvLX8ALtSen67L31C/ep7gvoLeqM8S34LPj98HvryO9n+N/7+ftj/YEBcghqEEEYySFILeUvSSr9Kvc0bT6tQnhBMzXAKy4x6TgNNF8t1yheH+EYXByjG/IQxAowCC8BAvq9+Wr2S+/76uvnP+FG3JrdZN963jrcWdmF197Zpd+L5MLk/+Li4tnmlemN7EvxgPKe7RTrhvA39KD1xve794Hx8u4L9OL2nPRr813yiuyr68H1YPzi8pnnf+hP8N/1g/qo95jsIOlW90oFWgTG//QAAAejEFUlkDeWNewibh2VL9VF8k4pSMQ2NyZDKrQ8mEReOMUnFB02Gn8eCiLSGx0P0wZXAXn89fl6+lz2k+3D55Djwd0F2uzeC+Ma37vXjtQP1pzbDuTJ54/i5tyc4BXqS/A28Q/wWu3w7JHwQPWR9pb20/Z19VLzUPSc9pr1V/I58hfyrO488Wj6Svpg683lCfG9+WP4mvbP9N7tsPAO/0AG1gDG/4YI8xDoHtgwHTQdI0McAC7jQq1HlUCYNKwoNClTNFk6BTM8KUMf6BbVFN4ZARwWFQwJgfy79lD4kvzQ+730p+mM3/TcoeE15pDkWt9U2o/Xq9nV31DkweSH5IXjYuOc51rune9v7bztju757e/v2PQK9d7x8PCX8fTwHPKo9CPyXOzC6ZLsdPPd+ov4xOoT5ATvUv30/8r6lfKF7Av0XQV5C28EPASADeIWWCVBNoI0nyHSH/823UdRRSs9FjQLKNUqXTwOPmUqFx5IIDAcGxXWF+AXPAoD/0UBBf+W9Cjz2/j68iHlluHQ4c3eSOBG5kbi8Nf82KXgO+Jf4gHp/eoY5SvnwPCR8dfsEPIP+ILype7d9Mn3FPNf9N73nvIR7mbzLvU47SfqJuxj6vvsAfjc9dLjhN+x7yb69/bJ85nvzele8bQDPwkHA30FzhAaHcstlDnCL2ciky5qRjtL1EHAOvYxGyyDNl9CoDbFIXwdvyAXHGYWmhUNDgMCUP4AACj5Z++g72jx4ukb4Fbetd6z3bzeouBR3PHWo9nn4IXjxuSh6P/nbuR26LDy9fSh8nPyU/LQ74LyM/gF9/byVPOE9N3w7fCS9P7yTewQ6Sjo3euT95P7iel22Tzm7/z3/4f0nO0P6xzyjwPnDdAE3wDeEFQipCq8MAgyoSmMLhhDSEsoPnY2/DfpMyQzPjznOCkiVBmmI3EjqxRrDy8PSAVK/jsC0/3F7hHu3fek8cHgDN4A5Dvj2uHm4xjezNTt2WLnxOjj4pLkeegY5pbo4vMJ+EDx5OyJ76fxU/Vi+ov4OfBc7rbzafRB8V7x8vHJ7dLptOqK74D2zPd27HrhUufn9w/9YvQ46wLro/Pn/gIF8ABnANILGSDHLeUshSNbIaUxM0MYRoI6EDGXLR0x+ThMOMMqAhwJHVcith8MFasMewq9Ck0JzQEW+OPxm/TQ+Dr0y+Uv20Dez+bt6JLjN9uQ1QfZwOMR66no+uPE4X3kcOzm9H70dO4c7envm/LL9Kr2d/TT8uf0Dvbo8pDwsvC18Obvse5x7ZXwBfe987jo/uYB9FT8OPgL8GjrNu4Y+ugFCwNp/UgEMhdnKBwwVCuFIaUnIT2wSkBCGDQbLgIxSjnrPAQ00yPtHeUiZCWiHpkUSg9iDd0LtQWB/f33Affv9sTyy+mI3z7dJuE35GPhCtxy15jWg9vX4ark/OHa3/Pg7+Wq6qTtbu4x727xG/L48O/wBPWf+HL5tPbB8kHwkPHG8zXy2+0w7V70+/qD9S3n8eIm7lH7/PsN8kbnb+hj+G8HIgYA/aQAkRH8JToy+y8iJBkkvTSiQ4JFLD8qNWQsljHOO385FyytJZ0lhyPSH2sbCRR1DT0PgQ1BAsb1WfOM9n33MvF+5K/aMdl5337iAt/31+PUTNb12O7cbOFL5JHjmuSt5lvnJenA8Ov3xfU28PHvD/R896b6vvsZ+Nvy4PCh8JvuPu4c9M77JfqU7ADhCeWc8zb8yvZQ6aDg4Odi+fMBFvw/+V4DgRLKIDIqfCj7IeAo9ji5PyA+mj2sOM0wlzVsP5s65yyVKfErgSgMI2UeLxfsET8UCBMUB2b5VfXb+Av6bvMd5wXcAdiH3CbhBd4b1vHR5NIB1cXYgt0p38PeFOIa5mTl2+WF7G3yIPKE8AzwY++h8QH4w/sy+N/yEfE28fLw6vIN+UH+Qvv88DvqDe3k9Sj9ffwb9FLujvNs/PL9pfw9A6wNhxScGTsfLSE6IY8nLDDeMZEwszLGMQAtHi0SMXIuRCdEJvEo2SaBIMMa2RW6E1YUGBKfCo4CMv7F/Hz70/ZP7wvqF+k051Pj++DR4L7g4t9z3u3cUd6l4mXmp+aW5Z/lZehr7Lnulu8b8NTxUfMC9c726Pel+M/5LfoT+Kb14vTX9277fPrm9GfwJO9x7lvut+677rTtSe2Q7azsz+vO7o/1bvrI+z3/IQbLCcgKvw9ZFnIYWRoUIUcn+CixK/AwATKKL+0wFjapOAE4sjY6NW4x1isiKc8oIyaaIMobeRaODroHywPt/Vv2z/HB7r7pN+PH3hLc3th61YjT6NKj0o3SN9JD0bXPIdCD0svUdda22MbaDNuW3JHg3eNT5OXk0ecw7KbwWfMk9ELzPvJ285L3VPyc/u/+gP+nAKoBNwSOB4gJUwz4EaYZhx6dH6ghlCUbKE8r9TLUOB05UjkkO8w4bTSoNRc5lzjYNo42+TFiKucmtyRKH7IZchaVEXMKtQSE/7D3dO5x53fj4+Ch3rTbNdfY0d7NAMxhy3bLnMw4z+rQLtAQz7jP0tAy03rXaNtT3vHgfOPJ5EvmwOj767vvZvTn+P36O/u5+iz6lPlC+zf/SgK3AtIBsgH1AQsCbAONBowJ+Qw3EhgZfBzMGjMbSB/NIi0nCC/7MvAw6zClMrQwwi0kL44xrTIJNI8yqyz9JpEjkB+uG74YdhS0D9QMawhc/onzWu3g6a3nleZI4+PcdNea0+7PCc65zWDNPs7Z0H3RFtDGz5HQX9Fl1BjaxN043+rg+uLT5EvmWejZ6/rwP/ZI+d/5X/ml+An45/lu/kQB5gEvAxoEhwKRASADnQVwCIEM7xGhF94blhwUHYcf0yHNJccu9DaIN0423zYoNZYxHjOoNw84szfjN4s0pS0uKfglASHEHMYYLxX8EcQNqQUc+0nx5em55QTk1uH13AbXotBYy7vIBsjyxpLGAMiTyYLKYcqdydTJ6ctOzxLUA9nO23Hdp9+o4V/jZufR7Vzyv/Xs+Dv6T/lm+UT8Ev/gAE8CbgR9BbYFnAUDBisHVQqwD1YUURhDHGkf5h8+IlUm0yjxLFA0NDglN+Y3eThhNeQytTVlOMg3QjfeNaMxhiz3KDMlPSGnHPEWlRNfEUgLwgHF+Rjyiuno5EHkHuEL2jnVAdIzzaHIK8cFxxjGg8YByITIsMdSyGvKz8uwzLjP79MB11TaJN7/4ETjjedp7OHvtPKM9T74nPq7/UwB2wNSBLYEpAbVCJsKdwz0D+MSlRTjFxoepSNYJeImiSgmKpEt9TPdONs5EDrEOEo2azV8N0o2hzP8NFs2SjLcLLgq0CWaHuUaWRlEFGsOZwssBj79ffOh64XkRt532vvYT9aWz6/I98Q3woO9hbvivTC/iL4awPTCf8KiwfbD6McPyybPnNSk2UjeReN56MHr0O7I8vL2Ifvx/xAF1weBCM0JRwxhDXoO5RBtEwMWthjdG2oejCC0I8YmrCdTKKgqbC4tMmg0MTYoN2o1kTIWMzY1YTSFMgo0WzXwMCwsaCt9Kdgihh3oG1cYzhIPD18L8wKR+M3w3urJ5LLf1dyY2RHUUc1RyJXEXsDOvXy+c7/UvqW/PMKIw4bDgsQ8xr3IhM0N1NrZcN5G413nrukU7IHvCfM8+JX+6gJrBFUFzAbfB4QJLQszDF0OehNvGKIaGh1/ITokvyPHJrgrdy0yMRE5rDzyORM5njkVN2Y1uDhQOnQ45DiBOJUzAS4ZKuUk+R8kHTEa7hRvD9MKBgSt+szv/+aF4ZXdD9rP1x7UDMxExRDC9b4au2K7fb6wvgO+tb/+wJK/YsDSw4fGhMmMzr/UT9vV4JDjYOXP58vqCe9D9nf9yQBnAsIFtgh2CCcJOA2jEfAT5RfJHksjnSVVKowv/S+PL8cyvzfTPIZBrET9RFJCVT40Pe0+TT4RO8k6nzsGNy4x0C/BLG8jwRvXGH0U8Q2fCrAIXQAy9JbrF+Z33wHaYNgZ1tbP1ciexW3DUL9XvGS8a7zguiC75L3Gv3K/079ywYjCWcTeycTRlteP2pDdQ+FG4+blAuyf8l72uvlC/4YDQgX1B7AMog8hEQ4WOh3bIkko1y+nNEAzizELNOg39jsiQqVG5kW7Q31C7D87PLk5UjjqNxA52jgoNIsu5CoBJIUZwBPiEpYOcQmzCBAF3fe56hvm7+GI2rvXvdn+1bLNmMmDx0vB5rqtuky8KLsdut289L9Iv9O897zpvj/AiMSlzUvXGNuU2/nd9uE65FToRPHN+KX8PwDoBTsJqwoBDiETqBZeGpMhWCk8MVc3DTiVNVE39TlaO/5COk2dTe1HhUmSSahAkTupQM9A8zrZPFg/szd+Lo0s2ybvG/QUrxIyD/sKSAiRAUP1wufq39bb+dbS0TPQr85TyPbBpL2nuQq2jbUoteez/7P0tey4H7scuyC4Drk8vyPGJs001fnYjdk03dHgZuPC6RLzS/m6/dYBwgM5BfIJ6Q48EXEVZhzoIzIsjzPlNU41RzQtNGs5o0KHSJ1Ksk15TblH9kLKQes++jwtQGpBwDzcOOU3HTLVJ28e+hepEj0PjQ6FDKAD3vWj67bkp90f1w3UmdKLz6nKtcWnwVy93blbuDu55rgjuNe7l8BUv7G8O7+UwjbFXMyD1r3aVdro3a7iCeOD5W7tDvQ194P8sgL/A8gCiQfsDUwPWxNTHaInfy8ENWY0cDJENJY4SD2SRI5MIUw6SMBIF0mXQp0+mj9+Pv06ejlXOss2lC8xJ9ofsBaCDiYMYQ0pCPX6VPIr7Szkjdg61AzVgdM/ztjKOMp7xzfEHcH4v27AncH8wfzDb8dRx3/CKr9iw+zKj9Vo4uLkwtTmwdS+x8pZ2Z/fNt1Z3lfr0fY89TH0NQHmEuYe/ifgN6ZOi1yBUy9Dl0J8TE1QplA+VY9WhlaQV89NNTfJLlw7wkMHPWs1BTcCN2ctFBubDLMFTAA2+d/30PgP7rDdntHAx068dLyWxjrNAs0rzezMW8hWxdnFssrLz/HS69M316DW7cwhxPnDWMnz1bztzvuF8EDf7N2X4qbja+mq81b5Z/1aA1YDe/uA+GMB3BEAJGw2SEhrUUZKmDYzKnsrGjOjOLU98EAqP8M2PyVEFiUWKiZPMjs1SDNoMg4v8CT7FasG4gIfB9ILxwae/kH0D+ZW1BHK1tBk3bHkrOS55pnjxdx810nY9do64HLnXObQ3qDWL9IEyv/CAcKmzEXiRvhJ+xbnY9HxzFTXYuKR6n7w0PUT9232XPIc7lruJf7mGvs4HFAHVKQ8ZR2EG8MpkCsOJWkuGjk9N/EtXCKpEY8IxRl2Mg9ARz4vOhkuJyKcFuUJQgNhBQcLAwprCej9UOpG2BLVmd1N6L3v/e/l7c7qLuqN5c3epdqu3dTkxunP40DWesw9xrPCxsUU17/u/Ptm7obYodYI4Dzdjtbh4vj1oPsj9QnxvPF892sAJQumHpVAgFavR/QscyRFIuMScw8ZIdExLTBnKnkkCBd1DfUSjCS1MNA4nDoGNQwnwRebCAL9wvutADoGHQjKBln5+OfA24HaRN465ifxgPaU9f/uK+hz37zdduG15XLpKuqJ43XXzc+ZyTnIIdZA8jUACPLt31fgC+Fy1FXTb+bY+F76//pI/pr+H/mL/DISbixnRNtOS0dwL2gfPRcADjILdRbqJxIsdyT1GMMQTQrNDbscQCthMO0vZinDHfoPQwEz9mjyqfYL/EEBR/z077LjrN3V3fvgiufz7wn6q/x29ZnpoeKJ5PHn/+j96m/rfOaO35LaBdNB0lbl2v8rBm70SOmq6k7lR9yO5f/1Bvfy9gX/MQOU/tn+TwprH2Y+LVNwSBMrFCDIH0EO/f5XDCkgMSFCHswdOhbIC80MMBYcHz4mJisaJ+schBM3BXPztutf8GD08/nB/2H7we0A5XzjMOAI3kflLfKf9jHxHuoO5S/i9OGt4nPlZ+ga6Snm0+Ed2tjUDOLh+9cH+/kk73Xxm+4R48/jB/Tu/bMCjghMDRAHzAJPEUIuI0jkR4E1XyuNMTYm7QWg+BQHHxguHp8iSR/WEswJgAy+EmcUIRc2GnAbKRocEXX9WuxN5yzquPAd9vf1h/RZ8/vs/eTt3kjbVtxm5vvzhfeS7kTk9uSp517lUuEL4Vflw+ds5fze1+DM73QBMQED9VbyG/Ir6BDlj/T6AB4BWwL1DQAXjhQvDu0ZbzcYSq5BdTKCMkEqWRORB84MQQnJBlsZOCeUHSINLgxqEwAYJhmPGIgWExNcDwwHavkS65bgWONr7u/xyO6Q8DD2d/Ty7HnjY9+84cfmGu307+HtU+oN6i3nquDi27bdm+Lv40biH+ZX9UsELAGf7zDpOu9r8Ojs4PLO//IH8AkFCyIPyRS9Gi4mADq+R4s+/ivOJ+EjKxJCBNUHlg2eE4wgiycVIBwU5BEFFLwTPBJWE1cVYxXzDqr/PO/p5N3gP+Wo7VTwRvAJ8d7wsu617ADm0tz32uLhIuuc7abqzegu6ebn5+BA2e/Xdd0o4C/dnuPq9lcHqAJV82Ts7+yb7cXuCvfS/wsHuQ6FFcUXFRemHrAwHURFRtw39CuqJxQdqw6aCqcLPQvHEdMf6SIYGvUSFBSBFNATCxSHEtQRrBAxBwP0gefn5OTlAuqq75Xvz+uo7HvwY+8M65Hm7uIV447nrusW7F7tJ+1/6jvn7+IS34PgqORh4Yzd+enF/XYDZPo+9Q70NvBA7Z/vw/fvACcJhg/nFoIb3CC0Lt0/MD9aLMcc8RsFGpkRfw7JD0kQDhEqGCsZqhTCECAVtRqzGE8ShQyvC/UI2gGG9GDp2+Qv5mTqzex87GbrvewJ8IjyYPFo7oDrW+cE5qXpiOsv6y3u0O9I7C7oleWS4+zideP65KPtS//ADtYKefqi8CHvIe9i8q34af4yCTYWfx3rH2gmBS8aMnIsUCT+H40aaRIkDagMagniBY0LcBjrHXcZWhZCF4MVCRINENkMfQclA5v9HPKW6LbmDusr7kHuU+tt6aXqcew+7oDuQ/Cm8G/uZOui7Wrwruz16CPsvfFg8kjwSe096ijl3t/C4ob0xAuhFggPGwOr+yj0nu7f87YC1BBKHFIkjC5VN081jCQlF9cWxRcoEtgLkg0nD8QOhAtMClwLSRJxF3UWzhO5EvkPvgixA8P+cfc+7VroEeYt5+PoQekZ6JPoHOvx6irpyOjl61Ltfu7W8Czx/O6G7R7ub+447sbucu/h8GzxbfHW7ubqSekF7838/wxcFkUSTwkaBbcDOAAw/6II5huQMS1ATUBQM0Ajoxp/E6sIjwFNCLETUxm6GgkZVhPuCcYFegqiEQoSkQ4zDVMNVQh8+b3nSN/e32risuO85sXoDulr6nrrveg+44PkSOsL8ZvvXe267e/uae0q6gjpM+nF6sLu4POC88Tve+++8wX1Q/IG9GIA6A3zEV8OFwzcDLAMxAvlDeQWTyehOAs/XTP4IAoWEhBACXoCfQP0C0MYjB3UGuwTCw5MCtsH3wv1DxoP2gn5BkoD8Prh7Tnhs90F4hTnnedr5njouuse7T7so+qU6j7uWfMx9EnxFu8+7+ruou2+7V3wWvMV86XycPas+aT3L/NV9ST8MP+//Ib8HwPGCgANvw58FZkatxptG4UhCSktLKkl0xs0FxUWyA6kA5QBfggaDrsP5hH+ESYQoBDIELgMgwjVBkEDPgBoAEr8ePKh6l7oTucR5hzlOeSG5UjqTO3e6yfrG+6l8SbzJvTb9Dz2sPfQ88zrZuin6s7s4O3h8Bn0sfTw8jPx/PBL9bn+/QjfD0ESFBMzE78ROg+8DWUOYRPPHTcmLSOZGU0UBxS3DnwHtwayC4gSqxYlFroRBA+5DFQKgAniCucJRwbMBJcD0v0o9iHxle2w6wPsK+x360ntnO7+7T7sDOyw7H/uUfH58HnvfvAG8nzwb/BR9av6T/2p/4ADeQftCd8I/wRTA48EqwQmAvsBfgTlBDID3QFBAAgAHQSBCusOlRDVEJoPnAvUBQwDcwESABT/ov97AecCoQKsAUsBJwFsAPD96P3J/1IBWQCj/wcBrgJUAlsBpQGTAfj/FP2a/A/9MP3W/NP8QP1m/fn9Hv82AG8BvAFG/+/4EPM98PbvpPAI8XDx8/GC8nrwlO7y7e3utPA39Mv4+P1TA2cGYgTb/+YB7QmVEVYaYyYPLbUoICGLHAIWqwu0BB8FygcyCtMJiwjRCaQNLw6GC+MLaw5SD9sMGAmoARj5tPLR7RbpkOZy5mbm7Oba6NDpw+gT6RfrieyZ7m7xcfLG8kH1CPh5+JT60P4+AkgEzgbWCGIJnwl/CsIK1QoVDUMQPBOVFggZEhk9GHsWOxP/DvULFgjVA4YB6/8O/U/5Sffq9ZH0Y/Si9KjzIPNn87XytPF38fLwdu8t7ozuJfCg8bvxWfH68bTzXfXL9Sv3IfrZ/Jv/ygJiBMgEfQXUBgMIqAjJCYYKwgr5Cm8LNgsyCj8KtAq3CvAKxAvqC0EKWAg4BwEGGgSCAgYD1gN6A34CXQIEAu7/2v3G/I/8Yvts+6T8EP38+237YPyU/EL8NPwj/dz9y/0u/Zb8P/xC/Dr84/zb/cH+I//T/rD+Wf4S/jD+hf5f/yUAaADEADABBAEvAC0A6v8W/5b+sP7//rH/OwBAAUYCbAIYAqcBuAHLAWgCBwMmBAAFrQT3A18DPwI/AkQDLgRhBTwGpAanBewDOgL9ACQALQCMABsBXwEJAcb/8/0a/Ur8/fty+xb7H/vi+kf6hPkJ+a34BvkI+lz77ftE/Dr8PPyT/Jj8zPwh/Tf+8/8tASgBqAC/APMBqwLGAmYDiAT7BHYEcgTpBN4EUwQgBHwEvARIBKMDcgIkAmQCywEGAcgACwGgAN//zf/9/zYA0//i/gL+df1q/fP8ifx2/EP9Nf6j/qz+4P4s/7v+uf55/ysAjwCwAOMAJwGZAMT/9/5V/+j/BgA5AL7/qf9aAKUAaP9k/pv+HP+a/hT+AP6Z/dX8N/wS/Ar8y/wL/eL8BP0G/gn/1/6+/lH/1v+0/03/5//uADEBWQHMASICeAIDA/4CTQP2A00EggQCBFwDJgNLAwIDzQFgAcUBdgLmAs4CwgIzAvsA+f+y/yf/vP7R/lv/8v7k/X39G/2K/FX8jvxM/Gb8Yf17/pH+/f08/fv8Hv1O/Zn9Tv7Z/qr+fv6h/mP/yv/+/5gALAGgAdEBwQHWAT0CSgK8AVgBigEiAlMCVgIOAgICGgI4AmgCawJ+Av8BIQF9AI0AfQDU/2T/bf9H/xv/9v5i/5v/jv9M/9T+w/77/ib/r/7T/gf/GP8q/xz/1P7Y/v/+K/+i/2kADQE+AboBxQEgAVQASQCyACkBdwGOAYkBUgELAfMACwGTARcCNAIPAsYBgQHxAC0Arf/J/xIAnQAeAVcBlgEkAWMAvf+o/xMACAAmAGcAUwBe/2/+tP08/c/9Sf54/v3+tP/8/wcAJAANANb/nv+i/43/v/8oACUAyf+z//P/eP+y/kH+Rf64/k//dP87/yz/Cf+w/hb+5f2G/YD9CP4W/m7+pv5k/q390f12/iX/Y//Y/10A/v9g/zH/lf+0/3UA/gAgATkBPAEIAQUBJQETAeMAQgG/AdQBWQH8AKoASAAeABEAOQCSABcBqQBzAF8AAQBQ/y//b/+W/3b/rP/5/9L/df+Q//T/xv/w/xIA/v+2//v/JwAgAC0ANADm/5z/yv8xAJIApgAUAXQBZQEbAd8A6AAcAQIB2wAeAeQAYAAQACwAOgAjAFoAtADnALoAGgB0/2b/3P81AAQATwCGAL0AVgCJ/0b/8v7t/vD+Lf+n/+f/JwArANn/sv+Y/0X/H/9k/53/tP/X/+z/tP+P/9b/HwAcACgAXgBsAEMAFACJAOIAMACu/3f/Vf8L/zn/1/8MADUATQBTAFgAYwBhAGUAeQDOAAMBPAEbAfcAMAE5ATQBCwEWAVUBjgGzAaQBXgEYAQ0B4gB+AC8A4v/A/6D/Jv8e/zn/Ev8t/2L/mv+W/5r/KP9c/gn+JP5A/nv+z/4W/wz/5v7C/k3+Xv5e/pP+8f4M/wz//f4X/zf/Kf/G/qL+7P5i/4r/0/9LAGsAWQBJABwADwAjAPX/q/+m/xIARwBaAIUAlAB3AGkAeABiAG4AtwDfAMAAxADWAI8AOAAXAO3/AgDD/8T/GgAPAD0AJAAWAEcAdABEANT/wf/k/7X/nv+w//7/SAA/AA8AHQBsADcALQAyAIMA2wD3AO8AxQCwAH0AXQAJAOn/y/8zALYAsADaABQBTgEHAc8AtADlAOUA0wAmAUYBXAEkAQ8B4QCVAKcAzQDZANIABAEjAeQAugB0AFUABQDK/7v/fv9N/2f/Yf8e/xH/FP8l/+r+jv5//rv+kP6Z/pT+yv70/vL+//7X/hj/FP/Z/sv+FP8S/8v+5/4h/2D/gv9t/2z/lf+q/4T/kv/w/zwASAAxAFMAnwCpAF4AOAA/AFkASAA7AK0AwAB7AFkAbQBuAFwAYQB9AEoALAAnAA4AJQAzADwA3//R/8X/lf8p/z3/tf8AAM//1P/j/0b/KP8i/1n/af9x/7P/AQAfABwArP+q/9//AAACANf/PwBWAEEAKgAIAPr/RQBMAGQAbQAmACcAEQDr/ywAvwCjACkAJwA9ABwAGQAiADIAbQDOAN8AhQBcAEkAPQD2/xEARAA+AB0ABADN/2T/gv+a//j/QgA1AOf/+//0/8H/nv+q/zMAkQBVANT/yf/a/7z/Xv8v/9r/QAADAPL/HwBIACkACgAbAJQAsQBfAP7/VAC4AFAABQBVAKkAawBAAFgAeABgACMAPwC+AB0B3gCHAI4A5ACdACwAcgDWAPcAfwAjAB4AlQCEAPD/rv/7/xYAp/9a/1v/1P/t/9n/sv/P//H/pP///un+b/9Z/xr/P/+Z/5b/Ov/E/v7+pv/n/6b/vP+CANUAEgBl/7H/6/8uAA4AAgBmAOcAzgApAOr/OwCdAAYA4v8YADsAHQDZ/5L/cP+k/9j/sf+F/+r/NgCy/zD/v/+Y/yL/Hf+r/ykADADo/5n/mP+o/3f/IP9S/zQAywB0AEQAiwBHAML/hv+p/6v/CwDtAOsAHwDI//X/7f91/2D/zv9UAF8ANQAlAOj/sv+Z/2D/Yv/3/2cAjgBRAFgAJwDL/7P/BwAlAAgAKgCEANMAjwAkAOD/UgCQAGMAJQCrAF0BIwG7AF0AtQCcABAA2P8NAIMAOwCt/5b/zf+u/4T/jP+9//L/XgAUANf/2/+P/wP/y/5W/3b/KP8t/27/N//7/r7+5/4Y/1f/w//U/8L/8f/S/zH/9/6E//H/BABrAAwBXQFHAfMAlABOAJEA2QDiAPgAPAGSAS8BrABlACQA5v9zAOIA8ADmABkB9wAKAKj/5v8ZAIP/bP+y/+D/uf9A/9L+Yf62/kP/ef/v/uL+eP+P//L+pf6n/tz+af/B/5n/FP87/4f/pv8z/xn/mP99ANMAdQA7AI0ACwERAY4AQwD1AHoBPgH0AG0BrwExAXMApwDPAMwA6wD3ACQBbAFSAbkAYQCxACABzABbACwAEQBt/2z/QP/E/mz+kf5Z/xQACQBs/0v/n/+h/4D+uv0f/uf+0f6d/lT+Mf4o/lf+Qf5J/rX+w/7N/hv/Wv+7/mX+Bv/7/0oAnADxAEIBaQFzAc0AyQAtAhkDZgJbAhoElgSSA9ICeAM5BIEE9QNeA5EDYQRhBHIDOAPLA/QDYQP2ArcCaAKmAagAnf8k/+P+bP7U/aj9N/31/Ej9S/2y/Lz7HPuf+lD68/l/+UT5rfnC+Sn5RPgc+CL40ve192v4ffll+mT7b/yw/GP8+PzB/Rz+iv1t/fz+PwHCAbkAYwCIAtgEOwWNBNoE+QawCBMJTAjJBzYI0wlRC68LtQtODNkMRA2JDY8NfAy0DSkWDBoiCIbtY+t0/3sFO/ax8fEF6xpIFkcAjvVy/koGgPyI7artmPh3+wj0Be527rXwWvE78FLxP/V49wj24/OU8h/x5+938b70rvTj8bTw8PPG92D3b/SV9aP6I/1q+9r6L/5vAc0BfQBCAZcDtwVaCKMM4Q8OED8PJhEmFgUb6R7GIpkmKCfDIXsXEQ90DMgKJQQq/hYCTgy5EXcP0Q0XETcT4w0IBjUDAQSwAeP7i/dI9vb0HvIO8bvyPvRY8iHuJuzO7r3xQPCq7b7v//OF9P3w/eyk6zXsgutC6IXmiuit6dznUOde6CPozOi67U3yovKf9Cn7TABh/1P7UPow/j8BiP4F+y7+ZARvCw4YpyGYFysFtgk1IhEv9ypaKWQwcTRiKXkT0AGx/q8FBwqZCowO5hQvGXMaThf9EM8LDAmnBVMDLQO+AJ76A/QP8Nnu0O7E7sPvE/MG9vH04vOU9mP4MfZP9AP2tPj5+Ln2GfVX9jP4OPa28qDzVPgC+wf68fei9jL3NfeG9J/x/PFL87DyavGN8ILvfu+O8uf1E/fw9xH7GP4W/sz60/cX9+71RPP58bf2V/8FBxANRRTUG5IhlSRjJlMpECwMKiMgFBUcEKsNLgjGAxUGiQypEMkSxBXWGCMaMRn5FpIT8w16BpwAaf5r/Bj3uvFs8Ffyr/Mi81vxTPFX8/bzW/J58QLyOfBA7Yrt4fA18vvvDe8i8m7z8u1x5yTn9+oE7Nnp9OiK6hntqu767dDss+8d+N4BWwbcAiz7X/a99S/yPuvJ6JrvcfjM+/z7LADPCDwPgxBQEeIYJCMZKIMobi5MPPVDmjijI5AYgheUDxr/RfczAhoUjRvmGVccVCWwKOAgRBY4ETwOyQeG//f5dvbk8tTuZuw07fruv+4u7t7v4fHq8Tjx6vJg9UX2I/Tz75zraumt6FbosOgn6hntt/AZ83vydvC278vwY/Cz7mfw5/Ut+tj5/Pb+9HbzrfEy8RbzlPQj86/xSPQ+9371M/GW8F32uvwr/YP5C/qKAfMIQgqaCeUOmhzrKuwvMCzeLIU2pTiqJ4YS4gv4DgANMQVlA30N2xsyIK8ZKBaNG10f6hpxE2QN7AekAhD+Uvfc7wvtN+448A7y9/Gv79fupvC98T7xP/EH8z30rvOw8Ens6um96lrsa+0Z7krue+978dTxAu8W7RrvofK29Jb0cfRl9ub3lPTA7TTrIfAh+ET8JPk289HxxfUr92Xyw+4i88r6+/xT+vL5mf+xBrgJHgozDOgQNxZHHAokxSvAMCA17zlWOCkqzRehDoANawpzBB4EQA5mHP4iAB/uGAIauR1WGxUTCQsGB1IF/wCu+P/xJPFc8oTx3vCM8mH0cvSN9PH0N/ST8nTxN/E18NTs3une6pLtpu5C7qTtxu3Z7+Lyp/MV8SDwwfMW94/1HPFU773yv/Yp9ZPvnexA73L13foG+3H1lPB/8QXzwu4n6c/p0+8X9PrymvFv9ij/ugRaBisHDwlmC8YN/xBVFW0bUyKuKTUzbTvsOE0qORwhF1ESUAgsAasFpRLkGx0ddx0xI6QoxCVtHe8XGBRcDLICmfv69/X1pvNo8LDvM/Ni9v72e/bV9e31UvWh8w7xpe437hHt+uq+6rfr/erZ6ZzqHu6q8evyjfNf9RH40Pfm8/Xveu9y8KvwY/C48D7yCPV5+dX+7QA6/Jj0Xe8a7V/rg+oI6wXs/+yS71PztfVJ90v6ZwA9BncHhwavCFALzAn7CesSqB4iIt8heSvWOn07JimgFuwSKxQpC3X+m/6bDh0fJyNvH4AhGCkpKuEg1xXbD/sLKwWc/Gj2b/Ow8e3uNe7G8aT24feZ9rn3D/oH+MDw1eo760vus+yq6KHpF+7i7hnrbOnA7JrxivM88y304/ZD+WP5hfcF9NPwZPCT8THxwu8e8T72zfxi/536yfKr7uHvi++o6oHmlehb7uDvZuow5nnr9fVf/Gr9h//yBC0Kvwo/CP8IkQ9jFwQdgCD2JGAuTTpqPekxkSPRHjwdohOfCE0HIBB6GYIdHh+II9IptirlJUggbRrOEXYIDAHb+eXxmut56Qrrxu508pj0x/Y5+of8bvox82zsu+wn8Ynv3efQ5QLssfBN7bbo2eoh8uj2kvbD9lL6kPyC+kz4c/h19/nznfHk8ZXx/O+z7/byG/ga+W30pO6h7Vfvv++w7sjtX+0n7RPsNeqW6i/v8fW++t781v2o/ycD9wZfCIgJKQ/QGXQiVCUvJlAr3TPFN58x4CYNIewfDxxxFFcQoBEHFvoY6hnsGpQduyDNIAwcyBXFD4YJSgMh/W/3qvLw7pzrJuvc7S7wu+8S71jvfO0/6XfnJer57Y/vNO9n72bxC/LJ75ztCu5p7+vvZvHU8wD1tfT+9Fr2d/Z99Azzu/Ma9Qz0h/Hx8Dfzf/V99aDz6fE+8obzRfM08d3u4eyC6zPrNOyA7gHyD/Ya+TX7xf2GAYcFxgj+C5QP/BPFGGIdFSEhI9slESufMIwyqy5IKfkm5iRmH/EZHxm3G0wbqxdFFvoWURWrEeoQxRLqEm8O2QlwCBsGrv+r+KH0SfIr70ns5+oZ6kbp1ee65RfkLOXp5z/qHuuj7Ojva/Fq8MDvx/EN9Av0zPN19WD3EfcI9sP2NPiQ+Ab43fct+Qz6hvms+VP7Zv1R/rj8rfl898n2JfaL9b71F/bz9F7yKPBg7xvw7vDi8bn0v/gj+p35O/r0+9b86f0iACcDTwZQCjQO8Q8+EWwTTRYVGp0d7x0uHeQd5B6rHsIeix5jHewbZBuQGycbsBqNGsMYtBVpE28Rcg/dDAQKNgcGBioEtwFPAH3/zP3q+rT46vbW8xrx0fDw8aTyEfIA8sfy9/OJ88XxmPEh893zafNa82rzofK18Zjx5/G58ajw3u+H8G3xwfAR7wPvb/Cl8JjuXOvF6a7qNO2R7l/uvO4S70vuBO5+7mXvpPCH8bjygvRr9kn3rvfN+Jf6DfuH+yD+7AG5BXAJOAxyDd0NBw9JEwkZZhyhG3saKRy7Hgof2R83IyEmLiexJ0ooxShTKBAm9SNwIssgWh4UG5UYoxe6FL0POAtKB4kEtAFI/mX7o/cY8lnuuu3B7SjsAukU5qzkkuM24tPhYeLV453kP+Qv5ULnCugq6BXpfOr067btee+V8Y/znvRD9Qn2dfjY+8n8Zvu5+VH59vlr+kX7lPzd/Bz7dPlS+XX5nPii93v3Ffnn+hb8d/xJ/Bj77vgA+ID6L/8SArEDLgYGCf4JvAonDvsTyBWCFKwVchlAHA4e/CGdJkAnCCXEJboo1ClZKNonLSheJ9Yj1yCxH4odZRnYFAwRzQ0gC9MIagXT/+z5ivVX8RXskOje51/nOeQC4AnedN3e24XaztrR2zbcitwa3uzgDOJm4RrhvuKT5Y7nt+kD7VvwHPL+8i702/bs+d36Gvns+LH7Gv5J/nD+gP/2/mP8IPqo+VX5VPl6+Wr5dvm++RH64/m2+ND3PvgG+VH6n/1KAsMETgPKAXMFjQwpESkRHxG9FBAZeRqwGwMh1iZyJ0UlpCYvKx8tmiuWKjgrpSoGJ6IjeiIAIkogMxy+Fs8RuQ7zC4sHmwLH/sb6ePUi8KbsIeqG5iHiN9++3vbeCd4w3IPbatxy3dHdud644CPjSeW95j3oM+p37EDvAPI09Pb1L/cR+Cb6gv2w/0b+9fsD/J39ZP4A/ib+Yv4G/Xv6BfmG+Af4Gfca9zf44fjY98T1FPSy83Xz4/Lf9Kn5bf6gAJQBuwLuBHkJ7g6vEPUPIROdGMIaGxvBHnUksCY5JoYohyzVLtYu3i3LLeMs6ymLJlwkKiKaH2ocEhjpEjQOmQs5CPoCm/3C+GP04fAt7jTry+bS4YneJ94236XeCNyV2n7bf9xG3c7eI+G743vm8uj46lrtPPDg8hb16fZU+Nb4kfmq+1L+mACfAT0Au/2s/Yr/TwBe/8L9ffzV+kP4Ivam9Nryt/DQ73jwPvEb8RPwle+O78Xuye6C8SD24/pp/yMC+gOxBl4Lbg8WD+UODBNoGC8cZSAzJi0rqisrKoQroS4aMNQvDS8GLzsu+SqsJkUjuh8gHCcZHBVsEPwLMwiJA3r9LvcZ8pftZum75tHkg+Gq3OPYGtjF2JrYe9j02cTbx9xH3knhWuRG5qvnaOqA7fvvp/JE9RL4EPpx+5D86f1g/2AB5AMbBg4HlAXlAlgBdQHaAeoAa/4T/Gn68PeI9BfyBfKj8v7x//Ac8UjxFfAP72jv8/B/8133gfru/Jb/ogLwBqwMoxFVElMRcRQKG4UfNSLtJo8sHi86LwcwsjEJMmUx9DAEMXAwuC2CKSglMCJ0HyUbNBWaD+gLyAhZBID+F/j88W/sUOgK5pvk8+Hw3MnYMNid2X3ZKNjR2NraA9zi3KjfGOOn5Tvn5ujq60Tv3vEd9Mz2PvkD+4f7s/uQ/M/+pgHaAzAEeQJNAO/+gv7l/ez8k/u8+o/5iPdK9eLzQvJ78NnvL/Cj8LbvsO5y7/DwlvA78H/ysvcr/WYA4QKuB+AOHBK1EHgQ/hQtGvobSh81Jo0s4y0gLfQtMDDOMAMwuy8EMBYw6yzpJ/8j6SDnHKQXJRLEDgIMCgeJAXb8gPfA8QDrmeVB42viYOCs3MLY59eR2CfYktfY2I3bdd263gvhGOXR6NfqIez47kvyOPXu9yb7Sv7j/1IA9gBDAhcEAQbjB8YJkglBBiICkQADAfsAVf+m/Sf86/no9sLztPG38Kvvnu4F7nDtJu0e7YLtne3k7ZrvEPOv95/7gP+uBBYL1g+dD2QNKg+9FJsZzB2DI1wqsi5QL9svCjI0M74y0zH5MZgyrjEKL6cqryWvIOMbFhdlElAP/gwCCP4APfqn9O7uGuk05avj7+Hn3XTZXNcP2DzYU9aP1TbYHdvD3JDeNeKe5v3oMOq17KLwTPRk9hv4GPtB/qz/AwAFAVcCjAN9BM4FLgeyBosD3/8F/l79Jfyq+mj5qPfX9MjxLO/M7CTrsOpy6w/sSeyD7FPsPOt96hbs7O9p9Bb5dP5JA44GWArCDkwQfg9KETkX7R1QI1IoGC3nL7cwUTEKMgYzjjObMo4xfDDKLggsvCfgIlAeAxreFW8RQQ1xCQkF8f5n+AXyXuyT6Obl2+Oe4UTfBNyk2YHZtNlw2ebZi9vn3UjgZOME56rpvuvv7bPw6/OU95j6BP1u/wMBnAG0AmYDVAOhA8AEagaxBn0FnQJ3/ln7TvqT+U74Bvcw9l/0mfAC7RDrL+q26HHnFehC6l3r7OqQ6hzr9uxh7+LxD/bd+8wAAASwCJwQGRXzElkRmxb+HkMkfCeLLNsxRDMQMqAxPjOYNM0zXDKVMekw0y5EKvUjiR4ZG54X4hETDLgI0AUNACb4lvGc7c/pk+Uj4/Pi0eGu3dHZuNkP2zraC9k52p/dKuHQ42XmGOnC6+jtWe8u8iT2D/my+iT8Q/4CABAAt/8KAGkBWAMxBNUDMgNeAZj9Kvq3+Pz4nfjt9jz1u/Na8SzuzOvv6mvqt+nD6b3qi+yZ7V/tsuy07a3wSvR++I/9cAO+B6cLOhHcFB8UoxMfFwwdUSJkJiEspDEEM9IxPjGbMb4xfjAiL9gurC1zKj8maCFrHDMYIhPKDdQJ/wa8A3T+x/df8nXts+cZ42Th6uE44bvdk9ro2mjbedkx2MzaX98C4lrjeuav6nrtm+5f8I3z//YP+QP73P2zAOIBagAQACEBEwKEAUsBYQNPBX4Dc/6U+pf5A/nf9jP1APUZ9HbwQ+xG61TsB+vb5/fniOug7bvsB+zQ7Q3w9/Gv9J752f9uBCYHCgunEgoZDRjFFDwYUCCMJNAlgSr2MfE0RTLqMEszAzX2MhEwoC/8L7stpSiKI/0fURxQFzAREAwOCSQGbQGP+8b1zfAm7IjnXOVH5XzkX+FG3tXdht6v3Uncbd1b4CzjtuXO6ATsSO4V8A/ysPTB91/61/wG/7AApQF1AaQAawAnAXgBlQBjAG0B9wBX/RT4yfUI9WHz2/E08YvwE+606sfntOUW5LLiIOLd4ivk9eQg5YTn8+vT7zHy6vT6+Rv/QgRnC3sTuRimGIcXoxoIISUmJinFLJ4yCTdKN+81BDURNEEx3C0RLDcrYijLI2EeNhcXD9UHLwLu/Xz6DPhg9LXuMel25VTiJ9813hffDuCO4CTiweQs5rTl/+Wo6D7s5+4m8gf3Rftg/c/+JgDfADkBAgKpAo0C8wFCANn95vve+vT4H/aB9BL2pPlS+2z4DfNf71jtCupJ5sPkBOW25E/jYOKY4pLjOOQ45SXowezH8LvzRvm7AIoHrg7RFogg6SlPMyk/KUo0S7A/hDIsLaQo1xxVEPoMOBHyEW0OtgzvDvISdhSkE8sUxBa2E1MN7ghsBav9ePLc6QjnBOe95HnfWNvY3NPgj+LF5GTrZvRK+9n/NQSmCAALXgkdBcgBK/8T/Ef6K/xf//n/aP+g/7UADwOoBdYGeQeKCIYInQUYAWT88PYB8Abpw+Pv4ZzjO+Xv4qvdSdpA2t3cMt/h3jLfqeL45u3nHeZT58XszvD08ej0s/tKA6IIjw3WFN8cXSMnKq00/EMcUkhUr0ZNNYorgiTvFwkLigflDG4SxhSFF18bUB8ZH+MaMBhPF9oSDgs0BVkANPee6o3gstxM3R/eyN2p3Rfhs+YW64XvpfVP+2n/BQPXBdoGTgWAAg8BIv/X+cL0CPap/EYCtgO7A9UF0whyCssJ/gcYB6kGZwSj/1X5wvIJ7F3l3t/k2wDaH9zv4mvoWOeo4mrgweHc4jjh0t4X32ji5eXv5ePka+Zx6mrvZPSu+Kf85gKrC3EUXB6+KrY2AD+AR1hUSllaSBAsOxytGJ8PLP8V+FwC8BGeGa8a6h4vJogmvh8hHDccuxUSCb4Br/6j9dHm9ds62nPd+d4I367hM+fq7GXzIPyNApMDtQMlBwYJAQbmAQwAi//M/un7PPel9b/5RP9lAIIAxwSxChcNHA1kDN8JegU+AMz6BvY48K7mu90+23nb4tf113bi3+6F8G7pEONS4i7kOeII3Svahdws4f/ldule6rfqEu5D9D374gINCuIO+xXsIp4xDDvbPRNDn1IfXxtRxS/iGZ0VNA8OAgz71f7sCDUU6BvXHhohvSBmG/oZqxzSFWUFD/6yAP35ZueO2M3UzNc73BLfD+Fn5mTvXviQ//wCCgK+ApUIcgzlCDEDogBA/7b+tv4o+770RfO3+O/+9gG2AlwDbwf0DHAMFQUE/l/5H/Rw7rznTd+62IXXOdhJ2FraReDL5znthOy65kTj1uMx4kDe0txo3kLiOOhq7M/uR/Ps9iH3D/uZBckNnREjGoEp6TYtPwJH/1TXYm5czDwcIDwWfwwg+wf1hP8sC0oTcxllHKMcYhzPGOoV+BgJGQ0QFgrkCXkAYe043onW39Ms197cy+Gv6LfwwPXN+uYAjQITAoEGwAtGC1cJ4gjbBtcEyANwADb9Pv6o/+X/VANDCH4JuQm6DBMOOwtRB/UCBv1j953x0enI4/ngP9w51knV/9jA3e7kJOwr6wLj597m4Lvfbtro2Kfeoef17PXrI+v57zn06fPU9sUBEg82GscifihLLtU2okDdTKha1Vf5O9AjpCDcGK//2fD491MChwksEpkVvRN7FiMa9xfZFQQUEgz2BxELoQLd6wbdd9qn1xnV+tdZ3ELirex59R/6X/6PACQAAwW/DF4MTQigCioNLQmUA8b/J/1Z/msBHwFRAOMDQAgyCvEL2guxB4EDnAEC/o/3ofDz6r3mXeI323fU79IS1czXut3z5c3pbudJ5jLozefq4+ffMd/n4jno7OkT6p/s6e/r8a/35AAyCbUSyyDtLEkzSjnrP6xIh1hbYPxJaSkZIDogOg7O+TX51/8xA4YKnBFMEE4P+BN6FmgY+hlTE4QL1Q0hC+n3veXo377cj9pl3RLfWd9g5nbwKvUF+JL7ff4iBQcOrw4xCygO8hB/CwMGcAMV/uL5xf0jAykCKP/PABYGtAmuCKIEhgJyAiIA8/mZ83PvaOtc5NXbvdbs1LTRx9Ag11vf9+JC5SXpvekj50zmz+av5GTiVOQz6MXpROsy7mfx4/Tq+Er90ASnEmofMid/Mek9TEPrSCFXvFaSOWYhtCI/HloHf/t2AbIDDwQZCyYMOgajCFsQ4xIAFpUZ5RS/D3IRjwpZ95rpQuZT4z/hkuN65TLnBezL8Sf2xPmC/JYBKAq7D/IODA/TEB4OwgivBFMAm/xn/sQBggG1/wr/j/8iAXkBIf8D/tb/QgCA/d74BfM77a3nNOHF2jTWntK00fTVmdtJ32vjgedX54nm3+jv6ZrpEuvR6y3ryOyu7e3qTevG8Ib0DfkBBKgPiRdGIN8prjAQOCxERlLAWJpM+jO8JhglnxiwBXYDzAkVB5YGYw07C8UCLwWQDEUOCxDfEaQQExOEE0QFKvQU8Hbuwefj5tTqHOny6HvvxfH77oPwxfbq/e0FvQlOCOUKJhD+DGgFjwMiAzEAMQLfB9YGugFzAXUDNAJY/1/9x/w3/i3/yPx2+SP2tO886OjkF+KD22rX7Nm83NfdX+Kg5ujkZ+Px5szpdOlV6TjoJeeA6tjtzOte61/v/PDE8eX3jv9RBVYPCRpvHxQlvC2WNsNEQ1HER+syay8QNJsmGRRTEQwSlQ1/DvAONgYFASwG/AgzCBQLQwyICygPpA6fAkn4DPf89bjyZfOh9IPy7fEo84TzPPQM9CT0ZPpNAygEPAF7BacKrAciArEBCAOYAw4FGQbgBO4CxwFmAI/+NPzP+oD8Nf/+/XP6LPir9LHtGueb4y/hwt/w3tXd/Nxb3nzhuuMi5GTj6+Jw5SLq4OuZ6KflOOid7P7tSO3I7gfyPPVs+DH8iADkBAkLihQFHmwijCbXM2pAbjr8Klwn4CytKZAfZRs2HGQcBBveFbYNegrnDEIMWQkoClsLeQewBEQFcACR92X09/Yq97v02/Ov9B71b/X39Rj3/fcZ+Vb7O/6E/1//9ABlAukBlgC5AIsB9AKDBHQEzwPUA+IDpAORA5UDpwMhBD0ELwPPAYv/afuM9yP1bvJE7/Htqu0r7NLqS+uP7Ijsgeyl7Fbs0ex07svunu287afuHe9q73nvH+8V8I/ymfS+9WH3oPlC/IQAdgQ6BlYIXAyeD5ARwhX/GUQZBhcXGdQa5RiuGDYbDxx1GzIc4htiGT4YNxhjFV0SZBGiD0QMmglVB5wD+v9x/fL7JvuM+rr5Hfoq+sD3qfXv9UL2nPVl9mr3vPZa9oT39Pca+K/5YPvR+4f8nf50AGUBQALWAv4ChQOsA5oDjAN/AjMAnv5A/m79uvvL+tn6f/rI+WX5CfmU+Lj4dPgE+Db3cfYo9Rn0+PMr9GTzO/JN8hzyzfGF8Yrxp/EO8uryQPS39S/3i/cg+MP5Bfpx+Xz6Wvw1/Qv+SP9fABgBMANGBn8ITQqlDNoOqxAOE0MVxRWFFWIWiRfLF9kXfheIFi8WTBbBFdwUvRRdFOgS4hEMETMPPA3zC+8J1wYkBEEBPv7b+7T52ffa9s/1HvRf883z0fOq8370yfQz9HH0N/Wq9eT19/VD9sf2VveT9/z31fjM+Yn6svvk/Jz9hP6I/xEAJgC6ANoAdAD4/+X/Dv/B/ez86vvM+rH54PhH+CH4zPdB9zz3rPeR9232z/Q29Dn02fOZ877zc/Oz8oXyw/IJ81zzqfSQ9ln4vflF+0H9JP9OAC0BawM6BtcH7giFCsMLAw2LDj0QchGhEnAUshX5FqgY1RnqGRgaMRpGGWwYQxePFT0UfhJfEIgO0QyeCk8IAQeHBScDGwG1/4v+hP0N/H/6U/ly+PL2F/US9BnzOPLl8Tny2fKR8yv0m/Rw9dj2U/gA+S76o/uD/LD8ifxU/QL+LP7r/Xr9IP2O/HH8sfzI/F78FPy5/EX91vzb+w/7lvoV+gj53fc49+j20/Wc9BL0o/NI83DzNvTK9Cj1dfXL9UP2vfbz9q/3FPkS+nT6I/v6+3r8SP02/gT/CgCtAV4D4QSvBsEILgoHCyUMMQ0ZDiIP5g9JEN4QXhG5EdcRxxEGEgsSORJsEkwS9hHyEaQRgBB6D8wOrg2pCy0KwggJB0AF7wO5AiwB9/8X/xv+Pv23/MP74fpp+mL6BfqD+Vv5H/nS+Cn4iPc89yD37Pa59in30vcJ+Dz48PiZ+ez5MPqy+j77s/ty+yv7Kfvg+iX6IPnj+Pb4o/hg+JH4svim+Hv4Zvhi+DL4Rvj7+JL5k/ly+Yb5+viS+ML4IvmE+en5tPpX++z73Pxl/X79Kv6z/gT/dv/AAKYB5wHGArwDDgQYBKwETQVYBjYH0AeqCIQJVwrGCjoLxQv7C/wLMQxyDJEMqAywDJgMbwxvDDYMBQyfC+MKZQrKCfgIMQjBB1wHiQbXBQ0F+AMdA0cCIgEDAEf/w/6i/dX8svwX/MH7Uvuf+uT5yPnm+Yz5Xflr+X35Wfn0+Oz4ofgz+D/4cPgI+VL5W/lL+Vb5Nvn2+DH5x/nV+QP6Hvom+hX65/n7+eH5/fnx+fj5XPoH+0L7iPvQ+/r7tfuz++/7WPz1/Az9Of1e/br9LP49/mT+JP91/3H/p/8VAKcAdAEdAmEChQLUApYDJARtBHsEAQXjBZEG2gYFB5cH+AdLCGoIbQiHCKAI5wgiCSEJEQnOCL8IsggVCHEHDwcDB8UGagYUBrUFcQUfBZsE7AMiAyICkAGRAW0B+QCYAOj/Yf/p/lz+Ev5O/c78wPy//E/8zvs/+6X6jfpz+kT6K/oV+gX6Vvok+m/5wfhF+Fb4Qfhi+MX4B/mI+TH5Y/j99y34jvg0+Q36y/qB++L7lvy5/Hz8i/xJ/Wn+Fv9h/7X/6/8xAFEAQwB8AL4ASAG0AdIB7wEuAjACTgKIAsMCxgK9Au8CfgOyA1sDFAMMA6MD+APDAzwDmwNYBIoEDQRuA4ADBwT0BEsF1wRpBL8EjwXtBWkFzgTCBIYFggZIBlMFiQSkBA0F0wRNBHAD5AJYA7wD8QINAnwBbwHWAZsBkgDc/wcAWAAuAGb/h/7u/dP9rf3//D38/fvv+9z7Wfud+rv5W/mw+bz5XPnU+Mf45/ha+Vf5+fjY+CP50/kW+h76a/oM+437DvyC/MT86Pxi/db9Rv6x/r3+Fv+p//3/PwCDANkAQAFxAXMBYwFhAacB+gH1AfEB2AEJAlACVQL9AcUBvAGLAVgBcwGSAdgBPwItAkECKAI9AmgCzwIQA0kDVwNiA8gD5APAA3ADfwNTA24DigNyA4kDZwNVAxQDvgK3AqQCjgKhAqMCdQJJAjMC9QFcATMBSgFMAVgB8QCuAG8AAABk/6X+Nv4G/if+BP6d/Zf9Uf3a/Hr8TPwW/AT8BPzf+6j7ivub+1v7dPuM+0n7RfvA+xT8Cfwr/Hj8kPzh/CT9Pf2A/dv9FP4o/j7+If5O/o3+xf4C/zb/bv+6/+L/8v/3/0oAGAD9/0wAiwDNALUAzQDKANgA5gDSAOUAPAFFARwBPwGgAYsBdgGEAbQBrQGkAbsBjAGPAZUBowGVAbgBtgGnAZ8BqwGTAZ0BvQG1AcIB3QHxAckBsAHVARQC4gGOAVQBTwFKAVwBRgEVATQBMwEcAfYA9QCzAHMAYQByAGcAMwBOADgAEAAFAAEA9f+6/6n/vP+i/5P/t/+e/13/df9p/13/Kf8T//z+o/64/tb+5/4Q/yL/Hv8W/wL/DP/d/vj+x/66/tf+1v4V//j+Iv8e/zr/CP8W/1n/bv+M/3H/qf+8/87/zf/J/9f/GgBEADUASQBqAHYAegBfAH4AmACCAJkAjQC+AJ4AfQBpAFQAfwCIAHwAcgB5AG8AjwB+AFwABQD7/zkANwAyAEMAVgB4AI0AVgA2ACcATwBSAGAARwBRAEcAHAAXACoAMwAFACIALQAxAD0AXgCNAJ8AfwByAFIAUAAzABoABwADAAYAAgDz//H/AADE/+X/8f/P/7//1f+7/63/pP9u/2H/af+S/6//jv9S/zb/Vf9x/5P/tv/W/w0A3/+x/4j/mv/N/9v/0f/k/7v/t//L/6r/xf+q/6b/pf/R/6X/j//N/+r/3f+x/3r/c/+V//T/CwCv/5v/l/90/0//SP9Y/5T/tv/5/w0AIwADANz/8P8kAD8ARQBgAFwAdAA5AAQA6P/J/wAAXABvAFUAMQAcACIANQBmAHUAfQChAMkAsgBtAIMAXwAmABcAFABWAHgAlgB9AEoARwAbAPr/CgBNAHAAiACQAJUAcgBbAFMAQABhAF8AagBIAP7/6f8lAFkAdgB3AGcAPgAtAP3/uv91/8H/cwDPAE4AVv/x/jr/lf8U/9z+MP+W/4r/GP/N/rn+HP/a/6//X/93/zP/f/7l/UD+of7y/l3/Zv9j/5f/zv/n/7j/eP/J/wkAJwCaAOMAqAAEAA0A8wByAXMBUgFEAW8BDgG7ACoBugHZAeoB5QEqARYAPAC9APUA4wDpAEwBJAHAAFgA7ABSAfMAeQBeAIAA9QCrAe4AQ/8c/7oAvQJ2AxUDVwLfADYAngANA/IE7gOBAkcBLgHeAqoGiwk8F6YtjCJ86+C9m8Ym72QRwBhTBuTv2eEL3lnlpPuRFDobDwgd6l/h5+0p/WsJxg+aCCj1e+3k9S0GKRSHEmoFaPmp9438kwewEYMQ7wmoAGv3ePWw/vcH/QiIBS/7zvLt83/8ogRaBnICrPn59rz6Df/FAYABCgHz/uT86frJ+6j//ADtAhoDxABu/8wDoAjcDT4baxYY+Ajj8O3RA/sO2w+aAjT1nvLp9Kr4TP88CBsKSwGn8rvvtP2NB1cJZQbO/uL0tvXAABkH+QnUBk//VPiq+MgA5gi8CtkEBAHI/R75ofp8AAkEgAPFAVP7D/ap+ZoAYAalBvkBi/x5/J8AOAQTB8sGmgRAAtwAcQLwBdcH2waUBWkDYgFlAgoFdQfnCD8GjADg/mwB/gLrAfH/0/wa++/8sP7b/TH7y/nc+GT4/vgL+SP56fih+KL38/YP9tv00PY2+bH59Phg+Kr22fS396P8r/2W+BX0ufXc+cj7S/qN+B34qfgY+ej5e/yd/mT+yvzV/HL/jAIlBBUEMQRJB5AMeg4cDNgK1A1wE4MZRhsJFxMU9xbiHMkg2h8ZG7MYihvdHYMc8RdFEx8TbxaoFTIORwe/A1AC8QLaAq79L/Wz8JXwFvDF7Yfr8+mD5j3ikuCN4DLfkt534Dfgh90U3aneLOFs5Xrn+uM24dvkmupW7nvvCe4g7lryRvYn9Rjz/fS9+jgBlwEf/Kb5kP/ACHwPrxG7D5QRiBzRKQAswiISH1YpATX0NUAy6y24Jg8ltywUMEwmrxvzGRQauhZsE7UQJQiU/CL6Mv+e+0zu7+dn6hzpD+NE34bc09oG3yXkmOH32rXaMOKG6avsiO+v8vHyjfO5+SkCsgV4BeQEcwQ6BVsI4Ap7CHEEigJeAEv8Kvnh+HL43/Ov67vl0OVp6DfobeNB3irev+KM5rLmdeZD6Fjt3PR3+yj/cgb4F8MmVCNbGF0cUi4yPthED0DQMEMlOC3oPk5CdzMyI44cJByqHXceRBmFC1X+UfuQ++P10O747JLrVeYY4DjbCdkU25Ph0+ZS43DaV9nk443vWPTz9LbzXfFK82T9wgcLCa4EIQE3/y7/nwJHBTMD4P0G+bf1LPLg7vPtgO6k6zTknt2z3RPiQ+Xx46LgYt834gropevn7CXwzfifAlYMzxqaKdgrOSOUIc8uJENUT5RKPDsWMKUxgTxsRJk9hi1sImoeYRwUGjIWoQ9ZB7P9tPRh7z7tMewP663oKOG/163TwdaT3fXjQeW63VXWZ9mW5c3xyfZw9Gvwo/Dl9bz9TAOGAykCXgITAgr/VPy2/RwAwv8S/L/2rfB87RTw8/JM79jlNN+/38bkv+kP6ebg9NrV4a3uqfPq8D3wY/e1AhwOExx7K0IwNiciI7YuAz9XSKBKsUNnNHIrkzLIPUg65ywbJA0hbhpkEcIOlA7xB3/9wvjb82PpBOUW7Ibub+KO1i7WitoC3ZXhFebu4TLaDNsh5Pvs+PFK9Cb1rPMU80v4q//bAR0CygScA5n9c/ke+rr8Mv8+/zz5OPBO6/zsvPAf8ezrh+Qq4NHe5d8I5dzoVuUq4NnhOOlp703zSPfb/S8EHAvXGqku2TSBKsYmyzP4QjxJSUirQuY4yDIYNf05zzcBLgMl0R6qF38QWA3LC4kGmv4n903v6+dF5d/n5+e54d7ZNdQO0xHXld6K4evdZto23FrjBuvO8KHzfPUi9y35Wf1wAVEEBAb+BqYFiwGI/mb/swLFA2IA1/nS85fxj/Gh8unyvO4k5yjgSt1N4Jfnrejw4GfcXeBY5//rGvAe9CT5mwEOEOojljABLHMhdyfiOlpIzkorRi483TL4NPk7qjrsMNso6iUxIU0Ynw/GC5kIXAOz/nf4Au3F4m7jrOcu5BjcJNfl017R79V93gngN9zl3Ljh5uW/6iTxyvb0+VP6k/uw/44C6AOTB1AKpwZmAYAAwwFSAqsBDv9e+hT2PfP08JvvIe0N6I7jJuEL4FvhO+R041TgvuCj5F7pS+2q8bP4MgCUBQQRNicfNucw1CZkKgA4MkUOTx1PoEKTNDsxLjbTOEk2IDAMJ/waZRBrDCELDAdNAZ77IvJP5vbfWuEs5OrhiNx+1hzRXtCR1nHdMd5/3brfkeIM5UnqmvKn+QX9rP4gANwAVwL/BnsM4QtZBnkDVQPjAREBlwFV/on4PvUd9B7yYu6K6RTmN+Mn33LfaeML5FDgQt5I4Frj+OeF7Nrvz/Tf/K0FvBEqJBoxzC6mJ3UqSDcJRrlNZUqNQdc35zKhNRI4BTTFLv8q1iCNErcL9gotCL0Dt/5t9G/nuuCD4Dvi8eFa3O/UPdED0bvU3NqW3DTcIN+T4qrkB+mg8BT3tvuF/l3/kQBTAxAILAy9C5UHPgXjBeAFTwRaAnP+jfmD+P/4BPbo70fp++R24+ziNOMX5PPiat+n3BPe1uKm54vql+zR8K34lwEnCXwWuieaLYspPip/MeM4d0EQSphJ7D2rM0MzWTRDMsgx6TF/KQUauw8EDagK6gXeAl7+T/Kv5VbhS+Jz4UXebNsR2LjTytL61pzZS9lY3arjWuUO5+3sX/Lj9Xn6f/8hAhMDRAYpChkKCgc9Bq4IuwhhBjUEWwCP/Kv6DfoA+TP1cO/e6eDkFOE14qDn1egd4yne7t4t4p7kDee36eTsXfIK+V7/aQfYEocitS3mKfcj2ysEOIc9rULqQmk51jemN5IvkjMINjUpESeHJ3YYlA4kDBgGogRPAu/21e5g6pviSuEJ43TbgdZ62bbZ/tY81xfaZdvC3yrnROl96yDvP/C29mz+qv7HANwF3wQdAyIFvAQOBN4GCwYcAkoAGv3T+WH4KvYz9B/xTevk5AjhPOHc43bm7uQ132zcud+h5cbniOgW76P2nfoM/4AFZhAgIFAqTCruKC0s+TL0OrlBnEJ6Pbc4Lze7NaAyxzB+LmQq/SVuHl0V4w38BwoF4AKe/BbzaeuH5ofjauFb3+zcB9sV26TbYttH29bdZ+LC5rDqrOw/7i3xgfXG+jf+vP+6AXkD3gN4A+sClwNSBHcDxgF0/hz6tPcY9yv1J/G27Njoy+Vj4/Xjeefa5xbjl9/34GzkQueQ6QPsk+4l81f4V/zjAWYIURGUHoAoYifnIiMmsi6lNZ04QjgTNtwzBTJhMHosTCZwJeInFCRNGgMRyArbBo8FkwP5/Wz2ZvCk7XHrIujP5NHixOLB45PjLuIc4TbiZOed63rsPO5C8fzzevdI+838K/6WAHoCiwOuAuUANQEYA84CfgB9/n78sflh9/v1WvPK8CLvLO2J6gropOg465bqCefP5jXpMerE6wruOfCQ9Kf5Nfy2/pECzwenEFsaoh8AIJkgKSP9JKAoxy75MK8t9CuSKyUoMSSzIt4hGCBuHbAYIRIRC14HPgfCBJj/EvtT96rzu/DD7R/qCegB6BjpAOmc5tjkaebe6CDqvezz73PwgfF59OH1VfZQ+Bv7K/1x/aP8C/w7+0r7r/x2/c77s/jV9qv1tPOr8ZXwlu8S7T/rO+wN7bjr9+q76pjrUu367/3xa/Kc82L2M/nu+rL84v83Be0Jzw01E4wYuRmAGiYeKyAHIVQkBSdPJ+8knyK8IRse7xq4HJ4e1xuEFyoUYRBFDDQKdgrSCBoFqQIPAYj8Ivi899D24PUs9azzI/LA72rvwvF78ojyVPNs8zf0IvVn9qf4mPiB+CH6K/oD+TP6+/qd+q/5qvh0+aP4s/az9pz21PMB8zbzffFg8JrwBPLp9Af1XPK98IXx3fP49ff2C/c/9/j4K/tD+Z74rP3pA08F4QYoCXsJzguuEJgTVRO0FD8W4BX7FQwYsxdNFhAXqxjNFw8UaxJFE68TXRRTE9kP9Az3C5YMbgy9CK0F3QWaBAgBwf7n/W76avj8+BH57vaV9ODzKvQQ9OzygfK38tzym/Iz8/HxnO8x8GzyxfIC86vyWfHR8AfxW/II88TyK/Ji8vjy1/HP8Rn0QvZo9w333vUM9XH21Pde+d/6EPp1+oT8Mfzz+vH53fz4AMEAwAGtAbj/JwMEB8YG5AifCfMJeQ6kEFcO/wxkDu8QTBYeGPsTaxPmFDQWYBZ9FmIXbRdpGMQXHxQsEQ8QcxAbEfMP6gxeCMIFyQMMAgQA//wp+xv6w/js9jX0xPEh8T/yw/Fp7yvtze0C77ruiu557t7v5u9R8K7xKPIL8Zfyeva091f1L/Zn9yX2OPpx+wb7u/04/Az6TPx3/Dn51/jb/rv/Rvbl+Yv6r/nS+3j3Gvnz+gn8s/g7/U39D/xU/RP/oAIeBA0ENAYDCekGvgetDDsRVRAqFFITUhR4FE0VFxhWGU0XHxcuGsAX4hWrE9USeRGND2EQjwx9CFgGgwOVAsT+gPyL+kL7V/eT9ILzivB674nxTvHg7+Pu5u0H7WvwvfGe7kDy6PNN8/vzgvba9DT4NvmS+Xr9nPx++wD8f/+QAOb7WP6e/3z/7/11/Kj8VvzM+iX84f+p9rf5l/6Q9/z04vr//G/4KflGAAD5aPph/Wv+KwWnAEkBawhSCsME3gx0ELILywymFM8UBxOFFkUXDhgbFggTVReHGDIWzRVUFdQRagxtDsYL0AoYCkIGWQS6AqP/ef4h/cT42PZt+nr2fvNz8hfyY/IS8KHwiPEC8n/vb/Eu8pTv4fE99Wr1evVt9IH3xPX8+sT3jfYu+8j4ufg8/Nb6WfbP/sn4YPmU/J/4hftv+aP3HPuD+Jj1D/p8Aqr21vMU/579a/Qy+rcJbf3f/DwFRwAt/cABwAdZCEkIwgZCBZgL9ga4CyMPHAsyDnUP6AzgCjERlAt9D/cRYAqJCdQOTg2hBDsLSQtLA20FPwbPBAD/+gKOBCT/R/9k/WL+8f3m/SX8IPzC+jf3Ufrj/HP5DPtf9w34Z/m997P6kfm6+gf5+PgF+HP4O/jo+mv5Cvtc+8n1bPQn+7H6R/fZ/aX5Mvfq/If3Q/eaAez5WPsG+V8Bi/6+9HoDpAEt+8v++AdUAFj76QeSBFQAUgUgBvoEEgjICjf/fwdGDPsB2wRkDvYFcALIDHUGCgIdBekO+wRZA1cNbANqBKMFsAioA28A2QnrAhMD4QNVBpYBGACFBmEBAALDBHgDU/yTAN8BGf4H/hYAH/6k+5z9sPqA+0j8iPZx/W/9HvZ9+J31mv/P8z/2GAKd9Kj0MPhg/lz1ZvOa/i35jfi89+b9lPss9ZkA2PuW/Mj6fP5CApP8nPsS/jkEzP/L/WsEEQh59j0BKglU/14EyQSEAyD/RQFY/xIGHQVN/6YDxwN/AMv9IAH+Bn0Cuf7wAsEC1QHOAH0HegU9AksDugLuBpAHygV7A5kJrALcA8MJhgUNC9QFtwV3BMwEFgf4B80B5QasB+b+zwTW/7792AEHBIL7MP3fATf5zPud/vL1W/vq/s/4NPn5+xjzF/Yr/2n6JvVJ+4/79fVg+0/3KgCE+1D8Q/8K/f/6wPsXBXX/C/pSBWoCHPplAnwAY/5DAgwEkfx5AQr+n/6GAasErvph+20BkgEe+aYDkAU+9kn+sv05AjT1DgYeA0r9K/tT/l0AK/4wA58C/gHqARgHEv4rBPMCEgGTB88OggA7BFIKyAOrAncKQQigBEQKOwMuCZwEBwKJAmMEtQjk/uIFowLL+mkEOf3G/a4CKQMz9cQDU/yi8ecGsfmo/GH4Xf3T/9T06P1u/iz6z/wHAKn51vxVARz35v7gBJ33zf7ZBbD3EAKfBaX2hPu5B6L9YvqcByQAF/RyAVEGsvIsBpYBgvhKAqj7Mv2O99L/9f1L/EIBWv7u/rb5KvxO/Sr9PQNlAyL3CgWyAnf6OAQ4/k4CTAWfCx3+zQGtBAD9xwZ4DAEGpfwhCOcEJP4vBu0NSgAf/bgJewUV/54DCgRz+iUI2gcK/C0CXgK7+2IEFgP4+esGcv94/WAB0QLr9ksC2ARz9csEE/3G/nj3lALH/tnzmQPM/pj1zQBuAbftPgTt/Uf4iv7p+L3/tftJ+dH9dQLJ9nL7EgEd/0L7Ffl2BZT/t/zqA1777fy9BpL7tQJfBBcBv/vS/e0Lx/UiBkMMKvPyAggL2/iIBtgEn/cqCZwE3v5OAIUITP8W/RwHhgL8AXkCMwmdAJb8RQhHCIf9xgZ/C0H8zAOVCN8ApALoCIEBQQK2BYL+kwRbABQCCQOc+tIIAv/5+i0EJP4/+oIC7QKX8hIEVP/w8z0Dlv8N+Nb8Df+M+GD/QP1S9X/+Zv5JAL33F//2AAr2hf6/AooBnPVuApoArPpXA238u/kRA4wBf/zlAt7+0vl+Al76IwDmBFn6Agag+eL4GwNgBLn6FwOe/kX7mglU+GkGqv1S/b4MvwMd/A4AEgqX90EMlgsT+OoO5wN4/tUCfgg2BMH/OwuqAR8CfgW1/h4FXv/zAXQJvfuj/vYE8fy29UwN5PXO/rQEY/XvAp/2Vv9N/JT8jvWKBwsAlfCaBMb7YvGXAqEAqfsc/MT5hgF+9OIB9wGy900BVgFh9cf7xAIB9J0GzgDB+pT6PwTU+/TyewqV+fYF/fux+4T8bPvGBMT9PQW9/AH93AfN+kf9IQ28/eQCcQTQASoE+QRcA74AEQT6BSsKLQQk/iAJ8gVnAU0EHwFKBvsHcgEr/g4F7wGiAvD+6ATJAfMAmgEq+zAEzP0eAjQDB/xw/4H92QFQARf7qAEeAooCRvL/BCgEg/NABSwG2/ls/PMBJPtG+3/+6gUv+fv7K/3X/Rf7wv4E+vj8qwMC83j+owVS9QT5OgPi9wj39AT5/mn3SwCX/jv2APyoBoX7ev5Q//gGDPoJ+5sJc/2GAW4FEQYO/Xf+mgk/ART/vQm6ACwDlgH7BtD/7//tCwcAbQLaALwGmwArAWQGRwA1As4BoAK/A1oC9QAiBI3+yf6dCJsAdAM2Bxf/cAG3/wEEsQU2BOkGyvy7/30EFfo4Bv4FgPliAt3/W/qd/j7/e/xE/fkBNfYE/6H8NfSg/DX7OvqN+w78u/W5+kL3svmt/jj4k/diAQL3A/wc/qH6jQFx9sEAVgXO+XIBRwiX85r5nAsw/bH+JwaH/CX+jQNWAnD/jQE/ApgGf/4F/xIFjwDJA0cE1QJl/yMEYwHUBeABXwF6C5z/mgEECckFh/5lBtgKwAA6BuIFhwGyBe8FkQJuBmQHS/5FAxAK6/+l++QJGwPV/R4BkQKsAXr86wIu/TAATP4o+4/8HAVt+IL2Ngbp9rP3CgCq/UD74vxA9jb+Q/qJ81wCY/1J9U0Aeft/9XX/v/jB/DL7f/4v/Sr6G/5i+mP9/P1r/dj9qQVR+KgBvQGW/cv/Y/+5CegAev2cBwkHuvvyBVMD6AcAB80AKwjtBd4CMgf1CY4DgQj+BKkIhQvfAtIEtQfiBkwDHQkYCMYG7gNqBfoEHQBmBDUGmAM3AScDhwLc+1oAlAXi+V3+eQGe+az8OPw++fj/GfgV9yT5dfzw9hr2xf0a8q/4Dfl29Gz6tfeL9fr41PGd+D/77fAq+v4BPfCR8nUBI/jT7i8AJQQZ8u/7W/o5AdD0FfnQCAT5hADU/zb9PP2RAGoAEQS+BhsF2v4WBBIJaACdB2kMMAnnBZQNtAZbBRYLigjcDEUO9gn0C4wOYwnmBycIwRJpDJUIlA3IDEgG4QODC38GdgYECLMHmgQPA97+PAE9AJX+GwHP/ar80vom++732fdx9B72g/y99CP0WPSd8YTyKPEv8ifyt/VQ89Ps/PPh9e/lVfW4+Abv1fE0+jL1n+55+/nyofVB+Tn9lPtI/ov4nfYAApv+avtUBZIFW/7NA1UEfAWoBv8I7wUfDY4LmwqlC2YOGA+HDd4QPQ19FXwRRRHnE5oUvhBGETEX5g/5E1MUmBHhDkoQVRBFDeAKTAzdCR0JpwddAzQGdv4qApj/bf07/Eb8QvhD9J/2Z/Pj81zzRPGd8OrxnO3g7GHugO9S7W3vUO3D7Ynus+657Rjui/FU74fvNfBm8TDvd/C88jv1wfP48IL1SPNN9YH4IvRQ+HX5tfko+J/6+/21/fP6LQCIAzL/SQUTB1wIKwuIDLwJ/xCIEnwRJRYWFv4Z5BqoGe4ZYRt5HGEeIx6RHuobahuzG9UaMReGFpcW1RFGEYEQWQxbBvIGbgNDAa//pP3S+lX48fbA88PxSPFe8GDuvu8g7Drtzeom6Ubto+y76y7s8+0P7truBO0n75Pwm++/8wzyf/E084/yHPBJ8X/yzfGs8jX0TfKt8c3zPPDb8LL0KvJi8qn4nvLw9Jz3b/TY9DL7sP3a+XwCEgKVAdgFOAvqC30RNheoGEMdgx96IKsgqycLJ2AmTSkDLLAmvyRbKBgk6SGZIMEeoB4HG9EUiRO6DrkJ4QaaBR8Cf/sw+AH2jvIW7vjpp+rA5grn++VH46jjVeLV5ADkieTb5YXo3ucj6oLqEO3z7kHwIPKb8xvzZfMJ+Kb0NPUu+J33dfW09hX0f/Np8kjzFvU59Mrz6O+C7/Ptq/G28anx4PM98FvxwPGL8hj1t/gb+5X/MwJgAysJoQzAErAbriK7IL4jkChZKU4uxTGaMhoyOjIGMC0wmSykKpIqMyegJiUlPCD4GGgWlRE6DYYJDQiyAib8u/pj9Mjuuek06R/oGuUg5K7jwuAC3xbgMuAg4yTl9eUr6QfqsOrt68/rQ/Ds8pjz7PWA93n4bvcN+U754fjE+iz9tvn9+Dz5qvRU9LLxTfFD8MLy9PGr7tzrSeof7Orq0ew87bbtY+wo7efuSvBb9R36A/xLAW4JXQ7sFzYheSVYI5klaS2fMF8ydzglO4w0wDB0MSExNiwlLMkuHiuDIgYglR1gFOEPOw61CsIECP/y+5z1Ye566lDlDOSq4i7f392l3ZPZj9do2sHbnd7L4Hnka+ax5Dnnw+sT7ufvvvOB9mz4Rfi5+jD+V/yx/ukAegHN/sj/LgCw/GL6xvbg9unzR/Ik8tfwMe2b6hvoXunm6gjoTujm6rjpIOjS6rrvafFV8Nb3Bv9hA+sJhxb5ISMosiWGJ/krijCIN3w8IEEsPY42mzQKNhEvhy67MSYybSrLJUMjpRmREYkOOQ81BzMEg/+K+m/yLOt85VziFeAk30Th994m3GDX4NWu1gDczt0m4n/kAeal5ujnG+uq7wj0IPi3+3T6wP6y/+wBqAH3BC4GDQSEBNYCEQIKAFz/1Psw+Wn0GvJS8TrtA+y36+TnEeWY5TDl3+PM4ZnineMs49zlLuz/7xzvlPCF+RsDQg0PGpAoNizbIX4hEC+9N4AzljiAQ78/5TNcMlUzti0XKRMugzLtK0gkqh5IG/gQ0wigCOIHJwAW+yb3MfFq5Rfcqdt42hzbHtoH23HXjdJcz8PTN9cK2qHemeJT5Q3kiuW86PzupfFJ96v8gQDS/+cAbwTWBtwHTQenCrYMAwzqBdQFIASo/tL72vt4+ob27PLS76/sJul158zmaebc5Q3mAOTI4wrjvuPZ5oLpPexj8Lr1cfx0BZQRAyC+K/4rGya6J0My1jvSPEY8zT4CQZM52jFEMBIx1i8BLqcuwix7JOMbcBexElAMoQUpAyQAyvu99fzsD+Q33srbRduN253aq9rS2B3VVtKx0w3Zj92s4R/lgOa154fqp+0n86H2LPnb/1EFjAeqCRcJPgfsCTsNyQ5MDj8PowyUB0UEvP95/JP5bvlV96Pzgu9Z6UTmDuUn40vght/s3tHeYt9H38be/t/24EzjvuiL7ij1Qvu5BcwRgh8fK4UsMCY0Jjsx1DmZPOM72jsyPoU/mTr5MsUuZTB5Mrcv3SpIJq0hABsmFIMMygXvAOD7lfYa9JTvt+Yv3nXZe9h71iPV2tTz1GTVa9V+1sHX8tpM3lnhH+UE6PDrW/FT9zL6q/wX/38EtwmeDaoQ2hC5Eb4TpBUNFDAS1BD7DvkLeAgJBG8A6/2y+nj2GPMy7qzo++Yp5eThQd8q3mvclNt93FLd0Nvo2Rvbdt0f4QTm3ulC8Ov4BgJxC08Wgx32HPgb5SHUKo8vpDPtNeA16DUDOb46RjlPNck0aDabMhsuOCtTKGsjJR0uF/QRbQmUAi//sfs19d/t5uh55N7fOt223ELbn9jf1krYc9qJ283bF92e3TXe3OJw59bpwuwI8ev1E/kR+zH/SAOGBd0HAgv0DW0PRA9gDpMOJg1hC+MJHAbSA4cCpgCk/q/5sfSc8cfvEO1X6VvmaeQe4zvhMuDP3vXdqNw63TjeOuBq5KTprO/J9K37PAazD3ASUhPAFw0ghCe9LRgzTjeeOCk7Tj6lPXI7YTuSPKU5yzWhNO0yYCyWJZAeCxilEWALkAWG/1H5ufEo60zkWN2Y2HPX59Vp0izPos6ozgnPNdCB0XDTS9XB2OTd4+IQ5sLqne/r8gX3K/yOAcgFxghMC3cOKxGrEqYTCRLbEHYQpA9VDr8L3glPB6YE9AA3/Tz5afTt8NLtXuoE5w7khuF136ncx9o92vfZT9mE2uHcGeDF5VrsXPJ9+iIFbAwPD/gQ0hc4INsnNS+mNOU25jnhPrhB00C8P4xA7kBaPyg9cjx+OIgyySsQJfwenhgBEvwKywPL/FP2++7C54HhydxI2qfXRNRJ0jrSiNFN0X7RdtEI0/LVz9qh33bkQegM7O7vl/Rb+dr9MwOQB70LMQ8YEjsTbhTCFJAUtBMcE+gSsBEjD0sMygkcBgMC4v3C+gf2VfL07Yjpo+XG4Y3eidwx2/PYHNhs13bX7tZN16DZ9d4z5C7qg/E9+aQAIwbsCU4NYhSiGyAjCymtLhwzMTfwOn88JTwQOw88ITzuOnU5aziSNIku+CcOIgwbCRTqDXgIKAIr+4vzpeuj5bjgsN0y2trWaNPu0YnRldHb0JPRj9Pi1ZfYg9yl4X/lbumc7RTzZ/cn/E8ADAXHCI0MQBDiEpoUgBUzFsYVzhQYEwkS9Q/fDt8M7AlHBYYA/vti99fyqe5r6rLlquLW3gDcSNlB1yPV8NSn1V/WYda71tPZ1N7x5Enq3fBe+KQC5QmQDNUOjBXlHRImry2GM8E3YjuJP8hAqUB7QGRBY0AZP8Q9LTxGN9MwSSoCJAweJRcoENcJsAR//WP15+196G7jIuCK3G3Y9tQQ07PSvtLF0iTTW9RN1hjart1/4vTnVexV71vzqviX/S0BKwWbCbAMrg+WEq4UCxVLFd8VaRU1E5AR1w+VDWULQQhpBJ//dfok9lLy1u3c6TLmVOLI3iDc7dlc2ArX79Vx1t7WFNek2J7bvN4h44zoV+5Q9eH9aQeYDfkPKRPVGVUhfil+MNI0MzebOos+tj+wPlc+5j1vO2o5bTcENUAwhSv+JRQfGRfpEO0LNQYVAFL58/Gx6rHlFuKF35rbHdhX1dfUpdR71WnWK9dU2EXaV9294IjlHern7YXwfPRA+A78yv9oBLUH5QkxDIcOdBAVElgTXRLcDzINhQz8ChgJvAblA8D/Svs992rz5++p7GTpw+WH4rrfl90f3MTbxdpX2r3azNtm3E7e/OHy5W7qme/Z9db9awZwDZIRiRSzGb8fwiUZLCYyvDXsOCo83T3/PCs85jtsOiI4xTb1NNEwwSyjJ9MgRRqPFGkOAwkBAw39afaz79jpfeUZ4vreKNwr2fnXkNes143XvNeN2P/Ze9t43lTiG+dc6/HukfIO9on5cfwnACoErwdVCv0Mkg7HD60Q0RDMDyAOlwz6ChMJFAfDBGQBq/37+Zr26PLd7gXrC+hu5bni+t9i3Zbc+9tJ2/rajNuE3LXdSOA749fmrOsM8Vz22/yYBGIM3hCyE94XjR7CJIIpjS7dM8w30TmMO+s74zubO+Y6gzhmNqA0tTGjLOMnDCOAHJ0VnQ+ZCqQFOQAm+XryzOy16JnkP+FA3uPbT9pU2S/ZANlN2RPaIds53aDg4uNO5+vqAO+i8tr1Ufgv+xX/IQPKBXMHQQkJCx8MbQxpDKALAgo2COwGtgRxAqP/WfyH+Lf0jvFZ74ns2+i15UfiX9803SbcDtuy2m/at9q029/cGd5R4Kzjxedh7PjwDPds/YgEVgvFEJkTDhdcHFAj7il5Ln4x2TNsNnc4NzoTOrc4lzbANa409TKBL5QrGiejIX4cAxdaEe0L0gfUAk395vb58S/urepP5xXktOEj4AngLOC/4Pjgd+G+4XPjhubP6T3tZ/DM85L38vrg/Dj/5gH3BJQHWAnZCj8M4QylDOQL2wrBCYIIzQaBBA4Cnv/E/GH5sPXC8WLumut/6QbnX+R64Sffbd2J3F7cEd0/3rzeh9924KXiN+ar6rPuSPNA+KX9iAODCR0PVBOIFiQaIR8TJA4pPy3fL44xPjO1M5IySTEsMRgxVS+VLKgpVyZPIqkdUxjpEv4NZQlSBRYB1vzq9x7yWe0J6sjnIubz5Knj/uJm4iDiCuLn4tHkvuZT6Lzqku2C8NfzofY0+U77r/3K/8AB0AMoBuYH9AgICRYJDwkiCJoG9ASmAy4CmAAy/p377/g59hzz1u837b3rTeoU6LnlTORi43Di/uHG4fDhzuKd5HXmqujN6x3v4PEY9eb4YP0LAgEI8Q0AEmMU9hbVGjcffiSYJzoplyo3LeguXS8BL4QuYS30KgUpPSdyJYwiZB/+GusWuhJiDj4KewbTAnX+R/mQ9Ujz9/Cv7s7rQ+nM50znvObc5q7nkejZ6DbpJ+oD7A/ut/BL86T1Wved+Cv6K/xy/vf/yAAsAeIBwgK5AiQC4AFsAAH/Bf0q+7P5D/gP9i/0V/I28Prtmeu66UXoCOeW5XjkJuTk5I/l3+Wl5XXm8ec36q3sse9J8673LvzJ/p0BPwZ3DIMSXRaXF3QZgB39IqonKCqoKowrfiwALU4tay1+LKUqaCgUJmEkjiEwHhkaKBYPEu0NnwkQBosDmwD9+7n2FfJ17xLvJ+617PTqsunu6OvoZema6mHrlOts7E7u+PDn8wb2cvfU+Mf5CPtw/GP+PwAJAdUAuADFAJQA2/9x/u/8nvvj+UX4qfc99871D/Pj7pjrC+po6XnpzejX55nmf+Wy5IXkj+TW5KHlrOcK63vuYvGs8xT2tPfj+fD83gFVCAMP5hNQFR4WXRjBG5sfYiOFJXwnESlOKjgrgCupK1sqMiemJG4jRSP9InAgmRyHGPMTZQ8hDMEJeQfPA+T/Zfyr+Vv3cvUW8z/wo+0/7Fzshu3k7pjuhe1T7KLsju6m8O/x3fMx9Vr2lPep+CP6d/tH/Jj8Lv1//Qn+W/7A/kT+1/z9+qf5NvnY+Pn3x/bp9BbyHu9y7UztG+0l7FDqmekz6W3oneca5/DnIurp6yHtju6472jxsPPY9gL7v/6oABYD0AfvDQ4SrhOPFI0X9xviHoshtyMWJvQnNih+J2cnYSd5J9cmBCbcJBMiOx9fHV8bHxgrFHMQHw5jDBYKJAZVAm7/i/xq+Vj3efZB9ZTz2/Fy8PvvEvCS7/Hu7u6N74rwQPHe8UTyA/P787b0VPXL9Z32ofct+P33wvdt95T3rPf49pX1l/QV9Cr0JPSx85rxQu5U7NTr2+sO63TqBerh6Snp9edF5yjnu+ce6f7ql+x57ejtne/M8gH2gfin+gv95QBWBUcJJA0PEMYRCRSkFj0ZFx0pIO0hbCNpJHQlgyVaJZslgiU9JegjsSF+IEQfQhyjGOgV0xMnER8OMwvjB58ELgHI/Q37QPkW+AL20PP38YTw0u8w77/u7u6J7tTupu8n8DLxc/Lx8gf0BvbD97X4sfiy+eP61PtM/If82/yB/S797vve+lf6dfpw+uH5ZvjW9XDz7PGE8Prv/O7P7TntcOw462rqCeri6Q/qterZ6x7tBe8p8c7yovRK9nD4Dfw6AFgEeAhrDPsODxE0FBoY5hqQHNkekiKsJdknUyhbJzYnWif6JUkllCXHJGsj8yBXHR4ZthXGEpIPYAyOCQ4GZAIA/yj8HPlr9fbx0+/W7lPuUu3c64jrHeur6pPqoeta7V/u5+6f8HDyQfQN9jv3O/h4+cT6qPuS/If9i/7I/sX+x/3Q/Lf7svpL+kb6L/qq+DH2GPRZ8j/wau697C/s6+sp6/Tp3ugR6MDn9eeY6G/pPurz63HuXvG980P2kvgf+rX80QDfBS4Lbw8UEpAUoxbDGG4cOh8kIWUk6CZLJ9gnpifUJ+EnYSV6InMhpSB/H5IdHhobF/oS4A24CZkHSAWlA8kApfzv+dD2v/Jk8J3uBu1a7WXsSey37b7uYu7e7ajtAe8u8X7z3/Vb+XT8zfpH+L34uvrE+2v81fwe/ez8hPwZ+zj5O/gF99X1r/at+Kb3D/SP8Xnv8OyS7PTsEeyf62HrA+on6PDnG+qg63/s+e4B8nH0ffiq/WMC0QaFC4UO5xARGCgg4iJEIiMisiHZIa8i2yMAI7gh6CCvHcEacRxKHnwazBVUFAwTZg9rDg4N0wgDBUECBv0x+Kf3SPfi8hbvPe5T63vps+uc7izuAe8L8njzsPSn+av8wPug+6j8sPxj/KL+kwDn/zr/fP+q/dr8Tv4s/ov7Ivve+/35o/ey93L32fQH87/yOvJl8dXwD+1R53vjCuJy4SrhMOJ95K7lkubS50jpwezH8PbzZfgdAPQGCgpIDeUTThlIHMQgGyW6JDcjaSS0I+IgOh52G9oaNx9wJHcjmR0PHF8c6hhkF84YMxYwEZwPEQ62CaoEIP+k97ry1fIn8QrsiOom7Jrrmexx75HuC+4P8n/1GfdU+Xb5A/ap9bD6mfya+yj94/50/hQAtwKzAcn/awDJAE4AsAFzAd/9G/qA+EH2qfPe8njxe/AE9D730/IA6n/l7OQ645jjL+We5GPjbuN15A3opOzo6wDqovAV/esE2AhcDcgSDBrHImYmKiRyIjgiqyKsJbAmZR8jGSgd6CJZIC0eCh8QHMcaLyBVIc4bARkWGDkU0g6wCT4Cbvqx9oD1lPIq72rrLOee5pHr2e2W67vrYe/o8VnySvWY+D/3rvUi9y34Evku+xX8cfs+/L39Ov7a/u8AqAK1Ap8Bff9d/QL96Pv/+DH23PPC8grz7/HI8er0RfXR7vHmT+P74hrkLuZf5+DloeQ85ZPm4ukL7rLuvPDH+MYCYgl7DlsU+BhgHoklGChuI6QgGyLiIbEfyhxzGOQWFhtVIfMhFhx3Gq4guSNNIEAeXR1PGlsVZA50BpkAEPx99jLyzvAz8J3st+jH6OnqWuwZ7SztZO2A8Mzzf/Ra9E70mvMi86vzF/U69hL3Pvhx+ir7ePqW+2/9xP5tAN0BiwEhAMT9j/qS9vvyXO9F7e3tmvAW9Lj2K/Xy7DfjMOBm4RHhFuIE5wjrv+oF6jbrWuw57YDuYPDt+AkI5BNLFwsZ2xsHIOgmzyseKH0hFiK4JsIkhB6iHuMgUyD9IKAjcCGKHuwevSKlJTAjsRwGFisRWgzFB5QBX/uM9TXxD++D7lrtg+ze6pXo5+nq7CHu8+7g72vwKvOA9cP0tPMP9kP3//Sb8hfzUPUx9/b6wv85AU3/7P3I/T/9lvvZ+RD4XPVv8qbxYvJu8tjxdvQd+WT27+qM4/jl0uhS5pXj3uSV6J3qQ+p06YbnOubA6qP2YAJGCOsLVhZvIl0nICflJXkiFCCIIiEl0yPSHXMXrhiLIuYloR7uGJ4ftCb/JfwlhybhH+oZ1xqMFJ0Hyv/g/F341PVk8/jtW+qW6wXs5upj64Hrp+r27e/z9fKR7l3wwvMC8cDuG/DS8AfwYPE09Mr1zPbl9/P5NP6zACL/xv2Z/sr9Ofw9+6z3zPLV8FrxIvG99OD7Dv0f9ULtfuls5wjn/+bV5gfqN+8y8PTsN+kE50boCO8a+jMERApfE6wgcSdsInQd5SCRI30gyB4sIJ8erhvNGi0YMBUEGl0iFyMfIWQkuyfBJ6Qk6x1cGLYWyBFmB/v+O/p29aHy2/Aw7j7uSfAz7x3uvvDN8TjvWu0Q74fvj/Dh8+fyBu6Q7hTxj++g7jrw8vF39Aj4Bfmz+R78sv7D/Qb8+vra+ez3WfVC8vPvxPB18Y7x2PVu/Dv8IvS1647n0OaI6HHoaea16FHvM/FZ7QzrHe0Z8cv1cfuNAXIJaxXmHwYl+iZmJkYhdxtzHPEemhy2F84VGhfWHFAjziMSHnocGiLwJNQiUSJQIYYesBvlEmoIEQPr/2X6MvjZ9xr0LO/d76/zT/Or8LzvP++O7hjwdfDI7qvuQ+8n7U3tru5r7iXvO/Fp8Vfx2vRO+dT7pfz8/nUAAf5L+sr4pfjr98n0xe+47X7v4O8N8KD2Ef+d/Zrxzuoo7uTwu+yB5yXp4u/r8CrpGub66pnuee8m9Qr/rwh+EvAa3R3IIOUnmivBJbsdXRseHEsdLBooFMEUUR73IvEflR21HkggSCExIxwkox+mGksZYxbPD4MGUvyS9av1SPRQ8WHw3fDW777vsPAe8E3vMvFa9Kz0kPO78gzxY/Dh8rjxmO+B72Hvqe5u8m/1QPUh+BH8qfzm+kD6YvjS9sL2gvUX8gHxIfFZ7lHsxfFM+VL7RPcl8GHrQOq86wjrlugZ6Rnv7vIQ7+/r4e/K9z/7mPuL/3kK1BfbIKMlxyqYLP8kKhzAGskZURZPGDUbhRpoG6odGBl9FeobfSNnIlMenB8/IXAfxRl6D7UErQBy/uX4JPaI99j26/Pg8fPw1/DR76fuEPA58/vz2/J68zj1+PQw8wXzmfGu7jzvifIg86TzafdA+Xb3YfdW+h37evqC+4b84PqK+M31mfFU7Tbqiunk68vwrfbI+Z327O/l61zq+Ocd5vnpYfG587zwZO7D7aLtW+/t9Hr/mwsLF74iFywGLXEpryIqGL4TYhtjIGca+RiRHqIcRxb4GU0e2hoHG3EguSDAICMigB0hFwIUswmY+yn6Lf7p+cf07vbj9c3xF/Ol8wfunuxj8AHwou5D8TnzPPX/97D1g/CY8Jzzs/Kv8OrxzvMO9Of1M/m6+kL8jf0u/CP7ofuu+rP4dfc49YvylO8e68nooe71+Cv9kfdI8cbwIvJc7mTou+Zk68Hyd/VZ8dPtkfDI8uHza/jRAQUOIhw4JHImhyqPLJUhBxRNFWsbFhi1E7oXzxq7G+IdDRw7FycbsyFjHukafiCzIskbcxUoD6sEt/0M/NP4VPVl9g/2qfIi8uryHO9p64PtPvCA8T/yO/NU8+zzPfKD7y7tZOyt7VvxpPMw89Hzl/Us90z4mfl0+cX6Rfwj/A/6o/hN9tzzt/EW7+HqwOgw7QP2vvxw+zf0Se5s7+LvSOxu6B7rHPJI99vz1Ozz6/nv2fRb+/UEWQ0fF1AhEinhLLMuFigHHDgXax3tI7Yg2xcSER4VDB5fH6oXGxhkIs0mDiN8Hu8ZIxe6FkIRpwZ4/jb7Yfpk+i33rvA/68PqlO1o7zvwsfBa8LHwrfHg8Y/wku9T75jxx/MB8eztle/v8XHw/e9Q8QbypPTd+jD+/vxN/M39t/3X+kX3RvTb8p3weOzC6dTr9vAJ9lv4Vfab8EjtAu5n8BnwsO4a723zYPkt+BType+B8d70UgDiDXETihX8HTEnQC/RMb0nKhnqFjEfAx/4GtYZrhpJGWobERuBFeYV5B4KJJohLR0kFhoRYBBJD2EGY/689zv1i/aA+M/zUuwV6yrs1ex27QzxJPJV8+/zhvJX78PvKfHk8+D2o/Ws8QbwIvJd84P1k/VH9av2G/vp/f39F/2Q++74Ivex9133F/UX8B7q7+dj7i32S/fr82jyFPL+7hfqnujw6gfvNvLK8aHuOu4h9Hf5+f0mAk0H8Q66HG4o8CyMMrA0VSfWFigYuh0lHFAaAx0MHJYedCGbHd8ZmR3JIVIgYSPkI94dZxU7Ew8MW/9a9urzN/V8+IX3cO+i6/vqCepu6abtwe6d7/PxWPNO8WDvSO/I7afssuxx70/x+vGA8Nvv0vFk8wry+vOv+QL9O/0W/gD9Sfjb9Sv2xfNl7/Xtmev56QTu+fTc9hX17vGT7WHsQe1e7HbsG/KS9P/xNfCI8PzwZfS5+44D5g2DFy0eeiMxLe0wZSm8HXMYNhepFdkXmBy3IKMbRhZTFmEbEBzoHJog7yPTImgeuBqMFMsMUALk+o33VfcL9O7zO/Xy8q3ud+3O7ePt1PH09DP1Q/PG8r3yKvMD84TyAfI18bHyDvV19MrynvOA9tn3Tfi3+8z/fABb/4j+Sfwd+LD1GPW6897w1uyy51nmle719zH5ffRo8GHtFuuT63HrZuuC7/T0Cfaw87rx6e8d87394ggfD2wVHSKIM3JAEjwuJUYSOBUFHlYaiRWVG2YhRCBjHQYaQRSjFC4fTCeiJx8lcR+UF5URNQm5+4vzXfR39pD3m/i68hroLOaZ6mTpTud/7mj2hvZZ9H7y/Ozo6Ujslu+A8lH18vQw8h/xD/FU8DDwM/Jx9Xz7DgHSAJ78Rvtm/JX67vWs8Wbv8e3K61Pp1uoI8SD1rvYK9xb0n+5t7AnsA+u67Tjzt/WY9NbzQfRq9gn5/P28CAUb9SlpL34zujYWLekb1xdzHGocbRqsHTIfZRszFxEUjRRvGVEfnCObJ8gneR9fFG0NxwdRAD387vpX+IL1+vTL8b/rHuj055Pov+oc7/fxDPQm82Hx6fCC8MruCO/H8dvzQfWM9ff08vKh8UTyCvWj+Kf7k/2X/qr+zfyQ+9L63fm99TXxMO516zrmvuNI6iD0Mvnj9arw+uyo7XLtxeyM7RjyS/NL8KPt1+018Db0kPzeCAcacScXMG82njzCMnQevhamHowfHhxqISMkIBuyEicV3RX4FAAa1yRoKTIqriSSGdEP/wrbAqX6mfnt+vP5c/Y18WjocOLB4QLmx+ng7djwW/Ke8KHuPO+w8ZLxwPAl9UL6C/mG9AD0YfLX7hXvJfTN9wj73/4YAS3/zfoR+YL7mf2L+y34TfSw7VPliOKO5+jtO/HA8iLzpvD07NHqA+sN6w7rou9Y96r4w/Fa8Pr2pvynAbUNuhsfKvo8dEjfOw0h0BJYFlUg0yVoJEsejhzGG+8UEQ/sEWMX+B3oKpwwSyT7E2QQxQw0AZH4Ivg7+O/4Dfnx8GTl796g3hjinepX8EfxcPKP81Tu/+lb7YPxLvOS9nX55vY29XP2cvUj8PvtzvBc9j38xABHASoADv/W/KP7Cv3E/GT5b/cQ9E3r0eGE4dbq+PVs9zHwQupe65TuUPCX8Ijx0vPa9Nbyw+7r7qj1/v6iBa8NUBlaKcM6m0MROegjaBhtHJIibiM/Jk4oJx/mELUMAxDqFHQdpSg1LSYqCyOBGfkO5ggnBi4Cfv0x+wD5hPOK66HieN1f38XmqOwL8G3wwO7Z6wHqgekH7eTzXPjH+Nz3UPZg81PzUvRx8wrzlfZE+Yb6h/0xANT+c/wC/dn+2/9z/tT65vZa8/bsIeXl4Urlm+0+9+/4ie7P4+jkHey77YPpoukt8NL0zPOW8o7z+/TO+vQH7BhSKQo7C0SxNlsf5xkDISAhzCHWKRMqMR3GE0sRIBH6EVYZ9SUiMBguyiI4GbISowv9BKoEtwN3/hj52PWX61Hfa9v93kPlMOy77UbpnOmt6/rpeOpK8y74uPZh9kH3S/Mt8AXzjvVe9fP0WvUD9sP4Zvqv+xT/BgJ/AT4CcgPf/zv40/Mr8nrvweqN5WTis+ai8dj0kezu4+fl3+wh8UDue+yK7jnv+eyA74L19/m2/9kHwRPOJQo+VkWDMn8cAiEkLEQodiOyKy8tqx2gEuASzRNbETMcyCuGLkAkbx/1Gu8QFApsC3QJvP8++Db1vPHh51Pf09xl4njmyeao5H3lLOf+57PpRu2S8WL1E/rS+g72hPHc8j31d/U+99r78/tl99v2Lv0fAIL/yQHwBbwFfwPfAPn7SfYb89zxbO7p57LizuRS7OPxy+6F6GvmmeqK7qnwX/Ap7+rsZury6zXykvgI/RQGqhNGJTo5TUGkMEEdISNEM3Qx3SiKKkopfhzXFUgYIxbwE5UdtClWKf0gWRnIFAMTrxLfD9cJVAHi+MPzcfH/6l7ig9+A5B7o2uUS4q3ft+Bm5Ebq7+6h8zf1uvSf9JH1QfUI9q75cPsN+yD61/gx9lX4rv7rA8wCQwB2/7kBLwPCAK37Pvjf9rzxbOvX5Srj5uHF5truvvEb6uHhyeNA7Czv4OtU7arxDO5Q53fte/hK+v36ugp8H9UuMjjLNyYoHx2rKNU4oDddLL4nriVCIGcY5hWfGsghnCQcJd4jfB6NFYURHBRZFPsNNgVZ/YT0su7K663oreIQ3wnhOOW94nXazNjq3zbnROkc7M3w/PKE8TvyTPXJ9k/4nfr4+vr47/gj+wH+of6vAFEEyAVHAzoBnALoA1oDeP/0+kX1ufCy7cbrgOfT5eHri/J77z3lDuIo5m3ooefY6yPx1vD96+Xoj+qC8l/+GgnDEisjHjX4M/YgWhh3KJ04uTZOMesx8ylRHLEZ3x9GIpsj+ii4KEQeNhd/GqkathXwEw0Utw2GAbr15u9f7uHr2ues5Nzigd9g3FraR9rP3FHie+fL6Zzqyes/7c3uGvFn8z735vo3+u71jfY6+7v9p/6kAnIGgwWMAzAEHAV+BJAE4wIA/ij3BPM08Pjsdur26oLsde0c7bLoheMY5GjpX+sf6+ns9u4z7HvpJOxR8RD2q/zUB8QXHCgSLXciJRklIkczqjjpNKUzDDGIJ6YfNCGyJ8kr3SxPKo0gFBj0GY8eehpUFSoVthE9BTf6vPaK9HnvDOqm5UPhQOBS3y/blNUp10HdXeGB4evikeY16C7oouqx70fyUPW298n31PUf+SEAxgP8AmwDuAV2BokHiQgqCN4FhwSqAgv/tPlw9Vf0AvT88FHtnu578Yvvb+nb5m3pZ+oo6VnqBuz96cbnX+kg7SDw4fR0/JoDywzSGQkiEh7nGFYg0i0QMvUu/C4zMF4sqibDJ8UtJy/4K3gqYChiIqQeliA6IUkbQRU4ElsMewJg+zb5iPXy7iLqZOcX49LeGdwl22PbkdtL3Afelt/e363gZ+LS5JzmyuiY63/uRvEN9HH3xPop/gcB2gN/Bi8JFQp0CrkKewruCf8HJQRdAOj+iv62/SL6yfbf9fj1zvJI7s/sBu4Z7VTqSeni6GbnReV85b3n+uro7CXv7PKr+aAC+QuDD50NORBoGesgEiRzKIMrISruJx4rQS/vMVEz/jJYMDMurSzAKWwowyeOJC4ephhOEuwLJAcMBAb/JfhR8nTuCOun5Wbhn+Bc4VzeHtsH2zjcr9sN3IXdtt3S3jvi9OSb5SzoauxX8Cnzq/a9+Yn8M/8aARkC8AKQBK0FWQWyAkkAQv/I/r/9k/za+uH4CvcY9Rbz6/D175Hva+5Z7MHqR+nm6Mrpj+oT68zsuPAq9bP5NQAtCM8LBwwEEP0Xtx0mI5Yozyj7JeEn/y5CM2QzBDNZM9UxrjBhMEov6SwhKuomRSJLG1oT9Q8pDhEILf8K+c7zxu7/6sjnxONU4FTejtu42FzX4Nbo1iLYm9jl15LYTdxE3wzhi+P651Htl/FW9H73tvvB/q8A7wMqB08HTgezB0YGgwTuBXkGNwNCAEAAaP/7/Az7kvnr9mP0lPPQ8Tzvq+1p7UfsTOu56m/rwu208cv0Zfj0/mIF0Qe/CG0OIhYVHL8gRSQtJGYkFCpnMaEzNzMGM7syhzLGMlcyMjFCMGIt6ic1IXIaWBVvE2cQrQjL/v73xvJa7Ybp9eY94qncatk21xrV79O905bTNtPv0XXSDNYa2rDbQt2C4FPljOkE7VvxqvWZ+dj8kv/RAV4EBAfHCP0HtwbZBt8HpAd5BggFuwJYAfr/yf21+0P6ufgT9hnzCPEI8ATvcO1y7Ons1e1v7q7v6fII+LT+pAREBe4FGA02FfgYtR3FIkYiQiILKbUw+TFPMeIy5zKAMUUzYTQCMkYwjy6mKLMhyhy+GAwWIxIgChsAXvl99Xjxm+yF6H7jJt2z2EHWz9Rb1JjUR9Mf0cLPkdCw00fXI9m92qjdZeFj5Z7pmu4W87H2vPmO/H3/WAOeBmII3AisCIoIgAn5CRkJ/wdNBukEVAP9AWgAlP5A/M751vbn8zvyO/Dh7iXvau7N7BDtoO4E8L/yLfg8/fr/fwJcB7ILgw+pFTUcHx52HuQiiymcLcoulDCxMagxwTGMM/EzjDLXMG0t5SczIw8gXhx3FyEREQoDA4L90PjT8/7tOulj5O7eqNqO2DPX5tWi1MbS9NCY0DbT29X+1uXXhtoE3vHhOObj6WjtSvEO9Xn4WfxLAJgCXQQ/BkMHewcgCBMJawhYB4sGcQWzA9gCzwHN/4P9Evum+Db2H/Sc8szxpPBP7xnute1g7vnvrvK29TL5Cv59AR0DcwfPDWISShauGn0djh/nJCsr7ixJLVowZzKnMdoypDQhM0ExPDBzLBYniSO7IEAc1BZ1EOcIBAPB/pn5LvP27TvpFeQf4DvdAtrY1+rWLtXk0iPS9tKN1OPWJNhO2cTbtt8943vmmOoN78LyjPXO+Fz8vv+OAi0F0AZJBwkIkAlICoQJnghDCM0GOAUaBDgCCwAg/u773Phn9hv1hvNI8fDvMu/p7Tjt2+2j7q/vsfHp9Bn49PrJ/fABxAYGC9YOMBOhF0Ib9h51I6AnsCn8K8AuQzAAMCoxBDLuMEcvDC6mK68nNSSpIHgbcBX+EIkL8QT9/lT6e/Th7ivqMuVN4OXcpNpy2BjWvdPm0rfSR9N51PzVV9dy2Qfcpd8l48/mBesO78XyKvb4+dH9eQHWBFoHrQj+CX8L3AznDLIMXQwjC7AJkQhlB00FuwLHAC3+HvsO+fX2K/QW8g3xB+8x7cvsCO3/7KTtnu8n8RvzKfcI+1r9/ABOBiYKPQ36EYcWwBniHeYixiUsJ3cp5SsgLdwtmC8NMIUuEi2FK3Ao2yQKInkejxnsE4AOCAmOA1X+GvmF8yDuY+mo5bXiq9+/3ILaU9h61kfWDdeW1+jXZNk92xDdlt+X4y3nAerY7bzxXfUF+T790ACAA0IGqAi3CicMZw2XDrEOdw46Dj4NGQwOC5AJhgdqBasDSgFv/lf8yvrw9zH1yfPe8Z/vbe4R7kPtweyH7WruEu8q8Qn0vfYl+WP8UACCA78G9grZDlMRQBQfGBIbIx2DIEwjYCRpJfcm0SdOJ78mOSahJDYi5B/mHDkZIRUYEZoMzAecA6X/Ofvo9ifzK++I64/oPuYH5Ffi9OC033/eDt7d3rjf2uAL4uDjPObn6MPrMu928jv1r/i0+yz+9gDuA2EGugevCCkKUwuBC5AL7QtrC44KCAoHCT8H8wXRBJICGAAH/jX8g/lo9/31a/NF8TPwuO6x7ZTtLu1P7RTuFu9U8DLyBfSV9Vj4GPvW/H//+gLqBd8IOgzZDuAQ6RPhFjIZdxtLHSwe3B5wH20fph8mH4cdIRz9GtwYzBW6E9gRUg7FCsEH2wTWAdX+NPxb+Sv2lfN28ZDvZu4j7QHs/eqq6tTqRetR7FztWe5u79PwcfK19P722fgu+sv71P1i/9EATwKbA5IESwXzBaMG1gb/Bj8HFwcfBuwEVwQkBE4DVgFj/0j+tf2o/An7S/lB+NX35fZG9YL0BPW/9Lbz4POo81XzavRG9aX1P/YH9xn43/lZ+yr8Jf1C/8EAWQKlBPoFHwb5Bm4JeQqlCqILlwwIDXkNqQ3NDckNsg1EDQwNygytC8cKSwp0CRAI/AYgBvMEuQPQAvoBLQEOACz/a/7t/cT9Xv3p/Jb8evxu/Gr8gvyB/GT8lfxT/eP9M/0k/TL+rP5x/rj+Mv8n//v+U/+r/yD/mf7n/i7/Mf4z/bT94P09/Kv7Pvyh+6v6bPuQ+0j65vk++h76hfk/+rr6I/qn+pD7vPp3+jb87PyC/Br9Gv5J/kj+7v7s//j/S//8/4sBiAGqABwBlQHHAPIAbwJwAkYBUAHqAdMAYgCDAdkBiwH6AE4BoQFjAesB8wG5AeACigM9A2MDQQSfBNEEtAV5BqgHAgh4Bv4G5AiPCB4I3wipB6kGWRNNF8X55vE5EroYc/tr9qwMaAte/zoA5gBj/5sB4gKB++D3UP6H/9T4rPG59GIFcAG+5+PoVP5p/Xjt1+yn9Ob1qPhC9znzNfW9+Dv6APe7+QD90vlX+wv+mf6NAIUAKgBHAYcFHggfBC4CMgWZBwwFeAMUCMkGLgFyA38ENwJBADH/jP/a/jP+dP0l/AT8xvqF++X7pfia+DX6wvmO+OD7RP3X+Br6lv/f/oj8aP8gA5oCmQJdBcQG2wZyCU0KoQhTChQMewv1CjENXw3vChgL/gx+DSQL5QhYCtgKYAi0BSYFwQRjAnwBLALh//H8Iv5f/cX4RPcP+w/9QviV8/z2S/mS9fjzzveR+aj2UPWs9eP3xvnN97r37vu3/Y35lPmX/8D/vv7E/h39iP19A2kEOfzg/KgFygOp+tr9ZAWFAvv/agDV/ej+owKPAH77BfvXAJQDoftI+B/+IwHj/jD7Z/qr/uoBxf1D+0X9zP8fATYArv8o/x0AFAMzA1kA6QAnBS8FUQQSBJgDFwVfB0QIuAQNBK0GVQdeB/kFbwTCBjcHTwVbBPgDQAXLBWcC9AHEBKoDjQFg/zECjAWg/w76KAGnB6YBGPsa+wACngWo+zT6gwTmBC38uPg6Au0FUf1p/SIB6gCV/lf42PwqCLoBVPXq+wYFIf3Q+Er/3fxW91P8XAUX+wzuBvdEBwYDw/E08UX8/ANX/n71vvRq/CgClvqK/sv8WfTICPcD6fKt/qoI9vw/+3EMiwDG+bIFFgYlAkz/VQiCBQb5rAUkEar+NvQrCZsN/v2L/TkGIgLu/pEBcQAFBqEEGvi0+ngKkAcW+pn87wIrAgABgAOyAQH+k/9cBbcJIPx1/NAIhAR1AigGZAMz/GoGcAoyAIEDzQJk/tYHygY0+8j+HAuCA+f2/P6HBAEAm/q8AXkBffUy+V8GUgI08rPxJgDiB0T3geye+QAFEvz18Sf5D/sm/F4EkPcL8Dn60wirBY7xrvSTBXoLMPh58XcG/Qvh+aP5fwhaAAj41QlqDATyVPUDEtoOfvdx8VACdQ25BMP8g/cS+1kDGAmcBwnyCfWTCtACrgDJ/Br10v7FEtsLCOXp9G0UZQsX/tn0RgFTDH4HJwE0+bYD3Q4kDBX84Ph3CHoIcwyPCsryTvlUFg4R0frM8ukFRxHdBLn5oPebA40LiAX59Mz1kwu7/4n0kQTR/aHyLPsCD6L+XORl+VQM7QPy8mfxWAErAZX7Nfo++oIAa/sT/xYDNflG9Lv+mRYpBZHhcPJ1ExIZZflL4dQB0BfnAtP0i/mcAOIGpQzd/gnw8PvwBxkL7P2W9SUBFP0RBHMMjvfl8JsFtQ5nAf32AvlVBQ0ML//A/XEEhf3j/zIP2wpx8/76GhOeD6n+3vdTBXcQhgyWAiX6KwOfDPcM2wMy+mIE+gwXAwP+4ABcAysCf/4FBi3/bPYe/84BhP2Y9Hj9ZghF9n3tDPtgCNH3Kere/2kCwfUU8n/9UAQi85vzNQST/zzyVPbyBo0HRfY59pkAQf1+/g8G2AGc/Kb+hvhh+7gSowJF70cAyAZ8AEX+mAEQ937+Xgdo/WL88PtsADv+MP8jAuL8ZPw+/qcIAQFa8XgCGBJPAq31HwWXCLv+8QdJDmsC0f/ECIwKAwteBg4DHAp0DTAHMQMjBqQFjwm2C7MBQ/1TAi4G7gf3/8r2D/7BAwf+2vj6+h77rvfu+hH+s/gZ8aT2vf+N+IDz4Pm1+5T48Pm6+pj3cvvJ/oz8kvsl/aD+Yv9A/l/84QGWAB39dwWJAhT7kAHN/wn8tgL3AB79swFe/iz0J/5uA0n6XPuu+1H+HfsS9y//bgGX/Lr5Gvw9/QUBUgU2AA784QKfDAAFcvy0CekQ0wU5BT4PBg6QC7AMrQmPCe4OwBFlCqgHqwwRC5wGXgaHCD8HgQSKASwAjgAX/rv9f/7Q+wT42fVD+AT7tPia9bz0YPbg9s/zGPjC/QT5HfMK91T9pfw+/iIA4/ot+lMAHwQ3Ajj/fADQAHUC8gNIAXv+z/+5BK8BC/qi+34AjP+5+2f54foh+gf4jfrl+ErzQPfz++P1q/JV9/D3wfZ9+EX3VPdW+TL/IwFe+nj74wDqBV4JcAedAzsI7xXEE1QFfwdpFh8bcxLuDmsSIhQ3FP4SIxIoDwcO9BGHEBwGyQTJCuQICgRV/bD8U/07/Wv/Zvdq73byUfmH9nXypPPO72rv/fOI91H2h/Mt9eT22/gm+zr8Bfx7/jsBVgAwAIgA0wSWCBoFJALAA/AEGAXdBkYFMwF+/hP/0gHFAC38ffmZ+rT4VvXe9jj5yPTf7h3vrPEV80b1GfZ87pfptO4l9QH4y/l8+JTxwfMI/eQAIgOTBI8D8ANdBroNTBczGA4Oqgf5E4AiFR5gEwIUkxesF4gZvRlREAINrBeBFecFDgSeC04J6AMYAen5o/LX+csA0vXO64fuSfGJ7jTw1/Jf7mfr9fBp82/xsfM5+wz85/Zg+t79VgGjBo4GFwSSBPcGhgtGDXALXwugCLcGRgrrC/QGJwWdBfMCn/6j+9j7h/tN+gr3K/Jq8OLvOO548HbwQ+rb5Zjqwe7761nqQutZ7A3v1vOm8dfsQvKx/rD/ePp0/v0DKwUwCs0Q7g+XFuQhEhvSCbgRry0aMoEcpBETGxUfOx4gIngdFQ+3DSgXsBENBfwFxQk7AwP6cPex9UvzJvat89vqheXk6BDux+1L6j7nr+gi7LLwifNa8+P0uPeI+Ob4dvwnBRoKvQVtANwBtwl2D9gPigvUByMHKgoiDXgK6QixB/ICVf9t/03/n/3O+in4RfUf8YjwEPJa7uzqL+347eDp9+Uw6EPtSu5W67DoUOmG7jnyMvQY95r27faV/HwEzgafBt4JPg4CGNIjGCDWDzoR8ielNJMoRRwFH6ohfCApJFEmDxyGEcUTDxbUDr0Ibwj4BZT/D/nY8wDxqfI+9JbtleT/4gTlbOap6l3qU+Rj4//pkfCD8F/wUPVU+nH8Bv0B/IH/ugo6DxoIrQVHC3gM2Q0WFI8RLQgwB2oNkg7dCF8FFAS2Atr/WPqP+G75w/cx80PwTO706l7pzeoP6xvo2+U35tHlG+em63Pq6Oap5xLqVe759PL34vP58i79xQSxA10Htg9hEjISthwwKs8jwhMoGw40PTjpJtUeOSRvJdUjSiekJE4WBg/iE/oU1A3GBfsBuP9D+wv10PDd8D3xMO565vjgluTv50znaOeh6HXoTugp6xvwyfRk96/6I/3M+5/7VgKWCxAOqwi9BqUKDQwpDlcRWRHsDLwIuAjECZUJCgmPB2QC6/yz+nn5rffu93H2EPGa7Cnrs+im5zjsQ+xT5UThIuTr6EfrtOk95SjlpOqY7a7vZfPi89/00Pka/4wCdQhuDkIPrA+xGJYraS8AGYQOmSgRQlU15ByVHKglcSZQJqck4Bl5D8UQvxPYDi0KXwXA/OH4vPqC+AnwI+277/DsPehw5x7louLZ6DrwYu3O5oHoMvA69lD5ivmU+Zv7/f4QAoEG3wiBBRQFAwgsChsLtQv4CgcI3AfoB8EGmAb1BQEDPP8z/Xv7VvlP+bv3TfFS7oPwoPDm61Po5+nM6+DpZufB5i3mlug67cPsCOh15UvpMfKe9xb16PEi9kn+VQTCCJINXA88D3sUmiLhMRwuoxjgErsszEJMNWQdChu5I8kl4yNZIKkXUw/fDtMOTQrmBagBAf1q+vH25PD97BjvWfFt7hDp9uKe4nXqCPIN8WvrJuk77Bn19fyc+zf45fth/yX+2AH/CGUJXQU9BbMIBQmqB/sJcwzYCf4E1wLEAscD7wVQAw77ffY295z3O/ab85fwrO6B7avqf+cr6ansXuto58PlPOW65mLsDe5Q6fDlCOlj8Gn19/To8gvzGfn+A4cK1AeYBNUKlhWSG5UcICJpKvMlqxiNGyIwojd3J98bEh9NHf0Y5R7UIMoU1QpnCSkJPAndCDEERf54+zP5ZvV09Dv4t/gY8yztnexF733wyvMM9inxfeuW76760v2B+B72LfgN/HUAiwK+ADH+gQBgBGUEqwI+AY0C1gWbBjcCqP1S/0IDVgID/n77Ofnq9Yn1ePgq+LryG+1F7Kvuo+/K7jntgeuM6cDp/u058M3s7+iK6T7ulPIs9ALzVPL68rP1Gv01BYYHTAavCEwMlw5FFn8j8CrHJLoWHBR4I8gyry+vIAIZExmiGOcaSiCBG/IOWgqHDZAMqwdqBwIIiwMu/kj7Q/lj+Wz6z/mz9qTyau927ovyV/gh99PvU+7W82z4Bvig9un4fvqw+kT8G/4+/kL+sAHWArH/vP8qA5oE/QK6ALP/cf9eALYBrP+L+mz2Wfcb+ZH3ZPUn87Lw1O697gnww+9e7jDuQe0T7LXsle4N8M7vwO5k7hbwZvMg9aj1OvbQ9nP5gP/3BK4FegXUB0kMhxG1Faca+SC1IFEW/RDIHi8t8SWnFygVyxYXFhsa7ByTE08KRgwNDwMNrgsACbkCowIwCHQDxfg++R4Ayf6x+Df1SPI/8aD2iftf9pru2O7Q9Fj3//ae90H40fdC+BP6UftE/TMAEv/H+7f9ggCI/5P/nAP9AaH6vPxUA/b9DfdJ/QIBNPa+7/T3qvs88xfuyPH8877wTO3v7AXwavHD7mTtM+/j7lTs+e0083D0qfGA8r30cvQ092L91P5P/pYEwgkWBlIFpA52FksWFxrCIDsZ9QyJFMkliSaMGwUVgRIMEVwVXBrAFpUQ4g0RCvkH5As4Da0IKAfFBuX/D/q5/dICsgCl/Nj4k/P/8RT3vPtF+s/25fRd83vzTPYf+qD8f/sz+Yj4Svjf+a7+MAKHALH8tvu+/D7+fAAxASf/E/26/Bn8TfsP+0n6YPnJ+Ef3X/V19RX1AfKS8Sv1uPSf8G7wLfPj8rvwvPHS9BX2Y/N98P3xh/bi+LP3h/Y598r5x/38/vz9kgDfBooKqQiXCCYN4RH3FbYa7RtcFf0OKxX6IJghvRh9E7kUZBYKFu0VyhPYEWsTIRKLDOAJZAvKC6kLtgpgBX/+pv08ARYCV/8A+6D2BPUw92X4r/d/92X1pvFc8gH3u/fz9f/2b/g393P2TPgs+sX6XPus+5P6uPlP+tP7M/zQ+kv6Nvt++nz4f/fz90b45Pdc94L23PRR8v/xMfQN9dTzgPFo8FPyJvON8QPxwPJ19BD0QPO28irz6/V1+HL5QPnY+C76rP14AYcDcwR6BsoIvArSDc0QmhNnFuYXgRYUFDUXIRw0G3YYDBixFzoVNBQpFm8W6RMBEXgPGQ81DtwLlQppC6AJIAXKAkgCrwDB/2X/Rfy5+FL44vlS+SX3C/aB9Uf14/Xb9iX2mPUI98n3MPeN9xr4W/jV+S77pPp5+QT6ffqw+uX7Mfzr+jH6qfoJ+pD44Pje+Vj5YfhG9xX2kfVv9pX2u/TC89rz4vNn9Jz0YPPN8iz0DPVB9Mvzu/Nx9BX3nfki+fX39fgx+vv7Qv+cAiUD4wGZA14IUQuoCx0NMxElFVgVWBMfEyUXURtFGzYZ0BerFu4V/haJGBQYlRVnE6oRdRBVDyYOsQ1bDQMM3winBYQDXQLhAUYBnP51+4T6NPpY+Or1VvUK9q32//Uq9DTzW/Sw9VT1u/Qz9bf1k/Zk91f2LPUy9un4oPkZ+EH3Gfhu+TH5yPee94v45/gO+ZH4yvY/9TT2X/ck9tn0XPU09UL0UvST9JL0K/S89LD1F/U59Dv0dPR99SP3j/jC+Jr3x/ez+nf9lf1t/iYBFgT1BW8Itgu+CWkFkwlDFkodNhgrEUURoBYLGPwVURg/HWEdmhdyE3YThxQRFnAX4hXmEX0PGQ7UC1sKHAtNCwMIogPZARoBPv+H/Xv9Ff3/+r/5MPkF91L1APbe9vv2gPb49oP3BvbW8zn0b/eG+J/3Yvkj+i324vJi9V36jPsw+pn4Svc89k31GfbZ+C76Evno92r1ufLd8mL16vZQ9nH1JPSK8lfyP/Ng8+zzTvWB9Xb0GPQA9Uf28/YM+Bn5Kvmz+d769Pve/Mj+pwBXAvoDyAVvB34IbwoyDSgQuRKEEzAT1xRVF3gXyBYvGNEZThk9GCIZbBnqF+0WIRaWFCMTMRMPExERFw5yDDILLgkjB5wFvwN8AUAArv60/PH6y/kC+Rn3w/Tm88vzhvP08gLz9fL78Q3xlvAz8UPyGPNk88Dz4POt8/TzhvTo9Nv1W/ba9e/16vas93n3e/ea9733gveS93L3tfY895T3JveP9gL21/X89Qf2D/ZD9uv1I/bn9kz3nfdL9+T3cfhf+D35VfsI/cX8Xf2F/0sBdgL9A0kG/QikClEMdA52EZsTNhTrFOIVjRawF7gZvBoZGkUZJxqeGUcYDRgBGO4WuRXkFJcTshGFEJEPag2sCosIyAasBIIDgwLDAAn+Tvwg+xz5c/cI9w/3GPZr9HDzFPMU88/yb/Lu8Tjxr/HO8jbzwvLr8kXzm/Pm82n0FPWs9ff12/Xl9Tb2KPdI99j2o/ah9g734/a69vv2uvZx9lr2+vUX9kT2Q/Y89gz2KvZo9oD24faz9yD4Lfh/+GH5EvrJ+hD85f21/q//igFiA/YEoQYSCbcKNQxOD78SABS0EzIUxRU6F38YZBkxGbwYlxlEGp4Z8ReCF4oX5hYuFiAUaxLDEeUQKg/CDBcKHwiZBtkE7QJlAbX/PP6f/JX66fhC92D20vUW9WX0vvMd84jyGfIM8trxzfFE8t/yKvMk82vzhPPC80z0yfRn9Y/1R/WU9f/12PWu9SP2mfZr9sn1XPWT9ff1FfbI9Ub1+/TP9Pf0afVH9eb0t/QR9Wf1rfU39tb2aff393r4APlL+l37gfwK/kP/6gCNAs4DhQWnB3YJIAshDe0PTBLUErMSihMAFSUWDRdwFwEX3hZpFxAX3xXmFA8V0RSCEwkSyRDiD60Ocg3HCykJDAcHBvoEcwOKAd3/cf41/f37J/sv+gv5OPia9/r2cvYp9hL2mvUG9W/1hfW/9dX19/UQ9ir2mfau9v72VPeL91n3LfdT91f3S/eJ92z3U/eL91/3o/YG9uD1iPb89kf2g/WF9f/17PWq9Q/1JfXQ9cn2NPcF94j3kfid+f75Q/o9+6X85/2X/3IAaAECAxcF7Qb7B0IJAAvDDZwQ4BG5EfQRGRN/FCsVOBUNFRcVbhWzFecU1hPkEoYSRRIYEcgPvA4cDvIMbwshCU8HAAarBIQD4AFOAOP+0f3T/OD7//p3+hD64/kA+QD47vdO+Gr4vvdZ9yn3OveV9/r3xfeo9+73Y/ho+H74y/jM+Bj5Efmv+DD4yve196f3TPcz98r2gPYf9rX1i/Vl9Wf1V/VH9Xf1uPWU9U/1WPW49QL2pfYL92r3GPjK+GP5HvoB+9b7xPzv/Tj/cwDKAWUDrASlBckGZAjhCroMIg03Df8N9g71D1oQCxAHEO4POhAqEGsP7w5KDt8NpA3SDLwLCQt4CqUJVwjaBoUFwQTQA78CqwFzALb/Bv9o/r39Sf0h/U39/fyR/J78p/x//E38Gfzz+yH8Y/xp/FP8XvyZ/K/80fzf/Lz8GP0Z/eP8kPxC/Pz7ufsx+5n6RPoU+g/6w/kk+bb4jfh6+Gr4JPj399z35fc7+E342/fT9w34UPi0+Af5T/nm+Xv6B/ua+yz8Iv0H/uP+FAApAUsCiAPzBEcG7AdiCdYJNgq9CrMLlwzhDAoNPQ0CDRwNEQ3ADF8MBgxxC84KQwqrCRcJYAiZB0AG+gT/A00DWgJmAU0APP+v/hb+Vv2P/En8S/wn/Bf82/vv+/n7PvxF/Lj7xvsT/FP8ivyf/H/8yPzf/Pn8I/0z/TX9Uv1V/Sn9z/xr/E/8JPyM+7b6evpL+in68PmG+TL5y/iJ+I/4Wfgo+Bn4APgR+AT4Avgq+Er4avio+A75WPni+Yf6Ifu/+2D8Lv3Q/en+PgCJAaIC9wNtBfgGwwiLCSUK7QqBC0AMzQwiDRoNIA1TDRkNpgw+DPULdgviCmgKqAndCFYIhQeWBm4FSQQYAwQCTAGbAKD/vP4A/iH97/yi/Cr86PvQ+6j7rPvt+wn8FfwV/Pv76vvV+0r8zfwH/SX9Lv1x/av92f30/Tn+Qf5I/hL+0v2W/T795PxZ/LH7Sfso+/H6yPpM+sT5Vfky+Tz5BfnS+NT46vj8+N/48fjz+FD5r/mZ+fH5Y/oA++b7ivwC/d792v7D/9oAGQJHA3YEkwVdB9MIhQkNCpgKUQsCDHAMswzUDM8MOQ0RDYMM1AtxCzILsQokCjEJdQjAB+sGBQbDBJQDvQLkAQgBOgBa/7f+LP6i/Rb9pvxt/IH8cfxX/D78VfzE/LD8wvzB/KD8x/wY/XX9mv27/eT99/0V/jD+Sv4l/in+LP7+/cH9bv35/Fj80Ptz+wn7c/od+uX5zvmM+U752vic+Lf4tfi3+Lj4r/iQ+K740fjQ+Lr4Ffmj+RD6i/o2+6f7ffxB/bv9aP5i/6kAtQHZAuQDKgXQBvoHgQg+CaEJawqTCwMM2guYC+ELQAwYDJAL8AqTClcK8gl5CXsIowfuBkAGOQX+A/4CKQJkAZ0AoP9r/hn+jf31/L38KfwC/C78J/wj/Bj8U/ys/Ir8gPyz/Lj8/fxJ/UH9iP2Y/db9B/7//Sr+U/58/pb+cf47/jf+4/1q/QH9kvzs+7z7ovst+6f6m/pm+hz6w/l6+aX5SPl/+Xj5Xvl1+YD5bPmI+bH5wvkA+lX6A/tu+yv8ifxB/Rj+9/7P/64A4gHsAjMEeQW/BkUHygd/CGsJTwq7Cp4K2ApUC/ELhAzpC2QL7grgCs4KVgq4CdII/AdwB8AGtwWZBJgDEQM8AjgBNACG/0D/Kv+F/nT9Af3o/Db9Gf25/Kn8s/zu/N78uPy8/Or8Bf3n/Lv8tvw6/c/9Ev6r/fv85vwJ/S39O/0A/b/8b/x0/M77yvqr+i760fmr+aP5x/mH+Xr5DvmX+D74A/hC+Kv45Pgz+Wb5a/lU+RT5p/ka+sf6afvt+zj8mPw0/hD/DP+r/4oAnAHrAu0DkgRqBeMGAQiWCBYJowkvCr8LrgxJDJ8L7gs0DWoNQA3QDA8MpwuXCyALSQrQCYIJiAiPB0YGDgUKBIcDjgM+AtcAJQASADUAd/99/hP9JvyF/LL9vf47/jb9gPxS/M773vv++3f7APyD/p//1P15/Lb8Xfvp+Uz6cfvj/PkBnQnDA0T2eu5X7/fzhvv2BBgDAfz5+HP2N/C77Vr1N/1ZAEAByP7k9xfzVfT39Rr3R/owADYCZ//k/H35a/YY92v7BQC8AqQEDQRsADv8qPs3/5kBIQQDBsAGNQa6Bf0ENwOHAwEGVQhnCXsKeAoZCbAHQAcgB4UHEQkcC8UKNAnSB7IGCwYHBsQG3Qa5BlgGcwWsBPEDEQOzAi0C1AHBAQ4CMAKAAWkATv83/lf9q/0W/wAAAACi/q38ifvh+9f84fyu/Mf8Lf3s/BL8/fq2+kb7IPyl/JL8gvzV+6r6N/lN+ND4iPp6/Mj8hfu7+TX4Z/dM+GP6z/zI/UH7t/jm9yz4lfjl+QX8A/2M/fT8w/rn+MP5qfyt/mD+HP75/m//cf+W/rn9qP4ZAnMFyQWpBDEEwwRcBl4HSwePByMJJQvzCuoIOAfxBo0InQq/CjMJgAhNCaYI9AY8BngG7QZ2B+cHJwamA5YCzwLpAuICAAOXAkkBSQBoAAgAe/9V/4n/Fv+y/n3++P1s/U/8TvsC+5n77Pu7+wn7V/oL+q35jflH+W/5hvr7+n/6X/l/+Ib4DvkH+sD58/jj+P/5M/sK+y/6OPmf+a36Hvud+pv51/nx+nT7S/sz+5v7jfsx/I38pPvn+2X9gP+l/5v+Dv7q/nUBDQT5BZcGhAffCUYNUQ4oDMoKBg2FD0EOQwwiC70JGgkXCuEI6AQGBK0GwwfxBRQEiQPeA8MEFgWuA5UB3wDsATgD7QKjAL3+q/6a/58AKgFZAMv+MP9dAWQCQQGW/4L+Yf8yAVoAzPyN+l77vPzQ/L36E/h39/P4APoX+cj3i/cv+O74tvh99oL0zvTf9QD3yfjf+S75w/dz9kD2WvcG+YD6ovsd/D/7Xvll9w32/fVI97D4i/lX+Un5LPsL/oX/KgAPBPcJng6GFPUbcx5VGaUS3g+pEFcTnhVtE9YM0QeQB04HigIO/TL+4QS1CA4GjQF5/3P+Z/+4AWAAIv2//ssEcgWi/rf54vnZ/JYBEwX7Anf+if6aASADgQKaAaEB5QIwBAcC2/x/+VP6sPxo/lv+a/uQ+Kf4fPoK/JX71flJ+rT9aP51+Qr1//N49bz6vgEYAxf7b/I78OXxG/XJ+LT5ovY+9Djzpu436CLm0upV88z5wPn79GvxP/S9/hMKBBDGFagkADQ6MOwethMbE/YZRiOrIr0RFQIGAmwDAPxF9fD0vPjHAUsJUwKe9bv0dPxXAqwFRAWfAMD+WQG/APj5T/Xz9k/6C//VAsUAS/wt+4j9hQBmAzEFYwWYBckEVQEn/Ij4Wfkx/f3/hP4m+qH3vPh1+4v9yP3L/IP9l/+f/lD6kPbc9Q752gA+B90CrvWE7MXuz/Vw+Er12/Dc7lDvw+7c6pTmjegh8Wz4l/ff8cTxQ/pmCIYToBfkHsgv+zqQMIcdFhSXF4Mh8iUJG0AIyv4A/xr9JfZT8YvzFv0oBm8EC/wH+bX6Sv3YBL8KhQVW/p39cfw2+Sj5+/gp9rX3yP0F/yf6a/Yt94j8mQXpCbcD5Pw6/3cFDgdfAvP6lfjf/QEDDgI0/S75jfn3/ssDswJL/0T+9f1w+4r4D/f39in8ZwZZCVX9m+215s/p6vP8/TL9+PBu5mTmEuvK7IHtCu8Y8EPysfZc+e/4JfxIBiISXRpvI7cxxjixLJ8aFBW8GuQhhSVKHlkL/vxk/B/9Rvf49eH7GP+z/gv+gfnX9Gv6ywO4BZ8C0P4l+0v71/2m+7T2A/fN+YH6ZvsB/Eb5pvdB/F4A5QC5AuEDDwH9/ykBmv7W+ov7Bv5m/Qj8r/tO+5/7pP6kAgsCkP6o/mkBOwE6/n39sfyg+kL/nQiGBnj21uqq6/Dxp/i5+kjyxeZ25J/pJ+9M8Tzuiuub8Mz3Vfi39q76uwNLEdkeMyMGI/QpFjCiKUQivSPgIkEf5B85GGAFlPxtAtIBMPu9/aL/SfgJ9fv5efob+Gb9pgIa/8z52/ci+On5Qvxj+173EvVX9ff3FvsV+/r50/v9/Q7+pP5gAEQAfwBqA08CRvtV9yX6i/x8/Pb9If9S/r7+ef9U/bD7Vf+uA0oCrf14+a/00fMa/tQJlAU+9FPodOjV7yf6vv5l98HsM+ll6t/qQOsK7oTyaPXE8zPvUO+z9wsD4w28FU4V4BV7JtA19yy9HXYdTCO0J40smCNcCBT7oQjiDvsBF/1CAWP9YvzyAqj+/fXr/A4HpQKJ+zH8nfrS9sj6Mv7N+AT2Dfn6+KL5/f4mAGb8bPu0/JP+igP5BiECzvk/9uH2wfiA+xb8QPlf+Bz6ZfkZ+XH9SwGgAX8BCv+P+SP4YPvU/DoA+wfvBqb3EOtd7YT2z/2BAW/8g+5Q5+nsgPHK7oXuA/K98XTwzfI49JD0cvqjBd0OjBN/F2wbJR+YIc8hQyO8Jk8l0h1OGFQUKw1rC+gQNQ5wA1P/pwCY/Q78OgJZBPb93Pr3+o/2uPQa+3L9bfhh9pv2GfX19bn5pvsk/Bb+1P5a+4f5gP7sBWsJ6gX0+0T0yvZG/mABr/4x+h/37/VB9gn5Wf2S/7X+PPwC+dP39fmX/VH/SwDxA8UE3fwY9D30e/rT/xQCPP7b80ztafB79t73GvZi9dfyAu7X7jn2l/yH/lH/ewDxA8EK1BJaGRsVDwmTC7IebiaVG7sS6hKfEHkPgRfDFycHLgLJECMP+/w2/LQH2gZxAaIBzPw780/2dgCG/i73B/iR+ObzlfXU+Wj5qfoX/U/5evSD+BQAaAFUAMv/Zfxn+or+xwBZ/lX+Qf8M/Fr5k/rZ+878z/0Q/SP55/ev+cX5D/vS/x0EdQO//cj2OPaY/RoDaACX+wn5tvbx9e35Efwc+Vf5Bvr39LPyFPhm/L77tvvs/Uv/NgCnARMDIAdyDT0PAgtxCisPaBF5E1QULg/vC+cRHxWJDpILvg5ODNwHKAs+C0gCjgDyB7MFP/z3/IIAUPup93H6lfj98rL1QPvf96PxwPGq9ID2CPpn/KP6Avqx+nv5svuWAb4C6v4i/pL/Lv62/hkC7gHw/Wj9mf9e/sP8Zv2a/Hb88f5cAH8AOQAc/ov7bv1WAQYBJP6o/QX+tPwN+7b7R/xm/Iz+/v4Q+874Uftu/aD/ogHq/+P8c/5BACX/nv8oAnQEEAURBB4DJAIgAzQIEQpbBb0DmgjKClEIwgRCAqoDWAqlDXsHcAFPA7MGeQZDBsUGEQSAARMCzADn/h8AYAIRAKX6ovj++gr9o/w7+136WPpu+9f7hfv2/Cb+o/04/nn+LP0Y/xYDZwMWAAn+t/9pAuUCRQN4AsgA3ABSABv+Kf5rAc0C3ABu/XX6f/s2/40BeAA7/Gn63/xr/jf9fPyF/cH/7/6v/ED8Bf0Z/qD9tf2K/rH++f6k/p79DP2l/kEBswGtABD+lP0+AGcBagHBAUoBIAAIAJoB/gF7AZwBEwLRAWYBowGTAcICAgMtAQkARACSAEABmQGGANL+CP5k/sr+bf8iAM//AP+4/n7+Qv54AJYDmQNhAQcA9gBOAhUE/wQyBDwDCwOxAtACtQOEA+MCPwKiAbUAIwBaALEAEQGaAJb/0f4D/4n/sP/Y/9n+k/6S/g3+1v07/mf+2P3t/eH9vfwC/HD9f/7s/aL9sf0b/T/9ff63/8D/LP9w/jn+gP4e/0AAsf+j/v3+c/+8////7P+8/3IA+QAbAPv/qwC7ADgASADE/+X+9P4JAJ7/5f2q/W/+nf6y/aT9P/5R/u3+hf+g/iv+l//+AK4AIwCRAPgAXQEvAgsCQwJCA4QDBAN0A9oDjAOVA8kClgJSA5QDBQOEAocCNwK+AXgCZAOpAg4CVwLaAYkBOALVApEBFQAqAF4AuP+y/97/wf7M/YP90P2+/bP9sP24/cT9ev09/cj9lv7p/cH9zv65/l7+GP8L/8f+qf/X/+r+KP+sAK0Aq/8+AJIB6QDq/xAAGQA8/yf/BAAu/9D94v1p/u/95/0T/iv9lfyA/eb9i/37/Vz+oP2V/Z7+hv4t/sD+mf9l/7P/8QBXAQsBnAAxASICIgLyARcC2QFnAaIBnwIZAiwA6gBhA4sCeAD9Ab4CfwFKAosD+gGTAOYBNAP3AMz/IwKnAWwAwACIACQAfwEyAeP+M/9tAC4AAAA7APb+jP5aAIUA4P1o/s4A/v8n/wAA//9l/+UA9gH5ADsAAwHdARgCegFEAIv/rQD3AcQA/v42/+n/T//m/nj+qP38/F3+Tf+1/dX82/0R/XP8Sf6S/mX9aP0U/vP91f4I/8D+TP+JAA8BXgD4/sf9hACQA8ABuP6s/ysBvABpADgAdwAUAvABx/9z/xYAswDwAWQCqf88/k0B0gI8AOn+NABtAF3/igCZAc7/Kv8IAfIAO/4t/6kB4f8u/qUAUwDJ/dj/0wGY/oz9ggGjAqb/j/4EACIBJQKTAZwAnABdATwBZAHiAdgAvwACASQAVP+RAEABzP9e/2r/rv7c/k7///4x/1v/Tv7q/eP+df9d//D+pv6c/iz/Sv/X/lr+gf8dAe7/Of5Y/hgAfABCALEAEQCf/2UAtgA/AIUAewEkAPb+zgDPAa0AWQBfATwBpgCYAPD/1v7S/7UBLwG+/jz+tP99/5b+Gf+p/4b/ZP8IAHn/yv3w/vsAcQC0/mL/QAEMAWT/Hv+yABcBZwDQAOwAhAA4AWkB+/+8AGICrgDt/1oBcAGlAPUAEAFHACkA0QDMAIz/PAA8AfD/qP6J/1kAAADa/6P/qv+6//f/of/O/20AFwBk/9D//P+S//r/oAAuACz/jv/e/0YAgwEDADb+twDgAUD/Sf76AEgCewAJ/33/UAAfAAwAoACzAF//9P7F/xv/Kf/aADoANP0o/QEBRQJp/UD7GwEVA4L8CfvuAY0CW/yj/ZMBrP7o/M3/mwHO/yj/Mv+6/g0ArwG3AM3/LwFiAdf/3//SAckCigIwAfP/gwDaAukD9P/F/S4DrwM3/sv8fAD9AB7+hf8fAKX92P5ZAzgCHf2R/DMBOQP+/6X8uv1QA6kCwfy4+tX/vgX6Auf9qPlo/RUIxAaJ+Tb4swWBCSb9TveB/4YHCgVM/Ff6IAD7BKUB5fq9+6kErAUD/pj30v3GBYcDZ/xj+WgDhQXz/F/7aQArAif+ov6jAIX9xf4VAVP/of1IAcsB4f0fAXcDbf5e/cUAVAEkAggBZQBV/CP/9Qg5AcP58v37A0sF3/+t/SX8qQRdASz61QcsAUX0Zv6+DDQCCfTv/owHBf/t/EgBrfqn/y4J4AMJ+Mn1OAhIBt/6jPxsBfsFlvZ+/QwGZAAj/80DqgXw9nH5BRXUAXvn3gDTFgIEQvKk/r8E5f7wAMv73/4qDgQEGe3/9ooQ5A3s9FntGga7EUcEPeuY9eINVQnWASb2a/dnAqQIoQGf+YEBmf/I/NMA6AdU+ez1BQnmCMn+FfVSBWADsv5O/tT4oQzSBIX6KPcf/rgMJ/8w/yf7wgAEB9f3NPvTB+T/3fQuBwILOfyh7BX2nBGYDRYA4OkA+iEQcwTwAmfuPPnxDx0KBfmo8gAKJgKf9nP8MQ06DQ3ndu+UGn0j5eEkzqYXQS9PBSLU1+opGogZf/wS5WH3SAskGcEDK9xH7nQdzBvG6qHp+AW1C6L8Ofv6AVAFtgHi737+9wnjAtv58vtAB9f+yvw2+XMBkhHWAnLoC/StH08SoOUw7OoOQgz3Cyr8/+S9/WIaAQ8r5JzzZhOaFGTxL+ISDD4WyABg6ET/zw9i+Kf+pvx1+YQKmxJ95gfiNSBGIMromtulBlkU1w+Y+v7l+v6MDw8KDfqd8qX/ShPkCJXlQfaFFbMQffHM8M4BHRC2EZLvIeoQAVEgaBHb32XsPBegFCvsvPWwGmgBNuGa/jAnDv552lH9TiYJBM/YZvwjGSgUpuvy6RIC9A8tHHLqVNhRD2wvhf26y8YAIy1rBgveafLaEIoZyAmA5CfsWwvAHCcEy+Wh+B0Khg74/UTyHgMHBrcFLfrL85oCDxEhAontGgCQDmj66OlrDhcag+3O6VcFvgoiEl/8t+nZ+HMTDAwf8I77Ff4UDoUURfii4IfvuidNIXffueKICC4beQt17/buDPlZDIEbK/Ue434BAhz/CRfcofn8/jERsxrh5nnibQm1G4n3VuqVA1gU2v7L5qABGAo7ENABMeVU/BAGyv8KC60U1uqo6tQTDwPC9zUISQwMARThr/kwHeoDm/awCKQKYeI/1aQYVzxoDjPWPsiyCuM17xu6ygnLFDgzPkDcMbgl+DxIFyxJ1BnGQ//uNWkT1tNJ7lQnWw4Z37joEhViE4EI3/Ct8PoM2wbt/f768/+m+soIlAv377LuUhe+GvroC+ue/coLQBvr84/rWQVGAKT4hRECCwnm4/f/AfYEwxshBEHVfO1oJKIdlezS3OEEHBqOCnb7KOCd+B4kIQ2L6FjpOg0XDxoQLPlH3u35PhABJ4b2ktZWD64EjfjfBdoP6gOV41D1NgfdGcn8Q+ThEQ4IPOi5ArwNDhAH8LbrQQrcDu0FnOMnACccjwl0+lTXyuyAMxEfNOt+5bL5bhhAEGvf3vbgHhUgTOaJ1YMIkh2/ET3x8fCI8z8Q4B7h96bjLf9yCrcDkwJO9DT1KCToGH3Q1s3TM08siOZp2Wby5SwSIRnketfKCPsVlQWw8xH7I/6AG/kPz9W34TAhJxkk+ir2o/uM//3x2BWHI0LgGNPNBPUsAg/n2BPqdRnGO4XXOsN+/FAu0SPc55fu8fHq9LgELSVzEWrTw9mFHbgop/Gu7d/4zv0sHov5ZOWA/G8aHfmd/xYPoPhd5jDyDiL+EMH55f0G9STlCxnlFtD5fPx88E/umw8qNuDs0bw2Gtkq/gF/0qX9WRRY8QomiQTW0475eSTbCbHtVOud+HArlxTBwsjs5zcLNS/dI7Q0Bs82mQpj9VAG1/J19Sz8Ix7W/zDPnB5xExn4cAAJ59wCLQ2REsbxxvUZ7sPwlSNoL6QS45mv1hZQ+zMd0DzFiDVJGorshN3iAG4bKwGAG23aftlzEHsuPhD6zGz/HRp1BCrwc/oA5k0P+1VM387CigS/EmUdFP8e4ETcNjSSNCK3y92/PwQV68/MBBQCQOSkOVsAHdThF14ei+VO0voeOADFDX8t4Lu+zpkszUBl6uq+xvv8H8w+qfVfrz7aljUAWv37p6a4zU9GUkrOxOjSvSKqAQIDbypM1VK2gTu4PvHlx+C+/wsEJfd2Ih0IScSoB+Q0QAJstZr340x5D+HU8cvlEXo7uhLp2v3WNwXWGX4jtegn3fQOxAQmELXzs/zM/YAPZwc0ucQQTEOYBIzTYvUOCQz4wBog7/bssBmxGOz0gemwBRnD7w8Zcx4BzpdX01lI1kjF7MCPWQQFZaMCos9k50UOz/4WHykR4cpa60AMXidV/k3vewUz8/ApouvcpRAz2GTB78yzjuL2L9ggBtvh+aUh9gqi60b1/u5Q9j0ruhio54/efAAFE8YYrQMXv3v1ij5MBx/SXwcEMsXZQ8fPGDpG5vNt3WoIHvUfABz2JBXqHLj0tdtm5Us46xkK3yv5fCv04yOm9zg/Obz9jgKDA7LK+bBiMYZkkRgfvgW8FRKmKqYB2vU7EGwHPM8L6QI7oya12/PlMAteAz/lww48CAEhYh3RxV3ESg66SeAHz/vc9QHFtPNHOYQpxdxlzqIJThCYGkXsn+piJN4d789kwOkoSDVeBzj3t+pC1TAFZCYIE8QGMP1816nvjhbiHTkMJvwW0KnuyCCACA8VqwYr5u+6Xx1cQLf4uONi+sAZBQEJ0pnnzErQNGbBT9/g+in+Th1XOK8IzJDY8khNsyjs0rn09BK35q38wgwzD8MB4QBjAe3zAOmNAx8QEhOH/K3nUP9qGSHm6P5jJPfvBdVuG3onR9n1+5cjoeoA414P9gXgFH8LAeUh4gMiovjT9ZckMv5s0sf4FVV77zysTQ9VQNb1kMMmDD4hh/u69xTrEBM+EaLt9eXLFCEXE+YVAGAc1vHC2hoRNgtAEFf5JvayBr71HPoj/kAbLxMa4DDlmgziDXP46gPzCojzPvtdBMkAMACoCdb5vfQLBDgLi+tf+pEnUfFs4q0QYAXW9YkMfvte9j8JYPf28bcuPhLi0kPp0QGfG4AGyPafA60AgOcQ8bMhDwmE+OALr/rD6SD6zyBb/6TvQxFD+M/ZtAgUIrQB7f4z5N75UhyRBQrkvP8PIY70MvwBBw3yw/FeDEIYze1g7dwCvgx/AFT77Ayw+SToBhGIMTXkENoLH8UL7ObU8fAbjRRw7JTdh/23HvT7Zvy1E2/6Sdlp+g0oqgdx7I0UYgfozUn2fC31DH327vQa7CYN4ROT8Wj/WRha90bvugnDDqz4l/HNBjcQtvVW8PoHvRJJ/+bdXfP6KR0LvOMiBKkCdfJPBBkGZ/JhEkIPau/N7+L0TwYwHrMMCuqT64X7oxMFDz0DzvtJ6DX59xFZC4LsSPdKFfT+0fG+52kJbScPCp/l1eKeA1ULnhifBYLm2fDGFuP8vfE6G3MB5fTHAA8Couv7AJYgcgez7ifjuAbIHFT2h/TPDaEU3OGy3C0NPB4uCAD8AfCa6r4RVwXR9TkEwheK70jjoxD0CXD77wWd/Jj7mfnuAxoHO/JmC+4Zc/Kd2OEISCMBA9v6M+dT9Pwgm/6EAw8JDOw2/MYRHP5F+n8S7vv67coNkBHF4wEHviFp8onssBZqAk3fvyX6GbPiafxoBjcF2f1zBLr5ZgJJI2P2G9MBALo/fgP0y779hSbjBsLrdRHtC/z4JPIyBMUM4wISEGj3i/cxEBMMmvTY8TUWgw5m/yDyJfeiC5oJz/0u8HIElAlf/UXwqvgaDnb9VPkf+n8BngXN+MHyAvp0CcsAGfos9mT74ATU+/T78/oQ+roFCwDQ+NL/6fxA/w7+j/rnBV36D/qC/pj++AZk9/X1oAPK/iT3IQI4BjL4S/S6/H4DkgDA+yL+Lvdy+hwEz/hx+7ABkP6z+aD35wRj+e/8RAdK9M36HgLO/TL8RgBq+3wAdgWi85v+wATj/xgAI/5O+sL/HQ6U+UbzWgyUBsL2/vuABTsFc/wB/0wDpwBL/6f+rf8jCvb+7PWcATADGgcx/nL2MgKzAwQEJgGC8G0Dlw4N+4X5UwBcA4sDdgDA+7H+pAQnCOH8WfrnBykB7vhMBn8JB/pY/eoFdwLg+t8FkQSg/bQDyf7RAj7+6wHeB4b+Ev8s/7oBWQgZAN/9qP8V/2cH8AT0+QD+FAiUAI7/TQCF/fAHzwc99zf7SAPQBk8Gd/qrA0H+I/+NBJsBpgVCBcP7BvyRBVb/NP6w+0j9FPug+7YCEwVYAHz+yv8V/kT7MPiE+vz/Gv+W/j7/ePot+Qv5nAAK/xP9ef0Y/u39Y/yeAKz+yf+4/6r9Rftr+YX7Hv0PAt4BnPx4/LT+MAD6/27+Yfn0/aEFogT7AEb8Gv/r/hH8Sf5H/XgAPAgxBlf9qvXC9BH9rwb/BsABovpu+QD/9P2f/CkCsQerAwH98fcn+uIBPQm9B2T79PccAJwFGwfDBEUBqQTFBXkEMQOLAOYBmQV5AXT54PqlAukGggT6/k7/twGrA+8F4wR0ANr/UAJ9CJkHNv8OAUIGewj/A4X71PnVBL0NOAhp+0f4Dv70CHoJMQKe/lYBhATpAcv/HP1dAh8BBQDMAIz+bvve/eX9dffY+6cBkwAo/+0DMP9m+Bn5/PzXBN0FCv/m9if4Av2A+cb0xvPW+f3/IQMX+grzKvyDAj//mPWQ+qYANwJfAYT3qPJL9/79A/wj/LL9ZPyg+gD6O/8xAocAyQAqAEAARQLd/37+vQBWBuUIKwJk/dv8RgOtCaYLmQlOAwUEDAd3CsYKKgzgDFoJtwEYAmsSrBZtCtr/1QA7Cf8OyQ/4DGQJOQ57EPsIJQRBDfIXQhbrEDQKMgfYCHYMYw7KDvALZQWO//n9zAeQCt4AQ/04/B38Wvtt9oz4TftY+Hf16e1k7On1lvt095/sxOaB5mrobe8v7TPm7enA62nloebb66Lrru9e88ftMeit8Ef4EfN97uXtmenn6frxRvES7Grus/Jl8O305f48/sf7ugDoAnP+n/1ZAXYGbQgoAoP56/6bDHsRBAxrBqAGmA/0IZ8rOCfFGFMXrSeaM78xUyvyLAsx7zQOLwkqRCnsLJgtYydsJDoY0gwgE+MbdREjAfb7HP4H/HQEoAZ29v3uGPds/qH1y+0x6nrq5esW7Ezl7d4g3ofeC95i2gvad9ld3lnjwOIX4PbgmuJu4gDju+V4513mBeof6ZnrGOWb7oQBY/wtA28DSwFjAK3/8/4dA+IDFP/QAB//hQEY/hQC3QBDAVsC6P66/6L9AwFNAYL/CADkAZD/RP71/80AJP9U/9YC5v59/c7+M//jAWsAav9Q/ib/p//AAP4C1/67/1j/J/4EBXH/NP7rAqX/iABG/wL/Rf7aAIIDoQCJ/Ib+6f+9/kIBRgEi/pH8yQEc/vH8JAEn/1L+sAErAEz9SP4A/74B3QBGAE79df7UAEoATwDV/fP+Nf5C/50BUgHS/i7+FQBkACMA0AA4/93+mwF4/5X/+ADs/z//VwH1/4H+EQHwALb/of8nAY8AE/46ACUAj/8DATf/FQDm//kApP/i/gkCngBz/4YBGQIO/4IAegFW/4gAPAHpAFUAOf+QAG4AvACvAA//UQAqAFYAEP/I/owAHAB+/gn/qv8FAML/jP/p/17+GQAQAJX+0QBm/w7+zQAK/yv/7f8c/7z/3//Q/fv+twEf/Wf+ywEZ/SH+6gCV/qr/i//T/rL+Jf8O/98Amv8e//D/qP4AAK//1/70/nwCXf5w/l3/7v+KAI3+P/+k/o8ABAFj/xn/0/96/2QA4P6T/3n+Xv9e/pL++gB0/4//Hf/A/hX/MADc/yMASwDp/3v/qv+Q/qMBSQFv/pIA1QD1/xcBLAB4/2ICRgCF/k0CrgBf/7wB8/+y//AAGQCxAPgA+v6gAPMAwf7wABUBT//sAOD/KQHLAWj/UQCPAI//0gAYAN4AqADM/5EA5/4QASIAaQCGAYwAlv7YAOUBz/7kANUAmv8nAScAov/9AJr/JgA3AGwAuwFPABb/MwH0/+7+ygCwAfMAgv/0/y/+FgDZADr/RgFsALr+kv/v/sL/nQFCAC4A6f9e/7j/rAC9AE3/ngAlAIX/KgHNAAMAdADHAG3/SwBrAZYByAD5/0gA1P8OAHkBEwDj/2sBEv+O/5EAPQDgAOQAuP9w/zH+PgA4ATAAVv/q/hr/ewDBAHT+G/+r/XAAjP1M+UD6ov2DAqkDVwGT/Vn9RP/P++b30vqS/mwA7f0u/Af9xPr1+A/+m/+O/fv8Nf+2/jL8rP5u/4D/LP9S/xf8x/iB+sX8YgAFAlIAWfzM/AsBUAE6/ar5I/4OBDUGiwFh/LT9WP4w/5r+qPuNANoIvAZx/SH2PPSd/IUHJQnoATX5lPnQ/d39KP3sAQ4GXwW6/ob3E/r2ADEHbQdR/+z4uf1VBVQI0gUiA28E/QPgA/EETAL8ACMEAwOF+xb7hwKmCDQFW/4tAKsBiAVeBiEEQgI+AJQC0gaSBt4AKQEJBlEIvgPZ+gL7mwR4Cz8Jkv3Z9xH+4wevBm8CVgAHAXcFOQR8/+v7jP44AUUCfABk/rf6mfxu/yf7j/mV/iYAvAAqBQIBg/hf+P390wGXAxr/zvra+av6IPjm9G71HvxY/9T+pPvb9Zf88gJg/fz1QfyiAm8BeP5z+UbzwfU//l7/bP1l/Kj42/f1/OwCWAMO/0D/hf3f/x8EcQLu/K/+HQXSBogDif56/uMCRAjOB9IFwQT3BSMJcwl1B6oK0AyBCGkAGwPMEp8WQgl8/l4AYQd7DTsPfw32CmAOlBG6CgACZwoPGAYaMBP7CCAFXwdyDAUQbQ8WCyUGngFYAUQHJQicAkEC6ABv/Zj4SfTh+Y39Bvt295nwW+zn8oj5dfcQ75TnBOew6m7uHezX5GPmYekP5rLqUu5p6vHpqu4B8Ijtku+t8tjxUvHY7ybpQOdW7oHzvPFJ8FLuj+x09dMClQOe/I38q/9Q/ob96gGGB2QITAHy+kX9kwnUD5QMXQqaCHQPjR2/JpkmIR2UGSQmvDGzMBMqICpnMNIyPzBNLgAsZCpBKZQnfyWlG5wPdBFtGIoQAgIf/iD8zPrNBHEHFPgq7Yz2Pf+q9tLsheg86O3s/ewh5g/ebtuH2yzcONwm2tzZP93P4sbhkt6q3qnihuTD4XLi1eUS51LpPeuP6krkWeGg5jTtCvF578Dri+sv8M/ufe2z8NH12/dE+MP1wPGq8E/z7vZk+oD+LQE+A17/8fkq/HsI9BX2GwMbiR/CI+4mzy0sOSA/Kz8+R9BKcj8gNFYzPTM7M/As7yJQHIkZFxXwEAcNTgUlAdEKMhVeEAkIAggZCuMFRwI6AW8AVP3k+1v1a+dC3WHc7d3N3/be39vu2IjYj9zG38Pllesb7LHpe+vS63zovejS61nsnupR6Orm4uUZ7BLyPvDW7NDqwO6c85f2tfNH67zlVeie7BLttutD6tzqKu6g7oTqlufL7oD9VQoMDdEE1fk0+QoGOROyHEYhAyOKItQkrCjDL2U5ZECQRhRL1UocP68tDCv4M4EvViGoG94ZkBB2CAkF1f1u+J8EiRGeDf4FiQcyCxsJxAU5/Qb1Lva9+NPwFeTO2gfShNHJ2ujem9w+3r7lxubZ5GHrvPMZ9gD3BPqO+L7w++p+7FLu4+2i7QbwnfAz8cj4cf6z+Xr0xvphAZH9+PUc8oXwQe/R7p/r++bX5kfrD+x552Tm/u2p+yYEjf+A96f3f/ug/aQDXA5bF6AhlCwVLA4kSygUPQRPv1ILV6xcC007Lx8gCSXtJ3ceLRX9DaEGlwN5AyX+J/gtALcSHh6iHa8X5hDxCpgDafz7+mP8WfOE4sTWM86qxRvFU9B32c/bEeBL51DsCu7q8BP3c/0RAjgCi/pX8dbnIOE84hbloufQ6kbttO2u7nH0Bf5HBFIE/v+2/eX+8vix7Yzn2eZ141feQty/2OvVyNpC5trvE/Qo+KT8qv5b/hf9g/xb/nEC6AUECnENdxL7Hpwpei0TN/5GwlLBYaxtSVwQMmEZNiQ7K/obJg4HCBH9IfW7+BH3NvTxAWIVuB4nHuUYchOfDyULowFx9nbzbvP85mPSb8PcuxW9R8lo2AzfLeBs5SLuwfRZ99b6TgBTAgEBzv3i9ajqWuHK3VrhxOb06eLtp/Gw84v1vPgJAGEIWwtkBn79TPVb7WLmxuF23/rd0d4T5HLm0t9w3Ezpn/zKA2sBfAS7CCcITATQ/gL8Gv3/BmoV3xm2F6Qf5y9dPJZIrFaBZYp0KHaNWlYuSBdPHXci6hhzDO0Axva78wH2kvU+94cIrx4fKQgopyBPGLIRAAk4/Cn0EfP88PXn6tQsvJ+wPr1d0TTdk+TM7WT15/og/6j+WP2CAYoHlQeAABP08uYe4LjdL9rJ2s/lAPKu9ZL3y/iz92f6+gCxBTgGpgQ//nXwF+Mz3Traztnn31Dm2eR33YnZat8e6x/59wmyE6MQigiDAYT4hO++8c/8UgaACXIKlhB3IAE04kKMT49cj2rcd1h3fVbCJboOBRPyEGoDUv7H/O/x+esy86v3lPrxC1slNzQVMrMl3heUDW0DR/Rz6MfnhOgF4BnS/sQKu2u7Dszx4bfu6fTG/R0FRgR2/+r9TQClAQgBPv3s8i7mgN7V3WHfBuL06LfzKf0qAacAtf4j/Vb9PAITCIAGwPjI5d7Zxdjg2kjZutfA3Z7oR+266mrp+O0h9zQA6gWPBlcAaPqp+kP4bO775oru5ATOGJcgmiRXLdE7ZExPWE5iz3FTeoVkjDZTErEK/gymAq/0IPKi9Eb1Pvk9/3QCzQgvGBEqNTLBLX4kXRjKBXPxfOQ8367bDNWV0BDRTM5Mx0LJq9dg55z1OwMcC0YJzwOvAfoA4fzQ9kLzbPDZ62zmC+M3423lteo99Pf9EgIqAlMBGv9s+w/4C/Zj9mj1a+yB3sDWkdea2O7XLdza5XfsK+336/vrxu9s+cEECwmdAdDzAemM5+XsH/IF9hT67f9SCtAXYiSaMUVDl1VPYyZve3v/f0Ns4z4JEHz7ggBXBVX8UPJ19Kv4Gvig/HQG2A+5GygtgDllN/8q6hlVBA3tJN1e1m3TMNIY0T/Pv9BX147dH+GO6P32YAWeDq8S3A5vBjb/BPus9U/tEehH52Lox+kt6snp+Oyu9OL63/4oBBAH0AQcAab8PfSu6nznn+dh5NHfytwn2YzU0NZZ4VjqiO2O70TypvK28EnyCfiR+jX3u/M08cLs7+uw75nwNvEp/fwPxh2PKeE4CUZpTQhWWWB5aqF3RnqSVkoblf2XAqMCRfMJ7Yb03vojAq0LfwtdBqESCCx3OFIzRCqcIIERZP1z6InX79BB1MfWGNbR1xDc3eHa6UbwhfIF+JwGQROREbUIZgQPAlX6KPAc6qDo6uiD6jjuefF58ZfwgPPq94L6yv0AAXL+ffXt7J/oCuY04jze1Nw03ujfB9612gXdwOKW48jhUOQL6tXtWO+I8rX0qfKz7+fsR+n15+bvWPtG//7+wAONDyYb5iN5LPw1o0MFVlZi/mDqX4Rn/F5xNXIIRfl8/2EBtP0K/W38pf3GB3ETfxLeDmcZdSqEMd8r+x+tERMCx/A64nnb+dkV29zexOPb53zq5e+o+df9xPylAfMLchL7EGwKzwLR+7T0k+/o7fzrBOkx6hTwAvQv8gLxM/bU+sL5o/j8+Vz3AfDG6fjk699y3MnaYNkc2bLaaNvF2eDZN97W5BzqZuxF63/pkO2o9lr8avh/8Kbs8u0i8kj4z/4KAWYACwXgD9QZdCWzN05K5VS5WKNarVuzX0Riv0uIGMjySfQFAL74KuvX63/1Pf4fB48OcRF9GfUq/TbXM9copxxNDdz5v+V81T7O49CC1nnaD9+P5hrwl/pLBGsKbAzgDrwToRWeEPwFzfm574Tp2+b25tbnRei76yb0B/tt/LD9aAEtA8P+ufgy9Pvttubf4FvaRNNH0rbWE9i91njZ8t7j4gbmduuH8EHw/O7/7wDu9usx8+H9Gv+G+O/0EfIc7F3s4/ST+nH9FAuwH74qly8BOn5F3EzeUuNXyl1oadFr1EiuDrLucPHP8hjpnunf9cgABQ3sGlMc8hVuHGEtXzRgMTsu7SMADtH10+Fh0gzM89CE2uLjjO1Z9cH5WgBmCqQOngpnCRsQuRVYEKwBr/I+6ZnlmORe43niJ+bo79X50Ptr+LX3APqE+/D5BfQl65jjxN5m2dnRssxQz6nXHN9t4mjiweKY58HtIO8m7VDs8+1k75/tnuqE663vU/BX7K7q/u7V8xz3if1KB+YPXBZgHpootTF4OEE+F0U2TG5PflLQWXpVNjRqB/LvFfAy8knwN/Qb/8YL3xccHSQYaxW0HnIp5Sk8JHUfAhh+B2/xD9461GbVt9vi4iDrhfQM/DwC5QekClELFA29DrYMQAgzAiH5je4y6H/nsudn5mnnge0J9jL8WPxn+qf7a/0d++D1ee/L5x7hXtyh1nrPVs3i1KPfe+T64+PlR+2M85/ywO1a6tHopOc16HXpbeiB6Y3w1/j++avy3uqI6732iAJrBdAGRhIgImEqjyybMt0+Okz3UgJR91I1XmNaZTEj/fvmV+2c8wfyTvW/AWcSxCBVItEYlhYcIoUsvytKJ0kjrhlICKDy2t6I1LLVkdxM5IHuhvrtAk8H7grCDE4Mzg1bD0kLtQMN/tf30+3W5C7iAOOl41Pneu/F+R8BXQP/AvgBqP9E+nHzmO0W50fgztvD14/Ru8yD0Mnbx+Ua6RDqee7987Pz0uy25qDmqerB61DnBeOb57jz2Poj9kjvb/HV9/H6Avv7+kf9XgZFFakiGiuuL50zOzmwQYlIxkmRTENQF0MDIdcCjvdR8Srptutt+ygLchX2HfojnSR7I2Ii2CDRICQhgRrJCgz7Q+/M5PbaJtbT2tzn/fTx+oP+IAdeEEkRIQzrCGYGMf/L9yv1D/Rc7yfp3uUe5grptuwu8Nb0NfwNA84F9gIK/XP4XfTf7N3hUtpr2s7bq9eN0tTVi+Dg6I3qgurc7fbxj/JN7xvr6OiN53Lm8OaT6JDqke288IDyePO89GD0svQi/D8I5w4wD1kUKSKLLWgvky9ENmxAh0a3R/NKa01gPsYdRANb/KL7hfd4+CQEThPmHRkjMyM+IkMlqiedI1ofWx/sGlcMQPr26/bj2OCo30vice0P/CEDfwWTDJgTSRAbCCwGmwXO/u32NvID7ojq+eji5rLl0elN8Xb3pPtB/3YBOwEX/7H5SvKl7OPnYOHf2xDaHdlf14XX8tuX4i7pfe608Bnxk/KR82jv++b+4WfjNeXs4hzgY+JF6gbyefLx7ObquvIsADwHVgZuBkYOYxxkKLorJCjZKUo0dj0ZQLZDx0zSS9syThF3AJP/ufza9Vr4twgSGschpyKKIvkivCFDHV8YghgGG8UVKgXn8mHouuPv3TfaTuEj8Uz+IgSkBsMJQQxoCn4HnwZMA3T5avBx7zjyJ/AN6kLosO3z9bL7cv7c//ACsgZqBSn/5PiH8+3rf+Of3VDbZ9qi2Q/a+9y14qjpd+4q8Gbw4O5i7PbqMer65eLex9rB3GXgX+E94ybrk/X3+0T73/Z29bH4q/3PAWMHsQ8JGSUh0Cc3Lzg2GDrkPApBn0fTT0BNpTUIFzwGswPA/wj5D/oMBMwQ/RzrJMUich2lHyMkRyA9GOATjA9kBh/6vOze4X/exuJG6VHul/QR/VUF/ws6DkIL5QjHCW0GDPuo8PzuhPDD7RzqOeul79/0gvqt/1ACVAOlA4kBsP3/+Rv1f+y84wHeUtvn2A/W+NV92zLlxO3e8FPvXu3665frGes457/ey9cU2KLczt8a4QXlzexS9ZH5F/gZ9sf6bgSqB38C2wAXChEXvhx4HMkhVi+1PBVBw0BRSVZYRFaYNzkUQwaoBS7/Y/gy/soKbBLgFVMa+x27HtAdnRwcHTghfyLrGFsKdv458XLhD9lE3sPp1/B38z34+gElCskJ3QNBA8kJAAvQAUf4mfYi92DypOqF6CDtzvIZ9s/4bv26AOX/3vs495Xy3+6o7HDpQuVr4pff19mE1lrbm+M+6F7pEOp160fulvFs8JfoFeIZ40DmtOTb4Bfhhuf78Ef3xfdQ9qP18fX690D9JAT7CcMP7hZNH54mbyzgMTM3mTyzQdlIlVHHTaAyYBBjAEQAwPzF9b75jQnTGIQghSGbHlQdYh8GHyob6BkuGvcSZwV3+QzwCedm4QrjGOpx8tb5XgC7BucLbQxaCCwHawrsB8H7d/Cn7lzyM/MY7+LqwusM8hf6if4q/jX9o/3s/XT8H/i18DjqmOe95WXgA9lc1YXXqt2g5a/tA/Ml87ruoekH6KHnVOP23ELcqeG15EPkDuUR6WvuaPHj8aTz//fQ+y/94/52BEULzg5JEHEViR56Jjks9DGiNQg23TkERg9NJzzBHM8K0QoACqEAMfjy+mEJcRkLHk4akhwoJd8j4xfOEpYVpxJuCJj/V/dM7lbol+Qy4xro6fDx9YT6OQbUD9oM7gZ+CEAJ2/8I8x/tV+8W9E30AO8m7WrzAfkU+Ar2JPkq/Qn9dPmv9XryT+6m6IriUt+J3u/c+tsY4IDmrOuI7xTyRvGk7Vjq4Ogi57Pj3eD04N7izOTS5VTmdOoS8cz1K/eN+TH/VANmAyQDDQeWDW0RMBELEiEZWyRTLMMxSjptQvpG6UsMS0o1oBNnApMEuAOH+/b7mQcXE+Eb5yDJHCoXqhmwHB4ZiBc6GtYUTwVH+ub20PAy6Fjm8Osv8z/6UwDzBPcIYAu5Ce8GXQYzBLf8fvQe8rfzvvLc7gbtcu9O9L/3Avk1+nb7t/q19zL1ZfRn8t7saOaP4hzhd99k3QjeN+M86qvu5u9p72TuPu1f7JbqfOY54pnfZt6C3dHe8eOZ63rzVPmp+7f6y/lQ+hX6gvib+ToAgwh5DswUzx5fKFAsYC7sMgE3LzyFR+pOij4GHdgHlQYOBd76Ofc1ASUQfRsBIf4gbiABI3Qi6xoUFvIYXhgWDTsBoftO9RXsROc+6vbvLfWA/B8Gdw26DqkLJgkYCRMIDADg8zft0e+R8tLvyewT79Xz/PRY9Jr2wPqX/KL73vn398fzY+yg5G3gpN6y3PLaVdsU3zzkm+h/7MLuFO6m6xTske4M7bnm/t/33Svf3d/h37bhQul/9ef8KPx/++P93Py39y/1C/ei+2UFJRT9IC8oCC7mM4M2IjZSNRM4hEG1SFA65hvbCg4MmgZY9nfxJv2gCuwT7h2XJFolhSTcIDUZbhV5Fq8Q0AN4/c79OPfA6wvoDexD74vwg/VZ/y4KuA/6DWAL4Qx2DJMCE/YC8dLygPMF8UPvSPGP9Cv2t/ZM+LP7KP0d/bP8PftB93rwteme5A3h5N733DvctN5o5GXriO9N7Znnd+a36lrsDOgz4wDjv+Tc4lLe09x44nzq4u448d71/vt+/tX9gf6/AK4DgAe1CyoP1RM+HFUmJi+HNJ82GTm8Qs9NUUU2JuwLNAlbDhoGa/iz+J0FpBEDF+kYzxowHiogHR1tGXAaJhrgEQQHMQD6+YXwgOgM5wLqb+5V9fv8KwOdCFcMLA3KDBwMggniAyH9//eY9W306vLP8FXwBfP+9pf5lPrt+0n9mP59/jn7B/YZ8WPsTOfx4c/c6Nnd2hLeEeFd5IDpxu8v8yLxWuui5c3jOOS14PXactoH4Qbp8e2O8C/xCvFn8S7yyPPR9gX8VwKACboPoBJqEygWIRsBIeEp1zLHNqs6R0eVUr9HbCcDDK0ESgRG/TD1nfhQB9cURRjlFwIdpyJlHuEVKha3G2AZ0w08BHz/s/n28DToveTY6O7vifSI+SQDXwvGDCcMAQ5UDjoJuwMBASv9/vZu8SDule2U8Mb0Fvgg/MsAcgJdAbMAIP+o+cHyk++s7uLqOuRw36ndxdzK2sTZgN5Z51fuAvF38RHwI+wg6PnlROMf3tPZ+9q24Rrotumj6LfrXPTh+vD6wfsCA3IKEAubB70I9A75E+UWdhwLJ6QxozZFOLw+LEkXRy8v1BMTC/0NEAie+or4mgTWENsWehnXGpsc+x1sG6cWQhbGF2QRAgaNAJ7+I/Ya6y/oEexZ74XyYfia/j0E5QgEDBkNfwydCSsF5AMIBQoB2/VU7YbtvPAi8ZPxk/VJ/KEClAUmBCkAtvuI9o3xeu0a6l3l2N9E3aPdttzf2Z3a/uAT6hLx3PIT8FPsOunP5YziRN+72mbXQNs+5ezrAusj6vvuG/UY+BH5Mfrr/GECKQh+C1UPFBQBF8YZdyGQLEAyWTK5Nu9EEE+fQpIl0RDlDUMLwP379V8AeQ6KEh4UwxsAIjEgnRowGMIa0R2IGVcN1QTXA+D/HPRE677rPu767qTyXvopAbAE5AdVDD8P2A07CHIEOwatBlP+5PGk6+vs7+4576XwtPSf+nMAsgOVApL+2/mX9WfyRO8/6oLjW9814P3gG90s2BTZVOA26fbuz+5H6+Hp1OtE7QDqQ+MF3nbdleHK5Z3mbOaN6c/vvfTp9hv57vxcATMGUAqsDDsOThMyHZcnmS3BLiIw8TSqPylJFkKFKAESfg1lDEoBcveU/DAJzhJOGyMiTyF1HWAeVx/oG1oYBhUpDpQHNAVRAJv0Eut86rvtcvBH9I757/40BncNWA9DDfQLyQpJB/YDJQIl/xr7Dvjw9ODvjOwo7Szwq/Rx+kUA0wMlBu8GDATj/Oj0/e6o6Uzkbd9K3APbudp32qPaot2a46Dq6e9C8mrxl+4G7P7qcekf43Ha0taQ2kDgYuP75VzsZPVf+7P8eP3kABAF5wZQBw4K+A9dFQQarCF+K8UxdTI0NbY+qUSFOZUheA/DCmYJPgLT+yb/AgqEEygZrB4rI60ivh3jGZMZzhgGE40KhQUpBJAAtfgD8YTu+u+x8c3zsfei/UYEdQp1DisP9wzrCDQE9v9Y/Xv7Dvgh8kvtuezQ7pfwg/HO86D4cP72AgEEwAHe/Wb5S/R47r3o7OID3qbbU9s320rbpNwD4CDmVu0q8Q7wqe2f7mvwW+2j5rfgtN514GzjiuSB5ZrqgvLl90r5NPso/xQD7AZOCkQLdAwVElsaGyGaJ7QuPjNUN80/R0YYPEQlRhS4DSsH7vzd9pL5bANlEGAbXiC0IY0jOCMkH4Ua7hXSDx4K0whHCPkCF/ub9GjxufGb84vz7/Ky92YBFQm3DNwO4g6fCyMJ8AgQBaz9q/op/U/9uPfd8H3tQu5j8YP0GPfo+moALQSSBFQDY//F923vNeq15Xffc9n51mfYn9pO3Jjdt+HH6cDwxvEG74jtne0g7EboTORA4cDeSN3o3uPjU+kV7LLtzfGp+PP+0QLHBa4Jbw45E9YWIxl3Gy0eZSNzKoExuziyP59ANzXPI7UXmRBuBgH8qfpVAlIMNxYRHykkhCVuJagiVxxSF/QTyQ69CcUIoAf2AYT8jfp7+OrzLPFJ8rP1GfwOBGgJigtIDecNCAvYBusCQf5B+gj55Par8f/toe4i8HDwYPLk9Qv5h/sg/ov+7vwm+8P3e/IQ7d7oZuMb3SzZCtf01ObUvthh3hLk3Ol+7jfwnvB08AvuLenZ5NPiP+HG3y7hL+Vp6M/qE+148Av2ofyNARAEFAhOD+IUqBbsGIUeRCUaKjIuWzNLOqRA0z5nMfYgiBfyENoFCfze+pkABgjUEB4akx9rIX4i3SFiHmsaDBVxDWcIvweuBf/+Nfkf+FH3uPTK85b0Lvb3+S7/zgOZBxELNQzICpAJfQimBID/pvzU+evztO5e7mfw9fGf80b2b/km/WoA6ADh/hT85Pjt9PLv/+pM5fXe1Nr42BrYYtgm22/gv+bx7IPxIvOA8eXuDOwv6H7jWt9s3Y7dTODt4yLnP+vn8ID2t/oO/kIBwAJBA9cFFQnfC10QlxdzH6klCiuxMPM2Nj4/Qb045ShfHt8ZehG/BOn9twBtBi8MmBLTF3wbhh48IMQeexzAGXcUsg7lDAcMvwWW/Rb6C/ra91/0D/OJ9Oz3S/wkAEkDPAfwCa4J+Ah+CE0GjQLp/3b9JfeI76rsNO2Y7R/uePAo9Ub7ZgDTAS0AVP6i+1P2d/AE7DbneuDN2ybbMdui2vvbIeBv5RjqYO0773fve+767J/qMejf5UnjCeJb43bmbOig6P7pUe568rT0mPci/bsCMwZ1CoIQPhZpGsQdAyFlJD4opyvqL5o3LD67ORos8CHEHi4Y3wuJA60CRgXTCN0O8RRyGYYdGCBAIPIfZh7OFyEPIAs9CdECdfux+df7Tvxy+1/7FfsQ/IX+KwDTABkCzgPeAy0EbgYTB0wEcgBm/Br3AvJZ77btdOzn7crxcPUH+TX8lP0//Xf86/le83Xsfujs5ErfZNrM2O3YiNkD3GLgI+XW6OnqKux97XXuhe2T6g7oPOfl5Tzjj+FT4rbkUudw6nLvK/VW+kX/wwPqBhsIoAk5DPkOxBFoFb8afiHzKB0vNDTaOQk+7TpRMdco5yIhGvUOfgdzBAcDBARICTMPnhMGGD0cNB4zHmYdvxj0EJsLdghsA+v9IPzm/IT8UfwN/l3+BfwE+8D7Dfw2/Lz8x/1c/1kC7wRwBBcC3f8d/Zr5hvac813wie4n8LLyaPQG9tL3Z/kw+rX5Qfcc86nuIesM5wXjQ+Cr3rLeHeCg4ijlFOc76NHoO+mN6a3phOlJ6Srp2eiu6NzoaOkx6oDrV+2d7xDz5Pbx+oT+qgHJBA8I0gsPD5wRphQ/GbMe+COYKFUtTDIlN4k4bzRKLmMotCGRGPQPtAr2BoIEygUmCocO3BHJFQcanBySHEkZ8hMQD08LZwZgAE78j/qU+ZL55Po8/Db8bfyb/e/9ef3M/Nz7Vvtr/E/+V/53/O77V/wf+5P47PUF9FjyyvFn8ofyjfJT8zf1m/YU91T2gvP47wvt4+ps5w7jE+AU31jfleCw4kPkiuWo5yPqpuuj683qEOpS6cboB+jM5ovmPejT6sbtjfH39bf5n/xZAEwEwQa/B4QJrAzvD/gS9hbaG/MgHybHKtMuTDOhN403+TIMLv8q3iV1HVwWHRKcDnkLxgvADS4PkBEjFZMXjBg3GQ8YMBQ9EJ4NVwlkA9P/tv79/Hb7rPvw+1r7i/vY/An91/sC+6H6jvrg+qr6I/kV+OP46/gg9zX2nfYF9jj0DvP+8m/y5fEw8kbyt/Ef8WLwrO7g7FDrLulh5pDkv+Pp4kLi0+Lu49zkcOYH6GPp1Ok96hDqr+g757Lm2+ZE55HoqOpq7cnwNPUN+T38If/4ARsEYAUdB68ITQqpDGQQgBScGDodbiJ2J6osEDK6NL8z8DBKLkAqmyPzG6YV1xBUDfgL6gvCDLsOGxIGFdYWxhfCFw4WURO7EOoMtgcGA+//yP0s/CP73fqP+nD7J/0s/iz+//3K/X/8pvof+bj3yPVV9Mfz6fMc9I30FPV49Tr2+fbV9q31ZvQ088Dx4O9A7o3szOqJ6Qbpt+j75/XnWuh96XLq0Orm6nTqO+rl6Qzpyufz5m3mOOYs5u/mMeg06mbtuPB880j2nPmH/MD+FQAaAfkBLwPEBI4G6gj8C/AP0xM2GJ8dgSLaJikrGS/RMNsvVC1FKlwm7yApGykWaBISEFoPUg/gD84QHBKCE3QUsRQyFJYSYxA2DhALlwdCBG8BFf8f/QX8e/tW+9372vyX/QL+3P3A/Bb7pvmO+Jr2Y/Qf82vyEvJx8lPzDfTK9Bz2qPYU9mD1UvQT83zxpu/L7frrveqS6njqKOox6sDqNuu76/Tr9uuI65PqRurN6WXpSenA6fnpneqA68bsbO7x7wnyo/N+9Xb3fflr+0X96/6JAL4CWQXkB4AKdw2HEOITVBc2G/4ejiKCJUsoRitrLHsr0ikQKIEluiGbHVgaORc0FAQSXRCADyYPQw/kD5AQSBEaEWwQcA/VDYML0wfABAACL/9a/Dj6J/l4+HD4M/mi+TL57fiN+Db4KvfN9WT0G/M18sPxxfAS8J7wJ/Hf8ZvyEPMp8xDzm/LW8Yzwr+7h7JLrZepp6RzpN+lt6brq8usD7Tnu/+5h73PvLu9R7obtmuzc63Hrp+sT7NTsPu5J8OTy+vRO91H63fwd/3AB2QM3BVgG7QePCUALFQ1VD90RaxVvGW0dbyCoI3Mn7SmeKggqySgYJ0AkkCAcHXkZshV5EmUQSQ+YDgUOMw7YDpAPCBCID6gOZw1FC7QInAWsAun/O/1K+7f5/Piv+Cz5//km+hv61vmK+bj4NPeo9Xv07PJl8ZvwfvCD8MvwlfGW8mnz2fMh9Ar0kPOC8ufw6u5h7a7rhuoR6iLqbuqH6yntau7E77PwaPFd8Ubxi/Bv70PuG+0l7JnrcuvT6wLtru4v8fnzqfau+Wn8kP7VAKQC6gPnBDkGXwe2CEwKVAzADmMRkRTsF1wb4x4OIqokGidVKIco1ye8Jsgk3yG9HksbCRgmFfwSJBFxD3UOIw5UDlwOcQ5YDr8NtwwzC2EJAQdzBBMCcv/w/G77Tvo1+Yv4PPj29633a/f19lb2tfWx9JnzPfI48Xrw0O+z787v2e8G8IbwA/FS8XHxevEN8Vjwge+67ujtI+3Q7JnsfuzK7HLtOO7O7q7vPPAn8BPwOfDz7x7vYu6X7Qntguzh7MLtKe9F8YPzAPZ0+C774P0QAJ8BIgOFBJcFjAbzB7AJVwtaDRgQWRPVFncaFh5iIYEk0yYIKEwozierJq0kByIRHx8c2Bg5Fi8URxKWELcPhw9VDygPEg8fD1UOMQ21C6gJjgcSBZgCKgDN/d37ffo2+ZP4H/ho92X3Lfev9vn1OPVd9AXzw/HK8PLvVO+57pruqu7j7p3vEPBN8EPwCfDX70jvl+6n7a7sUuz869Pr+etx7Pvspu1l7j/v6+858JTwwvB08CTw+e+E71vvdu/+79jwS/Iw9BL2MPiu+jL9fv97AUoDKgXJBlYIBgq1C1MNRQ9YEZoTThbgGHEbUx42IfgjyCXbJsUnHijoJv0k6CIKIPIc4xn0FucTchF4DwoODw1wDDYMBwzTC0ULkgqFCeAHAgbxA5ABZP8f/eT6Q/kc+En3WfbR9aj1fvX69Ir0bPTK8wvzgPIG8kjxbvDx75DvMO8C773umO6r7rrufe5S7gnuxu1q7SXtC+3m7PzsCO1P7XftlO2u7RzuUu547pruo+6p7hDvTO82777vf/By8Xry1/OI9Vv37vjI+qj8VP4kAMYBgANnBSEHNQleC9INNhDREucVAhlAHDwfbCIQJbImwCdlKCAo4ybbJFgipR+5HHUZnBYSFOMREhDFDioO5Q28DVgNCw24DPgLjAoSCS4HNgXnArYAnf5x/Cb7Evpc+br4zvdZ9xT3afah9en0AfTp8vPx3fD270zvxu6p7qHuze787gPvDe/07mPuqe2x7HfrmerU6QfpRegz6HnoLuke6iLrOuxL7TPuye5J73/vWO8m7w3vre7T7pjvbfBm8fPyAPVl98r5V/zI/gkBgQNrBU8HHgmHCvwLvA3hDygS3hTPF+8aqh6TIuQljyg0KjcrWitcKiUoSCXhIQIeJRolFtMSDRAwDvkMjwyBDKAMFA13DYcN6AyzCwMKpAcjBX8CCACf/ab7TPqT+Zn5vvnz+Rf6mfqO+hb6Hfnu9z32SvRx8sfwZe8w7srtzO0m7snucu9Q8M3wBPGS8JPvZO7u7F/rQ+nW58nmhubP5m/ns+gy6hHs1O0U7xPwwPDk8GPwoO/y7grukO2m7VXule+P8fzz3/ZK+pT9mwCNA/YFFgj1CegLIw4pEKwS2BVzGXUdzCGmJiYrPi5XMLUxhDGcL1ssUyhlI9Mdfxi9E7UPOgxfCk0JHwmeCQoK0wo7CxMLLQpGCO8FWwNPAG79HPs/+cf3gvc3+D/5bfrY+/78ef1+/bv8P/vc+DH21vMq8Qrvw+2x7GPsNu1R7mXvf/CT8RzyzPEa8bHvle0460HpZuf15UrlMuXy5XrnWulL6y7tku60703wSPDq76PuU+1U7H/rQeu76/7s++7j8fT0TPjP+wb/AwJyBC0GrQddCd0KaQyzDt4RcBXuGT8f1iSDKg8vNDJrNBQ14DOmMBMsJSctIe0aXBXlEHkNsAqPCcEJNgqyCmEL5gtdC8AJkAfRBKsBm/63+4/5YvgI+Jr4KvpH/KT+ngAdAsoCDQKVAI/+0PtW+BT1vfIK8eDvxu9J8ELxl/LK85v0ufQ29Ojy3vBd7szrUek759flM+WQ5Z7mPegt6qDrDu1R7rnuYe537Tjsxepr6YboKug66PDoquqk7DLv//HI9Hr32Pk7/An+Vv+wAKgCxQR8B/EKZg+jFDwaKCDiJZgrsjB4NBs2BzboNAYypy2sKLMjeB6aGccVThN/EdoPNg/rDjkOKA3NC5sJ8wbPA4MAqP39+kT5jvhQ+E75AvuU/FD+9f8cAVkBFQE6AE3+4/u0+dL32vWS9B30O/Rr9O/03fXn9cX1bfWE9NHy0fD57u/sROs06jjpm+jc6FLp9umO6kPrzuuv64brQOvI6gvqqulU6R/piOkh6rPqeeuw7MXtxu7p72Lx0PJJ9PX18vfn+XL8Vv8pApAFJAkFDTwRqRUoGsIeYCPnJ1csoC94MTgyuTFvMK4tqildJRshnxxxGA8VZBJJEL4Odg01DMsKMAlPB/UEkgI5AMT9lftT+o/5kPlD+p37Df1+/u//NAHLAZoBKQEuAIP+uPxe+w76/vhr+Bv4/vcA+AL47Pcy91/2FfVM84Xx7e9i7vTswOvd6oHqMeou6kTqRupL6kHqDeqY6XLpnumk6ePpCOqU6gbrWuu86/Hr5evj61Ps4uy57fvu/vD58q312fgh/Ff/dwKjBbQIqwvZDmwSNBbdGsIfdiSKKXkuSTIENMUzAzOoMHssdSfoIkkekBkRFpgT3hGQEK0PcA76DDYLIAkoBtMCRgDt/cv7y/r6+pD7Wvyp/QP/3/9LAIkAJAD4/hf+G/3F+7v6hvp0+gn62/nt+br5uPhi9x/2e/Sr8jDx0e+07gfuzO1R7SLtSO3R7AnsAOv96a/ogecd5/zm/+aN52ToOun+6dXqE+sv6/fqfeoQ6pTp2emF6qbrJu1a79PxnPQ/9wj6w/zo/kcB2gO0BhQK6w1+EqwXuhwwItUnFy1dMZozgjNnMlwwhi09KYUk9yDzHT0bshipFrgUMBI1D3cMXwnpBWgClv+u/eH8pvyy/Dj9EP6m/rT+lv4t/kH9Vfw1/H78WP0K/nL+qv4r/3r/7P6o/Xv8YfsJ+sz47vcN9zj2z/WR9Tz1QPQ88/3xpPBD7wvugOw+6yTqR+nj6MToLels6avpv+nr6evpjOk16bLofOgH6aPpBOoa6mLqveoM6w/ssu2k7xTyJvWY+Pn7RP8pAtEEtQdMCw0P4BKnFz0dWSMUKVMuGzPBNV41mjN2MUUuDioZJtMiQiA6HtkbNxk2FpASmw6uCi8HKwSPAZf/xf7q/g3/2/65/iX+Uf1Z/HH7Jfsl+6n7lfwA/iv/1v+6/+/+of1H/JH76/pA+sv54vkS+qD5xPjX90/2xvSH83vymPGT8BPwce+v7grusOwT65DppOhs6PXo7elf6k3qPOo66lHqlOkc6DznZeed6KXpF+ol6prqMOvI68zsE+7D7yTylvU8+Yv88/92Aw8HwAqDDnISzhYPHHQh2CYtLL4xgzTbMscvzS0kLIko3ST8IrQhJB8xHCMZTBV8EEgL+waqBO0DIQO3AfUAPgHjAD3/f/17/Fj7Zfrd+mL8nv3j/ZD+9P/2ABsB3/8e/mr8APxB/Bj8VftN+sf5TvnI+E/3iPW+8/DyBPM48xzzKvLf8Bnv5+3s7Orrfepk6SvpHurC69zsbewL6xLq5ekr6izq7Okg6Zbp0eqD61zrq+pB6p3qDOyn7jvxT/Np9S34QPsj/t4AGwOUBWkJow58E+gXqhykIb8l3ymMLlMxwi+0LJgr8irnKCwm9yNqIUse6hsxGdsUghDNDP0JVQg8CGcHvASHAhECTwHO/wX/7/6h/kj+lv+eACoAW/9S/2f/BADuAEUBBQDr/VT9S/1d/K76i/m/+Hr4wPjS+GD3CvWQ86byBfKh8a3wFu+p7QDtmuyi6w/qTOg455LnVOk+60Xrr+l+6BHoOOhf6GHoweeb56zoOerx6SHoU+fD53Xp8utk74PyvvS29tP4BPvf/MT+CgIQBhkL4BB4FRYYeBoeHiciiSfbLHwvZy3FKdgoBymSJ60kMiJVIH0eFR3eGmMWNBFjDb4LYguSC2oKhQdZBAsD7gK0AYIAagAUAZcBVAKNAuEAzv46/nj/SwHHAiACIf+j/Cr8s/y9+975qPhZ+GX4O/hO9//00vFs8CHxcPIg87Lxi+/t7dTt0+187LTqDuqi6hfsxO0I7izsWemU6M/pWevm61jrpOo/6yzszOvf6YfnFOef6CTsdvAr87LzcfMI9GT2Wvmn+2H+tgL6B8ALjA0GD0wRuBRPGQcfHSXrKXorcSl7JvEkSCSiI7AjASVZJYIiix3UGOAUahG1D0IQchEZEZoOqQoYB8sEqQPeAyMFiQbABkUFCgPqAN3+Zv3A/WoADgMiAxUAJPza+Uz5pflM+uv6Qfp7+IH28PSs8/3xRvE08v/z8vS189jw+O0Z7Z7tVe6D7njuKu5u7cLtge6k7ffqj+nt6gzt4u1b7a7r7+nG6efqbOuR6vrpBuoN61zty+8g8C3vafAw9Gn3hfiR+QX7D/2WANME4wf2CFAKGQ4AE7oXYBr5Gs4bnB5gIpQj+yE6IJUgRiEXIh8iQSD+HDMaUxm7GKcXLhbLFPcStBGcEHsOnQtlCt8KcQr7CM8HxwaEBMQCzQK9AhEBAf8I/ij9Mfy7+736FPnI9233EfcU9jX13vTC84vys/KR8qfxqfCl8NDwB/Cn7wXwLfCl7/Lufu6X7knv0vAy8UPv5+wS7HPt7e8x8fnvRO0R61Prpuwp7U/sb+sq7GfuJ/Ce8DXwm/DY8jL2X/jO9yT3uviF/AgAnQLxAxQE0gVgC6gQThHGD8UQDRQXF0sagh3FHW8bPBsjHQEe3B1uHi8e4xxqHOIbUhmPFhoXxhiMF8EU7hNaE08RKxAcEBQP8Ay/C7IKlAiJBqUFvAO1AIP/CwCM/0f9uftj+nf4+fZT93H3lvUZ9LbzH/ND8qzx/fCU72LvJPEA8pfwzO5g7t3ucu9k8BPx6/Dp8Jzx2fE78T/xX/G08SHyP/Is8XPvmu4j7wvwlfC28E7wr+/+76nxd/Ld8gvziPOV9En2M/gq+Mz2jPYH+bD8NP/+/3f/lf+WAcsE1QfnCQULqwtVDNwN+w9iERkSmBPPFV4XXxcKFhMWCBmHHeQfNR7aGtkYYxmrHJQfJx8IGw4XHRaGFqEWfRVbE2MQOA4FDUYLPQj1BT8FXAQ5Av3+5vvQ+Yj5Evoa+SH2CvNu8Sbx2vEJ8iPxde8K7gzuiO7J7vruH+8h77/vn/DT8Anwz+9f8WLz2PNQ843yf/ED8TnytPSa9ZT00PJC8djwxPGZ85P0bfSd8znyBvEF8sn0WfYb9h/1QvSy8+L0BPj6+pb7SfsQ+0b7WPzU/t4BEgPvAnwCSQM4BK0FSQhEC2gMpArKCCIJTgxgEQ0VeRQkEUAPvRBiE3MXjRucG94WgBPpFIUWNRdnGV4bWBhhEzwSTxMBE6YT0xT4ER0MWglBClIKKwptCtwH8gGp/m7/BwB1/6X/GP4++bj15fUC9xj3KfhP+Kr0ZfBu8KTyx/O29Pb0aPIf70vv9/Fq85XzAPSj8vjv0+/n8tH0x/Sv9JXzVfFB8CXyqfSc9Vn1yPNV8SHxF/TZ9tv25vX79PzzfPT49jb5NPlf+Cr4SvjN+KD6hvzc/J38x/yu/N38Xf6PAIwCTgOBApYBdgJSBZYI5gkbCcAHVQdkCdkM+w6GDosMUwuDDDMQoxLYETQQbg/tDwURlxJfE8kRpA+rD/0Q8xCMD/MNgAyRDFMOzA4IDD8IJwfOCLQK2Ao7CLUD8AD8ARkFmgZ9BPr/C/zY+3H+LgCm/hb7Vvix97L40fni+Vv4kfYa9mb2LfYy9Sz1R/a89ir2CfVM9CT04fRp9rD21/Qi8y3zGPSC9bD2k/YY9QP0HvW89pz3Avh895b21fZ5+Jn5f/nF+Jj4E/np+Xr7RPwI/KX7Q/yV/ZP+S/9k/33/vP+GAKkBDgIfAroCiwOIAzEDFQNmA0wETQU8BmsGswU8BQoGsgeyCL4IYQhqB4gG6wa8Bx8IWAgECO0GMga/BswHLwgCCKQHFAc9BlkGOQe3B84H6AbMBccEZQRjBGkE9gR0BP8ChwHpAFUBJgKtAjkCkACg/r3+cgDfAQgCcgBV/hT99P39/18AoP5V/F/78PsG/Yv9hfzw+gv6+fnr+qL7Svs1+o35xfmr+Sj5H/mo+Yn5yPj79yH4Gfli+jj7l/qj+X75b/rx+yz9Zf2Z/BD8wPyP/Sb+g/7F/s7+Bv8Z/+/+5/4z/4YAggFfATkAtv+GAAYCUQMZA8cB2wAkAZ4CBgTaA1ICIgEwAYUCiQNCA6cCfQLpAnADhwO4AgkCHAK2AiQDyAJVAYsAEQEEAhYCMgEJADX/CgByAW0CEQLYAI4A3wB1AQQC0gGBAVQBQAEaASMBUgH8AUgC2QHvAJoA1QBGAe8BYgFvAAkA0QBhAdQApv+J/mD+af8eAI//3P08/R3+XP+d/7D+sv02/dD9hP5G/1X/Gv9k/gD+yf1v/nz/pv8f/639LP3z/S//JgCDAND/kf5H/rf/PQHMAQIB6P9x/87/FAG7ASgBNACN/5D/XQBpAZgBywBhACEAJwCIAF4BowECAa0AbgBIAIEAIAE5AbUAPgASANP/dP8SAMIArwDT//L++P6m/5IAEgGVAL3/m/+y/3UA+QA2AccABQAlAIQA9QBIAWgBFQFoAB4AjgCOAHQAIgDr/wQArv+M/zH/rv79/pL/jP9A//D+pP71/rH/jgDCAEEAdv86/wcA1AD/AD8APP/7/pX/NgCBAAsAI/8R/5P/sP9x/4z/xf+q/7z/av/n/vn+pf/u/2P/rP6Q/gX/cP/S/6j/C/+A/s3+zv+SAFYAU//Z/iX/tv+2/7j/yP+H/5v/1f/+/6T/of8eAGAAVQD5/6r/sv9UANwAgADJ/7z/5f9SANkAuwA8AMf/IgDYAA8BAwGGANX/2P+PAOkANAD9//j/IABDAFYALgDZ//T///8tAJv/kv+L/6//MgA9ABoAmf/R/5sA+AClAB8A5/8IAHkAowBHAGz/Nv/N/x0A9P+Z/6r/hf/Z/ygAOAD1/9L/tv9Z/7//9v/1/6P/Xf/6/tP+Uf+O/1b/7/7I/i//jv+n/6T/ff+s/+X/3f/Z//j/AAALABAA9/8GABoAOwBMAGMAYgBTAE8ARQB6AGIAdABpALgA6gCAAE4AMwCEAOIACAG0ACwAKgCwALgAgAAVABkAVABVAGEANAAJAAYASABFAL3/Z/+p//P/NQD5/8P/g/+h/yIAJQDV/8L/NgC8AP0AlwAmAHkA/gA8AeQAKwAvAJIAEwEJAZMAFQD3/28A8gC2AP7/7/84AHIAZgBEAAYA0f8BADcA//+D/4H/0v+n/1b/Bv/O/gz/lf/X/5j/Gv8k/6z/HQAbAOr/gv9N/7H/BQD+/7j/y//V/9r/tv/A//n/XQBpAPb/rv/7/74ADAGoACcA9v8CAD0APQBPAEIAEQDX/8n//v8oADAAIADE/7r/xf+8/+7/wf+l/1P/Bv/8/jz/c/9J/0L/Sv9U/37/af93/+L/8v/p/wsA8v+p/7L/+P8PAD8AXQAMAND/HgCzAAgB4gCeAIwAUgB9AP4ANQEjAbgAWAA6AHsA4gD+AJ0AKgAGAA0AOABwAKcAmABYAAAA8v8qADwASAD2/8v/k/+W/+n/+f8lAAAAx/+2/+n/OgB/AGwA5/9u/2j/ov/2/xEAAACF/xP/Q/+I/9P/pP+J/3j/Xf+e/9H/uP+i/5b/bv9Y/47/uf+u/5T/f/9w/3T/iP+o/97/8P/O/5b/e/+u////EQDV/4f/Xf9v/8r/x/+M/1f/bf+S/8H/DQAOAAkAFQApAGAAgQBmAHoAeABOAFEAYQBBACsAIgA0ADMAKQAuAG8A1ADDAJsAlgB2AHkAoACZAD0A3v8XAHgAcwAwACwA3P/m/z0AQQA6ABsAUQA1ABUADwA2ADYAGQArABcA9v8EAGwAXgBMADcAPQBCAG8ApACAAIwAPQBRAG0ARQARACIAIQDu/zUAAQDg/w0AAQAIAAAA1//z/73/sP+N/3D/i/9V/0v/7/7o/hv/G/8Q/1j/ff+K/6D/dv99/7D/5P+t/43/Qv9N/57/5v/n/6L/rv/E/yUAMAABACMASwBpAFsATABhAFIAQwAmACUAKQA+AFEAaQBxACsADgAaAEAAQgAWAO3/2v8RADkALgAVAP3/IwA0AFMAUwAuAPn/HQAaABsAFADx/1wAPQDx/8X/4v8TAB4A8P/N/7j/1v/w/+b/7v/p/9v/uP/h/+X/9v8FAPv/HQDk/6X/zf/t/woA9v/h/4v/r//0/wUA9P/u//L/3v/6/wAAIQDo/+3/6v/d/7z/5v/7/93/zf/z//3/4v/h//v/8f/R/xIA9P8QAPf/GgAxADIAOgAzAEMALABIAFsAJQARAD8ASgAdABcAUwApADIACgAUACwAWwBPABsACADx/wwABAA4ACYA/f/j/zcANwAmAGwAVQAyAEAAPgBNAE0ATgBRABsAQQAlACIAaAAwABgA9v8DABkAFAAtAPn/+v8TABMAJwBTACIAMwA+AAsACgAQABcAEQD8/97/uP/D/9L/3P/Q/77//P8KAPn/9v8EAL//zv/X/5j/rv+t/3n/fv9z/4r/pv+H/27/mf+9/9L//f/r/9H/y//u/9v/9P/p//X/7//8/xkA6f8MACIABgBOAEgAUABtAE0AXAA+AHkAawBzAHUAXABaAEgATwCDAEgACgA8ACgAJQBHAEcACgAfACcADwDk/x0AMQADAAUA9//f/8z/3f8BADAA+f/n/9z/5//6//v/AADH/6v/vf/R/97/y/+5/9n/s/+q/8P/vP/F/7X/if99/5H/kP+J/3r/cP+F/5X/nf+w/9T/9//6//L/5f/u//7/9//J/73/uP+h/6b/nf+T/6b/hf+P/8D/1P/H/83/2f+4/6//nP+w/7f/0f/d/+j/6/8UABMAGgBLAEAAVAB4AIAAeABTAEUAdwB5AIYAfQBMADQAUwBoAHsAegCWAGYAPwBhAHMAkQCIAGoAYwBxAFcAWwBUAEwAHAAeABYAEQAbABwAEwALACwAIQA2ADUAPwAIABIAAgDo/x0AEgDb//T/+v/W/wYA7//8/+H/7P/D/6P/2P+r/7r/3//Z/7f/zv8RACgAEQD5//X/AAAsACkADgAHAOD/2v/e/7b/uv+9/7f/vf+U/9v/o/+Z/9D/uP+v/6b/tv+0/8P/zP/R/5T/zP/I/8b/zP/C/8T/xv+0/9H/xf++//n///8uAAEADADu/xYAOQAzAFEAVQAxABwAKQAWAPn//P8NABMAOAAuACsADQBPAEsAPgBwAFYAcQBkAGAAeQCUAHYAYQB9AIIAcQB6AHYARABCAEsAOAAzAC8AHgAJAP7/CwDU//D/7//m/x4A9/8JACgALQAEAA0AIwAfACcAHgABAOL/7P/l/+v/5f/o/wkAEwAVACMAIwAXADcAOgAKABMADQDw//3/DAAPABMABQD1//7/HQAkADYARQAOACUALgAwAEEAKwAZABIAMQArADUADwADAEEAQQAvAAIAAwANAPv/1f/d/7r/lv+3/5f/qP+h/7z/1P/O/9r/8//l/9P/zP+1/67/rP/R/+H/6f/Q/+X/0//h/+f/8P/1/+D/2/+u/8n/rv+m/5v/jv+t/6T/lf+q/3f/c/+c/5//sv++/6D/lP/A/7P/wv/O/8//xf/p/9X/5//V/8b/+v/h/+P/zv/q/+f/7P8UACoAAQAYACIACgAzAAkA+/8VAAMAJwAeAAYAFQAkAAoAAwA2ABIAKwAiAEYAOQALAAoA9f8MAPf/FAAUAAEA/P8MABkADQAlAC8APwBIACQASgA7AEsAWABHAEYARwB0AD8AfgCWAIUAigBTAE0AiQB8AF4AOwBJAHcAbwCAAGwANAAkACgAFgANAOz/2P+t/8T/p/+d/6j/qf+p/3n/ff+N/43/qv+6/7D/qf+Y/6b/tf+q/4X/g/98/4f/tP/Y/6r/5f/z/+z/FgAEABgACgAAAPP/HgD6//z/KwAyADwA//8jAC8AOwBNADsAJwAYABMAGQAPAMP/1f/I/9z/2//R/+j/3f8JAAkAAQDk/8v/4v/c/+z/9v/q/+H/9f/7//P/DgANAB0AGAAJAA0ACAAYACgAQgBUABUAQwBfAD8AOQAjAFYAPwBCAHMAUwAlAFQAawBeAD4AVwBEACwASwAQABMA///o/9z/7v/c/+3/7f/t/wgA4P/v/8j/sv/Y/9j/+f8BAAIADgD5/+H/0P/q/9D/8f8SABQAEgAGAPz/5v/j//T/EAAFAPj/JQBWAEgANABJAEsALwBiAFcAOwArAAsA/f/w/+T/5//u/8n/yP/l//f/w//X/+r/z//F/7L/p/+4/67/jv+d/63/wv+l/7v/p/+L/7v/5//Q/8D/wP/C//X/1v/D/73/qP+z/6L/zP/E/8r/xv+r/+D/2//P/7D/0//g/+3/9v/X/87/6P/+//n/+P/4//n/DgD+//D/6v/9/yUA+f8mABsACAAuADgAMwBMADUAPgA/ACcAPgA6AFUATQBHAEQAeQBoABgA/f8kAEQAOwASADQAMgAZAEUAKwBAABQA8f8KACoAKAAYAAQAAQBFAEYAMwBHAGgAVgBBAFAAbQBvAHQAVQAmAEIAOgBDACkAGwAPAPj/6v/W/+7/4f/N/97/pf+2/9H/m/+4/63/kv9n/1r/d/+B/2v/o/+W/4b/gf99/6r/gf+z/6n/r/+8/7T/zP+1/9T/3P/O/9//3/8BAMP/oP/N/87/tf/E/9z/1//X/6z/2v8QAPT/6v/x/+D/1f/6/wQA8v8VANr/5P/t/+f/IgATAAUAMQBTAEIAPwB8AIAAUgBiAFwAbwCCAIcASgByAHUATgBvAG4AcACKAH4AhwCVAIMAcwBUAEkANgAsACUAMAALAAcA6v8dADoAHwAiADEARQBKAEMAMwBIAEgAPgBQAD8AOgBfACMARABcAHkAXQBDAFIANgBCAE4ACwDx/wAA9f/M/8r/+v/N/+7/9f/4//P/1v/d/xoAMAAoAAAA/v8eABoAGgAVAAMAzv+6/73/sv+7/7T/jv95/17/iP97/2T/av+B/5f/pf/D/6r/tv/U/8X/sf+c/6r/t//w/+P/uf/y/9//CgAnAAQAGwAAAO3/DwAJAP//8f/+/+v/1f8aABQA//8fACIA+/8yAEIAPwBCABIAHQAUAAAADAAcAAkAAAD4/wAA7//f/8L/zf/e/+T/+P/z/+3/6v/j/8//BQDe/+v/6f+7//P/AQACAPv/AwD1////CQA3ACwAJwBaADQAKgBTAB8ADwAZABgAHAASAA8A+P/9/wUAKwD9/wAAxv/Z/wUAHQAcAPr/8P/Z/93/tP/i/6n/t/+i/4v/v//U/9b/zf/Y/9n/7P/n/93/3v/n////CgDz/+D/vf/3/+j/6P8DAOz/7f/x//j/5v/s/+n/BgALAP7/MQAeAAoATQBLAEcAMgBIAFQAUwBcAGoAXwA3AEgAcgBwAGIAcQBTAF0AWQBSAEcAgQBfAF4AXwAtAEgAQgASAAUA+/+7/97/0f/b/8j/v//E/7P/iv+C/5f/hv90/3D/uP91/27/nv+4/8b/of+q/7z/uP+S/8f/8f/S/93//P/X/6v/zv/Y/wAA7f+2/7b/tv/K/8H/1P++/7r/3//6//X/5f/7/wEA/v/4/wMAAAABAN3/xv/X/wsAAgAGAAgAEQAIABMASwBQAGMASwBXAEUAJwAbABsAAQAcAPv/MwBIABAAPgBVAGIARQBtAFwAQQA9ACsAFQAQABsADgD+/9b/3f8lAA4AAwAWAAwABQAiACIA+v8EAPT/8v/+/+3/AAAMAAQAGAAdABgAEQAYABcADAAUAAUABwARAB4ACgD3/wAA5P8OABcAFQAMAA4AEwA3ADkAEAAcAB8AMQARACUAOQBZACQAJABfAHMAcwB/AH4AdwB7AFkAcwBuAD0AXgCKAFMAegB3AEIAOABjAIkAdABDAD8AAQARADoAIQAWABwAMAAcABIACwAxAEoAKgAZADwAKQAhAO//IgD//wAA7f+M/4b/jP+u/4P/c/9O/1//d/95/3r/pv+p/7f/sP/C/5r/fP+Z/4P/nP+P/4f/h/96/5z/vv+j/9X/sv+r/7z/qf+2/8//zf/b/+T/6f/o/8j/0v/b/9n/vf+4/8P/o/+w/7v/dP+q/83/zP+2/6r/of/C/97/5P+7/6L/y/+7/9D/1//t/+3/BgDI/97/CgD0/wAACwAmAB8AJgA9ACwAYQCHAFwAiABaAFoAeABYAFYAZQBOAEgAWAB5AKcAjABlAFcAUABZAHkAbQBZAB4AGAATAOT/zf/M//r/6P/f//7/AAD5//P/HgA6APv/+P/m/+b/5f+//9X/0//X/9b/zf+9/87/6f/K/9v/3f/P//X/x//Q/8b/4//2//X/+P/z/wwABgD+/+n/4//g/9n/uP/Y/9n/CQANAPP/7v8QADAAXgBJABwAQQAvAC4AJQAWAAsALAAdACQAHAAEABEA+P/4//n//v8JAAMAHwAIAMD/qf/Q/8L/2/++/4T/wv/B/+//z//W/+X/4f/v/8f/4v/b/7z/wf/l/+D/IAAhAAYAIQAtADwAJgAeADgAUAAuADwAIABDAGwAUwBmAEwARQBjAGoATQBRAEQAUgAyAC8APAAlAB0AAwAAAAUAFwAIABMA/f8XAPn/+f8JAOX/9//g/8L/w//5/9v/6P/c/8X/8v/p/xQAOQA6AC8ADQAuAEoAHwALAAEAFwAhAA8AEgAFAB8A5v/o/y0AUgBaAD4APAA7AEAAKwBgAEoALQAcABsAIAALADIANgAxABwAFAAcACEAEQAZAPz/KAAuACQAYQAMABwAYwBKADYAMAA4ADkAPgAvABwAHwAeAA4ABgAWAAAA4v/x//b/3P/c/+L/u//B//7/2P/c/9v/3v/e/7b/0v+1/8v/8P8IAAsA2P/f/93/5/8fAPX/2f/Q/9T/9v8LAPz/2v8AAPj/CADp/8D/zv/7/w8ABADv/+3/GAD+/xMA8P/b/+j/+//6/xYAEgDi//P/8v/q/9L/wP+y/7H/vP+V/3z/w//N/+n/0f+u/7H/5P8BALv/qf+Z/6v/4v/Z/8f/1v/l/+H/3//v//b/AQDz/+r/8//R/+r/9P/R/woA8/+//6j/rv+H/23/i/+k/5r/sP+Y/53/t/+S/6//oP+Y/4b/q/+0/8L/y/+6/63/yv+2/77/3//l/9D/0//y//L/8v/u/+v/9P8ZAOT/+f/2/w0AFQAsACUAJwA1ADYANwA2AEgAOgApAC0AMQAsAD0AYgBwAHcAZABAAEsAPQBjAFYAagAOACEAIQAuAC0AJQA4AP//HAD5/wAA6f/w////9f/7/wIA5P/t/8v/uf/P//3/EwANABsAKwAnADkAWQBPAGEAhAByAHEAYABsAIwAfgCFAJQApQCiALoAmwCdAHUAmwCPAHwAcABzAG8AdACYAIMAXQA2AFgAQwBRAD4ANQAhADoAWgBiAFoATwA0ABkA3//Q/87/wf+J/3v/iP96/4f/cv9s/5j/tf+S/6z/rf/C/73/3//A/9D/CgATAA8ADQAXADEANQA8ADQAHQAuACMAMgAQAB0A+f/L/+H/z//N/+H/3v/i/+j/5f/Y/7j/rP/i/8T/x//I/4X/mf/C/9L/n/+G/4f/iv+O/4r/hv+X/53/sv/j/63/7f8KANz/8v/R/+z/8v/R/w0ADwADACMA4//6/zcAKAAWADwAKQBIAE8AUQA+AB8AMADy/+v/AABJADMA9f8tAGIAKQAZAFMALgAPACEAHwD9//T/8P/h/83/1//o/7j/2v/F/8L/9v/p//7/CwDn//b/3f/c////4v8LAD4AGgAPABUACAALAPT/AwAKACkALQAnABcASgBIAEoAWQBAACsAHgAzAA0ADADn/+7/1v/V/87/+//z/9f//v/t/+j/4P/Z/9z/AwDZ/8T/0/8DAPj/1f/D/8n/zP/R//v/7P8GAOv/0v/q/8v/zv+4/8v/tf9+/6T/n/+g/4j/pf+L/3P/fv+I/5r/qf+s/5j/n/+H/5L/kf+g/4n/eP+T/6H/qv+O/5v/jf9r/2P/dv94/2z/uP/L/7L/3/8NAOf/7P8QAAUA7v/x/x0AHgAUABwAFgAxAEAAOwBXADcAHwBLACIAEAAsAAQAIAA6ADAASQBTACkAQAAPAPn/HgAKABYAKAAiAB0ANQA+AFQAbwCFAJkAqgCWAMMAqwCZAN4AzQCWAOcA2gDyAAIBtQC/ALEA/QCSAHQArwCsAFsAVwB/AHkAgABuAGEAMgBXAFUAawBIAE0AVQApACMAFAA1ABEA7P/1/wAADAAQABkACADN/73/4f/N/8r/u/+a/5v/dv9u/2//PP9O/0//S/+C/3T/XP9p/5j/lf96/43/gP90/4b/ev9d/3H/gP9b/3//qf9//3//pP/B/8f/xv/P/+n///8HABQA8v8SACQAGAAFAAYAMwD4/xUAAgA3APX/AABNAAgA/P8DABIAcv89AKIApgAcAC//Bf+A/3X/7f7W/3X/gP9z/8z+2P4q/03/5/4y/13/FP8n//7+tf7f/rr+df4n/kf+Rf47/jH+6v0S/hT+9P0n/qz+nf5d/jL+Jf4x/kX+Yf5m/nv+t/7M/v7+ev+d/9v/HgBuAJgAzgDvAB8BaAFgAbsB2wH/ATQCeQKEApQC0AIEA14DOwNUA0sDbANIA3YDowOsA9YD8gMKBOYDCQTYA+8D7APwA+sDQgQ3BCYEPQQSBBwEHQQiBDkESAQ1BCgECQRFBC8E7QMeBBIEFQQvBBcEDgTnA9ADgwOCA3oDbgNlA00DEwMGA84CsAKrAn8CjgJ9Ap4CHAIXAu8BpQGYAUcBLAHvAPQAfgBBAA0Avv+Y/17/R//J/qH+Yv5H/j7+Qv4B/tf9t/2Q/VD9Av0b/cf8hPw2/DD8RfwV/Or7o/tw+7D7iftd+xr7EPvV+o/6sfqH+o/6lPo++v35MPpN+jb6/vki+gD6+Pnb+fX5+PkK+vX5ufkR+u757fnz+QD6LvoM+vv5SPou+i/6VPpu+of6mfqx+uD6CvsP+2H7mfvF++P7Evw//Gn8ZvyJ/Oj8zvy+/PT8Ff1f/ZT9nf3D/fL9T/6G/s/+pv60/gD/Vv+R/4T/0f/j/7L/zP8gAEQAfgCjAPYAMQFOAU0BPwGcARsCUgI0AkECaAJhAqoCpALjAgYDCQMzAxADKANQA38DmgOiA2IDgwORA3gDTANlA3QDQQNWA3YDRANNA1wDUgNMAyIDVwMhAxcD9QLjAuACwgKoAtEC+gLhAuMCxQLeAs0CsAK3AukCzgLNAroCkAKFAnYCgwJlAlYCQwIvAkACMAI2AhcC9QEdAuEBxwHKAZ4BfwGOAY0BhwFaAS0BJQE/AU0BOAElAQsBKgFXASwBGQEiAQ8BKwEVAREB6AAFASgBBQEUAQoB5wAQAQcB5ADfAMsA5QDtANIAxADsAMMAuQClALIAugCMAIcAXgBBAGYAdQBBAEUAWwBZAEEAHABIAHYAYQBQAE4AIgApACMA1f/i/9f/1f/V/6H/hv+e/4//qP++/2b/Sv87/1X/Y/9h/03/H/8K/wn/EP8h/xX/Av/l/uD+7f7A/rH+r/7M/oL+qP6h/oz+nf6S/qX+h/6W/nv+SP5O/n/+ff5r/kb+Vf5z/mf+OP5Q/j3+Ov4i/ib+WP5e/hj+A/7c/d/9TP48/jL+Lv51/n7+o/6U/q3+k/6d/r7+5P7j/r3+Hv8z/0j/Nv+H/2j/bP/G/7//v/++/6//6P/6//f/RwAuABwAMAA/AGwAeQBJAFkAdwBgAGgAnACtAH0AbAClAH4AkQDJAKIAywDuANkA2gDtAPsADAH9ABEB/wD/ABgBEgEtARABOgFcAToBlAGPATsBXgFdAU8BQwFJAUwBGgEeAUYBWQE7ATMBEgE1AUIBAAEhARkBCwH7APgAAQHRAMoAtwDFAO4AugCnAKQAkACtAMMAegCDAGkAaQCUAHwATgApADgA8/8dAP//5f/h/5//pP+5/5H/a/+M/5X/jP+O/47/kf9//3n/m/9g/3H/Zf9c/3P/b/9w/0b/Xv9a/y7/Sv9F/1j/cf9P/1j/U/9R/2f/YP89/0n/M/9N/0P/Hv8u/wv/G/9H/zL/5P4N/yP/HP8q/yL/UP8Y/wz/Ev8U/zj/E/8z/1//Wf9t/3X/WP9e/2v/Wf9z/2r/UP88/4H/pP+P/57/fv+F/23/kf+Q/5z/y/+Z/6n/7v/D/9H/2f8GAAAA5P8zACYAQABbAH8ANwBhAIcAagCKAJAAlQCNAJgAwAC1AIMAnwBwAIAAcQBXAFgATQBwAEoAYQBaAFIAOABPAHwAKwBVAEsALQAuAFAAZQA9AEIAKABMAHQAjwBlADkAHAArAEsAUABPAPn/DAD6//z/EADO/9X/8f/E//L/FwAKAAAA8v8MAAMAFQD4//v/2//q/xAA4f/s//P/2//q//f/7//1/9H/sP/L//z/8f/I//7/CAAHACIAJwA5ABAAAgAKADIAKQAgAD4APwA2ADEAPgBIAE0APAAzAGIARwBKAC0AMwBvABsAGAAYAAsADAA6ACEA7f/7/wMABgAkACMAPwA+AAwAOwBQAFUAAAAXACAAAQAGAPj/MAD9/wYA9//z//L//P8vAAkACQAhABsAJwBBABEAGgAaAP3/+v8OAPj/6//4/+H/0f/+//z/CgACAAkAGgDg/+3/4f/5/wcACgDs/93/0P/i//X/7v/e/77/yf/v//v/DAAOAN//CwDu/wEAHgAiAFMAQQBeADUAIgAcAC8AdwBHAEQAQwAsABkAEAARACEAQAA1ACoAJgBEAF4ALQAEAB0ADQAGAA8A7//S//X/DQAdAAkAHwAVAOr/DgAiABYAFADs/8z/3v/S/+j/BgAbAAgAIAAHADIAEwAYACUAAQAUAOD/5//j/wUA/P/3/wEAGwAAAOX//P8BAA0A8v/o/+7/4P8DAM//k//E/8P/x//J/6f/wf/4//D/uf/u/ysA/v8AAOr/1v/V/97/7f/T/8j/zP+k/8j/5v/y/8z/3v///+v//P8AAB8A0v8IAAQA+//w/9//+f/6/wIAy//h/wEAKgAOABIAIQAnAA0ADwAuABsAIwA5AGEAWABKAGsARAAoADQAMgBzAF8AWwB2AIMAfwBcAFAAcwChAIkAdABHAG4AmQB6AFMAWQB0AFEAUwB1AGsANwAbAAoAEgD7//D/AgDx/+7/7v/b/+3/2f/C/+L/s/+x/9r/uf+z/4r/o/+z/4X/rv91/47/sv+Q/2X/V/+D/37/T/9b/4j/eP93/1n/jv++/4b/fP+O/5T/x/+z/5D/rP+q/7v/tv+m/7L/lf+c/6r/qP+K/3//qP+f/5z/xf/o/9H/4v/W/97/+P/h/97/xf/i/97/3//y/8r/7v8MAPP/AwD7/9H/xv/P/9v/3//c/8X/r//a/8n/mf+4/4X/q//L/8T/0//O/8z/zv/V/+H//f/e/+3/yf/G/9X/+v8NAA0AAADj//z/7v/B/+7/DgDh/+//2f/w/wkALgAZAPr/GwANAAAA+/8AACoAHwDd/9v/3v/8//T/8f/o/9z/CwALABsAOgAsADIATABZAEcAOwBeADoAMAAsAD0AXABNAGMAewCGAHwAagBrAGwAnACSAGcAiABiAG0AbgA/AEQAcABsAGAAOgBOAGsAcQBvAEUAQwASAAcA+P8eADIAMwAkAPn/8/85AFMANgBCABcANABlADsAXwB4AB4AJgAjAAsADQBPAE0ASwB8AFcAYgBnAHcAfgBaAG0AaABHAEIAFAAxAGIAHAAiAE0AEwBCAFAARwBxAHcAZQBEAGEAZQBXAD0AGQAiACwAIgAJAAwACQACAPv/8f///+X/DwAAAA4ANwA2ABgAIwAnAAMAQAAkAAcAFgAeAMr/3v/6/9b/9f8dAPP/6f8FAP//AADc/9T/yf/h/7//xf+//7v/0P/Q/9b/uv/T/8P/xf/K/7T/2P/A/63/tv++/6X/nf+B/33/pP+q/73/u/+R/7j/4v92/8H/y/+b/9b/lv+f/8j/mv9t/5z/o/+H/4v/oP+0/6z/2f/Q/7j/uP/H/6P/uv+R/4//pv+K/53/ov+//6H/qP+V/7X/i/+R/53/lf/R/7b/jP+d/4//oP+g/6j/1v+7/+L/pf/t/9v/sv/t/+T/+f/9/xoAEwA8AE4AGAAvAEgAUABWADUAcQBFAEMAlQBcAFsAWwAhAFYAFgAUADMABAAtAAwAUwAXABkAKQAtABcADwBcAAAAPQAhAAIAAQAUACgACgAfACkAHgAzAEYAFAAnAEQAMwAPACsAVQBMADMASwBlAF8ATwBlAEEASwBiAEoAPAAfAFAAQQAMAPb///8BAPP//f+l/7P/4//M/wUAwf/Y/wIADgAHAO///v/s//f/JwA7ABgALQAfAEQATQA0AD4AXwA6AA8AMgAQACsAGgAZAAsABwAaAAMAHQAxABgAEQA0ABYAFQAPABsA3//I/9L/7P8PANL/z//t/xUA+P/Z/wMAGgAnAAEA+v8KAMn/0f/m/+D/4P/b//r/9v/v//7/+/8FABUACADz//X//v8WAO//BgAcAPr/KAAGAAYANwAkABkAKAA7ADwANwApACkALgA0ACgAAAD8/yQAGwASAPL/9/8CAMv/DQAGABMAvf/P//7/uP/b/+P/vP+j/9T/1P/0/8T/6P/t/+//8P/j/+n/5/8AANT/4v/B/+P/6//I/9X/zf/J/+3/AwACAM//1//Y/7T/3//T/93/1f/s/+L/2v/4//L/3v8WANn/zf8UAN3/AwD9/xoA0P+7/9f/9/8KANn/4v/m/+n/6f/+//z/BwD1/9//6f/1/+r/9//m//f/yf+7/+L/rv+0/57/q/+4/6L/xP/R/9v/tv+7/9v/1f/7//j/7//R//n/BAAEABYA6v8VAAAA0v/2/yoAEwAjAEAALQApABgAIQAwACkANQA2ABUALABGAFYALgAaACAAHQAeADAAPgAkACgAWQBsAFIASQBnAF8AbgBzAGMAQwBQAJUAdACeAHwAWwByAH4AXgBKAEsAYgBAACQASwBXAEUAHgBCABkAHwAaABMABQDi/8H/2v+s/5X/tf+//2v/XP+n/3n/wf+r/53/nv+X/5b/u/+T/5n/rf+b/6z/tf/m/8X/xP/G/+H//f/v/9T/4//U//3/CADf/+r/4v/R/+n/0//m/+f/q//T/wUAvv+f//r/CgD2/8X/4//r/9L/rf/y/8L/Zf+4/7L/gv+k/5r/bf+Q/3//i/+W/5z/vv+l/5L/yP/B/+f/5//n/+X/u//L/9j/+P/8/wcA/f8JACUALwA3AG4AZwB5AFAAWACCAF4AgwB0AEsANQBBADkAYQBiAH0AbwBjAJMAogBoAJkApgBXAFgAMABCAB4ALwA/ADQABAAyAG0ASQBHADkAFgBMAEgADwAvAAMAIAApACEAPQAdACEAQwAsACMAOgA3AAEAGQDx//v/MwAnAP3//P8dACIACQDo/xAA3v/+//7/8//x/93/x/8hACgAFQAxADQAPgAPADwA/P8RADQAGQAwADIAAABBAC4APgBAABoAOQD9/xEACwD///L/AADy/9X/zf8YAPz/yf/r/8T/8//r/6H/1//L/7D/wv/g/+j/3P/6////AAASAP//8f/u/9j/BQDX//v/7f/Y//T/2P/M//H/BgDQ/wYA0f+0/9j/1v+r/8f/wP+V//n/yP/T/8L/wv/n/7P/kv+M/4r/oP+T/3T/rv+z/7D/wP/Z/8r/xf/W/9f/pv/j/w8A9f8GABQAPwA8AEQAPgA8AH0AWQBfAHQAVgByAHAAcgBNADgAXABKAAgA6f/d/+//1//f/+L/9f8bAN3/rf/N/+j////9/+v/x/++/9P/wP/2/+r/FgANABwA7P/2/zEADABKAOD//v8hAPT/2v/e/w4ABwDo/8f/pP8SAO//yv/s/9b//P/U/xEAAgAdAAoA9//s/wAAIQDG/+L/7P/T/+//EQAeAAAAJAA/ADgAYgA9AFgASgA2AEYAGwAvACsAMQA+AEEAMQBVAIgAbABnAEkAUgBfAC8AMAAmABQA3v/W/+L/7P///+f/xP+T/6v/yf/F/4//i/9s/37/u/+H/47/gv+S/5r/n/+7/6P/1//Q/6z/xf/H/+H/0f/q//r/4v8NAA8ABgAaAFEASwBAAEEAVAB5AHkAXABdAFYALgBVAG0ARAAwAFYAIAAKACsAMgApAA8AIgAPAPL/GQAPAOT/BAABANz/5v/V/6X/v//P/8P/rf+3/9z/pf/P/9b/x//1/+7/2f/F/9P/0//r/9T/AwDx/9f/7P/w/wcACQAuAP3/IQAyADcAMwAeACIAOQBKAEMARAAdABIA8f8QACYAGAAOAAcAEgDg//r/+P/v/xIA0v8OAPf/3v8RAAYA7/8JACAAIQASAP3/HAD1/ygAFwD6//n/CAAYABYAOgBAACIAQABeADQAWgBxAFsAOQA5ADkAXAAlAAkASQAYACUAQAAXACEAKQAfAEUAPQAeABEAEAD6/wwANQAjACYAGAAQAA4AMgAyAPH/CAAdAAEADAAAABIAMgAgADoALgAiAC4AKwAkACMAGgA8ADoAJAA2ABgAIQBGAD4AEQAYABAAAAAFAAAA9f/i/+3/3v/n/9T/zv/3/8v/tf/n/8v/mv/p/+r/2P/L/7P/1v/F/+D/2/+//9v/AAD2/+T/+v/Y/9D/AwDk/6n/uf+0/3n/hv9z/5H/q/+a/6b/v//T/7T/3f/G/9j/yP/K/9b/nP+q/8n/wv/K/87/8v/y/+3/LwACAPz/1f/2/xwA6f/y/+//2/8NAPz/4/////L/AAAOAA0Ax//C/83/v//j//L/w/+8/xYA8//s/0EAEQDy/+7/9/8bAB4AMQAUAO//LwAQACMAKQANABoA+/8BANj/6f/L////HwAIACIAGwA+AFMAXQAvAC8ASwAmACsASQA2ADkARwBiAEQAYABYAE8AfQBtAG0AUwBLADoAVABUAEYAZwA3AAsAEgBKABgA6P/t//T/zf/S/+f/u/8FAKT/r//A/8P/2v/H/8P/tP/I/4z/lP+i/7P/uv/B/5v/jP/F/8z/2P/4/9L/3v/m/7r/t//t/7//yf/B/7H/q/+U/9v/uP/U/7X/uP+w/6//tf/N/8L/yf/1//T/+P/L/wEA8f/a/+r/yv/X/wkA4f/3/xcADwDD/+f/BwAIAA8A/v8gABQA9v/h/yMADgAQAP7/DgAIACoAJAAeAD8AQQAtAD0AIQDl//L/6v/r/xcAWgAZAFcAMgA8AFAATABaAEEAVABbAHIAXwBYAIQAXwA6AF0AawCfAGAAdACkAJYAawCFAIYAUQBhAIEAmgByADwAbQBXAC8AlQBsAHgATwBqAKQAcgBtAEcALgArABEAHwBOACYAPwAUAPz/IwADAPD/1v/M/63/qv/g/7X/yP/C/5b/sf+p/5z/tf/K/5//nf+w/7L/kv/A/8H/zf/C/6L/zv+r/9f/3P/A/9v/z//B/+D/0//P/+v/3f/i/+P/9v/9//3/2v/V/+//2v/u/+T/2P/M/7L/uP/h/8v/5f///9r/vv/T/+P/xv/9/9n/2v8UAPr/FAAMAPr/8P/2/x4A7f/f/97/LQDy/8z//v/O/xUABgAYADIAGAAjAC0ADAD1//D/0f/W/+L/3P/a//P/yP/G/+b/1/+5/5b/nv+l/6b/pf+E/5P/pP+O/7X/5f/m/93////8/+//8f/m/9j/CwATAPL/DQAiABIA8f8aAB4A9f/q/wMA7//R/wEAEwAUABkAKgAQAPr/CQDt/wcACwAAACAAOQAUANn/wv+9/8r/vv+o/7n/1v/G/8f/yf+o/7H/y//X/+//1/8JAAkA8f8VAAAA7/8RAN//5f8ZAO3/+//i/xYA8P/3/ywAGwAhACEALQAeACYAHgBMAEcAEQAUAB4ADQBGACgADwAiAFcAhQBEAEUANQAkADoAbgBNAFEAYABQAFUAZAB0AEsASwBGAHoAjwBcAG8AjgBMAHIAmABkAIcAagBcAGQAbABfADoARAA5ACQARgBPAD8AHgAcABwAHwARABMAEAD8/x0AFAAUAAcAEgDm/xAA4f/Y/w4A8v/Z/7j/3P/4/w4Azf/h/+n/9f/n/9f/4v/I/7z/w/+5/+r/3f+r//D/7v8NAOb/1f/0/wQA4P/M/+7/w//U/+//6v/2//X/8f/R//3/NADu/8z/3f////P/9//7//T/JgANAAwAMQAmACUAFQD9/+P/uv+v/6j/1v/i/9n/8//p/87/xP/Q/+7/1v/X/+b/vP++/7T/uv+W/73/uv/D/+//1f/l/+H/4f+Z/7b/0f/G/9b/wf/o/7z/rf/W/9L/6P/6/+r/4v/8/wYA//8bACYANABPAC4AOwAzACcADgASADcALwBXADgABQA4ADEAAgAEACUAKgAhAAAA/f8TAAUACgAnABYA/v8aAEcAKQADAD0AUABjACsAAwARACUAGAAhAC8AIAAnADIAKQAtAGEAUQCHAIwAOQAmAF8AKAAAACEA7/8hADcAFwA1ABwAKgAzAFEAQwAyAFoALgA2ACsAUwBUAC0AHQBEADIAHgAQAAIABgDz/wQA+P8UABUAPgD8/z0ARwAcAA0A9P86AO///P8iACEADgD6//T/KQAxABUAEgAAABMAEwAUAAkABgDo/9v/9P8GAP//6P8AAOD/5//o/9X/6//e/8X/5f/+/7j/sf/C/6L/tf/Q/8D/4//1/+P/vP/v/wAA+/8cAOr//v/3/+L/8v/v/9T/1P+7/8H/rP/J/8z/kv+l/7z/6//5/xUA9v+z/7f/zv/W/+v/mv+u/9H/zv+Y/53/jP9Y/5n/cP+G/8f/3v+p/6X/5f/g/8H/qf+U/8T/qv+8/7r/0//k/8n/1f/t/yEAAAAEABIAAAATAAgA4v8PAAYA7v/8/zgANgArABwAGgAbAB4AGQATAP3/1/8KABYAAQD/////BAAmAAcAFAD+/wAAAADK/8j/0P/o//n/0/8IABgA4f8AAAYA//8IABMA6/8OAOn/8/8AAOz///8HABYAQAArACkARQAgACIACgA+ABEASAA+ADAAKQAxAEYAPgCaAFQASQArAB4AGgACAOj/DwAZADoASQAKAEYAPAAjAB4ARABJABAAEgAtABMABQAdACgASgAoAB4AQQBEAF4AMQAiAD4AEQDu/wYAPgArABEADgD6/yIADAAPADQANQAUAA0ANwA9ADQAMwA8ACAAPgAWABwALgAIACEADAAAAPn//f8LAPj/FAD9/xAAOwDu/yMAHgDc//b/4f+p/7X/xf/f/8r/zv/b/+n/9f/N/+//3v/L/9z/xv+F/7f/z//K/+r/2P+5/8P/z/+o/+T//f8BAMf/vP++/6b/3f8FAAYA5P8ZACgAHwAaACQADgDz/wYABQD4/+T/4P8RAMb/r//X/87/vf+u/6r/nP/M/6z/yP+e/7j/1P+1/7j/tP/K/6L/n/+3/5z/w/8gAAgA7//0/zUAXQBLACMAIQBmAFAAHgAvABYA/v/j/8//BQBAABoA9P8kAPn//v83ACMAJAAgACYAPQAxACQADgAAAPb/BAD6/9f/CwAGAPX/8v8DAPP/5//1//T/8v8AANr/yP/T/7T/5P+w/7D/3f/f/87/4v8LAAQACwAeABQAIgARAB4ALAAGAP//8f8AAAoABQD0/+v/5P/x/wAADgDy/xIAFwA7AEMAMgAyACUAZwAgACEAYwB1ADwAGgBVACsAJQA0ACcAOAAxACYANwAdACwAYAAhAEcAVAAlAAEA7v8YAP7/AgAJAAAAAwDa/8//+//b/7r/3//g/8D/+f+4/8L/AwDv//7/3v///+n/3/8JAPT/+v8WANL/1v/T/8v/xv+//+7/+f/T/+3/4v/T/+H/wP8XAPT/8/8nAAoA7f/b/8j/uP/G/7H/wf/1/+L/BgD+/9L/3P/U/wAAHAAzADAABADz/8D/7f8dAND/2f/O/wYAAAD9//z/AAAQABAAKAAEAPr/8f8NANf/1v/t/woABgD5/9z/AAAUAOP/0v/2/xcAFAAhAPb/CADy//X/8f8CAP7/4f8cAAcADwDh/7T/AADw/xIACwD4/ykAIwAuAC4AHQDi/xUAFQDO/+L/8//g/9//BAAHAP//+f8fAAgAFQAdAAIALgA4AB4AKgBCAB8AEQAhAEYANgAiABIALwAtAD0AHwAqADAA8v9BADwAfgB9AD0ATQBiAGYAQQBeAEQAKgBEADcAJQAJACIAUgAdACAAWwBGAE4AQABPAEcAHAARAA0A/v/+/zUAMwBKACEAJAA7AF8AJAAPAFYAQQBQAAEAKQBCAAkALAASADEAOgDl/w4AAADz/93/6//F/7n/z/+v/5//of+5/7D/0P/j/+r/pv8BALX/oP+9/5v/nf+O/4f/i/9//5b/0f+i/7f/v/+j/3j/o/+B/5P/fP9j/5j/kP+2/7L/gf+9/6X/qf+f/4r/x/+t/6//t//i/9H/+f/k/wwA9v/U/83/p//x/w4A9P+k/6n/tf/B/63/rv/E/wQAEgDP/8j/6P/U/8j/4P8CAPX/BAAuAPr/HgApACoAMQBxAF8ALABmAGsATwBGAFkAPAA9ADsAAAA4AEAAKABwAHkAYABrAFQAMACEAHsAaAB/AGYAaQBbAFEAJAAYAAUABAA0AEoAYAB6ACIADQB0AEkAJAAjAD0ANAA4ADUANgBkAIoAXQAuADYAMABTADwATAAdAFIAaQBgAFMAGQAQANz/AAATAAQA/P/7/wAACQD2/wMA4v+//7X/5P/s/73/1//P/9f/FgD1/8H/7f/K/7f/w//d/+X/6//S/9z/AADm/yMANQAoAFMAJAAtACgAKAA1AAkABADl/+P//P8iAAAAEQABAO3/BADb/+//GAD7/+//1f/e/+r/xP/P/6n/2f/q/7f/1//r/+7/5v/b//z//f/i/+P/vf+n/wUAEQDL//r/6f/L//f/vv+3/9D/2v8iAPD/zf/g//v/+P/J/8X/h//F//H/rf/M/7//o//S/+X/BgDF/7P/0f+//5f/sP/V/6//4f+7/+X/7v/r/9z/EgD3/63/4/8QAP//xP/6/87/mv+5/7H/h//o/8b/wP/w/wAADQAeACAADgA0ABcA+f8MACAACwAYAEsAewA7ACQAKwAyAFEAIwAeAEkAFwBVAG0AQABSAEwAfAB+AEQARQB2AEoARgAnAC8ARQBBAI4AZwBbAFgARAAxACMANwDw/ywAFwC4/8n/s//h/wkA/f8gAE0AOQAjACoADwAtAEMABgARAEwAJQDr/xIABwAZAC0AGgAAAP3/9f/Z/77/uv+//7f/1f+7/+P/q/9q/4n/j/+h/2//ef+e/4z/t/+x/6H/kf9q/6L/kv/F/9D/ov/P/63/uP++/8v/5/+9//D/7v/i//b/+v9AABcADAAJABEAFQAGAAAA7v8LAPn/DgAQAAkA2P///x4A0v/o/8X/3v/G/9L/JABJADIAEgBZAHAAcgBIAEkATABGAPD/+/8bABwAPwAOADYALAAoACwATgBPAE0AQgAaAC8ACgA0AGMAQwAgAAsAMgAYABwAQQBHAEgAMgA9AEgAVgBMADEAWwBcADEATAAKAOP/BgDx/wIA9P/z//T/6f8MAN3/AwDv//P/GQAgACMA/P8QAAcA8/8GAPv/5//i/8b//f8CAP7/8v/a//P/AAD9////8P8EAPn/2v8RAOP/uf/g/9b/IQARAPX/RAAKAO7/IAAEAAkA8v/5/w4ABwDr/8v/LQDx/9v//P8MAB4ADwAQAB0ADgDk/6n/0f/1/9j/7f+p/9v/8//q/wgA3P/6/zEAQQAoAPf/JwD7/8b/7P/F/+P/5v+9/+3/CgAKAAkALgDZ/+v/FgDM//j/GgDz/w4A8//C/wIA8P/i/7L/6/8CABMAEADZ//v/QAAuAAcAEwDj/wkAMgAVANj/9v8EAPX/5v/K/w8A+v/z/+3/5//2/8T/y//b/9z/wf/F/4z/iP+7/83/dP91/5j/m/+//6n/w/+7/7//wf/R/8X/xP/R/5b/nf/O/+X/4/+6/+7/7f/s/zIABgAVACIA5P8UAAkAEQDo/+v/HgD2/xEAHQAUAAYADABHAGcAOwBwAEYARwB4ADYALwAdACsAWQAjAFgAVQAiAE8AQABDABwADABSAFIAZQCDAGgAVwA0AGkARABUAGEANABcAEEAPQBUAFsAXQBdAHQAYQCKAIcAaAC2AJQAWABnAFwAPgBOADYAHAAcABIAEgAaAC4AOwBFACcAKQAjAOv/EwAFANf/y//x/8z/pv+m/83/zv+0/7v/p//P/93/5//l/+j/5/8HAOT/9f8RABUA/f/h/8z//P/2/9j/BgDU/8T/xf/P/8P/yv/F/47/ff9//8X/sv97/8v/q/+L/3n/kf9u/6T/oP+f/8H/pv/B/9r/zv+i/wAA2f+m/6b/qP+t//b/6v/A/83/AAAnAP//+f8HAAQACwA3ABYA/P86AC4AIgAjABwALABGAJEAZAB0AEgAQQBCAAYAFgAbAPn/3f8CAP7/DwAmADwAHAAjAE0AKwAxACEALQASAPL/3v+u/9n/wv/s/woAJgAXAAwAKAAOADcAQgARACcADQAAAOv/0P8dAOX/BQAXAB8AAAD7//z/2P/a/9H/4//t/+//xv/Z/+v/1f/c/+P/1f8NANj/8f/5/wIACQDd/xUAMwAAAMb/yv/F/xIA5//Z/97/vv8KAPn/1//o/5//iP+P/6r/v/+I/4H/g/+I/3T/tv8AALj/1v/k/7j/AwAYAOz/IgA9AC0AYAAeAA8AQwAtAAEANABvAGsAgQBlAFgASABaAFUAYAB3AFcAYwBFAEwAVQBoAF4AOAA/ADQAYAAoAB8AZABWAC4ARQBbAO7/9v/s/+b/6f+G/8P/5f/f/xsAHADg/+3/AADL//r/FQDt/zEAAwAbAEAAFgAUAPz/UQA9AEIARAAiAF8AfgA+ABkAMAAaAA4AKwAPANP/HQAcAAgACwD4/xYADwAnAO//zP/X/9n/1//J/9n/0f/E/7n/qP/L/9//1f/Q/8T/2//+/w4AxP/x//f//P/4/6f/x//V/7j/1//c/+b/9P/J/+D/rP/J//D/GgAJAMz/EAAsADEALwAXAEEASQAuABcA9f9XAD8A+P/m/8f/u//G/7n/7f8EAP3/BgDa/+f/+v8EAN7/1f/W/83/zP+7/9j/CwDs/woAEwD0/xUAJwAGAP7/BwApAC8ABQDy/+P/QQA0AAsAPwBLADIAFwAhAFkAQwBCAEcAFAApAEMATABLACYADgD3/xUADADC/+r/EQAZAAgA/P/m/xgA/P/p//z/6v/k//j/2v/D/wUA4f8IABoAHwD1/9P/5v8KAA8A2//Z/+T/7v/B/8n/t//P/7n/t//k/9v/3v/D//D/3v/r/wIAJAAGAOT//v/6/wkA0//5/9T/2//w/9P/wf/k/yAAAAAGALr/1v/D/6j/6v/i/9H/0f/Z/+7/4f/R/93/tv/b/8//vv/q/wAA8f/3//P/u//r/9L/4P8UAMX/1P/6/wUAGAAMAPL/9P/s//L/BwD2/woAFQAFABsAIQAeAPz/MwBDAPD/AQD3/wwA2P/9/wMA7/8rACIAOABuAGAAPACDAE8AUwBIAFcAVgBiAHAAWAB2AEIAagB3AHgAmgBZAE0AYwBdAHIATQB4AIAAfABTAFcAWwBFAG4ASAAfAFgAPgADACkA4//l/9T/8f8MAOz/9v/1/9H/wP/e//H/3P+r/+D/zv/O/9//vf/M/8X/1P+7/7L/wP/h/9n/3f+3/8T/7v/n/ywA9f8GAAYA4//q/ycACwD9/+H/z//M/8T/8v+p/7j/mv+B/3//pv+u/9j/4v+9/7v/6v8WAOX/2P/i/9H/3P/+/+j/+f/Q//H/DAApAC4ARwB7AFAAYQBkAE8AUwBUAFcATwA8ACwACABJACoACgApAB0ANQBdAB4AQgBJAN7/xf+h/8L/sv+V/4f/kP+c/5D/j/+z/9X/2v/j/+n/of++/93/gv+z/77/tf+9/7P/1P+w/+D/CQAVACwADgAaAA4AKQA4AAIA8v/m////2v/A/xwADgDI/9P////e//T/wv+7/8X/yP////T/+v/V/+n/IQDu//L/FQD5/wcA9//k/9v/LAD+/xQAUQAMAOr/BQBFAC4AFQAOACEACgA1AEkAJQBvAEUAIABVAD0AaABZAFwARgAyAEcAPABPABwAKgA9ADIAFgAlADsANAA8ACQAMAAuAFAAHgAEAAAAAwAKAAQALQACAAYA8v8dACEADQA5ACIA7/8nABYA3P8WAA4ACwA6AA8A7P8rACAAFADp/y8AaQBVAFUAMQA6AC0AQQD//8n/0P/o/+D/xf/9/+b/4P+z/9v/0/+g/+n/2//X/7H/z//n/67/jf+i/5f/hv+j/6P/kf/F/87/o//E/8H/t//A/9T/4v/m/93/3v8BAPX/xP+0/6X/4P/2/+r/6//p/wUABwDS/+f/FQD7/yYAFQAIACsANAAuAAUACgAUAOD/DgBZADMARgB8AHkAWAB7AJkAUQAtAEkAPQBFAD4AGwA3ABgA7/8hADcALQBdAF8AQgAYAD0AVAAOAN3/7v8aAOj//f8nAOb/7v8aABwAGADU/+v/BAAVABEADAACAB4AKADI/7T/0v/s/97/CwD//wAAGgA8ADEA//8PAAAAGQDx//r/IgDq/wwAHgDL/9P/4f8HAO3/1/8aANn/4f/k/8v/tf/n/9n/l//K/83/n/+h/63/av9t/7r/rP+r/7X/wv/w/7b/5P/B/9b/CADb//v/AAAIABoADwACAB8AGQAnADgAJwDw/xAADgAGABcA6f8PACUABgAsADAACgAFAA8A5//h/wMAsv/d/+z/u//p//D/yv/v/0EAPwAMAAwAEAABAAwAPQA8AC0APgAlADgATgBMAGUAbAARADEATwAPABsAEwAEABAACQDX//X/EwDq//7/EwABAPb/2P8AAAgAvP+//+n/z/+S/77/lv+V/63/sv+o/6r/2v+1/6r/x//1//L/GwD9//v/9f82AAUA7/8GAPT/KgAUAC4AAAATAFUAJgAMABsAEABhACQAOQAcACYAAQDw/w0A1/8EAMr/5f/Y/+r/8v8GAPL/8P8oAP7/xv8KAOv/zv/o/7H/7v8WAOX/6v/i//n/EwDt/xQAFAArAAsA5f/n/xQAJgBKAEgAFABPAAoA6v8FAOL/8//+/ygAMgAsAAkAv//q/wEA8f/L/9T/sP+M/57/v//f/+v/yv+e/wIACQAQANr/v/8ZAAoAJAAyAAEADgASAPL//f8ZAP//AwAKANj/CQDz/9H/9v/1/+T/EQDw/+v/GQD4/wAAIQAdACMANQAGAEYANQD1/ygA9f8uAGYAQwBpAGcAOQBfAIIACAASACAAGgAbAAsAAADw/xIALwAfACwAOABaAGkAMQBUACgAMgBcADMAHQAmACgAGwD2/+b/CwApAAMAGAAjAPT/BQDX/wMAIQDR/9//EgAHAPz/EwAKAP3/0//T////EQD+/wMAGQDa/8L/uf+q/9D/zf+r/7H/sf/A/6D/n/+0/8j/2f/d/+b/3f/e/6P/mP/D/7//lv/j/+v/0//r/+H/0//Y//T/4/8GAA4ARgA0APz/CAATABAAIAAoACIAYABdACgALQA7AFYAagBbAC8ARQB2AFUAHAAAAC8AHwAHAPz/BADo/w4ADQDu/+r/8f8eADoARwA2ADcA/P8SAPv////+/wsAGAAMAOL/5v8rABkAGQAYAEYAMgAiAP3/8v/T/9j/6P/z/y0ACgA7AAcA6v/0//n/IAAyAEMAPwAeAPv/HAApAPv/8v8PAAAAEQDn/8H/s//H/9n/0P/n//X/5f+//9v/0/+v/97/wP+d/8n/tP+6/6b/vP/O/7T/vv/s/+7/g/+w/+D/wf/r/9P/4P/T/9n/5f+y/97/2v/w/7//4v8iAPX/JgA9AD4AIQAvABAAIwA0AAkADgAeAAUA7v8HACEADgAYADEABQA6AC0AFQAXADIAGwAzADUAUQBcADYALgAdAD8AKwAxACoAOAApAGkARgBKAGMAYgBhADgATQAgAA0AHQARAAcAAAAkAB8A5P/J/7j/5v/k//H/4//3/wkABQAvABMA+v/v/+r/8v/Y/9T/vv+4/+v/1f/1/xoAzv/I/97/wv++/8z/sf+r/9L/vf/J/9P/tf/a//3/AwAMAOX/5f/d/9H/vv+2/57/mf+p/73/6f/7/+7/xv+5/7n/zf/O/+T/+f/y/9b/v/+5/9f/2f/E/7z/wv/S/8j/xf/m/+j/LQApABUAQwD8/+n/DwDf/+f/BwDr/9v/zv/x/+P/EwAiAEEACADz/2EALwAmADkAGAD8/ygAMgAcADUAMgBLAFQASgBMAEYAUwBEAA8AMQA7AAwA9/8hAAcABQAtADoANADv/w0A9f8lAAoACQDr/77/0f/G/9b/9v8LANv/BQDQ/+T/PgAlAPz/CgADAOz/EgAJANb/9/8KAOn/4v/e//X/EgAkADIAGwA1ACYAOwBUACAAVgBtAEoATgCHAIsAZwBuAHIAcwB9AF0AUwBhAIEAVAA/AFwAVgBMAGEAVAA7ADsADAA5APr/6f8ZACEAGABGACgA7v8LAO3/AQDe/97/z//q/9n/xf8MABcAAwAMANv/5//z/+v/6/8BABQA0//b/+b/CgDd/wEADQDo/+L/2f+x/7L/3v+1/3//sf/E/93/1v/W/+P/jP+g/7v/pP94/6//nv+0/7H/l/+w/5n/sf/Y/7j/8/8HANr/1//8////7P8PAPb/LAAAADUAHgD//yUAHgALAPf/JgAGABIABgAsAD4AZQApAPv/GQAXAPH/4P8GANn/3f/6/wAAAAAfAAcAFQD2////EAAAAAgAEgAzADYAMwA8AB8AKQArABEAMAAmADYACQATAPj/CQAlAAoA+f8KAO//zP/3/wgA8P/Z/wEACAAEAOf/vP/I/93/x//5/+D/2//r/+r/+//6/9b/5P8DAPD/9f/j/8T/1//R/9D/BgDi//b/6/8HAPv/7v/8////AADF/8//6f8MAOX/1v/o/+r/wv/b/9f/zv/r/8//xP+3/5//kP/W/5b/vP/P/7X/rv+K/8b/x/+O/4z/1f+8/7n/rP+1/8L/r/+w/8D/uP/I/9n/5//y//v/IgAfAAEACQDv//7/HgA0ADAALQBbAEUAbQCOAHkAYQCLAGwAcgBTAEUATgA2AGIAggBpAEkAXQBAACUAWgBIAGkAaQAsAEgAJAAfAPf/QAAXADYALwAZAEcAXQBgADoARwAJAFcAPQAzADEADQAfACUA3f/r/yMAAQD1/wIAJwAJANX/2f/P/73/+P/3/8//3v/e/8X/5v/l/7z/2P/R/7b/6//I/63/uf/E/7f/xv/W/9H/sf+b/8n/yv/G/9P/5v8CAPn/s//n////AwDz//7/+P8NABQA2P/6/xYAFAABAPr/BwAuABQAJAAMAPP/0f/5/xQA6v/b/9P/vv/B/+//yv/g//H/6f8OAAIAv//n//L/7f8NAB8ACAADAOz/GgAVAPH//P/e/y4AQQA3AHUAhAA5AFsAUABCACEANAAOAOf/BQD4/9H/u/8DAOz/AAAHAA0AKgACAP//BgDo//z/8//3/+D/5//7//j/FAAXACEAKAAiABMAHQA+ADEAEwDp/+X/EAD4/xAA+P/k/x8AJQAjAPr/4f8JAN3/0//y/9T/2P/G/7//+P/X/8P/5v/a/+L/5v/s//v/3v/1//j/+v/F/6//+v/Z/9j/4P/h/9v/7P8UAPj/8P8CAAEADQD0/wIACgAVAC4AGAAqAB0AMwAoAC4AWwBMAGEAaABmAFUARgBIAF4AZgBIAHAAQAAXAEIAOgAZAPj/9f/2/wQAEQAAAPz/EwAJANH/u//c/+z/2f/V//L/AwANABMAFgAEAAwAAwAqADEAAgAiABMAIgAfADwARwAbAOr/GwA+AB8A/f+8/w4AEwDT/9n/8P++/8v/6f/W//H/0f8AANr/7f/y/8T/z//K/+L/vP+8/7b/yv/f/wAAxf++/8X/vP/N/8T/0f/a/+z/3f/M/9L/yf/Q/9b/rv/n/7D/1v/9/97/6v/R/9//2/8GAO//CQAKABEAHAAeABkA+/8lACkACAD3/xMAHgAAAAEAAQDs/yAAEwARABgAEQATAEoALgAAADoAQAA5ACgANwBkAFsAOwBSADsAbgBVADMAKAANACQAOABPAEYAKgATACMAQgBNACEALAASABQATAA2ADMAHwARABEAGQAZABMAHwAHAAAAAAAQABEA7v/V/wkAIwAWABMA+//t//X/GQAAAOL/9P/a/7r/pv+N/+L/6P/d/wQACgARAPT/BQD3/w0AAgDR/wYACgABAAkA7/8FAPX/6f/g/9z/BwAJAPn/4f/c/8//+v/a/9H/5/+T/8H/3//V/6//rf+s/6X/1/+m/5r/t/+//7L/yf/A/9b/0//M/8X/2//1/+X/3v/o/yMABQAXAOj/GwAwAAwAAgDp/yoAHAAOAAsAPAA1AD8AGwAjAF0AMQAjABoAOAAEAPv/xf/d/9z/zv/T/7z/6f+9/6b/sP/l/3v/gP+r/6X/tv+j/5//tf/e/8P/wv8LAOv/0P8xACEAMgAHAAwAIAAjAFQAEgD8/xMAKAA7ACwAJwAtACQATAAlABkAUABFACsAKgA7AEAAQwApACwAMwAQAOr/+/8pAAgA9f/t//j/2f/W/+//+f8cAPT/6P/w/wMA4P8cAP//9f/8//P/FgDv/yMA//8fADkAMgARAB4APgAuAC4AOwBNAF0AagBNAFEAagA+AD0ANgAtADgAWABgADAAQQA6AFMAKgBVADYAKAA8ACwAJQAdAAoADwA+ACEAKAAIAPv/4f8DAP7///8PAOb/v//K//H/8v///xAAFQABAA8AEAACANr/rP+9/8H/qP+c/6D/qP+o/+D/5v+6/7f/q//r/9H/sf/J/7P/r/+d/8T/xv+Z/7n/yv+t/8n/x//m/9b/1P/s/7n/0//r/+3/7/8MABkABAD3/wAAEgAdAA0A6v/u/wsA/v/4/wwAAAAAAAAA/v8AAAIACAADAAAAAgD//wAAAAAGAAQA+v8AAAEACAD9//7/AgD7/wEAAwAMAAIA8//6/wEAAQD8//n/BwAFAPv///8AAAEAAgD//wUABgACAPj//P8BAAQAAwAAAP///v8GAAQAAQD9//7/+v8CAAIA///+//n/AAD8/wEAAgD2////BAD/////AAADAAAA///+//3//f/9/wIA/v/+/wcA+//7/wEAAgACAPz/AgAAAP3/+/8AAAcA+v///wEA/P///wAAAAABAAEAAgD+/w==\" type=\"audio/wav\" />\n",
              "                    Your browser does not support the audio element.\n",
              "                </audio>\n",
              "              "
            ],
            "text/plain": [
              "<IPython.lib.display.Audio object>"
            ]
          },
          "execution_count": 26,
          "metadata": {},
          "output_type": "execute_result"
        }
      ],
      "source": [
        "import IPython.display as ipd\n",
        "import numpy as np\n",
        "import random\n",
        "\n",
        "rand_int = random.randint(0, len(common_voice_train)-1)\n",
        "\n",
        "print(common_voice_train[rand_int][\"sentence\"])\n",
        "ipd.Audio(data=common_voice_train[rand_int][\"audio\"][\"array\"], autoplay=True, rate=16000)"
      ]
    },
    {
      "cell_type": "markdown",
      "metadata": {
        "id": "gY8m3vARHYTa"
      },
      "source": [
        "It seems like the data is now correctly loaded and resampled."
      ]
    },
    {
      "cell_type": "markdown",
      "metadata": {
        "id": "1MaL9J2dNVtG"
      },
      "source": [
        "It can be heard, that the speakers change along with their speaking rate, accent, and background environment, etc. Overall, the recordings sound acceptably clear though, which is to be expected from a crowd-sourced read speech corpus.\n",
        "\n",
        "Let's do a final check that the data is correctly prepared, by printing the shape of the speech input, its transcription, and the corresponding sampling rate.\n",
        "\n",
        "**Note**: *You can click the following cell a couple of times to verify multiple samples.*"
      ]
    },
    {
      "cell_type": "code",
      "execution_count": null,
      "metadata": {
        "colab": {
          "base_uri": "https://localhost:8080/"
        },
        "id": "1Po2g7YPuRTx",
        "outputId": "c1aaadf0-f68a-4d53-9b19-a51aa5d982aa"
      },
      "outputs": [
        {
          "name": "stdout",
          "output_type": "stream",
          "text": [
            "Target text: morocco lyeggwanga mu afirika erisinga okukyalibwamu\n",
            "Input array shape: (93888,)\n",
            "Sampling rate: 16000\n"
          ]
        }
      ],
      "source": [
        "rand_int = random.randint(0, len(common_voice_train)-1)\n",
        "\n",
        "print(\"Target text:\", common_voice_train[rand_int][\"sentence\"])\n",
        "print(\"Input array shape:\", common_voice_train[rand_int][\"audio\"][\"array\"].shape)\n",
        "print(\"Sampling rate:\", common_voice_train[rand_int][\"audio\"][\"sampling_rate\"])"
      ]
    },
    {
      "cell_type": "markdown",
      "metadata": {
        "id": "M9teZcSwOBJ4"
      },
      "source": [
        "Good! Everything looks fine - the data is a 1-dimensional array, the sampling rate always corresponds to 16kHz, and the target text is normalized."
      ]
    },
    {
      "cell_type": "markdown",
      "metadata": {
        "id": "k3Pbn5WvOYZF"
      },
      "source": [
        "Finally, we can leverage `Wav2Vec2BertProcessor` to process the data to the format expected by `Wav2Vec2BertForCTC` for training. To do so let's make use of Dataset's [`map(...)`](https://huggingface.co/docs/datasets/package_reference/main_classes.html?highlight=map#datasets.DatasetDict.map) function.\n",
        "\n",
        "First, we load and resample the audio data, simply by calling `batch[\"audio\"]`.\n",
        "Second, we extract the `input_features` from the loaded audio file. In our case, the `Wav2Vec2BertProcessor` creates a more complex representation as the raw waveform, known as [Log-Mel feature extraction](https://en.wikipedia.org/wiki/Mel-frequency_cepstrum).\n",
        "Third, we encode the transcriptions to label ids.\n"
      ]
    },
    {
      "cell_type": "code",
      "execution_count": null,
      "metadata": {
        "id": "eJY7I0XAwe9p"
      },
      "outputs": [],
      "source": [
        "def prepare_dataset(batch):\n",
        "    audio = batch[\"audio\"]\n",
        "    batch[\"input_features\"] = processor(audio[\"array\"], sampling_rate=audio[\"sampling_rate\"]).input_features[0]\n",
        "    batch[\"input_length\"] = len(batch[\"input_features\"])\n",
        "\n",
        "    batch[\"labels\"] = processor(text=batch[\"sentence\"]).input_ids\n",
        "    return batch"
      ]
    },
    {
      "cell_type": "markdown",
      "metadata": {
        "id": "q6Pg_WR3OGAP"
      },
      "source": [
        "Let's apply the data preparation function to all examples."
      ]
    },
    {
      "cell_type": "code",
      "execution_count": null,
      "metadata": {
        "colab": {
          "base_uri": "https://localhost:8080/",
          "height": 81,
          "referenced_widgets": [
            "24a2c97798cf4d2191d9c6777a23946c",
            "985ae81202ce425ea2b57ca04a0920cc",
            "7662e0eb9a91463e9a69541c82ab9178",
            "c221ac96e8eb4c5e95c267e445994893",
            "c4212ea9e71d472d825c343499da17cf",
            "3202ba8381a4413fa8dfd8104ce05e84",
            "3f4f871a84bb4e26aa4f832e123defaf",
            "b28888859e6b4783a4ce1285989ec723",
            "02b17bfa039c44f0bfd1fe6d5fc85670",
            "d4377ad094fd4a60b86ea24ed77cd540",
            "9171a74c035349f48c5ba0d69342296e",
            "4dc1d2fefbb44f7d8c381c9629e29cb1",
            "bba854dd202747cfba1b55287f4263d9",
            "c932efe0b3d844de97789d18f835ac1c",
            "d81d0a54ee584530bc16b57717812a3e",
            "aefff613fb5045f082ff504816442b55",
            "904c1c93cb5f41059bc1ef9a0f45b088",
            "5696324df4dd4595b470c210de4f5523",
            "b1e21d94ca1d495486262bb811b7b45d",
            "d4e9aac53b5542b899419f26e590d596",
            "fd6e8d248e14464987762c4b8a04833f",
            "6c62192e0e9f4c188d7cf4c086b79a4f"
          ]
        },
        "id": "-np9xYK-wl8q",
        "outputId": "146014db-1471-4370-fe40-6bd229348a72"
      },
      "outputs": [
        {
          "data": {
            "application/vnd.jupyter.widget-view+json": {
              "model_id": "24a2c97798cf4d2191d9c6777a23946c",
              "version_major": 2,
              "version_minor": 0
            },
            "text/plain": [
              "Map:   0%|          | 0/6626 [00:00<?, ? examples/s]"
            ]
          },
          "metadata": {},
          "output_type": "display_data"
        },
        {
          "data": {
            "application/vnd.jupyter.widget-view+json": {
              "model_id": "4dc1d2fefbb44f7d8c381c9629e29cb1",
              "version_major": 2,
              "version_minor": 0
            },
            "text/plain": [
              "Map:   0%|          | 0/4276 [00:00<?, ? examples/s]"
            ]
          },
          "metadata": {},
          "output_type": "display_data"
        }
      ],
      "source": [
        "common_voice_train = common_voice_train.map(prepare_dataset, remove_columns=common_voice_train.column_names)\n",
        "common_voice_test = common_voice_test.map(prepare_dataset, remove_columns=common_voice_test.column_names)"
      ]
    },
    {
      "cell_type": "markdown",
      "metadata": {
        "id": "nKcEWHvKI1by"
      },
      "source": [
        "**Note**: `datasets` automatically takes care of audio loading and resampling. If you wish to implement your own costumized data loading/sampling, feel free to just make use of the `\"path\"` column instead and disregard the `\"audio\"` column."
      ]
    },
    {
      "cell_type": "markdown",
      "metadata": {
        "id": "1ZWDCCKqwcfS"
      },
      "source": [
        "Awesome, now we are ready to start training!"
      ]
    },
    {
      "cell_type": "markdown",
      "metadata": {
        "id": "gYlQkKVoRUos"
      },
      "source": [
        "## Training\n",
        "\n",
        "The data is processed so that we are ready to start setting up the training pipeline. We will make use of 🤗's [Trainer](https://huggingface.co/transformers/master/main_classes/trainer.html?highlight=trainer) for which we essentially need to do the following:\n",
        "\n",
        "- Define a data collator. In contrast to most NLP models, W2V-BERT has a much larger input length than output length. Given the large input sizes, it is much more efficient to pad the training batches dynamically meaning that all training samples should only be padded to the longest sample in their batch and not the overall longest sample. Therefore, fine-tuning W2V-BERT requires a special padding data collator, which we will define below.\n",
        "\n",
        "- Evaluation metric. During training, the model should be evaluated on the word error rate. We should define a `compute_metrics` function accordingly\n",
        "\n",
        "- Load a pretrained checkpoint. We need to load a pretrained checkpoint and configure it correctly for training.\n",
        "\n",
        "- Define the training configuration.\n",
        "\n",
        "After having fine-tuned the model, we will correctly evaluate it on the test data and verify that it has indeed learned to correctly transcribe speech."
      ]
    },
    {
      "cell_type": "markdown",
      "metadata": {
        "id": "Slk403unUS91"
      },
      "source": [
        "### Set-up Trainer\n",
        "\n",
        "Let's start by defining the data collator. The code for the data collator was copied from [this example](https://github.com/huggingface/transformers/blob/7e61d56a45c19284cfda0cee8995fb552f6b1f4e/examples/pytorch/speech-recognition/run_speech_recognition_ctc.py#L219).\n",
        "\n",
        "Without going into too many details, in contrast to the common data collators, this data collator treats the `input_features` and `labels` differently and thus applies to separate padding functions on them. This is necessary because in speech input and output are of different modalities meaning that they should not be treated by the same padding function.\n",
        "Analogous to the common data collators, the padding tokens in the labels with `-100` so that those tokens are **not** taken into account when computing the loss."
      ]
    },
    {
      "cell_type": "code",
      "execution_count": null,
      "metadata": {
        "id": "tborvC9hx88e"
      },
      "outputs": [],
      "source": [
        "import torch\n",
        "\n",
        "from dataclasses import dataclass, field\n",
        "from typing import Any, Dict, List, Optional, Union\n",
        "\n",
        "@dataclass\n",
        "class DataCollatorCTCWithPadding:\n",
        "    processor: Wav2Vec2BertProcessor\n",
        "    padding: Union[bool, str] = True\n",
        "\n",
        "    def __call__(self, features: List[Dict[str, Union[List[int], torch.Tensor]]]) -> Dict[str, torch.Tensor]:\n",
        "        # split inputs and labels since they have to be of different lenghts and need\n",
        "        # different padding methods\n",
        "        input_features = [{\"input_features\": feature[\"input_features\"]} for feature in features]\n",
        "        label_features = [{\"input_ids\": feature[\"labels\"]} for feature in features]\n",
        "\n",
        "        batch = self.processor.pad(\n",
        "            input_features,\n",
        "            padding=self.padding,\n",
        "            return_tensors=\"pt\",\n",
        "        )\n",
        "\n",
        "        labels_batch = self.processor.pad(\n",
        "            labels=label_features,\n",
        "            padding=self.padding,\n",
        "            return_tensors=\"pt\",\n",
        "        )\n",
        "        # replace padding with -100 to ignore loss correctly\n",
        "        labels = labels_batch[\"input_ids\"].masked_fill(labels_batch.attention_mask.ne(1), -100)\n",
        "\n",
        "        batch[\"labels\"] = labels\n",
        "\n",
        "        return batch"
      ]
    },
    {
      "cell_type": "code",
      "execution_count": null,
      "metadata": {
        "id": "lbQf5GuZyQ4_"
      },
      "outputs": [],
      "source": [
        "data_collator = DataCollatorCTCWithPadding(processor=processor, padding=True)"
      ]
    },
    {
      "cell_type": "markdown",
      "metadata": {
        "id": "xO-Zdj-5cxXp"
      },
      "source": [
        "Next, the evaluation metric is defined. As mentioned earlier, the\n",
        "predominant metric in ASR is the word error rate (WER), hence we will use it in this notebook as well."
      ]
    },
    {
      "cell_type": "code",
      "execution_count": null,
      "metadata": {
        "colab": {
          "base_uri": "https://localhost:8080/",
          "height": 179,
          "referenced_widgets": [
            "2efb377eef144a4b94925976040dd12a",
            "5c98b5ccbbe84979ac45d517f075915d",
            "f08133197275429b9a3deda3c90831f2",
            "872e96697ba643faa39f390356dbbb24",
            "b57b6d8ba41441d0993c7b6ff2447354",
            "37ba60075caf4879864c3b843713cd4f",
            "0f7832be4353489d8d71a83920230e95",
            "e4ab7a8b593e4a3c82309fa86db0915e",
            "70e63ec41143478e9584f344e51b03e7",
            "148a4068bbda4dfdba028c9b4e152cad",
            "ece083f606204785bf3806000a0f26ae"
          ]
        },
        "id": "9Xsux2gmyXso",
        "outputId": "3121978c-e48e-44ae-9774-d3d2a6b5ef6c"
      },
      "outputs": [
        {
          "name": "stderr",
          "output_type": "stream",
          "text": [
            "<ipython-input-32-605de035dfd7>:1: FutureWarning: load_metric is deprecated and will be removed in the next major version of datasets. Use 'evaluate.load' instead, from the new library 🤗 Evaluate: https://huggingface.co/docs/evaluate\n",
            "  wer_metric = load_metric(\"wer\")\n",
            "/usr/local/lib/python3.10/dist-packages/datasets/load.py:756: FutureWarning: The repository for wer contains custom code which must be executed to correctly load the metric. You can inspect the repository content at https://raw.githubusercontent.com/huggingface/datasets/2.18.0/metrics/wer/wer.py\n",
            "You can avoid this message in future by passing the argument `trust_remote_code=True`.\n",
            "Passing `trust_remote_code=True` will be mandatory to load this metric from the next major release of `datasets`.\n",
            "  warnings.warn(\n"
          ]
        },
        {
          "data": {
            "application/vnd.jupyter.widget-view+json": {
              "model_id": "2efb377eef144a4b94925976040dd12a",
              "version_major": 2,
              "version_minor": 0
            },
            "text/plain": [
              "Downloading builder script:   0%|          | 0.00/1.90k [00:00<?, ?B/s]"
            ]
          },
          "metadata": {},
          "output_type": "display_data"
        }
      ],
      "source": [
        "wer_metric = load_metric(\"wer\")"
      ]
    },
    {
      "cell_type": "markdown",
      "metadata": {
        "id": "E1qZU5p-deqB"
      },
      "source": [
        "The model will return a sequence of logit vectors:\n",
        "$\\mathbf{y}_1, \\ldots, \\mathbf{y}_m$ with $\\mathbf{y}_1 = f_{\\theta}(x_1, \\ldots, x_n)[0]$ and $n >> m$.\n",
        "\n",
        "A logit vector $\\mathbf{y}_1$ contains the log-odds for each word in the vocabulary we defined earlier, thus $\\text{len}(\\mathbf{y}_i) =$ `config.vocab_size`. We are interested in the most likely prediction of the model and thus take the `argmax(...)` of the logits. Also, we transform the encoded labels back to the original string by replacing `-100` with the `pad_token_id` and decoding the ids while making sure that consecutive tokens are **not** grouped to the same token in CTC style ${}^1$."
      ]
    },
    {
      "cell_type": "code",
      "execution_count": null,
      "metadata": {
        "id": "1XZ-kjweyTy_"
      },
      "outputs": [],
      "source": [
        "def compute_metrics(pred):\n",
        "    pred_logits = pred.predictions\n",
        "    pred_ids = np.argmax(pred_logits, axis=-1)\n",
        "\n",
        "    pred.label_ids[pred.label_ids == -100] = processor.tokenizer.pad_token_id\n",
        "\n",
        "    pred_str = processor.batch_decode(pred_ids)\n",
        "    # we do not want to group tokens when computing the metrics\n",
        "    label_str = processor.batch_decode(pred.label_ids, group_tokens=False)\n",
        "\n",
        "    wer = wer_metric.compute(predictions=pred_str, references=label_str)\n",
        "\n",
        "    return {\"wer\": wer}"
      ]
    },
    {
      "cell_type": "markdown",
      "metadata": {
        "id": "Xmgrx4bRwLIH"
      },
      "source": [
        "Now, we can load the pretrained checkpoint of [Wav2Vec2-XLS-R-300M](https://huggingface.co/facebook/wav2vec2-xls-r-300m). The tokenizer's `pad_token_id` must be to define the model's `pad_token_id` or in the case of `Wav2Vec2BertForCTC` also CTC's *blank token* ${}^2$. To save GPU memory, we enable PyTorch's [gradient checkpointing](https://pytorch.org/docs/stable/checkpoint.html) and also set the loss reduction to \"*mean*\".\n",
        "\n",
        "Since, we're only training a small subset of weights, the model is not prone to overfitting. Therefore, we make sure to disable all dropout layers.\n",
        "\n",
        "**Note**: When using this notebook to train W2V-BERT on another language of Common Voice those hyper-parameter settings might not work very well. Feel free to adapt those depending on your use case."
      ]
    },
    {
      "cell_type": "code",
      "execution_count": null,
      "metadata": {
        "colab": {
          "base_uri": "https://localhost:8080/",
          "height": 138,
          "referenced_widgets": [
            "35a6d6ab1bb741fc827ddfbc5d1769a3",
            "502635a25b004bd5a6db0b37f3b5e336",
            "27ce6f18b311411aa06ad3fbe572723f",
            "b913f0cc028642ff9928fffe7a5e297c",
            "814dec784ae64ae6ad6f359cc1fb6647",
            "1e8e4e598e4c47fa8e2e9910e95dac75",
            "5968634ecd8d4c2ba2f2d3457e9e04a6",
            "819c4fa5dd13477ab2618fb85857fd26",
            "73b0e62ccd3543e48d2608de1df3d95b",
            "fe5c45d6d8604abe88700111fc504b8c",
            "65ee7fc205a140748b0e96e2ee185615",
            "98d9a2e070c14d7e8a43f320169abdec",
            "f3551d5b647f4feeaf7a3691ac9bd349",
            "46613a7e2a754267898e4ec2e43ceb2b",
            "c7e705cf3ce1470bb63c89813252f077",
            "695ef3fa108e4e09aee52fa6adfe1a9c",
            "fe679e6d33b644a59eb67347bec182b6",
            "daaf83aa097e4b888ffee112d26a2fb8",
            "8f38983385354f44b99c167b2090351d",
            "8ee68ad071ee452993af29ecacd2d66c",
            "e0be1be3d05947999ca59fe8a30f90ca",
            "78bac143add94da9a4864ed41edc2146"
          ]
        },
        "id": "e7cqAWIayn6w",
        "outputId": "4ed6e261-aa33-4f45-972d-f593cda6a7d8"
      },
      "outputs": [
        {
          "data": {
            "application/vnd.jupyter.widget-view+json": {
              "model_id": "35a6d6ab1bb741fc827ddfbc5d1769a3",
              "version_major": 2,
              "version_minor": 0
            },
            "text/plain": [
              "config.json:   0%|          | 0.00/1.87k [00:00<?, ?B/s]"
            ]
          },
          "metadata": {},
          "output_type": "display_data"
        },
        {
          "data": {
            "application/vnd.jupyter.widget-view+json": {
              "model_id": "98d9a2e070c14d7e8a43f320169abdec",
              "version_major": 2,
              "version_minor": 0
            },
            "text/plain": [
              "model.safetensors:   0%|          | 0.00/2.32G [00:00<?, ?B/s]"
            ]
          },
          "metadata": {},
          "output_type": "display_data"
        },
        {
          "name": "stderr",
          "output_type": "stream",
          "text": [
            "Some weights of Wav2Vec2BertForCTC were not initialized from the model checkpoint at facebook/w2v-bert-2.0 and are newly initialized: ['adapter.layers.0.ffn.intermediate_dense.bias', 'adapter.layers.0.ffn.intermediate_dense.weight', 'adapter.layers.0.ffn.output_dense.bias', 'adapter.layers.0.ffn.output_dense.weight', 'adapter.layers.0.ffn_layer_norm.bias', 'adapter.layers.0.ffn_layer_norm.weight', 'adapter.layers.0.residual_conv.bias', 'adapter.layers.0.residual_conv.weight', 'adapter.layers.0.residual_layer_norm.bias', 'adapter.layers.0.residual_layer_norm.weight', 'adapter.layers.0.self_attn.linear_k.bias', 'adapter.layers.0.self_attn.linear_k.weight', 'adapter.layers.0.self_attn.linear_out.bias', 'adapter.layers.0.self_attn.linear_out.weight', 'adapter.layers.0.self_attn.linear_q.bias', 'adapter.layers.0.self_attn.linear_q.weight', 'adapter.layers.0.self_attn.linear_v.bias', 'adapter.layers.0.self_attn.linear_v.weight', 'adapter.layers.0.self_attn_conv.bias', 'adapter.layers.0.self_attn_conv.weight', 'adapter.layers.0.self_attn_layer_norm.bias', 'adapter.layers.0.self_attn_layer_norm.weight', 'lm_head.bias', 'lm_head.weight']\n",
            "You should probably TRAIN this model on a down-stream task to be able to use it for predictions and inference.\n"
          ]
        }
      ],
      "source": [
        "from transformers import Wav2Vec2BertForCTC\n",
        "\n",
        "model = Wav2Vec2BertForCTC.from_pretrained(\n",
        "    \"facebook/w2v-bert-2.0\",\n",
        "    attention_dropout=0.0,\n",
        "    hidden_dropout=0.0,\n",
        "    feat_proj_dropout=0.0,\n",
        "    mask_time_prob=0.0,\n",
        "    layerdrop=0.0,\n",
        "    ctc_loss_reduction=\"mean\",\n",
        "    add_adapter=True,\n",
        "    pad_token_id=processor.tokenizer.pad_token_id,\n",
        "    vocab_size=len(processor.tokenizer),\n",
        ")"
      ]
    },
    {
      "cell_type": "markdown",
      "metadata": {
        "id": "lD4aGhQM0K-D"
      },
      "source": [
        "In a final step, we define all parameters related to training.\n",
        "To give more explanation on some of the parameters:\n",
        "- `group_by_length` makes training more efficient by grouping training samples of similar input length into one batch. This can significantly speed up training time by heavily reducing the overall number of useless padding tokens that are passed through the model\n",
        "- `learning_rate` was heuristically tuned until fine-tuning has become stable. Note that those parameters strongly depend on the Common Voice dataset and might be suboptimal for other speech datasets.\n",
        "\n",
        "For more explanations on other parameters, one can take a look at the [docs](https://huggingface.co/transformers/master/main_classes/trainer.html?highlight=trainer#trainingarguments).\n",
        "\n",
        "During training, a checkpoint will be uploaded asynchronously to the hub every 600 training steps. It allows you to also play around with the demo widget even while your model is still training.\n",
        "\n",
        "**Note**: If one does not want to upload the model checkpoints to the hub, simply set `push_to_hub=False`."
      ]
    },
    {
      "cell_type": "markdown",
      "metadata": {
        "id": "geir46Ptc7Mj"
      },
      "source": [
        "### Wandb"
      ]
    },
    {
      "cell_type": "code",
      "execution_count": null,
      "metadata": {
        "id": "oEW_V3Owc6hq"
      },
      "outputs": [],
      "source": [
        "import wandb\n",
        "wandb.login()"
      ]
    },
    {
      "cell_type": "code",
      "execution_count": null,
      "metadata": {
        "id": "3ErHRvxNeL5g"
      },
      "outputs": [],
      "source": [
        "%env WANDB_PROJECT=W2V-BERT-LugandaASR\n",
        "%env WANDB_LOG_MODEL=\"checkpoint\""
      ]
    },
    {
      "cell_type": "code",
      "execution_count": null,
      "metadata": {
        "id": "KbeKSV7uzGPP"
      },
      "outputs": [],
      "source": [
        "from transformers import TrainingArguments\n",
        "\n",
        "training_args = TrainingArguments(\n",
        "  output_dir=repo_name,\n",
        "  group_by_length=True,\n",
        "  per_device_train_batch_size=32,\n",
        "  gradient_accumulation_steps=2,\n",
        "  evaluation_strategy=\"steps\",\n",
        "  num_train_epochs=10,\n",
        "  gradient_checkpointing=True,\n",
        "  fp16=True,\n",
        "  save_steps=600,\n",
        "  eval_steps=300,\n",
        "  logging_steps=300,\n",
        "  learning_rate=5e-5,\n",
        "  warmup_steps=500,\n",
        "  save_total_limit=2,\n",
        "  push_to_hub=True,\n",
        "  dataloader_pin_memory = True,\n",
        "  dataloader_num_workers=4,\n",
        ")"
      ]
    },
    {
      "cell_type": "markdown",
      "metadata": {
        "id": "OsW-WZcL1ZtN"
      },
      "source": [
        "Now, all instances can be passed to Trainer and we are ready to start training!"
      ]
    },
    {
      "cell_type": "code",
      "execution_count": null,
      "metadata": {
        "id": "rY7vBmFCPFgC"
      },
      "outputs": [],
      "source": [
        "from transformers import Trainer\n",
        "\n",
        "trainer = Trainer(\n",
        "    model=model,\n",
        "    data_collator=data_collator,\n",
        "    args=training_args,\n",
        "    compute_metrics=compute_metrics,\n",
        "    train_dataset=common_voice_train,\n",
        "    eval_dataset=common_voice_test,\n",
        "    tokenizer=processor.feature_extractor,\n",
        ")"
      ]
    },
    {
      "cell_type": "markdown",
      "metadata": {
        "id": "UoXBx1JAA0DX"
      },
      "source": [
        "\n",
        "\n",
        "---\n",
        "\n",
        "${}^1$ To allow models to become independent of the speaker rate, in CTC, consecutive tokens that are identical are simply grouped as a single token. However, the encoded labels should not be grouped when decoding since they don't correspond to the predicted tokens of the model, which is why the `group_tokens=False` parameter has to be passed. If we wouldn't pass this parameter a word like `\"hello\"` would incorrectly be encoded, and decoded as `\"helo\"`.\n",
        "\n",
        "${}^2$ The blank token allows the model to predict a word, such as `\"hello\"` by forcing it to insert the blank token between the two l's. A CTC-conform prediction of `\"hello\"` of our model would be `[PAD] [PAD] \"h\" \"e\" \"e\" \"l\" \"l\" [PAD] \"l\" \"o\" \"o\" [PAD]`."
      ]
    },
    {
      "cell_type": "markdown",
      "metadata": {
        "id": "rpvZHM1xReIW"
      },
      "source": [
        "### Training"
      ]
    },
    {
      "cell_type": "markdown",
      "metadata": {
        "id": "j-3oKSzZ1hGq"
      },
      "source": [
        "Training will take multiple hours depending on the GPU allocated to this notebook. While the trained model yields somewhat satisfying results on *Common Voice*'s test data of Mongolian, it is by no means an optimally fine-tuned model. The purpose of this notebook is just to demonstrate how to fine-tune W2V-BERT on an ASR dataset.\n",
        "\n",
        "In case you want to use this google colab to fine-tune your model, you should make sure that your training doesn't stop due to inactivity. A simple hack to prevent this is to paste the following code into the console of this tab (*right mouse click -> inspect -> Console tab and insert code*)."
      ]
    },
    {
      "cell_type": "markdown",
      "metadata": {
        "id": "VYYAvgkW4P0m"
      },
      "source": [
        "```javascript\n",
        "function ConnectButton(){\n",
        "    console.log(\"Connect pushed\");\n",
        "    document.querySelector(\"#top-toolbar > colab-connect-button\").shadowRoot.querySelector(\"#connect\").click()\n",
        "}\n",
        "setInterval(ConnectButton,60000);\n",
        "```"
      ]
    },
    {
      "cell_type": "markdown",
      "metadata": {
        "id": "7bGgLV2r0yvZ"
      },
      "source": [
        "Depending on what GPU was allocated to your google colab it might be possible that you are seeing an `\"out-of-memory\"` error here. In this case, it's probably best to reduce `per_device_train_batch_size` to 8 or even less and increase [`gradient_accumulation`](https://huggingface.co/transformers/master/main_classes/trainer.html#trainingarguments)."
      ]
    },
    {
      "cell_type": "code",
      "execution_count": null,
      "metadata": {
        "colab": {
          "base_uri": "https://localhost:8080/",
          "height": 489
        },
        "id": "9fRr9TG5pGBl",
        "outputId": "44b9abee-f2ff-4cff-cf78-6358813c374c"
      },
      "outputs": [
        {
          "name": "stderr",
          "output_type": "stream",
          "text": [
            "/usr/local/lib/python3.10/dist-packages/torch/utils/data/dataloader.py:557: UserWarning: This DataLoader will create 4 worker processes in total. Our suggested max number of worker in current system is 2, which is smaller than what this DataLoader is going to create. Please be aware that excessive worker creation might get DataLoader running slow or even freeze, lower the worker number to avoid potential slowness/freeze if necessary.\n",
            "  warnings.warn(_create_warning_msg(\n",
            "/usr/local/lib/python3.10/dist-packages/torch/utils/checkpoint.py:429: UserWarning: torch.utils.checkpoint: please pass in use_reentrant=True or use_reentrant=False explicitly. The default value of use_reentrant will be updated to be False in the future. To maintain current behavior, pass use_reentrant=True. It is recommended that you use use_reentrant=False. Refer to docs for more details on the differences between the two variants.\n",
            "  warnings.warn(\n"
          ]
        },
        {
          "data": {
            "text/html": [
              "\n",
              "    <div>\n",
              "      \n",
              "      <progress value='1005' max='1040' style='width:300px; height:20px; vertical-align: middle;'></progress>\n",
              "      [1005/1040 2:48:22 < 05:52, 0.10 it/s, Epoch 9.65/10]\n",
              "    </div>\n",
              "    <table border=\"1\" class=\"dataframe\">\n",
              "  <thead>\n",
              " <tr style=\"text-align: left;\">\n",
              "      <th>Step</th>\n",
              "      <th>Training Loss</th>\n",
              "      <th>Validation Loss</th>\n",
              "      <th>Wer</th>\n",
              "    </tr>\n",
              "  </thead>\n",
              "  <tbody>\n",
              "    <tr>\n",
              "      <td>300</td>\n",
              "      <td>1.130700</td>\n",
              "      <td>0.292547</td>\n",
              "      <td>0.286617</td>\n",
              "    </tr>\n",
              "    <tr>\n",
              "      <td>600</td>\n",
              "      <td>0.090400</td>\n",
              "      <td>0.285818</td>\n",
              "      <td>0.249394</td>\n",
              "    </tr>\n",
              "    <tr>\n",
              "      <td>900</td>\n",
              "      <td>0.043300</td>\n",
              "      <td>0.276870</td>\n",
              "      <td>0.219701</td>\n",
              "    </tr>\n",
              "  </tbody>\n",
              "</table><p>"
            ],
            "text/plain": [
              "<IPython.core.display.HTML object>"
            ]
          },
          "metadata": {},
          "output_type": "display_data"
        },
        {
          "name": "stderr",
          "output_type": "stream",
          "text": [
            "/usr/local/lib/python3.10/dist-packages/torch/utils/checkpoint.py:429: UserWarning: torch.utils.checkpoint: please pass in use_reentrant=True or use_reentrant=False explicitly. The default value of use_reentrant will be updated to be False in the future. To maintain current behavior, pass use_reentrant=True. It is recommended that you use use_reentrant=False. Refer to docs for more details on the differences between the two variants.\n",
            "  warnings.warn(\n",
            "/usr/local/lib/python3.10/dist-packages/torch/utils/data/dataloader.py:557: UserWarning: This DataLoader will create 4 worker processes in total. Our suggested max number of worker in current system is 2, which is smaller than what this DataLoader is going to create. Please be aware that excessive worker creation might get DataLoader running slow or even freeze, lower the worker number to avoid potential slowness/freeze if necessary.\n",
            "  warnings.warn(_create_warning_msg(\n"
          ]
        },
        {
          "data": {
            "text/html": [
              "\n",
              "    <div>\n",
              "      \n",
              "      <progress value='1013' max='1040' style='width:300px; height:20px; vertical-align: middle;'></progress>\n",
              "      [1013/1040 2:49:22 < 04:31, 0.10 it/s, Epoch 9.73/10]\n",
              "    </div>\n",
              "    <table border=\"1\" class=\"dataframe\">\n",
              "  <thead>\n",
              " <tr style=\"text-align: left;\">\n",
              "      <th>Step</th>\n",
              "      <th>Training Loss</th>\n",
              "      <th>Validation Loss</th>\n",
              "      <th>Wer</th>\n",
              "    </tr>\n",
              "  </thead>\n",
              "  <tbody>\n",
              "    <tr>\n",
              "      <td>300</td>\n",
              "      <td>1.130700</td>\n",
              "      <td>0.292547</td>\n",
              "      <td>0.286617</td>\n",
              "    </tr>\n",
              "    <tr>\n",
              "      <td>600</td>\n",
              "      <td>0.090400</td>\n",
              "      <td>0.285818</td>\n",
              "      <td>0.249394</td>\n",
              "    </tr>\n",
              "    <tr>\n",
              "      <td>900</td>\n",
              "      <td>0.043300</td>\n",
              "      <td>0.276870</td>\n",
              "      <td>0.219701</td>\n",
              "    </tr>\n",
              "  </tbody>\n",
              "</table><p>"
            ],
            "text/plain": [
              "<IPython.core.display.HTML object>"
            ]
          },
          "metadata": {},
          "output_type": "display_data"
        }
      ],
      "source": [
        "trainer.train()"
      ]
    },
    {
      "cell_type": "markdown",
      "metadata": {
        "id": "a9q4mgMZplr_"
      },
      "source": [
        "The training loss and validation WER go down nicely. In comparison, the same training with XLR-S, has a final WER of 41.97%."
      ]
    },
    {
      "cell_type": "markdown",
      "metadata": {
        "id": "4Ya7WEy0pd13"
      },
      "source": [
        "You can now upload the result of the training to the 🤗 Hub, just execute this instruction:"
      ]
    },
    {
      "cell_type": "code",
      "execution_count": null,
      "metadata": {
        "id": "ArG1Thf6NBWm"
      },
      "outputs": [],
      "source": [
        "trainer.push_to_hub()"
      ]
    },
    {
      "cell_type": "markdown",
      "metadata": {
        "id": "RHIVc44_fY2N"
      },
      "source": [
        "You can now share this model with all your friends, family, favorite pets: they can all load it with the identifier \"your-username/the-name-you-picked\" so for instance:"
      ]
    },
    {
      "cell_type": "markdown",
      "metadata": {
        "id": "5lWWIKyBpx1h"
      },
      "source": [
        "```python\n",
        "from transformers import AutoModelForCTC, Wav2Vec2BertProcessor\n",
        "\n",
        "model = AutoModelForCTC.from_pretrained(\"dmusingu/w2v-bert-2.0-luganda-CV7.0\")\n",
        "processor = Wav2Vec2BertProcessor.from_pretrained(\"dmusingu/w2v-bert-2.0-luganda-CV7.0\")\n",
        "```"
      ]
    },
    {
      "cell_type": "markdown",
      "metadata": {
        "id": "pmi1cX0fRBit"
      },
      "source": [
        "For more examples of how W2V-BERT can be fine-tuned, please take a look at the [official speech recognition examples](https://github.com/huggingface/transformers/tree/master/examples/pytorch/speech-recognition#examples)."
      ]
    },
    {
      "cell_type": "markdown",
      "metadata": {
        "id": "L8b8Qkoy3KyS"
      },
      "source": [
        "### Evaluation\n",
        "\n",
        "As a final check, let's load the model and verify that it indeed has learned to transcribe Mongolian speech.\n",
        "\n",
        "Let's first load the pretrained checkpoint."
      ]
    },
    {
      "cell_type": "code",
      "execution_count": null,
      "metadata": {
        "colab": {
          "base_uri": "https://localhost:8080/",
          "height": 99,
          "referenced_widgets": [
            "790b0e1370274011b264548a4caca463",
            "73c44d108b0d4290ad50857cbfc4c610",
            "609b50dcab62490da8d0bf53ee4acde7",
            "b9edbc1a5c834bce95a3fea94c50457e",
            "827493cf7f174d16aa54d8a7c8d9e6dd",
            "ee15fa01f96f407f823e3a6992834f62",
            "0578f0445fa648118b9f8c221889bb7c",
            "d7574e77e51645688c0bfd6313d5df63",
            "c835cab9e9c442a795f6ae42463a7624",
            "dc96412083fe4c198d161d404d5f01a1",
            "cf129b88e7754ae0b3d432b09d56afc2",
            "055cdc64d25941b095b2522a2171be6b",
            "d72bb5c8b91542d89cdc554359e20e01",
            "a0c88747e34047bda02cb4590724ab9b",
            "683cc100810f403b92e713543954b393",
            "a3d4246e17ee4500b3aa0dc043aca624",
            "fb90d172157f489e960d8adb0040a2e9",
            "a3aed732d0b647c1a8b898272bd70483",
            "f1494c1d1a3b41efb8f6243fc6fba0c7",
            "57a7bcaa7c264a75823a2d900c18a03a",
            "2037afd2bdd146d09c7b3dda937a8e08",
            "c730c64392ea4c9fa46bfafd81d684cf"
          ]
        },
        "id": "R351I9IQp_9D",
        "outputId": "78aeffe4-87b0-436c-e5ca-013cc0a8e3a1"
      },
      "outputs": [
        {
          "data": {
            "application/vnd.jupyter.widget-view+json": {
              "model_id": "790b0e1370274011b264548a4caca463",
              "version_major": 2,
              "version_minor": 0
            },
            "text/plain": [
              "config.json:   0%|          | 0.00/1.92k [00:00<?, ?B/s]"
            ]
          },
          "metadata": {},
          "output_type": "display_data"
        },
        {
          "data": {
            "application/vnd.jupyter.widget-view+json": {
              "model_id": "055cdc64d25941b095b2522a2171be6b",
              "version_major": 2,
              "version_minor": 0
            },
            "text/plain": [
              "model.safetensors:   0%|          | 0.00/2.42G [00:00<?, ?B/s]"
            ]
          },
          "metadata": {},
          "output_type": "display_data"
        },
        {
          "name": "stderr",
          "output_type": "stream",
          "text": [
            "Special tokens have been added in the vocabulary, make sure the associated word embeddings are fine-tuned or trained.\n"
          ]
        }
      ],
      "source": [
        "from transformers import AutoModelForCTC, Wav2Vec2BertProcessor\n",
        "\n",
        "model = AutoModelForCTC.from_pretrained(\"dmusingu/\" + repo_name).to(\"cuda\")\n",
        "processor = Wav2Vec2BertProcessor.from_pretrained(\"dmusingu/\" + repo_name)"
      ]
    },
    {
      "cell_type": "markdown",
      "metadata": {
        "id": "qD2v7KT6kurE"
      },
      "source": [
        "Let's process the audio, run a forward pass and predict the ids"
      ]
    },
    {
      "cell_type": "code",
      "execution_count": null,
      "metadata": {
        "id": "X2Jf2cO7gKrp"
      },
      "outputs": [],
      "source": [
        "input_dict = common_voice_test[0]\n",
        "\n",
        "logits = model(torch.tensor(input_dict[\"input_features\"]).to(\"cuda\").unsqueeze(0)).logits\n",
        "\n",
        "pred_ids = torch.argmax(logits, dim=-1)[0]"
      ]
    },
    {
      "cell_type": "markdown",
      "metadata": {
        "id": "YiyKkRlpzAHO"
      },
      "source": [
        "\n",
        "Finally, we can decode the example from the predicted tokens:"
      ]
    },
    {
      "cell_type": "code",
      "execution_count": null,
      "metadata": {
        "colab": {
          "base_uri": "https://localhost:8080/",
          "height": 36
        },
        "id": "1L6lJFi2zAHO",
        "outputId": "dbebb016-3f9b-4227-f5c7-926565530545"
      },
      "outputs": [
        {
          "data": {
            "application/vnd.google.colaboratory.intrinsic+json": {
              "type": "string"
            },
            "text/plain": [
              "'эрчүүдийн ганцаардлыг эмэгтэйчүүд ойлгох нь ховор юм'"
            ]
          },
          "execution_count": 47,
          "metadata": {},
          "output_type": "execute_result"
        }
      ],
      "source": [
        "processor.decode(pred_ids)"
      ]
    },
    {
      "cell_type": "markdown",
      "metadata": {
        "id": "fCjw3-e_vFO8"
      },
      "source": [
        "And compare it to the reference transcription:"
      ]
    },
    {
      "cell_type": "code",
      "execution_count": null,
      "metadata": {
        "colab": {
          "base_uri": "https://localhost:8080/",
          "height": 36
        },
        "id": "5yz8BmIAu8do",
        "outputId": "ba084e54-44bf-4e5a-9445-97e0257d8597"
      },
      "outputs": [
        {
          "data": {
            "application/vnd.google.colaboratory.intrinsic+json": {
              "type": "string"
            },
            "text/plain": [
              "'эрчүдийн ганцардлыг эмэгтэйчүд ойлгох нь ховор юм'"
            ]
          },
          "execution_count": 48,
          "metadata": {},
          "output_type": "execute_result"
        }
      ],
      "source": [
        "processor.decode(input_dict[\"labels\"]).lower()"
      ]
    },
    {
      "cell_type": "markdown",
      "metadata": {
        "id": "HwhyoMml3oOT"
      },
      "source": [
        "Alright! The transcription can definitely be recognized from our prediction, but it is not perfect yet. Training the model a bit longer, spending more time on the data preprocessing, and especially using a language model for decoding would certainly improve the model's overall performance.\n",
        "\n",
        "For a demonstration model on a low-resource language, the results are quite acceptable however 🤗."
      ]
    },
    {
      "cell_type": "markdown",
      "metadata": {
        "id": "i-Ed8w1bLKMk"
      },
      "source": [
        "\n",
        "## Scaling-up the training\n",
        "\n",
        "We've shown in this blogpost how Meta's `w2v-bert-2.0` fine-tuning can give near state-of-the-art performance on low-resource languages.\n",
        "\n",
        "To take things a step further, I've put together a set of tips and pointers given by my colleagues at Hugging Face on how to scale up training for this model. Many thanks to [Patrick](https://huggingface.co/patrickvonplaten), [Sanchit](https://huggingface.co/sanchit-gandhi) and [Pablo](https://huggingface.co/Molbap) for their valuable expertise and help 🤗\n",
        "\n",
        "Note that Common Voice newest version ([CV16](https://huggingface.co/datasets/mozilla-foundation/common_voice_16_0)) provides many more hours of data and for may languages and thus provides fertile ground for much more efficient models in many low-resource languages.\n",
        "\n",
        "\n",
        "### Datasets-related tips\n",
        "\n",
        "CTC ASR is typically done with lower-case, un-punctuated transcriptions. This simplifies the CTC task since the model is considered as \"acoustic only\", meaning that it makes prediction largely based on the phonetics sounds of the audio, rather than any language modelling context of the spoken sentence.\n",
        "\n",
        "Very low-frequency characters can significantly affect loss during learning by causing loss spikes via erroneous targets. By default, the CTC tokenizer created in this blog post would add them to the vocabulary even if their frequency is negligible compared to more frequent characters. We can treat these characters as \"errors\" in the dataset annotation, so that they can be removed from the vocabulary, and simply classified as `\"[UNK]\"` during training.\n",
        "\n",
        "It is therefore absolutely necessary to recheck the tokenizer vocabulary and remove all low-frequency characters, in much the same way as we removed Latin characters when creating the tokenizer.\n",
        "\n",
        "Note that the Common Voice dataset is particularly prone to such \"wrong\" characters, for example characters from other languages (阪).\n",
        "\n",
        "### Training-related tips\n",
        "\n",
        "**Average duration seen by each CTC token:** According to the advice of my colleagues, the ideal ratio of duration seen per CTC token is 10 to 35 ms. In other words, to be able to learn and predict correctly, the duration of the acoustic information a CTC token needs to see should be neither too low nor too high. In fact, it should more or less correspond to a fraction of the time it takes us humans to pronounce a phoneme.\n",
        "\n",
        "This is something that came to light when I started refining this new W2V2-Bert model (you can find the logs of one of my experiments [here](https://wandb.ai/ylacombe/huggingface/runs/4y8pd2gq)). I quickly noticed that the loss curve of my model was initially going nicely downwards, as expected, but at some point it started to explode.\n",
        "\n",
        "After discussing this with my colleagues, I realized that I had been using a [basic checkpoint with no architecture changes](https://huggingface.co/facebook/w2v-bert-2.0), and that each CTC token was seeing a piece of the signal for 30 to 60 ms. Adding an adapter layer was enough to reduce the signal chunk sampling to the desired duration.\n",
        "\n",
        "\n",
        "**Under-training:** After showing this blog post [training run](https://huggingface.co/hf-audio/w2v-bert-2.0-mongolian-colab-CV16.0#training-results) and another [training attempt](https://wandb.ai/ylacombe/huggingface/runs/nasaux7f?workspace=user-ylacombe) on English Common Voice (about 2.5k validated hours) to my colleagues, they pointed out that the model was severely under-trained, something that could have been spotted by looking at the loss curve, which looks like it was stopped in the middle of a steep descent. This pointed out other issues as well, notably the loss curve not being smooth enough, a sign of wrong hyper-parameters settings.\n",
        "\n",
        "Here are a few ways to solve under-training in our case:\n",
        "- the warm-up rate might be too high, causing the learning rate to drop too quickly. A way to solve this would be keep the warmup ratio to 5 to 15% and scale up the number of epochs. The warm-up steps are essential to gradually bring the new language-model head weights into alignment with the pre-trained model.\n",
        "- Loss curve lack of smoothness can be played around thanks to [AdamW](https://pytorch.org/docs/stable/generated/torch.optim.AdamW.html)'s [\\\\( \\beta_2 \\\\)](https://huggingface.co/docs/transformers/main_classes/trainer#transformers.TrainingArguments.adam_beta2) which can typically set from 0.95 to 0.98 by default.\n",
        "\n",
        "\n",
        "\n",
        "\n",
        "*Related posts and additional links are listed here:*\n",
        "- [**Official paper**](https://huggingface.co/papers/2305.13516)\n",
        "- [**Original cobebase**](https://ai.meta.com/research/publications/seamless-multilingual-expressive-and-streaming-speech-translation/)\n",
        "- [**Transformers Docs**](https://huggingface.co/docs/transformers/main/en/model_doc/wav2vec2-bert)\n",
        "- [**Related XLS-R blog post**](https://huggingface.co/blog/fine-tune-xlsr-wav2vec2)\n",
        "- [**Related MMS blog post**](https://huggingface.co/blog/mms_adapters)\n"
      ]
    },
    {
      "cell_type": "markdown",
      "metadata": {
        "id": "F898Mcw4CmFm"
      },
      "source": []
    }
  ],
  "metadata": {
    "accelerator": "GPU",
    "colab": {
      "gpuType": "T4",
      "provenance": []
    },
    "kernelspec": {
      "display_name": "Python 3",
      "name": "python3"
    },
    "widgets": {
      "application/vnd.jupyter.widget-state+json": {
        "02b17bfa039c44f0bfd1fe6d5fc85670": {
          "model_module": "@jupyter-widgets/controls",
          "model_module_version": "1.5.0",
          "model_name": "ProgressStyleModel",
          "state": {
            "_model_module": "@jupyter-widgets/controls",
            "_model_module_version": "1.5.0",
            "_model_name": "ProgressStyleModel",
            "_view_count": null,
            "_view_module": "@jupyter-widgets/base",
            "_view_module_version": "1.2.0",
            "_view_name": "StyleView",
            "bar_color": null,
            "description_width": ""
          }
        },
        "055cdc64d25941b095b2522a2171be6b": {
          "model_module": "@jupyter-widgets/controls",
          "model_module_version": "1.5.0",
          "model_name": "HBoxModel",
          "state": {
            "_dom_classes": [],
            "_model_module": "@jupyter-widgets/controls",
            "_model_module_version": "1.5.0",
            "_model_name": "HBoxModel",
            "_view_count": null,
            "_view_module": "@jupyter-widgets/controls",
            "_view_module_version": "1.5.0",
            "_view_name": "HBoxView",
            "box_style": "",
            "children": [
              "IPY_MODEL_d72bb5c8b91542d89cdc554359e20e01",
              "IPY_MODEL_a0c88747e34047bda02cb4590724ab9b",
              "IPY_MODEL_683cc100810f403b92e713543954b393"
            ],
            "layout": "IPY_MODEL_a3d4246e17ee4500b3aa0dc043aca624"
          }
        },
        "0578f0445fa648118b9f8c221889bb7c": {
          "model_module": "@jupyter-widgets/controls",
          "model_module_version": "1.5.0",
          "model_name": "DescriptionStyleModel",
          "state": {
            "_model_module": "@jupyter-widgets/controls",
            "_model_module_version": "1.5.0",
            "_model_name": "DescriptionStyleModel",
            "_view_count": null,
            "_view_module": "@jupyter-widgets/base",
            "_view_module_version": "1.2.0",
            "_view_name": "StyleView",
            "description_width": ""
          }
        },
        "0773e09201ef454bbc12ce31fc1bb52f": {
          "model_module": "@jupyter-widgets/controls",
          "model_module_version": "1.5.0",
          "model_name": "DescriptionStyleModel",
          "state": {
            "_model_module": "@jupyter-widgets/controls",
            "_model_module_version": "1.5.0",
            "_model_name": "DescriptionStyleModel",
            "_view_count": null,
            "_view_module": "@jupyter-widgets/base",
            "_view_module_version": "1.2.0",
            "_view_name": "StyleView",
            "description_width": ""
          }
        },
        "09525173c22f475aac6a9a2f79f0ca92": {
          "model_module": "@jupyter-widgets/base",
          "model_module_version": "1.2.0",
          "model_name": "LayoutModel",
          "state": {
            "_model_module": "@jupyter-widgets/base",
            "_model_module_version": "1.2.0",
            "_model_name": "LayoutModel",
            "_view_count": null,
            "_view_module": "@jupyter-widgets/base",
            "_view_module_version": "1.2.0",
            "_view_name": "LayoutView",
            "align_content": null,
            "align_items": null,
            "align_self": null,
            "border": null,
            "bottom": null,
            "display": null,
            "flex": null,
            "flex_flow": null,
            "grid_area": null,
            "grid_auto_columns": null,
            "grid_auto_flow": null,
            "grid_auto_rows": null,
            "grid_column": null,
            "grid_gap": null,
            "grid_row": null,
            "grid_template_areas": null,
            "grid_template_columns": null,
            "grid_template_rows": null,
            "height": null,
            "justify_content": null,
            "justify_items": null,
            "left": null,
            "margin": null,
            "max_height": null,
            "max_width": null,
            "min_height": null,
            "min_width": null,
            "object_fit": null,
            "object_position": null,
            "order": null,
            "overflow": null,
            "overflow_x": null,
            "overflow_y": null,
            "padding": null,
            "right": null,
            "top": null,
            "visibility": null,
            "width": null
          }
        },
        "0a9db19757f1491da3a8e8af13041acb": {
          "model_module": "@jupyter-widgets/controls",
          "model_module_version": "1.5.0",
          "model_name": "HTMLModel",
          "state": {
            "_dom_classes": [],
            "_model_module": "@jupyter-widgets/controls",
            "_model_module_version": "1.5.0",
            "_model_name": "HTMLModel",
            "_view_count": null,
            "_view_module": "@jupyter-widgets/controls",
            "_view_module_version": "1.5.0",
            "_view_name": "HTMLView",
            "description": "",
            "description_tooltip": null,
            "layout": "IPY_MODEL_09525173c22f475aac6a9a2f79f0ca92",
            "placeholder": "​",
            "style": "IPY_MODEL_6734a45b0d3049369c2772fea4caca65",
            "value": " 3.29k/3.29k [00:00&lt;00:00, 193kB/s]"
          }
        },
        "0c4863a6e2d646a8a6a72be2b9f57abc": {
          "model_module": "@jupyter-widgets/controls",
          "model_module_version": "1.5.0",
          "model_name": "HBoxModel",
          "state": {
            "_dom_classes": [],
            "_model_module": "@jupyter-widgets/controls",
            "_model_module_version": "1.5.0",
            "_model_name": "HBoxModel",
            "_view_count": null,
            "_view_module": "@jupyter-widgets/controls",
            "_view_module_version": "1.5.0",
            "_view_name": "HBoxView",
            "box_style": "",
            "children": [
              "IPY_MODEL_41754990023244739981819e70d646aa",
              "IPY_MODEL_98358ecf9250411b9ac62c0c293582fc",
              "IPY_MODEL_f8f7e7f55e5946d3beec998bce946d60"
            ],
            "layout": "IPY_MODEL_497bee8f2bb94477b342f889e5116117"
          }
        },
        "0f3a91482d3a427bae45d480ab581954": {
          "model_module": "@jupyter-widgets/controls",
          "model_module_version": "1.5.0",
          "model_name": "DescriptionStyleModel",
          "state": {
            "_model_module": "@jupyter-widgets/controls",
            "_model_module_version": "1.5.0",
            "_model_name": "DescriptionStyleModel",
            "_view_count": null,
            "_view_module": "@jupyter-widgets/base",
            "_view_module_version": "1.2.0",
            "_view_name": "StyleView",
            "description_width": ""
          }
        },
        "0f7832be4353489d8d71a83920230e95": {
          "model_module": "@jupyter-widgets/controls",
          "model_module_version": "1.5.0",
          "model_name": "DescriptionStyleModel",
          "state": {
            "_model_module": "@jupyter-widgets/controls",
            "_model_module_version": "1.5.0",
            "_model_name": "DescriptionStyleModel",
            "_view_count": null,
            "_view_module": "@jupyter-widgets/base",
            "_view_module_version": "1.2.0",
            "_view_name": "StyleView",
            "description_width": ""
          }
        },
        "0fa207f602d2468cb8eff5c771d02200": {
          "model_module": "@jupyter-widgets/base",
          "model_module_version": "1.2.0",
          "model_name": "LayoutModel",
          "state": {
            "_model_module": "@jupyter-widgets/base",
            "_model_module_version": "1.2.0",
            "_model_name": "LayoutModel",
            "_view_count": null,
            "_view_module": "@jupyter-widgets/base",
            "_view_module_version": "1.2.0",
            "_view_name": "LayoutView",
            "align_content": null,
            "align_items": null,
            "align_self": null,
            "border": null,
            "bottom": null,
            "display": null,
            "flex": null,
            "flex_flow": null,
            "grid_area": null,
            "grid_auto_columns": null,
            "grid_auto_flow": null,
            "grid_auto_rows": null,
            "grid_column": null,
            "grid_gap": null,
            "grid_row": null,
            "grid_template_areas": null,
            "grid_template_columns": null,
            "grid_template_rows": null,
            "height": null,
            "justify_content": null,
            "justify_items": null,
            "left": null,
            "margin": null,
            "max_height": null,
            "max_width": null,
            "min_height": null,
            "min_width": null,
            "object_fit": null,
            "object_position": null,
            "order": null,
            "overflow": null,
            "overflow_x": null,
            "overflow_y": null,
            "padding": null,
            "right": null,
            "top": null,
            "visibility": null,
            "width": null
          }
        },
        "104b877f2bea4dffbee766478c3e6194": {
          "model_module": "@jupyter-widgets/base",
          "model_module_version": "1.2.0",
          "model_name": "LayoutModel",
          "state": {
            "_model_module": "@jupyter-widgets/base",
            "_model_module_version": "1.2.0",
            "_model_name": "LayoutModel",
            "_view_count": null,
            "_view_module": "@jupyter-widgets/base",
            "_view_module_version": "1.2.0",
            "_view_name": "LayoutView",
            "align_content": null,
            "align_items": null,
            "align_self": null,
            "border": null,
            "bottom": null,
            "display": null,
            "flex": null,
            "flex_flow": null,
            "grid_area": null,
            "grid_auto_columns": null,
            "grid_auto_flow": null,
            "grid_auto_rows": null,
            "grid_column": null,
            "grid_gap": null,
            "grid_row": null,
            "grid_template_areas": null,
            "grid_template_columns": null,
            "grid_template_rows": null,
            "height": null,
            "justify_content": null,
            "justify_items": null,
            "left": null,
            "margin": null,
            "max_height": null,
            "max_width": null,
            "min_height": null,
            "min_width": null,
            "object_fit": null,
            "object_position": null,
            "order": null,
            "overflow": null,
            "overflow_x": null,
            "overflow_y": null,
            "padding": null,
            "right": null,
            "top": null,
            "visibility": null,
            "width": null
          }
        },
        "14020d02141d4348ac1212aacaa3db93": {
          "model_module": "@jupyter-widgets/controls",
          "model_module_version": "1.5.0",
          "model_name": "DescriptionStyleModel",
          "state": {
            "_model_module": "@jupyter-widgets/controls",
            "_model_module_version": "1.5.0",
            "_model_name": "DescriptionStyleModel",
            "_view_count": null,
            "_view_module": "@jupyter-widgets/base",
            "_view_module_version": "1.2.0",
            "_view_name": "StyleView",
            "description_width": ""
          }
        },
        "1433d80787ab4463b6639eb175cc2d66": {
          "model_module": "@jupyter-widgets/controls",
          "model_module_version": "1.5.0",
          "model_name": "HTMLModel",
          "state": {
            "_dom_classes": [],
            "_model_module": "@jupyter-widgets/controls",
            "_model_module_version": "1.5.0",
            "_model_name": "HTMLModel",
            "_view_count": null,
            "_view_module": "@jupyter-widgets/controls",
            "_view_module_version": "1.5.0",
            "_view_name": "HTMLView",
            "description": "",
            "description_tooltip": null,
            "layout": "IPY_MODEL_dcd21a5468674ea8af9cb955a4ac21db",
            "placeholder": "​",
            "style": "IPY_MODEL_1453d855e401464891564c1b3f0e0296",
            "value": " 6626/0 [00:21&lt;00:00, 95.77 examples/s]"
          }
        },
        "1453d855e401464891564c1b3f0e0296": {
          "model_module": "@jupyter-widgets/controls",
          "model_module_version": "1.5.0",
          "model_name": "DescriptionStyleModel",
          "state": {
            "_model_module": "@jupyter-widgets/controls",
            "_model_module_version": "1.5.0",
            "_model_name": "DescriptionStyleModel",
            "_view_count": null,
            "_view_module": "@jupyter-widgets/base",
            "_view_module_version": "1.2.0",
            "_view_name": "StyleView",
            "description_width": ""
          }
        },
        "148a4068bbda4dfdba028c9b4e152cad": {
          "model_module": "@jupyter-widgets/base",
          "model_module_version": "1.2.0",
          "model_name": "LayoutModel",
          "state": {
            "_model_module": "@jupyter-widgets/base",
            "_model_module_version": "1.2.0",
            "_model_name": "LayoutModel",
            "_view_count": null,
            "_view_module": "@jupyter-widgets/base",
            "_view_module_version": "1.2.0",
            "_view_name": "LayoutView",
            "align_content": null,
            "align_items": null,
            "align_self": null,
            "border": null,
            "bottom": null,
            "display": null,
            "flex": null,
            "flex_flow": null,
            "grid_area": null,
            "grid_auto_columns": null,
            "grid_auto_flow": null,
            "grid_auto_rows": null,
            "grid_column": null,
            "grid_gap": null,
            "grid_row": null,
            "grid_template_areas": null,
            "grid_template_columns": null,
            "grid_template_rows": null,
            "height": null,
            "justify_content": null,
            "justify_items": null,
            "left": null,
            "margin": null,
            "max_height": null,
            "max_width": null,
            "min_height": null,
            "min_width": null,
            "object_fit": null,
            "object_position": null,
            "order": null,
            "overflow": null,
            "overflow_x": null,
            "overflow_y": null,
            "padding": null,
            "right": null,
            "top": null,
            "visibility": null,
            "width": null
          }
        },
        "1550b196a4c44ea9b4fc510894670cc5": {
          "model_module": "@jupyter-widgets/base",
          "model_module_version": "1.2.0",
          "model_name": "LayoutModel",
          "state": {
            "_model_module": "@jupyter-widgets/base",
            "_model_module_version": "1.2.0",
            "_model_name": "LayoutModel",
            "_view_count": null,
            "_view_module": "@jupyter-widgets/base",
            "_view_module_version": "1.2.0",
            "_view_name": "LayoutView",
            "align_content": null,
            "align_items": null,
            "align_self": null,
            "border": null,
            "bottom": null,
            "display": null,
            "flex": null,
            "flex_flow": null,
            "grid_area": null,
            "grid_auto_columns": null,
            "grid_auto_flow": null,
            "grid_auto_rows": null,
            "grid_column": null,
            "grid_gap": null,
            "grid_row": null,
            "grid_template_areas": null,
            "grid_template_columns": null,
            "grid_template_rows": null,
            "height": null,
            "justify_content": null,
            "justify_items": null,
            "left": null,
            "margin": null,
            "max_height": null,
            "max_width": null,
            "min_height": null,
            "min_width": null,
            "object_fit": null,
            "object_position": null,
            "order": null,
            "overflow": null,
            "overflow_x": null,
            "overflow_y": null,
            "padding": null,
            "right": null,
            "top": null,
            "visibility": null,
            "width": null
          }
        },
        "1946a60256fa45c0832ead631424059d": {
          "model_module": "@jupyter-widgets/base",
          "model_module_version": "1.2.0",
          "model_name": "LayoutModel",
          "state": {
            "_model_module": "@jupyter-widgets/base",
            "_model_module_version": "1.2.0",
            "_model_name": "LayoutModel",
            "_view_count": null,
            "_view_module": "@jupyter-widgets/base",
            "_view_module_version": "1.2.0",
            "_view_name": "LayoutView",
            "align_content": null,
            "align_items": null,
            "align_self": null,
            "border": null,
            "bottom": null,
            "display": null,
            "flex": null,
            "flex_flow": null,
            "grid_area": null,
            "grid_auto_columns": null,
            "grid_auto_flow": null,
            "grid_auto_rows": null,
            "grid_column": null,
            "grid_gap": null,
            "grid_row": null,
            "grid_template_areas": null,
            "grid_template_columns": null,
            "grid_template_rows": null,
            "height": null,
            "justify_content": null,
            "justify_items": null,
            "left": null,
            "margin": null,
            "max_height": null,
            "max_width": null,
            "min_height": null,
            "min_width": null,
            "object_fit": null,
            "object_position": null,
            "order": null,
            "overflow": null,
            "overflow_x": null,
            "overflow_y": null,
            "padding": null,
            "right": null,
            "top": null,
            "visibility": null,
            "width": null
          }
        },
        "197c65e6880b4f6f9cf134e030cf7378": {
          "model_module": "@jupyter-widgets/base",
          "model_module_version": "1.2.0",
          "model_name": "LayoutModel",
          "state": {
            "_model_module": "@jupyter-widgets/base",
            "_model_module_version": "1.2.0",
            "_model_name": "LayoutModel",
            "_view_count": null,
            "_view_module": "@jupyter-widgets/base",
            "_view_module_version": "1.2.0",
            "_view_name": "LayoutView",
            "align_content": null,
            "align_items": null,
            "align_self": null,
            "border": null,
            "bottom": null,
            "display": null,
            "flex": null,
            "flex_flow": null,
            "grid_area": null,
            "grid_auto_columns": null,
            "grid_auto_flow": null,
            "grid_auto_rows": null,
            "grid_column": null,
            "grid_gap": null,
            "grid_row": null,
            "grid_template_areas": null,
            "grid_template_columns": null,
            "grid_template_rows": null,
            "height": null,
            "justify_content": null,
            "justify_items": null,
            "left": null,
            "margin": null,
            "max_height": null,
            "max_width": null,
            "min_height": null,
            "min_width": null,
            "object_fit": null,
            "object_position": null,
            "order": null,
            "overflow": null,
            "overflow_x": null,
            "overflow_y": null,
            "padding": null,
            "right": null,
            "top": null,
            "visibility": null,
            "width": null
          }
        },
        "1a4f2353154547348ca902e612bb15bd": {
          "model_module": "@jupyter-widgets/base",
          "model_module_version": "1.2.0",
          "model_name": "LayoutModel",
          "state": {
            "_model_module": "@jupyter-widgets/base",
            "_model_module_version": "1.2.0",
            "_model_name": "LayoutModel",
            "_view_count": null,
            "_view_module": "@jupyter-widgets/base",
            "_view_module_version": "1.2.0",
            "_view_name": "LayoutView",
            "align_content": null,
            "align_items": null,
            "align_self": null,
            "border": null,
            "bottom": null,
            "display": null,
            "flex": null,
            "flex_flow": null,
            "grid_area": null,
            "grid_auto_columns": null,
            "grid_auto_flow": null,
            "grid_auto_rows": null,
            "grid_column": null,
            "grid_gap": null,
            "grid_row": null,
            "grid_template_areas": null,
            "grid_template_columns": null,
            "grid_template_rows": null,
            "height": null,
            "justify_content": null,
            "justify_items": null,
            "left": null,
            "margin": null,
            "max_height": null,
            "max_width": null,
            "min_height": null,
            "min_width": null,
            "object_fit": null,
            "object_position": null,
            "order": null,
            "overflow": null,
            "overflow_x": null,
            "overflow_y": null,
            "padding": null,
            "right": null,
            "top": null,
            "visibility": null,
            "width": null
          }
        },
        "1e08c21f31fe44e18730b546cc0ea120": {
          "model_module": "@jupyter-widgets/controls",
          "model_module_version": "1.5.0",
          "model_name": "HBoxModel",
          "state": {
            "_dom_classes": [],
            "_model_module": "@jupyter-widgets/controls",
            "_model_module_version": "1.5.0",
            "_model_name": "HBoxModel",
            "_view_count": null,
            "_view_module": "@jupyter-widgets/controls",
            "_view_module_version": "1.5.0",
            "_view_name": "HBoxView",
            "box_style": "",
            "children": [
              "IPY_MODEL_99d7d4b441504999bd5416c1cd3205ae",
              "IPY_MODEL_32f96e8cbd394446b1b6febc9712f3f5",
              "IPY_MODEL_699c51ed4646490db3adc0e502aec4d9"
            ],
            "layout": "IPY_MODEL_6d3da0b643c44ba480ea5388571f996f"
          }
        },
        "1e155e93b0fb4335b02bdbc6940169b6": {
          "model_module": "@jupyter-widgets/base",
          "model_module_version": "1.2.0",
          "model_name": "LayoutModel",
          "state": {
            "_model_module": "@jupyter-widgets/base",
            "_model_module_version": "1.2.0",
            "_model_name": "LayoutModel",
            "_view_count": null,
            "_view_module": "@jupyter-widgets/base",
            "_view_module_version": "1.2.0",
            "_view_name": "LayoutView",
            "align_content": null,
            "align_items": null,
            "align_self": null,
            "border": null,
            "bottom": null,
            "display": null,
            "flex": null,
            "flex_flow": null,
            "grid_area": null,
            "grid_auto_columns": null,
            "grid_auto_flow": null,
            "grid_auto_rows": null,
            "grid_column": null,
            "grid_gap": null,
            "grid_row": null,
            "grid_template_areas": null,
            "grid_template_columns": null,
            "grid_template_rows": null,
            "height": null,
            "justify_content": null,
            "justify_items": null,
            "left": null,
            "margin": null,
            "max_height": null,
            "max_width": null,
            "min_height": null,
            "min_width": null,
            "object_fit": null,
            "object_position": null,
            "order": null,
            "overflow": null,
            "overflow_x": null,
            "overflow_y": null,
            "padding": null,
            "right": null,
            "top": null,
            "visibility": null,
            "width": null
          }
        },
        "1e8e4e598e4c47fa8e2e9910e95dac75": {
          "model_module": "@jupyter-widgets/base",
          "model_module_version": "1.2.0",
          "model_name": "LayoutModel",
          "state": {
            "_model_module": "@jupyter-widgets/base",
            "_model_module_version": "1.2.0",
            "_model_name": "LayoutModel",
            "_view_count": null,
            "_view_module": "@jupyter-widgets/base",
            "_view_module_version": "1.2.0",
            "_view_name": "LayoutView",
            "align_content": null,
            "align_items": null,
            "align_self": null,
            "border": null,
            "bottom": null,
            "display": null,
            "flex": null,
            "flex_flow": null,
            "grid_area": null,
            "grid_auto_columns": null,
            "grid_auto_flow": null,
            "grid_auto_rows": null,
            "grid_column": null,
            "grid_gap": null,
            "grid_row": null,
            "grid_template_areas": null,
            "grid_template_columns": null,
            "grid_template_rows": null,
            "height": null,
            "justify_content": null,
            "justify_items": null,
            "left": null,
            "margin": null,
            "max_height": null,
            "max_width": null,
            "min_height": null,
            "min_width": null,
            "object_fit": null,
            "object_position": null,
            "order": null,
            "overflow": null,
            "overflow_x": null,
            "overflow_y": null,
            "padding": null,
            "right": null,
            "top": null,
            "visibility": null,
            "width": null
          }
        },
        "1ea441c9e8f94aa9967e6e6e946364b4": {
          "model_module": "@jupyter-widgets/controls",
          "model_module_version": "1.5.0",
          "model_name": "DescriptionStyleModel",
          "state": {
            "_model_module": "@jupyter-widgets/controls",
            "_model_module_version": "1.5.0",
            "_model_name": "DescriptionStyleModel",
            "_view_count": null,
            "_view_module": "@jupyter-widgets/base",
            "_view_module_version": "1.2.0",
            "_view_name": "StyleView",
            "description_width": ""
          }
        },
        "2019bb61e3a34e9c98db3eb9bb66b0f4": {
          "model_module": "@jupyter-widgets/base",
          "model_module_version": "1.2.0",
          "model_name": "LayoutModel",
          "state": {
            "_model_module": "@jupyter-widgets/base",
            "_model_module_version": "1.2.0",
            "_model_name": "LayoutModel",
            "_view_count": null,
            "_view_module": "@jupyter-widgets/base",
            "_view_module_version": "1.2.0",
            "_view_name": "LayoutView",
            "align_content": null,
            "align_items": null,
            "align_self": null,
            "border": null,
            "bottom": null,
            "display": null,
            "flex": null,
            "flex_flow": null,
            "grid_area": null,
            "grid_auto_columns": null,
            "grid_auto_flow": null,
            "grid_auto_rows": null,
            "grid_column": null,
            "grid_gap": null,
            "grid_row": null,
            "grid_template_areas": null,
            "grid_template_columns": null,
            "grid_template_rows": null,
            "height": null,
            "justify_content": null,
            "justify_items": null,
            "left": null,
            "margin": null,
            "max_height": null,
            "max_width": null,
            "min_height": null,
            "min_width": null,
            "object_fit": null,
            "object_position": null,
            "order": null,
            "overflow": null,
            "overflow_x": null,
            "overflow_y": null,
            "padding": null,
            "right": null,
            "top": null,
            "visibility": null,
            "width": null
          }
        },
        "20228da0dc114136860b0ccdf2867d50": {
          "model_module": "@jupyter-widgets/controls",
          "model_module_version": "1.5.0",
          "model_name": "DescriptionStyleModel",
          "state": {
            "_model_module": "@jupyter-widgets/controls",
            "_model_module_version": "1.5.0",
            "_model_name": "DescriptionStyleModel",
            "_view_count": null,
            "_view_module": "@jupyter-widgets/base",
            "_view_module_version": "1.2.0",
            "_view_name": "StyleView",
            "description_width": ""
          }
        },
        "2037afd2bdd146d09c7b3dda937a8e08": {
          "model_module": "@jupyter-widgets/base",
          "model_module_version": "1.2.0",
          "model_name": "LayoutModel",
          "state": {
            "_model_module": "@jupyter-widgets/base",
            "_model_module_version": "1.2.0",
            "_model_name": "LayoutModel",
            "_view_count": null,
            "_view_module": "@jupyter-widgets/base",
            "_view_module_version": "1.2.0",
            "_view_name": "LayoutView",
            "align_content": null,
            "align_items": null,
            "align_self": null,
            "border": null,
            "bottom": null,
            "display": null,
            "flex": null,
            "flex_flow": null,
            "grid_area": null,
            "grid_auto_columns": null,
            "grid_auto_flow": null,
            "grid_auto_rows": null,
            "grid_column": null,
            "grid_gap": null,
            "grid_row": null,
            "grid_template_areas": null,
            "grid_template_columns": null,
            "grid_template_rows": null,
            "height": null,
            "justify_content": null,
            "justify_items": null,
            "left": null,
            "margin": null,
            "max_height": null,
            "max_width": null,
            "min_height": null,
            "min_width": null,
            "object_fit": null,
            "object_position": null,
            "order": null,
            "overflow": null,
            "overflow_x": null,
            "overflow_y": null,
            "padding": null,
            "right": null,
            "top": null,
            "visibility": null,
            "width": null
          }
        },
        "22e6e65580a643b6b057b764e0ca87ab": {
          "model_module": "@jupyter-widgets/controls",
          "model_module_version": "1.5.0",
          "model_name": "DescriptionStyleModel",
          "state": {
            "_model_module": "@jupyter-widgets/controls",
            "_model_module_version": "1.5.0",
            "_model_name": "DescriptionStyleModel",
            "_view_count": null,
            "_view_module": "@jupyter-widgets/base",
            "_view_module_version": "1.2.0",
            "_view_name": "StyleView",
            "description_width": ""
          }
        },
        "23f5dc7b80da450b870d6c0e55a2e036": {
          "model_module": "@jupyter-widgets/base",
          "model_module_version": "1.2.0",
          "model_name": "LayoutModel",
          "state": {
            "_model_module": "@jupyter-widgets/base",
            "_model_module_version": "1.2.0",
            "_model_name": "LayoutModel",
            "_view_count": null,
            "_view_module": "@jupyter-widgets/base",
            "_view_module_version": "1.2.0",
            "_view_name": "LayoutView",
            "align_content": null,
            "align_items": null,
            "align_self": null,
            "border": null,
            "bottom": null,
            "display": null,
            "flex": null,
            "flex_flow": null,
            "grid_area": null,
            "grid_auto_columns": null,
            "grid_auto_flow": null,
            "grid_auto_rows": null,
            "grid_column": null,
            "grid_gap": null,
            "grid_row": null,
            "grid_template_areas": null,
            "grid_template_columns": null,
            "grid_template_rows": null,
            "height": null,
            "justify_content": null,
            "justify_items": null,
            "left": null,
            "margin": null,
            "max_height": null,
            "max_width": null,
            "min_height": null,
            "min_width": null,
            "object_fit": null,
            "object_position": null,
            "order": null,
            "overflow": null,
            "overflow_x": null,
            "overflow_y": null,
            "padding": null,
            "right": null,
            "top": null,
            "visibility": null,
            "width": null
          }
        },
        "240beb39fd71470b883d77a303cd2873": {
          "model_module": "@jupyter-widgets/controls",
          "model_module_version": "1.5.0",
          "model_name": "DescriptionStyleModel",
          "state": {
            "_model_module": "@jupyter-widgets/controls",
            "_model_module_version": "1.5.0",
            "_model_name": "DescriptionStyleModel",
            "_view_count": null,
            "_view_module": "@jupyter-widgets/base",
            "_view_module_version": "1.2.0",
            "_view_name": "StyleView",
            "description_width": ""
          }
        },
        "2438197eed7042abb4b8e17001705b71": {
          "model_module": "@jupyter-widgets/base",
          "model_module_version": "1.2.0",
          "model_name": "LayoutModel",
          "state": {
            "_model_module": "@jupyter-widgets/base",
            "_model_module_version": "1.2.0",
            "_model_name": "LayoutModel",
            "_view_count": null,
            "_view_module": "@jupyter-widgets/base",
            "_view_module_version": "1.2.0",
            "_view_name": "LayoutView",
            "align_content": null,
            "align_items": null,
            "align_self": null,
            "border": null,
            "bottom": null,
            "display": null,
            "flex": null,
            "flex_flow": null,
            "grid_area": null,
            "grid_auto_columns": null,
            "grid_auto_flow": null,
            "grid_auto_rows": null,
            "grid_column": null,
            "grid_gap": null,
            "grid_row": null,
            "grid_template_areas": null,
            "grid_template_columns": null,
            "grid_template_rows": null,
            "height": null,
            "justify_content": null,
            "justify_items": null,
            "left": null,
            "margin": null,
            "max_height": null,
            "max_width": null,
            "min_height": null,
            "min_width": null,
            "object_fit": null,
            "object_position": null,
            "order": null,
            "overflow": null,
            "overflow_x": null,
            "overflow_y": null,
            "padding": null,
            "right": null,
            "top": null,
            "visibility": null,
            "width": null
          }
        },
        "245aa2b16af74a499f8212a235930628": {
          "model_module": "@jupyter-widgets/controls",
          "model_module_version": "1.5.0",
          "model_name": "DescriptionStyleModel",
          "state": {
            "_model_module": "@jupyter-widgets/controls",
            "_model_module_version": "1.5.0",
            "_model_name": "DescriptionStyleModel",
            "_view_count": null,
            "_view_module": "@jupyter-widgets/base",
            "_view_module_version": "1.2.0",
            "_view_name": "StyleView",
            "description_width": ""
          }
        },
        "24a2c97798cf4d2191d9c6777a23946c": {
          "model_module": "@jupyter-widgets/controls",
          "model_module_version": "1.5.0",
          "model_name": "HBoxModel",
          "state": {
            "_dom_classes": [],
            "_model_module": "@jupyter-widgets/controls",
            "_model_module_version": "1.5.0",
            "_model_name": "HBoxModel",
            "_view_count": null,
            "_view_module": "@jupyter-widgets/controls",
            "_view_module_version": "1.5.0",
            "_view_name": "HBoxView",
            "box_style": "",
            "children": [
              "IPY_MODEL_985ae81202ce425ea2b57ca04a0920cc",
              "IPY_MODEL_7662e0eb9a91463e9a69541c82ab9178",
              "IPY_MODEL_c221ac96e8eb4c5e95c267e445994893"
            ],
            "layout": "IPY_MODEL_c4212ea9e71d472d825c343499da17cf"
          }
        },
        "24f5c4ed53594222817dcbe7f3fd01e6": {
          "model_module": "@jupyter-widgets/controls",
          "model_module_version": "1.5.0",
          "model_name": "DescriptionStyleModel",
          "state": {
            "_model_module": "@jupyter-widgets/controls",
            "_model_module_version": "1.5.0",
            "_model_name": "DescriptionStyleModel",
            "_view_count": null,
            "_view_module": "@jupyter-widgets/base",
            "_view_module_version": "1.2.0",
            "_view_name": "StyleView",
            "description_width": ""
          }
        },
        "262f443dfcd945e89c9b3a4cb85dd703": {
          "model_module": "@jupyter-widgets/controls",
          "model_module_version": "1.5.0",
          "model_name": "ProgressStyleModel",
          "state": {
            "_model_module": "@jupyter-widgets/controls",
            "_model_module_version": "1.5.0",
            "_model_name": "ProgressStyleModel",
            "_view_count": null,
            "_view_module": "@jupyter-widgets/base",
            "_view_module_version": "1.2.0",
            "_view_name": "StyleView",
            "bar_color": null,
            "description_width": ""
          }
        },
        "269dfbc99a3a449a9fd20651f101aaa6": {
          "model_module": "@jupyter-widgets/controls",
          "model_module_version": "1.5.0",
          "model_name": "DescriptionStyleModel",
          "state": {
            "_model_module": "@jupyter-widgets/controls",
            "_model_module_version": "1.5.0",
            "_model_name": "DescriptionStyleModel",
            "_view_count": null,
            "_view_module": "@jupyter-widgets/base",
            "_view_module_version": "1.2.0",
            "_view_name": "StyleView",
            "description_width": ""
          }
        },
        "27ce6f18b311411aa06ad3fbe572723f": {
          "model_module": "@jupyter-widgets/controls",
          "model_module_version": "1.5.0",
          "model_name": "FloatProgressModel",
          "state": {
            "_dom_classes": [],
            "_model_module": "@jupyter-widgets/controls",
            "_model_module_version": "1.5.0",
            "_model_name": "FloatProgressModel",
            "_view_count": null,
            "_view_module": "@jupyter-widgets/controls",
            "_view_module_version": "1.5.0",
            "_view_name": "ProgressView",
            "bar_style": "success",
            "description": "",
            "description_tooltip": null,
            "layout": "IPY_MODEL_819c4fa5dd13477ab2618fb85857fd26",
            "max": 1874,
            "min": 0,
            "orientation": "horizontal",
            "style": "IPY_MODEL_73b0e62ccd3543e48d2608de1df3d95b",
            "value": 1874
          }
        },
        "28cb7bdf0c10479496d34f14cd58f68d": {
          "model_module": "@jupyter-widgets/base",
          "model_module_version": "1.2.0",
          "model_name": "LayoutModel",
          "state": {
            "_model_module": "@jupyter-widgets/base",
            "_model_module_version": "1.2.0",
            "_model_name": "LayoutModel",
            "_view_count": null,
            "_view_module": "@jupyter-widgets/base",
            "_view_module_version": "1.2.0",
            "_view_name": "LayoutView",
            "align_content": null,
            "align_items": null,
            "align_self": null,
            "border": null,
            "bottom": null,
            "display": null,
            "flex": null,
            "flex_flow": null,
            "grid_area": null,
            "grid_auto_columns": null,
            "grid_auto_flow": null,
            "grid_auto_rows": null,
            "grid_column": null,
            "grid_gap": null,
            "grid_row": null,
            "grid_template_areas": null,
            "grid_template_columns": null,
            "grid_template_rows": null,
            "height": null,
            "justify_content": null,
            "justify_items": null,
            "left": null,
            "margin": null,
            "max_height": null,
            "max_width": null,
            "min_height": null,
            "min_width": null,
            "object_fit": null,
            "object_position": null,
            "order": null,
            "overflow": null,
            "overflow_x": null,
            "overflow_y": null,
            "padding": null,
            "right": null,
            "top": null,
            "visibility": null,
            "width": null
          }
        },
        "2ebb1d27f98c44f89f6912c52103fb53": {
          "model_module": "@jupyter-widgets/controls",
          "model_module_version": "1.5.0",
          "model_name": "HBoxModel",
          "state": {
            "_dom_classes": [],
            "_model_module": "@jupyter-widgets/controls",
            "_model_module_version": "1.5.0",
            "_model_name": "HBoxModel",
            "_view_count": null,
            "_view_module": "@jupyter-widgets/controls",
            "_view_module_version": "1.5.0",
            "_view_name": "HBoxView",
            "box_style": "",
            "children": [
              "IPY_MODEL_b5eea1bf76394153bf01d9a5613357e9",
              "IPY_MODEL_31b4254bb02d4e3f81e6f925f567e4f7",
              "IPY_MODEL_9c8d2b0c618e47ce9c7e42351b416da1"
            ],
            "layout": "IPY_MODEL_cd5efd47e24f4d3d973e7fe175b8a0f0"
          }
        },
        "2efb377eef144a4b94925976040dd12a": {
          "model_module": "@jupyter-widgets/controls",
          "model_module_version": "1.5.0",
          "model_name": "HBoxModel",
          "state": {
            "_dom_classes": [],
            "_model_module": "@jupyter-widgets/controls",
            "_model_module_version": "1.5.0",
            "_model_name": "HBoxModel",
            "_view_count": null,
            "_view_module": "@jupyter-widgets/controls",
            "_view_module_version": "1.5.0",
            "_view_name": "HBoxView",
            "box_style": "",
            "children": [
              "IPY_MODEL_5c98b5ccbbe84979ac45d517f075915d",
              "IPY_MODEL_f08133197275429b9a3deda3c90831f2",
              "IPY_MODEL_872e96697ba643faa39f390356dbbb24"
            ],
            "layout": "IPY_MODEL_b57b6d8ba41441d0993c7b6ff2447354"
          }
        },
        "2efe770c63684242a61b9799bf56f727": {
          "model_module": "@jupyter-widgets/controls",
          "model_module_version": "1.5.0",
          "model_name": "HTMLModel",
          "state": {
            "_dom_classes": [],
            "_model_module": "@jupyter-widgets/controls",
            "_model_module_version": "1.5.0",
            "_model_name": "HTMLModel",
            "_view_count": null,
            "_view_module": "@jupyter-widgets/controls",
            "_view_module_version": "1.5.0",
            "_view_name": "HTMLView",
            "description": "",
            "description_tooltip": null,
            "layout": "IPY_MODEL_88d100741c1f4e84aa39b83405e59b86",
            "placeholder": "​",
            "style": "IPY_MODEL_93df25375d694127ac47dbc6a8d6fa0e",
            "value": "\n<b>Pro Tip:</b> If you don't already have one, you can create a dedicated\n'notebooks' token with 'write' access, that you can then easily reuse for all\nnotebooks. </center>"
          }
        },
        "2f80e86cab034092a73ed9e628e455c2": {
          "model_module": "@jupyter-widgets/controls",
          "model_module_version": "1.5.0",
          "model_name": "ProgressStyleModel",
          "state": {
            "_model_module": "@jupyter-widgets/controls",
            "_model_module_version": "1.5.0",
            "_model_name": "ProgressStyleModel",
            "_view_count": null,
            "_view_module": "@jupyter-widgets/base",
            "_view_module_version": "1.2.0",
            "_view_name": "StyleView",
            "bar_color": null,
            "description_width": ""
          }
        },
        "30489d9bdf1d4609872b6ae2a0c41c75": {
          "model_module": "@jupyter-widgets/controls",
          "model_module_version": "1.5.0",
          "model_name": "HTMLModel",
          "state": {
            "_dom_classes": [],
            "_model_module": "@jupyter-widgets/controls",
            "_model_module_version": "1.5.0",
            "_model_name": "HTMLModel",
            "_view_count": null,
            "_view_module": "@jupyter-widgets/controls",
            "_view_module_version": "1.5.0",
            "_view_name": "HTMLView",
            "description": "",
            "description_tooltip": null,
            "layout": "IPY_MODEL_2019bb61e3a34e9c98db3eb9bb66b0f4",
            "placeholder": "​",
            "style": "IPY_MODEL_245aa2b16af74a499f8212a235930628",
            "value": "Map: 100%"
          }
        },
        "31b4254bb02d4e3f81e6f925f567e4f7": {
          "model_module": "@jupyter-widgets/controls",
          "model_module_version": "1.5.0",
          "model_name": "FloatProgressModel",
          "state": {
            "_dom_classes": [],
            "_model_module": "@jupyter-widgets/controls",
            "_model_module_version": "1.5.0",
            "_model_name": "FloatProgressModel",
            "_view_count": null,
            "_view_module": "@jupyter-widgets/controls",
            "_view_module_version": "1.5.0",
            "_view_name": "ProgressView",
            "bar_style": "success",
            "description": "",
            "description_tooltip": null,
            "layout": "IPY_MODEL_5642f641854a413187fe6f88b852b936",
            "max": 1,
            "min": 0,
            "orientation": "horizontal",
            "style": "IPY_MODEL_2f80e86cab034092a73ed9e628e455c2",
            "value": 1
          }
        },
        "3202ba8381a4413fa8dfd8104ce05e84": {
          "model_module": "@jupyter-widgets/base",
          "model_module_version": "1.2.0",
          "model_name": "LayoutModel",
          "state": {
            "_model_module": "@jupyter-widgets/base",
            "_model_module_version": "1.2.0",
            "_model_name": "LayoutModel",
            "_view_count": null,
            "_view_module": "@jupyter-widgets/base",
            "_view_module_version": "1.2.0",
            "_view_name": "LayoutView",
            "align_content": null,
            "align_items": null,
            "align_self": null,
            "border": null,
            "bottom": null,
            "display": null,
            "flex": null,
            "flex_flow": null,
            "grid_area": null,
            "grid_auto_columns": null,
            "grid_auto_flow": null,
            "grid_auto_rows": null,
            "grid_column": null,
            "grid_gap": null,
            "grid_row": null,
            "grid_template_areas": null,
            "grid_template_columns": null,
            "grid_template_rows": null,
            "height": null,
            "justify_content": null,
            "justify_items": null,
            "left": null,
            "margin": null,
            "max_height": null,
            "max_width": null,
            "min_height": null,
            "min_width": null,
            "object_fit": null,
            "object_position": null,
            "order": null,
            "overflow": null,
            "overflow_x": null,
            "overflow_y": null,
            "padding": null,
            "right": null,
            "top": null,
            "visibility": null,
            "width": null
          }
        },
        "3243b57838cc4362b10414dd7b68378e": {
          "model_module": "@jupyter-widgets/controls",
          "model_module_version": "1.5.0",
          "model_name": "HTMLModel",
          "state": {
            "_dom_classes": [],
            "_model_module": "@jupyter-widgets/controls",
            "_model_module_version": "1.5.0",
            "_model_name": "HTMLModel",
            "_view_count": null,
            "_view_module": "@jupyter-widgets/controls",
            "_view_module_version": "1.5.0",
            "_view_name": "HTMLView",
            "description": "",
            "description_tooltip": null,
            "layout": "IPY_MODEL_86cc42e4e7d74733b63d3082eca0ef9c",
            "placeholder": "​",
            "style": "IPY_MODEL_20228da0dc114136860b0ccdf2867d50",
            "value": "Generating test split: "
          }
        },
        "32f96e8cbd394446b1b6febc9712f3f5": {
          "model_module": "@jupyter-widgets/controls",
          "model_module_version": "1.5.0",
          "model_name": "FloatProgressModel",
          "state": {
            "_dom_classes": [],
            "_model_module": "@jupyter-widgets/controls",
            "_model_module_version": "1.5.0",
            "_model_name": "FloatProgressModel",
            "_view_count": null,
            "_view_module": "@jupyter-widgets/controls",
            "_view_module_version": "1.5.0",
            "_view_name": "ProgressView",
            "bar_style": "success",
            "description": "",
            "description_tooltip": null,
            "layout": "IPY_MODEL_6126ecc5488e4e47917287c3238128b6",
            "max": 1722860000,
            "min": 0,
            "orientation": "horizontal",
            "style": "IPY_MODEL_c2d958871b6c4b5297b8e3c5fd0524c7",
            "value": 1722860000
          }
        },
        "349b4f45076f4537a35c5ef3d18360f5": {
          "model_module": "@jupyter-widgets/base",
          "model_module_version": "1.2.0",
          "model_name": "LayoutModel",
          "state": {
            "_model_module": "@jupyter-widgets/base",
            "_model_module_version": "1.2.0",
            "_model_name": "LayoutModel",
            "_view_count": null,
            "_view_module": "@jupyter-widgets/base",
            "_view_module_version": "1.2.0",
            "_view_name": "LayoutView",
            "align_content": null,
            "align_items": null,
            "align_self": null,
            "border": null,
            "bottom": null,
            "display": null,
            "flex": null,
            "flex_flow": null,
            "grid_area": null,
            "grid_auto_columns": null,
            "grid_auto_flow": null,
            "grid_auto_rows": null,
            "grid_column": null,
            "grid_gap": null,
            "grid_row": null,
            "grid_template_areas": null,
            "grid_template_columns": null,
            "grid_template_rows": null,
            "height": null,
            "justify_content": null,
            "justify_items": null,
            "left": null,
            "margin": null,
            "max_height": null,
            "max_width": null,
            "min_height": null,
            "min_width": null,
            "object_fit": null,
            "object_position": null,
            "order": null,
            "overflow": null,
            "overflow_x": null,
            "overflow_y": null,
            "padding": null,
            "right": null,
            "top": null,
            "visibility": null,
            "width": null
          }
        },
        "34e0d0057a8949bb9e6d7e1333a56210": {
          "model_module": "@jupyter-widgets/controls",
          "model_module_version": "1.5.0",
          "model_name": "HTMLModel",
          "state": {
            "_dom_classes": [],
            "_model_module": "@jupyter-widgets/controls",
            "_model_module_version": "1.5.0",
            "_model_name": "HTMLModel",
            "_view_count": null,
            "_view_module": "@jupyter-widgets/controls",
            "_view_module_version": "1.5.0",
            "_view_name": "HTMLView",
            "description": "",
            "description_tooltip": null,
            "layout": "IPY_MODEL_f756ea163f5c46c3a8d0a436b591af4a",
            "placeholder": "​",
            "style": "IPY_MODEL_0773e09201ef454bbc12ce31fc1bb52f",
            "value": "Downloading readme: 100%"
          }
        },
        "355f7727ba4642bba828da2fd844a107": {
          "model_module": "@jupyter-widgets/base",
          "model_module_version": "1.2.0",
          "model_name": "LayoutModel",
          "state": {
            "_model_module": "@jupyter-widgets/base",
            "_model_module_version": "1.2.0",
            "_model_name": "LayoutModel",
            "_view_count": null,
            "_view_module": "@jupyter-widgets/base",
            "_view_module_version": "1.2.0",
            "_view_name": "LayoutView",
            "align_content": null,
            "align_items": null,
            "align_self": null,
            "border": null,
            "bottom": null,
            "display": null,
            "flex": null,
            "flex_flow": null,
            "grid_area": null,
            "grid_auto_columns": null,
            "grid_auto_flow": null,
            "grid_auto_rows": null,
            "grid_column": null,
            "grid_gap": null,
            "grid_row": null,
            "grid_template_areas": null,
            "grid_template_columns": null,
            "grid_template_rows": null,
            "height": null,
            "justify_content": null,
            "justify_items": null,
            "left": null,
            "margin": null,
            "max_height": null,
            "max_width": null,
            "min_height": null,
            "min_width": null,
            "object_fit": null,
            "object_position": null,
            "order": null,
            "overflow": null,
            "overflow_x": null,
            "overflow_y": null,
            "padding": null,
            "right": null,
            "top": null,
            "visibility": null,
            "width": null
          }
        },
        "35a6d6ab1bb741fc827ddfbc5d1769a3": {
          "model_module": "@jupyter-widgets/controls",
          "model_module_version": "1.5.0",
          "model_name": "HBoxModel",
          "state": {
            "_dom_classes": [],
            "_model_module": "@jupyter-widgets/controls",
            "_model_module_version": "1.5.0",
            "_model_name": "HBoxModel",
            "_view_count": null,
            "_view_module": "@jupyter-widgets/controls",
            "_view_module_version": "1.5.0",
            "_view_name": "HBoxView",
            "box_style": "",
            "children": [
              "IPY_MODEL_502635a25b004bd5a6db0b37f3b5e336",
              "IPY_MODEL_27ce6f18b311411aa06ad3fbe572723f",
              "IPY_MODEL_b913f0cc028642ff9928fffe7a5e297c"
            ],
            "layout": "IPY_MODEL_814dec784ae64ae6ad6f359cc1fb6647"
          }
        },
        "36c3ff2db17844be976a109026efb62f": {
          "model_module": "@jupyter-widgets/controls",
          "model_module_version": "1.5.0",
          "model_name": "DescriptionStyleModel",
          "state": {
            "_model_module": "@jupyter-widgets/controls",
            "_model_module_version": "1.5.0",
            "_model_name": "DescriptionStyleModel",
            "_view_count": null,
            "_view_module": "@jupyter-widgets/base",
            "_view_module_version": "1.2.0",
            "_view_name": "StyleView",
            "description_width": ""
          }
        },
        "37ba60075caf4879864c3b843713cd4f": {
          "model_module": "@jupyter-widgets/base",
          "model_module_version": "1.2.0",
          "model_name": "LayoutModel",
          "state": {
            "_model_module": "@jupyter-widgets/base",
            "_model_module_version": "1.2.0",
            "_model_name": "LayoutModel",
            "_view_count": null,
            "_view_module": "@jupyter-widgets/base",
            "_view_module_version": "1.2.0",
            "_view_name": "LayoutView",
            "align_content": null,
            "align_items": null,
            "align_self": null,
            "border": null,
            "bottom": null,
            "display": null,
            "flex": null,
            "flex_flow": null,
            "grid_area": null,
            "grid_auto_columns": null,
            "grid_auto_flow": null,
            "grid_auto_rows": null,
            "grid_column": null,
            "grid_gap": null,
            "grid_row": null,
            "grid_template_areas": null,
            "grid_template_columns": null,
            "grid_template_rows": null,
            "height": null,
            "justify_content": null,
            "justify_items": null,
            "left": null,
            "margin": null,
            "max_height": null,
            "max_width": null,
            "min_height": null,
            "min_width": null,
            "object_fit": null,
            "object_position": null,
            "order": null,
            "overflow": null,
            "overflow_x": null,
            "overflow_y": null,
            "padding": null,
            "right": null,
            "top": null,
            "visibility": null,
            "width": null
          }
        },
        "37dafafefaec4fe5ba3bfea36a257d2e": {
          "model_module": "@jupyter-widgets/controls",
          "model_module_version": "1.5.0",
          "model_name": "DescriptionStyleModel",
          "state": {
            "_model_module": "@jupyter-widgets/controls",
            "_model_module_version": "1.5.0",
            "_model_name": "DescriptionStyleModel",
            "_view_count": null,
            "_view_module": "@jupyter-widgets/base",
            "_view_module_version": "1.2.0",
            "_view_name": "StyleView",
            "description_width": ""
          }
        },
        "381a63ea6fad4108b9d00760c8c35b15": {
          "model_module": "@jupyter-widgets/base",
          "model_module_version": "1.2.0",
          "model_name": "LayoutModel",
          "state": {
            "_model_module": "@jupyter-widgets/base",
            "_model_module_version": "1.2.0",
            "_model_name": "LayoutModel",
            "_view_count": null,
            "_view_module": "@jupyter-widgets/base",
            "_view_module_version": "1.2.0",
            "_view_name": "LayoutView",
            "align_content": null,
            "align_items": null,
            "align_self": null,
            "border": null,
            "bottom": null,
            "display": null,
            "flex": null,
            "flex_flow": null,
            "grid_area": null,
            "grid_auto_columns": null,
            "grid_auto_flow": null,
            "grid_auto_rows": null,
            "grid_column": null,
            "grid_gap": null,
            "grid_row": null,
            "grid_template_areas": null,
            "grid_template_columns": null,
            "grid_template_rows": null,
            "height": null,
            "justify_content": null,
            "justify_items": null,
            "left": null,
            "margin": null,
            "max_height": null,
            "max_width": null,
            "min_height": null,
            "min_width": null,
            "object_fit": null,
            "object_position": null,
            "order": null,
            "overflow": null,
            "overflow_x": null,
            "overflow_y": null,
            "padding": null,
            "right": null,
            "top": null,
            "visibility": null,
            "width": null
          }
        },
        "38fab194963c42e296927e12c2fff376": {
          "model_module": "@jupyter-widgets/controls",
          "model_module_version": "1.5.0",
          "model_name": "ProgressStyleModel",
          "state": {
            "_model_module": "@jupyter-widgets/controls",
            "_model_module_version": "1.5.0",
            "_model_name": "ProgressStyleModel",
            "_view_count": null,
            "_view_module": "@jupyter-widgets/base",
            "_view_module_version": "1.2.0",
            "_view_name": "StyleView",
            "bar_color": null,
            "description_width": ""
          }
        },
        "3a6a6a0f93564d6694acc3536160c4b4": {
          "model_module": "@jupyter-widgets/controls",
          "model_module_version": "1.5.0",
          "model_name": "FloatProgressModel",
          "state": {
            "_dom_classes": [],
            "_model_module": "@jupyter-widgets/controls",
            "_model_module_version": "1.5.0",
            "_model_name": "FloatProgressModel",
            "_view_count": null,
            "_view_module": "@jupyter-widgets/controls",
            "_view_module_version": "1.5.0",
            "_view_name": "ProgressView",
            "bar_style": "success",
            "description": "",
            "description_tooltip": null,
            "layout": "IPY_MODEL_71276080798e45ba9e9514ca5a25952c",
            "max": 6626,
            "min": 0,
            "orientation": "horizontal",
            "style": "IPY_MODEL_262f443dfcd945e89c9b3a4cb85dd703",
            "value": 6626
          }
        },
        "3ba8b99a23eb4c43ad761124ae0df35a": {
          "model_module": "@jupyter-widgets/controls",
          "model_module_version": "1.5.0",
          "model_name": "HTMLModel",
          "state": {
            "_dom_classes": [],
            "_model_module": "@jupyter-widgets/controls",
            "_model_module_version": "1.5.0",
            "_model_name": "HTMLModel",
            "_view_count": null,
            "_view_module": "@jupyter-widgets/controls",
            "_view_module_version": "1.5.0",
            "_view_name": "HTMLView",
            "description": "",
            "description_tooltip": null,
            "layout": "IPY_MODEL_381a63ea6fad4108b9d00760c8c35b15",
            "placeholder": "​",
            "style": "IPY_MODEL_240beb39fd71470b883d77a303cd2873",
            "value": " 6626/6626 [00:00&lt;00:00, 18047.79 examples/s]"
          }
        },
        "3d6f6142f4da4d26b5bcfcf3d3459451": {
          "model_module": "@jupyter-widgets/base",
          "model_module_version": "1.2.0",
          "model_name": "LayoutModel",
          "state": {
            "_model_module": "@jupyter-widgets/base",
            "_model_module_version": "1.2.0",
            "_model_name": "LayoutModel",
            "_view_count": null,
            "_view_module": "@jupyter-widgets/base",
            "_view_module_version": "1.2.0",
            "_view_name": "LayoutView",
            "align_content": null,
            "align_items": null,
            "align_self": null,
            "border": null,
            "bottom": null,
            "display": null,
            "flex": null,
            "flex_flow": null,
            "grid_area": null,
            "grid_auto_columns": null,
            "grid_auto_flow": null,
            "grid_auto_rows": null,
            "grid_column": null,
            "grid_gap": null,
            "grid_row": null,
            "grid_template_areas": null,
            "grid_template_columns": null,
            "grid_template_rows": null,
            "height": null,
            "justify_content": null,
            "justify_items": null,
            "left": null,
            "margin": null,
            "max_height": null,
            "max_width": null,
            "min_height": null,
            "min_width": null,
            "object_fit": null,
            "object_position": null,
            "order": null,
            "overflow": null,
            "overflow_x": null,
            "overflow_y": null,
            "padding": null,
            "right": null,
            "top": null,
            "visibility": null,
            "width": null
          }
        },
        "3e6b6dc87cc445caa6b50522a75e7b24": {
          "model_module": "@jupyter-widgets/controls",
          "model_module_version": "1.5.0",
          "model_name": "DescriptionStyleModel",
          "state": {
            "_model_module": "@jupyter-widgets/controls",
            "_model_module_version": "1.5.0",
            "_model_name": "DescriptionStyleModel",
            "_view_count": null,
            "_view_module": "@jupyter-widgets/base",
            "_view_module_version": "1.2.0",
            "_view_name": "StyleView",
            "description_width": ""
          }
        },
        "3f3527f318584431a70e4f6a31688ce1": {
          "model_module": "@jupyter-widgets/controls",
          "model_module_version": "1.5.0",
          "model_name": "FloatProgressModel",
          "state": {
            "_dom_classes": [],
            "_model_module": "@jupyter-widgets/controls",
            "_model_module_version": "1.5.0",
            "_model_name": "FloatProgressModel",
            "_view_count": null,
            "_view_module": "@jupyter-widgets/controls",
            "_view_module_version": "1.5.0",
            "_view_name": "ProgressView",
            "bar_style": "success",
            "description": "",
            "description_tooltip": null,
            "layout": "IPY_MODEL_aab5cbf0583c4a9c989f6ae259320a99",
            "max": 1,
            "min": 0,
            "orientation": "horizontal",
            "style": "IPY_MODEL_970c612f2a93451494978a446efc56bf",
            "value": 1
          }
        },
        "3f4f871a84bb4e26aa4f832e123defaf": {
          "model_module": "@jupyter-widgets/controls",
          "model_module_version": "1.5.0",
          "model_name": "DescriptionStyleModel",
          "state": {
            "_model_module": "@jupyter-widgets/controls",
            "_model_module_version": "1.5.0",
            "_model_name": "DescriptionStyleModel",
            "_view_count": null,
            "_view_module": "@jupyter-widgets/base",
            "_view_module_version": "1.2.0",
            "_view_name": "StyleView",
            "description_width": ""
          }
        },
        "41754990023244739981819e70d646aa": {
          "model_module": "@jupyter-widgets/controls",
          "model_module_version": "1.5.0",
          "model_name": "HTMLModel",
          "state": {
            "_dom_classes": [],
            "_model_module": "@jupyter-widgets/controls",
            "_model_module_version": "1.5.0",
            "_model_name": "HTMLModel",
            "_view_count": null,
            "_view_module": "@jupyter-widgets/controls",
            "_view_module_version": "1.5.0",
            "_view_name": "HTMLView",
            "description": "",
            "description_tooltip": null,
            "layout": "IPY_MODEL_97bccc224098417bb44307c538b46de1",
            "placeholder": "​",
            "style": "IPY_MODEL_22e6e65580a643b6b057b764e0ca87ab",
            "value": "Downloading extra modules: 100%"
          }
        },
        "42176e56e87240f98b9ba43d874800be": {
          "model_module": "@jupyter-widgets/controls",
          "model_module_version": "1.5.0",
          "model_name": "HBoxModel",
          "state": {
            "_dom_classes": [],
            "_model_module": "@jupyter-widgets/controls",
            "_model_module_version": "1.5.0",
            "_model_name": "HBoxModel",
            "_view_count": null,
            "_view_module": "@jupyter-widgets/controls",
            "_view_module_version": "1.5.0",
            "_view_name": "HBoxView",
            "box_style": "",
            "children": [
              "IPY_MODEL_ceaef89450304e1393a087c3cba9d670",
              "IPY_MODEL_ef77aa4bf4d9476bb17056ee44f7f33a",
              "IPY_MODEL_1433d80787ab4463b6639eb175cc2d66"
            ],
            "layout": "IPY_MODEL_f3e0b834d9624bfeb12abbe6ffeede51"
          }
        },
        "42db5ab47950400cb62fd40d0623dabe": {
          "model_module": "@jupyter-widgets/base",
          "model_module_version": "1.2.0",
          "model_name": "LayoutModel",
          "state": {
            "_model_module": "@jupyter-widgets/base",
            "_model_module_version": "1.2.0",
            "_model_name": "LayoutModel",
            "_view_count": null,
            "_view_module": "@jupyter-widgets/base",
            "_view_module_version": "1.2.0",
            "_view_name": "LayoutView",
            "align_content": null,
            "align_items": null,
            "align_self": null,
            "border": null,
            "bottom": null,
            "display": null,
            "flex": null,
            "flex_flow": null,
            "grid_area": null,
            "grid_auto_columns": null,
            "grid_auto_flow": null,
            "grid_auto_rows": null,
            "grid_column": null,
            "grid_gap": null,
            "grid_row": null,
            "grid_template_areas": null,
            "grid_template_columns": null,
            "grid_template_rows": null,
            "height": null,
            "justify_content": null,
            "justify_items": null,
            "left": null,
            "margin": null,
            "max_height": null,
            "max_width": null,
            "min_height": null,
            "min_width": null,
            "object_fit": null,
            "object_position": null,
            "order": null,
            "overflow": null,
            "overflow_x": null,
            "overflow_y": null,
            "padding": null,
            "right": null,
            "top": null,
            "visibility": null,
            "width": null
          }
        },
        "4538b7a279d0469bbd21abc7bac27312": {
          "model_module": "@jupyter-widgets/controls",
          "model_module_version": "1.5.0",
          "model_name": "DescriptionStyleModel",
          "state": {
            "_model_module": "@jupyter-widgets/controls",
            "_model_module_version": "1.5.0",
            "_model_name": "DescriptionStyleModel",
            "_view_count": null,
            "_view_module": "@jupyter-widgets/base",
            "_view_module_version": "1.2.0",
            "_view_name": "StyleView",
            "description_width": ""
          }
        },
        "457c7b7119dc40b5b2d0ce16ab427396": {
          "model_module": "@jupyter-widgets/base",
          "model_module_version": "1.2.0",
          "model_name": "LayoutModel",
          "state": {
            "_model_module": "@jupyter-widgets/base",
            "_model_module_version": "1.2.0",
            "_model_name": "LayoutModel",
            "_view_count": null,
            "_view_module": "@jupyter-widgets/base",
            "_view_module_version": "1.2.0",
            "_view_name": "LayoutView",
            "align_content": null,
            "align_items": null,
            "align_self": null,
            "border": null,
            "bottom": null,
            "display": null,
            "flex": null,
            "flex_flow": null,
            "grid_area": null,
            "grid_auto_columns": null,
            "grid_auto_flow": null,
            "grid_auto_rows": null,
            "grid_column": null,
            "grid_gap": null,
            "grid_row": null,
            "grid_template_areas": null,
            "grid_template_columns": null,
            "grid_template_rows": null,
            "height": null,
            "justify_content": null,
            "justify_items": null,
            "left": null,
            "margin": null,
            "max_height": null,
            "max_width": null,
            "min_height": null,
            "min_width": null,
            "object_fit": null,
            "object_position": null,
            "order": null,
            "overflow": null,
            "overflow_x": null,
            "overflow_y": null,
            "padding": null,
            "right": null,
            "top": null,
            "visibility": null,
            "width": null
          }
        },
        "46613a7e2a754267898e4ec2e43ceb2b": {
          "model_module": "@jupyter-widgets/controls",
          "model_module_version": "1.5.0",
          "model_name": "FloatProgressModel",
          "state": {
            "_dom_classes": [],
            "_model_module": "@jupyter-widgets/controls",
            "_model_module_version": "1.5.0",
            "_model_name": "FloatProgressModel",
            "_view_count": null,
            "_view_module": "@jupyter-widgets/controls",
            "_view_module_version": "1.5.0",
            "_view_name": "ProgressView",
            "bar_style": "success",
            "description": "",
            "description_tooltip": null,
            "layout": "IPY_MODEL_8f38983385354f44b99c167b2090351d",
            "max": 2322063736,
            "min": 0,
            "orientation": "horizontal",
            "style": "IPY_MODEL_8ee68ad071ee452993af29ecacd2d66c",
            "value": 2322063736
          }
        },
        "497bee8f2bb94477b342f889e5116117": {
          "model_module": "@jupyter-widgets/base",
          "model_module_version": "1.2.0",
          "model_name": "LayoutModel",
          "state": {
            "_model_module": "@jupyter-widgets/base",
            "_model_module_version": "1.2.0",
            "_model_name": "LayoutModel",
            "_view_count": null,
            "_view_module": "@jupyter-widgets/base",
            "_view_module_version": "1.2.0",
            "_view_name": "LayoutView",
            "align_content": null,
            "align_items": null,
            "align_self": null,
            "border": null,
            "bottom": null,
            "display": null,
            "flex": null,
            "flex_flow": null,
            "grid_area": null,
            "grid_auto_columns": null,
            "grid_auto_flow": null,
            "grid_auto_rows": null,
            "grid_column": null,
            "grid_gap": null,
            "grid_row": null,
            "grid_template_areas": null,
            "grid_template_columns": null,
            "grid_template_rows": null,
            "height": null,
            "justify_content": null,
            "justify_items": null,
            "left": null,
            "margin": null,
            "max_height": null,
            "max_width": null,
            "min_height": null,
            "min_width": null,
            "object_fit": null,
            "object_position": null,
            "order": null,
            "overflow": null,
            "overflow_x": null,
            "overflow_y": null,
            "padding": null,
            "right": null,
            "top": null,
            "visibility": null,
            "width": null
          }
        },
        "4aedeb89aad646479e0937312f5c4d29": {
          "model_module": "@jupyter-widgets/controls",
          "model_module_version": "1.5.0",
          "model_name": "LabelModel",
          "state": {
            "_dom_classes": [],
            "_model_module": "@jupyter-widgets/controls",
            "_model_module_version": "1.5.0",
            "_model_name": "LabelModel",
            "_view_count": null,
            "_view_module": "@jupyter-widgets/controls",
            "_view_module_version": "1.5.0",
            "_view_name": "LabelView",
            "description": "",
            "description_tooltip": null,
            "layout": "IPY_MODEL_aadcc49daa5f4724878bd8621d8b7bec",
            "placeholder": "​",
            "style": "IPY_MODEL_e8c7eca4565b44d9ae12f070d7aeeff3",
            "value": "Token is valid (permission: write)."
          }
        },
        "4c0042bba1cf46d4a634ad27374a8162": {
          "model_module": "@jupyter-widgets/controls",
          "model_module_version": "1.5.0",
          "model_name": "HTMLModel",
          "state": {
            "_dom_classes": [],
            "_model_module": "@jupyter-widgets/controls",
            "_model_module_version": "1.5.0",
            "_model_name": "HTMLModel",
            "_view_count": null,
            "_view_module": "@jupyter-widgets/controls",
            "_view_module_version": "1.5.0",
            "_view_name": "HTMLView",
            "description": "",
            "description_tooltip": null,
            "layout": "IPY_MODEL_b3f2a267ea0c4ccc981f4d60d05678b6",
            "placeholder": "​",
            "style": "IPY_MODEL_a8a1dfe0ae0143479e44904436db0a74",
            "value": " 4276/4276 [00:00&lt;00:00, 15937.84 examples/s]"
          }
        },
        "4dc1d2fefbb44f7d8c381c9629e29cb1": {
          "model_module": "@jupyter-widgets/controls",
          "model_module_version": "1.5.0",
          "model_name": "HBoxModel",
          "state": {
            "_dom_classes": [],
            "_model_module": "@jupyter-widgets/controls",
            "_model_module_version": "1.5.0",
            "_model_name": "HBoxModel",
            "_view_count": null,
            "_view_module": "@jupyter-widgets/controls",
            "_view_module_version": "1.5.0",
            "_view_name": "HBoxView",
            "box_style": "",
            "children": [
              "IPY_MODEL_bba854dd202747cfba1b55287f4263d9",
              "IPY_MODEL_c932efe0b3d844de97789d18f835ac1c",
              "IPY_MODEL_d81d0a54ee584530bc16b57717812a3e"
            ],
            "layout": "IPY_MODEL_aefff613fb5045f082ff504816442b55"
          }
        },
        "4f0a93c3bc6f4b4ea4356f02a406f3e4": {
          "model_module": "@jupyter-widgets/controls",
          "model_module_version": "1.5.0",
          "model_name": "HTMLModel",
          "state": {
            "_dom_classes": [],
            "_model_module": "@jupyter-widgets/controls",
            "_model_module_version": "1.5.0",
            "_model_name": "HTMLModel",
            "_view_count": null,
            "_view_module": "@jupyter-widgets/controls",
            "_view_module_version": "1.5.0",
            "_view_name": "HTMLView",
            "description": "",
            "description_tooltip": null,
            "layout": "IPY_MODEL_55cb8c9c9e01404bb702d0fa3bf9fb39",
            "placeholder": "​",
            "style": "IPY_MODEL_6ffc6562d95d4a4d96139c052cb02c64",
            "value": " 29407/0 [00:17&lt;00:00, 2631.32 examples/s]"
          }
        },
        "502635a25b004bd5a6db0b37f3b5e336": {
          "model_module": "@jupyter-widgets/controls",
          "model_module_version": "1.5.0",
          "model_name": "HTMLModel",
          "state": {
            "_dom_classes": [],
            "_model_module": "@jupyter-widgets/controls",
            "_model_module_version": "1.5.0",
            "_model_name": "HTMLModel",
            "_view_count": null,
            "_view_module": "@jupyter-widgets/controls",
            "_view_module_version": "1.5.0",
            "_view_name": "HTMLView",
            "description": "",
            "description_tooltip": null,
            "layout": "IPY_MODEL_1e8e4e598e4c47fa8e2e9910e95dac75",
            "placeholder": "​",
            "style": "IPY_MODEL_5968634ecd8d4c2ba2f2d3457e9e04a6",
            "value": "config.json: 100%"
          }
        },
        "5154648875764c4f821480826119fc82": {
          "model_module": "@jupyter-widgets/controls",
          "model_module_version": "1.5.0",
          "model_name": "DescriptionStyleModel",
          "state": {
            "_model_module": "@jupyter-widgets/controls",
            "_model_module_version": "1.5.0",
            "_model_name": "DescriptionStyleModel",
            "_view_count": null,
            "_view_module": "@jupyter-widgets/base",
            "_view_module_version": "1.2.0",
            "_view_name": "StyleView",
            "description_width": ""
          }
        },
        "5312df15bcc04efa89e0927882b36c72": {
          "model_module": "@jupyter-widgets/controls",
          "model_module_version": "1.5.0",
          "model_name": "LabelModel",
          "state": {
            "_dom_classes": [],
            "_model_module": "@jupyter-widgets/controls",
            "_model_module_version": "1.5.0",
            "_model_name": "LabelModel",
            "_view_count": null,
            "_view_module": "@jupyter-widgets/controls",
            "_view_module_version": "1.5.0",
            "_view_name": "LabelView",
            "description": "",
            "description_tooltip": null,
            "layout": "IPY_MODEL_6a754d14922b4a7bb78adad83a6ff85b",
            "placeholder": "​",
            "style": "IPY_MODEL_3e6b6dc87cc445caa6b50522a75e7b24",
            "value": "Connecting..."
          }
        },
        "53b3eb4111f34ade866a11b96422476e": {
          "model_module": "@jupyter-widgets/base",
          "model_module_version": "1.2.0",
          "model_name": "LayoutModel",
          "state": {
            "_model_module": "@jupyter-widgets/base",
            "_model_module_version": "1.2.0",
            "_model_name": "LayoutModel",
            "_view_count": null,
            "_view_module": "@jupyter-widgets/base",
            "_view_module_version": "1.2.0",
            "_view_name": "LayoutView",
            "align_content": null,
            "align_items": null,
            "align_self": null,
            "border": null,
            "bottom": null,
            "display": null,
            "flex": null,
            "flex_flow": null,
            "grid_area": null,
            "grid_auto_columns": null,
            "grid_auto_flow": null,
            "grid_auto_rows": null,
            "grid_column": null,
            "grid_gap": null,
            "grid_row": null,
            "grid_template_areas": null,
            "grid_template_columns": null,
            "grid_template_rows": null,
            "height": null,
            "justify_content": null,
            "justify_items": null,
            "left": null,
            "margin": null,
            "max_height": null,
            "max_width": null,
            "min_height": null,
            "min_width": null,
            "object_fit": null,
            "object_position": null,
            "order": null,
            "overflow": null,
            "overflow_x": null,
            "overflow_y": null,
            "padding": null,
            "right": null,
            "top": null,
            "visibility": null,
            "width": null
          }
        },
        "54618323821443f09aef28c891e6fb79": {
          "model_module": "@jupyter-widgets/base",
          "model_module_version": "1.2.0",
          "model_name": "LayoutModel",
          "state": {
            "_model_module": "@jupyter-widgets/base",
            "_model_module_version": "1.2.0",
            "_model_name": "LayoutModel",
            "_view_count": null,
            "_view_module": "@jupyter-widgets/base",
            "_view_module_version": "1.2.0",
            "_view_name": "LayoutView",
            "align_content": null,
            "align_items": null,
            "align_self": null,
            "border": null,
            "bottom": null,
            "display": null,
            "flex": null,
            "flex_flow": null,
            "grid_area": null,
            "grid_auto_columns": null,
            "grid_auto_flow": null,
            "grid_auto_rows": null,
            "grid_column": null,
            "grid_gap": null,
            "grid_row": null,
            "grid_template_areas": null,
            "grid_template_columns": null,
            "grid_template_rows": null,
            "height": null,
            "justify_content": null,
            "justify_items": null,
            "left": null,
            "margin": null,
            "max_height": null,
            "max_width": null,
            "min_height": null,
            "min_width": null,
            "object_fit": null,
            "object_position": null,
            "order": null,
            "overflow": null,
            "overflow_x": null,
            "overflow_y": null,
            "padding": null,
            "right": null,
            "top": null,
            "visibility": null,
            "width": "20px"
          }
        },
        "55cb8c9c9e01404bb702d0fa3bf9fb39": {
          "model_module": "@jupyter-widgets/base",
          "model_module_version": "1.2.0",
          "model_name": "LayoutModel",
          "state": {
            "_model_module": "@jupyter-widgets/base",
            "_model_module_version": "1.2.0",
            "_model_name": "LayoutModel",
            "_view_count": null,
            "_view_module": "@jupyter-widgets/base",
            "_view_module_version": "1.2.0",
            "_view_name": "LayoutView",
            "align_content": null,
            "align_items": null,
            "align_self": null,
            "border": null,
            "bottom": null,
            "display": null,
            "flex": null,
            "flex_flow": null,
            "grid_area": null,
            "grid_auto_columns": null,
            "grid_auto_flow": null,
            "grid_auto_rows": null,
            "grid_column": null,
            "grid_gap": null,
            "grid_row": null,
            "grid_template_areas": null,
            "grid_template_columns": null,
            "grid_template_rows": null,
            "height": null,
            "justify_content": null,
            "justify_items": null,
            "left": null,
            "margin": null,
            "max_height": null,
            "max_width": null,
            "min_height": null,
            "min_width": null,
            "object_fit": null,
            "object_position": null,
            "order": null,
            "overflow": null,
            "overflow_x": null,
            "overflow_y": null,
            "padding": null,
            "right": null,
            "top": null,
            "visibility": null,
            "width": null
          }
        },
        "5642f641854a413187fe6f88b852b936": {
          "model_module": "@jupyter-widgets/base",
          "model_module_version": "1.2.0",
          "model_name": "LayoutModel",
          "state": {
            "_model_module": "@jupyter-widgets/base",
            "_model_module_version": "1.2.0",
            "_model_name": "LayoutModel",
            "_view_count": null,
            "_view_module": "@jupyter-widgets/base",
            "_view_module_version": "1.2.0",
            "_view_name": "LayoutView",
            "align_content": null,
            "align_items": null,
            "align_self": null,
            "border": null,
            "bottom": null,
            "display": null,
            "flex": null,
            "flex_flow": null,
            "grid_area": null,
            "grid_auto_columns": null,
            "grid_auto_flow": null,
            "grid_auto_rows": null,
            "grid_column": null,
            "grid_gap": null,
            "grid_row": null,
            "grid_template_areas": null,
            "grid_template_columns": null,
            "grid_template_rows": null,
            "height": null,
            "justify_content": null,
            "justify_items": null,
            "left": null,
            "margin": null,
            "max_height": null,
            "max_width": null,
            "min_height": null,
            "min_width": null,
            "object_fit": null,
            "object_position": null,
            "order": null,
            "overflow": null,
            "overflow_x": null,
            "overflow_y": null,
            "padding": null,
            "right": null,
            "top": null,
            "visibility": null,
            "width": "20px"
          }
        },
        "5696324df4dd4595b470c210de4f5523": {
          "model_module": "@jupyter-widgets/controls",
          "model_module_version": "1.5.0",
          "model_name": "DescriptionStyleModel",
          "state": {
            "_model_module": "@jupyter-widgets/controls",
            "_model_module_version": "1.5.0",
            "_model_name": "DescriptionStyleModel",
            "_view_count": null,
            "_view_module": "@jupyter-widgets/base",
            "_view_module_version": "1.2.0",
            "_view_name": "StyleView",
            "description_width": ""
          }
        },
        "56dd83cc98784c8f9741aff7e3a02bc8": {
          "model_module": "@jupyter-widgets/controls",
          "model_module_version": "1.5.0",
          "model_name": "HTMLModel",
          "state": {
            "_dom_classes": [],
            "_model_module": "@jupyter-widgets/controls",
            "_model_module_version": "1.5.0",
            "_model_name": "HTMLModel",
            "_view_count": null,
            "_view_module": "@jupyter-widgets/controls",
            "_view_module_version": "1.5.0",
            "_view_name": "HTMLView",
            "description": "",
            "description_tooltip": null,
            "layout": "IPY_MODEL_53b3eb4111f34ade866a11b96422476e",
            "placeholder": "​",
            "style": "IPY_MODEL_e6166fe6d6ee4794a93f24242620c6c3",
            "value": " 4276/4276 [00:00&lt;00:00, 119518.62 examples/s]"
          }
        },
        "5784a2ff5d954225995b7f005fad62a6": {
          "model_module": "@jupyter-widgets/controls",
          "model_module_version": "1.5.0",
          "model_name": "ProgressStyleModel",
          "state": {
            "_model_module": "@jupyter-widgets/controls",
            "_model_module_version": "1.5.0",
            "_model_name": "ProgressStyleModel",
            "_view_count": null,
            "_view_module": "@jupyter-widgets/base",
            "_view_module_version": "1.2.0",
            "_view_name": "StyleView",
            "bar_color": null,
            "description_width": ""
          }
        },
        "57a7bcaa7c264a75823a2d900c18a03a": {
          "model_module": "@jupyter-widgets/controls",
          "model_module_version": "1.5.0",
          "model_name": "ProgressStyleModel",
          "state": {
            "_model_module": "@jupyter-widgets/controls",
            "_model_module_version": "1.5.0",
            "_model_name": "ProgressStyleModel",
            "_view_count": null,
            "_view_module": "@jupyter-widgets/base",
            "_view_module_version": "1.2.0",
            "_view_name": "StyleView",
            "bar_color": null,
            "description_width": ""
          }
        },
        "5968634ecd8d4c2ba2f2d3457e9e04a6": {
          "model_module": "@jupyter-widgets/controls",
          "model_module_version": "1.5.0",
          "model_name": "DescriptionStyleModel",
          "state": {
            "_model_module": "@jupyter-widgets/controls",
            "_model_module_version": "1.5.0",
            "_model_name": "DescriptionStyleModel",
            "_view_count": null,
            "_view_module": "@jupyter-widgets/base",
            "_view_module_version": "1.2.0",
            "_view_name": "StyleView",
            "description_width": ""
          }
        },
        "5c39d83d77224cda9fccd8ac9643b259": {
          "model_module": "@jupyter-widgets/base",
          "model_module_version": "1.2.0",
          "model_name": "LayoutModel",
          "state": {
            "_model_module": "@jupyter-widgets/base",
            "_model_module_version": "1.2.0",
            "_model_name": "LayoutModel",
            "_view_count": null,
            "_view_module": "@jupyter-widgets/base",
            "_view_module_version": "1.2.0",
            "_view_name": "LayoutView",
            "align_content": null,
            "align_items": null,
            "align_self": null,
            "border": null,
            "bottom": null,
            "display": null,
            "flex": null,
            "flex_flow": null,
            "grid_area": null,
            "grid_auto_columns": null,
            "grid_auto_flow": null,
            "grid_auto_rows": null,
            "grid_column": null,
            "grid_gap": null,
            "grid_row": null,
            "grid_template_areas": null,
            "grid_template_columns": null,
            "grid_template_rows": null,
            "height": null,
            "justify_content": null,
            "justify_items": null,
            "left": null,
            "margin": null,
            "max_height": null,
            "max_width": null,
            "min_height": null,
            "min_width": null,
            "object_fit": null,
            "object_position": null,
            "order": null,
            "overflow": null,
            "overflow_x": null,
            "overflow_y": null,
            "padding": null,
            "right": null,
            "top": null,
            "visibility": null,
            "width": null
          }
        },
        "5c98b5ccbbe84979ac45d517f075915d": {
          "model_module": "@jupyter-widgets/controls",
          "model_module_version": "1.5.0",
          "model_name": "HTMLModel",
          "state": {
            "_dom_classes": [],
            "_model_module": "@jupyter-widgets/controls",
            "_model_module_version": "1.5.0",
            "_model_name": "HTMLModel",
            "_view_count": null,
            "_view_module": "@jupyter-widgets/controls",
            "_view_module_version": "1.5.0",
            "_view_name": "HTMLView",
            "description": "",
            "description_tooltip": null,
            "layout": "IPY_MODEL_37ba60075caf4879864c3b843713cd4f",
            "placeholder": "​",
            "style": "IPY_MODEL_0f7832be4353489d8d71a83920230e95",
            "value": "Downloading builder script: "
          }
        },
        "5ceacb3901f94417baaf9cbc16639bfc": {
          "model_module": "@jupyter-widgets/base",
          "model_module_version": "1.2.0",
          "model_name": "LayoutModel",
          "state": {
            "_model_module": "@jupyter-widgets/base",
            "_model_module_version": "1.2.0",
            "_model_name": "LayoutModel",
            "_view_count": null,
            "_view_module": "@jupyter-widgets/base",
            "_view_module_version": "1.2.0",
            "_view_name": "LayoutView",
            "align_content": null,
            "align_items": null,
            "align_self": null,
            "border": null,
            "bottom": null,
            "display": null,
            "flex": null,
            "flex_flow": null,
            "grid_area": null,
            "grid_auto_columns": null,
            "grid_auto_flow": null,
            "grid_auto_rows": null,
            "grid_column": null,
            "grid_gap": null,
            "grid_row": null,
            "grid_template_areas": null,
            "grid_template_columns": null,
            "grid_template_rows": null,
            "height": null,
            "justify_content": null,
            "justify_items": null,
            "left": null,
            "margin": null,
            "max_height": null,
            "max_width": null,
            "min_height": null,
            "min_width": null,
            "object_fit": null,
            "object_position": null,
            "order": null,
            "overflow": null,
            "overflow_x": null,
            "overflow_y": null,
            "padding": null,
            "right": null,
            "top": null,
            "visibility": null,
            "width": null
          }
        },
        "609b50dcab62490da8d0bf53ee4acde7": {
          "model_module": "@jupyter-widgets/controls",
          "model_module_version": "1.5.0",
          "model_name": "FloatProgressModel",
          "state": {
            "_dom_classes": [],
            "_model_module": "@jupyter-widgets/controls",
            "_model_module_version": "1.5.0",
            "_model_name": "FloatProgressModel",
            "_view_count": null,
            "_view_module": "@jupyter-widgets/controls",
            "_view_module_version": "1.5.0",
            "_view_name": "ProgressView",
            "bar_style": "success",
            "description": "",
            "description_tooltip": null,
            "layout": "IPY_MODEL_d7574e77e51645688c0bfd6313d5df63",
            "max": 1917,
            "min": 0,
            "orientation": "horizontal",
            "style": "IPY_MODEL_c835cab9e9c442a795f6ae42463a7624",
            "value": 1917
          }
        },
        "60ec9400dba44d30ac3399bceb134cd4": {
          "model_module": "@jupyter-widgets/base",
          "model_module_version": "1.2.0",
          "model_name": "LayoutModel",
          "state": {
            "_model_module": "@jupyter-widgets/base",
            "_model_module_version": "1.2.0",
            "_model_name": "LayoutModel",
            "_view_count": null,
            "_view_module": "@jupyter-widgets/base",
            "_view_module_version": "1.2.0",
            "_view_name": "LayoutView",
            "align_content": null,
            "align_items": null,
            "align_self": null,
            "border": null,
            "bottom": null,
            "display": null,
            "flex": null,
            "flex_flow": null,
            "grid_area": null,
            "grid_auto_columns": null,
            "grid_auto_flow": null,
            "grid_auto_rows": null,
            "grid_column": null,
            "grid_gap": null,
            "grid_row": null,
            "grid_template_areas": null,
            "grid_template_columns": null,
            "grid_template_rows": null,
            "height": null,
            "justify_content": null,
            "justify_items": null,
            "left": null,
            "margin": null,
            "max_height": null,
            "max_width": null,
            "min_height": null,
            "min_width": null,
            "object_fit": null,
            "object_position": null,
            "order": null,
            "overflow": null,
            "overflow_x": null,
            "overflow_y": null,
            "padding": null,
            "right": null,
            "top": null,
            "visibility": null,
            "width": null
          }
        },
        "611ada68c9554bb0acdcee0b1b0c7ea1": {
          "model_module": "@jupyter-widgets/controls",
          "model_module_version": "1.5.0",
          "model_name": "ProgressStyleModel",
          "state": {
            "_model_module": "@jupyter-widgets/controls",
            "_model_module_version": "1.5.0",
            "_model_name": "ProgressStyleModel",
            "_view_count": null,
            "_view_module": "@jupyter-widgets/base",
            "_view_module_version": "1.2.0",
            "_view_name": "StyleView",
            "bar_color": null,
            "description_width": ""
          }
        },
        "6126ecc5488e4e47917287c3238128b6": {
          "model_module": "@jupyter-widgets/base",
          "model_module_version": "1.2.0",
          "model_name": "LayoutModel",
          "state": {
            "_model_module": "@jupyter-widgets/base",
            "_model_module_version": "1.2.0",
            "_model_name": "LayoutModel",
            "_view_count": null,
            "_view_module": "@jupyter-widgets/base",
            "_view_module_version": "1.2.0",
            "_view_name": "LayoutView",
            "align_content": null,
            "align_items": null,
            "align_self": null,
            "border": null,
            "bottom": null,
            "display": null,
            "flex": null,
            "flex_flow": null,
            "grid_area": null,
            "grid_auto_columns": null,
            "grid_auto_flow": null,
            "grid_auto_rows": null,
            "grid_column": null,
            "grid_gap": null,
            "grid_row": null,
            "grid_template_areas": null,
            "grid_template_columns": null,
            "grid_template_rows": null,
            "height": null,
            "justify_content": null,
            "justify_items": null,
            "left": null,
            "margin": null,
            "max_height": null,
            "max_width": null,
            "min_height": null,
            "min_width": null,
            "object_fit": null,
            "object_position": null,
            "order": null,
            "overflow": null,
            "overflow_x": null,
            "overflow_y": null,
            "padding": null,
            "right": null,
            "top": null,
            "visibility": null,
            "width": null
          }
        },
        "624ccb7ab79e41fba6c1fcc6d157fb1e": {
          "model_module": "@jupyter-widgets/controls",
          "model_module_version": "1.5.0",
          "model_name": "LabelModel",
          "state": {
            "_dom_classes": [],
            "_model_module": "@jupyter-widgets/controls",
            "_model_module_version": "1.5.0",
            "_model_name": "LabelModel",
            "_view_count": null,
            "_view_module": "@jupyter-widgets/controls",
            "_view_module_version": "1.5.0",
            "_view_name": "LabelView",
            "description": "",
            "description_tooltip": null,
            "layout": "IPY_MODEL_f1c73f2b656e43db89c2b502811560f9",
            "placeholder": "​",
            "style": "IPY_MODEL_b1569ffcd185420bbea946a7be9bb8ee",
            "value": "Login successful"
          }
        },
        "62ae5e3dd2ab4ef5b395aaf52f432d2a": {
          "model_module": "@jupyter-widgets/base",
          "model_module_version": "1.2.0",
          "model_name": "LayoutModel",
          "state": {
            "_model_module": "@jupyter-widgets/base",
            "_model_module_version": "1.2.0",
            "_model_name": "LayoutModel",
            "_view_count": null,
            "_view_module": "@jupyter-widgets/base",
            "_view_module_version": "1.2.0",
            "_view_name": "LayoutView",
            "align_content": null,
            "align_items": null,
            "align_self": null,
            "border": null,
            "bottom": null,
            "display": null,
            "flex": null,
            "flex_flow": null,
            "grid_area": null,
            "grid_auto_columns": null,
            "grid_auto_flow": null,
            "grid_auto_rows": null,
            "grid_column": null,
            "grid_gap": null,
            "grid_row": null,
            "grid_template_areas": null,
            "grid_template_columns": null,
            "grid_template_rows": null,
            "height": null,
            "justify_content": null,
            "justify_items": null,
            "left": null,
            "margin": null,
            "max_height": null,
            "max_width": null,
            "min_height": null,
            "min_width": null,
            "object_fit": null,
            "object_position": null,
            "order": null,
            "overflow": null,
            "overflow_x": null,
            "overflow_y": null,
            "padding": null,
            "right": null,
            "top": null,
            "visibility": null,
            "width": null
          }
        },
        "64bdc9e80e034e93bc380fc2a364fbf6": {
          "model_module": "@jupyter-widgets/controls",
          "model_module_version": "1.5.0",
          "model_name": "FloatProgressModel",
          "state": {
            "_dom_classes": [],
            "_model_module": "@jupyter-widgets/controls",
            "_model_module_version": "1.5.0",
            "_model_name": "FloatProgressModel",
            "_view_count": null,
            "_view_module": "@jupyter-widgets/controls",
            "_view_module_version": "1.5.0",
            "_view_name": "ProgressView",
            "bar_style": "success",
            "description": "",
            "description_tooltip": null,
            "layout": "IPY_MODEL_e58cf6a132784de880dc566de6924a70",
            "max": 11322,
            "min": 0,
            "orientation": "horizontal",
            "style": "IPY_MODEL_5784a2ff5d954225995b7f005fad62a6",
            "value": 11322
          }
        },
        "6531904117ec4ac48cf5392467179dfe": {
          "model_module": "@jupyter-widgets/base",
          "model_module_version": "1.2.0",
          "model_name": "LayoutModel",
          "state": {
            "_model_module": "@jupyter-widgets/base",
            "_model_module_version": "1.2.0",
            "_model_name": "LayoutModel",
            "_view_count": null,
            "_view_module": "@jupyter-widgets/base",
            "_view_module_version": "1.2.0",
            "_view_name": "LayoutView",
            "align_content": null,
            "align_items": null,
            "align_self": null,
            "border": null,
            "bottom": null,
            "display": null,
            "flex": null,
            "flex_flow": null,
            "grid_area": null,
            "grid_auto_columns": null,
            "grid_auto_flow": null,
            "grid_auto_rows": null,
            "grid_column": null,
            "grid_gap": null,
            "grid_row": null,
            "grid_template_areas": null,
            "grid_template_columns": null,
            "grid_template_rows": null,
            "height": null,
            "justify_content": null,
            "justify_items": null,
            "left": null,
            "margin": null,
            "max_height": null,
            "max_width": null,
            "min_height": null,
            "min_width": null,
            "object_fit": null,
            "object_position": null,
            "order": null,
            "overflow": null,
            "overflow_x": null,
            "overflow_y": null,
            "padding": null,
            "right": null,
            "top": null,
            "visibility": null,
            "width": null
          }
        },
        "65ee7fc205a140748b0e96e2ee185615": {
          "model_module": "@jupyter-widgets/controls",
          "model_module_version": "1.5.0",
          "model_name": "DescriptionStyleModel",
          "state": {
            "_model_module": "@jupyter-widgets/controls",
            "_model_module_version": "1.5.0",
            "_model_name": "DescriptionStyleModel",
            "_view_count": null,
            "_view_module": "@jupyter-widgets/base",
            "_view_module_version": "1.2.0",
            "_view_name": "StyleView",
            "description_width": ""
          }
        },
        "6639e33f6dfa4405b64e009afbb3f54b": {
          "model_module": "@jupyter-widgets/controls",
          "model_module_version": "1.5.0",
          "model_name": "DescriptionStyleModel",
          "state": {
            "_model_module": "@jupyter-widgets/controls",
            "_model_module_version": "1.5.0",
            "_model_name": "DescriptionStyleModel",
            "_view_count": null,
            "_view_module": "@jupyter-widgets/base",
            "_view_module_version": "1.2.0",
            "_view_name": "StyleView",
            "description_width": ""
          }
        },
        "66cd214b7807441bbb17ddc142fdbddf": {
          "model_module": "@jupyter-widgets/controls",
          "model_module_version": "1.5.0",
          "model_name": "ButtonStyleModel",
          "state": {
            "_model_module": "@jupyter-widgets/controls",
            "_model_module_version": "1.5.0",
            "_model_name": "ButtonStyleModel",
            "_view_count": null,
            "_view_module": "@jupyter-widgets/base",
            "_view_module_version": "1.2.0",
            "_view_name": "StyleView",
            "button_color": null,
            "font_weight": ""
          }
        },
        "6734a45b0d3049369c2772fea4caca65": {
          "model_module": "@jupyter-widgets/controls",
          "model_module_version": "1.5.0",
          "model_name": "DescriptionStyleModel",
          "state": {
            "_model_module": "@jupyter-widgets/controls",
            "_model_module_version": "1.5.0",
            "_model_name": "DescriptionStyleModel",
            "_view_count": null,
            "_view_module": "@jupyter-widgets/base",
            "_view_module_version": "1.2.0",
            "_view_name": "StyleView",
            "description_width": ""
          }
        },
        "683cc100810f403b92e713543954b393": {
          "model_module": "@jupyter-widgets/controls",
          "model_module_version": "1.5.0",
          "model_name": "HTMLModel",
          "state": {
            "_dom_classes": [],
            "_model_module": "@jupyter-widgets/controls",
            "_model_module_version": "1.5.0",
            "_model_name": "HTMLModel",
            "_view_count": null,
            "_view_module": "@jupyter-widgets/controls",
            "_view_module_version": "1.5.0",
            "_view_name": "HTMLView",
            "description": "",
            "description_tooltip": null,
            "layout": "IPY_MODEL_2037afd2bdd146d09c7b3dda937a8e08",
            "placeholder": "​",
            "style": "IPY_MODEL_c730c64392ea4c9fa46bfafd81d684cf",
            "value": " 2.42G/2.42G [03:40&lt;00:00, 8.79MB/s]"
          }
        },
        "695ef3fa108e4e09aee52fa6adfe1a9c": {
          "model_module": "@jupyter-widgets/base",
          "model_module_version": "1.2.0",
          "model_name": "LayoutModel",
          "state": {
            "_model_module": "@jupyter-widgets/base",
            "_model_module_version": "1.2.0",
            "_model_name": "LayoutModel",
            "_view_count": null,
            "_view_module": "@jupyter-widgets/base",
            "_view_module_version": "1.2.0",
            "_view_name": "LayoutView",
            "align_content": null,
            "align_items": null,
            "align_self": null,
            "border": null,
            "bottom": null,
            "display": null,
            "flex": null,
            "flex_flow": null,
            "grid_area": null,
            "grid_auto_columns": null,
            "grid_auto_flow": null,
            "grid_auto_rows": null,
            "grid_column": null,
            "grid_gap": null,
            "grid_row": null,
            "grid_template_areas": null,
            "grid_template_columns": null,
            "grid_template_rows": null,
            "height": null,
            "justify_content": null,
            "justify_items": null,
            "left": null,
            "margin": null,
            "max_height": null,
            "max_width": null,
            "min_height": null,
            "min_width": null,
            "object_fit": null,
            "object_position": null,
            "order": null,
            "overflow": null,
            "overflow_x": null,
            "overflow_y": null,
            "padding": null,
            "right": null,
            "top": null,
            "visibility": null,
            "width": null
          }
        },
        "699c51ed4646490db3adc0e502aec4d9": {
          "model_module": "@jupyter-widgets/controls",
          "model_module_version": "1.5.0",
          "model_name": "HTMLModel",
          "state": {
            "_dom_classes": [],
            "_model_module": "@jupyter-widgets/controls",
            "_model_module_version": "1.5.0",
            "_model_name": "HTMLModel",
            "_view_count": null,
            "_view_module": "@jupyter-widgets/controls",
            "_view_module_version": "1.5.0",
            "_view_name": "HTMLView",
            "description": "",
            "description_tooltip": null,
            "layout": "IPY_MODEL_d6aaedf9f76747a391177409c34ebbcf",
            "placeholder": "​",
            "style": "IPY_MODEL_8bcdb3b197c840269ffc0fcaa041ad88",
            "value": " 1.72G/1.72G [00:31&lt;00:00, 57.0MB/s]"
          }
        },
        "6a754d14922b4a7bb78adad83a6ff85b": {
          "model_module": "@jupyter-widgets/base",
          "model_module_version": "1.2.0",
          "model_name": "LayoutModel",
          "state": {
            "_model_module": "@jupyter-widgets/base",
            "_model_module_version": "1.2.0",
            "_model_name": "LayoutModel",
            "_view_count": null,
            "_view_module": "@jupyter-widgets/base",
            "_view_module_version": "1.2.0",
            "_view_name": "LayoutView",
            "align_content": null,
            "align_items": null,
            "align_self": null,
            "border": null,
            "bottom": null,
            "display": null,
            "flex": null,
            "flex_flow": null,
            "grid_area": null,
            "grid_auto_columns": null,
            "grid_auto_flow": null,
            "grid_auto_rows": null,
            "grid_column": null,
            "grid_gap": null,
            "grid_row": null,
            "grid_template_areas": null,
            "grid_template_columns": null,
            "grid_template_rows": null,
            "height": null,
            "justify_content": null,
            "justify_items": null,
            "left": null,
            "margin": null,
            "max_height": null,
            "max_width": null,
            "min_height": null,
            "min_width": null,
            "object_fit": null,
            "object_position": null,
            "order": null,
            "overflow": null,
            "overflow_x": null,
            "overflow_y": null,
            "padding": null,
            "right": null,
            "top": null,
            "visibility": null,
            "width": null
          }
        },
        "6c62192e0e9f4c188d7cf4c086b79a4f": {
          "model_module": "@jupyter-widgets/controls",
          "model_module_version": "1.5.0",
          "model_name": "DescriptionStyleModel",
          "state": {
            "_model_module": "@jupyter-widgets/controls",
            "_model_module_version": "1.5.0",
            "_model_name": "DescriptionStyleModel",
            "_view_count": null,
            "_view_module": "@jupyter-widgets/base",
            "_view_module_version": "1.2.0",
            "_view_name": "StyleView",
            "description_width": ""
          }
        },
        "6d3da0b643c44ba480ea5388571f996f": {
          "model_module": "@jupyter-widgets/base",
          "model_module_version": "1.2.0",
          "model_name": "LayoutModel",
          "state": {
            "_model_module": "@jupyter-widgets/base",
            "_model_module_version": "1.2.0",
            "_model_name": "LayoutModel",
            "_view_count": null,
            "_view_module": "@jupyter-widgets/base",
            "_view_module_version": "1.2.0",
            "_view_name": "LayoutView",
            "align_content": null,
            "align_items": null,
            "align_self": null,
            "border": null,
            "bottom": null,
            "display": null,
            "flex": null,
            "flex_flow": null,
            "grid_area": null,
            "grid_auto_columns": null,
            "grid_auto_flow": null,
            "grid_auto_rows": null,
            "grid_column": null,
            "grid_gap": null,
            "grid_row": null,
            "grid_template_areas": null,
            "grid_template_columns": null,
            "grid_template_rows": null,
            "height": null,
            "justify_content": null,
            "justify_items": null,
            "left": null,
            "margin": null,
            "max_height": null,
            "max_width": null,
            "min_height": null,
            "min_width": null,
            "object_fit": null,
            "object_position": null,
            "order": null,
            "overflow": null,
            "overflow_x": null,
            "overflow_y": null,
            "padding": null,
            "right": null,
            "top": null,
            "visibility": null,
            "width": null
          }
        },
        "6f2b780742144763a2b2b3af661e31d1": {
          "model_module": "@jupyter-widgets/controls",
          "model_module_version": "1.5.0",
          "model_name": "DescriptionStyleModel",
          "state": {
            "_model_module": "@jupyter-widgets/controls",
            "_model_module_version": "1.5.0",
            "_model_name": "DescriptionStyleModel",
            "_view_count": null,
            "_view_module": "@jupyter-widgets/base",
            "_view_module_version": "1.2.0",
            "_view_name": "StyleView",
            "description_width": ""
          }
        },
        "6f933e3dcb7a4627b9510321bbede244": {
          "model_module": "@jupyter-widgets/controls",
          "model_module_version": "1.5.0",
          "model_name": "FloatProgressModel",
          "state": {
            "_dom_classes": [],
            "_model_module": "@jupyter-widgets/controls",
            "_model_module_version": "1.5.0",
            "_model_name": "FloatProgressModel",
            "_view_count": null,
            "_view_module": "@jupyter-widgets/controls",
            "_view_module_version": "1.5.0",
            "_view_name": "ProgressView",
            "bar_style": "success",
            "description": "",
            "description_tooltip": null,
            "layout": "IPY_MODEL_355f7727ba4642bba828da2fd844a107",
            "max": 6626,
            "min": 0,
            "orientation": "horizontal",
            "style": "IPY_MODEL_611ada68c9554bb0acdcee0b1b0c7ea1",
            "value": 6626
          }
        },
        "6ffc6562d95d4a4d96139c052cb02c64": {
          "model_module": "@jupyter-widgets/controls",
          "model_module_version": "1.5.0",
          "model_name": "DescriptionStyleModel",
          "state": {
            "_model_module": "@jupyter-widgets/controls",
            "_model_module_version": "1.5.0",
            "_model_name": "DescriptionStyleModel",
            "_view_count": null,
            "_view_module": "@jupyter-widgets/base",
            "_view_module_version": "1.2.0",
            "_view_name": "StyleView",
            "description_width": ""
          }
        },
        "70e63ec41143478e9584f344e51b03e7": {
          "model_module": "@jupyter-widgets/controls",
          "model_module_version": "1.5.0",
          "model_name": "ProgressStyleModel",
          "state": {
            "_model_module": "@jupyter-widgets/controls",
            "_model_module_version": "1.5.0",
            "_model_name": "ProgressStyleModel",
            "_view_count": null,
            "_view_module": "@jupyter-widgets/base",
            "_view_module_version": "1.2.0",
            "_view_name": "StyleView",
            "bar_color": null,
            "description_width": ""
          }
        },
        "711de682c83b4d8686c13cf2f738e475": {
          "model_module": "@jupyter-widgets/controls",
          "model_module_version": "1.5.0",
          "model_name": "ProgressStyleModel",
          "state": {
            "_model_module": "@jupyter-widgets/controls",
            "_model_module_version": "1.5.0",
            "_model_name": "ProgressStyleModel",
            "_view_count": null,
            "_view_module": "@jupyter-widgets/base",
            "_view_module_version": "1.2.0",
            "_view_name": "StyleView",
            "bar_color": null,
            "description_width": ""
          }
        },
        "71276080798e45ba9e9514ca5a25952c": {
          "model_module": "@jupyter-widgets/base",
          "model_module_version": "1.2.0",
          "model_name": "LayoutModel",
          "state": {
            "_model_module": "@jupyter-widgets/base",
            "_model_module_version": "1.2.0",
            "_model_name": "LayoutModel",
            "_view_count": null,
            "_view_module": "@jupyter-widgets/base",
            "_view_module_version": "1.2.0",
            "_view_name": "LayoutView",
            "align_content": null,
            "align_items": null,
            "align_self": null,
            "border": null,
            "bottom": null,
            "display": null,
            "flex": null,
            "flex_flow": null,
            "grid_area": null,
            "grid_auto_columns": null,
            "grid_auto_flow": null,
            "grid_auto_rows": null,
            "grid_column": null,
            "grid_gap": null,
            "grid_row": null,
            "grid_template_areas": null,
            "grid_template_columns": null,
            "grid_template_rows": null,
            "height": null,
            "justify_content": null,
            "justify_items": null,
            "left": null,
            "margin": null,
            "max_height": null,
            "max_width": null,
            "min_height": null,
            "min_width": null,
            "object_fit": null,
            "object_position": null,
            "order": null,
            "overflow": null,
            "overflow_x": null,
            "overflow_y": null,
            "padding": null,
            "right": null,
            "top": null,
            "visibility": null,
            "width": null
          }
        },
        "71b2a9bc97c64fef81f29941ff990c9e": {
          "model_module": "@jupyter-widgets/base",
          "model_module_version": "1.2.0",
          "model_name": "LayoutModel",
          "state": {
            "_model_module": "@jupyter-widgets/base",
            "_model_module_version": "1.2.0",
            "_model_name": "LayoutModel",
            "_view_count": null,
            "_view_module": "@jupyter-widgets/base",
            "_view_module_version": "1.2.0",
            "_view_name": "LayoutView",
            "align_content": null,
            "align_items": null,
            "align_self": null,
            "border": null,
            "bottom": null,
            "display": null,
            "flex": null,
            "flex_flow": null,
            "grid_area": null,
            "grid_auto_columns": null,
            "grid_auto_flow": null,
            "grid_auto_rows": null,
            "grid_column": null,
            "grid_gap": null,
            "grid_row": null,
            "grid_template_areas": null,
            "grid_template_columns": null,
            "grid_template_rows": null,
            "height": null,
            "justify_content": null,
            "justify_items": null,
            "left": null,
            "margin": null,
            "max_height": null,
            "max_width": null,
            "min_height": null,
            "min_width": null,
            "object_fit": null,
            "object_position": null,
            "order": null,
            "overflow": null,
            "overflow_x": null,
            "overflow_y": null,
            "padding": null,
            "right": null,
            "top": null,
            "visibility": null,
            "width": null
          }
        },
        "7382c494368d48dc97aacc111ea9c596": {
          "model_module": "@jupyter-widgets/base",
          "model_module_version": "1.2.0",
          "model_name": "LayoutModel",
          "state": {
            "_model_module": "@jupyter-widgets/base",
            "_model_module_version": "1.2.0",
            "_model_name": "LayoutModel",
            "_view_count": null,
            "_view_module": "@jupyter-widgets/base",
            "_view_module_version": "1.2.0",
            "_view_name": "LayoutView",
            "align_content": null,
            "align_items": null,
            "align_self": null,
            "border": null,
            "bottom": null,
            "display": null,
            "flex": null,
            "flex_flow": null,
            "grid_area": null,
            "grid_auto_columns": null,
            "grid_auto_flow": null,
            "grid_auto_rows": null,
            "grid_column": null,
            "grid_gap": null,
            "grid_row": null,
            "grid_template_areas": null,
            "grid_template_columns": null,
            "grid_template_rows": null,
            "height": null,
            "justify_content": null,
            "justify_items": null,
            "left": null,
            "margin": null,
            "max_height": null,
            "max_width": null,
            "min_height": null,
            "min_width": null,
            "object_fit": null,
            "object_position": null,
            "order": null,
            "overflow": null,
            "overflow_x": null,
            "overflow_y": null,
            "padding": null,
            "right": null,
            "top": null,
            "visibility": null,
            "width": null
          }
        },
        "73b0e62ccd3543e48d2608de1df3d95b": {
          "model_module": "@jupyter-widgets/controls",
          "model_module_version": "1.5.0",
          "model_name": "ProgressStyleModel",
          "state": {
            "_model_module": "@jupyter-widgets/controls",
            "_model_module_version": "1.5.0",
            "_model_name": "ProgressStyleModel",
            "_view_count": null,
            "_view_module": "@jupyter-widgets/base",
            "_view_module_version": "1.2.0",
            "_view_name": "StyleView",
            "bar_color": null,
            "description_width": ""
          }
        },
        "73c44d108b0d4290ad50857cbfc4c610": {
          "model_module": "@jupyter-widgets/controls",
          "model_module_version": "1.5.0",
          "model_name": "HTMLModel",
          "state": {
            "_dom_classes": [],
            "_model_module": "@jupyter-widgets/controls",
            "_model_module_version": "1.5.0",
            "_model_name": "HTMLModel",
            "_view_count": null,
            "_view_module": "@jupyter-widgets/controls",
            "_view_module_version": "1.5.0",
            "_view_name": "HTMLView",
            "description": "",
            "description_tooltip": null,
            "layout": "IPY_MODEL_ee15fa01f96f407f823e3a6992834f62",
            "placeholder": "​",
            "style": "IPY_MODEL_0578f0445fa648118b9f8c221889bb7c",
            "value": "config.json: 100%"
          }
        },
        "74688e61df6745c0a11abe5b4551ad85": {
          "model_module": "@jupyter-widgets/controls",
          "model_module_version": "1.5.0",
          "model_name": "FloatProgressModel",
          "state": {
            "_dom_classes": [],
            "_model_module": "@jupyter-widgets/controls",
            "_model_module_version": "1.5.0",
            "_model_name": "FloatProgressModel",
            "_view_count": null,
            "_view_module": "@jupyter-widgets/controls",
            "_view_module_version": "1.5.0",
            "_view_name": "ProgressView",
            "bar_style": "success",
            "description": "",
            "description_tooltip": null,
            "layout": "IPY_MODEL_3d6f6142f4da4d26b5bcfcf3d3459451",
            "max": 3289,
            "min": 0,
            "orientation": "horizontal",
            "style": "IPY_MODEL_952b4c18cfd341639203301e314c42a0",
            "value": 3289
          }
        },
        "74f722f559024dc8a347972e69c9d5f3": {
          "model_module": "@jupyter-widgets/controls",
          "model_module_version": "1.5.0",
          "model_name": "ProgressStyleModel",
          "state": {
            "_model_module": "@jupyter-widgets/controls",
            "_model_module_version": "1.5.0",
            "_model_name": "ProgressStyleModel",
            "_view_count": null,
            "_view_module": "@jupyter-widgets/base",
            "_view_module_version": "1.2.0",
            "_view_name": "StyleView",
            "bar_color": null,
            "description_width": ""
          }
        },
        "7662e0eb9a91463e9a69541c82ab9178": {
          "model_module": "@jupyter-widgets/controls",
          "model_module_version": "1.5.0",
          "model_name": "FloatProgressModel",
          "state": {
            "_dom_classes": [],
            "_model_module": "@jupyter-widgets/controls",
            "_model_module_version": "1.5.0",
            "_model_name": "FloatProgressModel",
            "_view_count": null,
            "_view_module": "@jupyter-widgets/controls",
            "_view_module_version": "1.5.0",
            "_view_name": "ProgressView",
            "bar_style": "success",
            "description": "",
            "description_tooltip": null,
            "layout": "IPY_MODEL_b28888859e6b4783a4ce1285989ec723",
            "max": 6626,
            "min": 0,
            "orientation": "horizontal",
            "style": "IPY_MODEL_02b17bfa039c44f0bfd1fe6d5fc85670",
            "value": 6626
          }
        },
        "76bb2483357d4ebeadd4db6a063fba54": {
          "model_module": "@jupyter-widgets/controls",
          "model_module_version": "1.5.0",
          "model_name": "ProgressStyleModel",
          "state": {
            "_model_module": "@jupyter-widgets/controls",
            "_model_module_version": "1.5.0",
            "_model_name": "ProgressStyleModel",
            "_view_count": null,
            "_view_module": "@jupyter-widgets/base",
            "_view_module_version": "1.2.0",
            "_view_name": "StyleView",
            "bar_color": null,
            "description_width": ""
          }
        },
        "76dad6452fcf44f4abb4425d0c84ea84": {
          "model_module": "@jupyter-widgets/controls",
          "model_module_version": "1.5.0",
          "model_name": "ProgressStyleModel",
          "state": {
            "_model_module": "@jupyter-widgets/controls",
            "_model_module_version": "1.5.0",
            "_model_name": "ProgressStyleModel",
            "_view_count": null,
            "_view_module": "@jupyter-widgets/base",
            "_view_module_version": "1.2.0",
            "_view_name": "StyleView",
            "bar_color": null,
            "description_width": ""
          }
        },
        "78bac143add94da9a4864ed41edc2146": {
          "model_module": "@jupyter-widgets/controls",
          "model_module_version": "1.5.0",
          "model_name": "DescriptionStyleModel",
          "state": {
            "_model_module": "@jupyter-widgets/controls",
            "_model_module_version": "1.5.0",
            "_model_name": "DescriptionStyleModel",
            "_view_count": null,
            "_view_module": "@jupyter-widgets/base",
            "_view_module_version": "1.2.0",
            "_view_name": "StyleView",
            "description_width": ""
          }
        },
        "78f7a618d76b411ebabf085d809ae95a": {
          "model_module": "@jupyter-widgets/base",
          "model_module_version": "1.2.0",
          "model_name": "LayoutModel",
          "state": {
            "_model_module": "@jupyter-widgets/base",
            "_model_module_version": "1.2.0",
            "_model_name": "LayoutModel",
            "_view_count": null,
            "_view_module": "@jupyter-widgets/base",
            "_view_module_version": "1.2.0",
            "_view_name": "LayoutView",
            "align_content": null,
            "align_items": null,
            "align_self": null,
            "border": null,
            "bottom": null,
            "display": null,
            "flex": null,
            "flex_flow": null,
            "grid_area": null,
            "grid_auto_columns": null,
            "grid_auto_flow": null,
            "grid_auto_rows": null,
            "grid_column": null,
            "grid_gap": null,
            "grid_row": null,
            "grid_template_areas": null,
            "grid_template_columns": null,
            "grid_template_rows": null,
            "height": null,
            "justify_content": null,
            "justify_items": null,
            "left": null,
            "margin": null,
            "max_height": null,
            "max_width": null,
            "min_height": null,
            "min_width": null,
            "object_fit": null,
            "object_position": null,
            "order": null,
            "overflow": null,
            "overflow_x": null,
            "overflow_y": null,
            "padding": null,
            "right": null,
            "top": null,
            "visibility": null,
            "width": null
          }
        },
        "790b0e1370274011b264548a4caca463": {
          "model_module": "@jupyter-widgets/controls",
          "model_module_version": "1.5.0",
          "model_name": "HBoxModel",
          "state": {
            "_dom_classes": [],
            "_model_module": "@jupyter-widgets/controls",
            "_model_module_version": "1.5.0",
            "_model_name": "HBoxModel",
            "_view_count": null,
            "_view_module": "@jupyter-widgets/controls",
            "_view_module_version": "1.5.0",
            "_view_name": "HBoxView",
            "box_style": "",
            "children": [
              "IPY_MODEL_73c44d108b0d4290ad50857cbfc4c610",
              "IPY_MODEL_609b50dcab62490da8d0bf53ee4acde7",
              "IPY_MODEL_b9edbc1a5c834bce95a3fea94c50457e"
            ],
            "layout": "IPY_MODEL_827493cf7f174d16aa54d8a7c8d9e6dd"
          }
        },
        "7aa34f76690e4798a83cb177ec65f520": {
          "model_module": "@jupyter-widgets/base",
          "model_module_version": "1.2.0",
          "model_name": "LayoutModel",
          "state": {
            "_model_module": "@jupyter-widgets/base",
            "_model_module_version": "1.2.0",
            "_model_name": "LayoutModel",
            "_view_count": null,
            "_view_module": "@jupyter-widgets/base",
            "_view_module_version": "1.2.0",
            "_view_name": "LayoutView",
            "align_content": null,
            "align_items": null,
            "align_self": null,
            "border": null,
            "bottom": null,
            "display": null,
            "flex": null,
            "flex_flow": null,
            "grid_area": null,
            "grid_auto_columns": null,
            "grid_auto_flow": null,
            "grid_auto_rows": null,
            "grid_column": null,
            "grid_gap": null,
            "grid_row": null,
            "grid_template_areas": null,
            "grid_template_columns": null,
            "grid_template_rows": null,
            "height": null,
            "justify_content": null,
            "justify_items": null,
            "left": null,
            "margin": null,
            "max_height": null,
            "max_width": null,
            "min_height": null,
            "min_width": null,
            "object_fit": null,
            "object_position": null,
            "order": null,
            "overflow": null,
            "overflow_x": null,
            "overflow_y": null,
            "padding": null,
            "right": null,
            "top": null,
            "visibility": null,
            "width": null
          }
        },
        "7fc9a659ffd641759ad915bcf9419896": {
          "model_module": "@jupyter-widgets/controls",
          "model_module_version": "1.5.0",
          "model_name": "HTMLModel",
          "state": {
            "_dom_classes": [],
            "_model_module": "@jupyter-widgets/controls",
            "_model_module_version": "1.5.0",
            "_model_name": "HTMLModel",
            "_view_count": null,
            "_view_module": "@jupyter-widgets/controls",
            "_view_module_version": "1.5.0",
            "_view_name": "HTMLView",
            "description": "",
            "description_tooltip": null,
            "layout": "IPY_MODEL_23f5dc7b80da450b870d6c0e55a2e036",
            "placeholder": "​",
            "style": "IPY_MODEL_14020d02141d4348ac1212aacaa3db93",
            "value": "Generating invalidated split: "
          }
        },
        "814dec784ae64ae6ad6f359cc1fb6647": {
          "model_module": "@jupyter-widgets/base",
          "model_module_version": "1.2.0",
          "model_name": "LayoutModel",
          "state": {
            "_model_module": "@jupyter-widgets/base",
            "_model_module_version": "1.2.0",
            "_model_name": "LayoutModel",
            "_view_count": null,
            "_view_module": "@jupyter-widgets/base",
            "_view_module_version": "1.2.0",
            "_view_name": "LayoutView",
            "align_content": null,
            "align_items": null,
            "align_self": null,
            "border": null,
            "bottom": null,
            "display": null,
            "flex": null,
            "flex_flow": null,
            "grid_area": null,
            "grid_auto_columns": null,
            "grid_auto_flow": null,
            "grid_auto_rows": null,
            "grid_column": null,
            "grid_gap": null,
            "grid_row": null,
            "grid_template_areas": null,
            "grid_template_columns": null,
            "grid_template_rows": null,
            "height": null,
            "justify_content": null,
            "justify_items": null,
            "left": null,
            "margin": null,
            "max_height": null,
            "max_width": null,
            "min_height": null,
            "min_width": null,
            "object_fit": null,
            "object_position": null,
            "order": null,
            "overflow": null,
            "overflow_x": null,
            "overflow_y": null,
            "padding": null,
            "right": null,
            "top": null,
            "visibility": null,
            "width": null
          }
        },
        "8160fd2f8e3949898db9c5cc040a6992": {
          "model_module": "@jupyter-widgets/base",
          "model_module_version": "1.2.0",
          "model_name": "LayoutModel",
          "state": {
            "_model_module": "@jupyter-widgets/base",
            "_model_module_version": "1.2.0",
            "_model_name": "LayoutModel",
            "_view_count": null,
            "_view_module": "@jupyter-widgets/base",
            "_view_module_version": "1.2.0",
            "_view_name": "LayoutView",
            "align_content": null,
            "align_items": null,
            "align_self": null,
            "border": null,
            "bottom": null,
            "display": null,
            "flex": null,
            "flex_flow": null,
            "grid_area": null,
            "grid_auto_columns": null,
            "grid_auto_flow": null,
            "grid_auto_rows": null,
            "grid_column": null,
            "grid_gap": null,
            "grid_row": null,
            "grid_template_areas": null,
            "grid_template_columns": null,
            "grid_template_rows": null,
            "height": null,
            "justify_content": null,
            "justify_items": null,
            "left": null,
            "margin": null,
            "max_height": null,
            "max_width": null,
            "min_height": null,
            "min_width": null,
            "object_fit": null,
            "object_position": null,
            "order": null,
            "overflow": null,
            "overflow_x": null,
            "overflow_y": null,
            "padding": null,
            "right": null,
            "top": null,
            "visibility": null,
            "width": null
          }
        },
        "819c4fa5dd13477ab2618fb85857fd26": {
          "model_module": "@jupyter-widgets/base",
          "model_module_version": "1.2.0",
          "model_name": "LayoutModel",
          "state": {
            "_model_module": "@jupyter-widgets/base",
            "_model_module_version": "1.2.0",
            "_model_name": "LayoutModel",
            "_view_count": null,
            "_view_module": "@jupyter-widgets/base",
            "_view_module_version": "1.2.0",
            "_view_name": "LayoutView",
            "align_content": null,
            "align_items": null,
            "align_self": null,
            "border": null,
            "bottom": null,
            "display": null,
            "flex": null,
            "flex_flow": null,
            "grid_area": null,
            "grid_auto_columns": null,
            "grid_auto_flow": null,
            "grid_auto_rows": null,
            "grid_column": null,
            "grid_gap": null,
            "grid_row": null,
            "grid_template_areas": null,
            "grid_template_columns": null,
            "grid_template_rows": null,
            "height": null,
            "justify_content": null,
            "justify_items": null,
            "left": null,
            "margin": null,
            "max_height": null,
            "max_width": null,
            "min_height": null,
            "min_width": null,
            "object_fit": null,
            "object_position": null,
            "order": null,
            "overflow": null,
            "overflow_x": null,
            "overflow_y": null,
            "padding": null,
            "right": null,
            "top": null,
            "visibility": null,
            "width": null
          }
        },
        "827493cf7f174d16aa54d8a7c8d9e6dd": {
          "model_module": "@jupyter-widgets/base",
          "model_module_version": "1.2.0",
          "model_name": "LayoutModel",
          "state": {
            "_model_module": "@jupyter-widgets/base",
            "_model_module_version": "1.2.0",
            "_model_name": "LayoutModel",
            "_view_count": null,
            "_view_module": "@jupyter-widgets/base",
            "_view_module_version": "1.2.0",
            "_view_name": "LayoutView",
            "align_content": null,
            "align_items": null,
            "align_self": null,
            "border": null,
            "bottom": null,
            "display": null,
            "flex": null,
            "flex_flow": null,
            "grid_area": null,
            "grid_auto_columns": null,
            "grid_auto_flow": null,
            "grid_auto_rows": null,
            "grid_column": null,
            "grid_gap": null,
            "grid_row": null,
            "grid_template_areas": null,
            "grid_template_columns": null,
            "grid_template_rows": null,
            "height": null,
            "justify_content": null,
            "justify_items": null,
            "left": null,
            "margin": null,
            "max_height": null,
            "max_width": null,
            "min_height": null,
            "min_width": null,
            "object_fit": null,
            "object_position": null,
            "order": null,
            "overflow": null,
            "overflow_x": null,
            "overflow_y": null,
            "padding": null,
            "right": null,
            "top": null,
            "visibility": null,
            "width": null
          }
        },
        "86cc42e4e7d74733b63d3082eca0ef9c": {
          "model_module": "@jupyter-widgets/base",
          "model_module_version": "1.2.0",
          "model_name": "LayoutModel",
          "state": {
            "_model_module": "@jupyter-widgets/base",
            "_model_module_version": "1.2.0",
            "_model_name": "LayoutModel",
            "_view_count": null,
            "_view_module": "@jupyter-widgets/base",
            "_view_module_version": "1.2.0",
            "_view_name": "LayoutView",
            "align_content": null,
            "align_items": null,
            "align_self": null,
            "border": null,
            "bottom": null,
            "display": null,
            "flex": null,
            "flex_flow": null,
            "grid_area": null,
            "grid_auto_columns": null,
            "grid_auto_flow": null,
            "grid_auto_rows": null,
            "grid_column": null,
            "grid_gap": null,
            "grid_row": null,
            "grid_template_areas": null,
            "grid_template_columns": null,
            "grid_template_rows": null,
            "height": null,
            "justify_content": null,
            "justify_items": null,
            "left": null,
            "margin": null,
            "max_height": null,
            "max_width": null,
            "min_height": null,
            "min_width": null,
            "object_fit": null,
            "object_position": null,
            "order": null,
            "overflow": null,
            "overflow_x": null,
            "overflow_y": null,
            "padding": null,
            "right": null,
            "top": null,
            "visibility": null,
            "width": null
          }
        },
        "872e96697ba643faa39f390356dbbb24": {
          "model_module": "@jupyter-widgets/controls",
          "model_module_version": "1.5.0",
          "model_name": "HTMLModel",
          "state": {
            "_dom_classes": [],
            "_model_module": "@jupyter-widgets/controls",
            "_model_module_version": "1.5.0",
            "_model_name": "HTMLModel",
            "_view_count": null,
            "_view_module": "@jupyter-widgets/controls",
            "_view_module_version": "1.5.0",
            "_view_name": "HTMLView",
            "description": "",
            "description_tooltip": null,
            "layout": "IPY_MODEL_148a4068bbda4dfdba028c9b4e152cad",
            "placeholder": "​",
            "style": "IPY_MODEL_ece083f606204785bf3806000a0f26ae",
            "value": " 4.47k/? [00:00&lt;00:00, 134kB/s]"
          }
        },
        "88d100741c1f4e84aa39b83405e59b86": {
          "model_module": "@jupyter-widgets/base",
          "model_module_version": "1.2.0",
          "model_name": "LayoutModel",
          "state": {
            "_model_module": "@jupyter-widgets/base",
            "_model_module_version": "1.2.0",
            "_model_name": "LayoutModel",
            "_view_count": null,
            "_view_module": "@jupyter-widgets/base",
            "_view_module_version": "1.2.0",
            "_view_name": "LayoutView",
            "align_content": null,
            "align_items": null,
            "align_self": null,
            "border": null,
            "bottom": null,
            "display": null,
            "flex": null,
            "flex_flow": null,
            "grid_area": null,
            "grid_auto_columns": null,
            "grid_auto_flow": null,
            "grid_auto_rows": null,
            "grid_column": null,
            "grid_gap": null,
            "grid_row": null,
            "grid_template_areas": null,
            "grid_template_columns": null,
            "grid_template_rows": null,
            "height": null,
            "justify_content": null,
            "justify_items": null,
            "left": null,
            "margin": null,
            "max_height": null,
            "max_width": null,
            "min_height": null,
            "min_width": null,
            "object_fit": null,
            "object_position": null,
            "order": null,
            "overflow": null,
            "overflow_x": null,
            "overflow_y": null,
            "padding": null,
            "right": null,
            "top": null,
            "visibility": null,
            "width": null
          }
        },
        "88d61c2794be4a99bde23143b19f66c6": {
          "model_module": "@jupyter-widgets/base",
          "model_module_version": "1.2.0",
          "model_name": "LayoutModel",
          "state": {
            "_model_module": "@jupyter-widgets/base",
            "_model_module_version": "1.2.0",
            "_model_name": "LayoutModel",
            "_view_count": null,
            "_view_module": "@jupyter-widgets/base",
            "_view_module_version": "1.2.0",
            "_view_name": "LayoutView",
            "align_content": null,
            "align_items": null,
            "align_self": null,
            "border": null,
            "bottom": null,
            "display": null,
            "flex": null,
            "flex_flow": null,
            "grid_area": null,
            "grid_auto_columns": null,
            "grid_auto_flow": null,
            "grid_auto_rows": null,
            "grid_column": null,
            "grid_gap": null,
            "grid_row": null,
            "grid_template_areas": null,
            "grid_template_columns": null,
            "grid_template_rows": null,
            "height": null,
            "justify_content": null,
            "justify_items": null,
            "left": null,
            "margin": null,
            "max_height": null,
            "max_width": null,
            "min_height": null,
            "min_width": null,
            "object_fit": null,
            "object_position": null,
            "order": null,
            "overflow": null,
            "overflow_x": null,
            "overflow_y": null,
            "padding": null,
            "right": null,
            "top": null,
            "visibility": null,
            "width": "20px"
          }
        },
        "8a562721fd934599b2ae213d67e68705": {
          "model_module": "@jupyter-widgets/controls",
          "model_module_version": "1.5.0",
          "model_name": "HTMLModel",
          "state": {
            "_dom_classes": [],
            "_model_module": "@jupyter-widgets/controls",
            "_model_module_version": "1.5.0",
            "_model_name": "HTMLModel",
            "_view_count": null,
            "_view_module": "@jupyter-widgets/controls",
            "_view_module_version": "1.5.0",
            "_view_name": "HTMLView",
            "description": "",
            "description_tooltip": null,
            "layout": "IPY_MODEL_8160fd2f8e3949898db9c5cc040a6992",
            "placeholder": "​",
            "style": "IPY_MODEL_ad44de7369004d039bc40717df32ff5c",
            "value": " 6626/6626 [00:00&lt;00:00, 95870.96 examples/s]"
          }
        },
        "8bcdb3b197c840269ffc0fcaa041ad88": {
          "model_module": "@jupyter-widgets/controls",
          "model_module_version": "1.5.0",
          "model_name": "DescriptionStyleModel",
          "state": {
            "_model_module": "@jupyter-widgets/controls",
            "_model_module_version": "1.5.0",
            "_model_name": "DescriptionStyleModel",
            "_view_count": null,
            "_view_module": "@jupyter-widgets/base",
            "_view_module_version": "1.2.0",
            "_view_name": "StyleView",
            "description_width": ""
          }
        },
        "8c72323a2c01430e8d5d15d285e7ee19": {
          "model_module": "@jupyter-widgets/controls",
          "model_module_version": "1.5.0",
          "model_name": "HBoxModel",
          "state": {
            "_dom_classes": [],
            "_model_module": "@jupyter-widgets/controls",
            "_model_module_version": "1.5.0",
            "_model_name": "HBoxModel",
            "_view_count": null,
            "_view_module": "@jupyter-widgets/controls",
            "_view_module_version": "1.5.0",
            "_view_name": "HBoxView",
            "box_style": "",
            "children": [
              "IPY_MODEL_b6d681e76e91474d89db07ab69472900",
              "IPY_MODEL_dff35a20b3f946b28990f38238e73068",
              "IPY_MODEL_56dd83cc98784c8f9741aff7e3a02bc8"
            ],
            "layout": "IPY_MODEL_2438197eed7042abb4b8e17001705b71"
          }
        },
        "8cb374e440194c24b630c9c901b1246c": {
          "model_module": "@jupyter-widgets/controls",
          "model_module_version": "1.5.0",
          "model_name": "HTMLModel",
          "state": {
            "_dom_classes": [],
            "_model_module": "@jupyter-widgets/controls",
            "_model_module_version": "1.5.0",
            "_model_name": "HTMLModel",
            "_view_count": null,
            "_view_module": "@jupyter-widgets/controls",
            "_view_module_version": "1.5.0",
            "_view_name": "HTMLView",
            "description": "",
            "description_tooltip": null,
            "layout": "IPY_MODEL_8dfd144083fb4668901a3ebe8793f079",
            "placeholder": "​",
            "style": "IPY_MODEL_a4f789b00e71460eb0f02a6d24199d2a",
            "value": " 11.3k/11.3k [00:00&lt;00:00, 586kB/s]"
          }
        },
        "8ccc4820b8ec4462baede7b62e60d479": {
          "model_module": "@jupyter-widgets/controls",
          "model_module_version": "1.5.0",
          "model_name": "HTMLModel",
          "state": {
            "_dom_classes": [],
            "_model_module": "@jupyter-widgets/controls",
            "_model_module_version": "1.5.0",
            "_model_name": "HTMLModel",
            "_view_count": null,
            "_view_module": "@jupyter-widgets/controls",
            "_view_module_version": "1.5.0",
            "_view_name": "HTMLView",
            "description": "",
            "description_tooltip": null,
            "layout": "IPY_MODEL_1550b196a4c44ea9b4fc510894670cc5",
            "placeholder": "​",
            "style": "IPY_MODEL_6639e33f6dfa4405b64e009afbb3f54b",
            "value": "README.md: 100%"
          }
        },
        "8da957f86def4e22b63957e22329f789": {
          "model_module": "@jupyter-widgets/controls",
          "model_module_version": "1.5.0",
          "model_name": "LabelModel",
          "state": {
            "_dom_classes": [],
            "_model_module": "@jupyter-widgets/controls",
            "_model_module_version": "1.5.0",
            "_model_name": "LabelModel",
            "_view_count": null,
            "_view_module": "@jupyter-widgets/controls",
            "_view_module_version": "1.5.0",
            "_view_name": "LabelView",
            "description": "",
            "description_tooltip": null,
            "layout": "IPY_MODEL_8e0637f0c49a4f9eb0a301f8bbc0e621",
            "placeholder": "​",
            "style": "IPY_MODEL_b5ef9a44b713452d9ce50c3ea29d8ff9",
            "value": "Your token has been saved to /root/.cache/huggingface/token"
          }
        },
        "8dfd144083fb4668901a3ebe8793f079": {
          "model_module": "@jupyter-widgets/base",
          "model_module_version": "1.2.0",
          "model_name": "LayoutModel",
          "state": {
            "_model_module": "@jupyter-widgets/base",
            "_model_module_version": "1.2.0",
            "_model_name": "LayoutModel",
            "_view_count": null,
            "_view_module": "@jupyter-widgets/base",
            "_view_module_version": "1.2.0",
            "_view_name": "LayoutView",
            "align_content": null,
            "align_items": null,
            "align_self": null,
            "border": null,
            "bottom": null,
            "display": null,
            "flex": null,
            "flex_flow": null,
            "grid_area": null,
            "grid_auto_columns": null,
            "grid_auto_flow": null,
            "grid_auto_rows": null,
            "grid_column": null,
            "grid_gap": null,
            "grid_row": null,
            "grid_template_areas": null,
            "grid_template_columns": null,
            "grid_template_rows": null,
            "height": null,
            "justify_content": null,
            "justify_items": null,
            "left": null,
            "margin": null,
            "max_height": null,
            "max_width": null,
            "min_height": null,
            "min_width": null,
            "object_fit": null,
            "object_position": null,
            "order": null,
            "overflow": null,
            "overflow_x": null,
            "overflow_y": null,
            "padding": null,
            "right": null,
            "top": null,
            "visibility": null,
            "width": null
          }
        },
        "8e0637f0c49a4f9eb0a301f8bbc0e621": {
          "model_module": "@jupyter-widgets/base",
          "model_module_version": "1.2.0",
          "model_name": "LayoutModel",
          "state": {
            "_model_module": "@jupyter-widgets/base",
            "_model_module_version": "1.2.0",
            "_model_name": "LayoutModel",
            "_view_count": null,
            "_view_module": "@jupyter-widgets/base",
            "_view_module_version": "1.2.0",
            "_view_name": "LayoutView",
            "align_content": null,
            "align_items": null,
            "align_self": null,
            "border": null,
            "bottom": null,
            "display": null,
            "flex": null,
            "flex_flow": null,
            "grid_area": null,
            "grid_auto_columns": null,
            "grid_auto_flow": null,
            "grid_auto_rows": null,
            "grid_column": null,
            "grid_gap": null,
            "grid_row": null,
            "grid_template_areas": null,
            "grid_template_columns": null,
            "grid_template_rows": null,
            "height": null,
            "justify_content": null,
            "justify_items": null,
            "left": null,
            "margin": null,
            "max_height": null,
            "max_width": null,
            "min_height": null,
            "min_width": null,
            "object_fit": null,
            "object_position": null,
            "order": null,
            "overflow": null,
            "overflow_x": null,
            "overflow_y": null,
            "padding": null,
            "right": null,
            "top": null,
            "visibility": null,
            "width": null
          }
        },
        "8ee68ad071ee452993af29ecacd2d66c": {
          "model_module": "@jupyter-widgets/controls",
          "model_module_version": "1.5.0",
          "model_name": "ProgressStyleModel",
          "state": {
            "_model_module": "@jupyter-widgets/controls",
            "_model_module_version": "1.5.0",
            "_model_name": "ProgressStyleModel",
            "_view_count": null,
            "_view_module": "@jupyter-widgets/base",
            "_view_module_version": "1.2.0",
            "_view_name": "StyleView",
            "bar_color": null,
            "description_width": ""
          }
        },
        "8f38983385354f44b99c167b2090351d": {
          "model_module": "@jupyter-widgets/base",
          "model_module_version": "1.2.0",
          "model_name": "LayoutModel",
          "state": {
            "_model_module": "@jupyter-widgets/base",
            "_model_module_version": "1.2.0",
            "_model_name": "LayoutModel",
            "_view_count": null,
            "_view_module": "@jupyter-widgets/base",
            "_view_module_version": "1.2.0",
            "_view_name": "LayoutView",
            "align_content": null,
            "align_items": null,
            "align_self": null,
            "border": null,
            "bottom": null,
            "display": null,
            "flex": null,
            "flex_flow": null,
            "grid_area": null,
            "grid_auto_columns": null,
            "grid_auto_flow": null,
            "grid_auto_rows": null,
            "grid_column": null,
            "grid_gap": null,
            "grid_row": null,
            "grid_template_areas": null,
            "grid_template_columns": null,
            "grid_template_rows": null,
            "height": null,
            "justify_content": null,
            "justify_items": null,
            "left": null,
            "margin": null,
            "max_height": null,
            "max_width": null,
            "min_height": null,
            "min_width": null,
            "object_fit": null,
            "object_position": null,
            "order": null,
            "overflow": null,
            "overflow_x": null,
            "overflow_y": null,
            "padding": null,
            "right": null,
            "top": null,
            "visibility": null,
            "width": null
          }
        },
        "904c1c93cb5f41059bc1ef9a0f45b088": {
          "model_module": "@jupyter-widgets/base",
          "model_module_version": "1.2.0",
          "model_name": "LayoutModel",
          "state": {
            "_model_module": "@jupyter-widgets/base",
            "_model_module_version": "1.2.0",
            "_model_name": "LayoutModel",
            "_view_count": null,
            "_view_module": "@jupyter-widgets/base",
            "_view_module_version": "1.2.0",
            "_view_name": "LayoutView",
            "align_content": null,
            "align_items": null,
            "align_self": null,
            "border": null,
            "bottom": null,
            "display": null,
            "flex": null,
            "flex_flow": null,
            "grid_area": null,
            "grid_auto_columns": null,
            "grid_auto_flow": null,
            "grid_auto_rows": null,
            "grid_column": null,
            "grid_gap": null,
            "grid_row": null,
            "grid_template_areas": null,
            "grid_template_columns": null,
            "grid_template_rows": null,
            "height": null,
            "justify_content": null,
            "justify_items": null,
            "left": null,
            "margin": null,
            "max_height": null,
            "max_width": null,
            "min_height": null,
            "min_width": null,
            "object_fit": null,
            "object_position": null,
            "order": null,
            "overflow": null,
            "overflow_x": null,
            "overflow_y": null,
            "padding": null,
            "right": null,
            "top": null,
            "visibility": null,
            "width": null
          }
        },
        "90ccfb6f0d624f2da3f93ea025935366": {
          "model_module": "@jupyter-widgets/controls",
          "model_module_version": "1.5.0",
          "model_name": "ButtonModel",
          "state": {
            "_dom_classes": [],
            "_model_module": "@jupyter-widgets/controls",
            "_model_module_version": "1.5.0",
            "_model_name": "ButtonModel",
            "_view_count": null,
            "_view_module": "@jupyter-widgets/controls",
            "_view_module_version": "1.5.0",
            "_view_name": "ButtonView",
            "button_style": "",
            "description": "Login",
            "disabled": false,
            "icon": "",
            "layout": "IPY_MODEL_d76a0659510d4927931f86384cefa7df",
            "style": "IPY_MODEL_66cd214b7807441bbb17ddc142fdbddf",
            "tooltip": ""
          }
        },
        "91303af16b13431b871a8f402c01670f": {
          "model_module": "@jupyter-widgets/controls",
          "model_module_version": "1.5.0",
          "model_name": "DescriptionStyleModel",
          "state": {
            "_model_module": "@jupyter-widgets/controls",
            "_model_module_version": "1.5.0",
            "_model_name": "DescriptionStyleModel",
            "_view_count": null,
            "_view_module": "@jupyter-widgets/base",
            "_view_module_version": "1.2.0",
            "_view_name": "StyleView",
            "description_width": ""
          }
        },
        "916d17092121477fb503f64483126516": {
          "model_module": "@jupyter-widgets/base",
          "model_module_version": "1.2.0",
          "model_name": "LayoutModel",
          "state": {
            "_model_module": "@jupyter-widgets/base",
            "_model_module_version": "1.2.0",
            "_model_name": "LayoutModel",
            "_view_count": null,
            "_view_module": "@jupyter-widgets/base",
            "_view_module_version": "1.2.0",
            "_view_name": "LayoutView",
            "align_content": null,
            "align_items": null,
            "align_self": null,
            "border": null,
            "bottom": null,
            "display": null,
            "flex": null,
            "flex_flow": null,
            "grid_area": null,
            "grid_auto_columns": null,
            "grid_auto_flow": null,
            "grid_auto_rows": null,
            "grid_column": null,
            "grid_gap": null,
            "grid_row": null,
            "grid_template_areas": null,
            "grid_template_columns": null,
            "grid_template_rows": null,
            "height": null,
            "justify_content": null,
            "justify_items": null,
            "left": null,
            "margin": null,
            "max_height": null,
            "max_width": null,
            "min_height": null,
            "min_width": null,
            "object_fit": null,
            "object_position": null,
            "order": null,
            "overflow": null,
            "overflow_x": null,
            "overflow_y": null,
            "padding": null,
            "right": null,
            "top": null,
            "visibility": null,
            "width": null
          }
        },
        "9171a74c035349f48c5ba0d69342296e": {
          "model_module": "@jupyter-widgets/controls",
          "model_module_version": "1.5.0",
          "model_name": "DescriptionStyleModel",
          "state": {
            "_model_module": "@jupyter-widgets/controls",
            "_model_module_version": "1.5.0",
            "_model_name": "DescriptionStyleModel",
            "_view_count": null,
            "_view_module": "@jupyter-widgets/base",
            "_view_module_version": "1.2.0",
            "_view_name": "StyleView",
            "description_width": ""
          }
        },
        "9249815c7e274ae19e4411b82cbe8622": {
          "model_module": "@jupyter-widgets/base",
          "model_module_version": "1.2.0",
          "model_name": "LayoutModel",
          "state": {
            "_model_module": "@jupyter-widgets/base",
            "_model_module_version": "1.2.0",
            "_model_name": "LayoutModel",
            "_view_count": null,
            "_view_module": "@jupyter-widgets/base",
            "_view_module_version": "1.2.0",
            "_view_name": "LayoutView",
            "align_content": null,
            "align_items": null,
            "align_self": null,
            "border": null,
            "bottom": null,
            "display": null,
            "flex": null,
            "flex_flow": null,
            "grid_area": null,
            "grid_auto_columns": null,
            "grid_auto_flow": null,
            "grid_auto_rows": null,
            "grid_column": null,
            "grid_gap": null,
            "grid_row": null,
            "grid_template_areas": null,
            "grid_template_columns": null,
            "grid_template_rows": null,
            "height": null,
            "justify_content": null,
            "justify_items": null,
            "left": null,
            "margin": null,
            "max_height": null,
            "max_width": null,
            "min_height": null,
            "min_width": null,
            "object_fit": null,
            "object_position": null,
            "order": null,
            "overflow": null,
            "overflow_x": null,
            "overflow_y": null,
            "padding": null,
            "right": null,
            "top": null,
            "visibility": null,
            "width": "20px"
          }
        },
        "93df25375d694127ac47dbc6a8d6fa0e": {
          "model_module": "@jupyter-widgets/controls",
          "model_module_version": "1.5.0",
          "model_name": "DescriptionStyleModel",
          "state": {
            "_model_module": "@jupyter-widgets/controls",
            "_model_module_version": "1.5.0",
            "_model_name": "DescriptionStyleModel",
            "_view_count": null,
            "_view_module": "@jupyter-widgets/base",
            "_view_module_version": "1.2.0",
            "_view_name": "StyleView",
            "description_width": ""
          }
        },
        "93ea3fb6bc5147318472b84fabd89492": {
          "model_module": "@jupyter-widgets/controls",
          "model_module_version": "1.5.0",
          "model_name": "HBoxModel",
          "state": {
            "_dom_classes": [],
            "_model_module": "@jupyter-widgets/controls",
            "_model_module_version": "1.5.0",
            "_model_name": "HBoxModel",
            "_view_count": null,
            "_view_module": "@jupyter-widgets/controls",
            "_view_module_version": "1.5.0",
            "_view_name": "HBoxView",
            "box_style": "",
            "children": [
              "IPY_MODEL_ec5f83428b884a439587e08b9dd0f851",
              "IPY_MODEL_d00e50968ec84b2e9a6d719dd17a26c9",
              "IPY_MODEL_4c0042bba1cf46d4a634ad27374a8162"
            ],
            "layout": "IPY_MODEL_5c39d83d77224cda9fccd8ac9643b259"
          }
        },
        "94a356846e0449e99150ba0354ef84d6": {
          "model_module": "@jupyter-widgets/controls",
          "model_module_version": "1.5.0",
          "model_name": "VBoxModel",
          "state": {
            "_dom_classes": [],
            "_model_module": "@jupyter-widgets/controls",
            "_model_module_version": "1.5.0",
            "_model_name": "VBoxModel",
            "_view_count": null,
            "_view_module": "@jupyter-widgets/controls",
            "_view_module_version": "1.5.0",
            "_view_name": "VBoxView",
            "box_style": "",
            "children": [
              "IPY_MODEL_4aedeb89aad646479e0937312f5c4d29",
              "IPY_MODEL_99a91e2e8a204d6e8bede88eaab1999f",
              "IPY_MODEL_8da957f86def4e22b63957e22329f789",
              "IPY_MODEL_624ccb7ab79e41fba6c1fcc6d157fb1e"
            ],
            "layout": "IPY_MODEL_ee3fddc2c0e14d8aab5b941d45c40de2"
          }
        },
        "952b4c18cfd341639203301e314c42a0": {
          "model_module": "@jupyter-widgets/controls",
          "model_module_version": "1.5.0",
          "model_name": "ProgressStyleModel",
          "state": {
            "_model_module": "@jupyter-widgets/controls",
            "_model_module_version": "1.5.0",
            "_model_name": "ProgressStyleModel",
            "_view_count": null,
            "_view_module": "@jupyter-widgets/base",
            "_view_module_version": "1.2.0",
            "_view_name": "StyleView",
            "bar_color": null,
            "description_width": ""
          }
        },
        "957445d05d7441349fe9c1c561ccafdd": {
          "model_module": "@jupyter-widgets/controls",
          "model_module_version": "1.5.0",
          "model_name": "ProgressStyleModel",
          "state": {
            "_model_module": "@jupyter-widgets/controls",
            "_model_module_version": "1.5.0",
            "_model_name": "ProgressStyleModel",
            "_view_count": null,
            "_view_module": "@jupyter-widgets/base",
            "_view_module_version": "1.2.0",
            "_view_name": "StyleView",
            "bar_color": null,
            "description_width": ""
          }
        },
        "970c612f2a93451494978a446efc56bf": {
          "model_module": "@jupyter-widgets/controls",
          "model_module_version": "1.5.0",
          "model_name": "ProgressStyleModel",
          "state": {
            "_model_module": "@jupyter-widgets/controls",
            "_model_module_version": "1.5.0",
            "_model_name": "ProgressStyleModel",
            "_view_count": null,
            "_view_module": "@jupyter-widgets/base",
            "_view_module_version": "1.2.0",
            "_view_name": "StyleView",
            "bar_color": null,
            "description_width": ""
          }
        },
        "97bccc224098417bb44307c538b46de1": {
          "model_module": "@jupyter-widgets/base",
          "model_module_version": "1.2.0",
          "model_name": "LayoutModel",
          "state": {
            "_model_module": "@jupyter-widgets/base",
            "_model_module_version": "1.2.0",
            "_model_name": "LayoutModel",
            "_view_count": null,
            "_view_module": "@jupyter-widgets/base",
            "_view_module_version": "1.2.0",
            "_view_name": "LayoutView",
            "align_content": null,
            "align_items": null,
            "align_self": null,
            "border": null,
            "bottom": null,
            "display": null,
            "flex": null,
            "flex_flow": null,
            "grid_area": null,
            "grid_auto_columns": null,
            "grid_auto_flow": null,
            "grid_auto_rows": null,
            "grid_column": null,
            "grid_gap": null,
            "grid_row": null,
            "grid_template_areas": null,
            "grid_template_columns": null,
            "grid_template_rows": null,
            "height": null,
            "justify_content": null,
            "justify_items": null,
            "left": null,
            "margin": null,
            "max_height": null,
            "max_width": null,
            "min_height": null,
            "min_width": null,
            "object_fit": null,
            "object_position": null,
            "order": null,
            "overflow": null,
            "overflow_x": null,
            "overflow_y": null,
            "padding": null,
            "right": null,
            "top": null,
            "visibility": null,
            "width": null
          }
        },
        "98358ecf9250411b9ac62c0c293582fc": {
          "model_module": "@jupyter-widgets/controls",
          "model_module_version": "1.5.0",
          "model_name": "FloatProgressModel",
          "state": {
            "_dom_classes": [],
            "_model_module": "@jupyter-widgets/controls",
            "_model_module_version": "1.5.0",
            "_model_name": "FloatProgressModel",
            "_view_count": null,
            "_view_module": "@jupyter-widgets/controls",
            "_view_module_version": "1.5.0",
            "_view_name": "ProgressView",
            "bar_style": "success",
            "description": "",
            "description_tooltip": null,
            "layout": "IPY_MODEL_1946a60256fa45c0832ead631424059d",
            "max": 49716,
            "min": 0,
            "orientation": "horizontal",
            "style": "IPY_MODEL_38fab194963c42e296927e12c2fff376",
            "value": 49716
          }
        },
        "985ae81202ce425ea2b57ca04a0920cc": {
          "model_module": "@jupyter-widgets/controls",
          "model_module_version": "1.5.0",
          "model_name": "HTMLModel",
          "state": {
            "_dom_classes": [],
            "_model_module": "@jupyter-widgets/controls",
            "_model_module_version": "1.5.0",
            "_model_name": "HTMLModel",
            "_view_count": null,
            "_view_module": "@jupyter-widgets/controls",
            "_view_module_version": "1.5.0",
            "_view_name": "HTMLView",
            "description": "",
            "description_tooltip": null,
            "layout": "IPY_MODEL_3202ba8381a4413fa8dfd8104ce05e84",
            "placeholder": "​",
            "style": "IPY_MODEL_3f4f871a84bb4e26aa4f832e123defaf",
            "value": "Map: 100%"
          }
        },
        "98d9a2e070c14d7e8a43f320169abdec": {
          "model_module": "@jupyter-widgets/controls",
          "model_module_version": "1.5.0",
          "model_name": "HBoxModel",
          "state": {
            "_dom_classes": [],
            "_model_module": "@jupyter-widgets/controls",
            "_model_module_version": "1.5.0",
            "_model_name": "HBoxModel",
            "_view_count": null,
            "_view_module": "@jupyter-widgets/controls",
            "_view_module_version": "1.5.0",
            "_view_name": "HBoxView",
            "box_style": "",
            "children": [
              "IPY_MODEL_f3551d5b647f4feeaf7a3691ac9bd349",
              "IPY_MODEL_46613a7e2a754267898e4ec2e43ceb2b",
              "IPY_MODEL_c7e705cf3ce1470bb63c89813252f077"
            ],
            "layout": "IPY_MODEL_695ef3fa108e4e09aee52fa6adfe1a9c"
          }
        },
        "99a91e2e8a204d6e8bede88eaab1999f": {
          "model_module": "@jupyter-widgets/controls",
          "model_module_version": "1.5.0",
          "model_name": "LabelModel",
          "state": {
            "_dom_classes": [],
            "_model_module": "@jupyter-widgets/controls",
            "_model_module_version": "1.5.0",
            "_model_name": "LabelModel",
            "_view_count": null,
            "_view_module": "@jupyter-widgets/controls",
            "_view_module_version": "1.5.0",
            "_view_name": "LabelView",
            "description": "",
            "description_tooltip": null,
            "layout": "IPY_MODEL_fec45ef84e484724a4d21b95cb5777d7",
            "placeholder": "​",
            "style": "IPY_MODEL_9e74b1ec8343401792a0bbf180914203",
            "value": "Your token has been saved in your configured git credential helpers (store)."
          }
        },
        "99d7d4b441504999bd5416c1cd3205ae": {
          "model_module": "@jupyter-widgets/controls",
          "model_module_version": "1.5.0",
          "model_name": "HTMLModel",
          "state": {
            "_dom_classes": [],
            "_model_module": "@jupyter-widgets/controls",
            "_model_module_version": "1.5.0",
            "_model_name": "HTMLModel",
            "_view_count": null,
            "_view_module": "@jupyter-widgets/controls",
            "_view_module_version": "1.5.0",
            "_view_name": "HTMLView",
            "description": "",
            "description_tooltip": null,
            "layout": "IPY_MODEL_60ec9400dba44d30ac3399bceb134cd4",
            "placeholder": "​",
            "style": "IPY_MODEL_5154648875764c4f821480826119fc82",
            "value": "Downloading data: 100%"
          }
        },
        "9b157f61bef743a2af83d5f1ec373792": {
          "model_module": "@jupyter-widgets/controls",
          "model_module_version": "1.5.0",
          "model_name": "HTMLModel",
          "state": {
            "_dom_classes": [],
            "_model_module": "@jupyter-widgets/controls",
            "_model_module_version": "1.5.0",
            "_model_name": "HTMLModel",
            "_view_count": null,
            "_view_module": "@jupyter-widgets/controls",
            "_view_module_version": "1.5.0",
            "_view_name": "HTMLView",
            "description": "",
            "description_tooltip": null,
            "layout": "IPY_MODEL_1e155e93b0fb4335b02bdbc6940169b6",
            "placeholder": "​",
            "style": "IPY_MODEL_269dfbc99a3a449a9fd20651f101aaa6",
            "value": " 5.18k/5.18k [00:00&lt;00:00, 343kB/s]"
          }
        },
        "9bc12c5fdabe46caa672b4086f53efe9": {
          "model_module": "@jupyter-widgets/controls",
          "model_module_version": "1.5.0",
          "model_name": "DescriptionStyleModel",
          "state": {
            "_model_module": "@jupyter-widgets/controls",
            "_model_module_version": "1.5.0",
            "_model_name": "DescriptionStyleModel",
            "_view_count": null,
            "_view_module": "@jupyter-widgets/base",
            "_view_module_version": "1.2.0",
            "_view_name": "StyleView",
            "description_width": ""
          }
        },
        "9bfefa71e79c4abf9e429fb259dadd59": {
          "model_module": "@jupyter-widgets/base",
          "model_module_version": "1.2.0",
          "model_name": "LayoutModel",
          "state": {
            "_model_module": "@jupyter-widgets/base",
            "_model_module_version": "1.2.0",
            "_model_name": "LayoutModel",
            "_view_count": null,
            "_view_module": "@jupyter-widgets/base",
            "_view_module_version": "1.2.0",
            "_view_name": "LayoutView",
            "align_content": null,
            "align_items": null,
            "align_self": null,
            "border": null,
            "bottom": null,
            "display": null,
            "flex": null,
            "flex_flow": null,
            "grid_area": null,
            "grid_auto_columns": null,
            "grid_auto_flow": null,
            "grid_auto_rows": null,
            "grid_column": null,
            "grid_gap": null,
            "grid_row": null,
            "grid_template_areas": null,
            "grid_template_columns": null,
            "grid_template_rows": null,
            "height": null,
            "justify_content": null,
            "justify_items": null,
            "left": null,
            "margin": null,
            "max_height": null,
            "max_width": null,
            "min_height": null,
            "min_width": null,
            "object_fit": null,
            "object_position": null,
            "order": null,
            "overflow": null,
            "overflow_x": null,
            "overflow_y": null,
            "padding": null,
            "right": null,
            "top": null,
            "visibility": null,
            "width": null
          }
        },
        "9c8d2b0c618e47ce9c7e42351b416da1": {
          "model_module": "@jupyter-widgets/controls",
          "model_module_version": "1.5.0",
          "model_name": "HTMLModel",
          "state": {
            "_dom_classes": [],
            "_model_module": "@jupyter-widgets/controls",
            "_model_module_version": "1.5.0",
            "_model_name": "HTMLModel",
            "_view_count": null,
            "_view_module": "@jupyter-widgets/controls",
            "_view_module_version": "1.5.0",
            "_view_name": "HTMLView",
            "description": "",
            "description_tooltip": null,
            "layout": "IPY_MODEL_f1180cfe2644462bbf38ac4e5f81dee8",
            "placeholder": "​",
            "style": "IPY_MODEL_6f2b780742144763a2b2b3af661e31d1",
            "value": " 3549/0 [00:12&lt;00:00, 92.22 examples/s]"
          }
        },
        "9e74b1ec8343401792a0bbf180914203": {
          "model_module": "@jupyter-widgets/controls",
          "model_module_version": "1.5.0",
          "model_name": "DescriptionStyleModel",
          "state": {
            "_model_module": "@jupyter-widgets/controls",
            "_model_module_version": "1.5.0",
            "_model_name": "DescriptionStyleModel",
            "_view_count": null,
            "_view_module": "@jupyter-widgets/base",
            "_view_module_version": "1.2.0",
            "_view_name": "StyleView",
            "description_width": ""
          }
        },
        "9ef41911f26c449c970728e2ca90769c": {
          "model_module": "@jupyter-widgets/controls",
          "model_module_version": "1.5.0",
          "model_name": "HBoxModel",
          "state": {
            "_dom_classes": [],
            "_model_module": "@jupyter-widgets/controls",
            "_model_module_version": "1.5.0",
            "_model_name": "HBoxModel",
            "_view_count": null,
            "_view_module": "@jupyter-widgets/controls",
            "_view_module_version": "1.5.0",
            "_view_name": "HBoxView",
            "box_style": "",
            "children": [
              "IPY_MODEL_3243b57838cc4362b10414dd7b68378e",
              "IPY_MODEL_3f3527f318584431a70e4f6a31688ce1",
              "IPY_MODEL_e512c9f3c5eb49849bd17c7c852e8843"
            ],
            "layout": "IPY_MODEL_1a4f2353154547348ca902e612bb15bd"
          }
        },
        "9feba72d58c54b93874991d00cb86396": {
          "model_module": "@jupyter-widgets/controls",
          "model_module_version": "1.5.0",
          "model_name": "HBoxModel",
          "state": {
            "_dom_classes": [],
            "_model_module": "@jupyter-widgets/controls",
            "_model_module_version": "1.5.0",
            "_model_name": "HBoxModel",
            "_view_count": null,
            "_view_module": "@jupyter-widgets/controls",
            "_view_module_version": "1.5.0",
            "_view_name": "HBoxView",
            "box_style": "",
            "children": [
              "IPY_MODEL_30489d9bdf1d4609872b6ae2a0c41c75",
              "IPY_MODEL_3a6a6a0f93564d6694acc3536160c4b4",
              "IPY_MODEL_8a562721fd934599b2ae213d67e68705"
            ],
            "layout": "IPY_MODEL_a569e791db34430b8d251b00fe9fa0c1"
          }
        },
        "a096b6f6c8964d299b940792ea3efe88": {
          "model_module": "@jupyter-widgets/controls",
          "model_module_version": "1.5.0",
          "model_name": "DescriptionStyleModel",
          "state": {
            "_model_module": "@jupyter-widgets/controls",
            "_model_module_version": "1.5.0",
            "_model_name": "DescriptionStyleModel",
            "_view_count": null,
            "_view_module": "@jupyter-widgets/base",
            "_view_module_version": "1.2.0",
            "_view_name": "StyleView",
            "description_width": ""
          }
        },
        "a0c88747e34047bda02cb4590724ab9b": {
          "model_module": "@jupyter-widgets/controls",
          "model_module_version": "1.5.0",
          "model_name": "FloatProgressModel",
          "state": {
            "_dom_classes": [],
            "_model_module": "@jupyter-widgets/controls",
            "_model_module_version": "1.5.0",
            "_model_name": "FloatProgressModel",
            "_view_count": null,
            "_view_module": "@jupyter-widgets/controls",
            "_view_module_version": "1.5.0",
            "_view_name": "ProgressView",
            "bar_style": "success",
            "description": "",
            "description_tooltip": null,
            "layout": "IPY_MODEL_f1494c1d1a3b41efb8f6243fc6fba0c7",
            "max": 2422974460,
            "min": 0,
            "orientation": "horizontal",
            "style": "IPY_MODEL_57a7bcaa7c264a75823a2d900c18a03a",
            "value": 2422974460
          }
        },
        "a2b15e9f24e74657a734b258bd97659b": {
          "model_module": "@jupyter-widgets/controls",
          "model_module_version": "1.5.0",
          "model_name": "DescriptionStyleModel",
          "state": {
            "_model_module": "@jupyter-widgets/controls",
            "_model_module_version": "1.5.0",
            "_model_name": "DescriptionStyleModel",
            "_view_count": null,
            "_view_module": "@jupyter-widgets/base",
            "_view_module_version": "1.2.0",
            "_view_name": "StyleView",
            "description_width": ""
          }
        },
        "a3aed732d0b647c1a8b898272bd70483": {
          "model_module": "@jupyter-widgets/controls",
          "model_module_version": "1.5.0",
          "model_name": "DescriptionStyleModel",
          "state": {
            "_model_module": "@jupyter-widgets/controls",
            "_model_module_version": "1.5.0",
            "_model_name": "DescriptionStyleModel",
            "_view_count": null,
            "_view_module": "@jupyter-widgets/base",
            "_view_module_version": "1.2.0",
            "_view_name": "StyleView",
            "description_width": ""
          }
        },
        "a3d4246e17ee4500b3aa0dc043aca624": {
          "model_module": "@jupyter-widgets/base",
          "model_module_version": "1.2.0",
          "model_name": "LayoutModel",
          "state": {
            "_model_module": "@jupyter-widgets/base",
            "_model_module_version": "1.2.0",
            "_model_name": "LayoutModel",
            "_view_count": null,
            "_view_module": "@jupyter-widgets/base",
            "_view_module_version": "1.2.0",
            "_view_name": "LayoutView",
            "align_content": null,
            "align_items": null,
            "align_self": null,
            "border": null,
            "bottom": null,
            "display": null,
            "flex": null,
            "flex_flow": null,
            "grid_area": null,
            "grid_auto_columns": null,
            "grid_auto_flow": null,
            "grid_auto_rows": null,
            "grid_column": null,
            "grid_gap": null,
            "grid_row": null,
            "grid_template_areas": null,
            "grid_template_columns": null,
            "grid_template_rows": null,
            "height": null,
            "justify_content": null,
            "justify_items": null,
            "left": null,
            "margin": null,
            "max_height": null,
            "max_width": null,
            "min_height": null,
            "min_width": null,
            "object_fit": null,
            "object_position": null,
            "order": null,
            "overflow": null,
            "overflow_x": null,
            "overflow_y": null,
            "padding": null,
            "right": null,
            "top": null,
            "visibility": null,
            "width": null
          }
        },
        "a4f789b00e71460eb0f02a6d24199d2a": {
          "model_module": "@jupyter-widgets/controls",
          "model_module_version": "1.5.0",
          "model_name": "DescriptionStyleModel",
          "state": {
            "_model_module": "@jupyter-widgets/controls",
            "_model_module_version": "1.5.0",
            "_model_name": "DescriptionStyleModel",
            "_view_count": null,
            "_view_module": "@jupyter-widgets/base",
            "_view_module_version": "1.2.0",
            "_view_name": "StyleView",
            "description_width": ""
          }
        },
        "a569e791db34430b8d251b00fe9fa0c1": {
          "model_module": "@jupyter-widgets/base",
          "model_module_version": "1.2.0",
          "model_name": "LayoutModel",
          "state": {
            "_model_module": "@jupyter-widgets/base",
            "_model_module_version": "1.2.0",
            "_model_name": "LayoutModel",
            "_view_count": null,
            "_view_module": "@jupyter-widgets/base",
            "_view_module_version": "1.2.0",
            "_view_name": "LayoutView",
            "align_content": null,
            "align_items": null,
            "align_self": null,
            "border": null,
            "bottom": null,
            "display": null,
            "flex": null,
            "flex_flow": null,
            "grid_area": null,
            "grid_auto_columns": null,
            "grid_auto_flow": null,
            "grid_auto_rows": null,
            "grid_column": null,
            "grid_gap": null,
            "grid_row": null,
            "grid_template_areas": null,
            "grid_template_columns": null,
            "grid_template_rows": null,
            "height": null,
            "justify_content": null,
            "justify_items": null,
            "left": null,
            "margin": null,
            "max_height": null,
            "max_width": null,
            "min_height": null,
            "min_width": null,
            "object_fit": null,
            "object_position": null,
            "order": null,
            "overflow": null,
            "overflow_x": null,
            "overflow_y": null,
            "padding": null,
            "right": null,
            "top": null,
            "visibility": null,
            "width": null
          }
        },
        "a591e67d616a474f8b23064ff2ba9400": {
          "model_module": "@jupyter-widgets/controls",
          "model_module_version": "1.5.0",
          "model_name": "DescriptionStyleModel",
          "state": {
            "_model_module": "@jupyter-widgets/controls",
            "_model_module_version": "1.5.0",
            "_model_name": "DescriptionStyleModel",
            "_view_count": null,
            "_view_module": "@jupyter-widgets/base",
            "_view_module_version": "1.2.0",
            "_view_name": "StyleView",
            "description_width": ""
          }
        },
        "a8a1dfe0ae0143479e44904436db0a74": {
          "model_module": "@jupyter-widgets/controls",
          "model_module_version": "1.5.0",
          "model_name": "DescriptionStyleModel",
          "state": {
            "_model_module": "@jupyter-widgets/controls",
            "_model_module_version": "1.5.0",
            "_model_name": "DescriptionStyleModel",
            "_view_count": null,
            "_view_module": "@jupyter-widgets/base",
            "_view_module_version": "1.2.0",
            "_view_name": "StyleView",
            "description_width": ""
          }
        },
        "aab5cbf0583c4a9c989f6ae259320a99": {
          "model_module": "@jupyter-widgets/base",
          "model_module_version": "1.2.0",
          "model_name": "LayoutModel",
          "state": {
            "_model_module": "@jupyter-widgets/base",
            "_model_module_version": "1.2.0",
            "_model_name": "LayoutModel",
            "_view_count": null,
            "_view_module": "@jupyter-widgets/base",
            "_view_module_version": "1.2.0",
            "_view_name": "LayoutView",
            "align_content": null,
            "align_items": null,
            "align_self": null,
            "border": null,
            "bottom": null,
            "display": null,
            "flex": null,
            "flex_flow": null,
            "grid_area": null,
            "grid_auto_columns": null,
            "grid_auto_flow": null,
            "grid_auto_rows": null,
            "grid_column": null,
            "grid_gap": null,
            "grid_row": null,
            "grid_template_areas": null,
            "grid_template_columns": null,
            "grid_template_rows": null,
            "height": null,
            "justify_content": null,
            "justify_items": null,
            "left": null,
            "margin": null,
            "max_height": null,
            "max_width": null,
            "min_height": null,
            "min_width": null,
            "object_fit": null,
            "object_position": null,
            "order": null,
            "overflow": null,
            "overflow_x": null,
            "overflow_y": null,
            "padding": null,
            "right": null,
            "top": null,
            "visibility": null,
            "width": "20px"
          }
        },
        "aadcc49daa5f4724878bd8621d8b7bec": {
          "model_module": "@jupyter-widgets/base",
          "model_module_version": "1.2.0",
          "model_name": "LayoutModel",
          "state": {
            "_model_module": "@jupyter-widgets/base",
            "_model_module_version": "1.2.0",
            "_model_name": "LayoutModel",
            "_view_count": null,
            "_view_module": "@jupyter-widgets/base",
            "_view_module_version": "1.2.0",
            "_view_name": "LayoutView",
            "align_content": null,
            "align_items": null,
            "align_self": null,
            "border": null,
            "bottom": null,
            "display": null,
            "flex": null,
            "flex_flow": null,
            "grid_area": null,
            "grid_auto_columns": null,
            "grid_auto_flow": null,
            "grid_auto_rows": null,
            "grid_column": null,
            "grid_gap": null,
            "grid_row": null,
            "grid_template_areas": null,
            "grid_template_columns": null,
            "grid_template_rows": null,
            "height": null,
            "justify_content": null,
            "justify_items": null,
            "left": null,
            "margin": null,
            "max_height": null,
            "max_width": null,
            "min_height": null,
            "min_width": null,
            "object_fit": null,
            "object_position": null,
            "order": null,
            "overflow": null,
            "overflow_x": null,
            "overflow_y": null,
            "padding": null,
            "right": null,
            "top": null,
            "visibility": null,
            "width": null
          }
        },
        "ad44de7369004d039bc40717df32ff5c": {
          "model_module": "@jupyter-widgets/controls",
          "model_module_version": "1.5.0",
          "model_name": "DescriptionStyleModel",
          "state": {
            "_model_module": "@jupyter-widgets/controls",
            "_model_module_version": "1.5.0",
            "_model_name": "DescriptionStyleModel",
            "_view_count": null,
            "_view_module": "@jupyter-widgets/base",
            "_view_module_version": "1.2.0",
            "_view_name": "StyleView",
            "description_width": ""
          }
        },
        "ae2a92cb398d4f7ab29918af5a22ca5d": {
          "model_module": "@jupyter-widgets/controls",
          "model_module_version": "1.5.0",
          "model_name": "DescriptionStyleModel",
          "state": {
            "_model_module": "@jupyter-widgets/controls",
            "_model_module_version": "1.5.0",
            "_model_name": "DescriptionStyleModel",
            "_view_count": null,
            "_view_module": "@jupyter-widgets/base",
            "_view_module_version": "1.2.0",
            "_view_name": "StyleView",
            "description_width": ""
          }
        },
        "ae94acec66144ef9afdd78422d9ed1bf": {
          "model_module": "@jupyter-widgets/controls",
          "model_module_version": "1.5.0",
          "model_name": "HBoxModel",
          "state": {
            "_dom_classes": [],
            "_model_module": "@jupyter-widgets/controls",
            "_model_module_version": "1.5.0",
            "_model_name": "HBoxModel",
            "_view_count": null,
            "_view_module": "@jupyter-widgets/controls",
            "_view_module_version": "1.5.0",
            "_view_name": "HBoxView",
            "box_style": "",
            "children": [
              "IPY_MODEL_b9bc643bcf3b4f629e662bb933923cfc",
              "IPY_MODEL_bf9e0160d75141c487bfaa12319858e4",
              "IPY_MODEL_b2ac70e4752a4ca08f3dd3b4d7f1d472"
            ],
            "layout": "IPY_MODEL_349b4f45076f4537a35c5ef3d18360f5"
          }
        },
        "aefff613fb5045f082ff504816442b55": {
          "model_module": "@jupyter-widgets/base",
          "model_module_version": "1.2.0",
          "model_name": "LayoutModel",
          "state": {
            "_model_module": "@jupyter-widgets/base",
            "_model_module_version": "1.2.0",
            "_model_name": "LayoutModel",
            "_view_count": null,
            "_view_module": "@jupyter-widgets/base",
            "_view_module_version": "1.2.0",
            "_view_name": "LayoutView",
            "align_content": null,
            "align_items": null,
            "align_self": null,
            "border": null,
            "bottom": null,
            "display": null,
            "flex": null,
            "flex_flow": null,
            "grid_area": null,
            "grid_auto_columns": null,
            "grid_auto_flow": null,
            "grid_auto_rows": null,
            "grid_column": null,
            "grid_gap": null,
            "grid_row": null,
            "grid_template_areas": null,
            "grid_template_columns": null,
            "grid_template_rows": null,
            "height": null,
            "justify_content": null,
            "justify_items": null,
            "left": null,
            "margin": null,
            "max_height": null,
            "max_width": null,
            "min_height": null,
            "min_width": null,
            "object_fit": null,
            "object_position": null,
            "order": null,
            "overflow": null,
            "overflow_x": null,
            "overflow_y": null,
            "padding": null,
            "right": null,
            "top": null,
            "visibility": null,
            "width": null
          }
        },
        "af9886a02a7d4eeb8d4899c64e1c1379": {
          "model_module": "@jupyter-widgets/controls",
          "model_module_version": "1.5.0",
          "model_name": "ProgressStyleModel",
          "state": {
            "_model_module": "@jupyter-widgets/controls",
            "_model_module_version": "1.5.0",
            "_model_name": "ProgressStyleModel",
            "_view_count": null,
            "_view_module": "@jupyter-widgets/base",
            "_view_module_version": "1.2.0",
            "_view_name": "StyleView",
            "bar_color": null,
            "description_width": ""
          }
        },
        "b1569ffcd185420bbea946a7be9bb8ee": {
          "model_module": "@jupyter-widgets/controls",
          "model_module_version": "1.5.0",
          "model_name": "DescriptionStyleModel",
          "state": {
            "_model_module": "@jupyter-widgets/controls",
            "_model_module_version": "1.5.0",
            "_model_name": "DescriptionStyleModel",
            "_view_count": null,
            "_view_module": "@jupyter-widgets/base",
            "_view_module_version": "1.2.0",
            "_view_name": "StyleView",
            "description_width": ""
          }
        },
        "b1e21d94ca1d495486262bb811b7b45d": {
          "model_module": "@jupyter-widgets/base",
          "model_module_version": "1.2.0",
          "model_name": "LayoutModel",
          "state": {
            "_model_module": "@jupyter-widgets/base",
            "_model_module_version": "1.2.0",
            "_model_name": "LayoutModel",
            "_view_count": null,
            "_view_module": "@jupyter-widgets/base",
            "_view_module_version": "1.2.0",
            "_view_name": "LayoutView",
            "align_content": null,
            "align_items": null,
            "align_self": null,
            "border": null,
            "bottom": null,
            "display": null,
            "flex": null,
            "flex_flow": null,
            "grid_area": null,
            "grid_auto_columns": null,
            "grid_auto_flow": null,
            "grid_auto_rows": null,
            "grid_column": null,
            "grid_gap": null,
            "grid_row": null,
            "grid_template_areas": null,
            "grid_template_columns": null,
            "grid_template_rows": null,
            "height": null,
            "justify_content": null,
            "justify_items": null,
            "left": null,
            "margin": null,
            "max_height": null,
            "max_width": null,
            "min_height": null,
            "min_width": null,
            "object_fit": null,
            "object_position": null,
            "order": null,
            "overflow": null,
            "overflow_x": null,
            "overflow_y": null,
            "padding": null,
            "right": null,
            "top": null,
            "visibility": null,
            "width": null
          }
        },
        "b28888859e6b4783a4ce1285989ec723": {
          "model_module": "@jupyter-widgets/base",
          "model_module_version": "1.2.0",
          "model_name": "LayoutModel",
          "state": {
            "_model_module": "@jupyter-widgets/base",
            "_model_module_version": "1.2.0",
            "_model_name": "LayoutModel",
            "_view_count": null,
            "_view_module": "@jupyter-widgets/base",
            "_view_module_version": "1.2.0",
            "_view_name": "LayoutView",
            "align_content": null,
            "align_items": null,
            "align_self": null,
            "border": null,
            "bottom": null,
            "display": null,
            "flex": null,
            "flex_flow": null,
            "grid_area": null,
            "grid_auto_columns": null,
            "grid_auto_flow": null,
            "grid_auto_rows": null,
            "grid_column": null,
            "grid_gap": null,
            "grid_row": null,
            "grid_template_areas": null,
            "grid_template_columns": null,
            "grid_template_rows": null,
            "height": null,
            "justify_content": null,
            "justify_items": null,
            "left": null,
            "margin": null,
            "max_height": null,
            "max_width": null,
            "min_height": null,
            "min_width": null,
            "object_fit": null,
            "object_position": null,
            "order": null,
            "overflow": null,
            "overflow_x": null,
            "overflow_y": null,
            "padding": null,
            "right": null,
            "top": null,
            "visibility": null,
            "width": null
          }
        },
        "b2ac70e4752a4ca08f3dd3b4d7f1d472": {
          "model_module": "@jupyter-widgets/controls",
          "model_module_version": "1.5.0",
          "model_name": "HTMLModel",
          "state": {
            "_dom_classes": [],
            "_model_module": "@jupyter-widgets/controls",
            "_model_module_version": "1.5.0",
            "_model_name": "HTMLModel",
            "_view_count": null,
            "_view_module": "@jupyter-widgets/controls",
            "_view_module_version": "1.5.0",
            "_view_name": "HTMLView",
            "description": "",
            "description_tooltip": null,
            "layout": "IPY_MODEL_f745382805ed4370852db37cc9547c80",
            "placeholder": "​",
            "style": "IPY_MODEL_a2b15e9f24e74657a734b258bd97659b",
            "value": " 11.5k/11.5k [00:00&lt;00:00, 673kB/s]"
          }
        },
        "b3156845b0374af08f83b4d399b6fe3b": {
          "model_module": "@jupyter-widgets/controls",
          "model_module_version": "1.5.0",
          "model_name": "HTMLModel",
          "state": {
            "_dom_classes": [],
            "_model_module": "@jupyter-widgets/controls",
            "_model_module_version": "1.5.0",
            "_model_name": "HTMLModel",
            "_view_count": null,
            "_view_module": "@jupyter-widgets/controls",
            "_view_module_version": "1.5.0",
            "_view_name": "HTMLView",
            "description": "",
            "description_tooltip": null,
            "layout": "IPY_MODEL_f6949cad62c04a0b8a7a14be2e0b15bc",
            "placeholder": "​",
            "style": "IPY_MODEL_a096b6f6c8964d299b940792ea3efe88",
            "value": "<center> <img\nsrc=https://huggingface.co/front/assets/huggingface_logo-noborder.svg\nalt='Hugging Face'> <br> Copy a token from <a\nhref=\"https://huggingface.co/settings/tokens\" target=\"_blank\">your Hugging Face\ntokens page</a> and paste it below. <br> Immediately click login after copying\nyour token or it might be stored in plain text in this notebook file. </center>"
          }
        },
        "b3f2a267ea0c4ccc981f4d60d05678b6": {
          "model_module": "@jupyter-widgets/base",
          "model_module_version": "1.2.0",
          "model_name": "LayoutModel",
          "state": {
            "_model_module": "@jupyter-widgets/base",
            "_model_module_version": "1.2.0",
            "_model_name": "LayoutModel",
            "_view_count": null,
            "_view_module": "@jupyter-widgets/base",
            "_view_module_version": "1.2.0",
            "_view_name": "LayoutView",
            "align_content": null,
            "align_items": null,
            "align_self": null,
            "border": null,
            "bottom": null,
            "display": null,
            "flex": null,
            "flex_flow": null,
            "grid_area": null,
            "grid_auto_columns": null,
            "grid_auto_flow": null,
            "grid_auto_rows": null,
            "grid_column": null,
            "grid_gap": null,
            "grid_row": null,
            "grid_template_areas": null,
            "grid_template_columns": null,
            "grid_template_rows": null,
            "height": null,
            "justify_content": null,
            "justify_items": null,
            "left": null,
            "margin": null,
            "max_height": null,
            "max_width": null,
            "min_height": null,
            "min_width": null,
            "object_fit": null,
            "object_position": null,
            "order": null,
            "overflow": null,
            "overflow_x": null,
            "overflow_y": null,
            "padding": null,
            "right": null,
            "top": null,
            "visibility": null,
            "width": null
          }
        },
        "b57b6d8ba41441d0993c7b6ff2447354": {
          "model_module": "@jupyter-widgets/base",
          "model_module_version": "1.2.0",
          "model_name": "LayoutModel",
          "state": {
            "_model_module": "@jupyter-widgets/base",
            "_model_module_version": "1.2.0",
            "_model_name": "LayoutModel",
            "_view_count": null,
            "_view_module": "@jupyter-widgets/base",
            "_view_module_version": "1.2.0",
            "_view_name": "LayoutView",
            "align_content": null,
            "align_items": null,
            "align_self": null,
            "border": null,
            "bottom": null,
            "display": null,
            "flex": null,
            "flex_flow": null,
            "grid_area": null,
            "grid_auto_columns": null,
            "grid_auto_flow": null,
            "grid_auto_rows": null,
            "grid_column": null,
            "grid_gap": null,
            "grid_row": null,
            "grid_template_areas": null,
            "grid_template_columns": null,
            "grid_template_rows": null,
            "height": null,
            "justify_content": null,
            "justify_items": null,
            "left": null,
            "margin": null,
            "max_height": null,
            "max_width": null,
            "min_height": null,
            "min_width": null,
            "object_fit": null,
            "object_position": null,
            "order": null,
            "overflow": null,
            "overflow_x": null,
            "overflow_y": null,
            "padding": null,
            "right": null,
            "top": null,
            "visibility": null,
            "width": null
          }
        },
        "b5eea1bf76394153bf01d9a5613357e9": {
          "model_module": "@jupyter-widgets/controls",
          "model_module_version": "1.5.0",
          "model_name": "HTMLModel",
          "state": {
            "_dom_classes": [],
            "_model_module": "@jupyter-widgets/controls",
            "_model_module_version": "1.5.0",
            "_model_name": "HTMLModel",
            "_view_count": null,
            "_view_module": "@jupyter-widgets/controls",
            "_view_module_version": "1.5.0",
            "_view_name": "HTMLView",
            "description": "",
            "description_tooltip": null,
            "layout": "IPY_MODEL_104b877f2bea4dffbee766478c3e6194",
            "placeholder": "​",
            "style": "IPY_MODEL_a591e67d616a474f8b23064ff2ba9400",
            "value": "Generating validation split: "
          }
        },
        "b5ef9a44b713452d9ce50c3ea29d8ff9": {
          "model_module": "@jupyter-widgets/controls",
          "model_module_version": "1.5.0",
          "model_name": "DescriptionStyleModel",
          "state": {
            "_model_module": "@jupyter-widgets/controls",
            "_model_module_version": "1.5.0",
            "_model_name": "DescriptionStyleModel",
            "_view_count": null,
            "_view_module": "@jupyter-widgets/base",
            "_view_module_version": "1.2.0",
            "_view_name": "StyleView",
            "description_width": ""
          }
        },
        "b6d681e76e91474d89db07ab69472900": {
          "model_module": "@jupyter-widgets/controls",
          "model_module_version": "1.5.0",
          "model_name": "HTMLModel",
          "state": {
            "_dom_classes": [],
            "_model_module": "@jupyter-widgets/controls",
            "_model_module_version": "1.5.0",
            "_model_name": "HTMLModel",
            "_view_count": null,
            "_view_module": "@jupyter-widgets/controls",
            "_view_module_version": "1.5.0",
            "_view_name": "HTMLView",
            "description": "",
            "description_tooltip": null,
            "layout": "IPY_MODEL_0fa207f602d2468cb8eff5c771d02200",
            "placeholder": "​",
            "style": "IPY_MODEL_37dafafefaec4fe5ba3bfea36a257d2e",
            "value": "Map: 100%"
          }
        },
        "b913f0cc028642ff9928fffe7a5e297c": {
          "model_module": "@jupyter-widgets/controls",
          "model_module_version": "1.5.0",
          "model_name": "HTMLModel",
          "state": {
            "_dom_classes": [],
            "_model_module": "@jupyter-widgets/controls",
            "_model_module_version": "1.5.0",
            "_model_name": "HTMLModel",
            "_view_count": null,
            "_view_module": "@jupyter-widgets/controls",
            "_view_module_version": "1.5.0",
            "_view_name": "HTMLView",
            "description": "",
            "description_tooltip": null,
            "layout": "IPY_MODEL_fe5c45d6d8604abe88700111fc504b8c",
            "placeholder": "​",
            "style": "IPY_MODEL_65ee7fc205a140748b0e96e2ee185615",
            "value": " 1.87k/1.87k [00:00&lt;00:00, 28.2kB/s]"
          }
        },
        "b9bc643bcf3b4f629e662bb933923cfc": {
          "model_module": "@jupyter-widgets/controls",
          "model_module_version": "1.5.0",
          "model_name": "HTMLModel",
          "state": {
            "_dom_classes": [],
            "_model_module": "@jupyter-widgets/controls",
            "_model_module_version": "1.5.0",
            "_model_name": "HTMLModel",
            "_view_count": null,
            "_view_module": "@jupyter-widgets/controls",
            "_view_module_version": "1.5.0",
            "_view_name": "HTMLView",
            "description": "",
            "description_tooltip": null,
            "layout": "IPY_MODEL_197c65e6880b4f6f9cf134e030cf7378",
            "placeholder": "​",
            "style": "IPY_MODEL_0f3a91482d3a427bae45d480ab581954",
            "value": "Downloading builder script: 100%"
          }
        },
        "b9edbc1a5c834bce95a3fea94c50457e": {
          "model_module": "@jupyter-widgets/controls",
          "model_module_version": "1.5.0",
          "model_name": "HTMLModel",
          "state": {
            "_dom_classes": [],
            "_model_module": "@jupyter-widgets/controls",
            "_model_module_version": "1.5.0",
            "_model_name": "HTMLModel",
            "_view_count": null,
            "_view_module": "@jupyter-widgets/controls",
            "_view_module_version": "1.5.0",
            "_view_name": "HTMLView",
            "description": "",
            "description_tooltip": null,
            "layout": "IPY_MODEL_dc96412083fe4c198d161d404d5f01a1",
            "placeholder": "​",
            "style": "IPY_MODEL_cf129b88e7754ae0b3d432b09d56afc2",
            "value": " 1.92k/1.92k [00:00&lt;00:00, 34.5kB/s]"
          }
        },
        "bba854dd202747cfba1b55287f4263d9": {
          "model_module": "@jupyter-widgets/controls",
          "model_module_version": "1.5.0",
          "model_name": "HTMLModel",
          "state": {
            "_dom_classes": [],
            "_model_module": "@jupyter-widgets/controls",
            "_model_module_version": "1.5.0",
            "_model_name": "HTMLModel",
            "_view_count": null,
            "_view_module": "@jupyter-widgets/controls",
            "_view_module_version": "1.5.0",
            "_view_name": "HTMLView",
            "description": "",
            "description_tooltip": null,
            "layout": "IPY_MODEL_904c1c93cb5f41059bc1ef9a0f45b088",
            "placeholder": "​",
            "style": "IPY_MODEL_5696324df4dd4595b470c210de4f5523",
            "value": "Map: 100%"
          }
        },
        "bec94c58a96b4e159b0c89d3703fcf8b": {
          "model_module": "@jupyter-widgets/controls",
          "model_module_version": "1.5.0",
          "model_name": "PasswordModel",
          "state": {
            "_dom_classes": [],
            "_model_module": "@jupyter-widgets/controls",
            "_model_module_version": "1.5.0",
            "_model_name": "PasswordModel",
            "_view_count": null,
            "_view_module": "@jupyter-widgets/controls",
            "_view_module_version": "1.5.0",
            "_view_name": "PasswordView",
            "continuous_update": true,
            "description": "Token:",
            "description_tooltip": null,
            "disabled": false,
            "layout": "IPY_MODEL_916d17092121477fb503f64483126516",
            "placeholder": "​",
            "style": "IPY_MODEL_f248f032597d40219c42a18340e27752",
            "value": ""
          }
        },
        "bf9e0160d75141c487bfaa12319858e4": {
          "model_module": "@jupyter-widgets/controls",
          "model_module_version": "1.5.0",
          "model_name": "FloatProgressModel",
          "state": {
            "_dom_classes": [],
            "_model_module": "@jupyter-widgets/controls",
            "_model_module_version": "1.5.0",
            "_model_name": "FloatProgressModel",
            "_view_count": null,
            "_view_module": "@jupyter-widgets/controls",
            "_view_module_version": "1.5.0",
            "_view_name": "ProgressView",
            "bar_style": "success",
            "description": "",
            "description_tooltip": null,
            "layout": "IPY_MODEL_5ceacb3901f94417baaf9cbc16639bfc",
            "max": 11549,
            "min": 0,
            "orientation": "horizontal",
            "style": "IPY_MODEL_711de682c83b4d8686c13cf2f738e475",
            "value": 11549
          }
        },
        "c078b56b5ab448ce9554858a0a7e6656": {
          "model_module": "@jupyter-widgets/controls",
          "model_module_version": "1.5.0",
          "model_name": "HBoxModel",
          "state": {
            "_dom_classes": [],
            "_model_module": "@jupyter-widgets/controls",
            "_model_module_version": "1.5.0",
            "_model_name": "HBoxModel",
            "_view_count": null,
            "_view_module": "@jupyter-widgets/controls",
            "_view_module_version": "1.5.0",
            "_view_name": "HBoxView",
            "box_style": "",
            "children": [
              "IPY_MODEL_8ccc4820b8ec4462baede7b62e60d479",
              "IPY_MODEL_ed8b59216bdd495e95b99ed9074ca7c3",
              "IPY_MODEL_9b157f61bef743a2af83d5f1ec373792"
            ],
            "layout": "IPY_MODEL_cf16c9f701304c678c33dedae6e82309"
          }
        },
        "c221ac96e8eb4c5e95c267e445994893": {
          "model_module": "@jupyter-widgets/controls",
          "model_module_version": "1.5.0",
          "model_name": "HTMLModel",
          "state": {
            "_dom_classes": [],
            "_model_module": "@jupyter-widgets/controls",
            "_model_module_version": "1.5.0",
            "_model_name": "HTMLModel",
            "_view_count": null,
            "_view_module": "@jupyter-widgets/controls",
            "_view_module_version": "1.5.0",
            "_view_name": "HTMLView",
            "description": "",
            "description_tooltip": null,
            "layout": "IPY_MODEL_d4377ad094fd4a60b86ea24ed77cd540",
            "placeholder": "​",
            "style": "IPY_MODEL_9171a74c035349f48c5ba0d69342296e",
            "value": " 6626/6626 [04:09&lt;00:00, 30.58 examples/s]"
          }
        },
        "c2d958871b6c4b5297b8e3c5fd0524c7": {
          "model_module": "@jupyter-widgets/controls",
          "model_module_version": "1.5.0",
          "model_name": "ProgressStyleModel",
          "state": {
            "_model_module": "@jupyter-widgets/controls",
            "_model_module_version": "1.5.0",
            "_model_name": "ProgressStyleModel",
            "_view_count": null,
            "_view_module": "@jupyter-widgets/base",
            "_view_module_version": "1.2.0",
            "_view_name": "StyleView",
            "bar_color": null,
            "description_width": ""
          }
        },
        "c4212ea9e71d472d825c343499da17cf": {
          "model_module": "@jupyter-widgets/base",
          "model_module_version": "1.2.0",
          "model_name": "LayoutModel",
          "state": {
            "_model_module": "@jupyter-widgets/base",
            "_model_module_version": "1.2.0",
            "_model_name": "LayoutModel",
            "_view_count": null,
            "_view_module": "@jupyter-widgets/base",
            "_view_module_version": "1.2.0",
            "_view_name": "LayoutView",
            "align_content": null,
            "align_items": null,
            "align_self": null,
            "border": null,
            "bottom": null,
            "display": null,
            "flex": null,
            "flex_flow": null,
            "grid_area": null,
            "grid_auto_columns": null,
            "grid_auto_flow": null,
            "grid_auto_rows": null,
            "grid_column": null,
            "grid_gap": null,
            "grid_row": null,
            "grid_template_areas": null,
            "grid_template_columns": null,
            "grid_template_rows": null,
            "height": null,
            "justify_content": null,
            "justify_items": null,
            "left": null,
            "margin": null,
            "max_height": null,
            "max_width": null,
            "min_height": null,
            "min_width": null,
            "object_fit": null,
            "object_position": null,
            "order": null,
            "overflow": null,
            "overflow_x": null,
            "overflow_y": null,
            "padding": null,
            "right": null,
            "top": null,
            "visibility": null,
            "width": null
          }
        },
        "c730c64392ea4c9fa46bfafd81d684cf": {
          "model_module": "@jupyter-widgets/controls",
          "model_module_version": "1.5.0",
          "model_name": "DescriptionStyleModel",
          "state": {
            "_model_module": "@jupyter-widgets/controls",
            "_model_module_version": "1.5.0",
            "_model_name": "DescriptionStyleModel",
            "_view_count": null,
            "_view_module": "@jupyter-widgets/base",
            "_view_module_version": "1.2.0",
            "_view_name": "StyleView",
            "description_width": ""
          }
        },
        "c7e705cf3ce1470bb63c89813252f077": {
          "model_module": "@jupyter-widgets/controls",
          "model_module_version": "1.5.0",
          "model_name": "HTMLModel",
          "state": {
            "_dom_classes": [],
            "_model_module": "@jupyter-widgets/controls",
            "_model_module_version": "1.5.0",
            "_model_name": "HTMLModel",
            "_view_count": null,
            "_view_module": "@jupyter-widgets/controls",
            "_view_module_version": "1.5.0",
            "_view_name": "HTMLView",
            "description": "",
            "description_tooltip": null,
            "layout": "IPY_MODEL_e0be1be3d05947999ca59fe8a30f90ca",
            "placeholder": "​",
            "style": "IPY_MODEL_78bac143add94da9a4864ed41edc2146",
            "value": " 2.32G/2.32G [00:21&lt;00:00, 186MB/s]"
          }
        },
        "c835cab9e9c442a795f6ae42463a7624": {
          "model_module": "@jupyter-widgets/controls",
          "model_module_version": "1.5.0",
          "model_name": "ProgressStyleModel",
          "state": {
            "_model_module": "@jupyter-widgets/controls",
            "_model_module_version": "1.5.0",
            "_model_name": "ProgressStyleModel",
            "_view_count": null,
            "_view_module": "@jupyter-widgets/base",
            "_view_module_version": "1.2.0",
            "_view_name": "StyleView",
            "bar_color": null,
            "description_width": ""
          }
        },
        "c86c58c4f4fd48c29ab97ffa0fdbde69": {
          "model_module": "@jupyter-widgets/base",
          "model_module_version": "1.2.0",
          "model_name": "LayoutModel",
          "state": {
            "_model_module": "@jupyter-widgets/base",
            "_model_module_version": "1.2.0",
            "_model_name": "LayoutModel",
            "_view_count": null,
            "_view_module": "@jupyter-widgets/base",
            "_view_module_version": "1.2.0",
            "_view_name": "LayoutView",
            "align_content": null,
            "align_items": null,
            "align_self": null,
            "border": null,
            "bottom": null,
            "display": null,
            "flex": null,
            "flex_flow": null,
            "grid_area": null,
            "grid_auto_columns": null,
            "grid_auto_flow": null,
            "grid_auto_rows": null,
            "grid_column": null,
            "grid_gap": null,
            "grid_row": null,
            "grid_template_areas": null,
            "grid_template_columns": null,
            "grid_template_rows": null,
            "height": null,
            "justify_content": null,
            "justify_items": null,
            "left": null,
            "margin": null,
            "max_height": null,
            "max_width": null,
            "min_height": null,
            "min_width": null,
            "object_fit": null,
            "object_position": null,
            "order": null,
            "overflow": null,
            "overflow_x": null,
            "overflow_y": null,
            "padding": null,
            "right": null,
            "top": null,
            "visibility": null,
            "width": null
          }
        },
        "c8964d8b475a4c5fae84326325ed520d": {
          "model_module": "@jupyter-widgets/controls",
          "model_module_version": "1.5.0",
          "model_name": "ProgressStyleModel",
          "state": {
            "_model_module": "@jupyter-widgets/controls",
            "_model_module_version": "1.5.0",
            "_model_name": "ProgressStyleModel",
            "_view_count": null,
            "_view_module": "@jupyter-widgets/base",
            "_view_module_version": "1.2.0",
            "_view_name": "StyleView",
            "bar_color": null,
            "description_width": ""
          }
        },
        "c932efe0b3d844de97789d18f835ac1c": {
          "model_module": "@jupyter-widgets/controls",
          "model_module_version": "1.5.0",
          "model_name": "FloatProgressModel",
          "state": {
            "_dom_classes": [],
            "_model_module": "@jupyter-widgets/controls",
            "_model_module_version": "1.5.0",
            "_model_name": "FloatProgressModel",
            "_view_count": null,
            "_view_module": "@jupyter-widgets/controls",
            "_view_module_version": "1.5.0",
            "_view_name": "ProgressView",
            "bar_style": "success",
            "description": "",
            "description_tooltip": null,
            "layout": "IPY_MODEL_b1e21d94ca1d495486262bb811b7b45d",
            "max": 4276,
            "min": 0,
            "orientation": "horizontal",
            "style": "IPY_MODEL_d4e9aac53b5542b899419f26e590d596",
            "value": 4276
          }
        },
        "cc0f8804110c4e478e9026ddf658f231": {
          "model_module": "@jupyter-widgets/base",
          "model_module_version": "1.2.0",
          "model_name": "LayoutModel",
          "state": {
            "_model_module": "@jupyter-widgets/base",
            "_model_module_version": "1.2.0",
            "_model_name": "LayoutModel",
            "_view_count": null,
            "_view_module": "@jupyter-widgets/base",
            "_view_module_version": "1.2.0",
            "_view_name": "LayoutView",
            "align_content": null,
            "align_items": null,
            "align_self": null,
            "border": null,
            "bottom": null,
            "display": null,
            "flex": null,
            "flex_flow": null,
            "grid_area": null,
            "grid_auto_columns": null,
            "grid_auto_flow": null,
            "grid_auto_rows": null,
            "grid_column": null,
            "grid_gap": null,
            "grid_row": null,
            "grid_template_areas": null,
            "grid_template_columns": null,
            "grid_template_rows": null,
            "height": null,
            "justify_content": null,
            "justify_items": null,
            "left": null,
            "margin": null,
            "max_height": null,
            "max_width": null,
            "min_height": null,
            "min_width": null,
            "object_fit": null,
            "object_position": null,
            "order": null,
            "overflow": null,
            "overflow_x": null,
            "overflow_y": null,
            "padding": null,
            "right": null,
            "top": null,
            "visibility": null,
            "width": null
          }
        },
        "cd5efd47e24f4d3d973e7fe175b8a0f0": {
          "model_module": "@jupyter-widgets/base",
          "model_module_version": "1.2.0",
          "model_name": "LayoutModel",
          "state": {
            "_model_module": "@jupyter-widgets/base",
            "_model_module_version": "1.2.0",
            "_model_name": "LayoutModel",
            "_view_count": null,
            "_view_module": "@jupyter-widgets/base",
            "_view_module_version": "1.2.0",
            "_view_name": "LayoutView",
            "align_content": null,
            "align_items": null,
            "align_self": null,
            "border": null,
            "bottom": null,
            "display": null,
            "flex": null,
            "flex_flow": null,
            "grid_area": null,
            "grid_auto_columns": null,
            "grid_auto_flow": null,
            "grid_auto_rows": null,
            "grid_column": null,
            "grid_gap": null,
            "grid_row": null,
            "grid_template_areas": null,
            "grid_template_columns": null,
            "grid_template_rows": null,
            "height": null,
            "justify_content": null,
            "justify_items": null,
            "left": null,
            "margin": null,
            "max_height": null,
            "max_width": null,
            "min_height": null,
            "min_width": null,
            "object_fit": null,
            "object_position": null,
            "order": null,
            "overflow": null,
            "overflow_x": null,
            "overflow_y": null,
            "padding": null,
            "right": null,
            "top": null,
            "visibility": null,
            "width": null
          }
        },
        "ceaef89450304e1393a087c3cba9d670": {
          "model_module": "@jupyter-widgets/controls",
          "model_module_version": "1.5.0",
          "model_name": "HTMLModel",
          "state": {
            "_dom_classes": [],
            "_model_module": "@jupyter-widgets/controls",
            "_model_module_version": "1.5.0",
            "_model_name": "HTMLModel",
            "_view_count": null,
            "_view_module": "@jupyter-widgets/controls",
            "_view_module_version": "1.5.0",
            "_view_name": "HTMLView",
            "description": "",
            "description_tooltip": null,
            "layout": "IPY_MODEL_78f7a618d76b411ebabf085d809ae95a",
            "placeholder": "​",
            "style": "IPY_MODEL_24f5c4ed53594222817dcbe7f3fd01e6",
            "value": "Generating train split: "
          }
        },
        "ceedfa91800a484eaef24818d5dfd856": {
          "model_module": "@jupyter-widgets/base",
          "model_module_version": "1.2.0",
          "model_name": "LayoutModel",
          "state": {
            "_model_module": "@jupyter-widgets/base",
            "_model_module_version": "1.2.0",
            "_model_name": "LayoutModel",
            "_view_count": null,
            "_view_module": "@jupyter-widgets/base",
            "_view_module_version": "1.2.0",
            "_view_name": "LayoutView",
            "align_content": null,
            "align_items": null,
            "align_self": null,
            "border": null,
            "bottom": null,
            "display": null,
            "flex": null,
            "flex_flow": null,
            "grid_area": null,
            "grid_auto_columns": null,
            "grid_auto_flow": null,
            "grid_auto_rows": null,
            "grid_column": null,
            "grid_gap": null,
            "grid_row": null,
            "grid_template_areas": null,
            "grid_template_columns": null,
            "grid_template_rows": null,
            "height": null,
            "justify_content": null,
            "justify_items": null,
            "left": null,
            "margin": null,
            "max_height": null,
            "max_width": null,
            "min_height": null,
            "min_width": null,
            "object_fit": null,
            "object_position": null,
            "order": null,
            "overflow": null,
            "overflow_x": null,
            "overflow_y": null,
            "padding": null,
            "right": null,
            "top": null,
            "visibility": null,
            "width": null
          }
        },
        "cf129b88e7754ae0b3d432b09d56afc2": {
          "model_module": "@jupyter-widgets/controls",
          "model_module_version": "1.5.0",
          "model_name": "DescriptionStyleModel",
          "state": {
            "_model_module": "@jupyter-widgets/controls",
            "_model_module_version": "1.5.0",
            "_model_name": "DescriptionStyleModel",
            "_view_count": null,
            "_view_module": "@jupyter-widgets/base",
            "_view_module_version": "1.2.0",
            "_view_name": "StyleView",
            "description_width": ""
          }
        },
        "cf16c9f701304c678c33dedae6e82309": {
          "model_module": "@jupyter-widgets/base",
          "model_module_version": "1.2.0",
          "model_name": "LayoutModel",
          "state": {
            "_model_module": "@jupyter-widgets/base",
            "_model_module_version": "1.2.0",
            "_model_name": "LayoutModel",
            "_view_count": null,
            "_view_module": "@jupyter-widgets/base",
            "_view_module_version": "1.2.0",
            "_view_name": "LayoutView",
            "align_content": null,
            "align_items": null,
            "align_self": null,
            "border": null,
            "bottom": null,
            "display": null,
            "flex": null,
            "flex_flow": null,
            "grid_area": null,
            "grid_auto_columns": null,
            "grid_auto_flow": null,
            "grid_auto_rows": null,
            "grid_column": null,
            "grid_gap": null,
            "grid_row": null,
            "grid_template_areas": null,
            "grid_template_columns": null,
            "grid_template_rows": null,
            "height": null,
            "justify_content": null,
            "justify_items": null,
            "left": null,
            "margin": null,
            "max_height": null,
            "max_width": null,
            "min_height": null,
            "min_width": null,
            "object_fit": null,
            "object_position": null,
            "order": null,
            "overflow": null,
            "overflow_x": null,
            "overflow_y": null,
            "padding": null,
            "right": null,
            "top": null,
            "visibility": null,
            "width": null
          }
        },
        "cf92d58a9dad4979abe697c51ac384b3": {
          "model_module": "@jupyter-widgets/controls",
          "model_module_version": "1.5.0",
          "model_name": "CheckboxModel",
          "state": {
            "_dom_classes": [],
            "_model_module": "@jupyter-widgets/controls",
            "_model_module_version": "1.5.0",
            "_model_name": "CheckboxModel",
            "_view_count": null,
            "_view_module": "@jupyter-widgets/controls",
            "_view_module_version": "1.5.0",
            "_view_name": "CheckboxView",
            "description": "Add token as git credential?",
            "description_tooltip": null,
            "disabled": false,
            "indent": true,
            "layout": "IPY_MODEL_457c7b7119dc40b5b2d0ce16ab427396",
            "style": "IPY_MODEL_36c3ff2db17844be976a109026efb62f",
            "value": true
          }
        },
        "d00e50968ec84b2e9a6d719dd17a26c9": {
          "model_module": "@jupyter-widgets/controls",
          "model_module_version": "1.5.0",
          "model_name": "FloatProgressModel",
          "state": {
            "_dom_classes": [],
            "_model_module": "@jupyter-widgets/controls",
            "_model_module_version": "1.5.0",
            "_model_name": "FloatProgressModel",
            "_view_count": null,
            "_view_module": "@jupyter-widgets/controls",
            "_view_module_version": "1.5.0",
            "_view_name": "ProgressView",
            "bar_style": "success",
            "description": "",
            "description_tooltip": null,
            "layout": "IPY_MODEL_f5c0bec50fd14d7fa805e30ead013630",
            "max": 4276,
            "min": 0,
            "orientation": "horizontal",
            "style": "IPY_MODEL_74f722f559024dc8a347972e69c9d5f3",
            "value": 4276
          }
        },
        "d0c481b7c0524e66bb5c2b258a14c7d6": {
          "model_module": "@jupyter-widgets/base",
          "model_module_version": "1.2.0",
          "model_name": "LayoutModel",
          "state": {
            "_model_module": "@jupyter-widgets/base",
            "_model_module_version": "1.2.0",
            "_model_name": "LayoutModel",
            "_view_count": null,
            "_view_module": "@jupyter-widgets/base",
            "_view_module_version": "1.2.0",
            "_view_name": "LayoutView",
            "align_content": null,
            "align_items": null,
            "align_self": null,
            "border": null,
            "bottom": null,
            "display": null,
            "flex": null,
            "flex_flow": null,
            "grid_area": null,
            "grid_auto_columns": null,
            "grid_auto_flow": null,
            "grid_auto_rows": null,
            "grid_column": null,
            "grid_gap": null,
            "grid_row": null,
            "grid_template_areas": null,
            "grid_template_columns": null,
            "grid_template_rows": null,
            "height": null,
            "justify_content": null,
            "justify_items": null,
            "left": null,
            "margin": null,
            "max_height": null,
            "max_width": null,
            "min_height": null,
            "min_width": null,
            "object_fit": null,
            "object_position": null,
            "order": null,
            "overflow": null,
            "overflow_x": null,
            "overflow_y": null,
            "padding": null,
            "right": null,
            "top": null,
            "visibility": null,
            "width": null
          }
        },
        "d16c6c50f0cb490a92f9a81bfd1354fa": {
          "model_module": "@jupyter-widgets/controls",
          "model_module_version": "1.5.0",
          "model_name": "FloatProgressModel",
          "state": {
            "_dom_classes": [],
            "_model_module": "@jupyter-widgets/controls",
            "_model_module_version": "1.5.0",
            "_model_name": "FloatProgressModel",
            "_view_count": null,
            "_view_module": "@jupyter-widgets/controls",
            "_view_module_version": "1.5.0",
            "_view_name": "ProgressView",
            "bar_style": "success",
            "description": "",
            "description_tooltip": null,
            "layout": "IPY_MODEL_88d61c2794be4a99bde23143b19f66c6",
            "max": 1,
            "min": 0,
            "orientation": "horizontal",
            "style": "IPY_MODEL_af9886a02a7d4eeb8d4899c64e1c1379",
            "value": 1
          }
        },
        "d4377ad094fd4a60b86ea24ed77cd540": {
          "model_module": "@jupyter-widgets/base",
          "model_module_version": "1.2.0",
          "model_name": "LayoutModel",
          "state": {
            "_model_module": "@jupyter-widgets/base",
            "_model_module_version": "1.2.0",
            "_model_name": "LayoutModel",
            "_view_count": null,
            "_view_module": "@jupyter-widgets/base",
            "_view_module_version": "1.2.0",
            "_view_name": "LayoutView",
            "align_content": null,
            "align_items": null,
            "align_self": null,
            "border": null,
            "bottom": null,
            "display": null,
            "flex": null,
            "flex_flow": null,
            "grid_area": null,
            "grid_auto_columns": null,
            "grid_auto_flow": null,
            "grid_auto_rows": null,
            "grid_column": null,
            "grid_gap": null,
            "grid_row": null,
            "grid_template_areas": null,
            "grid_template_columns": null,
            "grid_template_rows": null,
            "height": null,
            "justify_content": null,
            "justify_items": null,
            "left": null,
            "margin": null,
            "max_height": null,
            "max_width": null,
            "min_height": null,
            "min_width": null,
            "object_fit": null,
            "object_position": null,
            "order": null,
            "overflow": null,
            "overflow_x": null,
            "overflow_y": null,
            "padding": null,
            "right": null,
            "top": null,
            "visibility": null,
            "width": null
          }
        },
        "d4e9aac53b5542b899419f26e590d596": {
          "model_module": "@jupyter-widgets/controls",
          "model_module_version": "1.5.0",
          "model_name": "ProgressStyleModel",
          "state": {
            "_model_module": "@jupyter-widgets/controls",
            "_model_module_version": "1.5.0",
            "_model_name": "ProgressStyleModel",
            "_view_count": null,
            "_view_module": "@jupyter-widgets/base",
            "_view_module_version": "1.2.0",
            "_view_name": "StyleView",
            "bar_color": null,
            "description_width": ""
          }
        },
        "d531bfa47b454b57b1ea84c6b9cb51f9": {
          "model_module": "@jupyter-widgets/controls",
          "model_module_version": "1.5.0",
          "model_name": "HBoxModel",
          "state": {
            "_dom_classes": [],
            "_model_module": "@jupyter-widgets/controls",
            "_model_module_version": "1.5.0",
            "_model_name": "HBoxModel",
            "_view_count": null,
            "_view_module": "@jupyter-widgets/controls",
            "_view_module_version": "1.5.0",
            "_view_name": "HBoxView",
            "box_style": "",
            "children": [
              "IPY_MODEL_34e0d0057a8949bb9e6d7e1333a56210",
              "IPY_MODEL_64bdc9e80e034e93bc380fc2a364fbf6",
              "IPY_MODEL_8cb374e440194c24b630c9c901b1246c"
            ],
            "layout": "IPY_MODEL_fe4e5fd7c74c4e0ebab2b78fb25e931e"
          }
        },
        "d6aaedf9f76747a391177409c34ebbcf": {
          "model_module": "@jupyter-widgets/base",
          "model_module_version": "1.2.0",
          "model_name": "LayoutModel",
          "state": {
            "_model_module": "@jupyter-widgets/base",
            "_model_module_version": "1.2.0",
            "_model_name": "LayoutModel",
            "_view_count": null,
            "_view_module": "@jupyter-widgets/base",
            "_view_module_version": "1.2.0",
            "_view_name": "LayoutView",
            "align_content": null,
            "align_items": null,
            "align_self": null,
            "border": null,
            "bottom": null,
            "display": null,
            "flex": null,
            "flex_flow": null,
            "grid_area": null,
            "grid_auto_columns": null,
            "grid_auto_flow": null,
            "grid_auto_rows": null,
            "grid_column": null,
            "grid_gap": null,
            "grid_row": null,
            "grid_template_areas": null,
            "grid_template_columns": null,
            "grid_template_rows": null,
            "height": null,
            "justify_content": null,
            "justify_items": null,
            "left": null,
            "margin": null,
            "max_height": null,
            "max_width": null,
            "min_height": null,
            "min_width": null,
            "object_fit": null,
            "object_position": null,
            "order": null,
            "overflow": null,
            "overflow_x": null,
            "overflow_y": null,
            "padding": null,
            "right": null,
            "top": null,
            "visibility": null,
            "width": null
          }
        },
        "d72bb5c8b91542d89cdc554359e20e01": {
          "model_module": "@jupyter-widgets/controls",
          "model_module_version": "1.5.0",
          "model_name": "HTMLModel",
          "state": {
            "_dom_classes": [],
            "_model_module": "@jupyter-widgets/controls",
            "_model_module_version": "1.5.0",
            "_model_name": "HTMLModel",
            "_view_count": null,
            "_view_module": "@jupyter-widgets/controls",
            "_view_module_version": "1.5.0",
            "_view_name": "HTMLView",
            "description": "",
            "description_tooltip": null,
            "layout": "IPY_MODEL_fb90d172157f489e960d8adb0040a2e9",
            "placeholder": "​",
            "style": "IPY_MODEL_a3aed732d0b647c1a8b898272bd70483",
            "value": "model.safetensors: 100%"
          }
        },
        "d7574e77e51645688c0bfd6313d5df63": {
          "model_module": "@jupyter-widgets/base",
          "model_module_version": "1.2.0",
          "model_name": "LayoutModel",
          "state": {
            "_model_module": "@jupyter-widgets/base",
            "_model_module_version": "1.2.0",
            "_model_name": "LayoutModel",
            "_view_count": null,
            "_view_module": "@jupyter-widgets/base",
            "_view_module_version": "1.2.0",
            "_view_name": "LayoutView",
            "align_content": null,
            "align_items": null,
            "align_self": null,
            "border": null,
            "bottom": null,
            "display": null,
            "flex": null,
            "flex_flow": null,
            "grid_area": null,
            "grid_auto_columns": null,
            "grid_auto_flow": null,
            "grid_auto_rows": null,
            "grid_column": null,
            "grid_gap": null,
            "grid_row": null,
            "grid_template_areas": null,
            "grid_template_columns": null,
            "grid_template_rows": null,
            "height": null,
            "justify_content": null,
            "justify_items": null,
            "left": null,
            "margin": null,
            "max_height": null,
            "max_width": null,
            "min_height": null,
            "min_width": null,
            "object_fit": null,
            "object_position": null,
            "order": null,
            "overflow": null,
            "overflow_x": null,
            "overflow_y": null,
            "padding": null,
            "right": null,
            "top": null,
            "visibility": null,
            "width": null
          }
        },
        "d76a0659510d4927931f86384cefa7df": {
          "model_module": "@jupyter-widgets/base",
          "model_module_version": "1.2.0",
          "model_name": "LayoutModel",
          "state": {
            "_model_module": "@jupyter-widgets/base",
            "_model_module_version": "1.2.0",
            "_model_name": "LayoutModel",
            "_view_count": null,
            "_view_module": "@jupyter-widgets/base",
            "_view_module_version": "1.2.0",
            "_view_name": "LayoutView",
            "align_content": null,
            "align_items": null,
            "align_self": null,
            "border": null,
            "bottom": null,
            "display": null,
            "flex": null,
            "flex_flow": null,
            "grid_area": null,
            "grid_auto_columns": null,
            "grid_auto_flow": null,
            "grid_auto_rows": null,
            "grid_column": null,
            "grid_gap": null,
            "grid_row": null,
            "grid_template_areas": null,
            "grid_template_columns": null,
            "grid_template_rows": null,
            "height": null,
            "justify_content": null,
            "justify_items": null,
            "left": null,
            "margin": null,
            "max_height": null,
            "max_width": null,
            "min_height": null,
            "min_width": null,
            "object_fit": null,
            "object_position": null,
            "order": null,
            "overflow": null,
            "overflow_x": null,
            "overflow_y": null,
            "padding": null,
            "right": null,
            "top": null,
            "visibility": null,
            "width": null
          }
        },
        "d81d0a54ee584530bc16b57717812a3e": {
          "model_module": "@jupyter-widgets/controls",
          "model_module_version": "1.5.0",
          "model_name": "HTMLModel",
          "state": {
            "_dom_classes": [],
            "_model_module": "@jupyter-widgets/controls",
            "_model_module_version": "1.5.0",
            "_model_name": "HTMLModel",
            "_view_count": null,
            "_view_module": "@jupyter-widgets/controls",
            "_view_module_version": "1.5.0",
            "_view_name": "HTMLView",
            "description": "",
            "description_tooltip": null,
            "layout": "IPY_MODEL_fd6e8d248e14464987762c4b8a04833f",
            "placeholder": "​",
            "style": "IPY_MODEL_6c62192e0e9f4c188d7cf4c086b79a4f",
            "value": " 4276/4276 [02:50&lt;00:00, 26.49 examples/s]"
          }
        },
        "daaf83aa097e4b888ffee112d26a2fb8": {
          "model_module": "@jupyter-widgets/controls",
          "model_module_version": "1.5.0",
          "model_name": "DescriptionStyleModel",
          "state": {
            "_model_module": "@jupyter-widgets/controls",
            "_model_module_version": "1.5.0",
            "_model_name": "DescriptionStyleModel",
            "_view_count": null,
            "_view_module": "@jupyter-widgets/base",
            "_view_module_version": "1.2.0",
            "_view_name": "StyleView",
            "description_width": ""
          }
        },
        "dbdf1449f4a54401b9227e0da83ba153": {
          "model_module": "@jupyter-widgets/controls",
          "model_module_version": "1.5.0",
          "model_name": "HTMLModel",
          "state": {
            "_dom_classes": [],
            "_model_module": "@jupyter-widgets/controls",
            "_model_module_version": "1.5.0",
            "_model_name": "HTMLModel",
            "_view_count": null,
            "_view_module": "@jupyter-widgets/controls",
            "_view_module_version": "1.5.0",
            "_view_name": "HTMLView",
            "description": "",
            "description_tooltip": null,
            "layout": "IPY_MODEL_e0c1792b70f14f63b5aeb2b7c892d552",
            "placeholder": "​",
            "style": "IPY_MODEL_91303af16b13431b871a8f402c01670f",
            "value": "Generating other split: "
          }
        },
        "dc96412083fe4c198d161d404d5f01a1": {
          "model_module": "@jupyter-widgets/base",
          "model_module_version": "1.2.0",
          "model_name": "LayoutModel",
          "state": {
            "_model_module": "@jupyter-widgets/base",
            "_model_module_version": "1.2.0",
            "_model_name": "LayoutModel",
            "_view_count": null,
            "_view_module": "@jupyter-widgets/base",
            "_view_module_version": "1.2.0",
            "_view_name": "LayoutView",
            "align_content": null,
            "align_items": null,
            "align_self": null,
            "border": null,
            "bottom": null,
            "display": null,
            "flex": null,
            "flex_flow": null,
            "grid_area": null,
            "grid_auto_columns": null,
            "grid_auto_flow": null,
            "grid_auto_rows": null,
            "grid_column": null,
            "grid_gap": null,
            "grid_row": null,
            "grid_template_areas": null,
            "grid_template_columns": null,
            "grid_template_rows": null,
            "height": null,
            "justify_content": null,
            "justify_items": null,
            "left": null,
            "margin": null,
            "max_height": null,
            "max_width": null,
            "min_height": null,
            "min_width": null,
            "object_fit": null,
            "object_position": null,
            "order": null,
            "overflow": null,
            "overflow_x": null,
            "overflow_y": null,
            "padding": null,
            "right": null,
            "top": null,
            "visibility": null,
            "width": null
          }
        },
        "dcd21a5468674ea8af9cb955a4ac21db": {
          "model_module": "@jupyter-widgets/base",
          "model_module_version": "1.2.0",
          "model_name": "LayoutModel",
          "state": {
            "_model_module": "@jupyter-widgets/base",
            "_model_module_version": "1.2.0",
            "_model_name": "LayoutModel",
            "_view_count": null,
            "_view_module": "@jupyter-widgets/base",
            "_view_module_version": "1.2.0",
            "_view_name": "LayoutView",
            "align_content": null,
            "align_items": null,
            "align_self": null,
            "border": null,
            "bottom": null,
            "display": null,
            "flex": null,
            "flex_flow": null,
            "grid_area": null,
            "grid_auto_columns": null,
            "grid_auto_flow": null,
            "grid_auto_rows": null,
            "grid_column": null,
            "grid_gap": null,
            "grid_row": null,
            "grid_template_areas": null,
            "grid_template_columns": null,
            "grid_template_rows": null,
            "height": null,
            "justify_content": null,
            "justify_items": null,
            "left": null,
            "margin": null,
            "max_height": null,
            "max_width": null,
            "min_height": null,
            "min_width": null,
            "object_fit": null,
            "object_position": null,
            "order": null,
            "overflow": null,
            "overflow_x": null,
            "overflow_y": null,
            "padding": null,
            "right": null,
            "top": null,
            "visibility": null,
            "width": null
          }
        },
        "dff35a20b3f946b28990f38238e73068": {
          "model_module": "@jupyter-widgets/controls",
          "model_module_version": "1.5.0",
          "model_name": "FloatProgressModel",
          "state": {
            "_dom_classes": [],
            "_model_module": "@jupyter-widgets/controls",
            "_model_module_version": "1.5.0",
            "_model_name": "FloatProgressModel",
            "_view_count": null,
            "_view_module": "@jupyter-widgets/controls",
            "_view_module_version": "1.5.0",
            "_view_name": "ProgressView",
            "bar_style": "success",
            "description": "",
            "description_tooltip": null,
            "layout": "IPY_MODEL_6531904117ec4ac48cf5392467179dfe",
            "max": 4276,
            "min": 0,
            "orientation": "horizontal",
            "style": "IPY_MODEL_76bb2483357d4ebeadd4db6a063fba54",
            "value": 4276
          }
        },
        "e0be1be3d05947999ca59fe8a30f90ca": {
          "model_module": "@jupyter-widgets/base",
          "model_module_version": "1.2.0",
          "model_name": "LayoutModel",
          "state": {
            "_model_module": "@jupyter-widgets/base",
            "_model_module_version": "1.2.0",
            "_model_name": "LayoutModel",
            "_view_count": null,
            "_view_module": "@jupyter-widgets/base",
            "_view_module_version": "1.2.0",
            "_view_name": "LayoutView",
            "align_content": null,
            "align_items": null,
            "align_self": null,
            "border": null,
            "bottom": null,
            "display": null,
            "flex": null,
            "flex_flow": null,
            "grid_area": null,
            "grid_auto_columns": null,
            "grid_auto_flow": null,
            "grid_auto_rows": null,
            "grid_column": null,
            "grid_gap": null,
            "grid_row": null,
            "grid_template_areas": null,
            "grid_template_columns": null,
            "grid_template_rows": null,
            "height": null,
            "justify_content": null,
            "justify_items": null,
            "left": null,
            "margin": null,
            "max_height": null,
            "max_width": null,
            "min_height": null,
            "min_width": null,
            "object_fit": null,
            "object_position": null,
            "order": null,
            "overflow": null,
            "overflow_x": null,
            "overflow_y": null,
            "padding": null,
            "right": null,
            "top": null,
            "visibility": null,
            "width": null
          }
        },
        "e0c1792b70f14f63b5aeb2b7c892d552": {
          "model_module": "@jupyter-widgets/base",
          "model_module_version": "1.2.0",
          "model_name": "LayoutModel",
          "state": {
            "_model_module": "@jupyter-widgets/base",
            "_model_module_version": "1.2.0",
            "_model_name": "LayoutModel",
            "_view_count": null,
            "_view_module": "@jupyter-widgets/base",
            "_view_module_version": "1.2.0",
            "_view_name": "LayoutView",
            "align_content": null,
            "align_items": null,
            "align_self": null,
            "border": null,
            "bottom": null,
            "display": null,
            "flex": null,
            "flex_flow": null,
            "grid_area": null,
            "grid_auto_columns": null,
            "grid_auto_flow": null,
            "grid_auto_rows": null,
            "grid_column": null,
            "grid_gap": null,
            "grid_row": null,
            "grid_template_areas": null,
            "grid_template_columns": null,
            "grid_template_rows": null,
            "height": null,
            "justify_content": null,
            "justify_items": null,
            "left": null,
            "margin": null,
            "max_height": null,
            "max_width": null,
            "min_height": null,
            "min_width": null,
            "object_fit": null,
            "object_position": null,
            "order": null,
            "overflow": null,
            "overflow_x": null,
            "overflow_y": null,
            "padding": null,
            "right": null,
            "top": null,
            "visibility": null,
            "width": null
          }
        },
        "e0ce7a9456274644ace65492f3c67ec6": {
          "model_module": "@jupyter-widgets/controls",
          "model_module_version": "1.5.0",
          "model_name": "HTMLModel",
          "state": {
            "_dom_classes": [],
            "_model_module": "@jupyter-widgets/controls",
            "_model_module_version": "1.5.0",
            "_model_name": "HTMLModel",
            "_view_count": null,
            "_view_module": "@jupyter-widgets/controls",
            "_view_module_version": "1.5.0",
            "_view_name": "HTMLView",
            "description": "",
            "description_tooltip": null,
            "layout": "IPY_MODEL_d0c481b7c0524e66bb5c2b258a14c7d6",
            "placeholder": "​",
            "style": "IPY_MODEL_ae2a92cb398d4f7ab29918af5a22ca5d",
            "value": "Map: 100%"
          }
        },
        "e0f442d5f7734ca8b5446b7d79ab9c1d": {
          "model_module": "@jupyter-widgets/controls",
          "model_module_version": "1.5.0",
          "model_name": "HBoxModel",
          "state": {
            "_dom_classes": [],
            "_model_module": "@jupyter-widgets/controls",
            "_model_module_version": "1.5.0",
            "_model_name": "HBoxModel",
            "_view_count": null,
            "_view_module": "@jupyter-widgets/controls",
            "_view_module_version": "1.5.0",
            "_view_name": "HBoxView",
            "box_style": "",
            "children": [
              "IPY_MODEL_7fc9a659ffd641759ad915bcf9419896",
              "IPY_MODEL_d16c6c50f0cb490a92f9a81bfd1354fa",
              "IPY_MODEL_e678cefb4d4147578c84275f62cb6c0c"
            ],
            "layout": "IPY_MODEL_c86c58c4f4fd48c29ab97ffa0fdbde69"
          }
        },
        "e4ab7a8b593e4a3c82309fa86db0915e": {
          "model_module": "@jupyter-widgets/base",
          "model_module_version": "1.2.0",
          "model_name": "LayoutModel",
          "state": {
            "_model_module": "@jupyter-widgets/base",
            "_model_module_version": "1.2.0",
            "_model_name": "LayoutModel",
            "_view_count": null,
            "_view_module": "@jupyter-widgets/base",
            "_view_module_version": "1.2.0",
            "_view_name": "LayoutView",
            "align_content": null,
            "align_items": null,
            "align_self": null,
            "border": null,
            "bottom": null,
            "display": null,
            "flex": null,
            "flex_flow": null,
            "grid_area": null,
            "grid_auto_columns": null,
            "grid_auto_flow": null,
            "grid_auto_rows": null,
            "grid_column": null,
            "grid_gap": null,
            "grid_row": null,
            "grid_template_areas": null,
            "grid_template_columns": null,
            "grid_template_rows": null,
            "height": null,
            "justify_content": null,
            "justify_items": null,
            "left": null,
            "margin": null,
            "max_height": null,
            "max_width": null,
            "min_height": null,
            "min_width": null,
            "object_fit": null,
            "object_position": null,
            "order": null,
            "overflow": null,
            "overflow_x": null,
            "overflow_y": null,
            "padding": null,
            "right": null,
            "top": null,
            "visibility": null,
            "width": null
          }
        },
        "e512c9f3c5eb49849bd17c7c852e8843": {
          "model_module": "@jupyter-widgets/controls",
          "model_module_version": "1.5.0",
          "model_name": "HTMLModel",
          "state": {
            "_dom_classes": [],
            "_model_module": "@jupyter-widgets/controls",
            "_model_module_version": "1.5.0",
            "_model_name": "HTMLModel",
            "_view_count": null,
            "_view_module": "@jupyter-widgets/controls",
            "_view_module_version": "1.5.0",
            "_view_name": "HTMLView",
            "description": "",
            "description_tooltip": null,
            "layout": "IPY_MODEL_ceedfa91800a484eaef24818d5dfd856",
            "placeholder": "​",
            "style": "IPY_MODEL_4538b7a279d0469bbd21abc7bac27312",
            "value": " 4276/0 [00:13&lt;00:00, 624.35 examples/s]"
          }
        },
        "e58cf6a132784de880dc566de6924a70": {
          "model_module": "@jupyter-widgets/base",
          "model_module_version": "1.2.0",
          "model_name": "LayoutModel",
          "state": {
            "_model_module": "@jupyter-widgets/base",
            "_model_module_version": "1.2.0",
            "_model_name": "LayoutModel",
            "_view_count": null,
            "_view_module": "@jupyter-widgets/base",
            "_view_module_version": "1.2.0",
            "_view_name": "LayoutView",
            "align_content": null,
            "align_items": null,
            "align_self": null,
            "border": null,
            "bottom": null,
            "display": null,
            "flex": null,
            "flex_flow": null,
            "grid_area": null,
            "grid_auto_columns": null,
            "grid_auto_flow": null,
            "grid_auto_rows": null,
            "grid_column": null,
            "grid_gap": null,
            "grid_row": null,
            "grid_template_areas": null,
            "grid_template_columns": null,
            "grid_template_rows": null,
            "height": null,
            "justify_content": null,
            "justify_items": null,
            "left": null,
            "margin": null,
            "max_height": null,
            "max_width": null,
            "min_height": null,
            "min_width": null,
            "object_fit": null,
            "object_position": null,
            "order": null,
            "overflow": null,
            "overflow_x": null,
            "overflow_y": null,
            "padding": null,
            "right": null,
            "top": null,
            "visibility": null,
            "width": null
          }
        },
        "e59e59ea63a34aa4a966260863621be2": {
          "model_module": "@jupyter-widgets/controls",
          "model_module_version": "1.5.0",
          "model_name": "HBoxModel",
          "state": {
            "_dom_classes": [],
            "_model_module": "@jupyter-widgets/controls",
            "_model_module_version": "1.5.0",
            "_model_name": "HBoxModel",
            "_view_count": null,
            "_view_module": "@jupyter-widgets/controls",
            "_view_module_version": "1.5.0",
            "_view_name": "HBoxView",
            "box_style": "",
            "children": [
              "IPY_MODEL_dbdf1449f4a54401b9227e0da83ba153",
              "IPY_MODEL_ed7394d51b684974a9b4e28ceca73c72",
              "IPY_MODEL_4f0a93c3bc6f4b4ea4356f02a406f3e4"
            ],
            "layout": "IPY_MODEL_28cb7bdf0c10479496d34f14cd58f68d"
          }
        },
        "e6166fe6d6ee4794a93f24242620c6c3": {
          "model_module": "@jupyter-widgets/controls",
          "model_module_version": "1.5.0",
          "model_name": "DescriptionStyleModel",
          "state": {
            "_model_module": "@jupyter-widgets/controls",
            "_model_module_version": "1.5.0",
            "_model_name": "DescriptionStyleModel",
            "_view_count": null,
            "_view_module": "@jupyter-widgets/base",
            "_view_module_version": "1.2.0",
            "_view_name": "StyleView",
            "description_width": ""
          }
        },
        "e678cefb4d4147578c84275f62cb6c0c": {
          "model_module": "@jupyter-widgets/controls",
          "model_module_version": "1.5.0",
          "model_name": "HTMLModel",
          "state": {
            "_dom_classes": [],
            "_model_module": "@jupyter-widgets/controls",
            "_model_module_version": "1.5.0",
            "_model_name": "HTMLModel",
            "_view_count": null,
            "_view_module": "@jupyter-widgets/controls",
            "_view_module_version": "1.5.0",
            "_view_name": "HTMLView",
            "description": "",
            "description_tooltip": null,
            "layout": "IPY_MODEL_71b2a9bc97c64fef81f29941ff990c9e",
            "placeholder": "​",
            "style": "IPY_MODEL_9bc12c5fdabe46caa672b4086f53efe9",
            "value": " 2195/0 [00:12&lt;00:00, 120.74 examples/s]"
          }
        },
        "e701fc5aa6014b8cb43ebfe6368253b2": {
          "model_module": "@jupyter-widgets/controls",
          "model_module_version": "1.5.0",
          "model_name": "HBoxModel",
          "state": {
            "_dom_classes": [],
            "_model_module": "@jupyter-widgets/controls",
            "_model_module_version": "1.5.0",
            "_model_name": "HBoxModel",
            "_view_count": null,
            "_view_module": "@jupyter-widgets/controls",
            "_view_module_version": "1.5.0",
            "_view_name": "HBoxView",
            "box_style": "",
            "children": [
              "IPY_MODEL_e0ce7a9456274644ace65492f3c67ec6",
              "IPY_MODEL_6f933e3dcb7a4627b9510321bbede244",
              "IPY_MODEL_3ba8b99a23eb4c43ad761124ae0df35a"
            ],
            "layout": "IPY_MODEL_7382c494368d48dc97aacc111ea9c596"
          }
        },
        "e7179ecf68944957b47ebd396b71f84c": {
          "model_module": "@jupyter-widgets/controls",
          "model_module_version": "1.5.0",
          "model_name": "HTMLModel",
          "state": {
            "_dom_classes": [],
            "_model_module": "@jupyter-widgets/controls",
            "_model_module_version": "1.5.0",
            "_model_name": "HTMLModel",
            "_view_count": null,
            "_view_module": "@jupyter-widgets/controls",
            "_view_module_version": "1.5.0",
            "_view_name": "HTMLView",
            "description": "",
            "description_tooltip": null,
            "layout": "IPY_MODEL_cc0f8804110c4e478e9026ddf658f231",
            "placeholder": "​",
            "style": "IPY_MODEL_ef81b16d906c4706bfec9c52c1ba7a31",
            "value": "Downloading extra modules: 100%"
          }
        },
        "e8c7eca4565b44d9ae12f070d7aeeff3": {
          "model_module": "@jupyter-widgets/controls",
          "model_module_version": "1.5.0",
          "model_name": "DescriptionStyleModel",
          "state": {
            "_model_module": "@jupyter-widgets/controls",
            "_model_module_version": "1.5.0",
            "_model_name": "DescriptionStyleModel",
            "_view_count": null,
            "_view_module": "@jupyter-widgets/base",
            "_view_module_version": "1.2.0",
            "_view_name": "StyleView",
            "description_width": ""
          }
        },
        "ec5f83428b884a439587e08b9dd0f851": {
          "model_module": "@jupyter-widgets/controls",
          "model_module_version": "1.5.0",
          "model_name": "HTMLModel",
          "state": {
            "_dom_classes": [],
            "_model_module": "@jupyter-widgets/controls",
            "_model_module_version": "1.5.0",
            "_model_name": "HTMLModel",
            "_view_count": null,
            "_view_module": "@jupyter-widgets/controls",
            "_view_module_version": "1.5.0",
            "_view_name": "HTMLView",
            "description": "",
            "description_tooltip": null,
            "layout": "IPY_MODEL_7aa34f76690e4798a83cb177ec65f520",
            "placeholder": "​",
            "style": "IPY_MODEL_fb89fb69c688420097d40c6bbdb2ab72",
            "value": "Map: 100%"
          }
        },
        "ece083f606204785bf3806000a0f26ae": {
          "model_module": "@jupyter-widgets/controls",
          "model_module_version": "1.5.0",
          "model_name": "DescriptionStyleModel",
          "state": {
            "_model_module": "@jupyter-widgets/controls",
            "_model_module_version": "1.5.0",
            "_model_name": "DescriptionStyleModel",
            "_view_count": null,
            "_view_module": "@jupyter-widgets/base",
            "_view_module_version": "1.2.0",
            "_view_name": "StyleView",
            "description_width": ""
          }
        },
        "ed7394d51b684974a9b4e28ceca73c72": {
          "model_module": "@jupyter-widgets/controls",
          "model_module_version": "1.5.0",
          "model_name": "FloatProgressModel",
          "state": {
            "_dom_classes": [],
            "_model_module": "@jupyter-widgets/controls",
            "_model_module_version": "1.5.0",
            "_model_name": "FloatProgressModel",
            "_view_count": null,
            "_view_module": "@jupyter-widgets/controls",
            "_view_module_version": "1.5.0",
            "_view_name": "ProgressView",
            "bar_style": "success",
            "description": "",
            "description_tooltip": null,
            "layout": "IPY_MODEL_9249815c7e274ae19e4411b82cbe8622",
            "max": 1,
            "min": 0,
            "orientation": "horizontal",
            "style": "IPY_MODEL_76dad6452fcf44f4abb4425d0c84ea84",
            "value": 1
          }
        },
        "ed8b59216bdd495e95b99ed9074ca7c3": {
          "model_module": "@jupyter-widgets/controls",
          "model_module_version": "1.5.0",
          "model_name": "FloatProgressModel",
          "state": {
            "_dom_classes": [],
            "_model_module": "@jupyter-widgets/controls",
            "_model_module_version": "1.5.0",
            "_model_name": "FloatProgressModel",
            "_view_count": null,
            "_view_module": "@jupyter-widgets/controls",
            "_view_module_version": "1.5.0",
            "_view_name": "ProgressView",
            "bar_style": "success",
            "description": "",
            "description_tooltip": null,
            "layout": "IPY_MODEL_62ae5e3dd2ab4ef5b395aaf52f432d2a",
            "max": 5178,
            "min": 0,
            "orientation": "horizontal",
            "style": "IPY_MODEL_c8964d8b475a4c5fae84326325ed520d",
            "value": 5178
          }
        },
        "ee15fa01f96f407f823e3a6992834f62": {
          "model_module": "@jupyter-widgets/base",
          "model_module_version": "1.2.0",
          "model_name": "LayoutModel",
          "state": {
            "_model_module": "@jupyter-widgets/base",
            "_model_module_version": "1.2.0",
            "_model_name": "LayoutModel",
            "_view_count": null,
            "_view_module": "@jupyter-widgets/base",
            "_view_module_version": "1.2.0",
            "_view_name": "LayoutView",
            "align_content": null,
            "align_items": null,
            "align_self": null,
            "border": null,
            "bottom": null,
            "display": null,
            "flex": null,
            "flex_flow": null,
            "grid_area": null,
            "grid_auto_columns": null,
            "grid_auto_flow": null,
            "grid_auto_rows": null,
            "grid_column": null,
            "grid_gap": null,
            "grid_row": null,
            "grid_template_areas": null,
            "grid_template_columns": null,
            "grid_template_rows": null,
            "height": null,
            "justify_content": null,
            "justify_items": null,
            "left": null,
            "margin": null,
            "max_height": null,
            "max_width": null,
            "min_height": null,
            "min_width": null,
            "object_fit": null,
            "object_position": null,
            "order": null,
            "overflow": null,
            "overflow_x": null,
            "overflow_y": null,
            "padding": null,
            "right": null,
            "top": null,
            "visibility": null,
            "width": null
          }
        },
        "ee3fddc2c0e14d8aab5b941d45c40de2": {
          "model_module": "@jupyter-widgets/base",
          "model_module_version": "1.2.0",
          "model_name": "LayoutModel",
          "state": {
            "_model_module": "@jupyter-widgets/base",
            "_model_module_version": "1.2.0",
            "_model_name": "LayoutModel",
            "_view_count": null,
            "_view_module": "@jupyter-widgets/base",
            "_view_module_version": "1.2.0",
            "_view_name": "LayoutView",
            "align_content": null,
            "align_items": "center",
            "align_self": null,
            "border": null,
            "bottom": null,
            "display": "flex",
            "flex": null,
            "flex_flow": "column",
            "grid_area": null,
            "grid_auto_columns": null,
            "grid_auto_flow": null,
            "grid_auto_rows": null,
            "grid_column": null,
            "grid_gap": null,
            "grid_row": null,
            "grid_template_areas": null,
            "grid_template_columns": null,
            "grid_template_rows": null,
            "height": null,
            "justify_content": null,
            "justify_items": null,
            "left": null,
            "margin": null,
            "max_height": null,
            "max_width": null,
            "min_height": null,
            "min_width": null,
            "object_fit": null,
            "object_position": null,
            "order": null,
            "overflow": null,
            "overflow_x": null,
            "overflow_y": null,
            "padding": null,
            "right": null,
            "top": null,
            "visibility": null,
            "width": "50%"
          }
        },
        "ef77aa4bf4d9476bb17056ee44f7f33a": {
          "model_module": "@jupyter-widgets/controls",
          "model_module_version": "1.5.0",
          "model_name": "FloatProgressModel",
          "state": {
            "_dom_classes": [],
            "_model_module": "@jupyter-widgets/controls",
            "_model_module_version": "1.5.0",
            "_model_name": "FloatProgressModel",
            "_view_count": null,
            "_view_module": "@jupyter-widgets/controls",
            "_view_module_version": "1.5.0",
            "_view_name": "ProgressView",
            "bar_style": "success",
            "description": "",
            "description_tooltip": null,
            "layout": "IPY_MODEL_54618323821443f09aef28c891e6fb79",
            "max": 1,
            "min": 0,
            "orientation": "horizontal",
            "style": "IPY_MODEL_957445d05d7441349fe9c1c561ccafdd",
            "value": 1
          }
        },
        "ef81b16d906c4706bfec9c52c1ba7a31": {
          "model_module": "@jupyter-widgets/controls",
          "model_module_version": "1.5.0",
          "model_name": "DescriptionStyleModel",
          "state": {
            "_model_module": "@jupyter-widgets/controls",
            "_model_module_version": "1.5.0",
            "_model_name": "DescriptionStyleModel",
            "_view_count": null,
            "_view_module": "@jupyter-widgets/base",
            "_view_module_version": "1.2.0",
            "_view_name": "StyleView",
            "description_width": ""
          }
        },
        "f08133197275429b9a3deda3c90831f2": {
          "model_module": "@jupyter-widgets/controls",
          "model_module_version": "1.5.0",
          "model_name": "FloatProgressModel",
          "state": {
            "_dom_classes": [],
            "_model_module": "@jupyter-widgets/controls",
            "_model_module_version": "1.5.0",
            "_model_name": "FloatProgressModel",
            "_view_count": null,
            "_view_module": "@jupyter-widgets/controls",
            "_view_module_version": "1.5.0",
            "_view_name": "ProgressView",
            "bar_style": "success",
            "description": "",
            "description_tooltip": null,
            "layout": "IPY_MODEL_e4ab7a8b593e4a3c82309fa86db0915e",
            "max": 1900,
            "min": 0,
            "orientation": "horizontal",
            "style": "IPY_MODEL_70e63ec41143478e9584f344e51b03e7",
            "value": 1900
          }
        },
        "f1180cfe2644462bbf38ac4e5f81dee8": {
          "model_module": "@jupyter-widgets/base",
          "model_module_version": "1.2.0",
          "model_name": "LayoutModel",
          "state": {
            "_model_module": "@jupyter-widgets/base",
            "_model_module_version": "1.2.0",
            "_model_name": "LayoutModel",
            "_view_count": null,
            "_view_module": "@jupyter-widgets/base",
            "_view_module_version": "1.2.0",
            "_view_name": "LayoutView",
            "align_content": null,
            "align_items": null,
            "align_self": null,
            "border": null,
            "bottom": null,
            "display": null,
            "flex": null,
            "flex_flow": null,
            "grid_area": null,
            "grid_auto_columns": null,
            "grid_auto_flow": null,
            "grid_auto_rows": null,
            "grid_column": null,
            "grid_gap": null,
            "grid_row": null,
            "grid_template_areas": null,
            "grid_template_columns": null,
            "grid_template_rows": null,
            "height": null,
            "justify_content": null,
            "justify_items": null,
            "left": null,
            "margin": null,
            "max_height": null,
            "max_width": null,
            "min_height": null,
            "min_width": null,
            "object_fit": null,
            "object_position": null,
            "order": null,
            "overflow": null,
            "overflow_x": null,
            "overflow_y": null,
            "padding": null,
            "right": null,
            "top": null,
            "visibility": null,
            "width": null
          }
        },
        "f1494c1d1a3b41efb8f6243fc6fba0c7": {
          "model_module": "@jupyter-widgets/base",
          "model_module_version": "1.2.0",
          "model_name": "LayoutModel",
          "state": {
            "_model_module": "@jupyter-widgets/base",
            "_model_module_version": "1.2.0",
            "_model_name": "LayoutModel",
            "_view_count": null,
            "_view_module": "@jupyter-widgets/base",
            "_view_module_version": "1.2.0",
            "_view_name": "LayoutView",
            "align_content": null,
            "align_items": null,
            "align_self": null,
            "border": null,
            "bottom": null,
            "display": null,
            "flex": null,
            "flex_flow": null,
            "grid_area": null,
            "grid_auto_columns": null,
            "grid_auto_flow": null,
            "grid_auto_rows": null,
            "grid_column": null,
            "grid_gap": null,
            "grid_row": null,
            "grid_template_areas": null,
            "grid_template_columns": null,
            "grid_template_rows": null,
            "height": null,
            "justify_content": null,
            "justify_items": null,
            "left": null,
            "margin": null,
            "max_height": null,
            "max_width": null,
            "min_height": null,
            "min_width": null,
            "object_fit": null,
            "object_position": null,
            "order": null,
            "overflow": null,
            "overflow_x": null,
            "overflow_y": null,
            "padding": null,
            "right": null,
            "top": null,
            "visibility": null,
            "width": null
          }
        },
        "f1c73f2b656e43db89c2b502811560f9": {
          "model_module": "@jupyter-widgets/base",
          "model_module_version": "1.2.0",
          "model_name": "LayoutModel",
          "state": {
            "_model_module": "@jupyter-widgets/base",
            "_model_module_version": "1.2.0",
            "_model_name": "LayoutModel",
            "_view_count": null,
            "_view_module": "@jupyter-widgets/base",
            "_view_module_version": "1.2.0",
            "_view_name": "LayoutView",
            "align_content": null,
            "align_items": null,
            "align_self": null,
            "border": null,
            "bottom": null,
            "display": null,
            "flex": null,
            "flex_flow": null,
            "grid_area": null,
            "grid_auto_columns": null,
            "grid_auto_flow": null,
            "grid_auto_rows": null,
            "grid_column": null,
            "grid_gap": null,
            "grid_row": null,
            "grid_template_areas": null,
            "grid_template_columns": null,
            "grid_template_rows": null,
            "height": null,
            "justify_content": null,
            "justify_items": null,
            "left": null,
            "margin": null,
            "max_height": null,
            "max_width": null,
            "min_height": null,
            "min_width": null,
            "object_fit": null,
            "object_position": null,
            "order": null,
            "overflow": null,
            "overflow_x": null,
            "overflow_y": null,
            "padding": null,
            "right": null,
            "top": null,
            "visibility": null,
            "width": null
          }
        },
        "f248f032597d40219c42a18340e27752": {
          "model_module": "@jupyter-widgets/controls",
          "model_module_version": "1.5.0",
          "model_name": "DescriptionStyleModel",
          "state": {
            "_model_module": "@jupyter-widgets/controls",
            "_model_module_version": "1.5.0",
            "_model_name": "DescriptionStyleModel",
            "_view_count": null,
            "_view_module": "@jupyter-widgets/base",
            "_view_module_version": "1.2.0",
            "_view_name": "StyleView",
            "description_width": ""
          }
        },
        "f3551d5b647f4feeaf7a3691ac9bd349": {
          "model_module": "@jupyter-widgets/controls",
          "model_module_version": "1.5.0",
          "model_name": "HTMLModel",
          "state": {
            "_dom_classes": [],
            "_model_module": "@jupyter-widgets/controls",
            "_model_module_version": "1.5.0",
            "_model_name": "HTMLModel",
            "_view_count": null,
            "_view_module": "@jupyter-widgets/controls",
            "_view_module_version": "1.5.0",
            "_view_name": "HTMLView",
            "description": "",
            "description_tooltip": null,
            "layout": "IPY_MODEL_fe679e6d33b644a59eb67347bec182b6",
            "placeholder": "​",
            "style": "IPY_MODEL_daaf83aa097e4b888ffee112d26a2fb8",
            "value": "model.safetensors: 100%"
          }
        },
        "f3e0b834d9624bfeb12abbe6ffeede51": {
          "model_module": "@jupyter-widgets/base",
          "model_module_version": "1.2.0",
          "model_name": "LayoutModel",
          "state": {
            "_model_module": "@jupyter-widgets/base",
            "_model_module_version": "1.2.0",
            "_model_name": "LayoutModel",
            "_view_count": null,
            "_view_module": "@jupyter-widgets/base",
            "_view_module_version": "1.2.0",
            "_view_name": "LayoutView",
            "align_content": null,
            "align_items": null,
            "align_self": null,
            "border": null,
            "bottom": null,
            "display": null,
            "flex": null,
            "flex_flow": null,
            "grid_area": null,
            "grid_auto_columns": null,
            "grid_auto_flow": null,
            "grid_auto_rows": null,
            "grid_column": null,
            "grid_gap": null,
            "grid_row": null,
            "grid_template_areas": null,
            "grid_template_columns": null,
            "grid_template_rows": null,
            "height": null,
            "justify_content": null,
            "justify_items": null,
            "left": null,
            "margin": null,
            "max_height": null,
            "max_width": null,
            "min_height": null,
            "min_width": null,
            "object_fit": null,
            "object_position": null,
            "order": null,
            "overflow": null,
            "overflow_x": null,
            "overflow_y": null,
            "padding": null,
            "right": null,
            "top": null,
            "visibility": null,
            "width": null
          }
        },
        "f402724078e242bc97e770fa3d6bc7cc": {
          "model_module": "@jupyter-widgets/controls",
          "model_module_version": "1.5.0",
          "model_name": "HBoxModel",
          "state": {
            "_dom_classes": [],
            "_model_module": "@jupyter-widgets/controls",
            "_model_module_version": "1.5.0",
            "_model_name": "HBoxModel",
            "_view_count": null,
            "_view_module": "@jupyter-widgets/controls",
            "_view_module_version": "1.5.0",
            "_view_name": "HBoxView",
            "box_style": "",
            "children": [
              "IPY_MODEL_e7179ecf68944957b47ebd396b71f84c",
              "IPY_MODEL_74688e61df6745c0a11abe5b4551ad85",
              "IPY_MODEL_0a9db19757f1491da3a8e8af13041acb"
            ],
            "layout": "IPY_MODEL_42db5ab47950400cb62fd40d0623dabe"
          }
        },
        "f5c0bec50fd14d7fa805e30ead013630": {
          "model_module": "@jupyter-widgets/base",
          "model_module_version": "1.2.0",
          "model_name": "LayoutModel",
          "state": {
            "_model_module": "@jupyter-widgets/base",
            "_model_module_version": "1.2.0",
            "_model_name": "LayoutModel",
            "_view_count": null,
            "_view_module": "@jupyter-widgets/base",
            "_view_module_version": "1.2.0",
            "_view_name": "LayoutView",
            "align_content": null,
            "align_items": null,
            "align_self": null,
            "border": null,
            "bottom": null,
            "display": null,
            "flex": null,
            "flex_flow": null,
            "grid_area": null,
            "grid_auto_columns": null,
            "grid_auto_flow": null,
            "grid_auto_rows": null,
            "grid_column": null,
            "grid_gap": null,
            "grid_row": null,
            "grid_template_areas": null,
            "grid_template_columns": null,
            "grid_template_rows": null,
            "height": null,
            "justify_content": null,
            "justify_items": null,
            "left": null,
            "margin": null,
            "max_height": null,
            "max_width": null,
            "min_height": null,
            "min_width": null,
            "object_fit": null,
            "object_position": null,
            "order": null,
            "overflow": null,
            "overflow_x": null,
            "overflow_y": null,
            "padding": null,
            "right": null,
            "top": null,
            "visibility": null,
            "width": null
          }
        },
        "f6949cad62c04a0b8a7a14be2e0b15bc": {
          "model_module": "@jupyter-widgets/base",
          "model_module_version": "1.2.0",
          "model_name": "LayoutModel",
          "state": {
            "_model_module": "@jupyter-widgets/base",
            "_model_module_version": "1.2.0",
            "_model_name": "LayoutModel",
            "_view_count": null,
            "_view_module": "@jupyter-widgets/base",
            "_view_module_version": "1.2.0",
            "_view_name": "LayoutView",
            "align_content": null,
            "align_items": null,
            "align_self": null,
            "border": null,
            "bottom": null,
            "display": null,
            "flex": null,
            "flex_flow": null,
            "grid_area": null,
            "grid_auto_columns": null,
            "grid_auto_flow": null,
            "grid_auto_rows": null,
            "grid_column": null,
            "grid_gap": null,
            "grid_row": null,
            "grid_template_areas": null,
            "grid_template_columns": null,
            "grid_template_rows": null,
            "height": null,
            "justify_content": null,
            "justify_items": null,
            "left": null,
            "margin": null,
            "max_height": null,
            "max_width": null,
            "min_height": null,
            "min_width": null,
            "object_fit": null,
            "object_position": null,
            "order": null,
            "overflow": null,
            "overflow_x": null,
            "overflow_y": null,
            "padding": null,
            "right": null,
            "top": null,
            "visibility": null,
            "width": null
          }
        },
        "f745382805ed4370852db37cc9547c80": {
          "model_module": "@jupyter-widgets/base",
          "model_module_version": "1.2.0",
          "model_name": "LayoutModel",
          "state": {
            "_model_module": "@jupyter-widgets/base",
            "_model_module_version": "1.2.0",
            "_model_name": "LayoutModel",
            "_view_count": null,
            "_view_module": "@jupyter-widgets/base",
            "_view_module_version": "1.2.0",
            "_view_name": "LayoutView",
            "align_content": null,
            "align_items": null,
            "align_self": null,
            "border": null,
            "bottom": null,
            "display": null,
            "flex": null,
            "flex_flow": null,
            "grid_area": null,
            "grid_auto_columns": null,
            "grid_auto_flow": null,
            "grid_auto_rows": null,
            "grid_column": null,
            "grid_gap": null,
            "grid_row": null,
            "grid_template_areas": null,
            "grid_template_columns": null,
            "grid_template_rows": null,
            "height": null,
            "justify_content": null,
            "justify_items": null,
            "left": null,
            "margin": null,
            "max_height": null,
            "max_width": null,
            "min_height": null,
            "min_width": null,
            "object_fit": null,
            "object_position": null,
            "order": null,
            "overflow": null,
            "overflow_x": null,
            "overflow_y": null,
            "padding": null,
            "right": null,
            "top": null,
            "visibility": null,
            "width": null
          }
        },
        "f756ea163f5c46c3a8d0a436b591af4a": {
          "model_module": "@jupyter-widgets/base",
          "model_module_version": "1.2.0",
          "model_name": "LayoutModel",
          "state": {
            "_model_module": "@jupyter-widgets/base",
            "_model_module_version": "1.2.0",
            "_model_name": "LayoutModel",
            "_view_count": null,
            "_view_module": "@jupyter-widgets/base",
            "_view_module_version": "1.2.0",
            "_view_name": "LayoutView",
            "align_content": null,
            "align_items": null,
            "align_self": null,
            "border": null,
            "bottom": null,
            "display": null,
            "flex": null,
            "flex_flow": null,
            "grid_area": null,
            "grid_auto_columns": null,
            "grid_auto_flow": null,
            "grid_auto_rows": null,
            "grid_column": null,
            "grid_gap": null,
            "grid_row": null,
            "grid_template_areas": null,
            "grid_template_columns": null,
            "grid_template_rows": null,
            "height": null,
            "justify_content": null,
            "justify_items": null,
            "left": null,
            "margin": null,
            "max_height": null,
            "max_width": null,
            "min_height": null,
            "min_width": null,
            "object_fit": null,
            "object_position": null,
            "order": null,
            "overflow": null,
            "overflow_x": null,
            "overflow_y": null,
            "padding": null,
            "right": null,
            "top": null,
            "visibility": null,
            "width": null
          }
        },
        "f8f7e7f55e5946d3beec998bce946d60": {
          "model_module": "@jupyter-widgets/controls",
          "model_module_version": "1.5.0",
          "model_name": "HTMLModel",
          "state": {
            "_dom_classes": [],
            "_model_module": "@jupyter-widgets/controls",
            "_model_module_version": "1.5.0",
            "_model_name": "HTMLModel",
            "_view_count": null,
            "_view_module": "@jupyter-widgets/controls",
            "_view_module_version": "1.5.0",
            "_view_name": "HTMLView",
            "description": "",
            "description_tooltip": null,
            "layout": "IPY_MODEL_9bfefa71e79c4abf9e429fb259dadd59",
            "placeholder": "​",
            "style": "IPY_MODEL_1ea441c9e8f94aa9967e6e6e946364b4",
            "value": " 49.7k/49.7k [00:00&lt;00:00, 2.59MB/s]"
          }
        },
        "fb89fb69c688420097d40c6bbdb2ab72": {
          "model_module": "@jupyter-widgets/controls",
          "model_module_version": "1.5.0",
          "model_name": "DescriptionStyleModel",
          "state": {
            "_model_module": "@jupyter-widgets/controls",
            "_model_module_version": "1.5.0",
            "_model_name": "DescriptionStyleModel",
            "_view_count": null,
            "_view_module": "@jupyter-widgets/base",
            "_view_module_version": "1.2.0",
            "_view_name": "StyleView",
            "description_width": ""
          }
        },
        "fb90d172157f489e960d8adb0040a2e9": {
          "model_module": "@jupyter-widgets/base",
          "model_module_version": "1.2.0",
          "model_name": "LayoutModel",
          "state": {
            "_model_module": "@jupyter-widgets/base",
            "_model_module_version": "1.2.0",
            "_model_name": "LayoutModel",
            "_view_count": null,
            "_view_module": "@jupyter-widgets/base",
            "_view_module_version": "1.2.0",
            "_view_name": "LayoutView",
            "align_content": null,
            "align_items": null,
            "align_self": null,
            "border": null,
            "bottom": null,
            "display": null,
            "flex": null,
            "flex_flow": null,
            "grid_area": null,
            "grid_auto_columns": null,
            "grid_auto_flow": null,
            "grid_auto_rows": null,
            "grid_column": null,
            "grid_gap": null,
            "grid_row": null,
            "grid_template_areas": null,
            "grid_template_columns": null,
            "grid_template_rows": null,
            "height": null,
            "justify_content": null,
            "justify_items": null,
            "left": null,
            "margin": null,
            "max_height": null,
            "max_width": null,
            "min_height": null,
            "min_width": null,
            "object_fit": null,
            "object_position": null,
            "order": null,
            "overflow": null,
            "overflow_x": null,
            "overflow_y": null,
            "padding": null,
            "right": null,
            "top": null,
            "visibility": null,
            "width": null
          }
        },
        "fd6e8d248e14464987762c4b8a04833f": {
          "model_module": "@jupyter-widgets/base",
          "model_module_version": "1.2.0",
          "model_name": "LayoutModel",
          "state": {
            "_model_module": "@jupyter-widgets/base",
            "_model_module_version": "1.2.0",
            "_model_name": "LayoutModel",
            "_view_count": null,
            "_view_module": "@jupyter-widgets/base",
            "_view_module_version": "1.2.0",
            "_view_name": "LayoutView",
            "align_content": null,
            "align_items": null,
            "align_self": null,
            "border": null,
            "bottom": null,
            "display": null,
            "flex": null,
            "flex_flow": null,
            "grid_area": null,
            "grid_auto_columns": null,
            "grid_auto_flow": null,
            "grid_auto_rows": null,
            "grid_column": null,
            "grid_gap": null,
            "grid_row": null,
            "grid_template_areas": null,
            "grid_template_columns": null,
            "grid_template_rows": null,
            "height": null,
            "justify_content": null,
            "justify_items": null,
            "left": null,
            "margin": null,
            "max_height": null,
            "max_width": null,
            "min_height": null,
            "min_width": null,
            "object_fit": null,
            "object_position": null,
            "order": null,
            "overflow": null,
            "overflow_x": null,
            "overflow_y": null,
            "padding": null,
            "right": null,
            "top": null,
            "visibility": null,
            "width": null
          }
        },
        "fe4e5fd7c74c4e0ebab2b78fb25e931e": {
          "model_module": "@jupyter-widgets/base",
          "model_module_version": "1.2.0",
          "model_name": "LayoutModel",
          "state": {
            "_model_module": "@jupyter-widgets/base",
            "_model_module_version": "1.2.0",
            "_model_name": "LayoutModel",
            "_view_count": null,
            "_view_module": "@jupyter-widgets/base",
            "_view_module_version": "1.2.0",
            "_view_name": "LayoutView",
            "align_content": null,
            "align_items": null,
            "align_self": null,
            "border": null,
            "bottom": null,
            "display": null,
            "flex": null,
            "flex_flow": null,
            "grid_area": null,
            "grid_auto_columns": null,
            "grid_auto_flow": null,
            "grid_auto_rows": null,
            "grid_column": null,
            "grid_gap": null,
            "grid_row": null,
            "grid_template_areas": null,
            "grid_template_columns": null,
            "grid_template_rows": null,
            "height": null,
            "justify_content": null,
            "justify_items": null,
            "left": null,
            "margin": null,
            "max_height": null,
            "max_width": null,
            "min_height": null,
            "min_width": null,
            "object_fit": null,
            "object_position": null,
            "order": null,
            "overflow": null,
            "overflow_x": null,
            "overflow_y": null,
            "padding": null,
            "right": null,
            "top": null,
            "visibility": null,
            "width": null
          }
        },
        "fe5c45d6d8604abe88700111fc504b8c": {
          "model_module": "@jupyter-widgets/base",
          "model_module_version": "1.2.0",
          "model_name": "LayoutModel",
          "state": {
            "_model_module": "@jupyter-widgets/base",
            "_model_module_version": "1.2.0",
            "_model_name": "LayoutModel",
            "_view_count": null,
            "_view_module": "@jupyter-widgets/base",
            "_view_module_version": "1.2.0",
            "_view_name": "LayoutView",
            "align_content": null,
            "align_items": null,
            "align_self": null,
            "border": null,
            "bottom": null,
            "display": null,
            "flex": null,
            "flex_flow": null,
            "grid_area": null,
            "grid_auto_columns": null,
            "grid_auto_flow": null,
            "grid_auto_rows": null,
            "grid_column": null,
            "grid_gap": null,
            "grid_row": null,
            "grid_template_areas": null,
            "grid_template_columns": null,
            "grid_template_rows": null,
            "height": null,
            "justify_content": null,
            "justify_items": null,
            "left": null,
            "margin": null,
            "max_height": null,
            "max_width": null,
            "min_height": null,
            "min_width": null,
            "object_fit": null,
            "object_position": null,
            "order": null,
            "overflow": null,
            "overflow_x": null,
            "overflow_y": null,
            "padding": null,
            "right": null,
            "top": null,
            "visibility": null,
            "width": null
          }
        },
        "fe679e6d33b644a59eb67347bec182b6": {
          "model_module": "@jupyter-widgets/base",
          "model_module_version": "1.2.0",
          "model_name": "LayoutModel",
          "state": {
            "_model_module": "@jupyter-widgets/base",
            "_model_module_version": "1.2.0",
            "_model_name": "LayoutModel",
            "_view_count": null,
            "_view_module": "@jupyter-widgets/base",
            "_view_module_version": "1.2.0",
            "_view_name": "LayoutView",
            "align_content": null,
            "align_items": null,
            "align_self": null,
            "border": null,
            "bottom": null,
            "display": null,
            "flex": null,
            "flex_flow": null,
            "grid_area": null,
            "grid_auto_columns": null,
            "grid_auto_flow": null,
            "grid_auto_rows": null,
            "grid_column": null,
            "grid_gap": null,
            "grid_row": null,
            "grid_template_areas": null,
            "grid_template_columns": null,
            "grid_template_rows": null,
            "height": null,
            "justify_content": null,
            "justify_items": null,
            "left": null,
            "margin": null,
            "max_height": null,
            "max_width": null,
            "min_height": null,
            "min_width": null,
            "object_fit": null,
            "object_position": null,
            "order": null,
            "overflow": null,
            "overflow_x": null,
            "overflow_y": null,
            "padding": null,
            "right": null,
            "top": null,
            "visibility": null,
            "width": null
          }
        },
        "fec45ef84e484724a4d21b95cb5777d7": {
          "model_module": "@jupyter-widgets/base",
          "model_module_version": "1.2.0",
          "model_name": "LayoutModel",
          "state": {
            "_model_module": "@jupyter-widgets/base",
            "_model_module_version": "1.2.0",
            "_model_name": "LayoutModel",
            "_view_count": null,
            "_view_module": "@jupyter-widgets/base",
            "_view_module_version": "1.2.0",
            "_view_name": "LayoutView",
            "align_content": null,
            "align_items": null,
            "align_self": null,
            "border": null,
            "bottom": null,
            "display": null,
            "flex": null,
            "flex_flow": null,
            "grid_area": null,
            "grid_auto_columns": null,
            "grid_auto_flow": null,
            "grid_auto_rows": null,
            "grid_column": null,
            "grid_gap": null,
            "grid_row": null,
            "grid_template_areas": null,
            "grid_template_columns": null,
            "grid_template_rows": null,
            "height": null,
            "justify_content": null,
            "justify_items": null,
            "left": null,
            "margin": null,
            "max_height": null,
            "max_width": null,
            "min_height": null,
            "min_width": null,
            "object_fit": null,
            "object_position": null,
            "order": null,
            "overflow": null,
            "overflow_x": null,
            "overflow_y": null,
            "padding": null,
            "right": null,
            "top": null,
            "visibility": null,
            "width": null
          }
        }
      }
    }
  },
  "nbformat": 4,
  "nbformat_minor": 0
}
